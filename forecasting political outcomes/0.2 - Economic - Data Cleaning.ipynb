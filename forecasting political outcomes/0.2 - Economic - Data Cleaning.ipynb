{
 "cells": [
  {
   "cell_type": "code",
   "execution_count": 1,
   "metadata": {
    "cell_id": "7a765e2641a74809a47001e2163f19c3",
    "deepnote_cell_type": "code",
    "execution_context_id": "596cabb2-e82f-4312-9087-54679cc5a9bb",
    "execution_millis": 1016,
    "execution_start": 1740759555957,
    "source_hash": "a9a812e1"
   },
   "outputs": [],
   "source": [
    "# Import the required libraries\n",
    "import numpy as np\n",
    "import pandas as pd\n",
    "import matplotlib.pyplot as plt\n",
    "import re\n",
    "\n",
    "from sklearn.impute import KNNImputer\n",
    "\n",
    "import warnings\n",
    "warnings.filterwarnings('ignore')"
   ]
  },
  {
   "cell_type": "code",
   "execution_count": null,
   "metadata": {
    "cell_id": "1e4c32c2c44a4bee957316cfcdb5dcbc",
    "deepnote_cell_type": "code",
    "execution_context_id": "596cabb2-e82f-4312-9087-54679cc5a9bb",
    "execution_millis": 1268,
    "execution_start": 1740759557021,
    "source_hash": "bd8988fc"
   },
   "outputs": [],
   "source": [
    "# Read the Excel file\n",
    "AverageWage = pd.read_excel(r'/dataset/economic/Average Income.xlsx', sheet_name=\"Table\")"
   ]
  },
  {
   "cell_type": "code",
   "execution_count": null,
   "metadata": {
    "cell_id": "44627d937cec436b910b012255c31af7",
    "deepnote_cell_type": "code",
    "execution_context_id": "596cabb2-e82f-4312-9087-54679cc5a9bb",
    "execution_millis": 0,
    "execution_start": 1740759558337,
    "source_hash": "95163cd2"
   },
   "outputs": [],
   "source": [
    "# Removing junk rows and columns, transposing and setting correct index and columns\n",
    "AverageWage.drop(AverageWage.columns[1:4], axis=1, inplace=True)\n",
    "AverageWage.drop(AverageWage.index[0], axis=0, inplace=True)\n",
    "AverageWage = AverageWage.set_index(\"Time period\").T"
   ]
  },
  {
   "cell_type": "code",
   "execution_count": null,
   "metadata": {
    "cell_id": "23701f15d20a4f0cb409cf1a1576736d",
    "deepnote_cell_type": "code",
    "execution_context_id": "596cabb2-e82f-4312-9087-54679cc5a9bb",
    "execution_millis": 0,
    "execution_start": 1740759558389,
    "source_hash": "c8c28aab"
   },
   "outputs": [],
   "source": [
    "# Remove duplicate columns\n",
    "mask = ~AverageWage.columns.duplicated(keep='last')\n",
    "AverageWage = AverageWage.loc[:, mask]"
   ]
  },
  {
   "cell_type": "code",
   "execution_count": null,
   "metadata": {
    "cell_id": "a7749bf987944127aa375457db815e53",
    "deepnote_cell_type": "code",
    "execution_context_id": "596cabb2-e82f-4312-9087-54679cc5a9bb",
    "execution_millis": 714,
    "execution_start": 1740759558437,
    "source_hash": "d5d23934"
   },
   "outputs": [],
   "source": [
    "# Loading the USD PPP data\n",
    "AverageWageUSDPPP = pd.read_excel(r'/dataset/economic/Average Income USD PPP.xlsx', sheet_name=\"Table\")"
   ]
  },
  {
   "cell_type": "code",
   "execution_count": null,
   "metadata": {
    "cell_id": "6ff7cca3c0e943098f9b35c7b42998f3",
    "deepnote_cell_type": "code",
    "execution_context_id": "596cabb2-e82f-4312-9087-54679cc5a9bb",
    "execution_millis": 24,
    "execution_start": 1740759559209,
    "source_hash": "26931015"
   },
   "outputs": [],
   "source": [
    "#Removing junk rows and columns, transposing and setting correct index and columns\n",
    "\n",
    "AverageWageUSDPPP.drop(AverageWageUSDPPP.columns[1:4], axis=1, inplace=True)\n",
    "AverageWageUSDPPP.drop(AverageWageUSDPPP.index[0], axis=0, inplace=True)\n",
    "AverageWageUSDPPP = AverageWageUSDPPP.set_index(\"Time period\").T\n",
    "mask = ~AverageWageUSDPPP.columns.duplicated(keep='last')\n",
    "AverageWageUSDPPP = AverageWageUSDPPP.loc[:, mask]\n",
    "AverageWageUSDPPP_perc_change = AverageWageUSDPPP.pct_change() * 100\n",
    "AverageWageUSDPPP_perc_change.head()"
   ]
  },
  {
   "cell_type": "code",
   "execution_count": null,
   "metadata": {
    "cell_id": "fbadb265c03545719383083a96f33bce",
    "deepnote_cell_type": "code",
    "execution_context_id": "596cabb2-e82f-4312-9087-54679cc5a9bb",
    "execution_millis": 403,
    "execution_start": 1740759559289,
    "source_hash": "15ef16c9"
   },
   "outputs": [],
   "source": [
    "# Set the style for better visualization\n",
    "plt.style.use('seaborn')\n",
    "\n",
    "# Create the figure and axis with a larger size\n",
    "plt.figure(figsize=(12, 6))\n",
    "\n",
    "# Create the line plot using different line styles and colors for better distinction\n",
    "plt.plot(AverageWageUSDPPP.index, AverageWageUSDPPP['Türkiye'], linewidth=2, label='Turkiye', marker='o', markersize=4)\n",
    "plt.plot(AverageWageUSDPPP.index, AverageWageUSDPPP['United Kingdom'], linewidth=2, label='UK', marker='s', markersize=4)\n",
    "plt.plot(AverageWageUSDPPP.index, AverageWageUSDPPP['Canada'], linewidth=2, label='Canada', marker='^', markersize=4)\n",
    "plt.plot(AverageWageUSDPPP.index, AverageWageUSDPPP['Korea'], linewidth=2, label='South Korea', marker='d', markersize=4)\n",
    "\n",
    "# Customize the plot\n",
    "plt.title('Average Wage', fontsize=14, pad=20)\n",
    "plt.xlabel('Year', fontsize=12)\n",
    "plt.ylabel('Average Wage', fontsize=12)\n",
    "plt.grid(True, linestyle='--', alpha=0.7)\n",
    "plt.legend(fontsize=10, bbox_to_anchor=(1.05, 1), loc='upper left')\n",
    "\n",
    "# Rotate x-axis labels for better readability\n",
    "plt.xticks(rotation=45)\n",
    "\n",
    "# Adjust layout to prevent label cutoff\n",
    "plt.tight_layout()\n",
    "\n",
    "# Show the plot\n",
    "plt.show()"
   ]
  },
  {
   "cell_type": "code",
   "execution_count": null,
   "metadata": {
    "cell_id": "f85f87a8eba041e6a8b92e3a8c9e37c2",
    "deepnote_cell_type": "code",
    "execution_context_id": "596cabb2-e82f-4312-9087-54679cc5a9bb",
    "execution_millis": 2141,
    "execution_start": 1740759559745,
    "source_hash": "53ee5db0"
   },
   "outputs": [],
   "source": [
    "#The Corp income tax similar to personal income tax is more usable from the OECD website as an Excel sheet. This time only 1 is needed\n",
    "\n",
    "CorpIncomeTax = pd.read_excel(r'/dataset/economic/Corporate income tax.xlsx', sheet_name=\"Table\")"
   ]
  },
  {
   "cell_type": "code",
   "execution_count": null,
   "metadata": {
    "cell_id": "ba50484b5a8c4498a873ac68015f3075",
    "deepnote_cell_type": "code",
    "execution_context_id": "596cabb2-e82f-4312-9087-54679cc5a9bb",
    "execution_millis": 0,
    "execution_start": 1740759561941,
    "source_hash": "9336b657"
   },
   "outputs": [],
   "source": [
    "#Removing junk rows and columns, transposing and setting correct index and columns\n",
    "\n",
    "CorpIncomeTax.drop(CorpIncomeTax.columns[0], axis=1, inplace=True)\n",
    "CorpIncomeTax.drop(CorpIncomeTax.index[0], axis=0, inplace=True)"
   ]
  },
  {
   "cell_type": "code",
   "execution_count": null,
   "metadata": {
    "cell_id": "1daf71ff5e144712aea064a7a23ea9f8",
    "deepnote_cell_type": "code",
    "execution_context_id": "596cabb2-e82f-4312-9087-54679cc5a9bb",
    "execution_millis": 0,
    "execution_start": 1740759561993,
    "source_hash": "ead8255d"
   },
   "outputs": [],
   "source": [
    "CorpIncomeTax.set_index(CorpIncomeTax.columns[0], inplace=True)"
   ]
  },
  {
   "cell_type": "code",
   "execution_count": null,
   "metadata": {
    "cell_id": "064864661ade497d8a0d4c3fcdbb79b0",
    "deepnote_cell_type": "code",
    "execution_context_id": "596cabb2-e82f-4312-9087-54679cc5a9bb",
    "execution_millis": 0,
    "execution_start": 1740759562041,
    "source_hash": "52921276"
   },
   "outputs": [],
   "source": [
    "CorpIncomeTax.columns = CorpIncomeTax.iloc[0]  # Set column names to first row\n",
    "CorpIncomeTax.drop(CorpIncomeTax.index[0], inplace=True)  # Remove the first row"
   ]
  },
  {
   "cell_type": "code",
   "execution_count": null,
   "metadata": {
    "cell_id": "903736066e4942b488885270ea6cd5e8",
    "deepnote_cell_type": "code",
    "execution_context_id": "596cabb2-e82f-4312-9087-54679cc5a9bb",
    "execution_millis": 0,
    "execution_start": 1740759562097,
    "source_hash": "7c3193b8"
   },
   "outputs": [],
   "source": [
    "#Dropping more junk rows\n",
    "\n",
    "CorpIncomeTax.drop(CorpIncomeTax.columns[0], axis=1, inplace=True)\n",
    "CorpIncomeTax.drop(CorpIncomeTax.index[0], axis=0, inplace=True)"
   ]
  },
  {
   "cell_type": "code",
   "execution_count": null,
   "metadata": {
    "cell_id": "6d31ccae67b74d28b65cb6923cc24d28",
    "deepnote_cell_type": "code",
    "execution_context_id": "596cabb2-e82f-4312-9087-54679cc5a9bb",
    "execution_millis": 1,
    "execution_start": 1740759562148,
    "source_hash": "de05645d"
   },
   "outputs": [],
   "source": [
    "CorpIncomeTax = CorpIncomeTax.transpose()"
   ]
  },
  {
   "cell_type": "code",
   "execution_count": null,
   "metadata": {
    "cell_id": "e89b5bbd365e469c8f0e51faf53ffe28",
    "deepnote_cell_type": "code",
    "execution_context_id": "596cabb2-e82f-4312-9087-54679cc5a9bb",
    "execution_millis": 0,
    "execution_start": 1740759562201,
    "source_hash": "e80c166d"
   },
   "outputs": [],
   "source": [
    "#Standardising the Year (index) names to match with other dataframes as they translated weirdly\n",
    "CorpIncomeTax.index = CorpIncomeTax.index.astype(int)\n",
    "\n",
    "#For Corporate Income Tax there is no data until 1990 so this is removed\n",
    "CorpIncomeTax.drop(CorpIncomeTax.index[0:15], axis=0, inplace=True)"
   ]
  },
  {
   "cell_type": "code",
   "execution_count": null,
   "metadata": {
    "cell_id": "375b54ad479b48169f3400b13183207b",
    "deepnote_cell_type": "code",
    "execution_context_id": "596cabb2-e82f-4312-9087-54679cc5a9bb",
    "execution_millis": 0,
    "execution_start": 1740759562249,
    "source_hash": "391b91c6"
   },
   "outputs": [],
   "source": [
    "#Narrowing dataset down\n",
    "CorpIncomeTax = CorpIncomeTax.iloc[:, 1:39]"
   ]
  },
  {
   "cell_type": "code",
   "execution_count": null,
   "metadata": {
    "cell_id": "792cf2a21a0e49c898c2fe59d243fa1d",
    "deepnote_cell_type": "code",
    "deepnote_table_loading": false,
    "deepnote_table_state": {
     "cellFormattingRules": [],
     "columnDisplayNames": [],
     "columnOrder": [
      "Corporate income tax rate: Central government > Corporate income tax rate",
      "Australia",
      "Austria",
      "Belgium",
      "Canada",
      "Chile",
      "Colombia",
      "Costa Rica",
      "Czechia",
      "Denmark",
      "Estonia",
      "Finland",
      "France",
      "Germany",
      "Greece",
      "Hungary",
      "Iceland",
      "Ireland",
      "Israel",
      "Italy",
      "Japan",
      "Korea",
      "Latvia",
      "Lithuania",
      "Luxembourg",
      "Mexico",
      "Netherlands",
      "New Zealand",
      "Norway",
      "Poland",
      "Portugal",
      "Slovak Republic",
      "Slovenia",
      "Spain",
      "Sweden",
      "Switzerland",
      "Türkiye",
      "United Kingdom",
      "United States",
      "Corporate income tax rate: Corporate income tax rate exclusive of surtax",
      "Belgium.1",
      "Canada.1",
      "Colombia.1",
      "France.1",
      "Germany.1",
      "Hungary.1",
      "Japan.1",
      "Lithuania.1",
      "Luxembourg.1",
      "Portugal.1",
      "Sweden.1",
      "Türkiye.1",
      "Corporate income tax rate: Corporate income tax rate less deductions for sub-national taxes",
      "Australia.1",
      "Austria.1",
      "Belgium.2",
      "Canada.2",
      "Chile.1",
      "Costa Rica.1",
      "Czechia.1",
      "Denmark.1",
      "Estonia.1",
      "Finland.1",
      "France.2",
      "Germany.2",
      "Greece.1",
      "Hungary.2",
      "Iceland.1",
      "Ireland.1",
      "Israel.1",
      "Italy.1",
      "Japan.2",
      "Korea.1",
      "Latvia.1",
      "Lithuania.2",
      "Luxembourg.2",
      "Mexico.1",
      "Netherlands.1",
      "New Zealand.1",
      "Norway.1",
      "Poland.1",
      "Portugal.2",
      "Slovak Republic.1",
      "Slovenia.1",
      "Spain.1",
      "Sweden.2",
      "Switzerland.1",
      "Türkiye.2",
      "United Kingdom.1",
      "United States.1",
      "Corporate income tax rate: Sub-central government corporate income tax rate",
      "Canada.3",
      "Germany.3",
      "Israel.2",
      "Italy.2",
      "Japan.3",
      "Korea.2",
      "Luxembourg.3",
      "Norway.2",
      "Portugal.3",
      "Sweden.3",
      "Switzerland.2",
      "United States.2",
      "Corporate income tax rate: Combined corporate income tax rate",
      "Australia.2",
      "Austria.2",
      "Belgium.3",
      "Canada.4",
      "Chile.2",
      "Colombia.2",
      "Costa Rica.2",
      "Czechia.2",
      "Denmark.2",
      "Estonia.2",
      "Finland.2",
      "France.3",
      "Germany.4",
      "Greece.2",
      "Hungary.3",
      "Iceland.2",
      "Ireland.2",
      "Israel.3",
      "Italy.3",
      "Japan.4",
      "Korea.3",
      "Latvia.2",
      "Lithuania.3",
      "Luxembourg.4",
      "Mexico.2",
      "Netherlands.2",
      "New Zealand.2",
      "Norway.3",
      "Poland.2",
      "Portugal.4",
      "Slovak Republic.2",
      "Slovenia.2",
      "Spain.2",
      "Sweden.4",
      "Switzerland.3",
      "Türkiye.3",
      "United Kingdom.2",
      "United States.3"
     ],
     "conditionalFilters": [],
     "filters": [],
     "hiddenColumnIds": [],
     "pageIndex": 0,
     "pageSize": 100,
     "sortBy": [],
     "wrappedTextColumnIds": []
    },
    "execution_context_id": "596cabb2-e82f-4312-9087-54679cc5a9bb",
    "execution_millis": 228,
    "execution_start": 1740759562317,
    "source_hash": "e6ec1bbf"
   },
   "outputs": [],
   "source": [
    "# Set the style for better visualization\n",
    "plt.style.use('seaborn')\n",
    "\n",
    "# Create the figure and axis with a larger size\n",
    "plt.figure(figsize=(12, 6))\n",
    "\n",
    "# Create the line plot using different line styles and colors for better distinction\n",
    "plt.plot(CorpIncomeTax.index, CorpIncomeTax['Türkiye'], linewidth=2, label='Turkiye', marker='o', markersize=4)\n",
    "plt.plot(CorpIncomeTax.index, CorpIncomeTax['United Kingdom'], linewidth=2, label='UK', marker='s', markersize=4)\n",
    "plt.plot(CorpIncomeTax.index, CorpIncomeTax['Canada'], linewidth=2, label='Canada', marker='^', markersize=4)\n",
    "plt.plot(CorpIncomeTax.index, CorpIncomeTax['Korea'], linewidth=2, label='South Korea', marker='d', markersize=4)\n",
    "\n",
    "# Customize the plot\n",
    "plt.title('Corporate Income Tax Rates Comparison (2000-2023)', fontsize=14, pad=20)\n",
    "plt.xlabel('Year', fontsize=12)\n",
    "plt.ylabel('Corporate Income Tax Rate (%)', fontsize=12)\n",
    "plt.grid(True, linestyle='--', alpha=0.7)\n",
    "plt.legend(fontsize=10, bbox_to_anchor=(1.05, 1), loc='upper left')\n",
    "\n",
    "# Rotate x-axis labels for better readability\n",
    "plt.xticks(rotation=45)\n",
    "\n",
    "# Adjust layout to prevent label cutoff\n",
    "plt.tight_layout()\n",
    "\n",
    "# Show the plot\n",
    "plt.show()"
   ]
  },
  {
   "cell_type": "code",
   "execution_count": null,
   "metadata": {
    "cell_id": "c00ad22160474df48c7384a2fefd9555",
    "deepnote_cell_type": "code",
    "execution_context_id": "596cabb2-e82f-4312-9087-54679cc5a9bb",
    "execution_millis": 17,
    "execution_start": 1740759562606,
    "source_hash": "1088e42f"
   },
   "outputs": [],
   "source": [
    "# Creating a % change dataframe\n",
    "CorpIncomeTax_perc_change = CorpIncomeTax.pct_change() * 100\n",
    "CorpIncomeTax_perc_change.head()"
   ]
  },
  {
   "cell_type": "code",
   "execution_count": null,
   "metadata": {
    "cell_id": "f59fb2478dd04904bdeb8bdb42c7ea67",
    "deepnote_cell_type": "code",
    "execution_context_id": "596cabb2-e82f-4312-9087-54679cc5a9bb",
    "execution_millis": 0,
    "execution_start": 1740759562677,
    "source_hash": "3184612c"
   },
   "outputs": [],
   "source": [
    "for i in range(1990, 2000):\n",
    "    CorpIncomeTax.loc[i] = [np.nan] * len(CorpIncomeTax.columns)"
   ]
  },
  {
   "cell_type": "code",
   "execution_count": null,
   "metadata": {
    "cell_id": "538b5c51eea14ea7aed2cd21ab245f44",
    "deepnote_cell_type": "code",
    "execution_context_id": "596cabb2-e82f-4312-9087-54679cc5a9bb",
    "execution_millis": 0,
    "execution_start": 1740759562737,
    "source_hash": "37616622"
   },
   "outputs": [],
   "source": [
    "for i in range(1990, 2000):\n",
    "    CorpIncomeTax_perc_change.loc[i] = [np.nan] * len(CorpIncomeTax_perc_change.columns)"
   ]
  },
  {
   "cell_type": "code",
   "execution_count": null,
   "metadata": {
    "cell_id": "5db2bed9e94f47e68ba1fdd390c9e1cb",
    "deepnote_cell_type": "code",
    "execution_context_id": "596cabb2-e82f-4312-9087-54679cc5a9bb",
    "execution_millis": 1171,
    "execution_start": 1740759562785,
    "source_hash": "7c470332"
   },
   "outputs": [],
   "source": [
    "CurrencyPerDollar = pd.read_excel(r\"/dataset/economic/LCperUSD.xlsx\", sheet_name=\"Table\")"
   ]
  },
  {
   "cell_type": "code",
   "execution_count": null,
   "metadata": {
    "cell_id": "6d6f9adf88f34e73bd6468373d73a7ee",
    "deepnote_cell_type": "code",
    "execution_context_id": "596cabb2-e82f-4312-9087-54679cc5a9bb",
    "execution_millis": 0,
    "execution_start": 1740759564005,
    "source_hash": "ba9ce4ab"
   },
   "outputs": [],
   "source": [
    "#Removing junk rows and columns, transposing and setting correct index and columns\n",
    "\n",
    "CurrencyPerDollar.set_index(CurrencyPerDollar.columns[0], inplace=True)\n"
   ]
  },
  {
   "cell_type": "code",
   "execution_count": null,
   "metadata": {
    "cell_id": "3c29aeee90e14c91812488cf15ee5fd1",
    "deepnote_cell_type": "code",
    "execution_context_id": "596cabb2-e82f-4312-9087-54679cc5a9bb",
    "execution_millis": 0,
    "execution_start": 1740759564057,
    "source_hash": "e493682a"
   },
   "outputs": [],
   "source": [
    "CurrencyPerDollar = CurrencyPerDollar.transpose()\n",
    "CurrencyPerDollar.drop(CurrencyPerDollar.columns[0], axis=1, inplace=True)"
   ]
  },
  {
   "cell_type": "code",
   "execution_count": null,
   "metadata": {
    "cell_id": "366af603d3344738914694255de59e04",
    "deepnote_cell_type": "code",
    "execution_context_id": "596cabb2-e82f-4312-9087-54679cc5a9bb",
    "execution_millis": 0,
    "execution_start": 1740759564109,
    "source_hash": "32bc946b"
   },
   "outputs": [],
   "source": [
    "#Standardising the Year (index) and Country (Columns) names to match with other dataframes as they translated weirdly\n",
    "\n",
    "# Clean column names\n",
    "def remove_parentheses(text):\n",
    "    return text.split(')')[-1].strip()\n",
    "\n",
    "# Rename columns\n",
    "CurrencyPerDollar.columns = [remove_parentheses(col) for col in CurrencyPerDollar.columns]\n",
    "\n",
    "# Clean index \n",
    "CurrencyPerDollar.index = CurrencyPerDollar.index.str.split().str[-1]"
   ]
  },
  {
   "cell_type": "code",
   "execution_count": null,
   "metadata": {
    "cell_id": "58cbdeb4620a4f68a83b26714733c629",
    "deepnote_cell_type": "code",
    "execution_context_id": "596cabb2-e82f-4312-9087-54679cc5a9bb",
    "execution_millis": 508,
    "execution_start": 1740759564165,
    "source_hash": "376daa9e"
   },
   "outputs": [],
   "source": [
    "# Set the style for better visualization\n",
    "plt.style.use('seaborn')\n",
    "\n",
    "# Create the figure and axis with a larger size\n",
    "plt.figure(figsize=(12, 6))\n",
    "\n",
    "# Create the line plot using different line styles and colors for better distinction\n",
    "plt.plot(CurrencyPerDollar.index, CurrencyPerDollar['Türkiye'], linewidth=2, label='Türkiye', marker='o', markersize=4)\n",
    "plt.plot(CurrencyPerDollar.index, CurrencyPerDollar['United Kingdom'], linewidth=2, label='UK', marker='s', markersize=4)\n",
    "plt.plot(CurrencyPerDollar.index, CurrencyPerDollar['Canada'], linewidth=2, label='Canada', marker='^', markersize=4)\n",
    "plt.plot(CurrencyPerDollar.index, CurrencyPerDollar['Korea'], linewidth=2, label='South Korea', marker='d', markersize=4)\n",
    "\n",
    "# Customize the plot\n",
    "plt.title('Exhange Rates Comparison (1960-2023)', fontsize=14, pad=20)\n",
    "plt.xlabel('Year', fontsize=12)\n",
    "plt.ylabel('Exchange Rate', fontsize=12)\n",
    "plt.grid(True, linestyle='--', alpha=0.7)\n",
    "plt.legend(fontsize=10, bbox_to_anchor=(1.05, 1), loc='upper left')\n",
    "\n",
    "# Rotate x-axis labels for better readability\n",
    "plt.xticks(rotation=45)\n",
    "\n",
    "# Adjust layout to prevent label cutoff\n",
    "plt.tight_layout()\n",
    "\n",
    "# Show the plot\n",
    "plt.show()"
   ]
  },
  {
   "cell_type": "code",
   "execution_count": null,
   "metadata": {
    "cell_id": "b08523bf1da9479d9e36001c86d82ad1",
    "deepnote_cell_type": "code",
    "execution_context_id": "596cabb2-e82f-4312-9087-54679cc5a9bb",
    "execution_millis": 12,
    "execution_start": 1740759564741,
    "source_hash": "df9bfea4"
   },
   "outputs": [],
   "source": [
    "CurrencyPerDollar.head(10)"
   ]
  },
  {
   "cell_type": "code",
   "execution_count": null,
   "metadata": {
    "cell_id": "8e57f04bc5084d008111a1ccd888b7a9",
    "deepnote_cell_type": "code",
    "execution_context_id": "596cabb2-e82f-4312-9087-54679cc5a9bb",
    "execution_millis": 55,
    "execution_start": 1740759564915,
    "source_hash": "8b987a7d"
   },
   "outputs": [],
   "source": [
    "# Creating a % change dataframe\n",
    "CurrencyPerDollar_perc_change = CurrencyPerDollar.pct_change() * 100\n",
    "CurrencyPerDollar_perc_change.head()"
   ]
  },
  {
   "cell_type": "code",
   "execution_count": null,
   "metadata": {
    "cell_id": "bdaf61639f7f4e3ea21c88df1e98a810",
    "deepnote_cell_type": "code",
    "execution_context_id": "596cabb2-e82f-4312-9087-54679cc5a9bb",
    "execution_millis": 7376,
    "execution_start": 1740759565013,
    "source_hash": "2b65acb1"
   },
   "outputs": [],
   "source": [
    "#Because the OECD data website sucks, I could only download a certain amount of data at once (6000 cells), so in order to get all the countries they \n",
    "#have data on I needed to download 3 different excel sheets (used Excel sheets as they were a lot more usable than the csv formats).\n",
    "\n",
    "IncomeTax1 = pd.read_excel(r'/dataset/economic/Income tax 1.xlsx', sheet_name=\"Table\")\n",
    "IncomeTax2 = pd.read_excel(r'/dataset/economic/Income tax 2.xlsx', sheet_name=\"Table\")\n",
    "IncomeTax3 = pd.read_excel(r'/dataset/economic/Income tax 3.xlsx', sheet_name=\"Table\")\n",
    "\n",
    "#These are all the formated the same so I can repeat operations on them in a set\n",
    "\n",
    "IncomeTax = [IncomeTax1, IncomeTax2, IncomeTax3]"
   ]
  },
  {
   "cell_type": "code",
   "execution_count": null,
   "metadata": {
    "cell_id": "54090e2df5414d77985426f4a8606925",
    "deepnote_cell_type": "code",
    "execution_context_id": "596cabb2-e82f-4312-9087-54679cc5a9bb",
    "execution_millis": 1,
    "execution_start": 1740759572440,
    "source_hash": "f1704407"
   },
   "outputs": [],
   "source": [
    "#Removing junk rows and columns, transposing and setting correct index and columns\n",
    "\n",
    "for df in IncomeTax:\n",
    "    df.drop(df.columns[0], axis=1, inplace=True)\n",
    "    df.drop(df.index[0], axis=0, inplace=True)"
   ]
  },
  {
   "cell_type": "code",
   "execution_count": null,
   "metadata": {
    "cell_id": "e2635f63f827446cba2bc7e4408862aa",
    "deepnote_cell_type": "code",
    "execution_context_id": "596cabb2-e82f-4312-9087-54679cc5a9bb",
    "execution_millis": 0,
    "execution_start": 1740759572489,
    "source_hash": "3d2dc8dc"
   },
   "outputs": [],
   "source": [
    "for df in IncomeTax:\n",
    "        df.set_index(df.columns[0], inplace=True)"
   ]
  },
  {
   "cell_type": "code",
   "execution_count": null,
   "metadata": {
    "cell_id": "43fc0d17dbf243a89f9cb636cb4f8f88",
    "deepnote_cell_type": "code",
    "execution_context_id": "596cabb2-e82f-4312-9087-54679cc5a9bb",
    "execution_millis": 1,
    "execution_start": 1740759572536,
    "source_hash": "6a3fe873"
   },
   "outputs": [],
   "source": [
    "for df in IncomeTax:\n",
    "    df.columns = df.iloc[0]  # Set column names to first row\n",
    "    df.drop(df.index[0], inplace=True)  # Remove the first row"
   ]
  },
  {
   "cell_type": "code",
   "execution_count": null,
   "metadata": {
    "cell_id": "3a5317a5284e4cc68a438e5a964fa3c2",
    "deepnote_cell_type": "code",
    "execution_context_id": "596cabb2-e82f-4312-9087-54679cc5a9bb",
    "execution_millis": 0,
    "execution_start": 1740759572585,
    "source_hash": "af61f08a"
   },
   "outputs": [],
   "source": [
    "#Dropping more junk rows\n",
    "for df in IncomeTax:\n",
    "    df.drop(df.columns[0], axis=1, inplace=True)\n",
    "    df.drop(df.index[0], axis=0, inplace=True)"
   ]
  },
  {
   "cell_type": "code",
   "execution_count": null,
   "metadata": {
    "cell_id": "e606f48f46d841b9bb830f44677050ed",
    "deepnote_cell_type": "code",
    "execution_context_id": "596cabb2-e82f-4312-9087-54679cc5a9bb",
    "execution_millis": 0,
    "execution_start": 1740759572637,
    "source_hash": "689d7e32"
   },
   "outputs": [],
   "source": [
    "#I had weirdness with transposing here... ignore this\n",
    "IncomeTax1 = IncomeTax1.transpose()\n",
    "IncomeTax2 = IncomeTax2.transpose()\n",
    "IncomeTax3 = IncomeTax3.transpose()\n",
    "\n",
    "IncomeTax = [IncomeTax1, IncomeTax2, IncomeTax3]"
   ]
  },
  {
   "cell_type": "code",
   "execution_count": null,
   "metadata": {
    "cell_id": "97e5ec97b0314ae9b264b69a03c3ab25",
    "deepnote_cell_type": "code",
    "execution_context_id": "596cabb2-e82f-4312-9087-54679cc5a9bb",
    "execution_millis": 0,
    "execution_start": 1740759572689,
    "source_hash": "764f0a41"
   },
   "outputs": [],
   "source": [
    "  #Standardising the Year (index) names to match with other dataframes as they translated weirdly\n",
    "for df in IncomeTax:\n",
    "    df.index = df.index.astype(int)"
   ]
  },
  {
   "cell_type": "code",
   "execution_count": null,
   "metadata": {
    "cell_id": "2b3105fa8073418e94300598c922845b",
    "deepnote_cell_type": "code",
    "execution_context_id": "596cabb2-e82f-4312-9087-54679cc5a9bb",
    "execution_millis": 0,
    "execution_start": 1740759572745,
    "source_hash": "828c2451"
   },
   "outputs": [],
   "source": [
    "#Now I have my dataset and need to organise it until a usable way.\n",
    "#I believe we could split it up into different datasets.\n",
    "#This can be done with the different datasets and then the final products can be concatenated together\n",
    "\n",
    "PersonalAllowance1 = IncomeTax1.iloc[:, 1:11]\n",
    "\n",
    "PersonalAllowance2 = IncomeTax2.iloc[:, 1:10]\n",
    "\n",
    "PersonalAllowance3 = IncomeTax3.iloc[:, 1:3]\n",
    "\n",
    "PersonalAllowance = pd.concat([PersonalAllowance1, PersonalAllowance2, PersonalAllowance3], axis=1)\n",
    "\n",
    "PersonalAllowance.sort_index(axis=1,inplace=True)"
   ]
  },
  {
   "cell_type": "code",
   "execution_count": null,
   "metadata": {
    "cell_id": "8aa6e4cac734485cb4d630eaa0c6b4fc",
    "deepnote_cell_type": "code",
    "execution_context_id": "596cabb2-e82f-4312-9087-54679cc5a9bb",
    "execution_millis": 0,
    "execution_start": 1740759572796,
    "source_hash": "a17c6e84"
   },
   "outputs": [],
   "source": [
    "#Now the Process can be repeated to get a series of dataframes\n",
    "\n",
    "MarginalRate1_1 = IncomeTax1.iloc[:, 30:47]\n",
    "\n",
    "MarginalRate1_2 = IncomeTax2.iloc[:, 26:43]\n",
    "\n",
    "MarginalRate1_3 = IncomeTax3.iloc[:, 7:11]\n",
    "\n",
    "Marginalrate = pd.concat([MarginalRate1_1, MarginalRate1_2, MarginalRate1_3], axis=1)\n",
    "\n",
    "Marginalrate.sort_index(axis=1, inplace=True)"
   ]
  },
  {
   "cell_type": "code",
   "execution_count": null,
   "metadata": {
    "cell_id": "2b4dadb47d4a4c17b2dc719e89b70ccc",
    "deepnote_cell_type": "code",
    "execution_context_id": "596cabb2-e82f-4312-9087-54679cc5a9bb",
    "execution_millis": 0,
    "execution_start": 1740759572845,
    "source_hash": "d457ea4b"
   },
   "outputs": [],
   "source": [
    "Threshold1_1 = IncomeTax1.iloc[:, 48:65]\n",
    "\n",
    "Threshold1_2 = IncomeTax2.iloc[:, 44:60]\n",
    "\n",
    "Threshold1_3 = IncomeTax3.iloc[:, 12:16]\n",
    "\n",
    "Threshold1 = pd.concat([Threshold1_1, Threshold1_2, Threshold1_3], axis=1)\n",
    "\n",
    "Threshold1.sort_index(axis=1, inplace=True)"
   ]
  },
  {
   "cell_type": "code",
   "execution_count": null,
   "metadata": {
    "cell_id": "7c78670a745646379d99b9ba02465c9e",
    "deepnote_cell_type": "code",
    "execution_context_id": "596cabb2-e82f-4312-9087-54679cc5a9bb",
    "execution_millis": 0,
    "execution_start": 1740759572897,
    "source_hash": "db5d6fc5"
   },
   "outputs": [],
   "source": [
    "MarginalRate2_1 = IncomeTax1.iloc[:, 66:82]\n",
    "\n",
    "MarginalRate2_2 = IncomeTax2.iloc[:, 61:77]\n",
    "\n",
    "MarginalRate2_3 = IncomeTax3.iloc[:, 17:21]\n",
    "\n",
    "Marginalrate2 = pd.concat([MarginalRate2_1, MarginalRate2_2, MarginalRate2_3], axis=1)\n",
    "\n",
    "Marginalrate2.sort_index(axis=1, inplace=True)"
   ]
  },
  {
   "cell_type": "code",
   "execution_count": null,
   "metadata": {
    "cell_id": "2fc6b046c2e5481bb0f56c5b06a9f049",
    "deepnote_cell_type": "code",
    "execution_context_id": "596cabb2-e82f-4312-9087-54679cc5a9bb",
    "execution_millis": 0,
    "execution_start": 1740759572949,
    "source_hash": "67a7776b"
   },
   "outputs": [],
   "source": [
    "\n",
    "Threshold2_1 = IncomeTax1.iloc[:, 83:100]\n",
    "\n",
    "Threshold2_2 = IncomeTax2.iloc[:, 78:92]\n",
    "\n",
    "Threshold2_3 = IncomeTax3.iloc[:, 22:26]\n",
    "\n",
    "Threshold2 = pd.concat([Threshold2_1, Threshold2_2, Threshold2_3], axis=1)\n",
    "\n",
    "Threshold2.sort_index(axis=1, inplace=True)"
   ]
  },
  {
   "cell_type": "code",
   "execution_count": null,
   "metadata": {
    "cell_id": "b5d8a370ea3d47789087b8623513da16",
    "deepnote_cell_type": "code",
    "execution_context_id": "596cabb2-e82f-4312-9087-54679cc5a9bb",
    "execution_millis": 0,
    "execution_start": 1740759573001,
    "source_hash": "bdc49df4"
   },
   "outputs": [],
   "source": [
    "MarginalRate3_1 = IncomeTax1.iloc[:, 101:117]\n",
    "\n",
    "MarginalRate3_2 = IncomeTax2.iloc[:, 93:107]\n",
    "\n",
    "MarginalRate3_3 = IncomeTax3.iloc[:, 27:31]\n",
    "\n",
    "Marginalrate3 = pd.concat([MarginalRate3_1, MarginalRate3_2, MarginalRate3_3], axis=1)\n",
    "\n",
    "Marginalrate3.sort_index(axis=1, inplace=True)"
   ]
  },
  {
   "cell_type": "code",
   "execution_count": null,
   "metadata": {
    "cell_id": "cb68ee5064bb4af495594cd1c6e3a807",
    "deepnote_cell_type": "code",
    "execution_context_id": "596cabb2-e82f-4312-9087-54679cc5a9bb",
    "execution_millis": 0,
    "execution_start": 1740759573049,
    "source_hash": "9060b7be"
   },
   "outputs": [],
   "source": [
    "\n",
    "Threshold3_1 = IncomeTax1.iloc[:, 118:133]\n",
    "\n",
    "Threshold3_2 = IncomeTax2.iloc[:, 108:118]\n",
    "\n",
    "Threshold3_3 = IncomeTax3.iloc[:, 32:35]\n",
    "\n",
    "Threshold3 = pd.concat([Threshold3_1, Threshold3_2, Threshold3_3], axis=1)\n",
    "\n",
    "Threshold3.sort_index(axis=1, inplace=True)"
   ]
  },
  {
   "cell_type": "code",
   "execution_count": null,
   "metadata": {
    "cell_id": "5ffa8a6221364bc5a8a81c077a0a835d",
    "deepnote_cell_type": "code",
    "execution_context_id": "596cabb2-e82f-4312-9087-54679cc5a9bb",
    "execution_millis": 0,
    "execution_start": 1740759573097,
    "source_hash": "5e4c81b3"
   },
   "outputs": [],
   "source": [
    "MarginalRate4_1 = IncomeTax1.iloc[:, 134:149]\n",
    "\n",
    "MarginalRate4_2 = IncomeTax2.iloc[:, 119:129]\n",
    "\n",
    "MarginalRate4_3 = IncomeTax3.iloc[:, 36:39]\n",
    "\n",
    "Marginalrate4 = pd.concat([MarginalRate4_1, MarginalRate4_2, MarginalRate4_3], axis=1)\n",
    "\n",
    "Marginalrate4.sort_index(axis=1, inplace=True)"
   ]
  },
  {
   "cell_type": "code",
   "execution_count": null,
   "metadata": {
    "cell_id": "aa16e507f35e4bb4860d486099055bef",
    "deepnote_cell_type": "code",
    "execution_context_id": "596cabb2-e82f-4312-9087-54679cc5a9bb",
    "execution_millis": 0,
    "execution_start": 1740759573153,
    "source_hash": "16ec0b1f"
   },
   "outputs": [],
   "source": [
    "Threshold4_1 = IncomeTax1.iloc[:, 150:164]\n",
    "\n",
    "Threshold4_2 = IncomeTax2.iloc[:, 130:139]\n",
    "\n",
    "Threshold4_3 = IncomeTax3.iloc[:, 40:43]\n",
    "\n",
    "Threshold4 = pd.concat([Threshold4_1, Threshold4_2, Threshold4_3], axis=1)\n",
    "\n",
    "Threshold4.sort_index(axis=1, inplace=True)"
   ]
  },
  {
   "cell_type": "code",
   "execution_count": null,
   "metadata": {
    "cell_id": "34c64a602c8743afbefd60248324585c",
    "deepnote_cell_type": "code",
    "execution_context_id": "596cabb2-e82f-4312-9087-54679cc5a9bb",
    "execution_millis": 0,
    "execution_start": 1740759573205,
    "source_hash": "912373d2"
   },
   "outputs": [],
   "source": [
    "MarginalRate5_1 = IncomeTax1.iloc[:, 165:179]\n",
    "\n",
    "MarginalRate5_2 = IncomeTax2.iloc[:, 140:149]\n",
    "\n",
    "MarginalRate5_3 = IncomeTax3.iloc[:, 44:47]\n",
    "\n",
    "Marginalrate5 = pd.concat([MarginalRate5_1, MarginalRate5_2, MarginalRate5_3], axis=1)\n",
    "\n",
    "Marginalrate5.sort_index(axis=1, inplace=True)"
   ]
  },
  {
   "cell_type": "code",
   "execution_count": null,
   "metadata": {
    "cell_id": "8b7dcd83fb754bb0a89d2a94a4312c8a",
    "deepnote_cell_type": "code",
    "execution_context_id": "596cabb2-e82f-4312-9087-54679cc5a9bb",
    "execution_millis": 2678,
    "execution_start": 1740759573261,
    "source_hash": "487d00b9"
   },
   "outputs": [],
   "source": [
    "#Now importing the data from 1990-1999.\n",
    "# It was downloaded in a different format to the other years, as an excel spreadsheet containing a sheet for each\n",
    "# year. I download each of these sheets and skip the first 5 rows of irrelevant data.\n",
    "\n",
    "IncomeTax1990 = pd.read_excel(r'/dataset/economic/Income tax 1981-1999.xlsx', sheet_name=\"1990\", skiprows=5)\n",
    "IncomeTax1991 = pd.read_excel(r'/dataset/economic/Income tax 1981-1999.xlsx', sheet_name=\"1991\", skiprows=5)\n",
    "IncomeTax1992 = pd.read_excel(r'/dataset/economic/Income tax 1981-1999.xlsx', sheet_name=\"1992\", skiprows=5)\n",
    "IncomeTax1993 = pd.read_excel(r'/dataset/economic/Income tax 1981-1999.xlsx', sheet_name=\"1993\", skiprows=5)\n",
    "IncomeTax1994 = pd.read_excel(r'/dataset/economic/Income tax 1981-1999.xlsx', sheet_name=\"1994\", skiprows=5)\n",
    "IncomeTax1995 = pd.read_excel(r'/dataset/economic/Income tax 1981-1999.xlsx', sheet_name=\"1995\", skiprows=5)\n",
    "IncomeTax1996 = pd.read_excel(r'/dataset/economic/Income tax 1981-1999.xlsx', sheet_name=\"1996\", skiprows=5)\n",
    "IncomeTax1997 = pd.read_excel(r'/dataset/economic/Income tax 1981-1999.xlsx', sheet_name=\"1997\", skiprows=5)\n",
    "IncomeTax1998 = pd.read_excel(r'/dataset/economic/Income tax 1981-1999.xlsx', sheet_name=\"1998\", skiprows=5)\n",
    "IncomeTax1999 = pd.read_excel(r'/dataset/economic/Income tax 1981-1999.xlsx', sheet_name=\"1999\", skiprows=5)"
   ]
  },
  {
   "cell_type": "code",
   "execution_count": null,
   "metadata": {
    "cell_id": "a4c005db200d4028950e81e387f3bebc",
    "deepnote_cell_type": "code",
    "execution_context_id": "596cabb2-e82f-4312-9087-54679cc5a9bb",
    "execution_millis": 1,
    "execution_start": 1740759575988,
    "source_hash": "494e8fee"
   },
   "outputs": [],
   "source": [
    "IncomeTaxA = [IncomeTax1990, IncomeTax1991, IncomeTax1992, IncomeTax1993, IncomeTax1994, IncomeTax1995, \n",
    "    IncomeTax1996, IncomeTax1997, IncomeTax1998, IncomeTax1999]"
   ]
  },
  {
   "cell_type": "code",
   "execution_count": null,
   "metadata": {
    "cell_id": "6f2639099d6245ed80e97c45ce2680a1",
    "deepnote_cell_type": "code",
    "execution_context_id": "596cabb2-e82f-4312-9087-54679cc5a9bb",
    "execution_millis": 10,
    "execution_start": 1740759576041,
    "source_hash": "f2504bc3"
   },
   "outputs": [],
   "source": [
    "#Performing transformation on the data to make it usable.\n",
    "\n",
    "def clean_income_tax_df(df):\n",
    "    # Fixing columns\n",
    "    df.columns = df.iloc[0]\n",
    "    \n",
    "    # Dropping irrelevant rows\n",
    "    df.drop(index=[0, 1, 2], inplace=True)\n",
    "    \n",
    "    # Dropping NaN rows\n",
    "    df.dropna(axis=0, how=\"all\", inplace=True)\n",
    "    \n",
    "    # Dropping NaN columns\n",
    "    df.dropna(axis=1, how=\"all\", inplace=True)\n",
    "    \n",
    "    # Renaming the country column\n",
    "    df.columns = ['Country Name'] + list(df.columns[1:])\n",
    "    \n",
    "    # Dropping NaN labelled rows and columns\n",
    "    df = df.loc[~df.index.isna(), ~df.columns.isna()]\n",
    "    df = df.dropna(subset=['Country Name'])\n",
    "    \n",
    "    # Dropping Surtax as I am not using it\n",
    "    df.drop(df.columns[2], axis=1, inplace=True)\n",
    "    \n",
    "    # Renaming wrongly named columns\n",
    "    df.columns = list(df.columns[0:1]) + ['PersonalAllowance'] + list(df.columns[2:])\n",
    "    df.columns = list(df.columns[0:2]) + ['Marginal rate'] + list(df.columns[3:])\n",
    "    \n",
    "    # Some NaNs are labelled differently, so replace them with NaN\n",
    "    df.replace(\"n.a\", np.nan, inplace=True)\n",
    "    df.replace(\"n.a.\", np.nan, inplace=True)\n",
    "    df.replace(\"-\", np.nan, inplace=True)\n",
    "    \n",
    "    return df\n",
    "\n",
    "# Apply the function to all DataFrames in the IncomeTaxA list\n",
    "for i, df in enumerate(IncomeTaxA):\n",
    "    IncomeTaxA[i] = clean_income_tax_df(df)"
   ]
  },
  {
   "cell_type": "code",
   "execution_count": null,
   "metadata": {
    "cell_id": "0cbe30f338594f339674afc67795d5ab",
    "deepnote_cell_type": "code",
    "execution_context_id": "596cabb2-e82f-4312-9087-54679cc5a9bb",
    "execution_millis": 0,
    "execution_start": 1740759576105,
    "source_hash": "9733b506"
   },
   "outputs": [],
   "source": [
    "# Dealing with column names repeating\n",
    "def rename_duplicate_columns(df):\n",
    "    column_count = {}  \n",
    "    new_columns = []    \n",
    "\n",
    "    for col in df.columns:\n",
    "        if col in column_count:\n",
    "            column_count[col] += 1\n",
    "            new_columns.append(f\"{col}{column_count[col]}\")\n",
    "        else:\n",
    "            column_count[col] = 1\n",
    "            new_columns.append(col) \n",
    "\n",
    "    df.columns = new_columns \n",
    "\n",
    "for df in IncomeTaxA:\n",
    "    rename_duplicate_columns(df)"
   ]
  },
  {
   "cell_type": "code",
   "execution_count": null,
   "metadata": {
    "cell_id": "5309866466c6422e810c14087c57e282",
    "deepnote_cell_type": "code",
    "execution_context_id": "596cabb2-e82f-4312-9087-54679cc5a9bb",
    "execution_millis": 0,
    "execution_start": 1740759576285,
    "source_hash": "784dc1c7"
   },
   "outputs": [],
   "source": [
    "# Dealing with currencies being displayed differently\n",
    "def reindex_and_convert_currency(df):\n",
    "    # Reindexing\n",
    "    df.reset_index(drop=True, inplace=True)\n",
    "    \n",
    "    # Converting currencies which are divided by 1000\n",
    "    columns_to_operate = [col for col in df.columns if \"Marginal Rate\" not in col]\n",
    "    for i, country in enumerate(df[\"Country Name\"]):\n",
    "        if \"(´000)\" in country:\n",
    "            df.loc[i, columns_to_operate] *= 1000\n",
    "    \n",
    "    return df\n",
    "\n",
    "# Apply the function to all DataFrames in the IncomeTaxA list\n",
    "for i, df in enumerate(IncomeTaxA):\n",
    "    IncomeTaxA[i] = reindex_and_convert_currency(df)"
   ]
  },
  {
   "cell_type": "code",
   "execution_count": null,
   "metadata": {
    "cell_id": "ed3fcc21b0c14aabafc8e3bfdf32efd5",
    "deepnote_cell_type": "code",
    "execution_context_id": "596cabb2-e82f-4312-9087-54679cc5a9bb",
    "execution_millis": 1,
    "execution_start": 1740759576344,
    "source_hash": "1740c96a"
   },
   "outputs": [],
   "source": [
    "# Fixing Country Names\n",
    "two_word_countries = [\"Czech Republic \", \"New Zealand\", \"Slovak Republic\", \"United Kingdom\", \"United States\"]\n",
    "def filter_country_name(country):\n",
    "    country = country.replace('*', '').replace('#', '').replace(',', '')  # Remove special characters\n",
    "    if country in two_word_countries:\n",
    "        return country\n",
    "    else:\n",
    "        return country.split()[0]\n",
    "\n",
    "for df in IncomeTaxA:\n",
    "    df['Country Name'] = df['Country Name'].apply(filter_country_name)"
   ]
  },
  {
   "cell_type": "code",
   "execution_count": null,
   "metadata": {
    "cell_id": "6e7a1d77f32545eb80ac35930960145d",
    "deepnote_cell_type": "code",
    "execution_context_id": "596cabb2-e82f-4312-9087-54679cc5a9bb",
    "execution_millis": 1,
    "execution_start": 1740759576396,
    "source_hash": "f1569bab"
   },
   "outputs": [],
   "source": [
    "# Fixing Personal Allowance column\n",
    "\n",
    "def clean_personal_allowance(value):\n",
    "    # Convert the value to a string (handles integers, floats, and None)\n",
    "    value_str = str(value) if value is not None else \"\"\n",
    "    \n",
    "    # Use regex to find the numeric part of the string, including commas\n",
    "    numeric_part = re.search(r'[\\d,]+', value_str)\n",
    "    if numeric_part:\n",
    "        # Remove commas and convert to integer\n",
    "        return int(numeric_part.group().replace(\",\", \"\"))\n",
    "\n",
    "for df in IncomeTaxA:\n",
    "    df['PersonalAllowance'] = df['PersonalAllowance'].apply(clean_personal_allowance)"
   ]
  },
  {
   "cell_type": "code",
   "execution_count": null,
   "metadata": {
    "cell_id": "bb14f118a6264f07a0bfee5dc2317e73",
    "deepnote_cell_type": "code",
    "execution_context_id": "596cabb2-e82f-4312-9087-54679cc5a9bb",
    "execution_millis": 0,
    "execution_start": 1740759576449,
    "source_hash": "ccc434fc"
   },
   "outputs": [],
   "source": [
    "# Removing spaces to match the column names with variable names\n",
    "for df in IncomeTaxA:\n",
    "    df.columns = [col.replace(\" \", \"\") for col in df.columns]"
   ]
  },
  {
   "cell_type": "code",
   "execution_count": null,
   "metadata": {
    "cell_id": "865d70dacaee40a197353c55f15ea839",
    "deepnote_cell_type": "code",
    "execution_context_id": "596cabb2-e82f-4312-9087-54679cc5a9bb",
    "execution_millis": 0,
    "execution_start": 1740759576505,
    "source_hash": "41be4e5"
   },
   "outputs": [],
   "source": [
    "# Transposing the column and index to merge with other dataframes\n",
    "\n",
    "for i, df in enumerate(IncomeTaxA):\n",
    "    IncomeTaxA[i] = df.set_index(\"CountryName\").T"
   ]
  },
  {
   "cell_type": "code",
   "execution_count": null,
   "metadata": {
    "cell_id": "1a59fca11d48484c9d339e8ca7985012",
    "deepnote_cell_type": "code",
    "execution_context_id": "596cabb2-e82f-4312-9087-54679cc5a9bb",
    "execution_millis": 0,
    "execution_start": 1740759576553,
    "source_hash": "e858001c"
   },
   "outputs": [],
   "source": [
    "# Aligning country names with other dataframes\n",
    "\n",
    "for df in IncomeTaxA:\n",
    "    df.columns = df.columns.str.replace(r'Turkey', 'Türkiye', regex=True)\n",
    "    df.columns = df.columns.str.replace(r'Czech Republic', 'Czechia', regex=True)"
   ]
  },
  {
   "cell_type": "code",
   "execution_count": null,
   "metadata": {
    "cell_id": "237c2dfa0ff247488b472e45d31dd2fa",
    "deepnote_cell_type": "code",
    "execution_context_id": "596cabb2-e82f-4312-9087-54679cc5a9bb",
    "execution_millis": 1,
    "execution_start": 1740759576604,
    "source_hash": "a33384f6"
   },
   "outputs": [],
   "source": [
    "[IncomeTax1990, IncomeTax1991, IncomeTax1992, IncomeTax1993, IncomeTax1994, IncomeTax1995, \n",
    "    IncomeTax1996, IncomeTax1997, IncomeTax1998, IncomeTax1999] = IncomeTaxA"
   ]
  },
  {
   "cell_type": "code",
   "execution_count": null,
   "metadata": {
    "cell_id": "5f9ddd5fbe0e4e6bb6b6e81e26c6bc46",
    "deepnote_cell_type": "code",
    "execution_context_id": "596cabb2-e82f-4312-9087-54679cc5a9bb",
    "execution_millis": 0,
    "execution_start": 1740759576653,
    "source_hash": "2a588716"
   },
   "outputs": [],
   "source": [
    "IncomeTaxB = [PersonalAllowance, Marginalrate, Marginalrate2, Marginalrate3, Marginalrate4, Marginalrate5, \n",
    "Threshold1, Threshold2, Threshold3, Threshold4]"
   ]
  },
  {
   "cell_type": "code",
   "execution_count": null,
   "metadata": {
    "cell_id": "7568b1b5dbcd48ca8124e19895ca7378",
    "deepnote_cell_type": "code",
    "execution_context_id": "596cabb2-e82f-4312-9087-54679cc5a9bb",
    "execution_millis": 61,
    "execution_start": 1740759576709,
    "source_hash": "91d0ab2c"
   },
   "outputs": [],
   "source": [
    "# Now I have my List of fixed dataframes, I can concatenate them into the dataframes containing data from 2000-2018\n",
    "\n",
    "# Combine yearly data (1990-1999) with statistic-specific data (2000-2018)\n",
    "combined_dfs = {}\n",
    "\n",
    "statistic_names=[\"PersonalAllowance\", \"Marginalrate\", \"Marginalrate2\", \"Marginalrate3\", \"Marginalrate4\", \n",
    "    \"Marginalrate5\", \"Threshold\", \"Threshold2\", \"Threshold3\", \"Threshold4\"]\n",
    "\n",
    "for i, stat_df in enumerate(IncomeTaxB):\n",
    "    statistic = statistic_names[i]  # Get the corresponding statistic name\n",
    "    # Extract yearly data for the current statistic\n",
    "    yearly_stat_data = []\n",
    "    for year, yearly_df in enumerate(IncomeTaxA, start=1990):  # Assuming IncomeTaxA is ordered from 1990-1999\n",
    "        # Get the row corresponding to the current statistic\n",
    "        stat_row = yearly_df.loc[statistic].to_frame().T\n",
    "        stat_row.index = [year]  # Set the index to the year\n",
    "        yearly_stat_data.append(stat_row)\n",
    "    \n",
    "    # Concatenate yearly data (1990-1999) with statistic-specific data (2000-2018)\n",
    "    combined_df = pd.concat(yearly_stat_data + [stat_df])\n",
    "    combined_dfs[statistic] = combined_df"
   ]
  },
  {
   "cell_type": "code",
   "execution_count": null,
   "metadata": {
    "cell_id": "1dae33ccfd7142699d391b48fd576e82",
    "deepnote_cell_type": "code",
    "execution_context_id": "596cabb2-e82f-4312-9087-54679cc5a9bb",
    "execution_millis": 0,
    "execution_start": 1740759576817,
    "source_hash": "8219328c"
   },
   "outputs": [],
   "source": [
    "for name, df in combined_dfs.items():\n",
    "    globals()[name] = df"
   ]
  },
  {
   "cell_type": "code",
   "execution_count": null,
   "metadata": {
    "cell_id": "657b074036c54c35afd1ef3f0f1c3e91",
    "deepnote_cell_type": "code",
    "execution_context_id": "596cabb2-e82f-4312-9087-54679cc5a9bb",
    "execution_millis": 19,
    "execution_start": 1740759576864,
    "source_hash": "5c4f23d3"
   },
   "outputs": [],
   "source": [
    "Marginalrate.head()"
   ]
  },
  {
   "cell_type": "code",
   "execution_count": null,
   "metadata": {
    "cell_id": "a5420d3477774092a846225a5ad2726e",
    "deepnote_cell_type": "code",
    "execution_context_id": "596cabb2-e82f-4312-9087-54679cc5a9bb",
    "execution_millis": 2,
    "execution_start": 1740759576945,
    "source_hash": "1312bbf4"
   },
   "outputs": [],
   "source": [
    "Threshold1_perc_change = Threshold.pct_change()*100\n",
    "Threshold2_perc_change = Threshold2.pct_change()*100\n",
    "Threshold3_perc_change = Threshold3.pct_change()*100\n",
    "Threshold4_perc_change = Threshold4.pct_change()*100\n",
    "MarginalRate1_perc_change = Marginalrate.pct_change()*100\n",
    "MarginalRate2_perc_change = Marginalrate2.pct_change()*100\n",
    "MarginalRate3_perc_change = Marginalrate3.pct_change()*100\n",
    "MarginalRate4_perc_change = Marginalrate4.pct_change()*100\n",
    "MarginalRate5_perc_change = Marginalrate5.pct_change()*100\n",
    "PersonalAllowance_perc_change = PersonalAllowance.pct_change()*100"
   ]
  },
  {
   "cell_type": "code",
   "execution_count": null,
   "metadata": {
    "cell_id": "43280ab524fb46079236989b6150eca9",
    "deepnote_cell_type": "code",
    "execution_context_id": "596cabb2-e82f-4312-9087-54679cc5a9bb",
    "execution_millis": 1,
    "execution_start": 1740759576996,
    "source_hash": "480c99eb"
   },
   "outputs": [],
   "source": [
    "# Now with all my statistics on tax, I can calculate tax paid by the median person, which will be done later after\n",
    "# imputing data."
   ]
  },
  {
   "cell_type": "code",
   "execution_count": null,
   "metadata": {
    "cell_id": "4b86242d2da847ed92b1b1cca16c94db",
    "deepnote_cell_type": "code",
    "execution_context_id": "596cabb2-e82f-4312-9087-54679cc5a9bb",
    "execution_millis": 0,
    "execution_start": 1740759577045,
    "source_hash": "9b679c66"
   },
   "outputs": [],
   "source": [
    "#Now we have a number of usable dataframes, including personal allowance, marginal rates and thresholds."
   ]
  },
  {
   "cell_type": "code",
   "execution_count": null,
   "metadata": {
    "cell_id": "fc24170b921c440e9fe500e754eed1c5",
    "deepnote_cell_type": "code",
    "execution_context_id": "596cabb2-e82f-4312-9087-54679cc5a9bb",
    "execution_millis": 0,
    "execution_start": 1740759577093,
    "source_hash": "7e889e69"
   },
   "outputs": [],
   "source": [
    "#Before using the dataframes to alter each other, we need to check that all the names of the countries match\n",
    "#between the dataframes. This can be done using the index of the dataframes.\n",
    "\n",
    "unmatched_names_1 = set(PersonalAllowance.columns) - set(CurrencyPerDollar.columns)\n",
    "\n",
    "unmatched_names_1"
   ]
  },
  {
   "cell_type": "code",
   "execution_count": null,
   "metadata": {
    "cell_id": "6b423bf558b946f3b603a8fc554dbae7",
    "deepnote_cell_type": "code",
    "execution_context_id": "596cabb2-e82f-4312-9087-54679cc5a9bb",
    "execution_millis": 0,
    "execution_start": 1740759577145,
    "source_hash": "59da415b"
   },
   "outputs": [],
   "source": [
    "#This will be continued after all the dataframes I need are created, to allow standardisation on every dataframe\n",
    "#at once."
   ]
  },
  {
   "cell_type": "code",
   "execution_count": null,
   "metadata": {
    "cell_id": "fc45362655cd4ad48ff145ae890fd7bf",
    "deepnote_cell_type": "code",
    "execution_context_id": "596cabb2-e82f-4312-9087-54679cc5a9bb",
    "execution_millis": 149,
    "execution_start": 1740759577197,
    "source_hash": "59314183"
   },
   "outputs": [],
   "source": [
    "Inflation = pd.read_csv(r'/dataset/economic/Inflation.csv')"
   ]
  },
  {
   "cell_type": "code",
   "execution_count": null,
   "metadata": {
    "cell_id": "4cfc45eda302442b8ac051de5b820555",
    "deepnote_cell_type": "code",
    "execution_context_id": "596cabb2-e82f-4312-9087-54679cc5a9bb",
    "execution_millis": 0,
    "execution_start": 1740759577397,
    "source_hash": "1bea1569"
   },
   "outputs": [],
   "source": [
    "#Setting Country name as the index\n",
    "Inflation.set_index(Inflation.columns[0], inplace=True)"
   ]
  },
  {
   "cell_type": "code",
   "execution_count": null,
   "metadata": {
    "cell_id": "4f2fd0d021fe48b293acdedf16b6f2e9",
    "deepnote_cell_type": "code",
    "execution_context_id": "596cabb2-e82f-4312-9087-54679cc5a9bb",
    "execution_millis": 0,
    "execution_start": 1740759577449,
    "source_hash": "5febd25e"
   },
   "outputs": [],
   "source": [
    "#Removing junk rows\n",
    "Inflation.drop(Inflation.columns[0:3], axis=1, inplace=True)"
   ]
  },
  {
   "cell_type": "code",
   "execution_count": null,
   "metadata": {
    "cell_id": "87cf8d113f7f41eab6dbf4866f406a3a",
    "deepnote_cell_type": "code",
    "execution_context_id": "596cabb2-e82f-4312-9087-54679cc5a9bb",
    "execution_millis": 0,
    "execution_start": 1740759577501,
    "source_hash": "f6534a06"
   },
   "outputs": [],
   "source": [
    "#Moving the years to index\n",
    "Inflation = Inflation.transpose()"
   ]
  },
  {
   "cell_type": "code",
   "execution_count": null,
   "metadata": {
    "cell_id": "dcb53f2a32cc40a281842f1cb90f8414",
    "deepnote_cell_type": "code",
    "execution_context_id": "596cabb2-e82f-4312-9087-54679cc5a9bb",
    "execution_millis": 244,
    "execution_start": 1740759577553,
    "source_hash": "4dafdb2d"
   },
   "outputs": [],
   "source": [
    "#Creating a dataset which contains percentage changes in inflation in each year\n",
    "Inflation_perc_change = Inflation.pct_change() * 100\n",
    "Inflation_perc_change.head()"
   ]
  },
  {
   "cell_type": "code",
   "execution_count": null,
   "metadata": {
    "cell_id": "3366e04cd7bb4c46a300d58158270740",
    "deepnote_cell_type": "code",
    "execution_context_id": "596cabb2-e82f-4312-9087-54679cc5a9bb",
    "execution_millis": 438,
    "execution_start": 1740759577853,
    "source_hash": "24f1cd13"
   },
   "outputs": [],
   "source": [
    "# Set the style for better visualization\n",
    "plt.style.use('seaborn')\n",
    "\n",
    "# Create the figure and axis with a larger size\n",
    "plt.figure(figsize=(12, 6))\n",
    "\n",
    "# Create the line plot using different line styles and colors for better distinction\n",
    "plt.plot(Inflation.index, Inflation['Turkiye'], linewidth=2, label='Turkiye', marker='o', markersize=4)\n",
    "plt.plot(Inflation.index, Inflation['United Kingdom'], linewidth=2, label='UK', marker='s', markersize=4)\n",
    "plt.plot(Inflation.index, Inflation['Bulgaria'], linewidth=2, label='Bulgaria', marker='^', markersize=4)\n",
    "plt.plot(Inflation.index, Inflation['Korea, Rep.'], linewidth=2, label='South Korea', marker='d', markersize=4)\n",
    "\n",
    "# Customize the plot\n",
    "plt.title('Inflation Rates Comparison (1960-2023)', fontsize=14, pad=20)\n",
    "plt.xlabel('Year', fontsize=12)\n",
    "plt.ylabel('Inflation', fontsize=12)\n",
    "plt.grid(True, linestyle='--', alpha=0.7)\n",
    "plt.legend(fontsize=10, bbox_to_anchor=(1.05, 1), loc='upper left')\n",
    "\n",
    "# Rotate x-axis labels for better readability\n",
    "plt.xticks(rotation=45)\n",
    "\n",
    "# Adjust layout to prevent label cutoff\n",
    "plt.tight_layout()\n",
    "\n",
    "# Show the plot\n",
    "plt.show()"
   ]
  },
  {
   "cell_type": "code",
   "execution_count": null,
   "metadata": {
    "cell_id": "9d7981603695408b8d44cb99a7cfa8b4",
    "deepnote_cell_type": "code",
    "execution_context_id": "596cabb2-e82f-4312-9087-54679cc5a9bb",
    "execution_millis": 155,
    "execution_start": 1740759578340,
    "source_hash": "aabe4c8d"
   },
   "outputs": [],
   "source": [
    "Unemployment = pd.read_csv(r'/dataset/economic/Unemployment.csv')"
   ]
  },
  {
   "cell_type": "code",
   "execution_count": null,
   "metadata": {
    "cell_id": "63ba5de304b94ad39a107d734da44a03",
    "deepnote_cell_type": "code",
    "execution_context_id": "596cabb2-e82f-4312-9087-54679cc5a9bb",
    "execution_millis": 0,
    "execution_start": 1740759578549,
    "source_hash": "c479e980"
   },
   "outputs": [],
   "source": [
    "#Setting Country name as the index\n",
    "Unemployment.set_index(Unemployment.columns[0], inplace=True)"
   ]
  },
  {
   "cell_type": "code",
   "execution_count": null,
   "metadata": {
    "cell_id": "cab4afb927744b679b473a45f7e2383a",
    "deepnote_cell_type": "code",
    "execution_context_id": "596cabb2-e82f-4312-9087-54679cc5a9bb",
    "execution_millis": 1,
    "execution_start": 1740759578600,
    "source_hash": "314e5409"
   },
   "outputs": [],
   "source": [
    "#Removing junk rows\n",
    "Unemployment.drop(Unemployment.columns[0:3], axis=1, inplace=True)"
   ]
  },
  {
   "cell_type": "code",
   "execution_count": null,
   "metadata": {
    "cell_id": "fa7f1f69e9c04f3795f6cf5560ed0533",
    "deepnote_cell_type": "code",
    "execution_context_id": "596cabb2-e82f-4312-9087-54679cc5a9bb",
    "execution_millis": 1,
    "execution_start": 1740759578648,
    "source_hash": "dc0855a7"
   },
   "outputs": [],
   "source": [
    "#Moving the years to index\n",
    "Unemployment = Unemployment.transpose()"
   ]
  },
  {
   "cell_type": "code",
   "execution_count": null,
   "metadata": {
    "cell_id": "337a42fbf41d4b878e13d377daed8a5c",
    "deepnote_cell_type": "code",
    "execution_context_id": "596cabb2-e82f-4312-9087-54679cc5a9bb",
    "execution_millis": 0,
    "execution_start": 1740759578701,
    "source_hash": "349d41bf"
   },
   "outputs": [],
   "source": [
    "#For Unemployment there is no data until 1990 so this is removed\n",
    "Unemployment.drop(Unemployment.index[0:30], axis=0, inplace=True)"
   ]
  },
  {
   "cell_type": "code",
   "execution_count": null,
   "metadata": {
    "cell_id": "f29842c3d0ce4feb8d7842f1534d5de3",
    "deepnote_cell_type": "code",
    "execution_context_id": "596cabb2-e82f-4312-9087-54679cc5a9bb",
    "execution_millis": 0,
    "execution_start": 1740759578749,
    "source_hash": "a9c95ff3"
   },
   "outputs": [],
   "source": [
    "#Creating a dataset which contains percentage changes in inflation in each year\n",
    "Unemployment_perc_change = Unemployment.pct_change() * 100"
   ]
  },
  {
   "cell_type": "code",
   "execution_count": null,
   "metadata": {
    "cell_id": "fd6a606fe1e94a01953e853085202f2a",
    "deepnote_cell_type": "code",
    "execution_context_id": "596cabb2-e82f-4312-9087-54679cc5a9bb",
    "execution_millis": 326,
    "execution_start": 1740759578813,
    "source_hash": "45cadcdd"
   },
   "outputs": [],
   "source": [
    "# Set the style for better visualization\n",
    "plt.style.use('seaborn')\n",
    "\n",
    "# Create the figure and axis with a larger size\n",
    "plt.figure(figsize=(12, 6))\n",
    "\n",
    "# Create the line plot using different line styles and colors for better distinction\n",
    "plt.plot(Unemployment.index, Unemployment['Turkiye'], linewidth=2, label='Turkiye', marker='o', markersize=4)\n",
    "plt.plot(Unemployment.index, Unemployment['United Kingdom'], linewidth=2, label='UK', marker='s', markersize=4)\n",
    "plt.plot(Unemployment.index, Unemployment['Bulgaria'], linewidth=2, label='Bulgaria', marker='^', markersize=4)\n",
    "plt.plot(Unemployment.index, Unemployment['Korea, Rep.'], linewidth=2, label='South Korea', marker='d', markersize=4)\n",
    "\n",
    "# Customize the plot\n",
    "plt.title('Unemployment Rates Comparison (1991-2023)', fontsize=14, pad=20)\n",
    "plt.xlabel('Year', fontsize=12)\n",
    "plt.ylabel('Unemployment Rate (%)', fontsize=12)\n",
    "plt.grid(True, linestyle='--', alpha=0.7)\n",
    "plt.legend(fontsize=10, bbox_to_anchor=(1.05, 1), loc='upper left')\n",
    "\n",
    "# Rotate x-axis labels for better readability\n",
    "plt.xticks(rotation=45)\n",
    "\n",
    "# Adjust layout to prevent label cutoff\n",
    "plt.tight_layout()\n",
    "\n",
    "# Show the plot\n",
    "plt.show()"
   ]
  },
  {
   "cell_type": "code",
   "execution_count": null,
   "metadata": {
    "cell_id": "c8aa08c481424dc184f87a13d9d3e1e2",
    "deepnote_cell_type": "code",
    "execution_context_id": "596cabb2-e82f-4312-9087-54679cc5a9bb",
    "execution_millis": 190,
    "execution_start": 1740759579181,
    "source_hash": "2f5ee46"
   },
   "outputs": [],
   "source": [
    "VAT = pd.read_excel(r\"/dataset/economic/VAT.xlsx\")"
   ]
  },
  {
   "cell_type": "code",
   "execution_count": null,
   "metadata": {
    "cell_id": "19c5c435ed214ab5aa1f185f00bd03fe",
    "deepnote_cell_type": "code",
    "execution_context_id": "596cabb2-e82f-4312-9087-54679cc5a9bb",
    "execution_millis": 1,
    "execution_start": 1740759579416,
    "source_hash": "2a33e8c0"
   },
   "outputs": [],
   "source": [
    "#Setting Country name as the index\n",
    "VAT.set_index(VAT.columns[0], inplace=True)"
   ]
  },
  {
   "cell_type": "code",
   "execution_count": null,
   "metadata": {
    "cell_id": "2f37a3666d134079ac6b26fba14edf39",
    "deepnote_cell_type": "code",
    "execution_context_id": "596cabb2-e82f-4312-9087-54679cc5a9bb",
    "execution_millis": 0,
    "execution_start": 1740759579469,
    "source_hash": "ebeb1dd4"
   },
   "outputs": [],
   "source": [
    "#Removing Junk rows\n",
    "VAT.drop(VAT.columns[20:24], axis=1, inplace=True)\n",
    "VAT.drop(VAT.columns[18], axis=1, inplace=True)\n",
    "VAT.drop(VAT.columns[16], axis=1, inplace=True)"
   ]
  },
  {
   "cell_type": "code",
   "execution_count": null,
   "metadata": {
    "cell_id": "4a32257b6e064414a540dda7089a9cc0",
    "deepnote_cell_type": "code",
    "execution_context_id": "596cabb2-e82f-4312-9087-54679cc5a9bb",
    "execution_millis": 0,
    "execution_start": 1740759579533,
    "source_hash": "aa1cc193"
   },
   "outputs": [],
   "source": [
    "VAT = VAT.transpose()"
   ]
  },
  {
   "cell_type": "code",
   "execution_count": null,
   "metadata": {
    "cell_id": "56594392d2e3412584650075c59d796c",
    "deepnote_cell_type": "code",
    "execution_context_id": "596cabb2-e82f-4312-9087-54679cc5a9bb",
    "execution_millis": 0,
    "execution_start": 1740759579589,
    "source_hash": "b18cc3f0"
   },
   "outputs": [],
   "source": [
    "#Changing \"-\" into NaN values\n",
    "\n",
    "VAT.replace({' - ': np.nan}, inplace=True)"
   ]
  },
  {
   "cell_type": "code",
   "execution_count": null,
   "metadata": {
    "cell_id": "9db513441d5b4ce296f6db7d037dac95",
    "deepnote_cell_type": "code",
    "execution_context_id": "596cabb2-e82f-4312-9087-54679cc5a9bb",
    "execution_millis": 3,
    "execution_start": 1740759579689,
    "source_hash": "9a81ae49"
   },
   "outputs": [],
   "source": [
    "#Standardising column names by removing \"*\" for countries to match column names with other datasets\n",
    "VAT.columns = VAT.columns.str.replace(r'\\*$', '', regex=True)\n",
    "VAT.head()"
   ]
  },
  {
   "cell_type": "code",
   "execution_count": null,
   "metadata": {
    "cell_id": "62649b088cf941629eaf69d0ede8ae8f",
    "deepnote_cell_type": "code",
    "execution_context_id": "596cabb2-e82f-4312-9087-54679cc5a9bb",
    "execution_millis": 1,
    "execution_start": 1740759579801,
    "source_hash": "6689143a"
   },
   "outputs": [],
   "source": [
    "#Creating a dataset which contains percentage changes in VAT in each year\n",
    "VAT_perc_change = VAT.pct_change() * 100\n",
    "VAT_perc_change.head()"
   ]
  },
  {
   "cell_type": "code",
   "execution_count": null,
   "metadata": {
    "cell_id": "4097fc2f43a14256a90c6ba9e436558d",
    "deepnote_cell_type": "code",
    "execution_context_id": "596cabb2-e82f-4312-9087-54679cc5a9bb",
    "execution_millis": 0,
    "execution_start": 1740759579857,
    "source_hash": "4864d4ad"
   },
   "outputs": [],
   "source": [
    "for i in range(1990, 2005):\n",
    "    VAT.loc[i] = [np.nan] * len(VAT.columns)"
   ]
  },
  {
   "cell_type": "code",
   "execution_count": null,
   "metadata": {
    "cell_id": "4b1c84d56866440a8bd1a45d3a4d1acb",
    "deepnote_cell_type": "code",
    "execution_context_id": "596cabb2-e82f-4312-9087-54679cc5a9bb",
    "execution_millis": 0,
    "execution_start": 1740759579917,
    "source_hash": "12113ef5"
   },
   "outputs": [],
   "source": [
    "for i in range(1990, 2000):\n",
    "    VAT_perc_change.loc[i] = [np.nan] * len(VAT_perc_change.columns)"
   ]
  },
  {
   "cell_type": "code",
   "execution_count": null,
   "metadata": {
    "cell_id": "84d0b323b8ab4fa0b4dc884ee7df40c6",
    "deepnote_cell_type": "code",
    "execution_context_id": "596cabb2-e82f-4312-9087-54679cc5a9bb",
    "execution_millis": 273,
    "execution_start": 1740759579973,
    "source_hash": "39b4b31e"
   },
   "outputs": [],
   "source": [
    "# Set the style for better visualization\n",
    "plt.style.use('seaborn')\n",
    "\n",
    "# Create the figure and axis with a larger size\n",
    "plt.figure(figsize=(12, 6))\n",
    "\n",
    "# Create the line plot using different line styles and colors for better distinction\n",
    "plt.plot(VAT.index, VAT['Türkiye'], linewidth=2, label='Turkiye', marker='o', markersize=4)\n",
    "plt.plot(VAT.index, VAT['United Kingdom'], linewidth=2, label='UK', marker='s', markersize=4)\n",
    "plt.plot(VAT.index, VAT['Canada'], linewidth=2, label='Canada', marker='^', markersize=4)\n",
    "plt.plot(VAT.index, VAT['Spain'], linewidth=2, label='Spain', marker='d', markersize=4)\n",
    "\n",
    "# Customize the plot\n",
    "plt.title('VAT Comparison (2005-2023)', fontsize=14, pad=20)\n",
    "plt.xlabel('Year', fontsize=12)\n",
    "plt.ylabel('VAT (%)', fontsize=12)\n",
    "plt.grid(True, linestyle='--', alpha=0.7)\n",
    "plt.legend(fontsize=10, bbox_to_anchor=(1.05, 1), loc='upper left')\n",
    "\n",
    "# Rotate x-axis labels for better readability\n",
    "plt.xticks(rotation=45)\n",
    "\n",
    "# Adjust layout to prevent label cutoff\n",
    "plt.tight_layout()\n",
    "\n",
    "# Show the plot\n",
    "plt.show()"
   ]
  },
  {
   "cell_type": "code",
   "execution_count": null,
   "metadata": {
    "cell_id": "ddc6a2b2a7554bc280624a7c3aab9f1e",
    "deepnote_cell_type": "code",
    "execution_context_id": "596cabb2-e82f-4312-9087-54679cc5a9bb",
    "execution_millis": 0,
    "execution_start": 1740759580293,
    "source_hash": "2dfd56ce"
   },
   "outputs": [],
   "source": [
    "#Now to make all my dataframes into a usable format and deal with issues with NaN before concatenation."
   ]
  },
  {
   "cell_type": "code",
   "execution_count": null,
   "metadata": {
    "cell_id": "9ce57693891a42968c807306048a87c7",
    "deepnote_cell_type": "code",
    "execution_context_id": "596cabb2-e82f-4312-9087-54679cc5a9bb",
    "execution_millis": 0,
    "execution_start": 1740759580341,
    "source_hash": "d2dac531"
   },
   "outputs": [],
   "source": [
    "AverageTaxPaid = AverageWageUSDPPP\n",
    "AverageTaxPaid_perc_change = AverageWageUSDPPP"
   ]
  },
  {
   "cell_type": "code",
   "execution_count": null,
   "metadata": {
    "cell_id": "c1fe3fd55e2b427d9e83beeb79cc529b",
    "deepnote_cell_type": "code",
    "execution_context_id": "596cabb2-e82f-4312-9087-54679cc5a9bb",
    "execution_millis": 1,
    "execution_start": 1740759580392,
    "source_hash": "d8a7e732"
   },
   "outputs": [],
   "source": [
    "#Making a list of all my dataframes\n",
    "Dataframes = [\n",
    "    AverageTaxPaid, AverageTaxPaid_perc_change, AverageWage, AverageWageUSDPPP, AverageWageUSDPPP_perc_change,\n",
    "    CorpIncomeTax, CorpIncomeTax_perc_change, CurrencyPerDollar, CurrencyPerDollar_perc_change, Inflation, \n",
    "    Inflation_perc_change, Marginalrate, MarginalRate1_perc_change, Marginalrate2, MarginalRate2_perc_change, \n",
    "    Marginalrate3, MarginalRate3_perc_change, Marginalrate4, MarginalRate4_perc_change,\n",
    "    Marginalrate5, MarginalRate5_perc_change, PersonalAllowance, PersonalAllowance_perc_change, Threshold,\n",
    "    Threshold1_perc_change, Threshold2, Threshold2_perc_change,\n",
    "    Threshold3, Threshold3_perc_change, Threshold4, Threshold4_perc_change, Unemployment,\n",
    "    Unemployment_perc_change, VAT, VAT_perc_change]\n",
    "\n",
    "Dataframes_names =[\"AverageTaxPaid\", \"AverageTaxPaid_perc_change\",\n",
    "\"AverageWage\", \"AverageWageUSDPPP\",\"AverageWageUSDPPP_perc_change\", \"CorpIncomeTax\", \"CorpIncomeTax_perc_change\",\"CurrencyPerDollar\", \"CurrencyPerDollar_perc_change\", \"Inflation\", \"Inflation_perc_change\",\n",
    "    \"Marginalrate\", \"MarginalRate1_perc_change\", \"Marginalrate2\", \"MarginalRate2_perc_change\", \n",
    "    \"Marginalrate3\", \"MarginalRate3_perc_change\", \"Marginalrate4\", \"MarginalRate4_perc_change\",\n",
    "    \"Marginalrate5\", \"MarginalRate5_perc_change\", \"PersonalAllowance\", \"PersonalAllowance_perc_change\", \"Threshold\",\n",
    "    \"Threshold1_perc_change\", \"Threshold2\", \"Threshold2_perc_change\",\n",
    "    \"Threshold3\", \"Threshold3_perc_change\", \"Threshold4\", \"Threshold4_perc_change\", \"Unemployment\",\n",
    "    \"Unemployment_perc_change\", \"VAT\", \"VAT_perc_change\"]\n",
    "\n"
   ]
  },
  {
   "cell_type": "code",
   "execution_count": null,
   "metadata": {
    "cell_id": "68365d2e916545d89e8d33078584eb0d",
    "deepnote_cell_type": "code",
    "execution_context_id": "596cabb2-e82f-4312-9087-54679cc5a9bb",
    "execution_millis": 0,
    "execution_start": 1740759580493,
    "source_hash": "49ed8253"
   },
   "outputs": [],
   "source": [
    "#Standardising country names for problem countries (named differently in different dataframes) \n",
    "# so they are the same in each Dataframe\n",
    "for df in Dataframes:\n",
    "    df.columns = df.columns.str.replace(r'Türkiye', 'Turkiye', regex=True)\n",
    "    df.columns = df.columns.str.replace(r'Turkey', 'Turkiye', regex=True)\n",
    "    df.columns = df.columns.str.replace(r'Czech Republic', 'Czechia', regex=True)\n",
    "    df.columns = df.columns.str.replace(r'^Korea, Rep\\.$', 'South Korea', regex=True)\n",
    "    df.columns = [col if 'South Korea' in col else col.replace('Korea', 'South Korea') for col in df.columns]\n",
    "    df.sort_index(axis=1, inplace=True)"
   ]
  },
  {
   "cell_type": "code",
   "execution_count": null,
   "metadata": {
    "cell_id": "f380ec1028194996aae8edca1d07bdfa",
    "deepnote_cell_type": "code",
    "execution_context_id": "596cabb2-e82f-4312-9087-54679cc5a9bb",
    "execution_millis": 0,
    "execution_start": 1740759580545,
    "source_hash": "1f3935a8"
   },
   "outputs": [],
   "source": [
    "# Removing all the Non-OECD countries from my dataframes\n",
    "\n",
    "oecd_countries = [\n",
    "    'Australia','Austria','Belgium', 'Canada', 'Chile', 'Colombia', 'Costa Rica', 'Czechia', 'Denmark', \n",
    "    'Estonia', 'Finland','France','Germany','Greece','Hungary','Iceland','Ireland','Israel','Italy','Japan',\n",
    "    'Latvia','Lithuania','Luxembourg','Mexico','Netherlands','New Zealand','Norway','Poland','Portugal',\n",
    "    'Slovak Republic','Slovenia','South Korea','Spain','Sweden','Switzerland','Turkiye','United Kingdom',\n",
    "    'United States']"
   ]
  },
  {
   "cell_type": "code",
   "execution_count": null,
   "metadata": {
    "cell_id": "b814ce4bbaf8418aba4ae39cf32320e2",
    "deepnote_cell_type": "code",
    "execution_context_id": "596cabb2-e82f-4312-9087-54679cc5a9bb",
    "execution_millis": 0,
    "execution_start": 1740759580621,
    "source_hash": "38e75d43"
   },
   "outputs": [],
   "source": [
    "# Dropping Non-OECD countries\n",
    "\n",
    "def filter_oecd_countries(df, oecd_countries):\n",
    "    countries_in_df = df.columns\n",
    "    invalid_columns = [country for country in countries_in_df if country not in oecd_countries]\n",
    "    df.drop(columns=invalid_columns, inplace=True)\n",
    "\n",
    "for df in Dataframes:\n",
    "    filter_oecd_countries(df, oecd_countries)"
   ]
  },
  {
   "cell_type": "code",
   "execution_count": null,
   "metadata": {
    "cell_id": "ceee2da5f3984307bcf3fe525e7014dd",
    "deepnote_cell_type": "code",
    "execution_context_id": "596cabb2-e82f-4312-9087-54679cc5a9bb",
    "execution_millis": 0,
    "execution_start": 1740759580673,
    "source_hash": "357f0d65"
   },
   "outputs": [],
   "source": [
    "#Dealing with NaN values\n",
    "\n",
    "#If NaN values are above 20%, I will remove the column. If not, I will replace them using KNN interpolation."
   ]
  },
  {
   "cell_type": "code",
   "execution_count": null,
   "metadata": {
    "cell_id": "d1be0215fc5548048366647a876dac87",
    "deepnote_cell_type": "code",
    "execution_context_id": "596cabb2-e82f-4312-9087-54679cc5a9bb",
    "execution_millis": 34,
    "execution_start": 1740759580725,
    "source_hash": "14958d3c"
   },
   "outputs": [],
   "source": [
    "# Replace inf and large values with NaN\n",
    "for df in Dataframes:\n",
    "    df.replace([np.inf, -np.inf], np.nan, inplace=True)  # Replace inf with NaN\n",
    "    df[df > 1e308] = np.nan  # Replace extremely large values with NaN"
   ]
  },
  {
   "cell_type": "code",
   "execution_count": null,
   "metadata": {
    "cell_id": "903427f80ced4d7d9b934d54f0036e35",
    "deepnote_cell_type": "code",
    "execution_context_id": "596cabb2-e82f-4312-9087-54679cc5a9bb",
    "execution_millis": 0,
    "execution_start": 1740759580809,
    "source_hash": "2f2c0387"
   },
   "outputs": [],
   "source": [
    "# Need to match index so putting them as the same datatype \n",
    "dfs = [AverageWage, PersonalAllowance, Threshold, Threshold2, Threshold3, Threshold4,\n",
    "       Marginalrate, Marginalrate2, Marginalrate3, Marginalrate4, Marginalrate5]\n",
    "\n",
    "for df in dfs:\n",
    "    df.index = df.index.astype(int)  # Convert index to integers\n",
    "\n",
    "#Removing 2023 as there isn't tax data for it,\n",
    "\n",
    "AverageWage = AverageWage.iloc[:-1]"
   ]
  },
  {
   "cell_type": "code",
   "execution_count": null,
   "metadata": {
    "cell_id": "b827882b2fc242f6ab517a6e923c8977",
    "deepnote_cell_type": "code",
    "execution_context_id": "596cabb2-e82f-4312-9087-54679cc5a9bb",
    "execution_millis": 0,
    "execution_start": 1740759580861,
    "source_hash": "fb9e8e02"
   },
   "outputs": [],
   "source": [
    "# Create a dictionary to store country sets for each DataFrame\n",
    "dfs = {\n",
    "    \"AverageWage\": AverageWage,\n",
    "    \"PersonalAllowance\": PersonalAllowance,\n",
    "    \"Threshold1\": Threshold,\n",
    "    \"Threshold2\": Threshold2,\n",
    "    \"Threshold3\": Threshold3,\n",
    "    \"Threshold4\": Threshold4,\n",
    "    \"MarginalRate1\": Marginalrate,\n",
    "    \"MarginalRate2\": Marginalrate2,\n",
    "    \"MarginalRate3\": Marginalrate3,\n",
    "    \"MarginalRate4\": Marginalrate4,\n",
    "    \"MarginalRate5\": Marginalrate5,\n",
    "}\n",
    "\n",
    "# Extract the set of country names for each DataFrame\n",
    "country_sets = {name: set(df.columns) for name, df in dfs.items()}\n",
    "\n",
    "# Find the full set of all countries across all DataFrames\n",
    "all_countries = set.union(*country_sets.values())\n",
    "missing_countries = {}\n",
    "\n",
    "for name, countries in country_sets.items():\n",
    "    missing_countries[name] = all_countries - countries  # Countries missing in this DataFrame\n",
    "\n",
    "# Print missing countries for each DataFrame\n",
    "for name, missing in missing_countries.items():\n",
    "    if missing:\n",
    "        print(f\"{name} is missing: {missing}\")"
   ]
  },
  {
   "cell_type": "code",
   "execution_count": null,
   "metadata": {
    "cell_id": "81645271555e495c92691c9e26083d0c",
    "deepnote_cell_type": "code",
    "execution_context_id": "596cabb2-e82f-4312-9087-54679cc5a9bb",
    "execution_millis": 0,
    "execution_start": 1740759580917,
    "source_hash": "5c256603"
   },
   "outputs": [],
   "source": [
    "# Dictionary mapping DataFrames to missing countries\n",
    "missing_countries = {\n",
    "    \"PersonalAllowance\": {'Colombia', 'Costa Rica'},\n",
    "    \"Threshold2\": {'Lithuania'},\n",
    "    \"Threshold3\": {'Lithuania'},\n",
    "    \"Threshold4\": {'Lithuania', 'Czechia'},\n",
    "    \"MarginalRate3\": {'Lithuania'},\n",
    "    \"MarginalRate4\": {'Lithuania'},\n",
    "    \"MarginalRate5\": {'Lithuania', 'Czechia'},\n",
    "}\n",
    "\n",
    "# Dictionary of your DataFrames\n",
    "dfs = {\n",
    "    \"PersonalAllowance\": PersonalAllowance,\n",
    "    \"Threshold2\": Threshold2,\n",
    "    \"Threshold3\": Threshold3,\n",
    "    \"Threshold4\": Threshold4,\n",
    "    \"MarginalRate3\": Marginalrate3,\n",
    "    \"MarginalRate4\": Marginalrate4,\n",
    "    \"MarginalRate5\": Marginalrate5,\n",
    "}\n",
    "\n",
    "# Add missing columns with NaN\n",
    "for name, missing_cols in missing_countries.items():\n",
    "    for col in missing_cols:\n",
    "        if col not in dfs[name].columns:\n",
    "            dfs[name][col] = np.nan"
   ]
  },
  {
   "cell_type": "code",
   "execution_count": null,
   "metadata": {
    "cell_id": "acafe4a76925450d90361300bb78c96c",
    "deepnote_cell_type": "code",
    "execution_context_id": "596cabb2-e82f-4312-9087-54679cc5a9bb",
    "execution_millis": 0,
    "execution_start": 1740759580973,
    "source_hash": "114812cf"
   },
   "outputs": [],
   "source": [
    "# Function to prepare tax parameters with proper NaN handling\n",
    "def prepare_tax_parameters(year, country):\n",
    "    # Get average wage\n",
    "    income = AverageWage.loc[year, country]\n",
    "    \n",
    "    # Handle Personal Allowance - convert NaN to 0\n",
    "    personal_allowance = PersonalAllowance.loc[year, country]\n",
    "    if pd.isna(personal_allowance):\n",
    "        personal_allowance = 0\n",
    "    \n",
    "    # Handle Thresholds - replace NaN with very high number\n",
    "    thresholds = []\n",
    "    for threshold_df in [Threshold, Threshold2, Threshold3, Threshold4]:\n",
    "        threshold_value = threshold_df.loc[year, country]\n",
    "        if pd.isna(threshold_value):\n",
    "            threshold_value = 1000000000  # 1 billion as an effectively \"infinite\" threshold\n",
    "        thresholds.append(threshold_value)\n",
    "    \n",
    "    # Handle rates - use 0 for any NaN\n",
    "    rates = []\n",
    "    for rate_df in [Marginalrate, Marginalrate2, Marginalrate3, Marginalrate4, Marginalrate5]:\n",
    "        rate_value = rate_df.loc[year, country]\n",
    "        if pd.isna(rate_value):\n",
    "            rate_value = 0\n",
    "        rates.append(rate_value)\n",
    "    \n",
    "    return income, personal_allowance, thresholds, rates"
   ]
  },
  {
   "cell_type": "code",
   "execution_count": null,
   "metadata": {
    "cell_id": "8bd31dcbb4a04c5f81a72a691dfaa1da",
    "deepnote_cell_type": "code",
    "execution_context_id": "596cabb2-e82f-4312-9087-54679cc5a9bb",
    "execution_millis": 155,
    "execution_start": 1740759581041,
    "source_hash": "f57ae188"
   },
   "outputs": [],
   "source": [
    "# Now we have imputed, I want to create one last dataset by combining other ones.\n",
    "# This dataframe will be average tax paid per person, and will be calculated using my tax dataframes and average\n",
    "# wage dataframe\n",
    "\n",
    "# Initialize a DataFrame to store tax paid by average wage earners\n",
    "AverageTaxPaid = pd.DataFrame(index=AverageWage.index, columns=AverageWage.columns)\n",
    "\n",
    "def calculate_tax(income, personal_allowance, thresholds, rates):\n",
    "    # No tax below personal allowance\n",
    "    taxable_income = max(income - personal_allowance, 0)\n",
    "    \n",
    "    # Convert rates from percentages to decimals\n",
    "    decimal_rates = [rate/100 for rate in rates]\n",
    "    \n",
    "    # Calculate tax for each bracket\n",
    "    tax = 0\n",
    "    for i in range(len(thresholds)):\n",
    "        if i == 0:\n",
    "            lower_bound = personal_allowance\n",
    "        else:\n",
    "            lower_bound = thresholds[i - 1]\n",
    "        upper_bound = thresholds[i]\n",
    "        \n",
    "        # Amount in this bracket\n",
    "        bracket_income = max(0, min(taxable_income, upper_bound - lower_bound))\n",
    "        tax += bracket_income * decimal_rates[i]\n",
    "        \n",
    "        # Reduce taxable income by the amount taxed in this bracket\n",
    "        taxable_income -= bracket_income\n",
    "    \n",
    "    # Tax for income above the highest threshold\n",
    "    if taxable_income > 0:\n",
    "        tax += taxable_income * decimal_rates[-1]\n",
    "    \n",
    "    return tax\n",
    "\n",
    "# Loop through each country and calculate tax\n",
    "for country in AverageWage.columns:\n",
    "    for year in AverageWage.index:\n",
    "        # Get the average wage for this country and year\n",
    "        income = AverageWage.loc[year, country]\n",
    "        \n",
    "        # Get tax parameters for this country and year\n",
    "        personal_allowance = PersonalAllowance.loc[year, country]\n",
    "        thresholds = [\n",
    "            Threshold.loc[year, country],\n",
    "            Threshold2.loc[year, country],\n",
    "            Threshold3.loc[year, country],\n",
    "            Threshold4.loc[year, country]\n",
    "        ]\n",
    "        rates = [\n",
    "            Marginalrate.loc[year, country],\n",
    "            Marginalrate2.loc[year, country],\n",
    "            Marginalrate3.loc[year, country],\n",
    "            Marginalrate4.loc[year, country],\n",
    "            Marginalrate5.loc[year, country]\n",
    "        ]\n",
    "        \n",
    "        # Calculate tax for this average wage earner\n",
    "        tax = calculate_tax(income, personal_allowance, thresholds, rates)\n",
    "        \n",
    "        # Store the result\n",
    "        AverageTaxPaid.loc[year, country] = tax"
   ]
  },
  {
   "cell_type": "code",
   "execution_count": null,
   "metadata": {
    "cell_id": "94c4099b699442b5a614a2c1d46ef6af",
    "deepnote_cell_type": "code",
    "execution_context_id": "596cabb2-e82f-4312-9087-54679cc5a9bb",
    "execution_millis": 0,
    "execution_start": 1740759581245,
    "source_hash": "a7b248f6"
   },
   "outputs": [],
   "source": [
    "# Making a % change version of this dataset\n",
    "\n",
    "AverageTaxPaid_perc_change = AverageTaxPaid.pct_change() * 100"
   ]
  },
  {
   "cell_type": "code",
   "execution_count": null,
   "metadata": {
    "cell_id": "25ccb375432e415680eb9939c87acb6e",
    "deepnote_cell_type": "code",
    "execution_context_id": "596cabb2-e82f-4312-9087-54679cc5a9bb",
    "execution_millis": 0,
    "execution_start": 1740759581293,
    "source_hash": "5df535ef"
   },
   "outputs": [],
   "source": [
    "Dataframes[0] = AverageTaxPaid\n",
    "Dataframes[1] = AverageTaxPaid_perc_change"
   ]
  },
  {
   "cell_type": "code",
   "execution_count": null,
   "metadata": {
    "cell_id": "d5da72a1dc514c7e80fbd6661477782e",
    "deepnote_cell_type": "code",
    "execution_context_id": "596cabb2-e82f-4312-9087-54679cc5a9bb",
    "execution_millis": 0,
    "execution_start": 1740759581341,
    "source_hash": "8e868708"
   },
   "outputs": [],
   "source": [
    "Dataframes = [d.reset_index(names=\"Year\") for d in Dataframes]"
   ]
  },
  {
   "cell_type": "code",
   "execution_count": null,
   "metadata": {
    "cell_id": "cbb3efb4a92b4a7caefe9e4c5fa7f613",
    "deepnote_cell_type": "code",
    "execution_context_id": "596cabb2-e82f-4312-9087-54679cc5a9bb",
    "execution_millis": 65,
    "execution_start": 1740759581473,
    "source_hash": "d0294c16"
   },
   "outputs": [],
   "source": [
    "for df in Dataframes:\n",
    "    df = df.apply(pd.to_numeric, errors='coerce')"
   ]
  },
  {
   "cell_type": "code",
   "execution_count": null,
   "metadata": {
    "cell_id": "34444f26625145dab69f596c1053cd35",
    "deepnote_cell_type": "code",
    "execution_context_id": "596cabb2-e82f-4312-9087-54679cc5a9bb",
    "execution_millis": 0,
    "execution_start": 1740759581589,
    "source_hash": "660d449e"
   },
   "outputs": [],
   "source": [
    "# Filtering code to be from 1990 onwards\n",
    "\n",
    "# Assuming Dataframes is your list of DataFrames\n",
    "for i, df in enumerate(Dataframes):\n",
    "    # Check if the 'Year' column contains any string values\n",
    "    if df['Year'].dtype == object:  # 'object' dtype typically indicates strings in pandas\n",
    "        try:\n",
    "            # Attempt to convert the 'Year' column to integers\n",
    "            Dataframes[i]['Year'] = pd.to_numeric(df['Year'], errors='raise')\n",
    "        except ValueError as e:\n",
    "            print(f\"DataFrame at index {i} has non-numeric 'Year' values that cannot be converted to integers: {e}\")\n",
    "            continue  # Skip this DataFrame or handle the error as needed\n",
    "\n",
    "    # Now filter the DataFrame to keep only rows where Year >= 1990\n",
    "    Dataframes[i] = df[df['Year'] >= 1990]"
   ]
  },
  {
   "cell_type": "code",
   "execution_count": null,
   "metadata": {
    "cell_id": "0a26e16d3a1347e699ab9e23491dc3a2",
    "deepnote_cell_type": "code",
    "execution_context_id": "596cabb2-e82f-4312-9087-54679cc5a9bb",
    "execution_millis": 133,
    "execution_start": 1740759581689,
    "source_hash": "522cf917"
   },
   "outputs": [],
   "source": [
    "#First, removing the columns with too many NaN values\n",
    "\n",
    "def remove_nan(df):\n",
    "    for column in df.columns:\n",
    "        if df[column].isnull().sum() / len(df) > 0.9:\n",
    "            df.drop(column, axis=1, inplace=True)\n",
    "    return df\n",
    "        \n",
    "\n",
    "for df in Dataframes:\n",
    "    df = remove_nan(df)"
   ]
  },
  {
   "cell_type": "code",
   "execution_count": null,
   "metadata": {
    "cell_id": "0399ce0a8b0a479895549e78a0f64d9d",
    "deepnote_cell_type": "code",
    "execution_context_id": "596cabb2-e82f-4312-9087-54679cc5a9bb",
    "execution_millis": 781,
    "execution_start": 1740759581880,
    "source_hash": "86644d07"
   },
   "outputs": [],
   "source": [
    "#Then using KNN for the remaining Dataframes\n",
    "\n",
    "def make_ts(df, idx):\n",
    "    if df.empty:  # Check for empty DataFrame\n",
    "        print(f\"Skipping empty DataFrame at index {idx}\")\n",
    "        return df\n",
    "    \n",
    "    df.index = pd.to_datetime(df.index, format=\"%Y\", errors=\"coerce\")\n",
    "    df.index = df.index.year  # Convert index to years\n",
    "\n",
    "    # Ensure all data is numeric\n",
    "    df = df.apply(pd.to_numeric, errors=\"coerce\")\n",
    "\n",
    "    # Replace infinite values with NaN\n",
    "    if np.isinf(df.values).any():\n",
    "        print(f\"Replacing infinities in DataFrame at index {idx}\")\n",
    "        df.replace([np.inf, -np.inf], np.nan, inplace=True)\n",
    "\n",
    "    # Drop rows/columns that are completely NaN (optional)\n",
    "    df.dropna(axis=0, how=\"all\", inplace=True)  # Drop full NaN rows\n",
    "    df.dropna(axis=1, how=\"all\", inplace=True)  # Drop full NaN columns\n",
    "\n",
    "    # Check again after cleanup\n",
    "    if df.empty:\n",
    "        print(f\"DataFrame at index {idx} became empty after cleaning, skipping.\")\n",
    "        return df\n",
    "\n",
    "    # Impute missing values using KNN\n",
    "    imputer = KNNImputer(n_neighbors=2)\n",
    "    \n",
    "    try:\n",
    "        df.loc[:, :] = imputer.fit_transform(df)\n",
    "    except ValueError as e:\n",
    "        print(f\"Imputation failed for DataFrame at index {idx}: {e}\")\n",
    "        return df  # Return as-is if imputation fails\n",
    "    \n",
    "    return df\n",
    "\n",
    "# Apply transformation to each DataFrame and track empty ones\n",
    "Dataframes = [make_ts(df, idx) for idx, df in enumerate(Dataframes)]"
   ]
  },
  {
   "cell_type": "code",
   "execution_count": null,
   "metadata": {
    "cell_id": "64369fd6de954f9c8f264250f1bef66a",
    "deepnote_cell_type": "code",
    "execution_context_id": "596cabb2-e82f-4312-9087-54679cc5a9bb",
    "execution_millis": 1,
    "execution_start": 1740759582708,
    "source_hash": "7530cd92"
   },
   "outputs": [],
   "source": [
    "#Now all the names are standardised, we can do conversions using different datasets.\n",
    "#We can go back to the Personal Allowance and the Threshold datasets and standardise the currencies to USD using the \n",
    "#\"CurrencyPerDollar\" dataset.\n",
    "\n",
    "Need_converting = [AverageTaxPaid, PersonalAllowance, Threshold, Threshold2, Threshold3, Threshold4]"
   ]
  },
  {
   "cell_type": "code",
   "execution_count": null,
   "metadata": {
    "cell_id": "68251d8c9d654a59943c826f33a13f29",
    "deepnote_cell_type": "code",
    "execution_context_id": "596cabb2-e82f-4312-9087-54679cc5a9bb",
    "execution_millis": 0,
    "execution_start": 1740759582765,
    "source_hash": "8fe23cd6"
   },
   "outputs": [],
   "source": [
    "for df in Need_converting:\n",
    "    df = df.apply(pd.to_numeric, errors='coerce')"
   ]
  },
  {
   "cell_type": "code",
   "execution_count": null,
   "metadata": {
    "cell_id": "d4f1f2cf09f84c44adcb43715e1fa008",
    "deepnote_cell_type": "code",
    "execution_context_id": "596cabb2-e82f-4312-9087-54679cc5a9bb",
    "execution_millis": 1386,
    "execution_start": 1740759582830,
    "source_hash": "41a6ad96"
   },
   "outputs": [],
   "source": [
    "def convert_to_dollars(need_converting, currency_per_dollar):\n",
    "    converted_dfs = []\n",
    "    \n",
    "    # Debug: Print data types of input DataFrames\n",
    "    print(\"Data Types in Need_converting:\")\n",
    "    for df in need_converting:\n",
    "        print(df.dtypes)\n",
    "    \n",
    "    print(\"\\nData Types in CurrencyPerDollar:\")\n",
    "    print(currency_per_dollar.dtypes)\n",
    "    \n",
    "    # Loop through each DataFrame in the Need_converting list\n",
    "    for df in need_converting:\n",
    "        # Ensure all columns in the DataFrame are numeric\n",
    "        df = df.apply(pd.to_numeric, errors='coerce')\n",
    "        \n",
    "        # Loop through the countries (columns) in the current DataFrame\n",
    "        for country in df.columns:\n",
    "            # Check if the country exists in the CurrencyPerDollar columns\n",
    "            if country in currency_per_dollar.columns:\n",
    "                # Extract the exchange rate for that country, aligning by the index (years)\n",
    "                exchange_rate = currency_per_dollar[country]\n",
    "                \n",
    "                # Ensure the exchange rate is numeric\n",
    "                exchange_rate = pd.to_numeric(exchange_rate, errors='coerce')\n",
    "                \n",
    "                # Ensure the indices (years) align. Use `reindex` to align the years of the df with CurrencyPerDollar\n",
    "                exchange_rate_aligned = exchange_rate.reindex(df.index, method='ffill')\n",
    "                \n",
    "                # Debug: Print exchange rate and aligned exchange rate\n",
    "                print(f\"\\nCountry: {country}\")\n",
    "                print(\"DataFrame Values:\")\n",
    "                print(df[country])\n",
    "                print(\"Exchange Rate Values:\")\n",
    "                print(exchange_rate_aligned)\n",
    "                \n",
    "                # Handle missing values\n",
    "                df[country] = df[country].fillna(0)\n",
    "                exchange_rate_aligned = exchange_rate_aligned.fillna(1)  # Avoid division by zero\n",
    "                \n",
    "                # Convert the values in the DataFrame to dollars (divide by exchange rate)\n",
    "                df[country] = df[country] / exchange_rate_aligned\n",
    "        \n",
    "        # Add the converted DataFrame to the list\n",
    "        converted_dfs.append(df)\n",
    "    \n",
    "    return converted_dfs\n",
    "converted_dfs = convert_to_dollars(Need_converting, CurrencyPerDollar)"
   ]
  },
  {
   "cell_type": "code",
   "execution_count": null,
   "metadata": {
    "cell_id": "1465da3bfee74bf0bcf6473beeb89a49",
    "deepnote_cell_type": "code",
    "deepnote_to_be_reexecuted": true,
    "execution_context_id": "43c6e689-bd58-4615-ba2e-a99f9b4286f1",
    "execution_millis": 0,
    "execution_start": 1740755589057,
    "source_hash": "34cd1191"
   },
   "outputs": [],
   "source": [
    "# Now I have imputed, I can convert the dtype of the index to integer and make it a column"
   ]
  },
  {
   "cell_type": "code",
   "execution_count": null,
   "metadata": {
    "cell_id": "a16b6dfdb69143c4b408c2c7a1822872",
    "deepnote_cell_type": "code",
    "deepnote_to_be_reexecuted": true
   },
   "outputs": [],
   "source": [
    "AverageTaxPaid = Dataframes[0]\n",
    "AverageTaxPaid_perc_change = Dataframes[1]\n",
    "AverageWage = Dataframes[2]\n",
    "AverageWageUSDPPP = Dataframes[3]\n",
    "AverageWageUSDPPP_perc_change = Dataframes[4]\n",
    "CorpIncomeTax = Dataframes[5]\n",
    "CorpIncomeTax_perc_change = Dataframes[6]\n",
    "CurrencyPerDollar = Dataframes[7]\n",
    "CurrencyPerDollar_perc_change = Dataframes[8]\n",
    "Inflation = Dataframes[9]\n",
    "Inflation_perc_change = Dataframes[10]\n",
    "Marginalrate = Dataframes[11]\n",
    "MarginalRate1_perc_change = Dataframes[12]\n",
    "Marginalrate2 = Dataframes[13]\n",
    "MarginalRate2_perc_change = Dataframes[14]\n",
    "Marginalrate3 = Dataframes[15]\n",
    "MarginalRate3_perc_change = Dataframes[16]\n",
    "Marginalrate4 = Dataframes[17]\n",
    "MarginalRate4_perc_change = Dataframes[18]\n",
    "Marginalrate5 = Dataframes[19]\n",
    "MarginalRate5_perc_change = Dataframes[20]\n",
    "PersonalAllowance = Dataframes[21]\n",
    "PersonalAllowance_perc_change = Dataframes[22]\n",
    "Threshold = Dataframes[23]\n",
    "Threshold1_perc_change = Dataframes[24]\n",
    "Threshold2 = Dataframes[25]\n",
    "Threshold2_perc_change = Dataframes[26]\n",
    "Threshold3 = Dataframes[27]\n",
    "Threshold3_perc_change = Dataframes[28]\n",
    "Threshold4 = Dataframes[29]\n",
    "Threshold4_perc_change = Dataframes[30]\n",
    "Unemployment = Dataframes[31]\n",
    "Unemployment_perc_change = Dataframes[32]\n",
    "VAT = Dataframes[33]\n",
    "VAT_perc_change = Dataframes[34]"
   ]
  },
  {
   "cell_type": "code",
   "execution_count": null,
   "metadata": {
    "cell_id": "5ca121eef83e42fca90a1021e4a10af7",
    "deepnote_cell_type": "code",
    "deepnote_to_be_reexecuted": true,
    "execution_context_id": "43c6e689-bd58-4615-ba2e-a99f9b4286f1",
    "execution_millis": 0,
    "execution_start": 1740755469521,
    "source_hash": "c6ecf1e5"
   },
   "outputs": [],
   "source": [
    "#I now have my set of standardised Dataframes :)"
   ]
  },
  {
   "cell_type": "code",
   "execution_count": null,
   "metadata": {
    "cell_id": "bb20922aa1be4cc39b69158b61cbb69b",
    "deepnote_cell_type": "code",
    "deepnote_to_be_reexecuted": true,
    "execution_context_id": "43c6e689-bd58-4615-ba2e-a99f9b4286f1",
    "execution_millis": 0,
    "execution_start": 1740755469573,
    "source_hash": "77dbf4b"
   },
   "outputs": [],
   "source": [
    "# Melting the dfs to reformat them "
   ]
  },
  {
   "cell_type": "code",
   "execution_count": null,
   "metadata": {
    "cell_id": "9d2430bdb9814f7abaaabd0be16b9b38",
    "deepnote_cell_type": "code",
    "deepnote_to_be_reexecuted": true,
    "execution_context_id": "43c6e689-bd58-4615-ba2e-a99f9b4286f1",
    "execution_millis": 377,
    "execution_start": 1740755469661,
    "source_hash": "da71c148"
   },
   "outputs": [],
   "source": [
    "# Melt AverageTaxPaid\n",
    "AverageTaxPaid_melted = pd.melt(\n",
    "    AverageTaxPaid,\n",
    "    id_vars=['Year'],  # Keep 'Year' as the identifier\n",
    "    value_vars=AverageTaxPaid.columns[1:],  # Melt all columns except 'Year'\n",
    "    var_name='Country Name',  # Rename the variable column to 'Country Name'\n",
    "    value_name='AverageTaxPaid'  # Rename the value column to 'CorpIncomeTax'\n",
    ")\n",
    "AverageTaxPaid_melted = AverageTaxPaid_melted.sort_values(by=['Year', 'Country Name']).reset_index(drop=True)\n",
    "\n",
    "# Melt AverageTaxPaid_perc_change\n",
    "AverageTaxPaid_perc_change_melted = pd.melt(\n",
    "    AverageTaxPaid_perc_change,\n",
    "    id_vars=['Year'],  # Keep 'Year' as the identifier\n",
    "    value_vars=AverageTaxPaid_perc_change.columns[1:],  # Melt all columns except 'Year'\n",
    "    var_name='Country Name',  # Rename the variable column to 'Country Name'\n",
    "    value_name='AverageTaxPaid_perc_change'  # Rename the value column to 'CorpIncomeTax'\n",
    ")\n",
    "AverageTaxPaid_perc_change_melted = AverageTaxPaid_perc_change_melted.sort_values(by=['Year', 'Country Name']).reset_index(drop=True)\n",
    "\n",
    "# Melt AverageWageUSDPPP\n",
    "AverageWageUSDPPP_melted = pd.melt(\n",
    "    AverageWageUSDPPP,\n",
    "    id_vars=['Year'],  # Keep 'Year' as the identifier\n",
    "    value_vars=AverageWageUSDPPP.columns[1:],  # Melt all columns except 'Year'\n",
    "    var_name='Country Name',  # Rename the variable column to 'Country Name'\n",
    "    value_name='AverageWageUSDPPP'  # Rename the value column to 'CorpIncomeTax'\n",
    ")\n",
    "AverageWageUSDPPP_melted = AverageWageUSDPPP_melted.sort_values(by=['Year', 'Country Name']).reset_index(drop=True)\n",
    "\n",
    "# Melt AverageWageUSDPPP_perc_chanbge\n",
    "AverageWageUSDPPP_perc_change_melted = pd.melt(\n",
    "    AverageWageUSDPPP_perc_change,\n",
    "    id_vars=['Year'],  # Keep 'Year' as the identifier\n",
    "    value_vars=AverageWageUSDPPP_perc_change.columns[1:],  # Melt all columns except 'Year'\n",
    "    var_name='Country Name',  # Rename the variable column to 'Country Name'\n",
    "    value_name='AverageWageUSDPPP_perc_change'  # Rename the value column to 'CorpIncomeTax'\n",
    ")\n",
    "AverageWageUSDPPP_perc_change_melted = AverageWageUSDPPP_perc_change_melted.sort_values(by=['Year', 'Country Name']).reset_index(drop=True)\n",
    "\n",
    "# Melt CorpIncomeTax\n",
    "CorpIncomeTax_melted = pd.melt(\n",
    "    CorpIncomeTax,\n",
    "    id_vars=['Year'],  # Keep 'Year' as the identifier\n",
    "    value_vars=CorpIncomeTax.columns[1:],  # Melt all columns except 'Year'\n",
    "    var_name='Country Name',  # Rename the variable column to 'Country Name'\n",
    "    value_name='CorpIncomeTax'  # Rename the value column to 'CorpIncomeTax'\n",
    ")\n",
    "CorpIncomeTax_melted = CorpIncomeTax_melted.sort_values(by=['Year', 'Country Name']).reset_index(drop=True)\n",
    "\n",
    "# Melt CorpIncomeTax_perc_change\n",
    "CorpIncomeTax_perc_change_melted = pd.melt(\n",
    "    CorpIncomeTax_perc_change,\n",
    "    id_vars=['Year'],  # Keep 'Year' as the identifier\n",
    "    value_vars=CorpIncomeTax_perc_change.columns[1:],  # Melt all columns except 'Year'\n",
    "    var_name='Country Name',  # Rename the variable column to 'Country Name'\n",
    "    value_name='CorpIncomeTax_perc_change'  # Rename the value column to 'CorpIncomeTax_perc_change'\n",
    ")\n",
    "\n",
    "CorpIncomeTax_perc_change_melted = CorpIncomeTax_perc_change_melted.sort_values(by=['Year', 'Country Name']).reset_index(drop=True)\n",
    "\n",
    "# CurrencyPerDollar\n",
    "CurrencyPerDollar_melted = pd.melt(CurrencyPerDollar, id_vars=['Year'], \n",
    "                                  value_vars=CurrencyPerDollar.columns[1:], \n",
    "                                  var_name='Country Name', \n",
    "                                  value_name='CurrencyPerDollar')\n",
    "CurrencyPerDollar_melted = CurrencyPerDollar_melted.sort_values(by=['Year', 'Country Name']).reset_index(drop=True)\n",
    "\n",
    "# CurrencyPerDollar_perc_change\n",
    "CurrencyPerDollar_perc_change_melted = pd.melt(CurrencyPerDollar_perc_change, id_vars=['Year'], \n",
    "                                              value_vars=CurrencyPerDollar_perc_change.columns[1:], \n",
    "                                              var_name='Country Name', \n",
    "                                              value_name='CurrencyPerDollar_perc_change')\n",
    "CurrencyPerDollar_perc_change_melted = CurrencyPerDollar_perc_change_melted.sort_values(by=['Year', 'Country Name']).reset_index(drop=True)\n",
    "\n",
    "# Inflation\n",
    "Inflation_melted = pd.melt(Inflation, id_vars=['Year'], \n",
    "                          value_vars=Inflation.columns[1:], \n",
    "                          var_name='Country Name', \n",
    "                          value_name='Inflation')\n",
    "Inflation_melted = Inflation_melted.sort_values(by=['Year', 'Country Name']).reset_index(drop=True)\n",
    "\n",
    "# Inflation_perc_change\n",
    "Inflation_perc_change_melted = pd.melt(Inflation_perc_change, id_vars=['Year'], \n",
    "                                      value_vars=Inflation_perc_change.columns[1:], \n",
    "                                      var_name='Country Name', \n",
    "                                      value_name='Inflation_perc_change')\n",
    "Inflation_perc_change_melted = Inflation_perc_change_melted.sort_values(by=['Year', 'Country Name']).reset_index(drop=True)\n",
    "\n",
    "# MarginalRate1\n",
    "MarginalRate1_melted = pd.melt(Marginalrate, id_vars=['Year'], \n",
    "                              value_vars=Marginalrate.columns[1:], \n",
    "                              var_name='Country Name', \n",
    "                              value_name='Marginalrate')\n",
    "MarginalRate1_melted = MarginalRate1_melted.sort_values(by=['Year', 'Country Name']).reset_index(drop=True)\n",
    "\n",
    "# MarginalRate1_perc_change\n",
    "MarginalRate1_perc_change_melted = pd.melt(MarginalRate1_perc_change, id_vars=['Year'], \n",
    "                                          value_vars=MarginalRate1_perc_change.columns[1:], \n",
    "                                          var_name='Country Name', \n",
    "                                          value_name='MarginalRate1_perc_change')\n",
    "MarginalRate1_perc_change_melted = MarginalRate1_perc_change_melted.sort_values(by=['Year', 'Country Name']).reset_index(drop=True)\n",
    "\n",
    "# MarginalRate2\n",
    "MarginalRate2_melted = pd.melt(Marginalrate2, id_vars=['Year'], \n",
    "                              value_vars=Marginalrate2.columns[1:], \n",
    "                              var_name='Country Name', \n",
    "                              value_name='Marginalrate2')\n",
    "MarginalRate2_melted = MarginalRate2_melted.sort_values(by=['Year', 'Country Name']).reset_index(drop=True)\n",
    "\n",
    "# MarginalRate2_perc_change\n",
    "MarginalRate2_perc_change_melted = pd.melt(MarginalRate2_perc_change, id_vars=['Year'], \n",
    "                                          value_vars=MarginalRate2_perc_change.columns[1:], \n",
    "                                          var_name='Country Name', \n",
    "                                          value_name='MarginalRate2_perc_change')\n",
    "MarginalRate2_perc_change_melted = MarginalRate2_perc_change_melted.sort_values(by=['Year', 'Country Name']).reset_index(drop=True)\n",
    "\n",
    "# MarginalRate3\n",
    "MarginalRate3_melted = pd.melt(Marginalrate3, id_vars=['Year'], \n",
    "                              value_vars=Marginalrate3.columns[1:], \n",
    "                              var_name='Country Name', \n",
    "                              value_name='Marginalrate3')\n",
    "MarginalRate3_melted = MarginalRate3_melted.sort_values(by=['Year', 'Country Name']).reset_index(drop=True)\n",
    "\n",
    "# MarginalRate3_perc_change\n",
    "MarginalRate3_perc_change_melted = pd.melt(MarginalRate3_perc_change, id_vars=['Year'], \n",
    "                                          value_vars=MarginalRate3_perc_change.columns[1:], \n",
    "                                          var_name='Country Name', \n",
    "                                          value_name='MarginalRate3_perc_change')\n",
    "MarginalRate3_perc_change_melted = MarginalRate3_perc_change_melted.sort_values(by=['Year', 'Country Name']).reset_index(drop=True)\n",
    "\n",
    "# MarginalRate4\n",
    "MarginalRate4_melted = pd.melt(Marginalrate4, id_vars=['Year'], \n",
    "                              value_vars=Marginalrate4.columns[1:], \n",
    "                              var_name='Country Name', \n",
    "                              value_name='Marginalrate4')\n",
    "MarginalRate4_melted = MarginalRate4_melted.sort_values(by=['Year', 'Country Name']).reset_index(drop=True)\n",
    "\n",
    "# MarginalRate4_perc_change\n",
    "MarginalRate4_perc_change_melted = pd.melt(MarginalRate4_perc_change, id_vars=['Year'], \n",
    "                                          value_vars=MarginalRate4_perc_change.columns[1:], \n",
    "                                          var_name='Country Name', \n",
    "                                          value_name='MarginalRate4_perc_change')\n",
    "MarginalRate4_perc_change_melted = MarginalRate4_perc_change_melted.sort_values(by=['Year', 'Country Name']).reset_index(drop=True)\n",
    "\n",
    "# MarginalRate5\n",
    "MarginalRate5_melted = pd.melt(Marginalrate5, id_vars=['Year'], \n",
    "                              value_vars=Marginalrate5.columns[1:], \n",
    "                              var_name='Country Name', \n",
    "                              value_name='Marginalrate5')\n",
    "MarginalRate5_melted = MarginalRate5_melted.sort_values(by=['Year', 'Country Name']).reset_index(drop=True)\n",
    "\n",
    "# MarginalRate5_perc_change\n",
    "MarginalRate5_perc_change_melted = pd.melt(MarginalRate5_perc_change, id_vars=['Year'], \n",
    "                              value_vars=MarginalRate5_perc_change.columns[1:], \n",
    "                              var_name='Country Name', \n",
    "                              value_name='MarginalRate5_perc_change')\n",
    "MarginalRate5_perc_change_melted = MarginalRate5_perc_change_melted.sort_values(by=['Year', 'Country Name']).reset_index(drop=True)\n",
    "\n",
    "# PersonalAllowance\n",
    "PersonalAllowance_melted = pd.melt(PersonalAllowance, id_vars=['Year'], \n",
    "                                  value_vars=PersonalAllowance.columns[1:], \n",
    "                                  var_name='Country Name', \n",
    "                                  value_name='PersonalAllowance')\n",
    "PersonalAllowance_melted = PersonalAllowance_melted.sort_values(by=['Year', 'Country Name']).reset_index(drop=True)\n",
    "\n",
    "# PersonalAllowance_perc_change\n",
    "PersonalAllowance_perc_change_melted = pd.melt(PersonalAllowance_perc_change, id_vars=['Year'], \n",
    "                                              value_vars=PersonalAllowance_perc_change.columns[1:], \n",
    "                                              var_name='Country Name', \n",
    "                                              value_name='PersonalAllowance_perc_change')\n",
    "PersonalAllowance_perc_change_melted = PersonalAllowance_perc_change_melted.sort_values(by=['Year', 'Country Name']).reset_index(drop=True)\n",
    "\n",
    "# Threshold1\n",
    "Threshold1_melted = pd.melt(Threshold, id_vars=['Year'], \n",
    "                           value_vars=Threshold.columns[1:], \n",
    "                           var_name='Country Name', \n",
    "                           value_name='Threshold')\n",
    "Threshold1_melted = Threshold1_melted.sort_values(by=['Year', 'Country Name']).reset_index(drop=True)\n",
    "\n",
    "# Threshold1_perc_change\n",
    "Threshold1_perc_change_melted = pd.melt(Threshold1_perc_change, id_vars=['Year'], \n",
    "                                       value_vars=Threshold1_perc_change.columns[1:], \n",
    "                                       var_name='Country Name', \n",
    "                                       value_name='Threshold1_perc_change')\n",
    "Threshold1_perc_change_melted = Threshold1_perc_change_melted.sort_values(by=['Year', 'Country Name']).reset_index(drop=True)\n",
    "\n",
    "# Threshold2\n",
    "Threshold2_melted = pd.melt(Threshold2, id_vars=['Year'], \n",
    "                           value_vars=Threshold2.columns[1:], \n",
    "                           var_name='Country Name', \n",
    "                           value_name='Threshold2')\n",
    "Threshold2_melted = Threshold2_melted.sort_values(by=['Year', 'Country Name']).reset_index(drop=True)\n",
    "\n",
    "# Threshold2_perc_change\n",
    "Threshold2_perc_change_melted = pd.melt(Threshold2_perc_change, id_vars=['Year'], \n",
    "                                       value_vars=Threshold2_perc_change.columns[1:], \n",
    "                                       var_name='Country Name', \n",
    "                                       value_name='Threshold2_perc_change')\n",
    "Threshold2_perc_change_melted = Threshold2_perc_change_melted.sort_values(by=['Year', 'Country Name']).reset_index(drop=True)\n",
    "\n",
    "# Threshold3\n",
    "Threshold3_melted = pd.melt(Threshold3, id_vars=['Year'], \n",
    "                           value_vars=Threshold3.columns[1:], \n",
    "                           var_name='Country Name', \n",
    "                           value_name='Threshold3')\n",
    "Threshold3_melted = Threshold3_melted.sort_values(by=['Year', 'Country Name']).reset_index(drop=True)\n",
    "\n",
    "# Threshold3_perc_change\n",
    "Threshold3_perc_change_melted = pd.melt(Threshold3_perc_change, id_vars=['Year'], \n",
    "                                       value_vars=Threshold3_perc_change.columns[1:], \n",
    "                                       var_name='Country Name', \n",
    "                                       value_name='Threshold3_perc_change')\n",
    "Threshold3_perc_change_melted = Threshold3_perc_change_melted.sort_values(by=['Year', 'Country Name']).reset_index(drop=True)\n",
    "\n",
    "# Threshold4\n",
    "Threshold4_melted = pd.melt(Threshold4, id_vars=['Year'], \n",
    "                           value_vars=Threshold4.columns[1:], \n",
    "                           var_name='Country Name', \n",
    "                           value_name='Threshold4')\n",
    "Threshold4_melted = Threshold4_melted.sort_values(by=['Year', 'Country Name']).reset_index(drop=True)\n",
    "\n",
    "# Threshold4_perc_change\n",
    "Threshold4_perc_change_melted = pd.melt(Threshold4_perc_change, id_vars=['Year'], \n",
    "                                       value_vars=Threshold4_perc_change.columns[1:], \n",
    "                                       var_name='Country Name', \n",
    "                                       value_name='Threshold4_perc_change')\n",
    "Threshold4_perc_change_melted = Threshold4_perc_change_melted.sort_values(by=['Year', 'Country Name']).reset_index(drop=True)\n",
    "\n",
    "# Unemployment\n",
    "Unemployment_melted = pd.melt(Unemployment, id_vars=['Year'], \n",
    "                             value_vars=Unemployment.columns[1:], \n",
    "                             var_name='Country Name', \n",
    "                             value_name='Unemployment')\n",
    "Unemployment_melted = Unemployment_melted.sort_values(by=['Year', 'Country Name']).reset_index(drop=True)\n",
    "\n",
    "# Unemployment_perc_change\n",
    "Unemployment_perc_change_melted = pd.melt(Unemployment_perc_change, id_vars=['Year'], \n",
    "                                         value_vars=Unemployment_perc_change.columns[1:], \n",
    "                                         var_name='Country Name', \n",
    "                                         value_name='Unemployment_perc_change')\n",
    "Unemployment_perc_change_melted = Unemployment_perc_change_melted.sort_values(by=['Year', 'Country Name']).reset_index(drop=True)\n",
    "\n",
    "# VAT\n",
    "VAT_melted = pd.melt(VAT, id_vars=['Year'], \n",
    "                     value_vars=VAT.columns[1:], \n",
    "                     var_name='Country Name', \n",
    "                     value_name='VAT')\n",
    "VAT_melted = VAT_melted.sort_values(by=['Year', 'Country Name']).reset_index(drop=True)\n",
    "\n",
    "# VAT_perc_change\n",
    "VAT_perc_change_melted = pd.melt(VAT_perc_change, id_vars=['Year'], \n",
    "                                value_vars=VAT_perc_change.columns[1:], \n",
    "                                var_name='Country Name', \n",
    "                                value_name='VAT_perc_change')\n",
    "VAT_perc_change_melted = VAT_perc_change_melted.sort_values(by=['Year', 'Country Name']).reset_index(drop=True)"
   ]
  },
  {
   "cell_type": "code",
   "execution_count": null,
   "metadata": {
    "cell_id": "312093019808494a86bfa35054f0280b",
    "deepnote_cell_type": "code",
    "deepnote_to_be_reexecuted": true,
    "execution_context_id": "43c6e689-bd58-4615-ba2e-a99f9b4286f1",
    "execution_millis": 0,
    "execution_start": 1740755470081,
    "source_hash": "4af71dec"
   },
   "outputs": [],
   "source": [
    "Melted_Dataframes = [AverageTaxPaid_melted, AverageTaxPaid_perc_change_melted, AverageWageUSDPPP_melted,  \n",
    "AverageWageUSDPPP_perc_change_melted, CurrencyPerDollar_melted,CurrencyPerDollar_perc_change_melted,\n",
    "Inflation_melted,Inflation_perc_change_melted,MarginalRate1_melted,MarginalRate1_perc_change_melted,\n",
    "    MarginalRate2_melted,MarginalRate2_perc_change_melted,MarginalRate3_melted, MarginalRate3_perc_change_melted,\n",
    "    MarginalRate4_melted,MarginalRate4_perc_change_melted,MarginalRate5_melted, MarginalRate5_perc_change_melted,\n",
    "    PersonalAllowance_melted,PersonalAllowance_perc_change_melted,Threshold1_melted,\n",
    "    Threshold1_perc_change_melted,Threshold2_melted,Threshold2_perc_change_melted,Threshold3_melted,\n",
    "    Threshold3_perc_change_melted,Threshold4_melted,Threshold4_perc_change_melted,Unemployment_melted,\n",
    "    Unemployment_perc_change_melted,VAT_melted,VAT_perc_change_melted\n",
    "]"
   ]
  },
  {
   "cell_type": "code",
   "execution_count": null,
   "metadata": {
    "cell_id": "c2835c7d9c464959a6eda4e8021cd212",
    "deepnote_cell_type": "code",
    "deepnote_table_loading": false,
    "deepnote_table_state": {
     "cellFormattingRules": [],
     "columnDisplayNames": [],
     "columnOrder": [
      "Year",
      "Country Name",
      "CurrencyPerDollar",
      "CurrencyPerDollar_perc_change",
      "Inflation",
      "Inflation_perc_change",
      "MarginalRate1",
      "MarginalRate1_perc_change",
      "MarginalRate2",
      "MarginalRate2_perc_change",
      "MarginalRate3",
      "MarginalRate3_perc_change",
      "MarginalRate4",
      "MarginalRate4_perc_change",
      "MarginalRate5",
      "PersonalAllowance",
      "PersonalAllowance_perc_change",
      "Threshold1",
      "Threshold1_perc_change",
      "Threshold2",
      "Threshold2_perc_change",
      "Threshold3",
      "Threshold3_perc_change",
      "Threshold4",
      "Threshold4_perc_change",
      "Unemployment",
      "Unemployment_perc_change",
      "VAT",
      "VAT_perc_change"
     ],
     "conditionalFilters": [],
     "filters": [],
     "hiddenColumnIds": [],
     "pageIndex": 2,
     "pageSize": 10,
     "sortBy": [],
     "wrappedTextColumnIds": []
    },
    "deepnote_to_be_reexecuted": true,
    "execution_context_id": "43c6e689-bd58-4615-ba2e-a99f9b4286f1",
    "execution_millis": 398,
    "execution_start": 1740755470157,
    "source_hash": "1e7e971e"
   },
   "outputs": [],
   "source": [
    "# Merge all DataFrames iteratively\n",
    "Matt = Melted_Dataframes[0]  # Start with the first DataFrame\n",
    "Matt = AverageTaxPaid_melted\n",
    "for df in Melted_Dataframes[1:]:\n",
    "    Matt = pd.merge(Matt, df, on=['Year', 'Country Name'], how='outer')  # Adjust 'on' and 'how' as needed\n",
    "Matt"
   ]
  },
  {
   "cell_type": "code",
   "execution_count": null,
   "metadata": {
    "cell_id": "b03e3eeecde24b438dc3e87b7c146d2d",
    "deepnote_cell_type": "code",
    "deepnote_to_be_reexecuted": true,
    "execution_context_id": "43c6e689-bd58-4615-ba2e-a99f9b4286f1",
    "execution_millis": 0,
    "execution_start": 1740755470605,
    "source_hash": "4cf962df"
   },
   "outputs": [],
   "source": [
    "Matt.isna().sum()"
   ]
  },
  {
   "cell_type": "code",
   "execution_count": null,
   "metadata": {
    "cell_id": "1352a09cb6ff4b0a8f1f166badce4ba0",
    "deepnote_cell_type": "code",
    "deepnote_to_be_reexecuted": true,
    "execution_context_id": "43c6e689-bd58-4615-ba2e-a99f9b4286f1",
    "execution_millis": 279,
    "execution_start": 1740755470663,
    "source_hash": "fcf25de1"
   },
   "outputs": [],
   "source": [
    "Matt.to_csv('/dataset/econ_merged_2.csv', index=False)"
   ]
  }
 ],
 "metadata": {
  "deepnote_notebook_id": "2b24ccea3b9a479a905779e764386fe5",
  "deepnote_persisted_session": {
   "createdAt": "2025-02-28T16:08:53.140Z"
  },
  "kernelspec": {
   "display_name": "Python 3 (ipykernel)",
   "language": "python",
   "name": "python3"
  },
  "language_info": {
   "codemirror_mode": {
    "name": "ipython",
    "version": 3
   },
   "file_extension": ".py",
   "mimetype": "text/x-python",
   "name": "python",
   "nbconvert_exporter": "python",
   "pygments_lexer": "ipython3",
   "version": "3.12.4"
  }
 },
 "nbformat": 4,
 "nbformat_minor": 4
}
