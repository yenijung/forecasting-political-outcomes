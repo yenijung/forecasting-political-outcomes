{
 "cells": [
  {
   "cell_type": "markdown",
   "metadata": {
    "cell_id": "be6ba2c9ad2c45c5918aed059a56c8d0",
    "deepnote_cell_type": "markdown",
    "id": "uVKW6t4EKNKn"
   },
   "source": [
    "## **Urbanisation**"
   ]
  },
  {
   "cell_type": "markdown",
   "metadata": {
    "cell_id": "7516cc6d59e3458aaea27c363d5b1927",
    "deepnote_cell_type": "text-cell-h2",
    "formattedRanges": []
   },
   "source": [
    "## Data Importing & Cleaning"
   ]
  },
  {
   "cell_type": "markdown",
   "metadata": {
    "cell_id": "0eba8512393f49d9aaa51c6bbcceaf32",
    "deepnote_cell_type": "markdown",
    "id": "24E0LtuHJFVQ"
   },
   "source": [
    "##### Loading the Data"
   ]
  },
  {
   "cell_type": "code",
   "execution_count": 1,
   "metadata": {
    "cell_id": "f18cef173e33467e9de1263597dfb063",
    "deepnote_cell_type": "code",
    "execution_context_id": "f88d9dd5-f11a-4387-a743-90b1155ea7b3",
    "execution_millis": 913,
    "execution_start": 1743089358171,
    "id": "peLhxGWnGS0k",
    "source_hash": "cc9422c9"
   },
   "outputs": [],
   "source": [
    "# Import the libraries\n",
    "import pandas as pd\n",
    "import numpy as np\n",
    "import matplotlib.pyplot as plt\n",
    "import seaborn as sns\n",
    "import warnings\n",
    "warnings.filterwarnings('ignore')"
   ]
  },
  {
   "cell_type": "code",
   "execution_count": 2,
   "metadata": {
    "cell_id": "1dcc3f0e9f1142c2b3880298cd76f2d5",
    "deepnote_cell_type": "code",
    "execution_context_id": "f88d9dd5-f11a-4387-a743-90b1155ea7b3",
    "execution_millis": 327,
    "execution_start": 1743089359141,
    "id": "GJfBZfFKGfpV",
    "source_hash": "375e1ba8"
   },
   "outputs": [],
   "source": [
    "# Load the urbanisation data\n",
    "urban_df = pd.read_excel(\"/dataset/social/API_SP.URB.TOTL.IN.ZS_DS2_en_excel_v2_163.xls\")"
   ]
  },
  {
   "cell_type": "markdown",
   "metadata": {
    "cell_id": "5e33a23ece8d472eb54b6e6aae9e482a",
    "deepnote_cell_type": "markdown",
    "id": "1xD6SeAIrkfG"
   },
   "source": [
    "##### Inspecting the Data"
   ]
  },
  {
   "cell_type": "code",
   "execution_count": 3,
   "metadata": {
    "cell_id": "5c4aa444ebf74072a34d9107e0907770",
    "colab": {
     "base_uri": "https://localhost:8080/",
     "height": 417
    },
    "deepnote_cell_type": "code",
    "execution_context_id": "f88d9dd5-f11a-4387-a743-90b1155ea7b3",
    "execution_millis": 6,
    "execution_start": 1743089359586,
    "id": "XRylvJNRJXvM",
    "outputId": "4c373394-2f03-4cd4-dc0a-31c3f63f13ef",
    "source_hash": "caa0e925"
   },
   "outputs": [
    {
     "data": {
      "application/vnd.deepnote.dataframe.v3+json": {
       "column_count": 68,
       "columns": [
        {
         "dtype": "object",
         "name": "Data Source",
         "stats": {
          "categories": [
           {
            "count": 1,
            "name": "Last Updated Date"
           },
           {
            "count": 3,
            "name": "3 others"
           },
           {
            "count": 1,
            "name": "Missing"
           }
          ],
          "nan_count": 1,
          "unique_count": 4
         }
        },
        {
         "dtype": "object",
         "name": "World Development Indicators",
         "stats": {
          "categories": [
           {
            "count": 1,
            "name": "2025-01-28 00:00:00"
           },
           {
            "count": 3,
            "name": "3 others"
           },
           {
            "count": 1,
            "name": "Missing"
           }
          ],
          "nan_count": 1,
          "unique_count": 4
         }
        },
        {
         "dtype": "object",
         "name": "Unnamed: 2",
         "stats": {
          "categories": [
           {
            "count": 2,
            "name": "Urban population (% of total population)"
           },
           {
            "count": 1,
            "name": "Indicator Name"
           },
           {
            "count": 2,
            "name": "Missing"
           }
          ],
          "nan_count": 2,
          "unique_count": 2
         }
        },
        {
         "dtype": "object",
         "name": "Unnamed: 3",
         "stats": {
          "categories": [
           {
            "count": 2,
            "name": "SP.URB.TOTL.IN.ZS"
           },
           {
            "count": 1,
            "name": "Indicator Code"
           },
           {
            "count": 2,
            "name": "Missing"
           }
          ],
          "nan_count": 2,
          "unique_count": 2
         }
        },
        {
         "dtype": "float64",
         "name": "Unnamed: 4",
         "stats": {
          "histogram": [
           {
            "bin_end": 209.11900881236542,
            "bin_start": 14.5766764581838,
            "count": 2
           },
           {
            "bin_end": 403.661341166547,
            "bin_start": 209.11900881236542,
            "count": 0
           },
           {
            "bin_end": 598.2036735207287,
            "bin_start": 403.661341166547,
            "count": 0
           },
           {
            "bin_end": 792.7460058749102,
            "bin_start": 598.2036735207287,
            "count": 0
           },
           {
            "bin_end": 987.2883382290918,
            "bin_start": 792.7460058749102,
            "count": 0
           },
           {
            "bin_end": 1181.8306705832736,
            "bin_start": 987.2883382290918,
            "count": 0
           },
           {
            "bin_end": 1376.373002937455,
            "bin_start": 1181.8306705832736,
            "count": 0
           },
           {
            "bin_end": 1570.9153352916367,
            "bin_start": 1376.373002937455,
            "count": 0
           },
           {
            "bin_end": 1765.4576676458182,
            "bin_start": 1570.9153352916367,
            "count": 0
           },
           {
            "bin_end": 1960,
            "bin_start": 1765.4576676458182,
            "count": 1
           }
          ],
          "max": "1960.0",
          "min": "14.5766764581838",
          "nan_count": 2,
          "unique_count": 3
         }
        },
        {
         "dtype": "float64",
         "name": "Unnamed: 5",
         "stats": {
          "histogram": [
           {
            "bin_end": 209.44265772145988,
            "bin_start": 14.825175246066529,
            "count": 2
           },
           {
            "bin_end": 404.06014019685324,
            "bin_start": 209.44265772145988,
            "count": 0
           },
           {
            "bin_end": 598.6776226722467,
            "bin_start": 404.06014019685324,
            "count": 0
           },
           {
            "bin_end": 793.29510514764,
            "bin_start": 598.6776226722467,
            "count": 0
           },
           {
            "bin_end": 987.9125876230333,
            "bin_start": 793.29510514764,
            "count": 0
           },
           {
            "bin_end": 1182.5300700984267,
            "bin_start": 987.9125876230333,
            "count": 0
           },
           {
            "bin_end": 1377.14755257382,
            "bin_start": 1182.5300700984267,
            "count": 0
           },
           {
            "bin_end": 1571.7650350492133,
            "bin_start": 1377.14755257382,
            "count": 0
           },
           {
            "bin_end": 1766.3825175246068,
            "bin_start": 1571.7650350492133,
            "count": 0
           },
           {
            "bin_end": 1961,
            "bin_start": 1766.3825175246068,
            "count": 1
           }
          ],
          "max": "1961.0",
          "min": "14.825175246066529",
          "nan_count": 2,
          "unique_count": 3
         }
        },
        {
         "dtype": "float64",
         "name": "Unnamed: 6",
         "stats": {
          "histogram": [
           {
            "bin_end": 209.7754213765418,
            "bin_start": 15.083801529490866,
            "count": 2
           },
           {
            "bin_end": 404.46704122359273,
            "bin_start": 209.7754213765418,
            "count": 0
           },
           {
            "bin_end": 599.1586610706437,
            "bin_start": 404.46704122359273,
            "count": 0
           },
           {
            "bin_end": 793.8502809176946,
            "bin_start": 599.1586610706437,
            "count": 0
           },
           {
            "bin_end": 988.5419007647455,
            "bin_start": 793.8502809176946,
            "count": 0
           },
           {
            "bin_end": 1183.2335206117964,
            "bin_start": 988.5419007647455,
            "count": 0
           },
           {
            "bin_end": 1377.9251404588472,
            "bin_start": 1183.2335206117964,
            "count": 0
           },
           {
            "bin_end": 1572.6167603058982,
            "bin_start": 1377.9251404588472,
            "count": 0
           },
           {
            "bin_end": 1767.3083801529492,
            "bin_start": 1572.6167603058982,
            "count": 0
           },
           {
            "bin_end": 1962,
            "bin_start": 1767.3083801529492,
            "count": 1
           }
          ],
          "max": "1962.0",
          "min": "15.083801529490866",
          "nan_count": 2,
          "unique_count": 3
         }
        },
        {
         "dtype": "float64",
         "name": "Unnamed: 7",
         "stats": {
          "histogram": [
           {
            "bin_end": 210.12674017442453,
            "bin_start": 15.363044638249487,
            "count": 2
           },
           {
            "bin_end": 404.8904357105996,
            "bin_start": 210.12674017442453,
            "count": 0
           },
           {
            "bin_end": 599.6541312467746,
            "bin_start": 404.8904357105996,
            "count": 0
           },
           {
            "bin_end": 794.4178267829496,
            "bin_start": 599.6541312467746,
            "count": 0
           },
           {
            "bin_end": 989.1815223191247,
            "bin_start": 794.4178267829496,
            "count": 0
           },
           {
            "bin_end": 1183.9452178552997,
            "bin_start": 989.1815223191247,
            "count": 0
           },
           {
            "bin_end": 1378.7089133914749,
            "bin_start": 1183.9452178552997,
            "count": 0
           },
           {
            "bin_end": 1573.4726089276498,
            "bin_start": 1378.7089133914749,
            "count": 0
           },
           {
            "bin_end": 1768.2363044638248,
            "bin_start": 1573.4726089276498,
            "count": 0
           },
           {
            "bin_end": 1963,
            "bin_start": 1768.2363044638248,
            "count": 1
           }
          ],
          "max": "1963.0",
          "min": "15.363044638249487",
          "nan_count": 2,
          "unique_count": 3
         }
        },
        {
         "dtype": "float64",
         "name": "Unnamed: 8",
         "stats": {
          "histogram": [
           {
            "bin_end": 210.48984498256965,
            "bin_start": 15.655383313966269,
            "count": 2
           },
           {
            "bin_end": 405.32430665117306,
            "bin_start": 210.48984498256965,
            "count": 0
           },
           {
            "bin_end": 600.1587683197764,
            "bin_start": 405.32430665117306,
            "count": 0
           },
           {
            "bin_end": 794.9932299883798,
            "bin_start": 600.1587683197764,
            "count": 0
           },
           {
            "bin_end": 989.8276916569831,
            "bin_start": 794.9932299883798,
            "count": 0
           },
           {
            "bin_end": 1184.6621533255866,
            "bin_start": 989.8276916569831,
            "count": 0
           },
           {
            "bin_end": 1379.49661499419,
            "bin_start": 1184.6621533255866,
            "count": 0
           },
           {
            "bin_end": 1574.3310766627933,
            "bin_start": 1379.49661499419,
            "count": 0
           },
           {
            "bin_end": 1769.1655383313966,
            "bin_start": 1574.3310766627933,
            "count": 0
           },
           {
            "bin_end": 1964,
            "bin_start": 1769.1655383313966,
            "count": 1
           }
          ],
          "max": "1964.0",
          "min": "15.655383313966269",
          "nan_count": 2,
          "unique_count": 3
         }
        },
        {
         "dtype": "float64",
         "name": "Unnamed: 9",
         "stats": {
          "histogram": [
           {
            "bin_end": 210.86032088079182,
            "bin_start": 15.955912089768663,
            "count": 2
           },
           {
            "bin_end": 405.76472967181496,
            "bin_start": 210.86032088079182,
            "count": 0
           },
           {
            "bin_end": 600.6691384628381,
            "bin_start": 405.76472967181496,
            "count": 0
           },
           {
            "bin_end": 795.5735472538612,
            "bin_start": 600.6691384628381,
            "count": 0
           },
           {
            "bin_end": 990.4779560448843,
            "bin_start": 795.5735472538612,
            "count": 0
           },
           {
            "bin_end": 1185.3823648359075,
            "bin_start": 990.4779560448843,
            "count": 0
           },
           {
            "bin_end": 1380.2867736269307,
            "bin_start": 1185.3823648359075,
            "count": 0
           },
           {
            "bin_end": 1575.1911824179538,
            "bin_start": 1380.2867736269307,
            "count": 0
           },
           {
            "bin_end": 1770.0955912089769,
            "bin_start": 1575.1911824179538,
            "count": 0
           },
           {
            "bin_end": 1965,
            "bin_start": 1770.0955912089769,
            "count": 1
           }
          ],
          "max": "1965.0",
          "min": "15.955912089768663",
          "nan_count": 2,
          "unique_count": 3
         }
        },
        {
         "dtype": "float64",
         "name": "Unnamed: 10",
         "stats": {
          "histogram": [
           {
            "bin_end": 211.24244546477235,
            "bin_start": 16.269383849747058,
            "count": 2
           },
           {
            "bin_end": 406.21550707979765,
            "bin_start": 211.24244546477235,
            "count": 0
           },
           {
            "bin_end": 601.1885686948231,
            "bin_start": 406.21550707979765,
            "count": 0
           },
           {
            "bin_end": 796.1616303098483,
            "bin_start": 601.1885686948231,
            "count": 0
           },
           {
            "bin_end": 991.1346919248736,
            "bin_start": 796.1616303098483,
            "count": 0
           },
           {
            "bin_end": 1186.107753539899,
            "bin_start": 991.1346919248736,
            "count": 0
           },
           {
            "bin_end": 1381.0808151549243,
            "bin_start": 1186.107753539899,
            "count": 0
           },
           {
            "bin_end": 1576.0538767699495,
            "bin_start": 1381.0808151549243,
            "count": 0
           },
           {
            "bin_end": 1771.0269383849748,
            "bin_start": 1576.0538767699495,
            "count": 0
           },
           {
            "bin_end": 1966,
            "bin_start": 1771.0269383849748,
            "count": 1
           }
          ],
          "max": "1966.0",
          "min": "16.269383849747058",
          "nan_count": 2,
          "unique_count": 3
         }
        },
        {
         "dtype": "float64",
         "name": "Unnamed: 11",
         "stats": {
          "histogram": [
           {
            "bin_end": 211.62979094892808,
            "bin_start": 16.58865660992005,
            "count": 2
           },
           {
            "bin_end": 406.6709252879361,
            "bin_start": 211.62979094892808,
            "count": 0
           },
           {
            "bin_end": 601.712059626944,
            "bin_start": 406.6709252879361,
            "count": 0
           },
           {
            "bin_end": 796.753193965952,
            "bin_start": 601.712059626944,
            "count": 0
           },
           {
            "bin_end": 991.7943283049601,
            "bin_start": 796.753193965952,
            "count": 0
           },
           {
            "bin_end": 1186.835462643968,
            "bin_start": 991.7943283049601,
            "count": 0
           },
           {
            "bin_end": 1381.876596982976,
            "bin_start": 1186.835462643968,
            "count": 0
           },
           {
            "bin_end": 1576.917731321984,
            "bin_start": 1381.876596982976,
            "count": 0
           },
           {
            "bin_end": 1771.9588656609922,
            "bin_start": 1576.917731321984,
            "count": 0
           },
           {
            "bin_end": 1967,
            "bin_start": 1771.9588656609922,
            "count": 1
           }
          ],
          "max": "1967.0",
          "min": "16.58865660992005",
          "nan_count": 2,
          "unique_count": 3
         }
        },
        {
         "dtype": "float64",
         "name": "Unnamed: 12",
         "stats": {
          "histogram": [
           {
            "bin_end": 212.02318428136454,
            "bin_start": 16.914649201516156,
            "count": 2
           },
           {
            "bin_end": 407.13171936121296,
            "bin_start": 212.02318428136454,
            "count": 0
           },
           {
            "bin_end": 602.2402544410613,
            "bin_start": 407.13171936121296,
            "count": 0
           },
           {
            "bin_end": 797.3487895209097,
            "bin_start": 602.2402544410613,
            "count": 0
           },
           {
            "bin_end": 992.457324600758,
            "bin_start": 797.3487895209097,
            "count": 0
           },
           {
            "bin_end": 1187.5658596806065,
            "bin_start": 992.457324600758,
            "count": 0
           },
           {
            "bin_end": 1382.6743947604548,
            "bin_start": 1187.5658596806065,
            "count": 0
           },
           {
            "bin_end": 1577.7829298403033,
            "bin_start": 1382.6743947604548,
            "count": 0
           },
           {
            "bin_end": 1772.8914649201517,
            "bin_start": 1577.7829298403033,
            "count": 0
           },
           {
            "bin_end": 1968,
            "bin_start": 1772.8914649201517,
            "count": 1
           }
          ],
          "max": "1968.0",
          "min": "16.914649201516156",
          "nan_count": 2,
          "unique_count": 3
         }
        },
        {
         "dtype": "float64",
         "name": "Unnamed: 13",
         "stats": {
          "histogram": [
           {
            "bin_end": 212.42618525761642,
            "bin_start": 17.25131695290713,
            "count": 2
           },
           {
            "bin_end": 407.6010535623257,
            "bin_start": 212.42618525761642,
            "count": 0
           },
           {
            "bin_end": 602.775921867035,
            "bin_start": 407.6010535623257,
            "count": 0
           },
           {
            "bin_end": 797.9507901717443,
            "bin_start": 602.775921867035,
            "count": 0
           },
           {
            "bin_end": 993.1256584764536,
            "bin_start": 797.9507901717443,
            "count": 0
           },
           {
            "bin_end": 1188.3005267811627,
            "bin_start": 993.1256584764536,
            "count": 0
           },
           {
            "bin_end": 1383.4753950858722,
            "bin_start": 1188.3005267811627,
            "count": 0
           },
           {
            "bin_end": 1578.6502633905814,
            "bin_start": 1383.4753950858722,
            "count": 0
           },
           {
            "bin_end": 1773.8251316952906,
            "bin_start": 1578.6502633905814,
            "count": 0
           },
           {
            "bin_end": 1969,
            "bin_start": 1773.8251316952906,
            "count": 1
           }
          ],
          "max": "1969.0",
          "min": "17.25131695290713",
          "nan_count": 2,
          "unique_count": 3
         }
        },
        {
         "dtype": "float64",
         "name": "Unnamed: 14",
         "stats": {
          "histogram": [
           {
            "bin_end": 212.81359452447316,
            "bin_start": 17.570660582747962,
            "count": 2
           },
           {
            "bin_end": 408.05652846619836,
            "bin_start": 212.81359452447316,
            "count": 0
           },
           {
            "bin_end": 603.2994624079236,
            "bin_start": 408.05652846619836,
            "count": 0
           },
           {
            "bin_end": 798.5423963496487,
            "bin_start": 603.2994624079236,
            "count": 0
           },
           {
            "bin_end": 993.7853302913738,
            "bin_start": 798.5423963496487,
            "count": 0
           },
           {
            "bin_end": 1189.0282642330992,
            "bin_start": 993.7853302913738,
            "count": 0
           },
           {
            "bin_end": 1384.2711981748243,
            "bin_start": 1189.0282642330992,
            "count": 0
           },
           {
            "bin_end": 1579.5141321165495,
            "bin_start": 1384.2711981748243,
            "count": 0
           },
           {
            "bin_end": 1774.7570660582746,
            "bin_start": 1579.5141321165495,
            "count": 0
           },
           {
            "bin_end": 1970,
            "bin_start": 1774.7570660582746,
            "count": 1
           }
          ],
          "max": "1970.0",
          "min": "17.570660582747962",
          "nan_count": 2,
          "unique_count": 3
         }
        },
        {
         "dtype": "float64",
         "name": "Unnamed: 15",
         "stats": {
          "histogram": [
           {
            "bin_end": 213.20567956194947,
            "bin_start": 17.89519951327718,
            "count": 2
           },
           {
            "bin_end": 408.51615961062174,
            "bin_start": 213.20567956194947,
            "count": 0
           },
           {
            "bin_end": 603.826639659294,
            "bin_start": 408.51615961062174,
            "count": 0
           },
           {
            "bin_end": 799.1371197079662,
            "bin_start": 603.826639659294,
            "count": 0
           },
           {
            "bin_end": 994.4475997566385,
            "bin_start": 799.1371197079662,
            "count": 0
           },
           {
            "bin_end": 1189.758079805311,
            "bin_start": 994.4475997566385,
            "count": 0
           },
           {
            "bin_end": 1385.0685598539833,
            "bin_start": 1189.758079805311,
            "count": 0
           },
           {
            "bin_end": 1580.3790399026554,
            "bin_start": 1385.0685598539833,
            "count": 0
           },
           {
            "bin_end": 1775.6895199513276,
            "bin_start": 1580.3790399026554,
            "count": 0
           },
           {
            "bin_end": 1971,
            "bin_start": 1775.6895199513276,
            "count": 1
           }
          ],
          "max": "1971.0",
          "min": "17.89519951327718",
          "nan_count": 2,
          "unique_count": 3
         }
        },
        {
         "dtype": "float64",
         "name": "Unnamed: 16",
         "stats": {
          "histogram": [
           {
            "bin_end": 213.61725094608772,
            "bin_start": 18.241389940097477,
            "count": 2
           },
           {
            "bin_end": 408.993111952078,
            "bin_start": 213.61725094608772,
            "count": 0
           },
           {
            "bin_end": 604.3689729580683,
            "bin_start": 408.993111952078,
            "count": 0
           },
           {
            "bin_end": 799.7448339640586,
            "bin_start": 604.3689729580683,
            "count": 0
           },
           {
            "bin_end": 995.1206949700488,
            "bin_start": 799.7448339640586,
            "count": 0
           },
           {
            "bin_end": 1190.496555976039,
            "bin_start": 995.1206949700488,
            "count": 0
           },
           {
            "bin_end": 1385.872416982029,
            "bin_start": 1190.496555976039,
            "count": 0
           },
           {
            "bin_end": 1581.2482779880195,
            "bin_start": 1385.872416982029,
            "count": 0
           },
           {
            "bin_end": 1776.6241389940099,
            "bin_start": 1581.2482779880195,
            "count": 0
           },
           {
            "bin_end": 1972,
            "bin_start": 1776.6241389940099,
            "count": 1
           }
          ],
          "max": "1972.0",
          "min": "18.241389940097477",
          "nan_count": 2,
          "unique_count": 3
         }
        },
        {
         "dtype": "float64",
         "name": "Unnamed: 17",
         "stats": {
          "histogram": [
           {
            "bin_end": 214.02536542631594,
            "bin_start": 18.58373936257325,
            "count": 2
           },
           {
            "bin_end": 409.4669914900586,
            "bin_start": 214.02536542631594,
            "count": 0
           },
           {
            "bin_end": 604.9086175538014,
            "bin_start": 409.4669914900586,
            "count": 0
           },
           {
            "bin_end": 800.350243617544,
            "bin_start": 604.9086175538014,
            "count": 0
           },
           {
            "bin_end": 995.7918696812867,
            "bin_start": 800.350243617544,
            "count": 0
           },
           {
            "bin_end": 1191.2334957450294,
            "bin_start": 995.7918696812867,
            "count": 0
           },
           {
            "bin_end": 1386.675121808772,
            "bin_start": 1191.2334957450294,
            "count": 0
           },
           {
            "bin_end": 1582.1167478725147,
            "bin_start": 1386.675121808772,
            "count": 0
           },
           {
            "bin_end": 1777.5583739362573,
            "bin_start": 1582.1167478725147,
            "count": 0
           },
           {
            "bin_end": 1973,
            "bin_start": 1777.5583739362573,
            "count": 1
           }
          ],
          "max": "1973.0",
          "min": "18.58373936257325",
          "nan_count": 2,
          "unique_count": 3
         }
        },
        {
         "dtype": "float64",
         "name": "Unnamed: 18",
         "stats": {
          "histogram": [
           {
            "bin_end": 214.40895018167873,
            "bin_start": 18.898833535198566,
            "count": 2
           },
           {
            "bin_end": 409.91906682815886,
            "bin_start": 214.40895018167873,
            "count": 0
           },
           {
            "bin_end": 605.4291834746391,
            "bin_start": 409.91906682815886,
            "count": 0
           },
           {
            "bin_end": 800.9393001211192,
            "bin_start": 605.4291834746391,
            "count": 0
           },
           {
            "bin_end": 996.4494167675994,
            "bin_start": 800.9393001211192,
            "count": 0
           },
           {
            "bin_end": 1191.9595334140795,
            "bin_start": 996.4494167675994,
            "count": 0
           },
           {
            "bin_end": 1387.4696500605596,
            "bin_start": 1191.9595334140795,
            "count": 0
           },
           {
            "bin_end": 1582.9797667070397,
            "bin_start": 1387.4696500605596,
            "count": 0
           },
           {
            "bin_end": 1778.4898833535199,
            "bin_start": 1582.9797667070397,
            "count": 0
           },
           {
            "bin_end": 1974,
            "bin_start": 1778.4898833535199,
            "count": 1
           }
          ],
          "max": "1974.0",
          "min": "18.898833535198566",
          "nan_count": 2,
          "unique_count": 3
         }
        },
        {
         "dtype": "float64",
         "name": "Unnamed: 19",
         "stats": {
          "histogram": [
           {
            "bin_end": 214.7972733446433,
            "bin_start": 19.2191926051592,
            "count": 2
           },
           {
            "bin_end": 410.37535408412737,
            "bin_start": 214.7972733446433,
            "count": 0
           },
           {
            "bin_end": 605.9534348236114,
            "bin_start": 410.37535408412737,
            "count": 0
           },
           {
            "bin_end": 801.5315155630955,
            "bin_start": 605.9534348236114,
            "count": 0
           },
           {
            "bin_end": 997.1095963025796,
            "bin_start": 801.5315155630955,
            "count": 0
           },
           {
            "bin_end": 1192.6876770420636,
            "bin_start": 997.1095963025796,
            "count": 0
           },
           {
            "bin_end": 1388.2657577815478,
            "bin_start": 1192.6876770420636,
            "count": 0
           },
           {
            "bin_end": 1583.8438385210318,
            "bin_start": 1388.2657577815478,
            "count": 0
           },
           {
            "bin_end": 1779.4219192605158,
            "bin_start": 1583.8438385210318,
            "count": 0
           },
           {
            "bin_end": 1975,
            "bin_start": 1779.4219192605158,
            "count": 1
           }
          ],
          "max": "1975.0",
          "min": "19.2191926051592",
          "nan_count": 2,
          "unique_count": 3
         }
        },
        {
         "dtype": "float64",
         "name": "Unnamed: 20",
         "stats": {
          "histogram": [
           {
            "bin_end": 215.18601945197807,
            "bin_start": 19.540021613308976,
            "count": 2
           },
           {
            "bin_end": 410.8320172906472,
            "bin_start": 215.18601945197807,
            "count": 0
           },
           {
            "bin_end": 606.4780151293163,
            "bin_start": 410.8320172906472,
            "count": 0
           },
           {
            "bin_end": 802.1240129679854,
            "bin_start": 606.4780151293163,
            "count": 0
           },
           {
            "bin_end": 997.7700108066546,
            "bin_start": 802.1240129679854,
            "count": 0
           },
           {
            "bin_end": 1193.4160086453235,
            "bin_start": 997.7700108066546,
            "count": 0
           },
           {
            "bin_end": 1389.0620064839927,
            "bin_start": 1193.4160086453235,
            "count": 0
           },
           {
            "bin_end": 1584.7080043226617,
            "bin_start": 1389.0620064839927,
            "count": 0
           },
           {
            "bin_end": 1780.3540021613308,
            "bin_start": 1584.7080043226617,
            "count": 0
           },
           {
            "bin_end": 1976,
            "bin_start": 1780.3540021613308,
            "count": 1
           }
          ],
          "max": "1976.0",
          "min": "19.540021613308976",
          "nan_count": 2,
          "unique_count": 3
         }
        },
        {
         "dtype": "float64",
         "name": "Unnamed: 21",
         "stats": {
          "histogram": [
           {
            "bin_end": 215.58711757070728,
            "bin_start": 19.87457507856362,
            "count": 2
           },
           {
            "bin_end": 411.29966006285093,
            "bin_start": 215.58711757070728,
            "count": 0
           },
           {
            "bin_end": 607.0122025549945,
            "bin_start": 411.29966006285093,
            "count": 0
           },
           {
            "bin_end": 802.7247450471382,
            "bin_start": 607.0122025549945,
            "count": 0
           },
           {
            "bin_end": 998.4372875392819,
            "bin_start": 802.7247450471382,
            "count": 0
           },
           {
            "bin_end": 1194.1498300314254,
            "bin_start": 998.4372875392819,
            "count": 0
           },
           {
            "bin_end": 1389.862372523569,
            "bin_start": 1194.1498300314254,
            "count": 0
           },
           {
            "bin_end": 1585.5749150157128,
            "bin_start": 1389.862372523569,
            "count": 0
           },
           {
            "bin_end": 1781.2874575078565,
            "bin_start": 1585.5749150157128,
            "count": 0
           },
           {
            "bin_end": 1977,
            "bin_start": 1781.2874575078565,
            "count": 1
           }
          ],
          "max": "1977.0",
          "min": "19.87457507856362",
          "nan_count": 2,
          "unique_count": 3
         }
        },
        {
         "dtype": "float64",
         "name": "Unnamed: 22",
         "stats": {
          "histogram": [
           {
            "bin_end": 216.0045737348006,
            "bin_start": 20.227304149778476,
            "count": 2
           },
           {
            "bin_end": 411.78184331982277,
            "bin_start": 216.0045737348006,
            "count": 0
           },
           {
            "bin_end": 607.5591129048448,
            "bin_start": 411.78184331982277,
            "count": 0
           },
           {
            "bin_end": 803.336382489867,
            "bin_start": 607.5591129048448,
            "count": 0
           },
           {
            "bin_end": 999.1136520748892,
            "bin_start": 803.336382489867,
            "count": 0
           },
           {
            "bin_end": 1194.8909216599113,
            "bin_start": 999.1136520748892,
            "count": 0
           },
           {
            "bin_end": 1390.6681912449335,
            "bin_start": 1194.8909216599113,
            "count": 0
           },
           {
            "bin_end": 1586.4454608299557,
            "bin_start": 1390.6681912449335,
            "count": 0
           },
           {
            "bin_end": 1782.2227304149778,
            "bin_start": 1586.4454608299557,
            "count": 0
           },
           {
            "bin_end": 1978,
            "bin_start": 1782.2227304149778,
            "count": 1
           }
          ],
          "max": "1978.0",
          "min": "20.227304149778476",
          "nan_count": 2,
          "unique_count": 3
         }
        },
        {
         "dtype": "float64",
         "name": "Unnamed: 23",
         "stats": {
          "histogram": [
           {
            "bin_end": 216.40936058258595,
            "bin_start": 20.565956202873288,
            "count": 2
           },
           {
            "bin_end": 412.2527649622986,
            "bin_start": 216.40936058258595,
            "count": 0
           },
           {
            "bin_end": 608.0961693420113,
            "bin_start": 412.2527649622986,
            "count": 0
           },
           {
            "bin_end": 803.939573721724,
            "bin_start": 608.0961693420113,
            "count": 0
           },
           {
            "bin_end": 999.7829781014366,
            "bin_start": 803.939573721724,
            "count": 0
           },
           {
            "bin_end": 1195.6263824811494,
            "bin_start": 999.7829781014366,
            "count": 0
           },
           {
            "bin_end": 1391.469786860862,
            "bin_start": 1195.6263824811494,
            "count": 0
           },
           {
            "bin_end": 1587.3131912405747,
            "bin_start": 1391.469786860862,
            "count": 0
           },
           {
            "bin_end": 1783.1565956202874,
            "bin_start": 1587.3131912405747,
            "count": 0
           },
           {
            "bin_end": 1979,
            "bin_start": 1783.1565956202874,
            "count": 1
           }
          ],
          "max": "1979.0",
          "min": "20.565956202873288",
          "nan_count": 2,
          "unique_count": 3
         }
        },
        {
         "dtype": "float64",
         "name": "Unnamed: 24",
         "stats": {
          "histogram": [
           {
            "bin_end": 216.81044063925083,
            "bin_start": 20.900489599167567,
            "count": 2
           },
           {
            "bin_end": 412.72039167933406,
            "bin_start": 216.81044063925083,
            "count": 0
           },
           {
            "bin_end": 608.6303427194174,
            "bin_start": 412.72039167933406,
            "count": 0
           },
           {
            "bin_end": 804.5402937595006,
            "bin_start": 608.6303427194174,
            "count": 0
           },
           {
            "bin_end": 1000.4502447995839,
            "bin_start": 804.5402937595006,
            "count": 0
           },
           {
            "bin_end": 1196.360195839667,
            "bin_start": 1000.4502447995839,
            "count": 0
           },
           {
            "bin_end": 1392.2701468797502,
            "bin_start": 1196.360195839667,
            "count": 0
           },
           {
            "bin_end": 1588.1800979198335,
            "bin_start": 1392.2701468797502,
            "count": 0
           },
           {
            "bin_end": 1784.0900489599169,
            "bin_start": 1588.1800979198335,
            "count": 0
           },
           {
            "bin_end": 1980,
            "bin_start": 1784.0900489599169,
            "count": 1
           }
          ],
          "max": "1980.0",
          "min": "20.900489599167567",
          "nan_count": 2,
          "unique_count": 3
         }
        },
        {
         "dtype": "float64",
         "name": "Unnamed: 25",
         "stats": {
          "histogram": [
           {
            "bin_end": 217.19766490450496,
            "bin_start": 21.21962767167218,
            "count": 2
           },
           {
            "bin_end": 413.17570213733774,
            "bin_start": 217.19766490450496,
            "count": 0
           },
           {
            "bin_end": 609.1537393701705,
            "bin_start": 413.17570213733774,
            "count": 0
           },
           {
            "bin_end": 805.1317766030032,
            "bin_start": 609.1537393701705,
            "count": 0
           },
           {
            "bin_end": 1001.109813835836,
            "bin_start": 805.1317766030032,
            "count": 0
           },
           {
            "bin_end": 1197.087851068669,
            "bin_start": 1001.109813835836,
            "count": 0
           },
           {
            "bin_end": 1393.0658883015017,
            "bin_start": 1197.087851068669,
            "count": 0
           },
           {
            "bin_end": 1589.0439255343344,
            "bin_start": 1393.0658883015017,
            "count": 0
           },
           {
            "bin_end": 1785.0219627671672,
            "bin_start": 1589.0439255343344,
            "count": 0
           },
           {
            "bin_end": 1981,
            "bin_start": 1785.0219627671672,
            "count": 1
           }
          ],
          "max": "1981.0",
          "min": "21.21962767167218",
          "nan_count": 2,
          "unique_count": 3
         }
        },
        {
         "dtype": "float64",
         "name": "Unnamed: 26",
         "stats": {
          "histogram": [
           {
            "bin_end": 217.57818617613572,
            "bin_start": 21.531317973484143,
            "count": 2
           },
           {
            "bin_end": 413.6250543787873,
            "bin_start": 217.57818617613572,
            "count": 0
           },
           {
            "bin_end": 609.6719225814389,
            "bin_start": 413.6250543787873,
            "count": 0
           },
           {
            "bin_end": 805.7187907840905,
            "bin_start": 609.6719225814389,
            "count": 0
           },
           {
            "bin_end": 1001.7656589867421,
            "bin_start": 805.7187907840905,
            "count": 0
           },
           {
            "bin_end": 1197.8125271893937,
            "bin_start": 1001.7656589867421,
            "count": 0
           },
           {
            "bin_end": 1393.8593953920451,
            "bin_start": 1197.8125271893937,
            "count": 0
           },
           {
            "bin_end": 1589.9062635946968,
            "bin_start": 1393.8593953920451,
            "count": 0
           },
           {
            "bin_end": 1785.9531317973485,
            "bin_start": 1589.9062635946968,
            "count": 0
           },
           {
            "bin_end": 1982,
            "bin_start": 1785.9531317973485,
            "count": 1
           }
          ],
          "max": "1982.0",
          "min": "21.531317973484143",
          "nan_count": 2,
          "unique_count": 3
         }
        },
        {
         "dtype": "float64",
         "name": "Unnamed: 27",
         "stats": {
          "histogram": [
           {
            "bin_end": 218.01310849112514,
            "bin_start": 21.90345387902791,
            "count": 2
           },
           {
            "bin_end": 414.1227631032223,
            "bin_start": 218.01310849112514,
            "count": 0
           },
           {
            "bin_end": 610.2324177153196,
            "bin_start": 414.1227631032223,
            "count": 0
           },
           {
            "bin_end": 806.3420723274168,
            "bin_start": 610.2324177153196,
            "count": 0
           },
           {
            "bin_end": 1002.451726939514,
            "bin_start": 806.3420723274168,
            "count": 0
           },
           {
            "bin_end": 1198.5613815516112,
            "bin_start": 1002.451726939514,
            "count": 0
           },
           {
            "bin_end": 1394.6710361637083,
            "bin_start": 1198.5613815516112,
            "count": 0
           },
           {
            "bin_end": 1590.7806907758056,
            "bin_start": 1394.6710361637083,
            "count": 0
           },
           {
            "bin_end": 1786.890345387903,
            "bin_start": 1590.7806907758056,
            "count": 0
           },
           {
            "bin_end": 1983,
            "bin_start": 1786.890345387903,
            "count": 1
           }
          ],
          "max": "1983.0",
          "min": "21.90345387902791",
          "nan_count": 2,
          "unique_count": 3
         }
        },
        {
         "dtype": "float64",
         "name": "Unnamed: 28",
         "stats": {
          "histogram": [
           {
            "bin_end": 218.50001019663364,
            "bin_start": 22.333344662926272,
            "count": 2
           },
           {
            "bin_end": 414.666675730341,
            "bin_start": 218.50001019663364,
            "count": 0
           },
           {
            "bin_end": 610.8333412640484,
            "bin_start": 414.666675730341,
            "count": 0
           },
           {
            "bin_end": 807.0000067977558,
            "bin_start": 610.8333412640484,
            "count": 0
           },
           {
            "bin_end": 1003.1666723314631,
            "bin_start": 807.0000067977558,
            "count": 0
           },
           {
            "bin_end": 1199.3333378651705,
            "bin_start": 1003.1666723314631,
            "count": 0
           },
           {
            "bin_end": 1395.5000033988779,
            "bin_start": 1199.3333378651705,
            "count": 0
           },
           {
            "bin_end": 1591.6666689325853,
            "bin_start": 1395.5000033988779,
            "count": 0
           },
           {
            "bin_end": 1787.8333344662926,
            "bin_start": 1591.6666689325853,
            "count": 0
           },
           {
            "bin_end": 1984,
            "bin_start": 1787.8333344662926,
            "count": 1
           }
          ],
          "max": "1984.0",
          "min": "22.333344662926272",
          "nan_count": 2,
          "unique_count": 3
         }
        },
        {
         "dtype": "float64",
         "name": "Unnamed: 29",
         "stats": {
          "histogram": [
           {
            "bin_end": 219.02052003331323,
            "bin_start": 22.80057781479247,
            "count": 2
           },
           {
            "bin_end": 415.240462251834,
            "bin_start": 219.02052003331323,
            "count": 0
           },
           {
            "bin_end": 611.4604044703548,
            "bin_start": 415.240462251834,
            "count": 0
           },
           {
            "bin_end": 807.6803466888756,
            "bin_start": 611.4604044703548,
            "count": 0
           },
           {
            "bin_end": 1003.9002889073964,
            "bin_start": 807.6803466888756,
            "count": 0
           },
           {
            "bin_end": 1200.120231125917,
            "bin_start": 1003.9002889073964,
            "count": 0
           },
           {
            "bin_end": 1396.3401733444377,
            "bin_start": 1200.120231125917,
            "count": 0
           },
           {
            "bin_end": 1592.5601155629586,
            "bin_start": 1396.3401733444377,
            "count": 0
           },
           {
            "bin_end": 1788.7800577814794,
            "bin_start": 1592.5601155629586,
            "count": 0
           },
           {
            "bin_end": 1985,
            "bin_start": 1788.7800577814794,
            "count": 1
           }
          ],
          "max": "1985.0",
          "min": "22.80057781479247",
          "nan_count": 2,
          "unique_count": 3
         }
        },
        {
         "dtype": "float64",
         "name": "Unnamed: 30",
         "stats": {
          "histogram": [
           {
            "bin_end": 219.57354201217564,
            "bin_start": 23.30393556908403,
            "count": 2
           },
           {
            "bin_end": 415.8431484552673,
            "bin_start": 219.57354201217564,
            "count": 0
           },
           {
            "bin_end": 612.112754898359,
            "bin_start": 415.8431484552673,
            "count": 0
           },
           {
            "bin_end": 808.3823613414505,
            "bin_start": 612.112754898359,
            "count": 0
           },
           {
            "bin_end": 1004.6519677845421,
            "bin_start": 808.3823613414505,
            "count": 0
           },
           {
            "bin_end": 1200.9215742276338,
            "bin_start": 1004.6519677845421,
            "count": 0
           },
           {
            "bin_end": 1397.1911806707253,
            "bin_start": 1200.9215742276338,
            "count": 0
           },
           {
            "bin_end": 1593.4607871138169,
            "bin_start": 1397.1911806707253,
            "count": 0
           },
           {
            "bin_end": 1789.7303935569084,
            "bin_start": 1593.4607871138169,
            "count": 0
           },
           {
            "bin_end": 1986,
            "bin_start": 1789.7303935569084,
            "count": 1
           }
          ],
          "max": "1986.0",
          "min": "23.30393556908403",
          "nan_count": 2,
          "unique_count": 3
         }
        },
        {
         "dtype": "float64",
         "name": "Unnamed: 31",
         "stats": {
          "histogram": [
           {
            "bin_end": 220.1248047618046,
            "bin_start": 23.805338624227314,
            "count": 2
           },
           {
            "bin_end": 416.4442708993819,
            "bin_start": 220.1248047618046,
            "count": 0
           },
           {
            "bin_end": 612.7637370369591,
            "bin_start": 416.4442708993819,
            "count": 0
           },
           {
            "bin_end": 809.0832031745364,
            "bin_start": 612.7637370369591,
            "count": 0
           },
           {
            "bin_end": 1005.4026693121136,
            "bin_start": 809.0832031745364,
            "count": 0
           },
           {
            "bin_end": 1201.722135449691,
            "bin_start": 1005.4026693121136,
            "count": 0
           },
           {
            "bin_end": 1398.0416015872681,
            "bin_start": 1201.722135449691,
            "count": 0
           },
           {
            "bin_end": 1594.3610677248455,
            "bin_start": 1398.0416015872681,
            "count": 0
           },
           {
            "bin_end": 1790.6805338624229,
            "bin_start": 1594.3610677248455,
            "count": 0
           },
           {
            "bin_end": 1987,
            "bin_start": 1790.6805338624229,
            "count": 1
           }
          ],
          "max": "1987.0",
          "min": "23.805338624227314",
          "nan_count": 2,
          "unique_count": 3
         }
        },
        {
         "dtype": "float64",
         "name": "Unnamed: 32",
         "stats": {
          "histogram": [
           {
            "bin_end": 220.67605257338127,
            "bin_start": 24.30672508153476,
            "count": 2
           },
           {
            "bin_end": 417.0453800652278,
            "bin_start": 220.67605257338127,
            "count": 0
           },
           {
            "bin_end": 613.4147075570743,
            "bin_start": 417.0453800652278,
            "count": 0
           },
           {
            "bin_end": 809.7840350489208,
            "bin_start": 613.4147075570743,
            "count": 0
           },
           {
            "bin_end": 1006.1533625407674,
            "bin_start": 809.7840350489208,
            "count": 0
           },
           {
            "bin_end": 1202.5226900326138,
            "bin_start": 1006.1533625407674,
            "count": 0
           },
           {
            "bin_end": 1398.8920175244605,
            "bin_start": 1202.5226900326138,
            "count": 0
           },
           {
            "bin_end": 1595.261345016307,
            "bin_start": 1398.8920175244605,
            "count": 0
           },
           {
            "bin_end": 1791.6306725081533,
            "bin_start": 1595.261345016307,
            "count": 0
           },
           {
            "bin_end": 1988,
            "bin_start": 1791.6306725081533,
            "count": 1
           }
          ],
          "max": "1988.0",
          "min": "24.30672508153476",
          "nan_count": 2,
          "unique_count": 3
         }
        },
        {
         "dtype": "float64",
         "name": "Unnamed: 33",
         "stats": {
          "histogram": [
           {
            "bin_end": 221.22054554065602,
            "bin_start": 24.800606156284452,
            "count": 2
           },
           {
            "bin_end": 417.6404849250276,
            "bin_start": 221.22054554065602,
            "count": 0
           },
           {
            "bin_end": 614.0604243093991,
            "bin_start": 417.6404849250276,
            "count": 0
           },
           {
            "bin_end": 810.4803636937706,
            "bin_start": 614.0604243093991,
            "count": 0
           },
           {
            "bin_end": 1006.9003030781422,
            "bin_start": 810.4803636937706,
            "count": 0
           },
           {
            "bin_end": 1203.3202424625138,
            "bin_start": 1006.9003030781422,
            "count": 0
           },
           {
            "bin_end": 1399.7401818468854,
            "bin_start": 1203.3202424625138,
            "count": 0
           },
           {
            "bin_end": 1596.1601212312569,
            "bin_start": 1399.7401818468854,
            "count": 0
           },
           {
            "bin_end": 1792.5800606156283,
            "bin_start": 1596.1601212312569,
            "count": 0
           },
           {
            "bin_end": 1989,
            "bin_start": 1792.5800606156283,
            "count": 1
           }
          ],
          "max": "1989.0",
          "min": "24.800606156284452",
          "nan_count": 2,
          "unique_count": 3
         }
        },
        {
         "dtype": "float64",
         "name": "Unnamed: 34",
         "stats": {
          "histogram": [
           {
            "bin_end": 221.77784295226385,
            "bin_start": 25.30871439140427,
            "count": 2
           },
           {
            "bin_end": 418.24697151312347,
            "bin_start": 221.77784295226385,
            "count": 0
           },
           {
            "bin_end": 614.716100073983,
            "bin_start": 418.24697151312347,
            "count": 0
           },
           {
            "bin_end": 811.1852286348426,
            "bin_start": 614.716100073983,
            "count": 0
           },
           {
            "bin_end": 1007.6543571957022,
            "bin_start": 811.1852286348426,
            "count": 0
           },
           {
            "bin_end": 1204.1234857565616,
            "bin_start": 1007.6543571957022,
            "count": 0
           },
           {
            "bin_end": 1400.5926143174213,
            "bin_start": 1204.1234857565616,
            "count": 0
           },
           {
            "bin_end": 1597.061742878281,
            "bin_start": 1400.5926143174213,
            "count": 0
           },
           {
            "bin_end": 1793.5308714391406,
            "bin_start": 1597.061742878281,
            "count": 0
           },
           {
            "bin_end": 1990,
            "bin_start": 1793.5308714391406,
            "count": 1
           }
          ],
          "max": "1990.0",
          "min": "25.30871439140427",
          "nan_count": 2,
          "unique_count": 3
         }
        },
        {
         "dtype": "float64",
         "name": "Unnamed: 35",
         "stats": {
          "histogram": [
           {
            "bin_end": 222.26830895472003,
            "bin_start": 25.742565505244475,
            "count": 2
           },
           {
            "bin_end": 418.7940524041956,
            "bin_start": 222.26830895472003,
            "count": 0
           },
           {
            "bin_end": 615.319795853671,
            "bin_start": 418.7940524041956,
            "count": 0
           },
           {
            "bin_end": 811.8455393031467,
            "bin_start": 615.319795853671,
            "count": 0
           },
           {
            "bin_end": 1008.3712827526223,
            "bin_start": 811.8455393031467,
            "count": 0
           },
           {
            "bin_end": 1204.8970262020978,
            "bin_start": 1008.3712827526223,
            "count": 0
           },
           {
            "bin_end": 1401.4227696515734,
            "bin_start": 1204.8970262020978,
            "count": 0
           },
           {
            "bin_end": 1597.948513101049,
            "bin_start": 1401.4227696515734,
            "count": 0
           },
           {
            "bin_end": 1794.4742565505246,
            "bin_start": 1597.948513101049,
            "count": 0
           },
           {
            "bin_end": 1991,
            "bin_start": 1794.4742565505246,
            "count": 1
           }
          ],
          "max": "1991.0",
          "min": "25.742565505244475",
          "nan_count": 2,
          "unique_count": 3
         }
        },
        {
         "dtype": "float64",
         "name": "Unnamed: 36",
         "stats": {
          "histogram": [
           {
            "bin_end": 222.74966470957588,
            "bin_start": 26.16629412175098,
            "count": 2
           },
           {
            "bin_end": 419.3330352974008,
            "bin_start": 222.74966470957588,
            "count": 0
           },
           {
            "bin_end": 615.9164058852257,
            "bin_start": 419.3330352974008,
            "count": 0
           },
           {
            "bin_end": 812.4997764730506,
            "bin_start": 615.9164058852257,
            "count": 0
           },
           {
            "bin_end": 1009.0831470608755,
            "bin_start": 812.4997764730506,
            "count": 0
           },
           {
            "bin_end": 1205.6665176487004,
            "bin_start": 1009.0831470608755,
            "count": 0
           },
           {
            "bin_end": 1402.2498882365253,
            "bin_start": 1205.6665176487004,
            "count": 0
           },
           {
            "bin_end": 1598.8332588243502,
            "bin_start": 1402.2498882365253,
            "count": 0
           },
           {
            "bin_end": 1795.416629412175,
            "bin_start": 1598.8332588243502,
            "count": 0
           },
           {
            "bin_end": 1992,
            "bin_start": 1795.416629412175,
            "count": 1
           }
          ],
          "max": "1992.0",
          "min": "26.16629412175098",
          "nan_count": 2,
          "unique_count": 3
         }
        },
        {
         "dtype": "float64",
         "name": "Unnamed: 37",
         "stats": {
          "histogram": [
           {
            "bin_end": 223.2465645886581,
            "bin_start": 26.60729398739791,
            "count": 2
           },
           {
            "bin_end": 419.8858351899183,
            "bin_start": 223.2465645886581,
            "count": 0
           },
           {
            "bin_end": 616.5251057911785,
            "bin_start": 419.8858351899183,
            "count": 0
           },
           {
            "bin_end": 813.1643763924387,
            "bin_start": 616.5251057911785,
            "count": 0
           },
           {
            "bin_end": 1009.803646993699,
            "bin_start": 813.1643763924387,
            "count": 0
           },
           {
            "bin_end": 1206.442917594959,
            "bin_start": 1009.803646993699,
            "count": 0
           },
           {
            "bin_end": 1403.0821881962192,
            "bin_start": 1206.442917594959,
            "count": 0
           },
           {
            "bin_end": 1599.7214587974795,
            "bin_start": 1403.0821881962192,
            "count": 0
           },
           {
            "bin_end": 1796.3607293987397,
            "bin_start": 1599.7214587974795,
            "count": 0
           },
           {
            "bin_end": 1993,
            "bin_start": 1796.3607293987397,
            "count": 1
           }
          ],
          "max": "1993.0",
          "min": "26.60729398739791",
          "nan_count": 2,
          "unique_count": 3
         }
        },
        {
         "dtype": "float64",
         "name": "Unnamed: 38",
         "stats": {
          "histogram": [
           {
            "bin_end": 223.73381740864525,
            "bin_start": 27.03757489849473,
            "count": 2
           },
           {
            "bin_end": 420.43005991879573,
            "bin_start": 223.73381740864525,
            "count": 0
           },
           {
            "bin_end": 617.1263024289462,
            "bin_start": 420.43005991879573,
            "count": 0
           },
           {
            "bin_end": 813.8225449390968,
            "bin_start": 617.1263024289462,
            "count": 0
           },
           {
            "bin_end": 1010.5187874492474,
            "bin_start": 813.8225449390968,
            "count": 0
           },
           {
            "bin_end": 1207.2150299593977,
            "bin_start": 1010.5187874492474,
            "count": 0
           },
           {
            "bin_end": 1403.9112724695483,
            "bin_start": 1207.2150299593977,
            "count": 0
           },
           {
            "bin_end": 1600.6075149796989,
            "bin_start": 1403.9112724695483,
            "count": 0
           },
           {
            "bin_end": 1797.3037574898494,
            "bin_start": 1600.6075149796989,
            "count": 0
           },
           {
            "bin_end": 1994,
            "bin_start": 1797.3037574898494,
            "count": 1
           }
          ],
          "max": "1994.0",
          "min": "27.03757489849473",
          "nan_count": 2,
          "unique_count": 3
         }
        },
        {
         "dtype": "float64",
         "name": "Unnamed: 39",
         "stats": {
          "histogram": [
           {
            "bin_end": 224.1673959203871,
            "bin_start": 27.408217689318988,
            "count": 2
           },
           {
            "bin_end": 420.9265741514552,
            "bin_start": 224.1673959203871,
            "count": 0
           },
           {
            "bin_end": 617.6857523825234,
            "bin_start": 420.9265741514552,
            "count": 0
           },
           {
            "bin_end": 814.4449306135915,
            "bin_start": 617.6857523825234,
            "count": 0
           },
           {
            "bin_end": 1011.2041088446596,
            "bin_start": 814.4449306135915,
            "count": 0
           },
           {
            "bin_end": 1207.9632870757277,
            "bin_start": 1011.2041088446596,
            "count": 0
           },
           {
            "bin_end": 1404.7224653067958,
            "bin_start": 1207.9632870757277,
            "count": 0
           },
           {
            "bin_end": 1601.4816435378639,
            "bin_start": 1404.7224653067958,
            "count": 0
           },
           {
            "bin_end": 1798.240821768932,
            "bin_start": 1601.4816435378639,
            "count": 0
           },
           {
            "bin_end": 1995,
            "bin_start": 1798.240821768932,
            "count": 1
           }
          ],
          "max": "1995.0",
          "min": "27.408217689318988",
          "nan_count": 2,
          "unique_count": 3
         }
        },
        {
         "dtype": "float64",
         "name": "Unnamed: 40",
         "stats": {
          "histogram": [
           {
            "bin_end": 224.51712745974552,
            "bin_start": 27.68569717749504,
            "count": 2
           },
           {
            "bin_end": 421.34855774199605,
            "bin_start": 224.51712745974552,
            "count": 0
           },
           {
            "bin_end": 618.1799880242465,
            "bin_start": 421.34855774199605,
            "count": 0
           },
           {
            "bin_end": 815.011418306497,
            "bin_start": 618.1799880242465,
            "count": 0
           },
           {
            "bin_end": 1011.8428485887475,
            "bin_start": 815.011418306497,
            "count": 0
           },
           {
            "bin_end": 1208.674278870998,
            "bin_start": 1011.8428485887475,
            "count": 0
           },
           {
            "bin_end": 1405.5057091532485,
            "bin_start": 1208.674278870998,
            "count": 0
           },
           {
            "bin_end": 1602.337139435499,
            "bin_start": 1405.5057091532485,
            "count": 0
           },
           {
            "bin_end": 1799.1685697177495,
            "bin_start": 1602.337139435499,
            "count": 0
           },
           {
            "bin_end": 1996,
            "bin_start": 1799.1685697177495,
            "count": 1
           }
          ],
          "max": "1996.0",
          "min": "27.68569717749504",
          "nan_count": 2,
          "unique_count": 3
         }
        },
        {
         "dtype": "float64",
         "name": "Unnamed: 41",
         "stats": {
          "histogram": [
           {
            "bin_end": 224.8622744134502,
            "bin_start": 27.95808268161133,
            "count": 2
           },
           {
            "bin_end": 421.7664661452891,
            "bin_start": 224.8622744134502,
            "count": 0
           },
           {
            "bin_end": 618.670657877128,
            "bin_start": 421.7664661452891,
            "count": 0
           },
           {
            "bin_end": 815.5748496089668,
            "bin_start": 618.670657877128,
            "count": 0
           },
           {
            "bin_end": 1012.4790413408057,
            "bin_start": 815.5748496089668,
            "count": 0
           },
           {
            "bin_end": 1209.3832330726445,
            "bin_start": 1012.4790413408057,
            "count": 0
           },
           {
            "bin_end": 1406.2874248044834,
            "bin_start": 1209.3832330726445,
            "count": 0
           },
           {
            "bin_end": 1603.1916165363223,
            "bin_start": 1406.2874248044834,
            "count": 0
           },
           {
            "bin_end": 1800.0958082681611,
            "bin_start": 1603.1916165363223,
            "count": 0
           },
           {
            "bin_end": 1997,
            "bin_start": 1800.0958082681611,
            "count": 1
           }
          ],
          "max": "1997.0",
          "min": "27.95808268161133",
          "nan_count": 2,
          "unique_count": 3
         }
        },
        {
         "dtype": "float64",
         "name": "Unnamed: 42",
         "stats": {
          "histogram": [
           {
            "bin_end": 225.2213287322308,
            "bin_start": 28.24592081358982,
            "count": 2
           },
           {
            "bin_end": 422.1967366508718,
            "bin_start": 225.2213287322308,
            "count": 0
           },
           {
            "bin_end": 619.1721445695129,
            "bin_start": 422.1967366508718,
            "count": 0
           },
           {
            "bin_end": 816.1475524881538,
            "bin_start": 619.1721445695129,
            "count": 0
           },
           {
            "bin_end": 1013.1229604067947,
            "bin_start": 816.1475524881538,
            "count": 0
           },
           {
            "bin_end": 1210.098368325436,
            "bin_start": 1013.1229604067947,
            "count": 0
           },
           {
            "bin_end": 1407.073776244077,
            "bin_start": 1210.098368325436,
            "count": 0
           },
           {
            "bin_end": 1604.049184162718,
            "bin_start": 1407.073776244077,
            "count": 0
           },
           {
            "bin_end": 1801.0245920813588,
            "bin_start": 1604.049184162718,
            "count": 0
           },
           {
            "bin_end": 1998,
            "bin_start": 1801.0245920813588,
            "count": 1
           }
          ],
          "max": "1998.0",
          "min": "28.24592081358982",
          "nan_count": 2,
          "unique_count": 3
         }
        },
        {
         "dtype": "float64",
         "name": "Unnamed: 43",
         "stats": {
          "histogram": [
           {
            "bin_end": 225.57960376291416,
            "bin_start": 28.532893069904652,
            "count": 2
           },
           {
            "bin_end": 422.6263144559237,
            "bin_start": 225.57960376291416,
            "count": 0
           },
           {
            "bin_end": 619.6730251489331,
            "bin_start": 422.6263144559237,
            "count": 0
           },
           {
            "bin_end": 816.7197358419427,
            "bin_start": 619.6730251489331,
            "count": 0
           },
           {
            "bin_end": 1013.7664465349523,
            "bin_start": 816.7197358419427,
            "count": 0
           },
           {
            "bin_end": 1210.8131572279617,
            "bin_start": 1013.7664465349523,
            "count": 0
           },
           {
            "bin_end": 1407.8598679209713,
            "bin_start": 1210.8131572279617,
            "count": 0
           },
           {
            "bin_end": 1604.9065786139809,
            "bin_start": 1407.8598679209713,
            "count": 0
           },
           {
            "bin_end": 1801.9532893069904,
            "bin_start": 1604.9065786139809,
            "count": 0
           },
           {
            "bin_end": 1999,
            "bin_start": 1801.9532893069904,
            "count": 1
           }
          ],
          "max": "1999.0",
          "min": "28.532893069904652",
          "nan_count": 2,
          "unique_count": 3
         }
        },
        {
         "dtype": "float64",
         "name": "Unnamed: 44",
         "stats": {
          "histogram": [
           {
            "bin_end": 225.93202474538907,
            "bin_start": 28.813360828210083,
            "count": 2
           },
           {
            "bin_end": 423.05068866256806,
            "bin_start": 225.93202474538907,
            "count": 0
           },
           {
            "bin_end": 620.169352579747,
            "bin_start": 423.05068866256806,
            "count": 0
           },
           {
            "bin_end": 817.288016496926,
            "bin_start": 620.169352579747,
            "count": 0
           },
           {
            "bin_end": 1014.406680414105,
            "bin_start": 817.288016496926,
            "count": 0
           },
           {
            "bin_end": 1211.525344331284,
            "bin_start": 1014.406680414105,
            "count": 0
           },
           {
            "bin_end": 1408.644008248463,
            "bin_start": 1211.525344331284,
            "count": 0
           },
           {
            "bin_end": 1605.762672165642,
            "bin_start": 1408.644008248463,
            "count": 0
           },
           {
            "bin_end": 1802.881336082821,
            "bin_start": 1605.762672165642,
            "count": 0
           },
           {
            "bin_end": 2000,
            "bin_start": 1802.881336082821,
            "count": 1
           }
          ],
          "max": "2000.0",
          "min": "28.813360828210083",
          "nan_count": 2,
          "unique_count": 3
         }
        },
        {
         "dtype": "float64",
         "name": "Unnamed: 45",
         "stats": {
          "histogram": [
           {
            "bin_end": 226.29901005518974,
            "bin_start": 29.110011172433047,
            "count": 2
           },
           {
            "bin_end": 423.48800893794646,
            "bin_start": 226.29901005518974,
            "count": 0
           },
           {
            "bin_end": 620.6770078207031,
            "bin_start": 423.48800893794646,
            "count": 0
           },
           {
            "bin_end": 817.8660067034598,
            "bin_start": 620.6770078207031,
            "count": 0
           },
           {
            "bin_end": 1015.0550055862165,
            "bin_start": 817.8660067034598,
            "count": 0
           },
           {
            "bin_end": 1212.2440044689733,
            "bin_start": 1015.0550055862165,
            "count": 0
           },
           {
            "bin_end": 1409.43300335173,
            "bin_start": 1212.2440044689733,
            "count": 0
           },
           {
            "bin_end": 1606.6220022344867,
            "bin_start": 1409.43300335173,
            "count": 0
           },
           {
            "bin_end": 1803.8110011172434,
            "bin_start": 1606.6220022344867,
            "count": 0
           },
           {
            "bin_end": 2001,
            "bin_start": 1803.8110011172434,
            "count": 1
           }
          ],
          "max": "2001.0",
          "min": "29.110011172433047",
          "nan_count": 2,
          "unique_count": 3
         }
        },
        {
         "dtype": "float64",
         "name": "Unnamed: 46",
         "stats": {
          "histogram": [
           {
            "bin_end": 226.68150128428252,
            "bin_start": 29.423890315869446,
            "count": 2
           },
           {
            "bin_end": 423.9391122526956,
            "bin_start": 226.68150128428252,
            "count": 0
           },
           {
            "bin_end": 621.1967232211088,
            "bin_start": 423.9391122526956,
            "count": 0
           },
           {
            "bin_end": 818.4543341895218,
            "bin_start": 621.1967232211088,
            "count": 0
           },
           {
            "bin_end": 1015.7119451579348,
            "bin_start": 818.4543341895218,
            "count": 0
           },
           {
            "bin_end": 1212.969556126348,
            "bin_start": 1015.7119451579348,
            "count": 0
           },
           {
            "bin_end": 1410.227167094761,
            "bin_start": 1212.969556126348,
            "count": 0
           },
           {
            "bin_end": 1607.484778063174,
            "bin_start": 1410.227167094761,
            "count": 0
           },
           {
            "bin_end": 1804.742389031587,
            "bin_start": 1607.484778063174,
            "count": 0
           },
           {
            "bin_end": 2002,
            "bin_start": 1804.742389031587,
            "count": 1
           }
          ],
          "max": "2002.0",
          "min": "29.423890315869446",
          "nan_count": 2,
          "unique_count": 3
         }
        },
        {
         "dtype": "float64",
         "name": "Unnamed: 47",
         "stats": {
          "histogram": [
           {
            "bin_end": 227.06138274975973,
            "bin_start": 29.734869721955263,
            "count": 2
           },
           {
            "bin_end": 424.3878957775642,
            "bin_start": 227.06138274975973,
            "count": 0
           },
           {
            "bin_end": 621.7144088053687,
            "bin_start": 424.3878957775642,
            "count": 0
           },
           {
            "bin_end": 819.0409218331732,
            "bin_start": 621.7144088053687,
            "count": 0
           },
           {
            "bin_end": 1016.3674348609777,
            "bin_start": 819.0409218331732,
            "count": 0
           },
           {
            "bin_end": 1213.693947888782,
            "bin_start": 1016.3674348609777,
            "count": 0
           },
           {
            "bin_end": 1411.0204609165864,
            "bin_start": 1213.693947888782,
            "count": 0
           },
           {
            "bin_end": 1608.346973944391,
            "bin_start": 1411.0204609165864,
            "count": 0
           },
           {
            "bin_end": 1805.6734869721956,
            "bin_start": 1608.346973944391,
            "count": 0
           },
           {
            "bin_end": 2003,
            "bin_start": 1805.6734869721956,
            "count": 1
           }
          ],
          "max": "2003.0",
          "min": "29.734869721955263",
          "nan_count": 2,
          "unique_count": 3
         }
        },
        {
         "dtype": "float64",
         "name": "Unnamed: 48",
         "stats": {
          "histogram": [
           {
            "bin_end": 227.44323580313647,
            "bin_start": 30.048039781262744,
            "count": 2
           },
           {
            "bin_end": 424.83843182501016,
            "bin_start": 227.44323580313647,
            "count": 0
           },
           {
            "bin_end": 622.2336278468839,
            "bin_start": 424.83843182501016,
            "count": 0
           },
           {
            "bin_end": 819.6288238687576,
            "bin_start": 622.2336278468839,
            "count": 0
           },
           {
            "bin_end": 1017.0240198906314,
            "bin_start": 819.6288238687576,
            "count": 0
           },
           {
            "bin_end": 1214.419215912505,
            "bin_start": 1017.0240198906314,
            "count": 0
           },
           {
            "bin_end": 1411.8144119343788,
            "bin_start": 1214.419215912505,
            "count": 0
           },
           {
            "bin_end": 1609.2096079562525,
            "bin_start": 1411.8144119343788,
            "count": 0
           },
           {
            "bin_end": 1806.6048039781263,
            "bin_start": 1609.2096079562525,
            "count": 0
           },
           {
            "bin_end": 2004,
            "bin_start": 1806.6048039781263,
            "count": 1
           }
          ],
          "max": "2004.0",
          "min": "30.048039781262744",
          "nan_count": 2,
          "unique_count": 3
         }
        },
        {
         "dtype": "float64",
         "name": "Unnamed: 49",
         "stats": {
          "histogram": [
           {
            "bin_end": 227.84289580535886,
            "bin_start": 30.380995339287647,
            "count": 2
           },
           {
            "bin_end": 425.3047962714301,
            "bin_start": 227.84289580535886,
            "count": 0
           },
           {
            "bin_end": 622.7666967375013,
            "bin_start": 425.3047962714301,
            "count": 0
           },
           {
            "bin_end": 820.2285972035726,
            "bin_start": 622.7666967375013,
            "count": 0
           },
           {
            "bin_end": 1017.6904976696438,
            "bin_start": 820.2285972035726,
            "count": 0
           },
           {
            "bin_end": 1215.152398135715,
            "bin_start": 1017.6904976696438,
            "count": 0
           },
           {
            "bin_end": 1412.6142986017862,
            "bin_start": 1215.152398135715,
            "count": 0
           },
           {
            "bin_end": 1610.0761990678575,
            "bin_start": 1412.6142986017862,
            "count": 0
           },
           {
            "bin_end": 1807.5380995339287,
            "bin_start": 1610.0761990678575,
            "count": 0
           },
           {
            "bin_end": 2005,
            "bin_start": 1807.5380995339287,
            "count": 1
           }
          ],
          "max": "2005.0",
          "min": "30.380995339287647",
          "nan_count": 2,
          "unique_count": 3
         }
        },
        {
         "dtype": "float64",
         "name": "Unnamed: 50",
         "stats": {
          "histogram": [
           {
            "bin_end": 228.23361802149827,
            "bin_start": 30.70402002388699,
            "count": 2
           },
           {
            "bin_end": 425.76321601910956,
            "bin_start": 228.23361802149827,
            "count": 0
           },
           {
            "bin_end": 623.2928140167209,
            "bin_start": 425.76321601910956,
            "count": 0
           },
           {
            "bin_end": 820.8224120143321,
            "bin_start": 623.2928140167209,
            "count": 0
           },
           {
            "bin_end": 1018.3520100119434,
            "bin_start": 820.8224120143321,
            "count": 0
           },
           {
            "bin_end": 1215.8816080095548,
            "bin_start": 1018.3520100119434,
            "count": 0
           },
           {
            "bin_end": 1413.4112060071661,
            "bin_start": 1215.8816080095548,
            "count": 0
           },
           {
            "bin_end": 1610.9408040047774,
            "bin_start": 1413.4112060071661,
            "count": 0
           },
           {
            "bin_end": 1808.4704020023887,
            "bin_start": 1610.9408040047774,
            "count": 0
           },
           {
            "bin_end": 2006,
            "bin_start": 1808.4704020023887,
            "count": 1
           }
          ],
          "max": "2006.0",
          "min": "30.70402002388699",
          "nan_count": 2,
          "unique_count": 3
         }
        },
        {
         "dtype": "float64",
         "name": "Unnamed: 51",
         "stats": {
          "histogram": [
           {
            "bin_end": 228.5624205244365,
            "bin_start": 30.958245027151676,
            "count": 2
           },
           {
            "bin_end": 426.1665960217214,
            "bin_start": 228.5624205244365,
            "count": 0
           },
           {
            "bin_end": 623.7707715190062,
            "bin_start": 426.1665960217214,
            "count": 0
           },
           {
            "bin_end": 821.374947016291,
            "bin_start": 623.7707715190062,
            "count": 0
           },
           {
            "bin_end": 1018.9791225135758,
            "bin_start": 821.374947016291,
            "count": 0
           },
           {
            "bin_end": 1216.5832980108607,
            "bin_start": 1018.9791225135758,
            "count": 0
           },
           {
            "bin_end": 1414.1874735081456,
            "bin_start": 1216.5832980108607,
            "count": 0
           },
           {
            "bin_end": 1611.7916490054304,
            "bin_start": 1414.1874735081456,
            "count": 0
           },
           {
            "bin_end": 1809.3958245027152,
            "bin_start": 1611.7916490054304,
            "count": 0
           },
           {
            "bin_end": 2007,
            "bin_start": 1809.3958245027152,
            "count": 1
           }
          ],
          "max": "2007.0",
          "min": "30.958245027151676",
          "nan_count": 2,
          "unique_count": 3
         }
        },
        {
         "dtype": "float64",
         "name": "Unnamed: 52",
         "stats": {
          "histogram": [
           {
            "bin_end": 229.02650459242855,
            "bin_start": 31.362782880476157,
            "count": 2
           },
           {
            "bin_end": 426.690226304381,
            "bin_start": 229.02650459242855,
            "count": 0
           },
           {
            "bin_end": 624.3539480163334,
            "bin_start": 426.690226304381,
            "count": 0
           },
           {
            "bin_end": 822.0176697282858,
            "bin_start": 624.3539480163334,
            "count": 0
           },
           {
            "bin_end": 1019.6813914402381,
            "bin_start": 822.0176697282858,
            "count": 0
           },
           {
            "bin_end": 1217.3451131521906,
            "bin_start": 1019.6813914402381,
            "count": 0
           },
           {
            "bin_end": 1415.008834864143,
            "bin_start": 1217.3451131521906,
            "count": 0
           },
           {
            "bin_end": 1612.6725565760953,
            "bin_start": 1415.008834864143,
            "count": 0
           },
           {
            "bin_end": 1810.3362782880477,
            "bin_start": 1612.6725565760953,
            "count": 0
           },
           {
            "bin_end": 2008,
            "bin_start": 1810.3362782880477,
            "count": 1
           }
          ],
          "max": "2008.0",
          "min": "31.362782880476157",
          "nan_count": 2,
          "unique_count": 3
         }
        },
        {
         "dtype": "float64",
         "name": "Unnamed: 53",
         "stats": {
          "histogram": [
           {
            "bin_end": 229.49681357455367,
            "bin_start": 31.774237305059636,
            "count": 2
           },
           {
            "bin_end": 427.21938984404767,
            "bin_start": 229.49681357455367,
            "count": 0
           },
           {
            "bin_end": 624.9419661135416,
            "bin_start": 427.21938984404767,
            "count": 0
           },
           {
            "bin_end": 822.6645423830357,
            "bin_start": 624.9419661135416,
            "count": 0
           },
           {
            "bin_end": 1020.3871186525298,
            "bin_start": 822.6645423830357,
            "count": 0
           },
           {
            "bin_end": 1218.1096949220237,
            "bin_start": 1020.3871186525298,
            "count": 0
           },
           {
            "bin_end": 1415.8322711915177,
            "bin_start": 1218.1096949220237,
            "count": 0
           },
           {
            "bin_end": 1613.5548474610118,
            "bin_start": 1415.8322711915177,
            "count": 0
           },
           {
            "bin_end": 1811.277423730506,
            "bin_start": 1613.5548474610118,
            "count": 0
           },
           {
            "bin_end": 2009,
            "bin_start": 1811.277423730506,
            "count": 1
           }
          ],
          "max": "2009.0",
          "min": "31.774237305059636",
          "nan_count": 2,
          "unique_count": 3
         }
        },
        {
         "dtype": "float64",
         "name": "Unnamed: 54",
         "stats": {
          "histogram": [
           {
            "bin_end": 229.97603581240986,
            "bin_start": 32.19559534712205,
            "count": 2
           },
           {
            "bin_end": 427.75647627769763,
            "bin_start": 229.97603581240986,
            "count": 0
           },
           {
            "bin_end": 625.5369167429855,
            "bin_start": 427.75647627769763,
            "count": 0
           },
           {
            "bin_end": 823.3173572082733,
            "bin_start": 625.5369167429855,
            "count": 0
           },
           {
            "bin_end": 1021.0977976735611,
            "bin_start": 823.3173572082733,
            "count": 0
           },
           {
            "bin_end": 1218.8782381388487,
            "bin_start": 1021.0977976735611,
            "count": 0
           },
           {
            "bin_end": 1416.6586786041366,
            "bin_start": 1218.8782381388487,
            "count": 0
           },
           {
            "bin_end": 1614.4391190694244,
            "bin_start": 1416.6586786041366,
            "count": 0
           },
           {
            "bin_end": 1812.219559534712,
            "bin_start": 1614.4391190694244,
            "count": 0
           },
           {
            "bin_end": 2010,
            "bin_start": 1812.219559534712,
            "count": 1
           }
          ],
          "max": "2010.0",
          "min": "32.19559534712205",
          "nan_count": 2,
          "unique_count": 3
         }
        },
        {
         "dtype": "float64",
         "name": "Unnamed: 55",
         "stats": {
          "histogram": [
           {
            "bin_end": 230.4652619406633,
            "bin_start": 32.628068822959236,
            "count": 2
           },
           {
            "bin_end": 428.3024550583674,
            "bin_start": 230.4652619406633,
            "count": 0
           },
           {
            "bin_end": 626.1396481760714,
            "bin_start": 428.3024550583674,
            "count": 0
           },
           {
            "bin_end": 823.9768412937756,
            "bin_start": 626.1396481760714,
            "count": 0
           },
           {
            "bin_end": 1021.8140344114797,
            "bin_start": 823.9768412937756,
            "count": 0
           },
           {
            "bin_end": 1219.6512275291836,
            "bin_start": 1021.8140344114797,
            "count": 0
           },
           {
            "bin_end": 1417.4884206468878,
            "bin_start": 1219.6512275291836,
            "count": 0
           },
           {
            "bin_end": 1615.325613764592,
            "bin_start": 1417.4884206468878,
            "count": 0
           },
           {
            "bin_end": 1813.162806882296,
            "bin_start": 1615.325613764592,
            "count": 0
           },
           {
            "bin_end": 2011,
            "bin_start": 1813.162806882296,
            "count": 1
           }
          ],
          "max": "2011.0",
          "min": "32.628068822959236",
          "nan_count": 2,
          "unique_count": 3
         }
        },
        {
         "dtype": "float64",
         "name": "Unnamed: 56",
         "stats": {
          "histogram": [
           {
            "bin_end": 230.9474680010537,
            "bin_start": 33.05274222339298,
            "count": 2
           },
           {
            "bin_end": 428.84219377871443,
            "bin_start": 230.9474680010537,
            "count": 0
           },
           {
            "bin_end": 626.7369195563751,
            "bin_start": 428.84219377871443,
            "count": 0
           },
           {
            "bin_end": 824.6316453340359,
            "bin_start": 626.7369195563751,
            "count": 0
           },
           {
            "bin_end": 1022.5263711116966,
            "bin_start": 824.6316453340359,
            "count": 0
           },
           {
            "bin_end": 1220.4210968893572,
            "bin_start": 1022.5263711116966,
            "count": 0
           },
           {
            "bin_end": 1418.3158226670178,
            "bin_start": 1220.4210968893572,
            "count": 0
           },
           {
            "bin_end": 1616.2105484446786,
            "bin_start": 1418.3158226670178,
            "count": 0
           },
           {
            "bin_end": 1814.1052742223394,
            "bin_start": 1616.2105484446786,
            "count": 0
           },
           {
            "bin_end": 2012,
            "bin_start": 1814.1052742223394,
            "count": 1
           }
          ],
          "max": "2012.0",
          "min": "33.05274222339298",
          "nan_count": 2,
          "unique_count": 3
         }
        },
        {
         "dtype": "float64",
         "name": "Unnamed: 57",
         "stats": {
          "histogram": [
           {
            "bin_end": 231.44690090156985,
            "bin_start": 33.49655655729981,
            "count": 2
           },
           {
            "bin_end": 429.3972452458399,
            "bin_start": 231.44690090156985,
            "count": 0
           },
           {
            "bin_end": 627.3475895901099,
            "bin_start": 429.3972452458399,
            "count": 0
           },
           {
            "bin_end": 825.2979339343799,
            "bin_start": 627.3475895901099,
            "count": 0
           },
           {
            "bin_end": 1023.2482782786499,
            "bin_start": 825.2979339343799,
            "count": 0
           },
           {
            "bin_end": 1221.19862262292,
            "bin_start": 1023.2482782786499,
            "count": 0
           },
           {
            "bin_end": 1419.14896696719,
            "bin_start": 1221.19862262292,
            "count": 0
           },
           {
            "bin_end": 1617.09931131146,
            "bin_start": 1419.14896696719,
            "count": 0
           },
           {
            "bin_end": 1815.04965565573,
            "bin_start": 1617.09931131146,
            "count": 0
           },
           {
            "bin_end": 2013,
            "bin_start": 1815.04965565573,
            "count": 1
           }
          ],
          "max": "2013.0",
          "min": "33.49655655729981",
          "nan_count": 2,
          "unique_count": 3
         }
        },
        {
         "dtype": "float64",
         "name": "Unnamed: 58",
         "stats": {
          "histogram": [
           {
            "bin_end": 231.9636697991108,
            "bin_start": 33.959633110123086,
            "count": 2
           },
           {
            "bin_end": 429.9677064880985,
            "bin_start": 231.9636697991108,
            "count": 0
           },
           {
            "bin_end": 627.9717431770861,
            "bin_start": 429.9677064880985,
            "count": 0
           },
           {
            "bin_end": 825.9757798660738,
            "bin_start": 627.9717431770861,
            "count": 0
           },
           {
            "bin_end": 1023.9798165550616,
            "bin_start": 825.9757798660738,
            "count": 0
           },
           {
            "bin_end": 1221.9838532440492,
            "bin_start": 1023.9798165550616,
            "count": 0
           },
           {
            "bin_end": 1419.987889933037,
            "bin_start": 1221.9838532440492,
            "count": 0
           },
           {
            "bin_end": 1617.9919266220247,
            "bin_start": 1419.987889933037,
            "count": 0
           },
           {
            "bin_end": 1815.9959633110125,
            "bin_start": 1617.9919266220247,
            "count": 0
           },
           {
            "bin_end": 2014,
            "bin_start": 1815.9959633110125,
            "count": 1
           }
          ],
          "max": "2014.0",
          "min": "33.959633110123086",
          "nan_count": 2,
          "unique_count": 3
         }
        },
        {
         "dtype": "float64",
         "name": "Unnamed: 59",
         "stats": {
          "histogram": [
           {
            "bin_end": 232.50255268557282,
            "bin_start": 34.44728076174758,
            "count": 2
           },
           {
            "bin_end": 430.55782460939804,
            "bin_start": 232.50255268557282,
            "count": 0
           },
           {
            "bin_end": 628.6130965332234,
            "bin_start": 430.55782460939804,
            "count": 0
           },
           {
            "bin_end": 826.6683684570486,
            "bin_start": 628.6130965332234,
            "count": 0
           },
           {
            "bin_end": 1024.7236403808738,
            "bin_start": 826.6683684570486,
            "count": 0
           },
           {
            "bin_end": 1222.7789123046991,
            "bin_start": 1024.7236403808738,
            "count": 0
           },
           {
            "bin_end": 1420.8341842285242,
            "bin_start": 1222.7789123046991,
            "count": 0
           },
           {
            "bin_end": 1618.8894561523496,
            "bin_start": 1420.8341842285242,
            "count": 0
           },
           {
            "bin_end": 1816.944728076175,
            "bin_start": 1618.8894561523496,
            "count": 0
           },
           {
            "bin_end": 2015,
            "bin_start": 1816.944728076175,
            "count": 1
           }
          ],
          "max": "2015.0",
          "min": "34.44728076174758",
          "nan_count": 2,
          "unique_count": 3
         }
        },
        {
         "dtype": "float64",
         "name": "Unnamed: 60",
         "stats": {
          "histogram": [
           {
            "bin_end": 233.02758993853564,
            "bin_start": 34.91954437615073,
            "count": 2
           },
           {
            "bin_end": 431.13563550092056,
            "bin_start": 233.02758993853564,
            "count": 0
           },
           {
            "bin_end": 629.2436810633055,
            "bin_start": 431.13563550092056,
            "count": 0
           },
           {
            "bin_end": 827.3517266256904,
            "bin_start": 629.2436810633055,
            "count": 0
           },
           {
            "bin_end": 1025.4597721880752,
            "bin_start": 827.3517266256904,
            "count": 0
           },
           {
            "bin_end": 1223.5678177504603,
            "bin_start": 1025.4597721880752,
            "count": 0
           },
           {
            "bin_end": 1421.6758633128452,
            "bin_start": 1223.5678177504603,
            "count": 0
           },
           {
            "bin_end": 1619.78390887523,
            "bin_start": 1421.6758633128452,
            "count": 0
           },
           {
            "bin_end": 1817.891954437615,
            "bin_start": 1619.78390887523,
            "count": 0
           },
           {
            "bin_end": 2016,
            "bin_start": 1817.891954437615,
            "count": 1
           }
          ],
          "max": "2016.0",
          "min": "34.91954437615073",
          "nan_count": 2,
          "unique_count": 3
         }
        },
        {
         "dtype": "float64",
         "name": "Unnamed: 61",
         "stats": {
          "histogram": [
           {
            "bin_end": 233.55666051212822,
            "bin_start": 35.39628945792024,
            "count": 2
           },
           {
            "bin_end": 431.71703156633623,
            "bin_start": 233.55666051212822,
            "count": 0
           },
           {
            "bin_end": 629.8774026205442,
            "bin_start": 431.71703156633623,
            "count": 0
           },
           {
            "bin_end": 828.0377736747522,
            "bin_start": 629.8774026205442,
            "count": 0
           },
           {
            "bin_end": 1026.1981447289602,
            "bin_start": 828.0377736747522,
            "count": 0
           },
           {
            "bin_end": 1224.358515783168,
            "bin_start": 1026.1981447289602,
            "count": 0
           },
           {
            "bin_end": 1422.518886837376,
            "bin_start": 1224.358515783168,
            "count": 0
           },
           {
            "bin_end": 1620.679257891584,
            "bin_start": 1422.518886837376,
            "count": 0
           },
           {
            "bin_end": 1818.8396289457921,
            "bin_start": 1620.679257891584,
            "count": 0
           },
           {
            "bin_end": 2017,
            "bin_start": 1818.8396289457921,
            "count": 1
           }
          ],
          "max": "2017.0",
          "min": "35.39628945792024",
          "nan_count": 2,
          "unique_count": 3
         }
        },
        {
         "dtype": "float64",
         "name": "Unnamed: 62",
         "stats": {
          "histogram": [
           {
            "bin_end": 234.10405813359628,
            "bin_start": 35.893397926218086,
            "count": 2
           },
           {
            "bin_end": 432.3147183409745,
            "bin_start": 234.10405813359628,
            "count": 0
           },
           {
            "bin_end": 630.5253785483527,
            "bin_start": 432.3147183409745,
            "count": 0
           },
           {
            "bin_end": 828.7360387557309,
            "bin_start": 630.5253785483527,
            "count": 0
           },
           {
            "bin_end": 1026.9466989631092,
            "bin_start": 828.7360387557309,
            "count": 0
           },
           {
            "bin_end": 1225.1573591704873,
            "bin_start": 1026.9466989631092,
            "count": 0
           },
           {
            "bin_end": 1423.3680193778655,
            "bin_start": 1225.1573591704873,
            "count": 0
           },
           {
            "bin_end": 1621.5786795852437,
            "bin_start": 1423.3680193778655,
            "count": 0
           },
           {
            "bin_end": 1819.7893397926218,
            "bin_start": 1621.5786795852437,
            "count": 0
           },
           {
            "bin_end": 2018,
            "bin_start": 1819.7893397926218,
            "count": 1
           }
          ],
          "max": "2018.0",
          "min": "35.893397926218086",
          "nan_count": 2,
          "unique_count": 3
         }
        },
        {
         "dtype": "float64",
         "name": "Unnamed: 63",
         "stats": {
          "histogram": [
           {
            "bin_end": 234.64584505903346,
            "bin_start": 36.38427228781498,
            "count": 2
           },
           {
            "bin_end": 432.9074178302519,
            "bin_start": 234.64584505903346,
            "count": 0
           },
           {
            "bin_end": 631.1689906014705,
            "bin_start": 432.9074178302519,
            "count": 0
           },
           {
            "bin_end": 829.4305633726889,
            "bin_start": 631.1689906014705,
            "count": 0
           },
           {
            "bin_end": 1027.6921361439074,
            "bin_start": 829.4305633726889,
            "count": 0
           },
           {
            "bin_end": 1225.953708915126,
            "bin_start": 1027.6921361439074,
            "count": 0
           },
           {
            "bin_end": 1424.2152816863445,
            "bin_start": 1225.953708915126,
            "count": 0
           },
           {
            "bin_end": 1622.476854457563,
            "bin_start": 1424.2152816863445,
            "count": 0
           },
           {
            "bin_end": 1820.7384272287813,
            "bin_start": 1622.476854457563,
            "count": 0
           },
           {
            "bin_end": 2019,
            "bin_start": 1820.7384272287813,
            "count": 1
           }
          ],
          "max": "2019.0",
          "min": "36.38427228781498",
          "nan_count": 2,
          "unique_count": 3
         }
        },
        {
         "dtype": "float64",
         "name": "Unnamed: 64",
         "stats": {
          "histogram": [
           {
            "bin_end": 235.1956310335623,
            "bin_start": 36.88403448173588,
            "count": 2
           },
           {
            "bin_end": 433.5072275853887,
            "bin_start": 235.1956310335623,
            "count": 0
           },
           {
            "bin_end": 631.8188241372152,
            "bin_start": 433.5072275853887,
            "count": 0
           },
           {
            "bin_end": 830.1304206890416,
            "bin_start": 631.8188241372152,
            "count": 0
           },
           {
            "bin_end": 1028.442017240868,
            "bin_start": 830.1304206890416,
            "count": 0
           },
           {
            "bin_end": 1226.7536137926945,
            "bin_start": 1028.442017240868,
            "count": 0
           },
           {
            "bin_end": 1425.065210344521,
            "bin_start": 1226.7536137926945,
            "count": 0
           },
           {
            "bin_end": 1623.3768068963473,
            "bin_start": 1425.065210344521,
            "count": 0
           },
           {
            "bin_end": 1821.6884034481736,
            "bin_start": 1623.3768068963473,
            "count": 0
           },
           {
            "bin_end": 2020,
            "bin_start": 1821.6884034481736,
            "count": 1
           }
          ],
          "max": "2020.0",
          "min": "36.88403448173588",
          "nan_count": 2,
          "unique_count": 3
         }
        },
        {
         "dtype": "float64",
         "name": "Unnamed: 65",
         "stats": {
          "histogram": [
           {
            "bin_end": 235.7542692762545,
            "bin_start": 37.39363252917165,
            "count": 2
           },
           {
            "bin_end": 434.11490602333737,
            "bin_start": 235.7542692762545,
            "count": 0
           },
           {
            "bin_end": 632.4755427704202,
            "bin_start": 434.11490602333737,
            "count": 0
           },
           {
            "bin_end": 830.8361795175031,
            "bin_start": 632.4755427704202,
            "count": 0
           },
           {
            "bin_end": 1029.1968162645858,
            "bin_start": 830.8361795175031,
            "count": 0
           },
           {
            "bin_end": 1227.5574530116687,
            "bin_start": 1029.1968162645858,
            "count": 0
           },
           {
            "bin_end": 1425.9180897587514,
            "bin_start": 1227.5574530116687,
            "count": 0
           },
           {
            "bin_end": 1624.2787265058344,
            "bin_start": 1425.9180897587514,
            "count": 0
           },
           {
            "bin_end": 1822.6393632529173,
            "bin_start": 1624.2787265058344,
            "count": 0
           },
           {
            "bin_end": 2021,
            "bin_start": 1822.6393632529173,
            "count": 1
           }
          ],
          "max": "2021.0",
          "min": "37.39363252917165",
          "nan_count": 2,
          "unique_count": 3
         }
        },
        {
         "dtype": "float64",
         "name": "Unnamed: 66",
         "stats": {
          "histogram": [
           {
            "bin_end": 236.31811081906483,
            "bin_start": 37.909012021183145,
            "count": 2
           },
           {
            "bin_end": 434.72720961694654,
            "bin_start": 236.31811081906483,
            "count": 0
           },
           {
            "bin_end": 633.1363084148281,
            "bin_start": 434.72720961694654,
            "count": 0
           },
           {
            "bin_end": 831.5454072127098,
            "bin_start": 633.1363084148281,
            "count": 0
           },
           {
            "bin_end": 1029.9545060105916,
            "bin_start": 831.5454072127098,
            "count": 0
           },
           {
            "bin_end": 1228.3636048084732,
            "bin_start": 1029.9545060105916,
            "count": 0
           },
           {
            "bin_end": 1426.772703606355,
            "bin_start": 1228.3636048084732,
            "count": 0
           },
           {
            "bin_end": 1625.1818024042366,
            "bin_start": 1426.772703606355,
            "count": 0
           },
           {
            "bin_end": 1823.5909012021182,
            "bin_start": 1625.1818024042366,
            "count": 0
           },
           {
            "bin_end": 2022,
            "bin_start": 1823.5909012021182,
            "count": 1
           }
          ],
          "max": "2022.0",
          "min": "37.909012021183145",
          "nan_count": 2,
          "unique_count": 3
         }
        },
        {
         "dtype": "float64",
         "name": "Unnamed: 67",
         "stats": {
          "histogram": [
           {
            "bin_end": 236.88240824772308,
            "bin_start": 38.42489805302562,
            "count": 2
           },
           {
            "bin_end": 435.3399184424205,
            "bin_start": 236.88240824772308,
            "count": 0
           },
           {
            "bin_end": 633.797428637118,
            "bin_start": 435.3399184424205,
            "count": 0
           },
           {
            "bin_end": 832.2549388318154,
            "bin_start": 633.797428637118,
            "count": 0
           },
           {
            "bin_end": 1030.7124490265128,
            "bin_start": 832.2549388318154,
            "count": 0
           },
           {
            "bin_end": 1229.1699592212103,
            "bin_start": 1030.7124490265128,
            "count": 0
           },
           {
            "bin_end": 1427.6274694159076,
            "bin_start": 1229.1699592212103,
            "count": 0
           },
           {
            "bin_end": 1626.0849796106052,
            "bin_start": 1427.6274694159076,
            "count": 0
           },
           {
            "bin_end": 1824.5424898053027,
            "bin_start": 1626.0849796106052,
            "count": 0
           },
           {
            "bin_end": 2023,
            "bin_start": 1824.5424898053027,
            "count": 1
           }
          ],
          "max": "2023.0",
          "min": "38.42489805302562",
          "nan_count": 2,
          "unique_count": 3
         }
        },
        {
         "dtype": "int64",
         "name": "_deepnote_index_column"
        }
       ],
       "row_count": 5,
       "rows": [
        {
         "Data Source": "Last Updated Date",
         "Unnamed: 10": "nan",
         "Unnamed: 11": "nan",
         "Unnamed: 12": "nan",
         "Unnamed: 13": "nan",
         "Unnamed: 14": "nan",
         "Unnamed: 15": "nan",
         "Unnamed: 16": "nan",
         "Unnamed: 17": "nan",
         "Unnamed: 18": "nan",
         "Unnamed: 19": "nan",
         "Unnamed: 2": "nan",
         "Unnamed: 20": "nan",
         "Unnamed: 21": "nan",
         "Unnamed: 22": "nan",
         "Unnamed: 23": "nan",
         "Unnamed: 24": "nan",
         "Unnamed: 25": "nan",
         "Unnamed: 26": "nan",
         "Unnamed: 27": "nan",
         "Unnamed: 28": "nan",
         "Unnamed: 29": "nan",
         "Unnamed: 3": "nan",
         "Unnamed: 30": "nan",
         "Unnamed: 31": "nan",
         "Unnamed: 32": "nan",
         "Unnamed: 33": "nan",
         "Unnamed: 34": "nan",
         "Unnamed: 35": "nan",
         "Unnamed: 36": "nan",
         "Unnamed: 37": "nan",
         "Unnamed: 38": "nan",
         "Unnamed: 39": "nan",
         "Unnamed: 4": "nan",
         "Unnamed: 40": "nan",
         "Unnamed: 41": "nan",
         "Unnamed: 42": "nan",
         "Unnamed: 43": "nan",
         "Unnamed: 44": "nan",
         "Unnamed: 45": "nan",
         "Unnamed: 46": "nan",
         "Unnamed: 47": "nan",
         "Unnamed: 48": "nan",
         "Unnamed: 49": "nan",
         "Unnamed: 5": "nan",
         "Unnamed: 50": "nan",
         "Unnamed: 51": "nan",
         "Unnamed: 52": "nan",
         "Unnamed: 53": "nan",
         "Unnamed: 54": "nan",
         "Unnamed: 55": "nan",
         "Unnamed: 56": "nan",
         "Unnamed: 57": "nan",
         "Unnamed: 58": "nan",
         "Unnamed: 59": "nan",
         "Unnamed: 6": "nan",
         "Unnamed: 60": "nan",
         "Unnamed: 61": "nan",
         "Unnamed: 62": "nan",
         "Unnamed: 63": "nan",
         "Unnamed: 64": "nan",
         "Unnamed: 65": "nan",
         "Unnamed: 66": "nan",
         "Unnamed: 67": "nan",
         "Unnamed: 7": "nan",
         "Unnamed: 8": "nan",
         "Unnamed: 9": "nan",
         "World Development Indicators": "2025-01-28 00:00:00",
         "_deepnote_index_column": 0
        },
        {
         "Data Source": "nan",
         "Unnamed: 10": "nan",
         "Unnamed: 11": "nan",
         "Unnamed: 12": "nan",
         "Unnamed: 13": "nan",
         "Unnamed: 14": "nan",
         "Unnamed: 15": "nan",
         "Unnamed: 16": "nan",
         "Unnamed: 17": "nan",
         "Unnamed: 18": "nan",
         "Unnamed: 19": "nan",
         "Unnamed: 2": "nan",
         "Unnamed: 20": "nan",
         "Unnamed: 21": "nan",
         "Unnamed: 22": "nan",
         "Unnamed: 23": "nan",
         "Unnamed: 24": "nan",
         "Unnamed: 25": "nan",
         "Unnamed: 26": "nan",
         "Unnamed: 27": "nan",
         "Unnamed: 28": "nan",
         "Unnamed: 29": "nan",
         "Unnamed: 3": "nan",
         "Unnamed: 30": "nan",
         "Unnamed: 31": "nan",
         "Unnamed: 32": "nan",
         "Unnamed: 33": "nan",
         "Unnamed: 34": "nan",
         "Unnamed: 35": "nan",
         "Unnamed: 36": "nan",
         "Unnamed: 37": "nan",
         "Unnamed: 38": "nan",
         "Unnamed: 39": "nan",
         "Unnamed: 4": "nan",
         "Unnamed: 40": "nan",
         "Unnamed: 41": "nan",
         "Unnamed: 42": "nan",
         "Unnamed: 43": "nan",
         "Unnamed: 44": "nan",
         "Unnamed: 45": "nan",
         "Unnamed: 46": "nan",
         "Unnamed: 47": "nan",
         "Unnamed: 48": "nan",
         "Unnamed: 49": "nan",
         "Unnamed: 5": "nan",
         "Unnamed: 50": "nan",
         "Unnamed: 51": "nan",
         "Unnamed: 52": "nan",
         "Unnamed: 53": "nan",
         "Unnamed: 54": "nan",
         "Unnamed: 55": "nan",
         "Unnamed: 56": "nan",
         "Unnamed: 57": "nan",
         "Unnamed: 58": "nan",
         "Unnamed: 59": "nan",
         "Unnamed: 6": "nan",
         "Unnamed: 60": "nan",
         "Unnamed: 61": "nan",
         "Unnamed: 62": "nan",
         "Unnamed: 63": "nan",
         "Unnamed: 64": "nan",
         "Unnamed: 65": "nan",
         "Unnamed: 66": "nan",
         "Unnamed: 67": "nan",
         "Unnamed: 7": "nan",
         "Unnamed: 8": "nan",
         "Unnamed: 9": "nan",
         "World Development Indicators": "nan",
         "_deepnote_index_column": 1
        },
        {
         "Data Source": "Country Name",
         "Unnamed: 10": 1966,
         "Unnamed: 11": 1967,
         "Unnamed: 12": 1968,
         "Unnamed: 13": 1969,
         "Unnamed: 14": 1970,
         "Unnamed: 15": 1971,
         "Unnamed: 16": 1972,
         "Unnamed: 17": 1973,
         "Unnamed: 18": 1974,
         "Unnamed: 19": 1975,
         "Unnamed: 2": "Indicator Name",
         "Unnamed: 20": 1976,
         "Unnamed: 21": 1977,
         "Unnamed: 22": 1978,
         "Unnamed: 23": 1979,
         "Unnamed: 24": 1980,
         "Unnamed: 25": 1981,
         "Unnamed: 26": 1982,
         "Unnamed: 27": 1983,
         "Unnamed: 28": 1984,
         "Unnamed: 29": 1985,
         "Unnamed: 3": "Indicator Code",
         "Unnamed: 30": 1986,
         "Unnamed: 31": 1987,
         "Unnamed: 32": 1988,
         "Unnamed: 33": 1989,
         "Unnamed: 34": 1990,
         "Unnamed: 35": 1991,
         "Unnamed: 36": 1992,
         "Unnamed: 37": 1993,
         "Unnamed: 38": 1994,
         "Unnamed: 39": 1995,
         "Unnamed: 4": 1960,
         "Unnamed: 40": 1996,
         "Unnamed: 41": 1997,
         "Unnamed: 42": 1998,
         "Unnamed: 43": 1999,
         "Unnamed: 44": 2000,
         "Unnamed: 45": 2001,
         "Unnamed: 46": 2002,
         "Unnamed: 47": 2003,
         "Unnamed: 48": 2004,
         "Unnamed: 49": 2005,
         "Unnamed: 5": 1961,
         "Unnamed: 50": 2006,
         "Unnamed: 51": 2007,
         "Unnamed: 52": 2008,
         "Unnamed: 53": 2009,
         "Unnamed: 54": 2010,
         "Unnamed: 55": 2011,
         "Unnamed: 56": 2012,
         "Unnamed: 57": 2013,
         "Unnamed: 58": 2014,
         "Unnamed: 59": 2015,
         "Unnamed: 6": 1962,
         "Unnamed: 60": 2016,
         "Unnamed: 61": 2017,
         "Unnamed: 62": 2018,
         "Unnamed: 63": 2019,
         "Unnamed: 64": 2020,
         "Unnamed: 65": 2021,
         "Unnamed: 66": 2022,
         "Unnamed: 67": 2023,
         "Unnamed: 7": 1963,
         "Unnamed: 8": 1964,
         "Unnamed: 9": 1965,
         "World Development Indicators": "Country Code",
         "_deepnote_index_column": 2
        },
        {
         "Data Source": "Aruba",
         "Unnamed: 10": 50.685,
         "Unnamed: 11": 50.67,
         "Unnamed: 12": 50.654,
         "Unnamed: 13": 50.639,
         "Unnamed: 14": 50.624,
         "Unnamed: 15": 50.609,
         "Unnamed: 16": 50.593,
         "Unnamed: 17": 50.578,
         "Unnamed: 18": 50.563,
         "Unnamed: 19": 50.548,
         "Unnamed: 2": "Urban population (% of total population)",
         "Unnamed: 20": 50.532,
         "Unnamed: 21": 50.517,
         "Unnamed: 22": 50.502,
         "Unnamed: 23": 50.487,
         "Unnamed: 24": 50.472,
         "Unnamed: 25": 50.456,
         "Unnamed: 26": 50.441,
         "Unnamed: 27": 50.426,
         "Unnamed: 28": 50.411,
         "Unnamed: 29": 50.395,
         "Unnamed: 3": "SP.URB.TOTL.IN.ZS",
         "Unnamed: 30": 50.38,
         "Unnamed: 31": 50.365,
         "Unnamed: 32": 50.35,
         "Unnamed: 33": 50.335,
         "Unnamed: 34": 50.319,
         "Unnamed: 35": 50.304,
         "Unnamed: 36": 49.998,
         "Unnamed: 37": 49.588,
         "Unnamed: 38": 49.177,
         "Unnamed: 39": 48.767,
         "Unnamed: 4": 50.776,
         "Unnamed: 40": 48.356,
         "Unnamed: 41": 47.946,
         "Unnamed: 42": 47.536,
         "Unnamed: 43": 47.127,
         "Unnamed: 44": 46.717,
         "Unnamed: 45": 46.339,
         "Unnamed: 46": 45.972,
         "Unnamed: 47": 45.606,
         "Unnamed: 48": 45.24,
         "Unnamed: 49": 44.875,
         "Unnamed: 5": 50.761,
         "Unnamed: 50": 44.511,
         "Unnamed: 51": 44.147,
         "Unnamed: 52": 43.783,
         "Unnamed: 53": 43.421,
         "Unnamed: 54": 43.059,
         "Unnamed: 55": 42.94,
         "Unnamed: 56": 42.957,
         "Unnamed: 57": 42.99,
         "Unnamed: 58": 43.041,
         "Unnamed: 59": 43.108,
         "Unnamed: 6": 50.746,
         "Unnamed: 60": 43.192,
         "Unnamed: 61": 43.293,
         "Unnamed: 62": 43.411,
         "Unnamed: 63": 43.546,
         "Unnamed: 64": 43.697,
         "Unnamed: 65": 43.866,
         "Unnamed: 66": 44.052,
         "Unnamed: 67": 44.254,
         "Unnamed: 7": 50.73,
         "Unnamed: 8": 50.715,
         "Unnamed: 9": 50.7,
         "World Development Indicators": "ABW",
         "_deepnote_index_column": 3
        },
        {
         "Data Source": "Africa Eastern and Southern",
         "Unnamed: 10": 16.269383849747058,
         "Unnamed: 11": 16.58865660992005,
         "Unnamed: 12": 16.914649201516156,
         "Unnamed: 13": 17.25131695290713,
         "Unnamed: 14": 17.570660582747962,
         "Unnamed: 15": 17.89519951327718,
         "Unnamed: 16": 18.241389940097477,
         "Unnamed: 17": 18.58373936257325,
         "Unnamed: 18": 18.898833535198566,
         "Unnamed: 19": 19.2191926051592,
         "Unnamed: 2": "Urban population (% of total population)",
         "Unnamed: 20": 19.540021613308976,
         "Unnamed: 21": 19.87457507856362,
         "Unnamed: 22": 20.227304149778476,
         "Unnamed: 23": 20.565956202873288,
         "Unnamed: 24": 20.900489599167567,
         "Unnamed: 25": 21.21962767167218,
         "Unnamed: 26": 21.531317973484143,
         "Unnamed: 27": 21.90345387902791,
         "Unnamed: 28": 22.333344662926272,
         "Unnamed: 29": 22.80057781479247,
         "Unnamed: 3": "SP.URB.TOTL.IN.ZS",
         "Unnamed: 30": 23.30393556908403,
         "Unnamed: 31": 23.805338624227314,
         "Unnamed: 32": 24.30672508153476,
         "Unnamed: 33": 24.800606156284452,
         "Unnamed: 34": 25.30871439140427,
         "Unnamed: 35": 25.742565505244475,
         "Unnamed: 36": 26.16629412175098,
         "Unnamed: 37": 26.60729398739791,
         "Unnamed: 38": 27.03757489849473,
         "Unnamed: 39": 27.408217689318988,
         "Unnamed: 4": 14.5766764581838,
         "Unnamed: 40": 27.68569717749504,
         "Unnamed: 41": 27.95808268161133,
         "Unnamed: 42": 28.24592081358982,
         "Unnamed: 43": 28.532893069904652,
         "Unnamed: 44": 28.813360828210083,
         "Unnamed: 45": 29.110011172433047,
         "Unnamed: 46": 29.423890315869446,
         "Unnamed: 47": 29.734869721955263,
         "Unnamed: 48": 30.048039781262744,
         "Unnamed: 49": 30.380995339287647,
         "Unnamed: 5": 14.825175246066529,
         "Unnamed: 50": 30.70402002388699,
         "Unnamed: 51": 30.958245027151676,
         "Unnamed: 52": 31.362782880476157,
         "Unnamed: 53": 31.774237305059636,
         "Unnamed: 54": 32.19559534712205,
         "Unnamed: 55": 32.628068822959236,
         "Unnamed: 56": 33.05274222339298,
         "Unnamed: 57": 33.49655655729981,
         "Unnamed: 58": 33.959633110123086,
         "Unnamed: 59": 34.44728076174758,
         "Unnamed: 6": 15.083801529490866,
         "Unnamed: 60": 34.91954437615073,
         "Unnamed: 61": 35.39628945792024,
         "Unnamed: 62": 35.893397926218086,
         "Unnamed: 63": 36.38427228781498,
         "Unnamed: 64": 36.88403448173588,
         "Unnamed: 65": 37.39363252917165,
         "Unnamed: 66": 37.909012021183145,
         "Unnamed: 67": 38.42489805302562,
         "Unnamed: 7": 15.363044638249487,
         "Unnamed: 8": 15.655383313966269,
         "Unnamed: 9": 15.955912089768663,
         "World Development Indicators": "AFE",
         "_deepnote_index_column": 4
        }
       ],
       "type": "dataframe"
      },
      "text/html": [
       "<div>\n",
       "<style scoped>\n",
       "    .dataframe tbody tr th:only-of-type {\n",
       "        vertical-align: middle;\n",
       "    }\n",
       "\n",
       "    .dataframe tbody tr th {\n",
       "        vertical-align: top;\n",
       "    }\n",
       "\n",
       "    .dataframe thead th {\n",
       "        text-align: right;\n",
       "    }\n",
       "</style>\n",
       "<table border=\"1\" class=\"dataframe\">\n",
       "  <thead>\n",
       "    <tr style=\"text-align: right;\">\n",
       "      <th></th>\n",
       "      <th>Data Source</th>\n",
       "      <th>World Development Indicators</th>\n",
       "      <th>Unnamed: 2</th>\n",
       "      <th>Unnamed: 3</th>\n",
       "      <th>Unnamed: 4</th>\n",
       "      <th>Unnamed: 5</th>\n",
       "      <th>Unnamed: 6</th>\n",
       "      <th>Unnamed: 7</th>\n",
       "      <th>Unnamed: 8</th>\n",
       "      <th>Unnamed: 9</th>\n",
       "      <th>...</th>\n",
       "      <th>Unnamed: 58</th>\n",
       "      <th>Unnamed: 59</th>\n",
       "      <th>Unnamed: 60</th>\n",
       "      <th>Unnamed: 61</th>\n",
       "      <th>Unnamed: 62</th>\n",
       "      <th>Unnamed: 63</th>\n",
       "      <th>Unnamed: 64</th>\n",
       "      <th>Unnamed: 65</th>\n",
       "      <th>Unnamed: 66</th>\n",
       "      <th>Unnamed: 67</th>\n",
       "    </tr>\n",
       "  </thead>\n",
       "  <tbody>\n",
       "    <tr>\n",
       "      <th>0</th>\n",
       "      <td>Last Updated Date</td>\n",
       "      <td>2025-01-28 00:00:00</td>\n",
       "      <td>NaN</td>\n",
       "      <td>NaN</td>\n",
       "      <td>NaN</td>\n",
       "      <td>NaN</td>\n",
       "      <td>NaN</td>\n",
       "      <td>NaN</td>\n",
       "      <td>NaN</td>\n",
       "      <td>NaN</td>\n",
       "      <td>...</td>\n",
       "      <td>NaN</td>\n",
       "      <td>NaN</td>\n",
       "      <td>NaN</td>\n",
       "      <td>NaN</td>\n",
       "      <td>NaN</td>\n",
       "      <td>NaN</td>\n",
       "      <td>NaN</td>\n",
       "      <td>NaN</td>\n",
       "      <td>NaN</td>\n",
       "      <td>NaN</td>\n",
       "    </tr>\n",
       "    <tr>\n",
       "      <th>1</th>\n",
       "      <td>NaN</td>\n",
       "      <td>NaN</td>\n",
       "      <td>NaN</td>\n",
       "      <td>NaN</td>\n",
       "      <td>NaN</td>\n",
       "      <td>NaN</td>\n",
       "      <td>NaN</td>\n",
       "      <td>NaN</td>\n",
       "      <td>NaN</td>\n",
       "      <td>NaN</td>\n",
       "      <td>...</td>\n",
       "      <td>NaN</td>\n",
       "      <td>NaN</td>\n",
       "      <td>NaN</td>\n",
       "      <td>NaN</td>\n",
       "      <td>NaN</td>\n",
       "      <td>NaN</td>\n",
       "      <td>NaN</td>\n",
       "      <td>NaN</td>\n",
       "      <td>NaN</td>\n",
       "      <td>NaN</td>\n",
       "    </tr>\n",
       "    <tr>\n",
       "      <th>2</th>\n",
       "      <td>Country Name</td>\n",
       "      <td>Country Code</td>\n",
       "      <td>Indicator Name</td>\n",
       "      <td>Indicator Code</td>\n",
       "      <td>1960.000000</td>\n",
       "      <td>1961.000000</td>\n",
       "      <td>1962.000000</td>\n",
       "      <td>1963.000000</td>\n",
       "      <td>1964.000000</td>\n",
       "      <td>1965.000000</td>\n",
       "      <td>...</td>\n",
       "      <td>2014.000000</td>\n",
       "      <td>2015.000000</td>\n",
       "      <td>2016.000000</td>\n",
       "      <td>2017.000000</td>\n",
       "      <td>2018.000000</td>\n",
       "      <td>2019.000000</td>\n",
       "      <td>2020.000000</td>\n",
       "      <td>2021.000000</td>\n",
       "      <td>2022.000000</td>\n",
       "      <td>2023.000000</td>\n",
       "    </tr>\n",
       "    <tr>\n",
       "      <th>3</th>\n",
       "      <td>Aruba</td>\n",
       "      <td>ABW</td>\n",
       "      <td>Urban population (% of total population)</td>\n",
       "      <td>SP.URB.TOTL.IN.ZS</td>\n",
       "      <td>50.776000</td>\n",
       "      <td>50.761000</td>\n",
       "      <td>50.746000</td>\n",
       "      <td>50.730000</td>\n",
       "      <td>50.715000</td>\n",
       "      <td>50.700000</td>\n",
       "      <td>...</td>\n",
       "      <td>43.041000</td>\n",
       "      <td>43.108000</td>\n",
       "      <td>43.192000</td>\n",
       "      <td>43.293000</td>\n",
       "      <td>43.411000</td>\n",
       "      <td>43.546000</td>\n",
       "      <td>43.697000</td>\n",
       "      <td>43.866000</td>\n",
       "      <td>44.052000</td>\n",
       "      <td>44.254000</td>\n",
       "    </tr>\n",
       "    <tr>\n",
       "      <th>4</th>\n",
       "      <td>Africa Eastern and Southern</td>\n",
       "      <td>AFE</td>\n",
       "      <td>Urban population (% of total population)</td>\n",
       "      <td>SP.URB.TOTL.IN.ZS</td>\n",
       "      <td>14.576676</td>\n",
       "      <td>14.825175</td>\n",
       "      <td>15.083802</td>\n",
       "      <td>15.363045</td>\n",
       "      <td>15.655383</td>\n",
       "      <td>15.955912</td>\n",
       "      <td>...</td>\n",
       "      <td>33.959633</td>\n",
       "      <td>34.447281</td>\n",
       "      <td>34.919544</td>\n",
       "      <td>35.396289</td>\n",
       "      <td>35.893398</td>\n",
       "      <td>36.384272</td>\n",
       "      <td>36.884034</td>\n",
       "      <td>37.393633</td>\n",
       "      <td>37.909012</td>\n",
       "      <td>38.424898</td>\n",
       "    </tr>\n",
       "  </tbody>\n",
       "</table>\n",
       "<p>5 rows × 68 columns</p>\n",
       "</div>"
      ],
      "text/plain": [
       "                   Data Source World Development Indicators  \\\n",
       "0            Last Updated Date          2025-01-28 00:00:00   \n",
       "1                          NaN                          NaN   \n",
       "2                 Country Name                 Country Code   \n",
       "3                        Aruba                          ABW   \n",
       "4  Africa Eastern and Southern                          AFE   \n",
       "\n",
       "                                 Unnamed: 2         Unnamed: 3   Unnamed: 4  \\\n",
       "0                                       NaN                NaN          NaN   \n",
       "1                                       NaN                NaN          NaN   \n",
       "2                            Indicator Name     Indicator Code  1960.000000   \n",
       "3  Urban population (% of total population)  SP.URB.TOTL.IN.ZS    50.776000   \n",
       "4  Urban population (% of total population)  SP.URB.TOTL.IN.ZS    14.576676   \n",
       "\n",
       "    Unnamed: 5   Unnamed: 6   Unnamed: 7   Unnamed: 8   Unnamed: 9  ...  \\\n",
       "0          NaN          NaN          NaN          NaN          NaN  ...   \n",
       "1          NaN          NaN          NaN          NaN          NaN  ...   \n",
       "2  1961.000000  1962.000000  1963.000000  1964.000000  1965.000000  ...   \n",
       "3    50.761000    50.746000    50.730000    50.715000    50.700000  ...   \n",
       "4    14.825175    15.083802    15.363045    15.655383    15.955912  ...   \n",
       "\n",
       "   Unnamed: 58  Unnamed: 59  Unnamed: 60  Unnamed: 61  Unnamed: 62  \\\n",
       "0          NaN          NaN          NaN          NaN          NaN   \n",
       "1          NaN          NaN          NaN          NaN          NaN   \n",
       "2  2014.000000  2015.000000  2016.000000  2017.000000  2018.000000   \n",
       "3    43.041000    43.108000    43.192000    43.293000    43.411000   \n",
       "4    33.959633    34.447281    34.919544    35.396289    35.893398   \n",
       "\n",
       "   Unnamed: 63  Unnamed: 64  Unnamed: 65  Unnamed: 66  Unnamed: 67  \n",
       "0          NaN          NaN          NaN          NaN          NaN  \n",
       "1          NaN          NaN          NaN          NaN          NaN  \n",
       "2  2019.000000  2020.000000  2021.000000  2022.000000  2023.000000  \n",
       "3    43.546000    43.697000    43.866000    44.052000    44.254000  \n",
       "4    36.384272    36.884034    37.393633    37.909012    38.424898  \n",
       "\n",
       "[5 rows x 68 columns]"
      ]
     },
     "execution_count": 3,
     "metadata": {},
     "output_type": "execute_result"
    }
   ],
   "source": [
    "# View the first 5 rows on urban data\n",
    "urban_df.head()"
   ]
  },
  {
   "cell_type": "code",
   "execution_count": 4,
   "metadata": {
    "cell_id": "a043b691ea7c4834bc94d65d5237cab2",
    "colab": {
     "base_uri": "https://localhost:8080/",
     "height": 521
    },
    "deepnote_cell_type": "code",
    "execution_context_id": "f88d9dd5-f11a-4387-a743-90b1155ea7b3",
    "execution_millis": 27,
    "execution_start": 1743089359682,
    "id": "7loW7IZHXOAM",
    "outputId": "6a1289e3-f8a9-4eca-f9da-351bf278aa54",
    "source_hash": "ae7162d3"
   },
   "outputs": [
    {
     "data": {
      "application/vnd.deepnote.dataframe.v3+json": {
       "column_count": 68,
       "columns": [
        {
         "dtype": "object",
         "name": "Data Source",
         "stats": {
          "categories": [
           {
            "count": 1,
            "name": "Kosovo"
           },
           {
            "count": 1,
            "name": "Yemen, Rep."
           },
           {
            "count": 3,
            "name": "3 others"
           }
          ],
          "nan_count": 0,
          "unique_count": 5
         }
        },
        {
         "dtype": "object",
         "name": "World Development Indicators",
         "stats": {
          "categories": [
           {
            "count": 1,
            "name": "XKX"
           },
           {
            "count": 1,
            "name": "YEM"
           },
           {
            "count": 3,
            "name": "3 others"
           }
          ],
          "nan_count": 0,
          "unique_count": 5
         }
        },
        {
         "dtype": "object",
         "name": "Unnamed: 2",
         "stats": {
          "categories": [
           {
            "count": 5,
            "name": "Urban population (% of total population)"
           }
          ],
          "nan_count": 0,
          "unique_count": 1
         }
        },
        {
         "dtype": "object",
         "name": "Unnamed: 3",
         "stats": {
          "categories": [
           {
            "count": 5,
            "name": "SP.URB.TOTL.IN.ZS"
           }
          ],
          "nan_count": 0,
          "unique_count": 1
         }
        },
        {
         "dtype": "float64",
         "name": "Unnamed: 4",
         "stats": {
          "histogram": [
           {
            "bin_end": 12.8519,
            "bin_start": 9.1,
            "count": 2
           },
           {
            "bin_end": 16.6038,
            "bin_start": 12.8519,
            "count": 0
           },
           {
            "bin_end": 20.3557,
            "bin_start": 16.6038,
            "count": 1
           },
           {
            "bin_end": 24.107599999999998,
            "bin_start": 20.3557,
            "count": 0
           },
           {
            "bin_end": 27.859499999999997,
            "bin_start": 24.107599999999998,
            "count": 0
           },
           {
            "bin_end": 31.611400000000003,
            "bin_start": 27.859499999999997,
            "count": 0
           },
           {
            "bin_end": 35.3633,
            "bin_start": 31.611400000000003,
            "count": 0
           },
           {
            "bin_end": 39.1152,
            "bin_start": 35.3633,
            "count": 0
           },
           {
            "bin_end": 42.8671,
            "bin_start": 39.1152,
            "count": 0
           },
           {
            "bin_end": 46.619,
            "bin_start": 42.8671,
            "count": 1
           }
          ],
          "max": "46.619",
          "min": "9.1",
          "nan_count": 1,
          "unique_count": 4
         }
        },
        {
         "dtype": "float64",
         "name": "Unnamed: 5",
         "stats": {
          "histogram": [
           {
            "bin_end": 13.1924,
            "bin_start": 9.459,
            "count": 2
           },
           {
            "bin_end": 16.925800000000002,
            "bin_start": 13.1924,
            "count": 0
           },
           {
            "bin_end": 20.659200000000002,
            "bin_start": 16.925800000000002,
            "count": 1
           },
           {
            "bin_end": 24.3926,
            "bin_start": 20.659200000000002,
            "count": 0
           },
           {
            "bin_end": 28.126,
            "bin_start": 24.3926,
            "count": 0
           },
           {
            "bin_end": 31.859400000000004,
            "bin_start": 28.126,
            "count": 0
           },
           {
            "bin_end": 35.592800000000004,
            "bin_start": 31.859400000000004,
            "count": 0
           },
           {
            "bin_end": 39.3262,
            "bin_start": 35.592800000000004,
            "count": 0
           },
           {
            "bin_end": 43.0596,
            "bin_start": 39.3262,
            "count": 0
           },
           {
            "bin_end": 46.793,
            "bin_start": 43.0596,
            "count": 1
           }
          ],
          "max": "46.793",
          "min": "9.459",
          "nan_count": 1,
          "unique_count": 4
         }
        },
        {
         "dtype": "float64",
         "name": "Unnamed: 6",
         "stats": {
          "histogram": [
           {
            "bin_end": 13.538499999999999,
            "bin_start": 9.831,
            "count": 2
           },
           {
            "bin_end": 17.246000000000002,
            "bin_start": 13.538499999999999,
            "count": 0
           },
           {
            "bin_end": 20.953500000000002,
            "bin_start": 17.246000000000002,
            "count": 1
           },
           {
            "bin_end": 24.661,
            "bin_start": 20.953500000000002,
            "count": 0
           },
           {
            "bin_end": 28.3685,
            "bin_start": 24.661,
            "count": 0
           },
           {
            "bin_end": 32.07600000000001,
            "bin_start": 28.3685,
            "count": 0
           },
           {
            "bin_end": 35.783500000000004,
            "bin_start": 32.07600000000001,
            "count": 0
           },
           {
            "bin_end": 39.491,
            "bin_start": 35.783500000000004,
            "count": 0
           },
           {
            "bin_end": 43.19850000000001,
            "bin_start": 39.491,
            "count": 0
           },
           {
            "bin_end": 46.906,
            "bin_start": 43.19850000000001,
            "count": 1
           }
          ],
          "max": "46.906",
          "min": "9.831",
          "nan_count": 1,
          "unique_count": 4
         }
        },
        {
         "dtype": "float64",
         "name": "Unnamed: 7",
         "stats": {
          "histogram": [
           {
            "bin_end": 13.8964,
            "bin_start": 10.216,
            "count": 2
           },
           {
            "bin_end": 17.5768,
            "bin_start": 13.8964,
            "count": 0
           },
           {
            "bin_end": 21.257199999999997,
            "bin_start": 17.5768,
            "count": 1
           },
           {
            "bin_end": 24.9376,
            "bin_start": 21.257199999999997,
            "count": 0
           },
           {
            "bin_end": 28.618000000000002,
            "bin_start": 24.9376,
            "count": 0
           },
           {
            "bin_end": 32.2984,
            "bin_start": 28.618000000000002,
            "count": 0
           },
           {
            "bin_end": 35.9788,
            "bin_start": 32.2984,
            "count": 0
           },
           {
            "bin_end": 39.6592,
            "bin_start": 35.9788,
            "count": 0
           },
           {
            "bin_end": 43.339600000000004,
            "bin_start": 39.6592,
            "count": 0
           },
           {
            "bin_end": 47.02,
            "bin_start": 43.339600000000004,
            "count": 1
           }
          ],
          "max": "47.02",
          "min": "10.216",
          "nan_count": 1,
          "unique_count": 4
         }
        },
        {
         "dtype": "float64",
         "name": "Unnamed: 8",
         "stats": {
          "histogram": [
           {
            "bin_end": 14.266,
            "bin_start": 10.614,
            "count": 2
           },
           {
            "bin_end": 17.918,
            "bin_start": 14.266,
            "count": 0
           },
           {
            "bin_end": 21.57,
            "bin_start": 17.918,
            "count": 0
           },
           {
            "bin_end": 25.222,
            "bin_start": 21.57,
            "count": 1
           },
           {
            "bin_end": 28.874,
            "bin_start": 25.222,
            "count": 0
           },
           {
            "bin_end": 32.525999999999996,
            "bin_start": 28.874,
            "count": 0
           },
           {
            "bin_end": 36.178,
            "bin_start": 32.525999999999996,
            "count": 0
           },
           {
            "bin_end": 39.83,
            "bin_start": 36.178,
            "count": 0
           },
           {
            "bin_end": 43.482,
            "bin_start": 39.83,
            "count": 0
           },
           {
            "bin_end": 47.134,
            "bin_start": 43.482,
            "count": 1
           }
          ],
          "max": "47.134",
          "min": "10.614",
          "nan_count": 1,
          "unique_count": 4
         }
        },
        {
         "dtype": "float64",
         "name": "Unnamed: 9",
         "stats": {
          "histogram": [
           {
            "bin_end": 14.6482,
            "bin_start": 11.026,
            "count": 2
           },
           {
            "bin_end": 18.2704,
            "bin_start": 14.6482,
            "count": 0
           },
           {
            "bin_end": 21.892599999999998,
            "bin_start": 18.2704,
            "count": 0
           },
           {
            "bin_end": 25.514799999999997,
            "bin_start": 21.892599999999998,
            "count": 1
           },
           {
            "bin_end": 29.136999999999997,
            "bin_start": 25.514799999999997,
            "count": 0
           },
           {
            "bin_end": 32.75919999999999,
            "bin_start": 29.136999999999997,
            "count": 0
           },
           {
            "bin_end": 36.3814,
            "bin_start": 32.75919999999999,
            "count": 0
           },
           {
            "bin_end": 40.00359999999999,
            "bin_start": 36.3814,
            "count": 0
           },
           {
            "bin_end": 43.6258,
            "bin_start": 40.00359999999999,
            "count": 0
           },
           {
            "bin_end": 47.248,
            "bin_start": 43.6258,
            "count": 1
           }
          ],
          "max": "47.248",
          "min": "11.026",
          "nan_count": 1,
          "unique_count": 4
         }
        },
        {
         "dtype": "float64",
         "name": "Unnamed: 10",
         "stats": {
          "histogram": [
           {
            "bin_end": 15.042100000000001,
            "bin_start": 11.451,
            "count": 1
           },
           {
            "bin_end": 18.633200000000002,
            "bin_start": 15.042100000000001,
            "count": 1
           },
           {
            "bin_end": 22.2243,
            "bin_start": 18.633200000000002,
            "count": 0
           },
           {
            "bin_end": 25.8154,
            "bin_start": 22.2243,
            "count": 1
           },
           {
            "bin_end": 29.4065,
            "bin_start": 25.8154,
            "count": 0
           },
           {
            "bin_end": 32.9976,
            "bin_start": 29.4065,
            "count": 0
           },
           {
            "bin_end": 36.5887,
            "bin_start": 32.9976,
            "count": 0
           },
           {
            "bin_end": 40.1798,
            "bin_start": 36.5887,
            "count": 0
           },
           {
            "bin_end": 43.7709,
            "bin_start": 40.1798,
            "count": 0
           },
           {
            "bin_end": 47.362,
            "bin_start": 43.7709,
            "count": 1
           }
          ],
          "max": "47.362",
          "min": "11.451",
          "nan_count": 1,
          "unique_count": 4
         }
        },
        {
         "dtype": "float64",
         "name": "Unnamed: 11",
         "stats": {
          "histogram": [
           {
            "bin_end": 15.4495,
            "bin_start": 11.891,
            "count": 1
           },
           {
            "bin_end": 19.008,
            "bin_start": 15.4495,
            "count": 1
           },
           {
            "bin_end": 22.566499999999998,
            "bin_start": 19.008,
            "count": 0
           },
           {
            "bin_end": 26.125,
            "bin_start": 22.566499999999998,
            "count": 0
           },
           {
            "bin_end": 29.683500000000002,
            "bin_start": 26.125,
            "count": 1
           },
           {
            "bin_end": 33.242,
            "bin_start": 29.683500000000002,
            "count": 0
           },
           {
            "bin_end": 36.8005,
            "bin_start": 33.242,
            "count": 0
           },
           {
            "bin_end": 40.359,
            "bin_start": 36.8005,
            "count": 0
           },
           {
            "bin_end": 43.9175,
            "bin_start": 40.359,
            "count": 0
           },
           {
            "bin_end": 47.476,
            "bin_start": 43.9175,
            "count": 1
           }
          ],
          "max": "47.476",
          "min": "11.891",
          "nan_count": 1,
          "unique_count": 4
         }
        },
        {
         "dtype": "float64",
         "name": "Unnamed: 12",
         "stats": {
          "histogram": [
           {
            "bin_end": 15.8713,
            "bin_start": 12.347,
            "count": 1
           },
           {
            "bin_end": 19.3956,
            "bin_start": 15.8713,
            "count": 1
           },
           {
            "bin_end": 22.9199,
            "bin_start": 19.3956,
            "count": 0
           },
           {
            "bin_end": 26.444200000000002,
            "bin_start": 22.9199,
            "count": 0
           },
           {
            "bin_end": 29.9685,
            "bin_start": 26.444200000000002,
            "count": 1
           },
           {
            "bin_end": 33.4928,
            "bin_start": 29.9685,
            "count": 0
           },
           {
            "bin_end": 37.0171,
            "bin_start": 33.4928,
            "count": 0
           },
           {
            "bin_end": 40.5414,
            "bin_start": 37.0171,
            "count": 0
           },
           {
            "bin_end": 44.0657,
            "bin_start": 40.5414,
            "count": 0
           },
           {
            "bin_end": 47.59,
            "bin_start": 44.0657,
            "count": 1
           }
          ],
          "max": "47.59",
          "min": "12.347",
          "nan_count": 1,
          "unique_count": 4
         }
        },
        {
         "dtype": "float64",
         "name": "Unnamed: 13",
         "stats": {
          "histogram": [
           {
            "bin_end": 16.3039,
            "bin_start": 12.815,
            "count": 1
           },
           {
            "bin_end": 19.7928,
            "bin_start": 16.3039,
            "count": 1
           },
           {
            "bin_end": 23.2817,
            "bin_start": 19.7928,
            "count": 0
           },
           {
            "bin_end": 26.7706,
            "bin_start": 23.2817,
            "count": 0
           },
           {
            "bin_end": 30.259500000000003,
            "bin_start": 26.7706,
            "count": 1
           },
           {
            "bin_end": 33.7484,
            "bin_start": 30.259500000000003,
            "count": 0
           },
           {
            "bin_end": 37.2373,
            "bin_start": 33.7484,
            "count": 0
           },
           {
            "bin_end": 40.7262,
            "bin_start": 37.2373,
            "count": 0
           },
           {
            "bin_end": 44.2151,
            "bin_start": 40.7262,
            "count": 0
           },
           {
            "bin_end": 47.704,
            "bin_start": 44.2151,
            "count": 1
           }
          ],
          "max": "47.704",
          "min": "12.815",
          "nan_count": 1,
          "unique_count": 4
         }
        },
        {
         "dtype": "float64",
         "name": "Unnamed: 14",
         "stats": {
          "histogram": [
           {
            "bin_end": 16.7509,
            "bin_start": 13.3,
            "count": 1
           },
           {
            "bin_end": 20.2018,
            "bin_start": 16.7509,
            "count": 1
           },
           {
            "bin_end": 23.6527,
            "bin_start": 20.2018,
            "count": 0
           },
           {
            "bin_end": 27.1036,
            "bin_start": 23.6527,
            "count": 0
           },
           {
            "bin_end": 30.5545,
            "bin_start": 27.1036,
            "count": 1
           },
           {
            "bin_end": 34.005399999999995,
            "bin_start": 30.5545,
            "count": 0
           },
           {
            "bin_end": 37.4563,
            "bin_start": 34.005399999999995,
            "count": 0
           },
           {
            "bin_end": 40.9072,
            "bin_start": 37.4563,
            "count": 0
           },
           {
            "bin_end": 44.3581,
            "bin_start": 40.9072,
            "count": 0
           },
           {
            "bin_end": 47.809,
            "bin_start": 44.3581,
            "count": 1
           }
          ],
          "max": "47.809",
          "min": "13.3",
          "nan_count": 1,
          "unique_count": 4
         }
        },
        {
         "dtype": "float64",
         "name": "Unnamed: 15",
         "stats": {
          "histogram": [
           {
            "bin_end": 17.025100000000002,
            "bin_start": 13.598,
            "count": 1
           },
           {
            "bin_end": 20.4522,
            "bin_start": 17.025100000000002,
            "count": 1
           },
           {
            "bin_end": 23.8793,
            "bin_start": 20.4522,
            "count": 0
           },
           {
            "bin_end": 27.306400000000004,
            "bin_start": 23.8793,
            "count": 0
           },
           {
            "bin_end": 30.7335,
            "bin_start": 27.306400000000004,
            "count": 0
           },
           {
            "bin_end": 34.1606,
            "bin_start": 30.7335,
            "count": 1
           },
           {
            "bin_end": 37.587700000000005,
            "bin_start": 34.1606,
            "count": 0
           },
           {
            "bin_end": 41.0148,
            "bin_start": 37.587700000000005,
            "count": 0
           },
           {
            "bin_end": 44.441900000000004,
            "bin_start": 41.0148,
            "count": 0
           },
           {
            "bin_end": 47.869,
            "bin_start": 44.441900000000004,
            "count": 1
           }
          ],
          "max": "47.869",
          "min": "13.598",
          "nan_count": 1,
          "unique_count": 4
         }
        },
        {
         "dtype": "float64",
         "name": "Unnamed: 16",
         "stats": {
          "histogram": [
           {
            "bin_end": 17.3038,
            "bin_start": 13.901,
            "count": 1
           },
           {
            "bin_end": 20.7066,
            "bin_start": 17.3038,
            "count": 1
           },
           {
            "bin_end": 24.1094,
            "bin_start": 20.7066,
            "count": 0
           },
           {
            "bin_end": 27.5122,
            "bin_start": 24.1094,
            "count": 0
           },
           {
            "bin_end": 30.915000000000003,
            "bin_start": 27.5122,
            "count": 0
           },
           {
            "bin_end": 34.317800000000005,
            "bin_start": 30.915000000000003,
            "count": 1
           },
           {
            "bin_end": 37.720600000000005,
            "bin_start": 34.317800000000005,
            "count": 0
           },
           {
            "bin_end": 41.123400000000004,
            "bin_start": 37.720600000000005,
            "count": 0
           },
           {
            "bin_end": 44.5262,
            "bin_start": 41.123400000000004,
            "count": 0
           },
           {
            "bin_end": 47.929,
            "bin_start": 44.5262,
            "count": 1
           }
          ],
          "max": "47.929",
          "min": "13.901",
          "nan_count": 1,
          "unique_count": 4
         }
        },
        {
         "dtype": "float64",
         "name": "Unnamed: 17",
         "stats": {
          "histogram": [
           {
            "bin_end": 17.587,
            "bin_start": 14.209,
            "count": 1
           },
           {
            "bin_end": 20.965,
            "bin_start": 17.587,
            "count": 1
           },
           {
            "bin_end": 24.343,
            "bin_start": 20.965,
            "count": 0
           },
           {
            "bin_end": 27.721,
            "bin_start": 24.343,
            "count": 0
           },
           {
            "bin_end": 31.099,
            "bin_start": 27.721,
            "count": 0
           },
           {
            "bin_end": 34.477000000000004,
            "bin_start": 31.099,
            "count": 1
           },
           {
            "bin_end": 37.855000000000004,
            "bin_start": 34.477000000000004,
            "count": 0
           },
           {
            "bin_end": 41.233000000000004,
            "bin_start": 37.855000000000004,
            "count": 0
           },
           {
            "bin_end": 44.611000000000004,
            "bin_start": 41.233000000000004,
            "count": 0
           },
           {
            "bin_end": 47.989,
            "bin_start": 44.611000000000004,
            "count": 1
           }
          ],
          "max": "47.989",
          "min": "14.209",
          "nan_count": 1,
          "unique_count": 4
         }
        },
        {
         "dtype": "float64",
         "name": "Unnamed: 18",
         "stats": {
          "histogram": [
           {
            "bin_end": 17.8765,
            "bin_start": 14.524,
            "count": 1
           },
           {
            "bin_end": 21.229,
            "bin_start": 17.8765,
            "count": 1
           },
           {
            "bin_end": 24.5815,
            "bin_start": 21.229,
            "count": 0
           },
           {
            "bin_end": 27.933999999999997,
            "bin_start": 24.5815,
            "count": 0
           },
           {
            "bin_end": 31.286499999999997,
            "bin_start": 27.933999999999997,
            "count": 0
           },
           {
            "bin_end": 34.639,
            "bin_start": 31.286499999999997,
            "count": 1
           },
           {
            "bin_end": 37.9915,
            "bin_start": 34.639,
            "count": 0
           },
           {
            "bin_end": 41.344,
            "bin_start": 37.9915,
            "count": 0
           },
           {
            "bin_end": 44.6965,
            "bin_start": 41.344,
            "count": 0
           },
           {
            "bin_end": 48.049,
            "bin_start": 44.6965,
            "count": 1
           }
          ],
          "max": "48.049",
          "min": "14.524",
          "nan_count": 1,
          "unique_count": 4
         }
        },
        {
         "dtype": "float64",
         "name": "Unnamed: 19",
         "stats": {
          "histogram": [
           {
            "bin_end": 18.1705,
            "bin_start": 14.844,
            "count": 1
           },
           {
            "bin_end": 21.497,
            "bin_start": 18.1705,
            "count": 1
           },
           {
            "bin_end": 24.823500000000003,
            "bin_start": 21.497,
            "count": 0
           },
           {
            "bin_end": 28.15,
            "bin_start": 24.823500000000003,
            "count": 0
           },
           {
            "bin_end": 31.4765,
            "bin_start": 28.15,
            "count": 0
           },
           {
            "bin_end": 34.803000000000004,
            "bin_start": 31.4765,
            "count": 0
           },
           {
            "bin_end": 38.1295,
            "bin_start": 34.803000000000004,
            "count": 1
           },
           {
            "bin_end": 41.456,
            "bin_start": 38.1295,
            "count": 0
           },
           {
            "bin_end": 44.7825,
            "bin_start": 41.456,
            "count": 0
           },
           {
            "bin_end": 48.109,
            "bin_start": 44.7825,
            "count": 1
           }
          ],
          "max": "48.109",
          "min": "14.844",
          "nan_count": 1,
          "unique_count": 4
         }
        },
        {
         "dtype": "float64",
         "name": "Unnamed: 20",
         "stats": {
          "histogram": [
           {
            "bin_end": 18.4708,
            "bin_start": 15.171,
            "count": 1
           },
           {
            "bin_end": 21.770599999999998,
            "bin_start": 18.4708,
            "count": 1
           },
           {
            "bin_end": 25.0704,
            "bin_start": 21.770599999999998,
            "count": 0
           },
           {
            "bin_end": 28.370199999999997,
            "bin_start": 25.0704,
            "count": 0
           },
           {
            "bin_end": 31.669999999999998,
            "bin_start": 28.370199999999997,
            "count": 0
           },
           {
            "bin_end": 34.9698,
            "bin_start": 31.669999999999998,
            "count": 0
           },
           {
            "bin_end": 38.2696,
            "bin_start": 34.9698,
            "count": 1
           },
           {
            "bin_end": 41.5694,
            "bin_start": 38.2696,
            "count": 0
           },
           {
            "bin_end": 44.8692,
            "bin_start": 41.5694,
            "count": 0
           },
           {
            "bin_end": 48.169,
            "bin_start": 44.8692,
            "count": 1
           }
          ],
          "max": "48.169",
          "min": "15.171",
          "nan_count": 1,
          "unique_count": 4
         }
        },
        {
         "dtype": "float64",
         "name": "Unnamed: 21",
         "stats": {
          "histogram": [
           {
            "bin_end": 18.7747,
            "bin_start": 15.502,
            "count": 1
           },
           {
            "bin_end": 22.0474,
            "bin_start": 18.7747,
            "count": 1
           },
           {
            "bin_end": 25.320099999999996,
            "bin_start": 22.0474,
            "count": 0
           },
           {
            "bin_end": 28.592799999999997,
            "bin_start": 25.320099999999996,
            "count": 0
           },
           {
            "bin_end": 31.865499999999997,
            "bin_start": 28.592799999999997,
            "count": 0
           },
           {
            "bin_end": 35.1382,
            "bin_start": 31.865499999999997,
            "count": 0
           },
           {
            "bin_end": 38.4109,
            "bin_start": 35.1382,
            "count": 1
           },
           {
            "bin_end": 41.6836,
            "bin_start": 38.4109,
            "count": 0
           },
           {
            "bin_end": 44.9563,
            "bin_start": 41.6836,
            "count": 0
           },
           {
            "bin_end": 48.229,
            "bin_start": 44.9563,
            "count": 1
           }
          ],
          "max": "48.229",
          "min": "15.502",
          "nan_count": 1,
          "unique_count": 4
         }
        },
        {
         "dtype": "float64",
         "name": "Unnamed: 22",
         "stats": {
          "histogram": [
           {
            "bin_end": 19.0849,
            "bin_start": 15.84,
            "count": 1
           },
           {
            "bin_end": 22.3298,
            "bin_start": 19.0849,
            "count": 1
           },
           {
            "bin_end": 25.5747,
            "bin_start": 22.3298,
            "count": 0
           },
           {
            "bin_end": 28.8196,
            "bin_start": 25.5747,
            "count": 0
           },
           {
            "bin_end": 32.064499999999995,
            "bin_start": 28.8196,
            "count": 0
           },
           {
            "bin_end": 35.3094,
            "bin_start": 32.064499999999995,
            "count": 0
           },
           {
            "bin_end": 38.5543,
            "bin_start": 35.3094,
            "count": 1
           },
           {
            "bin_end": 41.7992,
            "bin_start": 38.5543,
            "count": 0
           },
           {
            "bin_end": 45.0441,
            "bin_start": 41.7992,
            "count": 0
           },
           {
            "bin_end": 48.289,
            "bin_start": 45.0441,
            "count": 1
           }
          ],
          "max": "48.289",
          "min": "15.84",
          "nan_count": 1,
          "unique_count": 4
         }
        },
        {
         "dtype": "float64",
         "name": "Unnamed: 23",
         "stats": {
          "histogram": [
           {
            "bin_end": 19.3996,
            "bin_start": 16.183,
            "count": 1
           },
           {
            "bin_end": 22.6162,
            "bin_start": 19.3996,
            "count": 1
           },
           {
            "bin_end": 25.8328,
            "bin_start": 22.6162,
            "count": 0
           },
           {
            "bin_end": 29.0494,
            "bin_start": 25.8328,
            "count": 0
           },
           {
            "bin_end": 32.266,
            "bin_start": 29.0494,
            "count": 0
           },
           {
            "bin_end": 35.4826,
            "bin_start": 32.266,
            "count": 0
           },
           {
            "bin_end": 38.6992,
            "bin_start": 35.4826,
            "count": 0
           },
           {
            "bin_end": 41.9158,
            "bin_start": 38.6992,
            "count": 1
           },
           {
            "bin_end": 45.1324,
            "bin_start": 41.9158,
            "count": 0
           },
           {
            "bin_end": 48.349,
            "bin_start": 45.1324,
            "count": 1
           }
          ],
          "max": "48.349",
          "min": "16.183",
          "nan_count": 1,
          "unique_count": 4
         }
        },
        {
         "dtype": "float64",
         "name": "Unnamed: 24",
         "stats": {
          "histogram": [
           {
            "bin_end": 19.7231,
            "bin_start": 16.534,
            "count": 1
           },
           {
            "bin_end": 22.9122,
            "bin_start": 19.7231,
            "count": 1
           },
           {
            "bin_end": 26.1013,
            "bin_start": 22.9122,
            "count": 0
           },
           {
            "bin_end": 29.290399999999998,
            "bin_start": 26.1013,
            "count": 0
           },
           {
            "bin_end": 32.4795,
            "bin_start": 29.290399999999998,
            "count": 0
           },
           {
            "bin_end": 35.6686,
            "bin_start": 32.4795,
            "count": 0
           },
           {
            "bin_end": 38.857699999999994,
            "bin_start": 35.6686,
            "count": 0
           },
           {
            "bin_end": 42.0468,
            "bin_start": 38.857699999999994,
            "count": 1
           },
           {
            "bin_end": 45.2359,
            "bin_start": 42.0468,
            "count": 0
           },
           {
            "bin_end": 48.425,
            "bin_start": 45.2359,
            "count": 1
           }
          ],
          "max": "48.425",
          "min": "16.534",
          "nan_count": 1,
          "unique_count": 4
         }
        },
        {
         "dtype": "float64",
         "name": "Unnamed: 25",
         "stats": {
          "histogram": [
           {
            "bin_end": 20.0592,
            "bin_start": 16.889,
            "count": 1
           },
           {
            "bin_end": 23.2294,
            "bin_start": 20.0592,
            "count": 1
           },
           {
            "bin_end": 26.3996,
            "bin_start": 23.2294,
            "count": 0
           },
           {
            "bin_end": 29.5698,
            "bin_start": 26.3996,
            "count": 0
           },
           {
            "bin_end": 32.74,
            "bin_start": 29.5698,
            "count": 0
           },
           {
            "bin_end": 35.9102,
            "bin_start": 32.74,
            "count": 0
           },
           {
            "bin_end": 39.0804,
            "bin_start": 35.9102,
            "count": 0
           },
           {
            "bin_end": 42.250600000000006,
            "bin_start": 39.0804,
            "count": 1
           },
           {
            "bin_end": 45.4208,
            "bin_start": 42.250600000000006,
            "count": 0
           },
           {
            "bin_end": 48.591,
            "bin_start": 45.4208,
            "count": 1
           }
          ],
          "max": "48.591",
          "min": "16.889",
          "nan_count": 1,
          "unique_count": 4
         }
        },
        {
         "dtype": "float64",
         "name": "Unnamed: 26",
         "stats": {
          "histogram": [
           {
            "bin_end": 20.401500000000002,
            "bin_start": 17.251,
            "count": 1
           },
           {
            "bin_end": 23.552,
            "bin_start": 20.401500000000002,
            "count": 1
           },
           {
            "bin_end": 26.7025,
            "bin_start": 23.552,
            "count": 0
           },
           {
            "bin_end": 29.853,
            "bin_start": 26.7025,
            "count": 0
           },
           {
            "bin_end": 33.0035,
            "bin_start": 29.853,
            "count": 0
           },
           {
            "bin_end": 36.153999999999996,
            "bin_start": 33.0035,
            "count": 0
           },
           {
            "bin_end": 39.304500000000004,
            "bin_start": 36.153999999999996,
            "count": 0
           },
           {
            "bin_end": 42.455,
            "bin_start": 39.304500000000004,
            "count": 1
           },
           {
            "bin_end": 45.605500000000006,
            "bin_start": 42.455,
            "count": 0
           },
           {
            "bin_end": 48.756,
            "bin_start": 45.605500000000006,
            "count": 1
           }
          ],
          "max": "48.756",
          "min": "17.251",
          "nan_count": 1,
          "unique_count": 4
         }
        },
        {
         "dtype": "float64",
         "name": "Unnamed: 27",
         "stats": {
          "histogram": [
           {
            "bin_end": 20.749299999999998,
            "bin_start": 17.619,
            "count": 1
           },
           {
            "bin_end": 23.8796,
            "bin_start": 20.749299999999998,
            "count": 0
           },
           {
            "bin_end": 27.0099,
            "bin_start": 23.8796,
            "count": 1
           },
           {
            "bin_end": 30.1402,
            "bin_start": 27.0099,
            "count": 0
           },
           {
            "bin_end": 33.2705,
            "bin_start": 30.1402,
            "count": 0
           },
           {
            "bin_end": 36.4008,
            "bin_start": 33.2705,
            "count": 0
           },
           {
            "bin_end": 39.531099999999995,
            "bin_start": 36.4008,
            "count": 0
           },
           {
            "bin_end": 42.6614,
            "bin_start": 39.531099999999995,
            "count": 1
           },
           {
            "bin_end": 45.79169999999999,
            "bin_start": 42.6614,
            "count": 0
           },
           {
            "bin_end": 48.922,
            "bin_start": 45.79169999999999,
            "count": 1
           }
          ],
          "max": "48.922",
          "min": "17.619",
          "nan_count": 1,
          "unique_count": 4
         }
        },
        {
         "dtype": "float64",
         "name": "Unnamed: 28",
         "stats": {
          "histogram": [
           {
            "bin_end": 21.1025,
            "bin_start": 17.993,
            "count": 1
           },
           {
            "bin_end": 24.212,
            "bin_start": 21.1025,
            "count": 0
           },
           {
            "bin_end": 27.3215,
            "bin_start": 24.212,
            "count": 1
           },
           {
            "bin_end": 30.430999999999997,
            "bin_start": 27.3215,
            "count": 0
           },
           {
            "bin_end": 33.5405,
            "bin_start": 30.430999999999997,
            "count": 0
           },
           {
            "bin_end": 36.65,
            "bin_start": 33.5405,
            "count": 0
           },
           {
            "bin_end": 39.7595,
            "bin_start": 36.65,
            "count": 1
           },
           {
            "bin_end": 42.869,
            "bin_start": 39.7595,
            "count": 0
           },
           {
            "bin_end": 45.9785,
            "bin_start": 42.869,
            "count": 0
           },
           {
            "bin_end": 49.088,
            "bin_start": 45.9785,
            "count": 1
           }
          ],
          "max": "49.088",
          "min": "17.993",
          "nan_count": 1,
          "unique_count": 4
         }
        },
        {
         "dtype": "float64",
         "name": "Unnamed: 29",
         "stats": {
          "histogram": [
           {
            "bin_end": 21.472900000000003,
            "bin_start": 18.373,
            "count": 1
           },
           {
            "bin_end": 24.5728,
            "bin_start": 21.472900000000003,
            "count": 0
           },
           {
            "bin_end": 27.6727,
            "bin_start": 24.5728,
            "count": 1
           },
           {
            "bin_end": 30.7726,
            "bin_start": 27.6727,
            "count": 0
           },
           {
            "bin_end": 33.8725,
            "bin_start": 30.7726,
            "count": 0
           },
           {
            "bin_end": 36.9724,
            "bin_start": 33.8725,
            "count": 0
           },
           {
            "bin_end": 40.0723,
            "bin_start": 36.9724,
            "count": 1
           },
           {
            "bin_end": 43.172200000000004,
            "bin_start": 40.0723,
            "count": 0
           },
           {
            "bin_end": 46.272099999999995,
            "bin_start": 43.172200000000004,
            "count": 0
           },
           {
            "bin_end": 49.372,
            "bin_start": 46.272099999999995,
            "count": 1
           }
          ],
          "max": "49.372",
          "min": "18.373",
          "nan_count": 1,
          "unique_count": 4
         }
        },
        {
         "dtype": "float64",
         "name": "Unnamed: 30",
         "stats": {
          "histogram": [
           {
            "bin_end": 21.9177,
            "bin_start": 18.808,
            "count": 1
           },
           {
            "bin_end": 25.0274,
            "bin_start": 21.9177,
            "count": 0
           },
           {
            "bin_end": 28.1371,
            "bin_start": 25.0274,
            "count": 1
           },
           {
            "bin_end": 31.2468,
            "bin_start": 28.1371,
            "count": 0
           },
           {
            "bin_end": 34.3565,
            "bin_start": 31.2468,
            "count": 0
           },
           {
            "bin_end": 37.4662,
            "bin_start": 34.3565,
            "count": 0
           },
           {
            "bin_end": 40.575900000000004,
            "bin_start": 37.4662,
            "count": 1
           },
           {
            "bin_end": 43.6856,
            "bin_start": 40.575900000000004,
            "count": 0
           },
           {
            "bin_end": 46.7953,
            "bin_start": 43.6856,
            "count": 0
           },
           {
            "bin_end": 49.905,
            "bin_start": 46.7953,
            "count": 1
           }
          ],
          "max": "49.905",
          "min": "18.808",
          "nan_count": 1,
          "unique_count": 4
         }
        },
        {
         "dtype": "float64",
         "name": "Unnamed: 31",
         "stats": {
          "histogram": [
           {
            "bin_end": 22.4346,
            "bin_start": 19.323,
            "count": 1
           },
           {
            "bin_end": 25.5462,
            "bin_start": 22.4346,
            "count": 0
           },
           {
            "bin_end": 28.6578,
            "bin_start": 25.5462,
            "count": 1
           },
           {
            "bin_end": 31.7694,
            "bin_start": 28.6578,
            "count": 0
           },
           {
            "bin_end": 34.881,
            "bin_start": 31.7694,
            "count": 0
           },
           {
            "bin_end": 37.9926,
            "bin_start": 34.881,
            "count": 0
           },
           {
            "bin_end": 41.104200000000006,
            "bin_start": 37.9926,
            "count": 1
           },
           {
            "bin_end": 44.2158,
            "bin_start": 41.104200000000006,
            "count": 0
           },
           {
            "bin_end": 47.3274,
            "bin_start": 44.2158,
            "count": 0
           },
           {
            "bin_end": 50.439,
            "bin_start": 47.3274,
            "count": 1
           }
          ],
          "max": "50.439",
          "min": "19.323",
          "nan_count": 1,
          "unique_count": 4
         }
        },
        {
         "dtype": "float64",
         "name": "Unnamed: 32",
         "stats": {
          "histogram": [
           {
            "bin_end": 22.9613,
            "bin_start": 19.849,
            "count": 1
           },
           {
            "bin_end": 26.0736,
            "bin_start": 22.9613,
            "count": 0
           },
           {
            "bin_end": 29.1859,
            "bin_start": 26.0736,
            "count": 1
           },
           {
            "bin_end": 32.2982,
            "bin_start": 29.1859,
            "count": 0
           },
           {
            "bin_end": 35.4105,
            "bin_start": 32.2982,
            "count": 0
           },
           {
            "bin_end": 38.522800000000004,
            "bin_start": 35.4105,
            "count": 0
           },
           {
            "bin_end": 41.6351,
            "bin_start": 38.522800000000004,
            "count": 1
           },
           {
            "bin_end": 44.7474,
            "bin_start": 41.6351,
            "count": 0
           },
           {
            "bin_end": 47.859700000000004,
            "bin_start": 44.7474,
            "count": 0
           },
           {
            "bin_end": 50.972,
            "bin_start": 47.859700000000004,
            "count": 1
           }
          ],
          "max": "50.972",
          "min": "19.849",
          "nan_count": 1,
          "unique_count": 4
         }
        },
        {
         "dtype": "float64",
         "name": "Unnamed: 33",
         "stats": {
          "histogram": [
           {
            "bin_end": 23.497,
            "bin_start": 20.385,
            "count": 1
           },
           {
            "bin_end": 26.609,
            "bin_start": 23.497,
            "count": 0
           },
           {
            "bin_end": 29.721000000000004,
            "bin_start": 26.609,
            "count": 1
           },
           {
            "bin_end": 32.833,
            "bin_start": 29.721000000000004,
            "count": 0
           },
           {
            "bin_end": 35.945,
            "bin_start": 32.833,
            "count": 0
           },
           {
            "bin_end": 39.057,
            "bin_start": 35.945,
            "count": 0
           },
           {
            "bin_end": 42.169,
            "bin_start": 39.057,
            "count": 1
           },
           {
            "bin_end": 45.281000000000006,
            "bin_start": 42.169,
            "count": 0
           },
           {
            "bin_end": 48.393,
            "bin_start": 45.281000000000006,
            "count": 0
           },
           {
            "bin_end": 51.505,
            "bin_start": 48.393,
            "count": 1
           }
          ],
          "max": "51.505",
          "min": "20.385",
          "nan_count": 1,
          "unique_count": 4
         }
        },
        {
         "dtype": "float64",
         "name": "Unnamed: 34",
         "stats": {
          "histogram": [
           {
            "bin_end": 24.041600000000003,
            "bin_start": 20.931,
            "count": 1
           },
           {
            "bin_end": 27.1522,
            "bin_start": 24.041600000000003,
            "count": 0
           },
           {
            "bin_end": 30.2628,
            "bin_start": 27.1522,
            "count": 1
           },
           {
            "bin_end": 33.373400000000004,
            "bin_start": 30.2628,
            "count": 0
           },
           {
            "bin_end": 36.484,
            "bin_start": 33.373400000000004,
            "count": 0
           },
           {
            "bin_end": 39.5946,
            "bin_start": 36.484,
            "count": 1
           },
           {
            "bin_end": 42.705200000000005,
            "bin_start": 39.5946,
            "count": 0
           },
           {
            "bin_end": 45.815799999999996,
            "bin_start": 42.705200000000005,
            "count": 0
           },
           {
            "bin_end": 48.9264,
            "bin_start": 45.815799999999996,
            "count": 0
           },
           {
            "bin_end": 52.037,
            "bin_start": 48.9264,
            "count": 1
           }
          ],
          "max": "52.037",
          "min": "20.931",
          "nan_count": 1,
          "unique_count": 4
         }
        },
        {
         "dtype": "float64",
         "name": "Unnamed: 35",
         "stats": {
          "histogram": [
           {
            "bin_end": 24.5955,
            "bin_start": 21.489,
            "count": 1
           },
           {
            "bin_end": 27.702,
            "bin_start": 24.5955,
            "count": 0
           },
           {
            "bin_end": 30.808500000000002,
            "bin_start": 27.702,
            "count": 1
           },
           {
            "bin_end": 33.915,
            "bin_start": 30.808500000000002,
            "count": 0
           },
           {
            "bin_end": 37.0215,
            "bin_start": 33.915,
            "count": 0
           },
           {
            "bin_end": 40.128,
            "bin_start": 37.0215,
            "count": 1
           },
           {
            "bin_end": 43.2345,
            "bin_start": 40.128,
            "count": 0
           },
           {
            "bin_end": 46.341,
            "bin_start": 43.2345,
            "count": 0
           },
           {
            "bin_end": 49.447500000000005,
            "bin_start": 46.341,
            "count": 0
           },
           {
            "bin_end": 52.554,
            "bin_start": 49.447500000000005,
            "count": 1
           }
          ],
          "max": "52.554",
          "min": "21.489",
          "nan_count": 1,
          "unique_count": 4
         }
        },
        {
         "dtype": "float64",
         "name": "Unnamed: 36",
         "stats": {
          "histogram": [
           {
            "bin_end": 25.156,
            "bin_start": 22.058,
            "count": 1
           },
           {
            "bin_end": 28.253999999999998,
            "bin_start": 25.156,
            "count": 0
           },
           {
            "bin_end": 31.352,
            "bin_start": 28.253999999999998,
            "count": 1
           },
           {
            "bin_end": 34.45,
            "bin_start": 31.352,
            "count": 0
           },
           {
            "bin_end": 37.548,
            "bin_start": 34.45,
            "count": 0
           },
           {
            "bin_end": 40.646,
            "bin_start": 37.548,
            "count": 1
           },
           {
            "bin_end": 43.744,
            "bin_start": 40.646,
            "count": 0
           },
           {
            "bin_end": 46.842,
            "bin_start": 43.744,
            "count": 0
           },
           {
            "bin_end": 49.94,
            "bin_start": 46.842,
            "count": 0
           },
           {
            "bin_end": 53.038,
            "bin_start": 49.94,
            "count": 1
           }
          ],
          "max": "53.038",
          "min": "22.058",
          "nan_count": 1,
          "unique_count": 4
         }
        },
        {
         "dtype": "float64",
         "name": "Unnamed: 37",
         "stats": {
          "histogram": [
           {
            "bin_end": 25.7245,
            "bin_start": 22.636,
            "count": 1
           },
           {
            "bin_end": 28.813,
            "bin_start": 25.7245,
            "count": 0
           },
           {
            "bin_end": 31.9015,
            "bin_start": 28.813,
            "count": 1
           },
           {
            "bin_end": 34.99,
            "bin_start": 31.9015,
            "count": 0
           },
           {
            "bin_end": 38.0785,
            "bin_start": 34.99,
            "count": 1
           },
           {
            "bin_end": 41.167,
            "bin_start": 38.0785,
            "count": 0
           },
           {
            "bin_end": 44.2555,
            "bin_start": 41.167,
            "count": 0
           },
           {
            "bin_end": 47.344,
            "bin_start": 44.2555,
            "count": 0
           },
           {
            "bin_end": 50.432500000000005,
            "bin_start": 47.344,
            "count": 0
           },
           {
            "bin_end": 53.521,
            "bin_start": 50.432500000000005,
            "count": 1
           }
          ],
          "max": "53.521",
          "min": "22.636",
          "nan_count": 1,
          "unique_count": 4
         }
        },
        {
         "dtype": "float64",
         "name": "Unnamed: 38",
         "stats": {
          "histogram": [
           {
            "bin_end": 26.3029,
            "bin_start": 23.225,
            "count": 1
           },
           {
            "bin_end": 29.3808,
            "bin_start": 26.3029,
            "count": 0
           },
           {
            "bin_end": 32.4587,
            "bin_start": 29.3808,
            "count": 1
           },
           {
            "bin_end": 35.5366,
            "bin_start": 32.4587,
            "count": 0
           },
           {
            "bin_end": 38.6145,
            "bin_start": 35.5366,
            "count": 1
           },
           {
            "bin_end": 41.6924,
            "bin_start": 38.6145,
            "count": 0
           },
           {
            "bin_end": 44.7703,
            "bin_start": 41.6924,
            "count": 0
           },
           {
            "bin_end": 47.8482,
            "bin_start": 44.7703,
            "count": 0
           },
           {
            "bin_end": 50.9261,
            "bin_start": 47.8482,
            "count": 0
           },
           {
            "bin_end": 54.004,
            "bin_start": 50.9261,
            "count": 1
           }
          ],
          "max": "54.004",
          "min": "23.225",
          "nan_count": 1,
          "unique_count": 4
         }
        },
        {
         "dtype": "float64",
         "name": "Unnamed: 39",
         "stats": {
          "histogram": [
           {
            "bin_end": 26.8326,
            "bin_start": 23.76,
            "count": 1
           },
           {
            "bin_end": 29.9052,
            "bin_start": 26.8326,
            "count": 0
           },
           {
            "bin_end": 32.9778,
            "bin_start": 29.9052,
            "count": 1
           },
           {
            "bin_end": 36.050399999999996,
            "bin_start": 32.9778,
            "count": 0
           },
           {
            "bin_end": 39.123,
            "bin_start": 36.050399999999996,
            "count": 1
           },
           {
            "bin_end": 42.1956,
            "bin_start": 39.123,
            "count": 0
           },
           {
            "bin_end": 45.26819999999999,
            "bin_start": 42.1956,
            "count": 0
           },
           {
            "bin_end": 48.3408,
            "bin_start": 45.26819999999999,
            "count": 0
           },
           {
            "bin_end": 51.413399999999996,
            "bin_start": 48.3408,
            "count": 0
           },
           {
            "bin_end": 54.486,
            "bin_start": 51.413399999999996,
            "count": 1
           }
          ],
          "max": "54.486",
          "min": "23.76",
          "nan_count": 1,
          "unique_count": 4
         }
        },
        {
         "dtype": "float64",
         "name": "Unnamed: 40",
         "stats": {
          "histogram": [
           {
            "bin_end": 27.3208,
            "bin_start": 24.249,
            "count": 1
           },
           {
            "bin_end": 30.392599999999998,
            "bin_start": 27.3208,
            "count": 0
           },
           {
            "bin_end": 33.4644,
            "bin_start": 30.392599999999998,
            "count": 1
           },
           {
            "bin_end": 36.5362,
            "bin_start": 33.4644,
            "count": 0
           },
           {
            "bin_end": 39.608,
            "bin_start": 36.5362,
            "count": 1
           },
           {
            "bin_end": 42.6798,
            "bin_start": 39.608,
            "count": 0
           },
           {
            "bin_end": 45.751599999999996,
            "bin_start": 42.6798,
            "count": 0
           },
           {
            "bin_end": 48.8234,
            "bin_start": 45.751599999999996,
            "count": 0
           },
           {
            "bin_end": 51.8952,
            "bin_start": 48.8234,
            "count": 0
           },
           {
            "bin_end": 54.967,
            "bin_start": 51.8952,
            "count": 1
           }
          ],
          "max": "54.967",
          "min": "24.249",
          "nan_count": 1,
          "unique_count": 4
         }
        },
        {
         "dtype": "float64",
         "name": "Unnamed: 41",
         "stats": {
          "histogram": [
           {
            "bin_end": 27.813599999999997,
            "bin_start": 24.743,
            "count": 1
           },
           {
            "bin_end": 30.8842,
            "bin_start": 27.813599999999997,
            "count": 0
           },
           {
            "bin_end": 33.9548,
            "bin_start": 30.8842,
            "count": 1
           },
           {
            "bin_end": 37.0254,
            "bin_start": 33.9548,
            "count": 1
           },
           {
            "bin_end": 40.096,
            "bin_start": 37.0254,
            "count": 0
           },
           {
            "bin_end": 43.1666,
            "bin_start": 40.096,
            "count": 0
           },
           {
            "bin_end": 46.2372,
            "bin_start": 43.1666,
            "count": 0
           },
           {
            "bin_end": 49.3078,
            "bin_start": 46.2372,
            "count": 0
           },
           {
            "bin_end": 52.3784,
            "bin_start": 49.3078,
            "count": 0
           },
           {
            "bin_end": 55.449,
            "bin_start": 52.3784,
            "count": 1
           }
          ],
          "max": "55.449",
          "min": "24.743",
          "nan_count": 1,
          "unique_count": 4
         }
        },
        {
         "dtype": "float64",
         "name": "Unnamed: 42",
         "stats": {
          "histogram": [
           {
            "bin_end": 28.3126,
            "bin_start": 25.244,
            "count": 1
           },
           {
            "bin_end": 31.3812,
            "bin_start": 28.3126,
            "count": 0
           },
           {
            "bin_end": 34.449799999999996,
            "bin_start": 31.3812,
            "count": 1
           },
           {
            "bin_end": 37.5184,
            "bin_start": 34.449799999999996,
            "count": 1
           },
           {
            "bin_end": 40.587,
            "bin_start": 37.5184,
            "count": 0
           },
           {
            "bin_end": 43.6556,
            "bin_start": 40.587,
            "count": 0
           },
           {
            "bin_end": 46.724199999999996,
            "bin_start": 43.6556,
            "count": 0
           },
           {
            "bin_end": 49.7928,
            "bin_start": 46.724199999999996,
            "count": 0
           },
           {
            "bin_end": 52.8614,
            "bin_start": 49.7928,
            "count": 0
           },
           {
            "bin_end": 55.93,
            "bin_start": 52.8614,
            "count": 1
           }
          ],
          "max": "55.93",
          "min": "25.244",
          "nan_count": 1,
          "unique_count": 4
         }
        },
        {
         "dtype": "float64",
         "name": "Unnamed: 43",
         "stats": {
          "histogram": [
           {
            "bin_end": 28.817899999999998,
            "bin_start": 25.752,
            "count": 1
           },
           {
            "bin_end": 31.8838,
            "bin_start": 28.817899999999998,
            "count": 0
           },
           {
            "bin_end": 34.9497,
            "bin_start": 31.8838,
            "count": 1
           },
           {
            "bin_end": 38.0156,
            "bin_start": 34.9497,
            "count": 1
           },
           {
            "bin_end": 41.0815,
            "bin_start": 38.0156,
            "count": 0
           },
           {
            "bin_end": 44.147400000000005,
            "bin_start": 41.0815,
            "count": 0
           },
           {
            "bin_end": 47.213300000000004,
            "bin_start": 44.147400000000005,
            "count": 0
           },
           {
            "bin_end": 50.2792,
            "bin_start": 47.213300000000004,
            "count": 0
           },
           {
            "bin_end": 53.3451,
            "bin_start": 50.2792,
            "count": 0
           },
           {
            "bin_end": 56.411,
            "bin_start": 53.3451,
            "count": 1
           }
          ],
          "max": "56.411",
          "min": "25.752",
          "nan_count": 1,
          "unique_count": 4
         }
        },
        {
         "dtype": "float64",
         "name": "Unnamed: 44",
         "stats": {
          "histogram": [
           {
            "bin_end": 29.3294,
            "bin_start": 26.267,
            "count": 1
           },
           {
            "bin_end": 32.391799999999996,
            "bin_start": 29.3294,
            "count": 0
           },
           {
            "bin_end": 35.4542,
            "bin_start": 32.391799999999996,
            "count": 2
           },
           {
            "bin_end": 38.5166,
            "bin_start": 35.4542,
            "count": 0
           },
           {
            "bin_end": 41.579,
            "bin_start": 38.5166,
            "count": 0
           },
           {
            "bin_end": 44.6414,
            "bin_start": 41.579,
            "count": 0
           },
           {
            "bin_end": 47.7038,
            "bin_start": 44.6414,
            "count": 0
           },
           {
            "bin_end": 50.7662,
            "bin_start": 47.7038,
            "count": 0
           },
           {
            "bin_end": 53.828599999999994,
            "bin_start": 50.7662,
            "count": 0
           },
           {
            "bin_end": 56.891,
            "bin_start": 53.828599999999994,
            "count": 1
           }
          ],
          "max": "56.891",
          "min": "26.267",
          "nan_count": 1,
          "unique_count": 4
         }
        },
        {
         "dtype": "float64",
         "name": "Unnamed: 45",
         "stats": {
          "histogram": [
           {
            "bin_end": 29.8451,
            "bin_start": 26.787,
            "count": 1
           },
           {
            "bin_end": 32.9032,
            "bin_start": 29.8451,
            "count": 0
           },
           {
            "bin_end": 35.9613,
            "bin_start": 32.9032,
            "count": 2
           },
           {
            "bin_end": 39.019400000000005,
            "bin_start": 35.9613,
            "count": 0
           },
           {
            "bin_end": 42.0775,
            "bin_start": 39.019400000000005,
            "count": 0
           },
           {
            "bin_end": 45.135600000000004,
            "bin_start": 42.0775,
            "count": 0
           },
           {
            "bin_end": 48.19370000000001,
            "bin_start": 45.135600000000004,
            "count": 0
           },
           {
            "bin_end": 51.2518,
            "bin_start": 48.19370000000001,
            "count": 0
           },
           {
            "bin_end": 54.3099,
            "bin_start": 51.2518,
            "count": 0
           },
           {
            "bin_end": 57.368,
            "bin_start": 54.3099,
            "count": 1
           }
          ],
          "max": "57.368",
          "min": "26.787",
          "nan_count": 1,
          "unique_count": 4
         }
        },
        {
         "dtype": "float64",
         "name": "Unnamed: 46",
         "stats": {
          "histogram": [
           {
            "bin_end": 30.3733,
            "bin_start": 27.315,
            "count": 1
           },
           {
            "bin_end": 33.4316,
            "bin_start": 30.3733,
            "count": 0
           },
           {
            "bin_end": 36.489900000000006,
            "bin_start": 33.4316,
            "count": 2
           },
           {
            "bin_end": 39.5482,
            "bin_start": 36.489900000000006,
            "count": 0
           },
           {
            "bin_end": 42.6065,
            "bin_start": 39.5482,
            "count": 0
           },
           {
            "bin_end": 45.6648,
            "bin_start": 42.6065,
            "count": 0
           },
           {
            "bin_end": 48.7231,
            "bin_start": 45.6648,
            "count": 0
           },
           {
            "bin_end": 51.781400000000005,
            "bin_start": 48.7231,
            "count": 0
           },
           {
            "bin_end": 54.8397,
            "bin_start": 51.781400000000005,
            "count": 0
           },
           {
            "bin_end": 57.898,
            "bin_start": 54.8397,
            "count": 1
           }
          ],
          "max": "57.898",
          "min": "27.315",
          "nan_count": 1,
          "unique_count": 4
         }
        },
        {
         "dtype": "float64",
         "name": "Unnamed: 47",
         "stats": {
          "histogram": [
           {
            "bin_end": 30.9087,
            "bin_start": 27.849,
            "count": 1
           },
           {
            "bin_end": 33.9684,
            "bin_start": 30.9087,
            "count": 0
           },
           {
            "bin_end": 37.0281,
            "bin_start": 33.9684,
            "count": 2
           },
           {
            "bin_end": 40.0878,
            "bin_start": 37.0281,
            "count": 0
           },
           {
            "bin_end": 43.1475,
            "bin_start": 40.0878,
            "count": 0
           },
           {
            "bin_end": 46.2072,
            "bin_start": 43.1475,
            "count": 0
           },
           {
            "bin_end": 49.2669,
            "bin_start": 46.2072,
            "count": 0
           },
           {
            "bin_end": 52.3266,
            "bin_start": 49.2669,
            "count": 0
           },
           {
            "bin_end": 55.3863,
            "bin_start": 52.3266,
            "count": 0
           },
           {
            "bin_end": 58.446,
            "bin_start": 55.3863,
            "count": 1
           }
          ],
          "max": "58.446",
          "min": "27.849",
          "nan_count": 1,
          "unique_count": 4
         }
        },
        {
         "dtype": "float64",
         "name": "Unnamed: 48",
         "stats": {
          "histogram": [
           {
            "bin_end": 31.450300000000002,
            "bin_start": 28.39,
            "count": 1
           },
           {
            "bin_end": 34.510600000000004,
            "bin_start": 31.450300000000002,
            "count": 1
           },
           {
            "bin_end": 37.5709,
            "bin_start": 34.510600000000004,
            "count": 1
           },
           {
            "bin_end": 40.6312,
            "bin_start": 37.5709,
            "count": 0
           },
           {
            "bin_end": 43.691500000000005,
            "bin_start": 40.6312,
            "count": 0
           },
           {
            "bin_end": 46.7518,
            "bin_start": 43.691500000000005,
            "count": 0
           },
           {
            "bin_end": 49.8121,
            "bin_start": 46.7518,
            "count": 0
           },
           {
            "bin_end": 52.8724,
            "bin_start": 49.8121,
            "count": 0
           },
           {
            "bin_end": 55.932700000000004,
            "bin_start": 52.8724,
            "count": 0
           },
           {
            "bin_end": 58.993,
            "bin_start": 55.932700000000004,
            "count": 1
           }
          ],
          "max": "58.993",
          "min": "28.39",
          "nan_count": 1,
          "unique_count": 4
         }
        },
        {
         "dtype": "float64",
         "name": "Unnamed: 49",
         "stats": {
          "histogram": [
           {
            "bin_end": 31.996,
            "bin_start": 28.936,
            "count": 1
           },
           {
            "bin_end": 35.056,
            "bin_start": 31.996,
            "count": 1
           },
           {
            "bin_end": 38.116,
            "bin_start": 35.056,
            "count": 1
           },
           {
            "bin_end": 41.176,
            "bin_start": 38.116,
            "count": 0
           },
           {
            "bin_end": 44.236000000000004,
            "bin_start": 41.176,
            "count": 0
           },
           {
            "bin_end": 47.296,
            "bin_start": 44.236000000000004,
            "count": 0
           },
           {
            "bin_end": 50.356,
            "bin_start": 47.296,
            "count": 0
           },
           {
            "bin_end": 53.416,
            "bin_start": 50.356,
            "count": 0
           },
           {
            "bin_end": 56.476,
            "bin_start": 53.416,
            "count": 0
           },
           {
            "bin_end": 59.536,
            "bin_start": 56.476,
            "count": 1
           }
          ],
          "max": "59.536",
          "min": "28.936",
          "nan_count": 1,
          "unique_count": 4
         }
        },
        {
         "dtype": "float64",
         "name": "Unnamed: 50",
         "stats": {
          "histogram": [
           {
            "bin_end": 32.5487,
            "bin_start": 29.49,
            "count": 1
           },
           {
            "bin_end": 35.6074,
            "bin_start": 32.5487,
            "count": 1
           },
           {
            "bin_end": 38.6661,
            "bin_start": 35.6074,
            "count": 1
           },
           {
            "bin_end": 41.7248,
            "bin_start": 38.6661,
            "count": 0
           },
           {
            "bin_end": 44.7835,
            "bin_start": 41.7248,
            "count": 0
           },
           {
            "bin_end": 47.8422,
            "bin_start": 44.7835,
            "count": 0
           },
           {
            "bin_end": 50.90089999999999,
            "bin_start": 47.8422,
            "count": 0
           },
           {
            "bin_end": 53.959599999999995,
            "bin_start": 50.90089999999999,
            "count": 0
           },
           {
            "bin_end": 57.018299999999996,
            "bin_start": 53.959599999999995,
            "count": 0
           },
           {
            "bin_end": 60.077,
            "bin_start": 57.018299999999996,
            "count": 1
           }
          ],
          "max": "60.077",
          "min": "29.49",
          "nan_count": 1,
          "unique_count": 4
         }
        },
        {
         "dtype": "float64",
         "name": "Unnamed: 51",
         "stats": {
          "histogram": [
           {
            "bin_end": 33.1075,
            "bin_start": 30.051,
            "count": 1
           },
           {
            "bin_end": 36.164,
            "bin_start": 33.1075,
            "count": 1
           },
           {
            "bin_end": 39.2205,
            "bin_start": 36.164,
            "count": 1
           },
           {
            "bin_end": 42.277,
            "bin_start": 39.2205,
            "count": 0
           },
           {
            "bin_end": 45.3335,
            "bin_start": 42.277,
            "count": 0
           },
           {
            "bin_end": 48.39,
            "bin_start": 45.3335,
            "count": 0
           },
           {
            "bin_end": 51.4465,
            "bin_start": 48.39,
            "count": 0
           },
           {
            "bin_end": 54.503,
            "bin_start": 51.4465,
            "count": 0
           },
           {
            "bin_end": 57.5595,
            "bin_start": 54.503,
            "count": 0
           },
           {
            "bin_end": 60.616,
            "bin_start": 57.5595,
            "count": 1
           }
          ],
          "max": "60.616",
          "min": "30.051",
          "nan_count": 1,
          "unique_count": 4
         }
        },
        {
         "dtype": "float64",
         "name": "Unnamed: 52",
         "stats": {
          "histogram": [
           {
            "bin_end": 33.6725,
            "bin_start": 30.619,
            "count": 2
           },
           {
            "bin_end": 36.726,
            "bin_start": 33.6725,
            "count": 0
           },
           {
            "bin_end": 39.7795,
            "bin_start": 36.726,
            "count": 1
           },
           {
            "bin_end": 42.833,
            "bin_start": 39.7795,
            "count": 0
           },
           {
            "bin_end": 45.8865,
            "bin_start": 42.833,
            "count": 0
           },
           {
            "bin_end": 48.940000000000005,
            "bin_start": 45.8865,
            "count": 0
           },
           {
            "bin_end": 51.993500000000004,
            "bin_start": 48.940000000000005,
            "count": 0
           },
           {
            "bin_end": 55.047000000000004,
            "bin_start": 51.993500000000004,
            "count": 0
           },
           {
            "bin_end": 58.100500000000004,
            "bin_start": 55.047000000000004,
            "count": 0
           },
           {
            "bin_end": 61.154,
            "bin_start": 58.100500000000004,
            "count": 1
           }
          ],
          "max": "61.154",
          "min": "30.619",
          "nan_count": 1,
          "unique_count": 4
         }
        },
        {
         "dtype": "float64",
         "name": "Unnamed: 53",
         "stats": {
          "histogram": [
           {
            "bin_end": 34.2433,
            "bin_start": 31.194,
            "count": 2
           },
           {
            "bin_end": 37.2926,
            "bin_start": 34.2433,
            "count": 0
           },
           {
            "bin_end": 40.341899999999995,
            "bin_start": 37.2926,
            "count": 1
           },
           {
            "bin_end": 43.3912,
            "bin_start": 40.341899999999995,
            "count": 0
           },
           {
            "bin_end": 46.4405,
            "bin_start": 43.3912,
            "count": 0
           },
           {
            "bin_end": 49.4898,
            "bin_start": 46.4405,
            "count": 0
           },
           {
            "bin_end": 52.5391,
            "bin_start": 49.4898,
            "count": 0
           },
           {
            "bin_end": 55.58839999999999,
            "bin_start": 52.5391,
            "count": 0
           },
           {
            "bin_end": 58.637699999999995,
            "bin_start": 55.58839999999999,
            "count": 0
           },
           {
            "bin_end": 61.687,
            "bin_start": 58.637699999999995,
            "count": 1
           }
          ],
          "max": "61.687",
          "min": "31.194",
          "nan_count": 1,
          "unique_count": 4
         }
        },
        {
         "dtype": "float64",
         "name": "Unnamed: 54",
         "stats": {
          "histogram": [
           {
            "bin_end": 34.8202,
            "bin_start": 31.776,
            "count": 2
           },
           {
            "bin_end": 37.8644,
            "bin_start": 34.8202,
            "count": 0
           },
           {
            "bin_end": 40.9086,
            "bin_start": 37.8644,
            "count": 1
           },
           {
            "bin_end": 43.9528,
            "bin_start": 40.9086,
            "count": 0
           },
           {
            "bin_end": 46.997,
            "bin_start": 43.9528,
            "count": 0
           },
           {
            "bin_end": 50.0412,
            "bin_start": 46.997,
            "count": 0
           },
           {
            "bin_end": 53.08540000000001,
            "bin_start": 50.0412,
            "count": 0
           },
           {
            "bin_end": 56.1296,
            "bin_start": 53.08540000000001,
            "count": 0
           },
           {
            "bin_end": 59.1738,
            "bin_start": 56.1296,
            "count": 0
           },
           {
            "bin_end": 62.218,
            "bin_start": 59.1738,
            "count": 1
           }
          ],
          "max": "62.218",
          "min": "31.776",
          "nan_count": 1,
          "unique_count": 4
         }
        },
        {
         "dtype": "float64",
         "name": "Unnamed: 55",
         "stats": {
          "histogram": [
           {
            "bin_end": 35.4022,
            "bin_start": 32.364,
            "count": 2
           },
           {
            "bin_end": 38.4404,
            "bin_start": 35.4022,
            "count": 0
           },
           {
            "bin_end": 41.4786,
            "bin_start": 38.4404,
            "count": 1
           },
           {
            "bin_end": 44.5168,
            "bin_start": 41.4786,
            "count": 0
           },
           {
            "bin_end": 47.555,
            "bin_start": 44.5168,
            "count": 0
           },
           {
            "bin_end": 50.5932,
            "bin_start": 47.555,
            "count": 0
           },
           {
            "bin_end": 53.6314,
            "bin_start": 50.5932,
            "count": 0
           },
           {
            "bin_end": 56.6696,
            "bin_start": 53.6314,
            "count": 0
           },
           {
            "bin_end": 59.707800000000006,
            "bin_start": 56.6696,
            "count": 0
           },
           {
            "bin_end": 62.746,
            "bin_start": 59.707800000000006,
            "count": 1
           }
          ],
          "max": "62.746",
          "min": "32.364",
          "nan_count": 1,
          "unique_count": 4
         }
        },
        {
         "dtype": "float64",
         "name": "Unnamed: 56",
         "stats": {
          "histogram": [
           {
            "bin_end": 35.8778,
            "bin_start": 32.834,
            "count": 2
           },
           {
            "bin_end": 38.921600000000005,
            "bin_start": 35.8778,
            "count": 0
           },
           {
            "bin_end": 41.9654,
            "bin_start": 38.921600000000005,
            "count": 1
           },
           {
            "bin_end": 45.0092,
            "bin_start": 41.9654,
            "count": 0
           },
           {
            "bin_end": 48.053,
            "bin_start": 45.0092,
            "count": 0
           },
           {
            "bin_end": 51.0968,
            "bin_start": 48.053,
            "count": 0
           },
           {
            "bin_end": 54.1406,
            "bin_start": 51.0968,
            "count": 0
           },
           {
            "bin_end": 57.1844,
            "bin_start": 54.1406,
            "count": 0
           },
           {
            "bin_end": 60.2282,
            "bin_start": 57.1844,
            "count": 0
           },
           {
            "bin_end": 63.272,
            "bin_start": 60.2282,
            "count": 1
           }
          ],
          "max": "63.272",
          "min": "32.834",
          "nan_count": 1,
          "unique_count": 4
         }
        },
        {
         "dtype": "float64",
         "name": "Unnamed: 57",
         "stats": {
          "histogram": [
           {
            "bin_end": 35.767900000000004,
            "bin_start": 32.654,
            "count": 2
           },
           {
            "bin_end": 38.881800000000005,
            "bin_start": 35.767900000000004,
            "count": 0
           },
           {
            "bin_end": 41.9957,
            "bin_start": 38.881800000000005,
            "count": 1
           },
           {
            "bin_end": 45.1096,
            "bin_start": 41.9957,
            "count": 0
           },
           {
            "bin_end": 48.2235,
            "bin_start": 45.1096,
            "count": 0
           },
           {
            "bin_end": 51.3374,
            "bin_start": 48.2235,
            "count": 0
           },
           {
            "bin_end": 54.4513,
            "bin_start": 51.3374,
            "count": 0
           },
           {
            "bin_end": 57.565200000000004,
            "bin_start": 54.4513,
            "count": 0
           },
           {
            "bin_end": 60.679100000000005,
            "bin_start": 57.565200000000004,
            "count": 0
           },
           {
            "bin_end": 63.793,
            "bin_start": 60.679100000000005,
            "count": 1
           }
          ],
          "max": "63.793",
          "min": "32.654",
          "nan_count": 1,
          "unique_count": 4
         }
        },
        {
         "dtype": "float64",
         "name": "Unnamed: 58",
         "stats": {
          "histogram": [
           {
            "bin_end": 35.684799999999996,
            "bin_start": 32.504,
            "count": 2
           },
           {
            "bin_end": 38.8656,
            "bin_start": 35.684799999999996,
            "count": 0
           },
           {
            "bin_end": 42.0464,
            "bin_start": 38.8656,
            "count": 1
           },
           {
            "bin_end": 45.227199999999996,
            "bin_start": 42.0464,
            "count": 0
           },
           {
            "bin_end": 48.408,
            "bin_start": 45.227199999999996,
            "count": 0
           },
           {
            "bin_end": 51.5888,
            "bin_start": 48.408,
            "count": 0
           },
           {
            "bin_end": 54.7696,
            "bin_start": 51.5888,
            "count": 0
           },
           {
            "bin_end": 57.9504,
            "bin_start": 54.7696,
            "count": 0
           },
           {
            "bin_end": 61.1312,
            "bin_start": 57.9504,
            "count": 0
           },
           {
            "bin_end": 64.312,
            "bin_start": 61.1312,
            "count": 1
           }
          ],
          "max": "64.312",
          "min": "32.504",
          "nan_count": 1,
          "unique_count": 4
         }
        },
        {
         "dtype": "float64",
         "name": "Unnamed: 59",
         "stats": {
          "histogram": [
           {
            "bin_end": 35.6293,
            "bin_start": 32.385,
            "count": 2
           },
           {
            "bin_end": 38.873599999999996,
            "bin_start": 35.6293,
            "count": 0
           },
           {
            "bin_end": 42.1179,
            "bin_start": 38.873599999999996,
            "count": 1
           },
           {
            "bin_end": 45.3622,
            "bin_start": 42.1179,
            "count": 0
           },
           {
            "bin_end": 48.6065,
            "bin_start": 45.3622,
            "count": 0
           },
           {
            "bin_end": 51.8508,
            "bin_start": 48.6065,
            "count": 0
           },
           {
            "bin_end": 55.0951,
            "bin_start": 51.8508,
            "count": 0
           },
           {
            "bin_end": 58.3394,
            "bin_start": 55.0951,
            "count": 0
           },
           {
            "bin_end": 61.5837,
            "bin_start": 58.3394,
            "count": 0
           },
           {
            "bin_end": 64.828,
            "bin_start": 61.5837,
            "count": 1
           }
          ],
          "max": "64.828",
          "min": "32.385",
          "nan_count": 1,
          "unique_count": 4
         }
        },
        {
         "dtype": "float64",
         "name": "Unnamed: 60",
         "stats": {
          "histogram": [
           {
            "bin_end": 35.6005,
            "bin_start": 32.296,
            "count": 2
           },
           {
            "bin_end": 38.905,
            "bin_start": 35.6005,
            "count": 0
           },
           {
            "bin_end": 42.2095,
            "bin_start": 38.905,
            "count": 0
           },
           {
            "bin_end": 45.513999999999996,
            "bin_start": 42.2095,
            "count": 1
           },
           {
            "bin_end": 48.8185,
            "bin_start": 45.513999999999996,
            "count": 0
           },
           {
            "bin_end": 52.123,
            "bin_start": 48.8185,
            "count": 0
           },
           {
            "bin_end": 55.427499999999995,
            "bin_start": 52.123,
            "count": 0
           },
           {
            "bin_end": 58.732,
            "bin_start": 55.427499999999995,
            "count": 0
           },
           {
            "bin_end": 62.0365,
            "bin_start": 58.732,
            "count": 0
           },
           {
            "bin_end": 65.341,
            "bin_start": 62.0365,
            "count": 1
           }
          ],
          "max": "65.341",
          "min": "32.296",
          "nan_count": 1,
          "unique_count": 4
         }
        },
        {
         "dtype": "float64",
         "name": "Unnamed: 61",
         "stats": {
          "histogram": [
           {
            "bin_end": 35.5983,
            "bin_start": 32.237,
            "count": 1
           },
           {
            "bin_end": 38.9596,
            "bin_start": 35.5983,
            "count": 1
           },
           {
            "bin_end": 42.320899999999995,
            "bin_start": 38.9596,
            "count": 0
           },
           {
            "bin_end": 45.682199999999995,
            "bin_start": 42.320899999999995,
            "count": 1
           },
           {
            "bin_end": 49.043499999999995,
            "bin_start": 45.682199999999995,
            "count": 0
           },
           {
            "bin_end": 52.404799999999994,
            "bin_start": 49.043499999999995,
            "count": 0
           },
           {
            "bin_end": 55.766099999999994,
            "bin_start": 52.404799999999994,
            "count": 0
           },
           {
            "bin_end": 59.127399999999994,
            "bin_start": 55.766099999999994,
            "count": 0
           },
           {
            "bin_end": 62.488699999999994,
            "bin_start": 59.127399999999994,
            "count": 0
           },
           {
            "bin_end": 65.85,
            "bin_start": 62.488699999999994,
            "count": 1
           }
          ],
          "max": "65.85",
          "min": "32.237",
          "nan_count": 1,
          "unique_count": 4
         }
        },
        {
         "dtype": "float64",
         "name": "Unnamed: 62",
         "stats": {
          "histogram": [
           {
            "bin_end": 35.6236,
            "bin_start": 32.209,
            "count": 1
           },
           {
            "bin_end": 39.0382,
            "bin_start": 35.6236,
            "count": 1
           },
           {
            "bin_end": 42.4528,
            "bin_start": 39.0382,
            "count": 0
           },
           {
            "bin_end": 45.8674,
            "bin_start": 42.4528,
            "count": 1
           },
           {
            "bin_end": 49.282000000000004,
            "bin_start": 45.8674,
            "count": 0
           },
           {
            "bin_end": 52.696600000000004,
            "bin_start": 49.282000000000004,
            "count": 0
           },
           {
            "bin_end": 56.111200000000004,
            "bin_start": 52.696600000000004,
            "count": 0
           },
           {
            "bin_end": 59.525800000000004,
            "bin_start": 56.111200000000004,
            "count": 0
           },
           {
            "bin_end": 62.940400000000004,
            "bin_start": 59.525800000000004,
            "count": 0
           },
           {
            "bin_end": 66.355,
            "bin_start": 62.940400000000004,
            "count": 1
           }
          ],
          "max": "66.355",
          "min": "32.209",
          "nan_count": 1,
          "unique_count": 4
         }
        },
        {
         "dtype": "float64",
         "name": "Unnamed: 63",
         "stats": {
          "histogram": [
           {
            "bin_end": 35.6746,
            "bin_start": 32.21,
            "count": 1
           },
           {
            "bin_end": 39.1392,
            "bin_start": 35.6746,
            "count": 1
           },
           {
            "bin_end": 42.6038,
            "bin_start": 39.1392,
            "count": 0
           },
           {
            "bin_end": 46.0684,
            "bin_start": 42.6038,
            "count": 1
           },
           {
            "bin_end": 49.533,
            "bin_start": 46.0684,
            "count": 0
           },
           {
            "bin_end": 52.9976,
            "bin_start": 49.533,
            "count": 0
           },
           {
            "bin_end": 56.462199999999996,
            "bin_start": 52.9976,
            "count": 0
           },
           {
            "bin_end": 59.9268,
            "bin_start": 56.462199999999996,
            "count": 0
           },
           {
            "bin_end": 63.3914,
            "bin_start": 59.9268,
            "count": 0
           },
           {
            "bin_end": 66.856,
            "bin_start": 63.3914,
            "count": 1
           }
          ],
          "max": "66.856",
          "min": "32.21",
          "nan_count": 1,
          "unique_count": 4
         }
        },
        {
         "dtype": "float64",
         "name": "Unnamed: 64",
         "stats": {
          "histogram": [
           {
            "bin_end": 35.7532,
            "bin_start": 32.242,
            "count": 1
           },
           {
            "bin_end": 39.264399999999995,
            "bin_start": 35.7532,
            "count": 1
           },
           {
            "bin_end": 42.7756,
            "bin_start": 39.264399999999995,
            "count": 0
           },
           {
            "bin_end": 46.2868,
            "bin_start": 42.7756,
            "count": 1
           },
           {
            "bin_end": 49.798,
            "bin_start": 46.2868,
            "count": 0
           },
           {
            "bin_end": 53.3092,
            "bin_start": 49.798,
            "count": 0
           },
           {
            "bin_end": 56.8204,
            "bin_start": 53.3092,
            "count": 0
           },
           {
            "bin_end": 60.331599999999995,
            "bin_start": 56.8204,
            "count": 0
           },
           {
            "bin_end": 63.8428,
            "bin_start": 60.331599999999995,
            "count": 0
           },
           {
            "bin_end": 67.354,
            "bin_start": 63.8428,
            "count": 1
           }
          ],
          "max": "67.354",
          "min": "32.242",
          "nan_count": 1,
          "unique_count": 4
         }
        },
        {
         "dtype": "float64",
         "name": "Unnamed: 65",
         "stats": {
          "histogram": [
           {
            "bin_end": 35.8574,
            "bin_start": 32.303,
            "count": 1
           },
           {
            "bin_end": 39.4118,
            "bin_start": 35.8574,
            "count": 1
           },
           {
            "bin_end": 42.9662,
            "bin_start": 39.4118,
            "count": 0
           },
           {
            "bin_end": 46.520599999999995,
            "bin_start": 42.9662,
            "count": 1
           },
           {
            "bin_end": 50.074999999999996,
            "bin_start": 46.520599999999995,
            "count": 0
           },
           {
            "bin_end": 53.6294,
            "bin_start": 50.074999999999996,
            "count": 0
           },
           {
            "bin_end": 57.18379999999999,
            "bin_start": 53.6294,
            "count": 0
           },
           {
            "bin_end": 60.73819999999999,
            "bin_start": 57.18379999999999,
            "count": 0
           },
           {
            "bin_end": 64.2926,
            "bin_start": 60.73819999999999,
            "count": 0
           },
           {
            "bin_end": 67.847,
            "bin_start": 64.2926,
            "count": 1
           }
          ],
          "max": "67.847",
          "min": "32.303",
          "nan_count": 1,
          "unique_count": 4
         }
        },
        {
         "dtype": "float64",
         "name": "Unnamed: 66",
         "stats": {
          "histogram": [
           {
            "bin_end": 35.989000000000004,
            "bin_start": 32.395,
            "count": 1
           },
           {
            "bin_end": 39.583,
            "bin_start": 35.989000000000004,
            "count": 1
           },
           {
            "bin_end": 43.177,
            "bin_start": 39.583,
            "count": 0
           },
           {
            "bin_end": 46.771,
            "bin_start": 43.177,
            "count": 1
           },
           {
            "bin_end": 50.364999999999995,
            "bin_start": 46.771,
            "count": 0
           },
           {
            "bin_end": 53.958999999999996,
            "bin_start": 50.364999999999995,
            "count": 0
           },
           {
            "bin_end": 57.553,
            "bin_start": 53.958999999999996,
            "count": 0
           },
           {
            "bin_end": 61.14699999999999,
            "bin_start": 57.553,
            "count": 0
           },
           {
            "bin_end": 64.74099999999999,
            "bin_start": 61.14699999999999,
            "count": 0
           },
           {
            "bin_end": 68.335,
            "bin_start": 64.74099999999999,
            "count": 1
           }
          ],
          "max": "68.335",
          "min": "32.395",
          "nan_count": 1,
          "unique_count": 4
         }
        },
        {
         "dtype": "float64",
         "name": "Unnamed: 67",
         "stats": {
          "histogram": [
           {
            "bin_end": 36.147200000000005,
            "bin_start": 32.517,
            "count": 1
           },
           {
            "bin_end": 39.7774,
            "bin_start": 36.147200000000005,
            "count": 0
           },
           {
            "bin_end": 43.4076,
            "bin_start": 39.7774,
            "count": 1
           },
           {
            "bin_end": 47.037800000000004,
            "bin_start": 43.4076,
            "count": 1
           },
           {
            "bin_end": 50.668000000000006,
            "bin_start": 47.037800000000004,
            "count": 0
           },
           {
            "bin_end": 54.2982,
            "bin_start": 50.668000000000006,
            "count": 0
           },
           {
            "bin_end": 57.9284,
            "bin_start": 54.2982,
            "count": 0
           },
           {
            "bin_end": 61.5586,
            "bin_start": 57.9284,
            "count": 0
           },
           {
            "bin_end": 65.1888,
            "bin_start": 61.5586,
            "count": 0
           },
           {
            "bin_end": 68.819,
            "bin_start": 65.1888,
            "count": 1
           }
          ],
          "max": "68.819",
          "min": "32.517",
          "nan_count": 1,
          "unique_count": 4
         }
        },
        {
         "dtype": "int64",
         "name": "_deepnote_index_column"
        }
       ],
       "row_count": 5,
       "rows": [
        {
         "Data Source": "Kosovo",
         "Unnamed: 10": "nan",
         "Unnamed: 11": "nan",
         "Unnamed: 12": "nan",
         "Unnamed: 13": "nan",
         "Unnamed: 14": "nan",
         "Unnamed: 15": "nan",
         "Unnamed: 16": "nan",
         "Unnamed: 17": "nan",
         "Unnamed: 18": "nan",
         "Unnamed: 19": "nan",
         "Unnamed: 2": "Urban population (% of total population)",
         "Unnamed: 20": "nan",
         "Unnamed: 21": "nan",
         "Unnamed: 22": "nan",
         "Unnamed: 23": "nan",
         "Unnamed: 24": "nan",
         "Unnamed: 25": "nan",
         "Unnamed: 26": "nan",
         "Unnamed: 27": "nan",
         "Unnamed: 28": "nan",
         "Unnamed: 29": "nan",
         "Unnamed: 3": "SP.URB.TOTL.IN.ZS",
         "Unnamed: 30": "nan",
         "Unnamed: 31": "nan",
         "Unnamed: 32": "nan",
         "Unnamed: 33": "nan",
         "Unnamed: 34": "nan",
         "Unnamed: 35": "nan",
         "Unnamed: 36": "nan",
         "Unnamed: 37": "nan",
         "Unnamed: 38": "nan",
         "Unnamed: 39": "nan",
         "Unnamed: 4": "nan",
         "Unnamed: 40": "nan",
         "Unnamed: 41": "nan",
         "Unnamed: 42": "nan",
         "Unnamed: 43": "nan",
         "Unnamed: 44": "nan",
         "Unnamed: 45": "nan",
         "Unnamed: 46": "nan",
         "Unnamed: 47": "nan",
         "Unnamed: 48": "nan",
         "Unnamed: 49": "nan",
         "Unnamed: 5": "nan",
         "Unnamed: 50": "nan",
         "Unnamed: 51": "nan",
         "Unnamed: 52": "nan",
         "Unnamed: 53": "nan",
         "Unnamed: 54": "nan",
         "Unnamed: 55": "nan",
         "Unnamed: 56": "nan",
         "Unnamed: 57": "nan",
         "Unnamed: 58": "nan",
         "Unnamed: 59": "nan",
         "Unnamed: 6": "nan",
         "Unnamed: 60": "nan",
         "Unnamed: 61": "nan",
         "Unnamed: 62": "nan",
         "Unnamed: 63": "nan",
         "Unnamed: 64": "nan",
         "Unnamed: 65": "nan",
         "Unnamed: 66": "nan",
         "Unnamed: 67": "nan",
         "Unnamed: 7": "nan",
         "Unnamed: 8": "nan",
         "Unnamed: 9": "nan",
         "World Development Indicators": "XKX",
         "_deepnote_index_column": 264
        },
        {
         "Data Source": "Yemen, Rep.",
         "Unnamed: 10": 11.451,
         "Unnamed: 11": 11.891,
         "Unnamed: 12": 12.347,
         "Unnamed: 13": 12.815,
         "Unnamed: 14": 13.3,
         "Unnamed: 15": 13.598,
         "Unnamed: 16": 13.901,
         "Unnamed: 17": 14.209,
         "Unnamed: 18": 14.524,
         "Unnamed: 19": 14.844,
         "Unnamed: 2": "Urban population (% of total population)",
         "Unnamed: 20": 15.171,
         "Unnamed: 21": 15.502,
         "Unnamed: 22": 15.84,
         "Unnamed: 23": 16.183,
         "Unnamed: 24": 16.534,
         "Unnamed: 25": 16.889,
         "Unnamed: 26": 17.251,
         "Unnamed: 27": 17.619,
         "Unnamed: 28": 17.993,
         "Unnamed: 29": 18.373,
         "Unnamed: 3": "SP.URB.TOTL.IN.ZS",
         "Unnamed: 30": 18.808,
         "Unnamed: 31": 19.323,
         "Unnamed: 32": 19.849,
         "Unnamed: 33": 20.385,
         "Unnamed: 34": 20.931,
         "Unnamed: 35": 21.489,
         "Unnamed: 36": 22.058,
         "Unnamed: 37": 22.636,
         "Unnamed: 38": 23.225,
         "Unnamed: 39": 23.76,
         "Unnamed: 4": 9.1,
         "Unnamed: 40": 24.249,
         "Unnamed: 41": 24.743,
         "Unnamed: 42": 25.244,
         "Unnamed: 43": 25.752,
         "Unnamed: 44": 26.267,
         "Unnamed: 45": 26.787,
         "Unnamed: 46": 27.315,
         "Unnamed: 47": 27.849,
         "Unnamed: 48": 28.39,
         "Unnamed: 49": 28.936,
         "Unnamed: 5": 9.459,
         "Unnamed: 50": 29.49,
         "Unnamed: 51": 30.051,
         "Unnamed: 52": 30.619,
         "Unnamed: 53": 31.194,
         "Unnamed: 54": 31.776,
         "Unnamed: 55": 32.364,
         "Unnamed: 56": 32.958,
         "Unnamed: 57": 33.559,
         "Unnamed: 58": 34.165,
         "Unnamed: 59": 34.777,
         "Unnamed: 6": 9.831,
         "Unnamed: 60": 35.394,
         "Unnamed: 61": 36.016,
         "Unnamed: 62": 36.642,
         "Unnamed: 63": 37.273,
         "Unnamed: 64": 37.908,
         "Unnamed: 65": 38.546,
         "Unnamed: 66": 39.188,
         "Unnamed: 67": 39.831,
         "Unnamed: 7": 10.216,
         "Unnamed: 8": 10.614,
         "Unnamed: 9": 11.026,
         "World Development Indicators": "YEM",
         "_deepnote_index_column": 265
        },
        {
         "Data Source": "South Africa",
         "Unnamed: 10": 47.362,
         "Unnamed: 11": 47.476,
         "Unnamed: 12": 47.59,
         "Unnamed: 13": 47.704,
         "Unnamed: 14": 47.809,
         "Unnamed: 15": 47.869,
         "Unnamed: 16": 47.929,
         "Unnamed: 17": 47.989,
         "Unnamed: 18": 48.049,
         "Unnamed: 19": 48.109,
         "Unnamed: 2": "Urban population (% of total population)",
         "Unnamed: 20": 48.169,
         "Unnamed: 21": 48.229,
         "Unnamed: 22": 48.289,
         "Unnamed: 23": 48.349,
         "Unnamed: 24": 48.425,
         "Unnamed: 25": 48.591,
         "Unnamed: 26": 48.756,
         "Unnamed: 27": 48.922,
         "Unnamed: 28": 49.088,
         "Unnamed: 29": 49.372,
         "Unnamed: 3": "SP.URB.TOTL.IN.ZS",
         "Unnamed: 30": 49.905,
         "Unnamed: 31": 50.439,
         "Unnamed: 32": 50.972,
         "Unnamed: 33": 51.505,
         "Unnamed: 34": 52.037,
         "Unnamed: 35": 52.554,
         "Unnamed: 36": 53.038,
         "Unnamed: 37": 53.521,
         "Unnamed: 38": 54.004,
         "Unnamed: 39": 54.486,
         "Unnamed: 4": 46.619,
         "Unnamed: 40": 54.967,
         "Unnamed: 41": 55.449,
         "Unnamed: 42": 55.93,
         "Unnamed: 43": 56.411,
         "Unnamed: 44": 56.891,
         "Unnamed: 45": 57.368,
         "Unnamed: 46": 57.898,
         "Unnamed: 47": 58.446,
         "Unnamed: 48": 58.993,
         "Unnamed: 49": 59.536,
         "Unnamed: 5": 46.793,
         "Unnamed: 50": 60.077,
         "Unnamed: 51": 60.616,
         "Unnamed: 52": 61.154,
         "Unnamed: 53": 61.687,
         "Unnamed: 54": 62.218,
         "Unnamed: 55": 62.746,
         "Unnamed: 56": 63.272,
         "Unnamed: 57": 63.793,
         "Unnamed: 58": 64.312,
         "Unnamed: 59": 64.828,
         "Unnamed: 6": 46.906,
         "Unnamed: 60": 65.341,
         "Unnamed: 61": 65.85,
         "Unnamed: 62": 66.355,
         "Unnamed: 63": 66.856,
         "Unnamed: 64": 67.354,
         "Unnamed: 65": 67.847,
         "Unnamed: 66": 68.335,
         "Unnamed: 67": 68.819,
         "Unnamed: 7": 47.02,
         "Unnamed: 8": 47.134,
         "Unnamed: 9": 47.248,
         "World Development Indicators": "ZAF",
         "_deepnote_index_column": 266
        },
        {
         "Data Source": "Zambia",
         "Unnamed: 10": 24.789,
         "Unnamed: 11": 26.261,
         "Unnamed: 12": 27.791,
         "Unnamed: 13": 29.37,
         "Unnamed: 14": 30.351,
         "Unnamed: 15": 31.241,
         "Unnamed: 16": 32.146,
         "Unnamed: 17": 33.061,
         "Unnamed: 18": 33.992,
         "Unnamed: 19": 34.934,
         "Unnamed: 2": "Urban population (% of total population)",
         "Unnamed: 20": 35.89,
         "Unnamed: 21": 36.855,
         "Unnamed: 22": 37.832,
         "Unnamed: 23": 38.818,
         "Unnamed: 24": 39.815,
         "Unnamed: 25": 39.854,
         "Unnamed: 26": 39.805,
         "Unnamed: 27": 39.755,
         "Unnamed: 28": 39.705,
         "Unnamed: 29": 39.655,
         "Unnamed: 3": "SP.URB.TOTL.IN.ZS",
         "Unnamed: 30": 39.606,
         "Unnamed: 31": 39.556,
         "Unnamed: 32": 39.506,
         "Unnamed: 33": 39.456,
         "Unnamed: 34": 39.407,
         "Unnamed: 35": 38.989,
         "Unnamed: 36": 38.514,
         "Unnamed: 37": 38.042,
         "Unnamed: 38": 37.572,
         "Unnamed: 39": 37.104,
         "Unnamed: 4": 18.145,
         "Unnamed: 40": 36.638,
         "Unnamed: 41": 36.176,
         "Unnamed: 42": 35.716,
         "Unnamed: 43": 35.258,
         "Unnamed: 44": 34.802,
         "Unnamed: 45": 35.002,
         "Unnamed: 46": 35.475,
         "Unnamed: 47": 35.951,
         "Unnamed: 48": 36.43,
         "Unnamed: 49": 36.911,
         "Unnamed: 5": 18.951,
         "Unnamed: 50": 37.395,
         "Unnamed: 51": 37.881,
         "Unnamed: 52": 38.371,
         "Unnamed: 53": 38.861,
         "Unnamed: 54": 39.355,
         "Unnamed: 55": 39.851,
         "Unnamed: 56": 40.354,
         "Unnamed: 57": 40.865,
         "Unnamed: 58": 41.382,
         "Unnamed: 59": 41.907,
         "Unnamed: 6": 19.785,
         "Unnamed: 60": 42.438,
         "Unnamed: 61": 42.976,
         "Unnamed: 62": 43.521,
         "Unnamed: 63": 44.072,
         "Unnamed: 64": 44.629,
         "Unnamed: 65": 45.192,
         "Unnamed: 66": 45.761,
         "Unnamed: 67": 46.335,
         "Unnamed: 7": 20.712,
         "Unnamed: 8": 22.015,
         "Unnamed: 9": 23.372,
         "World Development Indicators": "ZMB",
         "_deepnote_index_column": 267
        },
        {
         "Data Source": "Zimbabwe",
         "Unnamed: 10": 15.165,
         "Unnamed: 11": 15.727,
         "Unnamed: 12": 16.306,
         "Unnamed: 13": 16.88,
         "Unnamed: 14": 17.362,
         "Unnamed: 15": 17.855,
         "Unnamed: 16": 18.36,
         "Unnamed: 17": 18.874,
         "Unnamed: 18": 19.4,
         "Unnamed: 19": 19.873,
         "Unnamed: 2": "Urban population (% of total population)",
         "Unnamed: 20": 20.356,
         "Unnamed: 21": 20.846,
         "Unnamed: 22": 21.345,
         "Unnamed: 23": 21.853,
         "Unnamed: 24": 22.371,
         "Unnamed: 25": 22.895,
         "Unnamed: 26": 23.429,
         "Unnamed: 27": 24.069,
         "Unnamed: 28": 24.736,
         "Unnamed: 29": 25.414,
         "Unnamed: 3": "SP.URB.TOTL.IN.ZS",
         "Unnamed: 30": 26.105,
         "Unnamed: 31": 26.809,
         "Unnamed: 32": 27.524,
         "Unnamed: 33": 28.25,
         "Unnamed: 34": 28.988,
         "Unnamed: 35": 29.738,
         "Unnamed: 36": 30.499,
         "Unnamed: 37": 30.94,
         "Unnamed: 38": 31.335,
         "Unnamed: 39": 31.732,
         "Unnamed: 4": 12.608,
         "Unnamed: 40": 32.132,
         "Unnamed: 41": 32.534,
         "Unnamed: 42": 32.939,
         "Unnamed: 43": 33.347,
         "Unnamed: 44": 33.758,
         "Unnamed: 45": 34.17,
         "Unnamed: 46": 34.585,
         "Unnamed: 47": 34.479,
         "Unnamed: 48": 34.294,
         "Unnamed: 49": 34.11,
         "Unnamed: 5": 12.821,
         "Unnamed: 50": 33.926,
         "Unnamed: 51": 33.743,
         "Unnamed: 52": 33.56,
         "Unnamed: 53": 33.378,
         "Unnamed: 54": 33.196,
         "Unnamed: 55": 33.015,
         "Unnamed: 56": 32.834,
         "Unnamed: 57": 32.654,
         "Unnamed: 58": 32.504,
         "Unnamed: 59": 32.385,
         "Unnamed: 6": 13.082,
         "Unnamed: 60": 32.296,
         "Unnamed: 61": 32.237,
         "Unnamed: 62": 32.209,
         "Unnamed: 63": 32.21,
         "Unnamed: 64": 32.242,
         "Unnamed: 65": 32.303,
         "Unnamed: 66": 32.395,
         "Unnamed: 67": 32.517,
         "Unnamed: 7": 13.578,
         "Unnamed: 8": 14.092,
         "Unnamed: 9": 14.62,
         "World Development Indicators": "ZWE",
         "_deepnote_index_column": 268
        }
       ],
       "type": "dataframe"
      },
      "text/html": [
       "<div>\n",
       "<style scoped>\n",
       "    .dataframe tbody tr th:only-of-type {\n",
       "        vertical-align: middle;\n",
       "    }\n",
       "\n",
       "    .dataframe tbody tr th {\n",
       "        vertical-align: top;\n",
       "    }\n",
       "\n",
       "    .dataframe thead th {\n",
       "        text-align: right;\n",
       "    }\n",
       "</style>\n",
       "<table border=\"1\" class=\"dataframe\">\n",
       "  <thead>\n",
       "    <tr style=\"text-align: right;\">\n",
       "      <th></th>\n",
       "      <th>Data Source</th>\n",
       "      <th>World Development Indicators</th>\n",
       "      <th>Unnamed: 2</th>\n",
       "      <th>Unnamed: 3</th>\n",
       "      <th>Unnamed: 4</th>\n",
       "      <th>Unnamed: 5</th>\n",
       "      <th>Unnamed: 6</th>\n",
       "      <th>Unnamed: 7</th>\n",
       "      <th>Unnamed: 8</th>\n",
       "      <th>Unnamed: 9</th>\n",
       "      <th>...</th>\n",
       "      <th>Unnamed: 58</th>\n",
       "      <th>Unnamed: 59</th>\n",
       "      <th>Unnamed: 60</th>\n",
       "      <th>Unnamed: 61</th>\n",
       "      <th>Unnamed: 62</th>\n",
       "      <th>Unnamed: 63</th>\n",
       "      <th>Unnamed: 64</th>\n",
       "      <th>Unnamed: 65</th>\n",
       "      <th>Unnamed: 66</th>\n",
       "      <th>Unnamed: 67</th>\n",
       "    </tr>\n",
       "  </thead>\n",
       "  <tbody>\n",
       "    <tr>\n",
       "      <th>264</th>\n",
       "      <td>Kosovo</td>\n",
       "      <td>XKX</td>\n",
       "      <td>Urban population (% of total population)</td>\n",
       "      <td>SP.URB.TOTL.IN.ZS</td>\n",
       "      <td>NaN</td>\n",
       "      <td>NaN</td>\n",
       "      <td>NaN</td>\n",
       "      <td>NaN</td>\n",
       "      <td>NaN</td>\n",
       "      <td>NaN</td>\n",
       "      <td>...</td>\n",
       "      <td>NaN</td>\n",
       "      <td>NaN</td>\n",
       "      <td>NaN</td>\n",
       "      <td>NaN</td>\n",
       "      <td>NaN</td>\n",
       "      <td>NaN</td>\n",
       "      <td>NaN</td>\n",
       "      <td>NaN</td>\n",
       "      <td>NaN</td>\n",
       "      <td>NaN</td>\n",
       "    </tr>\n",
       "    <tr>\n",
       "      <th>265</th>\n",
       "      <td>Yemen, Rep.</td>\n",
       "      <td>YEM</td>\n",
       "      <td>Urban population (% of total population)</td>\n",
       "      <td>SP.URB.TOTL.IN.ZS</td>\n",
       "      <td>9.100</td>\n",
       "      <td>9.459</td>\n",
       "      <td>9.831</td>\n",
       "      <td>10.216</td>\n",
       "      <td>10.614</td>\n",
       "      <td>11.026</td>\n",
       "      <td>...</td>\n",
       "      <td>34.165</td>\n",
       "      <td>34.777</td>\n",
       "      <td>35.394</td>\n",
       "      <td>36.016</td>\n",
       "      <td>36.642</td>\n",
       "      <td>37.273</td>\n",
       "      <td>37.908</td>\n",
       "      <td>38.546</td>\n",
       "      <td>39.188</td>\n",
       "      <td>39.831</td>\n",
       "    </tr>\n",
       "    <tr>\n",
       "      <th>266</th>\n",
       "      <td>South Africa</td>\n",
       "      <td>ZAF</td>\n",
       "      <td>Urban population (% of total population)</td>\n",
       "      <td>SP.URB.TOTL.IN.ZS</td>\n",
       "      <td>46.619</td>\n",
       "      <td>46.793</td>\n",
       "      <td>46.906</td>\n",
       "      <td>47.020</td>\n",
       "      <td>47.134</td>\n",
       "      <td>47.248</td>\n",
       "      <td>...</td>\n",
       "      <td>64.312</td>\n",
       "      <td>64.828</td>\n",
       "      <td>65.341</td>\n",
       "      <td>65.850</td>\n",
       "      <td>66.355</td>\n",
       "      <td>66.856</td>\n",
       "      <td>67.354</td>\n",
       "      <td>67.847</td>\n",
       "      <td>68.335</td>\n",
       "      <td>68.819</td>\n",
       "    </tr>\n",
       "    <tr>\n",
       "      <th>267</th>\n",
       "      <td>Zambia</td>\n",
       "      <td>ZMB</td>\n",
       "      <td>Urban population (% of total population)</td>\n",
       "      <td>SP.URB.TOTL.IN.ZS</td>\n",
       "      <td>18.145</td>\n",
       "      <td>18.951</td>\n",
       "      <td>19.785</td>\n",
       "      <td>20.712</td>\n",
       "      <td>22.015</td>\n",
       "      <td>23.372</td>\n",
       "      <td>...</td>\n",
       "      <td>41.382</td>\n",
       "      <td>41.907</td>\n",
       "      <td>42.438</td>\n",
       "      <td>42.976</td>\n",
       "      <td>43.521</td>\n",
       "      <td>44.072</td>\n",
       "      <td>44.629</td>\n",
       "      <td>45.192</td>\n",
       "      <td>45.761</td>\n",
       "      <td>46.335</td>\n",
       "    </tr>\n",
       "    <tr>\n",
       "      <th>268</th>\n",
       "      <td>Zimbabwe</td>\n",
       "      <td>ZWE</td>\n",
       "      <td>Urban population (% of total population)</td>\n",
       "      <td>SP.URB.TOTL.IN.ZS</td>\n",
       "      <td>12.608</td>\n",
       "      <td>12.821</td>\n",
       "      <td>13.082</td>\n",
       "      <td>13.578</td>\n",
       "      <td>14.092</td>\n",
       "      <td>14.620</td>\n",
       "      <td>...</td>\n",
       "      <td>32.504</td>\n",
       "      <td>32.385</td>\n",
       "      <td>32.296</td>\n",
       "      <td>32.237</td>\n",
       "      <td>32.209</td>\n",
       "      <td>32.210</td>\n",
       "      <td>32.242</td>\n",
       "      <td>32.303</td>\n",
       "      <td>32.395</td>\n",
       "      <td>32.517</td>\n",
       "    </tr>\n",
       "  </tbody>\n",
       "</table>\n",
       "<p>5 rows × 68 columns</p>\n",
       "</div>"
      ],
      "text/plain": [
       "      Data Source World Development Indicators  \\\n",
       "264        Kosovo                          XKX   \n",
       "265   Yemen, Rep.                          YEM   \n",
       "266  South Africa                          ZAF   \n",
       "267        Zambia                          ZMB   \n",
       "268      Zimbabwe                          ZWE   \n",
       "\n",
       "                                   Unnamed: 2         Unnamed: 3  Unnamed: 4  \\\n",
       "264  Urban population (% of total population)  SP.URB.TOTL.IN.ZS         NaN   \n",
       "265  Urban population (% of total population)  SP.URB.TOTL.IN.ZS       9.100   \n",
       "266  Urban population (% of total population)  SP.URB.TOTL.IN.ZS      46.619   \n",
       "267  Urban population (% of total population)  SP.URB.TOTL.IN.ZS      18.145   \n",
       "268  Urban population (% of total population)  SP.URB.TOTL.IN.ZS      12.608   \n",
       "\n",
       "     Unnamed: 5  Unnamed: 6  Unnamed: 7  Unnamed: 8  Unnamed: 9  ...  \\\n",
       "264         NaN         NaN         NaN         NaN         NaN  ...   \n",
       "265       9.459       9.831      10.216      10.614      11.026  ...   \n",
       "266      46.793      46.906      47.020      47.134      47.248  ...   \n",
       "267      18.951      19.785      20.712      22.015      23.372  ...   \n",
       "268      12.821      13.082      13.578      14.092      14.620  ...   \n",
       "\n",
       "     Unnamed: 58  Unnamed: 59  Unnamed: 60  Unnamed: 61  Unnamed: 62  \\\n",
       "264          NaN          NaN          NaN          NaN          NaN   \n",
       "265       34.165       34.777       35.394       36.016       36.642   \n",
       "266       64.312       64.828       65.341       65.850       66.355   \n",
       "267       41.382       41.907       42.438       42.976       43.521   \n",
       "268       32.504       32.385       32.296       32.237       32.209   \n",
       "\n",
       "     Unnamed: 63  Unnamed: 64  Unnamed: 65  Unnamed: 66  Unnamed: 67  \n",
       "264          NaN          NaN          NaN          NaN          NaN  \n",
       "265       37.273       37.908       38.546       39.188       39.831  \n",
       "266       66.856       67.354       67.847       68.335       68.819  \n",
       "267       44.072       44.629       45.192       45.761       46.335  \n",
       "268       32.210       32.242       32.303       32.395       32.517  \n",
       "\n",
       "[5 rows x 68 columns]"
      ]
     },
     "execution_count": 4,
     "metadata": {},
     "output_type": "execute_result"
    }
   ],
   "source": [
    "# View the last 5 rows on urban data\n",
    "urban_df.tail()"
   ]
  },
  {
   "cell_type": "markdown",
   "metadata": {
    "cell_id": "7502fdfb319f485aa5927b898e3df29f",
    "deepnote_cell_type": "markdown",
    "id": "vUsm2svuJiny"
   },
   "source": [
    "**Cleaning up the row & column headers**"
   ]
  },
  {
   "cell_type": "code",
   "execution_count": 5,
   "metadata": {
    "cell_id": "5a14512dda784e578514259e2c2961d8",
    "deepnote_cell_type": "code",
    "execution_context_id": "f88d9dd5-f11a-4387-a743-90b1155ea7b3",
    "execution_millis": 0,
    "execution_start": 1743089359761,
    "id": "iOmfUgZJPjHN",
    "source_hash": "b15ca6da"
   },
   "outputs": [],
   "source": [
    "# Remove row 0 & row 1 in urban\n",
    "urban_df = urban_df.drop([0, 1]).reset_index(drop=True)"
   ]
  },
  {
   "cell_type": "code",
   "execution_count": 6,
   "metadata": {
    "cell_id": "3e661f87c2f74a2198a070ff5dfa8179",
    "deepnote_cell_type": "code",
    "execution_context_id": "f88d9dd5-f11a-4387-a743-90b1155ea7b3",
    "execution_millis": 0,
    "execution_start": 1743089359831,
    "id": "NNCDigyZ5r7L",
    "source_hash": "b4c9f615"
   },
   "outputs": [],
   "source": [
    "# Convert row 1 into string values\n",
    "row_0 = urban_df.iloc[0]  # Get the first row (row 0)\n",
    "\n",
    "# Iterate through columns starting from the 4th field\n",
    "for i in range(4, len(row_0)):\n",
    "      row_0[i] = str(int(row_0[i]))\n",
    "\n",
    "# Assign the modified row back to the DataFrame\n",
    "urban_df.iloc[0] = row_0"
   ]
  },
  {
   "cell_type": "code",
   "execution_count": 7,
   "metadata": {
    "cell_id": "c81337534f7f4869a953329b35aece2a",
    "deepnote_cell_type": "code",
    "execution_context_id": "f88d9dd5-f11a-4387-a743-90b1155ea7b3",
    "execution_millis": 0,
    "execution_start": 1743089359881,
    "id": "rtLwK9FLPwkJ",
    "source_hash": "d392e071"
   },
   "outputs": [],
   "source": [
    "# Set row 0 names as column headers in urban\n",
    "urban_df.columns = urban_df.iloc[0]\n",
    "urban_df = urban_df[1:]\n",
    "urban_df = urban_df.reset_index(drop=True)"
   ]
  },
  {
   "cell_type": "markdown",
   "metadata": {
    "cell_id": "a72fdd91eada4c2e9963c9f5ea6de909",
    "deepnote_cell_type": "markdown",
    "id": "IWZDkoaxsaFM"
   },
   "source": [
    "The required rows have been dropped. The new column headers are changed into the string type so they can be assigned as headers."
   ]
  },
  {
   "cell_type": "code",
   "execution_count": 8,
   "metadata": {
    "cell_id": "9abf07f8dc904d06ad04a77c8914b63f",
    "deepnote_cell_type": "code",
    "execution_context_id": "f88d9dd5-f11a-4387-a743-90b1155ea7b3",
    "execution_millis": 0,
    "execution_start": 1743089359931,
    "id": "2wGrCEYrCGwR",
    "source_hash": "6f0058d2"
   },
   "outputs": [],
   "source": [
    "# Drop columns not required\n",
    "urban_df = urban_df.drop(columns=['Country Code', 'Indicator Name', 'Indicator Code'])"
   ]
  },
  {
   "cell_type": "markdown",
   "metadata": {
    "cell_id": "eacecca2b45d42c486e9ab51da64be02",
    "deepnote_cell_type": "markdown",
    "id": "ekEzcpmPqTBP"
   },
   "source": [
    "The columns are irrelevant or non-essential for analysis are dropped. A smaller, cleaner dataset takes less time to analyse and interpret. Dropping irrelevant columns reduces the size of the dataset, and so the computational efficiency increases. The smaller dataset allows data processing and visualisation to run faster."
   ]
  },
  {
   "cell_type": "code",
   "execution_count": 9,
   "metadata": {
    "cell_id": "70d91f6ba2d041c083c5266a809440ba",
    "colab": {
     "base_uri": "https://localhost:8080/",
     "height": 1000
    },
    "deepnote_cell_type": "code",
    "execution_context_id": "f88d9dd5-f11a-4387-a743-90b1155ea7b3",
    "execution_millis": 0,
    "execution_start": 1743089359981,
    "id": "YbqRXfLRChn4",
    "outputId": "ad08d5cc-02b7-4177-b54a-c64a4e2db8aa",
    "source_hash": "c70d5efc"
   },
   "outputs": [
    {
     "data": {
      "text/plain": [
       "0\n",
       "Country Name    0\n",
       "1960            3\n",
       "1961            3\n",
       "1962            3\n",
       "1963            3\n",
       "               ..\n",
       "2019            3\n",
       "2020            3\n",
       "2021            3\n",
       "2022            3\n",
       "2023            3\n",
       "Length: 65, dtype: int64"
      ]
     },
     "execution_count": 9,
     "metadata": {},
     "output_type": "execute_result"
    }
   ],
   "source": [
    "# Check the missing values\n",
    "urban_df.isnull().sum()"
   ]
  },
  {
   "cell_type": "markdown",
   "metadata": {
    "cell_id": "4c4b73c5a78b4dd9bcf1a39623c4f13d",
    "deepnote_cell_type": "markdown",
    "id": "5u9GdePnuoU5"
   },
   "source": [
    "Missing values must be checked within the dataset. They can impact the accuracy of analysis, so it's important they are handled properly. There are 2 rows for the years data has null values, while the Region & Income Group have many more. Rows with missing values need to be dropped or filled."
   ]
  },
  {
   "cell_type": "markdown",
   "metadata": {
    "cell_id": "91bd00f4f6cf474293219c99e5a069af",
    "deepnote_cell_type": "markdown",
    "id": "T4XHSI-KKYlE"
   },
   "source": [
    "**Dropping blank rows**"
   ]
  },
  {
   "cell_type": "code",
   "execution_count": 10,
   "metadata": {
    "cell_id": "8a79938e455444528f2ef6ffa4bbd161",
    "deepnote_cell_type": "code",
    "execution_context_id": "f88d9dd5-f11a-4387-a743-90b1155ea7b3",
    "execution_millis": 0,
    "execution_start": 1743089360031,
    "id": "spGQiKhyDfP6",
    "source_hash": "9b43db60"
   },
   "outputs": [],
   "source": [
    "# Drop rows with NaN values\n",
    "urban_df.dropna(how='any', inplace=True)"
   ]
  },
  {
   "cell_type": "markdown",
   "metadata": {
    "cell_id": "8e3a0fcd3a654f9e815b416c63fc649c",
    "deepnote_cell_type": "markdown",
    "id": "g9_MFwf4vBFB"
   },
   "source": [
    "All rows that contain NaN are removed."
   ]
  },
  {
   "cell_type": "markdown",
   "metadata": {
    "cell_id": "39ecc05ecaf74bd4a55e1b048e80766d",
    "deepnote_cell_type": "markdown",
    "id": "zE_9grnHLuiI"
   },
   "source": [
    "**Searching for duplicate rows**"
   ]
  },
  {
   "cell_type": "code",
   "execution_count": 11,
   "metadata": {
    "cell_id": "5112c344828742249453f8635a885d91",
    "colab": {
     "base_uri": "https://localhost:8080/"
    },
    "deepnote_cell_type": "code",
    "execution_context_id": "f88d9dd5-f11a-4387-a743-90b1155ea7b3",
    "execution_millis": 0,
    "execution_start": 1743089360081,
    "id": "9dhpMw2XD__T",
    "outputId": "701365de-a0b5-4f47-c33a-497615951ceb",
    "source_hash": "984f28e"
   },
   "outputs": [
    {
     "data": {
      "text/plain": [
       "0"
      ]
     },
     "execution_count": 11,
     "metadata": {},
     "output_type": "execute_result"
    }
   ],
   "source": [
    "# Find duplicated rows\n",
    "urban_df.duplicated().sum()"
   ]
  },
  {
   "cell_type": "markdown",
   "metadata": {
    "cell_id": "71c011b372ea42729c87e3814457edd2",
    "deepnote_cell_type": "markdown",
    "id": "-tyTTS39J1SO"
   },
   "source": [
    "**Checking the types of data**"
   ]
  },
  {
   "cell_type": "code",
   "execution_count": 12,
   "metadata": {
    "cell_id": "c787a68c2408435ebe377098514d5651",
    "colab": {
     "base_uri": "https://localhost:8080/"
    },
    "deepnote_cell_type": "code",
    "execution_context_id": "f88d9dd5-f11a-4387-a743-90b1155ea7b3",
    "execution_millis": 1,
    "execution_start": 1743089360131,
    "id": "-Cj6plqPJlTs",
    "outputId": "0bb85fc6-dc60-443e-8407-a6b782b54fe7",
    "source_hash": "e2ac7c34"
   },
   "outputs": [
    {
     "name": "stdout",
     "output_type": "stream",
     "text": [
      "<class 'pandas.core.frame.DataFrame'>\n",
      "Index: 263 entries, 0 to 265\n",
      "Data columns (total 65 columns):\n",
      " #   Column        Non-Null Count  Dtype \n",
      "---  ------        --------------  ----- \n",
      " 0   Country Name  263 non-null    object\n",
      " 1   1960          263 non-null    object\n",
      " 2   1961          263 non-null    object\n",
      " 3   1962          263 non-null    object\n",
      " 4   1963          263 non-null    object\n",
      " 5   1964          263 non-null    object\n",
      " 6   1965          263 non-null    object\n",
      " 7   1966          263 non-null    object\n",
      " 8   1967          263 non-null    object\n",
      " 9   1968          263 non-null    object\n",
      " 10  1969          263 non-null    object\n",
      " 11  1970          263 non-null    object\n",
      " 12  1971          263 non-null    object\n",
      " 13  1972          263 non-null    object\n",
      " 14  1973          263 non-null    object\n",
      " 15  1974          263 non-null    object\n",
      " 16  1975          263 non-null    object\n",
      " 17  1976          263 non-null    object\n",
      " 18  1977          263 non-null    object\n",
      " 19  1978          263 non-null    object\n",
      " 20  1979          263 non-null    object\n",
      " 21  1980          263 non-null    object\n",
      " 22  1981          263 non-null    object\n",
      " 23  1982          263 non-null    object\n",
      " 24  1983          263 non-null    object\n",
      " 25  1984          263 non-null    object\n",
      " 26  1985          263 non-null    object\n",
      " 27  1986          263 non-null    object\n",
      " 28  1987          263 non-null    object\n",
      " 29  1988          263 non-null    object\n",
      " 30  1989          263 non-null    object\n",
      " 31  1990          263 non-null    object\n",
      " 32  1991          263 non-null    object\n",
      " 33  1992          263 non-null    object\n",
      " 34  1993          263 non-null    object\n",
      " 35  1994          263 non-null    object\n",
      " 36  1995          263 non-null    object\n",
      " 37  1996          263 non-null    object\n",
      " 38  1997          263 non-null    object\n",
      " 39  1998          263 non-null    object\n",
      " 40  1999          263 non-null    object\n",
      " 41  2000          263 non-null    object\n",
      " 42  2001          263 non-null    object\n",
      " 43  2002          263 non-null    object\n",
      " 44  2003          263 non-null    object\n",
      " 45  2004          263 non-null    object\n",
      " 46  2005          263 non-null    object\n",
      " 47  2006          263 non-null    object\n",
      " 48  2007          263 non-null    object\n",
      " 49  2008          263 non-null    object\n",
      " 50  2009          263 non-null    object\n",
      " 51  2010          263 non-null    object\n",
      " 52  2011          263 non-null    object\n",
      " 53  2012          263 non-null    object\n",
      " 54  2013          263 non-null    object\n",
      " 55  2014          263 non-null    object\n",
      " 56  2015          263 non-null    object\n",
      " 57  2016          263 non-null    object\n",
      " 58  2017          263 non-null    object\n",
      " 59  2018          263 non-null    object\n",
      " 60  2019          263 non-null    object\n",
      " 61  2020          263 non-null    object\n",
      " 62  2021          263 non-null    object\n",
      " 63  2022          263 non-null    object\n",
      " 64  2023          263 non-null    object\n",
      "dtypes: object(65)\n",
      "memory usage: 135.6+ KB\n"
     ]
    }
   ],
   "source": [
    "# View a summary of the merged dataframe\n",
    "urban_df.info()"
   ]
  },
  {
   "cell_type": "markdown",
   "metadata": {
    "cell_id": "d5bd618d75cd4af3b9ef23cac3e78464",
    "deepnote_cell_type": "markdown",
    "id": "79rGFxpaAGFj"
   },
   "source": [
    "The info() method shows the number of non-null values in each column, along with their respective data types. The object datatypes will need to be changed."
   ]
  },
  {
   "cell_type": "markdown",
   "metadata": {
    "cell_id": "cc3752971b254d019e963412180dfc92",
    "deepnote_cell_type": "markdown",
    "id": "6JUToZ1NLZOy"
   },
   "source": [
    "**Converting the columns**"
   ]
  },
  {
   "cell_type": "code",
   "execution_count": 13,
   "metadata": {
    "cell_id": "6a047b084ac34db2ae96c1b0910ca2bd",
    "deepnote_cell_type": "code",
    "execution_context_id": "f88d9dd5-f11a-4387-a743-90b1155ea7b3",
    "execution_millis": 0,
    "execution_start": 1743089360191,
    "id": "ITfKp7xBKzVr",
    "source_hash": "b76bfb15"
   },
   "outputs": [],
   "source": [
    "# Select numerical columns to convert\n",
    "cols_to_convert = urban_df.columns[urban_df.columns.str.match(r'^\\d{4}$')]\n",
    "\n",
    "# Convert selected columns to float\n",
    "urban_df[cols_to_convert] = urban_df[cols_to_convert].astype(float)"
   ]
  },
  {
   "cell_type": "markdown",
   "metadata": {
    "cell_id": "f149acfe56e54fbab1ea1bf5c58f56b9",
    "deepnote_cell_type": "markdown",
    "id": "zsdBHmIZEvHd"
   },
   "source": [
    "The values in the years columns are converted to the float datatype for efficiency & memory purposes."
   ]
  },
  {
   "cell_type": "markdown",
   "metadata": {
    "cell_id": "82223680668d4fe6ae51f6d8e87ab995",
    "deepnote_cell_type": "markdown",
    "id": "QKGlAgi39ZIw"
   },
   "source": [
    "**Subsetting the countries**"
   ]
  },
  {
   "cell_type": "code",
   "execution_count": 14,
   "metadata": {
    "cell_id": "f501beee6d4449fda889cc4c10f28375",
    "deepnote_cell_type": "code",
    "execution_context_id": "f88d9dd5-f11a-4387-a743-90b1155ea7b3",
    "execution_millis": 0,
    "execution_start": 1743089360251,
    "id": "EJqrARFg9eCt",
    "source_hash": "79494fea"
   },
   "outputs": [],
   "source": [
    "# Select countries to keep\n",
    "countries_to_keep = ['Australia', 'Austria', 'Belgium', 'Canada', 'Chile', 'Colombia', 'Costa Rica', 'Czechia', 'Denmark', 'Estonia', 'Finland', 'France', 'Germany', 'Greece', 'Hungary', 'Ireland', 'Iceland', 'Israel', 'Italy', 'Korea, Rep.', 'Japan', 'Latvia', 'Lithuania', 'Luxembourg', 'Mexico', 'Netherlands', 'New Zealand', 'Norway', 'Poland', 'Portugal', 'Slovak Republic', 'Slovenia', 'Spain', 'Sweden', 'Switzerland', 'Turkiye', 'United Kingdom', 'United States']"
   ]
  },
  {
   "cell_type": "code",
   "execution_count": 15,
   "metadata": {
    "cell_id": "2920f0ce7c5e461aba90891837fbaa65",
    "deepnote_cell_type": "code",
    "execution_context_id": "f88d9dd5-f11a-4387-a743-90b1155ea7b3",
    "execution_millis": 0,
    "execution_start": 1743089360311,
    "id": "x55xYU1zGab2",
    "source_hash": "6300521d"
   },
   "outputs": [],
   "source": [
    "# Subset the dataframe\n",
    "urban_df = urban_df[urban_df['Country Name'].isin(countries_to_keep)]"
   ]
  },
  {
   "cell_type": "markdown",
   "metadata": {
    "cell_id": "476951121cfd4074ac45de7435398f55",
    "deepnote_cell_type": "markdown",
    "id": "Nlxvfw-KKQsT"
   },
   "source": [
    "**Subsetting the years**"
   ]
  },
  {
   "cell_type": "code",
   "execution_count": 16,
   "metadata": {
    "cell_id": "36088d77ae4742dd8ff7bc6583de311a",
    "deepnote_cell_type": "code",
    "execution_context_id": "f88d9dd5-f11a-4387-a743-90b1155ea7b3",
    "execution_millis": 0,
    "execution_start": 1743089360361,
    "id": "QbZqiJCIK4vT",
    "source_hash": "b81abc5d"
   },
   "outputs": [],
   "source": [
    "# Drop columns by name\n",
    "urban_df = urban_df.drop(columns=['1960', '1961', '1962', '1963', '1964', '1965', '1966', '1967', '1968', '1969', '1970', '1971', '1972', '1973', '1974', '1975', '1976', '1977', '1978', '1979', '1980', '1981', '1982', '1983', '1984', '1985', '1986', '1987', '1988', '1989'])"
   ]
  },
  {
   "cell_type": "code",
   "execution_count": 17,
   "metadata": {
    "cell_id": "d215e270f80140ddb97f52360afd42c7",
    "deepnote_cell_type": "code",
    "execution_context_id": "f88d9dd5-f11a-4387-a743-90b1155ea7b3",
    "execution_millis": 0,
    "execution_start": 1743089360411,
    "id": "1lbQLJCAjdje",
    "source_hash": "2256d1ea"
   },
   "outputs": [],
   "source": [
    "# Rename Korea, Rep. to Korea\n",
    "urban_df['Country Name'] = urban_df['Country Name'].replace('Korea, Rep.', 'Korea')"
   ]
  },
  {
   "cell_type": "code",
   "execution_count": 18,
   "metadata": {
    "cell_id": "f00f73d4e54749a89f32a92d3f8a9a69",
    "colab": {
     "base_uri": "https://localhost:8080/"
    },
    "deepnote_cell_type": "code",
    "execution_context_id": "f88d9dd5-f11a-4387-a743-90b1155ea7b3",
    "execution_millis": 0,
    "execution_start": 1743089360461,
    "id": "gQ_8bqq-K6qr",
    "outputId": "04dbed7a-6897-4376-bbce-add759064cd7",
    "source_hash": "e266ee52"
   },
   "outputs": [
    {
     "data": {
      "text/plain": [
       "(38, 35)"
      ]
     },
     "execution_count": 18,
     "metadata": {},
     "output_type": "execute_result"
    }
   ],
   "source": [
    "# View the dimensions of the merged dataset\n",
    "urban_df.shape"
   ]
  },
  {
   "cell_type": "markdown",
   "metadata": {
    "cell_id": "488ac0a67bb045618f6bac5d298fb4b2",
    "deepnote_cell_type": "markdown",
    "id": "TfHSPx2LWPnW"
   },
   "source": [
    "There are 210 observations (countries) and 66 variables in the merged dataframe."
   ]
  },
  {
   "cell_type": "code",
   "execution_count": 19,
   "metadata": {
    "cell_id": "4c26c7a1d5ea45e0a229cd59475261ac",
    "deepnote_cell_type": "code",
    "execution_context_id": "f88d9dd5-f11a-4387-a743-90b1155ea7b3",
    "execution_millis": 0,
    "execution_start": 1743089360511,
    "id": "KtwJYqbepVc8",
    "source_hash": "132c3609"
   },
   "outputs": [],
   "source": [
    "# Melt the df to reformat it\n",
    "urban_df_melted = pd.melt(urban_df, id_vars=['Country Name'], value_vars=urban_df.columns[1:], var_name='Year', value_name='Urban population (% of total population)')\n",
    "urban_df_melted = urban_df_melted.rename(columns={'Country Name': 'Country'})\n",
    "urban_df_melted = urban_df_melted.sort_values(by=['Country', 'Year']).reset_index(drop=True)"
   ]
  },
  {
   "cell_type": "markdown",
   "metadata": {
    "cell_id": "c9361e3ebb6f4accad762cb60aad157f",
    "deepnote_cell_type": "text-cell-h2",
    "formattedRanges": []
   },
   "source": [
    "## Export the Urban Population Dataset"
   ]
  },
  {
   "cell_type": "code",
   "execution_count": 21,
   "metadata": {
    "cell_id": "023b9033eae14aedaa1e96038f6d05d4",
    "deepnote_cell_type": "code",
    "execution_context_id": "f88d9dd5-f11a-4387-a743-90b1155ea7b3",
    "execution_millis": 0,
    "execution_start": 1743089360611,
    "id": "LRqep4adLdFX",
    "source_hash": "1104404a"
   },
   "outputs": [],
   "source": [
    "# Convert to csv file\n",
    "urban_df_melted.to_csv('cleaned_urban_population_data2.csv', index=False)"
   ]
  }
 ],
 "metadata": {
  "deepnote_notebook_id": "d9129e9167f741779a35be15f1046db8",
  "deepnote_persisted_session": {
   "createdAt": "2025-03-27T15:35:25.453Z"
  },
  "kernelspec": {
   "display_name": "Python 3 (ipykernel)",
   "language": "python",
   "name": "python3"
  },
  "language_info": {
   "codemirror_mode": {
    "name": "ipython",
    "version": 3
   },
   "file_extension": ".py",
   "mimetype": "text/x-python",
   "name": "python",
   "nbconvert_exporter": "python",
   "pygments_lexer": "ipython3",
   "version": "3.12.4"
  }
 },
 "nbformat": 4,
 "nbformat_minor": 4
}
