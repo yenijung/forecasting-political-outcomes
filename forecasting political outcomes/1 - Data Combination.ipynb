{
 "cells": [
  {
   "cell_type": "markdown",
   "metadata": {
    "cell_id": "5f8cd112d9384154b41434f545536f42",
    "deepnote_cell_type": "markdown",
    "id": "350084ab"
   },
   "source": [
    "# Dataset Combination Notebook\n",
    "\n",
    "This notebook combines multiple datasets, ensuring proper preprocessing, cleaning, and merging. The final output is a single combined dataset."
   ]
  },
  {
   "cell_type": "markdown",
   "metadata": {
    "cell_id": "7d683a124b01476a8582bc2884770bd1",
    "deepnote_cell_type": "markdown",
    "id": "0a4a3969"
   },
   "source": [
    "## 1. Importing Libraries\n",
    "\n",
    "First, we import the necessary Python libraries for data manipulation and analysis."
   ]
  },
  {
   "cell_type": "code",
   "execution_count": null,
   "metadata": {
    "cell_id": "5f46aefb3eb6417789c016daedbc7278",
    "deepnote_cell_type": "code",
    "execution_context_id": "69995baa-2f72-4ad6-a6e3-c8e557c14158",
    "execution_millis": 1,
    "execution_start": 1742317461218,
    "id": "dc00104f",
    "source_hash": "e060e85a"
   },
   "outputs": [],
   "source": [
    "# Import the required libraries\n",
    "import pandas as pd\n",
    "import numpy as np"
   ]
  },
  {
   "cell_type": "code",
   "execution_count": null,
   "metadata": {
    "cell_id": "6a70bfa30d794487a456d800d6cb9112",
    "deepnote_cell_type": "code",
    "execution_context_id": "69995baa-2f72-4ad6-a6e3-c8e557c14158",
    "execution_millis": 986,
    "execution_start": 1742317461268,
    "id": "7524cac7",
    "source_hash": "eeb2478"
   },
   "outputs": [],
   "source": [
    "# Read the datasets\n",
    "Political_Factors = pd.read_csv('/dataset/political/political_combined.csv')\n",
    "Economic_Factors = pd.read_csv('/dataset/economic/econ_merged_final.csv')\n",
    "Ethnic_Power_Relations = pd.read_csv('/dataset/ethnicity/cleaned_er.csv')\n",
    "Ethnicity_Refugees = pd.read_csv('/dataset/ethnicity/cleaned_epr.csv')\n",
    "Urbanisation = pd.read_csv('/dataset/social/cleaned_urban_population_data2.csv')\n",
    "Democratic_Factors = pd.read_csv('/dataset/economic/econ_merged_data.csv')"
   ]
  },
  {
   "cell_type": "code",
   "execution_count": null,
   "metadata": {
    "cell_id": "cc254e2ba843410682af70a6a0421ab2",
    "deepnote_cell_type": "code",
    "execution_context_id": "69995baa-2f72-4ad6-a6e3-c8e557c14158",
    "execution_millis": 1,
    "execution_start": 1742317462308,
    "id": "41ede427",
    "source_hash": "59d3e0f"
   },
   "outputs": [],
   "source": [
    "# Store DataFrames in a list\n",
    "dataframes = [Political_Factors, Economic_Factors, Ethnic_Power_Relations, Ethnicity_Refugees, Urbanisation, Democratic_Factors]"
   ]
  },
  {
   "cell_type": "code",
   "execution_count": null,
   "metadata": {
    "cell_id": "76506733e91a4e76a5736d54dccc36b3",
    "deepnote_cell_type": "code",
    "execution_context_id": "69995baa-2f72-4ad6-a6e3-c8e557c14158",
    "execution_millis": 49,
    "execution_start": 1742317462383,
    "id": "7208d68b",
    "outputId": "5fc18fa1-f044-48e9-bd5a-45eddec5b4a0",
    "source_hash": "b86b290c"
   },
   "outputs": [
    {
     "name": "stdout",
     "output_type": "stream",
     "text": [
      "First 5 rows for Political_Factors:\n"
     ]
    },
    {
     "data": {
      "text/html": [
       "<div>\n",
       "<style scoped>\n",
       "    .dataframe tbody tr th:only-of-type {\n",
       "        vertical-align: middle;\n",
       "    }\n",
       "\n",
       "    .dataframe tbody tr th {\n",
       "        vertical-align: top;\n",
       "    }\n",
       "\n",
       "    .dataframe thead th {\n",
       "        text-align: right;\n",
       "    }\n",
       "</style>\n",
       "<table border=\"1\" class=\"dataframe\">\n",
       "  <thead>\n",
       "    <tr style=\"text-align: right;\">\n",
       "      <th></th>\n",
       "      <th>Unnamed: 0</th>\n",
       "      <th>country</th>\n",
       "      <th>year</th>\n",
       "      <th>Effective Parliament (highest score=1)</th>\n",
       "      <th>Election free and fair (highest score=1)</th>\n",
       "      <th>Election government intimidation (highest score=1)</th>\n",
       "      <th>Voter turnout (highest score=1)</th>\n",
       "      <th>Fair trial (highest score=1)</th>\n",
       "      <th>Judicial Independence (highest score=1)</th>\n",
       "      <th>Predictable Enforcement (highest score=1)</th>\n",
       "      <th>...</th>\n",
       "      <th>Media bias (highest score=1)</th>\n",
       "      <th>Media freedom (highest score=1)</th>\n",
       "      <th>Freedom of the Press (highest score=1)</th>\n",
       "      <th>Gender Equality (highest score=1)</th>\n",
       "      <th>Educational equality (highest score=1)</th>\n",
       "      <th>Health equality (highest score=1)</th>\n",
       "      <th>Infant mortality rate (highest score=1)</th>\n",
       "      <th>Life expectancy (highest score=1)</th>\n",
       "      <th>Mean years of schooling (highest score=1)</th>\n",
       "      <th>Human Development Index</th>\n",
       "    </tr>\n",
       "  </thead>\n",
       "  <tbody>\n",
       "    <tr>\n",
       "      <th>0</th>\n",
       "      <td>0</td>\n",
       "      <td>Australia</td>\n",
       "      <td>1990</td>\n",
       "      <td>0.85</td>\n",
       "      <td>0.82</td>\n",
       "      <td>0.85</td>\n",
       "      <td>0.82</td>\n",
       "      <td>1.0</td>\n",
       "      <td>1.0</td>\n",
       "      <td>0.9</td>\n",
       "      <td>...</td>\n",
       "      <td>0.96</td>\n",
       "      <td>1.0</td>\n",
       "      <td>0.84</td>\n",
       "      <td>0.78</td>\n",
       "      <td>0.8</td>\n",
       "      <td>0.88</td>\n",
       "      <td>0.97</td>\n",
       "      <td>0.90</td>\n",
       "      <td>0.39</td>\n",
       "      <td>0.864</td>\n",
       "    </tr>\n",
       "    <tr>\n",
       "      <th>1</th>\n",
       "      <td>1</td>\n",
       "      <td>Australia</td>\n",
       "      <td>1991</td>\n",
       "      <td>0.85</td>\n",
       "      <td>0.82</td>\n",
       "      <td>0.85</td>\n",
       "      <td>0.82</td>\n",
       "      <td>1.0</td>\n",
       "      <td>1.0</td>\n",
       "      <td>0.9</td>\n",
       "      <td>...</td>\n",
       "      <td>0.96</td>\n",
       "      <td>1.0</td>\n",
       "      <td>0.84</td>\n",
       "      <td>0.78</td>\n",
       "      <td>0.8</td>\n",
       "      <td>0.88</td>\n",
       "      <td>0.97</td>\n",
       "      <td>0.90</td>\n",
       "      <td>0.39</td>\n",
       "      <td>0.866</td>\n",
       "    </tr>\n",
       "    <tr>\n",
       "      <th>2</th>\n",
       "      <td>2</td>\n",
       "      <td>Australia</td>\n",
       "      <td>1992</td>\n",
       "      <td>0.85</td>\n",
       "      <td>0.82</td>\n",
       "      <td>0.85</td>\n",
       "      <td>0.82</td>\n",
       "      <td>1.0</td>\n",
       "      <td>1.0</td>\n",
       "      <td>0.9</td>\n",
       "      <td>...</td>\n",
       "      <td>0.96</td>\n",
       "      <td>1.0</td>\n",
       "      <td>0.84</td>\n",
       "      <td>0.78</td>\n",
       "      <td>0.8</td>\n",
       "      <td>0.88</td>\n",
       "      <td>0.97</td>\n",
       "      <td>0.90</td>\n",
       "      <td>0.39</td>\n",
       "      <td>0.868</td>\n",
       "    </tr>\n",
       "    <tr>\n",
       "      <th>3</th>\n",
       "      <td>3</td>\n",
       "      <td>Australia</td>\n",
       "      <td>1993</td>\n",
       "      <td>0.85</td>\n",
       "      <td>0.82</td>\n",
       "      <td>0.85</td>\n",
       "      <td>0.84</td>\n",
       "      <td>1.0</td>\n",
       "      <td>1.0</td>\n",
       "      <td>0.9</td>\n",
       "      <td>...</td>\n",
       "      <td>0.96</td>\n",
       "      <td>1.0</td>\n",
       "      <td>0.84</td>\n",
       "      <td>0.78</td>\n",
       "      <td>0.8</td>\n",
       "      <td>0.88</td>\n",
       "      <td>0.98</td>\n",
       "      <td>0.91</td>\n",
       "      <td>0.40</td>\n",
       "      <td>0.873</td>\n",
       "    </tr>\n",
       "    <tr>\n",
       "      <th>4</th>\n",
       "      <td>4</td>\n",
       "      <td>Australia</td>\n",
       "      <td>1994</td>\n",
       "      <td>0.85</td>\n",
       "      <td>0.82</td>\n",
       "      <td>0.85</td>\n",
       "      <td>0.84</td>\n",
       "      <td>1.0</td>\n",
       "      <td>1.0</td>\n",
       "      <td>0.9</td>\n",
       "      <td>...</td>\n",
       "      <td>0.96</td>\n",
       "      <td>1.0</td>\n",
       "      <td>0.84</td>\n",
       "      <td>0.78</td>\n",
       "      <td>0.8</td>\n",
       "      <td>0.88</td>\n",
       "      <td>0.98</td>\n",
       "      <td>0.91</td>\n",
       "      <td>0.40</td>\n",
       "      <td>0.873</td>\n",
       "    </tr>\n",
       "  </tbody>\n",
       "</table>\n",
       "<p>5 rows × 23 columns</p>\n",
       "</div>"
      ],
      "text/plain": [
       "   Unnamed: 0    country  year  Effective Parliament (highest score=1)  \\\n",
       "0           0  Australia  1990                                    0.85   \n",
       "1           1  Australia  1991                                    0.85   \n",
       "2           2  Australia  1992                                    0.85   \n",
       "3           3  Australia  1993                                    0.85   \n",
       "4           4  Australia  1994                                    0.85   \n",
       "\n",
       "   Election free and fair (highest score=1)  \\\n",
       "0                                      0.82   \n",
       "1                                      0.82   \n",
       "2                                      0.82   \n",
       "3                                      0.82   \n",
       "4                                      0.82   \n",
       "\n",
       "   Election government intimidation (highest score=1)  \\\n",
       "0                                               0.85    \n",
       "1                                               0.85    \n",
       "2                                               0.85    \n",
       "3                                               0.85    \n",
       "4                                               0.85    \n",
       "\n",
       "   Voter turnout (highest score=1)  Fair trial (highest score=1)  \\\n",
       "0                             0.82                           1.0   \n",
       "1                             0.82                           1.0   \n",
       "2                             0.82                           1.0   \n",
       "3                             0.84                           1.0   \n",
       "4                             0.84                           1.0   \n",
       "\n",
       "   Judicial Independence (highest score=1)  \\\n",
       "0                                      1.0   \n",
       "1                                      1.0   \n",
       "2                                      1.0   \n",
       "3                                      1.0   \n",
       "4                                      1.0   \n",
       "\n",
       "   Predictable Enforcement (highest score=1)  ...  \\\n",
       "0                                        0.9  ...   \n",
       "1                                        0.9  ...   \n",
       "2                                        0.9  ...   \n",
       "3                                        0.9  ...   \n",
       "4                                        0.9  ...   \n",
       "\n",
       "   Media bias (highest score=1)  Media freedom (highest score=1)  \\\n",
       "0                          0.96                              1.0   \n",
       "1                          0.96                              1.0   \n",
       "2                          0.96                              1.0   \n",
       "3                          0.96                              1.0   \n",
       "4                          0.96                              1.0   \n",
       "\n",
       "   Freedom of the Press (highest score=1)  Gender Equality (highest score=1)  \\\n",
       "0                                    0.84                               0.78   \n",
       "1                                    0.84                               0.78   \n",
       "2                                    0.84                               0.78   \n",
       "3                                    0.84                               0.78   \n",
       "4                                    0.84                               0.78   \n",
       "\n",
       "   Educational equality (highest score=1)  Health equality (highest score=1)  \\\n",
       "0                                     0.8                               0.88   \n",
       "1                                     0.8                               0.88   \n",
       "2                                     0.8                               0.88   \n",
       "3                                     0.8                               0.88   \n",
       "4                                     0.8                               0.88   \n",
       "\n",
       "   Infant mortality rate (highest score=1)  Life expectancy (highest score=1)  \\\n",
       "0                                     0.97                               0.90   \n",
       "1                                     0.97                               0.90   \n",
       "2                                     0.97                               0.90   \n",
       "3                                     0.98                               0.91   \n",
       "4                                     0.98                               0.91   \n",
       "\n",
       "   Mean years of schooling (highest score=1)  Human Development Index  \n",
       "0                                       0.39                    0.864  \n",
       "1                                       0.39                    0.866  \n",
       "2                                       0.39                    0.868  \n",
       "3                                       0.40                    0.873  \n",
       "4                                       0.40                    0.873  \n",
       "\n",
       "[5 rows x 23 columns]"
      ]
     },
     "metadata": {},
     "output_type": "display_data"
    },
    {
     "name": "stdout",
     "output_type": "stream",
     "text": [
      "--------------------\n",
      "First 5 rows for Economic_Factors:\n"
     ]
    },
    {
     "data": {
      "text/html": [
       "<div>\n",
       "<style scoped>\n",
       "    .dataframe tbody tr th:only-of-type {\n",
       "        vertical-align: middle;\n",
       "    }\n",
       "\n",
       "    .dataframe tbody tr th {\n",
       "        vertical-align: top;\n",
       "    }\n",
       "\n",
       "    .dataframe thead th {\n",
       "        text-align: right;\n",
       "    }\n",
       "</style>\n",
       "<table border=\"1\" class=\"dataframe\">\n",
       "  <thead>\n",
       "    <tr style=\"text-align: right;\">\n",
       "      <th></th>\n",
       "      <th>country</th>\n",
       "      <th>year</th>\n",
       "      <th>unemployment_percentage_change</th>\n",
       "      <th>inflation_percentage_change</th>\n",
       "    </tr>\n",
       "  </thead>\n",
       "  <tbody>\n",
       "    <tr>\n",
       "      <th>0</th>\n",
       "      <td>Australia</td>\n",
       "      <td>1990</td>\n",
       "      <td>0.000000</td>\n",
       "      <td>-2.666355</td>\n",
       "    </tr>\n",
       "    <tr>\n",
       "      <th>1</th>\n",
       "      <td>Australia</td>\n",
       "      <td>1991</td>\n",
       "      <td>0.000000</td>\n",
       "      <td>-56.679860</td>\n",
       "    </tr>\n",
       "    <tr>\n",
       "      <th>2</th>\n",
       "      <td>Australia</td>\n",
       "      <td>1992</td>\n",
       "      <td>11.965366</td>\n",
       "      <td>-68.135519</td>\n",
       "    </tr>\n",
       "    <tr>\n",
       "      <th>3</th>\n",
       "      <td>Australia</td>\n",
       "      <td>1993</td>\n",
       "      <td>1.360291</td>\n",
       "      <td>73.246347</td>\n",
       "    </tr>\n",
       "    <tr>\n",
       "      <th>4</th>\n",
       "      <td>Australia</td>\n",
       "      <td>1994</td>\n",
       "      <td>-10.616785</td>\n",
       "      <td>12.316079</td>\n",
       "    </tr>\n",
       "  </tbody>\n",
       "</table>\n",
       "</div>"
      ],
      "text/plain": [
       "     country  year  unemployment_percentage_change  \\\n",
       "0  Australia  1990                        0.000000   \n",
       "1  Australia  1991                        0.000000   \n",
       "2  Australia  1992                       11.965366   \n",
       "3  Australia  1993                        1.360291   \n",
       "4  Australia  1994                      -10.616785   \n",
       "\n",
       "   inflation_percentage_change  \n",
       "0                    -2.666355  \n",
       "1                   -56.679860  \n",
       "2                   -68.135519  \n",
       "3                    73.246347  \n",
       "4                    12.316079  "
      ]
     },
     "metadata": {},
     "output_type": "display_data"
    },
    {
     "name": "stdout",
     "output_type": "stream",
     "text": [
      "--------------------\n",
      "First 5 rows for Ethnic_Power_Relations:\n"
     ]
    },
    {
     "data": {
      "text/html": [
       "<div>\n",
       "<style scoped>\n",
       "    .dataframe tbody tr th:only-of-type {\n",
       "        vertical-align: middle;\n",
       "    }\n",
       "\n",
       "    .dataframe tbody tr th {\n",
       "        vertical-align: top;\n",
       "    }\n",
       "\n",
       "    .dataframe thead th {\n",
       "        text-align: right;\n",
       "    }\n",
       "</style>\n",
       "<table border=\"1\" class=\"dataframe\">\n",
       "  <thead>\n",
       "    <tr style=\"text-align: right;\">\n",
       "      <th></th>\n",
       "      <th>country</th>\n",
       "      <th>year</th>\n",
       "      <th>totalrefugees</th>\n",
       "    </tr>\n",
       "  </thead>\n",
       "  <tbody>\n",
       "    <tr>\n",
       "      <th>0</th>\n",
       "      <td>Netherlands</td>\n",
       "      <td>1990</td>\n",
       "      <td>0.0</td>\n",
       "    </tr>\n",
       "    <tr>\n",
       "      <th>1</th>\n",
       "      <td>Netherlands</td>\n",
       "      <td>1991</td>\n",
       "      <td>0.0</td>\n",
       "    </tr>\n",
       "    <tr>\n",
       "      <th>2</th>\n",
       "      <td>Netherlands</td>\n",
       "      <td>1992</td>\n",
       "      <td>0.0</td>\n",
       "    </tr>\n",
       "    <tr>\n",
       "      <th>3</th>\n",
       "      <td>Netherlands</td>\n",
       "      <td>1993</td>\n",
       "      <td>0.0</td>\n",
       "    </tr>\n",
       "    <tr>\n",
       "      <th>4</th>\n",
       "      <td>Netherlands</td>\n",
       "      <td>1994</td>\n",
       "      <td>0.0</td>\n",
       "    </tr>\n",
       "  </tbody>\n",
       "</table>\n",
       "</div>"
      ],
      "text/plain": [
       "       country  year  totalrefugees\n",
       "0  Netherlands  1990            0.0\n",
       "1  Netherlands  1991            0.0\n",
       "2  Netherlands  1992            0.0\n",
       "3  Netherlands  1993            0.0\n",
       "4  Netherlands  1994            0.0"
      ]
     },
     "metadata": {},
     "output_type": "display_data"
    },
    {
     "name": "stdout",
     "output_type": "stream",
     "text": [
      "--------------------\n",
      "First 5 rows for Ethnicity_Refugees:\n"
     ]
    },
    {
     "data": {
      "text/html": [
       "<div>\n",
       "<style scoped>\n",
       "    .dataframe tbody tr th:only-of-type {\n",
       "        vertical-align: middle;\n",
       "    }\n",
       "\n",
       "    .dataframe tbody tr th {\n",
       "        vertical-align: top;\n",
       "    }\n",
       "\n",
       "    .dataframe thead th {\n",
       "        text-align: right;\n",
       "    }\n",
       "</style>\n",
       "<table border=\"1\" class=\"dataframe\">\n",
       "  <thead>\n",
       "    <tr style=\"text-align: right;\">\n",
       "      <th></th>\n",
       "      <th>country</th>\n",
       "      <th>year</th>\n",
       "      <th>group</th>\n",
       "      <th>size</th>\n",
       "    </tr>\n",
       "  </thead>\n",
       "  <tbody>\n",
       "    <tr>\n",
       "      <th>0</th>\n",
       "      <td>Netherlands</td>\n",
       "      <td>1990</td>\n",
       "      <td>Dutch</td>\n",
       "      <td>0.95</td>\n",
       "    </tr>\n",
       "    <tr>\n",
       "      <th>1</th>\n",
       "      <td>Netherlands</td>\n",
       "      <td>1991</td>\n",
       "      <td>Dutch</td>\n",
       "      <td>0.95</td>\n",
       "    </tr>\n",
       "    <tr>\n",
       "      <th>2</th>\n",
       "      <td>Netherlands</td>\n",
       "      <td>1992</td>\n",
       "      <td>Dutch</td>\n",
       "      <td>0.95</td>\n",
       "    </tr>\n",
       "    <tr>\n",
       "      <th>3</th>\n",
       "      <td>Netherlands</td>\n",
       "      <td>1993</td>\n",
       "      <td>Dutch</td>\n",
       "      <td>0.95</td>\n",
       "    </tr>\n",
       "    <tr>\n",
       "      <th>4</th>\n",
       "      <td>Netherlands</td>\n",
       "      <td>1994</td>\n",
       "      <td>Dutch</td>\n",
       "      <td>0.95</td>\n",
       "    </tr>\n",
       "  </tbody>\n",
       "</table>\n",
       "</div>"
      ],
      "text/plain": [
       "       country  year  group  size\n",
       "0  Netherlands  1990  Dutch  0.95\n",
       "1  Netherlands  1991  Dutch  0.95\n",
       "2  Netherlands  1992  Dutch  0.95\n",
       "3  Netherlands  1993  Dutch  0.95\n",
       "4  Netherlands  1994  Dutch  0.95"
      ]
     },
     "metadata": {},
     "output_type": "display_data"
    },
    {
     "name": "stdout",
     "output_type": "stream",
     "text": [
      "--------------------\n",
      "First 5 rows for Urbanisation:\n"
     ]
    },
    {
     "data": {
      "text/html": [
       "<div>\n",
       "<style scoped>\n",
       "    .dataframe tbody tr th:only-of-type {\n",
       "        vertical-align: middle;\n",
       "    }\n",
       "\n",
       "    .dataframe tbody tr th {\n",
       "        vertical-align: top;\n",
       "    }\n",
       "\n",
       "    .dataframe thead th {\n",
       "        text-align: right;\n",
       "    }\n",
       "</style>\n",
       "<table border=\"1\" class=\"dataframe\">\n",
       "  <thead>\n",
       "    <tr style=\"text-align: right;\">\n",
       "      <th></th>\n",
       "      <th>Country</th>\n",
       "      <th>Year</th>\n",
       "      <th>Urban population (% of total population)</th>\n",
       "    </tr>\n",
       "  </thead>\n",
       "  <tbody>\n",
       "    <tr>\n",
       "      <th>0</th>\n",
       "      <td>Australia</td>\n",
       "      <td>1990</td>\n",
       "      <td>85.433</td>\n",
       "    </tr>\n",
       "    <tr>\n",
       "      <th>1</th>\n",
       "      <td>Australia</td>\n",
       "      <td>1991</td>\n",
       "      <td>85.403</td>\n",
       "    </tr>\n",
       "    <tr>\n",
       "      <th>2</th>\n",
       "      <td>Australia</td>\n",
       "      <td>1992</td>\n",
       "      <td>85.285</td>\n",
       "    </tr>\n",
       "    <tr>\n",
       "      <th>3</th>\n",
       "      <td>Australia</td>\n",
       "      <td>1993</td>\n",
       "      <td>85.157</td>\n",
       "    </tr>\n",
       "    <tr>\n",
       "      <th>4</th>\n",
       "      <td>Australia</td>\n",
       "      <td>1994</td>\n",
       "      <td>85.028</td>\n",
       "    </tr>\n",
       "  </tbody>\n",
       "</table>\n",
       "</div>"
      ],
      "text/plain": [
       "     Country  Year  Urban population (% of total population)\n",
       "0  Australia  1990                                    85.433\n",
       "1  Australia  1991                                    85.403\n",
       "2  Australia  1992                                    85.285\n",
       "3  Australia  1993                                    85.157\n",
       "4  Australia  1994                                    85.028"
      ]
     },
     "metadata": {},
     "output_type": "display_data"
    },
    {
     "name": "stdout",
     "output_type": "stream",
     "text": [
      "--------------------\n",
      "First 5 rows for Democratic_Factors:\n"
     ]
    },
    {
     "data": {
      "text/html": [
       "<div>\n",
       "<style scoped>\n",
       "    .dataframe tbody tr th:only-of-type {\n",
       "        vertical-align: middle;\n",
       "    }\n",
       "\n",
       "    .dataframe tbody tr th {\n",
       "        vertical-align: top;\n",
       "    }\n",
       "\n",
       "    .dataframe thead th {\n",
       "        text-align: right;\n",
       "    }\n",
       "</style>\n",
       "<table border=\"1\" class=\"dataframe\">\n",
       "  <thead>\n",
       "    <tr style=\"text-align: right;\">\n",
       "      <th></th>\n",
       "      <th>Year</th>\n",
       "      <th>Country</th>\n",
       "      <th>Gini coefficient</th>\n",
       "      <th>GDP</th>\n",
       "      <th>Conflict</th>\n",
       "      <th>Deaths</th>\n",
       "      <th>Free and fair elections index</th>\n",
       "      <th>Liberal democracy index</th>\n",
       "    </tr>\n",
       "  </thead>\n",
       "  <tbody>\n",
       "    <tr>\n",
       "      <th>0</th>\n",
       "      <td>1990</td>\n",
       "      <td>Australia</td>\n",
       "      <td>0.437959</td>\n",
       "      <td>2.057392</td>\n",
       "      <td>0</td>\n",
       "      <td>0</td>\n",
       "      <td>0.956</td>\n",
       "      <td>0.852</td>\n",
       "    </tr>\n",
       "    <tr>\n",
       "      <th>1</th>\n",
       "      <td>1991</td>\n",
       "      <td>Australia</td>\n",
       "      <td>0.449667</td>\n",
       "      <td>-1.643571</td>\n",
       "      <td>0</td>\n",
       "      <td>0</td>\n",
       "      <td>0.956</td>\n",
       "      <td>0.852</td>\n",
       "    </tr>\n",
       "    <tr>\n",
       "      <th>2</th>\n",
       "      <td>1992</td>\n",
       "      <td>Australia</td>\n",
       "      <td>0.444478</td>\n",
       "      <td>-0.690437</td>\n",
       "      <td>0</td>\n",
       "      <td>0</td>\n",
       "      <td>0.956</td>\n",
       "      <td>0.852</td>\n",
       "    </tr>\n",
       "    <tr>\n",
       "      <th>3</th>\n",
       "      <td>1993</td>\n",
       "      <td>Australia</td>\n",
       "      <td>0.451112</td>\n",
       "      <td>3.123738</td>\n",
       "      <td>0</td>\n",
       "      <td>0</td>\n",
       "      <td>0.958</td>\n",
       "      <td>0.852</td>\n",
       "    </tr>\n",
       "    <tr>\n",
       "      <th>4</th>\n",
       "      <td>1994</td>\n",
       "      <td>Australia</td>\n",
       "      <td>0.455326</td>\n",
       "      <td>2.983092</td>\n",
       "      <td>0</td>\n",
       "      <td>0</td>\n",
       "      <td>0.958</td>\n",
       "      <td>0.852</td>\n",
       "    </tr>\n",
       "  </tbody>\n",
       "</table>\n",
       "</div>"
      ],
      "text/plain": [
       "   Year    Country  Gini coefficient       GDP  Conflict  Deaths  \\\n",
       "0  1990  Australia          0.437959  2.057392         0       0   \n",
       "1  1991  Australia          0.449667 -1.643571         0       0   \n",
       "2  1992  Australia          0.444478 -0.690437         0       0   \n",
       "3  1993  Australia          0.451112  3.123738         0       0   \n",
       "4  1994  Australia          0.455326  2.983092         0       0   \n",
       "\n",
       "   Free and fair elections index  Liberal democracy index  \n",
       "0                          0.956                    0.852  \n",
       "1                          0.956                    0.852  \n",
       "2                          0.956                    0.852  \n",
       "3                          0.958                    0.852  \n",
       "4                          0.958                    0.852  "
      ]
     },
     "metadata": {},
     "output_type": "display_data"
    },
    {
     "name": "stdout",
     "output_type": "stream",
     "text": [
      "--------------------\n"
     ]
    }
   ],
   "source": [
    "# View the first 5 rows for each DataFrame\n",
    "for df in dataframes:\n",
    "    df_name = [k for k, v in locals().items() if v is df][0] # get df name\n",
    "    print(f\"First 5 rows for {df_name}:\")\n",
    "    display(df.head())\n",
    "    print(\"-\" * 20)"
   ]
  },
  {
   "cell_type": "markdown",
   "metadata": {
    "cell_id": "9f88f82d7d264be5a601b283588c71a3",
    "deepnote_cell_type": "markdown",
    "id": "119ad077"
   },
   "source": [
    "## 2. Loading and Inspecting Datasets\n",
    "\n",
    "We load the datasets and perform an initial inspection to understand their structure."
   ]
  },
  {
   "cell_type": "code",
   "execution_count": null,
   "metadata": {
    "cell_id": "7d8c5fa148ec45c28f9be45cf2df2d48",
    "deepnote_cell_type": "code",
    "execution_context_id": "69995baa-2f72-4ad6-a6e3-c8e557c14158",
    "execution_millis": 1,
    "execution_start": 1742317462498,
    "id": "3978c42d",
    "source_hash": "620b4d96"
   },
   "outputs": [],
   "source": [
    "# Remove the 'Unnamed: 0' column\n",
    "Political_Factors.drop(columns=['Unnamed: 0'], inplace=True)"
   ]
  },
  {
   "cell_type": "code",
   "execution_count": null,
   "metadata": {
    "cell_id": "d7ce3083a78c466cbb518ea58625aadd",
    "deepnote_cell_type": "code",
    "execution_context_id": "69995baa-2f72-4ad6-a6e3-c8e557c14158",
    "execution_millis": 1,
    "execution_start": 1742317462548,
    "id": "ded2d14a",
    "source_hash": "634ea236"
   },
   "outputs": [],
   "source": [
    "# Select the required columns\n",
    "Ethnicity_Refugees = Ethnicity_Refugees[['country', 'year', 'size']]"
   ]
  },
  {
   "cell_type": "code",
   "execution_count": null,
   "metadata": {
    "cell_id": "7759de6e102d4690a0d41dd9a5db7204",
    "deepnote_cell_type": "code",
    "execution_context_id": "69995baa-2f72-4ad6-a6e3-c8e557c14158",
    "execution_millis": 1,
    "execution_start": 1742317462598,
    "id": "d42709dd",
    "outputId": "fcde060c-fa69-489e-f5a2-055bdd1a3cc2",
    "source_hash": "948ec4f8"
   },
   "outputs": [
    {
     "name": "stderr",
     "output_type": "stream",
     "text": [
      "/tmp/ipykernel_203/41472856.py:8: SettingWithCopyWarning: \n",
      "A value is trying to be set on a copy of a slice from a DataFrame\n",
      "\n",
      "See the caveats in the documentation: https://pandas.pydata.org/pandas-docs/stable/user_guide/indexing.html#returning-a-view-versus-a-copy\n",
      "  Ethnicity_Refugees.rename(columns={'size':'ethnicity_ratio'}, inplace=True)\n"
     ]
    }
   ],
   "source": [
    "# Standardise column names\n",
    "Urbanisation.rename(columns={'Country':'country'}, inplace=True)\n",
    "Urbanisation.rename(columns={'Year':'year'}, inplace=True)\n",
    "\n",
    "Democratic_Factors.rename(columns={'Country':'country'}, inplace=True)\n",
    "Democratic_Factors.rename(columns={'Year':'year'}, inplace=True)\n",
    "\n",
    "Ethnicity_Refugees.rename(columns={'size':'ethnicity_ratio'}, inplace=True)"
   ]
  },
  {
   "cell_type": "code",
   "execution_count": null,
   "metadata": {
    "cell_id": "eb7c392f16f94ed98df327eaa2d66346",
    "deepnote_cell_type": "code",
    "execution_context_id": "69995baa-2f72-4ad6-a6e3-c8e557c14158",
    "execution_millis": 0,
    "execution_start": 1742317462649,
    "id": "6bae596c",
    "source_hash": "743248c9"
   },
   "outputs": [],
   "source": [
    "# Select the countries in the OECD\n",
    "selected_countries = [\n",
    "    'Australia', 'Austria', 'Belgium', 'Canada', 'Chile', 'Colombia', 'Costa Rica',\n",
    "    'Czechia', 'Denmark', 'Estonia', 'Finland', 'France', 'Germany', 'Greece',\n",
    "    'Hungary', 'Iceland', 'Ireland', 'Israel', 'Italy', 'Japan', 'South Korea', 'Latvia',\n",
    "    'Lithuania', 'Luxembourg', 'Mexico', 'Netherlands', 'New Zealand', 'Norway',\n",
    "    'Poland', 'Portugal', 'Spain', 'Sweden', 'Switzerland',\n",
    "    'Turkey', 'United Kingdom', 'United States']"
   ]
  },
  {
   "cell_type": "markdown",
   "metadata": {
    "cell_id": "1b2ddf21ee63463d8b5a75ff809bef66",
    "deepnote_cell_type": "markdown",
    "id": "6edcd114"
   },
   "source": [
    "## 3. Data Cleaning & Preprocessing\n",
    "\n",
    "Before merging, we ensure the datasets are clean, handle missing values, and standardise column names if necessary."
   ]
  },
  {
   "cell_type": "code",
   "execution_count": null,
   "metadata": {
    "cell_id": "e74a9c94bdc04ec1b97618d04224aa07",
    "deepnote_cell_type": "code",
    "execution_context_id": "69995baa-2f72-4ad6-a6e3-c8e557c14158",
    "execution_millis": 1,
    "execution_start": 1742317462698,
    "id": "e1fc9822",
    "outputId": "d3ef07ee-9a80-4ff5-e8f3-ba8ae2ec71e5",
    "source_hash": "fdd32a50"
   },
   "outputs": [
    {
     "name": "stdout",
     "output_type": "stream",
     "text": [
      "Countries in Political_Factors:\n",
      "['Australia' 'Austria' 'Belgium' 'Canada' 'Chile' 'Colombia' 'Costa Rica'\n",
      " 'Czechia' 'Denmark' 'Estonia' 'Finland' 'France' 'Germany' 'Greece'\n",
      " 'Hungary' 'Iceland' 'Ireland' 'Israel' 'Italy' 'Japan'\n",
      " 'Korea (Republic of)' 'Latvia' 'Lithuania' 'Luxembourg' 'Mexico'\n",
      " 'Netherlands' 'New Zealand' 'Norway' 'Poland' 'Portugal' 'Slovenia'\n",
      " 'Spain' 'Sweden' 'Switzerland' 'Turkey' 'United Kingdom' 'United States']\n",
      "--------------------\n",
      "Countries in Economic_Factors:\n",
      "['Australia' 'Austria' 'Belgium' 'Canada' 'Chile' 'Colombia' 'Costa Rica'\n",
      " 'Czechia' 'Denmark' 'Estonia' 'Finland' 'France' 'Germany' 'Greece'\n",
      " 'Hungary' 'Iceland' 'Ireland' 'Israel' 'Italy' 'Japan' 'Korea' 'Latvia'\n",
      " 'Lithuania' 'Luxembourg' 'Mexico' 'Netherlands' 'New Zealand' 'Norway'\n",
      " 'Poland' 'Portugal' 'Slovenia' 'Spain' 'Sweden' 'Switzerland' 'Turkey'\n",
      " 'United Kingdom' 'United States']\n",
      "--------------------\n",
      "Countries in Ethnic_Power_Relations:\n",
      "['Netherlands' 'United States' 'Estonia' 'France' 'Colombia'\n",
      " 'United Kingdom' 'Austria' 'Czechia' 'Chile' 'Mexico' 'Norway' 'Turkey'\n",
      " 'Denmark' 'Korea' 'Poland' 'Australia' 'Slovenia' 'New Zealand'\n",
      " 'Luxembourg' 'Israel' 'Japan' 'Portugal' 'Italy' 'Latvia' 'Costa Rica'\n",
      " 'Switzerland' 'Greece' 'Belgium' 'Sweden' 'Canada' 'Ireland' 'Hungary'\n",
      " 'Lithuania' 'Spain' 'Germany' 'Iceland' 'Finland']\n",
      "--------------------\n",
      "Countries in df:\n",
      "['Netherlands' 'United States' 'Estonia' 'France' 'Colombia'\n",
      " 'United Kingdom' 'Austria' 'Czechia' 'Chile' 'Mexico' 'Norway' 'Turkey'\n",
      " 'Denmark' 'Korea' 'Poland' 'Australia' 'Slovenia' 'New Zealand'\n",
      " 'Luxembourg' 'Israel' 'Japan' 'Portugal' 'Italy' 'Latvia' 'Costa Rica'\n",
      " 'Switzerland' 'Greece' 'Belgium' 'Sweden' 'Canada' 'Ireland' 'Hungary'\n",
      " 'Lithuania' 'Spain' 'Germany' 'Iceland' 'Finland']\n",
      "--------------------\n",
      "Countries in Urbanisation:\n",
      "['Australia' 'Austria' 'Belgium' 'Canada' 'Chile' 'Colombia' 'Costa Rica'\n",
      " 'Czechia' 'Denmark' 'Estonia' 'Finland' 'France' 'Germany' 'Greece'\n",
      " 'Hungary' 'Iceland' 'Ireland' 'Israel' 'Italy' 'Japan' 'Korea' 'Latvia'\n",
      " 'Lithuania' 'Luxembourg' 'Mexico' 'Netherlands' 'New Zealand' 'Norway'\n",
      " 'Poland' 'Portugal' 'Slovak Republic' 'Slovenia' 'Spain' 'Sweden'\n",
      " 'Switzerland' 'Turkiye' 'United Kingdom' 'United States']\n",
      "--------------------\n",
      "Countries in Democratic_Factors:\n",
      "['Australia' 'Austria' 'Belgium' 'Canada' 'Chile' 'Colombia' 'Costa Rica'\n",
      " 'Czechia' 'Denmark' 'Estonia' 'Finland' 'France' 'Germany' 'Greece'\n",
      " 'Hungary' 'Iceland' 'Ireland' 'Israel' 'Italy' 'Japan' 'Latvia'\n",
      " 'Lithuania' 'Luxembourg' 'Mexico' 'Netherlands' 'New Zealand' 'Norway'\n",
      " 'Poland' 'Portugal' 'Slovenia' 'South Korea' 'Spain' 'Sweden'\n",
      " 'Switzerland' 'Turkey' 'United Kingdom' 'United States']\n",
      "--------------------\n"
     ]
    }
   ],
   "source": [
    "# View the countries in each DataFrame\n",
    "for df in dataframes:\n",
    "    df_name = [k for k, v in locals().items() if v is df][0]\n",
    "    print(f\"Countries in {df_name}:\")\n",
    "    print(df['country'].unique())\n",
    "    print(\"-\" * 20)"
   ]
  },
  {
   "cell_type": "code",
   "execution_count": null,
   "metadata": {
    "cell_id": "afb45361e6934bd3ac32a68b5b8d1551",
    "deepnote_cell_type": "code",
    "execution_context_id": "69995baa-2f72-4ad6-a6e3-c8e557c14158",
    "execution_millis": 0,
    "execution_start": 1742317462748,
    "id": "9b2f3740",
    "source_hash": "7799f28c"
   },
   "outputs": [],
   "source": [
    "# Drop rows with the Slovak Republic\n",
    "Urbanisation = Urbanisation[Urbanisation['country'] != 'Slovak Republic']"
   ]
  },
  {
   "cell_type": "code",
   "execution_count": null,
   "metadata": {
    "cell_id": "08e1a41c506f433182bd905d1d92677a",
    "deepnote_cell_type": "code",
    "execution_context_id": "69995baa-2f72-4ad6-a6e3-c8e557c14158",
    "execution_millis": 1,
    "execution_start": 1742317462798,
    "id": "7ada2cc1",
    "source_hash": "e0fb2b38"
   },
   "outputs": [],
   "source": [
    "# Create a function to change the country names\n",
    "def change_country_name(df, old_name, new_name):\n",
    "    df.loc[df['country'] == old_name, 'country'] = new_name"
   ]
  },
  {
   "cell_type": "code",
   "execution_count": null,
   "metadata": {
    "cell_id": "895c651be87542cdbf629cc820090a04",
    "deepnote_cell_type": "code",
    "execution_context_id": "69995baa-2f72-4ad6-a6e3-c8e557c14158",
    "execution_millis": 0,
    "execution_start": 1742317462848,
    "id": "58332c71",
    "source_hash": "ff34bcdf"
   },
   "outputs": [],
   "source": [
    "# Change the country names in all DataFrames\n",
    "change_country_name(Ethnic_Power_Relations, 'Korea', 'South Korea')\n",
    "\n",
    "change_country_name(Ethnicity_Refugees, 'Korea', 'South Korea')\n",
    "\n",
    "change_country_name(Urbanisation, 'Korea', 'South Korea')\n",
    "change_country_name(Urbanisation, 'Turkiye', 'Turkey')\n",
    "\n",
    "change_country_name(Political_Factors, 'Korea (Republic of)', 'South Korea')\n",
    "\n",
    "change_country_name(Economic_Factors, 'Korea', 'South Korea')"
   ]
  },
  {
   "cell_type": "markdown",
   "metadata": {
    "cell_id": "b3a5495fa0014e5d931fdbe6944628e5",
    "deepnote_cell_type": "markdown",
    "id": "8e801536"
   },
   "source": [
    "## 4. Merging Datasets\n",
    "\n",
    "Once the datasets are clean, we merge them based on common keys, ensuring consistency."
   ]
  },
  {
   "cell_type": "code",
   "execution_count": null,
   "metadata": {
    "cell_id": "617cdaa6927e4c09846ac58390d4875b",
    "deepnote_cell_type": "code",
    "execution_context_id": "69995baa-2f72-4ad6-a6e3-c8e557c14158",
    "execution_millis": 6,
    "execution_start": 1742317462898,
    "id": "28388292",
    "outputId": "c874f7ad-4625-4028-82a2-88dec2d2b461",
    "source_hash": "76d03bea"
   },
   "outputs": [
    {
     "data": {
      "application/vnd.deepnote.dataframe.v3+json": {
       "column_count": 23,
       "columns": [
        {
         "dtype": "object",
         "name": "country",
         "stats": {
          "categories": [
           {
            "count": 5,
            "name": "Australia"
           }
          ],
          "nan_count": 0,
          "unique_count": 1
         }
        },
        {
         "dtype": "int64",
         "name": "year",
         "stats": {
          "histogram": [
           {
            "bin_end": 1990.4,
            "bin_start": 1990,
            "count": 1
           },
           {
            "bin_end": 1990.8,
            "bin_start": 1990.4,
            "count": 0
           },
           {
            "bin_end": 1991.2,
            "bin_start": 1990.8,
            "count": 1
           },
           {
            "bin_end": 1991.6,
            "bin_start": 1991.2,
            "count": 0
           },
           {
            "bin_end": 1992,
            "bin_start": 1991.6,
            "count": 0
           },
           {
            "bin_end": 1992.4,
            "bin_start": 1992,
            "count": 1
           },
           {
            "bin_end": 1992.8,
            "bin_start": 1992.4,
            "count": 0
           },
           {
            "bin_end": 1993.2,
            "bin_start": 1992.8,
            "count": 1
           },
           {
            "bin_end": 1993.6,
            "bin_start": 1993.2,
            "count": 0
           },
           {
            "bin_end": 1994,
            "bin_start": 1993.6,
            "count": 1
           }
          ],
          "max": "1994",
          "min": "1990",
          "nan_count": 0,
          "unique_count": 5
         }
        },
        {
         "dtype": "float64",
         "name": "Effective Parliament (highest score=1)",
         "stats": {
          "histogram": [
           {
            "bin_end": 0.44999999999999996,
            "bin_start": 0.35,
            "count": 0
           },
           {
            "bin_end": 0.55,
            "bin_start": 0.44999999999999996,
            "count": 0
           },
           {
            "bin_end": 0.65,
            "bin_start": 0.55,
            "count": 0
           },
           {
            "bin_end": 0.75,
            "bin_start": 0.65,
            "count": 0
           },
           {
            "bin_end": 0.85,
            "bin_start": 0.75,
            "count": 0
           },
           {
            "bin_end": 0.9500000000000001,
            "bin_start": 0.85,
            "count": 5
           },
           {
            "bin_end": 1.05,
            "bin_start": 0.9500000000000001,
            "count": 0
           },
           {
            "bin_end": 1.15,
            "bin_start": 1.05,
            "count": 0
           },
           {
            "bin_end": 1.25,
            "bin_start": 1.15,
            "count": 0
           },
           {
            "bin_end": 1.35,
            "bin_start": 1.25,
            "count": 0
           }
          ],
          "max": "0.85",
          "min": "0.85",
          "nan_count": 0,
          "unique_count": 1
         }
        },
        {
         "dtype": "float64",
         "name": "Election free and fair (highest score=1)",
         "stats": {
          "histogram": [
           {
            "bin_end": 0.41999999999999993,
            "bin_start": 0.31999999999999995,
            "count": 0
           },
           {
            "bin_end": 0.5199999999999999,
            "bin_start": 0.41999999999999993,
            "count": 0
           },
           {
            "bin_end": 0.6199999999999999,
            "bin_start": 0.5199999999999999,
            "count": 0
           },
           {
            "bin_end": 0.72,
            "bin_start": 0.6199999999999999,
            "count": 0
           },
           {
            "bin_end": 0.8199999999999998,
            "bin_start": 0.72,
            "count": 0
           },
           {
            "bin_end": 0.9199999999999999,
            "bin_start": 0.8199999999999998,
            "count": 5
           },
           {
            "bin_end": 1.02,
            "bin_start": 0.9199999999999999,
            "count": 0
           },
           {
            "bin_end": 1.1199999999999999,
            "bin_start": 1.02,
            "count": 0
           },
           {
            "bin_end": 1.2199999999999998,
            "bin_start": 1.1199999999999999,
            "count": 0
           },
           {
            "bin_end": 1.3199999999999998,
            "bin_start": 1.2199999999999998,
            "count": 0
           }
          ],
          "max": "0.82",
          "min": "0.82",
          "nan_count": 0,
          "unique_count": 1
         }
        },
        {
         "dtype": "float64",
         "name": "Election government intimidation (highest score=1)",
         "stats": {
          "histogram": [
           {
            "bin_end": 0.44999999999999996,
            "bin_start": 0.35,
            "count": 0
           },
           {
            "bin_end": 0.55,
            "bin_start": 0.44999999999999996,
            "count": 0
           },
           {
            "bin_end": 0.65,
            "bin_start": 0.55,
            "count": 0
           },
           {
            "bin_end": 0.75,
            "bin_start": 0.65,
            "count": 0
           },
           {
            "bin_end": 0.85,
            "bin_start": 0.75,
            "count": 0
           },
           {
            "bin_end": 0.9500000000000001,
            "bin_start": 0.85,
            "count": 5
           },
           {
            "bin_end": 1.05,
            "bin_start": 0.9500000000000001,
            "count": 0
           },
           {
            "bin_end": 1.15,
            "bin_start": 1.05,
            "count": 0
           },
           {
            "bin_end": 1.25,
            "bin_start": 1.15,
            "count": 0
           },
           {
            "bin_end": 1.35,
            "bin_start": 1.25,
            "count": 0
           }
          ],
          "max": "0.85",
          "min": "0.85",
          "nan_count": 0,
          "unique_count": 1
         }
        },
        {
         "dtype": "float64",
         "name": "Voter turnout (highest score=1)",
         "stats": {
          "histogram": [
           {
            "bin_end": 0.822,
            "bin_start": 0.82,
            "count": 3
           },
           {
            "bin_end": 0.824,
            "bin_start": 0.822,
            "count": 0
           },
           {
            "bin_end": 0.826,
            "bin_start": 0.824,
            "count": 0
           },
           {
            "bin_end": 0.828,
            "bin_start": 0.826,
            "count": 0
           },
           {
            "bin_end": 0.83,
            "bin_start": 0.828,
            "count": 0
           },
           {
            "bin_end": 0.832,
            "bin_start": 0.83,
            "count": 0
           },
           {
            "bin_end": 0.834,
            "bin_start": 0.832,
            "count": 0
           },
           {
            "bin_end": 0.836,
            "bin_start": 0.834,
            "count": 0
           },
           {
            "bin_end": 0.838,
            "bin_start": 0.836,
            "count": 0
           },
           {
            "bin_end": 0.84,
            "bin_start": 0.838,
            "count": 2
           }
          ],
          "max": "0.84",
          "min": "0.82",
          "nan_count": 0,
          "unique_count": 2
         }
        },
        {
         "dtype": "float64",
         "name": "Fair trial (highest score=1)",
         "stats": {
          "histogram": [
           {
            "bin_end": 0.6,
            "bin_start": 0.5,
            "count": 0
           },
           {
            "bin_end": 0.7,
            "bin_start": 0.6,
            "count": 0
           },
           {
            "bin_end": 0.8,
            "bin_start": 0.7,
            "count": 0
           },
           {
            "bin_end": 0.9,
            "bin_start": 0.8,
            "count": 0
           },
           {
            "bin_end": 1,
            "bin_start": 0.9,
            "count": 0
           },
           {
            "bin_end": 1.1,
            "bin_start": 1,
            "count": 5
           },
           {
            "bin_end": 1.2000000000000002,
            "bin_start": 1.1,
            "count": 0
           },
           {
            "bin_end": 1.3,
            "bin_start": 1.2000000000000002,
            "count": 0
           },
           {
            "bin_end": 1.4,
            "bin_start": 1.3,
            "count": 0
           },
           {
            "bin_end": 1.5,
            "bin_start": 1.4,
            "count": 0
           }
          ],
          "max": "1.0",
          "min": "1.0",
          "nan_count": 0,
          "unique_count": 1
         }
        },
        {
         "dtype": "float64",
         "name": "Judicial Independence (highest score=1)",
         "stats": {
          "histogram": [
           {
            "bin_end": 0.6,
            "bin_start": 0.5,
            "count": 0
           },
           {
            "bin_end": 0.7,
            "bin_start": 0.6,
            "count": 0
           },
           {
            "bin_end": 0.8,
            "bin_start": 0.7,
            "count": 0
           },
           {
            "bin_end": 0.9,
            "bin_start": 0.8,
            "count": 0
           },
           {
            "bin_end": 1,
            "bin_start": 0.9,
            "count": 0
           },
           {
            "bin_end": 1.1,
            "bin_start": 1,
            "count": 5
           },
           {
            "bin_end": 1.2000000000000002,
            "bin_start": 1.1,
            "count": 0
           },
           {
            "bin_end": 1.3,
            "bin_start": 1.2000000000000002,
            "count": 0
           },
           {
            "bin_end": 1.4,
            "bin_start": 1.3,
            "count": 0
           },
           {
            "bin_end": 1.5,
            "bin_start": 1.4,
            "count": 0
           }
          ],
          "max": "1.0",
          "min": "1.0",
          "nan_count": 0,
          "unique_count": 1
         }
        },
        {
         "dtype": "float64",
         "name": "Predictable Enforcement (highest score=1)",
         "stats": {
          "histogram": [
           {
            "bin_end": 0.5,
            "bin_start": 0.4,
            "count": 0
           },
           {
            "bin_end": 0.6,
            "bin_start": 0.5,
            "count": 0
           },
           {
            "bin_end": 0.7,
            "bin_start": 0.6,
            "count": 0
           },
           {
            "bin_end": 0.8,
            "bin_start": 0.7,
            "count": 0
           },
           {
            "bin_end": 0.8999999999999999,
            "bin_start": 0.8,
            "count": 0
           },
           {
            "bin_end": 1,
            "bin_start": 0.8999999999999999,
            "count": 5
           },
           {
            "bin_end": 1.1,
            "bin_start": 1,
            "count": 0
           },
           {
            "bin_end": 1.2,
            "bin_start": 1.1,
            "count": 0
           },
           {
            "bin_end": 1.2999999999999998,
            "bin_start": 1.2,
            "count": 0
           },
           {
            "bin_end": 1.4,
            "bin_start": 1.2999999999999998,
            "count": 0
           }
          ],
          "max": "0.9",
          "min": "0.9",
          "nan_count": 0,
          "unique_count": 1
         }
        },
        {
         "dtype": "float64",
         "name": "Freedom of Religion (highest score=1)",
         "stats": {
          "histogram": [
           {
            "bin_end": 0.58,
            "bin_start": 0.48,
            "count": 0
           },
           {
            "bin_end": 0.6799999999999999,
            "bin_start": 0.58,
            "count": 0
           },
           {
            "bin_end": 0.78,
            "bin_start": 0.6799999999999999,
            "count": 0
           },
           {
            "bin_end": 0.88,
            "bin_start": 0.78,
            "count": 0
           },
           {
            "bin_end": 0.98,
            "bin_start": 0.88,
            "count": 0
           },
           {
            "bin_end": 1.08,
            "bin_start": 0.98,
            "count": 5
           },
           {
            "bin_end": 1.1800000000000002,
            "bin_start": 1.08,
            "count": 0
           },
           {
            "bin_end": 1.28,
            "bin_start": 1.1800000000000002,
            "count": 0
           },
           {
            "bin_end": 1.38,
            "bin_start": 1.28,
            "count": 0
           },
           {
            "bin_end": 1.48,
            "bin_start": 1.38,
            "count": 0
           }
          ],
          "max": "0.98",
          "min": "0.98",
          "nan_count": 0,
          "unique_count": 1
         }
        },
        {
         "dtype": "float64",
         "name": "Free Political Parties (highest score=1)",
         "stats": {
          "histogram": [
           {
            "bin_end": 0.33999999999999997,
            "bin_start": 0.24,
            "count": 0
           },
           {
            "bin_end": 0.44,
            "bin_start": 0.33999999999999997,
            "count": 0
           },
           {
            "bin_end": 0.54,
            "bin_start": 0.44,
            "count": 0
           },
           {
            "bin_end": 0.64,
            "bin_start": 0.54,
            "count": 0
           },
           {
            "bin_end": 0.74,
            "bin_start": 0.64,
            "count": 0
           },
           {
            "bin_end": 0.8400000000000001,
            "bin_start": 0.74,
            "count": 5
           },
           {
            "bin_end": 0.9400000000000001,
            "bin_start": 0.8400000000000001,
            "count": 0
           },
           {
            "bin_end": 1.04,
            "bin_start": 0.9400000000000001,
            "count": 0
           },
           {
            "bin_end": 1.1400000000000001,
            "bin_start": 1.04,
            "count": 0
           },
           {
            "bin_end": 1.24,
            "bin_start": 1.1400000000000001,
            "count": 0
           }
          ],
          "max": "0.74",
          "min": "0.74",
          "nan_count": 0,
          "unique_count": 1
         }
        },
        {
         "dtype": "float64",
         "name": "Harassment of journalists (highest score=1)",
         "stats": {
          "histogram": [
           {
            "bin_end": 0.35,
            "bin_start": 0.25,
            "count": 0
           },
           {
            "bin_end": 0.45,
            "bin_start": 0.35,
            "count": 0
           },
           {
            "bin_end": 0.55,
            "bin_start": 0.45,
            "count": 0
           },
           {
            "bin_end": 0.65,
            "bin_start": 0.55,
            "count": 0
           },
           {
            "bin_end": 0.75,
            "bin_start": 0.65,
            "count": 0
           },
           {
            "bin_end": 0.8500000000000001,
            "bin_start": 0.75,
            "count": 5
           },
           {
            "bin_end": 0.9500000000000001,
            "bin_start": 0.8500000000000001,
            "count": 0
           },
           {
            "bin_end": 1.05,
            "bin_start": 0.9500000000000001,
            "count": 0
           },
           {
            "bin_end": 1.15,
            "bin_start": 1.05,
            "count": 0
           },
           {
            "bin_end": 1.25,
            "bin_start": 1.15,
            "count": 0
           }
          ],
          "max": "0.75",
          "min": "0.75",
          "nan_count": 0,
          "unique_count": 1
         }
        },
        {
         "dtype": "float64",
         "name": "Media bias (highest score=1)",
         "stats": {
          "histogram": [
           {
            "bin_end": 0.5599999999999999,
            "bin_start": 0.45999999999999996,
            "count": 0
           },
           {
            "bin_end": 0.6599999999999999,
            "bin_start": 0.5599999999999999,
            "count": 0
           },
           {
            "bin_end": 0.76,
            "bin_start": 0.6599999999999999,
            "count": 0
           },
           {
            "bin_end": 0.86,
            "bin_start": 0.76,
            "count": 0
           },
           {
            "bin_end": 0.96,
            "bin_start": 0.86,
            "count": 0
           },
           {
            "bin_end": 1.06,
            "bin_start": 0.96,
            "count": 5
           },
           {
            "bin_end": 1.1600000000000001,
            "bin_start": 1.06,
            "count": 0
           },
           {
            "bin_end": 1.26,
            "bin_start": 1.1600000000000001,
            "count": 0
           },
           {
            "bin_end": 1.3599999999999999,
            "bin_start": 1.26,
            "count": 0
           },
           {
            "bin_end": 1.46,
            "bin_start": 1.3599999999999999,
            "count": 0
           }
          ],
          "max": "0.96",
          "min": "0.96",
          "nan_count": 0,
          "unique_count": 1
         }
        },
        {
         "dtype": "float64",
         "name": "Media freedom (highest score=1)",
         "stats": {
          "histogram": [
           {
            "bin_end": 0.6,
            "bin_start": 0.5,
            "count": 0
           },
           {
            "bin_end": 0.7,
            "bin_start": 0.6,
            "count": 0
           },
           {
            "bin_end": 0.8,
            "bin_start": 0.7,
            "count": 0
           },
           {
            "bin_end": 0.9,
            "bin_start": 0.8,
            "count": 0
           },
           {
            "bin_end": 1,
            "bin_start": 0.9,
            "count": 0
           },
           {
            "bin_end": 1.1,
            "bin_start": 1,
            "count": 5
           },
           {
            "bin_end": 1.2000000000000002,
            "bin_start": 1.1,
            "count": 0
           },
           {
            "bin_end": 1.3,
            "bin_start": 1.2000000000000002,
            "count": 0
           },
           {
            "bin_end": 1.4,
            "bin_start": 1.3,
            "count": 0
           },
           {
            "bin_end": 1.5,
            "bin_start": 1.4,
            "count": 0
           }
          ],
          "max": "1.0",
          "min": "1.0",
          "nan_count": 0,
          "unique_count": 1
         }
        },
        {
         "dtype": "float64",
         "name": "Freedom of the Press (highest score=1)",
         "stats": {
          "histogram": [
           {
            "bin_end": 0.43999999999999995,
            "bin_start": 0.33999999999999997,
            "count": 0
           },
           {
            "bin_end": 0.5399999999999999,
            "bin_start": 0.43999999999999995,
            "count": 0
           },
           {
            "bin_end": 0.6399999999999999,
            "bin_start": 0.5399999999999999,
            "count": 0
           },
           {
            "bin_end": 0.74,
            "bin_start": 0.6399999999999999,
            "count": 0
           },
           {
            "bin_end": 0.8399999999999999,
            "bin_start": 0.74,
            "count": 0
           },
           {
            "bin_end": 0.94,
            "bin_start": 0.8399999999999999,
            "count": 5
           },
           {
            "bin_end": 1.04,
            "bin_start": 0.94,
            "count": 0
           },
           {
            "bin_end": 1.14,
            "bin_start": 1.04,
            "count": 0
           },
           {
            "bin_end": 1.2399999999999998,
            "bin_start": 1.14,
            "count": 0
           },
           {
            "bin_end": 1.3399999999999999,
            "bin_start": 1.2399999999999998,
            "count": 0
           }
          ],
          "max": "0.84",
          "min": "0.84",
          "nan_count": 0,
          "unique_count": 1
         }
        },
        {
         "dtype": "float64",
         "name": "Gender Equality (highest score=1)",
         "stats": {
          "histogram": [
           {
            "bin_end": 0.38,
            "bin_start": 0.28,
            "count": 0
           },
           {
            "bin_end": 0.48000000000000004,
            "bin_start": 0.38,
            "count": 0
           },
           {
            "bin_end": 0.5800000000000001,
            "bin_start": 0.48000000000000004,
            "count": 0
           },
           {
            "bin_end": 0.68,
            "bin_start": 0.5800000000000001,
            "count": 0
           },
           {
            "bin_end": 0.78,
            "bin_start": 0.68,
            "count": 0
           },
           {
            "bin_end": 0.8800000000000001,
            "bin_start": 0.78,
            "count": 5
           },
           {
            "bin_end": 0.9800000000000001,
            "bin_start": 0.8800000000000001,
            "count": 0
           },
           {
            "bin_end": 1.08,
            "bin_start": 0.9800000000000001,
            "count": 0
           },
           {
            "bin_end": 1.1800000000000002,
            "bin_start": 1.08,
            "count": 0
           },
           {
            "bin_end": 1.28,
            "bin_start": 1.1800000000000002,
            "count": 0
           }
          ],
          "max": "0.78",
          "min": "0.78",
          "nan_count": 0,
          "unique_count": 1
         }
        },
        {
         "dtype": "float64",
         "name": "Educational equality (highest score=1)",
         "stats": {
          "histogram": [
           {
            "bin_end": 0.4,
            "bin_start": 0.30000000000000004,
            "count": 0
           },
           {
            "bin_end": 0.5,
            "bin_start": 0.4,
            "count": 0
           },
           {
            "bin_end": 0.6000000000000001,
            "bin_start": 0.5,
            "count": 0
           },
           {
            "bin_end": 0.7000000000000001,
            "bin_start": 0.6000000000000001,
            "count": 0
           },
           {
            "bin_end": 0.8,
            "bin_start": 0.7000000000000001,
            "count": 0
           },
           {
            "bin_end": 0.9000000000000001,
            "bin_start": 0.8,
            "count": 5
           },
           {
            "bin_end": 1,
            "bin_start": 0.9000000000000001,
            "count": 0
           },
           {
            "bin_end": 1.1,
            "bin_start": 1,
            "count": 0
           },
           {
            "bin_end": 1.2000000000000002,
            "bin_start": 1.1,
            "count": 0
           },
           {
            "bin_end": 1.3,
            "bin_start": 1.2000000000000002,
            "count": 0
           }
          ],
          "max": "0.8",
          "min": "0.8",
          "nan_count": 0,
          "unique_count": 1
         }
        },
        {
         "dtype": "float64",
         "name": "Health equality (highest score=1)",
         "stats": {
          "histogram": [
           {
            "bin_end": 0.48,
            "bin_start": 0.38,
            "count": 0
           },
           {
            "bin_end": 0.58,
            "bin_start": 0.48,
            "count": 0
           },
           {
            "bin_end": 0.6799999999999999,
            "bin_start": 0.58,
            "count": 0
           },
           {
            "bin_end": 0.78,
            "bin_start": 0.6799999999999999,
            "count": 0
           },
           {
            "bin_end": 0.8799999999999999,
            "bin_start": 0.78,
            "count": 0
           },
           {
            "bin_end": 0.98,
            "bin_start": 0.8799999999999999,
            "count": 5
           },
           {
            "bin_end": 1.08,
            "bin_start": 0.98,
            "count": 0
           },
           {
            "bin_end": 1.18,
            "bin_start": 1.08,
            "count": 0
           },
           {
            "bin_end": 1.2799999999999998,
            "bin_start": 1.18,
            "count": 0
           },
           {
            "bin_end": 1.38,
            "bin_start": 1.2799999999999998,
            "count": 0
           }
          ],
          "max": "0.88",
          "min": "0.88",
          "nan_count": 0,
          "unique_count": 1
         }
        },
        {
         "dtype": "float64",
         "name": "Infant mortality rate (highest score=1)",
         "stats": {
          "histogram": [
           {
            "bin_end": 0.971,
            "bin_start": 0.97,
            "count": 3
           },
           {
            "bin_end": 0.972,
            "bin_start": 0.971,
            "count": 0
           },
           {
            "bin_end": 0.973,
            "bin_start": 0.972,
            "count": 0
           },
           {
            "bin_end": 0.974,
            "bin_start": 0.973,
            "count": 0
           },
           {
            "bin_end": 0.975,
            "bin_start": 0.974,
            "count": 0
           },
           {
            "bin_end": 0.976,
            "bin_start": 0.975,
            "count": 0
           },
           {
            "bin_end": 0.977,
            "bin_start": 0.976,
            "count": 0
           },
           {
            "bin_end": 0.978,
            "bin_start": 0.977,
            "count": 0
           },
           {
            "bin_end": 0.979,
            "bin_start": 0.978,
            "count": 0
           },
           {
            "bin_end": 0.98,
            "bin_start": 0.979,
            "count": 2
           }
          ],
          "max": "0.98",
          "min": "0.97",
          "nan_count": 0,
          "unique_count": 2
         }
        },
        {
         "dtype": "float64",
         "name": "Life expectancy (highest score=1)",
         "stats": {
          "histogram": [
           {
            "bin_end": 0.901,
            "bin_start": 0.9,
            "count": 3
           },
           {
            "bin_end": 0.902,
            "bin_start": 0.901,
            "count": 0
           },
           {
            "bin_end": 0.903,
            "bin_start": 0.902,
            "count": 0
           },
           {
            "bin_end": 0.904,
            "bin_start": 0.903,
            "count": 0
           },
           {
            "bin_end": 0.905,
            "bin_start": 0.904,
            "count": 0
           },
           {
            "bin_end": 0.906,
            "bin_start": 0.905,
            "count": 0
           },
           {
            "bin_end": 0.907,
            "bin_start": 0.906,
            "count": 0
           },
           {
            "bin_end": 0.908,
            "bin_start": 0.907,
            "count": 0
           },
           {
            "bin_end": 0.909,
            "bin_start": 0.908,
            "count": 0
           },
           {
            "bin_end": 0.91,
            "bin_start": 0.909,
            "count": 2
           }
          ],
          "max": "0.91",
          "min": "0.9",
          "nan_count": 0,
          "unique_count": 2
         }
        },
        {
         "dtype": "float64",
         "name": "Mean years of schooling (highest score=1)",
         "stats": {
          "histogram": [
           {
            "bin_end": 0.391,
            "bin_start": 0.39,
            "count": 3
           },
           {
            "bin_end": 0.392,
            "bin_start": 0.391,
            "count": 0
           },
           {
            "bin_end": 0.393,
            "bin_start": 0.392,
            "count": 0
           },
           {
            "bin_end": 0.394,
            "bin_start": 0.393,
            "count": 0
           },
           {
            "bin_end": 0.395,
            "bin_start": 0.394,
            "count": 0
           },
           {
            "bin_end": 0.396,
            "bin_start": 0.395,
            "count": 0
           },
           {
            "bin_end": 0.397,
            "bin_start": 0.396,
            "count": 0
           },
           {
            "bin_end": 0.398,
            "bin_start": 0.397,
            "count": 0
           },
           {
            "bin_end": 0.399,
            "bin_start": 0.398,
            "count": 0
           },
           {
            "bin_end": 0.4,
            "bin_start": 0.399,
            "count": 2
           }
          ],
          "max": "0.4",
          "min": "0.39",
          "nan_count": 0,
          "unique_count": 2
         }
        },
        {
         "dtype": "float64",
         "name": "Human Development Index",
         "stats": {
          "histogram": [
           {
            "bin_end": 0.8649,
            "bin_start": 0.864,
            "count": 1
           },
           {
            "bin_end": 0.8658,
            "bin_start": 0.8649,
            "count": 0
           },
           {
            "bin_end": 0.8667,
            "bin_start": 0.8658,
            "count": 1
           },
           {
            "bin_end": 0.8676,
            "bin_start": 0.8667,
            "count": 0
           },
           {
            "bin_end": 0.8685,
            "bin_start": 0.8676,
            "count": 1
           },
           {
            "bin_end": 0.8694,
            "bin_start": 0.8685,
            "count": 0
           },
           {
            "bin_end": 0.8703,
            "bin_start": 0.8694,
            "count": 0
           },
           {
            "bin_end": 0.8712,
            "bin_start": 0.8703,
            "count": 0
           },
           {
            "bin_end": 0.8721,
            "bin_start": 0.8712,
            "count": 0
           },
           {
            "bin_end": 0.873,
            "bin_start": 0.8721,
            "count": 2
           }
          ],
          "max": "0.873",
          "min": "0.864",
          "nan_count": 0,
          "unique_count": 4
         }
        },
        {
         "dtype": "float64",
         "name": "Urban population (% of total population)",
         "stats": {
          "histogram": [
           {
            "bin_end": 85.0685,
            "bin_start": 85.028,
            "count": 1
           },
           {
            "bin_end": 85.10900000000001,
            "bin_start": 85.0685,
            "count": 0
           },
           {
            "bin_end": 85.1495,
            "bin_start": 85.10900000000001,
            "count": 0
           },
           {
            "bin_end": 85.19000000000001,
            "bin_start": 85.1495,
            "count": 1
           },
           {
            "bin_end": 85.2305,
            "bin_start": 85.19000000000001,
            "count": 0
           },
           {
            "bin_end": 85.271,
            "bin_start": 85.2305,
            "count": 0
           },
           {
            "bin_end": 85.31150000000001,
            "bin_start": 85.271,
            "count": 1
           },
           {
            "bin_end": 85.352,
            "bin_start": 85.31150000000001,
            "count": 0
           },
           {
            "bin_end": 85.39250000000001,
            "bin_start": 85.352,
            "count": 0
           },
           {
            "bin_end": 85.433,
            "bin_start": 85.39250000000001,
            "count": 2
           }
          ],
          "max": "85.433",
          "min": "85.028",
          "nan_count": 0,
          "unique_count": 5
         }
        },
        {
         "dtype": "int64",
         "name": "_deepnote_index_column"
        }
       ],
       "row_count": 5,
       "rows": [
        {
         "Educational equality (highest score=1)": 0.8,
         "Effective Parliament (highest score=1)": 0.85,
         "Election free and fair (highest score=1)": 0.82,
         "Election government intimidation (highest score=1)": 0.85,
         "Fair trial (highest score=1)": 1,
         "Free Political Parties (highest score=1)": 0.74,
         "Freedom of Religion (highest score=1)": 0.98,
         "Freedom of the Press (highest score=1)": 0.84,
         "Gender Equality (highest score=1)": 0.78,
         "Harassment of journalists (highest score=1)": 0.75,
         "Health equality (highest score=1)": 0.88,
         "Human Development Index": 0.864,
         "Infant mortality rate (highest score=1)": 0.97,
         "Judicial Independence (highest score=1)": 1,
         "Life expectancy (highest score=1)": 0.9,
         "Mean years of schooling (highest score=1)": 0.39,
         "Media bias (highest score=1)": 0.96,
         "Media freedom (highest score=1)": 1,
         "Predictable Enforcement (highest score=1)": 0.9,
         "Urban population (% of total population)": 85.433,
         "Voter turnout (highest score=1)": 0.82,
         "_deepnote_index_column": 0,
         "country": "Australia",
         "year": 1990
        },
        {
         "Educational equality (highest score=1)": 0.8,
         "Effective Parliament (highest score=1)": 0.85,
         "Election free and fair (highest score=1)": 0.82,
         "Election government intimidation (highest score=1)": 0.85,
         "Fair trial (highest score=1)": 1,
         "Free Political Parties (highest score=1)": 0.74,
         "Freedom of Religion (highest score=1)": 0.98,
         "Freedom of the Press (highest score=1)": 0.84,
         "Gender Equality (highest score=1)": 0.78,
         "Harassment of journalists (highest score=1)": 0.75,
         "Health equality (highest score=1)": 0.88,
         "Human Development Index": 0.866,
         "Infant mortality rate (highest score=1)": 0.97,
         "Judicial Independence (highest score=1)": 1,
         "Life expectancy (highest score=1)": 0.9,
         "Mean years of schooling (highest score=1)": 0.39,
         "Media bias (highest score=1)": 0.96,
         "Media freedom (highest score=1)": 1,
         "Predictable Enforcement (highest score=1)": 0.9,
         "Urban population (% of total population)": 85.403,
         "Voter turnout (highest score=1)": 0.82,
         "_deepnote_index_column": 1,
         "country": "Australia",
         "year": 1991
        },
        {
         "Educational equality (highest score=1)": 0.8,
         "Effective Parliament (highest score=1)": 0.85,
         "Election free and fair (highest score=1)": 0.82,
         "Election government intimidation (highest score=1)": 0.85,
         "Fair trial (highest score=1)": 1,
         "Free Political Parties (highest score=1)": 0.74,
         "Freedom of Religion (highest score=1)": 0.98,
         "Freedom of the Press (highest score=1)": 0.84,
         "Gender Equality (highest score=1)": 0.78,
         "Harassment of journalists (highest score=1)": 0.75,
         "Health equality (highest score=1)": 0.88,
         "Human Development Index": 0.868,
         "Infant mortality rate (highest score=1)": 0.97,
         "Judicial Independence (highest score=1)": 1,
         "Life expectancy (highest score=1)": 0.9,
         "Mean years of schooling (highest score=1)": 0.39,
         "Media bias (highest score=1)": 0.96,
         "Media freedom (highest score=1)": 1,
         "Predictable Enforcement (highest score=1)": 0.9,
         "Urban population (% of total population)": 85.285,
         "Voter turnout (highest score=1)": 0.82,
         "_deepnote_index_column": 2,
         "country": "Australia",
         "year": 1992
        },
        {
         "Educational equality (highest score=1)": 0.8,
         "Effective Parliament (highest score=1)": 0.85,
         "Election free and fair (highest score=1)": 0.82,
         "Election government intimidation (highest score=1)": 0.85,
         "Fair trial (highest score=1)": 1,
         "Free Political Parties (highest score=1)": 0.74,
         "Freedom of Religion (highest score=1)": 0.98,
         "Freedom of the Press (highest score=1)": 0.84,
         "Gender Equality (highest score=1)": 0.78,
         "Harassment of journalists (highest score=1)": 0.75,
         "Health equality (highest score=1)": 0.88,
         "Human Development Index": 0.873,
         "Infant mortality rate (highest score=1)": 0.98,
         "Judicial Independence (highest score=1)": 1,
         "Life expectancy (highest score=1)": 0.91,
         "Mean years of schooling (highest score=1)": 0.4,
         "Media bias (highest score=1)": 0.96,
         "Media freedom (highest score=1)": 1,
         "Predictable Enforcement (highest score=1)": 0.9,
         "Urban population (% of total population)": 85.157,
         "Voter turnout (highest score=1)": 0.84,
         "_deepnote_index_column": 3,
         "country": "Australia",
         "year": 1993
        },
        {
         "Educational equality (highest score=1)": 0.8,
         "Effective Parliament (highest score=1)": 0.85,
         "Election free and fair (highest score=1)": 0.82,
         "Election government intimidation (highest score=1)": 0.85,
         "Fair trial (highest score=1)": 1,
         "Free Political Parties (highest score=1)": 0.74,
         "Freedom of Religion (highest score=1)": 0.98,
         "Freedom of the Press (highest score=1)": 0.84,
         "Gender Equality (highest score=1)": 0.78,
         "Harassment of journalists (highest score=1)": 0.75,
         "Health equality (highest score=1)": 0.88,
         "Human Development Index": 0.873,
         "Infant mortality rate (highest score=1)": 0.98,
         "Judicial Independence (highest score=1)": 1,
         "Life expectancy (highest score=1)": 0.91,
         "Mean years of schooling (highest score=1)": 0.4,
         "Media bias (highest score=1)": 0.96,
         "Media freedom (highest score=1)": 1,
         "Predictable Enforcement (highest score=1)": 0.9,
         "Urban population (% of total population)": 85.028,
         "Voter turnout (highest score=1)": 0.84,
         "_deepnote_index_column": 4,
         "country": "Australia",
         "year": 1994
        }
       ],
       "type": "dataframe"
      },
      "text/html": [
       "<div>\n",
       "<style scoped>\n",
       "    .dataframe tbody tr th:only-of-type {\n",
       "        vertical-align: middle;\n",
       "    }\n",
       "\n",
       "    .dataframe tbody tr th {\n",
       "        vertical-align: top;\n",
       "    }\n",
       "\n",
       "    .dataframe thead th {\n",
       "        text-align: right;\n",
       "    }\n",
       "</style>\n",
       "<table border=\"1\" class=\"dataframe\">\n",
       "  <thead>\n",
       "    <tr style=\"text-align: right;\">\n",
       "      <th></th>\n",
       "      <th>country</th>\n",
       "      <th>year</th>\n",
       "      <th>Effective Parliament (highest score=1)</th>\n",
       "      <th>Election free and fair (highest score=1)</th>\n",
       "      <th>Election government intimidation (highest score=1)</th>\n",
       "      <th>Voter turnout (highest score=1)</th>\n",
       "      <th>Fair trial (highest score=1)</th>\n",
       "      <th>Judicial Independence (highest score=1)</th>\n",
       "      <th>Predictable Enforcement (highest score=1)</th>\n",
       "      <th>Freedom of Religion (highest score=1)</th>\n",
       "      <th>...</th>\n",
       "      <th>Media freedom (highest score=1)</th>\n",
       "      <th>Freedom of the Press (highest score=1)</th>\n",
       "      <th>Gender Equality (highest score=1)</th>\n",
       "      <th>Educational equality (highest score=1)</th>\n",
       "      <th>Health equality (highest score=1)</th>\n",
       "      <th>Infant mortality rate (highest score=1)</th>\n",
       "      <th>Life expectancy (highest score=1)</th>\n",
       "      <th>Mean years of schooling (highest score=1)</th>\n",
       "      <th>Human Development Index</th>\n",
       "      <th>Urban population (% of total population)</th>\n",
       "    </tr>\n",
       "  </thead>\n",
       "  <tbody>\n",
       "    <tr>\n",
       "      <th>0</th>\n",
       "      <td>Australia</td>\n",
       "      <td>1990</td>\n",
       "      <td>0.85</td>\n",
       "      <td>0.82</td>\n",
       "      <td>0.85</td>\n",
       "      <td>0.82</td>\n",
       "      <td>1.0</td>\n",
       "      <td>1.0</td>\n",
       "      <td>0.9</td>\n",
       "      <td>0.98</td>\n",
       "      <td>...</td>\n",
       "      <td>1.0</td>\n",
       "      <td>0.84</td>\n",
       "      <td>0.78</td>\n",
       "      <td>0.8</td>\n",
       "      <td>0.88</td>\n",
       "      <td>0.97</td>\n",
       "      <td>0.90</td>\n",
       "      <td>0.39</td>\n",
       "      <td>0.864</td>\n",
       "      <td>85.433</td>\n",
       "    </tr>\n",
       "    <tr>\n",
       "      <th>1</th>\n",
       "      <td>Australia</td>\n",
       "      <td>1991</td>\n",
       "      <td>0.85</td>\n",
       "      <td>0.82</td>\n",
       "      <td>0.85</td>\n",
       "      <td>0.82</td>\n",
       "      <td>1.0</td>\n",
       "      <td>1.0</td>\n",
       "      <td>0.9</td>\n",
       "      <td>0.98</td>\n",
       "      <td>...</td>\n",
       "      <td>1.0</td>\n",
       "      <td>0.84</td>\n",
       "      <td>0.78</td>\n",
       "      <td>0.8</td>\n",
       "      <td>0.88</td>\n",
       "      <td>0.97</td>\n",
       "      <td>0.90</td>\n",
       "      <td>0.39</td>\n",
       "      <td>0.866</td>\n",
       "      <td>85.403</td>\n",
       "    </tr>\n",
       "    <tr>\n",
       "      <th>2</th>\n",
       "      <td>Australia</td>\n",
       "      <td>1992</td>\n",
       "      <td>0.85</td>\n",
       "      <td>0.82</td>\n",
       "      <td>0.85</td>\n",
       "      <td>0.82</td>\n",
       "      <td>1.0</td>\n",
       "      <td>1.0</td>\n",
       "      <td>0.9</td>\n",
       "      <td>0.98</td>\n",
       "      <td>...</td>\n",
       "      <td>1.0</td>\n",
       "      <td>0.84</td>\n",
       "      <td>0.78</td>\n",
       "      <td>0.8</td>\n",
       "      <td>0.88</td>\n",
       "      <td>0.97</td>\n",
       "      <td>0.90</td>\n",
       "      <td>0.39</td>\n",
       "      <td>0.868</td>\n",
       "      <td>85.285</td>\n",
       "    </tr>\n",
       "    <tr>\n",
       "      <th>3</th>\n",
       "      <td>Australia</td>\n",
       "      <td>1993</td>\n",
       "      <td>0.85</td>\n",
       "      <td>0.82</td>\n",
       "      <td>0.85</td>\n",
       "      <td>0.84</td>\n",
       "      <td>1.0</td>\n",
       "      <td>1.0</td>\n",
       "      <td>0.9</td>\n",
       "      <td>0.98</td>\n",
       "      <td>...</td>\n",
       "      <td>1.0</td>\n",
       "      <td>0.84</td>\n",
       "      <td>0.78</td>\n",
       "      <td>0.8</td>\n",
       "      <td>0.88</td>\n",
       "      <td>0.98</td>\n",
       "      <td>0.91</td>\n",
       "      <td>0.40</td>\n",
       "      <td>0.873</td>\n",
       "      <td>85.157</td>\n",
       "    </tr>\n",
       "    <tr>\n",
       "      <th>4</th>\n",
       "      <td>Australia</td>\n",
       "      <td>1994</td>\n",
       "      <td>0.85</td>\n",
       "      <td>0.82</td>\n",
       "      <td>0.85</td>\n",
       "      <td>0.84</td>\n",
       "      <td>1.0</td>\n",
       "      <td>1.0</td>\n",
       "      <td>0.9</td>\n",
       "      <td>0.98</td>\n",
       "      <td>...</td>\n",
       "      <td>1.0</td>\n",
       "      <td>0.84</td>\n",
       "      <td>0.78</td>\n",
       "      <td>0.8</td>\n",
       "      <td>0.88</td>\n",
       "      <td>0.98</td>\n",
       "      <td>0.91</td>\n",
       "      <td>0.40</td>\n",
       "      <td>0.873</td>\n",
       "      <td>85.028</td>\n",
       "    </tr>\n",
       "  </tbody>\n",
       "</table>\n",
       "<p>5 rows × 23 columns</p>\n",
       "</div>"
      ],
      "text/plain": [
       "     country  year  Effective Parliament (highest score=1)  \\\n",
       "0  Australia  1990                                    0.85   \n",
       "1  Australia  1991                                    0.85   \n",
       "2  Australia  1992                                    0.85   \n",
       "3  Australia  1993                                    0.85   \n",
       "4  Australia  1994                                    0.85   \n",
       "\n",
       "   Election free and fair (highest score=1)  \\\n",
       "0                                      0.82   \n",
       "1                                      0.82   \n",
       "2                                      0.82   \n",
       "3                                      0.82   \n",
       "4                                      0.82   \n",
       "\n",
       "   Election government intimidation (highest score=1)  \\\n",
       "0                                               0.85    \n",
       "1                                               0.85    \n",
       "2                                               0.85    \n",
       "3                                               0.85    \n",
       "4                                               0.85    \n",
       "\n",
       "   Voter turnout (highest score=1)  Fair trial (highest score=1)  \\\n",
       "0                             0.82                           1.0   \n",
       "1                             0.82                           1.0   \n",
       "2                             0.82                           1.0   \n",
       "3                             0.84                           1.0   \n",
       "4                             0.84                           1.0   \n",
       "\n",
       "   Judicial Independence (highest score=1)  \\\n",
       "0                                      1.0   \n",
       "1                                      1.0   \n",
       "2                                      1.0   \n",
       "3                                      1.0   \n",
       "4                                      1.0   \n",
       "\n",
       "   Predictable Enforcement (highest score=1)  \\\n",
       "0                                        0.9   \n",
       "1                                        0.9   \n",
       "2                                        0.9   \n",
       "3                                        0.9   \n",
       "4                                        0.9   \n",
       "\n",
       "   Freedom of Religion (highest score=1)  ...  \\\n",
       "0                                   0.98  ...   \n",
       "1                                   0.98  ...   \n",
       "2                                   0.98  ...   \n",
       "3                                   0.98  ...   \n",
       "4                                   0.98  ...   \n",
       "\n",
       "   Media freedom (highest score=1)  Freedom of the Press (highest score=1)  \\\n",
       "0                              1.0                                    0.84   \n",
       "1                              1.0                                    0.84   \n",
       "2                              1.0                                    0.84   \n",
       "3                              1.0                                    0.84   \n",
       "4                              1.0                                    0.84   \n",
       "\n",
       "   Gender Equality (highest score=1)  Educational equality (highest score=1)  \\\n",
       "0                               0.78                                     0.8   \n",
       "1                               0.78                                     0.8   \n",
       "2                               0.78                                     0.8   \n",
       "3                               0.78                                     0.8   \n",
       "4                               0.78                                     0.8   \n",
       "\n",
       "   Health equality (highest score=1)  Infant mortality rate (highest score=1)  \\\n",
       "0                               0.88                                     0.97   \n",
       "1                               0.88                                     0.97   \n",
       "2                               0.88                                     0.97   \n",
       "3                               0.88                                     0.98   \n",
       "4                               0.88                                     0.98   \n",
       "\n",
       "   Life expectancy (highest score=1)  \\\n",
       "0                               0.90   \n",
       "1                               0.90   \n",
       "2                               0.90   \n",
       "3                               0.91   \n",
       "4                               0.91   \n",
       "\n",
       "   Mean years of schooling (highest score=1)  Human Development Index  \\\n",
       "0                                       0.39                    0.864   \n",
       "1                                       0.39                    0.866   \n",
       "2                                       0.39                    0.868   \n",
       "3                                       0.40                    0.873   \n",
       "4                                       0.40                    0.873   \n",
       "\n",
       "   Urban population (% of total population)  \n",
       "0                                    85.433  \n",
       "1                                    85.403  \n",
       "2                                    85.285  \n",
       "3                                    85.157  \n",
       "4                                    85.028  \n",
       "\n",
       "[5 rows x 23 columns]"
      ]
     },
     "execution_count": 13,
     "metadata": {},
     "output_type": "execute_result"
    }
   ],
   "source": [
    "# Merge the Political_Factors & Urbanisation DataFrames\n",
    "df_combined = pd.merge(Political_Factors, Urbanisation, on=['country', 'year'], how='outer')\n",
    "df_combined.head()"
   ]
  },
  {
   "cell_type": "code",
   "execution_count": null,
   "metadata": {
    "cell_id": "69be80882a3f4ddabccd3ac11680525c",
    "deepnote_cell_type": "code",
    "execution_context_id": "69995baa-2f72-4ad6-a6e3-c8e557c14158",
    "execution_millis": 17,
    "execution_start": 1742317462949,
    "id": "cd6da1f6",
    "outputId": "6dd3360a-de4b-40c4-f9d5-a4410fbbcf4d",
    "source_hash": "179f48f7"
   },
   "outputs": [
    {
     "data": {
      "application/vnd.deepnote.dataframe.v3+json": {
       "column_count": 29,
       "columns": [
        {
         "dtype": "object",
         "name": "country",
         "stats": {
          "categories": [
           {
            "count": 5,
            "name": "Australia"
           }
          ],
          "nan_count": 0,
          "unique_count": 1
         }
        },
        {
         "dtype": "int64",
         "name": "year",
         "stats": {
          "histogram": [
           {
            "bin_end": 1990.4,
            "bin_start": 1990,
            "count": 1
           },
           {
            "bin_end": 1990.8,
            "bin_start": 1990.4,
            "count": 0
           },
           {
            "bin_end": 1991.2,
            "bin_start": 1990.8,
            "count": 1
           },
           {
            "bin_end": 1991.6,
            "bin_start": 1991.2,
            "count": 0
           },
           {
            "bin_end": 1992,
            "bin_start": 1991.6,
            "count": 0
           },
           {
            "bin_end": 1992.4,
            "bin_start": 1992,
            "count": 1
           },
           {
            "bin_end": 1992.8,
            "bin_start": 1992.4,
            "count": 0
           },
           {
            "bin_end": 1993.2,
            "bin_start": 1992.8,
            "count": 1
           },
           {
            "bin_end": 1993.6,
            "bin_start": 1993.2,
            "count": 0
           },
           {
            "bin_end": 1994,
            "bin_start": 1993.6,
            "count": 1
           }
          ],
          "max": "1994",
          "min": "1990",
          "nan_count": 0,
          "unique_count": 5
         }
        },
        {
         "dtype": "float64",
         "name": "Effective Parliament (highest score=1)",
         "stats": {
          "histogram": [
           {
            "bin_end": 0.44999999999999996,
            "bin_start": 0.35,
            "count": 0
           },
           {
            "bin_end": 0.55,
            "bin_start": 0.44999999999999996,
            "count": 0
           },
           {
            "bin_end": 0.65,
            "bin_start": 0.55,
            "count": 0
           },
           {
            "bin_end": 0.75,
            "bin_start": 0.65,
            "count": 0
           },
           {
            "bin_end": 0.85,
            "bin_start": 0.75,
            "count": 0
           },
           {
            "bin_end": 0.9500000000000001,
            "bin_start": 0.85,
            "count": 5
           },
           {
            "bin_end": 1.05,
            "bin_start": 0.9500000000000001,
            "count": 0
           },
           {
            "bin_end": 1.15,
            "bin_start": 1.05,
            "count": 0
           },
           {
            "bin_end": 1.25,
            "bin_start": 1.15,
            "count": 0
           },
           {
            "bin_end": 1.35,
            "bin_start": 1.25,
            "count": 0
           }
          ],
          "max": "0.85",
          "min": "0.85",
          "nan_count": 0,
          "unique_count": 1
         }
        },
        {
         "dtype": "float64",
         "name": "Election free and fair (highest score=1)",
         "stats": {
          "histogram": [
           {
            "bin_end": 0.41999999999999993,
            "bin_start": 0.31999999999999995,
            "count": 0
           },
           {
            "bin_end": 0.5199999999999999,
            "bin_start": 0.41999999999999993,
            "count": 0
           },
           {
            "bin_end": 0.6199999999999999,
            "bin_start": 0.5199999999999999,
            "count": 0
           },
           {
            "bin_end": 0.72,
            "bin_start": 0.6199999999999999,
            "count": 0
           },
           {
            "bin_end": 0.8199999999999998,
            "bin_start": 0.72,
            "count": 0
           },
           {
            "bin_end": 0.9199999999999999,
            "bin_start": 0.8199999999999998,
            "count": 5
           },
           {
            "bin_end": 1.02,
            "bin_start": 0.9199999999999999,
            "count": 0
           },
           {
            "bin_end": 1.1199999999999999,
            "bin_start": 1.02,
            "count": 0
           },
           {
            "bin_end": 1.2199999999999998,
            "bin_start": 1.1199999999999999,
            "count": 0
           },
           {
            "bin_end": 1.3199999999999998,
            "bin_start": 1.2199999999999998,
            "count": 0
           }
          ],
          "max": "0.82",
          "min": "0.82",
          "nan_count": 0,
          "unique_count": 1
         }
        },
        {
         "dtype": "float64",
         "name": "Election government intimidation (highest score=1)",
         "stats": {
          "histogram": [
           {
            "bin_end": 0.44999999999999996,
            "bin_start": 0.35,
            "count": 0
           },
           {
            "bin_end": 0.55,
            "bin_start": 0.44999999999999996,
            "count": 0
           },
           {
            "bin_end": 0.65,
            "bin_start": 0.55,
            "count": 0
           },
           {
            "bin_end": 0.75,
            "bin_start": 0.65,
            "count": 0
           },
           {
            "bin_end": 0.85,
            "bin_start": 0.75,
            "count": 0
           },
           {
            "bin_end": 0.9500000000000001,
            "bin_start": 0.85,
            "count": 5
           },
           {
            "bin_end": 1.05,
            "bin_start": 0.9500000000000001,
            "count": 0
           },
           {
            "bin_end": 1.15,
            "bin_start": 1.05,
            "count": 0
           },
           {
            "bin_end": 1.25,
            "bin_start": 1.15,
            "count": 0
           },
           {
            "bin_end": 1.35,
            "bin_start": 1.25,
            "count": 0
           }
          ],
          "max": "0.85",
          "min": "0.85",
          "nan_count": 0,
          "unique_count": 1
         }
        },
        {
         "dtype": "float64",
         "name": "Voter turnout (highest score=1)",
         "stats": {
          "histogram": [
           {
            "bin_end": 0.822,
            "bin_start": 0.82,
            "count": 3
           },
           {
            "bin_end": 0.824,
            "bin_start": 0.822,
            "count": 0
           },
           {
            "bin_end": 0.826,
            "bin_start": 0.824,
            "count": 0
           },
           {
            "bin_end": 0.828,
            "bin_start": 0.826,
            "count": 0
           },
           {
            "bin_end": 0.83,
            "bin_start": 0.828,
            "count": 0
           },
           {
            "bin_end": 0.832,
            "bin_start": 0.83,
            "count": 0
           },
           {
            "bin_end": 0.834,
            "bin_start": 0.832,
            "count": 0
           },
           {
            "bin_end": 0.836,
            "bin_start": 0.834,
            "count": 0
           },
           {
            "bin_end": 0.838,
            "bin_start": 0.836,
            "count": 0
           },
           {
            "bin_end": 0.84,
            "bin_start": 0.838,
            "count": 2
           }
          ],
          "max": "0.84",
          "min": "0.82",
          "nan_count": 0,
          "unique_count": 2
         }
        },
        {
         "dtype": "float64",
         "name": "Fair trial (highest score=1)",
         "stats": {
          "histogram": [
           {
            "bin_end": 0.6,
            "bin_start": 0.5,
            "count": 0
           },
           {
            "bin_end": 0.7,
            "bin_start": 0.6,
            "count": 0
           },
           {
            "bin_end": 0.8,
            "bin_start": 0.7,
            "count": 0
           },
           {
            "bin_end": 0.9,
            "bin_start": 0.8,
            "count": 0
           },
           {
            "bin_end": 1,
            "bin_start": 0.9,
            "count": 0
           },
           {
            "bin_end": 1.1,
            "bin_start": 1,
            "count": 5
           },
           {
            "bin_end": 1.2000000000000002,
            "bin_start": 1.1,
            "count": 0
           },
           {
            "bin_end": 1.3,
            "bin_start": 1.2000000000000002,
            "count": 0
           },
           {
            "bin_end": 1.4,
            "bin_start": 1.3,
            "count": 0
           },
           {
            "bin_end": 1.5,
            "bin_start": 1.4,
            "count": 0
           }
          ],
          "max": "1.0",
          "min": "1.0",
          "nan_count": 0,
          "unique_count": 1
         }
        },
        {
         "dtype": "float64",
         "name": "Judicial Independence (highest score=1)",
         "stats": {
          "histogram": [
           {
            "bin_end": 0.6,
            "bin_start": 0.5,
            "count": 0
           },
           {
            "bin_end": 0.7,
            "bin_start": 0.6,
            "count": 0
           },
           {
            "bin_end": 0.8,
            "bin_start": 0.7,
            "count": 0
           },
           {
            "bin_end": 0.9,
            "bin_start": 0.8,
            "count": 0
           },
           {
            "bin_end": 1,
            "bin_start": 0.9,
            "count": 0
           },
           {
            "bin_end": 1.1,
            "bin_start": 1,
            "count": 5
           },
           {
            "bin_end": 1.2000000000000002,
            "bin_start": 1.1,
            "count": 0
           },
           {
            "bin_end": 1.3,
            "bin_start": 1.2000000000000002,
            "count": 0
           },
           {
            "bin_end": 1.4,
            "bin_start": 1.3,
            "count": 0
           },
           {
            "bin_end": 1.5,
            "bin_start": 1.4,
            "count": 0
           }
          ],
          "max": "1.0",
          "min": "1.0",
          "nan_count": 0,
          "unique_count": 1
         }
        },
        {
         "dtype": "float64",
         "name": "Predictable Enforcement (highest score=1)",
         "stats": {
          "histogram": [
           {
            "bin_end": 0.5,
            "bin_start": 0.4,
            "count": 0
           },
           {
            "bin_end": 0.6,
            "bin_start": 0.5,
            "count": 0
           },
           {
            "bin_end": 0.7,
            "bin_start": 0.6,
            "count": 0
           },
           {
            "bin_end": 0.8,
            "bin_start": 0.7,
            "count": 0
           },
           {
            "bin_end": 0.8999999999999999,
            "bin_start": 0.8,
            "count": 0
           },
           {
            "bin_end": 1,
            "bin_start": 0.8999999999999999,
            "count": 5
           },
           {
            "bin_end": 1.1,
            "bin_start": 1,
            "count": 0
           },
           {
            "bin_end": 1.2,
            "bin_start": 1.1,
            "count": 0
           },
           {
            "bin_end": 1.2999999999999998,
            "bin_start": 1.2,
            "count": 0
           },
           {
            "bin_end": 1.4,
            "bin_start": 1.2999999999999998,
            "count": 0
           }
          ],
          "max": "0.9",
          "min": "0.9",
          "nan_count": 0,
          "unique_count": 1
         }
        },
        {
         "dtype": "float64",
         "name": "Freedom of Religion (highest score=1)",
         "stats": {
          "histogram": [
           {
            "bin_end": 0.58,
            "bin_start": 0.48,
            "count": 0
           },
           {
            "bin_end": 0.6799999999999999,
            "bin_start": 0.58,
            "count": 0
           },
           {
            "bin_end": 0.78,
            "bin_start": 0.6799999999999999,
            "count": 0
           },
           {
            "bin_end": 0.88,
            "bin_start": 0.78,
            "count": 0
           },
           {
            "bin_end": 0.98,
            "bin_start": 0.88,
            "count": 0
           },
           {
            "bin_end": 1.08,
            "bin_start": 0.98,
            "count": 5
           },
           {
            "bin_end": 1.1800000000000002,
            "bin_start": 1.08,
            "count": 0
           },
           {
            "bin_end": 1.28,
            "bin_start": 1.1800000000000002,
            "count": 0
           },
           {
            "bin_end": 1.38,
            "bin_start": 1.28,
            "count": 0
           },
           {
            "bin_end": 1.48,
            "bin_start": 1.38,
            "count": 0
           }
          ],
          "max": "0.98",
          "min": "0.98",
          "nan_count": 0,
          "unique_count": 1
         }
        },
        {
         "dtype": "float64",
         "name": "Free Political Parties (highest score=1)",
         "stats": {
          "histogram": [
           {
            "bin_end": 0.33999999999999997,
            "bin_start": 0.24,
            "count": 0
           },
           {
            "bin_end": 0.44,
            "bin_start": 0.33999999999999997,
            "count": 0
           },
           {
            "bin_end": 0.54,
            "bin_start": 0.44,
            "count": 0
           },
           {
            "bin_end": 0.64,
            "bin_start": 0.54,
            "count": 0
           },
           {
            "bin_end": 0.74,
            "bin_start": 0.64,
            "count": 0
           },
           {
            "bin_end": 0.8400000000000001,
            "bin_start": 0.74,
            "count": 5
           },
           {
            "bin_end": 0.9400000000000001,
            "bin_start": 0.8400000000000001,
            "count": 0
           },
           {
            "bin_end": 1.04,
            "bin_start": 0.9400000000000001,
            "count": 0
           },
           {
            "bin_end": 1.1400000000000001,
            "bin_start": 1.04,
            "count": 0
           },
           {
            "bin_end": 1.24,
            "bin_start": 1.1400000000000001,
            "count": 0
           }
          ],
          "max": "0.74",
          "min": "0.74",
          "nan_count": 0,
          "unique_count": 1
         }
        },
        {
         "dtype": "float64",
         "name": "Harassment of journalists (highest score=1)",
         "stats": {
          "histogram": [
           {
            "bin_end": 0.35,
            "bin_start": 0.25,
            "count": 0
           },
           {
            "bin_end": 0.45,
            "bin_start": 0.35,
            "count": 0
           },
           {
            "bin_end": 0.55,
            "bin_start": 0.45,
            "count": 0
           },
           {
            "bin_end": 0.65,
            "bin_start": 0.55,
            "count": 0
           },
           {
            "bin_end": 0.75,
            "bin_start": 0.65,
            "count": 0
           },
           {
            "bin_end": 0.8500000000000001,
            "bin_start": 0.75,
            "count": 5
           },
           {
            "bin_end": 0.9500000000000001,
            "bin_start": 0.8500000000000001,
            "count": 0
           },
           {
            "bin_end": 1.05,
            "bin_start": 0.9500000000000001,
            "count": 0
           },
           {
            "bin_end": 1.15,
            "bin_start": 1.05,
            "count": 0
           },
           {
            "bin_end": 1.25,
            "bin_start": 1.15,
            "count": 0
           }
          ],
          "max": "0.75",
          "min": "0.75",
          "nan_count": 0,
          "unique_count": 1
         }
        },
        {
         "dtype": "float64",
         "name": "Media bias (highest score=1)",
         "stats": {
          "histogram": [
           {
            "bin_end": 0.5599999999999999,
            "bin_start": 0.45999999999999996,
            "count": 0
           },
           {
            "bin_end": 0.6599999999999999,
            "bin_start": 0.5599999999999999,
            "count": 0
           },
           {
            "bin_end": 0.76,
            "bin_start": 0.6599999999999999,
            "count": 0
           },
           {
            "bin_end": 0.86,
            "bin_start": 0.76,
            "count": 0
           },
           {
            "bin_end": 0.96,
            "bin_start": 0.86,
            "count": 0
           },
           {
            "bin_end": 1.06,
            "bin_start": 0.96,
            "count": 5
           },
           {
            "bin_end": 1.1600000000000001,
            "bin_start": 1.06,
            "count": 0
           },
           {
            "bin_end": 1.26,
            "bin_start": 1.1600000000000001,
            "count": 0
           },
           {
            "bin_end": 1.3599999999999999,
            "bin_start": 1.26,
            "count": 0
           },
           {
            "bin_end": 1.46,
            "bin_start": 1.3599999999999999,
            "count": 0
           }
          ],
          "max": "0.96",
          "min": "0.96",
          "nan_count": 0,
          "unique_count": 1
         }
        },
        {
         "dtype": "float64",
         "name": "Media freedom (highest score=1)",
         "stats": {
          "histogram": [
           {
            "bin_end": 0.6,
            "bin_start": 0.5,
            "count": 0
           },
           {
            "bin_end": 0.7,
            "bin_start": 0.6,
            "count": 0
           },
           {
            "bin_end": 0.8,
            "bin_start": 0.7,
            "count": 0
           },
           {
            "bin_end": 0.9,
            "bin_start": 0.8,
            "count": 0
           },
           {
            "bin_end": 1,
            "bin_start": 0.9,
            "count": 0
           },
           {
            "bin_end": 1.1,
            "bin_start": 1,
            "count": 5
           },
           {
            "bin_end": 1.2000000000000002,
            "bin_start": 1.1,
            "count": 0
           },
           {
            "bin_end": 1.3,
            "bin_start": 1.2000000000000002,
            "count": 0
           },
           {
            "bin_end": 1.4,
            "bin_start": 1.3,
            "count": 0
           },
           {
            "bin_end": 1.5,
            "bin_start": 1.4,
            "count": 0
           }
          ],
          "max": "1.0",
          "min": "1.0",
          "nan_count": 0,
          "unique_count": 1
         }
        },
        {
         "dtype": "float64",
         "name": "Freedom of the Press (highest score=1)",
         "stats": {
          "histogram": [
           {
            "bin_end": 0.43999999999999995,
            "bin_start": 0.33999999999999997,
            "count": 0
           },
           {
            "bin_end": 0.5399999999999999,
            "bin_start": 0.43999999999999995,
            "count": 0
           },
           {
            "bin_end": 0.6399999999999999,
            "bin_start": 0.5399999999999999,
            "count": 0
           },
           {
            "bin_end": 0.74,
            "bin_start": 0.6399999999999999,
            "count": 0
           },
           {
            "bin_end": 0.8399999999999999,
            "bin_start": 0.74,
            "count": 0
           },
           {
            "bin_end": 0.94,
            "bin_start": 0.8399999999999999,
            "count": 5
           },
           {
            "bin_end": 1.04,
            "bin_start": 0.94,
            "count": 0
           },
           {
            "bin_end": 1.14,
            "bin_start": 1.04,
            "count": 0
           },
           {
            "bin_end": 1.2399999999999998,
            "bin_start": 1.14,
            "count": 0
           },
           {
            "bin_end": 1.3399999999999999,
            "bin_start": 1.2399999999999998,
            "count": 0
           }
          ],
          "max": "0.84",
          "min": "0.84",
          "nan_count": 0,
          "unique_count": 1
         }
        },
        {
         "dtype": "float64",
         "name": "Gender Equality (highest score=1)",
         "stats": {
          "histogram": [
           {
            "bin_end": 0.38,
            "bin_start": 0.28,
            "count": 0
           },
           {
            "bin_end": 0.48000000000000004,
            "bin_start": 0.38,
            "count": 0
           },
           {
            "bin_end": 0.5800000000000001,
            "bin_start": 0.48000000000000004,
            "count": 0
           },
           {
            "bin_end": 0.68,
            "bin_start": 0.5800000000000001,
            "count": 0
           },
           {
            "bin_end": 0.78,
            "bin_start": 0.68,
            "count": 0
           },
           {
            "bin_end": 0.8800000000000001,
            "bin_start": 0.78,
            "count": 5
           },
           {
            "bin_end": 0.9800000000000001,
            "bin_start": 0.8800000000000001,
            "count": 0
           },
           {
            "bin_end": 1.08,
            "bin_start": 0.9800000000000001,
            "count": 0
           },
           {
            "bin_end": 1.1800000000000002,
            "bin_start": 1.08,
            "count": 0
           },
           {
            "bin_end": 1.28,
            "bin_start": 1.1800000000000002,
            "count": 0
           }
          ],
          "max": "0.78",
          "min": "0.78",
          "nan_count": 0,
          "unique_count": 1
         }
        },
        {
         "dtype": "float64",
         "name": "Educational equality (highest score=1)",
         "stats": {
          "histogram": [
           {
            "bin_end": 0.4,
            "bin_start": 0.30000000000000004,
            "count": 0
           },
           {
            "bin_end": 0.5,
            "bin_start": 0.4,
            "count": 0
           },
           {
            "bin_end": 0.6000000000000001,
            "bin_start": 0.5,
            "count": 0
           },
           {
            "bin_end": 0.7000000000000001,
            "bin_start": 0.6000000000000001,
            "count": 0
           },
           {
            "bin_end": 0.8,
            "bin_start": 0.7000000000000001,
            "count": 0
           },
           {
            "bin_end": 0.9000000000000001,
            "bin_start": 0.8,
            "count": 5
           },
           {
            "bin_end": 1,
            "bin_start": 0.9000000000000001,
            "count": 0
           },
           {
            "bin_end": 1.1,
            "bin_start": 1,
            "count": 0
           },
           {
            "bin_end": 1.2000000000000002,
            "bin_start": 1.1,
            "count": 0
           },
           {
            "bin_end": 1.3,
            "bin_start": 1.2000000000000002,
            "count": 0
           }
          ],
          "max": "0.8",
          "min": "0.8",
          "nan_count": 0,
          "unique_count": 1
         }
        },
        {
         "dtype": "float64",
         "name": "Health equality (highest score=1)",
         "stats": {
          "histogram": [
           {
            "bin_end": 0.48,
            "bin_start": 0.38,
            "count": 0
           },
           {
            "bin_end": 0.58,
            "bin_start": 0.48,
            "count": 0
           },
           {
            "bin_end": 0.6799999999999999,
            "bin_start": 0.58,
            "count": 0
           },
           {
            "bin_end": 0.78,
            "bin_start": 0.6799999999999999,
            "count": 0
           },
           {
            "bin_end": 0.8799999999999999,
            "bin_start": 0.78,
            "count": 0
           },
           {
            "bin_end": 0.98,
            "bin_start": 0.8799999999999999,
            "count": 5
           },
           {
            "bin_end": 1.08,
            "bin_start": 0.98,
            "count": 0
           },
           {
            "bin_end": 1.18,
            "bin_start": 1.08,
            "count": 0
           },
           {
            "bin_end": 1.2799999999999998,
            "bin_start": 1.18,
            "count": 0
           },
           {
            "bin_end": 1.38,
            "bin_start": 1.2799999999999998,
            "count": 0
           }
          ],
          "max": "0.88",
          "min": "0.88",
          "nan_count": 0,
          "unique_count": 1
         }
        },
        {
         "dtype": "float64",
         "name": "Infant mortality rate (highest score=1)",
         "stats": {
          "histogram": [
           {
            "bin_end": 0.971,
            "bin_start": 0.97,
            "count": 3
           },
           {
            "bin_end": 0.972,
            "bin_start": 0.971,
            "count": 0
           },
           {
            "bin_end": 0.973,
            "bin_start": 0.972,
            "count": 0
           },
           {
            "bin_end": 0.974,
            "bin_start": 0.973,
            "count": 0
           },
           {
            "bin_end": 0.975,
            "bin_start": 0.974,
            "count": 0
           },
           {
            "bin_end": 0.976,
            "bin_start": 0.975,
            "count": 0
           },
           {
            "bin_end": 0.977,
            "bin_start": 0.976,
            "count": 0
           },
           {
            "bin_end": 0.978,
            "bin_start": 0.977,
            "count": 0
           },
           {
            "bin_end": 0.979,
            "bin_start": 0.978,
            "count": 0
           },
           {
            "bin_end": 0.98,
            "bin_start": 0.979,
            "count": 2
           }
          ],
          "max": "0.98",
          "min": "0.97",
          "nan_count": 0,
          "unique_count": 2
         }
        },
        {
         "dtype": "float64",
         "name": "Life expectancy (highest score=1)",
         "stats": {
          "histogram": [
           {
            "bin_end": 0.901,
            "bin_start": 0.9,
            "count": 3
           },
           {
            "bin_end": 0.902,
            "bin_start": 0.901,
            "count": 0
           },
           {
            "bin_end": 0.903,
            "bin_start": 0.902,
            "count": 0
           },
           {
            "bin_end": 0.904,
            "bin_start": 0.903,
            "count": 0
           },
           {
            "bin_end": 0.905,
            "bin_start": 0.904,
            "count": 0
           },
           {
            "bin_end": 0.906,
            "bin_start": 0.905,
            "count": 0
           },
           {
            "bin_end": 0.907,
            "bin_start": 0.906,
            "count": 0
           },
           {
            "bin_end": 0.908,
            "bin_start": 0.907,
            "count": 0
           },
           {
            "bin_end": 0.909,
            "bin_start": 0.908,
            "count": 0
           },
           {
            "bin_end": 0.91,
            "bin_start": 0.909,
            "count": 2
           }
          ],
          "max": "0.91",
          "min": "0.9",
          "nan_count": 0,
          "unique_count": 2
         }
        },
        {
         "dtype": "float64",
         "name": "Mean years of schooling (highest score=1)",
         "stats": {
          "histogram": [
           {
            "bin_end": 0.391,
            "bin_start": 0.39,
            "count": 3
           },
           {
            "bin_end": 0.392,
            "bin_start": 0.391,
            "count": 0
           },
           {
            "bin_end": 0.393,
            "bin_start": 0.392,
            "count": 0
           },
           {
            "bin_end": 0.394,
            "bin_start": 0.393,
            "count": 0
           },
           {
            "bin_end": 0.395,
            "bin_start": 0.394,
            "count": 0
           },
           {
            "bin_end": 0.396,
            "bin_start": 0.395,
            "count": 0
           },
           {
            "bin_end": 0.397,
            "bin_start": 0.396,
            "count": 0
           },
           {
            "bin_end": 0.398,
            "bin_start": 0.397,
            "count": 0
           },
           {
            "bin_end": 0.399,
            "bin_start": 0.398,
            "count": 0
           },
           {
            "bin_end": 0.4,
            "bin_start": 0.399,
            "count": 2
           }
          ],
          "max": "0.4",
          "min": "0.39",
          "nan_count": 0,
          "unique_count": 2
         }
        },
        {
         "dtype": "float64",
         "name": "Human Development Index",
         "stats": {
          "histogram": [
           {
            "bin_end": 0.8649,
            "bin_start": 0.864,
            "count": 1
           },
           {
            "bin_end": 0.8658,
            "bin_start": 0.8649,
            "count": 0
           },
           {
            "bin_end": 0.8667,
            "bin_start": 0.8658,
            "count": 1
           },
           {
            "bin_end": 0.8676,
            "bin_start": 0.8667,
            "count": 0
           },
           {
            "bin_end": 0.8685,
            "bin_start": 0.8676,
            "count": 1
           },
           {
            "bin_end": 0.8694,
            "bin_start": 0.8685,
            "count": 0
           },
           {
            "bin_end": 0.8703,
            "bin_start": 0.8694,
            "count": 0
           },
           {
            "bin_end": 0.8712,
            "bin_start": 0.8703,
            "count": 0
           },
           {
            "bin_end": 0.8721,
            "bin_start": 0.8712,
            "count": 0
           },
           {
            "bin_end": 0.873,
            "bin_start": 0.8721,
            "count": 2
           }
          ],
          "max": "0.873",
          "min": "0.864",
          "nan_count": 0,
          "unique_count": 4
         }
        },
        {
         "dtype": "float64",
         "name": "Urban population (% of total population)",
         "stats": {
          "histogram": [
           {
            "bin_end": 85.0685,
            "bin_start": 85.028,
            "count": 1
           },
           {
            "bin_end": 85.10900000000001,
            "bin_start": 85.0685,
            "count": 0
           },
           {
            "bin_end": 85.1495,
            "bin_start": 85.10900000000001,
            "count": 0
           },
           {
            "bin_end": 85.19000000000001,
            "bin_start": 85.1495,
            "count": 1
           },
           {
            "bin_end": 85.2305,
            "bin_start": 85.19000000000001,
            "count": 0
           },
           {
            "bin_end": 85.271,
            "bin_start": 85.2305,
            "count": 0
           },
           {
            "bin_end": 85.31150000000001,
            "bin_start": 85.271,
            "count": 1
           },
           {
            "bin_end": 85.352,
            "bin_start": 85.31150000000001,
            "count": 0
           },
           {
            "bin_end": 85.39250000000001,
            "bin_start": 85.352,
            "count": 0
           },
           {
            "bin_end": 85.433,
            "bin_start": 85.39250000000001,
            "count": 2
           }
          ],
          "max": "85.433",
          "min": "85.028",
          "nan_count": 0,
          "unique_count": 5
         }
        },
        {
         "dtype": "float64",
         "name": "Gini coefficient",
         "stats": {
          "histogram": [
           {
            "bin_end": 0.43969532299999997,
            "bin_start": 0.43795857,
            "count": 1
           },
           {
            "bin_end": 0.441432076,
            "bin_start": 0.43969532299999997,
            "count": 0
           },
           {
            "bin_end": 0.443168829,
            "bin_start": 0.441432076,
            "count": 0
           },
           {
            "bin_end": 0.444905582,
            "bin_start": 0.443168829,
            "count": 1
           },
           {
            "bin_end": 0.446642335,
            "bin_start": 0.444905582,
            "count": 0
           },
           {
            "bin_end": 0.448379088,
            "bin_start": 0.446642335,
            "count": 0
           },
           {
            "bin_end": 0.450115841,
            "bin_start": 0.448379088,
            "count": 1
           },
           {
            "bin_end": 0.451852594,
            "bin_start": 0.450115841,
            "count": 1
           },
           {
            "bin_end": 0.45358934700000003,
            "bin_start": 0.451852594,
            "count": 0
           },
           {
            "bin_end": 0.4553261,
            "bin_start": 0.45358934700000003,
            "count": 1
           }
          ],
          "max": "0.4553261",
          "min": "0.43795857",
          "nan_count": 0,
          "unique_count": 5
         }
        },
        {
         "dtype": "float64",
         "name": "GDP",
         "stats": {
          "histogram": [
           {
            "bin_end": -1.16684016,
            "bin_start": -1.6435711,
            "count": 1
           },
           {
            "bin_end": -0.6901092199999999,
            "bin_start": -1.16684016,
            "count": 1
           },
           {
            "bin_end": -0.2133782799999997,
            "bin_start": -0.6901092199999999,
            "count": 0
           },
           {
            "bin_end": 0.26335266000000024,
            "bin_start": -0.2133782799999997,
            "count": 0
           },
           {
            "bin_end": 0.7400836000000002,
            "bin_start": 0.26335266000000024,
            "count": 0
           },
           {
            "bin_end": 1.2168145400000006,
            "bin_start": 0.7400836000000002,
            "count": 0
           },
           {
            "bin_end": 1.6935454800000005,
            "bin_start": 1.2168145400000006,
            "count": 0
           },
           {
            "bin_end": 2.1702764200000004,
            "bin_start": 1.6935454800000005,
            "count": 1
           },
           {
            "bin_end": 2.647007360000001,
            "bin_start": 2.1702764200000004,
            "count": 0
           },
           {
            "bin_end": 3.1237383,
            "bin_start": 2.647007360000001,
            "count": 2
           }
          ],
          "max": "3.1237383",
          "min": "-1.6435711",
          "nan_count": 0,
          "unique_count": 5
         }
        },
        {
         "dtype": "int64",
         "name": "Conflict",
         "stats": {
          "histogram": [
           {
            "bin_end": -0.4,
            "bin_start": -0.5,
            "count": 0
           },
           {
            "bin_end": -0.3,
            "bin_start": -0.4,
            "count": 0
           },
           {
            "bin_end": -0.19999999999999996,
            "bin_start": -0.3,
            "count": 0
           },
           {
            "bin_end": -0.09999999999999998,
            "bin_start": -0.19999999999999996,
            "count": 0
           },
           {
            "bin_end": 0,
            "bin_start": -0.09999999999999998,
            "count": 0
           },
           {
            "bin_end": 0.10000000000000009,
            "bin_start": 0,
            "count": 5
           },
           {
            "bin_end": 0.20000000000000007,
            "bin_start": 0.10000000000000009,
            "count": 0
           },
           {
            "bin_end": 0.30000000000000004,
            "bin_start": 0.20000000000000007,
            "count": 0
           },
           {
            "bin_end": 0.4,
            "bin_start": 0.30000000000000004,
            "count": 0
           },
           {
            "bin_end": 0.5,
            "bin_start": 0.4,
            "count": 0
           }
          ],
          "max": "0",
          "min": "0",
          "nan_count": 0,
          "unique_count": 1
         }
        },
        {
         "dtype": "int64",
         "name": "Deaths",
         "stats": {
          "histogram": [
           {
            "bin_end": -0.4,
            "bin_start": -0.5,
            "count": 0
           },
           {
            "bin_end": -0.3,
            "bin_start": -0.4,
            "count": 0
           },
           {
            "bin_end": -0.19999999999999996,
            "bin_start": -0.3,
            "count": 0
           },
           {
            "bin_end": -0.09999999999999998,
            "bin_start": -0.19999999999999996,
            "count": 0
           },
           {
            "bin_end": 0,
            "bin_start": -0.09999999999999998,
            "count": 0
           },
           {
            "bin_end": 0.10000000000000009,
            "bin_start": 0,
            "count": 5
           },
           {
            "bin_end": 0.20000000000000007,
            "bin_start": 0.10000000000000009,
            "count": 0
           },
           {
            "bin_end": 0.30000000000000004,
            "bin_start": 0.20000000000000007,
            "count": 0
           },
           {
            "bin_end": 0.4,
            "bin_start": 0.30000000000000004,
            "count": 0
           },
           {
            "bin_end": 0.5,
            "bin_start": 0.4,
            "count": 0
           }
          ],
          "max": "0",
          "min": "0",
          "nan_count": 0,
          "unique_count": 1
         }
        },
        {
         "dtype": "float64",
         "name": "Free and fair elections index",
         "stats": {
          "histogram": [
           {
            "bin_end": 0.9561999999999999,
            "bin_start": 0.956,
            "count": 3
           },
           {
            "bin_end": 0.9563999999999999,
            "bin_start": 0.9561999999999999,
            "count": 0
           },
           {
            "bin_end": 0.9566,
            "bin_start": 0.9563999999999999,
            "count": 0
           },
           {
            "bin_end": 0.9568,
            "bin_start": 0.9566,
            "count": 0
           },
           {
            "bin_end": 0.957,
            "bin_start": 0.9568,
            "count": 0
           },
           {
            "bin_end": 0.9571999999999999,
            "bin_start": 0.957,
            "count": 0
           },
           {
            "bin_end": 0.9573999999999999,
            "bin_start": 0.9571999999999999,
            "count": 0
           },
           {
            "bin_end": 0.9576,
            "bin_start": 0.9573999999999999,
            "count": 0
           },
           {
            "bin_end": 0.9578,
            "bin_start": 0.9576,
            "count": 0
           },
           {
            "bin_end": 0.958,
            "bin_start": 0.9578,
            "count": 2
           }
          ],
          "max": "0.958",
          "min": "0.956",
          "nan_count": 0,
          "unique_count": 2
         }
        },
        {
         "dtype": "float64",
         "name": "Liberal democracy index",
         "stats": {
          "histogram": [
           {
            "bin_end": 0.45199999999999996,
            "bin_start": 0.352,
            "count": 0
           },
           {
            "bin_end": 0.5519999999999999,
            "bin_start": 0.45199999999999996,
            "count": 0
           },
           {
            "bin_end": 0.6519999999999999,
            "bin_start": 0.5519999999999999,
            "count": 0
           },
           {
            "bin_end": 0.752,
            "bin_start": 0.6519999999999999,
            "count": 0
           },
           {
            "bin_end": 0.8519999999999999,
            "bin_start": 0.752,
            "count": 0
           },
           {
            "bin_end": 0.952,
            "bin_start": 0.8519999999999999,
            "count": 5
           },
           {
            "bin_end": 1.052,
            "bin_start": 0.952,
            "count": 0
           },
           {
            "bin_end": 1.152,
            "bin_start": 1.052,
            "count": 0
           },
           {
            "bin_end": 1.2519999999999998,
            "bin_start": 1.152,
            "count": 0
           },
           {
            "bin_end": 1.3519999999999999,
            "bin_start": 1.2519999999999998,
            "count": 0
           }
          ],
          "max": "0.852",
          "min": "0.852",
          "nan_count": 0,
          "unique_count": 1
         }
        },
        {
         "dtype": "int64",
         "name": "_deepnote_index_column"
        }
       ],
       "row_count": 5,
       "rows": [
        {
         "Conflict": 0,
         "Deaths": 0,
         "Educational equality (highest score=1)": 0.8,
         "Effective Parliament (highest score=1)": 0.85,
         "Election free and fair (highest score=1)": 0.82,
         "Election government intimidation (highest score=1)": 0.85,
         "Fair trial (highest score=1)": 1,
         "Free Political Parties (highest score=1)": 0.74,
         "Free and fair elections index": 0.956,
         "Freedom of Religion (highest score=1)": 0.98,
         "Freedom of the Press (highest score=1)": 0.84,
         "GDP": 2.0573924,
         "Gender Equality (highest score=1)": 0.78,
         "Gini coefficient": 0.43795857,
         "Harassment of journalists (highest score=1)": 0.75,
         "Health equality (highest score=1)": 0.88,
         "Human Development Index": 0.864,
         "Infant mortality rate (highest score=1)": 0.97,
         "Judicial Independence (highest score=1)": 1,
         "Liberal democracy index": 0.852,
         "Life expectancy (highest score=1)": 0.9,
         "Mean years of schooling (highest score=1)": 0.39,
         "Media bias (highest score=1)": 0.96,
         "Media freedom (highest score=1)": 1,
         "Predictable Enforcement (highest score=1)": 0.9,
         "Urban population (% of total population)": 85.433,
         "Voter turnout (highest score=1)": 0.82,
         "_deepnote_index_column": 0,
         "country": "Australia",
         "year": 1990
        },
        {
         "Conflict": 0,
         "Deaths": 0,
         "Educational equality (highest score=1)": 0.8,
         "Effective Parliament (highest score=1)": 0.85,
         "Election free and fair (highest score=1)": 0.82,
         "Election government intimidation (highest score=1)": 0.85,
         "Fair trial (highest score=1)": 1,
         "Free Political Parties (highest score=1)": 0.74,
         "Free and fair elections index": 0.956,
         "Freedom of Religion (highest score=1)": 0.98,
         "Freedom of the Press (highest score=1)": 0.84,
         "GDP": -1.6435711,
         "Gender Equality (highest score=1)": 0.78,
         "Gini coefficient": 0.44966656,
         "Harassment of journalists (highest score=1)": 0.75,
         "Health equality (highest score=1)": 0.88,
         "Human Development Index": 0.866,
         "Infant mortality rate (highest score=1)": 0.97,
         "Judicial Independence (highest score=1)": 1,
         "Liberal democracy index": 0.852,
         "Life expectancy (highest score=1)": 0.9,
         "Mean years of schooling (highest score=1)": 0.39,
         "Media bias (highest score=1)": 0.96,
         "Media freedom (highest score=1)": 1,
         "Predictable Enforcement (highest score=1)": 0.9,
         "Urban population (% of total population)": 85.403,
         "Voter turnout (highest score=1)": 0.82,
         "_deepnote_index_column": 1,
         "country": "Australia",
         "year": 1991
        },
        {
         "Conflict": 0,
         "Deaths": 0,
         "Educational equality (highest score=1)": 0.8,
         "Effective Parliament (highest score=1)": 0.85,
         "Election free and fair (highest score=1)": 0.82,
         "Election government intimidation (highest score=1)": 0.85,
         "Fair trial (highest score=1)": 1,
         "Free Political Parties (highest score=1)": 0.74,
         "Free and fair elections index": 0.956,
         "Freedom of Religion (highest score=1)": 0.98,
         "Freedom of the Press (highest score=1)": 0.84,
         "GDP": -0.69043666,
         "Gender Equality (highest score=1)": 0.78,
         "Gini coefficient": 0.44447818,
         "Harassment of journalists (highest score=1)": 0.75,
         "Health equality (highest score=1)": 0.88,
         "Human Development Index": 0.868,
         "Infant mortality rate (highest score=1)": 0.97,
         "Judicial Independence (highest score=1)": 1,
         "Liberal democracy index": 0.852,
         "Life expectancy (highest score=1)": 0.9,
         "Mean years of schooling (highest score=1)": 0.39,
         "Media bias (highest score=1)": 0.96,
         "Media freedom (highest score=1)": 1,
         "Predictable Enforcement (highest score=1)": 0.9,
         "Urban population (% of total population)": 85.285,
         "Voter turnout (highest score=1)": 0.82,
         "_deepnote_index_column": 2,
         "country": "Australia",
         "year": 1992
        },
        {
         "Conflict": 0,
         "Deaths": 0,
         "Educational equality (highest score=1)": 0.8,
         "Effective Parliament (highest score=1)": 0.85,
         "Election free and fair (highest score=1)": 0.82,
         "Election government intimidation (highest score=1)": 0.85,
         "Fair trial (highest score=1)": 1,
         "Free Political Parties (highest score=1)": 0.74,
         "Free and fair elections index": 0.958,
         "Freedom of Religion (highest score=1)": 0.98,
         "Freedom of the Press (highest score=1)": 0.84,
         "GDP": 3.1237383,
         "Gender Equality (highest score=1)": 0.78,
         "Gini coefficient": 0.4511117,
         "Harassment of journalists (highest score=1)": 0.75,
         "Health equality (highest score=1)": 0.88,
         "Human Development Index": 0.873,
         "Infant mortality rate (highest score=1)": 0.98,
         "Judicial Independence (highest score=1)": 1,
         "Liberal democracy index": 0.852,
         "Life expectancy (highest score=1)": 0.91,
         "Mean years of schooling (highest score=1)": 0.4,
         "Media bias (highest score=1)": 0.96,
         "Media freedom (highest score=1)": 1,
         "Predictable Enforcement (highest score=1)": 0.9,
         "Urban population (% of total population)": 85.157,
         "Voter turnout (highest score=1)": 0.84,
         "_deepnote_index_column": 3,
         "country": "Australia",
         "year": 1993
        },
        {
         "Conflict": 0,
         "Deaths": 0,
         "Educational equality (highest score=1)": 0.8,
         "Effective Parliament (highest score=1)": 0.85,
         "Election free and fair (highest score=1)": 0.82,
         "Election government intimidation (highest score=1)": 0.85,
         "Fair trial (highest score=1)": 1,
         "Free Political Parties (highest score=1)": 0.74,
         "Free and fair elections index": 0.958,
         "Freedom of Religion (highest score=1)": 0.98,
         "Freedom of the Press (highest score=1)": 0.84,
         "GDP": 2.9830923,
         "Gender Equality (highest score=1)": 0.78,
         "Gini coefficient": 0.4553261,
         "Harassment of journalists (highest score=1)": 0.75,
         "Health equality (highest score=1)": 0.88,
         "Human Development Index": 0.873,
         "Infant mortality rate (highest score=1)": 0.98,
         "Judicial Independence (highest score=1)": 1,
         "Liberal democracy index": 0.852,
         "Life expectancy (highest score=1)": 0.91,
         "Mean years of schooling (highest score=1)": 0.4,
         "Media bias (highest score=1)": 0.96,
         "Media freedom (highest score=1)": 1,
         "Predictable Enforcement (highest score=1)": 0.9,
         "Urban population (% of total population)": 85.028,
         "Voter turnout (highest score=1)": 0.84,
         "_deepnote_index_column": 4,
         "country": "Australia",
         "year": 1994
        }
       ],
       "type": "dataframe"
      },
      "text/html": [
       "<div>\n",
       "<style scoped>\n",
       "    .dataframe tbody tr th:only-of-type {\n",
       "        vertical-align: middle;\n",
       "    }\n",
       "\n",
       "    .dataframe tbody tr th {\n",
       "        vertical-align: top;\n",
       "    }\n",
       "\n",
       "    .dataframe thead th {\n",
       "        text-align: right;\n",
       "    }\n",
       "</style>\n",
       "<table border=\"1\" class=\"dataframe\">\n",
       "  <thead>\n",
       "    <tr style=\"text-align: right;\">\n",
       "      <th></th>\n",
       "      <th>country</th>\n",
       "      <th>year</th>\n",
       "      <th>Effective Parliament (highest score=1)</th>\n",
       "      <th>Election free and fair (highest score=1)</th>\n",
       "      <th>Election government intimidation (highest score=1)</th>\n",
       "      <th>Voter turnout (highest score=1)</th>\n",
       "      <th>Fair trial (highest score=1)</th>\n",
       "      <th>Judicial Independence (highest score=1)</th>\n",
       "      <th>Predictable Enforcement (highest score=1)</th>\n",
       "      <th>Freedom of Religion (highest score=1)</th>\n",
       "      <th>...</th>\n",
       "      <th>Life expectancy (highest score=1)</th>\n",
       "      <th>Mean years of schooling (highest score=1)</th>\n",
       "      <th>Human Development Index</th>\n",
       "      <th>Urban population (% of total population)</th>\n",
       "      <th>Gini coefficient</th>\n",
       "      <th>GDP</th>\n",
       "      <th>Conflict</th>\n",
       "      <th>Deaths</th>\n",
       "      <th>Free and fair elections index</th>\n",
       "      <th>Liberal democracy index</th>\n",
       "    </tr>\n",
       "  </thead>\n",
       "  <tbody>\n",
       "    <tr>\n",
       "      <th>0</th>\n",
       "      <td>Australia</td>\n",
       "      <td>1990</td>\n",
       "      <td>0.85</td>\n",
       "      <td>0.82</td>\n",
       "      <td>0.85</td>\n",
       "      <td>0.82</td>\n",
       "      <td>1.0</td>\n",
       "      <td>1.0</td>\n",
       "      <td>0.9</td>\n",
       "      <td>0.98</td>\n",
       "      <td>...</td>\n",
       "      <td>0.90</td>\n",
       "      <td>0.39</td>\n",
       "      <td>0.864</td>\n",
       "      <td>85.433</td>\n",
       "      <td>0.437959</td>\n",
       "      <td>2.057392</td>\n",
       "      <td>0</td>\n",
       "      <td>0</td>\n",
       "      <td>0.956</td>\n",
       "      <td>0.852</td>\n",
       "    </tr>\n",
       "    <tr>\n",
       "      <th>1</th>\n",
       "      <td>Australia</td>\n",
       "      <td>1991</td>\n",
       "      <td>0.85</td>\n",
       "      <td>0.82</td>\n",
       "      <td>0.85</td>\n",
       "      <td>0.82</td>\n",
       "      <td>1.0</td>\n",
       "      <td>1.0</td>\n",
       "      <td>0.9</td>\n",
       "      <td>0.98</td>\n",
       "      <td>...</td>\n",
       "      <td>0.90</td>\n",
       "      <td>0.39</td>\n",
       "      <td>0.866</td>\n",
       "      <td>85.403</td>\n",
       "      <td>0.449667</td>\n",
       "      <td>-1.643571</td>\n",
       "      <td>0</td>\n",
       "      <td>0</td>\n",
       "      <td>0.956</td>\n",
       "      <td>0.852</td>\n",
       "    </tr>\n",
       "    <tr>\n",
       "      <th>2</th>\n",
       "      <td>Australia</td>\n",
       "      <td>1992</td>\n",
       "      <td>0.85</td>\n",
       "      <td>0.82</td>\n",
       "      <td>0.85</td>\n",
       "      <td>0.82</td>\n",
       "      <td>1.0</td>\n",
       "      <td>1.0</td>\n",
       "      <td>0.9</td>\n",
       "      <td>0.98</td>\n",
       "      <td>...</td>\n",
       "      <td>0.90</td>\n",
       "      <td>0.39</td>\n",
       "      <td>0.868</td>\n",
       "      <td>85.285</td>\n",
       "      <td>0.444478</td>\n",
       "      <td>-0.690437</td>\n",
       "      <td>0</td>\n",
       "      <td>0</td>\n",
       "      <td>0.956</td>\n",
       "      <td>0.852</td>\n",
       "    </tr>\n",
       "    <tr>\n",
       "      <th>3</th>\n",
       "      <td>Australia</td>\n",
       "      <td>1993</td>\n",
       "      <td>0.85</td>\n",
       "      <td>0.82</td>\n",
       "      <td>0.85</td>\n",
       "      <td>0.84</td>\n",
       "      <td>1.0</td>\n",
       "      <td>1.0</td>\n",
       "      <td>0.9</td>\n",
       "      <td>0.98</td>\n",
       "      <td>...</td>\n",
       "      <td>0.91</td>\n",
       "      <td>0.40</td>\n",
       "      <td>0.873</td>\n",
       "      <td>85.157</td>\n",
       "      <td>0.451112</td>\n",
       "      <td>3.123738</td>\n",
       "      <td>0</td>\n",
       "      <td>0</td>\n",
       "      <td>0.958</td>\n",
       "      <td>0.852</td>\n",
       "    </tr>\n",
       "    <tr>\n",
       "      <th>4</th>\n",
       "      <td>Australia</td>\n",
       "      <td>1994</td>\n",
       "      <td>0.85</td>\n",
       "      <td>0.82</td>\n",
       "      <td>0.85</td>\n",
       "      <td>0.84</td>\n",
       "      <td>1.0</td>\n",
       "      <td>1.0</td>\n",
       "      <td>0.9</td>\n",
       "      <td>0.98</td>\n",
       "      <td>...</td>\n",
       "      <td>0.91</td>\n",
       "      <td>0.40</td>\n",
       "      <td>0.873</td>\n",
       "      <td>85.028</td>\n",
       "      <td>0.455326</td>\n",
       "      <td>2.983092</td>\n",
       "      <td>0</td>\n",
       "      <td>0</td>\n",
       "      <td>0.958</td>\n",
       "      <td>0.852</td>\n",
       "    </tr>\n",
       "  </tbody>\n",
       "</table>\n",
       "<p>5 rows × 29 columns</p>\n",
       "</div>"
      ],
      "text/plain": [
       "     country  year  Effective Parliament (highest score=1)  \\\n",
       "0  Australia  1990                                    0.85   \n",
       "1  Australia  1991                                    0.85   \n",
       "2  Australia  1992                                    0.85   \n",
       "3  Australia  1993                                    0.85   \n",
       "4  Australia  1994                                    0.85   \n",
       "\n",
       "   Election free and fair (highest score=1)  \\\n",
       "0                                      0.82   \n",
       "1                                      0.82   \n",
       "2                                      0.82   \n",
       "3                                      0.82   \n",
       "4                                      0.82   \n",
       "\n",
       "   Election government intimidation (highest score=1)  \\\n",
       "0                                               0.85    \n",
       "1                                               0.85    \n",
       "2                                               0.85    \n",
       "3                                               0.85    \n",
       "4                                               0.85    \n",
       "\n",
       "   Voter turnout (highest score=1)  Fair trial (highest score=1)  \\\n",
       "0                             0.82                           1.0   \n",
       "1                             0.82                           1.0   \n",
       "2                             0.82                           1.0   \n",
       "3                             0.84                           1.0   \n",
       "4                             0.84                           1.0   \n",
       "\n",
       "   Judicial Independence (highest score=1)  \\\n",
       "0                                      1.0   \n",
       "1                                      1.0   \n",
       "2                                      1.0   \n",
       "3                                      1.0   \n",
       "4                                      1.0   \n",
       "\n",
       "   Predictable Enforcement (highest score=1)  \\\n",
       "0                                        0.9   \n",
       "1                                        0.9   \n",
       "2                                        0.9   \n",
       "3                                        0.9   \n",
       "4                                        0.9   \n",
       "\n",
       "   Freedom of Religion (highest score=1)  ...  \\\n",
       "0                                   0.98  ...   \n",
       "1                                   0.98  ...   \n",
       "2                                   0.98  ...   \n",
       "3                                   0.98  ...   \n",
       "4                                   0.98  ...   \n",
       "\n",
       "   Life expectancy (highest score=1)  \\\n",
       "0                               0.90   \n",
       "1                               0.90   \n",
       "2                               0.90   \n",
       "3                               0.91   \n",
       "4                               0.91   \n",
       "\n",
       "   Mean years of schooling (highest score=1)  Human Development Index  \\\n",
       "0                                       0.39                    0.864   \n",
       "1                                       0.39                    0.866   \n",
       "2                                       0.39                    0.868   \n",
       "3                                       0.40                    0.873   \n",
       "4                                       0.40                    0.873   \n",
       "\n",
       "   Urban population (% of total population)  Gini coefficient       GDP  \\\n",
       "0                                    85.433          0.437959  2.057392   \n",
       "1                                    85.403          0.449667 -1.643571   \n",
       "2                                    85.285          0.444478 -0.690437   \n",
       "3                                    85.157          0.451112  3.123738   \n",
       "4                                    85.028          0.455326  2.983092   \n",
       "\n",
       "   Conflict  Deaths  Free and fair elections index  Liberal democracy index  \n",
       "0         0       0                          0.956                    0.852  \n",
       "1         0       0                          0.956                    0.852  \n",
       "2         0       0                          0.956                    0.852  \n",
       "3         0       0                          0.958                    0.852  \n",
       "4         0       0                          0.958                    0.852  \n",
       "\n",
       "[5 rows x 29 columns]"
      ]
     },
     "execution_count": 14,
     "metadata": {},
     "output_type": "execute_result"
    }
   ],
   "source": [
    "# Merge the df_combined & Democratic_Factors DataFrames\n",
    "df_combined = pd.merge(df_combined, Democratic_Factors, on=['country', 'year'], how='outer')\n",
    "df_combined.head()"
   ]
  },
  {
   "cell_type": "code",
   "execution_count": null,
   "metadata": {
    "cell_id": "b1f5741787db4e70b11cfc63f2f6e29c",
    "deepnote_cell_type": "code",
    "execution_context_id": "69995baa-2f72-4ad6-a6e3-c8e557c14158",
    "execution_millis": 84,
    "execution_start": 1742317463008,
    "id": "e0781a96",
    "outputId": "2cc3d68d-fd89-4aa5-8592-87306e12830b",
    "source_hash": "20085ef1"
   },
   "outputs": [
    {
     "data": {
      "application/vnd.deepnote.dataframe.v3+json": {
       "column_count": 30,
       "columns": [
        {
         "dtype": "object",
         "name": "country",
         "stats": {
          "categories": [
           {
            "count": 5,
            "name": "Australia"
           }
          ],
          "nan_count": 0,
          "unique_count": 1
         }
        },
        {
         "dtype": "int64",
         "name": "year",
         "stats": {
          "histogram": [
           {
            "bin_end": 1990.4,
            "bin_start": 1990,
            "count": 1
           },
           {
            "bin_end": 1990.8,
            "bin_start": 1990.4,
            "count": 0
           },
           {
            "bin_end": 1991.2,
            "bin_start": 1990.8,
            "count": 1
           },
           {
            "bin_end": 1991.6,
            "bin_start": 1991.2,
            "count": 0
           },
           {
            "bin_end": 1992,
            "bin_start": 1991.6,
            "count": 0
           },
           {
            "bin_end": 1992.4,
            "bin_start": 1992,
            "count": 1
           },
           {
            "bin_end": 1992.8,
            "bin_start": 1992.4,
            "count": 0
           },
           {
            "bin_end": 1993.2,
            "bin_start": 1992.8,
            "count": 1
           },
           {
            "bin_end": 1993.6,
            "bin_start": 1993.2,
            "count": 0
           },
           {
            "bin_end": 1994,
            "bin_start": 1993.6,
            "count": 1
           }
          ],
          "max": "1994",
          "min": "1990",
          "nan_count": 0,
          "unique_count": 5
         }
        },
        {
         "dtype": "float64",
         "name": "Effective Parliament (highest score=1)",
         "stats": {
          "histogram": [
           {
            "bin_end": 0.44999999999999996,
            "bin_start": 0.35,
            "count": 0
           },
           {
            "bin_end": 0.55,
            "bin_start": 0.44999999999999996,
            "count": 0
           },
           {
            "bin_end": 0.65,
            "bin_start": 0.55,
            "count": 0
           },
           {
            "bin_end": 0.75,
            "bin_start": 0.65,
            "count": 0
           },
           {
            "bin_end": 0.85,
            "bin_start": 0.75,
            "count": 0
           },
           {
            "bin_end": 0.9500000000000001,
            "bin_start": 0.85,
            "count": 5
           },
           {
            "bin_end": 1.05,
            "bin_start": 0.9500000000000001,
            "count": 0
           },
           {
            "bin_end": 1.15,
            "bin_start": 1.05,
            "count": 0
           },
           {
            "bin_end": 1.25,
            "bin_start": 1.15,
            "count": 0
           },
           {
            "bin_end": 1.35,
            "bin_start": 1.25,
            "count": 0
           }
          ],
          "max": "0.85",
          "min": "0.85",
          "nan_count": 0,
          "unique_count": 1
         }
        },
        {
         "dtype": "float64",
         "name": "Election free and fair (highest score=1)",
         "stats": {
          "histogram": [
           {
            "bin_end": 0.41999999999999993,
            "bin_start": 0.31999999999999995,
            "count": 0
           },
           {
            "bin_end": 0.5199999999999999,
            "bin_start": 0.41999999999999993,
            "count": 0
           },
           {
            "bin_end": 0.6199999999999999,
            "bin_start": 0.5199999999999999,
            "count": 0
           },
           {
            "bin_end": 0.72,
            "bin_start": 0.6199999999999999,
            "count": 0
           },
           {
            "bin_end": 0.8199999999999998,
            "bin_start": 0.72,
            "count": 0
           },
           {
            "bin_end": 0.9199999999999999,
            "bin_start": 0.8199999999999998,
            "count": 5
           },
           {
            "bin_end": 1.02,
            "bin_start": 0.9199999999999999,
            "count": 0
           },
           {
            "bin_end": 1.1199999999999999,
            "bin_start": 1.02,
            "count": 0
           },
           {
            "bin_end": 1.2199999999999998,
            "bin_start": 1.1199999999999999,
            "count": 0
           },
           {
            "bin_end": 1.3199999999999998,
            "bin_start": 1.2199999999999998,
            "count": 0
           }
          ],
          "max": "0.82",
          "min": "0.82",
          "nan_count": 0,
          "unique_count": 1
         }
        },
        {
         "dtype": "float64",
         "name": "Election government intimidation (highest score=1)",
         "stats": {
          "histogram": [
           {
            "bin_end": 0.44999999999999996,
            "bin_start": 0.35,
            "count": 0
           },
           {
            "bin_end": 0.55,
            "bin_start": 0.44999999999999996,
            "count": 0
           },
           {
            "bin_end": 0.65,
            "bin_start": 0.55,
            "count": 0
           },
           {
            "bin_end": 0.75,
            "bin_start": 0.65,
            "count": 0
           },
           {
            "bin_end": 0.85,
            "bin_start": 0.75,
            "count": 0
           },
           {
            "bin_end": 0.9500000000000001,
            "bin_start": 0.85,
            "count": 5
           },
           {
            "bin_end": 1.05,
            "bin_start": 0.9500000000000001,
            "count": 0
           },
           {
            "bin_end": 1.15,
            "bin_start": 1.05,
            "count": 0
           },
           {
            "bin_end": 1.25,
            "bin_start": 1.15,
            "count": 0
           },
           {
            "bin_end": 1.35,
            "bin_start": 1.25,
            "count": 0
           }
          ],
          "max": "0.85",
          "min": "0.85",
          "nan_count": 0,
          "unique_count": 1
         }
        },
        {
         "dtype": "float64",
         "name": "Voter turnout (highest score=1)",
         "stats": {
          "histogram": [
           {
            "bin_end": 0.822,
            "bin_start": 0.82,
            "count": 3
           },
           {
            "bin_end": 0.824,
            "bin_start": 0.822,
            "count": 0
           },
           {
            "bin_end": 0.826,
            "bin_start": 0.824,
            "count": 0
           },
           {
            "bin_end": 0.828,
            "bin_start": 0.826,
            "count": 0
           },
           {
            "bin_end": 0.83,
            "bin_start": 0.828,
            "count": 0
           },
           {
            "bin_end": 0.832,
            "bin_start": 0.83,
            "count": 0
           },
           {
            "bin_end": 0.834,
            "bin_start": 0.832,
            "count": 0
           },
           {
            "bin_end": 0.836,
            "bin_start": 0.834,
            "count": 0
           },
           {
            "bin_end": 0.838,
            "bin_start": 0.836,
            "count": 0
           },
           {
            "bin_end": 0.84,
            "bin_start": 0.838,
            "count": 2
           }
          ],
          "max": "0.84",
          "min": "0.82",
          "nan_count": 0,
          "unique_count": 2
         }
        },
        {
         "dtype": "float64",
         "name": "Fair trial (highest score=1)",
         "stats": {
          "histogram": [
           {
            "bin_end": 0.6,
            "bin_start": 0.5,
            "count": 0
           },
           {
            "bin_end": 0.7,
            "bin_start": 0.6,
            "count": 0
           },
           {
            "bin_end": 0.8,
            "bin_start": 0.7,
            "count": 0
           },
           {
            "bin_end": 0.9,
            "bin_start": 0.8,
            "count": 0
           },
           {
            "bin_end": 1,
            "bin_start": 0.9,
            "count": 0
           },
           {
            "bin_end": 1.1,
            "bin_start": 1,
            "count": 5
           },
           {
            "bin_end": 1.2000000000000002,
            "bin_start": 1.1,
            "count": 0
           },
           {
            "bin_end": 1.3,
            "bin_start": 1.2000000000000002,
            "count": 0
           },
           {
            "bin_end": 1.4,
            "bin_start": 1.3,
            "count": 0
           },
           {
            "bin_end": 1.5,
            "bin_start": 1.4,
            "count": 0
           }
          ],
          "max": "1.0",
          "min": "1.0",
          "nan_count": 0,
          "unique_count": 1
         }
        },
        {
         "dtype": "float64",
         "name": "Judicial Independence (highest score=1)",
         "stats": {
          "histogram": [
           {
            "bin_end": 0.6,
            "bin_start": 0.5,
            "count": 0
           },
           {
            "bin_end": 0.7,
            "bin_start": 0.6,
            "count": 0
           },
           {
            "bin_end": 0.8,
            "bin_start": 0.7,
            "count": 0
           },
           {
            "bin_end": 0.9,
            "bin_start": 0.8,
            "count": 0
           },
           {
            "bin_end": 1,
            "bin_start": 0.9,
            "count": 0
           },
           {
            "bin_end": 1.1,
            "bin_start": 1,
            "count": 5
           },
           {
            "bin_end": 1.2000000000000002,
            "bin_start": 1.1,
            "count": 0
           },
           {
            "bin_end": 1.3,
            "bin_start": 1.2000000000000002,
            "count": 0
           },
           {
            "bin_end": 1.4,
            "bin_start": 1.3,
            "count": 0
           },
           {
            "bin_end": 1.5,
            "bin_start": 1.4,
            "count": 0
           }
          ],
          "max": "1.0",
          "min": "1.0",
          "nan_count": 0,
          "unique_count": 1
         }
        },
        {
         "dtype": "float64",
         "name": "Predictable Enforcement (highest score=1)",
         "stats": {
          "histogram": [
           {
            "bin_end": 0.5,
            "bin_start": 0.4,
            "count": 0
           },
           {
            "bin_end": 0.6,
            "bin_start": 0.5,
            "count": 0
           },
           {
            "bin_end": 0.7,
            "bin_start": 0.6,
            "count": 0
           },
           {
            "bin_end": 0.8,
            "bin_start": 0.7,
            "count": 0
           },
           {
            "bin_end": 0.8999999999999999,
            "bin_start": 0.8,
            "count": 0
           },
           {
            "bin_end": 1,
            "bin_start": 0.8999999999999999,
            "count": 5
           },
           {
            "bin_end": 1.1,
            "bin_start": 1,
            "count": 0
           },
           {
            "bin_end": 1.2,
            "bin_start": 1.1,
            "count": 0
           },
           {
            "bin_end": 1.2999999999999998,
            "bin_start": 1.2,
            "count": 0
           },
           {
            "bin_end": 1.4,
            "bin_start": 1.2999999999999998,
            "count": 0
           }
          ],
          "max": "0.9",
          "min": "0.9",
          "nan_count": 0,
          "unique_count": 1
         }
        },
        {
         "dtype": "float64",
         "name": "Freedom of Religion (highest score=1)",
         "stats": {
          "histogram": [
           {
            "bin_end": 0.58,
            "bin_start": 0.48,
            "count": 0
           },
           {
            "bin_end": 0.6799999999999999,
            "bin_start": 0.58,
            "count": 0
           },
           {
            "bin_end": 0.78,
            "bin_start": 0.6799999999999999,
            "count": 0
           },
           {
            "bin_end": 0.88,
            "bin_start": 0.78,
            "count": 0
           },
           {
            "bin_end": 0.98,
            "bin_start": 0.88,
            "count": 0
           },
           {
            "bin_end": 1.08,
            "bin_start": 0.98,
            "count": 5
           },
           {
            "bin_end": 1.1800000000000002,
            "bin_start": 1.08,
            "count": 0
           },
           {
            "bin_end": 1.28,
            "bin_start": 1.1800000000000002,
            "count": 0
           },
           {
            "bin_end": 1.38,
            "bin_start": 1.28,
            "count": 0
           },
           {
            "bin_end": 1.48,
            "bin_start": 1.38,
            "count": 0
           }
          ],
          "max": "0.98",
          "min": "0.98",
          "nan_count": 0,
          "unique_count": 1
         }
        },
        {
         "dtype": "float64",
         "name": "Free Political Parties (highest score=1)",
         "stats": {
          "histogram": [
           {
            "bin_end": 0.33999999999999997,
            "bin_start": 0.24,
            "count": 0
           },
           {
            "bin_end": 0.44,
            "bin_start": 0.33999999999999997,
            "count": 0
           },
           {
            "bin_end": 0.54,
            "bin_start": 0.44,
            "count": 0
           },
           {
            "bin_end": 0.64,
            "bin_start": 0.54,
            "count": 0
           },
           {
            "bin_end": 0.74,
            "bin_start": 0.64,
            "count": 0
           },
           {
            "bin_end": 0.8400000000000001,
            "bin_start": 0.74,
            "count": 5
           },
           {
            "bin_end": 0.9400000000000001,
            "bin_start": 0.8400000000000001,
            "count": 0
           },
           {
            "bin_end": 1.04,
            "bin_start": 0.9400000000000001,
            "count": 0
           },
           {
            "bin_end": 1.1400000000000001,
            "bin_start": 1.04,
            "count": 0
           },
           {
            "bin_end": 1.24,
            "bin_start": 1.1400000000000001,
            "count": 0
           }
          ],
          "max": "0.74",
          "min": "0.74",
          "nan_count": 0,
          "unique_count": 1
         }
        },
        {
         "dtype": "float64",
         "name": "Harassment of journalists (highest score=1)",
         "stats": {
          "histogram": [
           {
            "bin_end": 0.35,
            "bin_start": 0.25,
            "count": 0
           },
           {
            "bin_end": 0.45,
            "bin_start": 0.35,
            "count": 0
           },
           {
            "bin_end": 0.55,
            "bin_start": 0.45,
            "count": 0
           },
           {
            "bin_end": 0.65,
            "bin_start": 0.55,
            "count": 0
           },
           {
            "bin_end": 0.75,
            "bin_start": 0.65,
            "count": 0
           },
           {
            "bin_end": 0.8500000000000001,
            "bin_start": 0.75,
            "count": 5
           },
           {
            "bin_end": 0.9500000000000001,
            "bin_start": 0.8500000000000001,
            "count": 0
           },
           {
            "bin_end": 1.05,
            "bin_start": 0.9500000000000001,
            "count": 0
           },
           {
            "bin_end": 1.15,
            "bin_start": 1.05,
            "count": 0
           },
           {
            "bin_end": 1.25,
            "bin_start": 1.15,
            "count": 0
           }
          ],
          "max": "0.75",
          "min": "0.75",
          "nan_count": 0,
          "unique_count": 1
         }
        },
        {
         "dtype": "float64",
         "name": "Media bias (highest score=1)",
         "stats": {
          "histogram": [
           {
            "bin_end": 0.5599999999999999,
            "bin_start": 0.45999999999999996,
            "count": 0
           },
           {
            "bin_end": 0.6599999999999999,
            "bin_start": 0.5599999999999999,
            "count": 0
           },
           {
            "bin_end": 0.76,
            "bin_start": 0.6599999999999999,
            "count": 0
           },
           {
            "bin_end": 0.86,
            "bin_start": 0.76,
            "count": 0
           },
           {
            "bin_end": 0.96,
            "bin_start": 0.86,
            "count": 0
           },
           {
            "bin_end": 1.06,
            "bin_start": 0.96,
            "count": 5
           },
           {
            "bin_end": 1.1600000000000001,
            "bin_start": 1.06,
            "count": 0
           },
           {
            "bin_end": 1.26,
            "bin_start": 1.1600000000000001,
            "count": 0
           },
           {
            "bin_end": 1.3599999999999999,
            "bin_start": 1.26,
            "count": 0
           },
           {
            "bin_end": 1.46,
            "bin_start": 1.3599999999999999,
            "count": 0
           }
          ],
          "max": "0.96",
          "min": "0.96",
          "nan_count": 0,
          "unique_count": 1
         }
        },
        {
         "dtype": "float64",
         "name": "Media freedom (highest score=1)",
         "stats": {
          "histogram": [
           {
            "bin_end": 0.6,
            "bin_start": 0.5,
            "count": 0
           },
           {
            "bin_end": 0.7,
            "bin_start": 0.6,
            "count": 0
           },
           {
            "bin_end": 0.8,
            "bin_start": 0.7,
            "count": 0
           },
           {
            "bin_end": 0.9,
            "bin_start": 0.8,
            "count": 0
           },
           {
            "bin_end": 1,
            "bin_start": 0.9,
            "count": 0
           },
           {
            "bin_end": 1.1,
            "bin_start": 1,
            "count": 5
           },
           {
            "bin_end": 1.2000000000000002,
            "bin_start": 1.1,
            "count": 0
           },
           {
            "bin_end": 1.3,
            "bin_start": 1.2000000000000002,
            "count": 0
           },
           {
            "bin_end": 1.4,
            "bin_start": 1.3,
            "count": 0
           },
           {
            "bin_end": 1.5,
            "bin_start": 1.4,
            "count": 0
           }
          ],
          "max": "1.0",
          "min": "1.0",
          "nan_count": 0,
          "unique_count": 1
         }
        },
        {
         "dtype": "float64",
         "name": "Freedom of the Press (highest score=1)",
         "stats": {
          "histogram": [
           {
            "bin_end": 0.43999999999999995,
            "bin_start": 0.33999999999999997,
            "count": 0
           },
           {
            "bin_end": 0.5399999999999999,
            "bin_start": 0.43999999999999995,
            "count": 0
           },
           {
            "bin_end": 0.6399999999999999,
            "bin_start": 0.5399999999999999,
            "count": 0
           },
           {
            "bin_end": 0.74,
            "bin_start": 0.6399999999999999,
            "count": 0
           },
           {
            "bin_end": 0.8399999999999999,
            "bin_start": 0.74,
            "count": 0
           },
           {
            "bin_end": 0.94,
            "bin_start": 0.8399999999999999,
            "count": 5
           },
           {
            "bin_end": 1.04,
            "bin_start": 0.94,
            "count": 0
           },
           {
            "bin_end": 1.14,
            "bin_start": 1.04,
            "count": 0
           },
           {
            "bin_end": 1.2399999999999998,
            "bin_start": 1.14,
            "count": 0
           },
           {
            "bin_end": 1.3399999999999999,
            "bin_start": 1.2399999999999998,
            "count": 0
           }
          ],
          "max": "0.84",
          "min": "0.84",
          "nan_count": 0,
          "unique_count": 1
         }
        },
        {
         "dtype": "float64",
         "name": "Gender Equality (highest score=1)",
         "stats": {
          "histogram": [
           {
            "bin_end": 0.38,
            "bin_start": 0.28,
            "count": 0
           },
           {
            "bin_end": 0.48000000000000004,
            "bin_start": 0.38,
            "count": 0
           },
           {
            "bin_end": 0.5800000000000001,
            "bin_start": 0.48000000000000004,
            "count": 0
           },
           {
            "bin_end": 0.68,
            "bin_start": 0.5800000000000001,
            "count": 0
           },
           {
            "bin_end": 0.78,
            "bin_start": 0.68,
            "count": 0
           },
           {
            "bin_end": 0.8800000000000001,
            "bin_start": 0.78,
            "count": 5
           },
           {
            "bin_end": 0.9800000000000001,
            "bin_start": 0.8800000000000001,
            "count": 0
           },
           {
            "bin_end": 1.08,
            "bin_start": 0.9800000000000001,
            "count": 0
           },
           {
            "bin_end": 1.1800000000000002,
            "bin_start": 1.08,
            "count": 0
           },
           {
            "bin_end": 1.28,
            "bin_start": 1.1800000000000002,
            "count": 0
           }
          ],
          "max": "0.78",
          "min": "0.78",
          "nan_count": 0,
          "unique_count": 1
         }
        },
        {
         "dtype": "float64",
         "name": "Educational equality (highest score=1)",
         "stats": {
          "histogram": [
           {
            "bin_end": 0.4,
            "bin_start": 0.30000000000000004,
            "count": 0
           },
           {
            "bin_end": 0.5,
            "bin_start": 0.4,
            "count": 0
           },
           {
            "bin_end": 0.6000000000000001,
            "bin_start": 0.5,
            "count": 0
           },
           {
            "bin_end": 0.7000000000000001,
            "bin_start": 0.6000000000000001,
            "count": 0
           },
           {
            "bin_end": 0.8,
            "bin_start": 0.7000000000000001,
            "count": 0
           },
           {
            "bin_end": 0.9000000000000001,
            "bin_start": 0.8,
            "count": 5
           },
           {
            "bin_end": 1,
            "bin_start": 0.9000000000000001,
            "count": 0
           },
           {
            "bin_end": 1.1,
            "bin_start": 1,
            "count": 0
           },
           {
            "bin_end": 1.2000000000000002,
            "bin_start": 1.1,
            "count": 0
           },
           {
            "bin_end": 1.3,
            "bin_start": 1.2000000000000002,
            "count": 0
           }
          ],
          "max": "0.8",
          "min": "0.8",
          "nan_count": 0,
          "unique_count": 1
         }
        },
        {
         "dtype": "float64",
         "name": "Health equality (highest score=1)",
         "stats": {
          "histogram": [
           {
            "bin_end": 0.48,
            "bin_start": 0.38,
            "count": 0
           },
           {
            "bin_end": 0.58,
            "bin_start": 0.48,
            "count": 0
           },
           {
            "bin_end": 0.6799999999999999,
            "bin_start": 0.58,
            "count": 0
           },
           {
            "bin_end": 0.78,
            "bin_start": 0.6799999999999999,
            "count": 0
           },
           {
            "bin_end": 0.8799999999999999,
            "bin_start": 0.78,
            "count": 0
           },
           {
            "bin_end": 0.98,
            "bin_start": 0.8799999999999999,
            "count": 5
           },
           {
            "bin_end": 1.08,
            "bin_start": 0.98,
            "count": 0
           },
           {
            "bin_end": 1.18,
            "bin_start": 1.08,
            "count": 0
           },
           {
            "bin_end": 1.2799999999999998,
            "bin_start": 1.18,
            "count": 0
           },
           {
            "bin_end": 1.38,
            "bin_start": 1.2799999999999998,
            "count": 0
           }
          ],
          "max": "0.88",
          "min": "0.88",
          "nan_count": 0,
          "unique_count": 1
         }
        },
        {
         "dtype": "float64",
         "name": "Infant mortality rate (highest score=1)",
         "stats": {
          "histogram": [
           {
            "bin_end": 0.971,
            "bin_start": 0.97,
            "count": 3
           },
           {
            "bin_end": 0.972,
            "bin_start": 0.971,
            "count": 0
           },
           {
            "bin_end": 0.973,
            "bin_start": 0.972,
            "count": 0
           },
           {
            "bin_end": 0.974,
            "bin_start": 0.973,
            "count": 0
           },
           {
            "bin_end": 0.975,
            "bin_start": 0.974,
            "count": 0
           },
           {
            "bin_end": 0.976,
            "bin_start": 0.975,
            "count": 0
           },
           {
            "bin_end": 0.977,
            "bin_start": 0.976,
            "count": 0
           },
           {
            "bin_end": 0.978,
            "bin_start": 0.977,
            "count": 0
           },
           {
            "bin_end": 0.979,
            "bin_start": 0.978,
            "count": 0
           },
           {
            "bin_end": 0.98,
            "bin_start": 0.979,
            "count": 2
           }
          ],
          "max": "0.98",
          "min": "0.97",
          "nan_count": 0,
          "unique_count": 2
         }
        },
        {
         "dtype": "float64",
         "name": "Life expectancy (highest score=1)",
         "stats": {
          "histogram": [
           {
            "bin_end": 0.901,
            "bin_start": 0.9,
            "count": 3
           },
           {
            "bin_end": 0.902,
            "bin_start": 0.901,
            "count": 0
           },
           {
            "bin_end": 0.903,
            "bin_start": 0.902,
            "count": 0
           },
           {
            "bin_end": 0.904,
            "bin_start": 0.903,
            "count": 0
           },
           {
            "bin_end": 0.905,
            "bin_start": 0.904,
            "count": 0
           },
           {
            "bin_end": 0.906,
            "bin_start": 0.905,
            "count": 0
           },
           {
            "bin_end": 0.907,
            "bin_start": 0.906,
            "count": 0
           },
           {
            "bin_end": 0.908,
            "bin_start": 0.907,
            "count": 0
           },
           {
            "bin_end": 0.909,
            "bin_start": 0.908,
            "count": 0
           },
           {
            "bin_end": 0.91,
            "bin_start": 0.909,
            "count": 2
           }
          ],
          "max": "0.91",
          "min": "0.9",
          "nan_count": 0,
          "unique_count": 2
         }
        },
        {
         "dtype": "float64",
         "name": "Mean years of schooling (highest score=1)",
         "stats": {
          "histogram": [
           {
            "bin_end": 0.391,
            "bin_start": 0.39,
            "count": 3
           },
           {
            "bin_end": 0.392,
            "bin_start": 0.391,
            "count": 0
           },
           {
            "bin_end": 0.393,
            "bin_start": 0.392,
            "count": 0
           },
           {
            "bin_end": 0.394,
            "bin_start": 0.393,
            "count": 0
           },
           {
            "bin_end": 0.395,
            "bin_start": 0.394,
            "count": 0
           },
           {
            "bin_end": 0.396,
            "bin_start": 0.395,
            "count": 0
           },
           {
            "bin_end": 0.397,
            "bin_start": 0.396,
            "count": 0
           },
           {
            "bin_end": 0.398,
            "bin_start": 0.397,
            "count": 0
           },
           {
            "bin_end": 0.399,
            "bin_start": 0.398,
            "count": 0
           },
           {
            "bin_end": 0.4,
            "bin_start": 0.399,
            "count": 2
           }
          ],
          "max": "0.4",
          "min": "0.39",
          "nan_count": 0,
          "unique_count": 2
         }
        },
        {
         "dtype": "float64",
         "name": "Human Development Index",
         "stats": {
          "histogram": [
           {
            "bin_end": 0.8649,
            "bin_start": 0.864,
            "count": 1
           },
           {
            "bin_end": 0.8658,
            "bin_start": 0.8649,
            "count": 0
           },
           {
            "bin_end": 0.8667,
            "bin_start": 0.8658,
            "count": 1
           },
           {
            "bin_end": 0.8676,
            "bin_start": 0.8667,
            "count": 0
           },
           {
            "bin_end": 0.8685,
            "bin_start": 0.8676,
            "count": 1
           },
           {
            "bin_end": 0.8694,
            "bin_start": 0.8685,
            "count": 0
           },
           {
            "bin_end": 0.8703,
            "bin_start": 0.8694,
            "count": 0
           },
           {
            "bin_end": 0.8712,
            "bin_start": 0.8703,
            "count": 0
           },
           {
            "bin_end": 0.8721,
            "bin_start": 0.8712,
            "count": 0
           },
           {
            "bin_end": 0.873,
            "bin_start": 0.8721,
            "count": 2
           }
          ],
          "max": "0.873",
          "min": "0.864",
          "nan_count": 0,
          "unique_count": 4
         }
        },
        {
         "dtype": "float64",
         "name": "Urban population (% of total population)",
         "stats": {
          "histogram": [
           {
            "bin_end": 85.0685,
            "bin_start": 85.028,
            "count": 1
           },
           {
            "bin_end": 85.10900000000001,
            "bin_start": 85.0685,
            "count": 0
           },
           {
            "bin_end": 85.1495,
            "bin_start": 85.10900000000001,
            "count": 0
           },
           {
            "bin_end": 85.19000000000001,
            "bin_start": 85.1495,
            "count": 1
           },
           {
            "bin_end": 85.2305,
            "bin_start": 85.19000000000001,
            "count": 0
           },
           {
            "bin_end": 85.271,
            "bin_start": 85.2305,
            "count": 0
           },
           {
            "bin_end": 85.31150000000001,
            "bin_start": 85.271,
            "count": 1
           },
           {
            "bin_end": 85.352,
            "bin_start": 85.31150000000001,
            "count": 0
           },
           {
            "bin_end": 85.39250000000001,
            "bin_start": 85.352,
            "count": 0
           },
           {
            "bin_end": 85.433,
            "bin_start": 85.39250000000001,
            "count": 2
           }
          ],
          "max": "85.433",
          "min": "85.028",
          "nan_count": 0,
          "unique_count": 5
         }
        },
        {
         "dtype": "float64",
         "name": "Gini coefficient",
         "stats": {
          "histogram": [
           {
            "bin_end": 0.43969532299999997,
            "bin_start": 0.43795857,
            "count": 1
           },
           {
            "bin_end": 0.441432076,
            "bin_start": 0.43969532299999997,
            "count": 0
           },
           {
            "bin_end": 0.443168829,
            "bin_start": 0.441432076,
            "count": 0
           },
           {
            "bin_end": 0.444905582,
            "bin_start": 0.443168829,
            "count": 1
           },
           {
            "bin_end": 0.446642335,
            "bin_start": 0.444905582,
            "count": 0
           },
           {
            "bin_end": 0.448379088,
            "bin_start": 0.446642335,
            "count": 0
           },
           {
            "bin_end": 0.450115841,
            "bin_start": 0.448379088,
            "count": 1
           },
           {
            "bin_end": 0.451852594,
            "bin_start": 0.450115841,
            "count": 1
           },
           {
            "bin_end": 0.45358934700000003,
            "bin_start": 0.451852594,
            "count": 0
           },
           {
            "bin_end": 0.4553261,
            "bin_start": 0.45358934700000003,
            "count": 1
           }
          ],
          "max": "0.4553261",
          "min": "0.43795857",
          "nan_count": 0,
          "unique_count": 5
         }
        },
        {
         "dtype": "float64",
         "name": "GDP",
         "stats": {
          "histogram": [
           {
            "bin_end": -1.16684016,
            "bin_start": -1.6435711,
            "count": 1
           },
           {
            "bin_end": -0.6901092199999999,
            "bin_start": -1.16684016,
            "count": 1
           },
           {
            "bin_end": -0.2133782799999997,
            "bin_start": -0.6901092199999999,
            "count": 0
           },
           {
            "bin_end": 0.26335266000000024,
            "bin_start": -0.2133782799999997,
            "count": 0
           },
           {
            "bin_end": 0.7400836000000002,
            "bin_start": 0.26335266000000024,
            "count": 0
           },
           {
            "bin_end": 1.2168145400000006,
            "bin_start": 0.7400836000000002,
            "count": 0
           },
           {
            "bin_end": 1.6935454800000005,
            "bin_start": 1.2168145400000006,
            "count": 0
           },
           {
            "bin_end": 2.1702764200000004,
            "bin_start": 1.6935454800000005,
            "count": 1
           },
           {
            "bin_end": 2.647007360000001,
            "bin_start": 2.1702764200000004,
            "count": 0
           },
           {
            "bin_end": 3.1237383,
            "bin_start": 2.647007360000001,
            "count": 2
           }
          ],
          "max": "3.1237383",
          "min": "-1.6435711",
          "nan_count": 0,
          "unique_count": 5
         }
        },
        {
         "dtype": "int64",
         "name": "Conflict",
         "stats": {
          "histogram": [
           {
            "bin_end": -0.4,
            "bin_start": -0.5,
            "count": 0
           },
           {
            "bin_end": -0.3,
            "bin_start": -0.4,
            "count": 0
           },
           {
            "bin_end": -0.19999999999999996,
            "bin_start": -0.3,
            "count": 0
           },
           {
            "bin_end": -0.09999999999999998,
            "bin_start": -0.19999999999999996,
            "count": 0
           },
           {
            "bin_end": 0,
            "bin_start": -0.09999999999999998,
            "count": 0
           },
           {
            "bin_end": 0.10000000000000009,
            "bin_start": 0,
            "count": 5
           },
           {
            "bin_end": 0.20000000000000007,
            "bin_start": 0.10000000000000009,
            "count": 0
           },
           {
            "bin_end": 0.30000000000000004,
            "bin_start": 0.20000000000000007,
            "count": 0
           },
           {
            "bin_end": 0.4,
            "bin_start": 0.30000000000000004,
            "count": 0
           },
           {
            "bin_end": 0.5,
            "bin_start": 0.4,
            "count": 0
           }
          ],
          "max": "0",
          "min": "0",
          "nan_count": 0,
          "unique_count": 1
         }
        },
        {
         "dtype": "int64",
         "name": "Deaths",
         "stats": {
          "histogram": [
           {
            "bin_end": -0.4,
            "bin_start": -0.5,
            "count": 0
           },
           {
            "bin_end": -0.3,
            "bin_start": -0.4,
            "count": 0
           },
           {
            "bin_end": -0.19999999999999996,
            "bin_start": -0.3,
            "count": 0
           },
           {
            "bin_end": -0.09999999999999998,
            "bin_start": -0.19999999999999996,
            "count": 0
           },
           {
            "bin_end": 0,
            "bin_start": -0.09999999999999998,
            "count": 0
           },
           {
            "bin_end": 0.10000000000000009,
            "bin_start": 0,
            "count": 5
           },
           {
            "bin_end": 0.20000000000000007,
            "bin_start": 0.10000000000000009,
            "count": 0
           },
           {
            "bin_end": 0.30000000000000004,
            "bin_start": 0.20000000000000007,
            "count": 0
           },
           {
            "bin_end": 0.4,
            "bin_start": 0.30000000000000004,
            "count": 0
           },
           {
            "bin_end": 0.5,
            "bin_start": 0.4,
            "count": 0
           }
          ],
          "max": "0",
          "min": "0",
          "nan_count": 0,
          "unique_count": 1
         }
        },
        {
         "dtype": "float64",
         "name": "Free and fair elections index",
         "stats": {
          "histogram": [
           {
            "bin_end": 0.9561999999999999,
            "bin_start": 0.956,
            "count": 3
           },
           {
            "bin_end": 0.9563999999999999,
            "bin_start": 0.9561999999999999,
            "count": 0
           },
           {
            "bin_end": 0.9566,
            "bin_start": 0.9563999999999999,
            "count": 0
           },
           {
            "bin_end": 0.9568,
            "bin_start": 0.9566,
            "count": 0
           },
           {
            "bin_end": 0.957,
            "bin_start": 0.9568,
            "count": 0
           },
           {
            "bin_end": 0.9571999999999999,
            "bin_start": 0.957,
            "count": 0
           },
           {
            "bin_end": 0.9573999999999999,
            "bin_start": 0.9571999999999999,
            "count": 0
           },
           {
            "bin_end": 0.9576,
            "bin_start": 0.9573999999999999,
            "count": 0
           },
           {
            "bin_end": 0.9578,
            "bin_start": 0.9576,
            "count": 0
           },
           {
            "bin_end": 0.958,
            "bin_start": 0.9578,
            "count": 2
           }
          ],
          "max": "0.958",
          "min": "0.956",
          "nan_count": 0,
          "unique_count": 2
         }
        },
        {
         "dtype": "float64",
         "name": "Liberal democracy index",
         "stats": {
          "histogram": [
           {
            "bin_end": 0.45199999999999996,
            "bin_start": 0.352,
            "count": 0
           },
           {
            "bin_end": 0.5519999999999999,
            "bin_start": 0.45199999999999996,
            "count": 0
           },
           {
            "bin_end": 0.6519999999999999,
            "bin_start": 0.5519999999999999,
            "count": 0
           },
           {
            "bin_end": 0.752,
            "bin_start": 0.6519999999999999,
            "count": 0
           },
           {
            "bin_end": 0.8519999999999999,
            "bin_start": 0.752,
            "count": 0
           },
           {
            "bin_end": 0.952,
            "bin_start": 0.8519999999999999,
            "count": 5
           },
           {
            "bin_end": 1.052,
            "bin_start": 0.952,
            "count": 0
           },
           {
            "bin_end": 1.152,
            "bin_start": 1.052,
            "count": 0
           },
           {
            "bin_end": 1.2519999999999998,
            "bin_start": 1.152,
            "count": 0
           },
           {
            "bin_end": 1.3519999999999999,
            "bin_start": 1.2519999999999998,
            "count": 0
           }
          ],
          "max": "0.852",
          "min": "0.852",
          "nan_count": 0,
          "unique_count": 1
         }
        },
        {
         "dtype": "float64",
         "name": "totalrefugees",
         "stats": {
          "histogram": [
           {
            "bin_end": -0.4,
            "bin_start": -0.5,
            "count": 0
           },
           {
            "bin_end": -0.3,
            "bin_start": -0.4,
            "count": 0
           },
           {
            "bin_end": -0.19999999999999996,
            "bin_start": -0.3,
            "count": 0
           },
           {
            "bin_end": -0.09999999999999998,
            "bin_start": -0.19999999999999996,
            "count": 0
           },
           {
            "bin_end": 0,
            "bin_start": -0.09999999999999998,
            "count": 0
           },
           {
            "bin_end": 0.10000000000000009,
            "bin_start": 0,
            "count": 5
           },
           {
            "bin_end": 0.20000000000000007,
            "bin_start": 0.10000000000000009,
            "count": 0
           },
           {
            "bin_end": 0.30000000000000004,
            "bin_start": 0.20000000000000007,
            "count": 0
           },
           {
            "bin_end": 0.4,
            "bin_start": 0.30000000000000004,
            "count": 0
           },
           {
            "bin_end": 0.5,
            "bin_start": 0.4,
            "count": 0
           }
          ],
          "max": "0.0",
          "min": "0.0",
          "nan_count": 0,
          "unique_count": 1
         }
        },
        {
         "dtype": "int64",
         "name": "_deepnote_index_column"
        }
       ],
       "row_count": 5,
       "rows": [
        {
         "Conflict": 0,
         "Deaths": 0,
         "Educational equality (highest score=1)": 0.8,
         "Effective Parliament (highest score=1)": 0.85,
         "Election free and fair (highest score=1)": 0.82,
         "Election government intimidation (highest score=1)": 0.85,
         "Fair trial (highest score=1)": 1,
         "Free Political Parties (highest score=1)": 0.74,
         "Free and fair elections index": 0.956,
         "Freedom of Religion (highest score=1)": 0.98,
         "Freedom of the Press (highest score=1)": 0.84,
         "GDP": 2.0573924,
         "Gender Equality (highest score=1)": 0.78,
         "Gini coefficient": 0.43795857,
         "Harassment of journalists (highest score=1)": 0.75,
         "Health equality (highest score=1)": 0.88,
         "Human Development Index": 0.864,
         "Infant mortality rate (highest score=1)": 0.97,
         "Judicial Independence (highest score=1)": 1,
         "Liberal democracy index": 0.852,
         "Life expectancy (highest score=1)": 0.9,
         "Mean years of schooling (highest score=1)": 0.39,
         "Media bias (highest score=1)": 0.96,
         "Media freedom (highest score=1)": 1,
         "Predictable Enforcement (highest score=1)": 0.9,
         "Urban population (% of total population)": 85.433,
         "Voter turnout (highest score=1)": 0.82,
         "_deepnote_index_column": 0,
         "country": "Australia",
         "totalrefugees": 0,
         "year": 1990
        },
        {
         "Conflict": 0,
         "Deaths": 0,
         "Educational equality (highest score=1)": 0.8,
         "Effective Parliament (highest score=1)": 0.85,
         "Election free and fair (highest score=1)": 0.82,
         "Election government intimidation (highest score=1)": 0.85,
         "Fair trial (highest score=1)": 1,
         "Free Political Parties (highest score=1)": 0.74,
         "Free and fair elections index": 0.956,
         "Freedom of Religion (highest score=1)": 0.98,
         "Freedom of the Press (highest score=1)": 0.84,
         "GDP": -1.6435711,
         "Gender Equality (highest score=1)": 0.78,
         "Gini coefficient": 0.44966656,
         "Harassment of journalists (highest score=1)": 0.75,
         "Health equality (highest score=1)": 0.88,
         "Human Development Index": 0.866,
         "Infant mortality rate (highest score=1)": 0.97,
         "Judicial Independence (highest score=1)": 1,
         "Liberal democracy index": 0.852,
         "Life expectancy (highest score=1)": 0.9,
         "Mean years of schooling (highest score=1)": 0.39,
         "Media bias (highest score=1)": 0.96,
         "Media freedom (highest score=1)": 1,
         "Predictable Enforcement (highest score=1)": 0.9,
         "Urban population (% of total population)": 85.403,
         "Voter turnout (highest score=1)": 0.82,
         "_deepnote_index_column": 1,
         "country": "Australia",
         "totalrefugees": 0,
         "year": 1991
        },
        {
         "Conflict": 0,
         "Deaths": 0,
         "Educational equality (highest score=1)": 0.8,
         "Effective Parliament (highest score=1)": 0.85,
         "Election free and fair (highest score=1)": 0.82,
         "Election government intimidation (highest score=1)": 0.85,
         "Fair trial (highest score=1)": 1,
         "Free Political Parties (highest score=1)": 0.74,
         "Free and fair elections index": 0.956,
         "Freedom of Religion (highest score=1)": 0.98,
         "Freedom of the Press (highest score=1)": 0.84,
         "GDP": -0.69043666,
         "Gender Equality (highest score=1)": 0.78,
         "Gini coefficient": 0.44447818,
         "Harassment of journalists (highest score=1)": 0.75,
         "Health equality (highest score=1)": 0.88,
         "Human Development Index": 0.868,
         "Infant mortality rate (highest score=1)": 0.97,
         "Judicial Independence (highest score=1)": 1,
         "Liberal democracy index": 0.852,
         "Life expectancy (highest score=1)": 0.9,
         "Mean years of schooling (highest score=1)": 0.39,
         "Media bias (highest score=1)": 0.96,
         "Media freedom (highest score=1)": 1,
         "Predictable Enforcement (highest score=1)": 0.9,
         "Urban population (% of total population)": 85.285,
         "Voter turnout (highest score=1)": 0.82,
         "_deepnote_index_column": 2,
         "country": "Australia",
         "totalrefugees": 0,
         "year": 1992
        },
        {
         "Conflict": 0,
         "Deaths": 0,
         "Educational equality (highest score=1)": 0.8,
         "Effective Parliament (highest score=1)": 0.85,
         "Election free and fair (highest score=1)": 0.82,
         "Election government intimidation (highest score=1)": 0.85,
         "Fair trial (highest score=1)": 1,
         "Free Political Parties (highest score=1)": 0.74,
         "Free and fair elections index": 0.958,
         "Freedom of Religion (highest score=1)": 0.98,
         "Freedom of the Press (highest score=1)": 0.84,
         "GDP": 3.1237383,
         "Gender Equality (highest score=1)": 0.78,
         "Gini coefficient": 0.4511117,
         "Harassment of journalists (highest score=1)": 0.75,
         "Health equality (highest score=1)": 0.88,
         "Human Development Index": 0.873,
         "Infant mortality rate (highest score=1)": 0.98,
         "Judicial Independence (highest score=1)": 1,
         "Liberal democracy index": 0.852,
         "Life expectancy (highest score=1)": 0.91,
         "Mean years of schooling (highest score=1)": 0.4,
         "Media bias (highest score=1)": 0.96,
         "Media freedom (highest score=1)": 1,
         "Predictable Enforcement (highest score=1)": 0.9,
         "Urban population (% of total population)": 85.157,
         "Voter turnout (highest score=1)": 0.84,
         "_deepnote_index_column": 3,
         "country": "Australia",
         "totalrefugees": 0,
         "year": 1993
        },
        {
         "Conflict": 0,
         "Deaths": 0,
         "Educational equality (highest score=1)": 0.8,
         "Effective Parliament (highest score=1)": 0.85,
         "Election free and fair (highest score=1)": 0.82,
         "Election government intimidation (highest score=1)": 0.85,
         "Fair trial (highest score=1)": 1,
         "Free Political Parties (highest score=1)": 0.74,
         "Free and fair elections index": 0.958,
         "Freedom of Religion (highest score=1)": 0.98,
         "Freedom of the Press (highest score=1)": 0.84,
         "GDP": 2.9830923,
         "Gender Equality (highest score=1)": 0.78,
         "Gini coefficient": 0.4553261,
         "Harassment of journalists (highest score=1)": 0.75,
         "Health equality (highest score=1)": 0.88,
         "Human Development Index": 0.873,
         "Infant mortality rate (highest score=1)": 0.98,
         "Judicial Independence (highest score=1)": 1,
         "Liberal democracy index": 0.852,
         "Life expectancy (highest score=1)": 0.91,
         "Mean years of schooling (highest score=1)": 0.4,
         "Media bias (highest score=1)": 0.96,
         "Media freedom (highest score=1)": 1,
         "Predictable Enforcement (highest score=1)": 0.9,
         "Urban population (% of total population)": 85.028,
         "Voter turnout (highest score=1)": 0.84,
         "_deepnote_index_column": 4,
         "country": "Australia",
         "totalrefugees": 0,
         "year": 1994
        }
       ],
       "type": "dataframe"
      },
      "text/html": [
       "<div>\n",
       "<style scoped>\n",
       "    .dataframe tbody tr th:only-of-type {\n",
       "        vertical-align: middle;\n",
       "    }\n",
       "\n",
       "    .dataframe tbody tr th {\n",
       "        vertical-align: top;\n",
       "    }\n",
       "\n",
       "    .dataframe thead th {\n",
       "        text-align: right;\n",
       "    }\n",
       "</style>\n",
       "<table border=\"1\" class=\"dataframe\">\n",
       "  <thead>\n",
       "    <tr style=\"text-align: right;\">\n",
       "      <th></th>\n",
       "      <th>country</th>\n",
       "      <th>year</th>\n",
       "      <th>Effective Parliament (highest score=1)</th>\n",
       "      <th>Election free and fair (highest score=1)</th>\n",
       "      <th>Election government intimidation (highest score=1)</th>\n",
       "      <th>Voter turnout (highest score=1)</th>\n",
       "      <th>Fair trial (highest score=1)</th>\n",
       "      <th>Judicial Independence (highest score=1)</th>\n",
       "      <th>Predictable Enforcement (highest score=1)</th>\n",
       "      <th>Freedom of Religion (highest score=1)</th>\n",
       "      <th>...</th>\n",
       "      <th>Mean years of schooling (highest score=1)</th>\n",
       "      <th>Human Development Index</th>\n",
       "      <th>Urban population (% of total population)</th>\n",
       "      <th>Gini coefficient</th>\n",
       "      <th>GDP</th>\n",
       "      <th>Conflict</th>\n",
       "      <th>Deaths</th>\n",
       "      <th>Free and fair elections index</th>\n",
       "      <th>Liberal democracy index</th>\n",
       "      <th>totalrefugees</th>\n",
       "    </tr>\n",
       "  </thead>\n",
       "  <tbody>\n",
       "    <tr>\n",
       "      <th>0</th>\n",
       "      <td>Australia</td>\n",
       "      <td>1990</td>\n",
       "      <td>0.85</td>\n",
       "      <td>0.82</td>\n",
       "      <td>0.85</td>\n",
       "      <td>0.82</td>\n",
       "      <td>1.0</td>\n",
       "      <td>1.0</td>\n",
       "      <td>0.9</td>\n",
       "      <td>0.98</td>\n",
       "      <td>...</td>\n",
       "      <td>0.39</td>\n",
       "      <td>0.864</td>\n",
       "      <td>85.433</td>\n",
       "      <td>0.437959</td>\n",
       "      <td>2.057392</td>\n",
       "      <td>0</td>\n",
       "      <td>0</td>\n",
       "      <td>0.956</td>\n",
       "      <td>0.852</td>\n",
       "      <td>0.0</td>\n",
       "    </tr>\n",
       "    <tr>\n",
       "      <th>1</th>\n",
       "      <td>Australia</td>\n",
       "      <td>1991</td>\n",
       "      <td>0.85</td>\n",
       "      <td>0.82</td>\n",
       "      <td>0.85</td>\n",
       "      <td>0.82</td>\n",
       "      <td>1.0</td>\n",
       "      <td>1.0</td>\n",
       "      <td>0.9</td>\n",
       "      <td>0.98</td>\n",
       "      <td>...</td>\n",
       "      <td>0.39</td>\n",
       "      <td>0.866</td>\n",
       "      <td>85.403</td>\n",
       "      <td>0.449667</td>\n",
       "      <td>-1.643571</td>\n",
       "      <td>0</td>\n",
       "      <td>0</td>\n",
       "      <td>0.956</td>\n",
       "      <td>0.852</td>\n",
       "      <td>0.0</td>\n",
       "    </tr>\n",
       "    <tr>\n",
       "      <th>2</th>\n",
       "      <td>Australia</td>\n",
       "      <td>1992</td>\n",
       "      <td>0.85</td>\n",
       "      <td>0.82</td>\n",
       "      <td>0.85</td>\n",
       "      <td>0.82</td>\n",
       "      <td>1.0</td>\n",
       "      <td>1.0</td>\n",
       "      <td>0.9</td>\n",
       "      <td>0.98</td>\n",
       "      <td>...</td>\n",
       "      <td>0.39</td>\n",
       "      <td>0.868</td>\n",
       "      <td>85.285</td>\n",
       "      <td>0.444478</td>\n",
       "      <td>-0.690437</td>\n",
       "      <td>0</td>\n",
       "      <td>0</td>\n",
       "      <td>0.956</td>\n",
       "      <td>0.852</td>\n",
       "      <td>0.0</td>\n",
       "    </tr>\n",
       "    <tr>\n",
       "      <th>3</th>\n",
       "      <td>Australia</td>\n",
       "      <td>1993</td>\n",
       "      <td>0.85</td>\n",
       "      <td>0.82</td>\n",
       "      <td>0.85</td>\n",
       "      <td>0.84</td>\n",
       "      <td>1.0</td>\n",
       "      <td>1.0</td>\n",
       "      <td>0.9</td>\n",
       "      <td>0.98</td>\n",
       "      <td>...</td>\n",
       "      <td>0.40</td>\n",
       "      <td>0.873</td>\n",
       "      <td>85.157</td>\n",
       "      <td>0.451112</td>\n",
       "      <td>3.123738</td>\n",
       "      <td>0</td>\n",
       "      <td>0</td>\n",
       "      <td>0.958</td>\n",
       "      <td>0.852</td>\n",
       "      <td>0.0</td>\n",
       "    </tr>\n",
       "    <tr>\n",
       "      <th>4</th>\n",
       "      <td>Australia</td>\n",
       "      <td>1994</td>\n",
       "      <td>0.85</td>\n",
       "      <td>0.82</td>\n",
       "      <td>0.85</td>\n",
       "      <td>0.84</td>\n",
       "      <td>1.0</td>\n",
       "      <td>1.0</td>\n",
       "      <td>0.9</td>\n",
       "      <td>0.98</td>\n",
       "      <td>...</td>\n",
       "      <td>0.40</td>\n",
       "      <td>0.873</td>\n",
       "      <td>85.028</td>\n",
       "      <td>0.455326</td>\n",
       "      <td>2.983092</td>\n",
       "      <td>0</td>\n",
       "      <td>0</td>\n",
       "      <td>0.958</td>\n",
       "      <td>0.852</td>\n",
       "      <td>0.0</td>\n",
       "    </tr>\n",
       "  </tbody>\n",
       "</table>\n",
       "<p>5 rows × 30 columns</p>\n",
       "</div>"
      ],
      "text/plain": [
       "     country  year  Effective Parliament (highest score=1)  \\\n",
       "0  Australia  1990                                    0.85   \n",
       "1  Australia  1991                                    0.85   \n",
       "2  Australia  1992                                    0.85   \n",
       "3  Australia  1993                                    0.85   \n",
       "4  Australia  1994                                    0.85   \n",
       "\n",
       "   Election free and fair (highest score=1)  \\\n",
       "0                                      0.82   \n",
       "1                                      0.82   \n",
       "2                                      0.82   \n",
       "3                                      0.82   \n",
       "4                                      0.82   \n",
       "\n",
       "   Election government intimidation (highest score=1)  \\\n",
       "0                                               0.85    \n",
       "1                                               0.85    \n",
       "2                                               0.85    \n",
       "3                                               0.85    \n",
       "4                                               0.85    \n",
       "\n",
       "   Voter turnout (highest score=1)  Fair trial (highest score=1)  \\\n",
       "0                             0.82                           1.0   \n",
       "1                             0.82                           1.0   \n",
       "2                             0.82                           1.0   \n",
       "3                             0.84                           1.0   \n",
       "4                             0.84                           1.0   \n",
       "\n",
       "   Judicial Independence (highest score=1)  \\\n",
       "0                                      1.0   \n",
       "1                                      1.0   \n",
       "2                                      1.0   \n",
       "3                                      1.0   \n",
       "4                                      1.0   \n",
       "\n",
       "   Predictable Enforcement (highest score=1)  \\\n",
       "0                                        0.9   \n",
       "1                                        0.9   \n",
       "2                                        0.9   \n",
       "3                                        0.9   \n",
       "4                                        0.9   \n",
       "\n",
       "   Freedom of Religion (highest score=1)  ...  \\\n",
       "0                                   0.98  ...   \n",
       "1                                   0.98  ...   \n",
       "2                                   0.98  ...   \n",
       "3                                   0.98  ...   \n",
       "4                                   0.98  ...   \n",
       "\n",
       "   Mean years of schooling (highest score=1)  Human Development Index  \\\n",
       "0                                       0.39                    0.864   \n",
       "1                                       0.39                    0.866   \n",
       "2                                       0.39                    0.868   \n",
       "3                                       0.40                    0.873   \n",
       "4                                       0.40                    0.873   \n",
       "\n",
       "   Urban population (% of total population)  Gini coefficient       GDP  \\\n",
       "0                                    85.433          0.437959  2.057392   \n",
       "1                                    85.403          0.449667 -1.643571   \n",
       "2                                    85.285          0.444478 -0.690437   \n",
       "3                                    85.157          0.451112  3.123738   \n",
       "4                                    85.028          0.455326  2.983092   \n",
       "\n",
       "   Conflict  Deaths  Free and fair elections index  Liberal democracy index  \\\n",
       "0         0       0                          0.956                    0.852   \n",
       "1         0       0                          0.956                    0.852   \n",
       "2         0       0                          0.956                    0.852   \n",
       "3         0       0                          0.958                    0.852   \n",
       "4         0       0                          0.958                    0.852   \n",
       "\n",
       "   totalrefugees  \n",
       "0            0.0  \n",
       "1            0.0  \n",
       "2            0.0  \n",
       "3            0.0  \n",
       "4            0.0  \n",
       "\n",
       "[5 rows x 30 columns]"
      ]
     },
     "execution_count": 15,
     "metadata": {},
     "output_type": "execute_result"
    }
   ],
   "source": [
    "# Merge the df_combined & Ethnic_Power_Relations DataFrames\n",
    "df_combined = pd.merge(df_combined, Ethnic_Power_Relations, on=['country', 'year'], how='outer')\n",
    "df_combined.head()"
   ]
  },
  {
   "cell_type": "code",
   "execution_count": null,
   "metadata": {
    "cell_id": "9bdea5887b8948539896456e4c0cb040",
    "deepnote_cell_type": "code",
    "execution_context_id": "69995baa-2f72-4ad6-a6e3-c8e557c14158",
    "execution_millis": 11,
    "execution_start": 1742317463138,
    "id": "ee7e011d",
    "outputId": "db44c62c-b8c0-4e22-ecb9-074a358f0257",
    "source_hash": "f6b6d511"
   },
   "outputs": [
    {
     "data": {
      "application/vnd.deepnote.dataframe.v3+json": {
       "column_count": 31,
       "columns": [
        {
         "dtype": "object",
         "name": "country",
         "stats": {
          "categories": [
           {
            "count": 5,
            "name": "Australia"
           }
          ],
          "nan_count": 0,
          "unique_count": 1
         }
        },
        {
         "dtype": "int64",
         "name": "year",
         "stats": {
          "histogram": [
           {
            "bin_end": 1990.4,
            "bin_start": 1990,
            "count": 1
           },
           {
            "bin_end": 1990.8,
            "bin_start": 1990.4,
            "count": 0
           },
           {
            "bin_end": 1991.2,
            "bin_start": 1990.8,
            "count": 1
           },
           {
            "bin_end": 1991.6,
            "bin_start": 1991.2,
            "count": 0
           },
           {
            "bin_end": 1992,
            "bin_start": 1991.6,
            "count": 0
           },
           {
            "bin_end": 1992.4,
            "bin_start": 1992,
            "count": 1
           },
           {
            "bin_end": 1992.8,
            "bin_start": 1992.4,
            "count": 0
           },
           {
            "bin_end": 1993.2,
            "bin_start": 1992.8,
            "count": 1
           },
           {
            "bin_end": 1993.6,
            "bin_start": 1993.2,
            "count": 0
           },
           {
            "bin_end": 1994,
            "bin_start": 1993.6,
            "count": 1
           }
          ],
          "max": "1994",
          "min": "1990",
          "nan_count": 0,
          "unique_count": 5
         }
        },
        {
         "dtype": "float64",
         "name": "Effective Parliament (highest score=1)",
         "stats": {
          "histogram": [
           {
            "bin_end": 0.44999999999999996,
            "bin_start": 0.35,
            "count": 0
           },
           {
            "bin_end": 0.55,
            "bin_start": 0.44999999999999996,
            "count": 0
           },
           {
            "bin_end": 0.65,
            "bin_start": 0.55,
            "count": 0
           },
           {
            "bin_end": 0.75,
            "bin_start": 0.65,
            "count": 0
           },
           {
            "bin_end": 0.85,
            "bin_start": 0.75,
            "count": 0
           },
           {
            "bin_end": 0.9500000000000001,
            "bin_start": 0.85,
            "count": 5
           },
           {
            "bin_end": 1.05,
            "bin_start": 0.9500000000000001,
            "count": 0
           },
           {
            "bin_end": 1.15,
            "bin_start": 1.05,
            "count": 0
           },
           {
            "bin_end": 1.25,
            "bin_start": 1.15,
            "count": 0
           },
           {
            "bin_end": 1.35,
            "bin_start": 1.25,
            "count": 0
           }
          ],
          "max": "0.85",
          "min": "0.85",
          "nan_count": 0,
          "unique_count": 1
         }
        },
        {
         "dtype": "float64",
         "name": "Election free and fair (highest score=1)",
         "stats": {
          "histogram": [
           {
            "bin_end": 0.41999999999999993,
            "bin_start": 0.31999999999999995,
            "count": 0
           },
           {
            "bin_end": 0.5199999999999999,
            "bin_start": 0.41999999999999993,
            "count": 0
           },
           {
            "bin_end": 0.6199999999999999,
            "bin_start": 0.5199999999999999,
            "count": 0
           },
           {
            "bin_end": 0.72,
            "bin_start": 0.6199999999999999,
            "count": 0
           },
           {
            "bin_end": 0.8199999999999998,
            "bin_start": 0.72,
            "count": 0
           },
           {
            "bin_end": 0.9199999999999999,
            "bin_start": 0.8199999999999998,
            "count": 5
           },
           {
            "bin_end": 1.02,
            "bin_start": 0.9199999999999999,
            "count": 0
           },
           {
            "bin_end": 1.1199999999999999,
            "bin_start": 1.02,
            "count": 0
           },
           {
            "bin_end": 1.2199999999999998,
            "bin_start": 1.1199999999999999,
            "count": 0
           },
           {
            "bin_end": 1.3199999999999998,
            "bin_start": 1.2199999999999998,
            "count": 0
           }
          ],
          "max": "0.82",
          "min": "0.82",
          "nan_count": 0,
          "unique_count": 1
         }
        },
        {
         "dtype": "float64",
         "name": "Election government intimidation (highest score=1)",
         "stats": {
          "histogram": [
           {
            "bin_end": 0.44999999999999996,
            "bin_start": 0.35,
            "count": 0
           },
           {
            "bin_end": 0.55,
            "bin_start": 0.44999999999999996,
            "count": 0
           },
           {
            "bin_end": 0.65,
            "bin_start": 0.55,
            "count": 0
           },
           {
            "bin_end": 0.75,
            "bin_start": 0.65,
            "count": 0
           },
           {
            "bin_end": 0.85,
            "bin_start": 0.75,
            "count": 0
           },
           {
            "bin_end": 0.9500000000000001,
            "bin_start": 0.85,
            "count": 5
           },
           {
            "bin_end": 1.05,
            "bin_start": 0.9500000000000001,
            "count": 0
           },
           {
            "bin_end": 1.15,
            "bin_start": 1.05,
            "count": 0
           },
           {
            "bin_end": 1.25,
            "bin_start": 1.15,
            "count": 0
           },
           {
            "bin_end": 1.35,
            "bin_start": 1.25,
            "count": 0
           }
          ],
          "max": "0.85",
          "min": "0.85",
          "nan_count": 0,
          "unique_count": 1
         }
        },
        {
         "dtype": "float64",
         "name": "Voter turnout (highest score=1)",
         "stats": {
          "histogram": [
           {
            "bin_end": 0.822,
            "bin_start": 0.82,
            "count": 3
           },
           {
            "bin_end": 0.824,
            "bin_start": 0.822,
            "count": 0
           },
           {
            "bin_end": 0.826,
            "bin_start": 0.824,
            "count": 0
           },
           {
            "bin_end": 0.828,
            "bin_start": 0.826,
            "count": 0
           },
           {
            "bin_end": 0.83,
            "bin_start": 0.828,
            "count": 0
           },
           {
            "bin_end": 0.832,
            "bin_start": 0.83,
            "count": 0
           },
           {
            "bin_end": 0.834,
            "bin_start": 0.832,
            "count": 0
           },
           {
            "bin_end": 0.836,
            "bin_start": 0.834,
            "count": 0
           },
           {
            "bin_end": 0.838,
            "bin_start": 0.836,
            "count": 0
           },
           {
            "bin_end": 0.84,
            "bin_start": 0.838,
            "count": 2
           }
          ],
          "max": "0.84",
          "min": "0.82",
          "nan_count": 0,
          "unique_count": 2
         }
        },
        {
         "dtype": "float64",
         "name": "Fair trial (highest score=1)",
         "stats": {
          "histogram": [
           {
            "bin_end": 0.6,
            "bin_start": 0.5,
            "count": 0
           },
           {
            "bin_end": 0.7,
            "bin_start": 0.6,
            "count": 0
           },
           {
            "bin_end": 0.8,
            "bin_start": 0.7,
            "count": 0
           },
           {
            "bin_end": 0.9,
            "bin_start": 0.8,
            "count": 0
           },
           {
            "bin_end": 1,
            "bin_start": 0.9,
            "count": 0
           },
           {
            "bin_end": 1.1,
            "bin_start": 1,
            "count": 5
           },
           {
            "bin_end": 1.2000000000000002,
            "bin_start": 1.1,
            "count": 0
           },
           {
            "bin_end": 1.3,
            "bin_start": 1.2000000000000002,
            "count": 0
           },
           {
            "bin_end": 1.4,
            "bin_start": 1.3,
            "count": 0
           },
           {
            "bin_end": 1.5,
            "bin_start": 1.4,
            "count": 0
           }
          ],
          "max": "1.0",
          "min": "1.0",
          "nan_count": 0,
          "unique_count": 1
         }
        },
        {
         "dtype": "float64",
         "name": "Judicial Independence (highest score=1)",
         "stats": {
          "histogram": [
           {
            "bin_end": 0.6,
            "bin_start": 0.5,
            "count": 0
           },
           {
            "bin_end": 0.7,
            "bin_start": 0.6,
            "count": 0
           },
           {
            "bin_end": 0.8,
            "bin_start": 0.7,
            "count": 0
           },
           {
            "bin_end": 0.9,
            "bin_start": 0.8,
            "count": 0
           },
           {
            "bin_end": 1,
            "bin_start": 0.9,
            "count": 0
           },
           {
            "bin_end": 1.1,
            "bin_start": 1,
            "count": 5
           },
           {
            "bin_end": 1.2000000000000002,
            "bin_start": 1.1,
            "count": 0
           },
           {
            "bin_end": 1.3,
            "bin_start": 1.2000000000000002,
            "count": 0
           },
           {
            "bin_end": 1.4,
            "bin_start": 1.3,
            "count": 0
           },
           {
            "bin_end": 1.5,
            "bin_start": 1.4,
            "count": 0
           }
          ],
          "max": "1.0",
          "min": "1.0",
          "nan_count": 0,
          "unique_count": 1
         }
        },
        {
         "dtype": "float64",
         "name": "Predictable Enforcement (highest score=1)",
         "stats": {
          "histogram": [
           {
            "bin_end": 0.5,
            "bin_start": 0.4,
            "count": 0
           },
           {
            "bin_end": 0.6,
            "bin_start": 0.5,
            "count": 0
           },
           {
            "bin_end": 0.7,
            "bin_start": 0.6,
            "count": 0
           },
           {
            "bin_end": 0.8,
            "bin_start": 0.7,
            "count": 0
           },
           {
            "bin_end": 0.8999999999999999,
            "bin_start": 0.8,
            "count": 0
           },
           {
            "bin_end": 1,
            "bin_start": 0.8999999999999999,
            "count": 5
           },
           {
            "bin_end": 1.1,
            "bin_start": 1,
            "count": 0
           },
           {
            "bin_end": 1.2,
            "bin_start": 1.1,
            "count": 0
           },
           {
            "bin_end": 1.2999999999999998,
            "bin_start": 1.2,
            "count": 0
           },
           {
            "bin_end": 1.4,
            "bin_start": 1.2999999999999998,
            "count": 0
           }
          ],
          "max": "0.9",
          "min": "0.9",
          "nan_count": 0,
          "unique_count": 1
         }
        },
        {
         "dtype": "float64",
         "name": "Freedom of Religion (highest score=1)",
         "stats": {
          "histogram": [
           {
            "bin_end": 0.58,
            "bin_start": 0.48,
            "count": 0
           },
           {
            "bin_end": 0.6799999999999999,
            "bin_start": 0.58,
            "count": 0
           },
           {
            "bin_end": 0.78,
            "bin_start": 0.6799999999999999,
            "count": 0
           },
           {
            "bin_end": 0.88,
            "bin_start": 0.78,
            "count": 0
           },
           {
            "bin_end": 0.98,
            "bin_start": 0.88,
            "count": 0
           },
           {
            "bin_end": 1.08,
            "bin_start": 0.98,
            "count": 5
           },
           {
            "bin_end": 1.1800000000000002,
            "bin_start": 1.08,
            "count": 0
           },
           {
            "bin_end": 1.28,
            "bin_start": 1.1800000000000002,
            "count": 0
           },
           {
            "bin_end": 1.38,
            "bin_start": 1.28,
            "count": 0
           },
           {
            "bin_end": 1.48,
            "bin_start": 1.38,
            "count": 0
           }
          ],
          "max": "0.98",
          "min": "0.98",
          "nan_count": 0,
          "unique_count": 1
         }
        },
        {
         "dtype": "float64",
         "name": "Free Political Parties (highest score=1)",
         "stats": {
          "histogram": [
           {
            "bin_end": 0.33999999999999997,
            "bin_start": 0.24,
            "count": 0
           },
           {
            "bin_end": 0.44,
            "bin_start": 0.33999999999999997,
            "count": 0
           },
           {
            "bin_end": 0.54,
            "bin_start": 0.44,
            "count": 0
           },
           {
            "bin_end": 0.64,
            "bin_start": 0.54,
            "count": 0
           },
           {
            "bin_end": 0.74,
            "bin_start": 0.64,
            "count": 0
           },
           {
            "bin_end": 0.8400000000000001,
            "bin_start": 0.74,
            "count": 5
           },
           {
            "bin_end": 0.9400000000000001,
            "bin_start": 0.8400000000000001,
            "count": 0
           },
           {
            "bin_end": 1.04,
            "bin_start": 0.9400000000000001,
            "count": 0
           },
           {
            "bin_end": 1.1400000000000001,
            "bin_start": 1.04,
            "count": 0
           },
           {
            "bin_end": 1.24,
            "bin_start": 1.1400000000000001,
            "count": 0
           }
          ],
          "max": "0.74",
          "min": "0.74",
          "nan_count": 0,
          "unique_count": 1
         }
        },
        {
         "dtype": "float64",
         "name": "Harassment of journalists (highest score=1)",
         "stats": {
          "histogram": [
           {
            "bin_end": 0.35,
            "bin_start": 0.25,
            "count": 0
           },
           {
            "bin_end": 0.45,
            "bin_start": 0.35,
            "count": 0
           },
           {
            "bin_end": 0.55,
            "bin_start": 0.45,
            "count": 0
           },
           {
            "bin_end": 0.65,
            "bin_start": 0.55,
            "count": 0
           },
           {
            "bin_end": 0.75,
            "bin_start": 0.65,
            "count": 0
           },
           {
            "bin_end": 0.8500000000000001,
            "bin_start": 0.75,
            "count": 5
           },
           {
            "bin_end": 0.9500000000000001,
            "bin_start": 0.8500000000000001,
            "count": 0
           },
           {
            "bin_end": 1.05,
            "bin_start": 0.9500000000000001,
            "count": 0
           },
           {
            "bin_end": 1.15,
            "bin_start": 1.05,
            "count": 0
           },
           {
            "bin_end": 1.25,
            "bin_start": 1.15,
            "count": 0
           }
          ],
          "max": "0.75",
          "min": "0.75",
          "nan_count": 0,
          "unique_count": 1
         }
        },
        {
         "dtype": "float64",
         "name": "Media bias (highest score=1)",
         "stats": {
          "histogram": [
           {
            "bin_end": 0.5599999999999999,
            "bin_start": 0.45999999999999996,
            "count": 0
           },
           {
            "bin_end": 0.6599999999999999,
            "bin_start": 0.5599999999999999,
            "count": 0
           },
           {
            "bin_end": 0.76,
            "bin_start": 0.6599999999999999,
            "count": 0
           },
           {
            "bin_end": 0.86,
            "bin_start": 0.76,
            "count": 0
           },
           {
            "bin_end": 0.96,
            "bin_start": 0.86,
            "count": 0
           },
           {
            "bin_end": 1.06,
            "bin_start": 0.96,
            "count": 5
           },
           {
            "bin_end": 1.1600000000000001,
            "bin_start": 1.06,
            "count": 0
           },
           {
            "bin_end": 1.26,
            "bin_start": 1.1600000000000001,
            "count": 0
           },
           {
            "bin_end": 1.3599999999999999,
            "bin_start": 1.26,
            "count": 0
           },
           {
            "bin_end": 1.46,
            "bin_start": 1.3599999999999999,
            "count": 0
           }
          ],
          "max": "0.96",
          "min": "0.96",
          "nan_count": 0,
          "unique_count": 1
         }
        },
        {
         "dtype": "float64",
         "name": "Media freedom (highest score=1)",
         "stats": {
          "histogram": [
           {
            "bin_end": 0.6,
            "bin_start": 0.5,
            "count": 0
           },
           {
            "bin_end": 0.7,
            "bin_start": 0.6,
            "count": 0
           },
           {
            "bin_end": 0.8,
            "bin_start": 0.7,
            "count": 0
           },
           {
            "bin_end": 0.9,
            "bin_start": 0.8,
            "count": 0
           },
           {
            "bin_end": 1,
            "bin_start": 0.9,
            "count": 0
           },
           {
            "bin_end": 1.1,
            "bin_start": 1,
            "count": 5
           },
           {
            "bin_end": 1.2000000000000002,
            "bin_start": 1.1,
            "count": 0
           },
           {
            "bin_end": 1.3,
            "bin_start": 1.2000000000000002,
            "count": 0
           },
           {
            "bin_end": 1.4,
            "bin_start": 1.3,
            "count": 0
           },
           {
            "bin_end": 1.5,
            "bin_start": 1.4,
            "count": 0
           }
          ],
          "max": "1.0",
          "min": "1.0",
          "nan_count": 0,
          "unique_count": 1
         }
        },
        {
         "dtype": "float64",
         "name": "Freedom of the Press (highest score=1)",
         "stats": {
          "histogram": [
           {
            "bin_end": 0.43999999999999995,
            "bin_start": 0.33999999999999997,
            "count": 0
           },
           {
            "bin_end": 0.5399999999999999,
            "bin_start": 0.43999999999999995,
            "count": 0
           },
           {
            "bin_end": 0.6399999999999999,
            "bin_start": 0.5399999999999999,
            "count": 0
           },
           {
            "bin_end": 0.74,
            "bin_start": 0.6399999999999999,
            "count": 0
           },
           {
            "bin_end": 0.8399999999999999,
            "bin_start": 0.74,
            "count": 0
           },
           {
            "bin_end": 0.94,
            "bin_start": 0.8399999999999999,
            "count": 5
           },
           {
            "bin_end": 1.04,
            "bin_start": 0.94,
            "count": 0
           },
           {
            "bin_end": 1.14,
            "bin_start": 1.04,
            "count": 0
           },
           {
            "bin_end": 1.2399999999999998,
            "bin_start": 1.14,
            "count": 0
           },
           {
            "bin_end": 1.3399999999999999,
            "bin_start": 1.2399999999999998,
            "count": 0
           }
          ],
          "max": "0.84",
          "min": "0.84",
          "nan_count": 0,
          "unique_count": 1
         }
        },
        {
         "dtype": "float64",
         "name": "Gender Equality (highest score=1)",
         "stats": {
          "histogram": [
           {
            "bin_end": 0.38,
            "bin_start": 0.28,
            "count": 0
           },
           {
            "bin_end": 0.48000000000000004,
            "bin_start": 0.38,
            "count": 0
           },
           {
            "bin_end": 0.5800000000000001,
            "bin_start": 0.48000000000000004,
            "count": 0
           },
           {
            "bin_end": 0.68,
            "bin_start": 0.5800000000000001,
            "count": 0
           },
           {
            "bin_end": 0.78,
            "bin_start": 0.68,
            "count": 0
           },
           {
            "bin_end": 0.8800000000000001,
            "bin_start": 0.78,
            "count": 5
           },
           {
            "bin_end": 0.9800000000000001,
            "bin_start": 0.8800000000000001,
            "count": 0
           },
           {
            "bin_end": 1.08,
            "bin_start": 0.9800000000000001,
            "count": 0
           },
           {
            "bin_end": 1.1800000000000002,
            "bin_start": 1.08,
            "count": 0
           },
           {
            "bin_end": 1.28,
            "bin_start": 1.1800000000000002,
            "count": 0
           }
          ],
          "max": "0.78",
          "min": "0.78",
          "nan_count": 0,
          "unique_count": 1
         }
        },
        {
         "dtype": "float64",
         "name": "Educational equality (highest score=1)",
         "stats": {
          "histogram": [
           {
            "bin_end": 0.4,
            "bin_start": 0.30000000000000004,
            "count": 0
           },
           {
            "bin_end": 0.5,
            "bin_start": 0.4,
            "count": 0
           },
           {
            "bin_end": 0.6000000000000001,
            "bin_start": 0.5,
            "count": 0
           },
           {
            "bin_end": 0.7000000000000001,
            "bin_start": 0.6000000000000001,
            "count": 0
           },
           {
            "bin_end": 0.8,
            "bin_start": 0.7000000000000001,
            "count": 0
           },
           {
            "bin_end": 0.9000000000000001,
            "bin_start": 0.8,
            "count": 5
           },
           {
            "bin_end": 1,
            "bin_start": 0.9000000000000001,
            "count": 0
           },
           {
            "bin_end": 1.1,
            "bin_start": 1,
            "count": 0
           },
           {
            "bin_end": 1.2000000000000002,
            "bin_start": 1.1,
            "count": 0
           },
           {
            "bin_end": 1.3,
            "bin_start": 1.2000000000000002,
            "count": 0
           }
          ],
          "max": "0.8",
          "min": "0.8",
          "nan_count": 0,
          "unique_count": 1
         }
        },
        {
         "dtype": "float64",
         "name": "Health equality (highest score=1)",
         "stats": {
          "histogram": [
           {
            "bin_end": 0.48,
            "bin_start": 0.38,
            "count": 0
           },
           {
            "bin_end": 0.58,
            "bin_start": 0.48,
            "count": 0
           },
           {
            "bin_end": 0.6799999999999999,
            "bin_start": 0.58,
            "count": 0
           },
           {
            "bin_end": 0.78,
            "bin_start": 0.6799999999999999,
            "count": 0
           },
           {
            "bin_end": 0.8799999999999999,
            "bin_start": 0.78,
            "count": 0
           },
           {
            "bin_end": 0.98,
            "bin_start": 0.8799999999999999,
            "count": 5
           },
           {
            "bin_end": 1.08,
            "bin_start": 0.98,
            "count": 0
           },
           {
            "bin_end": 1.18,
            "bin_start": 1.08,
            "count": 0
           },
           {
            "bin_end": 1.2799999999999998,
            "bin_start": 1.18,
            "count": 0
           },
           {
            "bin_end": 1.38,
            "bin_start": 1.2799999999999998,
            "count": 0
           }
          ],
          "max": "0.88",
          "min": "0.88",
          "nan_count": 0,
          "unique_count": 1
         }
        },
        {
         "dtype": "float64",
         "name": "Infant mortality rate (highest score=1)",
         "stats": {
          "histogram": [
           {
            "bin_end": 0.971,
            "bin_start": 0.97,
            "count": 3
           },
           {
            "bin_end": 0.972,
            "bin_start": 0.971,
            "count": 0
           },
           {
            "bin_end": 0.973,
            "bin_start": 0.972,
            "count": 0
           },
           {
            "bin_end": 0.974,
            "bin_start": 0.973,
            "count": 0
           },
           {
            "bin_end": 0.975,
            "bin_start": 0.974,
            "count": 0
           },
           {
            "bin_end": 0.976,
            "bin_start": 0.975,
            "count": 0
           },
           {
            "bin_end": 0.977,
            "bin_start": 0.976,
            "count": 0
           },
           {
            "bin_end": 0.978,
            "bin_start": 0.977,
            "count": 0
           },
           {
            "bin_end": 0.979,
            "bin_start": 0.978,
            "count": 0
           },
           {
            "bin_end": 0.98,
            "bin_start": 0.979,
            "count": 2
           }
          ],
          "max": "0.98",
          "min": "0.97",
          "nan_count": 0,
          "unique_count": 2
         }
        },
        {
         "dtype": "float64",
         "name": "Life expectancy (highest score=1)",
         "stats": {
          "histogram": [
           {
            "bin_end": 0.901,
            "bin_start": 0.9,
            "count": 3
           },
           {
            "bin_end": 0.902,
            "bin_start": 0.901,
            "count": 0
           },
           {
            "bin_end": 0.903,
            "bin_start": 0.902,
            "count": 0
           },
           {
            "bin_end": 0.904,
            "bin_start": 0.903,
            "count": 0
           },
           {
            "bin_end": 0.905,
            "bin_start": 0.904,
            "count": 0
           },
           {
            "bin_end": 0.906,
            "bin_start": 0.905,
            "count": 0
           },
           {
            "bin_end": 0.907,
            "bin_start": 0.906,
            "count": 0
           },
           {
            "bin_end": 0.908,
            "bin_start": 0.907,
            "count": 0
           },
           {
            "bin_end": 0.909,
            "bin_start": 0.908,
            "count": 0
           },
           {
            "bin_end": 0.91,
            "bin_start": 0.909,
            "count": 2
           }
          ],
          "max": "0.91",
          "min": "0.9",
          "nan_count": 0,
          "unique_count": 2
         }
        },
        {
         "dtype": "float64",
         "name": "Mean years of schooling (highest score=1)",
         "stats": {
          "histogram": [
           {
            "bin_end": 0.391,
            "bin_start": 0.39,
            "count": 3
           },
           {
            "bin_end": 0.392,
            "bin_start": 0.391,
            "count": 0
           },
           {
            "bin_end": 0.393,
            "bin_start": 0.392,
            "count": 0
           },
           {
            "bin_end": 0.394,
            "bin_start": 0.393,
            "count": 0
           },
           {
            "bin_end": 0.395,
            "bin_start": 0.394,
            "count": 0
           },
           {
            "bin_end": 0.396,
            "bin_start": 0.395,
            "count": 0
           },
           {
            "bin_end": 0.397,
            "bin_start": 0.396,
            "count": 0
           },
           {
            "bin_end": 0.398,
            "bin_start": 0.397,
            "count": 0
           },
           {
            "bin_end": 0.399,
            "bin_start": 0.398,
            "count": 0
           },
           {
            "bin_end": 0.4,
            "bin_start": 0.399,
            "count": 2
           }
          ],
          "max": "0.4",
          "min": "0.39",
          "nan_count": 0,
          "unique_count": 2
         }
        },
        {
         "dtype": "float64",
         "name": "Human Development Index",
         "stats": {
          "histogram": [
           {
            "bin_end": 0.8649,
            "bin_start": 0.864,
            "count": 1
           },
           {
            "bin_end": 0.8658,
            "bin_start": 0.8649,
            "count": 0
           },
           {
            "bin_end": 0.8667,
            "bin_start": 0.8658,
            "count": 1
           },
           {
            "bin_end": 0.8676,
            "bin_start": 0.8667,
            "count": 0
           },
           {
            "bin_end": 0.8685,
            "bin_start": 0.8676,
            "count": 1
           },
           {
            "bin_end": 0.8694,
            "bin_start": 0.8685,
            "count": 0
           },
           {
            "bin_end": 0.8703,
            "bin_start": 0.8694,
            "count": 0
           },
           {
            "bin_end": 0.8712,
            "bin_start": 0.8703,
            "count": 0
           },
           {
            "bin_end": 0.8721,
            "bin_start": 0.8712,
            "count": 0
           },
           {
            "bin_end": 0.873,
            "bin_start": 0.8721,
            "count": 2
           }
          ],
          "max": "0.873",
          "min": "0.864",
          "nan_count": 0,
          "unique_count": 4
         }
        },
        {
         "dtype": "float64",
         "name": "Urban population (% of total population)",
         "stats": {
          "histogram": [
           {
            "bin_end": 85.0685,
            "bin_start": 85.028,
            "count": 1
           },
           {
            "bin_end": 85.10900000000001,
            "bin_start": 85.0685,
            "count": 0
           },
           {
            "bin_end": 85.1495,
            "bin_start": 85.10900000000001,
            "count": 0
           },
           {
            "bin_end": 85.19000000000001,
            "bin_start": 85.1495,
            "count": 1
           },
           {
            "bin_end": 85.2305,
            "bin_start": 85.19000000000001,
            "count": 0
           },
           {
            "bin_end": 85.271,
            "bin_start": 85.2305,
            "count": 0
           },
           {
            "bin_end": 85.31150000000001,
            "bin_start": 85.271,
            "count": 1
           },
           {
            "bin_end": 85.352,
            "bin_start": 85.31150000000001,
            "count": 0
           },
           {
            "bin_end": 85.39250000000001,
            "bin_start": 85.352,
            "count": 0
           },
           {
            "bin_end": 85.433,
            "bin_start": 85.39250000000001,
            "count": 2
           }
          ],
          "max": "85.433",
          "min": "85.028",
          "nan_count": 0,
          "unique_count": 5
         }
        },
        {
         "dtype": "float64",
         "name": "Gini coefficient",
         "stats": {
          "histogram": [
           {
            "bin_end": 0.43969532299999997,
            "bin_start": 0.43795857,
            "count": 1
           },
           {
            "bin_end": 0.441432076,
            "bin_start": 0.43969532299999997,
            "count": 0
           },
           {
            "bin_end": 0.443168829,
            "bin_start": 0.441432076,
            "count": 0
           },
           {
            "bin_end": 0.444905582,
            "bin_start": 0.443168829,
            "count": 1
           },
           {
            "bin_end": 0.446642335,
            "bin_start": 0.444905582,
            "count": 0
           },
           {
            "bin_end": 0.448379088,
            "bin_start": 0.446642335,
            "count": 0
           },
           {
            "bin_end": 0.450115841,
            "bin_start": 0.448379088,
            "count": 1
           },
           {
            "bin_end": 0.451852594,
            "bin_start": 0.450115841,
            "count": 1
           },
           {
            "bin_end": 0.45358934700000003,
            "bin_start": 0.451852594,
            "count": 0
           },
           {
            "bin_end": 0.4553261,
            "bin_start": 0.45358934700000003,
            "count": 1
           }
          ],
          "max": "0.4553261",
          "min": "0.43795857",
          "nan_count": 0,
          "unique_count": 5
         }
        },
        {
         "dtype": "float64",
         "name": "GDP",
         "stats": {
          "histogram": [
           {
            "bin_end": -1.16684016,
            "bin_start": -1.6435711,
            "count": 1
           },
           {
            "bin_end": -0.6901092199999999,
            "bin_start": -1.16684016,
            "count": 1
           },
           {
            "bin_end": -0.2133782799999997,
            "bin_start": -0.6901092199999999,
            "count": 0
           },
           {
            "bin_end": 0.26335266000000024,
            "bin_start": -0.2133782799999997,
            "count": 0
           },
           {
            "bin_end": 0.7400836000000002,
            "bin_start": 0.26335266000000024,
            "count": 0
           },
           {
            "bin_end": 1.2168145400000006,
            "bin_start": 0.7400836000000002,
            "count": 0
           },
           {
            "bin_end": 1.6935454800000005,
            "bin_start": 1.2168145400000006,
            "count": 0
           },
           {
            "bin_end": 2.1702764200000004,
            "bin_start": 1.6935454800000005,
            "count": 1
           },
           {
            "bin_end": 2.647007360000001,
            "bin_start": 2.1702764200000004,
            "count": 0
           },
           {
            "bin_end": 3.1237383,
            "bin_start": 2.647007360000001,
            "count": 2
           }
          ],
          "max": "3.1237383",
          "min": "-1.6435711",
          "nan_count": 0,
          "unique_count": 5
         }
        },
        {
         "dtype": "int64",
         "name": "Conflict",
         "stats": {
          "histogram": [
           {
            "bin_end": -0.4,
            "bin_start": -0.5,
            "count": 0
           },
           {
            "bin_end": -0.3,
            "bin_start": -0.4,
            "count": 0
           },
           {
            "bin_end": -0.19999999999999996,
            "bin_start": -0.3,
            "count": 0
           },
           {
            "bin_end": -0.09999999999999998,
            "bin_start": -0.19999999999999996,
            "count": 0
           },
           {
            "bin_end": 0,
            "bin_start": -0.09999999999999998,
            "count": 0
           },
           {
            "bin_end": 0.10000000000000009,
            "bin_start": 0,
            "count": 5
           },
           {
            "bin_end": 0.20000000000000007,
            "bin_start": 0.10000000000000009,
            "count": 0
           },
           {
            "bin_end": 0.30000000000000004,
            "bin_start": 0.20000000000000007,
            "count": 0
           },
           {
            "bin_end": 0.4,
            "bin_start": 0.30000000000000004,
            "count": 0
           },
           {
            "bin_end": 0.5,
            "bin_start": 0.4,
            "count": 0
           }
          ],
          "max": "0",
          "min": "0",
          "nan_count": 0,
          "unique_count": 1
         }
        },
        {
         "dtype": "int64",
         "name": "Deaths",
         "stats": {
          "histogram": [
           {
            "bin_end": -0.4,
            "bin_start": -0.5,
            "count": 0
           },
           {
            "bin_end": -0.3,
            "bin_start": -0.4,
            "count": 0
           },
           {
            "bin_end": -0.19999999999999996,
            "bin_start": -0.3,
            "count": 0
           },
           {
            "bin_end": -0.09999999999999998,
            "bin_start": -0.19999999999999996,
            "count": 0
           },
           {
            "bin_end": 0,
            "bin_start": -0.09999999999999998,
            "count": 0
           },
           {
            "bin_end": 0.10000000000000009,
            "bin_start": 0,
            "count": 5
           },
           {
            "bin_end": 0.20000000000000007,
            "bin_start": 0.10000000000000009,
            "count": 0
           },
           {
            "bin_end": 0.30000000000000004,
            "bin_start": 0.20000000000000007,
            "count": 0
           },
           {
            "bin_end": 0.4,
            "bin_start": 0.30000000000000004,
            "count": 0
           },
           {
            "bin_end": 0.5,
            "bin_start": 0.4,
            "count": 0
           }
          ],
          "max": "0",
          "min": "0",
          "nan_count": 0,
          "unique_count": 1
         }
        },
        {
         "dtype": "float64",
         "name": "Free and fair elections index",
         "stats": {
          "histogram": [
           {
            "bin_end": 0.9561999999999999,
            "bin_start": 0.956,
            "count": 3
           },
           {
            "bin_end": 0.9563999999999999,
            "bin_start": 0.9561999999999999,
            "count": 0
           },
           {
            "bin_end": 0.9566,
            "bin_start": 0.9563999999999999,
            "count": 0
           },
           {
            "bin_end": 0.9568,
            "bin_start": 0.9566,
            "count": 0
           },
           {
            "bin_end": 0.957,
            "bin_start": 0.9568,
            "count": 0
           },
           {
            "bin_end": 0.9571999999999999,
            "bin_start": 0.957,
            "count": 0
           },
           {
            "bin_end": 0.9573999999999999,
            "bin_start": 0.9571999999999999,
            "count": 0
           },
           {
            "bin_end": 0.9576,
            "bin_start": 0.9573999999999999,
            "count": 0
           },
           {
            "bin_end": 0.9578,
            "bin_start": 0.9576,
            "count": 0
           },
           {
            "bin_end": 0.958,
            "bin_start": 0.9578,
            "count": 2
           }
          ],
          "max": "0.958",
          "min": "0.956",
          "nan_count": 0,
          "unique_count": 2
         }
        },
        {
         "dtype": "float64",
         "name": "Liberal democracy index",
         "stats": {
          "histogram": [
           {
            "bin_end": 0.45199999999999996,
            "bin_start": 0.352,
            "count": 0
           },
           {
            "bin_end": 0.5519999999999999,
            "bin_start": 0.45199999999999996,
            "count": 0
           },
           {
            "bin_end": 0.6519999999999999,
            "bin_start": 0.5519999999999999,
            "count": 0
           },
           {
            "bin_end": 0.752,
            "bin_start": 0.6519999999999999,
            "count": 0
           },
           {
            "bin_end": 0.8519999999999999,
            "bin_start": 0.752,
            "count": 0
           },
           {
            "bin_end": 0.952,
            "bin_start": 0.8519999999999999,
            "count": 5
           },
           {
            "bin_end": 1.052,
            "bin_start": 0.952,
            "count": 0
           },
           {
            "bin_end": 1.152,
            "bin_start": 1.052,
            "count": 0
           },
           {
            "bin_end": 1.2519999999999998,
            "bin_start": 1.152,
            "count": 0
           },
           {
            "bin_end": 1.3519999999999999,
            "bin_start": 1.2519999999999998,
            "count": 0
           }
          ],
          "max": "0.852",
          "min": "0.852",
          "nan_count": 0,
          "unique_count": 1
         }
        },
        {
         "dtype": "float64",
         "name": "totalrefugees",
         "stats": {
          "histogram": [
           {
            "bin_end": -0.4,
            "bin_start": -0.5,
            "count": 0
           },
           {
            "bin_end": -0.3,
            "bin_start": -0.4,
            "count": 0
           },
           {
            "bin_end": -0.19999999999999996,
            "bin_start": -0.3,
            "count": 0
           },
           {
            "bin_end": -0.09999999999999998,
            "bin_start": -0.19999999999999996,
            "count": 0
           },
           {
            "bin_end": 0,
            "bin_start": -0.09999999999999998,
            "count": 0
           },
           {
            "bin_end": 0.10000000000000009,
            "bin_start": 0,
            "count": 5
           },
           {
            "bin_end": 0.20000000000000007,
            "bin_start": 0.10000000000000009,
            "count": 0
           },
           {
            "bin_end": 0.30000000000000004,
            "bin_start": 0.20000000000000007,
            "count": 0
           },
           {
            "bin_end": 0.4,
            "bin_start": 0.30000000000000004,
            "count": 0
           },
           {
            "bin_end": 0.5,
            "bin_start": 0.4,
            "count": 0
           }
          ],
          "max": "0.0",
          "min": "0.0",
          "nan_count": 0,
          "unique_count": 1
         }
        },
        {
         "dtype": "float64",
         "name": "ethnicity_ratio",
         "stats": {
          "histogram": [
           {
            "bin_end": 0.43999999999999995,
            "bin_start": 0.33999999999999997,
            "count": 0
           },
           {
            "bin_end": 0.5399999999999999,
            "bin_start": 0.43999999999999995,
            "count": 0
           },
           {
            "bin_end": 0.6399999999999999,
            "bin_start": 0.5399999999999999,
            "count": 0
           },
           {
            "bin_end": 0.74,
            "bin_start": 0.6399999999999999,
            "count": 0
           },
           {
            "bin_end": 0.8399999999999999,
            "bin_start": 0.74,
            "count": 0
           },
           {
            "bin_end": 0.94,
            "bin_start": 0.8399999999999999,
            "count": 5
           },
           {
            "bin_end": 1.04,
            "bin_start": 0.94,
            "count": 0
           },
           {
            "bin_end": 1.14,
            "bin_start": 1.04,
            "count": 0
           },
           {
            "bin_end": 1.2399999999999998,
            "bin_start": 1.14,
            "count": 0
           },
           {
            "bin_end": 1.3399999999999999,
            "bin_start": 1.2399999999999998,
            "count": 0
           }
          ],
          "max": "0.84",
          "min": "0.84",
          "nan_count": 0,
          "unique_count": 1
         }
        },
        {
         "dtype": "int64",
         "name": "_deepnote_index_column"
        }
       ],
       "row_count": 5,
       "rows": [
        {
         "Conflict": 0,
         "Deaths": 0,
         "Educational equality (highest score=1)": 0.8,
         "Effective Parliament (highest score=1)": 0.85,
         "Election free and fair (highest score=1)": 0.82,
         "Election government intimidation (highest score=1)": 0.85,
         "Fair trial (highest score=1)": 1,
         "Free Political Parties (highest score=1)": 0.74,
         "Free and fair elections index": 0.956,
         "Freedom of Religion (highest score=1)": 0.98,
         "Freedom of the Press (highest score=1)": 0.84,
         "GDP": 2.0573924,
         "Gender Equality (highest score=1)": 0.78,
         "Gini coefficient": 0.43795857,
         "Harassment of journalists (highest score=1)": 0.75,
         "Health equality (highest score=1)": 0.88,
         "Human Development Index": 0.864,
         "Infant mortality rate (highest score=1)": 0.97,
         "Judicial Independence (highest score=1)": 1,
         "Liberal democracy index": 0.852,
         "Life expectancy (highest score=1)": 0.9,
         "Mean years of schooling (highest score=1)": 0.39,
         "Media bias (highest score=1)": 0.96,
         "Media freedom (highest score=1)": 1,
         "Predictable Enforcement (highest score=1)": 0.9,
         "Urban population (% of total population)": 85.433,
         "Voter turnout (highest score=1)": 0.82,
         "_deepnote_index_column": 0,
         "country": "Australia",
         "ethnicity_ratio": 0.84,
         "totalrefugees": 0,
         "year": 1990
        },
        {
         "Conflict": 0,
         "Deaths": 0,
         "Educational equality (highest score=1)": 0.8,
         "Effective Parliament (highest score=1)": 0.85,
         "Election free and fair (highest score=1)": 0.82,
         "Election government intimidation (highest score=1)": 0.85,
         "Fair trial (highest score=1)": 1,
         "Free Political Parties (highest score=1)": 0.74,
         "Free and fair elections index": 0.956,
         "Freedom of Religion (highest score=1)": 0.98,
         "Freedom of the Press (highest score=1)": 0.84,
         "GDP": -1.6435711,
         "Gender Equality (highest score=1)": 0.78,
         "Gini coefficient": 0.44966656,
         "Harassment of journalists (highest score=1)": 0.75,
         "Health equality (highest score=1)": 0.88,
         "Human Development Index": 0.866,
         "Infant mortality rate (highest score=1)": 0.97,
         "Judicial Independence (highest score=1)": 1,
         "Liberal democracy index": 0.852,
         "Life expectancy (highest score=1)": 0.9,
         "Mean years of schooling (highest score=1)": 0.39,
         "Media bias (highest score=1)": 0.96,
         "Media freedom (highest score=1)": 1,
         "Predictable Enforcement (highest score=1)": 0.9,
         "Urban population (% of total population)": 85.403,
         "Voter turnout (highest score=1)": 0.82,
         "_deepnote_index_column": 1,
         "country": "Australia",
         "ethnicity_ratio": 0.84,
         "totalrefugees": 0,
         "year": 1991
        },
        {
         "Conflict": 0,
         "Deaths": 0,
         "Educational equality (highest score=1)": 0.8,
         "Effective Parliament (highest score=1)": 0.85,
         "Election free and fair (highest score=1)": 0.82,
         "Election government intimidation (highest score=1)": 0.85,
         "Fair trial (highest score=1)": 1,
         "Free Political Parties (highest score=1)": 0.74,
         "Free and fair elections index": 0.956,
         "Freedom of Religion (highest score=1)": 0.98,
         "Freedom of the Press (highest score=1)": 0.84,
         "GDP": -0.69043666,
         "Gender Equality (highest score=1)": 0.78,
         "Gini coefficient": 0.44447818,
         "Harassment of journalists (highest score=1)": 0.75,
         "Health equality (highest score=1)": 0.88,
         "Human Development Index": 0.868,
         "Infant mortality rate (highest score=1)": 0.97,
         "Judicial Independence (highest score=1)": 1,
         "Liberal democracy index": 0.852,
         "Life expectancy (highest score=1)": 0.9,
         "Mean years of schooling (highest score=1)": 0.39,
         "Media bias (highest score=1)": 0.96,
         "Media freedom (highest score=1)": 1,
         "Predictable Enforcement (highest score=1)": 0.9,
         "Urban population (% of total population)": 85.285,
         "Voter turnout (highest score=1)": 0.82,
         "_deepnote_index_column": 2,
         "country": "Australia",
         "ethnicity_ratio": 0.84,
         "totalrefugees": 0,
         "year": 1992
        },
        {
         "Conflict": 0,
         "Deaths": 0,
         "Educational equality (highest score=1)": 0.8,
         "Effective Parliament (highest score=1)": 0.85,
         "Election free and fair (highest score=1)": 0.82,
         "Election government intimidation (highest score=1)": 0.85,
         "Fair trial (highest score=1)": 1,
         "Free Political Parties (highest score=1)": 0.74,
         "Free and fair elections index": 0.958,
         "Freedom of Religion (highest score=1)": 0.98,
         "Freedom of the Press (highest score=1)": 0.84,
         "GDP": 3.1237383,
         "Gender Equality (highest score=1)": 0.78,
         "Gini coefficient": 0.4511117,
         "Harassment of journalists (highest score=1)": 0.75,
         "Health equality (highest score=1)": 0.88,
         "Human Development Index": 0.873,
         "Infant mortality rate (highest score=1)": 0.98,
         "Judicial Independence (highest score=1)": 1,
         "Liberal democracy index": 0.852,
         "Life expectancy (highest score=1)": 0.91,
         "Mean years of schooling (highest score=1)": 0.4,
         "Media bias (highest score=1)": 0.96,
         "Media freedom (highest score=1)": 1,
         "Predictable Enforcement (highest score=1)": 0.9,
         "Urban population (% of total population)": 85.157,
         "Voter turnout (highest score=1)": 0.84,
         "_deepnote_index_column": 3,
         "country": "Australia",
         "ethnicity_ratio": 0.84,
         "totalrefugees": 0,
         "year": 1993
        },
        {
         "Conflict": 0,
         "Deaths": 0,
         "Educational equality (highest score=1)": 0.8,
         "Effective Parliament (highest score=1)": 0.85,
         "Election free and fair (highest score=1)": 0.82,
         "Election government intimidation (highest score=1)": 0.85,
         "Fair trial (highest score=1)": 1,
         "Free Political Parties (highest score=1)": 0.74,
         "Free and fair elections index": 0.958,
         "Freedom of Religion (highest score=1)": 0.98,
         "Freedom of the Press (highest score=1)": 0.84,
         "GDP": 2.9830923,
         "Gender Equality (highest score=1)": 0.78,
         "Gini coefficient": 0.4553261,
         "Harassment of journalists (highest score=1)": 0.75,
         "Health equality (highest score=1)": 0.88,
         "Human Development Index": 0.873,
         "Infant mortality rate (highest score=1)": 0.98,
         "Judicial Independence (highest score=1)": 1,
         "Liberal democracy index": 0.852,
         "Life expectancy (highest score=1)": 0.91,
         "Mean years of schooling (highest score=1)": 0.4,
         "Media bias (highest score=1)": 0.96,
         "Media freedom (highest score=1)": 1,
         "Predictable Enforcement (highest score=1)": 0.9,
         "Urban population (% of total population)": 85.028,
         "Voter turnout (highest score=1)": 0.84,
         "_deepnote_index_column": 4,
         "country": "Australia",
         "ethnicity_ratio": 0.84,
         "totalrefugees": 0,
         "year": 1994
        }
       ],
       "type": "dataframe"
      },
      "text/html": [
       "<div>\n",
       "<style scoped>\n",
       "    .dataframe tbody tr th:only-of-type {\n",
       "        vertical-align: middle;\n",
       "    }\n",
       "\n",
       "    .dataframe tbody tr th {\n",
       "        vertical-align: top;\n",
       "    }\n",
       "\n",
       "    .dataframe thead th {\n",
       "        text-align: right;\n",
       "    }\n",
       "</style>\n",
       "<table border=\"1\" class=\"dataframe\">\n",
       "  <thead>\n",
       "    <tr style=\"text-align: right;\">\n",
       "      <th></th>\n",
       "      <th>country</th>\n",
       "      <th>year</th>\n",
       "      <th>Effective Parliament (highest score=1)</th>\n",
       "      <th>Election free and fair (highest score=1)</th>\n",
       "      <th>Election government intimidation (highest score=1)</th>\n",
       "      <th>Voter turnout (highest score=1)</th>\n",
       "      <th>Fair trial (highest score=1)</th>\n",
       "      <th>Judicial Independence (highest score=1)</th>\n",
       "      <th>Predictable Enforcement (highest score=1)</th>\n",
       "      <th>Freedom of Religion (highest score=1)</th>\n",
       "      <th>...</th>\n",
       "      <th>Human Development Index</th>\n",
       "      <th>Urban population (% of total population)</th>\n",
       "      <th>Gini coefficient</th>\n",
       "      <th>GDP</th>\n",
       "      <th>Conflict</th>\n",
       "      <th>Deaths</th>\n",
       "      <th>Free and fair elections index</th>\n",
       "      <th>Liberal democracy index</th>\n",
       "      <th>totalrefugees</th>\n",
       "      <th>ethnicity_ratio</th>\n",
       "    </tr>\n",
       "  </thead>\n",
       "  <tbody>\n",
       "    <tr>\n",
       "      <th>0</th>\n",
       "      <td>Australia</td>\n",
       "      <td>1990</td>\n",
       "      <td>0.85</td>\n",
       "      <td>0.82</td>\n",
       "      <td>0.85</td>\n",
       "      <td>0.82</td>\n",
       "      <td>1.0</td>\n",
       "      <td>1.0</td>\n",
       "      <td>0.9</td>\n",
       "      <td>0.98</td>\n",
       "      <td>...</td>\n",
       "      <td>0.864</td>\n",
       "      <td>85.433</td>\n",
       "      <td>0.437959</td>\n",
       "      <td>2.057392</td>\n",
       "      <td>0</td>\n",
       "      <td>0</td>\n",
       "      <td>0.956</td>\n",
       "      <td>0.852</td>\n",
       "      <td>0.0</td>\n",
       "      <td>0.84</td>\n",
       "    </tr>\n",
       "    <tr>\n",
       "      <th>1</th>\n",
       "      <td>Australia</td>\n",
       "      <td>1991</td>\n",
       "      <td>0.85</td>\n",
       "      <td>0.82</td>\n",
       "      <td>0.85</td>\n",
       "      <td>0.82</td>\n",
       "      <td>1.0</td>\n",
       "      <td>1.0</td>\n",
       "      <td>0.9</td>\n",
       "      <td>0.98</td>\n",
       "      <td>...</td>\n",
       "      <td>0.866</td>\n",
       "      <td>85.403</td>\n",
       "      <td>0.449667</td>\n",
       "      <td>-1.643571</td>\n",
       "      <td>0</td>\n",
       "      <td>0</td>\n",
       "      <td>0.956</td>\n",
       "      <td>0.852</td>\n",
       "      <td>0.0</td>\n",
       "      <td>0.84</td>\n",
       "    </tr>\n",
       "    <tr>\n",
       "      <th>2</th>\n",
       "      <td>Australia</td>\n",
       "      <td>1992</td>\n",
       "      <td>0.85</td>\n",
       "      <td>0.82</td>\n",
       "      <td>0.85</td>\n",
       "      <td>0.82</td>\n",
       "      <td>1.0</td>\n",
       "      <td>1.0</td>\n",
       "      <td>0.9</td>\n",
       "      <td>0.98</td>\n",
       "      <td>...</td>\n",
       "      <td>0.868</td>\n",
       "      <td>85.285</td>\n",
       "      <td>0.444478</td>\n",
       "      <td>-0.690437</td>\n",
       "      <td>0</td>\n",
       "      <td>0</td>\n",
       "      <td>0.956</td>\n",
       "      <td>0.852</td>\n",
       "      <td>0.0</td>\n",
       "      <td>0.84</td>\n",
       "    </tr>\n",
       "    <tr>\n",
       "      <th>3</th>\n",
       "      <td>Australia</td>\n",
       "      <td>1993</td>\n",
       "      <td>0.85</td>\n",
       "      <td>0.82</td>\n",
       "      <td>0.85</td>\n",
       "      <td>0.84</td>\n",
       "      <td>1.0</td>\n",
       "      <td>1.0</td>\n",
       "      <td>0.9</td>\n",
       "      <td>0.98</td>\n",
       "      <td>...</td>\n",
       "      <td>0.873</td>\n",
       "      <td>85.157</td>\n",
       "      <td>0.451112</td>\n",
       "      <td>3.123738</td>\n",
       "      <td>0</td>\n",
       "      <td>0</td>\n",
       "      <td>0.958</td>\n",
       "      <td>0.852</td>\n",
       "      <td>0.0</td>\n",
       "      <td>0.84</td>\n",
       "    </tr>\n",
       "    <tr>\n",
       "      <th>4</th>\n",
       "      <td>Australia</td>\n",
       "      <td>1994</td>\n",
       "      <td>0.85</td>\n",
       "      <td>0.82</td>\n",
       "      <td>0.85</td>\n",
       "      <td>0.84</td>\n",
       "      <td>1.0</td>\n",
       "      <td>1.0</td>\n",
       "      <td>0.9</td>\n",
       "      <td>0.98</td>\n",
       "      <td>...</td>\n",
       "      <td>0.873</td>\n",
       "      <td>85.028</td>\n",
       "      <td>0.455326</td>\n",
       "      <td>2.983092</td>\n",
       "      <td>0</td>\n",
       "      <td>0</td>\n",
       "      <td>0.958</td>\n",
       "      <td>0.852</td>\n",
       "      <td>0.0</td>\n",
       "      <td>0.84</td>\n",
       "    </tr>\n",
       "  </tbody>\n",
       "</table>\n",
       "<p>5 rows × 31 columns</p>\n",
       "</div>"
      ],
      "text/plain": [
       "     country  year  Effective Parliament (highest score=1)  \\\n",
       "0  Australia  1990                                    0.85   \n",
       "1  Australia  1991                                    0.85   \n",
       "2  Australia  1992                                    0.85   \n",
       "3  Australia  1993                                    0.85   \n",
       "4  Australia  1994                                    0.85   \n",
       "\n",
       "   Election free and fair (highest score=1)  \\\n",
       "0                                      0.82   \n",
       "1                                      0.82   \n",
       "2                                      0.82   \n",
       "3                                      0.82   \n",
       "4                                      0.82   \n",
       "\n",
       "   Election government intimidation (highest score=1)  \\\n",
       "0                                               0.85    \n",
       "1                                               0.85    \n",
       "2                                               0.85    \n",
       "3                                               0.85    \n",
       "4                                               0.85    \n",
       "\n",
       "   Voter turnout (highest score=1)  Fair trial (highest score=1)  \\\n",
       "0                             0.82                           1.0   \n",
       "1                             0.82                           1.0   \n",
       "2                             0.82                           1.0   \n",
       "3                             0.84                           1.0   \n",
       "4                             0.84                           1.0   \n",
       "\n",
       "   Judicial Independence (highest score=1)  \\\n",
       "0                                      1.0   \n",
       "1                                      1.0   \n",
       "2                                      1.0   \n",
       "3                                      1.0   \n",
       "4                                      1.0   \n",
       "\n",
       "   Predictable Enforcement (highest score=1)  \\\n",
       "0                                        0.9   \n",
       "1                                        0.9   \n",
       "2                                        0.9   \n",
       "3                                        0.9   \n",
       "4                                        0.9   \n",
       "\n",
       "   Freedom of Religion (highest score=1)  ...  Human Development Index  \\\n",
       "0                                   0.98  ...                    0.864   \n",
       "1                                   0.98  ...                    0.866   \n",
       "2                                   0.98  ...                    0.868   \n",
       "3                                   0.98  ...                    0.873   \n",
       "4                                   0.98  ...                    0.873   \n",
       "\n",
       "   Urban population (% of total population)  Gini coefficient       GDP  \\\n",
       "0                                    85.433          0.437959  2.057392   \n",
       "1                                    85.403          0.449667 -1.643571   \n",
       "2                                    85.285          0.444478 -0.690437   \n",
       "3                                    85.157          0.451112  3.123738   \n",
       "4                                    85.028          0.455326  2.983092   \n",
       "\n",
       "   Conflict  Deaths  Free and fair elections index  Liberal democracy index  \\\n",
       "0         0       0                          0.956                    0.852   \n",
       "1         0       0                          0.956                    0.852   \n",
       "2         0       0                          0.956                    0.852   \n",
       "3         0       0                          0.958                    0.852   \n",
       "4         0       0                          0.958                    0.852   \n",
       "\n",
       "   totalrefugees  ethnicity_ratio  \n",
       "0            0.0             0.84  \n",
       "1            0.0             0.84  \n",
       "2            0.0             0.84  \n",
       "3            0.0             0.84  \n",
       "4            0.0             0.84  \n",
       "\n",
       "[5 rows x 31 columns]"
      ]
     },
     "execution_count": 16,
     "metadata": {},
     "output_type": "execute_result"
    }
   ],
   "source": [
    "# Merge the df_combined & Ethnicity_Refugees DataFrames\n",
    "df_combined = pd.merge(df_combined, Ethnicity_Refugees, on=['country', 'year'], how='outer')\n",
    "df_combined.head()"
   ]
  },
  {
   "cell_type": "code",
   "execution_count": null,
   "metadata": {
    "cell_id": "c42f7e25296440d18f3b2c505db9d609",
    "deepnote_cell_type": "code",
    "execution_context_id": "69995baa-2f72-4ad6-a6e3-c8e557c14158",
    "execution_millis": 14,
    "execution_start": 1742317463198,
    "id": "4a46c9b7",
    "outputId": "7e33e3b3-1926-42ee-e90d-dd00525e38eb",
    "source_hash": "50dd3bf8"
   },
   "outputs": [
    {
     "data": {
      "application/vnd.deepnote.dataframe.v3+json": {
       "column_count": 33,
       "columns": [
        {
         "dtype": "object",
         "name": "country",
         "stats": {
          "categories": [
           {
            "count": 5,
            "name": "Australia"
           }
          ],
          "nan_count": 0,
          "unique_count": 1
         }
        },
        {
         "dtype": "int64",
         "name": "year",
         "stats": {
          "histogram": [
           {
            "bin_end": 1990.4,
            "bin_start": 1990,
            "count": 1
           },
           {
            "bin_end": 1990.8,
            "bin_start": 1990.4,
            "count": 0
           },
           {
            "bin_end": 1991.2,
            "bin_start": 1990.8,
            "count": 1
           },
           {
            "bin_end": 1991.6,
            "bin_start": 1991.2,
            "count": 0
           },
           {
            "bin_end": 1992,
            "bin_start": 1991.6,
            "count": 0
           },
           {
            "bin_end": 1992.4,
            "bin_start": 1992,
            "count": 1
           },
           {
            "bin_end": 1992.8,
            "bin_start": 1992.4,
            "count": 0
           },
           {
            "bin_end": 1993.2,
            "bin_start": 1992.8,
            "count": 1
           },
           {
            "bin_end": 1993.6,
            "bin_start": 1993.2,
            "count": 0
           },
           {
            "bin_end": 1994,
            "bin_start": 1993.6,
            "count": 1
           }
          ],
          "max": "1994",
          "min": "1990",
          "nan_count": 0,
          "unique_count": 5
         }
        },
        {
         "dtype": "float64",
         "name": "Effective Parliament (highest score=1)",
         "stats": {
          "histogram": [
           {
            "bin_end": 0.44999999999999996,
            "bin_start": 0.35,
            "count": 0
           },
           {
            "bin_end": 0.55,
            "bin_start": 0.44999999999999996,
            "count": 0
           },
           {
            "bin_end": 0.65,
            "bin_start": 0.55,
            "count": 0
           },
           {
            "bin_end": 0.75,
            "bin_start": 0.65,
            "count": 0
           },
           {
            "bin_end": 0.85,
            "bin_start": 0.75,
            "count": 0
           },
           {
            "bin_end": 0.9500000000000001,
            "bin_start": 0.85,
            "count": 5
           },
           {
            "bin_end": 1.05,
            "bin_start": 0.9500000000000001,
            "count": 0
           },
           {
            "bin_end": 1.15,
            "bin_start": 1.05,
            "count": 0
           },
           {
            "bin_end": 1.25,
            "bin_start": 1.15,
            "count": 0
           },
           {
            "bin_end": 1.35,
            "bin_start": 1.25,
            "count": 0
           }
          ],
          "max": "0.85",
          "min": "0.85",
          "nan_count": 0,
          "unique_count": 1
         }
        },
        {
         "dtype": "float64",
         "name": "Election free and fair (highest score=1)",
         "stats": {
          "histogram": [
           {
            "bin_end": 0.41999999999999993,
            "bin_start": 0.31999999999999995,
            "count": 0
           },
           {
            "bin_end": 0.5199999999999999,
            "bin_start": 0.41999999999999993,
            "count": 0
           },
           {
            "bin_end": 0.6199999999999999,
            "bin_start": 0.5199999999999999,
            "count": 0
           },
           {
            "bin_end": 0.72,
            "bin_start": 0.6199999999999999,
            "count": 0
           },
           {
            "bin_end": 0.8199999999999998,
            "bin_start": 0.72,
            "count": 0
           },
           {
            "bin_end": 0.9199999999999999,
            "bin_start": 0.8199999999999998,
            "count": 5
           },
           {
            "bin_end": 1.02,
            "bin_start": 0.9199999999999999,
            "count": 0
           },
           {
            "bin_end": 1.1199999999999999,
            "bin_start": 1.02,
            "count": 0
           },
           {
            "bin_end": 1.2199999999999998,
            "bin_start": 1.1199999999999999,
            "count": 0
           },
           {
            "bin_end": 1.3199999999999998,
            "bin_start": 1.2199999999999998,
            "count": 0
           }
          ],
          "max": "0.82",
          "min": "0.82",
          "nan_count": 0,
          "unique_count": 1
         }
        },
        {
         "dtype": "float64",
         "name": "Election government intimidation (highest score=1)",
         "stats": {
          "histogram": [
           {
            "bin_end": 0.44999999999999996,
            "bin_start": 0.35,
            "count": 0
           },
           {
            "bin_end": 0.55,
            "bin_start": 0.44999999999999996,
            "count": 0
           },
           {
            "bin_end": 0.65,
            "bin_start": 0.55,
            "count": 0
           },
           {
            "bin_end": 0.75,
            "bin_start": 0.65,
            "count": 0
           },
           {
            "bin_end": 0.85,
            "bin_start": 0.75,
            "count": 0
           },
           {
            "bin_end": 0.9500000000000001,
            "bin_start": 0.85,
            "count": 5
           },
           {
            "bin_end": 1.05,
            "bin_start": 0.9500000000000001,
            "count": 0
           },
           {
            "bin_end": 1.15,
            "bin_start": 1.05,
            "count": 0
           },
           {
            "bin_end": 1.25,
            "bin_start": 1.15,
            "count": 0
           },
           {
            "bin_end": 1.35,
            "bin_start": 1.25,
            "count": 0
           }
          ],
          "max": "0.85",
          "min": "0.85",
          "nan_count": 0,
          "unique_count": 1
         }
        },
        {
         "dtype": "float64",
         "name": "Voter turnout (highest score=1)",
         "stats": {
          "histogram": [
           {
            "bin_end": 0.822,
            "bin_start": 0.82,
            "count": 3
           },
           {
            "bin_end": 0.824,
            "bin_start": 0.822,
            "count": 0
           },
           {
            "bin_end": 0.826,
            "bin_start": 0.824,
            "count": 0
           },
           {
            "bin_end": 0.828,
            "bin_start": 0.826,
            "count": 0
           },
           {
            "bin_end": 0.83,
            "bin_start": 0.828,
            "count": 0
           },
           {
            "bin_end": 0.832,
            "bin_start": 0.83,
            "count": 0
           },
           {
            "bin_end": 0.834,
            "bin_start": 0.832,
            "count": 0
           },
           {
            "bin_end": 0.836,
            "bin_start": 0.834,
            "count": 0
           },
           {
            "bin_end": 0.838,
            "bin_start": 0.836,
            "count": 0
           },
           {
            "bin_end": 0.84,
            "bin_start": 0.838,
            "count": 2
           }
          ],
          "max": "0.84",
          "min": "0.82",
          "nan_count": 0,
          "unique_count": 2
         }
        },
        {
         "dtype": "float64",
         "name": "Fair trial (highest score=1)",
         "stats": {
          "histogram": [
           {
            "bin_end": 0.6,
            "bin_start": 0.5,
            "count": 0
           },
           {
            "bin_end": 0.7,
            "bin_start": 0.6,
            "count": 0
           },
           {
            "bin_end": 0.8,
            "bin_start": 0.7,
            "count": 0
           },
           {
            "bin_end": 0.9,
            "bin_start": 0.8,
            "count": 0
           },
           {
            "bin_end": 1,
            "bin_start": 0.9,
            "count": 0
           },
           {
            "bin_end": 1.1,
            "bin_start": 1,
            "count": 5
           },
           {
            "bin_end": 1.2000000000000002,
            "bin_start": 1.1,
            "count": 0
           },
           {
            "bin_end": 1.3,
            "bin_start": 1.2000000000000002,
            "count": 0
           },
           {
            "bin_end": 1.4,
            "bin_start": 1.3,
            "count": 0
           },
           {
            "bin_end": 1.5,
            "bin_start": 1.4,
            "count": 0
           }
          ],
          "max": "1.0",
          "min": "1.0",
          "nan_count": 0,
          "unique_count": 1
         }
        },
        {
         "dtype": "float64",
         "name": "Judicial Independence (highest score=1)",
         "stats": {
          "histogram": [
           {
            "bin_end": 0.6,
            "bin_start": 0.5,
            "count": 0
           },
           {
            "bin_end": 0.7,
            "bin_start": 0.6,
            "count": 0
           },
           {
            "bin_end": 0.8,
            "bin_start": 0.7,
            "count": 0
           },
           {
            "bin_end": 0.9,
            "bin_start": 0.8,
            "count": 0
           },
           {
            "bin_end": 1,
            "bin_start": 0.9,
            "count": 0
           },
           {
            "bin_end": 1.1,
            "bin_start": 1,
            "count": 5
           },
           {
            "bin_end": 1.2000000000000002,
            "bin_start": 1.1,
            "count": 0
           },
           {
            "bin_end": 1.3,
            "bin_start": 1.2000000000000002,
            "count": 0
           },
           {
            "bin_end": 1.4,
            "bin_start": 1.3,
            "count": 0
           },
           {
            "bin_end": 1.5,
            "bin_start": 1.4,
            "count": 0
           }
          ],
          "max": "1.0",
          "min": "1.0",
          "nan_count": 0,
          "unique_count": 1
         }
        },
        {
         "dtype": "float64",
         "name": "Predictable Enforcement (highest score=1)",
         "stats": {
          "histogram": [
           {
            "bin_end": 0.5,
            "bin_start": 0.4,
            "count": 0
           },
           {
            "bin_end": 0.6,
            "bin_start": 0.5,
            "count": 0
           },
           {
            "bin_end": 0.7,
            "bin_start": 0.6,
            "count": 0
           },
           {
            "bin_end": 0.8,
            "bin_start": 0.7,
            "count": 0
           },
           {
            "bin_end": 0.8999999999999999,
            "bin_start": 0.8,
            "count": 0
           },
           {
            "bin_end": 1,
            "bin_start": 0.8999999999999999,
            "count": 5
           },
           {
            "bin_end": 1.1,
            "bin_start": 1,
            "count": 0
           },
           {
            "bin_end": 1.2,
            "bin_start": 1.1,
            "count": 0
           },
           {
            "bin_end": 1.2999999999999998,
            "bin_start": 1.2,
            "count": 0
           },
           {
            "bin_end": 1.4,
            "bin_start": 1.2999999999999998,
            "count": 0
           }
          ],
          "max": "0.9",
          "min": "0.9",
          "nan_count": 0,
          "unique_count": 1
         }
        },
        {
         "dtype": "float64",
         "name": "Freedom of Religion (highest score=1)",
         "stats": {
          "histogram": [
           {
            "bin_end": 0.58,
            "bin_start": 0.48,
            "count": 0
           },
           {
            "bin_end": 0.6799999999999999,
            "bin_start": 0.58,
            "count": 0
           },
           {
            "bin_end": 0.78,
            "bin_start": 0.6799999999999999,
            "count": 0
           },
           {
            "bin_end": 0.88,
            "bin_start": 0.78,
            "count": 0
           },
           {
            "bin_end": 0.98,
            "bin_start": 0.88,
            "count": 0
           },
           {
            "bin_end": 1.08,
            "bin_start": 0.98,
            "count": 5
           },
           {
            "bin_end": 1.1800000000000002,
            "bin_start": 1.08,
            "count": 0
           },
           {
            "bin_end": 1.28,
            "bin_start": 1.1800000000000002,
            "count": 0
           },
           {
            "bin_end": 1.38,
            "bin_start": 1.28,
            "count": 0
           },
           {
            "bin_end": 1.48,
            "bin_start": 1.38,
            "count": 0
           }
          ],
          "max": "0.98",
          "min": "0.98",
          "nan_count": 0,
          "unique_count": 1
         }
        },
        {
         "dtype": "float64",
         "name": "Free Political Parties (highest score=1)",
         "stats": {
          "histogram": [
           {
            "bin_end": 0.33999999999999997,
            "bin_start": 0.24,
            "count": 0
           },
           {
            "bin_end": 0.44,
            "bin_start": 0.33999999999999997,
            "count": 0
           },
           {
            "bin_end": 0.54,
            "bin_start": 0.44,
            "count": 0
           },
           {
            "bin_end": 0.64,
            "bin_start": 0.54,
            "count": 0
           },
           {
            "bin_end": 0.74,
            "bin_start": 0.64,
            "count": 0
           },
           {
            "bin_end": 0.8400000000000001,
            "bin_start": 0.74,
            "count": 5
           },
           {
            "bin_end": 0.9400000000000001,
            "bin_start": 0.8400000000000001,
            "count": 0
           },
           {
            "bin_end": 1.04,
            "bin_start": 0.9400000000000001,
            "count": 0
           },
           {
            "bin_end": 1.1400000000000001,
            "bin_start": 1.04,
            "count": 0
           },
           {
            "bin_end": 1.24,
            "bin_start": 1.1400000000000001,
            "count": 0
           }
          ],
          "max": "0.74",
          "min": "0.74",
          "nan_count": 0,
          "unique_count": 1
         }
        },
        {
         "dtype": "float64",
         "name": "Harassment of journalists (highest score=1)",
         "stats": {
          "histogram": [
           {
            "bin_end": 0.35,
            "bin_start": 0.25,
            "count": 0
           },
           {
            "bin_end": 0.45,
            "bin_start": 0.35,
            "count": 0
           },
           {
            "bin_end": 0.55,
            "bin_start": 0.45,
            "count": 0
           },
           {
            "bin_end": 0.65,
            "bin_start": 0.55,
            "count": 0
           },
           {
            "bin_end": 0.75,
            "bin_start": 0.65,
            "count": 0
           },
           {
            "bin_end": 0.8500000000000001,
            "bin_start": 0.75,
            "count": 5
           },
           {
            "bin_end": 0.9500000000000001,
            "bin_start": 0.8500000000000001,
            "count": 0
           },
           {
            "bin_end": 1.05,
            "bin_start": 0.9500000000000001,
            "count": 0
           },
           {
            "bin_end": 1.15,
            "bin_start": 1.05,
            "count": 0
           },
           {
            "bin_end": 1.25,
            "bin_start": 1.15,
            "count": 0
           }
          ],
          "max": "0.75",
          "min": "0.75",
          "nan_count": 0,
          "unique_count": 1
         }
        },
        {
         "dtype": "float64",
         "name": "Media bias (highest score=1)",
         "stats": {
          "histogram": [
           {
            "bin_end": 0.5599999999999999,
            "bin_start": 0.45999999999999996,
            "count": 0
           },
           {
            "bin_end": 0.6599999999999999,
            "bin_start": 0.5599999999999999,
            "count": 0
           },
           {
            "bin_end": 0.76,
            "bin_start": 0.6599999999999999,
            "count": 0
           },
           {
            "bin_end": 0.86,
            "bin_start": 0.76,
            "count": 0
           },
           {
            "bin_end": 0.96,
            "bin_start": 0.86,
            "count": 0
           },
           {
            "bin_end": 1.06,
            "bin_start": 0.96,
            "count": 5
           },
           {
            "bin_end": 1.1600000000000001,
            "bin_start": 1.06,
            "count": 0
           },
           {
            "bin_end": 1.26,
            "bin_start": 1.1600000000000001,
            "count": 0
           },
           {
            "bin_end": 1.3599999999999999,
            "bin_start": 1.26,
            "count": 0
           },
           {
            "bin_end": 1.46,
            "bin_start": 1.3599999999999999,
            "count": 0
           }
          ],
          "max": "0.96",
          "min": "0.96",
          "nan_count": 0,
          "unique_count": 1
         }
        },
        {
         "dtype": "float64",
         "name": "Media freedom (highest score=1)",
         "stats": {
          "histogram": [
           {
            "bin_end": 0.6,
            "bin_start": 0.5,
            "count": 0
           },
           {
            "bin_end": 0.7,
            "bin_start": 0.6,
            "count": 0
           },
           {
            "bin_end": 0.8,
            "bin_start": 0.7,
            "count": 0
           },
           {
            "bin_end": 0.9,
            "bin_start": 0.8,
            "count": 0
           },
           {
            "bin_end": 1,
            "bin_start": 0.9,
            "count": 0
           },
           {
            "bin_end": 1.1,
            "bin_start": 1,
            "count": 5
           },
           {
            "bin_end": 1.2000000000000002,
            "bin_start": 1.1,
            "count": 0
           },
           {
            "bin_end": 1.3,
            "bin_start": 1.2000000000000002,
            "count": 0
           },
           {
            "bin_end": 1.4,
            "bin_start": 1.3,
            "count": 0
           },
           {
            "bin_end": 1.5,
            "bin_start": 1.4,
            "count": 0
           }
          ],
          "max": "1.0",
          "min": "1.0",
          "nan_count": 0,
          "unique_count": 1
         }
        },
        {
         "dtype": "float64",
         "name": "Freedom of the Press (highest score=1)",
         "stats": {
          "histogram": [
           {
            "bin_end": 0.43999999999999995,
            "bin_start": 0.33999999999999997,
            "count": 0
           },
           {
            "bin_end": 0.5399999999999999,
            "bin_start": 0.43999999999999995,
            "count": 0
           },
           {
            "bin_end": 0.6399999999999999,
            "bin_start": 0.5399999999999999,
            "count": 0
           },
           {
            "bin_end": 0.74,
            "bin_start": 0.6399999999999999,
            "count": 0
           },
           {
            "bin_end": 0.8399999999999999,
            "bin_start": 0.74,
            "count": 0
           },
           {
            "bin_end": 0.94,
            "bin_start": 0.8399999999999999,
            "count": 5
           },
           {
            "bin_end": 1.04,
            "bin_start": 0.94,
            "count": 0
           },
           {
            "bin_end": 1.14,
            "bin_start": 1.04,
            "count": 0
           },
           {
            "bin_end": 1.2399999999999998,
            "bin_start": 1.14,
            "count": 0
           },
           {
            "bin_end": 1.3399999999999999,
            "bin_start": 1.2399999999999998,
            "count": 0
           }
          ],
          "max": "0.84",
          "min": "0.84",
          "nan_count": 0,
          "unique_count": 1
         }
        },
        {
         "dtype": "float64",
         "name": "Gender Equality (highest score=1)",
         "stats": {
          "histogram": [
           {
            "bin_end": 0.38,
            "bin_start": 0.28,
            "count": 0
           },
           {
            "bin_end": 0.48000000000000004,
            "bin_start": 0.38,
            "count": 0
           },
           {
            "bin_end": 0.5800000000000001,
            "bin_start": 0.48000000000000004,
            "count": 0
           },
           {
            "bin_end": 0.68,
            "bin_start": 0.5800000000000001,
            "count": 0
           },
           {
            "bin_end": 0.78,
            "bin_start": 0.68,
            "count": 0
           },
           {
            "bin_end": 0.8800000000000001,
            "bin_start": 0.78,
            "count": 5
           },
           {
            "bin_end": 0.9800000000000001,
            "bin_start": 0.8800000000000001,
            "count": 0
           },
           {
            "bin_end": 1.08,
            "bin_start": 0.9800000000000001,
            "count": 0
           },
           {
            "bin_end": 1.1800000000000002,
            "bin_start": 1.08,
            "count": 0
           },
           {
            "bin_end": 1.28,
            "bin_start": 1.1800000000000002,
            "count": 0
           }
          ],
          "max": "0.78",
          "min": "0.78",
          "nan_count": 0,
          "unique_count": 1
         }
        },
        {
         "dtype": "float64",
         "name": "Educational equality (highest score=1)",
         "stats": {
          "histogram": [
           {
            "bin_end": 0.4,
            "bin_start": 0.30000000000000004,
            "count": 0
           },
           {
            "bin_end": 0.5,
            "bin_start": 0.4,
            "count": 0
           },
           {
            "bin_end": 0.6000000000000001,
            "bin_start": 0.5,
            "count": 0
           },
           {
            "bin_end": 0.7000000000000001,
            "bin_start": 0.6000000000000001,
            "count": 0
           },
           {
            "bin_end": 0.8,
            "bin_start": 0.7000000000000001,
            "count": 0
           },
           {
            "bin_end": 0.9000000000000001,
            "bin_start": 0.8,
            "count": 5
           },
           {
            "bin_end": 1,
            "bin_start": 0.9000000000000001,
            "count": 0
           },
           {
            "bin_end": 1.1,
            "bin_start": 1,
            "count": 0
           },
           {
            "bin_end": 1.2000000000000002,
            "bin_start": 1.1,
            "count": 0
           },
           {
            "bin_end": 1.3,
            "bin_start": 1.2000000000000002,
            "count": 0
           }
          ],
          "max": "0.8",
          "min": "0.8",
          "nan_count": 0,
          "unique_count": 1
         }
        },
        {
         "dtype": "float64",
         "name": "Health equality (highest score=1)",
         "stats": {
          "histogram": [
           {
            "bin_end": 0.48,
            "bin_start": 0.38,
            "count": 0
           },
           {
            "bin_end": 0.58,
            "bin_start": 0.48,
            "count": 0
           },
           {
            "bin_end": 0.6799999999999999,
            "bin_start": 0.58,
            "count": 0
           },
           {
            "bin_end": 0.78,
            "bin_start": 0.6799999999999999,
            "count": 0
           },
           {
            "bin_end": 0.8799999999999999,
            "bin_start": 0.78,
            "count": 0
           },
           {
            "bin_end": 0.98,
            "bin_start": 0.8799999999999999,
            "count": 5
           },
           {
            "bin_end": 1.08,
            "bin_start": 0.98,
            "count": 0
           },
           {
            "bin_end": 1.18,
            "bin_start": 1.08,
            "count": 0
           },
           {
            "bin_end": 1.2799999999999998,
            "bin_start": 1.18,
            "count": 0
           },
           {
            "bin_end": 1.38,
            "bin_start": 1.2799999999999998,
            "count": 0
           }
          ],
          "max": "0.88",
          "min": "0.88",
          "nan_count": 0,
          "unique_count": 1
         }
        },
        {
         "dtype": "float64",
         "name": "Infant mortality rate (highest score=1)",
         "stats": {
          "histogram": [
           {
            "bin_end": 0.971,
            "bin_start": 0.97,
            "count": 3
           },
           {
            "bin_end": 0.972,
            "bin_start": 0.971,
            "count": 0
           },
           {
            "bin_end": 0.973,
            "bin_start": 0.972,
            "count": 0
           },
           {
            "bin_end": 0.974,
            "bin_start": 0.973,
            "count": 0
           },
           {
            "bin_end": 0.975,
            "bin_start": 0.974,
            "count": 0
           },
           {
            "bin_end": 0.976,
            "bin_start": 0.975,
            "count": 0
           },
           {
            "bin_end": 0.977,
            "bin_start": 0.976,
            "count": 0
           },
           {
            "bin_end": 0.978,
            "bin_start": 0.977,
            "count": 0
           },
           {
            "bin_end": 0.979,
            "bin_start": 0.978,
            "count": 0
           },
           {
            "bin_end": 0.98,
            "bin_start": 0.979,
            "count": 2
           }
          ],
          "max": "0.98",
          "min": "0.97",
          "nan_count": 0,
          "unique_count": 2
         }
        },
        {
         "dtype": "float64",
         "name": "Life expectancy (highest score=1)",
         "stats": {
          "histogram": [
           {
            "bin_end": 0.901,
            "bin_start": 0.9,
            "count": 3
           },
           {
            "bin_end": 0.902,
            "bin_start": 0.901,
            "count": 0
           },
           {
            "bin_end": 0.903,
            "bin_start": 0.902,
            "count": 0
           },
           {
            "bin_end": 0.904,
            "bin_start": 0.903,
            "count": 0
           },
           {
            "bin_end": 0.905,
            "bin_start": 0.904,
            "count": 0
           },
           {
            "bin_end": 0.906,
            "bin_start": 0.905,
            "count": 0
           },
           {
            "bin_end": 0.907,
            "bin_start": 0.906,
            "count": 0
           },
           {
            "bin_end": 0.908,
            "bin_start": 0.907,
            "count": 0
           },
           {
            "bin_end": 0.909,
            "bin_start": 0.908,
            "count": 0
           },
           {
            "bin_end": 0.91,
            "bin_start": 0.909,
            "count": 2
           }
          ],
          "max": "0.91",
          "min": "0.9",
          "nan_count": 0,
          "unique_count": 2
         }
        },
        {
         "dtype": "float64",
         "name": "Mean years of schooling (highest score=1)",
         "stats": {
          "histogram": [
           {
            "bin_end": 0.391,
            "bin_start": 0.39,
            "count": 3
           },
           {
            "bin_end": 0.392,
            "bin_start": 0.391,
            "count": 0
           },
           {
            "bin_end": 0.393,
            "bin_start": 0.392,
            "count": 0
           },
           {
            "bin_end": 0.394,
            "bin_start": 0.393,
            "count": 0
           },
           {
            "bin_end": 0.395,
            "bin_start": 0.394,
            "count": 0
           },
           {
            "bin_end": 0.396,
            "bin_start": 0.395,
            "count": 0
           },
           {
            "bin_end": 0.397,
            "bin_start": 0.396,
            "count": 0
           },
           {
            "bin_end": 0.398,
            "bin_start": 0.397,
            "count": 0
           },
           {
            "bin_end": 0.399,
            "bin_start": 0.398,
            "count": 0
           },
           {
            "bin_end": 0.4,
            "bin_start": 0.399,
            "count": 2
           }
          ],
          "max": "0.4",
          "min": "0.39",
          "nan_count": 0,
          "unique_count": 2
         }
        },
        {
         "dtype": "float64",
         "name": "Human Development Index",
         "stats": {
          "histogram": [
           {
            "bin_end": 0.8649,
            "bin_start": 0.864,
            "count": 1
           },
           {
            "bin_end": 0.8658,
            "bin_start": 0.8649,
            "count": 0
           },
           {
            "bin_end": 0.8667,
            "bin_start": 0.8658,
            "count": 1
           },
           {
            "bin_end": 0.8676,
            "bin_start": 0.8667,
            "count": 0
           },
           {
            "bin_end": 0.8685,
            "bin_start": 0.8676,
            "count": 1
           },
           {
            "bin_end": 0.8694,
            "bin_start": 0.8685,
            "count": 0
           },
           {
            "bin_end": 0.8703,
            "bin_start": 0.8694,
            "count": 0
           },
           {
            "bin_end": 0.8712,
            "bin_start": 0.8703,
            "count": 0
           },
           {
            "bin_end": 0.8721,
            "bin_start": 0.8712,
            "count": 0
           },
           {
            "bin_end": 0.873,
            "bin_start": 0.8721,
            "count": 2
           }
          ],
          "max": "0.873",
          "min": "0.864",
          "nan_count": 0,
          "unique_count": 4
         }
        },
        {
         "dtype": "float64",
         "name": "Urban population (% of total population)",
         "stats": {
          "histogram": [
           {
            "bin_end": 85.0685,
            "bin_start": 85.028,
            "count": 1
           },
           {
            "bin_end": 85.10900000000001,
            "bin_start": 85.0685,
            "count": 0
           },
           {
            "bin_end": 85.1495,
            "bin_start": 85.10900000000001,
            "count": 0
           },
           {
            "bin_end": 85.19000000000001,
            "bin_start": 85.1495,
            "count": 1
           },
           {
            "bin_end": 85.2305,
            "bin_start": 85.19000000000001,
            "count": 0
           },
           {
            "bin_end": 85.271,
            "bin_start": 85.2305,
            "count": 0
           },
           {
            "bin_end": 85.31150000000001,
            "bin_start": 85.271,
            "count": 1
           },
           {
            "bin_end": 85.352,
            "bin_start": 85.31150000000001,
            "count": 0
           },
           {
            "bin_end": 85.39250000000001,
            "bin_start": 85.352,
            "count": 0
           },
           {
            "bin_end": 85.433,
            "bin_start": 85.39250000000001,
            "count": 2
           }
          ],
          "max": "85.433",
          "min": "85.028",
          "nan_count": 0,
          "unique_count": 5
         }
        },
        {
         "dtype": "float64",
         "name": "Gini coefficient",
         "stats": {
          "histogram": [
           {
            "bin_end": 0.43969532299999997,
            "bin_start": 0.43795857,
            "count": 1
           },
           {
            "bin_end": 0.441432076,
            "bin_start": 0.43969532299999997,
            "count": 0
           },
           {
            "bin_end": 0.443168829,
            "bin_start": 0.441432076,
            "count": 0
           },
           {
            "bin_end": 0.444905582,
            "bin_start": 0.443168829,
            "count": 1
           },
           {
            "bin_end": 0.446642335,
            "bin_start": 0.444905582,
            "count": 0
           },
           {
            "bin_end": 0.448379088,
            "bin_start": 0.446642335,
            "count": 0
           },
           {
            "bin_end": 0.450115841,
            "bin_start": 0.448379088,
            "count": 1
           },
           {
            "bin_end": 0.451852594,
            "bin_start": 0.450115841,
            "count": 1
           },
           {
            "bin_end": 0.45358934700000003,
            "bin_start": 0.451852594,
            "count": 0
           },
           {
            "bin_end": 0.4553261,
            "bin_start": 0.45358934700000003,
            "count": 1
           }
          ],
          "max": "0.4553261",
          "min": "0.43795857",
          "nan_count": 0,
          "unique_count": 5
         }
        },
        {
         "dtype": "float64",
         "name": "GDP",
         "stats": {
          "histogram": [
           {
            "bin_end": -1.16684016,
            "bin_start": -1.6435711,
            "count": 1
           },
           {
            "bin_end": -0.6901092199999999,
            "bin_start": -1.16684016,
            "count": 1
           },
           {
            "bin_end": -0.2133782799999997,
            "bin_start": -0.6901092199999999,
            "count": 0
           },
           {
            "bin_end": 0.26335266000000024,
            "bin_start": -0.2133782799999997,
            "count": 0
           },
           {
            "bin_end": 0.7400836000000002,
            "bin_start": 0.26335266000000024,
            "count": 0
           },
           {
            "bin_end": 1.2168145400000006,
            "bin_start": 0.7400836000000002,
            "count": 0
           },
           {
            "bin_end": 1.6935454800000005,
            "bin_start": 1.2168145400000006,
            "count": 0
           },
           {
            "bin_end": 2.1702764200000004,
            "bin_start": 1.6935454800000005,
            "count": 1
           },
           {
            "bin_end": 2.647007360000001,
            "bin_start": 2.1702764200000004,
            "count": 0
           },
           {
            "bin_end": 3.1237383,
            "bin_start": 2.647007360000001,
            "count": 2
           }
          ],
          "max": "3.1237383",
          "min": "-1.6435711",
          "nan_count": 0,
          "unique_count": 5
         }
        },
        {
         "dtype": "int64",
         "name": "Conflict",
         "stats": {
          "histogram": [
           {
            "bin_end": -0.4,
            "bin_start": -0.5,
            "count": 0
           },
           {
            "bin_end": -0.3,
            "bin_start": -0.4,
            "count": 0
           },
           {
            "bin_end": -0.19999999999999996,
            "bin_start": -0.3,
            "count": 0
           },
           {
            "bin_end": -0.09999999999999998,
            "bin_start": -0.19999999999999996,
            "count": 0
           },
           {
            "bin_end": 0,
            "bin_start": -0.09999999999999998,
            "count": 0
           },
           {
            "bin_end": 0.10000000000000009,
            "bin_start": 0,
            "count": 5
           },
           {
            "bin_end": 0.20000000000000007,
            "bin_start": 0.10000000000000009,
            "count": 0
           },
           {
            "bin_end": 0.30000000000000004,
            "bin_start": 0.20000000000000007,
            "count": 0
           },
           {
            "bin_end": 0.4,
            "bin_start": 0.30000000000000004,
            "count": 0
           },
           {
            "bin_end": 0.5,
            "bin_start": 0.4,
            "count": 0
           }
          ],
          "max": "0",
          "min": "0",
          "nan_count": 0,
          "unique_count": 1
         }
        },
        {
         "dtype": "int64",
         "name": "Deaths",
         "stats": {
          "histogram": [
           {
            "bin_end": -0.4,
            "bin_start": -0.5,
            "count": 0
           },
           {
            "bin_end": -0.3,
            "bin_start": -0.4,
            "count": 0
           },
           {
            "bin_end": -0.19999999999999996,
            "bin_start": -0.3,
            "count": 0
           },
           {
            "bin_end": -0.09999999999999998,
            "bin_start": -0.19999999999999996,
            "count": 0
           },
           {
            "bin_end": 0,
            "bin_start": -0.09999999999999998,
            "count": 0
           },
           {
            "bin_end": 0.10000000000000009,
            "bin_start": 0,
            "count": 5
           },
           {
            "bin_end": 0.20000000000000007,
            "bin_start": 0.10000000000000009,
            "count": 0
           },
           {
            "bin_end": 0.30000000000000004,
            "bin_start": 0.20000000000000007,
            "count": 0
           },
           {
            "bin_end": 0.4,
            "bin_start": 0.30000000000000004,
            "count": 0
           },
           {
            "bin_end": 0.5,
            "bin_start": 0.4,
            "count": 0
           }
          ],
          "max": "0",
          "min": "0",
          "nan_count": 0,
          "unique_count": 1
         }
        },
        {
         "dtype": "float64",
         "name": "Free and fair elections index",
         "stats": {
          "histogram": [
           {
            "bin_end": 0.9561999999999999,
            "bin_start": 0.956,
            "count": 3
           },
           {
            "bin_end": 0.9563999999999999,
            "bin_start": 0.9561999999999999,
            "count": 0
           },
           {
            "bin_end": 0.9566,
            "bin_start": 0.9563999999999999,
            "count": 0
           },
           {
            "bin_end": 0.9568,
            "bin_start": 0.9566,
            "count": 0
           },
           {
            "bin_end": 0.957,
            "bin_start": 0.9568,
            "count": 0
           },
           {
            "bin_end": 0.9571999999999999,
            "bin_start": 0.957,
            "count": 0
           },
           {
            "bin_end": 0.9573999999999999,
            "bin_start": 0.9571999999999999,
            "count": 0
           },
           {
            "bin_end": 0.9576,
            "bin_start": 0.9573999999999999,
            "count": 0
           },
           {
            "bin_end": 0.9578,
            "bin_start": 0.9576,
            "count": 0
           },
           {
            "bin_end": 0.958,
            "bin_start": 0.9578,
            "count": 2
           }
          ],
          "max": "0.958",
          "min": "0.956",
          "nan_count": 0,
          "unique_count": 2
         }
        },
        {
         "dtype": "float64",
         "name": "Liberal democracy index",
         "stats": {
          "histogram": [
           {
            "bin_end": 0.45199999999999996,
            "bin_start": 0.352,
            "count": 0
           },
           {
            "bin_end": 0.5519999999999999,
            "bin_start": 0.45199999999999996,
            "count": 0
           },
           {
            "bin_end": 0.6519999999999999,
            "bin_start": 0.5519999999999999,
            "count": 0
           },
           {
            "bin_end": 0.752,
            "bin_start": 0.6519999999999999,
            "count": 0
           },
           {
            "bin_end": 0.8519999999999999,
            "bin_start": 0.752,
            "count": 0
           },
           {
            "bin_end": 0.952,
            "bin_start": 0.8519999999999999,
            "count": 5
           },
           {
            "bin_end": 1.052,
            "bin_start": 0.952,
            "count": 0
           },
           {
            "bin_end": 1.152,
            "bin_start": 1.052,
            "count": 0
           },
           {
            "bin_end": 1.2519999999999998,
            "bin_start": 1.152,
            "count": 0
           },
           {
            "bin_end": 1.3519999999999999,
            "bin_start": 1.2519999999999998,
            "count": 0
           }
          ],
          "max": "0.852",
          "min": "0.852",
          "nan_count": 0,
          "unique_count": 1
         }
        },
        {
         "dtype": "float64",
         "name": "totalrefugees",
         "stats": {
          "histogram": [
           {
            "bin_end": -0.4,
            "bin_start": -0.5,
            "count": 0
           },
           {
            "bin_end": -0.3,
            "bin_start": -0.4,
            "count": 0
           },
           {
            "bin_end": -0.19999999999999996,
            "bin_start": -0.3,
            "count": 0
           },
           {
            "bin_end": -0.09999999999999998,
            "bin_start": -0.19999999999999996,
            "count": 0
           },
           {
            "bin_end": 0,
            "bin_start": -0.09999999999999998,
            "count": 0
           },
           {
            "bin_end": 0.10000000000000009,
            "bin_start": 0,
            "count": 5
           },
           {
            "bin_end": 0.20000000000000007,
            "bin_start": 0.10000000000000009,
            "count": 0
           },
           {
            "bin_end": 0.30000000000000004,
            "bin_start": 0.20000000000000007,
            "count": 0
           },
           {
            "bin_end": 0.4,
            "bin_start": 0.30000000000000004,
            "count": 0
           },
           {
            "bin_end": 0.5,
            "bin_start": 0.4,
            "count": 0
           }
          ],
          "max": "0.0",
          "min": "0.0",
          "nan_count": 0,
          "unique_count": 1
         }
        },
        {
         "dtype": "float64",
         "name": "ethnicity_ratio",
         "stats": {
          "histogram": [
           {
            "bin_end": 0.43999999999999995,
            "bin_start": 0.33999999999999997,
            "count": 0
           },
           {
            "bin_end": 0.5399999999999999,
            "bin_start": 0.43999999999999995,
            "count": 0
           },
           {
            "bin_end": 0.6399999999999999,
            "bin_start": 0.5399999999999999,
            "count": 0
           },
           {
            "bin_end": 0.74,
            "bin_start": 0.6399999999999999,
            "count": 0
           },
           {
            "bin_end": 0.8399999999999999,
            "bin_start": 0.74,
            "count": 0
           },
           {
            "bin_end": 0.94,
            "bin_start": 0.8399999999999999,
            "count": 5
           },
           {
            "bin_end": 1.04,
            "bin_start": 0.94,
            "count": 0
           },
           {
            "bin_end": 1.14,
            "bin_start": 1.04,
            "count": 0
           },
           {
            "bin_end": 1.2399999999999998,
            "bin_start": 1.14,
            "count": 0
           },
           {
            "bin_end": 1.3399999999999999,
            "bin_start": 1.2399999999999998,
            "count": 0
           }
          ],
          "max": "0.84",
          "min": "0.84",
          "nan_count": 0,
          "unique_count": 1
         }
        },
        {
         "dtype": "float64",
         "name": "unemployment_percentage_change",
         "stats": {
          "histogram": [
           {
            "bin_end": -8.358569551948115,
            "bin_start": -10.616784630940334,
            "count": 1
           },
           {
            "bin_end": -6.100354472955898,
            "bin_start": -8.358569551948115,
            "count": 0
           },
           {
            "bin_end": -3.84213939396368,
            "bin_start": -6.100354472955898,
            "count": 0
           },
           {
            "bin_end": -1.583924314971462,
            "bin_start": -3.84213939396368,
            "count": 0
           },
           {
            "bin_end": 0.6742907640207569,
            "bin_start": -1.583924314971462,
            "count": 2
           },
           {
            "bin_end": 2.932505843012974,
            "bin_start": 0.6742907640207569,
            "count": 1
           },
           {
            "bin_end": 5.190720922005191,
            "bin_start": 2.932505843012974,
            "count": 0
           },
           {
            "bin_end": 7.44893600099741,
            "bin_start": 5.190720922005191,
            "count": 0
           },
           {
            "bin_end": 9.707151079989629,
            "bin_start": 7.44893600099741,
            "count": 0
           },
           {
            "bin_end": 11.96536615898185,
            "bin_start": 9.707151079989629,
            "count": 1
           }
          ],
          "max": "11.96536615898185",
          "min": "-10.616784630940334",
          "nan_count": 0,
          "unique_count": 4
         }
        },
        {
         "dtype": "float64",
         "name": "inflation_percentage_change",
         "stats": {
          "histogram": [
           {
            "bin_end": -53.997332261099814,
            "bin_start": -68.13551880184723,
            "count": 2
           },
           {
            "bin_end": -39.8591457203524,
            "bin_start": -53.997332261099814,
            "count": 0
           },
           {
            "bin_end": -25.72095917960499,
            "bin_start": -39.8591457203524,
            "count": 0
           },
           {
            "bin_end": -11.582772638857577,
            "bin_start": -25.72095917960499,
            "count": 0
           },
           {
            "bin_end": 2.5554139018898354,
            "bin_start": -11.582772638857577,
            "count": 1
           },
           {
            "bin_end": 16.693600442637248,
            "bin_start": 2.5554139018898354,
            "count": 1
           },
           {
            "bin_end": 30.83178698338466,
            "bin_start": 16.693600442637248,
            "count": 0
           },
           {
            "bin_end": 44.96997352413207,
            "bin_start": 30.83178698338466,
            "count": 0
           },
           {
            "bin_end": 59.108160064879485,
            "bin_start": 44.96997352413207,
            "count": 0
           },
           {
            "bin_end": 73.2463466056269,
            "bin_start": 59.108160064879485,
            "count": 1
           }
          ],
          "max": "73.2463466056269",
          "min": "-68.13551880184723",
          "nan_count": 0,
          "unique_count": 5
         }
        },
        {
         "dtype": "int64",
         "name": "_deepnote_index_column"
        }
       ],
       "row_count": 5,
       "rows": [
        {
         "Conflict": 0,
         "Deaths": 0,
         "Educational equality (highest score=1)": 0.8,
         "Effective Parliament (highest score=1)": 0.85,
         "Election free and fair (highest score=1)": 0.82,
         "Election government intimidation (highest score=1)": 0.85,
         "Fair trial (highest score=1)": 1,
         "Free Political Parties (highest score=1)": 0.74,
         "Free and fair elections index": 0.956,
         "Freedom of Religion (highest score=1)": 0.98,
         "Freedom of the Press (highest score=1)": 0.84,
         "GDP": 2.0573924,
         "Gender Equality (highest score=1)": 0.78,
         "Gini coefficient": 0.43795857,
         "Harassment of journalists (highest score=1)": 0.75,
         "Health equality (highest score=1)": 0.88,
         "Human Development Index": 0.864,
         "Infant mortality rate (highest score=1)": 0.97,
         "Judicial Independence (highest score=1)": 1,
         "Liberal democracy index": 0.852,
         "Life expectancy (highest score=1)": 0.9,
         "Mean years of schooling (highest score=1)": 0.39,
         "Media bias (highest score=1)": 0.96,
         "Media freedom (highest score=1)": 1,
         "Predictable Enforcement (highest score=1)": 0.9,
         "Urban population (% of total population)": 85.433,
         "Voter turnout (highest score=1)": 0.82,
         "_deepnote_index_column": 0,
         "country": "Australia",
         "ethnicity_ratio": 0.84,
         "inflation_percentage_change": -2.666355296565881,
         "totalrefugees": 0,
         "unemployment_percentage_change": 0,
         "year": 1990
        },
        {
         "Conflict": 0,
         "Deaths": 0,
         "Educational equality (highest score=1)": 0.8,
         "Effective Parliament (highest score=1)": 0.85,
         "Election free and fair (highest score=1)": 0.82,
         "Election government intimidation (highest score=1)": 0.85,
         "Fair trial (highest score=1)": 1,
         "Free Political Parties (highest score=1)": 0.74,
         "Free and fair elections index": 0.956,
         "Freedom of Religion (highest score=1)": 0.98,
         "Freedom of the Press (highest score=1)": 0.84,
         "GDP": -1.6435711,
         "Gender Equality (highest score=1)": 0.78,
         "Gini coefficient": 0.44966656,
         "Harassment of journalists (highest score=1)": 0.75,
         "Health equality (highest score=1)": 0.88,
         "Human Development Index": 0.866,
         "Infant mortality rate (highest score=1)": 0.97,
         "Judicial Independence (highest score=1)": 1,
         "Liberal democracy index": 0.852,
         "Life expectancy (highest score=1)": 0.9,
         "Mean years of schooling (highest score=1)": 0.39,
         "Media bias (highest score=1)": 0.96,
         "Media freedom (highest score=1)": 1,
         "Predictable Enforcement (highest score=1)": 0.9,
         "Urban population (% of total population)": 85.403,
         "Voter turnout (highest score=1)": 0.82,
         "_deepnote_index_column": 1,
         "country": "Australia",
         "ethnicity_ratio": 0.84,
         "inflation_percentage_change": -56.67986007960064,
         "totalrefugees": 0,
         "unemployment_percentage_change": 0,
         "year": 1991
        },
        {
         "Conflict": 0,
         "Deaths": 0,
         "Educational equality (highest score=1)": 0.8,
         "Effective Parliament (highest score=1)": 0.85,
         "Election free and fair (highest score=1)": 0.82,
         "Election government intimidation (highest score=1)": 0.85,
         "Fair trial (highest score=1)": 1,
         "Free Political Parties (highest score=1)": 0.74,
         "Free and fair elections index": 0.956,
         "Freedom of Religion (highest score=1)": 0.98,
         "Freedom of the Press (highest score=1)": 0.84,
         "GDP": -0.69043666,
         "Gender Equality (highest score=1)": 0.78,
         "Gini coefficient": 0.44447818,
         "Harassment of journalists (highest score=1)": 0.75,
         "Health equality (highest score=1)": 0.88,
         "Human Development Index": 0.868,
         "Infant mortality rate (highest score=1)": 0.97,
         "Judicial Independence (highest score=1)": 1,
         "Liberal democracy index": 0.852,
         "Life expectancy (highest score=1)": 0.9,
         "Mean years of schooling (highest score=1)": 0.39,
         "Media bias (highest score=1)": 0.96,
         "Media freedom (highest score=1)": 1,
         "Predictable Enforcement (highest score=1)": 0.9,
         "Urban population (% of total population)": 85.285,
         "Voter turnout (highest score=1)": 0.82,
         "_deepnote_index_column": 2,
         "country": "Australia",
         "ethnicity_ratio": 0.84,
         "inflation_percentage_change": -68.13551880184723,
         "totalrefugees": 0,
         "unemployment_percentage_change": 11.96536615898185,
         "year": 1992
        },
        {
         "Conflict": 0,
         "Deaths": 0,
         "Educational equality (highest score=1)": 0.8,
         "Effective Parliament (highest score=1)": 0.85,
         "Election free and fair (highest score=1)": 0.82,
         "Election government intimidation (highest score=1)": 0.85,
         "Fair trial (highest score=1)": 1,
         "Free Political Parties (highest score=1)": 0.74,
         "Free and fair elections index": 0.958,
         "Freedom of Religion (highest score=1)": 0.98,
         "Freedom of the Press (highest score=1)": 0.84,
         "GDP": 3.1237383,
         "Gender Equality (highest score=1)": 0.78,
         "Gini coefficient": 0.4511117,
         "Harassment of journalists (highest score=1)": 0.75,
         "Health equality (highest score=1)": 0.88,
         "Human Development Index": 0.873,
         "Infant mortality rate (highest score=1)": 0.98,
         "Judicial Independence (highest score=1)": 1,
         "Liberal democracy index": 0.852,
         "Life expectancy (highest score=1)": 0.91,
         "Mean years of schooling (highest score=1)": 0.4,
         "Media bias (highest score=1)": 0.96,
         "Media freedom (highest score=1)": 1,
         "Predictable Enforcement (highest score=1)": 0.9,
         "Urban population (% of total population)": 85.157,
         "Voter turnout (highest score=1)": 0.84,
         "_deepnote_index_column": 3,
         "country": "Australia",
         "ethnicity_ratio": 0.84,
         "inflation_percentage_change": 73.2463466056269,
         "totalrefugees": 0,
         "unemployment_percentage_change": 1.3602906922575153,
         "year": 1993
        },
        {
         "Conflict": 0,
         "Deaths": 0,
         "Educational equality (highest score=1)": 0.8,
         "Effective Parliament (highest score=1)": 0.85,
         "Election free and fair (highest score=1)": 0.82,
         "Election government intimidation (highest score=1)": 0.85,
         "Fair trial (highest score=1)": 1,
         "Free Political Parties (highest score=1)": 0.74,
         "Free and fair elections index": 0.958,
         "Freedom of Religion (highest score=1)": 0.98,
         "Freedom of the Press (highest score=1)": 0.84,
         "GDP": 2.9830923,
         "Gender Equality (highest score=1)": 0.78,
         "Gini coefficient": 0.4553261,
         "Harassment of journalists (highest score=1)": 0.75,
         "Health equality (highest score=1)": 0.88,
         "Human Development Index": 0.873,
         "Infant mortality rate (highest score=1)": 0.98,
         "Judicial Independence (highest score=1)": 1,
         "Liberal democracy index": 0.852,
         "Life expectancy (highest score=1)": 0.91,
         "Mean years of schooling (highest score=1)": 0.4,
         "Media bias (highest score=1)": 0.96,
         "Media freedom (highest score=1)": 1,
         "Predictable Enforcement (highest score=1)": 0.9,
         "Urban population (% of total population)": 85.028,
         "Voter turnout (highest score=1)": 0.84,
         "_deepnote_index_column": 4,
         "country": "Australia",
         "ethnicity_ratio": 0.84,
         "inflation_percentage_change": 12.316079474870255,
         "totalrefugees": 0,
         "unemployment_percentage_change": -10.616784630940334,
         "year": 1994
        }
       ],
       "type": "dataframe"
      },
      "text/html": [
       "<div>\n",
       "<style scoped>\n",
       "    .dataframe tbody tr th:only-of-type {\n",
       "        vertical-align: middle;\n",
       "    }\n",
       "\n",
       "    .dataframe tbody tr th {\n",
       "        vertical-align: top;\n",
       "    }\n",
       "\n",
       "    .dataframe thead th {\n",
       "        text-align: right;\n",
       "    }\n",
       "</style>\n",
       "<table border=\"1\" class=\"dataframe\">\n",
       "  <thead>\n",
       "    <tr style=\"text-align: right;\">\n",
       "      <th></th>\n",
       "      <th>country</th>\n",
       "      <th>year</th>\n",
       "      <th>Effective Parliament (highest score=1)</th>\n",
       "      <th>Election free and fair (highest score=1)</th>\n",
       "      <th>Election government intimidation (highest score=1)</th>\n",
       "      <th>Voter turnout (highest score=1)</th>\n",
       "      <th>Fair trial (highest score=1)</th>\n",
       "      <th>Judicial Independence (highest score=1)</th>\n",
       "      <th>Predictable Enforcement (highest score=1)</th>\n",
       "      <th>Freedom of Religion (highest score=1)</th>\n",
       "      <th>...</th>\n",
       "      <th>Gini coefficient</th>\n",
       "      <th>GDP</th>\n",
       "      <th>Conflict</th>\n",
       "      <th>Deaths</th>\n",
       "      <th>Free and fair elections index</th>\n",
       "      <th>Liberal democracy index</th>\n",
       "      <th>totalrefugees</th>\n",
       "      <th>ethnicity_ratio</th>\n",
       "      <th>unemployment_percentage_change</th>\n",
       "      <th>inflation_percentage_change</th>\n",
       "    </tr>\n",
       "  </thead>\n",
       "  <tbody>\n",
       "    <tr>\n",
       "      <th>0</th>\n",
       "      <td>Australia</td>\n",
       "      <td>1990</td>\n",
       "      <td>0.85</td>\n",
       "      <td>0.82</td>\n",
       "      <td>0.85</td>\n",
       "      <td>0.82</td>\n",
       "      <td>1.0</td>\n",
       "      <td>1.0</td>\n",
       "      <td>0.9</td>\n",
       "      <td>0.98</td>\n",
       "      <td>...</td>\n",
       "      <td>0.437959</td>\n",
       "      <td>2.057392</td>\n",
       "      <td>0</td>\n",
       "      <td>0</td>\n",
       "      <td>0.956</td>\n",
       "      <td>0.852</td>\n",
       "      <td>0.0</td>\n",
       "      <td>0.84</td>\n",
       "      <td>0.000000</td>\n",
       "      <td>-2.666355</td>\n",
       "    </tr>\n",
       "    <tr>\n",
       "      <th>1</th>\n",
       "      <td>Australia</td>\n",
       "      <td>1991</td>\n",
       "      <td>0.85</td>\n",
       "      <td>0.82</td>\n",
       "      <td>0.85</td>\n",
       "      <td>0.82</td>\n",
       "      <td>1.0</td>\n",
       "      <td>1.0</td>\n",
       "      <td>0.9</td>\n",
       "      <td>0.98</td>\n",
       "      <td>...</td>\n",
       "      <td>0.449667</td>\n",
       "      <td>-1.643571</td>\n",
       "      <td>0</td>\n",
       "      <td>0</td>\n",
       "      <td>0.956</td>\n",
       "      <td>0.852</td>\n",
       "      <td>0.0</td>\n",
       "      <td>0.84</td>\n",
       "      <td>0.000000</td>\n",
       "      <td>-56.679860</td>\n",
       "    </tr>\n",
       "    <tr>\n",
       "      <th>2</th>\n",
       "      <td>Australia</td>\n",
       "      <td>1992</td>\n",
       "      <td>0.85</td>\n",
       "      <td>0.82</td>\n",
       "      <td>0.85</td>\n",
       "      <td>0.82</td>\n",
       "      <td>1.0</td>\n",
       "      <td>1.0</td>\n",
       "      <td>0.9</td>\n",
       "      <td>0.98</td>\n",
       "      <td>...</td>\n",
       "      <td>0.444478</td>\n",
       "      <td>-0.690437</td>\n",
       "      <td>0</td>\n",
       "      <td>0</td>\n",
       "      <td>0.956</td>\n",
       "      <td>0.852</td>\n",
       "      <td>0.0</td>\n",
       "      <td>0.84</td>\n",
       "      <td>11.965366</td>\n",
       "      <td>-68.135519</td>\n",
       "    </tr>\n",
       "    <tr>\n",
       "      <th>3</th>\n",
       "      <td>Australia</td>\n",
       "      <td>1993</td>\n",
       "      <td>0.85</td>\n",
       "      <td>0.82</td>\n",
       "      <td>0.85</td>\n",
       "      <td>0.84</td>\n",
       "      <td>1.0</td>\n",
       "      <td>1.0</td>\n",
       "      <td>0.9</td>\n",
       "      <td>0.98</td>\n",
       "      <td>...</td>\n",
       "      <td>0.451112</td>\n",
       "      <td>3.123738</td>\n",
       "      <td>0</td>\n",
       "      <td>0</td>\n",
       "      <td>0.958</td>\n",
       "      <td>0.852</td>\n",
       "      <td>0.0</td>\n",
       "      <td>0.84</td>\n",
       "      <td>1.360291</td>\n",
       "      <td>73.246347</td>\n",
       "    </tr>\n",
       "    <tr>\n",
       "      <th>4</th>\n",
       "      <td>Australia</td>\n",
       "      <td>1994</td>\n",
       "      <td>0.85</td>\n",
       "      <td>0.82</td>\n",
       "      <td>0.85</td>\n",
       "      <td>0.84</td>\n",
       "      <td>1.0</td>\n",
       "      <td>1.0</td>\n",
       "      <td>0.9</td>\n",
       "      <td>0.98</td>\n",
       "      <td>...</td>\n",
       "      <td>0.455326</td>\n",
       "      <td>2.983092</td>\n",
       "      <td>0</td>\n",
       "      <td>0</td>\n",
       "      <td>0.958</td>\n",
       "      <td>0.852</td>\n",
       "      <td>0.0</td>\n",
       "      <td>0.84</td>\n",
       "      <td>-10.616785</td>\n",
       "      <td>12.316079</td>\n",
       "    </tr>\n",
       "  </tbody>\n",
       "</table>\n",
       "<p>5 rows × 33 columns</p>\n",
       "</div>"
      ],
      "text/plain": [
       "     country  year  Effective Parliament (highest score=1)  \\\n",
       "0  Australia  1990                                    0.85   \n",
       "1  Australia  1991                                    0.85   \n",
       "2  Australia  1992                                    0.85   \n",
       "3  Australia  1993                                    0.85   \n",
       "4  Australia  1994                                    0.85   \n",
       "\n",
       "   Election free and fair (highest score=1)  \\\n",
       "0                                      0.82   \n",
       "1                                      0.82   \n",
       "2                                      0.82   \n",
       "3                                      0.82   \n",
       "4                                      0.82   \n",
       "\n",
       "   Election government intimidation (highest score=1)  \\\n",
       "0                                               0.85    \n",
       "1                                               0.85    \n",
       "2                                               0.85    \n",
       "3                                               0.85    \n",
       "4                                               0.85    \n",
       "\n",
       "   Voter turnout (highest score=1)  Fair trial (highest score=1)  \\\n",
       "0                             0.82                           1.0   \n",
       "1                             0.82                           1.0   \n",
       "2                             0.82                           1.0   \n",
       "3                             0.84                           1.0   \n",
       "4                             0.84                           1.0   \n",
       "\n",
       "   Judicial Independence (highest score=1)  \\\n",
       "0                                      1.0   \n",
       "1                                      1.0   \n",
       "2                                      1.0   \n",
       "3                                      1.0   \n",
       "4                                      1.0   \n",
       "\n",
       "   Predictable Enforcement (highest score=1)  \\\n",
       "0                                        0.9   \n",
       "1                                        0.9   \n",
       "2                                        0.9   \n",
       "3                                        0.9   \n",
       "4                                        0.9   \n",
       "\n",
       "   Freedom of Religion (highest score=1)  ...  Gini coefficient       GDP  \\\n",
       "0                                   0.98  ...          0.437959  2.057392   \n",
       "1                                   0.98  ...          0.449667 -1.643571   \n",
       "2                                   0.98  ...          0.444478 -0.690437   \n",
       "3                                   0.98  ...          0.451112  3.123738   \n",
       "4                                   0.98  ...          0.455326  2.983092   \n",
       "\n",
       "   Conflict  Deaths  Free and fair elections index  Liberal democracy index  \\\n",
       "0         0       0                          0.956                    0.852   \n",
       "1         0       0                          0.956                    0.852   \n",
       "2         0       0                          0.956                    0.852   \n",
       "3         0       0                          0.958                    0.852   \n",
       "4         0       0                          0.958                    0.852   \n",
       "\n",
       "   totalrefugees  ethnicity_ratio  unemployment_percentage_change  \\\n",
       "0            0.0             0.84                        0.000000   \n",
       "1            0.0             0.84                        0.000000   \n",
       "2            0.0             0.84                       11.965366   \n",
       "3            0.0             0.84                        1.360291   \n",
       "4            0.0             0.84                      -10.616785   \n",
       "\n",
       "   inflation_percentage_change  \n",
       "0                    -2.666355  \n",
       "1                   -56.679860  \n",
       "2                   -68.135519  \n",
       "3                    73.246347  \n",
       "4                    12.316079  \n",
       "\n",
       "[5 rows x 33 columns]"
      ]
     },
     "execution_count": 17,
     "metadata": {},
     "output_type": "execute_result"
    }
   ],
   "source": [
    "# Merge the df_combined & Economic_Factors DataFrames\n",
    "df_combined = pd.merge(df_combined, Economic_Factors, on=['country', 'year'], how='outer')\n",
    "df_combined.head()"
   ]
  },
  {
   "cell_type": "markdown",
   "metadata": {
    "cell_id": "fa419163a1e54e0f830348938c0676cb",
    "deepnote_cell_type": "markdown",
    "id": "3e4bf99c"
   },
   "source": [
    "## 5. Exporting the Final Dataset\n",
    "\n",
    "After merging, we save the final cleaned dataset for further analysis."
   ]
  },
  {
   "cell_type": "code",
   "execution_count": null,
   "metadata": {
    "cell_id": "507da563d8d34d6cb8700441374aaea7",
    "deepnote_cell_type": "code",
    "execution_context_id": "69995baa-2f72-4ad6-a6e3-c8e557c14158",
    "execution_millis": 1,
    "execution_start": 1742317463258,
    "id": "c6eccff3",
    "outputId": "c64c938e-4aab-4238-fb6c-8f48197a43d1",
    "source_hash": "ab77dcd4"
   },
   "outputs": [
    {
     "data": {
      "text/plain": [
       "Index(['country', 'year', 'Effective Parliament (highest score=1)',\n",
       "       'Election free and fair (highest score=1)',\n",
       "       'Election government intimidation (highest score=1)',\n",
       "       'Voter turnout (highest score=1)', 'Fair trial (highest score=1)',\n",
       "       'Judicial Independence (highest score=1)',\n",
       "       'Predictable Enforcement (highest score=1)',\n",
       "       'Freedom of Religion (highest score=1)',\n",
       "       'Free Political Parties (highest score=1)',\n",
       "       'Harassment of journalists (highest score=1)',\n",
       "       'Media bias (highest score=1)', 'Media freedom (highest score=1)',\n",
       "       'Freedom of the Press (highest score=1)',\n",
       "       'Gender Equality (highest score=1)',\n",
       "       'Educational equality (highest score=1)',\n",
       "       'Health equality (highest score=1)',\n",
       "       'Infant mortality rate (highest score=1)',\n",
       "       'Life expectancy (highest score=1)',\n",
       "       'Mean years of schooling (highest score=1)', 'Human Development Index',\n",
       "       'Urban population (% of total population)', 'Gini coefficient', 'GDP',\n",
       "       'Conflict', 'Deaths', 'Free and fair elections index',\n",
       "       'Liberal democracy index', 'totalrefugees', 'ethnicity_ratio',\n",
       "       'unemployment_percentage_change', 'inflation_percentage_change'],\n",
       "      dtype='object')"
      ]
     },
     "execution_count": 18,
     "metadata": {},
     "output_type": "execute_result"
    }
   ],
   "source": [
    "# View the columns in the df_combined DataFrame\n",
    "df_combined.columns"
   ]
  },
  {
   "cell_type": "code",
   "execution_count": null,
   "metadata": {
    "cell_id": "531632f41e3142e19e7c2770089c0f19",
    "deepnote_cell_type": "code",
    "execution_context_id": "69995baa-2f72-4ad6-a6e3-c8e557c14158",
    "execution_millis": 0,
    "execution_start": 1742317463418,
    "id": "8282480b",
    "source_hash": "f5d615e4"
   },
   "outputs": [],
   "source": [
    "# Export the combined DataFrame\n",
    "df_combined.to_csv('/dataset/fully-combined.csv', index=False)"
   ]
  }
 ],
 "metadata": {
  "deepnote_notebook_id": "4025d2f5585b452f8bbe74bd0524eb4e",
  "kernelspec": {
   "display_name": "Python 3 (ipykernel)",
   "language": "python",
   "name": "python3"
  },
  "language_info": {
   "codemirror_mode": {
    "name": "ipython",
    "version": 3
   },
   "file_extension": ".py",
   "mimetype": "text/x-python",
   "name": "python",
   "nbconvert_exporter": "python",
   "pygments_lexer": "ipython3",
   "version": "3.12.4"
  }
 },
 "nbformat": 4,
 "nbformat_minor": 4
}
