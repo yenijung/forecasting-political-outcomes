{
 "cells": [
  {
   "cell_type": "markdown",
   "metadata": {
    "cell_id": "e8197bffefd94962824e9a07e6021e52",
    "deepnote_cell_type": "text-cell-h1",
    "formattedRanges": []
   },
   "source": [
    "# Economic - Unemployment"
   ]
  },
  {
   "cell_type": "code",
   "execution_count": 1,
   "metadata": {
    "cell_id": "11b030dbd28a44c382ab586280d652e1",
    "deepnote_cell_type": "code",
    "execution_context_id": "e72dfbbc-fcc7-4a8b-95f9-c66dbc1ce39b",
    "execution_millis": 1801,
    "execution_start": 1740937217580,
    "id": "CTaUXeL3q4N1",
    "source_hash": "35286e06"
   },
   "outputs": [],
   "source": [
    "# Import the libraries\n",
    "import pandas as pd\n",
    "import numpy as np\n",
    "import matplotlib.pyplot as plt\n",
    "import seaborn as sns\n",
    "\n",
    "import warnings\n",
    "warnings.filterwarnings('ignore')"
   ]
  },
  {
   "cell_type": "code",
   "execution_count": 2,
   "metadata": {
    "cell_id": "a667a16070f0436c96a6e975008abb64",
    "deepnote_cell_type": "code",
    "execution_context_id": "e72dfbbc-fcc7-4a8b-95f9-c66dbc1ce39b",
    "execution_millis": 371,
    "execution_start": 1740937219436,
    "id": "ta8b8oK4rBQQ",
    "source_hash": "abaa92f3"
   },
   "outputs": [],
   "source": [
    "# Load the data\n",
    "UNEMP = pd.read_csv(\"/dataset/economic/Unemployment.csv\")"
   ]
  },
  {
   "cell_type": "code",
   "execution_count": 3,
   "metadata": {
    "cell_id": "56cec6f1d19e4c56ad5e919d80561d9a",
    "colab": {
     "base_uri": "https://localhost:8080/",
     "height": 434
    },
    "deepnote_cell_type": "code",
    "execution_context_id": "e72dfbbc-fcc7-4a8b-95f9-c66dbc1ce39b",
    "execution_millis": 85,
    "execution_start": 1740937219864,
    "id": "bsBeBN-arDb6",
    "outputId": "a95763ad-1731-41de-fa4c-424c97102634",
    "source_hash": "83a0851f"
   },
   "outputs": [
    {
     "data": {
      "application/vnd.deepnote.dataframe.v3+json": {
       "column_count": 68,
       "columns": [
        {
         "dtype": "object",
         "name": "Country Name",
         "stats": {
          "categories": [
           {
            "count": 1,
            "name": "Aruba"
           },
           {
            "count": 1,
            "name": "Africa Eastern and Southern"
           },
           {
            "count": 3,
            "name": "3 others"
           }
          ],
          "nan_count": 0,
          "unique_count": 5
         }
        },
        {
         "dtype": "object",
         "name": "Country Code",
         "stats": {
          "categories": [
           {
            "count": 1,
            "name": "ABW"
           },
           {
            "count": 1,
            "name": "AFE"
           },
           {
            "count": 3,
            "name": "3 others"
           }
          ],
          "nan_count": 0,
          "unique_count": 5
         }
        },
        {
         "dtype": "object",
         "name": "Indicator Name",
         "stats": {
          "categories": [
           {
            "count": 5,
            "name": "Unemployment, total (% of total labor force) (modeled ILO estimate)"
           }
          ],
          "nan_count": 0,
          "unique_count": 1
         }
        },
        {
         "dtype": "object",
         "name": "Indicator Code",
         "stats": {
          "categories": [
           {
            "count": 5,
            "name": "SL.UEM.TOTL.ZS"
           }
          ],
          "nan_count": 0,
          "unique_count": 1
         }
        },
        {
         "dtype": "float64",
         "name": "1960",
         "stats": {
          "histogram": [
           {
            "bin_end": 0.1,
            "bin_start": 0,
            "count": 0
           },
           {
            "bin_end": 0.2,
            "bin_start": 0.1,
            "count": 0
           },
           {
            "bin_end": 0.30000000000000004,
            "bin_start": 0.2,
            "count": 0
           },
           {
            "bin_end": 0.4,
            "bin_start": 0.30000000000000004,
            "count": 0
           },
           {
            "bin_end": 0.5,
            "bin_start": 0.4,
            "count": 0
           },
           {
            "bin_end": 0.6000000000000001,
            "bin_start": 0.5,
            "count": 0
           },
           {
            "bin_end": 0.7000000000000001,
            "bin_start": 0.6000000000000001,
            "count": 0
           },
           {
            "bin_end": 0.8,
            "bin_start": 0.7000000000000001,
            "count": 0
           },
           {
            "bin_end": 0.9,
            "bin_start": 0.8,
            "count": 0
           },
           {
            "bin_end": 1,
            "bin_start": 0.9,
            "count": 0
           }
          ],
          "max": null,
          "min": null,
          "nan_count": 5,
          "unique_count": 0
         }
        },
        {
         "dtype": "float64",
         "name": "1961",
         "stats": {
          "histogram": [
           {
            "bin_end": 0.1,
            "bin_start": 0,
            "count": 0
           },
           {
            "bin_end": 0.2,
            "bin_start": 0.1,
            "count": 0
           },
           {
            "bin_end": 0.30000000000000004,
            "bin_start": 0.2,
            "count": 0
           },
           {
            "bin_end": 0.4,
            "bin_start": 0.30000000000000004,
            "count": 0
           },
           {
            "bin_end": 0.5,
            "bin_start": 0.4,
            "count": 0
           },
           {
            "bin_end": 0.6000000000000001,
            "bin_start": 0.5,
            "count": 0
           },
           {
            "bin_end": 0.7000000000000001,
            "bin_start": 0.6000000000000001,
            "count": 0
           },
           {
            "bin_end": 0.8,
            "bin_start": 0.7000000000000001,
            "count": 0
           },
           {
            "bin_end": 0.9,
            "bin_start": 0.8,
            "count": 0
           },
           {
            "bin_end": 1,
            "bin_start": 0.9,
            "count": 0
           }
          ],
          "max": null,
          "min": null,
          "nan_count": 5,
          "unique_count": 0
         }
        },
        {
         "dtype": "float64",
         "name": "1962",
         "stats": {
          "histogram": [
           {
            "bin_end": 0.1,
            "bin_start": 0,
            "count": 0
           },
           {
            "bin_end": 0.2,
            "bin_start": 0.1,
            "count": 0
           },
           {
            "bin_end": 0.30000000000000004,
            "bin_start": 0.2,
            "count": 0
           },
           {
            "bin_end": 0.4,
            "bin_start": 0.30000000000000004,
            "count": 0
           },
           {
            "bin_end": 0.5,
            "bin_start": 0.4,
            "count": 0
           },
           {
            "bin_end": 0.6000000000000001,
            "bin_start": 0.5,
            "count": 0
           },
           {
            "bin_end": 0.7000000000000001,
            "bin_start": 0.6000000000000001,
            "count": 0
           },
           {
            "bin_end": 0.8,
            "bin_start": 0.7000000000000001,
            "count": 0
           },
           {
            "bin_end": 0.9,
            "bin_start": 0.8,
            "count": 0
           },
           {
            "bin_end": 1,
            "bin_start": 0.9,
            "count": 0
           }
          ],
          "max": null,
          "min": null,
          "nan_count": 5,
          "unique_count": 0
         }
        },
        {
         "dtype": "float64",
         "name": "1963",
         "stats": {
          "histogram": [
           {
            "bin_end": 0.1,
            "bin_start": 0,
            "count": 0
           },
           {
            "bin_end": 0.2,
            "bin_start": 0.1,
            "count": 0
           },
           {
            "bin_end": 0.30000000000000004,
            "bin_start": 0.2,
            "count": 0
           },
           {
            "bin_end": 0.4,
            "bin_start": 0.30000000000000004,
            "count": 0
           },
           {
            "bin_end": 0.5,
            "bin_start": 0.4,
            "count": 0
           },
           {
            "bin_end": 0.6000000000000001,
            "bin_start": 0.5,
            "count": 0
           },
           {
            "bin_end": 0.7000000000000001,
            "bin_start": 0.6000000000000001,
            "count": 0
           },
           {
            "bin_end": 0.8,
            "bin_start": 0.7000000000000001,
            "count": 0
           },
           {
            "bin_end": 0.9,
            "bin_start": 0.8,
            "count": 0
           },
           {
            "bin_end": 1,
            "bin_start": 0.9,
            "count": 0
           }
          ],
          "max": null,
          "min": null,
          "nan_count": 5,
          "unique_count": 0
         }
        },
        {
         "dtype": "float64",
         "name": "1964",
         "stats": {
          "histogram": [
           {
            "bin_end": 0.1,
            "bin_start": 0,
            "count": 0
           },
           {
            "bin_end": 0.2,
            "bin_start": 0.1,
            "count": 0
           },
           {
            "bin_end": 0.30000000000000004,
            "bin_start": 0.2,
            "count": 0
           },
           {
            "bin_end": 0.4,
            "bin_start": 0.30000000000000004,
            "count": 0
           },
           {
            "bin_end": 0.5,
            "bin_start": 0.4,
            "count": 0
           },
           {
            "bin_end": 0.6000000000000001,
            "bin_start": 0.5,
            "count": 0
           },
           {
            "bin_end": 0.7000000000000001,
            "bin_start": 0.6000000000000001,
            "count": 0
           },
           {
            "bin_end": 0.8,
            "bin_start": 0.7000000000000001,
            "count": 0
           },
           {
            "bin_end": 0.9,
            "bin_start": 0.8,
            "count": 0
           },
           {
            "bin_end": 1,
            "bin_start": 0.9,
            "count": 0
           }
          ],
          "max": null,
          "min": null,
          "nan_count": 5,
          "unique_count": 0
         }
        },
        {
         "dtype": "float64",
         "name": "1965",
         "stats": {
          "histogram": [
           {
            "bin_end": 0.1,
            "bin_start": 0,
            "count": 0
           },
           {
            "bin_end": 0.2,
            "bin_start": 0.1,
            "count": 0
           },
           {
            "bin_end": 0.30000000000000004,
            "bin_start": 0.2,
            "count": 0
           },
           {
            "bin_end": 0.4,
            "bin_start": 0.30000000000000004,
            "count": 0
           },
           {
            "bin_end": 0.5,
            "bin_start": 0.4,
            "count": 0
           },
           {
            "bin_end": 0.6000000000000001,
            "bin_start": 0.5,
            "count": 0
           },
           {
            "bin_end": 0.7000000000000001,
            "bin_start": 0.6000000000000001,
            "count": 0
           },
           {
            "bin_end": 0.8,
            "bin_start": 0.7000000000000001,
            "count": 0
           },
           {
            "bin_end": 0.9,
            "bin_start": 0.8,
            "count": 0
           },
           {
            "bin_end": 1,
            "bin_start": 0.9,
            "count": 0
           }
          ],
          "max": null,
          "min": null,
          "nan_count": 5,
          "unique_count": 0
         }
        },
        {
         "dtype": "float64",
         "name": "1966",
         "stats": {
          "histogram": [
           {
            "bin_end": 0.1,
            "bin_start": 0,
            "count": 0
           },
           {
            "bin_end": 0.2,
            "bin_start": 0.1,
            "count": 0
           },
           {
            "bin_end": 0.30000000000000004,
            "bin_start": 0.2,
            "count": 0
           },
           {
            "bin_end": 0.4,
            "bin_start": 0.30000000000000004,
            "count": 0
           },
           {
            "bin_end": 0.5,
            "bin_start": 0.4,
            "count": 0
           },
           {
            "bin_end": 0.6000000000000001,
            "bin_start": 0.5,
            "count": 0
           },
           {
            "bin_end": 0.7000000000000001,
            "bin_start": 0.6000000000000001,
            "count": 0
           },
           {
            "bin_end": 0.8,
            "bin_start": 0.7000000000000001,
            "count": 0
           },
           {
            "bin_end": 0.9,
            "bin_start": 0.8,
            "count": 0
           },
           {
            "bin_end": 1,
            "bin_start": 0.9,
            "count": 0
           }
          ],
          "max": null,
          "min": null,
          "nan_count": 5,
          "unique_count": 0
         }
        },
        {
         "dtype": "float64",
         "name": "1967",
         "stats": {
          "histogram": [
           {
            "bin_end": 0.1,
            "bin_start": 0,
            "count": 0
           },
           {
            "bin_end": 0.2,
            "bin_start": 0.1,
            "count": 0
           },
           {
            "bin_end": 0.30000000000000004,
            "bin_start": 0.2,
            "count": 0
           },
           {
            "bin_end": 0.4,
            "bin_start": 0.30000000000000004,
            "count": 0
           },
           {
            "bin_end": 0.5,
            "bin_start": 0.4,
            "count": 0
           },
           {
            "bin_end": 0.6000000000000001,
            "bin_start": 0.5,
            "count": 0
           },
           {
            "bin_end": 0.7000000000000001,
            "bin_start": 0.6000000000000001,
            "count": 0
           },
           {
            "bin_end": 0.8,
            "bin_start": 0.7000000000000001,
            "count": 0
           },
           {
            "bin_end": 0.9,
            "bin_start": 0.8,
            "count": 0
           },
           {
            "bin_end": 1,
            "bin_start": 0.9,
            "count": 0
           }
          ],
          "max": null,
          "min": null,
          "nan_count": 5,
          "unique_count": 0
         }
        },
        {
         "dtype": "float64",
         "name": "1968",
         "stats": {
          "histogram": [
           {
            "bin_end": 0.1,
            "bin_start": 0,
            "count": 0
           },
           {
            "bin_end": 0.2,
            "bin_start": 0.1,
            "count": 0
           },
           {
            "bin_end": 0.30000000000000004,
            "bin_start": 0.2,
            "count": 0
           },
           {
            "bin_end": 0.4,
            "bin_start": 0.30000000000000004,
            "count": 0
           },
           {
            "bin_end": 0.5,
            "bin_start": 0.4,
            "count": 0
           },
           {
            "bin_end": 0.6000000000000001,
            "bin_start": 0.5,
            "count": 0
           },
           {
            "bin_end": 0.7000000000000001,
            "bin_start": 0.6000000000000001,
            "count": 0
           },
           {
            "bin_end": 0.8,
            "bin_start": 0.7000000000000001,
            "count": 0
           },
           {
            "bin_end": 0.9,
            "bin_start": 0.8,
            "count": 0
           },
           {
            "bin_end": 1,
            "bin_start": 0.9,
            "count": 0
           }
          ],
          "max": null,
          "min": null,
          "nan_count": 5,
          "unique_count": 0
         }
        },
        {
         "dtype": "float64",
         "name": "1969",
         "stats": {
          "histogram": [
           {
            "bin_end": 0.1,
            "bin_start": 0,
            "count": 0
           },
           {
            "bin_end": 0.2,
            "bin_start": 0.1,
            "count": 0
           },
           {
            "bin_end": 0.30000000000000004,
            "bin_start": 0.2,
            "count": 0
           },
           {
            "bin_end": 0.4,
            "bin_start": 0.30000000000000004,
            "count": 0
           },
           {
            "bin_end": 0.5,
            "bin_start": 0.4,
            "count": 0
           },
           {
            "bin_end": 0.6000000000000001,
            "bin_start": 0.5,
            "count": 0
           },
           {
            "bin_end": 0.7000000000000001,
            "bin_start": 0.6000000000000001,
            "count": 0
           },
           {
            "bin_end": 0.8,
            "bin_start": 0.7000000000000001,
            "count": 0
           },
           {
            "bin_end": 0.9,
            "bin_start": 0.8,
            "count": 0
           },
           {
            "bin_end": 1,
            "bin_start": 0.9,
            "count": 0
           }
          ],
          "max": null,
          "min": null,
          "nan_count": 5,
          "unique_count": 0
         }
        },
        {
         "dtype": "float64",
         "name": "1970",
         "stats": {
          "histogram": [
           {
            "bin_end": 0.1,
            "bin_start": 0,
            "count": 0
           },
           {
            "bin_end": 0.2,
            "bin_start": 0.1,
            "count": 0
           },
           {
            "bin_end": 0.30000000000000004,
            "bin_start": 0.2,
            "count": 0
           },
           {
            "bin_end": 0.4,
            "bin_start": 0.30000000000000004,
            "count": 0
           },
           {
            "bin_end": 0.5,
            "bin_start": 0.4,
            "count": 0
           },
           {
            "bin_end": 0.6000000000000001,
            "bin_start": 0.5,
            "count": 0
           },
           {
            "bin_end": 0.7000000000000001,
            "bin_start": 0.6000000000000001,
            "count": 0
           },
           {
            "bin_end": 0.8,
            "bin_start": 0.7000000000000001,
            "count": 0
           },
           {
            "bin_end": 0.9,
            "bin_start": 0.8,
            "count": 0
           },
           {
            "bin_end": 1,
            "bin_start": 0.9,
            "count": 0
           }
          ],
          "max": null,
          "min": null,
          "nan_count": 5,
          "unique_count": 0
         }
        },
        {
         "dtype": "float64",
         "name": "1971",
         "stats": {
          "histogram": [
           {
            "bin_end": 0.1,
            "bin_start": 0,
            "count": 0
           },
           {
            "bin_end": 0.2,
            "bin_start": 0.1,
            "count": 0
           },
           {
            "bin_end": 0.30000000000000004,
            "bin_start": 0.2,
            "count": 0
           },
           {
            "bin_end": 0.4,
            "bin_start": 0.30000000000000004,
            "count": 0
           },
           {
            "bin_end": 0.5,
            "bin_start": 0.4,
            "count": 0
           },
           {
            "bin_end": 0.6000000000000001,
            "bin_start": 0.5,
            "count": 0
           },
           {
            "bin_end": 0.7000000000000001,
            "bin_start": 0.6000000000000001,
            "count": 0
           },
           {
            "bin_end": 0.8,
            "bin_start": 0.7000000000000001,
            "count": 0
           },
           {
            "bin_end": 0.9,
            "bin_start": 0.8,
            "count": 0
           },
           {
            "bin_end": 1,
            "bin_start": 0.9,
            "count": 0
           }
          ],
          "max": null,
          "min": null,
          "nan_count": 5,
          "unique_count": 0
         }
        },
        {
         "dtype": "float64",
         "name": "1972",
         "stats": {
          "histogram": [
           {
            "bin_end": 0.1,
            "bin_start": 0,
            "count": 0
           },
           {
            "bin_end": 0.2,
            "bin_start": 0.1,
            "count": 0
           },
           {
            "bin_end": 0.30000000000000004,
            "bin_start": 0.2,
            "count": 0
           },
           {
            "bin_end": 0.4,
            "bin_start": 0.30000000000000004,
            "count": 0
           },
           {
            "bin_end": 0.5,
            "bin_start": 0.4,
            "count": 0
           },
           {
            "bin_end": 0.6000000000000001,
            "bin_start": 0.5,
            "count": 0
           },
           {
            "bin_end": 0.7000000000000001,
            "bin_start": 0.6000000000000001,
            "count": 0
           },
           {
            "bin_end": 0.8,
            "bin_start": 0.7000000000000001,
            "count": 0
           },
           {
            "bin_end": 0.9,
            "bin_start": 0.8,
            "count": 0
           },
           {
            "bin_end": 1,
            "bin_start": 0.9,
            "count": 0
           }
          ],
          "max": null,
          "min": null,
          "nan_count": 5,
          "unique_count": 0
         }
        },
        {
         "dtype": "float64",
         "name": "1973",
         "stats": {
          "histogram": [
           {
            "bin_end": 0.1,
            "bin_start": 0,
            "count": 0
           },
           {
            "bin_end": 0.2,
            "bin_start": 0.1,
            "count": 0
           },
           {
            "bin_end": 0.30000000000000004,
            "bin_start": 0.2,
            "count": 0
           },
           {
            "bin_end": 0.4,
            "bin_start": 0.30000000000000004,
            "count": 0
           },
           {
            "bin_end": 0.5,
            "bin_start": 0.4,
            "count": 0
           },
           {
            "bin_end": 0.6000000000000001,
            "bin_start": 0.5,
            "count": 0
           },
           {
            "bin_end": 0.7000000000000001,
            "bin_start": 0.6000000000000001,
            "count": 0
           },
           {
            "bin_end": 0.8,
            "bin_start": 0.7000000000000001,
            "count": 0
           },
           {
            "bin_end": 0.9,
            "bin_start": 0.8,
            "count": 0
           },
           {
            "bin_end": 1,
            "bin_start": 0.9,
            "count": 0
           }
          ],
          "max": null,
          "min": null,
          "nan_count": 5,
          "unique_count": 0
         }
        },
        {
         "dtype": "float64",
         "name": "1974",
         "stats": {
          "histogram": [
           {
            "bin_end": 0.1,
            "bin_start": 0,
            "count": 0
           },
           {
            "bin_end": 0.2,
            "bin_start": 0.1,
            "count": 0
           },
           {
            "bin_end": 0.30000000000000004,
            "bin_start": 0.2,
            "count": 0
           },
           {
            "bin_end": 0.4,
            "bin_start": 0.30000000000000004,
            "count": 0
           },
           {
            "bin_end": 0.5,
            "bin_start": 0.4,
            "count": 0
           },
           {
            "bin_end": 0.6000000000000001,
            "bin_start": 0.5,
            "count": 0
           },
           {
            "bin_end": 0.7000000000000001,
            "bin_start": 0.6000000000000001,
            "count": 0
           },
           {
            "bin_end": 0.8,
            "bin_start": 0.7000000000000001,
            "count": 0
           },
           {
            "bin_end": 0.9,
            "bin_start": 0.8,
            "count": 0
           },
           {
            "bin_end": 1,
            "bin_start": 0.9,
            "count": 0
           }
          ],
          "max": null,
          "min": null,
          "nan_count": 5,
          "unique_count": 0
         }
        },
        {
         "dtype": "float64",
         "name": "1975",
         "stats": {
          "histogram": [
           {
            "bin_end": 0.1,
            "bin_start": 0,
            "count": 0
           },
           {
            "bin_end": 0.2,
            "bin_start": 0.1,
            "count": 0
           },
           {
            "bin_end": 0.30000000000000004,
            "bin_start": 0.2,
            "count": 0
           },
           {
            "bin_end": 0.4,
            "bin_start": 0.30000000000000004,
            "count": 0
           },
           {
            "bin_end": 0.5,
            "bin_start": 0.4,
            "count": 0
           },
           {
            "bin_end": 0.6000000000000001,
            "bin_start": 0.5,
            "count": 0
           },
           {
            "bin_end": 0.7000000000000001,
            "bin_start": 0.6000000000000001,
            "count": 0
           },
           {
            "bin_end": 0.8,
            "bin_start": 0.7000000000000001,
            "count": 0
           },
           {
            "bin_end": 0.9,
            "bin_start": 0.8,
            "count": 0
           },
           {
            "bin_end": 1,
            "bin_start": 0.9,
            "count": 0
           }
          ],
          "max": null,
          "min": null,
          "nan_count": 5,
          "unique_count": 0
         }
        },
        {
         "dtype": "float64",
         "name": "1976",
         "stats": {
          "histogram": [
           {
            "bin_end": 0.1,
            "bin_start": 0,
            "count": 0
           },
           {
            "bin_end": 0.2,
            "bin_start": 0.1,
            "count": 0
           },
           {
            "bin_end": 0.30000000000000004,
            "bin_start": 0.2,
            "count": 0
           },
           {
            "bin_end": 0.4,
            "bin_start": 0.30000000000000004,
            "count": 0
           },
           {
            "bin_end": 0.5,
            "bin_start": 0.4,
            "count": 0
           },
           {
            "bin_end": 0.6000000000000001,
            "bin_start": 0.5,
            "count": 0
           },
           {
            "bin_end": 0.7000000000000001,
            "bin_start": 0.6000000000000001,
            "count": 0
           },
           {
            "bin_end": 0.8,
            "bin_start": 0.7000000000000001,
            "count": 0
           },
           {
            "bin_end": 0.9,
            "bin_start": 0.8,
            "count": 0
           },
           {
            "bin_end": 1,
            "bin_start": 0.9,
            "count": 0
           }
          ],
          "max": null,
          "min": null,
          "nan_count": 5,
          "unique_count": 0
         }
        },
        {
         "dtype": "float64",
         "name": "1977",
         "stats": {
          "histogram": [
           {
            "bin_end": 0.1,
            "bin_start": 0,
            "count": 0
           },
           {
            "bin_end": 0.2,
            "bin_start": 0.1,
            "count": 0
           },
           {
            "bin_end": 0.30000000000000004,
            "bin_start": 0.2,
            "count": 0
           },
           {
            "bin_end": 0.4,
            "bin_start": 0.30000000000000004,
            "count": 0
           },
           {
            "bin_end": 0.5,
            "bin_start": 0.4,
            "count": 0
           },
           {
            "bin_end": 0.6000000000000001,
            "bin_start": 0.5,
            "count": 0
           },
           {
            "bin_end": 0.7000000000000001,
            "bin_start": 0.6000000000000001,
            "count": 0
           },
           {
            "bin_end": 0.8,
            "bin_start": 0.7000000000000001,
            "count": 0
           },
           {
            "bin_end": 0.9,
            "bin_start": 0.8,
            "count": 0
           },
           {
            "bin_end": 1,
            "bin_start": 0.9,
            "count": 0
           }
          ],
          "max": null,
          "min": null,
          "nan_count": 5,
          "unique_count": 0
         }
        },
        {
         "dtype": "float64",
         "name": "1978",
         "stats": {
          "histogram": [
           {
            "bin_end": 0.1,
            "bin_start": 0,
            "count": 0
           },
           {
            "bin_end": 0.2,
            "bin_start": 0.1,
            "count": 0
           },
           {
            "bin_end": 0.30000000000000004,
            "bin_start": 0.2,
            "count": 0
           },
           {
            "bin_end": 0.4,
            "bin_start": 0.30000000000000004,
            "count": 0
           },
           {
            "bin_end": 0.5,
            "bin_start": 0.4,
            "count": 0
           },
           {
            "bin_end": 0.6000000000000001,
            "bin_start": 0.5,
            "count": 0
           },
           {
            "bin_end": 0.7000000000000001,
            "bin_start": 0.6000000000000001,
            "count": 0
           },
           {
            "bin_end": 0.8,
            "bin_start": 0.7000000000000001,
            "count": 0
           },
           {
            "bin_end": 0.9,
            "bin_start": 0.8,
            "count": 0
           },
           {
            "bin_end": 1,
            "bin_start": 0.9,
            "count": 0
           }
          ],
          "max": null,
          "min": null,
          "nan_count": 5,
          "unique_count": 0
         }
        },
        {
         "dtype": "float64",
         "name": "1979",
         "stats": {
          "histogram": [
           {
            "bin_end": 0.1,
            "bin_start": 0,
            "count": 0
           },
           {
            "bin_end": 0.2,
            "bin_start": 0.1,
            "count": 0
           },
           {
            "bin_end": 0.30000000000000004,
            "bin_start": 0.2,
            "count": 0
           },
           {
            "bin_end": 0.4,
            "bin_start": 0.30000000000000004,
            "count": 0
           },
           {
            "bin_end": 0.5,
            "bin_start": 0.4,
            "count": 0
           },
           {
            "bin_end": 0.6000000000000001,
            "bin_start": 0.5,
            "count": 0
           },
           {
            "bin_end": 0.7000000000000001,
            "bin_start": 0.6000000000000001,
            "count": 0
           },
           {
            "bin_end": 0.8,
            "bin_start": 0.7000000000000001,
            "count": 0
           },
           {
            "bin_end": 0.9,
            "bin_start": 0.8,
            "count": 0
           },
           {
            "bin_end": 1,
            "bin_start": 0.9,
            "count": 0
           }
          ],
          "max": null,
          "min": null,
          "nan_count": 5,
          "unique_count": 0
         }
        },
        {
         "dtype": "float64",
         "name": "1980",
         "stats": {
          "histogram": [
           {
            "bin_end": 0.1,
            "bin_start": 0,
            "count": 0
           },
           {
            "bin_end": 0.2,
            "bin_start": 0.1,
            "count": 0
           },
           {
            "bin_end": 0.30000000000000004,
            "bin_start": 0.2,
            "count": 0
           },
           {
            "bin_end": 0.4,
            "bin_start": 0.30000000000000004,
            "count": 0
           },
           {
            "bin_end": 0.5,
            "bin_start": 0.4,
            "count": 0
           },
           {
            "bin_end": 0.6000000000000001,
            "bin_start": 0.5,
            "count": 0
           },
           {
            "bin_end": 0.7000000000000001,
            "bin_start": 0.6000000000000001,
            "count": 0
           },
           {
            "bin_end": 0.8,
            "bin_start": 0.7000000000000001,
            "count": 0
           },
           {
            "bin_end": 0.9,
            "bin_start": 0.8,
            "count": 0
           },
           {
            "bin_end": 1,
            "bin_start": 0.9,
            "count": 0
           }
          ],
          "max": null,
          "min": null,
          "nan_count": 5,
          "unique_count": 0
         }
        },
        {
         "dtype": "float64",
         "name": "1981",
         "stats": {
          "histogram": [
           {
            "bin_end": 0.1,
            "bin_start": 0,
            "count": 0
           },
           {
            "bin_end": 0.2,
            "bin_start": 0.1,
            "count": 0
           },
           {
            "bin_end": 0.30000000000000004,
            "bin_start": 0.2,
            "count": 0
           },
           {
            "bin_end": 0.4,
            "bin_start": 0.30000000000000004,
            "count": 0
           },
           {
            "bin_end": 0.5,
            "bin_start": 0.4,
            "count": 0
           },
           {
            "bin_end": 0.6000000000000001,
            "bin_start": 0.5,
            "count": 0
           },
           {
            "bin_end": 0.7000000000000001,
            "bin_start": 0.6000000000000001,
            "count": 0
           },
           {
            "bin_end": 0.8,
            "bin_start": 0.7000000000000001,
            "count": 0
           },
           {
            "bin_end": 0.9,
            "bin_start": 0.8,
            "count": 0
           },
           {
            "bin_end": 1,
            "bin_start": 0.9,
            "count": 0
           }
          ],
          "max": null,
          "min": null,
          "nan_count": 5,
          "unique_count": 0
         }
        },
        {
         "dtype": "float64",
         "name": "1982",
         "stats": {
          "histogram": [
           {
            "bin_end": 0.1,
            "bin_start": 0,
            "count": 0
           },
           {
            "bin_end": 0.2,
            "bin_start": 0.1,
            "count": 0
           },
           {
            "bin_end": 0.30000000000000004,
            "bin_start": 0.2,
            "count": 0
           },
           {
            "bin_end": 0.4,
            "bin_start": 0.30000000000000004,
            "count": 0
           },
           {
            "bin_end": 0.5,
            "bin_start": 0.4,
            "count": 0
           },
           {
            "bin_end": 0.6000000000000001,
            "bin_start": 0.5,
            "count": 0
           },
           {
            "bin_end": 0.7000000000000001,
            "bin_start": 0.6000000000000001,
            "count": 0
           },
           {
            "bin_end": 0.8,
            "bin_start": 0.7000000000000001,
            "count": 0
           },
           {
            "bin_end": 0.9,
            "bin_start": 0.8,
            "count": 0
           },
           {
            "bin_end": 1,
            "bin_start": 0.9,
            "count": 0
           }
          ],
          "max": null,
          "min": null,
          "nan_count": 5,
          "unique_count": 0
         }
        },
        {
         "dtype": "float64",
         "name": "1983",
         "stats": {
          "histogram": [
           {
            "bin_end": 0.1,
            "bin_start": 0,
            "count": 0
           },
           {
            "bin_end": 0.2,
            "bin_start": 0.1,
            "count": 0
           },
           {
            "bin_end": 0.30000000000000004,
            "bin_start": 0.2,
            "count": 0
           },
           {
            "bin_end": 0.4,
            "bin_start": 0.30000000000000004,
            "count": 0
           },
           {
            "bin_end": 0.5,
            "bin_start": 0.4,
            "count": 0
           },
           {
            "bin_end": 0.6000000000000001,
            "bin_start": 0.5,
            "count": 0
           },
           {
            "bin_end": 0.7000000000000001,
            "bin_start": 0.6000000000000001,
            "count": 0
           },
           {
            "bin_end": 0.8,
            "bin_start": 0.7000000000000001,
            "count": 0
           },
           {
            "bin_end": 0.9,
            "bin_start": 0.8,
            "count": 0
           },
           {
            "bin_end": 1,
            "bin_start": 0.9,
            "count": 0
           }
          ],
          "max": null,
          "min": null,
          "nan_count": 5,
          "unique_count": 0
         }
        },
        {
         "dtype": "float64",
         "name": "1984",
         "stats": {
          "histogram": [
           {
            "bin_end": 0.1,
            "bin_start": 0,
            "count": 0
           },
           {
            "bin_end": 0.2,
            "bin_start": 0.1,
            "count": 0
           },
           {
            "bin_end": 0.30000000000000004,
            "bin_start": 0.2,
            "count": 0
           },
           {
            "bin_end": 0.4,
            "bin_start": 0.30000000000000004,
            "count": 0
           },
           {
            "bin_end": 0.5,
            "bin_start": 0.4,
            "count": 0
           },
           {
            "bin_end": 0.6000000000000001,
            "bin_start": 0.5,
            "count": 0
           },
           {
            "bin_end": 0.7000000000000001,
            "bin_start": 0.6000000000000001,
            "count": 0
           },
           {
            "bin_end": 0.8,
            "bin_start": 0.7000000000000001,
            "count": 0
           },
           {
            "bin_end": 0.9,
            "bin_start": 0.8,
            "count": 0
           },
           {
            "bin_end": 1,
            "bin_start": 0.9,
            "count": 0
           }
          ],
          "max": null,
          "min": null,
          "nan_count": 5,
          "unique_count": 0
         }
        },
        {
         "dtype": "float64",
         "name": "1985",
         "stats": {
          "histogram": [
           {
            "bin_end": 0.1,
            "bin_start": 0,
            "count": 0
           },
           {
            "bin_end": 0.2,
            "bin_start": 0.1,
            "count": 0
           },
           {
            "bin_end": 0.30000000000000004,
            "bin_start": 0.2,
            "count": 0
           },
           {
            "bin_end": 0.4,
            "bin_start": 0.30000000000000004,
            "count": 0
           },
           {
            "bin_end": 0.5,
            "bin_start": 0.4,
            "count": 0
           },
           {
            "bin_end": 0.6000000000000001,
            "bin_start": 0.5,
            "count": 0
           },
           {
            "bin_end": 0.7000000000000001,
            "bin_start": 0.6000000000000001,
            "count": 0
           },
           {
            "bin_end": 0.8,
            "bin_start": 0.7000000000000001,
            "count": 0
           },
           {
            "bin_end": 0.9,
            "bin_start": 0.8,
            "count": 0
           },
           {
            "bin_end": 1,
            "bin_start": 0.9,
            "count": 0
           }
          ],
          "max": null,
          "min": null,
          "nan_count": 5,
          "unique_count": 0
         }
        },
        {
         "dtype": "float64",
         "name": "1986",
         "stats": {
          "histogram": [
           {
            "bin_end": 0.1,
            "bin_start": 0,
            "count": 0
           },
           {
            "bin_end": 0.2,
            "bin_start": 0.1,
            "count": 0
           },
           {
            "bin_end": 0.30000000000000004,
            "bin_start": 0.2,
            "count": 0
           },
           {
            "bin_end": 0.4,
            "bin_start": 0.30000000000000004,
            "count": 0
           },
           {
            "bin_end": 0.5,
            "bin_start": 0.4,
            "count": 0
           },
           {
            "bin_end": 0.6000000000000001,
            "bin_start": 0.5,
            "count": 0
           },
           {
            "bin_end": 0.7000000000000001,
            "bin_start": 0.6000000000000001,
            "count": 0
           },
           {
            "bin_end": 0.8,
            "bin_start": 0.7000000000000001,
            "count": 0
           },
           {
            "bin_end": 0.9,
            "bin_start": 0.8,
            "count": 0
           },
           {
            "bin_end": 1,
            "bin_start": 0.9,
            "count": 0
           }
          ],
          "max": null,
          "min": null,
          "nan_count": 5,
          "unique_count": 0
         }
        },
        {
         "dtype": "float64",
         "name": "1987",
         "stats": {
          "histogram": [
           {
            "bin_end": 0.1,
            "bin_start": 0,
            "count": 0
           },
           {
            "bin_end": 0.2,
            "bin_start": 0.1,
            "count": 0
           },
           {
            "bin_end": 0.30000000000000004,
            "bin_start": 0.2,
            "count": 0
           },
           {
            "bin_end": 0.4,
            "bin_start": 0.30000000000000004,
            "count": 0
           },
           {
            "bin_end": 0.5,
            "bin_start": 0.4,
            "count": 0
           },
           {
            "bin_end": 0.6000000000000001,
            "bin_start": 0.5,
            "count": 0
           },
           {
            "bin_end": 0.7000000000000001,
            "bin_start": 0.6000000000000001,
            "count": 0
           },
           {
            "bin_end": 0.8,
            "bin_start": 0.7000000000000001,
            "count": 0
           },
           {
            "bin_end": 0.9,
            "bin_start": 0.8,
            "count": 0
           },
           {
            "bin_end": 1,
            "bin_start": 0.9,
            "count": 0
           }
          ],
          "max": null,
          "min": null,
          "nan_count": 5,
          "unique_count": 0
         }
        },
        {
         "dtype": "float64",
         "name": "1988",
         "stats": {
          "histogram": [
           {
            "bin_end": 0.1,
            "bin_start": 0,
            "count": 0
           },
           {
            "bin_end": 0.2,
            "bin_start": 0.1,
            "count": 0
           },
           {
            "bin_end": 0.30000000000000004,
            "bin_start": 0.2,
            "count": 0
           },
           {
            "bin_end": 0.4,
            "bin_start": 0.30000000000000004,
            "count": 0
           },
           {
            "bin_end": 0.5,
            "bin_start": 0.4,
            "count": 0
           },
           {
            "bin_end": 0.6000000000000001,
            "bin_start": 0.5,
            "count": 0
           },
           {
            "bin_end": 0.7000000000000001,
            "bin_start": 0.6000000000000001,
            "count": 0
           },
           {
            "bin_end": 0.8,
            "bin_start": 0.7000000000000001,
            "count": 0
           },
           {
            "bin_end": 0.9,
            "bin_start": 0.8,
            "count": 0
           },
           {
            "bin_end": 1,
            "bin_start": 0.9,
            "count": 0
           }
          ],
          "max": null,
          "min": null,
          "nan_count": 5,
          "unique_count": 0
         }
        },
        {
         "dtype": "float64",
         "name": "1989",
         "stats": {
          "histogram": [
           {
            "bin_end": 0.1,
            "bin_start": 0,
            "count": 0
           },
           {
            "bin_end": 0.2,
            "bin_start": 0.1,
            "count": 0
           },
           {
            "bin_end": 0.30000000000000004,
            "bin_start": 0.2,
            "count": 0
           },
           {
            "bin_end": 0.4,
            "bin_start": 0.30000000000000004,
            "count": 0
           },
           {
            "bin_end": 0.5,
            "bin_start": 0.4,
            "count": 0
           },
           {
            "bin_end": 0.6000000000000001,
            "bin_start": 0.5,
            "count": 0
           },
           {
            "bin_end": 0.7000000000000001,
            "bin_start": 0.6000000000000001,
            "count": 0
           },
           {
            "bin_end": 0.8,
            "bin_start": 0.7000000000000001,
            "count": 0
           },
           {
            "bin_end": 0.9,
            "bin_start": 0.8,
            "count": 0
           },
           {
            "bin_end": 1,
            "bin_start": 0.9,
            "count": 0
           }
          ],
          "max": null,
          "min": null,
          "nan_count": 5,
          "unique_count": 0
         }
        },
        {
         "dtype": "float64",
         "name": "1990",
         "stats": {
          "histogram": [
           {
            "bin_end": 0.1,
            "bin_start": 0,
            "count": 0
           },
           {
            "bin_end": 0.2,
            "bin_start": 0.1,
            "count": 0
           },
           {
            "bin_end": 0.30000000000000004,
            "bin_start": 0.2,
            "count": 0
           },
           {
            "bin_end": 0.4,
            "bin_start": 0.30000000000000004,
            "count": 0
           },
           {
            "bin_end": 0.5,
            "bin_start": 0.4,
            "count": 0
           },
           {
            "bin_end": 0.6000000000000001,
            "bin_start": 0.5,
            "count": 0
           },
           {
            "bin_end": 0.7000000000000001,
            "bin_start": 0.6000000000000001,
            "count": 0
           },
           {
            "bin_end": 0.8,
            "bin_start": 0.7000000000000001,
            "count": 0
           },
           {
            "bin_end": 0.9,
            "bin_start": 0.8,
            "count": 0
           },
           {
            "bin_end": 1,
            "bin_start": 0.9,
            "count": 0
           }
          ],
          "max": null,
          "min": null,
          "nan_count": 5,
          "unique_count": 0
         }
        },
        {
         "dtype": "float64",
         "name": "1991",
         "stats": {
          "histogram": [
           {
            "bin_end": 5.3894814145,
            "bin_start": 4.158534905,
            "count": 1
           },
           {
            "bin_end": 6.6204279239999995,
            "bin_start": 5.3894814145,
            "count": 0
           },
           {
            "bin_end": 7.8513744335,
            "bin_start": 6.6204279239999995,
            "count": 1
           },
           {
            "bin_end": 9.082320943,
            "bin_start": 7.8513744335,
            "count": 1
           },
           {
            "bin_end": 10.3132674525,
            "bin_start": 9.082320943,
            "count": 0
           },
           {
            "bin_end": 11.544213962,
            "bin_start": 10.3132674525,
            "count": 0
           },
           {
            "bin_end": 12.7751604715,
            "bin_start": 11.544213962,
            "count": 0
           },
           {
            "bin_end": 14.006106981,
            "bin_start": 12.7751604715,
            "count": 0
           },
           {
            "bin_end": 15.237053490500001,
            "bin_start": 14.006106981,
            "count": 0
           },
           {
            "bin_end": 16.468,
            "bin_start": 15.237053490500001,
            "count": 1
           }
          ],
          "max": "16.468",
          "min": "4.158534905",
          "nan_count": 1,
          "unique_count": 4
         }
        },
        {
         "dtype": "float64",
         "name": "1992",
         "stats": {
          "histogram": [
           {
            "bin_end": 5.512196698,
            "bin_start": 4.27788522,
            "count": 1
           },
           {
            "bin_end": 6.746508176,
            "bin_start": 5.512196698,
            "count": 0
           },
           {
            "bin_end": 7.980819653999999,
            "bin_start": 6.746508176,
            "count": 2
           },
           {
            "bin_end": 9.215131132,
            "bin_start": 7.980819653999999,
            "count": 0
           },
           {
            "bin_end": 10.44944261,
            "bin_start": 9.215131132,
            "count": 0
           },
           {
            "bin_end": 11.683754088,
            "bin_start": 10.44944261,
            "count": 0
           },
           {
            "bin_end": 12.918065566,
            "bin_start": 11.683754088,
            "count": 0
           },
           {
            "bin_end": 14.152377044,
            "bin_start": 12.918065566,
            "count": 0
           },
           {
            "bin_end": 15.386688522,
            "bin_start": 14.152377044,
            "count": 0
           },
           {
            "bin_end": 16.621,
            "bin_start": 15.386688522,
            "count": 1
           }
          ],
          "max": "16.621",
          "min": "4.27788522",
          "nan_count": 1,
          "unique_count": 4
         }
        },
        {
         "dtype": "float64",
         "name": "1993",
         "stats": {
          "histogram": [
           {
            "bin_end": 5.6465840179,
            "bin_start": 4.376871131,
            "count": 1
           },
           {
            "bin_end": 6.9162969048,
            "bin_start": 5.6465840179,
            "count": 0
           },
           {
            "bin_end": 8.1860097917,
            "bin_start": 6.9162969048,
            "count": 2
           },
           {
            "bin_end": 9.4557226786,
            "bin_start": 8.1860097917,
            "count": 0
           },
           {
            "bin_end": 10.725435565500002,
            "bin_start": 9.4557226786,
            "count": 0
           },
           {
            "bin_end": 11.995148452400002,
            "bin_start": 10.725435565500002,
            "count": 0
           },
           {
            "bin_end": 13.264861339300001,
            "bin_start": 11.995148452400002,
            "count": 0
           },
           {
            "bin_end": 14.534574226200002,
            "bin_start": 13.264861339300001,
            "count": 0
           },
           {
            "bin_end": 15.804287113100003,
            "bin_start": 14.534574226200002,
            "count": 0
           },
           {
            "bin_end": 17.074,
            "bin_start": 15.804287113100003,
            "count": 1
           }
          ],
          "max": "17.074",
          "min": "4.376871131",
          "nan_count": 1,
          "unique_count": 4
         }
        },
        {
         "dtype": "float64",
         "name": "1994",
         "stats": {
          "histogram": [
           {
            "bin_end": 5.6703428015,
            "bin_start": 4.399825335,
            "count": 1
           },
           {
            "bin_end": 6.940860268,
            "bin_start": 5.6703428015,
            "count": 0
           },
           {
            "bin_end": 8.211377734500001,
            "bin_start": 6.940860268,
            "count": 2
           },
           {
            "bin_end": 9.481895201,
            "bin_start": 8.211377734500001,
            "count": 0
           },
           {
            "bin_end": 10.7524126675,
            "bin_start": 9.481895201,
            "count": 0
           },
           {
            "bin_end": 12.022930134,
            "bin_start": 10.7524126675,
            "count": 0
           },
           {
            "bin_end": 13.293447600500002,
            "bin_start": 12.022930134,
            "count": 0
           },
           {
            "bin_end": 14.563965067000002,
            "bin_start": 13.293447600500002,
            "count": 0
           },
           {
            "bin_end": 15.834482533500001,
            "bin_start": 14.563965067000002,
            "count": 0
           },
           {
            "bin_end": 17.105,
            "bin_start": 15.834482533500001,
            "count": 1
           }
          ],
          "max": "17.105",
          "min": "4.399825335",
          "nan_count": 1,
          "unique_count": 4
         }
        },
        {
         "dtype": "float64",
         "name": "1995",
         "stats": {
          "histogram": [
           {
            "bin_end": 5.6224075714,
            "bin_start": 4.390341746,
            "count": 1
           },
           {
            "bin_end": 6.8544733968,
            "bin_start": 5.6224075714,
            "count": 0
           },
           {
            "bin_end": 8.086539222199999,
            "bin_start": 6.8544733968,
            "count": 2
           },
           {
            "bin_end": 9.318605047599998,
            "bin_start": 8.086539222199999,
            "count": 0
           },
           {
            "bin_end": 10.550670872999998,
            "bin_start": 9.318605047599998,
            "count": 0
           },
           {
            "bin_end": 11.782736698399999,
            "bin_start": 10.550670872999998,
            "count": 0
           },
           {
            "bin_end": 13.0148025238,
            "bin_start": 11.782736698399999,
            "count": 0
           },
           {
            "bin_end": 14.2468683492,
            "bin_start": 13.0148025238,
            "count": 0
           },
           {
            "bin_end": 15.478934174599999,
            "bin_start": 14.2468683492,
            "count": 0
           },
           {
            "bin_end": 16.711,
            "bin_start": 15.478934174599999,
            "count": 1
           }
          ],
          "max": "16.711",
          "min": "4.390341746",
          "nan_count": 1,
          "unique_count": 4
         }
        },
        {
         "dtype": "float64",
         "name": "1996",
         "stats": {
          "histogram": [
           {
            "bin_end": 5.5072521776,
            "bin_start": 4.339946864,
            "count": 1
           },
           {
            "bin_end": 6.6745574912,
            "bin_start": 5.5072521776,
            "count": 0
           },
           {
            "bin_end": 7.841862804800001,
            "bin_start": 6.6745574912,
            "count": 1
           },
           {
            "bin_end": 9.009168118400002,
            "bin_start": 7.841862804800001,
            "count": 1
           },
           {
            "bin_end": 10.176473432000002,
            "bin_start": 9.009168118400002,
            "count": 0
           },
           {
            "bin_end": 11.343778745600002,
            "bin_start": 10.176473432000002,
            "count": 0
           },
           {
            "bin_end": 12.511084059200002,
            "bin_start": 11.343778745600002,
            "count": 0
           },
           {
            "bin_end": 13.678389372800002,
            "bin_start": 12.511084059200002,
            "count": 0
           },
           {
            "bin_end": 14.845694686400002,
            "bin_start": 13.678389372800002,
            "count": 0
           },
           {
            "bin_end": 16.013,
            "bin_start": 14.845694686400002,
            "count": 1
           }
          ],
          "max": "16.013",
          "min": "4.339946864",
          "nan_count": 1,
          "unique_count": 4
         }
        },
        {
         "dtype": "float64",
         "name": "1997",
         "stats": {
          "histogram": [
           {
            "bin_end": 5.484200168499999,
            "bin_start": 4.323777965,
            "count": 1
           },
           {
            "bin_end": 6.644622372,
            "bin_start": 5.484200168499999,
            "count": 0
           },
           {
            "bin_end": 7.8050445755,
            "bin_start": 6.644622372,
            "count": 1
           },
           {
            "bin_end": 8.965466779,
            "bin_start": 7.8050445755,
            "count": 1
           },
           {
            "bin_end": 10.1258889825,
            "bin_start": 8.965466779,
            "count": 0
           },
           {
            "bin_end": 11.286311185999999,
            "bin_start": 10.1258889825,
            "count": 0
           },
           {
            "bin_end": 12.4467333895,
            "bin_start": 11.286311185999999,
            "count": 0
           },
           {
            "bin_end": 13.607155593,
            "bin_start": 12.4467333895,
            "count": 0
           },
           {
            "bin_end": 14.7675777965,
            "bin_start": 13.607155593,
            "count": 0
           },
           {
            "bin_end": 15.928,
            "bin_start": 14.7675777965,
            "count": 1
           }
          ],
          "max": "15.928",
          "min": "4.323777965",
          "nan_count": 1,
          "unique_count": 4
         }
        },
        {
         "dtype": "float64",
         "name": "1998",
         "stats": {
          "histogram": [
           {
            "bin_end": 5.5242497405,
            "bin_start": 4.343833045,
            "count": 1
           },
           {
            "bin_end": 6.704666436,
            "bin_start": 5.5242497405,
            "count": 0
           },
           {
            "bin_end": 7.8850831315,
            "bin_start": 6.704666436,
            "count": 1
           },
           {
            "bin_end": 9.065499827,
            "bin_start": 7.8850831315,
            "count": 1
           },
           {
            "bin_end": 10.2459165225,
            "bin_start": 9.065499827,
            "count": 0
           },
           {
            "bin_end": 11.426333218,
            "bin_start": 10.2459165225,
            "count": 0
           },
           {
            "bin_end": 12.6067499135,
            "bin_start": 11.426333218,
            "count": 0
           },
           {
            "bin_end": 13.787166609,
            "bin_start": 12.6067499135,
            "count": 0
           },
           {
            "bin_end": 14.9675833045,
            "bin_start": 13.787166609,
            "count": 0
           },
           {
            "bin_end": 16.148,
            "bin_start": 14.9675833045,
            "count": 1
           }
          ],
          "max": "16.148",
          "min": "4.343833045",
          "nan_count": 1,
          "unique_count": 4
         }
        },
        {
         "dtype": "float64",
         "name": "1999",
         "stats": {
          "histogram": [
           {
            "bin_end": 5.737874337299999,
            "bin_start": 4.554082597,
            "count": 1
           },
           {
            "bin_end": 6.921666077599999,
            "bin_start": 5.737874337299999,
            "count": 0
           },
           {
            "bin_end": 8.1054578179,
            "bin_start": 6.921666077599999,
            "count": 2
           },
           {
            "bin_end": 9.289249558199998,
            "bin_start": 8.1054578179,
            "count": 0
           },
           {
            "bin_end": 10.4730412985,
            "bin_start": 9.289249558199998,
            "count": 0
           },
           {
            "bin_end": 11.656833038799999,
            "bin_start": 10.4730412985,
            "count": 0
           },
           {
            "bin_end": 12.840624779099997,
            "bin_start": 11.656833038799999,
            "count": 0
           },
           {
            "bin_end": 14.024416519399999,
            "bin_start": 12.840624779099997,
            "count": 0
           },
           {
            "bin_end": 15.208208259699997,
            "bin_start": 14.024416519399999,
            "count": 0
           },
           {
            "bin_end": 16.392,
            "bin_start": 15.208208259699997,
            "count": 1
           }
          ],
          "max": "16.392",
          "min": "4.554082597",
          "nan_count": 1,
          "unique_count": 4
         }
        },
        {
         "dtype": "float64",
         "name": "2000",
         "stats": {
          "histogram": [
           {
            "bin_end": 5.7992860598,
            "bin_start": 4.610095622,
            "count": 1
           },
           {
            "bin_end": 6.988476497600001,
            "bin_start": 5.7992860598,
            "count": 0
           },
           {
            "bin_end": 8.177666935400001,
            "bin_start": 6.988476497600001,
            "count": 2
           },
           {
            "bin_end": 9.3668573732,
            "bin_start": 8.177666935400001,
            "count": 0
           },
           {
            "bin_end": 10.556047811,
            "bin_start": 9.3668573732,
            "count": 0
           },
           {
            "bin_end": 11.7452382488,
            "bin_start": 10.556047811,
            "count": 0
           },
           {
            "bin_end": 12.9344286866,
            "bin_start": 11.7452382488,
            "count": 0
           },
           {
            "bin_end": 14.123619124400001,
            "bin_start": 12.9344286866,
            "count": 0
           },
           {
            "bin_end": 15.312809562200002,
            "bin_start": 14.123619124400001,
            "count": 0
           },
           {
            "bin_end": 16.502,
            "bin_start": 15.312809562200002,
            "count": 1
           }
          ],
          "max": "16.502",
          "min": "4.610095622",
          "nan_count": 1,
          "unique_count": 4
         }
        },
        {
         "dtype": "float64",
         "name": "2001",
         "stats": {
          "histogram": [
           {
            "bin_end": 5.741494811700001,
            "bin_start": 4.541772013,
            "count": 1
           },
           {
            "bin_end": 6.941217610400001,
            "bin_start": 5.741494811700001,
            "count": 0
           },
           {
            "bin_end": 8.1409404091,
            "bin_start": 6.941217610400001,
            "count": 2
           },
           {
            "bin_end": 9.340663207800002,
            "bin_start": 8.1409404091,
            "count": 0
           },
           {
            "bin_end": 10.5403860065,
            "bin_start": 9.340663207800002,
            "count": 0
           },
           {
            "bin_end": 11.740108805200002,
            "bin_start": 10.5403860065,
            "count": 0
           },
           {
            "bin_end": 12.939831603900004,
            "bin_start": 11.740108805200002,
            "count": 0
           },
           {
            "bin_end": 14.139554402600002,
            "bin_start": 12.939831603900004,
            "count": 0
           },
           {
            "bin_end": 15.339277201300003,
            "bin_start": 14.139554402600002,
            "count": 0
           },
           {
            "bin_end": 16.539,
            "bin_start": 15.339277201300003,
            "count": 1
           }
          ],
          "max": "16.539",
          "min": "4.541772013",
          "nan_count": 1,
          "unique_count": 4
         }
        },
        {
         "dtype": "float64",
         "name": "2002",
         "stats": {
          "histogram": [
           {
            "bin_end": 5.5594618351,
            "bin_start": 4.361402039,
            "count": 1
           },
           {
            "bin_end": 6.7575216311999995,
            "bin_start": 5.5594618351,
            "count": 0
           },
           {
            "bin_end": 7.955581427299999,
            "bin_start": 6.7575216311999995,
            "count": 2
           },
           {
            "bin_end": 9.1536412234,
            "bin_start": 7.955581427299999,
            "count": 0
           },
           {
            "bin_end": 10.351701019499998,
            "bin_start": 9.1536412234,
            "count": 0
           },
           {
            "bin_end": 11.5497608156,
            "bin_start": 10.351701019499998,
            "count": 0
           },
           {
            "bin_end": 12.747820611699998,
            "bin_start": 11.5497608156,
            "count": 0
           },
           {
            "bin_end": 13.945880407799999,
            "bin_start": 12.747820611699998,
            "count": 0
           },
           {
            "bin_end": 15.1439402039,
            "bin_start": 13.945880407799999,
            "count": 0
           },
           {
            "bin_end": 16.342,
            "bin_start": 15.1439402039,
            "count": 1
           }
          ],
          "max": "16.342",
          "min": "4.361402039",
          "nan_count": 1,
          "unique_count": 4
         }
        },
        {
         "dtype": "float64",
         "name": "2003",
         "stats": {
          "histogram": [
           {
            "bin_end": 5.4581360327,
            "bin_start": 4.245706703,
            "count": 1
           },
           {
            "bin_end": 6.6705653624,
            "bin_start": 5.4581360327,
            "count": 0
           },
           {
            "bin_end": 7.8829946921000005,
            "bin_start": 6.6705653624,
            "count": 1
           },
           {
            "bin_end": 9.0954240218,
            "bin_start": 7.8829946921000005,
            "count": 1
           },
           {
            "bin_end": 10.3078533515,
            "bin_start": 9.0954240218,
            "count": 0
           },
           {
            "bin_end": 11.520282681200001,
            "bin_start": 10.3078533515,
            "count": 0
           },
           {
            "bin_end": 12.7327120109,
            "bin_start": 11.520282681200001,
            "count": 0
           },
           {
            "bin_end": 13.945141340600001,
            "bin_start": 12.7327120109,
            "count": 0
           },
           {
            "bin_end": 15.157570670300002,
            "bin_start": 13.945141340600001,
            "count": 0
           },
           {
            "bin_end": 16.37,
            "bin_start": 15.157570670300002,
            "count": 1
           }
          ],
          "max": "16.37",
          "min": "4.245706703",
          "nan_count": 1,
          "unique_count": 4
         }
        },
        {
         "dtype": "float64",
         "name": "2004",
         "stats": {
          "histogram": [
           {
            "bin_end": 5.3692838302000006,
            "bin_start": 4.158426478,
            "count": 1
           },
           {
            "bin_end": 6.5801411824,
            "bin_start": 5.3692838302000006,
            "count": 0
           },
           {
            "bin_end": 7.7909985346,
            "bin_start": 6.5801411824,
            "count": 1
           },
           {
            "bin_end": 9.001855886800001,
            "bin_start": 7.7909985346,
            "count": 1
           },
           {
            "bin_end": 10.212713239,
            "bin_start": 9.001855886800001,
            "count": 0
           },
           {
            "bin_end": 11.4235705912,
            "bin_start": 10.212713239,
            "count": 0
           },
           {
            "bin_end": 12.634427943400002,
            "bin_start": 11.4235705912,
            "count": 0
           },
           {
            "bin_end": 13.8452852956,
            "bin_start": 12.634427943400002,
            "count": 0
           },
           {
            "bin_end": 15.056142647800002,
            "bin_start": 13.8452852956,
            "count": 0
           },
           {
            "bin_end": 16.267,
            "bin_start": 15.056142647800002,
            "count": 1
           }
          ],
          "max": "16.267",
          "min": "4.158426478",
          "nan_count": 1,
          "unique_count": 4
         }
        },
        {
         "dtype": "float64",
         "name": "2005",
         "stats": {
          "histogram": [
           {
            "bin_end": 5.3567456918000005,
            "bin_start": 4.144384102,
            "count": 1
           },
           {
            "bin_end": 6.5691072816,
            "bin_start": 5.3567456918000005,
            "count": 0
           },
           {
            "bin_end": 7.7814688713999995,
            "bin_start": 6.5691072816,
            "count": 1
           },
           {
            "bin_end": 8.9938304612,
            "bin_start": 7.7814688713999995,
            "count": 1
           },
           {
            "bin_end": 10.206192051,
            "bin_start": 8.9938304612,
            "count": 0
           },
           {
            "bin_end": 11.418553640799999,
            "bin_start": 10.206192051,
            "count": 0
           },
           {
            "bin_end": 12.6309152306,
            "bin_start": 11.418553640799999,
            "count": 0
           },
           {
            "bin_end": 13.8432768204,
            "bin_start": 12.6309152306,
            "count": 0
           },
           {
            "bin_end": 15.0556384102,
            "bin_start": 13.8432768204,
            "count": 0
           },
           {
            "bin_end": 16.268,
            "bin_start": 15.0556384102,
            "count": 1
           }
          ],
          "max": "16.268",
          "min": "4.144384102",
          "nan_count": 1,
          "unique_count": 4
         }
        },
        {
         "dtype": "float64",
         "name": "2006",
         "stats": {
          "histogram": [
           {
            "bin_end": 5.211046168399999,
            "bin_start": 3.998829076,
            "count": 1
           },
           {
            "bin_end": 6.4232632608,
            "bin_start": 5.211046168399999,
            "count": 0
           },
           {
            "bin_end": 7.6354803532,
            "bin_start": 6.4232632608,
            "count": 1
           },
           {
            "bin_end": 8.8476974456,
            "bin_start": 7.6354803532,
            "count": 1
           },
           {
            "bin_end": 10.059914538,
            "bin_start": 8.8476974456,
            "count": 0
           },
           {
            "bin_end": 11.2721316304,
            "bin_start": 10.059914538,
            "count": 0
           },
           {
            "bin_end": 12.4843487228,
            "bin_start": 11.2721316304,
            "count": 0
           },
           {
            "bin_end": 13.6965658152,
            "bin_start": 12.4843487228,
            "count": 0
           },
           {
            "bin_end": 14.9087829076,
            "bin_start": 13.6965658152,
            "count": 0
           },
           {
            "bin_end": 16.121,
            "bin_start": 14.9087829076,
            "count": 1
           }
          ],
          "max": "16.121",
          "min": "3.998829076",
          "nan_count": 1,
          "unique_count": 4
         }
        },
        {
         "dtype": "float64",
         "name": "2007",
         "stats": {
          "histogram": [
           {
            "bin_end": 5.1783787365,
            "bin_start": 3.967087485,
            "count": 1
           },
           {
            "bin_end": 6.389669988,
            "bin_start": 5.1783787365,
            "count": 0
           },
           {
            "bin_end": 7.6009612395,
            "bin_start": 6.389669988,
            "count": 1
           },
           {
            "bin_end": 8.812252490999999,
            "bin_start": 7.6009612395,
            "count": 1
           },
           {
            "bin_end": 10.0235437425,
            "bin_start": 8.812252490999999,
            "count": 0
           },
           {
            "bin_end": 11.234834994,
            "bin_start": 10.0235437425,
            "count": 0
           },
           {
            "bin_end": 12.446126245499999,
            "bin_start": 11.234834994,
            "count": 0
           },
           {
            "bin_end": 13.657417496999999,
            "bin_start": 12.446126245499999,
            "count": 0
           },
           {
            "bin_end": 14.8687087485,
            "bin_start": 13.657417496999999,
            "count": 0
           },
           {
            "bin_end": 16.08,
            "bin_start": 14.8687087485,
            "count": 1
           }
          ],
          "max": "16.08",
          "min": "3.967087485",
          "nan_count": 1,
          "unique_count": 4
         }
        },
        {
         "dtype": "float64",
         "name": "2008",
         "stats": {
          "histogram": [
           {
            "bin_end": 5.208377197200001,
            "bin_start": 3.990419108,
            "count": 1
           },
           {
            "bin_end": 6.4263352864000005,
            "bin_start": 5.208377197200001,
            "count": 0
           },
           {
            "bin_end": 7.6442933756,
            "bin_start": 6.4263352864000005,
            "count": 1
           },
           {
            "bin_end": 8.8622514648,
            "bin_start": 7.6442933756,
            "count": 1
           },
           {
            "bin_end": 10.080209554,
            "bin_start": 8.8622514648,
            "count": 0
           },
           {
            "bin_end": 11.298167643200001,
            "bin_start": 10.080209554,
            "count": 0
           },
           {
            "bin_end": 12.516125732400003,
            "bin_start": 11.298167643200001,
            "count": 0
           },
           {
            "bin_end": 13.734083821600002,
            "bin_start": 12.516125732400003,
            "count": 0
           },
           {
            "bin_end": 14.952041910800002,
            "bin_start": 13.734083821600002,
            "count": 0
           },
           {
            "bin_end": 16.17,
            "bin_start": 14.952041910800002,
            "count": 1
           }
          ],
          "max": "16.17",
          "min": "3.990419108",
          "nan_count": 1,
          "unique_count": 4
         }
        },
        {
         "dtype": "float64",
         "name": "2009",
         "stats": {
          "histogram": [
           {
            "bin_end": 5.2708279674,
            "bin_start": 4.035142186,
            "count": 1
           },
           {
            "bin_end": 6.5065137488,
            "bin_start": 5.2708279674,
            "count": 0
           },
           {
            "bin_end": 7.7421995302,
            "bin_start": 6.5065137488,
            "count": 1
           },
           {
            "bin_end": 8.9778853116,
            "bin_start": 7.7421995302,
            "count": 1
           },
           {
            "bin_end": 10.213571092999999,
            "bin_start": 8.9778853116,
            "count": 0
           },
           {
            "bin_end": 11.4492568744,
            "bin_start": 10.213571092999999,
            "count": 0
           },
           {
            "bin_end": 12.684942655799999,
            "bin_start": 11.4492568744,
            "count": 0
           },
           {
            "bin_end": 13.9206284372,
            "bin_start": 12.684942655799999,
            "count": 0
           },
           {
            "bin_end": 15.1563142186,
            "bin_start": 13.9206284372,
            "count": 0
           },
           {
            "bin_end": 16.392,
            "bin_start": 15.1563142186,
            "count": 1
           }
          ],
          "max": "16.392",
          "min": "4.035142186",
          "nan_count": 1,
          "unique_count": 4
         }
        },
        {
         "dtype": "float64",
         "name": "2010",
         "stats": {
          "histogram": [
           {
            "bin_end": 5.2859163512,
            "bin_start": 4.029018168,
            "count": 1
           },
           {
            "bin_end": 6.5428145344,
            "bin_start": 5.2859163512,
            "count": 0
           },
           {
            "bin_end": 7.7997127176,
            "bin_start": 6.5428145344,
            "count": 1
           },
           {
            "bin_end": 9.056610900799999,
            "bin_start": 7.7997127176,
            "count": 1
           },
           {
            "bin_end": 10.313509084,
            "bin_start": 9.056610900799999,
            "count": 0
           },
           {
            "bin_end": 11.5704072672,
            "bin_start": 10.313509084,
            "count": 0
           },
           {
            "bin_end": 12.827305450399999,
            "bin_start": 11.5704072672,
            "count": 0
           },
           {
            "bin_end": 14.0842036336,
            "bin_start": 12.827305450399999,
            "count": 0
           },
           {
            "bin_end": 15.3411018168,
            "bin_start": 14.0842036336,
            "count": 0
           },
           {
            "bin_end": 16.598,
            "bin_start": 15.3411018168,
            "count": 1
           }
          ],
          "max": "16.598",
          "min": "4.029018168",
          "nan_count": 1,
          "unique_count": 4
         }
        },
        {
         "dtype": "float64",
         "name": "2011",
         "stats": {
          "histogram": [
           {
            "bin_end": 5.2786225506,
            "bin_start": 4.001802834,
            "count": 1
           },
           {
            "bin_end": 6.5554422672,
            "bin_start": 5.2786225506,
            "count": 0
           },
           {
            "bin_end": 7.8322619838000005,
            "bin_start": 6.5554422672,
            "count": 1
           },
           {
            "bin_end": 9.1090817004,
            "bin_start": 7.8322619838000005,
            "count": 1
           },
           {
            "bin_end": 10.385901417,
            "bin_start": 9.1090817004,
            "count": 0
           },
           {
            "bin_end": 11.6627211336,
            "bin_start": 10.385901417,
            "count": 0
           },
           {
            "bin_end": 12.9395408502,
            "bin_start": 11.6627211336,
            "count": 0
           },
           {
            "bin_end": 14.216360566799999,
            "bin_start": 12.9395408502,
            "count": 0
           },
           {
            "bin_end": 15.493180283400001,
            "bin_start": 14.216360566799999,
            "count": 0
           },
           {
            "bin_end": 16.77,
            "bin_start": 15.493180283400001,
            "count": 1
           }
          ],
          "max": "16.77",
          "min": "4.001802834",
          "nan_count": 1,
          "unique_count": 4
         }
        },
        {
         "dtype": "float64",
         "name": "2012",
         "stats": {
          "histogram": [
           {
            "bin_end": 5.2725095007,
            "bin_start": 4.018677223,
            "count": 1
           },
           {
            "bin_end": 6.526341778399999,
            "bin_start": 5.2725095007,
            "count": 0
           },
           {
            "bin_end": 7.780174056099999,
            "bin_start": 6.526341778399999,
            "count": 1
           },
           {
            "bin_end": 9.034006333799999,
            "bin_start": 7.780174056099999,
            "count": 1
           },
           {
            "bin_end": 10.2878386115,
            "bin_start": 9.034006333799999,
            "count": 0
           },
           {
            "bin_end": 11.541670889199999,
            "bin_start": 10.2878386115,
            "count": 0
           },
           {
            "bin_end": 12.795503166899998,
            "bin_start": 11.541670889199999,
            "count": 0
           },
           {
            "bin_end": 14.049335444599997,
            "bin_start": 12.795503166899998,
            "count": 0
           },
           {
            "bin_end": 15.303167722299996,
            "bin_start": 14.049335444599997,
            "count": 0
           },
           {
            "bin_end": 16.557,
            "bin_start": 15.303167722299996,
            "count": 1
           }
          ],
          "max": "16.557",
          "min": "4.018677223",
          "nan_count": 1,
          "unique_count": 4
         }
        },
        {
         "dtype": "float64",
         "name": "2013",
         "stats": {
          "histogram": [
           {
            "bin_end": 4.9910025662,
            "bin_start": 3.713669518,
            "count": 1
           },
           {
            "bin_end": 6.2683356144,
            "bin_start": 4.9910025662,
            "count": 0
           },
           {
            "bin_end": 7.545668662599999,
            "bin_start": 6.2683356144,
            "count": 1
           },
           {
            "bin_end": 8.8230017108,
            "bin_start": 7.545668662599999,
            "count": 1
           },
           {
            "bin_end": 10.100334758999999,
            "bin_start": 8.8230017108,
            "count": 0
           },
           {
            "bin_end": 11.377667807199998,
            "bin_start": 10.100334758999999,
            "count": 0
           },
           {
            "bin_end": 12.655000855399999,
            "bin_start": 11.377667807199998,
            "count": 0
           },
           {
            "bin_end": 13.932333903599998,
            "bin_start": 12.655000855399999,
            "count": 0
           },
           {
            "bin_end": 15.209666951799997,
            "bin_start": 13.932333903599998,
            "count": 0
           },
           {
            "bin_end": 16.487,
            "bin_start": 15.209666951799997,
            "count": 1
           }
          ],
          "max": "16.487",
          "min": "3.713669518",
          "nan_count": 1,
          "unique_count": 4
         }
        },
        {
         "dtype": "float64",
         "name": "2014",
         "stats": {
          "histogram": [
           {
            "bin_end": 5.142841419,
            "bin_start": 3.89193491,
            "count": 1
           },
           {
            "bin_end": 6.393747928,
            "bin_start": 5.142841419,
            "count": 0
           },
           {
            "bin_end": 7.644654437,
            "bin_start": 6.393747928,
            "count": 1
           },
           {
            "bin_end": 8.895560946,
            "bin_start": 7.644654437,
            "count": 1
           },
           {
            "bin_end": 10.146467455,
            "bin_start": 8.895560946,
            "count": 0
           },
           {
            "bin_end": 11.397373964,
            "bin_start": 10.146467455,
            "count": 0
           },
           {
            "bin_end": 12.648280473,
            "bin_start": 11.397373964,
            "count": 0
           },
           {
            "bin_end": 13.899186982,
            "bin_start": 12.648280473,
            "count": 0
           },
           {
            "bin_end": 15.150093491,
            "bin_start": 13.899186982,
            "count": 0
           },
           {
            "bin_end": 16.401,
            "bin_start": 15.150093491,
            "count": 1
           }
          ],
          "max": "16.401",
          "min": "3.89193491",
          "nan_count": 1,
          "unique_count": 4
         }
        },
        {
         "dtype": "float64",
         "name": "2015",
         "stats": {
          "histogram": [
           {
            "bin_end": 5.4197176323,
            "bin_start": 4.189575147,
            "count": 1
           },
           {
            "bin_end": 6.6498601176,
            "bin_start": 5.4197176323,
            "count": 0
           },
           {
            "bin_end": 7.8800026029,
            "bin_start": 6.6498601176,
            "count": 1
           },
           {
            "bin_end": 9.1101450882,
            "bin_start": 7.8800026029,
            "count": 1
           },
           {
            "bin_end": 10.3402875735,
            "bin_start": 9.1101450882,
            "count": 0
           },
           {
            "bin_end": 11.5704300588,
            "bin_start": 10.3402875735,
            "count": 0
           },
           {
            "bin_end": 12.8005725441,
            "bin_start": 11.5704300588,
            "count": 0
           },
           {
            "bin_end": 14.0307150294,
            "bin_start": 12.8005725441,
            "count": 0
           },
           {
            "bin_end": 15.2608575147,
            "bin_start": 14.0307150294,
            "count": 0
           },
           {
            "bin_end": 16.491,
            "bin_start": 15.2608575147,
            "count": 1
           }
          ],
          "max": "16.491",
          "min": "4.189575147",
          "nan_count": 1,
          "unique_count": 4
         }
        },
        {
         "dtype": "float64",
         "name": "2016",
         "stats": {
          "histogram": [
           {
            "bin_end": 5.3728712561,
            "bin_start": 4.127634729,
            "count": 1
           },
           {
            "bin_end": 6.6181077832,
            "bin_start": 5.3728712561,
            "count": 0
           },
           {
            "bin_end": 7.8633443103000005,
            "bin_start": 6.6181077832,
            "count": 1
           },
           {
            "bin_end": 9.1085808374,
            "bin_start": 7.8633443103000005,
            "count": 0
           },
           {
            "bin_end": 10.3538173645,
            "bin_start": 9.1085808374,
            "count": 1
           },
           {
            "bin_end": 11.5990538916,
            "bin_start": 10.3538173645,
            "count": 0
           },
           {
            "bin_end": 12.8442904187,
            "bin_start": 11.5990538916,
            "count": 0
           },
           {
            "bin_end": 14.0895269458,
            "bin_start": 12.8442904187,
            "count": 0
           },
           {
            "bin_end": 15.334763472899999,
            "bin_start": 14.0895269458,
            "count": 0
           },
           {
            "bin_end": 16.58,
            "bin_start": 15.334763472899999,
            "count": 1
           }
          ],
          "max": "16.58",
          "min": "4.127634729",
          "nan_count": 1,
          "unique_count": 4
         }
        },
        {
         "dtype": "float64",
         "name": "2017",
         "stats": {
          "histogram": [
           {
            "bin_end": 5.4450158025,
            "bin_start": 4.203684225,
            "count": 1
           },
           {
            "bin_end": 6.68634738,
            "bin_start": 5.4450158025,
            "count": 0
           },
           {
            "bin_end": 7.9276789574999995,
            "bin_start": 6.68634738,
            "count": 1
           },
           {
            "bin_end": 9.169010535,
            "bin_start": 7.9276789574999995,
            "count": 0
           },
           {
            "bin_end": 10.4103421125,
            "bin_start": 9.169010535,
            "count": 0
           },
           {
            "bin_end": 11.651673689999999,
            "bin_start": 10.4103421125,
            "count": 1
           },
           {
            "bin_end": 12.8930052675,
            "bin_start": 11.651673689999999,
            "count": 0
           },
           {
            "bin_end": 14.134336845,
            "bin_start": 12.8930052675,
            "count": 0
           },
           {
            "bin_end": 15.3756684225,
            "bin_start": 14.134336845,
            "count": 0
           },
           {
            "bin_end": 16.617,
            "bin_start": 15.3756684225,
            "count": 1
           }
          ],
          "max": "16.617",
          "min": "4.203684225",
          "nan_count": 1,
          "unique_count": 4
         }
        },
        {
         "dtype": "float64",
         "name": "2018",
         "stats": {
          "histogram": [
           {
            "bin_end": 5.4619581648,
            "bin_start": 4.224509072,
            "count": 1
           },
           {
            "bin_end": 6.6994072576,
            "bin_start": 5.4619581648,
            "count": 0
           },
           {
            "bin_end": 7.936856350399999,
            "bin_start": 6.6994072576,
            "count": 1
           },
           {
            "bin_end": 9.1743054432,
            "bin_start": 7.936856350399999,
            "count": 0
           },
           {
            "bin_end": 10.411754536,
            "bin_start": 9.1743054432,
            "count": 0
           },
           {
            "bin_end": 11.649203628799999,
            "bin_start": 10.411754536,
            "count": 1
           },
           {
            "bin_end": 12.886652721599999,
            "bin_start": 11.649203628799999,
            "count": 0
           },
           {
            "bin_end": 14.1241018144,
            "bin_start": 12.886652721599999,
            "count": 0
           },
           {
            "bin_end": 15.3615509072,
            "bin_start": 14.1241018144,
            "count": 0
           },
           {
            "bin_end": 16.599,
            "bin_start": 15.3615509072,
            "count": 1
           }
          ],
          "max": "16.599",
          "min": "4.224509072",
          "nan_count": 1,
          "unique_count": 4
         }
        },
        {
         "dtype": "float64",
         "name": "2019",
         "stats": {
          "histogram": [
           {
            "bin_end": 5.4723917376,
            "bin_start": 4.247435264,
            "count": 1
           },
           {
            "bin_end": 6.6973482112,
            "bin_start": 5.4723917376,
            "count": 0
           },
           {
            "bin_end": 7.9223046848,
            "bin_start": 6.6973482112,
            "count": 1
           },
           {
            "bin_end": 9.1472611584,
            "bin_start": 7.9223046848,
            "count": 0
           },
           {
            "bin_end": 10.372217632,
            "bin_start": 9.1472611584,
            "count": 0
           },
           {
            "bin_end": 11.5971741056,
            "bin_start": 10.372217632,
            "count": 1
           },
           {
            "bin_end": 12.8221305792,
            "bin_start": 11.5971741056,
            "count": 0
           },
           {
            "bin_end": 14.0470870528,
            "bin_start": 12.8221305792,
            "count": 0
           },
           {
            "bin_end": 15.272043526400001,
            "bin_start": 14.0470870528,
            "count": 0
           },
           {
            "bin_end": 16.497,
            "bin_start": 15.272043526400001,
            "count": 1
           }
          ],
          "max": "16.497",
          "min": "4.247435264",
          "nan_count": 1,
          "unique_count": 4
         }
        },
        {
         "dtype": "float64",
         "name": "2020",
         "stats": {
          "histogram": [
           {
            "bin_end": 5.895404018,
            "bin_start": 4.69756002,
            "count": 1
           },
           {
            "bin_end": 7.0932480159999995,
            "bin_start": 5.895404018,
            "count": 0
           },
           {
            "bin_end": 8.291092014,
            "bin_start": 7.0932480159999995,
            "count": 1
           },
           {
            "bin_end": 9.488936012,
            "bin_start": 8.291092014,
            "count": 0
           },
           {
            "bin_end": 10.68678001,
            "bin_start": 9.488936012,
            "count": 0
           },
           {
            "bin_end": 11.884624008,
            "bin_start": 10.68678001,
            "count": 1
           },
           {
            "bin_end": 13.082468006,
            "bin_start": 11.884624008,
            "count": 0
           },
           {
            "bin_end": 14.280312003999999,
            "bin_start": 13.082468006,
            "count": 0
           },
           {
            "bin_end": 15.478156001999999,
            "bin_start": 14.280312003999999,
            "count": 0
           },
           {
            "bin_end": 16.676,
            "bin_start": 15.478156001999999,
            "count": 1
           }
          ],
          "max": "16.676",
          "min": "4.69756002",
          "nan_count": 1,
          "unique_count": 4
         }
        },
        {
         "dtype": "float64",
         "name": "2021",
         "stats": {
          "histogram": [
           {
            "bin_end": 5.648608183,
            "bin_start": 4.52078687,
            "count": 1
           },
           {
            "bin_end": 6.776429496,
            "bin_start": 5.648608183,
            "count": 0
           },
           {
            "bin_end": 7.904250809,
            "bin_start": 6.776429496,
            "count": 0
           },
           {
            "bin_end": 9.032072121999999,
            "bin_start": 7.904250809,
            "count": 1
           },
           {
            "bin_end": 10.159893435,
            "bin_start": 9.032072121999999,
            "count": 0
           },
           {
            "bin_end": 11.287714747999999,
            "bin_start": 10.159893435,
            "count": 0
           },
           {
            "bin_end": 12.415536061,
            "bin_start": 11.287714747999999,
            "count": 1
           },
           {
            "bin_end": 13.543357374,
            "bin_start": 12.415536061,
            "count": 0
           },
           {
            "bin_end": 14.671178687,
            "bin_start": 13.543357374,
            "count": 0
           },
           {
            "bin_end": 15.799,
            "bin_start": 14.671178687,
            "count": 1
           }
          ],
          "max": "15.799",
          "min": "4.52078687",
          "nan_count": 1,
          "unique_count": 4
         }
        },
        {
         "dtype": "float64",
         "name": "2022",
         "stats": {
          "histogram": [
           {
            "bin_end": 4.8227351288,
            "bin_start": 3.726039032,
            "count": 1
           },
           {
            "bin_end": 5.9194312256,
            "bin_start": 4.8227351288,
            "count": 0
           },
           {
            "bin_end": 7.0161273224,
            "bin_start": 5.9194312256,
            "count": 0
           },
           {
            "bin_end": 8.1128234192,
            "bin_start": 7.0161273224,
            "count": 1
           },
           {
            "bin_end": 9.209519516,
            "bin_start": 8.1128234192,
            "count": 0
           },
           {
            "bin_end": 10.306215612799999,
            "bin_start": 9.209519516,
            "count": 0
           },
           {
            "bin_end": 11.4029117096,
            "bin_start": 10.306215612799999,
            "count": 0
           },
           {
            "bin_end": 12.4996078064,
            "bin_start": 11.4029117096,
            "count": 0
           },
           {
            "bin_end": 13.596303903199999,
            "bin_start": 12.4996078064,
            "count": 0
           },
           {
            "bin_end": 14.693,
            "bin_start": 13.596303903199999,
            "count": 2
           }
          ],
          "max": "14.693",
          "min": "3.726039032",
          "nan_count": 1,
          "unique_count": 4
         }
        },
        {
         "dtype": "float64",
         "name": "2023",
         "stats": {
          "histogram": [
           {
            "bin_end": 4.5032094544,
            "bin_start": 3.379121616,
            "count": 1
           },
           {
            "bin_end": 5.6272972928,
            "bin_start": 4.5032094544,
            "count": 0
           },
           {
            "bin_end": 6.751385131199999,
            "bin_start": 5.6272972928,
            "count": 0
           },
           {
            "bin_end": 7.8754729696,
            "bin_start": 6.751385131199999,
            "count": 1
           },
           {
            "bin_end": 8.999560807999998,
            "bin_start": 7.8754729696,
            "count": 0
           },
           {
            "bin_end": 10.1236486464,
            "bin_start": 8.999560807999998,
            "count": 0
           },
           {
            "bin_end": 11.2477364848,
            "bin_start": 10.1236486464,
            "count": 0
           },
           {
            "bin_end": 12.371824323199998,
            "bin_start": 11.2477364848,
            "count": 0
           },
           {
            "bin_end": 13.4959121616,
            "bin_start": 12.371824323199998,
            "count": 0
           },
           {
            "bin_end": 14.62,
            "bin_start": 13.4959121616,
            "count": 2
           }
          ],
          "max": "14.62",
          "min": "3.379121616",
          "nan_count": 1,
          "unique_count": 4
         }
        },
        {
         "dtype": "int64",
         "name": "_deepnote_index_column"
        }
       ],
       "row_count": 5,
       "rows": [
        {
         "1960": "nan",
         "1961": "nan",
         "1962": "nan",
         "1963": "nan",
         "1964": "nan",
         "1965": "nan",
         "1966": "nan",
         "1967": "nan",
         "1968": "nan",
         "1969": "nan",
         "1970": "nan",
         "1971": "nan",
         "1972": "nan",
         "1973": "nan",
         "1974": "nan",
         "1975": "nan",
         "1976": "nan",
         "1977": "nan",
         "1978": "nan",
         "1979": "nan",
         "1980": "nan",
         "1981": "nan",
         "1982": "nan",
         "1983": "nan",
         "1984": "nan",
         "1985": "nan",
         "1986": "nan",
         "1987": "nan",
         "1988": "nan",
         "1989": "nan",
         "1990": "nan",
         "1991": "nan",
         "1992": "nan",
         "1993": "nan",
         "1994": "nan",
         "1995": "nan",
         "1996": "nan",
         "1997": "nan",
         "1998": "nan",
         "1999": "nan",
         "2000": "nan",
         "2001": "nan",
         "2002": "nan",
         "2003": "nan",
         "2004": "nan",
         "2005": "nan",
         "2006": "nan",
         "2007": "nan",
         "2008": "nan",
         "2009": "nan",
         "2010": "nan",
         "2011": "nan",
         "2012": "nan",
         "2013": "nan",
         "2014": "nan",
         "2015": "nan",
         "2016": "nan",
         "2017": "nan",
         "2018": "nan",
         "2019": "nan",
         "2020": "nan",
         "2021": "nan",
         "2022": "nan",
         "2023": "nan",
         "Country Code": "ABW",
         "Country Name": "Aruba",
         "Indicator Code": "SL.UEM.TOTL.ZS",
         "Indicator Name": "Unemployment, total (% of total labor force) (modeled ILO estimate)",
         "_deepnote_index_column": 0
        },
        {
         "1960": "nan",
         "1961": "nan",
         "1962": "nan",
         "1963": "nan",
         "1964": "nan",
         "1965": "nan",
         "1966": "nan",
         "1967": "nan",
         "1968": "nan",
         "1969": "nan",
         "1970": "nan",
         "1971": "nan",
         "1972": "nan",
         "1973": "nan",
         "1974": "nan",
         "1975": "nan",
         "1976": "nan",
         "1977": "nan",
         "1978": "nan",
         "1979": "nan",
         "1980": "nan",
         "1981": "nan",
         "1982": "nan",
         "1983": "nan",
         "1984": "nan",
         "1985": "nan",
         "1986": "nan",
         "1987": "nan",
         "1988": "nan",
         "1989": "nan",
         "1990": "nan",
         "1991": 7.801596969,
         "1992": 7.896982015,
         "1993": 7.898075948,
         "1994": 7.76885901,
         "1995": 7.533565842,
         "1996": 7.446310256,
         "1997": 7.406223582,
         "1998": 7.438246713,
         "1999": 7.479567296,
         "2000": 7.422604875,
         "2001": 7.316976721,
         "2002": 7.278188123,
         "2003": 7.236415861,
         "2004": 7.048157556,
         "2005": 6.874313957,
         "2006": 6.818581659,
         "2007": 6.765904149,
         "2008": 6.745309115,
         "2009": 6.855172565,
         "2010": 7.269673054,
         "2011": 7.145734462,
         "2012": 6.949655755,
         "2013": 6.841766769,
         "2014": 6.807348145,
         "2015": 6.896302943,
         "2016": 7.042617342,
         "2017": 7.145377009,
         "2018": 7.110552656,
         "2019": 7.308025245,
         "2020": 7.734146422,
         "2021": 8.065361317,
         "2022": 7.555502759,
         "2023": 7.591070137,
         "Country Code": "AFE",
         "Country Name": "Africa Eastern and Southern",
         "Indicator Code": "SL.UEM.TOTL.ZS",
         "Indicator Name": "Unemployment, total (% of total labor force) (modeled ILO estimate)",
         "_deepnote_index_column": 1
        },
        {
         "1960": "nan",
         "1961": "nan",
         "1962": "nan",
         "1963": "nan",
         "1964": "nan",
         "1965": "nan",
         "1966": "nan",
         "1967": "nan",
         "1968": "nan",
         "1969": "nan",
         "1970": "nan",
         "1971": "nan",
         "1972": "nan",
         "1973": "nan",
         "1974": "nan",
         "1975": "nan",
         "1976": "nan",
         "1977": "nan",
         "1978": "nan",
         "1979": "nan",
         "1980": "nan",
         "1981": "nan",
         "1982": "nan",
         "1983": "nan",
         "1984": "nan",
         "1985": "nan",
         "1986": "nan",
         "1987": "nan",
         "1988": "nan",
         "1989": "nan",
         "1990": "nan",
         "1991": 7.946,
         "1992": 7.94,
         "1993": 7.961,
         "1994": 7.98,
         "1995": 7.967,
         "1996": 7.941,
         "1997": 7.92,
         "1998": 7.941,
         "1999": 7.953,
         "2000": 7.955,
         "2001": 7.958,
         "2002": 7.939,
         "2003": 7.922,
         "2004": 7.914,
         "2005": 7.914,
         "2006": 7.918,
         "2007": 7.908,
         "2008": 7.92,
         "2009": 7.914,
         "2010": 7.914,
         "2011": 7.916,
         "2012": 7.909,
         "2013": 7.919,
         "2014": 7.915,
         "2015": 9.011,
         "2016": 10.1,
         "2017": 11.184,
         "2018": 11.206,
         "2019": 11.224,
         "2020": 11.71,
         "2021": 11.934,
         "2022": 14.1,
         "2023": 14.386,
         "Country Code": "AFG",
         "Country Name": "Afghanistan",
         "Indicator Code": "SL.UEM.TOTL.ZS",
         "Indicator Name": "Unemployment, total (% of total labor force) (modeled ILO estimate)",
         "_deepnote_index_column": 2
        },
        {
         "1960": "nan",
         "1961": "nan",
         "1962": "nan",
         "1963": "nan",
         "1964": "nan",
         "1965": "nan",
         "1966": "nan",
         "1967": "nan",
         "1968": "nan",
         "1969": "nan",
         "1970": "nan",
         "1971": "nan",
         "1972": "nan",
         "1973": "nan",
         "1974": "nan",
         "1975": "nan",
         "1976": "nan",
         "1977": "nan",
         "1978": "nan",
         "1979": "nan",
         "1980": "nan",
         "1981": "nan",
         "1982": "nan",
         "1983": "nan",
         "1984": "nan",
         "1985": "nan",
         "1986": "nan",
         "1987": "nan",
         "1988": "nan",
         "1989": "nan",
         "1990": "nan",
         "1991": 4.158534905,
         "1992": 4.27788522,
         "1993": 4.376871131,
         "1994": 4.399825335,
         "1995": 4.390341746,
         "1996": 4.339946864,
         "1997": 4.323777965,
         "1998": 4.343833045,
         "1999": 4.554082597,
         "2000": 4.610095622,
         "2001": 4.541772013,
         "2002": 4.361402039,
         "2003": 4.245706703,
         "2004": 4.158426478,
         "2005": 4.144384102,
         "2006": 3.998829076,
         "2007": 3.967087485,
         "2008": 3.990419108,
         "2009": 4.035142186,
         "2010": 4.029018168,
         "2011": 4.001802834,
         "2012": 4.018677223,
         "2013": 3.713669518,
         "2014": 3.89193491,
         "2015": 4.189575147,
         "2016": 4.127634729,
         "2017": 4.203684225,
         "2018": 4.224509072,
         "2019": 4.247435264,
         "2020": 4.69756002,
         "2021": 4.52078687,
         "2022": 3.726039032,
         "2023": 3.379121616,
         "Country Code": "AFW",
         "Country Name": "Africa Western and Central",
         "Indicator Code": "SL.UEM.TOTL.ZS",
         "Indicator Name": "Unemployment, total (% of total labor force) (modeled ILO estimate)",
         "_deepnote_index_column": 3
        },
        {
         "1960": "nan",
         "1961": "nan",
         "1962": "nan",
         "1963": "nan",
         "1964": "nan",
         "1965": "nan",
         "1966": "nan",
         "1967": "nan",
         "1968": "nan",
         "1969": "nan",
         "1970": "nan",
         "1971": "nan",
         "1972": "nan",
         "1973": "nan",
         "1974": "nan",
         "1975": "nan",
         "1976": "nan",
         "1977": "nan",
         "1978": "nan",
         "1979": "nan",
         "1980": "nan",
         "1981": "nan",
         "1982": "nan",
         "1983": "nan",
         "1984": "nan",
         "1985": "nan",
         "1986": "nan",
         "1987": "nan",
         "1988": "nan",
         "1989": "nan",
         "1990": "nan",
         "1991": 16.468,
         "1992": 16.621,
         "1993": 17.074,
         "1994": 17.105,
         "1995": 16.711,
         "1996": 16.013,
         "1997": 15.928,
         "1998": 16.148,
         "1999": 16.392,
         "2000": 16.502,
         "2001": 16.539,
         "2002": 16.342,
         "2003": 16.37,
         "2004": 16.267,
         "2005": 16.268,
         "2006": 16.121,
         "2007": 16.08,
         "2008": 16.17,
         "2009": 16.392,
         "2010": 16.598,
         "2011": 16.77,
         "2012": 16.557,
         "2013": 16.487,
         "2014": 16.401,
         "2015": 16.491,
         "2016": 16.58,
         "2017": 16.617,
         "2018": 16.599,
         "2019": 16.497,
         "2020": 16.676,
         "2021": 15.799,
         "2022": 14.693,
         "2023": 14.62,
         "Country Code": "AGO",
         "Country Name": "Angola",
         "Indicator Code": "SL.UEM.TOTL.ZS",
         "Indicator Name": "Unemployment, total (% of total labor force) (modeled ILO estimate)",
         "_deepnote_index_column": 4
        }
       ]
      },
      "text/html": [
       "<div>\n",
       "<style scoped>\n",
       "    .dataframe tbody tr th:only-of-type {\n",
       "        vertical-align: middle;\n",
       "    }\n",
       "\n",
       "    .dataframe tbody tr th {\n",
       "        vertical-align: top;\n",
       "    }\n",
       "\n",
       "    .dataframe thead th {\n",
       "        text-align: right;\n",
       "    }\n",
       "</style>\n",
       "<table border=\"1\" class=\"dataframe\">\n",
       "  <thead>\n",
       "    <tr style=\"text-align: right;\">\n",
       "      <th></th>\n",
       "      <th>Country Name</th>\n",
       "      <th>Country Code</th>\n",
       "      <th>Indicator Name</th>\n",
       "      <th>Indicator Code</th>\n",
       "      <th>1960</th>\n",
       "      <th>1961</th>\n",
       "      <th>1962</th>\n",
       "      <th>1963</th>\n",
       "      <th>1964</th>\n",
       "      <th>1965</th>\n",
       "      <th>1966</th>\n",
       "      <th>1967</th>\n",
       "      <th>1968</th>\n",
       "      <th>1969</th>\n",
       "      <th>1970</th>\n",
       "      <th>1971</th>\n",
       "      <th>1972</th>\n",
       "      <th>1973</th>\n",
       "      <th>1974</th>\n",
       "      <th>1975</th>\n",
       "      <th>1976</th>\n",
       "      <th>1977</th>\n",
       "      <th>1978</th>\n",
       "      <th>1979</th>\n",
       "      <th>1980</th>\n",
       "      <th>1981</th>\n",
       "      <th>1982</th>\n",
       "      <th>1983</th>\n",
       "      <th>1984</th>\n",
       "      <th>1985</th>\n",
       "      <th>1986</th>\n",
       "      <th>1987</th>\n",
       "      <th>1988</th>\n",
       "      <th>1989</th>\n",
       "      <th>1990</th>\n",
       "      <th>1991</th>\n",
       "      <th>1992</th>\n",
       "      <th>1993</th>\n",
       "      <th>1994</th>\n",
       "      <th>1995</th>\n",
       "      <th>1996</th>\n",
       "      <th>1997</th>\n",
       "      <th>1998</th>\n",
       "      <th>1999</th>\n",
       "      <th>2000</th>\n",
       "      <th>2001</th>\n",
       "      <th>2002</th>\n",
       "      <th>2003</th>\n",
       "      <th>2004</th>\n",
       "      <th>2005</th>\n",
       "      <th>2006</th>\n",
       "      <th>2007</th>\n",
       "      <th>2008</th>\n",
       "      <th>2009</th>\n",
       "      <th>2010</th>\n",
       "      <th>2011</th>\n",
       "      <th>2012</th>\n",
       "      <th>2013</th>\n",
       "      <th>2014</th>\n",
       "      <th>2015</th>\n",
       "      <th>2016</th>\n",
       "      <th>2017</th>\n",
       "      <th>2018</th>\n",
       "      <th>2019</th>\n",
       "      <th>2020</th>\n",
       "      <th>2021</th>\n",
       "      <th>2022</th>\n",
       "      <th>2023</th>\n",
       "    </tr>\n",
       "  </thead>\n",
       "  <tbody>\n",
       "    <tr>\n",
       "      <th>0</th>\n",
       "      <td>Aruba</td>\n",
       "      <td>ABW</td>\n",
       "      <td>Unemployment, total (% of total labor force) (...</td>\n",
       "      <td>SL.UEM.TOTL.ZS</td>\n",
       "      <td>NaN</td>\n",
       "      <td>NaN</td>\n",
       "      <td>NaN</td>\n",
       "      <td>NaN</td>\n",
       "      <td>NaN</td>\n",
       "      <td>NaN</td>\n",
       "      <td>NaN</td>\n",
       "      <td>NaN</td>\n",
       "      <td>NaN</td>\n",
       "      <td>NaN</td>\n",
       "      <td>NaN</td>\n",
       "      <td>NaN</td>\n",
       "      <td>NaN</td>\n",
       "      <td>NaN</td>\n",
       "      <td>NaN</td>\n",
       "      <td>NaN</td>\n",
       "      <td>NaN</td>\n",
       "      <td>NaN</td>\n",
       "      <td>NaN</td>\n",
       "      <td>NaN</td>\n",
       "      <td>NaN</td>\n",
       "      <td>NaN</td>\n",
       "      <td>NaN</td>\n",
       "      <td>NaN</td>\n",
       "      <td>NaN</td>\n",
       "      <td>NaN</td>\n",
       "      <td>NaN</td>\n",
       "      <td>NaN</td>\n",
       "      <td>NaN</td>\n",
       "      <td>NaN</td>\n",
       "      <td>NaN</td>\n",
       "      <td>NaN</td>\n",
       "      <td>NaN</td>\n",
       "      <td>NaN</td>\n",
       "      <td>NaN</td>\n",
       "      <td>NaN</td>\n",
       "      <td>NaN</td>\n",
       "      <td>NaN</td>\n",
       "      <td>NaN</td>\n",
       "      <td>NaN</td>\n",
       "      <td>NaN</td>\n",
       "      <td>NaN</td>\n",
       "      <td>NaN</td>\n",
       "      <td>NaN</td>\n",
       "      <td>NaN</td>\n",
       "      <td>NaN</td>\n",
       "      <td>NaN</td>\n",
       "      <td>NaN</td>\n",
       "      <td>NaN</td>\n",
       "      <td>NaN</td>\n",
       "      <td>NaN</td>\n",
       "      <td>NaN</td>\n",
       "      <td>NaN</td>\n",
       "      <td>NaN</td>\n",
       "      <td>NaN</td>\n",
       "      <td>NaN</td>\n",
       "      <td>NaN</td>\n",
       "      <td>NaN</td>\n",
       "      <td>NaN</td>\n",
       "      <td>NaN</td>\n",
       "      <td>NaN</td>\n",
       "      <td>NaN</td>\n",
       "      <td>NaN</td>\n",
       "      <td>NaN</td>\n",
       "    </tr>\n",
       "    <tr>\n",
       "      <th>1</th>\n",
       "      <td>Africa Eastern and Southern</td>\n",
       "      <td>AFE</td>\n",
       "      <td>Unemployment, total (% of total labor force) (...</td>\n",
       "      <td>SL.UEM.TOTL.ZS</td>\n",
       "      <td>NaN</td>\n",
       "      <td>NaN</td>\n",
       "      <td>NaN</td>\n",
       "      <td>NaN</td>\n",
       "      <td>NaN</td>\n",
       "      <td>NaN</td>\n",
       "      <td>NaN</td>\n",
       "      <td>NaN</td>\n",
       "      <td>NaN</td>\n",
       "      <td>NaN</td>\n",
       "      <td>NaN</td>\n",
       "      <td>NaN</td>\n",
       "      <td>NaN</td>\n",
       "      <td>NaN</td>\n",
       "      <td>NaN</td>\n",
       "      <td>NaN</td>\n",
       "      <td>NaN</td>\n",
       "      <td>NaN</td>\n",
       "      <td>NaN</td>\n",
       "      <td>NaN</td>\n",
       "      <td>NaN</td>\n",
       "      <td>NaN</td>\n",
       "      <td>NaN</td>\n",
       "      <td>NaN</td>\n",
       "      <td>NaN</td>\n",
       "      <td>NaN</td>\n",
       "      <td>NaN</td>\n",
       "      <td>NaN</td>\n",
       "      <td>NaN</td>\n",
       "      <td>NaN</td>\n",
       "      <td>NaN</td>\n",
       "      <td>7.801597</td>\n",
       "      <td>7.896982</td>\n",
       "      <td>7.898076</td>\n",
       "      <td>7.768859</td>\n",
       "      <td>7.533566</td>\n",
       "      <td>7.446310</td>\n",
       "      <td>7.406224</td>\n",
       "      <td>7.438247</td>\n",
       "      <td>7.479567</td>\n",
       "      <td>7.422605</td>\n",
       "      <td>7.316977</td>\n",
       "      <td>7.278188</td>\n",
       "      <td>7.236416</td>\n",
       "      <td>7.048158</td>\n",
       "      <td>6.874314</td>\n",
       "      <td>6.818582</td>\n",
       "      <td>6.765904</td>\n",
       "      <td>6.745309</td>\n",
       "      <td>6.855173</td>\n",
       "      <td>7.269673</td>\n",
       "      <td>7.145734</td>\n",
       "      <td>6.949656</td>\n",
       "      <td>6.841767</td>\n",
       "      <td>6.807348</td>\n",
       "      <td>6.896303</td>\n",
       "      <td>7.042617</td>\n",
       "      <td>7.145377</td>\n",
       "      <td>7.110553</td>\n",
       "      <td>7.308025</td>\n",
       "      <td>7.734146</td>\n",
       "      <td>8.065361</td>\n",
       "      <td>7.555503</td>\n",
       "      <td>7.591070</td>\n",
       "    </tr>\n",
       "    <tr>\n",
       "      <th>2</th>\n",
       "      <td>Afghanistan</td>\n",
       "      <td>AFG</td>\n",
       "      <td>Unemployment, total (% of total labor force) (...</td>\n",
       "      <td>SL.UEM.TOTL.ZS</td>\n",
       "      <td>NaN</td>\n",
       "      <td>NaN</td>\n",
       "      <td>NaN</td>\n",
       "      <td>NaN</td>\n",
       "      <td>NaN</td>\n",
       "      <td>NaN</td>\n",
       "      <td>NaN</td>\n",
       "      <td>NaN</td>\n",
       "      <td>NaN</td>\n",
       "      <td>NaN</td>\n",
       "      <td>NaN</td>\n",
       "      <td>NaN</td>\n",
       "      <td>NaN</td>\n",
       "      <td>NaN</td>\n",
       "      <td>NaN</td>\n",
       "      <td>NaN</td>\n",
       "      <td>NaN</td>\n",
       "      <td>NaN</td>\n",
       "      <td>NaN</td>\n",
       "      <td>NaN</td>\n",
       "      <td>NaN</td>\n",
       "      <td>NaN</td>\n",
       "      <td>NaN</td>\n",
       "      <td>NaN</td>\n",
       "      <td>NaN</td>\n",
       "      <td>NaN</td>\n",
       "      <td>NaN</td>\n",
       "      <td>NaN</td>\n",
       "      <td>NaN</td>\n",
       "      <td>NaN</td>\n",
       "      <td>NaN</td>\n",
       "      <td>7.946000</td>\n",
       "      <td>7.940000</td>\n",
       "      <td>7.961000</td>\n",
       "      <td>7.980000</td>\n",
       "      <td>7.967000</td>\n",
       "      <td>7.941000</td>\n",
       "      <td>7.920000</td>\n",
       "      <td>7.941000</td>\n",
       "      <td>7.953000</td>\n",
       "      <td>7.955000</td>\n",
       "      <td>7.958000</td>\n",
       "      <td>7.939000</td>\n",
       "      <td>7.922000</td>\n",
       "      <td>7.914000</td>\n",
       "      <td>7.914000</td>\n",
       "      <td>7.918000</td>\n",
       "      <td>7.908000</td>\n",
       "      <td>7.920000</td>\n",
       "      <td>7.914000</td>\n",
       "      <td>7.914000</td>\n",
       "      <td>7.916000</td>\n",
       "      <td>7.909000</td>\n",
       "      <td>7.919000</td>\n",
       "      <td>7.915000</td>\n",
       "      <td>9.011000</td>\n",
       "      <td>10.100000</td>\n",
       "      <td>11.184000</td>\n",
       "      <td>11.206000</td>\n",
       "      <td>11.224000</td>\n",
       "      <td>11.710000</td>\n",
       "      <td>11.934000</td>\n",
       "      <td>14.100000</td>\n",
       "      <td>14.386000</td>\n",
       "    </tr>\n",
       "    <tr>\n",
       "      <th>3</th>\n",
       "      <td>Africa Western and Central</td>\n",
       "      <td>AFW</td>\n",
       "      <td>Unemployment, total (% of total labor force) (...</td>\n",
       "      <td>SL.UEM.TOTL.ZS</td>\n",
       "      <td>NaN</td>\n",
       "      <td>NaN</td>\n",
       "      <td>NaN</td>\n",
       "      <td>NaN</td>\n",
       "      <td>NaN</td>\n",
       "      <td>NaN</td>\n",
       "      <td>NaN</td>\n",
       "      <td>NaN</td>\n",
       "      <td>NaN</td>\n",
       "      <td>NaN</td>\n",
       "      <td>NaN</td>\n",
       "      <td>NaN</td>\n",
       "      <td>NaN</td>\n",
       "      <td>NaN</td>\n",
       "      <td>NaN</td>\n",
       "      <td>NaN</td>\n",
       "      <td>NaN</td>\n",
       "      <td>NaN</td>\n",
       "      <td>NaN</td>\n",
       "      <td>NaN</td>\n",
       "      <td>NaN</td>\n",
       "      <td>NaN</td>\n",
       "      <td>NaN</td>\n",
       "      <td>NaN</td>\n",
       "      <td>NaN</td>\n",
       "      <td>NaN</td>\n",
       "      <td>NaN</td>\n",
       "      <td>NaN</td>\n",
       "      <td>NaN</td>\n",
       "      <td>NaN</td>\n",
       "      <td>NaN</td>\n",
       "      <td>4.158535</td>\n",
       "      <td>4.277885</td>\n",
       "      <td>4.376871</td>\n",
       "      <td>4.399825</td>\n",
       "      <td>4.390342</td>\n",
       "      <td>4.339947</td>\n",
       "      <td>4.323778</td>\n",
       "      <td>4.343833</td>\n",
       "      <td>4.554083</td>\n",
       "      <td>4.610096</td>\n",
       "      <td>4.541772</td>\n",
       "      <td>4.361402</td>\n",
       "      <td>4.245707</td>\n",
       "      <td>4.158426</td>\n",
       "      <td>4.144384</td>\n",
       "      <td>3.998829</td>\n",
       "      <td>3.967087</td>\n",
       "      <td>3.990419</td>\n",
       "      <td>4.035142</td>\n",
       "      <td>4.029018</td>\n",
       "      <td>4.001803</td>\n",
       "      <td>4.018677</td>\n",
       "      <td>3.713670</td>\n",
       "      <td>3.891935</td>\n",
       "      <td>4.189575</td>\n",
       "      <td>4.127635</td>\n",
       "      <td>4.203684</td>\n",
       "      <td>4.224509</td>\n",
       "      <td>4.247435</td>\n",
       "      <td>4.697560</td>\n",
       "      <td>4.520787</td>\n",
       "      <td>3.726039</td>\n",
       "      <td>3.379122</td>\n",
       "    </tr>\n",
       "    <tr>\n",
       "      <th>4</th>\n",
       "      <td>Angola</td>\n",
       "      <td>AGO</td>\n",
       "      <td>Unemployment, total (% of total labor force) (...</td>\n",
       "      <td>SL.UEM.TOTL.ZS</td>\n",
       "      <td>NaN</td>\n",
       "      <td>NaN</td>\n",
       "      <td>NaN</td>\n",
       "      <td>NaN</td>\n",
       "      <td>NaN</td>\n",
       "      <td>NaN</td>\n",
       "      <td>NaN</td>\n",
       "      <td>NaN</td>\n",
       "      <td>NaN</td>\n",
       "      <td>NaN</td>\n",
       "      <td>NaN</td>\n",
       "      <td>NaN</td>\n",
       "      <td>NaN</td>\n",
       "      <td>NaN</td>\n",
       "      <td>NaN</td>\n",
       "      <td>NaN</td>\n",
       "      <td>NaN</td>\n",
       "      <td>NaN</td>\n",
       "      <td>NaN</td>\n",
       "      <td>NaN</td>\n",
       "      <td>NaN</td>\n",
       "      <td>NaN</td>\n",
       "      <td>NaN</td>\n",
       "      <td>NaN</td>\n",
       "      <td>NaN</td>\n",
       "      <td>NaN</td>\n",
       "      <td>NaN</td>\n",
       "      <td>NaN</td>\n",
       "      <td>NaN</td>\n",
       "      <td>NaN</td>\n",
       "      <td>NaN</td>\n",
       "      <td>16.468000</td>\n",
       "      <td>16.621000</td>\n",
       "      <td>17.074000</td>\n",
       "      <td>17.105000</td>\n",
       "      <td>16.711000</td>\n",
       "      <td>16.013000</td>\n",
       "      <td>15.928000</td>\n",
       "      <td>16.148000</td>\n",
       "      <td>16.392000</td>\n",
       "      <td>16.502000</td>\n",
       "      <td>16.539000</td>\n",
       "      <td>16.342000</td>\n",
       "      <td>16.370000</td>\n",
       "      <td>16.267000</td>\n",
       "      <td>16.268000</td>\n",
       "      <td>16.121000</td>\n",
       "      <td>16.080000</td>\n",
       "      <td>16.170000</td>\n",
       "      <td>16.392000</td>\n",
       "      <td>16.598000</td>\n",
       "      <td>16.770000</td>\n",
       "      <td>16.557000</td>\n",
       "      <td>16.487000</td>\n",
       "      <td>16.401000</td>\n",
       "      <td>16.491000</td>\n",
       "      <td>16.580000</td>\n",
       "      <td>16.617000</td>\n",
       "      <td>16.599000</td>\n",
       "      <td>16.497000</td>\n",
       "      <td>16.676000</td>\n",
       "      <td>15.799000</td>\n",
       "      <td>14.693000</td>\n",
       "      <td>14.620000</td>\n",
       "    </tr>\n",
       "  </tbody>\n",
       "</table>\n",
       "</div>"
      ],
      "text/plain": [
       "                  Country Name Country Code  \\\n",
       "0                        Aruba          ABW   \n",
       "1  Africa Eastern and Southern          AFE   \n",
       "2                  Afghanistan          AFG   \n",
       "3   Africa Western and Central          AFW   \n",
       "4                       Angola          AGO   \n",
       "\n",
       "                                      Indicator Name  Indicator Code  1960  \\\n",
       "0  Unemployment, total (% of total labor force) (...  SL.UEM.TOTL.ZS   NaN   \n",
       "1  Unemployment, total (% of total labor force) (...  SL.UEM.TOTL.ZS   NaN   \n",
       "2  Unemployment, total (% of total labor force) (...  SL.UEM.TOTL.ZS   NaN   \n",
       "3  Unemployment, total (% of total labor force) (...  SL.UEM.TOTL.ZS   NaN   \n",
       "4  Unemployment, total (% of total labor force) (...  SL.UEM.TOTL.ZS   NaN   \n",
       "\n",
       "   1961  1962  1963  1964  1965  1966  1967  1968  1969  1970  1971  1972  \\\n",
       "0   NaN   NaN   NaN   NaN   NaN   NaN   NaN   NaN   NaN   NaN   NaN   NaN   \n",
       "1   NaN   NaN   NaN   NaN   NaN   NaN   NaN   NaN   NaN   NaN   NaN   NaN   \n",
       "2   NaN   NaN   NaN   NaN   NaN   NaN   NaN   NaN   NaN   NaN   NaN   NaN   \n",
       "3   NaN   NaN   NaN   NaN   NaN   NaN   NaN   NaN   NaN   NaN   NaN   NaN   \n",
       "4   NaN   NaN   NaN   NaN   NaN   NaN   NaN   NaN   NaN   NaN   NaN   NaN   \n",
       "\n",
       "   1973  1974  1975  1976  1977  1978  1979  1980  1981  1982  1983  1984  \\\n",
       "0   NaN   NaN   NaN   NaN   NaN   NaN   NaN   NaN   NaN   NaN   NaN   NaN   \n",
       "1   NaN   NaN   NaN   NaN   NaN   NaN   NaN   NaN   NaN   NaN   NaN   NaN   \n",
       "2   NaN   NaN   NaN   NaN   NaN   NaN   NaN   NaN   NaN   NaN   NaN   NaN   \n",
       "3   NaN   NaN   NaN   NaN   NaN   NaN   NaN   NaN   NaN   NaN   NaN   NaN   \n",
       "4   NaN   NaN   NaN   NaN   NaN   NaN   NaN   NaN   NaN   NaN   NaN   NaN   \n",
       "\n",
       "   1985  1986  1987  1988  1989  1990      1991      1992      1993      1994  \\\n",
       "0   NaN   NaN   NaN   NaN   NaN   NaN       NaN       NaN       NaN       NaN   \n",
       "1   NaN   NaN   NaN   NaN   NaN   NaN  7.801597  7.896982  7.898076  7.768859   \n",
       "2   NaN   NaN   NaN   NaN   NaN   NaN  7.946000  7.940000  7.961000  7.980000   \n",
       "3   NaN   NaN   NaN   NaN   NaN   NaN  4.158535  4.277885  4.376871  4.399825   \n",
       "4   NaN   NaN   NaN   NaN   NaN   NaN 16.468000 16.621000 17.074000 17.105000   \n",
       "\n",
       "       1995      1996      1997      1998      1999      2000      2001  \\\n",
       "0       NaN       NaN       NaN       NaN       NaN       NaN       NaN   \n",
       "1  7.533566  7.446310  7.406224  7.438247  7.479567  7.422605  7.316977   \n",
       "2  7.967000  7.941000  7.920000  7.941000  7.953000  7.955000  7.958000   \n",
       "3  4.390342  4.339947  4.323778  4.343833  4.554083  4.610096  4.541772   \n",
       "4 16.711000 16.013000 15.928000 16.148000 16.392000 16.502000 16.539000   \n",
       "\n",
       "       2002      2003      2004      2005      2006      2007      2008  \\\n",
       "0       NaN       NaN       NaN       NaN       NaN       NaN       NaN   \n",
       "1  7.278188  7.236416  7.048158  6.874314  6.818582  6.765904  6.745309   \n",
       "2  7.939000  7.922000  7.914000  7.914000  7.918000  7.908000  7.920000   \n",
       "3  4.361402  4.245707  4.158426  4.144384  3.998829  3.967087  3.990419   \n",
       "4 16.342000 16.370000 16.267000 16.268000 16.121000 16.080000 16.170000   \n",
       "\n",
       "       2009      2010      2011      2012      2013      2014      2015  \\\n",
       "0       NaN       NaN       NaN       NaN       NaN       NaN       NaN   \n",
       "1  6.855173  7.269673  7.145734  6.949656  6.841767  6.807348  6.896303   \n",
       "2  7.914000  7.914000  7.916000  7.909000  7.919000  7.915000  9.011000   \n",
       "3  4.035142  4.029018  4.001803  4.018677  3.713670  3.891935  4.189575   \n",
       "4 16.392000 16.598000 16.770000 16.557000 16.487000 16.401000 16.491000   \n",
       "\n",
       "       2016      2017      2018      2019      2020      2021      2022  \\\n",
       "0       NaN       NaN       NaN       NaN       NaN       NaN       NaN   \n",
       "1  7.042617  7.145377  7.110553  7.308025  7.734146  8.065361  7.555503   \n",
       "2 10.100000 11.184000 11.206000 11.224000 11.710000 11.934000 14.100000   \n",
       "3  4.127635  4.203684  4.224509  4.247435  4.697560  4.520787  3.726039   \n",
       "4 16.580000 16.617000 16.599000 16.497000 16.676000 15.799000 14.693000   \n",
       "\n",
       "       2023  \n",
       "0       NaN  \n",
       "1  7.591070  \n",
       "2 14.386000  \n",
       "3  3.379122  \n",
       "4 14.620000  "
      ]
     },
     "execution_count": 3,
     "metadata": {},
     "output_type": "execute_result"
    }
   ],
   "source": [
    "# View the first 5 rows of the data\n",
    "UNEMP.head()"
   ]
  },
  {
   "cell_type": "code",
   "execution_count": 4,
   "metadata": {
    "cell_id": "bf8bcf615d694ac0abe64b69fdb6c0f8",
    "deepnote_cell_type": "code",
    "execution_context_id": "e72dfbbc-fcc7-4a8b-95f9-c66dbc1ce39b",
    "execution_millis": 0,
    "execution_start": 1740937220001,
    "id": "1qNQEC6erGR-",
    "source_hash": "d30e73a3"
   },
   "outputs": [],
   "source": [
    "# Rename columns\n",
    "UNEMP = UNEMP.rename(columns={\"Country Name\": \"country\"})"
   ]
  },
  {
   "cell_type": "code",
   "execution_count": 5,
   "metadata": {
    "cell_id": "5e2acbb17e5140e6a94829ac445d14bb",
    "deepnote_cell_type": "code",
    "execution_context_id": "e72dfbbc-fcc7-4a8b-95f9-c66dbc1ce39b",
    "execution_millis": 0,
    "execution_start": 1740937220060,
    "id": "KNHTEgp4rISA",
    "source_hash": "92d99007"
   },
   "outputs": [],
   "source": [
    "# Drop columns not required\n",
    "UNEMP = UNEMP.drop(columns=['Country Code', 'Indicator Name', 'Indicator Code'])"
   ]
  },
  {
   "cell_type": "code",
   "execution_count": 6,
   "metadata": {
    "cell_id": "1bdf40de92594745b3fd0499a10ff90e",
    "deepnote_cell_type": "code",
    "execution_context_id": "e72dfbbc-fcc7-4a8b-95f9-c66dbc1ce39b",
    "execution_millis": 0,
    "execution_start": 1740937220108,
    "id": "QQhkGPbarLD1",
    "source_hash": "a222cb74"
   },
   "outputs": [],
   "source": [
    "# Only keep OECD countries\n",
    "countries_to_keep = ['Australia', 'Austria', 'Belgium', 'Canada', 'Chile', 'Colombia', 'Costa Rica', 'Czechia', 'Denmark', 'Estonia', 'Finland', 'France', 'Germany', 'Greece', 'Hungary', 'Ireland', 'Iceland', 'Israel', 'Italy', 'Korea, Rep.', 'Japan', 'Latvia', 'Lithuania', 'Luxembourg', 'Mexico', 'Netherlands', 'New Zealand', 'Norway', 'Poland', 'Portugal', 'Slovenia', 'Spain', 'Sweden', 'Switzerland', 'Turkiye', 'United Kingdom', 'United States']\n",
    "UNEMP = UNEMP[UNEMP['country'].isin(countries_to_keep)]"
   ]
  },
  {
   "cell_type": "code",
   "execution_count": 7,
   "metadata": {
    "cell_id": "9fff75d34f0047d0bf3ac67514bf4d9d",
    "deepnote_cell_type": "code",
    "execution_context_id": "e72dfbbc-fcc7-4a8b-95f9-c66dbc1ce39b",
    "execution_millis": 0,
    "execution_start": 1740937220160,
    "id": "GaP_iJ7-rOLJ",
    "source_hash": "d073cb7"
   },
   "outputs": [],
   "source": [
    "# Rename Türkiye to Turkey\n",
    "UNEMP['country'] = UNEMP['country'].replace('Turkiye', 'Turkey')"
   ]
  },
  {
   "cell_type": "code",
   "execution_count": 8,
   "metadata": {
    "cell_id": "4bcf6873bab040f1bbb09736e1705df3",
    "deepnote_cell_type": "code",
    "execution_context_id": "e72dfbbc-fcc7-4a8b-95f9-c66dbc1ce39b",
    "execution_millis": 0,
    "execution_start": 1740937220208,
    "id": "2WMNSSPBrQMX",
    "source_hash": "3e04adbb"
   },
   "outputs": [],
   "source": [
    "# Rename Korea, Rep. to Korea\n",
    "UNEMP['country'] = UNEMP['country'].replace('Korea, Rep.', 'Korea')"
   ]
  },
  {
   "cell_type": "code",
   "execution_count": 9,
   "metadata": {
    "cell_id": "b3b40360337d4d79ab3fba80d9b10343",
    "deepnote_cell_type": "code",
    "execution_context_id": "e72dfbbc-fcc7-4a8b-95f9-c66dbc1ce39b",
    "execution_millis": 0,
    "execution_start": 1740937220264,
    "id": "o7WN7IzKrQrm",
    "source_hash": "8f7bd221"
   },
   "outputs": [],
   "source": [
    "# Drop columns by name\n",
    "UNEMP = UNEMP.drop(columns=['1960', '1961', '1962', '1963', '1964', '1965', '1966', '1967', '1968', '1969', '1970', '1971', '1972', '1973', '1974', '1975', '1976', '1977', '1978', '1979', '1980', '1981', '1982', '1983', '1984', '1985', '1986', '1987', '1988'])"
   ]
  },
  {
   "cell_type": "code",
   "execution_count": 10,
   "metadata": {
    "cell_id": "37fe05b6292747bd8ab322f931592f13",
    "colab": {
     "base_uri": "https://localhost:8080/",
     "height": 1000
    },
    "deepnote_cell_type": "code",
    "execution_context_id": "e72dfbbc-fcc7-4a8b-95f9-c66dbc1ce39b",
    "execution_millis": 0,
    "execution_start": 1740937220320,
    "id": "TpW8u7TPrbeG",
    "outputId": "121cda9e-cf30-44f8-8373-e0ad14989000",
    "source_hash": "4c0439c8"
   },
   "outputs": [
    {
     "data": {
      "text/plain": [
       "13     2\n",
       "14     2\n",
       "17     2\n",
       "35     2\n",
       "37     2\n",
       "39     2\n",
       "45     2\n",
       "48     2\n",
       "54     2\n",
       "55     2\n",
       "58     2\n",
       "70     2\n",
       "71     2\n",
       "75     2\n",
       "77     2\n",
       "81     2\n",
       "89     2\n",
       "101    2\n",
       "111    2\n",
       "114    2\n",
       "115    2\n",
       "116    2\n",
       "119    2\n",
       "126    2\n",
       "143    2\n",
       "144    2\n",
       "145    2\n",
       "154    2\n",
       "176    2\n",
       "177    2\n",
       "180    2\n",
       "190    2\n",
       "194    2\n",
       "222    2\n",
       "223    2\n",
       "244    2\n",
       "251    2\n",
       "dtype: int64"
      ]
     },
     "execution_count": 10,
     "metadata": {},
     "output_type": "execute_result"
    }
   ],
   "source": [
    "# Check for missing values by row\n",
    "UNEMP.isnull().sum(axis=1)"
   ]
  },
  {
   "cell_type": "code",
   "execution_count": 11,
   "metadata": {
    "cell_id": "1886c1675b9f48718aac59750808adc9",
    "deepnote_cell_type": "code",
    "execution_context_id": "e72dfbbc-fcc7-4a8b-95f9-c66dbc1ce39b",
    "execution_millis": 0,
    "execution_start": 1740937220372,
    "id": "MlMIRCtjrqvN",
    "source_hash": "7ac3c396"
   },
   "outputs": [],
   "source": [
    "# Copy 1991 values to 1989 and 1990 columns\n",
    "UNEMP['1989'] = UNEMP['1991']\n",
    "UNEMP['1990'] = UNEMP['1991']"
   ]
  },
  {
   "cell_type": "code",
   "execution_count": 13,
   "metadata": {
    "cell_id": "b4d011417389490789ef186598864a56",
    "deepnote_cell_type": "code",
    "execution_context_id": "e72dfbbc-fcc7-4a8b-95f9-c66dbc1ce39b",
    "execution_millis": 1,
    "execution_start": 1740937220517,
    "id": "UYmSjMNBsCGD",
    "source_hash": "3625dfe8"
   },
   "outputs": [],
   "source": [
    "# Melt the dataframe\n",
    "UNEMP_melted = pd.melt(UNEMP, id_vars=['country'], var_name='year', value_name='value')\n",
    "UNEMP_melted = UNEMP_melted.sort_values(by=['country', 'year']).reset_index(drop=True)\n",
    "UNEMP_melted['year'] = UNEMP_melted['year'].astype(int)"
   ]
  },
  {
   "cell_type": "code",
   "execution_count": 14,
   "metadata": {
    "cell_id": "089d82a743304502a824a3120615491a",
    "deepnote_cell_type": "code",
    "execution_context_id": "e72dfbbc-fcc7-4a8b-95f9-c66dbc1ce39b",
    "execution_millis": 0,
    "execution_start": 1740937220568,
    "id": "meR5Z3fTsOW9",
    "source_hash": "dd03f096"
   },
   "outputs": [],
   "source": [
    "# Calculate percentage change\n",
    "UNEMP_melted['unemployment_percentage_change'] = UNEMP_melted.groupby('country')['value'].pct_change() * 100"
   ]
  },
  {
   "cell_type": "code",
   "execution_count": 15,
   "metadata": {
    "cell_id": "641236aa730b4340ae2e26469b03979a",
    "deepnote_cell_type": "code",
    "execution_context_id": "e72dfbbc-fcc7-4a8b-95f9-c66dbc1ce39b",
    "execution_millis": 0,
    "execution_start": 1740937220620,
    "id": "N6-6_m4Hsakg",
    "source_hash": "651bc7e6"
   },
   "outputs": [],
   "source": [
    "# Remove rows before 1990\n",
    "UNEMP_melted = UNEMP_melted[UNEMP_melted['year'] != 1989]\n",
    "UNEMP_melted = UNEMP_melted.reset_index(drop=True)"
   ]
  },
  {
   "cell_type": "code",
   "execution_count": 16,
   "metadata": {
    "cell_id": "967a4d94132d40fdaaa657048cc14de6",
    "deepnote_cell_type": "code",
    "execution_context_id": "e72dfbbc-fcc7-4a8b-95f9-c66dbc1ce39b",
    "execution_millis": 0,
    "execution_start": 1740937220676,
    "id": "5lRUa_JwsgtN",
    "source_hash": "6c14803f"
   },
   "outputs": [],
   "source": [
    "# Remove the value column\n",
    "UNEMP_melted = UNEMP_melted.drop(columns=['value'])"
   ]
  },
  {
   "cell_type": "code",
   "execution_count": 17,
   "metadata": {
    "cell_id": "3aba5eef867b4c75bac3e25682eb94f1",
    "colab": {
     "base_uri": "https://localhost:8080/",
     "height": 178
    },
    "deepnote_cell_type": "code",
    "execution_context_id": "e72dfbbc-fcc7-4a8b-95f9-c66dbc1ce39b",
    "execution_millis": 1,
    "execution_start": 1740937220740,
    "id": "oSvrLX4rsnV9",
    "outputId": "4ea18e28-1fbc-4e3e-d5fa-eaa55d5c88b4",
    "source_hash": "6611b851"
   },
   "outputs": [
    {
     "data": {
      "text/plain": [
       "country                           0\n",
       "year                              0\n",
       "unemployment_percentage_change    0\n",
       "dtype: int64"
      ]
     },
     "execution_count": 17,
     "metadata": {},
     "output_type": "execute_result"
    }
   ],
   "source": [
    "# Check for missing values\n",
    "UNEMP_melted.isnull().sum()"
   ]
  },
  {
   "cell_type": "code",
   "execution_count": 18,
   "metadata": {
    "cell_id": "9f9d2652a0844a1fa417100f053871e0",
    "colab": {
     "base_uri": "https://localhost:8080/"
    },
    "deepnote_cell_type": "code",
    "execution_context_id": "e72dfbbc-fcc7-4a8b-95f9-c66dbc1ce39b",
    "execution_millis": 1,
    "execution_start": 1740937220791,
    "id": "iBdNwplIsqEz",
    "outputId": "1dcabf8c-9360-4381-fa52-44b8f6f6983a",
    "source_hash": "b30ab486"
   },
   "outputs": [
    {
     "data": {
      "text/plain": [
       "0"
      ]
     },
     "execution_count": 18,
     "metadata": {},
     "output_type": "execute_result"
    }
   ],
   "source": [
    "# Check for duplicated rows\n",
    "UNEMP_melted.duplicated().sum()"
   ]
  },
  {
   "cell_type": "code",
   "execution_count": 19,
   "metadata": {
    "cell_id": "4aa5b362b642400c9551707c609556ad",
    "colab": {
     "base_uri": "https://localhost:8080/"
    },
    "deepnote_cell_type": "code",
    "execution_context_id": "e72dfbbc-fcc7-4a8b-95f9-c66dbc1ce39b",
    "execution_millis": 0,
    "execution_start": 1740937220848,
    "id": "pf3W_ggLstzd",
    "outputId": "2820e371-7d25-4b9c-e0d5-b6f0d6bee006",
    "source_hash": "5e30a607"
   },
   "outputs": [
    {
     "name": "stdout",
     "output_type": "stream",
     "text": [
      "<class 'pandas.core.frame.DataFrame'>\n",
      "RangeIndex: 1258 entries, 0 to 1257\n",
      "Data columns (total 3 columns):\n",
      " #   Column                          Non-Null Count  Dtype  \n",
      "---  ------                          --------------  -----  \n",
      " 0   country                         1258 non-null   object \n",
      " 1   year                            1258 non-null   int64  \n",
      " 2   unemployment_percentage_change  1258 non-null   float64\n",
      "dtypes: float64(1), int64(1), object(1)\n",
      "memory usage: 29.6+ KB\n"
     ]
    }
   ],
   "source": [
    "# View a summary of the dataframe\n",
    "UNEMP_melted.info()"
   ]
  },
  {
   "cell_type": "code",
   "execution_count": 20,
   "metadata": {
    "cell_id": "51901093c79b42e4b09d7e437e37773a",
    "colab": {
     "base_uri": "https://localhost:8080/",
     "height": 300
    },
    "deepnote_cell_type": "code",
    "execution_context_id": "e72dfbbc-fcc7-4a8b-95f9-c66dbc1ce39b",
    "execution_millis": 1,
    "execution_start": 1740937220900,
    "id": "Be5Wok4wsuWf",
    "outputId": "04fb437b-b03d-4a8b-dc87-e135f3fe932d",
    "source_hash": "dc48e64e"
   },
   "outputs": [
    {
     "data": {
      "application/vnd.deepnote.dataframe.v3+json": {
       "column_count": 2,
       "columns": [
        {
         "dtype": "float64",
         "name": "year",
         "stats": {
          "histogram": [
           {
            "bin_end": 211.1331490801996,
            "bin_start": 9.814610089110666,
            "count": 1
           },
           {
            "bin_end": 412.4516880712885,
            "bin_start": 211.1331490801996,
            "count": 0
           },
           {
            "bin_end": 613.7702270623776,
            "bin_start": 412.4516880712885,
            "count": 0
           },
           {
            "bin_end": 815.0887660534664,
            "bin_start": 613.7702270623776,
            "count": 0
           },
           {
            "bin_end": 1016.4073050445553,
            "bin_start": 815.0887660534664,
            "count": 0
           },
           {
            "bin_end": 1217.7258440356443,
            "bin_start": 1016.4073050445553,
            "count": 0
           },
           {
            "bin_end": 1419.0443830267332,
            "bin_start": 1217.7258440356443,
            "count": 1
           },
           {
            "bin_end": 1620.362922017822,
            "bin_start": 1419.0443830267332,
            "count": 0
           },
           {
            "bin_end": 1821.681461008911,
            "bin_start": 1620.362922017822,
            "count": 0
           },
           {
            "bin_end": 2023,
            "bin_start": 1821.681461008911,
            "count": 6
           }
          ],
          "max": "2023.0",
          "min": "9.814610089110666",
          "nan_count": 0,
          "unique_count": 7
         }
        },
        {
         "dtype": "float64",
         "name": "unemployment_percentage_change",
         "stats": {
          "histogram": [
           {
            "bin_end": 92.36161884226243,
            "bin_start": -37.153756841930665,
            "count": 6
           },
           {
            "bin_end": 221.87699452645552,
            "bin_start": 92.36161884226243,
            "count": 0
           },
           {
            "bin_end": 351.3923702106486,
            "bin_start": 221.87699452645552,
            "count": 0
           },
           {
            "bin_end": 480.9077458948417,
            "bin_start": 351.3923702106486,
            "count": 0
           },
           {
            "bin_end": 610.4231215790347,
            "bin_start": 480.9077458948417,
            "count": 0
           },
           {
            "bin_end": 739.9384972632279,
            "bin_start": 610.4231215790347,
            "count": 0
           },
           {
            "bin_end": 869.453872947421,
            "bin_start": 739.9384972632279,
            "count": 0
           },
           {
            "bin_end": 998.969248631614,
            "bin_start": 869.453872947421,
            "count": 0
           },
           {
            "bin_end": 1128.484624315807,
            "bin_start": 998.969248631614,
            "count": 1
           },
           {
            "bin_end": 1258,
            "bin_start": 1128.484624315807,
            "count": 1
           }
          ],
          "max": "1258.0",
          "min": "-37.153756841930665",
          "nan_count": 0,
          "unique_count": 8
         }
        },
        {
         "dtype": "object",
         "name": "_deepnote_index_column"
        }
       ],
       "row_count": 8,
       "rows": [
        {
         "_deepnote_index_column": "count",
         "unemployment_percentage_change": 1258,
         "year": 1258
        },
        {
         "_deepnote_index_column": "mean",
         "unemployment_percentage_change": 1.9561034319984316,
         "year": 2006.5
        },
        {
         "_deepnote_index_column": "std",
         "unemployment_percentage_change": 35.66064872844009,
         "year": 9.814610089110666
        },
        {
         "_deepnote_index_column": "min",
         "unemployment_percentage_change": -37.153756841930665,
         "year": 1990
        },
        {
         "_deepnote_index_column": "25%",
         "unemployment_percentage_change": -9.283523098100748,
         "year": 1998
        },
        {
         "_deepnote_index_column": "50%",
         "unemployment_percentage_change": -1.535673084890088,
         "year": 2006.5
        },
        {
         "_deepnote_index_column": "75%",
         "unemployment_percentage_change": 6.269844898063893,
         "year": 2015
        },
        {
         "_deepnote_index_column": "max",
         "unemployment_percentage_change": 1050.0000000000002,
         "year": 2023
        }
       ]
      },
      "text/html": [
       "<div>\n",
       "<style scoped>\n",
       "    .dataframe tbody tr th:only-of-type {\n",
       "        vertical-align: middle;\n",
       "    }\n",
       "\n",
       "    .dataframe tbody tr th {\n",
       "        vertical-align: top;\n",
       "    }\n",
       "\n",
       "    .dataframe thead th {\n",
       "        text-align: right;\n",
       "    }\n",
       "</style>\n",
       "<table border=\"1\" class=\"dataframe\">\n",
       "  <thead>\n",
       "    <tr style=\"text-align: right;\">\n",
       "      <th></th>\n",
       "      <th>year</th>\n",
       "      <th>unemployment_percentage_change</th>\n",
       "    </tr>\n",
       "  </thead>\n",
       "  <tbody>\n",
       "    <tr>\n",
       "      <th>count</th>\n",
       "      <td>1258.000000</td>\n",
       "      <td>1258.000000</td>\n",
       "    </tr>\n",
       "    <tr>\n",
       "      <th>mean</th>\n",
       "      <td>2006.500000</td>\n",
       "      <td>1.956103</td>\n",
       "    </tr>\n",
       "    <tr>\n",
       "      <th>std</th>\n",
       "      <td>9.814610</td>\n",
       "      <td>35.660649</td>\n",
       "    </tr>\n",
       "    <tr>\n",
       "      <th>min</th>\n",
       "      <td>1990.000000</td>\n",
       "      <td>-37.153757</td>\n",
       "    </tr>\n",
       "    <tr>\n",
       "      <th>25%</th>\n",
       "      <td>1998.000000</td>\n",
       "      <td>-9.283523</td>\n",
       "    </tr>\n",
       "    <tr>\n",
       "      <th>50%</th>\n",
       "      <td>2006.500000</td>\n",
       "      <td>-1.535673</td>\n",
       "    </tr>\n",
       "    <tr>\n",
       "      <th>75%</th>\n",
       "      <td>2015.000000</td>\n",
       "      <td>6.269845</td>\n",
       "    </tr>\n",
       "    <tr>\n",
       "      <th>max</th>\n",
       "      <td>2023.000000</td>\n",
       "      <td>1050.000000</td>\n",
       "    </tr>\n",
       "  </tbody>\n",
       "</table>\n",
       "</div>"
      ],
      "text/plain": [
       "             year  unemployment_percentage_change\n",
       "count 1258.000000                     1258.000000\n",
       "mean  2006.500000                        1.956103\n",
       "std      9.814610                       35.660649\n",
       "min   1990.000000                      -37.153757\n",
       "25%   1998.000000                       -9.283523\n",
       "50%   2006.500000                       -1.535673\n",
       "75%   2015.000000                        6.269845\n",
       "max   2023.000000                     1050.000000"
      ]
     },
     "execution_count": 20,
     "metadata": {},
     "output_type": "execute_result"
    }
   ],
   "source": [
    "# View a summary of the dataframe\n",
    "UNEMP_melted.describe()"
   ]
  }
 ],
 "metadata": {
  "deepnote_notebook_id": "deeeff1329be4dcf96b32a03ab987121",
  "kernelspec": {
   "display_name": "Python 3 (ipykernel)",
   "language": "python",
   "name": "python3"
  },
  "language_info": {
   "codemirror_mode": {
    "name": "ipython",
    "version": 3
   },
   "file_extension": ".py",
   "mimetype": "text/x-python",
   "name": "python",
   "nbconvert_exporter": "python",
   "pygments_lexer": "ipython3",
   "version": "3.12.4"
  }
 },
 "nbformat": 4,
 "nbformat_minor": 4
}
