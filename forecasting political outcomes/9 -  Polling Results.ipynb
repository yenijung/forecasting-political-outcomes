{
 "cells": [
  {
   "cell_type": "markdown",
   "metadata": {
    "cell_id": "e54b92606e84401e96ea076d4fd0c5bf",
    "deepnote_cell_type": "text-cell-h1",
    "formattedRanges": []
   },
   "source": [
    "# Compare Model Performance to Polling"
   ]
  },
  {
   "cell_type": "markdown",
   "metadata": {
    "cell_id": "ac1c4088a2b44cb0a972a1d3698c605e",
    "deepnote_cell_type": "text-cell-h2",
    "formattedRanges": []
   },
   "source": [
    "## Import Libraries"
   ]
  },
  {
   "cell_type": "code",
   "execution_count": 1,
   "metadata": {
    "cell_id": "f3d4486295914d39935be8239a071ba0",
    "deepnote_cell_type": "code",
    "execution_context_id": "54297e0d-54e0-4b93-ac1e-cb99f3d3eca1",
    "execution_millis": 73,
    "execution_start": 1741606086929,
    "source_hash": "f23357e9"
   },
   "outputs": [],
   "source": [
    "# Import libraries\n",
    "import pandas as pd"
   ]
  },
  {
   "cell_type": "markdown",
   "metadata": {
    "cell_id": "961314dc6f8e413d85df87393bc23c66",
    "deepnote_cell_type": "text-cell-h2",
    "formattedRanges": []
   },
   "source": [
    "## Read the Data"
   ]
  },
  {
   "cell_type": "code",
   "execution_count": null,
   "metadata": {
    "cell_id": "fef867a8bf5d4d4c97377c783b69920c",
    "deepnote_cell_type": "code"
   },
   "outputs": [],
   "source": [
    "# Load data\n",
    "df = pd.read_csv('/dataset/Polling_Final.csv')"
   ]
  },
  {
   "cell_type": "markdown",
   "metadata": {
    "cell_id": "5c463a1f825e4b00aae5a64ebe34d7df",
    "deepnote_cell_type": "text-cell-h2",
    "formattedRanges": []
   },
   "source": [
    "## Inspect the Data"
   ]
  },
  {
   "cell_type": "code",
   "execution_count": 2,
   "metadata": {
    "cell_id": "8887bebd83064ffdb882d2fa1f610452",
    "deepnote_cell_type": "code",
    "deepnote_table_loading": false,
    "deepnote_table_state": {
     "cellFormattingRules": [],
     "columnDisplayNames": [],
     "columnOrder": [
      "Unnamed: 0",
      "1995",
      "1996",
      "1997",
      "1998",
      "1999",
      "2000",
      "2001",
      "2002",
      "2003",
      "2004",
      "2005",
      "2006",
      "2007",
      "2008",
      "2009",
      "2010",
      "2011",
      "2012",
      "2013",
      "2014",
      "2015",
      "2016",
      "2017",
      "2018",
      "2019",
      "2020",
      "2021",
      "2022",
      "2023",
      "Unnamed: 30",
      "Unnamed: 31"
     ],
     "conditionalFilters": [],
     "filters": [],
     "hiddenColumnIds": [],
     "pageIndex": 0,
     "pageSize": 100,
     "sortBy": [],
     "wrappedTextColumnIds": []
    },
    "execution_context_id": "54297e0d-54e0-4b93-ac1e-cb99f3d3eca1",
    "execution_millis": 228,
    "execution_start": 1741606087056,
    "source_hash": "f804c160"
   },
   "outputs": [
    {
     "data": {
      "application/vnd.deepnote.dataframe.v3+json": {
       "column_count": 33,
       "columns": [
        {
         "dtype": "object",
         "name": "Unnamed: 0",
         "stats": {
          "categories": [
           {
            "count": 1,
            "name": "New Zealand"
           },
           {
            "count": 13,
            "name": "13 others"
           },
           {
            "count": 1,
            "name": "Missing"
           }
          ],
          "nan_count": 1,
          "unique_count": 14
         }
        },
        {
         "dtype": "object",
         "name": "1995",
         "stats": {
          "categories": [
           {
            "count": 1,
            "name": "True"
           },
           {
            "count": 14,
            "name": "Missing"
           }
          ],
          "nan_count": 14,
          "unique_count": 1
         }
        },
        {
         "dtype": "object",
         "name": "1996",
         "stats": {
          "categories": [
           {
            "count": 5,
            "name": "True"
           },
           {
            "count": 10,
            "name": "Missing"
           }
          ],
          "nan_count": 10,
          "unique_count": 1
         }
        },
        {
         "dtype": "object",
         "name": "1997",
         "stats": {
          "categories": [
           {
            "count": 4,
            "name": "True"
           },
           {
            "count": 2,
            "name": "False"
           },
           {
            "count": 9,
            "name": "Missing"
           }
          ],
          "nan_count": 9,
          "unique_count": 2
         }
        },
        {
         "dtype": "object",
         "name": "1998",
         "stats": {
          "categories": [
           {
            "count": 4,
            "name": "True"
           },
           {
            "count": 11,
            "name": "Missing"
           }
          ],
          "nan_count": 11,
          "unique_count": 1
         }
        },
        {
         "dtype": "object",
         "name": "1999",
         "stats": {
          "categories": [
           {
            "count": 2,
            "name": "True"
           },
           {
            "count": 13,
            "name": "Missing"
           }
          ],
          "nan_count": 13,
          "unique_count": 1
         }
        },
        {
         "dtype": "object",
         "name": "2000",
         "stats": {
          "categories": [
           {
            "count": 3,
            "name": "True"
           },
           {
            "count": 12,
            "name": "Missing"
           }
          ],
          "nan_count": 12,
          "unique_count": 1
         }
        },
        {
         "dtype": "object",
         "name": "2001",
         "stats": {
          "categories": [
           {
            "count": 3,
            "name": "True"
           },
           {
            "count": 1,
            "name": "False"
           },
           {
            "count": 11,
            "name": "Missing"
           }
          ],
          "nan_count": 11,
          "unique_count": 2
         }
        },
        {
         "dtype": "object",
         "name": "2002",
         "stats": {
          "categories": [
           {
            "count": 6,
            "name": "True"
           },
           {
            "count": 1,
            "name": "False"
           },
           {
            "count": 8,
            "name": "Missing"
           }
          ],
          "nan_count": 8,
          "unique_count": 2
         }
        },
        {
         "dtype": "float64",
         "name": "2003",
         "stats": {
          "histogram": [
           {
            "bin_end": 0.1,
            "bin_start": 0,
            "count": 0
           },
           {
            "bin_end": 0.2,
            "bin_start": 0.1,
            "count": 0
           },
           {
            "bin_end": 0.30000000000000004,
            "bin_start": 0.2,
            "count": 0
           },
           {
            "bin_end": 0.4,
            "bin_start": 0.30000000000000004,
            "count": 0
           },
           {
            "bin_end": 0.5,
            "bin_start": 0.4,
            "count": 0
           },
           {
            "bin_end": 0.6000000000000001,
            "bin_start": 0.5,
            "count": 0
           },
           {
            "bin_end": 0.7000000000000001,
            "bin_start": 0.6000000000000001,
            "count": 0
           },
           {
            "bin_end": 0.8,
            "bin_start": 0.7000000000000001,
            "count": 0
           },
           {
            "bin_end": 0.9,
            "bin_start": 0.8,
            "count": 0
           },
           {
            "bin_end": 1,
            "bin_start": 0.9,
            "count": 0
           }
          ],
          "max": null,
          "min": null,
          "nan_count": 15,
          "unique_count": 0
         }
        },
        {
         "dtype": "object",
         "name": "2004",
         "stats": {
          "categories": [
           {
            "count": 3,
            "name": "True"
           },
           {
            "count": 1,
            "name": "False"
           },
           {
            "count": 11,
            "name": "Missing"
           }
          ],
          "nan_count": 11,
          "unique_count": 2
         }
        },
        {
         "dtype": "object",
         "name": "2005",
         "stats": {
          "categories": [
           {
            "count": 5,
            "name": "True"
           },
           {
            "count": 1,
            "name": "False"
           },
           {
            "count": 9,
            "name": "Missing"
           }
          ],
          "nan_count": 9,
          "unique_count": 2
         }
        },
        {
         "dtype": "object",
         "name": "2006",
         "stats": {
          "categories": [
           {
            "count": 2,
            "name": "True"
           },
           {
            "count": 1,
            "name": "False"
           },
           {
            "count": 12,
            "name": "Missing"
           }
          ],
          "nan_count": 12,
          "unique_count": 2
         }
        },
        {
         "dtype": "object",
         "name": "2007",
         "stats": {
          "categories": [
           {
            "count": 4,
            "name": "True"
           },
           {
            "count": 11,
            "name": "Missing"
           }
          ],
          "nan_count": 11,
          "unique_count": 1
         }
        },
        {
         "dtype": "object",
         "name": "2008",
         "stats": {
          "categories": [
           {
            "count": 4,
            "name": "True"
           },
           {
            "count": 11,
            "name": "Missing"
           }
          ],
          "nan_count": 11,
          "unique_count": 1
         }
        },
        {
         "dtype": "object",
         "name": "2009",
         "stats": {
          "categories": [
           {
            "count": 3,
            "name": "True"
           },
           {
            "count": 12,
            "name": "Missing"
           }
          ],
          "nan_count": 12,
          "unique_count": 1
         }
        },
        {
         "dtype": "object",
         "name": "2010",
         "stats": {
          "categories": [
           {
            "count": 2,
            "name": "True"
           },
           {
            "count": 2,
            "name": "False"
           },
           {
            "count": 11,
            "name": "Missing"
           }
          ],
          "nan_count": 11,
          "unique_count": 2
         }
        },
        {
         "dtype": "object",
         "name": "2011",
         "stats": {
          "categories": [
           {
            "count": 6,
            "name": "True"
           },
           {
            "count": 9,
            "name": "Missing"
           }
          ],
          "nan_count": 9,
          "unique_count": 1
         }
        },
        {
         "dtype": "object",
         "name": "2012",
         "stats": {
          "categories": [
           {
            "count": 2,
            "name": "True"
           },
           {
            "count": 13,
            "name": "Missing"
           }
          ],
          "nan_count": 13,
          "unique_count": 1
         }
        },
        {
         "dtype": "object",
         "name": "2013",
         "stats": {
          "categories": [
           {
            "count": 3,
            "name": "True"
           },
           {
            "count": 1,
            "name": "False"
           },
           {
            "count": 11,
            "name": "Missing"
           }
          ],
          "nan_count": 11,
          "unique_count": 2
         }
        },
        {
         "dtype": "object",
         "name": "2014",
         "stats": {
          "categories": [
           {
            "count": 2,
            "name": "True"
           },
           {
            "count": 13,
            "name": "Missing"
           }
          ],
          "nan_count": 13,
          "unique_count": 1
         }
        },
        {
         "dtype": "object",
         "name": "2015",
         "stats": {
          "categories": [
           {
            "count": 5,
            "name": "True"
           },
           {
            "count": 10,
            "name": "Missing"
           }
          ],
          "nan_count": 10,
          "unique_count": 1
         }
        },
        {
         "dtype": "object",
         "name": "2016",
         "stats": {
          "categories": [
           {
            "count": 3,
            "name": "True"
           },
           {
            "count": 1,
            "name": "False"
           },
           {
            "count": 11,
            "name": "Missing"
           }
          ],
          "nan_count": 11,
          "unique_count": 2
         }
        },
        {
         "dtype": "object",
         "name": "2017",
         "stats": {
          "categories": [
           {
            "count": 5,
            "name": "True"
           },
           {
            "count": 1,
            "name": "False"
           },
           {
            "count": 9,
            "name": "Missing"
           }
          ],
          "nan_count": 9,
          "unique_count": 2
         }
        },
        {
         "dtype": "object",
         "name": "2018",
         "stats": {
          "categories": [
           {
            "count": 1,
            "name": "True"
           },
           {
            "count": 14,
            "name": "Missing"
           }
          ],
          "nan_count": 14,
          "unique_count": 1
         }
        },
        {
         "dtype": "object",
         "name": "2019",
         "stats": {
          "categories": [
           {
            "count": 3,
            "name": "True"
           },
           {
            "count": 3,
            "name": "False"
           },
           {
            "count": 9,
            "name": "Missing"
           }
          ],
          "nan_count": 9,
          "unique_count": 2
         }
        },
        {
         "dtype": "object",
         "name": "2020",
         "stats": {
          "categories": [
           {
            "count": 2,
            "name": "True"
           },
           {
            "count": 1,
            "name": "False"
           },
           {
            "count": 12,
            "name": "Missing"
           }
          ],
          "nan_count": 12,
          "unique_count": 2
         }
        },
        {
         "dtype": "object",
         "name": "2021",
         "stats": {
          "categories": [
           {
            "count": 2,
            "name": "False"
           },
           {
            "count": 2,
            "name": "True"
           },
           {
            "count": 11,
            "name": "Missing"
           }
          ],
          "nan_count": 11,
          "unique_count": 2
         }
        },
        {
         "dtype": "object",
         "name": "2022",
         "stats": {
          "categories": [
           {
            "count": 2,
            "name": "True"
           },
           {
            "count": 2,
            "name": "False"
           },
           {
            "count": 11,
            "name": "Missing"
           }
          ],
          "nan_count": 11,
          "unique_count": 2
         }
        },
        {
         "dtype": "object",
         "name": "2023",
         "stats": {
          "categories": [
           {
            "count": 2,
            "name": "True"
           },
           {
            "count": 1,
            "name": "False"
           },
           {
            "count": 12,
            "name": "Missing"
           }
          ],
          "nan_count": 12,
          "unique_count": 2
         }
        },
        {
         "dtype": "float64",
         "name": "Unnamed: 30",
         "stats": {
          "histogram": [
           {
            "bin_end": 0.1,
            "bin_start": 0,
            "count": 0
           },
           {
            "bin_end": 0.2,
            "bin_start": 0.1,
            "count": 0
           },
           {
            "bin_end": 0.30000000000000004,
            "bin_start": 0.2,
            "count": 0
           },
           {
            "bin_end": 0.4,
            "bin_start": 0.30000000000000004,
            "count": 0
           },
           {
            "bin_end": 0.5,
            "bin_start": 0.4,
            "count": 0
           },
           {
            "bin_end": 0.6000000000000001,
            "bin_start": 0.5,
            "count": 0
           },
           {
            "bin_end": 0.7000000000000001,
            "bin_start": 0.6000000000000001,
            "count": 0
           },
           {
            "bin_end": 0.8,
            "bin_start": 0.7000000000000001,
            "count": 0
           },
           {
            "bin_end": 0.9,
            "bin_start": 0.8,
            "count": 0
           },
           {
            "bin_end": 1,
            "bin_start": 0.9,
            "count": 0
           }
          ],
          "max": null,
          "min": null,
          "nan_count": 15,
          "unique_count": 0
         }
        },
        {
         "dtype": "float64",
         "name": "Unnamed: 31",
         "stats": {
          "histogram": [
           {
            "bin_end": 0.1,
            "bin_start": 0,
            "count": 0
           },
           {
            "bin_end": 0.2,
            "bin_start": 0.1,
            "count": 0
           },
           {
            "bin_end": 0.30000000000000004,
            "bin_start": 0.2,
            "count": 0
           },
           {
            "bin_end": 0.4,
            "bin_start": 0.30000000000000004,
            "count": 0
           },
           {
            "bin_end": 0.5,
            "bin_start": 0.4,
            "count": 0
           },
           {
            "bin_end": 0.6000000000000001,
            "bin_start": 0.5,
            "count": 0
           },
           {
            "bin_end": 0.7000000000000001,
            "bin_start": 0.6000000000000001,
            "count": 0
           },
           {
            "bin_end": 0.8,
            "bin_start": 0.7000000000000001,
            "count": 0
           },
           {
            "bin_end": 0.9,
            "bin_start": 0.8,
            "count": 0
           },
           {
            "bin_end": 1,
            "bin_start": 0.9,
            "count": 0
           }
          ],
          "max": null,
          "min": null,
          "nan_count": 15,
          "unique_count": 0
         }
        },
        {
         "dtype": "float64",
         "name": "Accuracy",
         "stats": {
          "histogram": [
           {
            "bin_end": 0.4857142857142857,
            "bin_start": 0.42857142857142855,
            "count": 1
           },
           {
            "bin_end": 0.5428571428571428,
            "bin_start": 0.4857142857142857,
            "count": 0
           },
           {
            "bin_end": 0.6,
            "bin_start": 0.5428571428571428,
            "count": 1
           },
           {
            "bin_end": 0.6571428571428571,
            "bin_start": 0.6,
            "count": 1
           },
           {
            "bin_end": 0.7142857142857142,
            "bin_start": 0.6571428571428571,
            "count": 2
           },
           {
            "bin_end": 0.7714285714285714,
            "bin_start": 0.7142857142857142,
            "count": 1
           },
           {
            "bin_end": 0.8285714285714285,
            "bin_start": 0.7714285714285714,
            "count": 1
           },
           {
            "bin_end": 0.8857142857142857,
            "bin_start": 0.8285714285714285,
            "count": 1
           },
           {
            "bin_end": 0.9428571428571428,
            "bin_start": 0.8857142857142857,
            "count": 2
           },
           {
            "bin_end": 1,
            "bin_start": 0.9428571428571428,
            "count": 4
           }
          ],
          "max": "1.0",
          "min": "0.42857142857142855",
          "nan_count": 1,
          "unique_count": 10
         }
        },
        {
         "dtype": "int64",
         "name": "_deepnote_index_column"
        }
       ],
       "row_count": 15,
       "rows": [
        {
         "1995": "nan",
         "1996": "True",
         "1997": "nan",
         "1998": "nan",
         "1999": "True",
         "2000": "nan",
         "2001": "nan",
         "2002": "True",
         "2003": "nan",
         "2004": "nan",
         "2005": "True",
         "2006": "nan",
         "2007": "nan",
         "2008": "True",
         "2009": "nan",
         "2010": "nan",
         "2011": "True",
         "2012": "nan",
         "2013": "nan",
         "2014": "True",
         "2015": "nan",
         "2016": "nan",
         "2017": "True",
         "2018": "nan",
         "2019": "nan",
         "2020": "True",
         "2021": "nan",
         "2022": "nan",
         "2023": "True",
         "Accuracy": 1,
         "Unnamed: 0": "New Zealand",
         "Unnamed: 30": "nan",
         "Unnamed: 31": "nan",
         "_deepnote_index_column": 0
        },
        {
         "1995": "nan",
         "1996": "nan",
         "1997": "True",
         "1998": "nan",
         "1999": "nan",
         "2000": "nan",
         "2001": "True",
         "2002": "nan",
         "2003": "nan",
         "2004": "nan",
         "2005": "True",
         "2006": "nan",
         "2007": "nan",
         "2008": "nan",
         "2009": "nan",
         "2010": "True",
         "2011": "nan",
         "2012": "nan",
         "2013": "nan",
         "2014": "nan",
         "2015": "True",
         "2016": "nan",
         "2017": "True",
         "2018": "nan",
         "2019": "True",
         "2020": "nan",
         "2021": "nan",
         "2022": "nan",
         "2023": "nan",
         "Accuracy": 1,
         "Unnamed: 0": "UK",
         "Unnamed: 30": "nan",
         "Unnamed: 31": "nan",
         "_deepnote_index_column": 1
        },
        {
         "1995": "True",
         "1996": "nan",
         "1997": "nan",
         "1998": "nan",
         "1999": "True",
         "2000": "nan",
         "2001": "nan",
         "2002": "True",
         "2003": "nan",
         "2004": "nan",
         "2005": "True",
         "2006": "nan",
         "2007": "nan",
         "2008": "nan",
         "2009": "True",
         "2010": "nan",
         "2011": "True",
         "2012": "nan",
         "2013": "nan",
         "2014": "nan",
         "2015": "True",
         "2016": "nan",
         "2017": "nan",
         "2018": "nan",
         "2019": "True",
         "2020": "nan",
         "2021": "nan",
         "2022": "True",
         "2023": "nan",
         "Accuracy": 1,
         "Unnamed: 0": "Portugal",
         "Unnamed: 30": "nan",
         "Unnamed: 31": "nan",
         "_deepnote_index_column": 2
        },
        {
         "1995": "nan",
         "1996": "True",
         "1997": "nan",
         "1998": "nan",
         "1999": "nan",
         "2000": "True",
         "2001": "nan",
         "2002": "nan",
         "2003": "nan",
         "2004": "False",
         "2005": "nan",
         "2006": "nan",
         "2007": "nan",
         "2008": "True",
         "2009": "nan",
         "2010": "nan",
         "2011": "True",
         "2012": "nan",
         "2013": "nan",
         "2014": "nan",
         "2015": "True",
         "2016": "True",
         "2017": "nan",
         "2018": "nan",
         "2019": "True",
         "2020": "nan",
         "2021": "nan",
         "2022": "nan",
         "2023": "True",
         "Accuracy": 0.8888888888888888,
         "Unnamed: 0": "Spain",
         "Unnamed: 30": "nan",
         "Unnamed: 31": "nan",
         "_deepnote_index_column": 3
        },
        {
         "1995": "nan",
         "1996": "nan",
         "1997": "True",
         "1998": "nan",
         "1999": "nan",
         "2000": "nan",
         "2001": "True",
         "2002": "nan",
         "2003": "nan",
         "2004": "nan",
         "2005": "False",
         "2006": "nan",
         "2007": "True",
         "2008": "nan",
         "2009": "nan",
         "2010": "nan",
         "2011": "True",
         "2012": "nan",
         "2013": "nan",
         "2014": "nan",
         "2015": "True",
         "2016": "nan",
         "2017": "nan",
         "2018": "nan",
         "2019": "False",
         "2020": "nan",
         "2021": "nan",
         "2022": "nan",
         "2023": "False",
         "Accuracy": 0.625,
         "Unnamed: 0": "Poland",
         "Unnamed: 30": "nan",
         "Unnamed: 31": "nan",
         "_deepnote_index_column": 4
        },
        {
         "1995": "nan",
         "1996": "True",
         "1997": "nan",
         "1998": "nan",
         "1999": "nan",
         "2000": "True",
         "2001": "nan",
         "2002": "nan",
         "2003": "nan",
         "2004": "True",
         "2005": "nan",
         "2006": "nan",
         "2007": "nan",
         "2008": "True",
         "2009": "nan",
         "2010": "nan",
         "2011": "nan",
         "2012": "True",
         "2013": "nan",
         "2014": "nan",
         "2015": "nan",
         "2016": "False",
         "2017": "nan",
         "2018": "nan",
         "2019": "nan",
         "2020": "True",
         "2021": "nan",
         "2022": "nan",
         "2023": "nan",
         "Accuracy": 0.8571428571428571,
         "Unnamed: 0": "USA",
         "Unnamed: 30": "nan",
         "Unnamed: 31": "nan",
         "_deepnote_index_column": 5
        },
        {
         "1995": "nan",
         "1996": "True",
         "1997": "nan",
         "1998": "True",
         "1999": "nan",
         "2000": "nan",
         "2001": "True",
         "2002": "nan",
         "2003": "nan",
         "2004": "True",
         "2005": "nan",
         "2006": "nan",
         "2007": "True",
         "2008": "nan",
         "2009": "nan",
         "2010": "True",
         "2011": "nan",
         "2012": "nan",
         "2013": "True",
         "2014": "nan",
         "2015": "nan",
         "2016": "True",
         "2017": "nan",
         "2018": "nan",
         "2019": "False",
         "2020": "nan",
         "2021": "nan",
         "2022": "True",
         "2023": "nan",
         "Accuracy": 0.9,
         "Unnamed: 0": "Australia",
         "Unnamed: 30": "nan",
         "Unnamed: 31": "nan",
         "_deepnote_index_column": 6
        },
        {
         "1995": "nan",
         "1996": "True",
         "1997": "nan",
         "1998": "True",
         "1999": "nan",
         "2000": "nan",
         "2001": "nan",
         "2002": "True",
         "2003": "nan",
         "2004": "nan",
         "2005": "nan",
         "2006": "True",
         "2007": "nan",
         "2008": "nan",
         "2009": "nan",
         "2010": "False",
         "2011": "nan",
         "2012": "nan",
         "2013": "True",
         "2014": "nan",
         "2015": "nan",
         "2016": "nan",
         "2017": "True",
         "2018": "nan",
         "2019": "nan",
         "2020": "nan",
         "2021": "False",
         "2022": "nan",
         "2023": "nan",
         "Accuracy": 0.75,
         "Unnamed: 0": "Czechia",
         "Unnamed: 30": "nan",
         "Unnamed: 31": "nan",
         "_deepnote_index_column": 7
        },
        {
         "1995": "nan",
         "1996": "nan",
         "1997": "False",
         "1998": "nan",
         "1999": "nan",
         "2000": "nan",
         "2001": "False",
         "2002": "nan",
         "2003": "nan",
         "2004": "nan",
         "2005": "True",
         "2006": "nan",
         "2007": "nan",
         "2008": "nan",
         "2009": "True",
         "2010": "nan",
         "2011": "nan",
         "2012": "nan",
         "2013": "False",
         "2014": "nan",
         "2015": "nan",
         "2016": "nan",
         "2017": "False",
         "2018": "nan",
         "2019": "nan",
         "2020": "nan",
         "2021": "True",
         "2022": "nan",
         "2023": "nan",
         "Accuracy": 0.42857142857142855,
         "Unnamed: 0": "Norway",
         "Unnamed: 30": "nan",
         "Unnamed: 31": "nan",
         "_deepnote_index_column": 8
        },
        {
         "1995": "nan",
         "1996": "nan",
         "1997": "False",
         "1998": "nan",
         "1999": "nan",
         "2000": "nan",
         "2001": "nan",
         "2002": "True",
         "2003": "nan",
         "2004": "nan",
         "2005": "nan",
         "2006": "nan",
         "2007": "True",
         "2008": "nan",
         "2009": "nan",
         "2010": "nan",
         "2011": "nan",
         "2012": "True",
         "2013": "nan",
         "2014": "nan",
         "2015": "nan",
         "2016": "nan",
         "2017": "True",
         "2018": "nan",
         "2019": "nan",
         "2020": "nan",
         "2021": "nan",
         "2022": "False",
         "2023": "nan",
         "Accuracy": 0.6666666666666666,
         "Unnamed: 0": "France",
         "Unnamed: 30": "nan",
         "Unnamed: 31": "nan",
         "_deepnote_index_column": 9
        },
        {
         "1995": "nan",
         "1996": "nan",
         "1997": "nan",
         "1998": "True",
         "1999": "nan",
         "2000": "nan",
         "2001": "nan",
         "2002": "True",
         "2003": "nan",
         "2004": "nan",
         "2005": "nan",
         "2006": "False",
         "2007": "nan",
         "2008": "nan",
         "2009": "nan",
         "2010": "False",
         "2011": "nan",
         "2012": "nan",
         "2013": "nan",
         "2014": "True",
         "2015": "nan",
         "2016": "nan",
         "2017": "nan",
         "2018": "True",
         "2019": "nan",
         "2020": "nan",
         "2021": "nan",
         "2022": "False",
         "2023": "nan",
         "Accuracy": 0.5714285714285714,
         "Unnamed: 0": "Sweden",
         "Unnamed: 30": "nan",
         "Unnamed: 31": "nan",
         "_deepnote_index_column": 10
        },
        {
         "1995": "nan",
         "1996": "nan",
         "1997": "True",
         "1998": "nan",
         "1999": "nan",
         "2000": "True",
         "2001": "nan",
         "2002": "nan",
         "2003": "nan",
         "2004": "True",
         "2005": "nan",
         "2006": "True",
         "2007": "nan",
         "2008": "True",
         "2009": "nan",
         "2010": "nan",
         "2011": "True",
         "2012": "nan",
         "2013": "nan",
         "2014": "nan",
         "2015": "True",
         "2016": "nan",
         "2017": "nan",
         "2018": "nan",
         "2019": "False",
         "2020": "nan",
         "2021": "False",
         "2022": "nan",
         "2023": "nan",
         "Accuracy": 0.7777777777777778,
         "Unnamed: 0": "Canada",
         "Unnamed: 30": "nan",
         "Unnamed: 31": "nan",
         "_deepnote_index_column": 11
        },
        {
         "1995": "nan",
         "1996": "nan",
         "1997": "nan",
         "1998": "True",
         "1999": "nan",
         "2000": "nan",
         "2001": "nan",
         "2002": "True",
         "2003": "nan",
         "2004": "nan",
         "2005": "True",
         "2006": "nan",
         "2007": "nan",
         "2008": "nan",
         "2009": "True",
         "2010": "nan",
         "2011": "nan",
         "2012": "nan",
         "2013": "True",
         "2014": "nan",
         "2015": "nan",
         "2016": "nan",
         "2017": "True",
         "2018": "nan",
         "2019": "nan",
         "2020": "nan",
         "2021": "True",
         "2022": "nan",
         "2023": "nan",
         "Accuracy": 1,
         "Unnamed: 0": "Germany",
         "Unnamed: 30": "nan",
         "Unnamed: 31": "nan",
         "_deepnote_index_column": 12
        },
        {
         "1995": "nan",
         "1996": "nan",
         "1997": "True",
         "1998": "nan",
         "1999": "nan",
         "2000": "nan",
         "2001": "nan",
         "2002": "False",
         "2003": "nan",
         "2004": "nan",
         "2005": "nan",
         "2006": "nan",
         "2007": "True",
         "2008": "nan",
         "2009": "nan",
         "2010": "nan",
         "2011": "True",
         "2012": "nan",
         "2013": "nan",
         "2014": "nan",
         "2015": "nan",
         "2016": "True",
         "2017": "nan",
         "2018": "nan",
         "2019": "nan",
         "2020": "False",
         "2021": "nan",
         "2022": "nan",
         "2023": "nan",
         "Accuracy": 0.6666666666666666,
         "Unnamed: 0": "Ireland",
         "Unnamed: 30": "nan",
         "Unnamed: 31": "nan",
         "_deepnote_index_column": 13
        },
        {
         "1995": "nan",
         "1996": "nan",
         "1997": "nan",
         "1998": "nan",
         "1999": "nan",
         "2000": "nan",
         "2001": "nan",
         "2002": "nan",
         "2003": "nan",
         "2004": "nan",
         "2005": "nan",
         "2006": "nan",
         "2007": "nan",
         "2008": "nan",
         "2009": "nan",
         "2010": "nan",
         "2011": "nan",
         "2012": "nan",
         "2013": "nan",
         "2014": "nan",
         "2015": "nan",
         "2016": "nan",
         "2017": "nan",
         "2018": "nan",
         "2019": "nan",
         "2020": "nan",
         "2021": "nan",
         "2022": "nan",
         "2023": "nan",
         "Accuracy": "nan",
         "Unnamed: 0": "nan",
         "Unnamed: 30": "nan",
         "Unnamed: 31": "nan",
         "_deepnote_index_column": 14
        }
       ]
      },
      "text/html": [
       "<div>\n",
       "<style scoped>\n",
       "    .dataframe tbody tr th:only-of-type {\n",
       "        vertical-align: middle;\n",
       "    }\n",
       "\n",
       "    .dataframe tbody tr th {\n",
       "        vertical-align: top;\n",
       "    }\n",
       "\n",
       "    .dataframe thead th {\n",
       "        text-align: right;\n",
       "    }\n",
       "</style>\n",
       "<table border=\"1\" class=\"dataframe\">\n",
       "  <thead>\n",
       "    <tr style=\"text-align: right;\">\n",
       "      <th></th>\n",
       "      <th>Unnamed: 0</th>\n",
       "      <th>1995</th>\n",
       "      <th>1996</th>\n",
       "      <th>1997</th>\n",
       "      <th>1998</th>\n",
       "      <th>1999</th>\n",
       "      <th>2000</th>\n",
       "      <th>2001</th>\n",
       "      <th>2002</th>\n",
       "      <th>2003</th>\n",
       "      <th>...</th>\n",
       "      <th>2017</th>\n",
       "      <th>2018</th>\n",
       "      <th>2019</th>\n",
       "      <th>2020</th>\n",
       "      <th>2021</th>\n",
       "      <th>2022</th>\n",
       "      <th>2023</th>\n",
       "      <th>Unnamed: 30</th>\n",
       "      <th>Unnamed: 31</th>\n",
       "      <th>Accuracy</th>\n",
       "    </tr>\n",
       "  </thead>\n",
       "  <tbody>\n",
       "    <tr>\n",
       "      <th>0</th>\n",
       "      <td>New Zealand</td>\n",
       "      <td>NaN</td>\n",
       "      <td>True</td>\n",
       "      <td>NaN</td>\n",
       "      <td>NaN</td>\n",
       "      <td>True</td>\n",
       "      <td>NaN</td>\n",
       "      <td>NaN</td>\n",
       "      <td>True</td>\n",
       "      <td>NaN</td>\n",
       "      <td>...</td>\n",
       "      <td>True</td>\n",
       "      <td>NaN</td>\n",
       "      <td>NaN</td>\n",
       "      <td>True</td>\n",
       "      <td>NaN</td>\n",
       "      <td>NaN</td>\n",
       "      <td>True</td>\n",
       "      <td>NaN</td>\n",
       "      <td>NaN</td>\n",
       "      <td>1.000000</td>\n",
       "    </tr>\n",
       "    <tr>\n",
       "      <th>1</th>\n",
       "      <td>UK</td>\n",
       "      <td>NaN</td>\n",
       "      <td>NaN</td>\n",
       "      <td>True</td>\n",
       "      <td>NaN</td>\n",
       "      <td>NaN</td>\n",
       "      <td>NaN</td>\n",
       "      <td>True</td>\n",
       "      <td>NaN</td>\n",
       "      <td>NaN</td>\n",
       "      <td>...</td>\n",
       "      <td>True</td>\n",
       "      <td>NaN</td>\n",
       "      <td>True</td>\n",
       "      <td>NaN</td>\n",
       "      <td>NaN</td>\n",
       "      <td>NaN</td>\n",
       "      <td>NaN</td>\n",
       "      <td>NaN</td>\n",
       "      <td>NaN</td>\n",
       "      <td>1.000000</td>\n",
       "    </tr>\n",
       "    <tr>\n",
       "      <th>2</th>\n",
       "      <td>Portugal</td>\n",
       "      <td>True</td>\n",
       "      <td>NaN</td>\n",
       "      <td>NaN</td>\n",
       "      <td>NaN</td>\n",
       "      <td>True</td>\n",
       "      <td>NaN</td>\n",
       "      <td>NaN</td>\n",
       "      <td>True</td>\n",
       "      <td>NaN</td>\n",
       "      <td>...</td>\n",
       "      <td>NaN</td>\n",
       "      <td>NaN</td>\n",
       "      <td>True</td>\n",
       "      <td>NaN</td>\n",
       "      <td>NaN</td>\n",
       "      <td>True</td>\n",
       "      <td>NaN</td>\n",
       "      <td>NaN</td>\n",
       "      <td>NaN</td>\n",
       "      <td>1.000000</td>\n",
       "    </tr>\n",
       "    <tr>\n",
       "      <th>3</th>\n",
       "      <td>Spain</td>\n",
       "      <td>NaN</td>\n",
       "      <td>True</td>\n",
       "      <td>NaN</td>\n",
       "      <td>NaN</td>\n",
       "      <td>NaN</td>\n",
       "      <td>True</td>\n",
       "      <td>NaN</td>\n",
       "      <td>NaN</td>\n",
       "      <td>NaN</td>\n",
       "      <td>...</td>\n",
       "      <td>NaN</td>\n",
       "      <td>NaN</td>\n",
       "      <td>True</td>\n",
       "      <td>NaN</td>\n",
       "      <td>NaN</td>\n",
       "      <td>NaN</td>\n",
       "      <td>True</td>\n",
       "      <td>NaN</td>\n",
       "      <td>NaN</td>\n",
       "      <td>0.888889</td>\n",
       "    </tr>\n",
       "    <tr>\n",
       "      <th>4</th>\n",
       "      <td>Poland</td>\n",
       "      <td>NaN</td>\n",
       "      <td>NaN</td>\n",
       "      <td>True</td>\n",
       "      <td>NaN</td>\n",
       "      <td>NaN</td>\n",
       "      <td>NaN</td>\n",
       "      <td>True</td>\n",
       "      <td>NaN</td>\n",
       "      <td>NaN</td>\n",
       "      <td>...</td>\n",
       "      <td>NaN</td>\n",
       "      <td>NaN</td>\n",
       "      <td>False</td>\n",
       "      <td>NaN</td>\n",
       "      <td>NaN</td>\n",
       "      <td>NaN</td>\n",
       "      <td>False</td>\n",
       "      <td>NaN</td>\n",
       "      <td>NaN</td>\n",
       "      <td>0.625000</td>\n",
       "    </tr>\n",
       "    <tr>\n",
       "      <th>5</th>\n",
       "      <td>USA</td>\n",
       "      <td>NaN</td>\n",
       "      <td>True</td>\n",
       "      <td>NaN</td>\n",
       "      <td>NaN</td>\n",
       "      <td>NaN</td>\n",
       "      <td>True</td>\n",
       "      <td>NaN</td>\n",
       "      <td>NaN</td>\n",
       "      <td>NaN</td>\n",
       "      <td>...</td>\n",
       "      <td>NaN</td>\n",
       "      <td>NaN</td>\n",
       "      <td>NaN</td>\n",
       "      <td>True</td>\n",
       "      <td>NaN</td>\n",
       "      <td>NaN</td>\n",
       "      <td>NaN</td>\n",
       "      <td>NaN</td>\n",
       "      <td>NaN</td>\n",
       "      <td>0.857143</td>\n",
       "    </tr>\n",
       "    <tr>\n",
       "      <th>6</th>\n",
       "      <td>Australia</td>\n",
       "      <td>NaN</td>\n",
       "      <td>True</td>\n",
       "      <td>NaN</td>\n",
       "      <td>True</td>\n",
       "      <td>NaN</td>\n",
       "      <td>NaN</td>\n",
       "      <td>True</td>\n",
       "      <td>NaN</td>\n",
       "      <td>NaN</td>\n",
       "      <td>...</td>\n",
       "      <td>NaN</td>\n",
       "      <td>NaN</td>\n",
       "      <td>False</td>\n",
       "      <td>NaN</td>\n",
       "      <td>NaN</td>\n",
       "      <td>True</td>\n",
       "      <td>NaN</td>\n",
       "      <td>NaN</td>\n",
       "      <td>NaN</td>\n",
       "      <td>0.900000</td>\n",
       "    </tr>\n",
       "    <tr>\n",
       "      <th>7</th>\n",
       "      <td>Czechia</td>\n",
       "      <td>NaN</td>\n",
       "      <td>True</td>\n",
       "      <td>NaN</td>\n",
       "      <td>True</td>\n",
       "      <td>NaN</td>\n",
       "      <td>NaN</td>\n",
       "      <td>NaN</td>\n",
       "      <td>True</td>\n",
       "      <td>NaN</td>\n",
       "      <td>...</td>\n",
       "      <td>True</td>\n",
       "      <td>NaN</td>\n",
       "      <td>NaN</td>\n",
       "      <td>NaN</td>\n",
       "      <td>False</td>\n",
       "      <td>NaN</td>\n",
       "      <td>NaN</td>\n",
       "      <td>NaN</td>\n",
       "      <td>NaN</td>\n",
       "      <td>0.750000</td>\n",
       "    </tr>\n",
       "    <tr>\n",
       "      <th>8</th>\n",
       "      <td>Norway</td>\n",
       "      <td>NaN</td>\n",
       "      <td>NaN</td>\n",
       "      <td>False</td>\n",
       "      <td>NaN</td>\n",
       "      <td>NaN</td>\n",
       "      <td>NaN</td>\n",
       "      <td>False</td>\n",
       "      <td>NaN</td>\n",
       "      <td>NaN</td>\n",
       "      <td>...</td>\n",
       "      <td>False</td>\n",
       "      <td>NaN</td>\n",
       "      <td>NaN</td>\n",
       "      <td>NaN</td>\n",
       "      <td>True</td>\n",
       "      <td>NaN</td>\n",
       "      <td>NaN</td>\n",
       "      <td>NaN</td>\n",
       "      <td>NaN</td>\n",
       "      <td>0.428571</td>\n",
       "    </tr>\n",
       "    <tr>\n",
       "      <th>9</th>\n",
       "      <td>France</td>\n",
       "      <td>NaN</td>\n",
       "      <td>NaN</td>\n",
       "      <td>False</td>\n",
       "      <td>NaN</td>\n",
       "      <td>NaN</td>\n",
       "      <td>NaN</td>\n",
       "      <td>NaN</td>\n",
       "      <td>True</td>\n",
       "      <td>NaN</td>\n",
       "      <td>...</td>\n",
       "      <td>True</td>\n",
       "      <td>NaN</td>\n",
       "      <td>NaN</td>\n",
       "      <td>NaN</td>\n",
       "      <td>NaN</td>\n",
       "      <td>False</td>\n",
       "      <td>NaN</td>\n",
       "      <td>NaN</td>\n",
       "      <td>NaN</td>\n",
       "      <td>0.666667</td>\n",
       "    </tr>\n",
       "    <tr>\n",
       "      <th>10</th>\n",
       "      <td>Sweden</td>\n",
       "      <td>NaN</td>\n",
       "      <td>NaN</td>\n",
       "      <td>NaN</td>\n",
       "      <td>True</td>\n",
       "      <td>NaN</td>\n",
       "      <td>NaN</td>\n",
       "      <td>NaN</td>\n",
       "      <td>True</td>\n",
       "      <td>NaN</td>\n",
       "      <td>...</td>\n",
       "      <td>NaN</td>\n",
       "      <td>True</td>\n",
       "      <td>NaN</td>\n",
       "      <td>NaN</td>\n",
       "      <td>NaN</td>\n",
       "      <td>False</td>\n",
       "      <td>NaN</td>\n",
       "      <td>NaN</td>\n",
       "      <td>NaN</td>\n",
       "      <td>0.571429</td>\n",
       "    </tr>\n",
       "    <tr>\n",
       "      <th>11</th>\n",
       "      <td>Canada</td>\n",
       "      <td>NaN</td>\n",
       "      <td>NaN</td>\n",
       "      <td>True</td>\n",
       "      <td>NaN</td>\n",
       "      <td>NaN</td>\n",
       "      <td>True</td>\n",
       "      <td>NaN</td>\n",
       "      <td>NaN</td>\n",
       "      <td>NaN</td>\n",
       "      <td>...</td>\n",
       "      <td>NaN</td>\n",
       "      <td>NaN</td>\n",
       "      <td>False</td>\n",
       "      <td>NaN</td>\n",
       "      <td>False</td>\n",
       "      <td>NaN</td>\n",
       "      <td>NaN</td>\n",
       "      <td>NaN</td>\n",
       "      <td>NaN</td>\n",
       "      <td>0.777778</td>\n",
       "    </tr>\n",
       "    <tr>\n",
       "      <th>12</th>\n",
       "      <td>Germany</td>\n",
       "      <td>NaN</td>\n",
       "      <td>NaN</td>\n",
       "      <td>NaN</td>\n",
       "      <td>True</td>\n",
       "      <td>NaN</td>\n",
       "      <td>NaN</td>\n",
       "      <td>NaN</td>\n",
       "      <td>True</td>\n",
       "      <td>NaN</td>\n",
       "      <td>...</td>\n",
       "      <td>True</td>\n",
       "      <td>NaN</td>\n",
       "      <td>NaN</td>\n",
       "      <td>NaN</td>\n",
       "      <td>True</td>\n",
       "      <td>NaN</td>\n",
       "      <td>NaN</td>\n",
       "      <td>NaN</td>\n",
       "      <td>NaN</td>\n",
       "      <td>1.000000</td>\n",
       "    </tr>\n",
       "    <tr>\n",
       "      <th>13</th>\n",
       "      <td>Ireland</td>\n",
       "      <td>NaN</td>\n",
       "      <td>NaN</td>\n",
       "      <td>True</td>\n",
       "      <td>NaN</td>\n",
       "      <td>NaN</td>\n",
       "      <td>NaN</td>\n",
       "      <td>NaN</td>\n",
       "      <td>False</td>\n",
       "      <td>NaN</td>\n",
       "      <td>...</td>\n",
       "      <td>NaN</td>\n",
       "      <td>NaN</td>\n",
       "      <td>NaN</td>\n",
       "      <td>False</td>\n",
       "      <td>NaN</td>\n",
       "      <td>NaN</td>\n",
       "      <td>NaN</td>\n",
       "      <td>NaN</td>\n",
       "      <td>NaN</td>\n",
       "      <td>0.666667</td>\n",
       "    </tr>\n",
       "    <tr>\n",
       "      <th>14</th>\n",
       "      <td>NaN</td>\n",
       "      <td>NaN</td>\n",
       "      <td>NaN</td>\n",
       "      <td>NaN</td>\n",
       "      <td>NaN</td>\n",
       "      <td>NaN</td>\n",
       "      <td>NaN</td>\n",
       "      <td>NaN</td>\n",
       "      <td>NaN</td>\n",
       "      <td>NaN</td>\n",
       "      <td>...</td>\n",
       "      <td>NaN</td>\n",
       "      <td>NaN</td>\n",
       "      <td>NaN</td>\n",
       "      <td>NaN</td>\n",
       "      <td>NaN</td>\n",
       "      <td>NaN</td>\n",
       "      <td>NaN</td>\n",
       "      <td>NaN</td>\n",
       "      <td>NaN</td>\n",
       "      <td>NaN</td>\n",
       "    </tr>\n",
       "  </tbody>\n",
       "</table>\n",
       "<p>15 rows × 33 columns</p>\n",
       "</div>"
      ],
      "text/plain": [
       "     Unnamed: 0  1995  1996   1997  1998  1999  2000   2001   2002  2003  ...  \\\n",
       "0   New Zealand   NaN  True    NaN   NaN  True   NaN    NaN   True   NaN  ...   \n",
       "1            UK   NaN   NaN   True   NaN   NaN   NaN   True    NaN   NaN  ...   \n",
       "2      Portugal  True   NaN    NaN   NaN  True   NaN    NaN   True   NaN  ...   \n",
       "3         Spain   NaN  True    NaN   NaN   NaN  True    NaN    NaN   NaN  ...   \n",
       "4        Poland   NaN   NaN   True   NaN   NaN   NaN   True    NaN   NaN  ...   \n",
       "5           USA   NaN  True    NaN   NaN   NaN  True    NaN    NaN   NaN  ...   \n",
       "6     Australia   NaN  True    NaN  True   NaN   NaN   True    NaN   NaN  ...   \n",
       "7       Czechia   NaN  True    NaN  True   NaN   NaN    NaN   True   NaN  ...   \n",
       "8        Norway   NaN   NaN  False   NaN   NaN   NaN  False    NaN   NaN  ...   \n",
       "9        France   NaN   NaN  False   NaN   NaN   NaN    NaN   True   NaN  ...   \n",
       "10       Sweden   NaN   NaN    NaN  True   NaN   NaN    NaN   True   NaN  ...   \n",
       "11       Canada   NaN   NaN   True   NaN   NaN  True    NaN    NaN   NaN  ...   \n",
       "12      Germany   NaN   NaN    NaN  True   NaN   NaN    NaN   True   NaN  ...   \n",
       "13      Ireland   NaN   NaN   True   NaN   NaN   NaN    NaN  False   NaN  ...   \n",
       "14          NaN   NaN   NaN    NaN   NaN   NaN   NaN    NaN    NaN   NaN  ...   \n",
       "\n",
       "     2017  2018   2019   2020   2021   2022   2023 Unnamed: 30 Unnamed: 31  \\\n",
       "0    True   NaN    NaN   True    NaN    NaN   True         NaN         NaN   \n",
       "1    True   NaN   True    NaN    NaN    NaN    NaN         NaN         NaN   \n",
       "2     NaN   NaN   True    NaN    NaN   True    NaN         NaN         NaN   \n",
       "3     NaN   NaN   True    NaN    NaN    NaN   True         NaN         NaN   \n",
       "4     NaN   NaN  False    NaN    NaN    NaN  False         NaN         NaN   \n",
       "5     NaN   NaN    NaN   True    NaN    NaN    NaN         NaN         NaN   \n",
       "6     NaN   NaN  False    NaN    NaN   True    NaN         NaN         NaN   \n",
       "7    True   NaN    NaN    NaN  False    NaN    NaN         NaN         NaN   \n",
       "8   False   NaN    NaN    NaN   True    NaN    NaN         NaN         NaN   \n",
       "9    True   NaN    NaN    NaN    NaN  False    NaN         NaN         NaN   \n",
       "10    NaN  True    NaN    NaN    NaN  False    NaN         NaN         NaN   \n",
       "11    NaN   NaN  False    NaN  False    NaN    NaN         NaN         NaN   \n",
       "12   True   NaN    NaN    NaN   True    NaN    NaN         NaN         NaN   \n",
       "13    NaN   NaN    NaN  False    NaN    NaN    NaN         NaN         NaN   \n",
       "14    NaN   NaN    NaN    NaN    NaN    NaN    NaN         NaN         NaN   \n",
       "\n",
       "    Accuracy  \n",
       "0   1.000000  \n",
       "1   1.000000  \n",
       "2   1.000000  \n",
       "3   0.888889  \n",
       "4   0.625000  \n",
       "5   0.857143  \n",
       "6   0.900000  \n",
       "7   0.750000  \n",
       "8   0.428571  \n",
       "9   0.666667  \n",
       "10  0.571429  \n",
       "11  0.777778  \n",
       "12  1.000000  \n",
       "13  0.666667  \n",
       "14       NaN  \n",
       "\n",
       "[15 rows x 33 columns]"
      ]
     },
     "execution_count": 24,
     "metadata": {},
     "output_type": "execute_result"
    }
   ],
   "source": [
    "# View data\n",
    "df.head()"
   ]
  },
  {
   "cell_type": "markdown",
   "metadata": {
    "cell_id": "d881ec1e21544dc9948394c2ed37d241",
    "deepnote_cell_type": "text-cell-h2",
    "formattedRanges": []
   },
   "source": [
    "## Analyse Polling"
   ]
  },
  {
   "cell_type": "code",
   "execution_count": 24,
   "metadata": {
    "cell_id": "576c842323204226be1dc22c4b5aa9db",
    "deepnote_cell_type": "code",
    "execution_context_id": "54297e0d-54e0-4b93-ac1e-cb99f3d3eca1",
    "execution_millis": 0,
    "execution_start": 1741606516396,
    "source_hash": "3b2c71dc"
   },
   "outputs": [],
   "source": [
    "# Compute Accuracy\n",
    "list = [0,1,2, 12]\n",
    "df_tesg = df.drop(index = list)"
   ]
  },
  {
   "cell_type": "code",
   "execution_count": 26,
   "metadata": {
    "cell_id": "daed37860dbb4761a41948b5ca3b14b0",
    "deepnote_cell_type": "code",
    "execution_context_id": "54297e0d-54e0-4b93-ac1e-cb99f3d3eca1",
    "execution_millis": 1,
    "execution_start": 1741606537808,
    "source_hash": "aa60ae28"
   },
   "outputs": [
    {
     "name": "stdout",
     "output_type": "stream",
     "text": [
      "Overall Accuracy: 64.37%\n"
     ]
    }
   ],
   "source": [
    "# Compute Accuracy\n",
    "values = df_tesg.iloc[:, 1:].values.flatten()  \n",
    "valid_predictions = pd.Series(values).dropna()\n",
    "accuracy = (valid_predictions == True).mean()\n",
    "print(f\"Overall Accuracy: {accuracy:.2%}\")"
   ]
  },
  {
   "cell_type": "code",
   "execution_count": 28,
   "metadata": {
    "cell_id": "2d02348c194b417a9f221a83ccb4bb7a",
    "deepnote_cell_type": "code",
    "execution_context_id": "54297e0d-54e0-4b93-ac1e-cb99f3d3eca1",
    "execution_millis": 1,
    "execution_start": 1741606573764,
    "source_hash": "99036108"
   },
   "outputs": [
    {
     "name": "stdout",
     "output_type": "stream",
     "text": [
      "   Unnamed: 0  Accuracy\n",
      "3       Spain  0.800000\n",
      "4      Poland  0.555556\n",
      "5         USA  0.750000\n",
      "6   Australia  0.818182\n",
      "7     Czechia  0.666667\n",
      "8      Norway  0.375000\n",
      "9      France  0.571429\n",
      "10     Sweden  0.500000\n",
      "11     Canada  0.700000\n",
      "13    Ireland  0.571429\n",
      "14        NaN       NaN\n"
     ]
    }
   ],
   "source": [
    "# Compute Accuracy\n",
    "accuracy_per_country = df_tesg.iloc[:, 1:].apply(lambda row: row.dropna().eq(True).mean(), axis=1)\n",
    "df_tesg[\"Accuracy\"] = accuracy_per_country  # Add accuracy as a new column for each country\n",
    "print(df_tesg[[\"Unnamed: 0\", \"Accuracy\"]])  # Show country-wise accuracy"
   ]
  },
  {
   "cell_type": "code",
   "execution_count": null,
   "metadata": {
    "cell_id": "1233e1b5048f43eaaaaf501cef7f6a0a",
    "deepnote_cell_type": "code"
   },
   "outputs": [],
   "source": [
    "# Results\n",
    "Cluster 1:\n",
    "['Australia', 'Belgium', 'Czechia', 'Denmark', 'Germany', 'Netherlands', 'Norway', 'Sweden']\n",
    "the number of the country 8\n",
    "\n",
    "Cluster 2:\n",
    "['Canada', 'Chile', 'Finland', 'France', 'Greece', 'Iceland', 'Israel', 'Japan', 'Luxembourg', 'New Zealand', 'Spain', 'Switzerland', 'United Kingdom', 'United States']\n",
    "the number of the country 14\n",
    "\n",
    "Cluster 3:\n",
    "['Austria', 'Costa Rica', 'Estonia', 'Ireland', 'Italy', 'Latvia', 'Lithuania', 'Poland', 'Portugal', 'Slovenia', 'South Korea']\n",
    "the number of the country 11\n",
    "\n",
    "Cluster 4:\n",
    "['Colombia', 'Hungary', 'Mexico', 'Turkey']\n",
    "the number of the country 4"
   ]
  }
 ],
 "metadata": {
  "deepnote_notebook_id": "ce0428e19f3f4f57b71d0d0b3473dda7",
  "deepnote_persisted_session": {
   "createdAt": "2025-03-10T11:55:33.500Z"
  },
  "kernelspec": {
   "display_name": "Python 3 (ipykernel)",
   "language": "python",
   "name": "python3"
  },
  "language_info": {
   "codemirror_mode": {
    "name": "ipython",
    "version": 3
   },
   "file_extension": ".py",
   "mimetype": "text/x-python",
   "name": "python",
   "nbconvert_exporter": "python",
   "pygments_lexer": "ipython3",
   "version": "3.12.4"
  }
 },
 "nbformat": 4,
 "nbformat_minor": 4
}
