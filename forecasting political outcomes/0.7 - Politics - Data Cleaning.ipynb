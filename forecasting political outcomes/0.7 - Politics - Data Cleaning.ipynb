{
 "cells": [
  {
   "cell_type": "code",
   "execution_count": 1,
   "metadata": {
    "cell_id": "3a6ac1e9eba04962b05503059dfe5500",
    "deepnote_cell_type": "code",
    "execution_context_id": "e258b5d5-9a28-4fd2-b1f1-90b2804ba0f1",
    "execution_millis": 2105,
    "execution_start": 1740072264121,
    "source_hash": "4477e089"
   },
   "outputs": [],
   "source": [
    "# Import necessary libraries\n",
    "import pandas as pd\n",
    "import numpy as np\n",
    "import matplotlib.pyplot as plt\n",
    "import seaborn as sns\n",
    "from math import log\n",
    "import openpyxl"
   ]
  },
  {
   "cell_type": "code",
   "execution_count": 2,
   "metadata": {
    "cell_id": "e4d353f41b4946a2b04e5eb8adae1a9e",
    "deepnote_cell_type": "code",
    "execution_context_id": "e258b5d5-9a28-4fd2-b1f1-90b2804ba0f1",
    "execution_millis": 135,
    "execution_start": 1740072266274,
    "source_hash": "dbceed05"
   },
   "outputs": [
    {
     "data": {
      "application/vnd.deepnote.dataframe.v3+json": {
       "column_count": 10,
       "columns": [
        {
         "dtype": "object",
         "name": "countryIsoCode",
         "stats": {
          "categories": [
           {
            "count": 5,
            "name": "AFG"
           }
          ],
          "nan_count": 0,
          "unique_count": 1
         }
        },
        {
         "dtype": "object",
         "name": "country",
         "stats": {
          "categories": [
           {
            "count": 5,
            "name": "Afghanistan"
           }
          ],
          "nan_count": 0,
          "unique_count": 1
         }
        },
        {
         "dtype": "object",
         "name": "indexCode",
         "stats": {
          "categories": [
           {
            "count": 5,
            "name": "HDI"
           }
          ],
          "nan_count": 0,
          "unique_count": 1
         }
        },
        {
         "dtype": "object",
         "name": "index",
         "stats": {
          "categories": [
           {
            "count": 5,
            "name": "Human Development Index"
           }
          ],
          "nan_count": 0,
          "unique_count": 1
         }
        },
        {
         "dtype": "object",
         "name": "dimension",
         "stats": {
          "categories": [
           {
            "count": 5,
            "name": ""
           }
          ],
          "nan_count": 0,
          "unique_count": 1
         }
        },
        {
         "dtype": "object",
         "name": "indicatorCode",
         "stats": {
          "categories": [
           {
            "count": 5,
            "name": "hdi"
           }
          ],
          "nan_count": 0,
          "unique_count": 1
         }
        },
        {
         "dtype": "object",
         "name": "indicator",
         "stats": {
          "categories": [
           {
            "count": 5,
            "name": "Human Development Index (value)"
           }
          ],
          "nan_count": 0,
          "unique_count": 1
         }
        },
        {
         "dtype": "int64",
         "name": "year",
         "stats": {
          "histogram": [
           {
            "bin_end": 1990.4,
            "bin_start": 1990,
            "count": 1
           },
           {
            "bin_end": 1990.8,
            "bin_start": 1990.4,
            "count": 0
           },
           {
            "bin_end": 1991.2,
            "bin_start": 1990.8,
            "count": 1
           },
           {
            "bin_end": 1991.6,
            "bin_start": 1991.2,
            "count": 0
           },
           {
            "bin_end": 1992,
            "bin_start": 1991.6,
            "count": 0
           },
           {
            "bin_end": 1992.4,
            "bin_start": 1992,
            "count": 1
           },
           {
            "bin_end": 1992.8,
            "bin_start": 1992.4,
            "count": 0
           },
           {
            "bin_end": 1993.2,
            "bin_start": 1992.8,
            "count": 1
           },
           {
            "bin_end": 1993.6,
            "bin_start": 1993.2,
            "count": 0
           },
           {
            "bin_end": 1994,
            "bin_start": 1993.6,
            "count": 1
           }
          ],
          "max": "1994",
          "min": "1990",
          "nan_count": 0,
          "unique_count": 5
         }
        },
        {
         "dtype": "float64",
         "name": "value",
         "stats": {
          "histogram": [
           {
            "bin_end": 0.2863,
            "bin_start": 0.28400000000000003,
            "count": 1
           },
           {
            "bin_end": 0.2886,
            "bin_start": 0.2863,
            "count": 0
           },
           {
            "bin_end": 0.29090000000000005,
            "bin_start": 0.2886,
            "count": 0
           },
           {
            "bin_end": 0.2932,
            "bin_start": 0.29090000000000005,
            "count": 1
           },
           {
            "bin_end": 0.2955,
            "bin_start": 0.2932,
            "count": 0
           },
           {
            "bin_end": 0.2978,
            "bin_start": 0.2955,
            "count": 0
           },
           {
            "bin_end": 0.30010000000000003,
            "bin_start": 0.2978,
            "count": 2
           },
           {
            "bin_end": 0.3024,
            "bin_start": 0.30010000000000003,
            "count": 0
           },
           {
            "bin_end": 0.30469999999999997,
            "bin_start": 0.3024,
            "count": 0
           },
           {
            "bin_end": 0.307,
            "bin_start": 0.30469999999999997,
            "count": 1
           }
          ],
          "max": "0.307",
          "min": "0.28400000000000003",
          "nan_count": 0,
          "unique_count": 5
         }
        },
        {
         "dtype": "object",
         "name": "note",
         "stats": {
          "categories": [
           {
            "count": 5,
            "name": ""
           }
          ],
          "nan_count": 0,
          "unique_count": 1
         }
        },
        {
         "dtype": "int64",
         "name": "_deepnote_index_column"
        }
       ],
       "row_count": 5,
       "rows": [
        {
         "_deepnote_index_column": 0,
         "country": "Afghanistan",
         "countryIsoCode": "AFG",
         "dimension": "",
         "index": "Human Development Index",
         "indexCode": "HDI",
         "indicator": "Human Development Index (value)",
         "indicatorCode": "hdi",
         "note": "",
         "value": 0.28400000000000003,
         "year": 1990
        },
        {
         "_deepnote_index_column": 1,
         "country": "Afghanistan",
         "countryIsoCode": "AFG",
         "dimension": "",
         "index": "Human Development Index",
         "indexCode": "HDI",
         "indicator": "Human Development Index (value)",
         "indicatorCode": "hdi",
         "note": "",
         "value": 0.292,
         "year": 1991
        },
        {
         "_deepnote_index_column": 2,
         "country": "Afghanistan",
         "countryIsoCode": "AFG",
         "dimension": "",
         "index": "Human Development Index",
         "indexCode": "HDI",
         "indicator": "Human Development Index (value)",
         "indicatorCode": "hdi",
         "note": "",
         "value": 0.299,
         "year": 1992
        },
        {
         "_deepnote_index_column": 3,
         "country": "Afghanistan",
         "countryIsoCode": "AFG",
         "dimension": "",
         "index": "Human Development Index",
         "indexCode": "HDI",
         "indicator": "Human Development Index (value)",
         "indicatorCode": "hdi",
         "note": "",
         "value": 0.307,
         "year": 1993
        },
        {
         "_deepnote_index_column": 4,
         "country": "Afghanistan",
         "countryIsoCode": "AFG",
         "dimension": "",
         "index": "Human Development Index",
         "indexCode": "HDI",
         "indicator": "Human Development Index (value)",
         "indicatorCode": "hdi",
         "note": "",
         "value": 0.30000000000000004,
         "year": 1994
        }
       ]
      },
      "text/html": [
       "<div>\n",
       "<style scoped>\n",
       "    .dataframe tbody tr th:only-of-type {\n",
       "        vertical-align: middle;\n",
       "    }\n",
       "\n",
       "    .dataframe tbody tr th {\n",
       "        vertical-align: top;\n",
       "    }\n",
       "\n",
       "    .dataframe thead th {\n",
       "        text-align: right;\n",
       "    }\n",
       "</style>\n",
       "<table border=\"1\" class=\"dataframe\">\n",
       "  <thead>\n",
       "    <tr style=\"text-align: right;\">\n",
       "      <th></th>\n",
       "      <th>countryIsoCode</th>\n",
       "      <th>country</th>\n",
       "      <th>indexCode</th>\n",
       "      <th>index</th>\n",
       "      <th>dimension</th>\n",
       "      <th>indicatorCode</th>\n",
       "      <th>indicator</th>\n",
       "      <th>year</th>\n",
       "      <th>value</th>\n",
       "      <th>note</th>\n",
       "    </tr>\n",
       "  </thead>\n",
       "  <tbody>\n",
       "    <tr>\n",
       "      <th>0</th>\n",
       "      <td>AFG</td>\n",
       "      <td>Afghanistan</td>\n",
       "      <td>HDI</td>\n",
       "      <td>Human Development Index</td>\n",
       "      <td></td>\n",
       "      <td>hdi</td>\n",
       "      <td>Human Development Index (value)</td>\n",
       "      <td>1990</td>\n",
       "      <td>0.284</td>\n",
       "      <td></td>\n",
       "    </tr>\n",
       "    <tr>\n",
       "      <th>1</th>\n",
       "      <td>AFG</td>\n",
       "      <td>Afghanistan</td>\n",
       "      <td>HDI</td>\n",
       "      <td>Human Development Index</td>\n",
       "      <td></td>\n",
       "      <td>hdi</td>\n",
       "      <td>Human Development Index (value)</td>\n",
       "      <td>1991</td>\n",
       "      <td>0.292</td>\n",
       "      <td></td>\n",
       "    </tr>\n",
       "    <tr>\n",
       "      <th>2</th>\n",
       "      <td>AFG</td>\n",
       "      <td>Afghanistan</td>\n",
       "      <td>HDI</td>\n",
       "      <td>Human Development Index</td>\n",
       "      <td></td>\n",
       "      <td>hdi</td>\n",
       "      <td>Human Development Index (value)</td>\n",
       "      <td>1992</td>\n",
       "      <td>0.299</td>\n",
       "      <td></td>\n",
       "    </tr>\n",
       "    <tr>\n",
       "      <th>3</th>\n",
       "      <td>AFG</td>\n",
       "      <td>Afghanistan</td>\n",
       "      <td>HDI</td>\n",
       "      <td>Human Development Index</td>\n",
       "      <td></td>\n",
       "      <td>hdi</td>\n",
       "      <td>Human Development Index (value)</td>\n",
       "      <td>1993</td>\n",
       "      <td>0.307</td>\n",
       "      <td></td>\n",
       "    </tr>\n",
       "    <tr>\n",
       "      <th>4</th>\n",
       "      <td>AFG</td>\n",
       "      <td>Afghanistan</td>\n",
       "      <td>HDI</td>\n",
       "      <td>Human Development Index</td>\n",
       "      <td></td>\n",
       "      <td>hdi</td>\n",
       "      <td>Human Development Index (value)</td>\n",
       "      <td>1994</td>\n",
       "      <td>0.300</td>\n",
       "      <td></td>\n",
       "    </tr>\n",
       "  </tbody>\n",
       "</table>\n",
       "</div>"
      ],
      "text/plain": [
       "  countryIsoCode      country indexCode                    index dimension  \\\n",
       "0            AFG  Afghanistan       HDI  Human Development Index             \n",
       "1            AFG  Afghanistan       HDI  Human Development Index             \n",
       "2            AFG  Afghanistan       HDI  Human Development Index             \n",
       "3            AFG  Afghanistan       HDI  Human Development Index             \n",
       "4            AFG  Afghanistan       HDI  Human Development Index             \n",
       "\n",
       "  indicatorCode                        indicator  year  value note  \n",
       "0           hdi  Human Development Index (value)  1990  0.284       \n",
       "1           hdi  Human Development Index (value)  1991  0.292       \n",
       "2           hdi  Human Development Index (value)  1992  0.299       \n",
       "3           hdi  Human Development Index (value)  1993  0.307       \n",
       "4           hdi  Human Development Index (value)  1994  0.300       "
      ]
     },
     "execution_count": 2,
     "metadata": {},
     "output_type": "execute_result"
    }
   ],
   "source": [
    "# Load the HDI data\n",
    "hdi = pd.read_json('/dataset/political/hdr-data.json')"
   ]
  },
  {
   "cell_type": "code",
   "execution_count": null,
   "metadata": {
    "cell_id": "888f7e2ea186464980e23d129ef8c41b",
    "deepnote_cell_type": "code"
   },
   "outputs": [],
   "source": [
    "# View the first few rows of the data\n",
    "hdi.head()"
   ]
  },
  {
   "cell_type": "code",
   "execution_count": 3,
   "metadata": {
    "cell_id": "2b330f98fad3490389f262f1693f1cd2",
    "deepnote_cell_type": "code",
    "execution_context_id": "e258b5d5-9a28-4fd2-b1f1-90b2804ba0f1",
    "execution_millis": 1,
    "execution_start": 1740072266450,
    "source_hash": "a8e4eb9f"
   },
   "outputs": [
    {
     "data": {
      "application/vnd.deepnote.dataframe.v3+json": {
       "column_count": 3,
       "columns": [
        {
         "dtype": "object",
         "name": "country",
         "stats": {
          "categories": [
           {
            "count": 33,
            "name": "Australia"
           },
           {
            "count": 33,
            "name": "Austria"
           },
           {
            "count": 1150,
            "name": "35 others"
           }
          ],
          "nan_count": 0,
          "unique_count": 37
         }
        },
        {
         "dtype": "int64",
         "name": "year",
         "stats": {
          "histogram": [
           {
            "bin_end": 1993.2,
            "bin_start": 1990,
            "count": 144
           },
           {
            "bin_end": 1996.4,
            "bin_start": 1993.2,
            "count": 110
           },
           {
            "bin_end": 1999.6,
            "bin_start": 1996.4,
            "count": 111
           },
           {
            "bin_end": 2002.8,
            "bin_start": 1999.6,
            "count": 111
           },
           {
            "bin_end": 2006,
            "bin_start": 2002.8,
            "count": 111
           },
           {
            "bin_end": 2009.2,
            "bin_start": 2006,
            "count": 148
           },
           {
            "bin_end": 2012.4,
            "bin_start": 2009.2,
            "count": 111
           },
           {
            "bin_end": 2015.6,
            "bin_start": 2012.4,
            "count": 111
           },
           {
            "bin_end": 2018.8,
            "bin_start": 2015.6,
            "count": 111
           },
           {
            "bin_end": 2022,
            "bin_start": 2018.8,
            "count": 148
           }
          ],
          "max": "2022",
          "min": "1990",
          "nan_count": 0,
          "unique_count": 33
         }
        },
        {
         "dtype": "float64",
         "name": "value",
         "stats": {
          "histogram": [
           {
            "bin_end": 0.6349,
            "bin_start": 0.598,
            "count": 10
           },
           {
            "bin_end": 0.6718,
            "bin_start": 0.6349,
            "count": 16
           },
           {
            "bin_end": 0.7087,
            "bin_start": 0.6718,
            "count": 36
           },
           {
            "bin_end": 0.7456,
            "bin_start": 0.7087,
            "count": 68
           },
           {
            "bin_end": 0.7825,
            "bin_start": 0.7456,
            "count": 88
           },
           {
            "bin_end": 0.8194,
            "bin_start": 0.7825,
            "count": 112
           },
           {
            "bin_end": 0.8563000000000001,
            "bin_start": 0.8194,
            "count": 181
           },
           {
            "bin_end": 0.8932,
            "bin_start": 0.8563000000000001,
            "count": 279
           },
           {
            "bin_end": 0.9300999999999999,
            "bin_start": 0.8932,
            "count": 296
           },
           {
            "bin_end": 0.967,
            "bin_start": 0.9300999999999999,
            "count": 130
           }
          ],
          "max": "0.967",
          "min": "0.598",
          "nan_count": 0,
          "unique_count": 296
         }
        },
        {
         "dtype": "int64",
         "name": "_deepnote_index_column"
        }
       ],
       "row_count": 1216,
       "rows": [
        {
         "_deepnote_index_column": 228,
         "country": "Australia",
         "value": 0.864,
         "year": 1990
        },
        {
         "_deepnote_index_column": 229,
         "country": "Australia",
         "value": 0.866,
         "year": 1991
        },
        {
         "_deepnote_index_column": 230,
         "country": "Australia",
         "value": 0.868,
         "year": 1992
        },
        {
         "_deepnote_index_column": 231,
         "country": "Australia",
         "value": 0.873,
         "year": 1993
        },
        {
         "_deepnote_index_column": 232,
         "country": "Australia",
         "value": 0.873,
         "year": 1994
        },
        {
         "_deepnote_index_column": 233,
         "country": "Australia",
         "value": 0.882,
         "year": 1995
        },
        {
         "_deepnote_index_column": 234,
         "country": "Australia",
         "value": 0.884,
         "year": 1996
        },
        {
         "_deepnote_index_column": 235,
         "country": "Australia",
         "value": 0.887,
         "year": 1997
        },
        {
         "_deepnote_index_column": 236,
         "country": "Australia",
         "value": 0.891,
         "year": 1998
        },
        {
         "_deepnote_index_column": 237,
         "country": "Australia",
         "value": 0.894,
         "year": 1999
        }
       ]
      },
      "text/html": [
       "<div>\n",
       "<style scoped>\n",
       "    .dataframe tbody tr th:only-of-type {\n",
       "        vertical-align: middle;\n",
       "    }\n",
       "\n",
       "    .dataframe tbody tr th {\n",
       "        vertical-align: top;\n",
       "    }\n",
       "\n",
       "    .dataframe thead th {\n",
       "        text-align: right;\n",
       "    }\n",
       "</style>\n",
       "<table border=\"1\" class=\"dataframe\">\n",
       "  <thead>\n",
       "    <tr style=\"text-align: right;\">\n",
       "      <th></th>\n",
       "      <th>country</th>\n",
       "      <th>year</th>\n",
       "      <th>value</th>\n",
       "    </tr>\n",
       "  </thead>\n",
       "  <tbody>\n",
       "    <tr>\n",
       "      <th>228</th>\n",
       "      <td>Australia</td>\n",
       "      <td>1990</td>\n",
       "      <td>0.864</td>\n",
       "    </tr>\n",
       "    <tr>\n",
       "      <th>229</th>\n",
       "      <td>Australia</td>\n",
       "      <td>1991</td>\n",
       "      <td>0.866</td>\n",
       "    </tr>\n",
       "    <tr>\n",
       "      <th>230</th>\n",
       "      <td>Australia</td>\n",
       "      <td>1992</td>\n",
       "      <td>0.868</td>\n",
       "    </tr>\n",
       "    <tr>\n",
       "      <th>231</th>\n",
       "      <td>Australia</td>\n",
       "      <td>1993</td>\n",
       "      <td>0.873</td>\n",
       "    </tr>\n",
       "    <tr>\n",
       "      <th>232</th>\n",
       "      <td>Australia</td>\n",
       "      <td>1994</td>\n",
       "      <td>0.873</td>\n",
       "    </tr>\n",
       "    <tr>\n",
       "      <th>...</th>\n",
       "      <td>...</td>\n",
       "      <td>...</td>\n",
       "      <td>...</td>\n",
       "    </tr>\n",
       "    <tr>\n",
       "      <th>5513</th>\n",
       "      <td>United States</td>\n",
       "      <td>2018</td>\n",
       "      <td>0.930</td>\n",
       "    </tr>\n",
       "    <tr>\n",
       "      <th>5514</th>\n",
       "      <td>United States</td>\n",
       "      <td>2019</td>\n",
       "      <td>0.933</td>\n",
       "    </tr>\n",
       "    <tr>\n",
       "      <th>5515</th>\n",
       "      <td>United States</td>\n",
       "      <td>2020</td>\n",
       "      <td>0.923</td>\n",
       "    </tr>\n",
       "    <tr>\n",
       "      <th>5516</th>\n",
       "      <td>United States</td>\n",
       "      <td>2021</td>\n",
       "      <td>0.921</td>\n",
       "    </tr>\n",
       "    <tr>\n",
       "      <th>5517</th>\n",
       "      <td>United States</td>\n",
       "      <td>2022</td>\n",
       "      <td>0.927</td>\n",
       "    </tr>\n",
       "  </tbody>\n",
       "</table>\n",
       "<p>1216 rows × 3 columns</p>\n",
       "</div>"
      ],
      "text/plain": [
       "            country  year  value\n",
       "228       Australia  1990  0.864\n",
       "229       Australia  1991  0.866\n",
       "230       Australia  1992  0.868\n",
       "231       Australia  1993  0.873\n",
       "232       Australia  1994  0.873\n",
       "...             ...   ...    ...\n",
       "5513  United States  2018  0.930\n",
       "5514  United States  2019  0.933\n",
       "5515  United States  2020  0.923\n",
       "5516  United States  2021  0.921\n",
       "5517  United States  2022  0.927\n",
       "\n",
       "[1216 rows x 3 columns]"
      ]
     },
     "execution_count": 3,
     "metadata": {},
     "output_type": "execute_result"
    }
   ],
   "source": [
    "# Clean the data\n",
    "hdi_cleaned = hdi.drop(columns=['countryIsoCode', 'indexCode', 'index', 'dimension', 'indicatorCode', 'indicator', 'note'])\n",
    "selected_countries = [\n",
    "    'Australia', 'Austria', 'Belgium', 'Canada', 'Chile', 'Colombia', 'Costa Rica',\n",
    "    'Czechia', 'Denmark', 'Estonia', 'Finland', 'France', 'Germany', 'Greece',\n",
    "    'Hungary', 'Iceland', 'Ireland', 'Israel', 'Italy', 'Japan', 'Korea (Republic of)', 'Latvia',\n",
    "    'Lithuania', 'Luxembourg', 'Mexico', 'Netherlands', 'New Zealand', 'Norway',\n",
    "    'Poland', 'Portugal', 'Slovenia', 'Spain', 'Sweden', 'Switzerland', \n",
    "    'Turkey', 'United Kingdom', 'United States'\n",
    "]\n",
    "hdi_cleaned = hdi_cleaned[hdi_cleaned[\"country\"].isin(selected_countries)]\n",
    "hdi_cleaned = hdi_cleaned[hdi_cleaned[\"year\"] > 1989]\n",
    "hdi_cleaned"
   ]
  },
  {
   "cell_type": "code",
   "execution_count": 4,
   "metadata": {
    "cell_id": "e2c8b09cf1c84e7eb80708cfa6023f85",
    "deepnote_cell_type": "code",
    "execution_context_id": "e258b5d5-9a28-4fd2-b1f1-90b2804ba0f1",
    "execution_millis": 0,
    "execution_start": 1740072266499,
    "source_hash": "996faf10"
   },
   "outputs": [
    {
     "name": "stdout",
     "output_type": "stream",
     "text": [
      "Amount of null values:  0\n"
     ]
    },
    {
     "data": {
      "text/plain": [
       "count    6203.000000\n",
       "mean        0.670330\n",
       "std         0.164335\n",
       "min         0.212000\n",
       "25%         0.546000\n",
       "50%         0.692000\n",
       "75%         0.797000\n",
       "max         0.967000\n",
       "Name: value, dtype: float64"
      ]
     },
     "execution_count": 4,
     "metadata": {},
     "output_type": "execute_result"
    }
   ],
   "source": [
    "# Check for null values\n",
    "print(\"Amount of null values: \", hdi[\"value\"].isnull().sum())\n",
    "hdi[\"value\"].describe()"
   ]
  },
  {
   "cell_type": "code",
   "execution_count": 5,
   "metadata": {
    "cell_id": "7438f076a75c4416856c48040949c5d1",
    "deepnote_cell_type": "code",
    "execution_context_id": "e258b5d5-9a28-4fd2-b1f1-90b2804ba0f1",
    "execution_millis": 211,
    "execution_start": 1740072266554,
    "source_hash": "45f95097"
   },
   "outputs": [],
   "source": [
    "# Save the cleaned data\n",
    "hdi_cleaned.to_csv('/dataset/political/hdi_cleaned.csv', index=False)"
   ]
  },
  {
   "cell_type": "code",
   "execution_count": 7,
   "metadata": {
    "cell_id": "317fe34a7a674037aaea54ba86874577",
    "deepnote_cell_type": "code",
    "execution_context_id": "e258b5d5-9a28-4fd2-b1f1-90b2804ba0f1",
    "execution_millis": 963,
    "execution_start": 1740072266867,
    "source_hash": "f5590523"
   },
   "outputs": [
    {
     "data": {
      "image/png": "[encoded data removed]",
      "text/plain": [
       "<Figure size 1200x600 with 1 Axes>"
      ]
     },
     "metadata": {
      "image/png": {
       "height": 547,
       "width": 1010
      }
     },
     "output_type": "display_data"
    }
   ],
   "source": [
    "hdi[\"average\"] = hdi.groupby(\"year\")[\"value\"].transform(\"mean\")\n",
    "\n",
    "# Plot the world average over the years\n",
    "plt.figure(figsize=(12, 6))  # Set figure size for better visibility\n",
    "sns.lineplot(x=\"year\", y=\"average\", data=hdi, color=\"black\", label=\"World Average\")\n",
    "\n",
    "# Add labels and title\n",
    "plt.xlabel(\"Year\")\n",
    "plt.ylabel(\"Average HDI Value\")\n",
    "plt.title(\"World Average Human Development Index Over Years\")\n",
    "plt.legend()\n",
    "\n",
    "# Show the plot\n",
    "plt.show()"
   ]
  },
  {
   "cell_type": "code",
   "execution_count": 8,
   "metadata": {
    "cell_id": "6bc8ecb1f1304a918442fe4121ba07f0",
    "deepnote_cell_type": "code",
    "execution_context_id": "e258b5d5-9a28-4fd2-b1f1-90b2804ba0f1",
    "execution_millis": 374,
    "execution_start": 1740072267891,
    "source_hash": "f9b6a299"
   },
   "outputs": [
    {
     "data": {
      "image/png": "[encoded data removed]",
      "text/plain": [
       "<Figure size 1000x700 with 1 Axes>"
      ]
     },
     "metadata": {
      "image/png": {
       "height": 624,
       "width": 846
      }
     },
     "output_type": "display_data"
    }
   ],
   "source": [
    "# Plot the HDI data for selected countries\n",
    "Countries = [\"Turkey\",\"Bulgaria\",\"United Kingdom\", \"Pakistan\", \"South Korea\",\"Afghanistan\",\"South Korea\"]\n",
    "sns.set_palette(\"colorblind\")\n",
    "plt.figure(figsize=(10, 7))\n",
    "sns.lineplot(x=\"year\", y=\"value\", hue=\"country\", data=hdi[hdi[\"country\"].isin(Countries)])\n",
    "plt.axvline(x=2020, color=\"red\", linestyle=\"--\", linewidth=1, label=\"Pandemic in 2020\")\n",
    "plt.xlabel(\"Year\")\n",
    "plt.ylabel(\"Value\")\n",
    "plt.title(\"Human Development Index for Selected Countries\")\n",
    "plt.legend(title=\"Country\")\n",
    "plt.show()"
   ]
  },
  {
   "cell_type": "code",
   "execution_count": 9,
   "metadata": {
    "cell_id": "47302083eed847e6979283cf80c46fab",
    "deepnote_cell_type": "code",
    "execution_context_id": "e258b5d5-9a28-4fd2-b1f1-90b2804ba0f1",
    "execution_millis": 1,
    "execution_start": 1740072268318,
    "source_hash": "f73e7f66"
   },
   "outputs": [
    {
     "data": {
      "application/vnd.deepnote.dataframe.v3+json": {
       "column_count": 4,
       "columns": [
        {
         "dtype": "object",
         "name": "country",
         "stats": {
          "categories": [
           {
            "count": 33,
            "name": "Australia"
           },
           {
            "count": 33,
            "name": "Austria"
           },
           {
            "count": 985,
            "name": "30 others"
           }
          ],
          "nan_count": 0,
          "unique_count": 32
         }
        },
        {
         "dtype": "int64",
         "name": "year",
         "stats": {
          "histogram": [
           {
            "bin_end": 1993.2,
            "bin_start": 1990,
            "count": 124
           },
           {
            "bin_end": 1996.4,
            "bin_start": 1993.2,
            "count": 95
           },
           {
            "bin_end": 1999.6,
            "bin_start": 1996.4,
            "count": 96
           },
           {
            "bin_end": 2002.8,
            "bin_start": 1999.6,
            "count": 96
           },
           {
            "bin_end": 2006,
            "bin_start": 2002.8,
            "count": 96
           },
           {
            "bin_end": 2009.2,
            "bin_start": 2006,
            "count": 128
           },
           {
            "bin_end": 2012.4,
            "bin_start": 2009.2,
            "count": 96
           },
           {
            "bin_end": 2015.6,
            "bin_start": 2012.4,
            "count": 96
           },
           {
            "bin_end": 2018.8,
            "bin_start": 2015.6,
            "count": 96
           },
           {
            "bin_end": 2022,
            "bin_start": 2018.8,
            "count": 128
           }
          ],
          "max": "2022",
          "min": "1990",
          "nan_count": 0,
          "unique_count": 33
         }
        },
        {
         "dtype": "float64",
         "name": "value",
         "stats": {
          "histogram": [
           {
            "bin_end": 0.6492,
            "bin_start": 0.614,
            "count": 6
           },
           {
            "bin_end": 0.6844,
            "bin_start": 0.6492,
            "count": 19
           },
           {
            "bin_end": 0.7196,
            "bin_start": 0.6844,
            "count": 38
           },
           {
            "bin_end": 0.7547999999999999,
            "bin_start": 0.7196,
            "count": 61
           },
           {
            "bin_end": 0.79,
            "bin_start": 0.7547999999999999,
            "count": 78
           },
           {
            "bin_end": 0.8251999999999999,
            "bin_start": 0.79,
            "count": 106
           },
           {
            "bin_end": 0.8603999999999999,
            "bin_start": 0.8251999999999999,
            "count": 166
           },
           {
            "bin_end": 0.8956,
            "bin_start": 0.8603999999999999,
            "count": 234
           },
           {
            "bin_end": 0.9308,
            "bin_start": 0.8956,
            "count": 231
           },
           {
            "bin_end": 0.966,
            "bin_start": 0.9308,
            "count": 112
           }
          ],
          "max": "0.966",
          "min": "0.614",
          "nan_count": 0,
          "unique_count": 277
         }
        },
        {
         "dtype": "float64",
         "name": "average",
         "stats": {
          "histogram": [
           {
            "bin_end": 0.6096516015877412,
            "bin_start": 0.5967707006369427,
            "count": 124
           },
           {
            "bin_end": 0.6225325025385396,
            "bin_start": 0.6096516015877412,
            "count": 95
           },
           {
            "bin_end": 0.6354134034893382,
            "bin_start": 0.6225325025385396,
            "count": 128
           },
           {
            "bin_end": 0.6482943044401366,
            "bin_start": 0.6354134034893382,
            "count": 64
           },
           {
            "bin_end": 0.6611752053909351,
            "bin_start": 0.6482943044401366,
            "count": 64
           },
           {
            "bin_end": 0.6740561063417336,
            "bin_start": 0.6611752053909351,
            "count": 64
           },
           {
            "bin_end": 0.686937007292532,
            "bin_start": 0.6740561063417336,
            "count": 96
           },
           {
            "bin_end": 0.6998179082433306,
            "bin_start": 0.686937007292532,
            "count": 96
           },
           {
            "bin_end": 0.712698809194129,
            "bin_start": 0.6998179082433306,
            "count": 96
           },
           {
            "bin_end": 0.7255797101449275,
            "bin_start": 0.712698809194129,
            "count": 224
           }
          ],
          "max": "0.7255797101449275",
          "min": "0.5967707006369427",
          "nan_count": 0,
          "unique_count": 33
         }
        },
        {
         "dtype": "int64",
         "name": "_deepnote_index_column"
        }
       ],
       "row_count": 1051,
       "rows": [
        {
         "_deepnote_index_column": 228,
         "average": 0.5967707006369427,
         "country": "Australia",
         "value": 0.864,
         "year": 1990
        },
        {
         "_deepnote_index_column": 229,
         "average": 0.6002941176470589,
         "country": "Australia",
         "value": 0.866,
         "year": 1991
        },
        {
         "_deepnote_index_column": 230,
         "average": 0.6028235294117646,
         "country": "Australia",
         "value": 0.868,
         "year": 1992
        },
        {
         "_deepnote_index_column": 231,
         "average": 0.6063986928104574,
         "country": "Australia",
         "value": 0.873,
         "year": 1993
        },
        {
         "_deepnote_index_column": 232,
         "average": 0.6111633986928104,
         "country": "Australia",
         "value": 0.873,
         "year": 1994
        },
        {
         "_deepnote_index_column": 233,
         "average": 0.6149939024390244,
         "country": "Australia",
         "value": 0.882,
         "year": 1995
        },
        {
         "_deepnote_index_column": 234,
         "average": 0.6205365853658537,
         "country": "Australia",
         "value": 0.884,
         "year": 1996
        },
        {
         "_deepnote_index_column": 235,
         "average": 0.6257865853658537,
         "country": "Australia",
         "value": 0.887,
         "year": 1997
        },
        {
         "_deepnote_index_column": 236,
         "average": 0.6311097560975609,
         "country": "Australia",
         "value": 0.891,
         "year": 1998
        },
        {
         "_deepnote_index_column": 237,
         "average": 0.6294437869822486,
         "country": "Australia",
         "value": 0.894,
         "year": 1999
        }
       ]
      },
      "text/html": [
       "<div>\n",
       "<style scoped>\n",
       "    .dataframe tbody tr th:only-of-type {\n",
       "        vertical-align: middle;\n",
       "    }\n",
       "\n",
       "    .dataframe tbody tr th {\n",
       "        vertical-align: top;\n",
       "    }\n",
       "\n",
       "    .dataframe thead th {\n",
       "        text-align: right;\n",
       "    }\n",
       "</style>\n",
       "<table border=\"1\" class=\"dataframe\">\n",
       "  <thead>\n",
       "    <tr style=\"text-align: right;\">\n",
       "      <th></th>\n",
       "      <th>country</th>\n",
       "      <th>year</th>\n",
       "      <th>value</th>\n",
       "      <th>average</th>\n",
       "    </tr>\n",
       "  </thead>\n",
       "  <tbody>\n",
       "    <tr>\n",
       "      <th>228</th>\n",
       "      <td>Australia</td>\n",
       "      <td>1990</td>\n",
       "      <td>0.864</td>\n",
       "      <td>0.596771</td>\n",
       "    </tr>\n",
       "    <tr>\n",
       "      <th>229</th>\n",
       "      <td>Australia</td>\n",
       "      <td>1991</td>\n",
       "      <td>0.866</td>\n",
       "      <td>0.600294</td>\n",
       "    </tr>\n",
       "    <tr>\n",
       "      <th>230</th>\n",
       "      <td>Australia</td>\n",
       "      <td>1992</td>\n",
       "      <td>0.868</td>\n",
       "      <td>0.602824</td>\n",
       "    </tr>\n",
       "    <tr>\n",
       "      <th>231</th>\n",
       "      <td>Australia</td>\n",
       "      <td>1993</td>\n",
       "      <td>0.873</td>\n",
       "      <td>0.606399</td>\n",
       "    </tr>\n",
       "    <tr>\n",
       "      <th>232</th>\n",
       "      <td>Australia</td>\n",
       "      <td>1994</td>\n",
       "      <td>0.873</td>\n",
       "      <td>0.611163</td>\n",
       "    </tr>\n",
       "    <tr>\n",
       "      <th>...</th>\n",
       "      <td>...</td>\n",
       "      <td>...</td>\n",
       "      <td>...</td>\n",
       "      <td>...</td>\n",
       "    </tr>\n",
       "    <tr>\n",
       "      <th>4931</th>\n",
       "      <td>Sweden</td>\n",
       "      <td>2018</td>\n",
       "      <td>0.943</td>\n",
       "      <td>0.722187</td>\n",
       "    </tr>\n",
       "    <tr>\n",
       "      <th>4932</th>\n",
       "      <td>Sweden</td>\n",
       "      <td>2019</td>\n",
       "      <td>0.947</td>\n",
       "      <td>0.725580</td>\n",
       "    </tr>\n",
       "    <tr>\n",
       "      <th>4933</th>\n",
       "      <td>Sweden</td>\n",
       "      <td>2020</td>\n",
       "      <td>0.944</td>\n",
       "      <td>0.720758</td>\n",
       "    </tr>\n",
       "    <tr>\n",
       "      <th>4934</th>\n",
       "      <td>Sweden</td>\n",
       "      <td>2021</td>\n",
       "      <td>0.949</td>\n",
       "      <td>0.719889</td>\n",
       "    </tr>\n",
       "    <tr>\n",
       "      <th>4935</th>\n",
       "      <td>Sweden</td>\n",
       "      <td>2022</td>\n",
       "      <td>0.952</td>\n",
       "      <td>0.722793</td>\n",
       "    </tr>\n",
       "  </tbody>\n",
       "</table>\n",
       "<p>1051 rows × 4 columns</p>\n",
       "</div>"
      ],
      "text/plain": [
       "        country  year  value   average\n",
       "228   Australia  1990  0.864  0.596771\n",
       "229   Australia  1991  0.866  0.600294\n",
       "230   Australia  1992  0.868  0.602824\n",
       "231   Australia  1993  0.873  0.606399\n",
       "232   Australia  1994  0.873  0.611163\n",
       "...         ...   ...    ...       ...\n",
       "4931     Sweden  2018  0.943  0.722187\n",
       "4932     Sweden  2019  0.947  0.725580\n",
       "4933     Sweden  2020  0.944  0.720758\n",
       "4934     Sweden  2021  0.949  0.719889\n",
       "4935     Sweden  2022  0.952  0.722793\n",
       "\n",
       "[1051 rows x 4 columns]"
      ]
     },
     "execution_count": 9,
     "metadata": {},
     "output_type": "execute_result"
    }
   ],
   "source": [
    "hdi_cleaned = hdi.drop(columns=['countryIsoCode', 'indexCode', 'index', 'dimension', 'indicatorCode', 'indicator', 'note'])\n",
    "hdi_cleaned\n",
    "\n",
    "selected_countries = [\n",
    "    'Australia', 'Austria', 'Belgium', 'Canada', 'Chile', 'Colombia', 'Costa Rica',\n",
    "    'Czechia', 'Denmark', 'Estonia', 'Finland', 'France', 'Germany', 'Greece',\n",
    "    'Hungary', 'Iceland', 'Ireland', 'Israel', 'Italy', 'Japan', 'Korea', 'Latvia',\n",
    "    'Lithuania', 'Luxembourg', 'Mexico', 'Netherlands', 'New Zealand', 'Norway',\n",
    "    'Poland', 'Portugal', 'Slovak Republic', 'Slovenia', 'Spain', 'Sweden',\n",
    "]\n",
    "\n",
    "\n",
    "# Filter the data to include only the selected countries\n",
    "hdi_cleaned = hdi_cleaned[hdi_cleaned[\"country\"].isin(selected_countries)]\n",
    "hdi_cleaned = hdi_cleaned[hdi_cleaned[\"year\"] > 1989]\n",
    "hdi_cleaned"
   ]
  }
 ],
 "metadata": {
  "deepnote_notebook_id": "923b2670f29549e1afbae2b6506d1cee",
  "deepnote_persisted_session": {
   "createdAt": "2025-02-20T17:35:37.806Z"
  },
  "kernelspec": {
   "display_name": "Python 3 (ipykernel)",
   "language": "python",
   "name": "python3"
  },
  "language_info": {
   "codemirror_mode": {
    "name": "ipython",
    "version": 3
   },
   "file_extension": ".py",
   "mimetype": "text/x-python",
   "name": "python",
   "nbconvert_exporter": "python",
   "pygments_lexer": "ipython3",
   "version": "3.12.4"
  }
 },
 "nbformat": 4,
 "nbformat_minor": 4
}
