{
 "cells": [
  {
   "cell_type": "markdown",
   "metadata": {
    "cell_id": "a40c635d22fa434f85de775691b3fcad",
    "deepnote_cell_type": "text-cell-h1",
    "formattedRanges": []
   },
   "source": [
    "# Average the Data Between Elections "
   ]
  },
  {
   "cell_type": "markdown",
   "metadata": {
    "cell_id": "da1f9b2906814edc9cbbd94a4fe47a3b",
    "deepnote_cell_type": "text-cell-h2",
    "formattedRanges": []
   },
   "source": [
    "## Import Libraries"
   ]
  },
  {
   "cell_type": "code",
   "execution_count": 1,
   "metadata": {
    "cell_id": "a9adb7e207f9438889c62dc8cc5e69d6",
    "deepnote_app_block_group_id": null,
    "deepnote_app_block_order": 0,
    "deepnote_app_block_visible": true,
    "deepnote_app_is_code_hidden": true,
    "deepnote_app_is_output_hidden": false,
    "deepnote_cell_type": "code",
    "execution_context_id": "f4e73ac9-64de-42e9-ae88-7619fadf8313",
    "execution_millis": 1222,
    "execution_start": 1743011972805,
    "source_hash": "8de33602"
   },
   "outputs": [],
   "source": [
    "# Import the required libraries\n",
    "import pandas as pd\n",
    "import numpy as np\n",
    "import matplotlib.pyplot as plt\n",
    "\n",
    "from sklearn.model_selection import train_test_split\n",
    "from sklearn.linear_model import LogisticRegression"
   ]
  },
  {
   "cell_type": "markdown",
   "metadata": {
    "cell_id": "d15138c76e584bc8ab3172e065b783ca",
    "deepnote_cell_type": "text-cell-h2",
    "formattedRanges": []
   },
   "source": [
    "## Initial View of Data"
   ]
  },
  {
   "cell_type": "code",
   "execution_count": 2,
   "metadata": {
    "cell_id": "8de3f776dd37447ab993a72e73cb20dc",
    "deepnote_app_block_group_id": null,
    "deepnote_app_block_order": 1,
    "deepnote_app_block_visible": true,
    "deepnote_app_is_code_hidden": true,
    "deepnote_app_is_output_hidden": false,
    "deepnote_cell_type": "code",
    "execution_context_id": "f4e73ac9-64de-42e9-ae88-7619fadf8313",
    "execution_millis": 327,
    "execution_start": 1743011974094,
    "source_hash": "a2b8cf6a"
   },
   "outputs": [
    {
     "data": {
      "application/vnd.deepnote.dataframe.v3+json": {
       "column_count": 8,
       "columns": [
        {
         "dtype": "object",
         "name": "country",
         "stats": {
          "categories": [
           {
            "count": 5,
            "name": "Australia"
           }
          ],
          "nan_count": 0,
          "unique_count": 1
         }
        },
        {
         "dtype": "int64",
         "name": "year",
         "stats": {
          "histogram": [
           {
            "bin_end": 1990.4,
            "bin_start": 1990,
            "count": 1
           },
           {
            "bin_end": 1990.8,
            "bin_start": 1990.4,
            "count": 0
           },
           {
            "bin_end": 1991.2,
            "bin_start": 1990.8,
            "count": 1
           },
           {
            "bin_end": 1991.6,
            "bin_start": 1991.2,
            "count": 0
           },
           {
            "bin_end": 1992,
            "bin_start": 1991.6,
            "count": 0
           },
           {
            "bin_end": 1992.4,
            "bin_start": 1992,
            "count": 1
           },
           {
            "bin_end": 1992.8,
            "bin_start": 1992.4,
            "count": 0
           },
           {
            "bin_end": 1993.2,
            "bin_start": 1992.8,
            "count": 1
           },
           {
            "bin_end": 1993.6,
            "bin_start": 1993.2,
            "count": 0
           },
           {
            "bin_end": 1994,
            "bin_start": 1993.6,
            "count": 1
           }
          ],
          "max": "1994",
          "min": "1990",
          "nan_count": 0,
          "unique_count": 5
         }
        },
        {
         "dtype": "float64",
         "name": "Voter turnout (highest score=1)",
         "stats": {
          "histogram": [
           {
            "bin_end": 0.822,
            "bin_start": 0.82,
            "count": 3
           },
           {
            "bin_end": 0.824,
            "bin_start": 0.822,
            "count": 0
           },
           {
            "bin_end": 0.826,
            "bin_start": 0.824,
            "count": 0
           },
           {
            "bin_end": 0.828,
            "bin_start": 0.826,
            "count": 0
           },
           {
            "bin_end": 0.83,
            "bin_start": 0.828,
            "count": 0
           },
           {
            "bin_end": 0.832,
            "bin_start": 0.83,
            "count": 0
           },
           {
            "bin_end": 0.834,
            "bin_start": 0.832,
            "count": 0
           },
           {
            "bin_end": 0.836,
            "bin_start": 0.834,
            "count": 0
           },
           {
            "bin_end": 0.838,
            "bin_start": 0.836,
            "count": 0
           },
           {
            "bin_end": 0.84,
            "bin_start": 0.838,
            "count": 2
           }
          ],
          "max": "0.84",
          "min": "0.82",
          "nan_count": 0,
          "unique_count": 2
         }
        },
        {
         "dtype": "float64",
         "name": "Freedom of Religion (highest score=1)",
         "stats": {
          "histogram": [
           {
            "bin_end": 0.58,
            "bin_start": 0.48,
            "count": 0
           },
           {
            "bin_end": 0.6799999999999999,
            "bin_start": 0.58,
            "count": 0
           },
           {
            "bin_end": 0.78,
            "bin_start": 0.6799999999999999,
            "count": 0
           },
           {
            "bin_end": 0.88,
            "bin_start": 0.78,
            "count": 0
           },
           {
            "bin_end": 0.98,
            "bin_start": 0.88,
            "count": 0
           },
           {
            "bin_end": 1.08,
            "bin_start": 0.98,
            "count": 5
           },
           {
            "bin_end": 1.1800000000000002,
            "bin_start": 1.08,
            "count": 0
           },
           {
            "bin_end": 1.28,
            "bin_start": 1.1800000000000002,
            "count": 0
           },
           {
            "bin_end": 1.38,
            "bin_start": 1.28,
            "count": 0
           },
           {
            "bin_end": 1.48,
            "bin_start": 1.38,
            "count": 0
           }
          ],
          "max": "0.98",
          "min": "0.98",
          "nan_count": 0,
          "unique_count": 1
         }
        },
        {
         "dtype": "float64",
         "name": "Urban population (% of total population)",
         "stats": {
          "histogram": [
           {
            "bin_end": 85.0685,
            "bin_start": 85.028,
            "count": 1
           },
           {
            "bin_end": 85.10900000000001,
            "bin_start": 85.0685,
            "count": 0
           },
           {
            "bin_end": 85.1495,
            "bin_start": 85.10900000000001,
            "count": 0
           },
           {
            "bin_end": 85.19000000000001,
            "bin_start": 85.1495,
            "count": 1
           },
           {
            "bin_end": 85.2305,
            "bin_start": 85.19000000000001,
            "count": 0
           },
           {
            "bin_end": 85.271,
            "bin_start": 85.2305,
            "count": 0
           },
           {
            "bin_end": 85.31150000000001,
            "bin_start": 85.271,
            "count": 1
           },
           {
            "bin_end": 85.352,
            "bin_start": 85.31150000000001,
            "count": 0
           },
           {
            "bin_end": 85.39250000000001,
            "bin_start": 85.352,
            "count": 0
           },
           {
            "bin_end": 85.433,
            "bin_start": 85.39250000000001,
            "count": 2
           }
          ],
          "max": "85.433",
          "min": "85.028",
          "nan_count": 0,
          "unique_count": 5
         }
        },
        {
         "dtype": "float64",
         "name": "ethnicity_ratio",
         "stats": {
          "histogram": [
           {
            "bin_end": 0.43999999999999995,
            "bin_start": 0.33999999999999997,
            "count": 0
           },
           {
            "bin_end": 0.5399999999999999,
            "bin_start": 0.43999999999999995,
            "count": 0
           },
           {
            "bin_end": 0.6399999999999999,
            "bin_start": 0.5399999999999999,
            "count": 0
           },
           {
            "bin_end": 0.74,
            "bin_start": 0.6399999999999999,
            "count": 0
           },
           {
            "bin_end": 0.8399999999999999,
            "bin_start": 0.74,
            "count": 0
           },
           {
            "bin_end": 0.94,
            "bin_start": 0.8399999999999999,
            "count": 5
           },
           {
            "bin_end": 1.04,
            "bin_start": 0.94,
            "count": 0
           },
           {
            "bin_end": 1.14,
            "bin_start": 1.04,
            "count": 0
           },
           {
            "bin_end": 1.2399999999999998,
            "bin_start": 1.14,
            "count": 0
           },
           {
            "bin_end": 1.3399999999999999,
            "bin_start": 1.2399999999999998,
            "count": 0
           }
          ],
          "max": "0.84",
          "min": "0.84",
          "nan_count": 0,
          "unique_count": 1
         }
        },
        {
         "dtype": "float64",
         "name": "economic_stability_index",
         "stats": {
          "histogram": [
           {
            "bin_end": -3.2764435475612976,
            "bin_start": -3.753174083667549,
            "count": 1
           },
           {
            "bin_end": -2.7997130114550464,
            "bin_start": -3.2764435475612976,
            "count": 1
           },
           {
            "bin_end": -2.322982475348795,
            "bin_start": -2.7997130114550464,
            "count": 0
           },
           {
            "bin_end": -1.8462519392425438,
            "bin_start": -2.322982475348795,
            "count": 0
           },
           {
            "bin_end": -1.3695214031362926,
            "bin_start": -1.8462519392425438,
            "count": 0
           },
           {
            "bin_end": -0.8927908670300413,
            "bin_start": -1.3695214031362926,
            "count": 0
           },
           {
            "bin_end": -0.41606033092379,
            "bin_start": -0.8927908670300413,
            "count": 0
           },
           {
            "bin_end": 0.060670205182461245,
            "bin_start": -0.41606033092379,
            "count": 1
           },
           {
            "bin_end": 0.5374007412887121,
            "bin_start": 0.060670205182461245,
            "count": 0
           },
           {
            "bin_end": 1.014131277394964,
            "bin_start": 0.5374007412887121,
            "count": 2
           }
          ],
          "max": "1.014131277394964",
          "min": "-3.753174083667549",
          "nan_count": 0,
          "unique_count": 5
         }
        },
        {
         "dtype": "float64",
         "name": "political_social_index",
         "stats": {
          "histogram": [
           {
            "bin_end": 0.3142104872171448,
            "bin_start": 0.313882588015779,
            "count": 2
           },
           {
            "bin_end": 0.31453838641851056,
            "bin_start": 0.3142104872171448,
            "count": 1
           },
           {
            "bin_end": 0.31486628561987634,
            "bin_start": 0.31453838641851056,
            "count": 0
           },
           {
            "bin_end": 0.3151941848212421,
            "bin_start": 0.31486628561987634,
            "count": 0
           },
           {
            "bin_end": 0.3155220840226079,
            "bin_start": 0.3151941848212421,
            "count": 0
           },
           {
            "bin_end": 0.3158499832239737,
            "bin_start": 0.3155220840226079,
            "count": 0
           },
           {
            "bin_end": 0.31617788242533945,
            "bin_start": 0.3158499832239737,
            "count": 0
           },
           {
            "bin_end": 0.31650578162670523,
            "bin_start": 0.31617788242533945,
            "count": 0
           },
           {
            "bin_end": 0.316833680828071,
            "bin_start": 0.31650578162670523,
            "count": 0
           },
           {
            "bin_end": 0.3171615800294368,
            "bin_start": 0.316833680828071,
            "count": 2
           }
          ],
          "max": "0.3171615800294368",
          "min": "0.313882588015779",
          "nan_count": 0,
          "unique_count": 4
         }
        },
        {
         "dtype": "int64",
         "name": "_deepnote_index_column"
        }
       ],
       "row_count": 5,
       "rows": [
        {
         "Freedom of Religion (highest score=1)": 0.98,
         "Urban population (% of total population)": 85.433,
         "Voter turnout (highest score=1)": 0.82,
         "_deepnote_index_column": 0,
         "country": "Australia",
         "economic_stability_index": -0.0522347559303715,
         "ethnicity_ratio": 0.84,
         "political_social_index": 0.313882588015779,
         "year": 1990
        },
        {
         "Freedom of Religion (highest score=1)": 0.98,
         "Urban population (% of total population)": 85.403,
         "Voter turnout (highest score=1)": 0.82,
         "_deepnote_index_column": 1,
         "country": "Australia",
         "economic_stability_index": -3.753174083667549,
         "ethnicity_ratio": 0.84,
         "political_social_index": 0.3141078100078595,
         "year": 1991
        },
        {
         "Freedom of Religion (highest score=1)": 0.98,
         "Urban population (% of total population)": 85.285,
         "Voter turnout (highest score=1)": 0.82,
         "_deepnote_index_column": 2,
         "country": "Australia",
         "economic_stability_index": -2.800049432146155,
         "ethnicity_ratio": 0.84,
         "political_social_index": 0.3143330319999406,
         "year": 1992
        },
        {
         "Freedom of Religion (highest score=1)": 0.98,
         "Urban population (% of total population)": 85.157,
         "Voter turnout (highest score=1)": 0.84,
         "_deepnote_index_column": 3,
         "country": "Australia",
         "economic_stability_index": 1.014131277394964,
         "ethnicity_ratio": 0.84,
         "political_social_index": 0.3171615800294368,
         "year": 1993
        },
        {
         "Freedom of Religion (highest score=1)": 0.98,
         "Urban population (% of total population)": 85.028,
         "Voter turnout (highest score=1)": 0.84,
         "_deepnote_index_column": 4,
         "country": "Australia",
         "economic_stability_index": 0.8734923766766084,
         "ethnicity_ratio": 0.84,
         "political_social_index": 0.3171615800294368,
         "year": 1994
        }
       ],
       "type": "dataframe"
      },
      "text/html": [
       "<div>\n",
       "<style scoped>\n",
       "    .dataframe tbody tr th:only-of-type {\n",
       "        vertical-align: middle;\n",
       "    }\n",
       "\n",
       "    .dataframe tbody tr th {\n",
       "        vertical-align: top;\n",
       "    }\n",
       "\n",
       "    .dataframe thead th {\n",
       "        text-align: right;\n",
       "    }\n",
       "</style>\n",
       "<table border=\"1\" class=\"dataframe\">\n",
       "  <thead>\n",
       "    <tr style=\"text-align: right;\">\n",
       "      <th></th>\n",
       "      <th>country</th>\n",
       "      <th>year</th>\n",
       "      <th>Voter turnout (highest score=1)</th>\n",
       "      <th>Freedom of Religion (highest score=1)</th>\n",
       "      <th>Urban population (% of total population)</th>\n",
       "      <th>ethnicity_ratio</th>\n",
       "      <th>economic_stability_index</th>\n",
       "      <th>political_social_index</th>\n",
       "    </tr>\n",
       "  </thead>\n",
       "  <tbody>\n",
       "    <tr>\n",
       "      <th>0</th>\n",
       "      <td>Australia</td>\n",
       "      <td>1990</td>\n",
       "      <td>0.82</td>\n",
       "      <td>0.98</td>\n",
       "      <td>85.433</td>\n",
       "      <td>0.84</td>\n",
       "      <td>-0.052235</td>\n",
       "      <td>0.313883</td>\n",
       "    </tr>\n",
       "    <tr>\n",
       "      <th>1</th>\n",
       "      <td>Australia</td>\n",
       "      <td>1991</td>\n",
       "      <td>0.82</td>\n",
       "      <td>0.98</td>\n",
       "      <td>85.403</td>\n",
       "      <td>0.84</td>\n",
       "      <td>-3.753174</td>\n",
       "      <td>0.314108</td>\n",
       "    </tr>\n",
       "    <tr>\n",
       "      <th>2</th>\n",
       "      <td>Australia</td>\n",
       "      <td>1992</td>\n",
       "      <td>0.82</td>\n",
       "      <td>0.98</td>\n",
       "      <td>85.285</td>\n",
       "      <td>0.84</td>\n",
       "      <td>-2.800049</td>\n",
       "      <td>0.314333</td>\n",
       "    </tr>\n",
       "    <tr>\n",
       "      <th>3</th>\n",
       "      <td>Australia</td>\n",
       "      <td>1993</td>\n",
       "      <td>0.84</td>\n",
       "      <td>0.98</td>\n",
       "      <td>85.157</td>\n",
       "      <td>0.84</td>\n",
       "      <td>1.014131</td>\n",
       "      <td>0.317162</td>\n",
       "    </tr>\n",
       "    <tr>\n",
       "      <th>4</th>\n",
       "      <td>Australia</td>\n",
       "      <td>1994</td>\n",
       "      <td>0.84</td>\n",
       "      <td>0.98</td>\n",
       "      <td>85.028</td>\n",
       "      <td>0.84</td>\n",
       "      <td>0.873492</td>\n",
       "      <td>0.317162</td>\n",
       "    </tr>\n",
       "  </tbody>\n",
       "</table>\n",
       "</div>"
      ],
      "text/plain": [
       "     country  year  Voter turnout (highest score=1)  \\\n",
       "0  Australia  1990                             0.82   \n",
       "1  Australia  1991                             0.82   \n",
       "2  Australia  1992                             0.82   \n",
       "3  Australia  1993                             0.84   \n",
       "4  Australia  1994                             0.84   \n",
       "\n",
       "   Freedom of Religion (highest score=1)  \\\n",
       "0                                   0.98   \n",
       "1                                   0.98   \n",
       "2                                   0.98   \n",
       "3                                   0.98   \n",
       "4                                   0.98   \n",
       "\n",
       "   Urban population (% of total population)  ethnicity_ratio  \\\n",
       "0                                    85.433             0.84   \n",
       "1                                    85.403             0.84   \n",
       "2                                    85.285             0.84   \n",
       "3                                    85.157             0.84   \n",
       "4                                    85.028             0.84   \n",
       "\n",
       "   economic_stability_index  political_social_index  \n",
       "0                 -0.052235                0.313883  \n",
       "1                 -3.753174                0.314108  \n",
       "2                 -2.800049                0.314333  \n",
       "3                  1.014131                0.317162  \n",
       "4                  0.873492                0.317162  "
      ]
     },
     "execution_count": 2,
     "metadata": {},
     "output_type": "execute_result"
    }
   ],
   "source": [
    "# Load the data\n",
    "df_x = pd.read_csv('/dataset/after_PCA_annual.csv')\n",
    "df_y = pd.read_csv('/dataset/Final_Y_100325.csv')"
   ]
  },
  {
   "cell_type": "code",
   "execution_count": 3,
   "metadata": {
    "cell_id": "1b2d9ba4a884452aa92b8b1944c6b5e7",
    "deepnote_app_block_group_id": null,
    "deepnote_app_block_order": 2,
    "deepnote_app_block_visible": true,
    "deepnote_app_is_code_hidden": true,
    "deepnote_app_is_output_hidden": false,
    "deepnote_cell_type": "code",
    "execution_context_id": "f4e73ac9-64de-42e9-ae88-7619fadf8313",
    "execution_millis": 0,
    "execution_start": 1743011974474,
    "source_hash": "acb72fb2"
   },
   "outputs": [],
   "source": [
    "# View the first few rows of the data\n",
    "df_x.head()"
   ]
  },
  {
   "cell_type": "code",
   "execution_count": 4,
   "metadata": {
    "cell_id": "01c24c352f7445ea8196828c57789970",
    "deepnote_app_block_group_id": null,
    "deepnote_app_block_order": 3,
    "deepnote_app_block_visible": true,
    "deepnote_app_is_code_hidden": true,
    "deepnote_app_is_output_hidden": false,
    "deepnote_cell_type": "code",
    "deepnote_table_loading": false,
    "deepnote_table_state": {
     "cellFormattingRules": [],
     "columnDisplayNames": [],
     "columnOrder": [
      "Unnamed: 0",
      "Australia",
      "Denmark",
      "Norway",
      "Belgium",
      "France",
      "New Zealand",
      "Sweden",
      "Switzerland",
      "Canada",
      "Finland",
      "Austria",
      "Germany",
      "Iceland",
      "Luxembourg",
      "Ireland",
      "Netherlands",
      "United Kingdom",
      "Italy",
      "Japan",
      "Israel",
      "Malta",
      "Greece",
      "Portugal",
      "Spain",
      "Turkey",
      "Czech Republic",
      "Hungary",
      "Latvia",
      "Romania",
      "Slovakia",
      "Slovenia",
      "Poland",
      "Cyprus",
      "Lithuania",
      "Bulgaria",
      "Croatia",
      "Estonia",
      "USA",
      "Costa_Rica",
      "Columbia",
      "Czechia",
      "Chile",
      "Mexico"
     ],
     "conditionalFilters": [],
     "filters": [],
     "hiddenColumnIds": [],
     "pageIndex": 0,
     "pageSize": 50,
     "sortBy": [],
     "wrappedTextColumnIds": []
    },
    "execution_context_id": "f4e73ac9-64de-42e9-ae88-7619fadf8313",
    "execution_millis": 28,
    "execution_start": 1743011974524,
    "source_hash": "72b6248f"
   },
   "outputs": [
    {
     "data": {
      "application/vnd.deepnote.dataframe.v3+json": {
       "column_count": 39,
       "columns": [
        {
         "dtype": "float64",
         "name": "Unnamed: 0",
         "stats": {
          "histogram": [
           {
            "bin_end": 1991.9,
            "bin_start": 1990,
            "count": 2
           },
           {
            "bin_end": 1993.8,
            "bin_start": 1991.9,
            "count": 2
           },
           {
            "bin_end": 1995.7,
            "bin_start": 1993.8,
            "count": 2
           },
           {
            "bin_end": 1997.6,
            "bin_start": 1995.7,
            "count": 2
           },
           {
            "bin_end": 1999.5,
            "bin_start": 1997.6,
            "count": 2
           },
           {
            "bin_end": 2001.4,
            "bin_start": 1999.5,
            "count": 2
           },
           {
            "bin_end": 2003.3,
            "bin_start": 2001.4,
            "count": 2
           },
           {
            "bin_end": 2005.2,
            "bin_start": 2003.3,
            "count": 2
           },
           {
            "bin_end": 2007.1,
            "bin_start": 2005.2,
            "count": 2
           },
           {
            "bin_end": 2009,
            "bin_start": 2007.1,
            "count": 2
           }
          ],
          "max": "2009.0",
          "min": "1990.0",
          "nan_count": 0,
          "unique_count": 20
         }
        },
        {
         "dtype": "object",
         "name": "Australia",
         "stats": {
          "categories": [
           {
            "count": 5,
            "name": "False"
           },
           {
            "count": 2,
            "name": "True"
           },
           {
            "count": 13,
            "name": "Missing"
           }
          ],
          "nan_count": 13,
          "unique_count": 2
         }
        },
        {
         "dtype": "object",
         "name": "Denmark",
         "stats": {
          "categories": [
           {
            "count": 5,
            "name": "False"
           },
           {
            "count": 1,
            "name": "True"
           },
           {
            "count": 14,
            "name": "Missing"
           }
          ],
          "nan_count": 14,
          "unique_count": 2
         }
        },
        {
         "dtype": "object",
         "name": "Norway",
         "stats": {
          "categories": [
           {
            "count": 3,
            "name": "True"
           },
           {
            "count": 2,
            "name": "False"
           },
           {
            "count": 15,
            "name": "Missing"
           }
          ],
          "nan_count": 15,
          "unique_count": 2
         }
        },
        {
         "dtype": "object",
         "name": "Belgium",
         "stats": {
          "categories": [
           {
            "count": 3,
            "name": "False"
           },
           {
            "count": 2,
            "name": "True"
           },
           {
            "count": 15,
            "name": "Missing"
           }
          ],
          "nan_count": 15,
          "unique_count": 2
         }
        },
        {
         "dtype": "object",
         "name": "France",
         "stats": {
          "categories": [
           {
            "count": 2,
            "name": "False"
           },
           {
            "count": 2,
            "name": "True"
           },
           {
            "count": 16,
            "name": "Missing"
           }
          ],
          "nan_count": 16,
          "unique_count": 2
         }
        },
        {
         "dtype": "object",
         "name": "New Zealand",
         "stats": {
          "categories": [
           {
            "count": 4,
            "name": "False"
           },
           {
            "count": 3,
            "name": "True"
           },
           {
            "count": 13,
            "name": "Missing"
           }
          ],
          "nan_count": 13,
          "unique_count": 2
         }
        },
        {
         "dtype": "object",
         "name": "Sweden",
         "stats": {
          "categories": [
           {
            "count": 4,
            "name": "False"
           },
           {
            "count": 1,
            "name": "True"
           },
           {
            "count": 15,
            "name": "Missing"
           }
          ],
          "nan_count": 15,
          "unique_count": 2
         }
        },
        {
         "dtype": "object",
         "name": "Switzerland",
         "stats": {
          "categories": [
           {
            "count": 3,
            "name": "False"
           },
           {
            "count": 2,
            "name": "True"
           },
           {
            "count": 15,
            "name": "Missing"
           }
          ],
          "nan_count": 15,
          "unique_count": 2
         }
        },
        {
         "dtype": "object",
         "name": "Canada",
         "stats": {
          "categories": [
           {
            "count": 5,
            "name": "False"
           },
           {
            "count": 1,
            "name": "True"
           },
           {
            "count": 14,
            "name": "Missing"
           }
          ],
          "nan_count": 14,
          "unique_count": 2
         }
        },
        {
         "dtype": "object",
         "name": "Finland",
         "stats": {
          "categories": [
           {
            "count": 3,
            "name": "False"
           },
           {
            "count": 2,
            "name": "True"
           },
           {
            "count": 15,
            "name": "Missing"
           }
          ],
          "nan_count": 15,
          "unique_count": 2
         }
        },
        {
         "dtype": "object",
         "name": "Austria",
         "stats": {
          "categories": [
           {
            "count": 5,
            "name": "False"
           },
           {
            "count": 2,
            "name": "True"
           },
           {
            "count": 13,
            "name": "Missing"
           }
          ],
          "nan_count": 13,
          "unique_count": 2
         }
        },
        {
         "dtype": "object",
         "name": "Germany",
         "stats": {
          "categories": [
           {
            "count": 3,
            "name": "False"
           },
           {
            "count": 3,
            "name": "True"
           },
           {
            "count": 14,
            "name": "Missing"
           }
          ],
          "nan_count": 14,
          "unique_count": 2
         }
        },
        {
         "dtype": "object",
         "name": "Iceland",
         "stats": {
          "categories": [
           {
            "count": 5,
            "name": "False"
           },
           {
            "count": 1,
            "name": "True"
           },
           {
            "count": 14,
            "name": "Missing"
           }
          ],
          "nan_count": 14,
          "unique_count": 2
         }
        },
        {
         "dtype": "object",
         "name": "Luxembourg",
         "stats": {
          "categories": [
           {
            "count": 4,
            "name": "False"
           },
           {
            "count": 16,
            "name": "Missing"
           }
          ],
          "nan_count": 16,
          "unique_count": 1
         }
        },
        {
         "dtype": "object",
         "name": "Ireland",
         "stats": {
          "categories": [
           {
            "count": 4,
            "name": "False"
           },
           {
            "count": 16,
            "name": "Missing"
           }
          ],
          "nan_count": 16,
          "unique_count": 1
         }
        },
        {
         "dtype": "object",
         "name": "Netherlands",
         "stats": {
          "categories": [
           {
            "count": 4,
            "name": "False"
           },
           {
            "count": 1,
            "name": "True"
           },
           {
            "count": 15,
            "name": "Missing"
           }
          ],
          "nan_count": 15,
          "unique_count": 2
         }
        },
        {
         "dtype": "object",
         "name": "United Kingdom",
         "stats": {
          "categories": [
           {
            "count": 3,
            "name": "False"
           },
           {
            "count": 1,
            "name": "True"
           },
           {
            "count": 16,
            "name": "Missing"
           }
          ],
          "nan_count": 16,
          "unique_count": 2
         }
        },
        {
         "dtype": "object",
         "name": "Italy",
         "stats": {
          "categories": [
           {
            "count": 5,
            "name": "True"
           },
           {
            "count": 1,
            "name": "False"
           },
           {
            "count": 14,
            "name": "Missing"
           }
          ],
          "nan_count": 14,
          "unique_count": 2
         }
        },
        {
         "dtype": "object",
         "name": "Japan",
         "stats": {
          "categories": [
           {
            "count": 5,
            "name": "True"
           },
           {
            "count": 2,
            "name": "False"
           },
           {
            "count": 13,
            "name": "Missing"
           }
          ],
          "nan_count": 13,
          "unique_count": 2
         }
        },
        {
         "dtype": "object",
         "name": "Israel",
         "stats": {
          "categories": [
           {
            "count": 6,
            "name": "True"
           },
           {
            "count": 14,
            "name": "Missing"
           }
          ],
          "nan_count": 14,
          "unique_count": 1
         }
        },
        {
         "dtype": "object",
         "name": "Greece",
         "stats": {
          "categories": [
           {
            "count": 4,
            "name": "True"
           },
           {
            "count": 3,
            "name": "False"
           },
           {
            "count": 13,
            "name": "Missing"
           }
          ],
          "nan_count": 13,
          "unique_count": 2
         }
        },
        {
         "dtype": "object",
         "name": "Portugal",
         "stats": {
          "categories": [
           {
            "count": 3,
            "name": "False"
           },
           {
            "count": 3,
            "name": "True"
           },
           {
            "count": 14,
            "name": "Missing"
           }
          ],
          "nan_count": 14,
          "unique_count": 2
         }
        },
        {
         "dtype": "object",
         "name": "Spain",
         "stats": {
          "categories": [
           {
            "count": 3,
            "name": "False"
           },
           {
            "count": 2,
            "name": "True"
           },
           {
            "count": 15,
            "name": "Missing"
           }
          ],
          "nan_count": 15,
          "unique_count": 2
         }
        },
        {
         "dtype": "object",
         "name": "Turkiye",
         "stats": {
          "categories": [
           {
            "count": 4,
            "name": "True"
           },
           {
            "count": 1,
            "name": "False"
           },
           {
            "count": 15,
            "name": "Missing"
           }
          ],
          "nan_count": 15,
          "unique_count": 2
         }
        },
        {
         "dtype": "object",
         "name": "Hungary",
         "stats": {
          "categories": [
           {
            "count": 4,
            "name": "True"
           },
           {
            "count": 1,
            "name": "False"
           },
           {
            "count": 15,
            "name": "Missing"
           }
          ],
          "nan_count": 15,
          "unique_count": 2
         }
        },
        {
         "dtype": "object",
         "name": "Latvia",
         "stats": {
          "categories": [
           {
            "count": 4,
            "name": "True"
           },
           {
            "count": 16,
            "name": "Missing"
           }
          ],
          "nan_count": 16,
          "unique_count": 1
         }
        },
        {
         "dtype": "object",
         "name": "Slovenia",
         "stats": {
          "categories": [
           {
            "count": 3,
            "name": "False"
           },
           {
            "count": 3,
            "name": "True"
           },
           {
            "count": 14,
            "name": "Missing"
           }
          ],
          "nan_count": 14,
          "unique_count": 2
         }
        },
        {
         "dtype": "object",
         "name": "Poland",
         "stats": {
          "categories": [
           {
            "count": 5,
            "name": "True"
           },
           {
            "count": 1,
            "name": "False"
           },
           {
            "count": 14,
            "name": "Missing"
           }
          ],
          "nan_count": 14,
          "unique_count": 2
         }
        },
        {
         "dtype": "object",
         "name": "Lithuania",
         "stats": {
          "categories": [
           {
            "count": 5,
            "name": "True"
           },
           {
            "count": 15,
            "name": "Missing"
           }
          ],
          "nan_count": 15,
          "unique_count": 1
         }
        },
        {
         "dtype": "object",
         "name": "Estonia",
         "stats": {
          "categories": [
           {
            "count": 5,
            "name": "True"
           },
           {
            "count": 15,
            "name": "Missing"
           }
          ],
          "nan_count": 15,
          "unique_count": 1
         }
        },
        {
         "dtype": "object",
         "name": "USA",
         "stats": {
          "categories": [
           {
            "count": 3,
            "name": "True"
           },
           {
            "count": 2,
            "name": "False"
           },
           {
            "count": 15,
            "name": "Missing"
           }
          ],
          "nan_count": 15,
          "unique_count": 2
         }
        },
        {
         "dtype": "object",
         "name": "Costa Rica",
         "stats": {
          "categories": [
           {
            "count": 4,
            "name": "True"
           },
           {
            "count": 1,
            "name": "False"
           },
           {
            "count": 15,
            "name": "Missing"
           }
          ],
          "nan_count": 15,
          "unique_count": 2
         }
        },
        {
         "dtype": "object",
         "name": "Columbia",
         "stats": {
          "categories": [
           {
            "count": 4,
            "name": "False"
           },
           {
            "count": 1,
            "name": "True"
           },
           {
            "count": 15,
            "name": "Missing"
           }
          ],
          "nan_count": 15,
          "unique_count": 2
         }
        },
        {
         "dtype": "object",
         "name": "Czechia",
         "stats": {
          "categories": [
           {
            "count": 4,
            "name": "True"
           },
           {
            "count": 2,
            "name": "False"
           },
           {
            "count": 14,
            "name": "Missing"
           }
          ],
          "nan_count": 14,
          "unique_count": 2
         }
        },
        {
         "dtype": "object",
         "name": "Chile",
         "stats": {
          "categories": [
           {
            "count": 4,
            "name": "False"
           },
           {
            "count": 1,
            "name": "True"
           },
           {
            "count": 15,
            "name": "Missing"
           }
          ],
          "nan_count": 15,
          "unique_count": 2
         }
        },
        {
         "dtype": "object",
         "name": "Mexico",
         "stats": {
          "categories": [
           {
            "count": 4,
            "name": "True"
           },
           {
            "count": 2,
            "name": "False"
           },
           {
            "count": 14,
            "name": "Missing"
           }
          ],
          "nan_count": 14,
          "unique_count": 2
         }
        },
        {
         "dtype": "object",
         "name": "South Korea",
         "stats": {
          "categories": [
           {
            "count": 4,
            "name": "True"
           },
           {
            "count": 16,
            "name": "Missing"
           }
          ],
          "nan_count": 16,
          "unique_count": 1
         }
        },
        {
         "dtype": "float64",
         "name": "Unnamed: 38",
         "stats": {
          "histogram": [
           {
            "bin_end": 0.1,
            "bin_start": 0,
            "count": 0
           },
           {
            "bin_end": 0.2,
            "bin_start": 0.1,
            "count": 0
           },
           {
            "bin_end": 0.30000000000000004,
            "bin_start": 0.2,
            "count": 0
           },
           {
            "bin_end": 0.4,
            "bin_start": 0.30000000000000004,
            "count": 0
           },
           {
            "bin_end": 0.5,
            "bin_start": 0.4,
            "count": 0
           },
           {
            "bin_end": 0.6000000000000001,
            "bin_start": 0.5,
            "count": 0
           },
           {
            "bin_end": 0.7000000000000001,
            "bin_start": 0.6000000000000001,
            "count": 0
           },
           {
            "bin_end": 0.8,
            "bin_start": 0.7000000000000001,
            "count": 0
           },
           {
            "bin_end": 0.9,
            "bin_start": 0.8,
            "count": 0
           },
           {
            "bin_end": 1,
            "bin_start": 0.9,
            "count": 0
           }
          ],
          "max": null,
          "min": null,
          "nan_count": 20,
          "unique_count": 0
         }
        },
        {
         "dtype": "int64",
         "name": "_deepnote_index_column"
        }
       ],
       "row_count": 20,
       "rows": [
        {
         "Australia": "False",
         "Austria": "False",
         "Belgium": "nan",
         "Canada": "nan",
         "Chile": "nan",
         "Columbia": "False",
         "Costa Rica": "True",
         "Czechia": "True",
         "Denmark": "False",
         "Estonia": "nan",
         "Finland": "nan",
         "France": "nan",
         "Germany": "False",
         "Greece": "True",
         "Hungary": "True",
         "Iceland": "nan",
         "Ireland": "nan",
         "Israel": "nan",
         "Italy": "nan",
         "Japan": "False",
         "Latvia": "nan",
         "Lithuania": "nan",
         "Luxembourg": "nan",
         "Mexico": "nan",
         "Netherlands": "nan",
         "New Zealand": "True",
         "Norway": "nan",
         "Poland": "nan",
         "Portugal": "nan",
         "Slovenia": "False",
         "South Korea": "nan",
         "Spain": "nan",
         "Sweden": "nan",
         "Switzerland": "nan",
         "Turkiye": "nan",
         "USA": "nan",
         "United Kingdom": "nan",
         "Unnamed: 0": 1990,
         "Unnamed: 38": "nan",
         "_deepnote_index_column": 0
        },
        {
         "Australia": "nan",
         "Austria": "nan",
         "Belgium": "False",
         "Canada": "nan",
         "Chile": "nan",
         "Columbia": "nan",
         "Costa Rica": "nan",
         "Czechia": "nan",
         "Denmark": "nan",
         "Estonia": "nan",
         "Finland": "False",
         "France": "nan",
         "Germany": "nan",
         "Greece": "nan",
         "Hungary": "nan",
         "Iceland": "False",
         "Ireland": "nan",
         "Israel": "nan",
         "Italy": "nan",
         "Japan": "nan",
         "Latvia": "nan",
         "Lithuania": "nan",
         "Luxembourg": "nan",
         "Mexico": "nan",
         "Netherlands": "nan",
         "New Zealand": "nan",
         "Norway": "nan",
         "Poland": "False",
         "Portugal": "False",
         "Slovenia": "nan",
         "South Korea": "nan",
         "Spain": "nan",
         "Sweden": "False",
         "Switzerland": "False",
         "Turkiye": "True",
         "USA": "nan",
         "United Kingdom": "nan",
         "Unnamed: 0": 1991,
         "Unnamed: 38": "nan",
         "_deepnote_index_column": 1
        },
        {
         "Australia": "nan",
         "Austria": "nan",
         "Belgium": "nan",
         "Canada": "nan",
         "Chile": "nan",
         "Columbia": "nan",
         "Costa Rica": "nan",
         "Czechia": "True",
         "Denmark": "nan",
         "Estonia": "True",
         "Finland": "nan",
         "France": "nan",
         "Germany": "nan",
         "Greece": "nan",
         "Hungary": "nan",
         "Iceland": "nan",
         "Ireland": "False",
         "Israel": "True",
         "Italy": "False",
         "Japan": "nan",
         "Latvia": "nan",
         "Lithuania": "True",
         "Luxembourg": "nan",
         "Mexico": "nan",
         "Netherlands": "nan",
         "New Zealand": "nan",
         "Norway": "nan",
         "Poland": "nan",
         "Portugal": "nan",
         "Slovenia": "True",
         "South Korea": "nan",
         "Spain": "nan",
         "Sweden": "nan",
         "Switzerland": "nan",
         "Turkiye": "nan",
         "USA": "True",
         "United Kingdom": "False",
         "Unnamed: 0": 1992,
         "Unnamed: 38": "nan",
         "_deepnote_index_column": 2
        },
        {
         "Australia": "False",
         "Austria": "nan",
         "Belgium": "nan",
         "Canada": "False",
         "Chile": "False",
         "Columbia": "nan",
         "Costa Rica": "nan",
         "Czechia": "nan",
         "Denmark": "nan",
         "Estonia": "nan",
         "Finland": "nan",
         "France": "False",
         "Germany": "nan",
         "Greece": "True",
         "Hungary": "nan",
         "Iceland": "nan",
         "Ireland": "nan",
         "Israel": "nan",
         "Italy": "nan",
         "Japan": "True",
         "Latvia": "nan",
         "Lithuania": "nan",
         "Luxembourg": "nan",
         "Mexico": "nan",
         "Netherlands": "nan",
         "New Zealand": "False",
         "Norway": "False",
         "Poland": "True",
         "Portugal": "nan",
         "Slovenia": "nan",
         "South Korea": "nan",
         "Spain": "False",
         "Sweden": "nan",
         "Switzerland": "nan",
         "Turkiye": "nan",
         "USA": "nan",
         "United Kingdom": "nan",
         "Unnamed: 0": 1993,
         "Unnamed: 38": "nan",
         "_deepnote_index_column": 3
        },
        {
         "Australia": "nan",
         "Austria": "False",
         "Belgium": "nan",
         "Canada": "nan",
         "Chile": "nan",
         "Columbia": "False",
         "Costa Rica": "True",
         "Czechia": "nan",
         "Denmark": "False",
         "Estonia": "nan",
         "Finland": "nan",
         "France": "nan",
         "Germany": "True",
         "Greece": "nan",
         "Hungary": "True",
         "Iceland": "nan",
         "Ireland": "nan",
         "Israel": "nan",
         "Italy": "True",
         "Japan": "nan",
         "Latvia": "nan",
         "Lithuania": "nan",
         "Luxembourg": "False",
         "Mexico": "True",
         "Netherlands": "False",
         "New Zealand": "nan",
         "Norway": "nan",
         "Poland": "nan",
         "Portugal": "nan",
         "Slovenia": "nan",
         "South Korea": "nan",
         "Spain": "nan",
         "Sweden": "False",
         "Switzerland": "nan",
         "Turkiye": "nan",
         "USA": "nan",
         "United Kingdom": "nan",
         "Unnamed: 0": 1994,
         "Unnamed: 38": "nan",
         "_deepnote_index_column": 4
        },
        {
         "Australia": "nan",
         "Austria": "False",
         "Belgium": "False",
         "Canada": "nan",
         "Chile": "nan",
         "Columbia": "nan",
         "Costa Rica": "nan",
         "Czechia": "nan",
         "Denmark": "nan",
         "Estonia": "True",
         "Finland": "True",
         "France": "nan",
         "Germany": "nan",
         "Greece": "nan",
         "Hungary": "nan",
         "Iceland": "False",
         "Ireland": "nan",
         "Israel": "nan",
         "Italy": "nan",
         "Japan": "nan",
         "Latvia": "True",
         "Lithuania": "nan",
         "Luxembourg": "nan",
         "Mexico": "nan",
         "Netherlands": "nan",
         "New Zealand": "nan",
         "Norway": "nan",
         "Poland": "nan",
         "Portugal": "True",
         "Slovenia": "nan",
         "South Korea": "nan",
         "Spain": "nan",
         "Sweden": "nan",
         "Switzerland": "True",
         "Turkiye": "True",
         "USA": "nan",
         "United Kingdom": "nan",
         "Unnamed: 0": 1995,
         "Unnamed: 38": "nan",
         "_deepnote_index_column": 5
        },
        {
         "Australia": "True",
         "Austria": "nan",
         "Belgium": "nan",
         "Canada": "nan",
         "Chile": "nan",
         "Columbia": "nan",
         "Costa Rica": "nan",
         "Czechia": "False",
         "Denmark": "nan",
         "Estonia": "nan",
         "Finland": "nan",
         "France": "nan",
         "Germany": "nan",
         "Greece": "False",
         "Hungary": "nan",
         "Iceland": "nan",
         "Ireland": "nan",
         "Israel": "True",
         "Italy": "True",
         "Japan": "True",
         "Latvia": "nan",
         "Lithuania": "True",
         "Luxembourg": "nan",
         "Mexico": "nan",
         "Netherlands": "nan",
         "New Zealand": "False",
         "Norway": "nan",
         "Poland": "nan",
         "Portugal": "nan",
         "Slovenia": "False",
         "South Korea": "True",
         "Spain": "True",
         "Sweden": "nan",
         "Switzerland": "nan",
         "Turkiye": "nan",
         "USA": "False",
         "United Kingdom": "nan",
         "Unnamed: 0": 1996,
         "Unnamed: 38": "nan",
         "_deepnote_index_column": 6
        },
        {
         "Australia": "nan",
         "Austria": "nan",
         "Belgium": "nan",
         "Canada": "False",
         "Chile": "False",
         "Columbia": "nan",
         "Costa Rica": "nan",
         "Czechia": "nan",
         "Denmark": "nan",
         "Estonia": "nan",
         "Finland": "nan",
         "France": "True",
         "Germany": "nan",
         "Greece": "nan",
         "Hungary": "nan",
         "Iceland": "nan",
         "Ireland": "False",
         "Israel": "nan",
         "Italy": "nan",
         "Japan": "nan",
         "Latvia": "nan",
         "Lithuania": "nan",
         "Luxembourg": "nan",
         "Mexico": "True",
         "Netherlands": "nan",
         "New Zealand": "nan",
         "Norway": "True",
         "Poland": "True",
         "Portugal": "nan",
         "Slovenia": "nan",
         "South Korea": "nan",
         "Spain": "nan",
         "Sweden": "nan",
         "Switzerland": "nan",
         "Turkiye": "nan",
         "USA": "nan",
         "United Kingdom": "True",
         "Unnamed: 0": 1997,
         "Unnamed: 38": "nan",
         "_deepnote_index_column": 7
        },
        {
         "Australia": "False",
         "Austria": "nan",
         "Belgium": "nan",
         "Canada": "nan",
         "Chile": "nan",
         "Columbia": "False",
         "Costa Rica": "True",
         "Czechia": "True",
         "Denmark": "False",
         "Estonia": "nan",
         "Finland": "nan",
         "France": "nan",
         "Germany": "True",
         "Greece": "nan",
         "Hungary": "True",
         "Iceland": "nan",
         "Ireland": "nan",
         "Israel": "nan",
         "Italy": "nan",
         "Japan": "nan",
         "Latvia": "True",
         "Lithuania": "nan",
         "Luxembourg": "nan",
         "Mexico": "nan",
         "Netherlands": "False",
         "New Zealand": "nan",
         "Norway": "nan",
         "Poland": "nan",
         "Portugal": "nan",
         "Slovenia": "nan",
         "South Korea": "nan",
         "Spain": "nan",
         "Sweden": "False",
         "Switzerland": "nan",
         "Turkiye": "nan",
         "USA": "nan",
         "United Kingdom": "nan",
         "Unnamed: 0": 1998,
         "Unnamed: 38": "nan",
         "_deepnote_index_column": 8
        },
        {
         "Australia": "nan",
         "Austria": "False",
         "Belgium": "True",
         "Canada": "nan",
         "Chile": "nan",
         "Columbia": "nan",
         "Costa Rica": "nan",
         "Czechia": "nan",
         "Denmark": "nan",
         "Estonia": "True",
         "Finland": "False",
         "France": "nan",
         "Germany": "nan",
         "Greece": "nan",
         "Hungary": "nan",
         "Iceland": "False",
         "Ireland": "nan",
         "Israel": "True",
         "Italy": "nan",
         "Japan": "nan",
         "Latvia": "nan",
         "Lithuania": "nan",
         "Luxembourg": "False",
         "Mexico": "nan",
         "Netherlands": "nan",
         "New Zealand": "True",
         "Norway": "nan",
         "Poland": "nan",
         "Portugal": "False",
         "Slovenia": "nan",
         "South Korea": "nan",
         "Spain": "nan",
         "Sweden": "nan",
         "Switzerland": "False",
         "Turkiye": "True",
         "USA": "nan",
         "United Kingdom": "nan",
         "Unnamed: 0": 1999,
         "Unnamed: 38": "nan",
         "_deepnote_index_column": 9
        },
        {
         "Australia": "nan",
         "Austria": "nan",
         "Belgium": "nan",
         "Canada": "False",
         "Chile": "nan",
         "Columbia": "nan",
         "Costa Rica": "nan",
         "Czechia": "nan",
         "Denmark": "nan",
         "Estonia": "nan",
         "Finland": "nan",
         "France": "nan",
         "Germany": "nan",
         "Greece": "False",
         "Hungary": "nan",
         "Iceland": "nan",
         "Ireland": "nan",
         "Israel": "nan",
         "Italy": "nan",
         "Japan": "False",
         "Latvia": "nan",
         "Lithuania": "True",
         "Luxembourg": "nan",
         "Mexico": "False",
         "Netherlands": "nan",
         "New Zealand": "nan",
         "Norway": "nan",
         "Poland": "nan",
         "Portugal": "nan",
         "Slovenia": "False",
         "South Korea": "True",
         "Spain": "False",
         "Sweden": "nan",
         "Switzerland": "nan",
         "Turkiye": "nan",
         "USA": "True",
         "United Kingdom": "nan",
         "Unnamed: 0": 2000,
         "Unnamed: 38": "nan",
         "_deepnote_index_column": 10
        },
        {
         "Australia": "False",
         "Austria": "nan",
         "Belgium": "nan",
         "Canada": "nan",
         "Chile": "False",
         "Columbia": "nan",
         "Costa Rica": "nan",
         "Czechia": "nan",
         "Denmark": "True",
         "Estonia": "nan",
         "Finland": "nan",
         "France": "nan",
         "Germany": "nan",
         "Greece": "nan",
         "Hungary": "nan",
         "Iceland": "nan",
         "Ireland": "nan",
         "Israel": "nan",
         "Italy": "True",
         "Japan": "nan",
         "Latvia": "nan",
         "Lithuania": "nan",
         "Luxembourg": "nan",
         "Mexico": "nan",
         "Netherlands": "nan",
         "New Zealand": "nan",
         "Norway": "True",
         "Poland": "True",
         "Portugal": "nan",
         "Slovenia": "nan",
         "South Korea": "nan",
         "Spain": "nan",
         "Sweden": "nan",
         "Switzerland": "nan",
         "Turkiye": "nan",
         "USA": "nan",
         "United Kingdom": "False",
         "Unnamed: 0": 2001,
         "Unnamed: 38": "nan",
         "_deepnote_index_column": 11
        },
        {
         "Australia": "nan",
         "Austria": "True",
         "Belgium": "nan",
         "Canada": "nan",
         "Chile": "nan",
         "Columbia": "False",
         "Costa Rica": "False",
         "Czechia": "False",
         "Denmark": "nan",
         "Estonia": "nan",
         "Finland": "nan",
         "France": "True",
         "Germany": "False",
         "Greece": "nan",
         "Hungary": "True",
         "Iceland": "nan",
         "Ireland": "False",
         "Israel": "nan",
         "Italy": "nan",
         "Japan": "nan",
         "Latvia": "True",
         "Lithuania": "nan",
         "Luxembourg": "nan",
         "Mexico": "nan",
         "Netherlands": "True",
         "New Zealand": "False",
         "Norway": "nan",
         "Poland": "nan",
         "Portugal": "True",
         "Slovenia": "nan",
         "South Korea": "nan",
         "Spain": "nan",
         "Sweden": "False",
         "Switzerland": "nan",
         "Turkiye": "True",
         "USA": "nan",
         "United Kingdom": "nan",
         "Unnamed: 0": 2002,
         "Unnamed: 38": "nan",
         "_deepnote_index_column": 12
        },
        {
         "Australia": "nan",
         "Austria": "nan",
         "Belgium": "False",
         "Canada": "nan",
         "Chile": "nan",
         "Columbia": "nan",
         "Costa Rica": "nan",
         "Czechia": "nan",
         "Denmark": "nan",
         "Estonia": "True",
         "Finland": "True",
         "France": "nan",
         "Germany": "nan",
         "Greece": "nan",
         "Hungary": "nan",
         "Iceland": "False",
         "Ireland": "nan",
         "Israel": "True",
         "Italy": "nan",
         "Japan": "True",
         "Latvia": "nan",
         "Lithuania": "nan",
         "Luxembourg": "nan",
         "Mexico": "True",
         "Netherlands": "False",
         "New Zealand": "nan",
         "Norway": "nan",
         "Poland": "nan",
         "Portugal": "nan",
         "Slovenia": "nan",
         "South Korea": "nan",
         "Spain": "nan",
         "Sweden": "nan",
         "Switzerland": "True",
         "Turkiye": "nan",
         "USA": "nan",
         "United Kingdom": "nan",
         "Unnamed: 0": 2003,
         "Unnamed: 38": "nan",
         "_deepnote_index_column": 13
        },
        {
         "Australia": "False",
         "Austria": "nan",
         "Belgium": "nan",
         "Canada": "False",
         "Chile": "nan",
         "Columbia": "nan",
         "Costa Rica": "nan",
         "Czechia": "nan",
         "Denmark": "nan",
         "Estonia": "nan",
         "Finland": "nan",
         "France": "nan",
         "Germany": "nan",
         "Greece": "True",
         "Hungary": "nan",
         "Iceland": "nan",
         "Ireland": "nan",
         "Israel": "nan",
         "Italy": "nan",
         "Japan": "nan",
         "Latvia": "nan",
         "Lithuania": "True",
         "Luxembourg": "False",
         "Mexico": "nan",
         "Netherlands": "nan",
         "New Zealand": "nan",
         "Norway": "nan",
         "Poland": "nan",
         "Portugal": "nan",
         "Slovenia": "True",
         "South Korea": "True",
         "Spain": "True",
         "Sweden": "nan",
         "Switzerland": "nan",
         "Turkiye": "nan",
         "USA": "False",
         "United Kingdom": "nan",
         "Unnamed: 0": 2004,
         "Unnamed: 38": "nan",
         "_deepnote_index_column": 14
        },
        {
         "Australia": "nan",
         "Austria": "nan",
         "Belgium": "nan",
         "Canada": "nan",
         "Chile": "False",
         "Columbia": "nan",
         "Costa Rica": "nan",
         "Czechia": "nan",
         "Denmark": "False",
         "Estonia": "nan",
         "Finland": "nan",
         "France": "nan",
         "Germany": "True",
         "Greece": "nan",
         "Hungary": "nan",
         "Iceland": "nan",
         "Ireland": "nan",
         "Israel": "nan",
         "Italy": "nan",
         "Japan": "True",
         "Latvia": "nan",
         "Lithuania": "nan",
         "Luxembourg": "nan",
         "Mexico": "nan",
         "Netherlands": "nan",
         "New Zealand": "False",
         "Norway": "True",
         "Poland": "True",
         "Portugal": "True",
         "Slovenia": "nan",
         "South Korea": "nan",
         "Spain": "nan",
         "Sweden": "nan",
         "Switzerland": "nan",
         "Turkiye": "nan",
         "USA": "nan",
         "United Kingdom": "False",
         "Unnamed: 0": 2005,
         "Unnamed: 38": "nan",
         "_deepnote_index_column": 15
        },
        {
         "Australia": "nan",
         "Austria": "True",
         "Belgium": "nan",
         "Canada": "True",
         "Chile": "nan",
         "Columbia": "True",
         "Costa Rica": "True",
         "Czechia": "True",
         "Denmark": "nan",
         "Estonia": "nan",
         "Finland": "nan",
         "France": "nan",
         "Germany": "nan",
         "Greece": "nan",
         "Hungary": "False",
         "Iceland": "nan",
         "Ireland": "nan",
         "Israel": "True",
         "Italy": "True",
         "Japan": "nan",
         "Latvia": "True",
         "Lithuania": "nan",
         "Luxembourg": "nan",
         "Mexico": "False",
         "Netherlands": "False",
         "New Zealand": "nan",
         "Norway": "nan",
         "Poland": "nan",
         "Portugal": "nan",
         "Slovenia": "nan",
         "South Korea": "nan",
         "Spain": "nan",
         "Sweden": "True",
         "Switzerland": "nan",
         "Turkiye": "nan",
         "USA": "nan",
         "United Kingdom": "nan",
         "Unnamed: 0": 2006,
         "Unnamed: 38": "nan",
         "_deepnote_index_column": 16
        },
        {
         "Australia": "True",
         "Austria": "nan",
         "Belgium": "True",
         "Canada": "nan",
         "Chile": "nan",
         "Columbia": "nan",
         "Costa Rica": "nan",
         "Czechia": "nan",
         "Denmark": "False",
         "Estonia": "True",
         "Finland": "False",
         "France": "False",
         "Germany": "nan",
         "Greece": "False",
         "Hungary": "nan",
         "Iceland": "False",
         "Ireland": "False",
         "Israel": "nan",
         "Italy": "nan",
         "Japan": "nan",
         "Latvia": "nan",
         "Lithuania": "nan",
         "Luxembourg": "nan",
         "Mexico": "nan",
         "Netherlands": "nan",
         "New Zealand": "nan",
         "Norway": "nan",
         "Poland": "True",
         "Portugal": "nan",
         "Slovenia": "nan",
         "South Korea": "nan",
         "Spain": "nan",
         "Sweden": "nan",
         "Switzerland": "False",
         "Turkiye": "False",
         "USA": "nan",
         "United Kingdom": "nan",
         "Unnamed: 0": 2007,
         "Unnamed: 38": "nan",
         "_deepnote_index_column": 17
        },
        {
         "Australia": "nan",
         "Austria": "False",
         "Belgium": "nan",
         "Canada": "False",
         "Chile": "nan",
         "Columbia": "nan",
         "Costa Rica": "nan",
         "Czechia": "nan",
         "Denmark": "nan",
         "Estonia": "nan",
         "Finland": "nan",
         "France": "nan",
         "Germany": "nan",
         "Greece": "nan",
         "Hungary": "nan",
         "Iceland": "nan",
         "Ireland": "nan",
         "Israel": "nan",
         "Italy": "True",
         "Japan": "nan",
         "Latvia": "nan",
         "Lithuania": "True",
         "Luxembourg": "nan",
         "Mexico": "nan",
         "Netherlands": "nan",
         "New Zealand": "True",
         "Norway": "nan",
         "Poland": "nan",
         "Portugal": "nan",
         "Slovenia": "True",
         "South Korea": "True",
         "Spain": "False",
         "Sweden": "nan",
         "Switzerland": "nan",
         "Turkiye": "nan",
         "USA": "True",
         "United Kingdom": "nan",
         "Unnamed: 0": 2008,
         "Unnamed: 38": "nan",
         "_deepnote_index_column": 18
        },
        {
         "Australia": "nan",
         "Austria": "nan",
         "Belgium": "nan",
         "Canada": "nan",
         "Chile": "True",
         "Columbia": "nan",
         "Costa Rica": "nan",
         "Czechia": "nan",
         "Denmark": "nan",
         "Estonia": "nan",
         "Finland": "nan",
         "France": "nan",
         "Germany": "False",
         "Greece": "True",
         "Hungary": "nan",
         "Iceland": "True",
         "Ireland": "nan",
         "Israel": "True",
         "Italy": "nan",
         "Japan": "True",
         "Latvia": "nan",
         "Lithuania": "nan",
         "Luxembourg": "False",
         "Mexico": "True",
         "Netherlands": "nan",
         "New Zealand": "nan",
         "Norway": "False",
         "Poland": "nan",
         "Portugal": "False",
         "Slovenia": "nan",
         "South Korea": "nan",
         "Spain": "nan",
         "Sweden": "nan",
         "Switzerland": "nan",
         "Turkiye": "nan",
         "USA": "nan",
         "United Kingdom": "nan",
         "Unnamed: 0": 2009,
         "Unnamed: 38": "nan",
         "_deepnote_index_column": 19
        }
       ],
       "type": "dataframe"
      },
      "text/html": [
       "<div>\n",
       "<style scoped>\n",
       "    .dataframe tbody tr th:only-of-type {\n",
       "        vertical-align: middle;\n",
       "    }\n",
       "\n",
       "    .dataframe tbody tr th {\n",
       "        vertical-align: top;\n",
       "    }\n",
       "\n",
       "    .dataframe thead th {\n",
       "        text-align: right;\n",
       "    }\n",
       "</style>\n",
       "<table border=\"1\" class=\"dataframe\">\n",
       "  <thead>\n",
       "    <tr style=\"text-align: right;\">\n",
       "      <th></th>\n",
       "      <th>Unnamed: 0</th>\n",
       "      <th>Australia</th>\n",
       "      <th>Denmark</th>\n",
       "      <th>Norway</th>\n",
       "      <th>Belgium</th>\n",
       "      <th>France</th>\n",
       "      <th>New Zealand</th>\n",
       "      <th>Sweden</th>\n",
       "      <th>Switzerland</th>\n",
       "      <th>Canada</th>\n",
       "      <th>...</th>\n",
       "      <th>Lithuania</th>\n",
       "      <th>Estonia</th>\n",
       "      <th>USA</th>\n",
       "      <th>Costa Rica</th>\n",
       "      <th>Columbia</th>\n",
       "      <th>Czechia</th>\n",
       "      <th>Chile</th>\n",
       "      <th>Mexico</th>\n",
       "      <th>South Korea</th>\n",
       "      <th>Unnamed: 38</th>\n",
       "    </tr>\n",
       "  </thead>\n",
       "  <tbody>\n",
       "    <tr>\n",
       "      <th>0</th>\n",
       "      <td>1990.0</td>\n",
       "      <td>False</td>\n",
       "      <td>False</td>\n",
       "      <td>NaN</td>\n",
       "      <td>NaN</td>\n",
       "      <td>NaN</td>\n",
       "      <td>True</td>\n",
       "      <td>NaN</td>\n",
       "      <td>NaN</td>\n",
       "      <td>NaN</td>\n",
       "      <td>...</td>\n",
       "      <td>NaN</td>\n",
       "      <td>NaN</td>\n",
       "      <td>NaN</td>\n",
       "      <td>True</td>\n",
       "      <td>False</td>\n",
       "      <td>True</td>\n",
       "      <td>NaN</td>\n",
       "      <td>NaN</td>\n",
       "      <td>NaN</td>\n",
       "      <td>NaN</td>\n",
       "    </tr>\n",
       "    <tr>\n",
       "      <th>1</th>\n",
       "      <td>1991.0</td>\n",
       "      <td>NaN</td>\n",
       "      <td>NaN</td>\n",
       "      <td>NaN</td>\n",
       "      <td>False</td>\n",
       "      <td>NaN</td>\n",
       "      <td>NaN</td>\n",
       "      <td>False</td>\n",
       "      <td>False</td>\n",
       "      <td>NaN</td>\n",
       "      <td>...</td>\n",
       "      <td>NaN</td>\n",
       "      <td>NaN</td>\n",
       "      <td>NaN</td>\n",
       "      <td>NaN</td>\n",
       "      <td>NaN</td>\n",
       "      <td>NaN</td>\n",
       "      <td>NaN</td>\n",
       "      <td>NaN</td>\n",
       "      <td>NaN</td>\n",
       "      <td>NaN</td>\n",
       "    </tr>\n",
       "    <tr>\n",
       "      <th>2</th>\n",
       "      <td>1992.0</td>\n",
       "      <td>NaN</td>\n",
       "      <td>NaN</td>\n",
       "      <td>NaN</td>\n",
       "      <td>NaN</td>\n",
       "      <td>NaN</td>\n",
       "      <td>NaN</td>\n",
       "      <td>NaN</td>\n",
       "      <td>NaN</td>\n",
       "      <td>NaN</td>\n",
       "      <td>...</td>\n",
       "      <td>True</td>\n",
       "      <td>True</td>\n",
       "      <td>True</td>\n",
       "      <td>NaN</td>\n",
       "      <td>NaN</td>\n",
       "      <td>True</td>\n",
       "      <td>NaN</td>\n",
       "      <td>NaN</td>\n",
       "      <td>NaN</td>\n",
       "      <td>NaN</td>\n",
       "    </tr>\n",
       "    <tr>\n",
       "      <th>3</th>\n",
       "      <td>1993.0</td>\n",
       "      <td>False</td>\n",
       "      <td>NaN</td>\n",
       "      <td>False</td>\n",
       "      <td>NaN</td>\n",
       "      <td>False</td>\n",
       "      <td>False</td>\n",
       "      <td>NaN</td>\n",
       "      <td>NaN</td>\n",
       "      <td>False</td>\n",
       "      <td>...</td>\n",
       "      <td>NaN</td>\n",
       "      <td>NaN</td>\n",
       "      <td>NaN</td>\n",
       "      <td>NaN</td>\n",
       "      <td>NaN</td>\n",
       "      <td>NaN</td>\n",
       "      <td>False</td>\n",
       "      <td>NaN</td>\n",
       "      <td>NaN</td>\n",
       "      <td>NaN</td>\n",
       "    </tr>\n",
       "    <tr>\n",
       "      <th>4</th>\n",
       "      <td>1994.0</td>\n",
       "      <td>NaN</td>\n",
       "      <td>False</td>\n",
       "      <td>NaN</td>\n",
       "      <td>NaN</td>\n",
       "      <td>NaN</td>\n",
       "      <td>NaN</td>\n",
       "      <td>False</td>\n",
       "      <td>NaN</td>\n",
       "      <td>NaN</td>\n",
       "      <td>...</td>\n",
       "      <td>NaN</td>\n",
       "      <td>NaN</td>\n",
       "      <td>NaN</td>\n",
       "      <td>True</td>\n",
       "      <td>False</td>\n",
       "      <td>NaN</td>\n",
       "      <td>NaN</td>\n",
       "      <td>True</td>\n",
       "      <td>NaN</td>\n",
       "      <td>NaN</td>\n",
       "    </tr>\n",
       "    <tr>\n",
       "      <th>5</th>\n",
       "      <td>1995.0</td>\n",
       "      <td>NaN</td>\n",
       "      <td>NaN</td>\n",
       "      <td>NaN</td>\n",
       "      <td>False</td>\n",
       "      <td>NaN</td>\n",
       "      <td>NaN</td>\n",
       "      <td>NaN</td>\n",
       "      <td>True</td>\n",
       "      <td>NaN</td>\n",
       "      <td>...</td>\n",
       "      <td>NaN</td>\n",
       "      <td>True</td>\n",
       "      <td>NaN</td>\n",
       "      <td>NaN</td>\n",
       "      <td>NaN</td>\n",
       "      <td>NaN</td>\n",
       "      <td>NaN</td>\n",
       "      <td>NaN</td>\n",
       "      <td>NaN</td>\n",
       "      <td>NaN</td>\n",
       "    </tr>\n",
       "    <tr>\n",
       "      <th>6</th>\n",
       "      <td>1996.0</td>\n",
       "      <td>True</td>\n",
       "      <td>NaN</td>\n",
       "      <td>NaN</td>\n",
       "      <td>NaN</td>\n",
       "      <td>NaN</td>\n",
       "      <td>False</td>\n",
       "      <td>NaN</td>\n",
       "      <td>NaN</td>\n",
       "      <td>NaN</td>\n",
       "      <td>...</td>\n",
       "      <td>True</td>\n",
       "      <td>NaN</td>\n",
       "      <td>False</td>\n",
       "      <td>NaN</td>\n",
       "      <td>NaN</td>\n",
       "      <td>False</td>\n",
       "      <td>NaN</td>\n",
       "      <td>NaN</td>\n",
       "      <td>True</td>\n",
       "      <td>NaN</td>\n",
       "    </tr>\n",
       "    <tr>\n",
       "      <th>7</th>\n",
       "      <td>1997.0</td>\n",
       "      <td>NaN</td>\n",
       "      <td>NaN</td>\n",
       "      <td>True</td>\n",
       "      <td>NaN</td>\n",
       "      <td>True</td>\n",
       "      <td>NaN</td>\n",
       "      <td>NaN</td>\n",
       "      <td>NaN</td>\n",
       "      <td>False</td>\n",
       "      <td>...</td>\n",
       "      <td>NaN</td>\n",
       "      <td>NaN</td>\n",
       "      <td>NaN</td>\n",
       "      <td>NaN</td>\n",
       "      <td>NaN</td>\n",
       "      <td>NaN</td>\n",
       "      <td>False</td>\n",
       "      <td>True</td>\n",
       "      <td>NaN</td>\n",
       "      <td>NaN</td>\n",
       "    </tr>\n",
       "    <tr>\n",
       "      <th>8</th>\n",
       "      <td>1998.0</td>\n",
       "      <td>False</td>\n",
       "      <td>False</td>\n",
       "      <td>NaN</td>\n",
       "      <td>NaN</td>\n",
       "      <td>NaN</td>\n",
       "      <td>NaN</td>\n",
       "      <td>False</td>\n",
       "      <td>NaN</td>\n",
       "      <td>NaN</td>\n",
       "      <td>...</td>\n",
       "      <td>NaN</td>\n",
       "      <td>NaN</td>\n",
       "      <td>NaN</td>\n",
       "      <td>True</td>\n",
       "      <td>False</td>\n",
       "      <td>True</td>\n",
       "      <td>NaN</td>\n",
       "      <td>NaN</td>\n",
       "      <td>NaN</td>\n",
       "      <td>NaN</td>\n",
       "    </tr>\n",
       "    <tr>\n",
       "      <th>9</th>\n",
       "      <td>1999.0</td>\n",
       "      <td>NaN</td>\n",
       "      <td>NaN</td>\n",
       "      <td>NaN</td>\n",
       "      <td>True</td>\n",
       "      <td>NaN</td>\n",
       "      <td>True</td>\n",
       "      <td>NaN</td>\n",
       "      <td>False</td>\n",
       "      <td>NaN</td>\n",
       "      <td>...</td>\n",
       "      <td>NaN</td>\n",
       "      <td>True</td>\n",
       "      <td>NaN</td>\n",
       "      <td>NaN</td>\n",
       "      <td>NaN</td>\n",
       "      <td>NaN</td>\n",
       "      <td>NaN</td>\n",
       "      <td>NaN</td>\n",
       "      <td>NaN</td>\n",
       "      <td>NaN</td>\n",
       "    </tr>\n",
       "    <tr>\n",
       "      <th>10</th>\n",
       "      <td>2000.0</td>\n",
       "      <td>NaN</td>\n",
       "      <td>NaN</td>\n",
       "      <td>NaN</td>\n",
       "      <td>NaN</td>\n",
       "      <td>NaN</td>\n",
       "      <td>NaN</td>\n",
       "      <td>NaN</td>\n",
       "      <td>NaN</td>\n",
       "      <td>False</td>\n",
       "      <td>...</td>\n",
       "      <td>True</td>\n",
       "      <td>NaN</td>\n",
       "      <td>True</td>\n",
       "      <td>NaN</td>\n",
       "      <td>NaN</td>\n",
       "      <td>NaN</td>\n",
       "      <td>NaN</td>\n",
       "      <td>False</td>\n",
       "      <td>True</td>\n",
       "      <td>NaN</td>\n",
       "    </tr>\n",
       "    <tr>\n",
       "      <th>11</th>\n",
       "      <td>2001.0</td>\n",
       "      <td>False</td>\n",
       "      <td>True</td>\n",
       "      <td>True</td>\n",
       "      <td>NaN</td>\n",
       "      <td>NaN</td>\n",
       "      <td>NaN</td>\n",
       "      <td>NaN</td>\n",
       "      <td>NaN</td>\n",
       "      <td>NaN</td>\n",
       "      <td>...</td>\n",
       "      <td>NaN</td>\n",
       "      <td>NaN</td>\n",
       "      <td>NaN</td>\n",
       "      <td>NaN</td>\n",
       "      <td>NaN</td>\n",
       "      <td>NaN</td>\n",
       "      <td>False</td>\n",
       "      <td>NaN</td>\n",
       "      <td>NaN</td>\n",
       "      <td>NaN</td>\n",
       "    </tr>\n",
       "    <tr>\n",
       "      <th>12</th>\n",
       "      <td>2002.0</td>\n",
       "      <td>NaN</td>\n",
       "      <td>NaN</td>\n",
       "      <td>NaN</td>\n",
       "      <td>NaN</td>\n",
       "      <td>True</td>\n",
       "      <td>False</td>\n",
       "      <td>False</td>\n",
       "      <td>NaN</td>\n",
       "      <td>NaN</td>\n",
       "      <td>...</td>\n",
       "      <td>NaN</td>\n",
       "      <td>NaN</td>\n",
       "      <td>NaN</td>\n",
       "      <td>False</td>\n",
       "      <td>False</td>\n",
       "      <td>False</td>\n",
       "      <td>NaN</td>\n",
       "      <td>NaN</td>\n",
       "      <td>NaN</td>\n",
       "      <td>NaN</td>\n",
       "    </tr>\n",
       "    <tr>\n",
       "      <th>13</th>\n",
       "      <td>2003.0</td>\n",
       "      <td>NaN</td>\n",
       "      <td>NaN</td>\n",
       "      <td>NaN</td>\n",
       "      <td>False</td>\n",
       "      <td>NaN</td>\n",
       "      <td>NaN</td>\n",
       "      <td>NaN</td>\n",
       "      <td>True</td>\n",
       "      <td>NaN</td>\n",
       "      <td>...</td>\n",
       "      <td>NaN</td>\n",
       "      <td>True</td>\n",
       "      <td>NaN</td>\n",
       "      <td>NaN</td>\n",
       "      <td>NaN</td>\n",
       "      <td>NaN</td>\n",
       "      <td>NaN</td>\n",
       "      <td>True</td>\n",
       "      <td>NaN</td>\n",
       "      <td>NaN</td>\n",
       "    </tr>\n",
       "    <tr>\n",
       "      <th>14</th>\n",
       "      <td>2004.0</td>\n",
       "      <td>False</td>\n",
       "      <td>NaN</td>\n",
       "      <td>NaN</td>\n",
       "      <td>NaN</td>\n",
       "      <td>NaN</td>\n",
       "      <td>NaN</td>\n",
       "      <td>NaN</td>\n",
       "      <td>NaN</td>\n",
       "      <td>False</td>\n",
       "      <td>...</td>\n",
       "      <td>True</td>\n",
       "      <td>NaN</td>\n",
       "      <td>False</td>\n",
       "      <td>NaN</td>\n",
       "      <td>NaN</td>\n",
       "      <td>NaN</td>\n",
       "      <td>NaN</td>\n",
       "      <td>NaN</td>\n",
       "      <td>True</td>\n",
       "      <td>NaN</td>\n",
       "    </tr>\n",
       "    <tr>\n",
       "      <th>15</th>\n",
       "      <td>2005.0</td>\n",
       "      <td>NaN</td>\n",
       "      <td>False</td>\n",
       "      <td>True</td>\n",
       "      <td>NaN</td>\n",
       "      <td>NaN</td>\n",
       "      <td>False</td>\n",
       "      <td>NaN</td>\n",
       "      <td>NaN</td>\n",
       "      <td>NaN</td>\n",
       "      <td>...</td>\n",
       "      <td>NaN</td>\n",
       "      <td>NaN</td>\n",
       "      <td>NaN</td>\n",
       "      <td>NaN</td>\n",
       "      <td>NaN</td>\n",
       "      <td>NaN</td>\n",
       "      <td>False</td>\n",
       "      <td>NaN</td>\n",
       "      <td>NaN</td>\n",
       "      <td>NaN</td>\n",
       "    </tr>\n",
       "    <tr>\n",
       "      <th>16</th>\n",
       "      <td>2006.0</td>\n",
       "      <td>NaN</td>\n",
       "      <td>NaN</td>\n",
       "      <td>NaN</td>\n",
       "      <td>NaN</td>\n",
       "      <td>NaN</td>\n",
       "      <td>NaN</td>\n",
       "      <td>True</td>\n",
       "      <td>NaN</td>\n",
       "      <td>True</td>\n",
       "      <td>...</td>\n",
       "      <td>NaN</td>\n",
       "      <td>NaN</td>\n",
       "      <td>NaN</td>\n",
       "      <td>True</td>\n",
       "      <td>True</td>\n",
       "      <td>True</td>\n",
       "      <td>NaN</td>\n",
       "      <td>False</td>\n",
       "      <td>NaN</td>\n",
       "      <td>NaN</td>\n",
       "    </tr>\n",
       "    <tr>\n",
       "      <th>17</th>\n",
       "      <td>2007.0</td>\n",
       "      <td>True</td>\n",
       "      <td>False</td>\n",
       "      <td>NaN</td>\n",
       "      <td>True</td>\n",
       "      <td>False</td>\n",
       "      <td>NaN</td>\n",
       "      <td>NaN</td>\n",
       "      <td>False</td>\n",
       "      <td>NaN</td>\n",
       "      <td>...</td>\n",
       "      <td>NaN</td>\n",
       "      <td>True</td>\n",
       "      <td>NaN</td>\n",
       "      <td>NaN</td>\n",
       "      <td>NaN</td>\n",
       "      <td>NaN</td>\n",
       "      <td>NaN</td>\n",
       "      <td>NaN</td>\n",
       "      <td>NaN</td>\n",
       "      <td>NaN</td>\n",
       "    </tr>\n",
       "    <tr>\n",
       "      <th>18</th>\n",
       "      <td>2008.0</td>\n",
       "      <td>NaN</td>\n",
       "      <td>NaN</td>\n",
       "      <td>NaN</td>\n",
       "      <td>NaN</td>\n",
       "      <td>NaN</td>\n",
       "      <td>True</td>\n",
       "      <td>NaN</td>\n",
       "      <td>NaN</td>\n",
       "      <td>False</td>\n",
       "      <td>...</td>\n",
       "      <td>True</td>\n",
       "      <td>NaN</td>\n",
       "      <td>True</td>\n",
       "      <td>NaN</td>\n",
       "      <td>NaN</td>\n",
       "      <td>NaN</td>\n",
       "      <td>NaN</td>\n",
       "      <td>NaN</td>\n",
       "      <td>True</td>\n",
       "      <td>NaN</td>\n",
       "    </tr>\n",
       "    <tr>\n",
       "      <th>19</th>\n",
       "      <td>2009.0</td>\n",
       "      <td>NaN</td>\n",
       "      <td>NaN</td>\n",
       "      <td>False</td>\n",
       "      <td>NaN</td>\n",
       "      <td>NaN</td>\n",
       "      <td>NaN</td>\n",
       "      <td>NaN</td>\n",
       "      <td>NaN</td>\n",
       "      <td>NaN</td>\n",
       "      <td>...</td>\n",
       "      <td>NaN</td>\n",
       "      <td>NaN</td>\n",
       "      <td>NaN</td>\n",
       "      <td>NaN</td>\n",
       "      <td>NaN</td>\n",
       "      <td>NaN</td>\n",
       "      <td>True</td>\n",
       "      <td>True</td>\n",
       "      <td>NaN</td>\n",
       "      <td>NaN</td>\n",
       "    </tr>\n",
       "  </tbody>\n",
       "</table>\n",
       "<p>20 rows × 39 columns</p>\n",
       "</div>"
      ],
      "text/plain": [
       "    Unnamed: 0 Australia Denmark Norway Belgium France New Zealand Sweden  \\\n",
       "0       1990.0     False   False    NaN     NaN    NaN        True    NaN   \n",
       "1       1991.0       NaN     NaN    NaN   False    NaN         NaN  False   \n",
       "2       1992.0       NaN     NaN    NaN     NaN    NaN         NaN    NaN   \n",
       "3       1993.0     False     NaN  False     NaN  False       False    NaN   \n",
       "4       1994.0       NaN   False    NaN     NaN    NaN         NaN  False   \n",
       "5       1995.0       NaN     NaN    NaN   False    NaN         NaN    NaN   \n",
       "6       1996.0      True     NaN    NaN     NaN    NaN       False    NaN   \n",
       "7       1997.0       NaN     NaN   True     NaN   True         NaN    NaN   \n",
       "8       1998.0     False   False    NaN     NaN    NaN         NaN  False   \n",
       "9       1999.0       NaN     NaN    NaN    True    NaN        True    NaN   \n",
       "10      2000.0       NaN     NaN    NaN     NaN    NaN         NaN    NaN   \n",
       "11      2001.0     False    True   True     NaN    NaN         NaN    NaN   \n",
       "12      2002.0       NaN     NaN    NaN     NaN   True       False  False   \n",
       "13      2003.0       NaN     NaN    NaN   False    NaN         NaN    NaN   \n",
       "14      2004.0     False     NaN    NaN     NaN    NaN         NaN    NaN   \n",
       "15      2005.0       NaN   False   True     NaN    NaN       False    NaN   \n",
       "16      2006.0       NaN     NaN    NaN     NaN    NaN         NaN   True   \n",
       "17      2007.0      True   False    NaN    True  False         NaN    NaN   \n",
       "18      2008.0       NaN     NaN    NaN     NaN    NaN        True    NaN   \n",
       "19      2009.0       NaN     NaN  False     NaN    NaN         NaN    NaN   \n",
       "\n",
       "   Switzerland Canada  ... Lithuania Estonia    USA Costa Rica Columbia  \\\n",
       "0          NaN    NaN  ...       NaN     NaN    NaN       True    False   \n",
       "1        False    NaN  ...       NaN     NaN    NaN        NaN      NaN   \n",
       "2          NaN    NaN  ...      True    True   True        NaN      NaN   \n",
       "3          NaN  False  ...       NaN     NaN    NaN        NaN      NaN   \n",
       "4          NaN    NaN  ...       NaN     NaN    NaN       True    False   \n",
       "5         True    NaN  ...       NaN    True    NaN        NaN      NaN   \n",
       "6          NaN    NaN  ...      True     NaN  False        NaN      NaN   \n",
       "7          NaN  False  ...       NaN     NaN    NaN        NaN      NaN   \n",
       "8          NaN    NaN  ...       NaN     NaN    NaN       True    False   \n",
       "9        False    NaN  ...       NaN    True    NaN        NaN      NaN   \n",
       "10         NaN  False  ...      True     NaN   True        NaN      NaN   \n",
       "11         NaN    NaN  ...       NaN     NaN    NaN        NaN      NaN   \n",
       "12         NaN    NaN  ...       NaN     NaN    NaN      False    False   \n",
       "13        True    NaN  ...       NaN    True    NaN        NaN      NaN   \n",
       "14         NaN  False  ...      True     NaN  False        NaN      NaN   \n",
       "15         NaN    NaN  ...       NaN     NaN    NaN        NaN      NaN   \n",
       "16         NaN   True  ...       NaN     NaN    NaN       True     True   \n",
       "17       False    NaN  ...       NaN    True    NaN        NaN      NaN   \n",
       "18         NaN  False  ...      True     NaN   True        NaN      NaN   \n",
       "19         NaN    NaN  ...       NaN     NaN    NaN        NaN      NaN   \n",
       "\n",
       "   Czechia  Chile Mexico South Korea Unnamed: 38  \n",
       "0     True    NaN    NaN         NaN         NaN  \n",
       "1      NaN    NaN    NaN         NaN         NaN  \n",
       "2     True    NaN    NaN         NaN         NaN  \n",
       "3      NaN  False    NaN         NaN         NaN  \n",
       "4      NaN    NaN   True         NaN         NaN  \n",
       "5      NaN    NaN    NaN         NaN         NaN  \n",
       "6    False    NaN    NaN        True         NaN  \n",
       "7      NaN  False   True         NaN         NaN  \n",
       "8     True    NaN    NaN         NaN         NaN  \n",
       "9      NaN    NaN    NaN         NaN         NaN  \n",
       "10     NaN    NaN  False        True         NaN  \n",
       "11     NaN  False    NaN         NaN         NaN  \n",
       "12   False    NaN    NaN         NaN         NaN  \n",
       "13     NaN    NaN   True         NaN         NaN  \n",
       "14     NaN    NaN    NaN        True         NaN  \n",
       "15     NaN  False    NaN         NaN         NaN  \n",
       "16    True    NaN  False         NaN         NaN  \n",
       "17     NaN    NaN    NaN         NaN         NaN  \n",
       "18     NaN    NaN    NaN        True         NaN  \n",
       "19     NaN   True   True         NaN         NaN  \n",
       "\n",
       "[20 rows x 39 columns]"
      ]
     },
     "execution_count": 4,
     "metadata": {},
     "output_type": "execute_result"
    }
   ],
   "source": [
    "# View the first 20 rows of the data\n",
    "df_y.head(20)"
   ]
  },
  {
   "cell_type": "markdown",
   "metadata": {
    "cell_id": "c9094bb9456149cc933360154035fcd9",
    "deepnote_cell_type": "text-cell-h2",
    "formattedRanges": []
   },
   "source": [
    "## Clean the Data"
   ]
  },
  {
   "cell_type": "code",
   "execution_count": 5,
   "metadata": {
    "cell_id": "cf8c8a8de0914f9f90ec2566e5490b59",
    "deepnote_app_block_group_id": null,
    "deepnote_app_block_order": 4,
    "deepnote_app_block_visible": true,
    "deepnote_app_is_code_hidden": true,
    "deepnote_app_is_output_hidden": false,
    "deepnote_cell_type": "code",
    "execution_context_id": "f4e73ac9-64de-42e9-ae88-7619fadf8313",
    "execution_millis": 0,
    "execution_start": 1743011974605,
    "source_hash": "213f4864"
   },
   "outputs": [],
   "source": [
    "# Rename the 'Unnamed: 0' column to 'year'\n",
    "df_y = df_y.rename(columns={\"Unnamed: 0\": \"year\"})"
   ]
  },
  {
   "cell_type": "code",
   "execution_count": 6,
   "metadata": {
    "cell_id": "3fad1bda7fe24a84a3274856a5606186",
    "deepnote_app_block_group_id": null,
    "deepnote_app_block_order": 5,
    "deepnote_app_block_visible": true,
    "deepnote_app_is_code_hidden": true,
    "deepnote_app_is_output_hidden": false,
    "deepnote_cell_type": "code",
    "execution_context_id": "f4e73ac9-64de-42e9-ae88-7619fadf8313",
    "execution_millis": 0,
    "execution_start": 1743011974667,
    "source_hash": "e4e97fde"
   },
   "outputs": [],
   "source": [
    "# Filter the data to include only years after 1989\n",
    "df_y = df_y[df_y['year']>1989]"
   ]
  },
  {
   "cell_type": "code",
   "execution_count": 7,
   "metadata": {
    "cell_id": "1300df1742554673a16e1e72ba5fb45a",
    "deepnote_app_block_group_id": null,
    "deepnote_app_block_order": 6,
    "deepnote_app_block_visible": true,
    "deepnote_app_is_code_hidden": true,
    "deepnote_app_is_output_hidden": false,
    "deepnote_cell_type": "code",
    "deepnote_table_loading": false,
    "deepnote_table_state": {
     "cellFormattingRules": [],
     "columnDisplayNames": [],
     "columnOrder": [
      "year",
      "country",
      "change"
     ],
     "conditionalFilters": [],
     "filters": [],
     "hiddenColumnIds": [],
     "pageIndex": 1,
     "pageSize": 10,
     "sortBy": [],
     "wrappedTextColumnIds": []
    },
    "execution_context_id": "f4e73ac9-64de-42e9-ae88-7619fadf8313",
    "execution_millis": 1,
    "execution_start": 1743011974730,
    "source_hash": "2c8be0d4"
   },
   "outputs": [
    {
     "data": {
      "application/vnd.deepnote.dataframe.v3+json": {
       "column_count": 3,
       "columns": [
        {
         "dtype": "float64",
         "name": "year",
         "stats": {
          "histogram": [
           {
            "bin_end": 1993.3,
            "bin_start": 1990,
            "count": 152
           },
           {
            "bin_end": 1996.6,
            "bin_start": 1993.3,
            "count": 114
           },
           {
            "bin_end": 1999.9,
            "bin_start": 1996.6,
            "count": 114
           },
           {
            "bin_end": 2003.2,
            "bin_start": 1999.9,
            "count": 152
           },
           {
            "bin_end": 2006.5,
            "bin_start": 2003.2,
            "count": 114
           },
           {
            "bin_end": 2009.8,
            "bin_start": 2006.5,
            "count": 114
           },
           {
            "bin_end": 2013.1,
            "bin_start": 2009.8,
            "count": 152
           },
           {
            "bin_end": 2016.4,
            "bin_start": 2013.1,
            "count": 114
           },
           {
            "bin_end": 2019.7,
            "bin_start": 2016.4,
            "count": 114
           },
           {
            "bin_end": 2023,
            "bin_start": 2019.7,
            "count": 152
           }
          ],
          "max": "2023.0",
          "min": "1990.0",
          "nan_count": 0,
          "unique_count": 34
         }
        },
        {
         "dtype": "object",
         "name": "country",
         "stats": {
          "categories": [
           {
            "count": 34,
            "name": "Australia"
           },
           {
            "count": 34,
            "name": "Denmark"
           },
           {
            "count": 1224,
            "name": "36 others"
           }
          ],
          "nan_count": 0,
          "unique_count": 38
         }
        },
        {
         "dtype": "object",
         "name": "change",
         "stats": {
          "categories": [
           {
            "count": 175,
            "name": "True"
           },
           {
            "count": 168,
            "name": "False"
           },
           {
            "count": 949,
            "name": "Missing"
           }
          ],
          "nan_count": 949,
          "unique_count": 2
         }
        },
        {
         "dtype": "int64",
         "name": "_deepnote_index_column"
        }
       ],
       "row_count": 1292,
       "rows": [
        {
         "_deepnote_index_column": 10,
         "change": "nan",
         "country": "Australia",
         "year": 2000
        },
        {
         "_deepnote_index_column": 11,
         "change": "False",
         "country": "Australia",
         "year": 2001
        },
        {
         "_deepnote_index_column": 12,
         "change": "nan",
         "country": "Australia",
         "year": 2002
        },
        {
         "_deepnote_index_column": 13,
         "change": "nan",
         "country": "Australia",
         "year": 2003
        },
        {
         "_deepnote_index_column": 14,
         "change": "False",
         "country": "Australia",
         "year": 2004
        },
        {
         "_deepnote_index_column": 15,
         "change": "nan",
         "country": "Australia",
         "year": 2005
        },
        {
         "_deepnote_index_column": 16,
         "change": "nan",
         "country": "Australia",
         "year": 2006
        },
        {
         "_deepnote_index_column": 17,
         "change": "True",
         "country": "Australia",
         "year": 2007
        },
        {
         "_deepnote_index_column": 18,
         "change": "nan",
         "country": "Australia",
         "year": 2008
        },
        {
         "_deepnote_index_column": 19,
         "change": "nan",
         "country": "Australia",
         "year": 2009
        }
       ],
       "type": "dataframe"
      },
      "text/html": [
       "<div>\n",
       "<style scoped>\n",
       "    .dataframe tbody tr th:only-of-type {\n",
       "        vertical-align: middle;\n",
       "    }\n",
       "\n",
       "    .dataframe tbody tr th {\n",
       "        vertical-align: top;\n",
       "    }\n",
       "\n",
       "    .dataframe thead th {\n",
       "        text-align: right;\n",
       "    }\n",
       "</style>\n",
       "<table border=\"1\" class=\"dataframe\">\n",
       "  <thead>\n",
       "    <tr style=\"text-align: right;\">\n",
       "      <th></th>\n",
       "      <th>year</th>\n",
       "      <th>country</th>\n",
       "      <th>change</th>\n",
       "    </tr>\n",
       "  </thead>\n",
       "  <tbody>\n",
       "    <tr>\n",
       "      <th>0</th>\n",
       "      <td>1990.0</td>\n",
       "      <td>Australia</td>\n",
       "      <td>False</td>\n",
       "    </tr>\n",
       "    <tr>\n",
       "      <th>1</th>\n",
       "      <td>1991.0</td>\n",
       "      <td>Australia</td>\n",
       "      <td>NaN</td>\n",
       "    </tr>\n",
       "    <tr>\n",
       "      <th>2</th>\n",
       "      <td>1992.0</td>\n",
       "      <td>Australia</td>\n",
       "      <td>NaN</td>\n",
       "    </tr>\n",
       "    <tr>\n",
       "      <th>3</th>\n",
       "      <td>1993.0</td>\n",
       "      <td>Australia</td>\n",
       "      <td>False</td>\n",
       "    </tr>\n",
       "    <tr>\n",
       "      <th>4</th>\n",
       "      <td>1994.0</td>\n",
       "      <td>Australia</td>\n",
       "      <td>NaN</td>\n",
       "    </tr>\n",
       "    <tr>\n",
       "      <th>...</th>\n",
       "      <td>...</td>\n",
       "      <td>...</td>\n",
       "      <td>...</td>\n",
       "    </tr>\n",
       "    <tr>\n",
       "      <th>1287</th>\n",
       "      <td>2019.0</td>\n",
       "      <td>Unnamed: 38</td>\n",
       "      <td>NaN</td>\n",
       "    </tr>\n",
       "    <tr>\n",
       "      <th>1288</th>\n",
       "      <td>2020.0</td>\n",
       "      <td>Unnamed: 38</td>\n",
       "      <td>NaN</td>\n",
       "    </tr>\n",
       "    <tr>\n",
       "      <th>1289</th>\n",
       "      <td>2021.0</td>\n",
       "      <td>Unnamed: 38</td>\n",
       "      <td>NaN</td>\n",
       "    </tr>\n",
       "    <tr>\n",
       "      <th>1290</th>\n",
       "      <td>2022.0</td>\n",
       "      <td>Unnamed: 38</td>\n",
       "      <td>NaN</td>\n",
       "    </tr>\n",
       "    <tr>\n",
       "      <th>1291</th>\n",
       "      <td>2023.0</td>\n",
       "      <td>Unnamed: 38</td>\n",
       "      <td>NaN</td>\n",
       "    </tr>\n",
       "  </tbody>\n",
       "</table>\n",
       "<p>1292 rows × 3 columns</p>\n",
       "</div>"
      ],
      "text/plain": [
       "        year      country change\n",
       "0     1990.0    Australia  False\n",
       "1     1991.0    Australia    NaN\n",
       "2     1992.0    Australia    NaN\n",
       "3     1993.0    Australia  False\n",
       "4     1994.0    Australia    NaN\n",
       "...      ...          ...    ...\n",
       "1287  2019.0  Unnamed: 38    NaN\n",
       "1288  2020.0  Unnamed: 38    NaN\n",
       "1289  2021.0  Unnamed: 38    NaN\n",
       "1290  2022.0  Unnamed: 38    NaN\n",
       "1291  2023.0  Unnamed: 38    NaN\n",
       "\n",
       "[1292 rows x 3 columns]"
      ]
     },
     "execution_count": 7,
     "metadata": {},
     "output_type": "execute_result"
    }
   ],
   "source": [
    "# Melt df_y to match df_x\n",
    "df_y = df_y.melt(id_vars=['year'], var_name='country', value_name='change')\n",
    "df_y"
   ]
  },
  {
   "cell_type": "code",
   "execution_count": 8,
   "metadata": {
    "cell_id": "4c378e06d99840cd939a3418ec0918ce",
    "deepnote_app_block_group_id": null,
    "deepnote_app_block_order": 7,
    "deepnote_app_block_visible": true,
    "deepnote_app_is_code_hidden": true,
    "deepnote_app_is_output_hidden": false,
    "deepnote_cell_type": "code",
    "execution_context_id": "f4e73ac9-64de-42e9-ae88-7619fadf8313",
    "execution_millis": 0,
    "execution_start": 1743011974794,
    "source_hash": "98744009"
   },
   "outputs": [],
   "source": [
    " def missing_countries(df,feature):\n",
    "    return df[df[feature].isna()][['country', 'year', feature]]\n",
    "def select_country(df, country, feature):\n",
    "    return df[df['country'] == country][['year', feature]].copy()\n",
    "def diff(list_a,list_b):\n",
    "    list_a = set(list_a)\n",
    "    list_b = set(list_b)\n",
    "    return list_a - list_b"
   ]
  },
  {
   "cell_type": "code",
   "execution_count": 9,
   "metadata": {
    "cell_id": "df9735519aa0440ca514bf368474d9c7",
    "deepnote_app_block_group_id": null,
    "deepnote_app_block_order": 8,
    "deepnote_app_block_visible": true,
    "deepnote_app_is_code_hidden": true,
    "deepnote_app_is_output_hidden": false,
    "deepnote_cell_type": "code",
    "execution_context_id": "f4e73ac9-64de-42e9-ae88-7619fadf8313",
    "execution_millis": 1,
    "execution_start": 1743011974844,
    "source_hash": "4316e8c0"
   },
   "outputs": [
    {
     "data": {
      "text/plain": [
       "({'Colombia', 'Turkey', 'United States'},\n",
       " {'Columbia', 'Turkiye', 'USA', 'Unnamed: 38'})"
      ]
     },
     "execution_count": 9,
     "metadata": {},
     "output_type": "execute_result"
    }
   ],
   "source": [
    "# Compare the unique countries in df_x and df_y\n",
    "difference_connor= diff(df_x['country'].unique(),df_y['country'].unique())\n",
    "difference_yarkin= diff(df_y['country'].unique(),df_x['country'].unique())\n",
    "difference_connor, difference_yarkin"
   ]
  },
  {
   "cell_type": "code",
   "execution_count": 10,
   "metadata": {
    "cell_id": "b041c7dbfe054d4a864f6ca536dc07b5",
    "deepnote_app_block_group_id": null,
    "deepnote_app_block_order": 9,
    "deepnote_app_block_visible": true,
    "deepnote_app_is_code_hidden": true,
    "deepnote_app_is_output_hidden": false,
    "deepnote_cell_type": "code",
    "execution_context_id": "f4e73ac9-64de-42e9-ae88-7619fadf8313",
    "execution_millis": 0,
    "execution_start": 1743011974904,
    "source_hash": "dd7f70ee"
   },
   "outputs": [],
   "source": [
    "# Define a function to change country names\n",
    "def change_country_name(df, old_name, new_name):\n",
    "    df.loc[df['country'] == old_name, 'country'] = new_name\n",
    "\n",
    "change_country_name(df_y, 'USA', 'United States')\n",
    "change_country_name(df_y, 'Columbia', 'Colombia')\n",
    "change_country_name(df_y, 'Turkiye', 'Turkey')"
   ]
  },
  {
   "cell_type": "code",
   "execution_count": 11,
   "metadata": {
    "cell_id": "bb78a5850c184998be9bf74224ef0ac6",
    "deepnote_app_block_group_id": null,
    "deepnote_app_block_order": 10,
    "deepnote_app_block_visible": true,
    "deepnote_app_is_code_hidden": true,
    "deepnote_app_is_output_hidden": false,
    "deepnote_cell_type": "code",
    "execution_context_id": "f4e73ac9-64de-42e9-ae88-7619fadf8313",
    "execution_millis": 1,
    "execution_start": 1743011974966,
    "source_hash": "4316e8c0"
   },
   "outputs": [
    {
     "data": {
      "text/plain": [
       "(set(), {'Unnamed: 38'})"
      ]
     },
     "execution_count": 11,
     "metadata": {},
     "output_type": "execute_result"
    }
   ],
   "source": [
    "# Compare the unique countries in df_x and df_y\n",
    "difference_connor= diff(df_x['country'].unique(),df_y['country'].unique())\n",
    "difference_yarkin= diff(df_y['country'].unique(),df_x['country'].unique())\n",
    "difference_connor, difference_yarkin"
   ]
  },
  {
   "cell_type": "code",
   "execution_count": 12,
   "metadata": {
    "cell_id": "b2d05797e55244c3a21e4217098a3a48",
    "deepnote_app_block_group_id": null,
    "deepnote_app_block_order": 11,
    "deepnote_app_block_visible": true,
    "deepnote_app_is_code_hidden": true,
    "deepnote_app_is_output_hidden": false,
    "deepnote_cell_type": "code",
    "execution_context_id": "f4e73ac9-64de-42e9-ae88-7619fadf8313",
    "execution_millis": 0,
    "execution_start": 1743011975024,
    "source_hash": "b3ccc69a"
   },
   "outputs": [
    {
     "data": {
      "text/plain": [
       "(set(), {'Unnamed: 38'})"
      ]
     },
     "execution_count": 12,
     "metadata": {},
     "output_type": "execute_result"
    }
   ],
   "source": [
    "# Compare the unique countries in df_x and df_y\n",
    "difference_connor= diff(df_x['country'],df_y['country'])\n",
    "difference_yarkin= diff(df_y['country'],df_x['country'])\n",
    "difference_connor, difference_yarkin"
   ]
  },
  {
   "cell_type": "markdown",
   "metadata": {
    "cell_id": "84225f20251641b0aca3fa0328b6e742",
    "deepnote_cell_type": "text-cell-h2",
    "formattedRanges": []
   },
   "source": [
    "## Merge the Data"
   ]
  },
  {
   "cell_type": "code",
   "execution_count": 13,
   "metadata": {
    "cell_id": "d5b8c0195c4e41d3af212a45eb907cb8",
    "deepnote_app_block_group_id": null,
    "deepnote_app_block_order": 12,
    "deepnote_app_block_visible": true,
    "deepnote_app_is_code_hidden": true,
    "deepnote_app_is_output_hidden": false,
    "deepnote_cell_type": "code",
    "deepnote_table_loading": false,
    "deepnote_table_state": {
     "cellFormattingRules": [],
     "columnDisplayNames": [],
     "columnOrder": [
      "country",
      "year",
      "Effective Parliament (highest score=1)",
      "Voter turnout (highest score=1)",
      "Media bias (highest score=1)",
      "GDP",
      "Conflict",
      "Deaths",
      "totalrefugees",
      "ethnicity_ratio",
      "economic_stability_index",
      "social_stability_index",
      "democratic_political_index",
      "change"
     ],
     "conditionalFilters": [],
     "filters": [],
     "hiddenColumnIds": [],
     "pageIndex": 4,
     "pageSize": 10,
     "sortBy": [],
     "wrappedTextColumnIds": []
    },
    "execution_context_id": "f4e73ac9-64de-42e9-ae88-7619fadf8313",
    "execution_millis": 2,
    "execution_start": 1743011975086,
    "source_hash": "de629f9c"
   },
   "outputs": [
    {
     "data": {
      "application/vnd.deepnote.dataframe.v3+json": {
       "column_count": 9,
       "columns": [
        {
         "dtype": "object",
         "name": "country",
         "stats": {
          "categories": [
           {
            "count": 34,
            "name": "Australia"
           },
           {
            "count": 34,
            "name": "Austria"
           },
           {
            "count": 1224,
            "name": "36 others"
           }
          ],
          "nan_count": 0,
          "unique_count": 38
         }
        },
        {
         "dtype": "float64",
         "name": "year",
         "stats": {
          "histogram": [
           {
            "bin_end": 1993.3,
            "bin_start": 1990,
            "count": 152
           },
           {
            "bin_end": 1996.6,
            "bin_start": 1993.3,
            "count": 114
           },
           {
            "bin_end": 1999.9,
            "bin_start": 1996.6,
            "count": 114
           },
           {
            "bin_end": 2003.2,
            "bin_start": 1999.9,
            "count": 152
           },
           {
            "bin_end": 2006.5,
            "bin_start": 2003.2,
            "count": 114
           },
           {
            "bin_end": 2009.8,
            "bin_start": 2006.5,
            "count": 114
           },
           {
            "bin_end": 2013.1,
            "bin_start": 2009.8,
            "count": 152
           },
           {
            "bin_end": 2016.4,
            "bin_start": 2013.1,
            "count": 114
           },
           {
            "bin_end": 2019.7,
            "bin_start": 2016.4,
            "count": 114
           },
           {
            "bin_end": 2023,
            "bin_start": 2019.7,
            "count": 152
           }
          ],
          "max": "2023.0",
          "min": "1990.0",
          "nan_count": 0,
          "unique_count": 34
         }
        },
        {
         "dtype": "float64",
         "name": "Voter turnout (highest score=1)",
         "stats": {
          "histogram": [
           {
            "bin_end": 0.31280444444575184,
            "bin_start": 0.24,
            "count": 8
           },
           {
            "bin_end": 0.38560888889150374,
            "bin_start": 0.31280444444575184,
            "count": 36
           },
           {
            "bin_end": 0.45841333333725565,
            "bin_start": 0.38560888889150374,
            "count": 55
           },
           {
            "bin_end": 0.5312177777830075,
            "bin_start": 0.45841333333725565,
            "count": 157
           },
           {
            "bin_end": 0.6040222222287593,
            "bin_start": 0.5312177777830075,
            "count": 170
           },
           {
            "bin_end": 0.6768266666745113,
            "bin_start": 0.6040222222287593,
            "count": 170
           },
           {
            "bin_end": 0.7496311111202631,
            "bin_start": 0.6768266666745113,
            "count": 228
           },
           {
            "bin_end": 0.822435555566015,
            "bin_start": 0.7496311111202631,
            "count": 265
           },
           {
            "bin_end": 0.8952400000117668,
            "bin_start": 0.822435555566015,
            "count": 156
           },
           {
            "bin_end": 0.9680444444575188,
            "bin_start": 0.8952400000117668,
            "count": 13
           }
          ],
          "max": "0.9680444444575188",
          "min": "0.24",
          "nan_count": 34,
          "unique_count": 97
         }
        },
        {
         "dtype": "float64",
         "name": "Freedom of Religion (highest score=1)",
         "stats": {
          "histogram": [
           {
            "bin_end": 0.4699138461538462,
            "bin_start": 0.41,
            "count": 14
           },
           {
            "bin_end": 0.5298276923076923,
            "bin_start": 0.4699138461538462,
            "count": 16
           },
           {
            "bin_end": 0.5897415384615385,
            "bin_start": 0.5298276923076923,
            "count": 4
           },
           {
            "bin_end": 0.6496553846153847,
            "bin_start": 0.5897415384615385,
            "count": 4
           },
           {
            "bin_end": 0.709569230769231,
            "bin_start": 0.6496553846153847,
            "count": 17
           },
           {
            "bin_end": 0.7694830769230772,
            "bin_start": 0.709569230769231,
            "count": 141
           },
           {
            "bin_end": 0.8293969230769233,
            "bin_start": 0.7694830769230772,
            "count": 138
           },
           {
            "bin_end": 0.8893107692307695,
            "bin_start": 0.8293969230769233,
            "count": 152
           },
           {
            "bin_end": 0.9492246153846156,
            "bin_start": 0.8893107692307695,
            "count": 81
           },
           {
            "bin_end": 1.0091384615384618,
            "bin_start": 0.9492246153846156,
            "count": 691
           }
          ],
          "max": "1.0091384615384618",
          "min": "0.41",
          "nan_count": 34,
          "unique_count": 66
         }
        },
        {
         "dtype": "float64",
         "name": "Urban population (% of total population)",
         "stats": {
          "histogram": [
           {
            "bin_end": 52.9424,
            "bin_start": 47.915,
            "count": 34
           },
           {
            "bin_end": 57.9698,
            "bin_start": 52.9424,
            "count": 40
           },
           {
            "bin_end": 62.99719999999999,
            "bin_start": 57.9698,
            "count": 101
           },
           {
            "bin_end": 68.02459999999999,
            "bin_start": 62.99719999999999,
            "count": 113
           },
           {
            "bin_end": 73.05199999999999,
            "bin_start": 68.02459999999999,
            "count": 132
           },
           {
            "bin_end": 78.07939999999999,
            "bin_start": 73.05199999999999,
            "count": 244
           },
           {
            "bin_end": 83.10679999999999,
            "bin_start": 78.07939999999999,
            "count": 231
           },
           {
            "bin_end": 88.13419999999999,
            "bin_start": 83.10679999999999,
            "count": 211
           },
           {
            "bin_end": 93.16159999999999,
            "bin_start": 88.13419999999999,
            "count": 100
           },
           {
            "bin_end": 98.189,
            "bin_start": 93.16159999999999,
            "count": 52
           }
          ],
          "max": "98.189",
          "min": "47.915",
          "nan_count": 34,
          "unique_count": 1226
         }
        },
        {
         "dtype": "float64",
         "name": "ethnicity_ratio",
         "stats": {
          "histogram": [
           {
            "bin_end": 0.1,
            "bin_start": 0,
            "count": 77
           },
           {
            "bin_end": 0.2,
            "bin_start": 0.1,
            "count": 0
           },
           {
            "bin_end": 0.30000000000000004,
            "bin_start": 0.2,
            "count": 0
           },
           {
            "bin_end": 0.4,
            "bin_start": 0.30000000000000004,
            "count": 34
           },
           {
            "bin_end": 0.5,
            "bin_start": 0.4,
            "count": 0
           },
           {
            "bin_end": 0.6000000000000001,
            "bin_start": 0.5,
            "count": 140
           },
           {
            "bin_end": 0.7000000000000001,
            "bin_start": 0.6000000000000001,
            "count": 156
           },
           {
            "bin_end": 0.8,
            "bin_start": 0.7000000000000001,
            "count": 84
           },
           {
            "bin_end": 0.9,
            "bin_start": 0.8,
            "count": 192
           },
           {
            "bin_end": 1,
            "bin_start": 0.9,
            "count": 575
           }
          ],
          "max": "1.0",
          "min": "0.0",
          "nan_count": 34,
          "unique_count": 48
         }
        },
        {
         "dtype": "float64",
         "name": "economic_stability_index",
         "stats": {
          "histogram": [
           {
            "bin_end": -12.796980002410631,
            "bin_start": -16.573879601877085,
            "count": 6
           },
           {
            "bin_end": -9.020080402944178,
            "bin_start": -12.796980002410631,
            "count": 19
           },
           {
            "bin_end": -5.243180803477724,
            "bin_start": -9.020080402944178,
            "count": 46
           },
           {
            "bin_end": -1.4662812040112705,
            "bin_start": -5.243180803477724,
            "count": 226
           },
           {
            "bin_end": 2.310618395455183,
            "bin_start": -1.4662812040112705,
            "count": 721
           },
           {
            "bin_end": 6.087517994921637,
            "bin_start": 2.310618395455183,
            "count": 201
           },
           {
            "bin_end": 9.86441759438809,
            "bin_start": 6.087517994921637,
            "count": 34
           },
           {
            "bin_end": 13.641317193854544,
            "bin_start": 9.86441759438809,
            "count": 4
           },
           {
            "bin_end": 17.418216793320997,
            "bin_start": 13.641317193854544,
            "count": 0
           },
           {
            "bin_end": 21.19511639278745,
            "bin_start": 17.418216793320997,
            "count": 1
           }
          ],
          "max": "21.19511639278745",
          "min": "-16.573879601877085",
          "nan_count": 34,
          "unique_count": 1258
         }
        },
        {
         "dtype": "float64",
         "name": "political_social_index",
         "stats": {
          "histogram": [
           {
            "bin_end": -1.5191524215857959,
            "bin_start": -1.752951814513342,
            "count": 9
           },
           {
            "bin_end": -1.2853530286582497,
            "bin_start": -1.5191524215857959,
            "count": 25
           },
           {
            "bin_end": -1.0515536357307038,
            "bin_start": -1.2853530286582497,
            "count": 38
           },
           {
            "bin_end": -0.8177542428031577,
            "bin_start": -1.0515536357307038,
            "count": 35
           },
           {
            "bin_end": -0.5839548498756115,
            "bin_start": -0.8177542428031577,
            "count": 26
           },
           {
            "bin_end": -0.3501554569480656,
            "bin_start": -0.5839548498756115,
            "count": 75
           },
           {
            "bin_end": -0.11635606402051946,
            "bin_start": -0.3501554569480656,
            "count": 107
           },
           {
            "bin_end": 0.11744332890702669,
            "bin_start": -0.11635606402051946,
            "count": 218
           },
           {
            "bin_end": 0.3512427218345726,
            "bin_start": 0.11744332890702669,
            "count": 549
           },
           {
            "bin_end": 0.5850421147621191,
            "bin_start": 0.3512427218345726,
            "count": 176
           }
          ],
          "max": "0.5850421147621191",
          "min": "-1.752951814513342",
          "nan_count": 34,
          "unique_count": 1256
         }
        },
        {
         "dtype": "object",
         "name": "change",
         "stats": {
          "categories": [
           {
            "count": 175,
            "name": "True"
           },
           {
            "count": 168,
            "name": "False"
           },
           {
            "count": 949,
            "name": "Missing"
           }
          ],
          "nan_count": 949,
          "unique_count": 2
         }
        },
        {
         "dtype": "int64",
         "name": "_deepnote_index_column"
        }
       ],
       "row_count": 1292,
       "rows": [
        {
         "Freedom of Religion (highest score=1)": 0.85,
         "Urban population (% of total population)": 61.045,
         "Voter turnout (highest score=1)": 0.79,
         "_deepnote_index_column": 40,
         "change": "nan",
         "country": "Austria",
         "economic_stability_index": -0.1315939306971228,
         "ethnicity_ratio": 0.93,
         "political_social_index": 0.1543796236700109,
         "year": 1997
        },
        {
         "Freedom of Religion (highest score=1)": 0.85,
         "Urban population (% of total population)": 60.768,
         "Voter turnout (highest score=1)": 0.68,
         "_deepnote_index_column": 41,
         "change": "nan",
         "country": "Austria",
         "economic_stability_index": 1.3582547286490807,
         "ethnicity_ratio": 0.93,
         "political_social_index": 0.1571658957999781,
         "year": 1998
        },
        {
         "Freedom of Religion (highest score=1)": 0.85,
         "Urban population (% of total population)": 60.491,
         "Voter turnout (highest score=1)": 0.73,
         "_deepnote_index_column": 42,
         "change": "False",
         "country": "Austria",
         "economic_stability_index": 1.2454661423539917,
         "ethnicity_ratio": 0.93,
         "political_social_index": 0.1580666520501107,
         "year": 1999
        },
        {
         "Freedom of Religion (highest score=1)": 0.85,
         "Urban population (% of total population)": 60.213,
         "Voter turnout (highest score=1)": 0.73,
         "_deepnote_index_column": 43,
         "change": "nan",
         "country": "Austria",
         "economic_stability_index": 1.017855110409949,
         "ethnicity_ratio": 0.93,
         "political_social_index": 0.1681172985251276,
         "year": 2000
        },
        {
         "Freedom of Religion (highest score=1)": 0.85,
         "Urban population (% of total population)": 59.934,
         "Voter turnout (highest score=1)": 0.73,
         "_deepnote_index_column": 44,
         "change": "nan",
         "country": "Austria",
         "economic_stability_index": -1.2293227067143169,
         "ethnicity_ratio": 0.93,
         "political_social_index": 0.169181360178303,
         "year": 2001
        },
        {
         "Freedom of Religion (highest score=1)": 0.85,
         "Urban population (% of total population)": 59.655,
         "Voter turnout (highest score=1)": 0.77,
         "_deepnote_index_column": 45,
         "change": "True",
         "country": "Austria",
         "economic_stability_index": -0.956909210820571,
         "ethnicity_ratio": 0.93,
         "political_social_index": 0.1737517789767481,
         "year": 2002
        },
        {
         "Freedom of Religion (highest score=1)": 0.85,
         "Urban population (% of total population)": 59.375,
         "Voter turnout (highest score=1)": 0.77,
         "_deepnote_index_column": 46,
         "change": "nan",
         "country": "Austria",
         "economic_stability_index": -1.6586413654232743,
         "ethnicity_ratio": 0.93,
         "political_social_index": 0.1749751175598986,
         "year": 2003
        },
        {
         "Freedom of Religion (highest score=1)": 0.85,
         "Urban population (% of total population)": 59.094,
         "Voter turnout (highest score=1)": 0.66,
         "_deepnote_index_column": 47,
         "change": "nan",
         "country": "Austria",
         "economic_stability_index": -0.009908832563435,
         "ethnicity_ratio": 0.93,
         "political_social_index": 0.1762512748728357,
         "year": 2004
        },
        {
         "Freedom of Religion (highest score=1)": 0.85,
         "Urban population (% of total population)": 58.813,
         "Voter turnout (highest score=1)": 0.66,
         "_deepnote_index_column": 48,
         "change": "nan",
         "country": "Austria",
         "economic_stability_index": -0.5597203826853263,
         "ethnicity_ratio": 0.93,
         "political_social_index": 0.1767524132640001,
         "year": 2005
        },
        {
         "Freedom of Religion (highest score=1)": 0.85,
         "Urban population (% of total population)": 58.532,
         "Voter turnout (highest score=1)": 0.73,
         "_deepnote_index_column": 49,
         "change": "True",
         "country": "Austria",
         "economic_stability_index": 0.8338490971488569,
         "ethnicity_ratio": 0.93,
         "political_social_index": 0.1865821282978831,
         "year": 2006
        }
       ],
       "type": "dataframe"
      },
      "text/html": [
       "<div>\n",
       "<style scoped>\n",
       "    .dataframe tbody tr th:only-of-type {\n",
       "        vertical-align: middle;\n",
       "    }\n",
       "\n",
       "    .dataframe tbody tr th {\n",
       "        vertical-align: top;\n",
       "    }\n",
       "\n",
       "    .dataframe thead th {\n",
       "        text-align: right;\n",
       "    }\n",
       "</style>\n",
       "<table border=\"1\" class=\"dataframe\">\n",
       "  <thead>\n",
       "    <tr style=\"text-align: right;\">\n",
       "      <th></th>\n",
       "      <th>country</th>\n",
       "      <th>year</th>\n",
       "      <th>Voter turnout (highest score=1)</th>\n",
       "      <th>Freedom of Religion (highest score=1)</th>\n",
       "      <th>Urban population (% of total population)</th>\n",
       "      <th>ethnicity_ratio</th>\n",
       "      <th>economic_stability_index</th>\n",
       "      <th>political_social_index</th>\n",
       "      <th>change</th>\n",
       "    </tr>\n",
       "  </thead>\n",
       "  <tbody>\n",
       "    <tr>\n",
       "      <th>0</th>\n",
       "      <td>Australia</td>\n",
       "      <td>1990.0</td>\n",
       "      <td>0.82</td>\n",
       "      <td>0.98</td>\n",
       "      <td>85.433</td>\n",
       "      <td>0.84</td>\n",
       "      <td>-0.052235</td>\n",
       "      <td>0.313883</td>\n",
       "      <td>False</td>\n",
       "    </tr>\n",
       "    <tr>\n",
       "      <th>1</th>\n",
       "      <td>Australia</td>\n",
       "      <td>1991.0</td>\n",
       "      <td>0.82</td>\n",
       "      <td>0.98</td>\n",
       "      <td>85.403</td>\n",
       "      <td>0.84</td>\n",
       "      <td>-3.753174</td>\n",
       "      <td>0.314108</td>\n",
       "      <td>NaN</td>\n",
       "    </tr>\n",
       "    <tr>\n",
       "      <th>2</th>\n",
       "      <td>Australia</td>\n",
       "      <td>1992.0</td>\n",
       "      <td>0.82</td>\n",
       "      <td>0.98</td>\n",
       "      <td>85.285</td>\n",
       "      <td>0.84</td>\n",
       "      <td>-2.800049</td>\n",
       "      <td>0.314333</td>\n",
       "      <td>NaN</td>\n",
       "    </tr>\n",
       "    <tr>\n",
       "      <th>3</th>\n",
       "      <td>Australia</td>\n",
       "      <td>1993.0</td>\n",
       "      <td>0.84</td>\n",
       "      <td>0.98</td>\n",
       "      <td>85.157</td>\n",
       "      <td>0.84</td>\n",
       "      <td>1.014131</td>\n",
       "      <td>0.317162</td>\n",
       "      <td>False</td>\n",
       "    </tr>\n",
       "    <tr>\n",
       "      <th>4</th>\n",
       "      <td>Australia</td>\n",
       "      <td>1994.0</td>\n",
       "      <td>0.84</td>\n",
       "      <td>0.98</td>\n",
       "      <td>85.028</td>\n",
       "      <td>0.84</td>\n",
       "      <td>0.873492</td>\n",
       "      <td>0.317162</td>\n",
       "      <td>NaN</td>\n",
       "    </tr>\n",
       "    <tr>\n",
       "      <th>...</th>\n",
       "      <td>...</td>\n",
       "      <td>...</td>\n",
       "      <td>...</td>\n",
       "      <td>...</td>\n",
       "      <td>...</td>\n",
       "      <td>...</td>\n",
       "      <td>...</td>\n",
       "      <td>...</td>\n",
       "      <td>...</td>\n",
       "    </tr>\n",
       "    <tr>\n",
       "      <th>1287</th>\n",
       "      <td>Unnamed: 38</td>\n",
       "      <td>2019.0</td>\n",
       "      <td>NaN</td>\n",
       "      <td>NaN</td>\n",
       "      <td>NaN</td>\n",
       "      <td>NaN</td>\n",
       "      <td>NaN</td>\n",
       "      <td>NaN</td>\n",
       "      <td>NaN</td>\n",
       "    </tr>\n",
       "    <tr>\n",
       "      <th>1288</th>\n",
       "      <td>Unnamed: 38</td>\n",
       "      <td>2020.0</td>\n",
       "      <td>NaN</td>\n",
       "      <td>NaN</td>\n",
       "      <td>NaN</td>\n",
       "      <td>NaN</td>\n",
       "      <td>NaN</td>\n",
       "      <td>NaN</td>\n",
       "      <td>NaN</td>\n",
       "    </tr>\n",
       "    <tr>\n",
       "      <th>1289</th>\n",
       "      <td>Unnamed: 38</td>\n",
       "      <td>2021.0</td>\n",
       "      <td>NaN</td>\n",
       "      <td>NaN</td>\n",
       "      <td>NaN</td>\n",
       "      <td>NaN</td>\n",
       "      <td>NaN</td>\n",
       "      <td>NaN</td>\n",
       "      <td>NaN</td>\n",
       "    </tr>\n",
       "    <tr>\n",
       "      <th>1290</th>\n",
       "      <td>Unnamed: 38</td>\n",
       "      <td>2022.0</td>\n",
       "      <td>NaN</td>\n",
       "      <td>NaN</td>\n",
       "      <td>NaN</td>\n",
       "      <td>NaN</td>\n",
       "      <td>NaN</td>\n",
       "      <td>NaN</td>\n",
       "      <td>NaN</td>\n",
       "    </tr>\n",
       "    <tr>\n",
       "      <th>1291</th>\n",
       "      <td>Unnamed: 38</td>\n",
       "      <td>2023.0</td>\n",
       "      <td>NaN</td>\n",
       "      <td>NaN</td>\n",
       "      <td>NaN</td>\n",
       "      <td>NaN</td>\n",
       "      <td>NaN</td>\n",
       "      <td>NaN</td>\n",
       "      <td>NaN</td>\n",
       "    </tr>\n",
       "  </tbody>\n",
       "</table>\n",
       "<p>1292 rows × 9 columns</p>\n",
       "</div>"
      ],
      "text/plain": [
       "          country    year  Voter turnout (highest score=1)  \\\n",
       "0       Australia  1990.0                             0.82   \n",
       "1       Australia  1991.0                             0.82   \n",
       "2       Australia  1992.0                             0.82   \n",
       "3       Australia  1993.0                             0.84   \n",
       "4       Australia  1994.0                             0.84   \n",
       "...           ...     ...                              ...   \n",
       "1287  Unnamed: 38  2019.0                              NaN   \n",
       "1288  Unnamed: 38  2020.0                              NaN   \n",
       "1289  Unnamed: 38  2021.0                              NaN   \n",
       "1290  Unnamed: 38  2022.0                              NaN   \n",
       "1291  Unnamed: 38  2023.0                              NaN   \n",
       "\n",
       "      Freedom of Religion (highest score=1)  \\\n",
       "0                                      0.98   \n",
       "1                                      0.98   \n",
       "2                                      0.98   \n",
       "3                                      0.98   \n",
       "4                                      0.98   \n",
       "...                                     ...   \n",
       "1287                                    NaN   \n",
       "1288                                    NaN   \n",
       "1289                                    NaN   \n",
       "1290                                    NaN   \n",
       "1291                                    NaN   \n",
       "\n",
       "      Urban population (% of total population)  ethnicity_ratio  \\\n",
       "0                                       85.433             0.84   \n",
       "1                                       85.403             0.84   \n",
       "2                                       85.285             0.84   \n",
       "3                                       85.157             0.84   \n",
       "4                                       85.028             0.84   \n",
       "...                                        ...              ...   \n",
       "1287                                       NaN              NaN   \n",
       "1288                                       NaN              NaN   \n",
       "1289                                       NaN              NaN   \n",
       "1290                                       NaN              NaN   \n",
       "1291                                       NaN              NaN   \n",
       "\n",
       "      economic_stability_index  political_social_index change  \n",
       "0                    -0.052235                0.313883  False  \n",
       "1                    -3.753174                0.314108    NaN  \n",
       "2                    -2.800049                0.314333    NaN  \n",
       "3                     1.014131                0.317162  False  \n",
       "4                     0.873492                0.317162    NaN  \n",
       "...                        ...                     ...    ...  \n",
       "1287                       NaN                     NaN    NaN  \n",
       "1288                       NaN                     NaN    NaN  \n",
       "1289                       NaN                     NaN    NaN  \n",
       "1290                       NaN                     NaN    NaN  \n",
       "1291                       NaN                     NaN    NaN  \n",
       "\n",
       "[1292 rows x 9 columns]"
      ]
     },
     "execution_count": 13,
     "metadata": {},
     "output_type": "execute_result"
    }
   ],
   "source": [
    "# Merge the dataframes\n",
    "full_df = pd.merge(df_x, df_y, on=['year', 'country'],how='outer');full_df"
   ]
  },
  {
   "cell_type": "code",
   "execution_count": 14,
   "metadata": {
    "cell_id": "2b9608478ed54a60b7e247a8bd5dfdad",
    "deepnote_app_block_group_id": null,
    "deepnote_app_block_order": 13,
    "deepnote_app_block_visible": true,
    "deepnote_app_is_code_hidden": true,
    "deepnote_app_is_output_hidden": false,
    "deepnote_cell_type": "code",
    "execution_context_id": "f4e73ac9-64de-42e9-ae88-7619fadf8313",
    "execution_millis": 0,
    "execution_start": 1743011975135,
    "source_hash": "c1267a77"
   },
   "outputs": [],
   "source": [
    "# Define a function to check year and country\n",
    "def check_year_country(df):\n",
    "    if \"country\" not in df.columns or \"year\" not in df.columns:\n",
    "        raise ValueError(\"The dataset must contain 'country' and 'year' columns.\")\n",
    "\n",
    "    year_summary = df.groupby(\"country\")[\"year\"].agg([\"min\", \"max\", \"count\"]).reset_index()\n",
    "    year_summary.columns = [\"country\", \"min_year\", \"max_year\", \"year_count\"]\n",
    "\n",
    "    unique_countries = df[\"country\"].unique()\n",
    "    unique_country_count = len(unique_countries)\n",
    "\n",
    "    return year_summary, unique_countries, unique_country_count"
   ]
  },
  {
   "cell_type": "code",
   "execution_count": 15,
   "metadata": {
    "cell_id": "304f48ad37944b2eac581e7bf0706276",
    "deepnote_app_block_group_id": null,
    "deepnote_app_block_order": 14,
    "deepnote_app_block_visible": true,
    "deepnote_app_is_code_hidden": true,
    "deepnote_app_is_output_hidden": false,
    "deepnote_cell_type": "code",
    "execution_context_id": "f4e73ac9-64de-42e9-ae88-7619fadf8313",
    "execution_millis": 1,
    "execution_start": 1743011975184,
    "source_hash": "cdef998f"
   },
   "outputs": [
    {
     "data": {
      "text/plain": [
       "(           country  min_year  max_year  year_count\n",
       " 0        Australia    1990.0    2023.0          34\n",
       " 1          Austria    1990.0    2023.0          34\n",
       " 2          Belgium    1990.0    2023.0          34\n",
       " 3           Canada    1990.0    2023.0          34\n",
       " 4            Chile    1990.0    2023.0          34\n",
       " 5         Colombia    1990.0    2023.0          34\n",
       " 6       Costa Rica    1990.0    2023.0          34\n",
       " 7          Czechia    1990.0    2023.0          34\n",
       " 8          Denmark    1990.0    2023.0          34\n",
       " 9          Estonia    1990.0    2023.0          34\n",
       " 10         Finland    1990.0    2023.0          34\n",
       " 11          France    1990.0    2023.0          34\n",
       " 12         Germany    1990.0    2023.0          34\n",
       " 13          Greece    1990.0    2023.0          34\n",
       " 14         Hungary    1990.0    2023.0          34\n",
       " 15         Iceland    1990.0    2023.0          34\n",
       " 16         Ireland    1990.0    2023.0          34\n",
       " 17          Israel    1990.0    2023.0          34\n",
       " 18           Italy    1990.0    2023.0          34\n",
       " 19           Japan    1990.0    2023.0          34\n",
       " 20          Latvia    1990.0    2023.0          34\n",
       " 21       Lithuania    1990.0    2023.0          34\n",
       " 22      Luxembourg    1990.0    2023.0          34\n",
       " 23          Mexico    1990.0    2023.0          34\n",
       " 24     Netherlands    1990.0    2023.0          34\n",
       " 25     New Zealand    1990.0    2023.0          34\n",
       " 26          Norway    1990.0    2023.0          34\n",
       " 27          Poland    1990.0    2023.0          34\n",
       " 28        Portugal    1990.0    2023.0          34\n",
       " 29        Slovenia    1990.0    2023.0          34\n",
       " 30     South Korea    1990.0    2023.0          34\n",
       " 31           Spain    1990.0    2023.0          34\n",
       " 32          Sweden    1990.0    2023.0          34\n",
       " 33     Switzerland    1990.0    2023.0          34\n",
       " 34          Turkey    1990.0    2023.0          34\n",
       " 35  United Kingdom    1990.0    2023.0          34\n",
       " 36   United States    1990.0    2023.0          34\n",
       " 37     Unnamed: 38    1990.0    2023.0          34,\n",
       " array(['Australia', 'Austria', 'Belgium', 'Canada', 'Chile', 'Colombia',\n",
       "        'Costa Rica', 'Czechia', 'Denmark', 'Estonia', 'Finland', 'France',\n",
       "        'Germany', 'Greece', 'Hungary', 'Iceland', 'Ireland', 'Israel',\n",
       "        'Italy', 'Japan', 'South Korea', 'Latvia', 'Lithuania',\n",
       "        'Luxembourg', 'Mexico', 'Netherlands', 'New Zealand', 'Norway',\n",
       "        'Poland', 'Portugal', 'Slovenia', 'Spain', 'Sweden', 'Switzerland',\n",
       "        'Turkey', 'United Kingdom', 'United States', 'Unnamed: 38'],\n",
       "       dtype=object),\n",
       " 38)"
      ]
     },
     "execution_count": 15,
     "metadata": {},
     "output_type": "execute_result"
    }
   ],
   "source": [
    "# Check year and country\n",
    "check_year_country(full_df)"
   ]
  },
  {
   "cell_type": "code",
   "execution_count": 16,
   "metadata": {
    "cell_id": "0f59c43fbeab4d729ac01d158b5a3bd6",
    "deepnote_app_block_group_id": null,
    "deepnote_app_block_order": 15,
    "deepnote_app_block_visible": true,
    "deepnote_app_is_code_hidden": true,
    "deepnote_app_is_output_hidden": false,
    "deepnote_cell_type": "code",
    "execution_context_id": "f4e73ac9-64de-42e9-ae88-7619fadf8313",
    "execution_millis": 1,
    "execution_start": 1743011975244,
    "source_hash": "34767c1b"
   },
   "outputs": [],
   "source": [
    "# Fill missing values with No Election\n",
    "full_df['change'].fillna('No Election', inplace=True)"
   ]
  },
  {
   "cell_type": "markdown",
   "metadata": {
    "cell_id": "e2e84aa5ebd543cfbba53777098590e8",
    "deepnote_cell_type": "text-cell-h2",
    "formattedRanges": []
   },
   "source": [
    "## Average the Data"
   ]
  },
  {
   "cell_type": "code",
   "execution_count": 17,
   "metadata": {
    "cell_id": "64acc7ae188b4c4cb781a06e2f13bdd5",
    "deepnote_app_block_group_id": null,
    "deepnote_app_block_order": 16,
    "deepnote_app_block_visible": true,
    "deepnote_app_is_code_hidden": true,
    "deepnote_app_is_output_hidden": false,
    "deepnote_cell_type": "code",
    "deepnote_table_loading": false,
    "deepnote_table_state": {
     "cellFormattingRules": [],
     "columnDisplayNames": [],
     "columnOrder": [
      "country",
      "year",
      "Effective Parliament (highest score=1)",
      "Voter turnout (highest score=1)",
      "Media bias (highest score=1)",
      "GDP",
      "Conflict",
      "Deaths",
      "totalrefugees",
      "ethnicity_ratio",
      "unemployment_percentage_change",
      "inflation_percentage_change",
      "economic_stability_index",
      "social_stability_index",
      "democratic_political_index",
      "change",
      "upwards_year"
     ],
     "conditionalFilters": [],
     "filters": [],
     "hiddenColumnIds": [],
     "pageIndex": 0,
     "pageSize": 10,
     "sortBy": [
      {
       "id": "country",
       "type": "asc"
      }
     ],
     "wrappedTextColumnIds": []
    },
    "execution_context_id": "f4e73ac9-64de-42e9-ae88-7619fadf8313",
    "execution_millis": 2,
    "execution_start": 1743011975295,
    "source_hash": "f8225de8"
   },
   "outputs": [
    {
     "data": {
      "application/vnd.deepnote.dataframe.v3+json": {
       "column_count": 9,
       "columns": [
        {
         "dtype": "object",
         "name": "country",
         "stats": {
          "categories": [
           {
            "count": 34,
            "name": "Australia"
           },
           {
            "count": 34,
            "name": "Austria"
           },
           {
            "count": 1224,
            "name": "36 others"
           }
          ],
          "nan_count": 0,
          "unique_count": 38
         }
        },
        {
         "dtype": "float64",
         "name": "year",
         "stats": {
          "histogram": [
           {
            "bin_end": 1993.3,
            "bin_start": 1990,
            "count": 152
           },
           {
            "bin_end": 1996.6,
            "bin_start": 1993.3,
            "count": 114
           },
           {
            "bin_end": 1999.9,
            "bin_start": 1996.6,
            "count": 114
           },
           {
            "bin_end": 2003.2,
            "bin_start": 1999.9,
            "count": 152
           },
           {
            "bin_end": 2006.5,
            "bin_start": 2003.2,
            "count": 114
           },
           {
            "bin_end": 2009.8,
            "bin_start": 2006.5,
            "count": 114
           },
           {
            "bin_end": 2013.1,
            "bin_start": 2009.8,
            "count": 152
           },
           {
            "bin_end": 2016.4,
            "bin_start": 2013.1,
            "count": 114
           },
           {
            "bin_end": 2019.7,
            "bin_start": 2016.4,
            "count": 114
           },
           {
            "bin_end": 2023,
            "bin_start": 2019.7,
            "count": 152
           }
          ],
          "max": "2023.0",
          "min": "1990.0",
          "nan_count": 0,
          "unique_count": 34
         }
        },
        {
         "dtype": "float64",
         "name": "Voter turnout (highest score=1)",
         "stats": {
          "histogram": [
           {
            "bin_end": 0.31280444444575184,
            "bin_start": 0.24,
            "count": 8
           },
           {
            "bin_end": 0.38560888889150374,
            "bin_start": 0.31280444444575184,
            "count": 36
           },
           {
            "bin_end": 0.45841333333725565,
            "bin_start": 0.38560888889150374,
            "count": 55
           },
           {
            "bin_end": 0.5312177777830075,
            "bin_start": 0.45841333333725565,
            "count": 157
           },
           {
            "bin_end": 0.6040222222287593,
            "bin_start": 0.5312177777830075,
            "count": 170
           },
           {
            "bin_end": 0.6768266666745113,
            "bin_start": 0.6040222222287593,
            "count": 170
           },
           {
            "bin_end": 0.7496311111202631,
            "bin_start": 0.6768266666745113,
            "count": 228
           },
           {
            "bin_end": 0.822435555566015,
            "bin_start": 0.7496311111202631,
            "count": 265
           },
           {
            "bin_end": 0.8952400000117668,
            "bin_start": 0.822435555566015,
            "count": 156
           },
           {
            "bin_end": 0.9680444444575188,
            "bin_start": 0.8952400000117668,
            "count": 13
           }
          ],
          "max": "0.9680444444575188",
          "min": "0.24",
          "nan_count": 34,
          "unique_count": 97
         }
        },
        {
         "dtype": "float64",
         "name": "Freedom of Religion (highest score=1)",
         "stats": {
          "histogram": [
           {
            "bin_end": 0.4699138461538462,
            "bin_start": 0.41,
            "count": 14
           },
           {
            "bin_end": 0.5298276923076923,
            "bin_start": 0.4699138461538462,
            "count": 16
           },
           {
            "bin_end": 0.5897415384615385,
            "bin_start": 0.5298276923076923,
            "count": 4
           },
           {
            "bin_end": 0.6496553846153847,
            "bin_start": 0.5897415384615385,
            "count": 4
           },
           {
            "bin_end": 0.709569230769231,
            "bin_start": 0.6496553846153847,
            "count": 17
           },
           {
            "bin_end": 0.7694830769230772,
            "bin_start": 0.709569230769231,
            "count": 141
           },
           {
            "bin_end": 0.8293969230769233,
            "bin_start": 0.7694830769230772,
            "count": 138
           },
           {
            "bin_end": 0.8893107692307695,
            "bin_start": 0.8293969230769233,
            "count": 152
           },
           {
            "bin_end": 0.9492246153846156,
            "bin_start": 0.8893107692307695,
            "count": 81
           },
           {
            "bin_end": 1.0091384615384618,
            "bin_start": 0.9492246153846156,
            "count": 691
           }
          ],
          "max": "1.0091384615384618",
          "min": "0.41",
          "nan_count": 34,
          "unique_count": 66
         }
        },
        {
         "dtype": "float64",
         "name": "Urban population (% of total population)",
         "stats": {
          "histogram": [
           {
            "bin_end": 52.9424,
            "bin_start": 47.915,
            "count": 34
           },
           {
            "bin_end": 57.9698,
            "bin_start": 52.9424,
            "count": 40
           },
           {
            "bin_end": 62.99719999999999,
            "bin_start": 57.9698,
            "count": 101
           },
           {
            "bin_end": 68.02459999999999,
            "bin_start": 62.99719999999999,
            "count": 113
           },
           {
            "bin_end": 73.05199999999999,
            "bin_start": 68.02459999999999,
            "count": 132
           },
           {
            "bin_end": 78.07939999999999,
            "bin_start": 73.05199999999999,
            "count": 244
           },
           {
            "bin_end": 83.10679999999999,
            "bin_start": 78.07939999999999,
            "count": 231
           },
           {
            "bin_end": 88.13419999999999,
            "bin_start": 83.10679999999999,
            "count": 211
           },
           {
            "bin_end": 93.16159999999999,
            "bin_start": 88.13419999999999,
            "count": 100
           },
           {
            "bin_end": 98.189,
            "bin_start": 93.16159999999999,
            "count": 52
           }
          ],
          "max": "98.189",
          "min": "47.915",
          "nan_count": 34,
          "unique_count": 1226
         }
        },
        {
         "dtype": "float64",
         "name": "ethnicity_ratio",
         "stats": {
          "histogram": [
           {
            "bin_end": 0.1,
            "bin_start": 0,
            "count": 77
           },
           {
            "bin_end": 0.2,
            "bin_start": 0.1,
            "count": 0
           },
           {
            "bin_end": 0.30000000000000004,
            "bin_start": 0.2,
            "count": 0
           },
           {
            "bin_end": 0.4,
            "bin_start": 0.30000000000000004,
            "count": 34
           },
           {
            "bin_end": 0.5,
            "bin_start": 0.4,
            "count": 0
           },
           {
            "bin_end": 0.6000000000000001,
            "bin_start": 0.5,
            "count": 140
           },
           {
            "bin_end": 0.7000000000000001,
            "bin_start": 0.6000000000000001,
            "count": 156
           },
           {
            "bin_end": 0.8,
            "bin_start": 0.7000000000000001,
            "count": 84
           },
           {
            "bin_end": 0.9,
            "bin_start": 0.8,
            "count": 192
           },
           {
            "bin_end": 1,
            "bin_start": 0.9,
            "count": 575
           }
          ],
          "max": "1.0",
          "min": "0.0",
          "nan_count": 34,
          "unique_count": 48
         }
        },
        {
         "dtype": "float64",
         "name": "economic_stability_index",
         "stats": {
          "histogram": [
           {
            "bin_end": -12.796980002410631,
            "bin_start": -16.573879601877085,
            "count": 6
           },
           {
            "bin_end": -9.020080402944178,
            "bin_start": -12.796980002410631,
            "count": 19
           },
           {
            "bin_end": -5.243180803477724,
            "bin_start": -9.020080402944178,
            "count": 46
           },
           {
            "bin_end": -1.4662812040112705,
            "bin_start": -5.243180803477724,
            "count": 226
           },
           {
            "bin_end": 2.310618395455183,
            "bin_start": -1.4662812040112705,
            "count": 721
           },
           {
            "bin_end": 6.087517994921637,
            "bin_start": 2.310618395455183,
            "count": 201
           },
           {
            "bin_end": 9.86441759438809,
            "bin_start": 6.087517994921637,
            "count": 34
           },
           {
            "bin_end": 13.641317193854544,
            "bin_start": 9.86441759438809,
            "count": 4
           },
           {
            "bin_end": 17.418216793320997,
            "bin_start": 13.641317193854544,
            "count": 0
           },
           {
            "bin_end": 21.19511639278745,
            "bin_start": 17.418216793320997,
            "count": 1
           }
          ],
          "max": "21.19511639278745",
          "min": "-16.573879601877085",
          "nan_count": 34,
          "unique_count": 1258
         }
        },
        {
         "dtype": "float64",
         "name": "political_social_index",
         "stats": {
          "histogram": [
           {
            "bin_end": -1.5191524215857959,
            "bin_start": -1.752951814513342,
            "count": 9
           },
           {
            "bin_end": -1.2853530286582497,
            "bin_start": -1.5191524215857959,
            "count": 25
           },
           {
            "bin_end": -1.0515536357307038,
            "bin_start": -1.2853530286582497,
            "count": 38
           },
           {
            "bin_end": -0.8177542428031577,
            "bin_start": -1.0515536357307038,
            "count": 35
           },
           {
            "bin_end": -0.5839548498756115,
            "bin_start": -0.8177542428031577,
            "count": 26
           },
           {
            "bin_end": -0.3501554569480656,
            "bin_start": -0.5839548498756115,
            "count": 75
           },
           {
            "bin_end": -0.11635606402051946,
            "bin_start": -0.3501554569480656,
            "count": 107
           },
           {
            "bin_end": 0.11744332890702669,
            "bin_start": -0.11635606402051946,
            "count": 218
           },
           {
            "bin_end": 0.3512427218345726,
            "bin_start": 0.11744332890702669,
            "count": 549
           },
           {
            "bin_end": 0.5850421147621191,
            "bin_start": 0.3512427218345726,
            "count": 176
           }
          ],
          "max": "0.5850421147621191",
          "min": "-1.752951814513342",
          "nan_count": 34,
          "unique_count": 1256
         }
        },
        {
         "dtype": "object",
         "name": "change",
         "stats": {
          "categories": [
           {
            "count": 949,
            "name": "No Election"
           },
           {
            "count": 175,
            "name": "True"
           },
           {
            "count": 168,
            "name": "False"
           }
          ],
          "nan_count": 0,
          "unique_count": 3
         }
        },
        {
         "dtype": "int64",
         "name": "_deepnote_index_column"
        }
       ],
       "row_count": 1292,
       "rows": [
        {
         "Freedom of Religion (highest score=1)": 0.98,
         "Urban population (% of total population)": 85.433,
         "Voter turnout (highest score=1)": 0.82,
         "_deepnote_index_column": 0,
         "change": "False",
         "country": "Australia",
         "economic_stability_index": -0.0522347559303715,
         "ethnicity_ratio": 0.84,
         "political_social_index": 0.313882588015779,
         "year": 1990
        },
        {
         "Freedom of Religion (highest score=1)": 0.98,
         "Urban population (% of total population)": 85.063,
         "Voter turnout (highest score=1)": 0.83,
         "_deepnote_index_column": 19,
         "change": "No Election",
         "country": "Australia",
         "economic_stability_index": -2.295315079826975,
         "ethnicity_ratio": 0.84,
         "political_social_index": 0.3521010591866946,
         "year": 2009
        },
        {
         "Freedom of Religion (highest score=1)": 0.98,
         "Urban population (% of total population)": 85.182,
         "Voter turnout (highest score=1)": 0.81,
         "_deepnote_index_column": 20,
         "change": "False",
         "country": "Australia",
         "economic_stability_index": -1.4610454850835026,
         "ethnicity_ratio": 0.84,
         "political_social_index": 0.3594903635810837,
         "year": 2010
        },
        {
         "Freedom of Religion (highest score=1)": 0.98,
         "Urban population (% of total population)": 85.3,
         "Voter turnout (highest score=1)": 0.81,
         "_deepnote_index_column": 21,
         "change": "No Election",
         "country": "Australia",
         "economic_stability_index": -1.1137344525307629,
         "ethnicity_ratio": 0.84,
         "political_social_index": 0.3597847005881573,
         "year": 2011
        },
        {
         "Freedom of Religion (highest score=1)": 1,
         "Urban population (% of total population)": 85.402,
         "Voter turnout (highest score=1)": 0.81,
         "_deepnote_index_column": 22,
         "change": "No Election",
         "country": "Australia",
         "economic_stability_index": 0.0103795931215936,
         "ethnicity_ratio": 0.84,
         "political_social_index": 0.3608565840686843,
         "year": 2012
        },
        {
         "Freedom of Religion (highest score=1)": 1,
         "Urban population (% of total population)": 85.502,
         "Voter turnout (highest score=1)": 0.79,
         "_deepnote_index_column": 23,
         "change": "True",
         "country": "Australia",
         "economic_stability_index": -1.2542428502343812,
         "ethnicity_ratio": 0.84,
         "political_social_index": 0.3006528775562802,
         "year": 2013
        },
        {
         "Freedom of Religion (highest score=1)": 1,
         "Urban population (% of total population)": 85.602,
         "Voter turnout (highest score=1)": 0.79,
         "_deepnote_index_column": 24,
         "change": "No Election",
         "country": "Australia",
         "economic_stability_index": -1.0212429517440738,
         "ethnicity_ratio": 0.84,
         "political_social_index": 0.2969450091884431,
         "year": 2014
        },
        {
         "Freedom of Religion (highest score=1)": 0.81,
         "Urban population (% of total population)": 84.943,
         "Voter turnout (highest score=1)": 0.83,
         "_deepnote_index_column": 18,
         "change": "No Election",
         "country": "Australia",
         "economic_stability_index": -0.5784332281794391,
         "ethnicity_ratio": 0.84,
         "political_social_index": 0.349843662772365,
         "year": 2008
        },
        {
         "Freedom of Religion (highest score=1)": 1,
         "Urban population (% of total population)": 85.8,
         "Voter turnout (highest score=1)": 0.79,
         "_deepnote_index_column": 26,
         "change": "False",
         "country": "Australia",
         "economic_stability_index": -0.9232863286364884,
         "ethnicity_ratio": 0.84,
         "political_social_index": 0.2954642747238836,
         "year": 2016
        },
        {
         "Freedom of Religion (highest score=1)": 0.89,
         "Urban population (% of total population)": 86.012,
         "Voter turnout (highest score=1)": 0.79,
         "_deepnote_index_column": 28,
         "change": "No Election",
         "country": "Australia",
         "economic_stability_index": -0.7312122690316173,
         "ethnicity_ratio": 0.84,
         "political_social_index": 0.2523845344574088,
         "year": 2018
        }
       ],
       "type": "dataframe"
      },
      "text/html": [
       "<div>\n",
       "<style scoped>\n",
       "    .dataframe tbody tr th:only-of-type {\n",
       "        vertical-align: middle;\n",
       "    }\n",
       "\n",
       "    .dataframe tbody tr th {\n",
       "        vertical-align: top;\n",
       "    }\n",
       "\n",
       "    .dataframe thead th {\n",
       "        text-align: right;\n",
       "    }\n",
       "</style>\n",
       "<table border=\"1\" class=\"dataframe\">\n",
       "  <thead>\n",
       "    <tr style=\"text-align: right;\">\n",
       "      <th></th>\n",
       "      <th>country</th>\n",
       "      <th>year</th>\n",
       "      <th>Voter turnout (highest score=1)</th>\n",
       "      <th>Freedom of Religion (highest score=1)</th>\n",
       "      <th>Urban population (% of total population)</th>\n",
       "      <th>ethnicity_ratio</th>\n",
       "      <th>economic_stability_index</th>\n",
       "      <th>political_social_index</th>\n",
       "      <th>change</th>\n",
       "    </tr>\n",
       "  </thead>\n",
       "  <tbody>\n",
       "    <tr>\n",
       "      <th>0</th>\n",
       "      <td>Australia</td>\n",
       "      <td>1990.0</td>\n",
       "      <td>0.82</td>\n",
       "      <td>0.98</td>\n",
       "      <td>85.433</td>\n",
       "      <td>0.84</td>\n",
       "      <td>-0.052235</td>\n",
       "      <td>0.313883</td>\n",
       "      <td>False</td>\n",
       "    </tr>\n",
       "    <tr>\n",
       "      <th>1</th>\n",
       "      <td>Australia</td>\n",
       "      <td>1991.0</td>\n",
       "      <td>0.82</td>\n",
       "      <td>0.98</td>\n",
       "      <td>85.403</td>\n",
       "      <td>0.84</td>\n",
       "      <td>-3.753174</td>\n",
       "      <td>0.314108</td>\n",
       "      <td>No Election</td>\n",
       "    </tr>\n",
       "    <tr>\n",
       "      <th>2</th>\n",
       "      <td>Australia</td>\n",
       "      <td>1992.0</td>\n",
       "      <td>0.82</td>\n",
       "      <td>0.98</td>\n",
       "      <td>85.285</td>\n",
       "      <td>0.84</td>\n",
       "      <td>-2.800049</td>\n",
       "      <td>0.314333</td>\n",
       "      <td>No Election</td>\n",
       "    </tr>\n",
       "    <tr>\n",
       "      <th>3</th>\n",
       "      <td>Australia</td>\n",
       "      <td>1993.0</td>\n",
       "      <td>0.84</td>\n",
       "      <td>0.98</td>\n",
       "      <td>85.157</td>\n",
       "      <td>0.84</td>\n",
       "      <td>1.014131</td>\n",
       "      <td>0.317162</td>\n",
       "      <td>False</td>\n",
       "    </tr>\n",
       "    <tr>\n",
       "      <th>4</th>\n",
       "      <td>Australia</td>\n",
       "      <td>1994.0</td>\n",
       "      <td>0.84</td>\n",
       "      <td>0.98</td>\n",
       "      <td>85.028</td>\n",
       "      <td>0.84</td>\n",
       "      <td>0.873492</td>\n",
       "      <td>0.317162</td>\n",
       "      <td>No Election</td>\n",
       "    </tr>\n",
       "    <tr>\n",
       "      <th>...</th>\n",
       "      <td>...</td>\n",
       "      <td>...</td>\n",
       "      <td>...</td>\n",
       "      <td>...</td>\n",
       "      <td>...</td>\n",
       "      <td>...</td>\n",
       "      <td>...</td>\n",
       "      <td>...</td>\n",
       "      <td>...</td>\n",
       "    </tr>\n",
       "    <tr>\n",
       "      <th>1287</th>\n",
       "      <td>Unnamed: 38</td>\n",
       "      <td>2019.0</td>\n",
       "      <td>NaN</td>\n",
       "      <td>NaN</td>\n",
       "      <td>NaN</td>\n",
       "      <td>NaN</td>\n",
       "      <td>NaN</td>\n",
       "      <td>NaN</td>\n",
       "      <td>No Election</td>\n",
       "    </tr>\n",
       "    <tr>\n",
       "      <th>1288</th>\n",
       "      <td>Unnamed: 38</td>\n",
       "      <td>2020.0</td>\n",
       "      <td>NaN</td>\n",
       "      <td>NaN</td>\n",
       "      <td>NaN</td>\n",
       "      <td>NaN</td>\n",
       "      <td>NaN</td>\n",
       "      <td>NaN</td>\n",
       "      <td>No Election</td>\n",
       "    </tr>\n",
       "    <tr>\n",
       "      <th>1289</th>\n",
       "      <td>Unnamed: 38</td>\n",
       "      <td>2021.0</td>\n",
       "      <td>NaN</td>\n",
       "      <td>NaN</td>\n",
       "      <td>NaN</td>\n",
       "      <td>NaN</td>\n",
       "      <td>NaN</td>\n",
       "      <td>NaN</td>\n",
       "      <td>No Election</td>\n",
       "    </tr>\n",
       "    <tr>\n",
       "      <th>1290</th>\n",
       "      <td>Unnamed: 38</td>\n",
       "      <td>2022.0</td>\n",
       "      <td>NaN</td>\n",
       "      <td>NaN</td>\n",
       "      <td>NaN</td>\n",
       "      <td>NaN</td>\n",
       "      <td>NaN</td>\n",
       "      <td>NaN</td>\n",
       "      <td>No Election</td>\n",
       "    </tr>\n",
       "    <tr>\n",
       "      <th>1291</th>\n",
       "      <td>Unnamed: 38</td>\n",
       "      <td>2023.0</td>\n",
       "      <td>NaN</td>\n",
       "      <td>NaN</td>\n",
       "      <td>NaN</td>\n",
       "      <td>NaN</td>\n",
       "      <td>NaN</td>\n",
       "      <td>NaN</td>\n",
       "      <td>No Election</td>\n",
       "    </tr>\n",
       "  </tbody>\n",
       "</table>\n",
       "<p>1292 rows × 9 columns</p>\n",
       "</div>"
      ],
      "text/plain": [
       "          country    year  Voter turnout (highest score=1)  \\\n",
       "0       Australia  1990.0                             0.82   \n",
       "1       Australia  1991.0                             0.82   \n",
       "2       Australia  1992.0                             0.82   \n",
       "3       Australia  1993.0                             0.84   \n",
       "4       Australia  1994.0                             0.84   \n",
       "...           ...     ...                              ...   \n",
       "1287  Unnamed: 38  2019.0                              NaN   \n",
       "1288  Unnamed: 38  2020.0                              NaN   \n",
       "1289  Unnamed: 38  2021.0                              NaN   \n",
       "1290  Unnamed: 38  2022.0                              NaN   \n",
       "1291  Unnamed: 38  2023.0                              NaN   \n",
       "\n",
       "      Freedom of Religion (highest score=1)  \\\n",
       "0                                      0.98   \n",
       "1                                      0.98   \n",
       "2                                      0.98   \n",
       "3                                      0.98   \n",
       "4                                      0.98   \n",
       "...                                     ...   \n",
       "1287                                    NaN   \n",
       "1288                                    NaN   \n",
       "1289                                    NaN   \n",
       "1290                                    NaN   \n",
       "1291                                    NaN   \n",
       "\n",
       "      Urban population (% of total population)  ethnicity_ratio  \\\n",
       "0                                       85.433             0.84   \n",
       "1                                       85.403             0.84   \n",
       "2                                       85.285             0.84   \n",
       "3                                       85.157             0.84   \n",
       "4                                       85.028             0.84   \n",
       "...                                        ...              ...   \n",
       "1287                                       NaN              NaN   \n",
       "1288                                       NaN              NaN   \n",
       "1289                                       NaN              NaN   \n",
       "1290                                       NaN              NaN   \n",
       "1291                                       NaN              NaN   \n",
       "\n",
       "      economic_stability_index  political_social_index       change  \n",
       "0                    -0.052235                0.313883        False  \n",
       "1                    -3.753174                0.314108  No Election  \n",
       "2                    -2.800049                0.314333  No Election  \n",
       "3                     1.014131                0.317162        False  \n",
       "4                     0.873492                0.317162  No Election  \n",
       "...                        ...                     ...          ...  \n",
       "1287                       NaN                     NaN  No Election  \n",
       "1288                       NaN                     NaN  No Election  \n",
       "1289                       NaN                     NaN  No Election  \n",
       "1290                       NaN                     NaN  No Election  \n",
       "1291                       NaN                     NaN  No Election  \n",
       "\n",
       "[1292 rows x 9 columns]"
      ]
     },
     "execution_count": 17,
     "metadata": {},
     "output_type": "execute_result"
    }
   ],
   "source": [
    "# Sort the dataframe\n",
    "full_df = full_df.sort_values(by=['country','year'], ascending=True)\n",
    "full_df = full_df.reset_index()\n",
    "full_df.drop(columns='index', inplace=True)\n",
    "full_df"
   ]
  },
  {
   "cell_type": "code",
   "execution_count": 18,
   "metadata": {
    "cell_id": "fd001dcb5c194ec1865662344b1a892c",
    "deepnote_app_block_group_id": null,
    "deepnote_app_block_order": 17,
    "deepnote_app_block_visible": true,
    "deepnote_app_is_code_hidden": true,
    "deepnote_app_is_output_hidden": false,
    "deepnote_cell_type": "code",
    "execution_context_id": "f4e73ac9-64de-42e9-ae88-7619fadf8313",
    "execution_millis": 0,
    "execution_start": 1743011975354,
    "source_hash": "198a05d9"
   },
   "outputs": [],
   "source": [
    "# Convert change to string\n",
    "full_df['change'] = full_df['change'].astype(str)"
   ]
  },
  {
   "cell_type": "code",
   "execution_count": 19,
   "metadata": {
    "cell_id": "c20ecfb585da4e2eb750ed8dd456bdcd",
    "deepnote_app_block_group_id": null,
    "deepnote_app_block_order": 18,
    "deepnote_app_block_visible": true,
    "deepnote_app_is_code_hidden": true,
    "deepnote_app_is_output_hidden": false,
    "deepnote_cell_type": "code",
    "execution_context_id": "f4e73ac9-64de-42e9-ae88-7619fadf8313",
    "execution_millis": 1,
    "execution_start": 1743011975414,
    "source_hash": "9cb7ddec"
   },
   "outputs": [],
   "source": [
    "# Create a list of unique countries\n",
    "country_list = list(full_df['country'].unique())"
   ]
  },
  {
   "cell_type": "code",
   "execution_count": 20,
   "metadata": {
    "cell_id": "2aa53842e0294cf1829fae720e905acf",
    "deepnote_app_block_group_id": null,
    "deepnote_app_block_order": 19,
    "deepnote_app_block_visible": true,
    "deepnote_app_is_code_hidden": true,
    "deepnote_app_is_output_hidden": false,
    "deepnote_cell_type": "code",
    "execution_context_id": "f4e73ac9-64de-42e9-ae88-7619fadf8313",
    "execution_millis": 0,
    "execution_start": 1743011975474,
    "source_hash": "46bffa62"
   },
   "outputs": [],
   "source": [
    "full_df.loc[(full_df['change'] != 'No Election') & (full_df['year'] < 1994), 'change'] = 'No Election'"
   ]
  },
  {
   "cell_type": "code",
   "execution_count": 21,
   "metadata": {
    "cell_id": "a39ec499db0f4e47babc90144f6d3c87",
    "deepnote_app_block_group_id": null,
    "deepnote_app_block_order": 20,
    "deepnote_app_block_visible": true,
    "deepnote_app_is_code_hidden": true,
    "deepnote_app_is_output_hidden": false,
    "deepnote_cell_type": "code",
    "execution_context_id": "f4e73ac9-64de-42e9-ae88-7619fadf8313",
    "execution_millis": 1,
    "execution_start": 1743011975524,
    "source_hash": "b9fb4cf1"
   },
   "outputs": [],
   "source": [
    "full_df.loc[(full_df['year'] == 1990), 'change'] = 'END'"
   ]
  },
  {
   "cell_type": "code",
   "execution_count": 22,
   "metadata": {
    "cell_id": "4d94341ca55b4529bfbe22fb532888cb",
    "deepnote_app_block_group_id": null,
    "deepnote_app_block_order": 21,
    "deepnote_app_block_visible": true,
    "deepnote_app_is_code_hidden": true,
    "deepnote_app_is_output_hidden": false,
    "deepnote_cell_type": "code",
    "execution_context_id": "f4e73ac9-64de-42e9-ae88-7619fadf8313",
    "execution_millis": 0,
    "execution_start": 1743011975574,
    "source_hash": "90fa55dd"
   },
   "outputs": [],
   "source": [
    "# Create a new column 'upwards_year' and 'downwards_year'\n",
    "df_new = pd.DataFrame(columns=list(full_df.columns))\n",
    "df_new.drop(columns='year', inplace=True)\n",
    "year_list = []"
   ]
  },
  {
   "cell_type": "code",
   "execution_count": 23,
   "metadata": {
    "cell_id": "0ec8eab542334e21ab82328ea9cc0fd7",
    "deepnote_app_block_group_id": null,
    "deepnote_app_block_order": 22,
    "deepnote_app_block_visible": true,
    "deepnote_app_is_code_hidden": true,
    "deepnote_app_is_output_hidden": false,
    "deepnote_cell_type": "code",
    "execution_context_id": "f4e73ac9-64de-42e9-ae88-7619fadf8313",
    "execution_millis": 106,
    "execution_start": 1743011975665,
    "source_hash": "dc238c39"
   },
   "outputs": [],
   "source": [
    "# Loop through each country\n",
    "for country in country_list:\n",
    "    for idx, row in full_df[full_df['country'] == country].iterrows():\n",
    "        if row['change'] == 'END':\n",
    "            \n",
    "            year=row['year']\n",
    "            full_df.at[idx, \"upwards_year\"] = year\n",
    "        elif row['change'] == 'No Election':\n",
    "            full_df.at[idx, \"upwards_year\"] = year\n",
    "        else:\n",
    "            full_df.at[idx, \"upwards_year\"] = year\n",
    "            year=row['year']"
   ]
  },
  {
   "cell_type": "code",
   "execution_count": 24,
   "metadata": {
    "cell_id": "2f0ab4ef18084204897ebf36996f0bb6",
    "deepnote_app_block_group_id": null,
    "deepnote_app_block_order": 23,
    "deepnote_app_block_visible": true,
    "deepnote_app_is_code_hidden": true,
    "deepnote_app_is_output_hidden": false,
    "deepnote_cell_type": "code",
    "deepnote_table_loading": false,
    "deepnote_table_state": {
     "cellFormattingRules": [],
     "columnDisplayNames": [],
     "columnOrder": [
      "country",
      "year",
      "Effective Parliament (highest score=1)",
      "Voter turnout (highest score=1)",
      "Media bias (highest score=1)",
      "GDP",
      "Conflict",
      "Deaths",
      "totalrefugees",
      "ethnicity_ratio",
      "economic_stability_index",
      "social_stability_index",
      "democratic_political_index",
      "change",
      "upwards_year"
     ],
     "conditionalFilters": [],
     "filters": [],
     "hiddenColumnIds": [],
     "pageIndex": 0,
     "pageSize": 25,
     "sortBy": [],
     "wrappedTextColumnIds": []
    },
    "execution_context_id": "f4e73ac9-64de-42e9-ae88-7619fadf8313",
    "execution_millis": 2,
    "execution_start": 1743011975824,
    "source_hash": "e852eac8"
   },
   "outputs": [
    {
     "data": {
      "application/vnd.deepnote.dataframe.v3+json": {
       "column_count": 10,
       "columns": [
        {
         "dtype": "object",
         "name": "country",
         "stats": {
          "categories": [
           {
            "count": 34,
            "name": "Australia"
           },
           {
            "count": 34,
            "name": "Austria"
           },
           {
            "count": 1224,
            "name": "36 others"
           }
          ],
          "nan_count": 0,
          "unique_count": 38
         }
        },
        {
         "dtype": "float64",
         "name": "year",
         "stats": {
          "histogram": [
           {
            "bin_end": 1993.3,
            "bin_start": 1990,
            "count": 152
           },
           {
            "bin_end": 1996.6,
            "bin_start": 1993.3,
            "count": 114
           },
           {
            "bin_end": 1999.9,
            "bin_start": 1996.6,
            "count": 114
           },
           {
            "bin_end": 2003.2,
            "bin_start": 1999.9,
            "count": 152
           },
           {
            "bin_end": 2006.5,
            "bin_start": 2003.2,
            "count": 114
           },
           {
            "bin_end": 2009.8,
            "bin_start": 2006.5,
            "count": 114
           },
           {
            "bin_end": 2013.1,
            "bin_start": 2009.8,
            "count": 152
           },
           {
            "bin_end": 2016.4,
            "bin_start": 2013.1,
            "count": 114
           },
           {
            "bin_end": 2019.7,
            "bin_start": 2016.4,
            "count": 114
           },
           {
            "bin_end": 2023,
            "bin_start": 2019.7,
            "count": 152
           }
          ],
          "max": "2023.0",
          "min": "1990.0",
          "nan_count": 0,
          "unique_count": 34
         }
        },
        {
         "dtype": "float64",
         "name": "Voter turnout (highest score=1)",
         "stats": {
          "histogram": [
           {
            "bin_end": 0.31280444444575184,
            "bin_start": 0.24,
            "count": 8
           },
           {
            "bin_end": 0.38560888889150374,
            "bin_start": 0.31280444444575184,
            "count": 36
           },
           {
            "bin_end": 0.45841333333725565,
            "bin_start": 0.38560888889150374,
            "count": 55
           },
           {
            "bin_end": 0.5312177777830075,
            "bin_start": 0.45841333333725565,
            "count": 157
           },
           {
            "bin_end": 0.6040222222287593,
            "bin_start": 0.5312177777830075,
            "count": 170
           },
           {
            "bin_end": 0.6768266666745113,
            "bin_start": 0.6040222222287593,
            "count": 170
           },
           {
            "bin_end": 0.7496311111202631,
            "bin_start": 0.6768266666745113,
            "count": 228
           },
           {
            "bin_end": 0.822435555566015,
            "bin_start": 0.7496311111202631,
            "count": 265
           },
           {
            "bin_end": 0.8952400000117668,
            "bin_start": 0.822435555566015,
            "count": 156
           },
           {
            "bin_end": 0.9680444444575188,
            "bin_start": 0.8952400000117668,
            "count": 13
           }
          ],
          "max": "0.9680444444575188",
          "min": "0.24",
          "nan_count": 34,
          "unique_count": 97
         }
        },
        {
         "dtype": "float64",
         "name": "Freedom of Religion (highest score=1)",
         "stats": {
          "histogram": [
           {
            "bin_end": 0.4699138461538462,
            "bin_start": 0.41,
            "count": 14
           },
           {
            "bin_end": 0.5298276923076923,
            "bin_start": 0.4699138461538462,
            "count": 16
           },
           {
            "bin_end": 0.5897415384615385,
            "bin_start": 0.5298276923076923,
            "count": 4
           },
           {
            "bin_end": 0.6496553846153847,
            "bin_start": 0.5897415384615385,
            "count": 4
           },
           {
            "bin_end": 0.709569230769231,
            "bin_start": 0.6496553846153847,
            "count": 17
           },
           {
            "bin_end": 0.7694830769230772,
            "bin_start": 0.709569230769231,
            "count": 141
           },
           {
            "bin_end": 0.8293969230769233,
            "bin_start": 0.7694830769230772,
            "count": 138
           },
           {
            "bin_end": 0.8893107692307695,
            "bin_start": 0.8293969230769233,
            "count": 152
           },
           {
            "bin_end": 0.9492246153846156,
            "bin_start": 0.8893107692307695,
            "count": 81
           },
           {
            "bin_end": 1.0091384615384618,
            "bin_start": 0.9492246153846156,
            "count": 691
           }
          ],
          "max": "1.0091384615384618",
          "min": "0.41",
          "nan_count": 34,
          "unique_count": 66
         }
        },
        {
         "dtype": "float64",
         "name": "Urban population (% of total population)",
         "stats": {
          "histogram": [
           {
            "bin_end": 52.9424,
            "bin_start": 47.915,
            "count": 34
           },
           {
            "bin_end": 57.9698,
            "bin_start": 52.9424,
            "count": 40
           },
           {
            "bin_end": 62.99719999999999,
            "bin_start": 57.9698,
            "count": 101
           },
           {
            "bin_end": 68.02459999999999,
            "bin_start": 62.99719999999999,
            "count": 113
           },
           {
            "bin_end": 73.05199999999999,
            "bin_start": 68.02459999999999,
            "count": 132
           },
           {
            "bin_end": 78.07939999999999,
            "bin_start": 73.05199999999999,
            "count": 244
           },
           {
            "bin_end": 83.10679999999999,
            "bin_start": 78.07939999999999,
            "count": 231
           },
           {
            "bin_end": 88.13419999999999,
            "bin_start": 83.10679999999999,
            "count": 211
           },
           {
            "bin_end": 93.16159999999999,
            "bin_start": 88.13419999999999,
            "count": 100
           },
           {
            "bin_end": 98.189,
            "bin_start": 93.16159999999999,
            "count": 52
           }
          ],
          "max": "98.189",
          "min": "47.915",
          "nan_count": 34,
          "unique_count": 1226
         }
        },
        {
         "dtype": "float64",
         "name": "ethnicity_ratio",
         "stats": {
          "histogram": [
           {
            "bin_end": 0.1,
            "bin_start": 0,
            "count": 77
           },
           {
            "bin_end": 0.2,
            "bin_start": 0.1,
            "count": 0
           },
           {
            "bin_end": 0.30000000000000004,
            "bin_start": 0.2,
            "count": 0
           },
           {
            "bin_end": 0.4,
            "bin_start": 0.30000000000000004,
            "count": 34
           },
           {
            "bin_end": 0.5,
            "bin_start": 0.4,
            "count": 0
           },
           {
            "bin_end": 0.6000000000000001,
            "bin_start": 0.5,
            "count": 140
           },
           {
            "bin_end": 0.7000000000000001,
            "bin_start": 0.6000000000000001,
            "count": 156
           },
           {
            "bin_end": 0.8,
            "bin_start": 0.7000000000000001,
            "count": 84
           },
           {
            "bin_end": 0.9,
            "bin_start": 0.8,
            "count": 192
           },
           {
            "bin_end": 1,
            "bin_start": 0.9,
            "count": 575
           }
          ],
          "max": "1.0",
          "min": "0.0",
          "nan_count": 34,
          "unique_count": 48
         }
        },
        {
         "dtype": "float64",
         "name": "economic_stability_index",
         "stats": {
          "histogram": [
           {
            "bin_end": -12.796980002410631,
            "bin_start": -16.573879601877085,
            "count": 6
           },
           {
            "bin_end": -9.020080402944178,
            "bin_start": -12.796980002410631,
            "count": 19
           },
           {
            "bin_end": -5.243180803477724,
            "bin_start": -9.020080402944178,
            "count": 46
           },
           {
            "bin_end": -1.4662812040112705,
            "bin_start": -5.243180803477724,
            "count": 226
           },
           {
            "bin_end": 2.310618395455183,
            "bin_start": -1.4662812040112705,
            "count": 721
           },
           {
            "bin_end": 6.087517994921637,
            "bin_start": 2.310618395455183,
            "count": 201
           },
           {
            "bin_end": 9.86441759438809,
            "bin_start": 6.087517994921637,
            "count": 34
           },
           {
            "bin_end": 13.641317193854544,
            "bin_start": 9.86441759438809,
            "count": 4
           },
           {
            "bin_end": 17.418216793320997,
            "bin_start": 13.641317193854544,
            "count": 0
           },
           {
            "bin_end": 21.19511639278745,
            "bin_start": 17.418216793320997,
            "count": 1
           }
          ],
          "max": "21.19511639278745",
          "min": "-16.573879601877085",
          "nan_count": 34,
          "unique_count": 1258
         }
        },
        {
         "dtype": "float64",
         "name": "political_social_index",
         "stats": {
          "histogram": [
           {
            "bin_end": -1.5191524215857959,
            "bin_start": -1.752951814513342,
            "count": 9
           },
           {
            "bin_end": -1.2853530286582497,
            "bin_start": -1.5191524215857959,
            "count": 25
           },
           {
            "bin_end": -1.0515536357307038,
            "bin_start": -1.2853530286582497,
            "count": 38
           },
           {
            "bin_end": -0.8177542428031577,
            "bin_start": -1.0515536357307038,
            "count": 35
           },
           {
            "bin_end": -0.5839548498756115,
            "bin_start": -0.8177542428031577,
            "count": 26
           },
           {
            "bin_end": -0.3501554569480656,
            "bin_start": -0.5839548498756115,
            "count": 75
           },
           {
            "bin_end": -0.11635606402051946,
            "bin_start": -0.3501554569480656,
            "count": 107
           },
           {
            "bin_end": 0.11744332890702669,
            "bin_start": -0.11635606402051946,
            "count": 218
           },
           {
            "bin_end": 0.3512427218345726,
            "bin_start": 0.11744332890702669,
            "count": 549
           },
           {
            "bin_end": 0.5850421147621191,
            "bin_start": 0.3512427218345726,
            "count": 176
           }
          ],
          "max": "0.5850421147621191",
          "min": "-1.752951814513342",
          "nan_count": 34,
          "unique_count": 1256
         }
        },
        {
         "dtype": "object",
         "name": "change",
         "stats": {
          "categories": [
           {
            "count": 950,
            "name": "No Election"
           },
           {
            "count": 160,
            "name": "True"
           },
           {
            "count": 182,
            "name": "2 others"
           }
          ],
          "nan_count": 0,
          "unique_count": 4
         }
        },
        {
         "dtype": "float64",
         "name": "upwards_year",
         "stats": {
          "histogram": [
           {
            "bin_end": 1993.2,
            "bin_start": 1990,
            "count": 270
           },
           {
            "bin_end": 1996.4,
            "bin_start": 1993.2,
            "count": 117
           },
           {
            "bin_end": 1999.6,
            "bin_start": 1996.4,
            "count": 111
           },
           {
            "bin_end": 2002.8,
            "bin_start": 1999.6,
            "count": 115
           },
           {
            "bin_end": 2006,
            "bin_start": 2002.8,
            "count": 96
           },
           {
            "bin_end": 2009.2,
            "bin_start": 2006,
            "count": 152
           },
           {
            "bin_end": 2012.4,
            "bin_start": 2009.2,
            "count": 114
           },
           {
            "bin_end": 2015.6,
            "bin_start": 2012.4,
            "count": 118
           },
           {
            "bin_end": 2018.8,
            "bin_start": 2015.6,
            "count": 104
           },
           {
            "bin_end": 2022,
            "bin_start": 2018.8,
            "count": 95
           }
          ],
          "max": "2022.0",
          "min": "1990.0",
          "nan_count": 0,
          "unique_count": 30
         }
        },
        {
         "dtype": "int64",
         "name": "_deepnote_index_column"
        }
       ],
       "row_count": 1292,
       "rows": [
        {
         "Freedom of Religion (highest score=1)": 0.98,
         "Urban population (% of total population)": 85.433,
         "Voter turnout (highest score=1)": 0.82,
         "_deepnote_index_column": 0,
         "change": "END",
         "country": "Australia",
         "economic_stability_index": -0.0522347559303715,
         "ethnicity_ratio": 0.84,
         "political_social_index": 0.313882588015779,
         "upwards_year": 1990,
         "year": 1990
        },
        {
         "Freedom of Religion (highest score=1)": 0.98,
         "Urban population (% of total population)": 85.403,
         "Voter turnout (highest score=1)": 0.82,
         "_deepnote_index_column": 1,
         "change": "No Election",
         "country": "Australia",
         "economic_stability_index": -3.753174083667549,
         "ethnicity_ratio": 0.84,
         "political_social_index": 0.3141078100078595,
         "upwards_year": 1990,
         "year": 1991
        },
        {
         "Freedom of Religion (highest score=1)": 0.98,
         "Urban population (% of total population)": 85.285,
         "Voter turnout (highest score=1)": 0.82,
         "_deepnote_index_column": 2,
         "change": "No Election",
         "country": "Australia",
         "economic_stability_index": -2.800049432146155,
         "ethnicity_ratio": 0.84,
         "political_social_index": 0.3143330319999406,
         "upwards_year": 1990,
         "year": 1992
        },
        {
         "Freedom of Religion (highest score=1)": 0.98,
         "Urban population (% of total population)": 85.157,
         "Voter turnout (highest score=1)": 0.84,
         "_deepnote_index_column": 3,
         "change": "No Election",
         "country": "Australia",
         "economic_stability_index": 1.014131277394964,
         "ethnicity_ratio": 0.84,
         "political_social_index": 0.3171615800294368,
         "upwards_year": 1990,
         "year": 1993
        },
        {
         "Freedom of Religion (highest score=1)": 0.98,
         "Urban population (% of total population)": 85.028,
         "Voter turnout (highest score=1)": 0.84,
         "_deepnote_index_column": 4,
         "change": "No Election",
         "country": "Australia",
         "economic_stability_index": 0.8734923766766084,
         "ethnicity_ratio": 0.84,
         "political_social_index": 0.3171615800294368,
         "upwards_year": 1990,
         "year": 1994
        },
        {
         "Freedom of Religion (highest score=1)": 0.98,
         "Urban population (% of total population)": 84.898,
         "Voter turnout (highest score=1)": 0.84,
         "_deepnote_index_column": 5,
         "change": "No Election",
         "country": "Australia",
         "economic_stability_index": 0.623006327898904,
         "ethnicity_ratio": 0.84,
         "political_social_index": 0.319009890181828,
         "upwards_year": 1990,
         "year": 1995
        },
        {
         "Freedom of Religion (highest score=1)": 0.98,
         "Urban population (% of total population)": 84.767,
         "Voter turnout (highest score=1)": 0.83,
         "_deepnote_index_column": 6,
         "change": "True",
         "country": "Australia",
         "economic_stability_index": 0.5011999704600858,
         "ethnicity_ratio": 0.84,
         "political_social_index": 0.3207331038645458,
         "upwards_year": 1990,
         "year": 1996
        },
        {
         "Freedom of Religion (highest score=1)": 0.98,
         "Urban population (% of total population)": 84.636,
         "Voter turnout (highest score=1)": 0.83,
         "_deepnote_index_column": 7,
         "change": "No Election",
         "country": "Australia",
         "economic_stability_index": 0.6852675694487914,
         "ethnicity_ratio": 0.84,
         "political_social_index": 0.3201857922896083,
         "upwards_year": 1996,
         "year": 1997
        },
        {
         "Freedom of Religion (highest score=1)": 0.98,
         "Urban population (% of total population)": 84.503,
         "Voter turnout (highest score=1)": 0.82,
         "_deepnote_index_column": 8,
         "change": "False",
         "country": "Australia",
         "economic_stability_index": 1.515628618159687,
         "ethnicity_ratio": 0.84,
         "political_social_index": 0.3216343528648399,
         "upwards_year": 1996,
         "year": 1998
        },
        {
         "Freedom of Religion (highest score=1)": 0.98,
         "Urban population (% of total population)": 84.37,
         "Voter turnout (highest score=1)": 0.82,
         "_deepnote_index_column": 9,
         "change": "No Election",
         "country": "Australia",
         "economic_stability_index": 1.77534709135403,
         "ethnicity_ratio": 0.84,
         "political_social_index": 0.3224621020620898,
         "upwards_year": 1998,
         "year": 1999
        },
        {
         "Freedom of Religion (highest score=1)": 0.98,
         "Urban population (% of total population)": 84.235,
         "Voter turnout (highest score=1)": 0.82,
         "_deepnote_index_column": 10,
         "change": "No Election",
         "country": "Australia",
         "economic_stability_index": 0.6293649584975013,
         "ethnicity_ratio": 0.84,
         "political_social_index": 0.323835124454796,
         "upwards_year": 1998,
         "year": 2000
        },
        {
         "Freedom of Religion (highest score=1)": 0.98,
         "Urban population (% of total population)": 84.1,
         "Voter turnout (highest score=1)": 0.84,
         "_deepnote_index_column": 11,
         "change": "False",
         "country": "Australia",
         "economic_stability_index": -1.3860570251956017,
         "ethnicity_ratio": 0.84,
         "political_social_index": 0.3277258021143596,
         "upwards_year": 1998,
         "year": 2001
        },
        {
         "Freedom of Religion (highest score=1)": 0.98,
         "Urban population (% of total population)": 84.222,
         "Voter turnout (highest score=1)": 0.84,
         "_deepnote_index_column": 12,
         "change": "No Election",
         "country": "Australia",
         "economic_stability_index": 0.6939597110466771,
         "ethnicity_ratio": 0.84,
         "political_social_index": 0.3260860471251247,
         "upwards_year": 2001,
         "year": 2002
        },
        {
         "Freedom of Religion (highest score=1)": 0.98,
         "Urban population (% of total population)": 84.343,
         "Voter turnout (highest score=1)": 0.84,
         "_deepnote_index_column": 13,
         "change": "No Election",
         "country": "Australia",
         "economic_stability_index": -0.1978356770565262,
         "ethnicity_ratio": 0.84,
         "political_social_index": 0.330600839953784,
         "upwards_year": 2001,
         "year": 2003
        },
        {
         "Freedom of Religion (highest score=1)": 0.98,
         "Urban population (% of total population)": 84.463,
         "Voter turnout (highest score=1)": 0.83,
         "_deepnote_index_column": 14,
         "change": "False",
         "country": "Australia",
         "economic_stability_index": 1.0063247097227073,
         "ethnicity_ratio": 0.84,
         "political_social_index": 0.3292958324696921,
         "upwards_year": 2001,
         "year": 2004
        },
        {
         "Freedom of Religion (highest score=1)": 0.98,
         "Urban population (% of total population)": 84.582,
         "Voter turnout (highest score=1)": 0.83,
         "_deepnote_index_column": 15,
         "change": "No Election",
         "country": "Australia",
         "economic_stability_index": -0.2034906306077764,
         "ethnicity_ratio": 0.84,
         "political_social_index": 0.3272227918796448,
         "upwards_year": 2004,
         "year": 2005
        },
        {
         "Freedom of Religion (highest score=1)": 0.98,
         "Urban population (% of total population)": 84.7,
         "Voter turnout (highest score=1)": 0.83,
         "_deepnote_index_column": 16,
         "change": "No Election",
         "country": "Australia",
         "economic_stability_index": -0.7315735711409702,
         "ethnicity_ratio": 0.84,
         "political_social_index": 0.3234962760232691,
         "upwards_year": 2004,
         "year": 2006
        },
        {
         "Freedom of Religion (highest score=1)": 0.98,
         "Urban population (% of total population)": 84.822,
         "Voter turnout (highest score=1)": 0.83,
         "_deepnote_index_column": 17,
         "change": "True",
         "country": "Australia",
         "economic_stability_index": -0.2128480046702951,
         "ethnicity_ratio": 0.84,
         "political_social_index": 0.3441484854475773,
         "upwards_year": 2004,
         "year": 2007
        },
        {
         "Freedom of Religion (highest score=1)": 0.81,
         "Urban population (% of total population)": 84.943,
         "Voter turnout (highest score=1)": 0.83,
         "_deepnote_index_column": 18,
         "change": "No Election",
         "country": "Australia",
         "economic_stability_index": -0.5784332281794391,
         "ethnicity_ratio": 0.84,
         "political_social_index": 0.349843662772365,
         "upwards_year": 2007,
         "year": 2008
        },
        {
         "Freedom of Religion (highest score=1)": 0.98,
         "Urban population (% of total population)": 85.063,
         "Voter turnout (highest score=1)": 0.83,
         "_deepnote_index_column": 19,
         "change": "No Election",
         "country": "Australia",
         "economic_stability_index": -2.295315079826975,
         "ethnicity_ratio": 0.84,
         "political_social_index": 0.3521010591866946,
         "upwards_year": 2007,
         "year": 2009
        },
        {
         "Freedom of Religion (highest score=1)": 0.98,
         "Urban population (% of total population)": 85.182,
         "Voter turnout (highest score=1)": 0.81,
         "_deepnote_index_column": 20,
         "change": "False",
         "country": "Australia",
         "economic_stability_index": -1.4610454850835026,
         "ethnicity_ratio": 0.84,
         "political_social_index": 0.3594903635810837,
         "upwards_year": 2007,
         "year": 2010
        },
        {
         "Freedom of Religion (highest score=1)": 0.98,
         "Urban population (% of total population)": 85.3,
         "Voter turnout (highest score=1)": 0.81,
         "_deepnote_index_column": 21,
         "change": "No Election",
         "country": "Australia",
         "economic_stability_index": -1.1137344525307629,
         "ethnicity_ratio": 0.84,
         "political_social_index": 0.3597847005881573,
         "upwards_year": 2010,
         "year": 2011
        },
        {
         "Freedom of Religion (highest score=1)": 1,
         "Urban population (% of total population)": 85.402,
         "Voter turnout (highest score=1)": 0.81,
         "_deepnote_index_column": 22,
         "change": "No Election",
         "country": "Australia",
         "economic_stability_index": 0.0103795931215936,
         "ethnicity_ratio": 0.84,
         "political_social_index": 0.3608565840686843,
         "upwards_year": 2010,
         "year": 2012
        },
        {
         "Freedom of Religion (highest score=1)": 1,
         "Urban population (% of total population)": 85.502,
         "Voter turnout (highest score=1)": 0.79,
         "_deepnote_index_column": 23,
         "change": "True",
         "country": "Australia",
         "economic_stability_index": -1.2542428502343812,
         "ethnicity_ratio": 0.84,
         "political_social_index": 0.3006528775562802,
         "upwards_year": 2010,
         "year": 2013
        },
        {
         "Freedom of Religion (highest score=1)": 1,
         "Urban population (% of total population)": 85.602,
         "Voter turnout (highest score=1)": 0.79,
         "_deepnote_index_column": 24,
         "change": "No Election",
         "country": "Australia",
         "economic_stability_index": -1.0212429517440738,
         "ethnicity_ratio": 0.84,
         "political_social_index": 0.2969450091884431,
         "upwards_year": 2013,
         "year": 2014
        }
       ],
       "type": "dataframe"
      },
      "text/html": [
       "<div>\n",
       "<style scoped>\n",
       "    .dataframe tbody tr th:only-of-type {\n",
       "        vertical-align: middle;\n",
       "    }\n",
       "\n",
       "    .dataframe tbody tr th {\n",
       "        vertical-align: top;\n",
       "    }\n",
       "\n",
       "    .dataframe thead th {\n",
       "        text-align: right;\n",
       "    }\n",
       "</style>\n",
       "<table border=\"1\" class=\"dataframe\">\n",
       "  <thead>\n",
       "    <tr style=\"text-align: right;\">\n",
       "      <th></th>\n",
       "      <th>country</th>\n",
       "      <th>year</th>\n",
       "      <th>Voter turnout (highest score=1)</th>\n",
       "      <th>Freedom of Religion (highest score=1)</th>\n",
       "      <th>Urban population (% of total population)</th>\n",
       "      <th>ethnicity_ratio</th>\n",
       "      <th>economic_stability_index</th>\n",
       "      <th>political_social_index</th>\n",
       "      <th>change</th>\n",
       "      <th>upwards_year</th>\n",
       "    </tr>\n",
       "  </thead>\n",
       "  <tbody>\n",
       "    <tr>\n",
       "      <th>0</th>\n",
       "      <td>Australia</td>\n",
       "      <td>1990.0</td>\n",
       "      <td>0.82</td>\n",
       "      <td>0.98</td>\n",
       "      <td>85.433</td>\n",
       "      <td>0.84</td>\n",
       "      <td>-0.052235</td>\n",
       "      <td>0.313883</td>\n",
       "      <td>END</td>\n",
       "      <td>1990.0</td>\n",
       "    </tr>\n",
       "    <tr>\n",
       "      <th>1</th>\n",
       "      <td>Australia</td>\n",
       "      <td>1991.0</td>\n",
       "      <td>0.82</td>\n",
       "      <td>0.98</td>\n",
       "      <td>85.403</td>\n",
       "      <td>0.84</td>\n",
       "      <td>-3.753174</td>\n",
       "      <td>0.314108</td>\n",
       "      <td>No Election</td>\n",
       "      <td>1990.0</td>\n",
       "    </tr>\n",
       "    <tr>\n",
       "      <th>2</th>\n",
       "      <td>Australia</td>\n",
       "      <td>1992.0</td>\n",
       "      <td>0.82</td>\n",
       "      <td>0.98</td>\n",
       "      <td>85.285</td>\n",
       "      <td>0.84</td>\n",
       "      <td>-2.800049</td>\n",
       "      <td>0.314333</td>\n",
       "      <td>No Election</td>\n",
       "      <td>1990.0</td>\n",
       "    </tr>\n",
       "    <tr>\n",
       "      <th>3</th>\n",
       "      <td>Australia</td>\n",
       "      <td>1993.0</td>\n",
       "      <td>0.84</td>\n",
       "      <td>0.98</td>\n",
       "      <td>85.157</td>\n",
       "      <td>0.84</td>\n",
       "      <td>1.014131</td>\n",
       "      <td>0.317162</td>\n",
       "      <td>No Election</td>\n",
       "      <td>1990.0</td>\n",
       "    </tr>\n",
       "    <tr>\n",
       "      <th>4</th>\n",
       "      <td>Australia</td>\n",
       "      <td>1994.0</td>\n",
       "      <td>0.84</td>\n",
       "      <td>0.98</td>\n",
       "      <td>85.028</td>\n",
       "      <td>0.84</td>\n",
       "      <td>0.873492</td>\n",
       "      <td>0.317162</td>\n",
       "      <td>No Election</td>\n",
       "      <td>1990.0</td>\n",
       "    </tr>\n",
       "    <tr>\n",
       "      <th>...</th>\n",
       "      <td>...</td>\n",
       "      <td>...</td>\n",
       "      <td>...</td>\n",
       "      <td>...</td>\n",
       "      <td>...</td>\n",
       "      <td>...</td>\n",
       "      <td>...</td>\n",
       "      <td>...</td>\n",
       "      <td>...</td>\n",
       "      <td>...</td>\n",
       "    </tr>\n",
       "    <tr>\n",
       "      <th>1287</th>\n",
       "      <td>Unnamed: 38</td>\n",
       "      <td>2019.0</td>\n",
       "      <td>NaN</td>\n",
       "      <td>NaN</td>\n",
       "      <td>NaN</td>\n",
       "      <td>NaN</td>\n",
       "      <td>NaN</td>\n",
       "      <td>NaN</td>\n",
       "      <td>No Election</td>\n",
       "      <td>1990.0</td>\n",
       "    </tr>\n",
       "    <tr>\n",
       "      <th>1288</th>\n",
       "      <td>Unnamed: 38</td>\n",
       "      <td>2020.0</td>\n",
       "      <td>NaN</td>\n",
       "      <td>NaN</td>\n",
       "      <td>NaN</td>\n",
       "      <td>NaN</td>\n",
       "      <td>NaN</td>\n",
       "      <td>NaN</td>\n",
       "      <td>No Election</td>\n",
       "      <td>1990.0</td>\n",
       "    </tr>\n",
       "    <tr>\n",
       "      <th>1289</th>\n",
       "      <td>Unnamed: 38</td>\n",
       "      <td>2021.0</td>\n",
       "      <td>NaN</td>\n",
       "      <td>NaN</td>\n",
       "      <td>NaN</td>\n",
       "      <td>NaN</td>\n",
       "      <td>NaN</td>\n",
       "      <td>NaN</td>\n",
       "      <td>No Election</td>\n",
       "      <td>1990.0</td>\n",
       "    </tr>\n",
       "    <tr>\n",
       "      <th>1290</th>\n",
       "      <td>Unnamed: 38</td>\n",
       "      <td>2022.0</td>\n",
       "      <td>NaN</td>\n",
       "      <td>NaN</td>\n",
       "      <td>NaN</td>\n",
       "      <td>NaN</td>\n",
       "      <td>NaN</td>\n",
       "      <td>NaN</td>\n",
       "      <td>No Election</td>\n",
       "      <td>1990.0</td>\n",
       "    </tr>\n",
       "    <tr>\n",
       "      <th>1291</th>\n",
       "      <td>Unnamed: 38</td>\n",
       "      <td>2023.0</td>\n",
       "      <td>NaN</td>\n",
       "      <td>NaN</td>\n",
       "      <td>NaN</td>\n",
       "      <td>NaN</td>\n",
       "      <td>NaN</td>\n",
       "      <td>NaN</td>\n",
       "      <td>No Election</td>\n",
       "      <td>1990.0</td>\n",
       "    </tr>\n",
       "  </tbody>\n",
       "</table>\n",
       "<p>1292 rows × 10 columns</p>\n",
       "</div>"
      ],
      "text/plain": [
       "          country    year  Voter turnout (highest score=1)  \\\n",
       "0       Australia  1990.0                             0.82   \n",
       "1       Australia  1991.0                             0.82   \n",
       "2       Australia  1992.0                             0.82   \n",
       "3       Australia  1993.0                             0.84   \n",
       "4       Australia  1994.0                             0.84   \n",
       "...           ...     ...                              ...   \n",
       "1287  Unnamed: 38  2019.0                              NaN   \n",
       "1288  Unnamed: 38  2020.0                              NaN   \n",
       "1289  Unnamed: 38  2021.0                              NaN   \n",
       "1290  Unnamed: 38  2022.0                              NaN   \n",
       "1291  Unnamed: 38  2023.0                              NaN   \n",
       "\n",
       "      Freedom of Religion (highest score=1)  \\\n",
       "0                                      0.98   \n",
       "1                                      0.98   \n",
       "2                                      0.98   \n",
       "3                                      0.98   \n",
       "4                                      0.98   \n",
       "...                                     ...   \n",
       "1287                                    NaN   \n",
       "1288                                    NaN   \n",
       "1289                                    NaN   \n",
       "1290                                    NaN   \n",
       "1291                                    NaN   \n",
       "\n",
       "      Urban population (% of total population)  ethnicity_ratio  \\\n",
       "0                                       85.433             0.84   \n",
       "1                                       85.403             0.84   \n",
       "2                                       85.285             0.84   \n",
       "3                                       85.157             0.84   \n",
       "4                                       85.028             0.84   \n",
       "...                                        ...              ...   \n",
       "1287                                       NaN              NaN   \n",
       "1288                                       NaN              NaN   \n",
       "1289                                       NaN              NaN   \n",
       "1290                                       NaN              NaN   \n",
       "1291                                       NaN              NaN   \n",
       "\n",
       "      economic_stability_index  political_social_index       change  \\\n",
       "0                    -0.052235                0.313883          END   \n",
       "1                    -3.753174                0.314108  No Election   \n",
       "2                    -2.800049                0.314333  No Election   \n",
       "3                     1.014131                0.317162  No Election   \n",
       "4                     0.873492                0.317162  No Election   \n",
       "...                        ...                     ...          ...   \n",
       "1287                       NaN                     NaN  No Election   \n",
       "1288                       NaN                     NaN  No Election   \n",
       "1289                       NaN                     NaN  No Election   \n",
       "1290                       NaN                     NaN  No Election   \n",
       "1291                       NaN                     NaN  No Election   \n",
       "\n",
       "      upwards_year  \n",
       "0           1990.0  \n",
       "1           1990.0  \n",
       "2           1990.0  \n",
       "3           1990.0  \n",
       "4           1990.0  \n",
       "...            ...  \n",
       "1287        1990.0  \n",
       "1288        1990.0  \n",
       "1289        1990.0  \n",
       "1290        1990.0  \n",
       "1291        1990.0  \n",
       "\n",
       "[1292 rows x 10 columns]"
      ]
     },
     "execution_count": 24,
     "metadata": {},
     "output_type": "execute_result"
    }
   ],
   "source": [
    "# View the updated dataframe\n",
    "full_df"
   ]
  },
  {
   "cell_type": "code",
   "execution_count": 25,
   "metadata": {
    "cell_id": "15d1209a1ab94d9ea2784651f18deda4",
    "deepnote_app_block_group_id": null,
    "deepnote_app_block_order": 24,
    "deepnote_app_block_visible": true,
    "deepnote_app_is_code_hidden": true,
    "deepnote_app_is_output_hidden": false,
    "deepnote_cell_type": "code",
    "deepnote_table_loading": false,
    "deepnote_table_state": {
     "cellFormattingRules": [],
     "columnDisplayNames": [],
     "columnOrder": [
      "country",
      "year",
      "Effective Parliament (highest score=1)",
      "Voter turnout (highest score=1)",
      "Media bias (highest score=1)",
      "GDP",
      "Conflict",
      "Deaths",
      "totalrefugees",
      "ethnicity_ratio",
      "economic_stability_index",
      "social_stability_index",
      "democratic_political_index",
      "change",
      "upwards_year"
     ],
     "conditionalFilters": [],
     "filters": [],
     "hiddenColumnIds": [],
     "pageIndex": 0,
     "pageSize": 10,
     "sortBy": [],
     "wrappedTextColumnIds": []
    },
    "execution_context_id": "f4e73ac9-64de-42e9-ae88-7619fadf8313",
    "execution_millis": 12,
    "execution_start": 1743011975879,
    "source_hash": "9b83db65"
   },
   "outputs": [
    {
     "data": {
      "application/vnd.deepnote.dataframe.v3+json": {
       "column_count": 10,
       "columns": [
        {
         "dtype": "object",
         "name": "country",
         "stats": {
          "categories": [
           {
            "count": 34,
            "name": "Unnamed: 38"
           },
           {
            "count": 34,
            "name": "United States"
           },
           {
            "count": 1224,
            "name": "36 others"
           }
          ],
          "nan_count": 0,
          "unique_count": 38
         }
        },
        {
         "dtype": "float64",
         "name": "year",
         "stats": {
          "histogram": [
           {
            "bin_end": 1993.3,
            "bin_start": 1990,
            "count": 152
           },
           {
            "bin_end": 1996.6,
            "bin_start": 1993.3,
            "count": 114
           },
           {
            "bin_end": 1999.9,
            "bin_start": 1996.6,
            "count": 114
           },
           {
            "bin_end": 2003.2,
            "bin_start": 1999.9,
            "count": 152
           },
           {
            "bin_end": 2006.5,
            "bin_start": 2003.2,
            "count": 114
           },
           {
            "bin_end": 2009.8,
            "bin_start": 2006.5,
            "count": 114
           },
           {
            "bin_end": 2013.1,
            "bin_start": 2009.8,
            "count": 152
           },
           {
            "bin_end": 2016.4,
            "bin_start": 2013.1,
            "count": 114
           },
           {
            "bin_end": 2019.7,
            "bin_start": 2016.4,
            "count": 114
           },
           {
            "bin_end": 2023,
            "bin_start": 2019.7,
            "count": 152
           }
          ],
          "max": "2023.0",
          "min": "1990.0",
          "nan_count": 0,
          "unique_count": 34
         }
        },
        {
         "dtype": "float64",
         "name": "Voter turnout (highest score=1)",
         "stats": {
          "histogram": [
           {
            "bin_end": 0.31280444444575184,
            "bin_start": 0.24,
            "count": 8
           },
           {
            "bin_end": 0.38560888889150374,
            "bin_start": 0.31280444444575184,
            "count": 36
           },
           {
            "bin_end": 0.45841333333725565,
            "bin_start": 0.38560888889150374,
            "count": 55
           },
           {
            "bin_end": 0.5312177777830075,
            "bin_start": 0.45841333333725565,
            "count": 157
           },
           {
            "bin_end": 0.6040222222287593,
            "bin_start": 0.5312177777830075,
            "count": 170
           },
           {
            "bin_end": 0.6768266666745113,
            "bin_start": 0.6040222222287593,
            "count": 170
           },
           {
            "bin_end": 0.7496311111202631,
            "bin_start": 0.6768266666745113,
            "count": 228
           },
           {
            "bin_end": 0.822435555566015,
            "bin_start": 0.7496311111202631,
            "count": 265
           },
           {
            "bin_end": 0.8952400000117668,
            "bin_start": 0.822435555566015,
            "count": 156
           },
           {
            "bin_end": 0.9680444444575188,
            "bin_start": 0.8952400000117668,
            "count": 13
           }
          ],
          "max": "0.9680444444575188",
          "min": "0.24",
          "nan_count": 34,
          "unique_count": 97
         }
        },
        {
         "dtype": "float64",
         "name": "Freedom of Religion (highest score=1)",
         "stats": {
          "histogram": [
           {
            "bin_end": 0.4699138461538462,
            "bin_start": 0.41,
            "count": 14
           },
           {
            "bin_end": 0.5298276923076923,
            "bin_start": 0.4699138461538462,
            "count": 16
           },
           {
            "bin_end": 0.5897415384615385,
            "bin_start": 0.5298276923076923,
            "count": 4
           },
           {
            "bin_end": 0.6496553846153847,
            "bin_start": 0.5897415384615385,
            "count": 4
           },
           {
            "bin_end": 0.709569230769231,
            "bin_start": 0.6496553846153847,
            "count": 17
           },
           {
            "bin_end": 0.7694830769230772,
            "bin_start": 0.709569230769231,
            "count": 141
           },
           {
            "bin_end": 0.8293969230769233,
            "bin_start": 0.7694830769230772,
            "count": 138
           },
           {
            "bin_end": 0.8893107692307695,
            "bin_start": 0.8293969230769233,
            "count": 152
           },
           {
            "bin_end": 0.9492246153846156,
            "bin_start": 0.8893107692307695,
            "count": 81
           },
           {
            "bin_end": 1.0091384615384618,
            "bin_start": 0.9492246153846156,
            "count": 691
           }
          ],
          "max": "1.0091384615384618",
          "min": "0.41",
          "nan_count": 34,
          "unique_count": 66
         }
        },
        {
         "dtype": "float64",
         "name": "Urban population (% of total population)",
         "stats": {
          "histogram": [
           {
            "bin_end": 52.9424,
            "bin_start": 47.915,
            "count": 34
           },
           {
            "bin_end": 57.9698,
            "bin_start": 52.9424,
            "count": 40
           },
           {
            "bin_end": 62.99719999999999,
            "bin_start": 57.9698,
            "count": 101
           },
           {
            "bin_end": 68.02459999999999,
            "bin_start": 62.99719999999999,
            "count": 113
           },
           {
            "bin_end": 73.05199999999999,
            "bin_start": 68.02459999999999,
            "count": 132
           },
           {
            "bin_end": 78.07939999999999,
            "bin_start": 73.05199999999999,
            "count": 244
           },
           {
            "bin_end": 83.10679999999999,
            "bin_start": 78.07939999999999,
            "count": 231
           },
           {
            "bin_end": 88.13419999999999,
            "bin_start": 83.10679999999999,
            "count": 211
           },
           {
            "bin_end": 93.16159999999999,
            "bin_start": 88.13419999999999,
            "count": 100
           },
           {
            "bin_end": 98.189,
            "bin_start": 93.16159999999999,
            "count": 52
           }
          ],
          "max": "98.189",
          "min": "47.915",
          "nan_count": 34,
          "unique_count": 1226
         }
        },
        {
         "dtype": "float64",
         "name": "ethnicity_ratio",
         "stats": {
          "histogram": [
           {
            "bin_end": 0.1,
            "bin_start": 0,
            "count": 77
           },
           {
            "bin_end": 0.2,
            "bin_start": 0.1,
            "count": 0
           },
           {
            "bin_end": 0.30000000000000004,
            "bin_start": 0.2,
            "count": 0
           },
           {
            "bin_end": 0.4,
            "bin_start": 0.30000000000000004,
            "count": 34
           },
           {
            "bin_end": 0.5,
            "bin_start": 0.4,
            "count": 0
           },
           {
            "bin_end": 0.6000000000000001,
            "bin_start": 0.5,
            "count": 140
           },
           {
            "bin_end": 0.7000000000000001,
            "bin_start": 0.6000000000000001,
            "count": 156
           },
           {
            "bin_end": 0.8,
            "bin_start": 0.7000000000000001,
            "count": 84
           },
           {
            "bin_end": 0.9,
            "bin_start": 0.8,
            "count": 192
           },
           {
            "bin_end": 1,
            "bin_start": 0.9,
            "count": 575
           }
          ],
          "max": "1.0",
          "min": "0.0",
          "nan_count": 34,
          "unique_count": 48
         }
        },
        {
         "dtype": "float64",
         "name": "economic_stability_index",
         "stats": {
          "histogram": [
           {
            "bin_end": -12.796980002410631,
            "bin_start": -16.573879601877085,
            "count": 6
           },
           {
            "bin_end": -9.020080402944178,
            "bin_start": -12.796980002410631,
            "count": 19
           },
           {
            "bin_end": -5.243180803477724,
            "bin_start": -9.020080402944178,
            "count": 46
           },
           {
            "bin_end": -1.4662812040112705,
            "bin_start": -5.243180803477724,
            "count": 226
           },
           {
            "bin_end": 2.310618395455183,
            "bin_start": -1.4662812040112705,
            "count": 721
           },
           {
            "bin_end": 6.087517994921637,
            "bin_start": 2.310618395455183,
            "count": 201
           },
           {
            "bin_end": 9.86441759438809,
            "bin_start": 6.087517994921637,
            "count": 34
           },
           {
            "bin_end": 13.641317193854544,
            "bin_start": 9.86441759438809,
            "count": 4
           },
           {
            "bin_end": 17.418216793320997,
            "bin_start": 13.641317193854544,
            "count": 0
           },
           {
            "bin_end": 21.19511639278745,
            "bin_start": 17.418216793320997,
            "count": 1
           }
          ],
          "max": "21.19511639278745",
          "min": "-16.573879601877085",
          "nan_count": 34,
          "unique_count": 1258
         }
        },
        {
         "dtype": "float64",
         "name": "political_social_index",
         "stats": {
          "histogram": [
           {
            "bin_end": -1.5191524215857959,
            "bin_start": -1.752951814513342,
            "count": 9
           },
           {
            "bin_end": -1.2853530286582497,
            "bin_start": -1.5191524215857959,
            "count": 25
           },
           {
            "bin_end": -1.0515536357307038,
            "bin_start": -1.2853530286582497,
            "count": 38
           },
           {
            "bin_end": -0.8177542428031577,
            "bin_start": -1.0515536357307038,
            "count": 35
           },
           {
            "bin_end": -0.5839548498756115,
            "bin_start": -0.8177542428031577,
            "count": 26
           },
           {
            "bin_end": -0.3501554569480656,
            "bin_start": -0.5839548498756115,
            "count": 75
           },
           {
            "bin_end": -0.11635606402051946,
            "bin_start": -0.3501554569480656,
            "count": 107
           },
           {
            "bin_end": 0.11744332890702669,
            "bin_start": -0.11635606402051946,
            "count": 218
           },
           {
            "bin_end": 0.3512427218345726,
            "bin_start": 0.11744332890702669,
            "count": 549
           },
           {
            "bin_end": 0.5850421147621191,
            "bin_start": 0.3512427218345726,
            "count": 176
           }
          ],
          "max": "0.5850421147621191",
          "min": "-1.752951814513342",
          "nan_count": 34,
          "unique_count": 1256
         }
        },
        {
         "dtype": "object",
         "name": "change",
         "stats": {
          "categories": [
           {
            "count": 950,
            "name": "No Election"
           },
           {
            "count": 160,
            "name": "True"
           },
           {
            "count": 182,
            "name": "2 others"
           }
          ],
          "nan_count": 0,
          "unique_count": 4
         }
        },
        {
         "dtype": "float64",
         "name": "upwards_year",
         "stats": {
          "histogram": [
           {
            "bin_end": 1993.2,
            "bin_start": 1990,
            "count": 270
           },
           {
            "bin_end": 1996.4,
            "bin_start": 1993.2,
            "count": 117
           },
           {
            "bin_end": 1999.6,
            "bin_start": 1996.4,
            "count": 111
           },
           {
            "bin_end": 2002.8,
            "bin_start": 1999.6,
            "count": 115
           },
           {
            "bin_end": 2006,
            "bin_start": 2002.8,
            "count": 96
           },
           {
            "bin_end": 2009.2,
            "bin_start": 2006,
            "count": 152
           },
           {
            "bin_end": 2012.4,
            "bin_start": 2009.2,
            "count": 114
           },
           {
            "bin_end": 2015.6,
            "bin_start": 2012.4,
            "count": 118
           },
           {
            "bin_end": 2018.8,
            "bin_start": 2015.6,
            "count": 104
           },
           {
            "bin_end": 2022,
            "bin_start": 2018.8,
            "count": 95
           }
          ],
          "max": "2022.0",
          "min": "1990.0",
          "nan_count": 0,
          "unique_count": 30
         }
        },
        {
         "dtype": "int64",
         "name": "_deepnote_index_column"
        }
       ],
       "row_count": 1292,
       "rows": [
        {
         "Freedom of Religion (highest score=1)": "nan",
         "Urban population (% of total population)": "nan",
         "Voter turnout (highest score=1)": "nan",
         "_deepnote_index_column": 0,
         "change": "No Election",
         "country": "Unnamed: 38",
         "economic_stability_index": "nan",
         "ethnicity_ratio": "nan",
         "political_social_index": "nan",
         "upwards_year": 1990,
         "year": 2023
        },
        {
         "Freedom of Religion (highest score=1)": "nan",
         "Urban population (% of total population)": "nan",
         "Voter turnout (highest score=1)": "nan",
         "_deepnote_index_column": 1,
         "change": "No Election",
         "country": "Unnamed: 38",
         "economic_stability_index": "nan",
         "ethnicity_ratio": "nan",
         "political_social_index": "nan",
         "upwards_year": 1990,
         "year": 2022
        },
        {
         "Freedom of Religion (highest score=1)": "nan",
         "Urban population (% of total population)": "nan",
         "Voter turnout (highest score=1)": "nan",
         "_deepnote_index_column": 2,
         "change": "No Election",
         "country": "Unnamed: 38",
         "economic_stability_index": "nan",
         "ethnicity_ratio": "nan",
         "political_social_index": "nan",
         "upwards_year": 1990,
         "year": 2021
        },
        {
         "Freedom of Religion (highest score=1)": "nan",
         "Urban population (% of total population)": "nan",
         "Voter turnout (highest score=1)": "nan",
         "_deepnote_index_column": 3,
         "change": "No Election",
         "country": "Unnamed: 38",
         "economic_stability_index": "nan",
         "ethnicity_ratio": "nan",
         "political_social_index": "nan",
         "upwards_year": 1990,
         "year": 2020
        },
        {
         "Freedom of Religion (highest score=1)": "nan",
         "Urban population (% of total population)": "nan",
         "Voter turnout (highest score=1)": "nan",
         "_deepnote_index_column": 4,
         "change": "No Election",
         "country": "Unnamed: 38",
         "economic_stability_index": "nan",
         "ethnicity_ratio": "nan",
         "political_social_index": "nan",
         "upwards_year": 1990,
         "year": 2019
        },
        {
         "Freedom of Religion (highest score=1)": "nan",
         "Urban population (% of total population)": "nan",
         "Voter turnout (highest score=1)": "nan",
         "_deepnote_index_column": 5,
         "change": "No Election",
         "country": "Unnamed: 38",
         "economic_stability_index": "nan",
         "ethnicity_ratio": "nan",
         "political_social_index": "nan",
         "upwards_year": 1990,
         "year": 2018
        },
        {
         "Freedom of Religion (highest score=1)": "nan",
         "Urban population (% of total population)": "nan",
         "Voter turnout (highest score=1)": "nan",
         "_deepnote_index_column": 6,
         "change": "No Election",
         "country": "Unnamed: 38",
         "economic_stability_index": "nan",
         "ethnicity_ratio": "nan",
         "political_social_index": "nan",
         "upwards_year": 1990,
         "year": 2017
        },
        {
         "Freedom of Religion (highest score=1)": "nan",
         "Urban population (% of total population)": "nan",
         "Voter turnout (highest score=1)": "nan",
         "_deepnote_index_column": 7,
         "change": "No Election",
         "country": "Unnamed: 38",
         "economic_stability_index": "nan",
         "ethnicity_ratio": "nan",
         "political_social_index": "nan",
         "upwards_year": 1990,
         "year": 2016
        },
        {
         "Freedom of Religion (highest score=1)": "nan",
         "Urban population (% of total population)": "nan",
         "Voter turnout (highest score=1)": "nan",
         "_deepnote_index_column": 8,
         "change": "No Election",
         "country": "Unnamed: 38",
         "economic_stability_index": "nan",
         "ethnicity_ratio": "nan",
         "political_social_index": "nan",
         "upwards_year": 1990,
         "year": 2015
        },
        {
         "Freedom of Religion (highest score=1)": "nan",
         "Urban population (% of total population)": "nan",
         "Voter turnout (highest score=1)": "nan",
         "_deepnote_index_column": 9,
         "change": "No Election",
         "country": "Unnamed: 38",
         "economic_stability_index": "nan",
         "ethnicity_ratio": "nan",
         "political_social_index": "nan",
         "upwards_year": 1990,
         "year": 2014
        }
       ],
       "type": "dataframe"
      },
      "text/html": [
       "<div>\n",
       "<style scoped>\n",
       "    .dataframe tbody tr th:only-of-type {\n",
       "        vertical-align: middle;\n",
       "    }\n",
       "\n",
       "    .dataframe tbody tr th {\n",
       "        vertical-align: top;\n",
       "    }\n",
       "\n",
       "    .dataframe thead th {\n",
       "        text-align: right;\n",
       "    }\n",
       "</style>\n",
       "<table border=\"1\" class=\"dataframe\">\n",
       "  <thead>\n",
       "    <tr style=\"text-align: right;\">\n",
       "      <th></th>\n",
       "      <th>country</th>\n",
       "      <th>year</th>\n",
       "      <th>Voter turnout (highest score=1)</th>\n",
       "      <th>Freedom of Religion (highest score=1)</th>\n",
       "      <th>Urban population (% of total population)</th>\n",
       "      <th>ethnicity_ratio</th>\n",
       "      <th>economic_stability_index</th>\n",
       "      <th>political_social_index</th>\n",
       "      <th>change</th>\n",
       "      <th>upwards_year</th>\n",
       "    </tr>\n",
       "  </thead>\n",
       "  <tbody>\n",
       "    <tr>\n",
       "      <th>0</th>\n",
       "      <td>Unnamed: 38</td>\n",
       "      <td>2023.0</td>\n",
       "      <td>NaN</td>\n",
       "      <td>NaN</td>\n",
       "      <td>NaN</td>\n",
       "      <td>NaN</td>\n",
       "      <td>NaN</td>\n",
       "      <td>NaN</td>\n",
       "      <td>No Election</td>\n",
       "      <td>1990.0</td>\n",
       "    </tr>\n",
       "    <tr>\n",
       "      <th>1</th>\n",
       "      <td>Unnamed: 38</td>\n",
       "      <td>2022.0</td>\n",
       "      <td>NaN</td>\n",
       "      <td>NaN</td>\n",
       "      <td>NaN</td>\n",
       "      <td>NaN</td>\n",
       "      <td>NaN</td>\n",
       "      <td>NaN</td>\n",
       "      <td>No Election</td>\n",
       "      <td>1990.0</td>\n",
       "    </tr>\n",
       "    <tr>\n",
       "      <th>2</th>\n",
       "      <td>Unnamed: 38</td>\n",
       "      <td>2021.0</td>\n",
       "      <td>NaN</td>\n",
       "      <td>NaN</td>\n",
       "      <td>NaN</td>\n",
       "      <td>NaN</td>\n",
       "      <td>NaN</td>\n",
       "      <td>NaN</td>\n",
       "      <td>No Election</td>\n",
       "      <td>1990.0</td>\n",
       "    </tr>\n",
       "    <tr>\n",
       "      <th>3</th>\n",
       "      <td>Unnamed: 38</td>\n",
       "      <td>2020.0</td>\n",
       "      <td>NaN</td>\n",
       "      <td>NaN</td>\n",
       "      <td>NaN</td>\n",
       "      <td>NaN</td>\n",
       "      <td>NaN</td>\n",
       "      <td>NaN</td>\n",
       "      <td>No Election</td>\n",
       "      <td>1990.0</td>\n",
       "    </tr>\n",
       "    <tr>\n",
       "      <th>4</th>\n",
       "      <td>Unnamed: 38</td>\n",
       "      <td>2019.0</td>\n",
       "      <td>NaN</td>\n",
       "      <td>NaN</td>\n",
       "      <td>NaN</td>\n",
       "      <td>NaN</td>\n",
       "      <td>NaN</td>\n",
       "      <td>NaN</td>\n",
       "      <td>No Election</td>\n",
       "      <td>1990.0</td>\n",
       "    </tr>\n",
       "    <tr>\n",
       "      <th>...</th>\n",
       "      <td>...</td>\n",
       "      <td>...</td>\n",
       "      <td>...</td>\n",
       "      <td>...</td>\n",
       "      <td>...</td>\n",
       "      <td>...</td>\n",
       "      <td>...</td>\n",
       "      <td>...</td>\n",
       "      <td>...</td>\n",
       "      <td>...</td>\n",
       "    </tr>\n",
       "    <tr>\n",
       "      <th>1287</th>\n",
       "      <td>Australia</td>\n",
       "      <td>1994.0</td>\n",
       "      <td>0.84</td>\n",
       "      <td>0.98</td>\n",
       "      <td>85.028</td>\n",
       "      <td>0.84</td>\n",
       "      <td>0.873492</td>\n",
       "      <td>0.317162</td>\n",
       "      <td>No Election</td>\n",
       "      <td>1990.0</td>\n",
       "    </tr>\n",
       "    <tr>\n",
       "      <th>1288</th>\n",
       "      <td>Australia</td>\n",
       "      <td>1993.0</td>\n",
       "      <td>0.84</td>\n",
       "      <td>0.98</td>\n",
       "      <td>85.157</td>\n",
       "      <td>0.84</td>\n",
       "      <td>1.014131</td>\n",
       "      <td>0.317162</td>\n",
       "      <td>No Election</td>\n",
       "      <td>1990.0</td>\n",
       "    </tr>\n",
       "    <tr>\n",
       "      <th>1289</th>\n",
       "      <td>Australia</td>\n",
       "      <td>1992.0</td>\n",
       "      <td>0.82</td>\n",
       "      <td>0.98</td>\n",
       "      <td>85.285</td>\n",
       "      <td>0.84</td>\n",
       "      <td>-2.800049</td>\n",
       "      <td>0.314333</td>\n",
       "      <td>No Election</td>\n",
       "      <td>1990.0</td>\n",
       "    </tr>\n",
       "    <tr>\n",
       "      <th>1290</th>\n",
       "      <td>Australia</td>\n",
       "      <td>1991.0</td>\n",
       "      <td>0.82</td>\n",
       "      <td>0.98</td>\n",
       "      <td>85.403</td>\n",
       "      <td>0.84</td>\n",
       "      <td>-3.753174</td>\n",
       "      <td>0.314108</td>\n",
       "      <td>No Election</td>\n",
       "      <td>1990.0</td>\n",
       "    </tr>\n",
       "    <tr>\n",
       "      <th>1291</th>\n",
       "      <td>Australia</td>\n",
       "      <td>1990.0</td>\n",
       "      <td>0.82</td>\n",
       "      <td>0.98</td>\n",
       "      <td>85.433</td>\n",
       "      <td>0.84</td>\n",
       "      <td>-0.052235</td>\n",
       "      <td>0.313883</td>\n",
       "      <td>END</td>\n",
       "      <td>1990.0</td>\n",
       "    </tr>\n",
       "  </tbody>\n",
       "</table>\n",
       "<p>1292 rows × 10 columns</p>\n",
       "</div>"
      ],
      "text/plain": [
       "          country    year  Voter turnout (highest score=1)  \\\n",
       "0     Unnamed: 38  2023.0                              NaN   \n",
       "1     Unnamed: 38  2022.0                              NaN   \n",
       "2     Unnamed: 38  2021.0                              NaN   \n",
       "3     Unnamed: 38  2020.0                              NaN   \n",
       "4     Unnamed: 38  2019.0                              NaN   \n",
       "...           ...     ...                              ...   \n",
       "1287    Australia  1994.0                             0.84   \n",
       "1288    Australia  1993.0                             0.84   \n",
       "1289    Australia  1992.0                             0.82   \n",
       "1290    Australia  1991.0                             0.82   \n",
       "1291    Australia  1990.0                             0.82   \n",
       "\n",
       "      Freedom of Religion (highest score=1)  \\\n",
       "0                                       NaN   \n",
       "1                                       NaN   \n",
       "2                                       NaN   \n",
       "3                                       NaN   \n",
       "4                                       NaN   \n",
       "...                                     ...   \n",
       "1287                                   0.98   \n",
       "1288                                   0.98   \n",
       "1289                                   0.98   \n",
       "1290                                   0.98   \n",
       "1291                                   0.98   \n",
       "\n",
       "      Urban population (% of total population)  ethnicity_ratio  \\\n",
       "0                                          NaN              NaN   \n",
       "1                                          NaN              NaN   \n",
       "2                                          NaN              NaN   \n",
       "3                                          NaN              NaN   \n",
       "4                                          NaN              NaN   \n",
       "...                                        ...              ...   \n",
       "1287                                    85.028             0.84   \n",
       "1288                                    85.157             0.84   \n",
       "1289                                    85.285             0.84   \n",
       "1290                                    85.403             0.84   \n",
       "1291                                    85.433             0.84   \n",
       "\n",
       "      economic_stability_index  political_social_index       change  \\\n",
       "0                          NaN                     NaN  No Election   \n",
       "1                          NaN                     NaN  No Election   \n",
       "2                          NaN                     NaN  No Election   \n",
       "3                          NaN                     NaN  No Election   \n",
       "4                          NaN                     NaN  No Election   \n",
       "...                        ...                     ...          ...   \n",
       "1287                  0.873492                0.317162  No Election   \n",
       "1288                  1.014131                0.317162  No Election   \n",
       "1289                 -2.800049                0.314333  No Election   \n",
       "1290                 -3.753174                0.314108  No Election   \n",
       "1291                 -0.052235                0.313883          END   \n",
       "\n",
       "      upwards_year  \n",
       "0           1990.0  \n",
       "1           1990.0  \n",
       "2           1990.0  \n",
       "3           1990.0  \n",
       "4           1990.0  \n",
       "...            ...  \n",
       "1287        1990.0  \n",
       "1288        1990.0  \n",
       "1289        1990.0  \n",
       "1290        1990.0  \n",
       "1291        1990.0  \n",
       "\n",
       "[1292 rows x 10 columns]"
      ]
     },
     "execution_count": 25,
     "metadata": {},
     "output_type": "execute_result"
    }
   ],
   "source": [
    "# Order by descending\n",
    "full_df = full_df.sort_values(by=['country','year'], ascending=False)\n",
    "full_df = full_df.reset_index()\n",
    "full_df.drop(columns='index', inplace=True)\n",
    "full_df"
   ]
  },
  {
   "cell_type": "code",
   "execution_count": 26,
   "metadata": {
    "cell_id": "d6f8e837810749cb89d62e509a9a639d",
    "deepnote_app_block_group_id": null,
    "deepnote_app_block_order": 25,
    "deepnote_app_block_visible": true,
    "deepnote_app_is_code_hidden": true,
    "deepnote_app_is_output_hidden": false,
    "deepnote_cell_type": "code",
    "execution_context_id": "f4e73ac9-64de-42e9-ae88-7619fadf8313",
    "execution_millis": 125,
    "execution_start": 1743011975971,
    "source_hash": "3e552488"
   },
   "outputs": [],
   "source": [
    "for country in country_list:\n",
    "    for idx, row in full_df[full_df['country'] == country].iterrows():\n",
    "        if row['year'] == 2023:\n",
    "            \n",
    "            year=row['year']\n",
    "            full_df.at[idx, \"downwards_year\"] = year\n",
    "        else:\n",
    "            if row['change'] == 'No Election':\n",
    "                full_df.at[idx, \"downwards_year\"] = year\n",
    "            elif row['change'] == 'END':\n",
    "                full_df.at[idx, \"downwards_year\"] = year\n",
    "            else:\n",
    "                year=row['year']\n",
    "                full_df.at[idx, \"downwards_year\"] = year"
   ]
  },
  {
   "cell_type": "code",
   "execution_count": 27,
   "metadata": {
    "cell_id": "809cda6b1a2b4efb97de548337c825a6",
    "deepnote_app_block_group_id": null,
    "deepnote_app_block_order": 26,
    "deepnote_app_block_visible": true,
    "deepnote_app_is_code_hidden": true,
    "deepnote_app_is_output_hidden": false,
    "deepnote_cell_type": "code",
    "deepnote_table_loading": false,
    "deepnote_table_state": {
     "cellFormattingRules": [],
     "columnDisplayNames": [],
     "columnOrder": [
      "country",
      "year",
      "Effective Parliament (highest score=1)",
      "Voter turnout (highest score=1)",
      "Media bias (highest score=1)",
      "GDP",
      "Conflict",
      "Deaths",
      "totalrefugees",
      "ethnicity_ratio",
      "economic_stability_index",
      "social_stability_index",
      "democratic_political_index",
      "change",
      "upwards_year",
      "downwards_year"
     ],
     "conditionalFilters": [],
     "filters": [],
     "hiddenColumnIds": [],
     "pageIndex": 0,
     "pageSize": 100,
     "sortBy": [],
     "wrappedTextColumnIds": []
    },
    "execution_context_id": "f4e73ac9-64de-42e9-ae88-7619fadf8313",
    "execution_millis": 1,
    "execution_start": 1743011976151,
    "source_hash": "e852eac8"
   },
   "outputs": [
    {
     "data": {
      "application/vnd.deepnote.dataframe.v3+json": {
       "column_count": 11,
       "columns": [
        {
         "dtype": "object",
         "name": "country",
         "stats": {
          "categories": [
           {
            "count": 34,
            "name": "Unnamed: 38"
           },
           {
            "count": 34,
            "name": "United States"
           },
           {
            "count": 1224,
            "name": "36 others"
           }
          ],
          "nan_count": 0,
          "unique_count": 38
         }
        },
        {
         "dtype": "float64",
         "name": "year",
         "stats": {
          "histogram": [
           {
            "bin_end": 1993.3,
            "bin_start": 1990,
            "count": 152
           },
           {
            "bin_end": 1996.6,
            "bin_start": 1993.3,
            "count": 114
           },
           {
            "bin_end": 1999.9,
            "bin_start": 1996.6,
            "count": 114
           },
           {
            "bin_end": 2003.2,
            "bin_start": 1999.9,
            "count": 152
           },
           {
            "bin_end": 2006.5,
            "bin_start": 2003.2,
            "count": 114
           },
           {
            "bin_end": 2009.8,
            "bin_start": 2006.5,
            "count": 114
           },
           {
            "bin_end": 2013.1,
            "bin_start": 2009.8,
            "count": 152
           },
           {
            "bin_end": 2016.4,
            "bin_start": 2013.1,
            "count": 114
           },
           {
            "bin_end": 2019.7,
            "bin_start": 2016.4,
            "count": 114
           },
           {
            "bin_end": 2023,
            "bin_start": 2019.7,
            "count": 152
           }
          ],
          "max": "2023.0",
          "min": "1990.0",
          "nan_count": 0,
          "unique_count": 34
         }
        },
        {
         "dtype": "float64",
         "name": "Voter turnout (highest score=1)",
         "stats": {
          "histogram": [
           {
            "bin_end": 0.31280444444575184,
            "bin_start": 0.24,
            "count": 8
           },
           {
            "bin_end": 0.38560888889150374,
            "bin_start": 0.31280444444575184,
            "count": 36
           },
           {
            "bin_end": 0.45841333333725565,
            "bin_start": 0.38560888889150374,
            "count": 55
           },
           {
            "bin_end": 0.5312177777830075,
            "bin_start": 0.45841333333725565,
            "count": 157
           },
           {
            "bin_end": 0.6040222222287593,
            "bin_start": 0.5312177777830075,
            "count": 170
           },
           {
            "bin_end": 0.6768266666745113,
            "bin_start": 0.6040222222287593,
            "count": 170
           },
           {
            "bin_end": 0.7496311111202631,
            "bin_start": 0.6768266666745113,
            "count": 228
           },
           {
            "bin_end": 0.822435555566015,
            "bin_start": 0.7496311111202631,
            "count": 265
           },
           {
            "bin_end": 0.8952400000117668,
            "bin_start": 0.822435555566015,
            "count": 156
           },
           {
            "bin_end": 0.9680444444575188,
            "bin_start": 0.8952400000117668,
            "count": 13
           }
          ],
          "max": "0.9680444444575188",
          "min": "0.24",
          "nan_count": 34,
          "unique_count": 97
         }
        },
        {
         "dtype": "float64",
         "name": "Freedom of Religion (highest score=1)",
         "stats": {
          "histogram": [
           {
            "bin_end": 0.4699138461538462,
            "bin_start": 0.41,
            "count": 14
           },
           {
            "bin_end": 0.5298276923076923,
            "bin_start": 0.4699138461538462,
            "count": 16
           },
           {
            "bin_end": 0.5897415384615385,
            "bin_start": 0.5298276923076923,
            "count": 4
           },
           {
            "bin_end": 0.6496553846153847,
            "bin_start": 0.5897415384615385,
            "count": 4
           },
           {
            "bin_end": 0.709569230769231,
            "bin_start": 0.6496553846153847,
            "count": 17
           },
           {
            "bin_end": 0.7694830769230772,
            "bin_start": 0.709569230769231,
            "count": 141
           },
           {
            "bin_end": 0.8293969230769233,
            "bin_start": 0.7694830769230772,
            "count": 138
           },
           {
            "bin_end": 0.8893107692307695,
            "bin_start": 0.8293969230769233,
            "count": 152
           },
           {
            "bin_end": 0.9492246153846156,
            "bin_start": 0.8893107692307695,
            "count": 81
           },
           {
            "bin_end": 1.0091384615384618,
            "bin_start": 0.9492246153846156,
            "count": 691
           }
          ],
          "max": "1.0091384615384618",
          "min": "0.41",
          "nan_count": 34,
          "unique_count": 66
         }
        },
        {
         "dtype": "float64",
         "name": "Urban population (% of total population)",
         "stats": {
          "histogram": [
           {
            "bin_end": 52.9424,
            "bin_start": 47.915,
            "count": 34
           },
           {
            "bin_end": 57.9698,
            "bin_start": 52.9424,
            "count": 40
           },
           {
            "bin_end": 62.99719999999999,
            "bin_start": 57.9698,
            "count": 101
           },
           {
            "bin_end": 68.02459999999999,
            "bin_start": 62.99719999999999,
            "count": 113
           },
           {
            "bin_end": 73.05199999999999,
            "bin_start": 68.02459999999999,
            "count": 132
           },
           {
            "bin_end": 78.07939999999999,
            "bin_start": 73.05199999999999,
            "count": 244
           },
           {
            "bin_end": 83.10679999999999,
            "bin_start": 78.07939999999999,
            "count": 231
           },
           {
            "bin_end": 88.13419999999999,
            "bin_start": 83.10679999999999,
            "count": 211
           },
           {
            "bin_end": 93.16159999999999,
            "bin_start": 88.13419999999999,
            "count": 100
           },
           {
            "bin_end": 98.189,
            "bin_start": 93.16159999999999,
            "count": 52
           }
          ],
          "max": "98.189",
          "min": "47.915",
          "nan_count": 34,
          "unique_count": 1226
         }
        },
        {
         "dtype": "float64",
         "name": "ethnicity_ratio",
         "stats": {
          "histogram": [
           {
            "bin_end": 0.1,
            "bin_start": 0,
            "count": 77
           },
           {
            "bin_end": 0.2,
            "bin_start": 0.1,
            "count": 0
           },
           {
            "bin_end": 0.30000000000000004,
            "bin_start": 0.2,
            "count": 0
           },
           {
            "bin_end": 0.4,
            "bin_start": 0.30000000000000004,
            "count": 34
           },
           {
            "bin_end": 0.5,
            "bin_start": 0.4,
            "count": 0
           },
           {
            "bin_end": 0.6000000000000001,
            "bin_start": 0.5,
            "count": 140
           },
           {
            "bin_end": 0.7000000000000001,
            "bin_start": 0.6000000000000001,
            "count": 156
           },
           {
            "bin_end": 0.8,
            "bin_start": 0.7000000000000001,
            "count": 84
           },
           {
            "bin_end": 0.9,
            "bin_start": 0.8,
            "count": 192
           },
           {
            "bin_end": 1,
            "bin_start": 0.9,
            "count": 575
           }
          ],
          "max": "1.0",
          "min": "0.0",
          "nan_count": 34,
          "unique_count": 48
         }
        },
        {
         "dtype": "float64",
         "name": "economic_stability_index",
         "stats": {
          "histogram": [
           {
            "bin_end": -12.796980002410631,
            "bin_start": -16.573879601877085,
            "count": 6
           },
           {
            "bin_end": -9.020080402944178,
            "bin_start": -12.796980002410631,
            "count": 19
           },
           {
            "bin_end": -5.243180803477724,
            "bin_start": -9.020080402944178,
            "count": 46
           },
           {
            "bin_end": -1.4662812040112705,
            "bin_start": -5.243180803477724,
            "count": 226
           },
           {
            "bin_end": 2.310618395455183,
            "bin_start": -1.4662812040112705,
            "count": 721
           },
           {
            "bin_end": 6.087517994921637,
            "bin_start": 2.310618395455183,
            "count": 201
           },
           {
            "bin_end": 9.86441759438809,
            "bin_start": 6.087517994921637,
            "count": 34
           },
           {
            "bin_end": 13.641317193854544,
            "bin_start": 9.86441759438809,
            "count": 4
           },
           {
            "bin_end": 17.418216793320997,
            "bin_start": 13.641317193854544,
            "count": 0
           },
           {
            "bin_end": 21.19511639278745,
            "bin_start": 17.418216793320997,
            "count": 1
           }
          ],
          "max": "21.19511639278745",
          "min": "-16.573879601877085",
          "nan_count": 34,
          "unique_count": 1258
         }
        },
        {
         "dtype": "float64",
         "name": "political_social_index",
         "stats": {
          "histogram": [
           {
            "bin_end": -1.5191524215857959,
            "bin_start": -1.752951814513342,
            "count": 9
           },
           {
            "bin_end": -1.2853530286582497,
            "bin_start": -1.5191524215857959,
            "count": 25
           },
           {
            "bin_end": -1.0515536357307038,
            "bin_start": -1.2853530286582497,
            "count": 38
           },
           {
            "bin_end": -0.8177542428031577,
            "bin_start": -1.0515536357307038,
            "count": 35
           },
           {
            "bin_end": -0.5839548498756115,
            "bin_start": -0.8177542428031577,
            "count": 26
           },
           {
            "bin_end": -0.3501554569480656,
            "bin_start": -0.5839548498756115,
            "count": 75
           },
           {
            "bin_end": -0.11635606402051946,
            "bin_start": -0.3501554569480656,
            "count": 107
           },
           {
            "bin_end": 0.11744332890702669,
            "bin_start": -0.11635606402051946,
            "count": 218
           },
           {
            "bin_end": 0.3512427218345726,
            "bin_start": 0.11744332890702669,
            "count": 549
           },
           {
            "bin_end": 0.5850421147621191,
            "bin_start": 0.3512427218345726,
            "count": 176
           }
          ],
          "max": "0.5850421147621191",
          "min": "-1.752951814513342",
          "nan_count": 34,
          "unique_count": 1256
         }
        },
        {
         "dtype": "object",
         "name": "change",
         "stats": {
          "categories": [
           {
            "count": 950,
            "name": "No Election"
           },
           {
            "count": 160,
            "name": "True"
           },
           {
            "count": 182,
            "name": "2 others"
           }
          ],
          "nan_count": 0,
          "unique_count": 4
         }
        },
        {
         "dtype": "float64",
         "name": "upwards_year",
         "stats": {
          "histogram": [
           {
            "bin_end": 1993.2,
            "bin_start": 1990,
            "count": 270
           },
           {
            "bin_end": 1996.4,
            "bin_start": 1993.2,
            "count": 117
           },
           {
            "bin_end": 1999.6,
            "bin_start": 1996.4,
            "count": 111
           },
           {
            "bin_end": 2002.8,
            "bin_start": 1999.6,
            "count": 115
           },
           {
            "bin_end": 2006,
            "bin_start": 2002.8,
            "count": 96
           },
           {
            "bin_end": 2009.2,
            "bin_start": 2006,
            "count": 152
           },
           {
            "bin_end": 2012.4,
            "bin_start": 2009.2,
            "count": 114
           },
           {
            "bin_end": 2015.6,
            "bin_start": 2012.4,
            "count": 118
           },
           {
            "bin_end": 2018.8,
            "bin_start": 2015.6,
            "count": 104
           },
           {
            "bin_end": 2022,
            "bin_start": 2018.8,
            "count": 95
           }
          ],
          "max": "2022.0",
          "min": "1990.0",
          "nan_count": 0,
          "unique_count": 30
         }
        },
        {
         "dtype": "float64",
         "name": "downwards_year",
         "stats": {
          "histogram": [
           {
            "bin_end": 1996.9,
            "bin_start": 1994,
            "count": 183
           },
           {
            "bin_end": 1999.8,
            "bin_start": 1996.9,
            "count": 137
           },
           {
            "bin_end": 2002.7,
            "bin_start": 1999.8,
            "count": 115
           },
           {
            "bin_end": 2005.6,
            "bin_start": 2002.7,
            "count": 98
           },
           {
            "bin_end": 2008.5,
            "bin_start": 2005.6,
            "count": 118
           },
           {
            "bin_end": 2011.4,
            "bin_start": 2008.5,
            "count": 117
           },
           {
            "bin_end": 2014.3,
            "bin_start": 2011.4,
            "count": 99
           },
           {
            "bin_end": 2017.2,
            "bin_start": 2014.3,
            "count": 112
           },
           {
            "bin_end": 2020.1,
            "bin_start": 2017.2,
            "count": 111
           },
           {
            "bin_end": 2023,
            "bin_start": 2020.1,
            "count": 202
           }
          ],
          "max": "2023.0",
          "min": "1994.0",
          "nan_count": 0,
          "unique_count": 30
         }
        },
        {
         "dtype": "int64",
         "name": "_deepnote_index_column"
        }
       ],
       "row_count": 1292,
       "rows": [
        {
         "Freedom of Religion (highest score=1)": "nan",
         "Urban population (% of total population)": "nan",
         "Voter turnout (highest score=1)": "nan",
         "_deepnote_index_column": 0,
         "change": "No Election",
         "country": "Unnamed: 38",
         "downwards_year": 2023,
         "economic_stability_index": "nan",
         "ethnicity_ratio": "nan",
         "political_social_index": "nan",
         "upwards_year": 1990,
         "year": 2023
        },
        {
         "Freedom of Religion (highest score=1)": "nan",
         "Urban population (% of total population)": "nan",
         "Voter turnout (highest score=1)": "nan",
         "_deepnote_index_column": 1,
         "change": "No Election",
         "country": "Unnamed: 38",
         "downwards_year": 2023,
         "economic_stability_index": "nan",
         "ethnicity_ratio": "nan",
         "political_social_index": "nan",
         "upwards_year": 1990,
         "year": 2022
        },
        {
         "Freedom of Religion (highest score=1)": "nan",
         "Urban population (% of total population)": "nan",
         "Voter turnout (highest score=1)": "nan",
         "_deepnote_index_column": 2,
         "change": "No Election",
         "country": "Unnamed: 38",
         "downwards_year": 2023,
         "economic_stability_index": "nan",
         "ethnicity_ratio": "nan",
         "political_social_index": "nan",
         "upwards_year": 1990,
         "year": 2021
        },
        {
         "Freedom of Religion (highest score=1)": "nan",
         "Urban population (% of total population)": "nan",
         "Voter turnout (highest score=1)": "nan",
         "_deepnote_index_column": 3,
         "change": "No Election",
         "country": "Unnamed: 38",
         "downwards_year": 2023,
         "economic_stability_index": "nan",
         "ethnicity_ratio": "nan",
         "political_social_index": "nan",
         "upwards_year": 1990,
         "year": 2020
        },
        {
         "Freedom of Religion (highest score=1)": "nan",
         "Urban population (% of total population)": "nan",
         "Voter turnout (highest score=1)": "nan",
         "_deepnote_index_column": 4,
         "change": "No Election",
         "country": "Unnamed: 38",
         "downwards_year": 2023,
         "economic_stability_index": "nan",
         "ethnicity_ratio": "nan",
         "political_social_index": "nan",
         "upwards_year": 1990,
         "year": 2019
        },
        {
         "Freedom of Religion (highest score=1)": "nan",
         "Urban population (% of total population)": "nan",
         "Voter turnout (highest score=1)": "nan",
         "_deepnote_index_column": 5,
         "change": "No Election",
         "country": "Unnamed: 38",
         "downwards_year": 2023,
         "economic_stability_index": "nan",
         "ethnicity_ratio": "nan",
         "political_social_index": "nan",
         "upwards_year": 1990,
         "year": 2018
        },
        {
         "Freedom of Religion (highest score=1)": "nan",
         "Urban population (% of total population)": "nan",
         "Voter turnout (highest score=1)": "nan",
         "_deepnote_index_column": 6,
         "change": "No Election",
         "country": "Unnamed: 38",
         "downwards_year": 2023,
         "economic_stability_index": "nan",
         "ethnicity_ratio": "nan",
         "political_social_index": "nan",
         "upwards_year": 1990,
         "year": 2017
        },
        {
         "Freedom of Religion (highest score=1)": "nan",
         "Urban population (% of total population)": "nan",
         "Voter turnout (highest score=1)": "nan",
         "_deepnote_index_column": 7,
         "change": "No Election",
         "country": "Unnamed: 38",
         "downwards_year": 2023,
         "economic_stability_index": "nan",
         "ethnicity_ratio": "nan",
         "political_social_index": "nan",
         "upwards_year": 1990,
         "year": 2016
        },
        {
         "Freedom of Religion (highest score=1)": "nan",
         "Urban population (% of total population)": "nan",
         "Voter turnout (highest score=1)": "nan",
         "_deepnote_index_column": 8,
         "change": "No Election",
         "country": "Unnamed: 38",
         "downwards_year": 2023,
         "economic_stability_index": "nan",
         "ethnicity_ratio": "nan",
         "political_social_index": "nan",
         "upwards_year": 1990,
         "year": 2015
        },
        {
         "Freedom of Religion (highest score=1)": "nan",
         "Urban population (% of total population)": "nan",
         "Voter turnout (highest score=1)": "nan",
         "_deepnote_index_column": 9,
         "change": "No Election",
         "country": "Unnamed: 38",
         "downwards_year": 2023,
         "economic_stability_index": "nan",
         "ethnicity_ratio": "nan",
         "political_social_index": "nan",
         "upwards_year": 1990,
         "year": 2014
        },
        {
         "Freedom of Religion (highest score=1)": "nan",
         "Urban population (% of total population)": "nan",
         "Voter turnout (highest score=1)": "nan",
         "_deepnote_index_column": 10,
         "change": "No Election",
         "country": "Unnamed: 38",
         "downwards_year": 2023,
         "economic_stability_index": "nan",
         "ethnicity_ratio": "nan",
         "political_social_index": "nan",
         "upwards_year": 1990,
         "year": 2013
        },
        {
         "Freedom of Religion (highest score=1)": "nan",
         "Urban population (% of total population)": "nan",
         "Voter turnout (highest score=1)": "nan",
         "_deepnote_index_column": 11,
         "change": "No Election",
         "country": "Unnamed: 38",
         "downwards_year": 2023,
         "economic_stability_index": "nan",
         "ethnicity_ratio": "nan",
         "political_social_index": "nan",
         "upwards_year": 1990,
         "year": 2012
        },
        {
         "Freedom of Religion (highest score=1)": "nan",
         "Urban population (% of total population)": "nan",
         "Voter turnout (highest score=1)": "nan",
         "_deepnote_index_column": 12,
         "change": "No Election",
         "country": "Unnamed: 38",
         "downwards_year": 2023,
         "economic_stability_index": "nan",
         "ethnicity_ratio": "nan",
         "political_social_index": "nan",
         "upwards_year": 1990,
         "year": 2011
        },
        {
         "Freedom of Religion (highest score=1)": "nan",
         "Urban population (% of total population)": "nan",
         "Voter turnout (highest score=1)": "nan",
         "_deepnote_index_column": 13,
         "change": "No Election",
         "country": "Unnamed: 38",
         "downwards_year": 2023,
         "economic_stability_index": "nan",
         "ethnicity_ratio": "nan",
         "political_social_index": "nan",
         "upwards_year": 1990,
         "year": 2010
        },
        {
         "Freedom of Religion (highest score=1)": "nan",
         "Urban population (% of total population)": "nan",
         "Voter turnout (highest score=1)": "nan",
         "_deepnote_index_column": 14,
         "change": "No Election",
         "country": "Unnamed: 38",
         "downwards_year": 2023,
         "economic_stability_index": "nan",
         "ethnicity_ratio": "nan",
         "political_social_index": "nan",
         "upwards_year": 1990,
         "year": 2009
        },
        {
         "Freedom of Religion (highest score=1)": "nan",
         "Urban population (% of total population)": "nan",
         "Voter turnout (highest score=1)": "nan",
         "_deepnote_index_column": 15,
         "change": "No Election",
         "country": "Unnamed: 38",
         "downwards_year": 2023,
         "economic_stability_index": "nan",
         "ethnicity_ratio": "nan",
         "political_social_index": "nan",
         "upwards_year": 1990,
         "year": 2008
        },
        {
         "Freedom of Religion (highest score=1)": "nan",
         "Urban population (% of total population)": "nan",
         "Voter turnout (highest score=1)": "nan",
         "_deepnote_index_column": 16,
         "change": "No Election",
         "country": "Unnamed: 38",
         "downwards_year": 2023,
         "economic_stability_index": "nan",
         "ethnicity_ratio": "nan",
         "political_social_index": "nan",
         "upwards_year": 1990,
         "year": 2007
        },
        {
         "Freedom of Religion (highest score=1)": "nan",
         "Urban population (% of total population)": "nan",
         "Voter turnout (highest score=1)": "nan",
         "_deepnote_index_column": 17,
         "change": "No Election",
         "country": "Unnamed: 38",
         "downwards_year": 2023,
         "economic_stability_index": "nan",
         "ethnicity_ratio": "nan",
         "political_social_index": "nan",
         "upwards_year": 1990,
         "year": 2006
        },
        {
         "Freedom of Religion (highest score=1)": "nan",
         "Urban population (% of total population)": "nan",
         "Voter turnout (highest score=1)": "nan",
         "_deepnote_index_column": 18,
         "change": "No Election",
         "country": "Unnamed: 38",
         "downwards_year": 2023,
         "economic_stability_index": "nan",
         "ethnicity_ratio": "nan",
         "political_social_index": "nan",
         "upwards_year": 1990,
         "year": 2005
        },
        {
         "Freedom of Religion (highest score=1)": "nan",
         "Urban population (% of total population)": "nan",
         "Voter turnout (highest score=1)": "nan",
         "_deepnote_index_column": 19,
         "change": "No Election",
         "country": "Unnamed: 38",
         "downwards_year": 2023,
         "economic_stability_index": "nan",
         "ethnicity_ratio": "nan",
         "political_social_index": "nan",
         "upwards_year": 1990,
         "year": 2004
        },
        {
         "Freedom of Religion (highest score=1)": "nan",
         "Urban population (% of total population)": "nan",
         "Voter turnout (highest score=1)": "nan",
         "_deepnote_index_column": 20,
         "change": "No Election",
         "country": "Unnamed: 38",
         "downwards_year": 2023,
         "economic_stability_index": "nan",
         "ethnicity_ratio": "nan",
         "political_social_index": "nan",
         "upwards_year": 1990,
         "year": 2003
        },
        {
         "Freedom of Religion (highest score=1)": "nan",
         "Urban population (% of total population)": "nan",
         "Voter turnout (highest score=1)": "nan",
         "_deepnote_index_column": 21,
         "change": "No Election",
         "country": "Unnamed: 38",
         "downwards_year": 2023,
         "economic_stability_index": "nan",
         "ethnicity_ratio": "nan",
         "political_social_index": "nan",
         "upwards_year": 1990,
         "year": 2002
        },
        {
         "Freedom of Religion (highest score=1)": "nan",
         "Urban population (% of total population)": "nan",
         "Voter turnout (highest score=1)": "nan",
         "_deepnote_index_column": 22,
         "change": "No Election",
         "country": "Unnamed: 38",
         "downwards_year": 2023,
         "economic_stability_index": "nan",
         "ethnicity_ratio": "nan",
         "political_social_index": "nan",
         "upwards_year": 1990,
         "year": 2001
        },
        {
         "Freedom of Religion (highest score=1)": "nan",
         "Urban population (% of total population)": "nan",
         "Voter turnout (highest score=1)": "nan",
         "_deepnote_index_column": 23,
         "change": "No Election",
         "country": "Unnamed: 38",
         "downwards_year": 2023,
         "economic_stability_index": "nan",
         "ethnicity_ratio": "nan",
         "political_social_index": "nan",
         "upwards_year": 1990,
         "year": 2000
        },
        {
         "Freedom of Religion (highest score=1)": "nan",
         "Urban population (% of total population)": "nan",
         "Voter turnout (highest score=1)": "nan",
         "_deepnote_index_column": 24,
         "change": "No Election",
         "country": "Unnamed: 38",
         "downwards_year": 2023,
         "economic_stability_index": "nan",
         "ethnicity_ratio": "nan",
         "political_social_index": "nan",
         "upwards_year": 1990,
         "year": 1999
        },
        {
         "Freedom of Religion (highest score=1)": "nan",
         "Urban population (% of total population)": "nan",
         "Voter turnout (highest score=1)": "nan",
         "_deepnote_index_column": 25,
         "change": "No Election",
         "country": "Unnamed: 38",
         "downwards_year": 2023,
         "economic_stability_index": "nan",
         "ethnicity_ratio": "nan",
         "political_social_index": "nan",
         "upwards_year": 1990,
         "year": 1998
        },
        {
         "Freedom of Religion (highest score=1)": "nan",
         "Urban population (% of total population)": "nan",
         "Voter turnout (highest score=1)": "nan",
         "_deepnote_index_column": 26,
         "change": "No Election",
         "country": "Unnamed: 38",
         "downwards_year": 2023,
         "economic_stability_index": "nan",
         "ethnicity_ratio": "nan",
         "political_social_index": "nan",
         "upwards_year": 1990,
         "year": 1997
        },
        {
         "Freedom of Religion (highest score=1)": "nan",
         "Urban population (% of total population)": "nan",
         "Voter turnout (highest score=1)": "nan",
         "_deepnote_index_column": 27,
         "change": "No Election",
         "country": "Unnamed: 38",
         "downwards_year": 2023,
         "economic_stability_index": "nan",
         "ethnicity_ratio": "nan",
         "political_social_index": "nan",
         "upwards_year": 1990,
         "year": 1996
        },
        {
         "Freedom of Religion (highest score=1)": "nan",
         "Urban population (% of total population)": "nan",
         "Voter turnout (highest score=1)": "nan",
         "_deepnote_index_column": 28,
         "change": "No Election",
         "country": "Unnamed: 38",
         "downwards_year": 2023,
         "economic_stability_index": "nan",
         "ethnicity_ratio": "nan",
         "political_social_index": "nan",
         "upwards_year": 1990,
         "year": 1995
        },
        {
         "Freedom of Religion (highest score=1)": "nan",
         "Urban population (% of total population)": "nan",
         "Voter turnout (highest score=1)": "nan",
         "_deepnote_index_column": 29,
         "change": "No Election",
         "country": "Unnamed: 38",
         "downwards_year": 2023,
         "economic_stability_index": "nan",
         "ethnicity_ratio": "nan",
         "political_social_index": "nan",
         "upwards_year": 1990,
         "year": 1994
        },
        {
         "Freedom of Religion (highest score=1)": "nan",
         "Urban population (% of total population)": "nan",
         "Voter turnout (highest score=1)": "nan",
         "_deepnote_index_column": 30,
         "change": "No Election",
         "country": "Unnamed: 38",
         "downwards_year": 2023,
         "economic_stability_index": "nan",
         "ethnicity_ratio": "nan",
         "political_social_index": "nan",
         "upwards_year": 1990,
         "year": 1993
        },
        {
         "Freedom of Religion (highest score=1)": "nan",
         "Urban population (% of total population)": "nan",
         "Voter turnout (highest score=1)": "nan",
         "_deepnote_index_column": 31,
         "change": "No Election",
         "country": "Unnamed: 38",
         "downwards_year": 2023,
         "economic_stability_index": "nan",
         "ethnicity_ratio": "nan",
         "political_social_index": "nan",
         "upwards_year": 1990,
         "year": 1992
        },
        {
         "Freedom of Religion (highest score=1)": "nan",
         "Urban population (% of total population)": "nan",
         "Voter turnout (highest score=1)": "nan",
         "_deepnote_index_column": 32,
         "change": "No Election",
         "country": "Unnamed: 38",
         "downwards_year": 2023,
         "economic_stability_index": "nan",
         "ethnicity_ratio": "nan",
         "political_social_index": "nan",
         "upwards_year": 1990,
         "year": 1991
        },
        {
         "Freedom of Religion (highest score=1)": "nan",
         "Urban population (% of total population)": "nan",
         "Voter turnout (highest score=1)": "nan",
         "_deepnote_index_column": 33,
         "change": "END",
         "country": "Unnamed: 38",
         "downwards_year": 2023,
         "economic_stability_index": "nan",
         "ethnicity_ratio": "nan",
         "political_social_index": "nan",
         "upwards_year": 1990,
         "year": 1990
        },
        {
         "Freedom of Religion (highest score=1)": 0.9954119658119658,
         "Urban population (% of total population)": 83.298,
         "Voter turnout (highest score=1)": 0.42,
         "_deepnote_index_column": 34,
         "change": "No Election",
         "country": "United States",
         "downwards_year": 2023,
         "economic_stability_index": -0.5612104140729883,
         "ethnicity_ratio": 0.5657797853054944,
         "political_social_index": -0.0287622850917032,
         "upwards_year": 2020,
         "year": 2023
        },
        {
         "Freedom of Religion (highest score=1)": 1,
         "Urban population (% of total population)": 83.084,
         "Voter turnout (highest score=1)": 0.42,
         "_deepnote_index_column": 35,
         "change": "No Election",
         "country": "United States",
         "downwards_year": 2023,
         "economic_stability_index": -0.5578294789277395,
         "ethnicity_ratio": 0.578393609757768,
         "political_social_index": -0.0497287024726518,
         "upwards_year": 2020,
         "year": 2022
        },
        {
         "Freedom of Religion (highest score=1)": 1,
         "Urban population (% of total population)": 82.873,
         "Voter turnout (highest score=1)": 0.62,
         "_deepnote_index_column": 36,
         "change": "No Election",
         "country": "United States",
         "downwards_year": 2023,
         "economic_stability_index": 3.670224132342392,
         "ethnicity_ratio": 0.6,
         "political_social_index": -0.0904213175353376,
         "upwards_year": 2020,
         "year": 2021
        },
        {
         "Freedom of Religion (highest score=1)": 1,
         "Urban population (% of total population)": 82.664,
         "Voter turnout (highest score=1)": 0.62,
         "_deepnote_index_column": 37,
         "change": "True",
         "country": "United States",
         "downwards_year": 2020,
         "economic_stability_index": -5.810274199876636,
         "ethnicity_ratio": 0.6,
         "political_social_index": -0.1492411254661823,
         "upwards_year": 2016,
         "year": 2020
        },
        {
         "Freedom of Religion (highest score=1)": 1,
         "Urban population (% of total population)": 82.459,
         "Voter turnout (highest score=1)": 0.47,
         "_deepnote_index_column": 38,
         "change": "No Election",
         "country": "United States",
         "downwards_year": 2020,
         "economic_stability_index": -0.27972467696544,
         "ethnicity_ratio": 0.6,
         "political_social_index": -0.120551211751726,
         "upwards_year": 2016,
         "year": 2019
        },
        {
         "Freedom of Religion (highest score=1)": 1,
         "Urban population (% of total population)": 82.256,
         "Voter turnout (highest score=1)": 0.47,
         "_deepnote_index_column": 39,
         "change": "No Election",
         "country": "United States",
         "downwards_year": 2020,
         "economic_stability_index": 0.295479252482242,
         "ethnicity_ratio": 0.6,
         "political_social_index": -0.103774793966035,
         "upwards_year": 2016,
         "year": 2018
        },
        {
         "Freedom of Religion (highest score=1)": 0.97,
         "Urban population (% of total population)": 82.058,
         "Voter turnout (highest score=1)": 0.56,
         "_deepnote_index_column": 40,
         "change": "No Election",
         "country": "United States",
         "downwards_year": 2020,
         "economic_stability_index": -0.5122573188841059,
         "ethnicity_ratio": 0.66,
         "political_social_index": -0.0856433356071462,
         "upwards_year": 2016,
         "year": 2017
        },
        {
         "Freedom of Religion (highest score=1)": 0.97,
         "Urban population (% of total population)": 81.862,
         "Voter turnout (highest score=1)": 0.56,
         "_deepnote_index_column": 41,
         "change": "True",
         "country": "United States",
         "downwards_year": 2016,
         "economic_stability_index": -1.1760090653024315,
         "ethnicity_ratio": 0.66,
         "political_social_index": 0.0176230197414189,
         "upwards_year": 2012,
         "year": 2016
        },
        {
         "Freedom of Religion (highest score=1)": 1,
         "Urban population (% of total population)": 81.671,
         "Voter turnout (highest score=1)": 0.32,
         "_deepnote_index_column": 42,
         "change": "No Election",
         "country": "United States",
         "downwards_year": 2016,
         "economic_stability_index": -0.1563848683750454,
         "ethnicity_ratio": 0.66,
         "political_social_index": 0.128061586665085,
         "upwards_year": 2012,
         "year": 2015
        },
        {
         "Freedom of Religion (highest score=1)": 1,
         "Urban population (% of total population)": 81.483,
         "Voter turnout (highest score=1)": 0.32,
         "_deepnote_index_column": 43,
         "change": "No Election",
         "country": "United States",
         "downwards_year": 2016,
         "economic_stability_index": -0.5690063012732793,
         "ethnicity_ratio": 0.66,
         "political_social_index": 0.1378276733017018,
         "upwards_year": 2012,
         "year": 2014
        },
        {
         "Freedom of Religion (highest score=1)": 1,
         "Urban population (% of total population)": 81.299,
         "Voter turnout (highest score=1)": 0.53,
         "_deepnote_index_column": 44,
         "change": "No Election",
         "country": "United States",
         "downwards_year": 2016,
         "economic_stability_index": -0.9707049993830456,
         "ethnicity_ratio": 0.66,
         "political_social_index": 0.1375517498749355,
         "upwards_year": 2012,
         "year": 2013
        },
        {
         "Freedom of Religion (highest score=1)": 1,
         "Urban population (% of total population)": 81.119,
         "Voter turnout (highest score=1)": 0.53,
         "_deepnote_index_column": 45,
         "change": "False",
         "country": "United States",
         "downwards_year": 2012,
         "economic_stability_index": -0.5762849998054488,
         "ethnicity_ratio": 0.66,
         "political_social_index": 0.1346903111507698,
         "upwards_year": 2008,
         "year": 2012
        },
        {
         "Freedom of Religion (highest score=1)": 0.98,
         "Urban population (% of total population)": 80.944,
         "Voter turnout (highest score=1)": 0.37,
         "_deepnote_index_column": 46,
         "change": "No Election",
         "country": "United States",
         "downwards_year": 2012,
         "economic_stability_index": -1.294884619913132,
         "ethnicity_ratio": 0.66,
         "political_social_index": 0.1289795947243811,
         "upwards_year": 2008,
         "year": 2011
        },
        {
         "Freedom of Religion (highest score=1)": 0.98,
         "Urban population (% of total population)": 80.772,
         "Voter turnout (highest score=1)": 0.37,
         "_deepnote_index_column": 47,
         "change": "No Election",
         "country": "United States",
         "downwards_year": 2012,
         "economic_stability_index": -0.2491227233882714,
         "ethnicity_ratio": 0.66,
         "political_social_index": 0.1375148347323945,
         "upwards_year": 2008,
         "year": 2010
        },
        {
         "Freedom of Religion (highest score=1)": 0.98,
         "Urban population (% of total population)": 80.606,
         "Voter turnout (highest score=1)": 0.57,
         "_deepnote_index_column": 48,
         "change": "No Election",
         "country": "United States",
         "downwards_year": 2012,
         "economic_stability_index": -5.55944063987495,
         "ethnicity_ratio": 0.66,
         "political_social_index": 0.1313834428427584,
         "upwards_year": 2008,
         "year": 2009
        },
        {
         "Freedom of Religion (highest score=1)": 0.98,
         "Urban population (% of total population)": 80.438,
         "Voter turnout (highest score=1)": 0.57,
         "_deepnote_index_column": 49,
         "change": "True",
         "country": "United States",
         "downwards_year": 2008,
         "economic_stability_index": -2.9297872046843314,
         "ethnicity_ratio": 0.691,
         "political_social_index": 0.1171689354989914,
         "upwards_year": 2004,
         "year": 2008
        },
        {
         "Freedom of Religion (highest score=1)": 0.98,
         "Urban population (% of total population)": 80.269,
         "Voter turnout (highest score=1)": 0.36,
         "_deepnote_index_column": 50,
         "change": "No Election",
         "country": "United States",
         "downwards_year": 2008,
         "economic_stability_index": -1.064488215957665,
         "ethnicity_ratio": 0.691,
         "political_social_index": 0.1151783029209674,
         "upwards_year": 2004,
         "year": 2007
        },
        {
         "Freedom of Religion (highest score=1)": 0.98,
         "Urban population (% of total population)": 80.099,
         "Voter turnout (highest score=1)": 0.36,
         "_deepnote_index_column": 51,
         "change": "No Election",
         "country": "United States",
         "downwards_year": 2008,
         "economic_stability_index": -0.3129274298943382,
         "ethnicity_ratio": 0.691,
         "political_social_index": 0.089942152522478,
         "upwards_year": 2004,
         "year": 2006
        },
        {
         "Freedom of Religion (highest score=1)": 0.98,
         "Urban population (% of total population)": 79.928,
         "Voter turnout (highest score=1)": 0.56,
         "_deepnote_index_column": 52,
         "change": "No Election",
         "country": "United States",
         "downwards_year": 2008,
         "economic_stability_index": 0.424359215423356,
         "ethnicity_ratio": 0.691,
         "political_social_index": 0.0610365957284423,
         "upwards_year": 2004,
         "year": 2005
        },
        {
         "Freedom of Religion (highest score=1)": 0.98,
         "Urban population (% of total population)": 79.757,
         "Voter turnout (highest score=1)": 0.56,
         "_deepnote_index_column": 53,
         "change": "False",
         "country": "United States",
         "downwards_year": 2004,
         "economic_stability_index": 0.7864048454276946,
         "ethnicity_ratio": 0.691,
         "political_social_index": 0.0617919766960537,
         "upwards_year": 2000,
         "year": 2004
        },
        {
         "Freedom of Religion (highest score=1)": 0.98,
         "Urban population (% of total population)": 79.583,
         "Voter turnout (highest score=1)": 0.34,
         "_deepnote_index_column": 54,
         "change": "No Election",
         "country": "United States",
         "downwards_year": 2004,
         "economic_stability_index": -0.1929726390734903,
         "ethnicity_ratio": 0.691,
         "political_social_index": 0.0614010521521714,
         "upwards_year": 2000,
         "year": 2003
        },
        {
         "Freedom of Religion (highest score=1)": 0.98,
         "Urban population (% of total population)": 79.409,
         "Voter turnout (highest score=1)": 0.34,
         "_deepnote_index_column": 55,
         "change": "No Election",
         "country": "United States",
         "downwards_year": 2004,
         "economic_stability_index": -1.3526837127688165,
         "ethnicity_ratio": 0.691,
         "political_social_index": 0.0390047226242673,
         "upwards_year": 2000,
         "year": 2002
        },
        {
         "Freedom of Religion (highest score=1)": 0.98,
         "Urban population (% of total population)": 79.234,
         "Voter turnout (highest score=1)": 0.52,
         "_deepnote_index_column": 56,
         "change": "No Election",
         "country": "United States",
         "downwards_year": 2004,
         "economic_stability_index": -2.149370595571182,
         "ethnicity_ratio": 0.691,
         "political_social_index": 0.0270091014895425,
         "upwards_year": 2000,
         "year": 2001
        },
        {
         "Freedom of Religion (highest score=1)": 0.98,
         "Urban population (% of total population)": 79.057,
         "Voter turnout (highest score=1)": 0.52,
         "_deepnote_index_column": 57,
         "change": "True",
         "country": "United States",
         "downwards_year": 2000,
         "economic_stability_index": 0.8159966073378667,
         "ethnicity_ratio": 0.691,
         "political_social_index": 0.0639914659318714,
         "upwards_year": 1996,
         "year": 2000
        },
        {
         "Freedom of Religion (highest score=1)": 0.98,
         "Urban population (% of total population)": 78.742,
         "Voter turnout (highest score=1)": 0.34,
         "_deepnote_index_column": 58,
         "change": "No Election",
         "country": "United States",
         "downwards_year": 2000,
         "economic_stability_index": 1.488534028604301,
         "ethnicity_ratio": 0.691,
         "political_social_index": 0.0841130250440477,
         "upwards_year": 1996,
         "year": 1999
        },
        {
         "Freedom of Religion (highest score=1)": 0.98,
         "Urban population (% of total population)": 78.377,
         "Voter turnout (highest score=1)": 0.34,
         "_deepnote_index_column": 59,
         "change": "No Election",
         "country": "United States",
         "downwards_year": 2000,
         "economic_stability_index": 1.161055193731739,
         "ethnicity_ratio": 0.691,
         "political_social_index": 0.0833117509466301,
         "upwards_year": 1996,
         "year": 1998
        },
        {
         "Freedom of Religion (highest score=1)": 0.98,
         "Urban population (% of total population)": 78.008,
         "Voter turnout (highest score=1)": 0.53,
         "_deepnote_index_column": 60,
         "change": "No Election",
         "country": "United States",
         "downwards_year": 2000,
         "economic_stability_index": 1.0877536562097536,
         "ethnicity_ratio": 0.691,
         "political_social_index": 0.0830865289545491,
         "upwards_year": 1996,
         "year": 1997
        },
        {
         "Freedom of Religion (highest score=1)": 0.98,
         "Urban population (% of total population)": 77.636,
         "Voter turnout (highest score=1)": 0.53,
         "_deepnote_index_column": 61,
         "change": "False",
         "country": "United States",
         "downwards_year": 1996,
         "economic_stability_index": 0.462791443199631,
         "ethnicity_ratio": 0.691,
         "political_social_index": 0.0831084828311521,
         "upwards_year": 1990,
         "year": 1996
        },
        {
         "Freedom of Religion (highest score=1)": 0.98,
         "Urban population (% of total population)": 77.257,
         "Voter turnout (highest score=1)": 0.38,
         "_deepnote_index_column": 62,
         "change": "No Election",
         "country": "United States",
         "downwards_year": 1996,
         "economic_stability_index": -0.6407598479658407,
         "ethnicity_ratio": 0.691,
         "political_social_index": 0.084357267665336,
         "upwards_year": 1990,
         "year": 1995
        },
        {
         "Freedom of Religion (highest score=1)": 0.98,
         "Urban population (% of total population)": 76.875,
         "Voter turnout (highest score=1)": 0.38,
         "_deepnote_index_column": 63,
         "change": "No Election",
         "country": "United States",
         "downwards_year": 1996,
         "economic_stability_index": 0.6513889635704632,
         "ethnicity_ratio": 0.691,
         "political_social_index": 0.0825225324168612,
         "upwards_year": 1990,
         "year": 1994
        },
        {
         "Freedom of Religion (highest score=1)": 0.98,
         "Urban population (% of total population)": 76.488,
         "Voter turnout (highest score=1)": 0.6,
         "_deepnote_index_column": 64,
         "change": "No Election",
         "country": "United States",
         "downwards_year": 1996,
         "economic_stability_index": -0.7037813765356956,
         "ethnicity_ratio": 0.691,
         "political_social_index": 0.0850460059733157,
         "upwards_year": 1990,
         "year": 1993
        },
        {
         "Freedom of Religion (highest score=1)": 0.98,
         "Urban population (% of total population)": 76.097,
         "Voter turnout (highest score=1)": 0.6,
         "_deepnote_index_column": 65,
         "change": "No Election",
         "country": "United States",
         "downwards_year": 1996,
         "economic_stability_index": -0.0128741462897139,
         "ethnicity_ratio": 0.691,
         "political_social_index": 0.0897161315294101,
         "upwards_year": 1990,
         "year": 1992
        },
        {
         "Freedom of Religion (highest score=1)": 0.98,
         "Urban population (% of total population)": 75.701,
         "Voter turnout (highest score=1)": 0.35,
         "_deepnote_index_column": 66,
         "change": "No Election",
         "country": "United States",
         "downwards_year": 1996,
         "economic_stability_index": -3.543702218544445,
         "ethnicity_ratio": 0.691,
         "political_social_index": 0.0713795709612654,
         "upwards_year": 1990,
         "year": 1991
        },
        {
         "Freedom of Religion (highest score=1)": 0.98,
         "Urban population (% of total population)": 75.3,
         "Voter turnout (highest score=1)": 0.35,
         "_deepnote_index_column": 67,
         "change": "END",
         "country": "United States",
         "downwards_year": 1996,
         "economic_stability_index": -1.3680169715769066,
         "ethnicity_ratio": 0.691,
         "political_social_index": 0.0787214619703895,
         "upwards_year": 1990,
         "year": 1990
        },
        {
         "Freedom of Religion (highest score=1)": 0.9567452991452992,
         "Urban population (% of total population)": 84.642,
         "Voter turnout (highest score=1)": 0.6972598291304166,
         "_deepnote_index_column": 68,
         "change": "No Election",
         "country": "United Kingdom",
         "downwards_year": 2023,
         "economic_stability_index": 2.2864611464013405,
         "ethnicity_ratio": 0.815,
         "political_social_index": 0.1060728206419298,
         "upwards_year": 2019,
         "year": 2023
        },
        {
         "Freedom of Religion (highest score=1)": 1,
         "Urban population (% of total population)": 84.398,
         "Voter turnout (highest score=1)": 0.62,
         "_deepnote_index_column": 69,
         "change": "No Election",
         "country": "United Kingdom",
         "downwards_year": 2023,
         "economic_stability_index": 2.32249634275854,
         "ethnicity_ratio": 0.815,
         "political_social_index": 0.1551958201830457,
         "upwards_year": 2019,
         "year": 2022
        },
        {
         "Freedom of Religion (highest score=1)": 1,
         "Urban population (% of total population)": 84.152,
         "Voter turnout (highest score=1)": 0.62,
         "_deepnote_index_column": 70,
         "change": "No Election",
         "country": "United Kingdom",
         "downwards_year": 2023,
         "economic_stability_index": 6.654439684428736,
         "ethnicity_ratio": 0.815,
         "political_social_index": 0.1847402399859729,
         "upwards_year": 2019,
         "year": 2021
        },
        {
         "Freedom of Religion (highest score=1)": 1,
         "Urban population (% of total population)": 83.903,
         "Voter turnout (highest score=1)": 0.62,
         "_deepnote_index_column": 71,
         "change": "No Election",
         "country": "United Kingdom",
         "downwards_year": 2023,
         "economic_stability_index": -12.79668929756559,
         "ethnicity_ratio": 0.815,
         "political_social_index": 0.1899244939120729,
         "upwards_year": 2019,
         "year": 2020
        },
        {
         "Freedom of Religion (highest score=1)": 0.89,
         "Urban population (% of total population)": 83.652,
         "Voter turnout (highest score=1)": 0.62,
         "_deepnote_index_column": 72,
         "change": "False",
         "country": "United Kingdom",
         "downwards_year": 2019,
         "economic_stability_index": -1.039704831331057,
         "ethnicity_ratio": 0.815,
         "political_social_index": 0.184231346801508,
         "upwards_year": 2017,
         "year": 2019
        },
        {
         "Freedom of Religion (highest score=1)": 1,
         "Urban population (% of total population)": 83.398,
         "Voter turnout (highest score=1)": 0.63,
         "_deepnote_index_column": 73,
         "change": "No Election",
         "country": "United Kingdom",
         "downwards_year": 2019,
         "economic_stability_index": -1.3183242261339745,
         "ethnicity_ratio": 0.815,
         "political_social_index": 0.2224181613780207,
         "upwards_year": 2017,
         "year": 2018
        },
        {
         "Freedom of Religion (highest score=1)": 1,
         "Urban population (% of total population)": 83.143,
         "Voter turnout (highest score=1)": 0.63,
         "_deepnote_index_column": 74,
         "change": "False",
         "country": "United Kingdom",
         "downwards_year": 2017,
         "economic_stability_index": -0.149556574976078,
         "ethnicity_ratio": 0.815,
         "political_social_index": 0.2338103194690034,
         "upwards_year": 2015,
         "year": 2017
        },
        {
         "Freedom of Religion (highest score=1)": 0.89,
         "Urban population (% of total population)": 82.886,
         "Voter turnout (highest score=1)": 0.6,
         "_deepnote_index_column": 75,
         "change": "No Election",
         "country": "United Kingdom",
         "downwards_year": 2017,
         "economic_stability_index": -0.9580270028181198,
         "ethnicity_ratio": 0.815,
         "political_social_index": 0.2164716983805669,
         "upwards_year": 2015,
         "year": 2016
        },
        {
         "Freedom of Religion (highest score=1)": 1,
         "Urban population (% of total population)": 82.626,
         "Voter turnout (highest score=1)": 0.6,
         "_deepnote_index_column": 76,
         "change": "False",
         "country": "United Kingdom",
         "downwards_year": 2015,
         "economic_stability_index": -0.6960761643422864,
         "ethnicity_ratio": 0.815,
         "political_social_index": 0.2220640933476158,
         "upwards_year": 2010,
         "year": 2015
        },
        {
         "Freedom of Religion (highest score=1)": 1,
         "Urban population (% of total population)": 82.365,
         "Voter turnout (highest score=1)": 0.61,
         "_deepnote_index_column": 77,
         "change": "No Election",
         "country": "United Kingdom",
         "downwards_year": 2015,
         "economic_stability_index": 0.3290159315477021,
         "ethnicity_ratio": 0.815,
         "political_social_index": 0.2294145301139359,
         "upwards_year": 2010,
         "year": 2014
        },
        {
         "Freedom of Religion (highest score=1)": 1,
         "Urban population (% of total population)": 82.102,
         "Voter turnout (highest score=1)": 0.61,
         "_deepnote_index_column": 78,
         "change": "No Election",
         "country": "United Kingdom",
         "downwards_year": 2015,
         "economic_stability_index": -0.9966695109524388,
         "ethnicity_ratio": 0.815,
         "political_social_index": 0.2278634468675383,
         "upwards_year": 2010,
         "year": 2013
        },
        {
         "Freedom of Religion (highest score=1)": 1,
         "Urban population (% of total population)": 81.837,
         "Voter turnout (highest score=1)": 0.61,
         "_deepnote_index_column": 79,
         "change": "No Election",
         "country": "United Kingdom",
         "downwards_year": 2015,
         "economic_stability_index": -1.3000343207758935,
         "ethnicity_ratio": 0.815,
         "political_social_index": 0.2477655107000576,
         "upwards_year": 2010,
         "year": 2012
        },
        {
         "Freedom of Religion (highest score=1)": 0.98,
         "Urban population (% of total population)": 81.57,
         "Voter turnout (highest score=1)": 0.61,
         "_deepnote_index_column": 80,
         "change": "No Election",
         "country": "United Kingdom",
         "downwards_year": 2015,
         "economic_stability_index": -1.7518373007461097,
         "ethnicity_ratio": 0.815,
         "political_social_index": 0.2376149981928108,
         "upwards_year": 2010,
         "year": 2011
        },
        {
         "Freedom of Religion (highest score=1)": 0.85,
         "Urban population (% of total population)": 81.302,
         "Voter turnout (highest score=1)": 0.61,
         "_deepnote_index_column": 81,
         "change": "True",
         "country": "United Kingdom",
         "downwards_year": 2010,
         "economic_stability_index": -0.6691941585269652,
         "ethnicity_ratio": 0.815,
         "political_social_index": 0.2393206935271651,
         "upwards_year": 2005,
         "year": 2010
        },
        {
         "Freedom of Religion (highest score=1)": 0.98,
         "Urban population (% of total population)": 81.031,
         "Voter turnout (highest score=1)": 0.58,
         "_deepnote_index_column": 82,
         "change": "No Election",
         "country": "United Kingdom",
         "downwards_year": 2010,
         "economic_stability_index": -7.443239975851285,
         "ethnicity_ratio": 0.815,
         "political_social_index": 0.2267991664105553,
         "upwards_year": 2005,
         "year": 2009
        },
        {
         "Freedom of Religion (highest score=1)": 0.98,
         "Urban population (% of total population)": 80.757,
         "Voter turnout (highest score=1)": 0.58,
         "_deepnote_index_column": 83,
         "change": "No Election",
         "country": "United Kingdom",
         "downwards_year": 2010,
         "economic_stability_index": -3.117447184862491,
         "ethnicity_ratio": 0.815,
         "political_social_index": 0.2235903193390908,
         "upwards_year": 2005,
         "year": 2008
        },
        {
         "Freedom of Religion (highest score=1)": 0.85,
         "Urban population (% of total population)": 80.479,
         "Voter turnout (highest score=1)": 0.58,
         "_deepnote_index_column": 84,
         "change": "No Election",
         "country": "United Kingdom",
         "downwards_year": 2010,
         "economic_stability_index": -0.2851591697749356,
         "ethnicity_ratio": 0.815,
         "political_social_index": 0.2250594387811369,
         "upwards_year": 2005,
         "year": 2007
        },
        {
         "Freedom of Religion (highest score=1)": 0.98,
         "Urban population (% of total population)": 80.199,
         "Voter turnout (highest score=1)": 0.58,
         "_deepnote_index_column": 85,
         "change": "No Election",
         "country": "United Kingdom",
         "downwards_year": 2010,
         "economic_stability_index": -0.4730763706683756,
         "ethnicity_ratio": 0.815,
         "political_social_index": 0.2365334247016909,
         "upwards_year": 2005,
         "year": 2006
        },
        {
         "Freedom of Religion (highest score=1)": 0.98,
         "Urban population (% of total population)": 79.915,
         "Voter turnout (highest score=1)": 0.58,
         "_deepnote_index_column": 86,
         "change": "False",
         "country": "United Kingdom",
         "downwards_year": 2005,
         "economic_stability_index": -0.073681790639734,
         "ethnicity_ratio": 0.815,
         "political_social_index": 0.229957080799114,
         "upwards_year": 2001,
         "year": 2005
        },
        {
         "Freedom of Religion (highest score=1)": 0.98,
         "Urban population (% of total population)": 79.629,
         "Voter turnout (highest score=1)": 0.57,
         "_deepnote_index_column": 87,
         "change": "No Election",
         "country": "United Kingdom",
         "downwards_year": 2005,
         "economic_stability_index": -0.2641387547630794,
         "ethnicity_ratio": 0.815,
         "political_social_index": 0.2120640362022356,
         "upwards_year": 2001,
         "year": 2004
        },
        {
         "Freedom of Religion (highest score=1)": 0.98,
         "Urban population (% of total population)": 79.339,
         "Voter turnout (highest score=1)": 0.57,
         "_deepnote_index_column": 88,
         "change": "No Election",
         "country": "United Kingdom",
         "downwards_year": 2005,
         "economic_stability_index": 0.5578619234834755,
         "ethnicity_ratio": 0.815,
         "political_social_index": 0.2135915401604438,
         "upwards_year": 2001,
         "year": 2003
        },
        {
         "Freedom of Religion (highest score=1)": 0.85,
         "Urban population (% of total population)": 79.047,
         "Voter turnout (highest score=1)": 0.57,
         "_deepnote_index_column": 89,
         "change": "No Election",
         "country": "United Kingdom",
         "downwards_year": 2005,
         "economic_stability_index": -0.7475749236374766,
         "ethnicity_ratio": 0.815,
         "political_social_index": 0.2124148675112278,
         "upwards_year": 2001,
         "year": 2002
        },
        {
         "Freedom of Religion (highest score=1)": 0.85,
         "Urban population (% of total population)": 78.751,
         "Voter turnout (highest score=1)": 0.57,
         "_deepnote_index_column": 90,
         "change": "False",
         "country": "United Kingdom",
         "downwards_year": 2001,
         "economic_stability_index": 0.0750392564147961,
         "ethnicity_ratio": 0.815,
         "political_social_index": 0.2117531569578739,
         "upwards_year": 1997,
         "year": 2001
        },
        {
         "Freedom of Religion (highest score=1)": 0.85,
         "Urban population (% of total population)": 78.651,
         "Voter turnout (highest score=1)": 0.69,
         "_deepnote_index_column": 91,
         "change": "No Election",
         "country": "United Kingdom",
         "downwards_year": 2001,
         "economic_stability_index": 1.8370938088034197,
         "ethnicity_ratio": 0.815,
         "political_social_index": 0.194508220616102,
         "upwards_year": 1997,
         "year": 2000
        },
        {
         "Freedom of Religion (highest score=1)": 0.98,
         "Urban population (% of total population)": 78.591,
         "Voter turnout (highest score=1)": 0.69,
         "_deepnote_index_column": 92,
         "change": "No Election",
         "country": "United Kingdom",
         "downwards_year": 2001,
         "economic_stability_index": 0.6135749004569789,
         "ethnicity_ratio": 0.815,
         "political_social_index": 0.1650680466162777,
         "upwards_year": 1997,
         "year": 1999
        },
        {
         "Freedom of Religion (highest score=1)": 0.98,
         "Urban population (% of total population)": 78.532,
         "Voter turnout (highest score=1)": 0.69,
         "_deepnote_index_column": 93,
         "change": "No Election",
         "country": "United Kingdom",
         "downwards_year": 2001,
         "economic_stability_index": 1.003793888078017,
         "ethnicity_ratio": 0.815,
         "political_social_index": 0.1572606217749648,
         "upwards_year": 1997,
         "year": 1998
        },
        {
         "Freedom of Religion (highest score=1)": 0.98,
         "Urban population (% of total population)": 78.472,
         "Voter turnout (highest score=1)": 0.69,
         "_deepnote_index_column": 94,
         "change": "True",
         "country": "United Kingdom",
         "downwards_year": 1997,
         "economic_stability_index": 2.5454627885407253,
         "ethnicity_ratio": 0.815,
         "political_social_index": 0.1547531548760448,
         "upwards_year": 1990,
         "year": 1997
        },
        {
         "Freedom of Religion (highest score=1)": 0.98,
         "Urban population (% of total population)": 78.413,
         "Voter turnout (highest score=1)": 0.75,
         "_deepnote_index_column": 95,
         "change": "No Election",
         "country": "United Kingdom",
         "downwards_year": 1997,
         "economic_stability_index": 0.2115867110109499,
         "ethnicity_ratio": 0.815,
         "political_social_index": 0.1512772211557608,
         "upwards_year": 1990,
         "year": 1996
        },
        {
         "Freedom of Religion (highest score=1)": 0.98,
         "Urban population (% of total population)": 78.353,
         "Voter turnout (highest score=1)": 0.75,
         "_deepnote_index_column": 96,
         "change": "No Election",
         "country": "United Kingdom",
         "downwards_year": 1997,
         "economic_stability_index": 0.1512030843484774,
         "ethnicity_ratio": 0.815,
         "political_social_index": 0.1479557630882558,
         "upwards_year": 1990,
         "year": 1995
        },
        {
         "Freedom of Religion (highest score=1)": 0.98,
         "Urban population (% of total population)": 78.293,
         "Voter turnout (highest score=1)": 0.75,
         "_deepnote_index_column": 97,
         "change": "No Election",
         "country": "United Kingdom",
         "downwards_year": 1997,
         "economic_stability_index": 1.4723812398002658,
         "ethnicity_ratio": 0.815,
         "political_social_index": 0.1476179301001343,
         "upwards_year": 1990,
         "year": 1994
        },
        {
         "Freedom of Religion (highest score=1)": 0.98,
         "Urban population (% of total population)": 78.232,
         "Voter turnout (highest score=1)": 0.75,
         "_deepnote_index_column": 98,
         "change": "No Election",
         "country": "United Kingdom",
         "downwards_year": 1997,
         "economic_stability_index": 0.1348399921864131,
         "ethnicity_ratio": 0.815,
         "political_social_index": 0.1202257373783043,
         "upwards_year": 1990,
         "year": 1993
        },
        {
         "Freedom of Religion (highest score=1)": 0.98,
         "Urban population (% of total population)": 78.172,
         "Voter turnout (highest score=1)": 0.75,
         "_deepnote_index_column": 99,
         "change": "No Election",
         "country": "United Kingdom",
         "downwards_year": 1997,
         "economic_stability_index": -1.979644330256461,
         "ethnicity_ratio": 0.815,
         "political_social_index": 0.1138759390419184,
         "upwards_year": 1990,
         "year": 1992
        }
       ],
       "type": "dataframe"
      },
      "text/html": [
       "<div>\n",
       "<style scoped>\n",
       "    .dataframe tbody tr th:only-of-type {\n",
       "        vertical-align: middle;\n",
       "    }\n",
       "\n",
       "    .dataframe tbody tr th {\n",
       "        vertical-align: top;\n",
       "    }\n",
       "\n",
       "    .dataframe thead th {\n",
       "        text-align: right;\n",
       "    }\n",
       "</style>\n",
       "<table border=\"1\" class=\"dataframe\">\n",
       "  <thead>\n",
       "    <tr style=\"text-align: right;\">\n",
       "      <th></th>\n",
       "      <th>country</th>\n",
       "      <th>year</th>\n",
       "      <th>Voter turnout (highest score=1)</th>\n",
       "      <th>Freedom of Religion (highest score=1)</th>\n",
       "      <th>Urban population (% of total population)</th>\n",
       "      <th>ethnicity_ratio</th>\n",
       "      <th>economic_stability_index</th>\n",
       "      <th>political_social_index</th>\n",
       "      <th>change</th>\n",
       "      <th>upwards_year</th>\n",
       "      <th>downwards_year</th>\n",
       "    </tr>\n",
       "  </thead>\n",
       "  <tbody>\n",
       "    <tr>\n",
       "      <th>0</th>\n",
       "      <td>Unnamed: 38</td>\n",
       "      <td>2023.0</td>\n",
       "      <td>NaN</td>\n",
       "      <td>NaN</td>\n",
       "      <td>NaN</td>\n",
       "      <td>NaN</td>\n",
       "      <td>NaN</td>\n",
       "      <td>NaN</td>\n",
       "      <td>No Election</td>\n",
       "      <td>1990.0</td>\n",
       "      <td>2023.0</td>\n",
       "    </tr>\n",
       "    <tr>\n",
       "      <th>1</th>\n",
       "      <td>Unnamed: 38</td>\n",
       "      <td>2022.0</td>\n",
       "      <td>NaN</td>\n",
       "      <td>NaN</td>\n",
       "      <td>NaN</td>\n",
       "      <td>NaN</td>\n",
       "      <td>NaN</td>\n",
       "      <td>NaN</td>\n",
       "      <td>No Election</td>\n",
       "      <td>1990.0</td>\n",
       "      <td>2023.0</td>\n",
       "    </tr>\n",
       "    <tr>\n",
       "      <th>2</th>\n",
       "      <td>Unnamed: 38</td>\n",
       "      <td>2021.0</td>\n",
       "      <td>NaN</td>\n",
       "      <td>NaN</td>\n",
       "      <td>NaN</td>\n",
       "      <td>NaN</td>\n",
       "      <td>NaN</td>\n",
       "      <td>NaN</td>\n",
       "      <td>No Election</td>\n",
       "      <td>1990.0</td>\n",
       "      <td>2023.0</td>\n",
       "    </tr>\n",
       "    <tr>\n",
       "      <th>3</th>\n",
       "      <td>Unnamed: 38</td>\n",
       "      <td>2020.0</td>\n",
       "      <td>NaN</td>\n",
       "      <td>NaN</td>\n",
       "      <td>NaN</td>\n",
       "      <td>NaN</td>\n",
       "      <td>NaN</td>\n",
       "      <td>NaN</td>\n",
       "      <td>No Election</td>\n",
       "      <td>1990.0</td>\n",
       "      <td>2023.0</td>\n",
       "    </tr>\n",
       "    <tr>\n",
       "      <th>4</th>\n",
       "      <td>Unnamed: 38</td>\n",
       "      <td>2019.0</td>\n",
       "      <td>NaN</td>\n",
       "      <td>NaN</td>\n",
       "      <td>NaN</td>\n",
       "      <td>NaN</td>\n",
       "      <td>NaN</td>\n",
       "      <td>NaN</td>\n",
       "      <td>No Election</td>\n",
       "      <td>1990.0</td>\n",
       "      <td>2023.0</td>\n",
       "    </tr>\n",
       "    <tr>\n",
       "      <th>...</th>\n",
       "      <td>...</td>\n",
       "      <td>...</td>\n",
       "      <td>...</td>\n",
       "      <td>...</td>\n",
       "      <td>...</td>\n",
       "      <td>...</td>\n",
       "      <td>...</td>\n",
       "      <td>...</td>\n",
       "      <td>...</td>\n",
       "      <td>...</td>\n",
       "      <td>...</td>\n",
       "    </tr>\n",
       "    <tr>\n",
       "      <th>1287</th>\n",
       "      <td>Australia</td>\n",
       "      <td>1994.0</td>\n",
       "      <td>0.84</td>\n",
       "      <td>0.98</td>\n",
       "      <td>85.028</td>\n",
       "      <td>0.84</td>\n",
       "      <td>0.873492</td>\n",
       "      <td>0.317162</td>\n",
       "      <td>No Election</td>\n",
       "      <td>1990.0</td>\n",
       "      <td>1996.0</td>\n",
       "    </tr>\n",
       "    <tr>\n",
       "      <th>1288</th>\n",
       "      <td>Australia</td>\n",
       "      <td>1993.0</td>\n",
       "      <td>0.84</td>\n",
       "      <td>0.98</td>\n",
       "      <td>85.157</td>\n",
       "      <td>0.84</td>\n",
       "      <td>1.014131</td>\n",
       "      <td>0.317162</td>\n",
       "      <td>No Election</td>\n",
       "      <td>1990.0</td>\n",
       "      <td>1996.0</td>\n",
       "    </tr>\n",
       "    <tr>\n",
       "      <th>1289</th>\n",
       "      <td>Australia</td>\n",
       "      <td>1992.0</td>\n",
       "      <td>0.82</td>\n",
       "      <td>0.98</td>\n",
       "      <td>85.285</td>\n",
       "      <td>0.84</td>\n",
       "      <td>-2.800049</td>\n",
       "      <td>0.314333</td>\n",
       "      <td>No Election</td>\n",
       "      <td>1990.0</td>\n",
       "      <td>1996.0</td>\n",
       "    </tr>\n",
       "    <tr>\n",
       "      <th>1290</th>\n",
       "      <td>Australia</td>\n",
       "      <td>1991.0</td>\n",
       "      <td>0.82</td>\n",
       "      <td>0.98</td>\n",
       "      <td>85.403</td>\n",
       "      <td>0.84</td>\n",
       "      <td>-3.753174</td>\n",
       "      <td>0.314108</td>\n",
       "      <td>No Election</td>\n",
       "      <td>1990.0</td>\n",
       "      <td>1996.0</td>\n",
       "    </tr>\n",
       "    <tr>\n",
       "      <th>1291</th>\n",
       "      <td>Australia</td>\n",
       "      <td>1990.0</td>\n",
       "      <td>0.82</td>\n",
       "      <td>0.98</td>\n",
       "      <td>85.433</td>\n",
       "      <td>0.84</td>\n",
       "      <td>-0.052235</td>\n",
       "      <td>0.313883</td>\n",
       "      <td>END</td>\n",
       "      <td>1990.0</td>\n",
       "      <td>1996.0</td>\n",
       "    </tr>\n",
       "  </tbody>\n",
       "</table>\n",
       "<p>1292 rows × 11 columns</p>\n",
       "</div>"
      ],
      "text/plain": [
       "          country    year  Voter turnout (highest score=1)  \\\n",
       "0     Unnamed: 38  2023.0                              NaN   \n",
       "1     Unnamed: 38  2022.0                              NaN   \n",
       "2     Unnamed: 38  2021.0                              NaN   \n",
       "3     Unnamed: 38  2020.0                              NaN   \n",
       "4     Unnamed: 38  2019.0                              NaN   \n",
       "...           ...     ...                              ...   \n",
       "1287    Australia  1994.0                             0.84   \n",
       "1288    Australia  1993.0                             0.84   \n",
       "1289    Australia  1992.0                             0.82   \n",
       "1290    Australia  1991.0                             0.82   \n",
       "1291    Australia  1990.0                             0.82   \n",
       "\n",
       "      Freedom of Religion (highest score=1)  \\\n",
       "0                                       NaN   \n",
       "1                                       NaN   \n",
       "2                                       NaN   \n",
       "3                                       NaN   \n",
       "4                                       NaN   \n",
       "...                                     ...   \n",
       "1287                                   0.98   \n",
       "1288                                   0.98   \n",
       "1289                                   0.98   \n",
       "1290                                   0.98   \n",
       "1291                                   0.98   \n",
       "\n",
       "      Urban population (% of total population)  ethnicity_ratio  \\\n",
       "0                                          NaN              NaN   \n",
       "1                                          NaN              NaN   \n",
       "2                                          NaN              NaN   \n",
       "3                                          NaN              NaN   \n",
       "4                                          NaN              NaN   \n",
       "...                                        ...              ...   \n",
       "1287                                    85.028             0.84   \n",
       "1288                                    85.157             0.84   \n",
       "1289                                    85.285             0.84   \n",
       "1290                                    85.403             0.84   \n",
       "1291                                    85.433             0.84   \n",
       "\n",
       "      economic_stability_index  political_social_index       change  \\\n",
       "0                          NaN                     NaN  No Election   \n",
       "1                          NaN                     NaN  No Election   \n",
       "2                          NaN                     NaN  No Election   \n",
       "3                          NaN                     NaN  No Election   \n",
       "4                          NaN                     NaN  No Election   \n",
       "...                        ...                     ...          ...   \n",
       "1287                  0.873492                0.317162  No Election   \n",
       "1288                  1.014131                0.317162  No Election   \n",
       "1289                 -2.800049                0.314333  No Election   \n",
       "1290                 -3.753174                0.314108  No Election   \n",
       "1291                 -0.052235                0.313883          END   \n",
       "\n",
       "      upwards_year  downwards_year  \n",
       "0           1990.0          2023.0  \n",
       "1           1990.0          2023.0  \n",
       "2           1990.0          2023.0  \n",
       "3           1990.0          2023.0  \n",
       "4           1990.0          2023.0  \n",
       "...            ...             ...  \n",
       "1287        1990.0          1996.0  \n",
       "1288        1990.0          1996.0  \n",
       "1289        1990.0          1996.0  \n",
       "1290        1990.0          1996.0  \n",
       "1291        1990.0          1996.0  \n",
       "\n",
       "[1292 rows x 11 columns]"
      ]
     },
     "execution_count": 27,
     "metadata": {},
     "output_type": "execute_result"
    }
   ],
   "source": [
    "# View the updated dataframe\n",
    "full_df"
   ]
  },
  {
   "cell_type": "code",
   "execution_count": 28,
   "metadata": {
    "cell_id": "5e0d161a513f4766867420c4faf13694",
    "deepnote_app_block_group_id": null,
    "deepnote_app_block_order": 27,
    "deepnote_app_block_visible": true,
    "deepnote_app_is_code_hidden": true,
    "deepnote_app_is_output_hidden": false,
    "deepnote_cell_type": "code",
    "deepnote_table_loading": false,
    "deepnote_table_state": {
     "cellFormattingRules": [],
     "columnDisplayNames": [],
     "columnOrder": [
      "country",
      "year",
      "Effective Parliament (highest score=1)",
      "Voter turnout (highest score=1)",
      "Media bias (highest score=1)",
      "GDP",
      "Conflict",
      "Deaths",
      "totalrefugees",
      "ethnicity_ratio",
      "economic_stability_index",
      "social_stability_index",
      "democratic_political_index",
      "change",
      "upwards_year",
      "downwards_year",
      "range"
     ],
     "conditionalFilters": [],
     "filters": [],
     "hiddenColumnIds": [],
     "pageIndex": 0,
     "pageSize": 100,
     "sortBy": [],
     "wrappedTextColumnIds": []
    },
    "execution_context_id": "f4e73ac9-64de-42e9-ae88-7619fadf8313",
    "execution_millis": 11,
    "execution_start": 1743011976214,
    "source_hash": "38adcb4e"
   },
   "outputs": [
    {
     "data": {
      "application/vnd.deepnote.dataframe.v3+json": {
       "column_count": 12,
       "columns": [
        {
         "dtype": "object",
         "name": "country",
         "stats": {
          "categories": [
           {
            "count": 34,
            "name": "Unnamed: 38"
           },
           {
            "count": 34,
            "name": "United States"
           },
           {
            "count": 1224,
            "name": "36 others"
           }
          ],
          "nan_count": 0,
          "unique_count": 38
         }
        },
        {
         "dtype": "float64",
         "name": "year",
         "stats": {
          "histogram": [
           {
            "bin_end": 1993.3,
            "bin_start": 1990,
            "count": 152
           },
           {
            "bin_end": 1996.6,
            "bin_start": 1993.3,
            "count": 114
           },
           {
            "bin_end": 1999.9,
            "bin_start": 1996.6,
            "count": 114
           },
           {
            "bin_end": 2003.2,
            "bin_start": 1999.9,
            "count": 152
           },
           {
            "bin_end": 2006.5,
            "bin_start": 2003.2,
            "count": 114
           },
           {
            "bin_end": 2009.8,
            "bin_start": 2006.5,
            "count": 114
           },
           {
            "bin_end": 2013.1,
            "bin_start": 2009.8,
            "count": 152
           },
           {
            "bin_end": 2016.4,
            "bin_start": 2013.1,
            "count": 114
           },
           {
            "bin_end": 2019.7,
            "bin_start": 2016.4,
            "count": 114
           },
           {
            "bin_end": 2023,
            "bin_start": 2019.7,
            "count": 152
           }
          ],
          "max": "2023.0",
          "min": "1990.0",
          "nan_count": 0,
          "unique_count": 34
         }
        },
        {
         "dtype": "float64",
         "name": "Voter turnout (highest score=1)",
         "stats": {
          "histogram": [
           {
            "bin_end": 0.31280444444575184,
            "bin_start": 0.24,
            "count": 8
           },
           {
            "bin_end": 0.38560888889150374,
            "bin_start": 0.31280444444575184,
            "count": 36
           },
           {
            "bin_end": 0.45841333333725565,
            "bin_start": 0.38560888889150374,
            "count": 55
           },
           {
            "bin_end": 0.5312177777830075,
            "bin_start": 0.45841333333725565,
            "count": 157
           },
           {
            "bin_end": 0.6040222222287593,
            "bin_start": 0.5312177777830075,
            "count": 170
           },
           {
            "bin_end": 0.6768266666745113,
            "bin_start": 0.6040222222287593,
            "count": 170
           },
           {
            "bin_end": 0.7496311111202631,
            "bin_start": 0.6768266666745113,
            "count": 228
           },
           {
            "bin_end": 0.822435555566015,
            "bin_start": 0.7496311111202631,
            "count": 265
           },
           {
            "bin_end": 0.8952400000117668,
            "bin_start": 0.822435555566015,
            "count": 156
           },
           {
            "bin_end": 0.9680444444575188,
            "bin_start": 0.8952400000117668,
            "count": 13
           }
          ],
          "max": "0.9680444444575188",
          "min": "0.24",
          "nan_count": 34,
          "unique_count": 97
         }
        },
        {
         "dtype": "float64",
         "name": "Freedom of Religion (highest score=1)",
         "stats": {
          "histogram": [
           {
            "bin_end": 0.4699138461538462,
            "bin_start": 0.41,
            "count": 14
           },
           {
            "bin_end": 0.5298276923076923,
            "bin_start": 0.4699138461538462,
            "count": 16
           },
           {
            "bin_end": 0.5897415384615385,
            "bin_start": 0.5298276923076923,
            "count": 4
           },
           {
            "bin_end": 0.6496553846153847,
            "bin_start": 0.5897415384615385,
            "count": 4
           },
           {
            "bin_end": 0.709569230769231,
            "bin_start": 0.6496553846153847,
            "count": 17
           },
           {
            "bin_end": 0.7694830769230772,
            "bin_start": 0.709569230769231,
            "count": 141
           },
           {
            "bin_end": 0.8293969230769233,
            "bin_start": 0.7694830769230772,
            "count": 138
           },
           {
            "bin_end": 0.8893107692307695,
            "bin_start": 0.8293969230769233,
            "count": 152
           },
           {
            "bin_end": 0.9492246153846156,
            "bin_start": 0.8893107692307695,
            "count": 81
           },
           {
            "bin_end": 1.0091384615384618,
            "bin_start": 0.9492246153846156,
            "count": 691
           }
          ],
          "max": "1.0091384615384618",
          "min": "0.41",
          "nan_count": 34,
          "unique_count": 66
         }
        },
        {
         "dtype": "float64",
         "name": "Urban population (% of total population)",
         "stats": {
          "histogram": [
           {
            "bin_end": 52.9424,
            "bin_start": 47.915,
            "count": 34
           },
           {
            "bin_end": 57.9698,
            "bin_start": 52.9424,
            "count": 40
           },
           {
            "bin_end": 62.99719999999999,
            "bin_start": 57.9698,
            "count": 101
           },
           {
            "bin_end": 68.02459999999999,
            "bin_start": 62.99719999999999,
            "count": 113
           },
           {
            "bin_end": 73.05199999999999,
            "bin_start": 68.02459999999999,
            "count": 132
           },
           {
            "bin_end": 78.07939999999999,
            "bin_start": 73.05199999999999,
            "count": 244
           },
           {
            "bin_end": 83.10679999999999,
            "bin_start": 78.07939999999999,
            "count": 231
           },
           {
            "bin_end": 88.13419999999999,
            "bin_start": 83.10679999999999,
            "count": 211
           },
           {
            "bin_end": 93.16159999999999,
            "bin_start": 88.13419999999999,
            "count": 100
           },
           {
            "bin_end": 98.189,
            "bin_start": 93.16159999999999,
            "count": 52
           }
          ],
          "max": "98.189",
          "min": "47.915",
          "nan_count": 34,
          "unique_count": 1226
         }
        },
        {
         "dtype": "float64",
         "name": "ethnicity_ratio",
         "stats": {
          "histogram": [
           {
            "bin_end": 0.1,
            "bin_start": 0,
            "count": 77
           },
           {
            "bin_end": 0.2,
            "bin_start": 0.1,
            "count": 0
           },
           {
            "bin_end": 0.30000000000000004,
            "bin_start": 0.2,
            "count": 0
           },
           {
            "bin_end": 0.4,
            "bin_start": 0.30000000000000004,
            "count": 34
           },
           {
            "bin_end": 0.5,
            "bin_start": 0.4,
            "count": 0
           },
           {
            "bin_end": 0.6000000000000001,
            "bin_start": 0.5,
            "count": 140
           },
           {
            "bin_end": 0.7000000000000001,
            "bin_start": 0.6000000000000001,
            "count": 156
           },
           {
            "bin_end": 0.8,
            "bin_start": 0.7000000000000001,
            "count": 84
           },
           {
            "bin_end": 0.9,
            "bin_start": 0.8,
            "count": 192
           },
           {
            "bin_end": 1,
            "bin_start": 0.9,
            "count": 575
           }
          ],
          "max": "1.0",
          "min": "0.0",
          "nan_count": 34,
          "unique_count": 48
         }
        },
        {
         "dtype": "float64",
         "name": "economic_stability_index",
         "stats": {
          "histogram": [
           {
            "bin_end": -12.796980002410631,
            "bin_start": -16.573879601877085,
            "count": 6
           },
           {
            "bin_end": -9.020080402944178,
            "bin_start": -12.796980002410631,
            "count": 19
           },
           {
            "bin_end": -5.243180803477724,
            "bin_start": -9.020080402944178,
            "count": 46
           },
           {
            "bin_end": -1.4662812040112705,
            "bin_start": -5.243180803477724,
            "count": 226
           },
           {
            "bin_end": 2.310618395455183,
            "bin_start": -1.4662812040112705,
            "count": 721
           },
           {
            "bin_end": 6.087517994921637,
            "bin_start": 2.310618395455183,
            "count": 201
           },
           {
            "bin_end": 9.86441759438809,
            "bin_start": 6.087517994921637,
            "count": 34
           },
           {
            "bin_end": 13.641317193854544,
            "bin_start": 9.86441759438809,
            "count": 4
           },
           {
            "bin_end": 17.418216793320997,
            "bin_start": 13.641317193854544,
            "count": 0
           },
           {
            "bin_end": 21.19511639278745,
            "bin_start": 17.418216793320997,
            "count": 1
           }
          ],
          "max": "21.19511639278745",
          "min": "-16.573879601877085",
          "nan_count": 34,
          "unique_count": 1258
         }
        },
        {
         "dtype": "float64",
         "name": "political_social_index",
         "stats": {
          "histogram": [
           {
            "bin_end": -1.5191524215857959,
            "bin_start": -1.752951814513342,
            "count": 9
           },
           {
            "bin_end": -1.2853530286582497,
            "bin_start": -1.5191524215857959,
            "count": 25
           },
           {
            "bin_end": -1.0515536357307038,
            "bin_start": -1.2853530286582497,
            "count": 38
           },
           {
            "bin_end": -0.8177542428031577,
            "bin_start": -1.0515536357307038,
            "count": 35
           },
           {
            "bin_end": -0.5839548498756115,
            "bin_start": -0.8177542428031577,
            "count": 26
           },
           {
            "bin_end": -0.3501554569480656,
            "bin_start": -0.5839548498756115,
            "count": 75
           },
           {
            "bin_end": -0.11635606402051946,
            "bin_start": -0.3501554569480656,
            "count": 107
           },
           {
            "bin_end": 0.11744332890702669,
            "bin_start": -0.11635606402051946,
            "count": 218
           },
           {
            "bin_end": 0.3512427218345726,
            "bin_start": 0.11744332890702669,
            "count": 549
           },
           {
            "bin_end": 0.5850421147621191,
            "bin_start": 0.3512427218345726,
            "count": 176
           }
          ],
          "max": "0.5850421147621191",
          "min": "-1.752951814513342",
          "nan_count": 34,
          "unique_count": 1256
         }
        },
        {
         "dtype": "object",
         "name": "change",
         "stats": {
          "categories": [
           {
            "count": 950,
            "name": "No Election"
           },
           {
            "count": 160,
            "name": "True"
           },
           {
            "count": 182,
            "name": "2 others"
           }
          ],
          "nan_count": 0,
          "unique_count": 4
         }
        },
        {
         "dtype": "float64",
         "name": "upwards_year",
         "stats": {
          "histogram": [
           {
            "bin_end": 1993.2,
            "bin_start": 1990,
            "count": 270
           },
           {
            "bin_end": 1996.4,
            "bin_start": 1993.2,
            "count": 117
           },
           {
            "bin_end": 1999.6,
            "bin_start": 1996.4,
            "count": 111
           },
           {
            "bin_end": 2002.8,
            "bin_start": 1999.6,
            "count": 115
           },
           {
            "bin_end": 2006,
            "bin_start": 2002.8,
            "count": 96
           },
           {
            "bin_end": 2009.2,
            "bin_start": 2006,
            "count": 152
           },
           {
            "bin_end": 2012.4,
            "bin_start": 2009.2,
            "count": 114
           },
           {
            "bin_end": 2015.6,
            "bin_start": 2012.4,
            "count": 118
           },
           {
            "bin_end": 2018.8,
            "bin_start": 2015.6,
            "count": 104
           },
           {
            "bin_end": 2022,
            "bin_start": 2018.8,
            "count": 95
           }
          ],
          "max": "2022.0",
          "min": "1990.0",
          "nan_count": 0,
          "unique_count": 30
         }
        },
        {
         "dtype": "float64",
         "name": "downwards_year",
         "stats": {
          "histogram": [
           {
            "bin_end": 1996.9,
            "bin_start": 1994,
            "count": 183
           },
           {
            "bin_end": 1999.8,
            "bin_start": 1996.9,
            "count": 137
           },
           {
            "bin_end": 2002.7,
            "bin_start": 1999.8,
            "count": 115
           },
           {
            "bin_end": 2005.6,
            "bin_start": 2002.7,
            "count": 98
           },
           {
            "bin_end": 2008.5,
            "bin_start": 2005.6,
            "count": 118
           },
           {
            "bin_end": 2011.4,
            "bin_start": 2008.5,
            "count": 117
           },
           {
            "bin_end": 2014.3,
            "bin_start": 2011.4,
            "count": 99
           },
           {
            "bin_end": 2017.2,
            "bin_start": 2014.3,
            "count": 112
           },
           {
            "bin_end": 2020.1,
            "bin_start": 2017.2,
            "count": 111
           },
           {
            "bin_end": 2023,
            "bin_start": 2020.1,
            "count": 202
           }
          ],
          "max": "2023.0",
          "min": "1994.0",
          "nan_count": 0,
          "unique_count": 30
         }
        },
        {
         "dtype": "object",
         "name": "range",
         "stats": {
          "categories": [
           {
            "count": 77,
            "name": "1990.0-1996.0"
           },
           {
            "count": 56,
            "name": "1990.0-1997.0"
           },
           {
            "count": 1159,
            "name": "97 others"
           }
          ],
          "nan_count": 0,
          "unique_count": 99
         }
        },
        {
         "dtype": "int64",
         "name": "_deepnote_index_column"
        }
       ],
       "row_count": 1292,
       "rows": [
        {
         "Freedom of Religion (highest score=1)": "nan",
         "Urban population (% of total population)": "nan",
         "Voter turnout (highest score=1)": "nan",
         "_deepnote_index_column": 0,
         "change": "No Election",
         "country": "Unnamed: 38",
         "downwards_year": 2023,
         "economic_stability_index": "nan",
         "ethnicity_ratio": "nan",
         "political_social_index": "nan",
         "range": "1990.0-2023.0",
         "upwards_year": 1990,
         "year": 2023
        },
        {
         "Freedom of Religion (highest score=1)": "nan",
         "Urban population (% of total population)": "nan",
         "Voter turnout (highest score=1)": "nan",
         "_deepnote_index_column": 1,
         "change": "No Election",
         "country": "Unnamed: 38",
         "downwards_year": 2023,
         "economic_stability_index": "nan",
         "ethnicity_ratio": "nan",
         "political_social_index": "nan",
         "range": "1990.0-2023.0",
         "upwards_year": 1990,
         "year": 2022
        },
        {
         "Freedom of Religion (highest score=1)": "nan",
         "Urban population (% of total population)": "nan",
         "Voter turnout (highest score=1)": "nan",
         "_deepnote_index_column": 2,
         "change": "No Election",
         "country": "Unnamed: 38",
         "downwards_year": 2023,
         "economic_stability_index": "nan",
         "ethnicity_ratio": "nan",
         "political_social_index": "nan",
         "range": "1990.0-2023.0",
         "upwards_year": 1990,
         "year": 2021
        },
        {
         "Freedom of Religion (highest score=1)": "nan",
         "Urban population (% of total population)": "nan",
         "Voter turnout (highest score=1)": "nan",
         "_deepnote_index_column": 3,
         "change": "No Election",
         "country": "Unnamed: 38",
         "downwards_year": 2023,
         "economic_stability_index": "nan",
         "ethnicity_ratio": "nan",
         "political_social_index": "nan",
         "range": "1990.0-2023.0",
         "upwards_year": 1990,
         "year": 2020
        },
        {
         "Freedom of Religion (highest score=1)": "nan",
         "Urban population (% of total population)": "nan",
         "Voter turnout (highest score=1)": "nan",
         "_deepnote_index_column": 4,
         "change": "No Election",
         "country": "Unnamed: 38",
         "downwards_year": 2023,
         "economic_stability_index": "nan",
         "ethnicity_ratio": "nan",
         "political_social_index": "nan",
         "range": "1990.0-2023.0",
         "upwards_year": 1990,
         "year": 2019
        },
        {
         "Freedom of Religion (highest score=1)": "nan",
         "Urban population (% of total population)": "nan",
         "Voter turnout (highest score=1)": "nan",
         "_deepnote_index_column": 5,
         "change": "No Election",
         "country": "Unnamed: 38",
         "downwards_year": 2023,
         "economic_stability_index": "nan",
         "ethnicity_ratio": "nan",
         "political_social_index": "nan",
         "range": "1990.0-2023.0",
         "upwards_year": 1990,
         "year": 2018
        },
        {
         "Freedom of Religion (highest score=1)": "nan",
         "Urban population (% of total population)": "nan",
         "Voter turnout (highest score=1)": "nan",
         "_deepnote_index_column": 6,
         "change": "No Election",
         "country": "Unnamed: 38",
         "downwards_year": 2023,
         "economic_stability_index": "nan",
         "ethnicity_ratio": "nan",
         "political_social_index": "nan",
         "range": "1990.0-2023.0",
         "upwards_year": 1990,
         "year": 2017
        },
        {
         "Freedom of Religion (highest score=1)": "nan",
         "Urban population (% of total population)": "nan",
         "Voter turnout (highest score=1)": "nan",
         "_deepnote_index_column": 7,
         "change": "No Election",
         "country": "Unnamed: 38",
         "downwards_year": 2023,
         "economic_stability_index": "nan",
         "ethnicity_ratio": "nan",
         "political_social_index": "nan",
         "range": "1990.0-2023.0",
         "upwards_year": 1990,
         "year": 2016
        },
        {
         "Freedom of Religion (highest score=1)": "nan",
         "Urban population (% of total population)": "nan",
         "Voter turnout (highest score=1)": "nan",
         "_deepnote_index_column": 8,
         "change": "No Election",
         "country": "Unnamed: 38",
         "downwards_year": 2023,
         "economic_stability_index": "nan",
         "ethnicity_ratio": "nan",
         "political_social_index": "nan",
         "range": "1990.0-2023.0",
         "upwards_year": 1990,
         "year": 2015
        },
        {
         "Freedom of Religion (highest score=1)": "nan",
         "Urban population (% of total population)": "nan",
         "Voter turnout (highest score=1)": "nan",
         "_deepnote_index_column": 9,
         "change": "No Election",
         "country": "Unnamed: 38",
         "downwards_year": 2023,
         "economic_stability_index": "nan",
         "ethnicity_ratio": "nan",
         "political_social_index": "nan",
         "range": "1990.0-2023.0",
         "upwards_year": 1990,
         "year": 2014
        },
        {
         "Freedom of Religion (highest score=1)": "nan",
         "Urban population (% of total population)": "nan",
         "Voter turnout (highest score=1)": "nan",
         "_deepnote_index_column": 10,
         "change": "No Election",
         "country": "Unnamed: 38",
         "downwards_year": 2023,
         "economic_stability_index": "nan",
         "ethnicity_ratio": "nan",
         "political_social_index": "nan",
         "range": "1990.0-2023.0",
         "upwards_year": 1990,
         "year": 2013
        },
        {
         "Freedom of Religion (highest score=1)": "nan",
         "Urban population (% of total population)": "nan",
         "Voter turnout (highest score=1)": "nan",
         "_deepnote_index_column": 11,
         "change": "No Election",
         "country": "Unnamed: 38",
         "downwards_year": 2023,
         "economic_stability_index": "nan",
         "ethnicity_ratio": "nan",
         "political_social_index": "nan",
         "range": "1990.0-2023.0",
         "upwards_year": 1990,
         "year": 2012
        },
        {
         "Freedom of Religion (highest score=1)": "nan",
         "Urban population (% of total population)": "nan",
         "Voter turnout (highest score=1)": "nan",
         "_deepnote_index_column": 12,
         "change": "No Election",
         "country": "Unnamed: 38",
         "downwards_year": 2023,
         "economic_stability_index": "nan",
         "ethnicity_ratio": "nan",
         "political_social_index": "nan",
         "range": "1990.0-2023.0",
         "upwards_year": 1990,
         "year": 2011
        },
        {
         "Freedom of Religion (highest score=1)": "nan",
         "Urban population (% of total population)": "nan",
         "Voter turnout (highest score=1)": "nan",
         "_deepnote_index_column": 13,
         "change": "No Election",
         "country": "Unnamed: 38",
         "downwards_year": 2023,
         "economic_stability_index": "nan",
         "ethnicity_ratio": "nan",
         "political_social_index": "nan",
         "range": "1990.0-2023.0",
         "upwards_year": 1990,
         "year": 2010
        },
        {
         "Freedom of Religion (highest score=1)": "nan",
         "Urban population (% of total population)": "nan",
         "Voter turnout (highest score=1)": "nan",
         "_deepnote_index_column": 14,
         "change": "No Election",
         "country": "Unnamed: 38",
         "downwards_year": 2023,
         "economic_stability_index": "nan",
         "ethnicity_ratio": "nan",
         "political_social_index": "nan",
         "range": "1990.0-2023.0",
         "upwards_year": 1990,
         "year": 2009
        },
        {
         "Freedom of Religion (highest score=1)": "nan",
         "Urban population (% of total population)": "nan",
         "Voter turnout (highest score=1)": "nan",
         "_deepnote_index_column": 15,
         "change": "No Election",
         "country": "Unnamed: 38",
         "downwards_year": 2023,
         "economic_stability_index": "nan",
         "ethnicity_ratio": "nan",
         "political_social_index": "nan",
         "range": "1990.0-2023.0",
         "upwards_year": 1990,
         "year": 2008
        },
        {
         "Freedom of Religion (highest score=1)": "nan",
         "Urban population (% of total population)": "nan",
         "Voter turnout (highest score=1)": "nan",
         "_deepnote_index_column": 16,
         "change": "No Election",
         "country": "Unnamed: 38",
         "downwards_year": 2023,
         "economic_stability_index": "nan",
         "ethnicity_ratio": "nan",
         "political_social_index": "nan",
         "range": "1990.0-2023.0",
         "upwards_year": 1990,
         "year": 2007
        },
        {
         "Freedom of Religion (highest score=1)": "nan",
         "Urban population (% of total population)": "nan",
         "Voter turnout (highest score=1)": "nan",
         "_deepnote_index_column": 17,
         "change": "No Election",
         "country": "Unnamed: 38",
         "downwards_year": 2023,
         "economic_stability_index": "nan",
         "ethnicity_ratio": "nan",
         "political_social_index": "nan",
         "range": "1990.0-2023.0",
         "upwards_year": 1990,
         "year": 2006
        },
        {
         "Freedom of Religion (highest score=1)": "nan",
         "Urban population (% of total population)": "nan",
         "Voter turnout (highest score=1)": "nan",
         "_deepnote_index_column": 18,
         "change": "No Election",
         "country": "Unnamed: 38",
         "downwards_year": 2023,
         "economic_stability_index": "nan",
         "ethnicity_ratio": "nan",
         "political_social_index": "nan",
         "range": "1990.0-2023.0",
         "upwards_year": 1990,
         "year": 2005
        },
        {
         "Freedom of Religion (highest score=1)": "nan",
         "Urban population (% of total population)": "nan",
         "Voter turnout (highest score=1)": "nan",
         "_deepnote_index_column": 19,
         "change": "No Election",
         "country": "Unnamed: 38",
         "downwards_year": 2023,
         "economic_stability_index": "nan",
         "ethnicity_ratio": "nan",
         "political_social_index": "nan",
         "range": "1990.0-2023.0",
         "upwards_year": 1990,
         "year": 2004
        },
        {
         "Freedom of Religion (highest score=1)": "nan",
         "Urban population (% of total population)": "nan",
         "Voter turnout (highest score=1)": "nan",
         "_deepnote_index_column": 20,
         "change": "No Election",
         "country": "Unnamed: 38",
         "downwards_year": 2023,
         "economic_stability_index": "nan",
         "ethnicity_ratio": "nan",
         "political_social_index": "nan",
         "range": "1990.0-2023.0",
         "upwards_year": 1990,
         "year": 2003
        },
        {
         "Freedom of Religion (highest score=1)": "nan",
         "Urban population (% of total population)": "nan",
         "Voter turnout (highest score=1)": "nan",
         "_deepnote_index_column": 21,
         "change": "No Election",
         "country": "Unnamed: 38",
         "downwards_year": 2023,
         "economic_stability_index": "nan",
         "ethnicity_ratio": "nan",
         "political_social_index": "nan",
         "range": "1990.0-2023.0",
         "upwards_year": 1990,
         "year": 2002
        },
        {
         "Freedom of Religion (highest score=1)": "nan",
         "Urban population (% of total population)": "nan",
         "Voter turnout (highest score=1)": "nan",
         "_deepnote_index_column": 22,
         "change": "No Election",
         "country": "Unnamed: 38",
         "downwards_year": 2023,
         "economic_stability_index": "nan",
         "ethnicity_ratio": "nan",
         "political_social_index": "nan",
         "range": "1990.0-2023.0",
         "upwards_year": 1990,
         "year": 2001
        },
        {
         "Freedom of Religion (highest score=1)": "nan",
         "Urban population (% of total population)": "nan",
         "Voter turnout (highest score=1)": "nan",
         "_deepnote_index_column": 23,
         "change": "No Election",
         "country": "Unnamed: 38",
         "downwards_year": 2023,
         "economic_stability_index": "nan",
         "ethnicity_ratio": "nan",
         "political_social_index": "nan",
         "range": "1990.0-2023.0",
         "upwards_year": 1990,
         "year": 2000
        },
        {
         "Freedom of Religion (highest score=1)": "nan",
         "Urban population (% of total population)": "nan",
         "Voter turnout (highest score=1)": "nan",
         "_deepnote_index_column": 24,
         "change": "No Election",
         "country": "Unnamed: 38",
         "downwards_year": 2023,
         "economic_stability_index": "nan",
         "ethnicity_ratio": "nan",
         "political_social_index": "nan",
         "range": "1990.0-2023.0",
         "upwards_year": 1990,
         "year": 1999
        },
        {
         "Freedom of Religion (highest score=1)": "nan",
         "Urban population (% of total population)": "nan",
         "Voter turnout (highest score=1)": "nan",
         "_deepnote_index_column": 25,
         "change": "No Election",
         "country": "Unnamed: 38",
         "downwards_year": 2023,
         "economic_stability_index": "nan",
         "ethnicity_ratio": "nan",
         "political_social_index": "nan",
         "range": "1990.0-2023.0",
         "upwards_year": 1990,
         "year": 1998
        },
        {
         "Freedom of Religion (highest score=1)": "nan",
         "Urban population (% of total population)": "nan",
         "Voter turnout (highest score=1)": "nan",
         "_deepnote_index_column": 26,
         "change": "No Election",
         "country": "Unnamed: 38",
         "downwards_year": 2023,
         "economic_stability_index": "nan",
         "ethnicity_ratio": "nan",
         "political_social_index": "nan",
         "range": "1990.0-2023.0",
         "upwards_year": 1990,
         "year": 1997
        },
        {
         "Freedom of Religion (highest score=1)": "nan",
         "Urban population (% of total population)": "nan",
         "Voter turnout (highest score=1)": "nan",
         "_deepnote_index_column": 27,
         "change": "No Election",
         "country": "Unnamed: 38",
         "downwards_year": 2023,
         "economic_stability_index": "nan",
         "ethnicity_ratio": "nan",
         "political_social_index": "nan",
         "range": "1990.0-2023.0",
         "upwards_year": 1990,
         "year": 1996
        },
        {
         "Freedom of Religion (highest score=1)": "nan",
         "Urban population (% of total population)": "nan",
         "Voter turnout (highest score=1)": "nan",
         "_deepnote_index_column": 28,
         "change": "No Election",
         "country": "Unnamed: 38",
         "downwards_year": 2023,
         "economic_stability_index": "nan",
         "ethnicity_ratio": "nan",
         "political_social_index": "nan",
         "range": "1990.0-2023.0",
         "upwards_year": 1990,
         "year": 1995
        },
        {
         "Freedom of Religion (highest score=1)": "nan",
         "Urban population (% of total population)": "nan",
         "Voter turnout (highest score=1)": "nan",
         "_deepnote_index_column": 29,
         "change": "No Election",
         "country": "Unnamed: 38",
         "downwards_year": 2023,
         "economic_stability_index": "nan",
         "ethnicity_ratio": "nan",
         "political_social_index": "nan",
         "range": "1990.0-2023.0",
         "upwards_year": 1990,
         "year": 1994
        },
        {
         "Freedom of Religion (highest score=1)": "nan",
         "Urban population (% of total population)": "nan",
         "Voter turnout (highest score=1)": "nan",
         "_deepnote_index_column": 30,
         "change": "No Election",
         "country": "Unnamed: 38",
         "downwards_year": 2023,
         "economic_stability_index": "nan",
         "ethnicity_ratio": "nan",
         "political_social_index": "nan",
         "range": "1990.0-2023.0",
         "upwards_year": 1990,
         "year": 1993
        },
        {
         "Freedom of Religion (highest score=1)": "nan",
         "Urban population (% of total population)": "nan",
         "Voter turnout (highest score=1)": "nan",
         "_deepnote_index_column": 31,
         "change": "No Election",
         "country": "Unnamed: 38",
         "downwards_year": 2023,
         "economic_stability_index": "nan",
         "ethnicity_ratio": "nan",
         "political_social_index": "nan",
         "range": "1990.0-2023.0",
         "upwards_year": 1990,
         "year": 1992
        },
        {
         "Freedom of Religion (highest score=1)": "nan",
         "Urban population (% of total population)": "nan",
         "Voter turnout (highest score=1)": "nan",
         "_deepnote_index_column": 32,
         "change": "No Election",
         "country": "Unnamed: 38",
         "downwards_year": 2023,
         "economic_stability_index": "nan",
         "ethnicity_ratio": "nan",
         "political_social_index": "nan",
         "range": "1990.0-2023.0",
         "upwards_year": 1990,
         "year": 1991
        },
        {
         "Freedom of Religion (highest score=1)": "nan",
         "Urban population (% of total population)": "nan",
         "Voter turnout (highest score=1)": "nan",
         "_deepnote_index_column": 33,
         "change": "END",
         "country": "Unnamed: 38",
         "downwards_year": 2023,
         "economic_stability_index": "nan",
         "ethnicity_ratio": "nan",
         "political_social_index": "nan",
         "range": "1990.0-2023.0",
         "upwards_year": 1990,
         "year": 1990
        },
        {
         "Freedom of Religion (highest score=1)": 0.9954119658119658,
         "Urban population (% of total population)": 83.298,
         "Voter turnout (highest score=1)": 0.42,
         "_deepnote_index_column": 34,
         "change": "No Election",
         "country": "United States",
         "downwards_year": 2023,
         "economic_stability_index": -0.5612104140729883,
         "ethnicity_ratio": 0.5657797853054944,
         "political_social_index": -0.0287622850917032,
         "range": "2020.0-2023.0",
         "upwards_year": 2020,
         "year": 2023
        },
        {
         "Freedom of Religion (highest score=1)": 1,
         "Urban population (% of total population)": 83.084,
         "Voter turnout (highest score=1)": 0.42,
         "_deepnote_index_column": 35,
         "change": "No Election",
         "country": "United States",
         "downwards_year": 2023,
         "economic_stability_index": -0.5578294789277395,
         "ethnicity_ratio": 0.578393609757768,
         "political_social_index": -0.0497287024726518,
         "range": "2020.0-2023.0",
         "upwards_year": 2020,
         "year": 2022
        },
        {
         "Freedom of Religion (highest score=1)": 1,
         "Urban population (% of total population)": 82.873,
         "Voter turnout (highest score=1)": 0.62,
         "_deepnote_index_column": 36,
         "change": "No Election",
         "country": "United States",
         "downwards_year": 2023,
         "economic_stability_index": 3.670224132342392,
         "ethnicity_ratio": 0.6,
         "political_social_index": -0.0904213175353376,
         "range": "2020.0-2023.0",
         "upwards_year": 2020,
         "year": 2021
        },
        {
         "Freedom of Religion (highest score=1)": 1,
         "Urban population (% of total population)": 82.664,
         "Voter turnout (highest score=1)": 0.62,
         "_deepnote_index_column": 37,
         "change": "True",
         "country": "United States",
         "downwards_year": 2020,
         "economic_stability_index": -5.810274199876636,
         "ethnicity_ratio": 0.6,
         "political_social_index": -0.1492411254661823,
         "range": "2016.0-2020.0",
         "upwards_year": 2016,
         "year": 2020
        },
        {
         "Freedom of Religion (highest score=1)": 1,
         "Urban population (% of total population)": 82.459,
         "Voter turnout (highest score=1)": 0.47,
         "_deepnote_index_column": 38,
         "change": "No Election",
         "country": "United States",
         "downwards_year": 2020,
         "economic_stability_index": -0.27972467696544,
         "ethnicity_ratio": 0.6,
         "political_social_index": -0.120551211751726,
         "range": "2016.0-2020.0",
         "upwards_year": 2016,
         "year": 2019
        },
        {
         "Freedom of Religion (highest score=1)": 1,
         "Urban population (% of total population)": 82.256,
         "Voter turnout (highest score=1)": 0.47,
         "_deepnote_index_column": 39,
         "change": "No Election",
         "country": "United States",
         "downwards_year": 2020,
         "economic_stability_index": 0.295479252482242,
         "ethnicity_ratio": 0.6,
         "political_social_index": -0.103774793966035,
         "range": "2016.0-2020.0",
         "upwards_year": 2016,
         "year": 2018
        },
        {
         "Freedom of Religion (highest score=1)": 0.97,
         "Urban population (% of total population)": 82.058,
         "Voter turnout (highest score=1)": 0.56,
         "_deepnote_index_column": 40,
         "change": "No Election",
         "country": "United States",
         "downwards_year": 2020,
         "economic_stability_index": -0.5122573188841059,
         "ethnicity_ratio": 0.66,
         "political_social_index": -0.0856433356071462,
         "range": "2016.0-2020.0",
         "upwards_year": 2016,
         "year": 2017
        },
        {
         "Freedom of Religion (highest score=1)": 0.97,
         "Urban population (% of total population)": 81.862,
         "Voter turnout (highest score=1)": 0.56,
         "_deepnote_index_column": 41,
         "change": "True",
         "country": "United States",
         "downwards_year": 2016,
         "economic_stability_index": -1.1760090653024315,
         "ethnicity_ratio": 0.66,
         "political_social_index": 0.0176230197414189,
         "range": "2012.0-2016.0",
         "upwards_year": 2012,
         "year": 2016
        },
        {
         "Freedom of Religion (highest score=1)": 1,
         "Urban population (% of total population)": 81.671,
         "Voter turnout (highest score=1)": 0.32,
         "_deepnote_index_column": 42,
         "change": "No Election",
         "country": "United States",
         "downwards_year": 2016,
         "economic_stability_index": -0.1563848683750454,
         "ethnicity_ratio": 0.66,
         "political_social_index": 0.128061586665085,
         "range": "2012.0-2016.0",
         "upwards_year": 2012,
         "year": 2015
        },
        {
         "Freedom of Religion (highest score=1)": 1,
         "Urban population (% of total population)": 81.483,
         "Voter turnout (highest score=1)": 0.32,
         "_deepnote_index_column": 43,
         "change": "No Election",
         "country": "United States",
         "downwards_year": 2016,
         "economic_stability_index": -0.5690063012732793,
         "ethnicity_ratio": 0.66,
         "political_social_index": 0.1378276733017018,
         "range": "2012.0-2016.0",
         "upwards_year": 2012,
         "year": 2014
        },
        {
         "Freedom of Religion (highest score=1)": 1,
         "Urban population (% of total population)": 81.299,
         "Voter turnout (highest score=1)": 0.53,
         "_deepnote_index_column": 44,
         "change": "No Election",
         "country": "United States",
         "downwards_year": 2016,
         "economic_stability_index": -0.9707049993830456,
         "ethnicity_ratio": 0.66,
         "political_social_index": 0.1375517498749355,
         "range": "2012.0-2016.0",
         "upwards_year": 2012,
         "year": 2013
        },
        {
         "Freedom of Religion (highest score=1)": 1,
         "Urban population (% of total population)": 81.119,
         "Voter turnout (highest score=1)": 0.53,
         "_deepnote_index_column": 45,
         "change": "False",
         "country": "United States",
         "downwards_year": 2012,
         "economic_stability_index": -0.5762849998054488,
         "ethnicity_ratio": 0.66,
         "political_social_index": 0.1346903111507698,
         "range": "2008.0-2012.0",
         "upwards_year": 2008,
         "year": 2012
        },
        {
         "Freedom of Religion (highest score=1)": 0.98,
         "Urban population (% of total population)": 80.944,
         "Voter turnout (highest score=1)": 0.37,
         "_deepnote_index_column": 46,
         "change": "No Election",
         "country": "United States",
         "downwards_year": 2012,
         "economic_stability_index": -1.294884619913132,
         "ethnicity_ratio": 0.66,
         "political_social_index": 0.1289795947243811,
         "range": "2008.0-2012.0",
         "upwards_year": 2008,
         "year": 2011
        },
        {
         "Freedom of Religion (highest score=1)": 0.98,
         "Urban population (% of total population)": 80.772,
         "Voter turnout (highest score=1)": 0.37,
         "_deepnote_index_column": 47,
         "change": "No Election",
         "country": "United States",
         "downwards_year": 2012,
         "economic_stability_index": -0.2491227233882714,
         "ethnicity_ratio": 0.66,
         "political_social_index": 0.1375148347323945,
         "range": "2008.0-2012.0",
         "upwards_year": 2008,
         "year": 2010
        },
        {
         "Freedom of Religion (highest score=1)": 0.98,
         "Urban population (% of total population)": 80.606,
         "Voter turnout (highest score=1)": 0.57,
         "_deepnote_index_column": 48,
         "change": "No Election",
         "country": "United States",
         "downwards_year": 2012,
         "economic_stability_index": -5.55944063987495,
         "ethnicity_ratio": 0.66,
         "political_social_index": 0.1313834428427584,
         "range": "2008.0-2012.0",
         "upwards_year": 2008,
         "year": 2009
        },
        {
         "Freedom of Religion (highest score=1)": 0.98,
         "Urban population (% of total population)": 80.438,
         "Voter turnout (highest score=1)": 0.57,
         "_deepnote_index_column": 49,
         "change": "True",
         "country": "United States",
         "downwards_year": 2008,
         "economic_stability_index": -2.9297872046843314,
         "ethnicity_ratio": 0.691,
         "political_social_index": 0.1171689354989914,
         "range": "2004.0-2008.0",
         "upwards_year": 2004,
         "year": 2008
        },
        {
         "Freedom of Religion (highest score=1)": 0.98,
         "Urban population (% of total population)": 80.269,
         "Voter turnout (highest score=1)": 0.36,
         "_deepnote_index_column": 50,
         "change": "No Election",
         "country": "United States",
         "downwards_year": 2008,
         "economic_stability_index": -1.064488215957665,
         "ethnicity_ratio": 0.691,
         "political_social_index": 0.1151783029209674,
         "range": "2004.0-2008.0",
         "upwards_year": 2004,
         "year": 2007
        },
        {
         "Freedom of Religion (highest score=1)": 0.98,
         "Urban population (% of total population)": 80.099,
         "Voter turnout (highest score=1)": 0.36,
         "_deepnote_index_column": 51,
         "change": "No Election",
         "country": "United States",
         "downwards_year": 2008,
         "economic_stability_index": -0.3129274298943382,
         "ethnicity_ratio": 0.691,
         "political_social_index": 0.089942152522478,
         "range": "2004.0-2008.0",
         "upwards_year": 2004,
         "year": 2006
        },
        {
         "Freedom of Religion (highest score=1)": 0.98,
         "Urban population (% of total population)": 79.928,
         "Voter turnout (highest score=1)": 0.56,
         "_deepnote_index_column": 52,
         "change": "No Election",
         "country": "United States",
         "downwards_year": 2008,
         "economic_stability_index": 0.424359215423356,
         "ethnicity_ratio": 0.691,
         "political_social_index": 0.0610365957284423,
         "range": "2004.0-2008.0",
         "upwards_year": 2004,
         "year": 2005
        },
        {
         "Freedom of Religion (highest score=1)": 0.98,
         "Urban population (% of total population)": 79.757,
         "Voter turnout (highest score=1)": 0.56,
         "_deepnote_index_column": 53,
         "change": "False",
         "country": "United States",
         "downwards_year": 2004,
         "economic_stability_index": 0.7864048454276946,
         "ethnicity_ratio": 0.691,
         "political_social_index": 0.0617919766960537,
         "range": "2000.0-2004.0",
         "upwards_year": 2000,
         "year": 2004
        },
        {
         "Freedom of Religion (highest score=1)": 0.98,
         "Urban population (% of total population)": 79.583,
         "Voter turnout (highest score=1)": 0.34,
         "_deepnote_index_column": 54,
         "change": "No Election",
         "country": "United States",
         "downwards_year": 2004,
         "economic_stability_index": -0.1929726390734903,
         "ethnicity_ratio": 0.691,
         "political_social_index": 0.0614010521521714,
         "range": "2000.0-2004.0",
         "upwards_year": 2000,
         "year": 2003
        },
        {
         "Freedom of Religion (highest score=1)": 0.98,
         "Urban population (% of total population)": 79.409,
         "Voter turnout (highest score=1)": 0.34,
         "_deepnote_index_column": 55,
         "change": "No Election",
         "country": "United States",
         "downwards_year": 2004,
         "economic_stability_index": -1.3526837127688165,
         "ethnicity_ratio": 0.691,
         "political_social_index": 0.0390047226242673,
         "range": "2000.0-2004.0",
         "upwards_year": 2000,
         "year": 2002
        },
        {
         "Freedom of Religion (highest score=1)": 0.98,
         "Urban population (% of total population)": 79.234,
         "Voter turnout (highest score=1)": 0.52,
         "_deepnote_index_column": 56,
         "change": "No Election",
         "country": "United States",
         "downwards_year": 2004,
         "economic_stability_index": -2.149370595571182,
         "ethnicity_ratio": 0.691,
         "political_social_index": 0.0270091014895425,
         "range": "2000.0-2004.0",
         "upwards_year": 2000,
         "year": 2001
        },
        {
         "Freedom of Religion (highest score=1)": 0.98,
         "Urban population (% of total population)": 79.057,
         "Voter turnout (highest score=1)": 0.52,
         "_deepnote_index_column": 57,
         "change": "True",
         "country": "United States",
         "downwards_year": 2000,
         "economic_stability_index": 0.8159966073378667,
         "ethnicity_ratio": 0.691,
         "political_social_index": 0.0639914659318714,
         "range": "1996.0-2000.0",
         "upwards_year": 1996,
         "year": 2000
        },
        {
         "Freedom of Religion (highest score=1)": 0.98,
         "Urban population (% of total population)": 78.742,
         "Voter turnout (highest score=1)": 0.34,
         "_deepnote_index_column": 58,
         "change": "No Election",
         "country": "United States",
         "downwards_year": 2000,
         "economic_stability_index": 1.488534028604301,
         "ethnicity_ratio": 0.691,
         "political_social_index": 0.0841130250440477,
         "range": "1996.0-2000.0",
         "upwards_year": 1996,
         "year": 1999
        },
        {
         "Freedom of Religion (highest score=1)": 0.98,
         "Urban population (% of total population)": 78.377,
         "Voter turnout (highest score=1)": 0.34,
         "_deepnote_index_column": 59,
         "change": "No Election",
         "country": "United States",
         "downwards_year": 2000,
         "economic_stability_index": 1.161055193731739,
         "ethnicity_ratio": 0.691,
         "political_social_index": 0.0833117509466301,
         "range": "1996.0-2000.0",
         "upwards_year": 1996,
         "year": 1998
        },
        {
         "Freedom of Religion (highest score=1)": 0.98,
         "Urban population (% of total population)": 78.008,
         "Voter turnout (highest score=1)": 0.53,
         "_deepnote_index_column": 60,
         "change": "No Election",
         "country": "United States",
         "downwards_year": 2000,
         "economic_stability_index": 1.0877536562097536,
         "ethnicity_ratio": 0.691,
         "political_social_index": 0.0830865289545491,
         "range": "1996.0-2000.0",
         "upwards_year": 1996,
         "year": 1997
        },
        {
         "Freedom of Religion (highest score=1)": 0.98,
         "Urban population (% of total population)": 77.636,
         "Voter turnout (highest score=1)": 0.53,
         "_deepnote_index_column": 61,
         "change": "False",
         "country": "United States",
         "downwards_year": 1996,
         "economic_stability_index": 0.462791443199631,
         "ethnicity_ratio": 0.691,
         "political_social_index": 0.0831084828311521,
         "range": "1990.0-1996.0",
         "upwards_year": 1990,
         "year": 1996
        },
        {
         "Freedom of Religion (highest score=1)": 0.98,
         "Urban population (% of total population)": 77.257,
         "Voter turnout (highest score=1)": 0.38,
         "_deepnote_index_column": 62,
         "change": "No Election",
         "country": "United States",
         "downwards_year": 1996,
         "economic_stability_index": -0.6407598479658407,
         "ethnicity_ratio": 0.691,
         "political_social_index": 0.084357267665336,
         "range": "1990.0-1996.0",
         "upwards_year": 1990,
         "year": 1995
        },
        {
         "Freedom of Religion (highest score=1)": 0.98,
         "Urban population (% of total population)": 76.875,
         "Voter turnout (highest score=1)": 0.38,
         "_deepnote_index_column": 63,
         "change": "No Election",
         "country": "United States",
         "downwards_year": 1996,
         "economic_stability_index": 0.6513889635704632,
         "ethnicity_ratio": 0.691,
         "political_social_index": 0.0825225324168612,
         "range": "1990.0-1996.0",
         "upwards_year": 1990,
         "year": 1994
        },
        {
         "Freedom of Religion (highest score=1)": 0.98,
         "Urban population (% of total population)": 76.488,
         "Voter turnout (highest score=1)": 0.6,
         "_deepnote_index_column": 64,
         "change": "No Election",
         "country": "United States",
         "downwards_year": 1996,
         "economic_stability_index": -0.7037813765356956,
         "ethnicity_ratio": 0.691,
         "political_social_index": 0.0850460059733157,
         "range": "1990.0-1996.0",
         "upwards_year": 1990,
         "year": 1993
        },
        {
         "Freedom of Religion (highest score=1)": 0.98,
         "Urban population (% of total population)": 76.097,
         "Voter turnout (highest score=1)": 0.6,
         "_deepnote_index_column": 65,
         "change": "No Election",
         "country": "United States",
         "downwards_year": 1996,
         "economic_stability_index": -0.0128741462897139,
         "ethnicity_ratio": 0.691,
         "political_social_index": 0.0897161315294101,
         "range": "1990.0-1996.0",
         "upwards_year": 1990,
         "year": 1992
        },
        {
         "Freedom of Religion (highest score=1)": 0.98,
         "Urban population (% of total population)": 75.701,
         "Voter turnout (highest score=1)": 0.35,
         "_deepnote_index_column": 66,
         "change": "No Election",
         "country": "United States",
         "downwards_year": 1996,
         "economic_stability_index": -3.543702218544445,
         "ethnicity_ratio": 0.691,
         "political_social_index": 0.0713795709612654,
         "range": "1990.0-1996.0",
         "upwards_year": 1990,
         "year": 1991
        },
        {
         "Freedom of Religion (highest score=1)": 0.98,
         "Urban population (% of total population)": 75.3,
         "Voter turnout (highest score=1)": 0.35,
         "_deepnote_index_column": 67,
         "change": "END",
         "country": "United States",
         "downwards_year": 1996,
         "economic_stability_index": -1.3680169715769066,
         "ethnicity_ratio": 0.691,
         "political_social_index": 0.0787214619703895,
         "range": "1990.0-1996.0",
         "upwards_year": 1990,
         "year": 1990
        },
        {
         "Freedom of Religion (highest score=1)": 0.9567452991452992,
         "Urban population (% of total population)": 84.642,
         "Voter turnout (highest score=1)": 0.6972598291304166,
         "_deepnote_index_column": 68,
         "change": "No Election",
         "country": "United Kingdom",
         "downwards_year": 2023,
         "economic_stability_index": 2.2864611464013405,
         "ethnicity_ratio": 0.815,
         "political_social_index": 0.1060728206419298,
         "range": "2019.0-2023.0",
         "upwards_year": 2019,
         "year": 2023
        },
        {
         "Freedom of Religion (highest score=1)": 1,
         "Urban population (% of total population)": 84.398,
         "Voter turnout (highest score=1)": 0.62,
         "_deepnote_index_column": 69,
         "change": "No Election",
         "country": "United Kingdom",
         "downwards_year": 2023,
         "economic_stability_index": 2.32249634275854,
         "ethnicity_ratio": 0.815,
         "political_social_index": 0.1551958201830457,
         "range": "2019.0-2023.0",
         "upwards_year": 2019,
         "year": 2022
        },
        {
         "Freedom of Religion (highest score=1)": 1,
         "Urban population (% of total population)": 84.152,
         "Voter turnout (highest score=1)": 0.62,
         "_deepnote_index_column": 70,
         "change": "No Election",
         "country": "United Kingdom",
         "downwards_year": 2023,
         "economic_stability_index": 6.654439684428736,
         "ethnicity_ratio": 0.815,
         "political_social_index": 0.1847402399859729,
         "range": "2019.0-2023.0",
         "upwards_year": 2019,
         "year": 2021
        },
        {
         "Freedom of Religion (highest score=1)": 1,
         "Urban population (% of total population)": 83.903,
         "Voter turnout (highest score=1)": 0.62,
         "_deepnote_index_column": 71,
         "change": "No Election",
         "country": "United Kingdom",
         "downwards_year": 2023,
         "economic_stability_index": -12.79668929756559,
         "ethnicity_ratio": 0.815,
         "political_social_index": 0.1899244939120729,
         "range": "2019.0-2023.0",
         "upwards_year": 2019,
         "year": 2020
        },
        {
         "Freedom of Religion (highest score=1)": 0.89,
         "Urban population (% of total population)": 83.652,
         "Voter turnout (highest score=1)": 0.62,
         "_deepnote_index_column": 72,
         "change": "False",
         "country": "United Kingdom",
         "downwards_year": 2019,
         "economic_stability_index": -1.039704831331057,
         "ethnicity_ratio": 0.815,
         "political_social_index": 0.184231346801508,
         "range": "2017.0-2019.0",
         "upwards_year": 2017,
         "year": 2019
        },
        {
         "Freedom of Religion (highest score=1)": 1,
         "Urban population (% of total population)": 83.398,
         "Voter turnout (highest score=1)": 0.63,
         "_deepnote_index_column": 73,
         "change": "No Election",
         "country": "United Kingdom",
         "downwards_year": 2019,
         "economic_stability_index": -1.3183242261339745,
         "ethnicity_ratio": 0.815,
         "political_social_index": 0.2224181613780207,
         "range": "2017.0-2019.0",
         "upwards_year": 2017,
         "year": 2018
        },
        {
         "Freedom of Religion (highest score=1)": 1,
         "Urban population (% of total population)": 83.143,
         "Voter turnout (highest score=1)": 0.63,
         "_deepnote_index_column": 74,
         "change": "False",
         "country": "United Kingdom",
         "downwards_year": 2017,
         "economic_stability_index": -0.149556574976078,
         "ethnicity_ratio": 0.815,
         "political_social_index": 0.2338103194690034,
         "range": "2015.0-2017.0",
         "upwards_year": 2015,
         "year": 2017
        },
        {
         "Freedom of Religion (highest score=1)": 0.89,
         "Urban population (% of total population)": 82.886,
         "Voter turnout (highest score=1)": 0.6,
         "_deepnote_index_column": 75,
         "change": "No Election",
         "country": "United Kingdom",
         "downwards_year": 2017,
         "economic_stability_index": -0.9580270028181198,
         "ethnicity_ratio": 0.815,
         "political_social_index": 0.2164716983805669,
         "range": "2015.0-2017.0",
         "upwards_year": 2015,
         "year": 2016
        },
        {
         "Freedom of Religion (highest score=1)": 1,
         "Urban population (% of total population)": 82.626,
         "Voter turnout (highest score=1)": 0.6,
         "_deepnote_index_column": 76,
         "change": "False",
         "country": "United Kingdom",
         "downwards_year": 2015,
         "economic_stability_index": -0.6960761643422864,
         "ethnicity_ratio": 0.815,
         "political_social_index": 0.2220640933476158,
         "range": "2010.0-2015.0",
         "upwards_year": 2010,
         "year": 2015
        },
        {
         "Freedom of Religion (highest score=1)": 1,
         "Urban population (% of total population)": 82.365,
         "Voter turnout (highest score=1)": 0.61,
         "_deepnote_index_column": 77,
         "change": "No Election",
         "country": "United Kingdom",
         "downwards_year": 2015,
         "economic_stability_index": 0.3290159315477021,
         "ethnicity_ratio": 0.815,
         "political_social_index": 0.2294145301139359,
         "range": "2010.0-2015.0",
         "upwards_year": 2010,
         "year": 2014
        },
        {
         "Freedom of Religion (highest score=1)": 1,
         "Urban population (% of total population)": 82.102,
         "Voter turnout (highest score=1)": 0.61,
         "_deepnote_index_column": 78,
         "change": "No Election",
         "country": "United Kingdom",
         "downwards_year": 2015,
         "economic_stability_index": -0.9966695109524388,
         "ethnicity_ratio": 0.815,
         "political_social_index": 0.2278634468675383,
         "range": "2010.0-2015.0",
         "upwards_year": 2010,
         "year": 2013
        },
        {
         "Freedom of Religion (highest score=1)": 1,
         "Urban population (% of total population)": 81.837,
         "Voter turnout (highest score=1)": 0.61,
         "_deepnote_index_column": 79,
         "change": "No Election",
         "country": "United Kingdom",
         "downwards_year": 2015,
         "economic_stability_index": -1.3000343207758935,
         "ethnicity_ratio": 0.815,
         "political_social_index": 0.2477655107000576,
         "range": "2010.0-2015.0",
         "upwards_year": 2010,
         "year": 2012
        },
        {
         "Freedom of Religion (highest score=1)": 0.98,
         "Urban population (% of total population)": 81.57,
         "Voter turnout (highest score=1)": 0.61,
         "_deepnote_index_column": 80,
         "change": "No Election",
         "country": "United Kingdom",
         "downwards_year": 2015,
         "economic_stability_index": -1.7518373007461097,
         "ethnicity_ratio": 0.815,
         "political_social_index": 0.2376149981928108,
         "range": "2010.0-2015.0",
         "upwards_year": 2010,
         "year": 2011
        },
        {
         "Freedom of Religion (highest score=1)": 0.85,
         "Urban population (% of total population)": 81.302,
         "Voter turnout (highest score=1)": 0.61,
         "_deepnote_index_column": 81,
         "change": "True",
         "country": "United Kingdom",
         "downwards_year": 2010,
         "economic_stability_index": -0.6691941585269652,
         "ethnicity_ratio": 0.815,
         "political_social_index": 0.2393206935271651,
         "range": "2005.0-2010.0",
         "upwards_year": 2005,
         "year": 2010
        },
        {
         "Freedom of Religion (highest score=1)": 0.98,
         "Urban population (% of total population)": 81.031,
         "Voter turnout (highest score=1)": 0.58,
         "_deepnote_index_column": 82,
         "change": "No Election",
         "country": "United Kingdom",
         "downwards_year": 2010,
         "economic_stability_index": -7.443239975851285,
         "ethnicity_ratio": 0.815,
         "political_social_index": 0.2267991664105553,
         "range": "2005.0-2010.0",
         "upwards_year": 2005,
         "year": 2009
        },
        {
         "Freedom of Religion (highest score=1)": 0.98,
         "Urban population (% of total population)": 80.757,
         "Voter turnout (highest score=1)": 0.58,
         "_deepnote_index_column": 83,
         "change": "No Election",
         "country": "United Kingdom",
         "downwards_year": 2010,
         "economic_stability_index": -3.117447184862491,
         "ethnicity_ratio": 0.815,
         "political_social_index": 0.2235903193390908,
         "range": "2005.0-2010.0",
         "upwards_year": 2005,
         "year": 2008
        },
        {
         "Freedom of Religion (highest score=1)": 0.85,
         "Urban population (% of total population)": 80.479,
         "Voter turnout (highest score=1)": 0.58,
         "_deepnote_index_column": 84,
         "change": "No Election",
         "country": "United Kingdom",
         "downwards_year": 2010,
         "economic_stability_index": -0.2851591697749356,
         "ethnicity_ratio": 0.815,
         "political_social_index": 0.2250594387811369,
         "range": "2005.0-2010.0",
         "upwards_year": 2005,
         "year": 2007
        },
        {
         "Freedom of Religion (highest score=1)": 0.98,
         "Urban population (% of total population)": 80.199,
         "Voter turnout (highest score=1)": 0.58,
         "_deepnote_index_column": 85,
         "change": "No Election",
         "country": "United Kingdom",
         "downwards_year": 2010,
         "economic_stability_index": -0.4730763706683756,
         "ethnicity_ratio": 0.815,
         "political_social_index": 0.2365334247016909,
         "range": "2005.0-2010.0",
         "upwards_year": 2005,
         "year": 2006
        },
        {
         "Freedom of Religion (highest score=1)": 0.98,
         "Urban population (% of total population)": 79.915,
         "Voter turnout (highest score=1)": 0.58,
         "_deepnote_index_column": 86,
         "change": "False",
         "country": "United Kingdom",
         "downwards_year": 2005,
         "economic_stability_index": -0.073681790639734,
         "ethnicity_ratio": 0.815,
         "political_social_index": 0.229957080799114,
         "range": "2001.0-2005.0",
         "upwards_year": 2001,
         "year": 2005
        },
        {
         "Freedom of Religion (highest score=1)": 0.98,
         "Urban population (% of total population)": 79.629,
         "Voter turnout (highest score=1)": 0.57,
         "_deepnote_index_column": 87,
         "change": "No Election",
         "country": "United Kingdom",
         "downwards_year": 2005,
         "economic_stability_index": -0.2641387547630794,
         "ethnicity_ratio": 0.815,
         "political_social_index": 0.2120640362022356,
         "range": "2001.0-2005.0",
         "upwards_year": 2001,
         "year": 2004
        },
        {
         "Freedom of Religion (highest score=1)": 0.98,
         "Urban population (% of total population)": 79.339,
         "Voter turnout (highest score=1)": 0.57,
         "_deepnote_index_column": 88,
         "change": "No Election",
         "country": "United Kingdom",
         "downwards_year": 2005,
         "economic_stability_index": 0.5578619234834755,
         "ethnicity_ratio": 0.815,
         "political_social_index": 0.2135915401604438,
         "range": "2001.0-2005.0",
         "upwards_year": 2001,
         "year": 2003
        },
        {
         "Freedom of Religion (highest score=1)": 0.85,
         "Urban population (% of total population)": 79.047,
         "Voter turnout (highest score=1)": 0.57,
         "_deepnote_index_column": 89,
         "change": "No Election",
         "country": "United Kingdom",
         "downwards_year": 2005,
         "economic_stability_index": -0.7475749236374766,
         "ethnicity_ratio": 0.815,
         "political_social_index": 0.2124148675112278,
         "range": "2001.0-2005.0",
         "upwards_year": 2001,
         "year": 2002
        },
        {
         "Freedom of Religion (highest score=1)": 0.85,
         "Urban population (% of total population)": 78.751,
         "Voter turnout (highest score=1)": 0.57,
         "_deepnote_index_column": 90,
         "change": "False",
         "country": "United Kingdom",
         "downwards_year": 2001,
         "economic_stability_index": 0.0750392564147961,
         "ethnicity_ratio": 0.815,
         "political_social_index": 0.2117531569578739,
         "range": "1997.0-2001.0",
         "upwards_year": 1997,
         "year": 2001
        },
        {
         "Freedom of Religion (highest score=1)": 0.85,
         "Urban population (% of total population)": 78.651,
         "Voter turnout (highest score=1)": 0.69,
         "_deepnote_index_column": 91,
         "change": "No Election",
         "country": "United Kingdom",
         "downwards_year": 2001,
         "economic_stability_index": 1.8370938088034197,
         "ethnicity_ratio": 0.815,
         "political_social_index": 0.194508220616102,
         "range": "1997.0-2001.0",
         "upwards_year": 1997,
         "year": 2000
        },
        {
         "Freedom of Religion (highest score=1)": 0.98,
         "Urban population (% of total population)": 78.591,
         "Voter turnout (highest score=1)": 0.69,
         "_deepnote_index_column": 92,
         "change": "No Election",
         "country": "United Kingdom",
         "downwards_year": 2001,
         "economic_stability_index": 0.6135749004569789,
         "ethnicity_ratio": 0.815,
         "political_social_index": 0.1650680466162777,
         "range": "1997.0-2001.0",
         "upwards_year": 1997,
         "year": 1999
        },
        {
         "Freedom of Religion (highest score=1)": 0.98,
         "Urban population (% of total population)": 78.532,
         "Voter turnout (highest score=1)": 0.69,
         "_deepnote_index_column": 93,
         "change": "No Election",
         "country": "United Kingdom",
         "downwards_year": 2001,
         "economic_stability_index": 1.003793888078017,
         "ethnicity_ratio": 0.815,
         "political_social_index": 0.1572606217749648,
         "range": "1997.0-2001.0",
         "upwards_year": 1997,
         "year": 1998
        },
        {
         "Freedom of Religion (highest score=1)": 0.98,
         "Urban population (% of total population)": 78.472,
         "Voter turnout (highest score=1)": 0.69,
         "_deepnote_index_column": 94,
         "change": "True",
         "country": "United Kingdom",
         "downwards_year": 1997,
         "economic_stability_index": 2.5454627885407253,
         "ethnicity_ratio": 0.815,
         "political_social_index": 0.1547531548760448,
         "range": "1990.0-1997.0",
         "upwards_year": 1990,
         "year": 1997
        },
        {
         "Freedom of Religion (highest score=1)": 0.98,
         "Urban population (% of total population)": 78.413,
         "Voter turnout (highest score=1)": 0.75,
         "_deepnote_index_column": 95,
         "change": "No Election",
         "country": "United Kingdom",
         "downwards_year": 1997,
         "economic_stability_index": 0.2115867110109499,
         "ethnicity_ratio": 0.815,
         "political_social_index": 0.1512772211557608,
         "range": "1990.0-1997.0",
         "upwards_year": 1990,
         "year": 1996
        },
        {
         "Freedom of Religion (highest score=1)": 0.98,
         "Urban population (% of total population)": 78.353,
         "Voter turnout (highest score=1)": 0.75,
         "_deepnote_index_column": 96,
         "change": "No Election",
         "country": "United Kingdom",
         "downwards_year": 1997,
         "economic_stability_index": 0.1512030843484774,
         "ethnicity_ratio": 0.815,
         "political_social_index": 0.1479557630882558,
         "range": "1990.0-1997.0",
         "upwards_year": 1990,
         "year": 1995
        },
        {
         "Freedom of Religion (highest score=1)": 0.98,
         "Urban population (% of total population)": 78.293,
         "Voter turnout (highest score=1)": 0.75,
         "_deepnote_index_column": 97,
         "change": "No Election",
         "country": "United Kingdom",
         "downwards_year": 1997,
         "economic_stability_index": 1.4723812398002658,
         "ethnicity_ratio": 0.815,
         "political_social_index": 0.1476179301001343,
         "range": "1990.0-1997.0",
         "upwards_year": 1990,
         "year": 1994
        },
        {
         "Freedom of Religion (highest score=1)": 0.98,
         "Urban population (% of total population)": 78.232,
         "Voter turnout (highest score=1)": 0.75,
         "_deepnote_index_column": 98,
         "change": "No Election",
         "country": "United Kingdom",
         "downwards_year": 1997,
         "economic_stability_index": 0.1348399921864131,
         "ethnicity_ratio": 0.815,
         "political_social_index": 0.1202257373783043,
         "range": "1990.0-1997.0",
         "upwards_year": 1990,
         "year": 1993
        },
        {
         "Freedom of Religion (highest score=1)": 0.98,
         "Urban population (% of total population)": 78.172,
         "Voter turnout (highest score=1)": 0.75,
         "_deepnote_index_column": 99,
         "change": "No Election",
         "country": "United Kingdom",
         "downwards_year": 1997,
         "economic_stability_index": -1.979644330256461,
         "ethnicity_ratio": 0.815,
         "political_social_index": 0.1138759390419184,
         "range": "1990.0-1997.0",
         "upwards_year": 1990,
         "year": 1992
        }
       ],
       "type": "dataframe"
      },
      "text/html": [
       "<div>\n",
       "<style scoped>\n",
       "    .dataframe tbody tr th:only-of-type {\n",
       "        vertical-align: middle;\n",
       "    }\n",
       "\n",
       "    .dataframe tbody tr th {\n",
       "        vertical-align: top;\n",
       "    }\n",
       "\n",
       "    .dataframe thead th {\n",
       "        text-align: right;\n",
       "    }\n",
       "</style>\n",
       "<table border=\"1\" class=\"dataframe\">\n",
       "  <thead>\n",
       "    <tr style=\"text-align: right;\">\n",
       "      <th></th>\n",
       "      <th>country</th>\n",
       "      <th>year</th>\n",
       "      <th>Voter turnout (highest score=1)</th>\n",
       "      <th>Freedom of Religion (highest score=1)</th>\n",
       "      <th>Urban population (% of total population)</th>\n",
       "      <th>ethnicity_ratio</th>\n",
       "      <th>economic_stability_index</th>\n",
       "      <th>political_social_index</th>\n",
       "      <th>change</th>\n",
       "      <th>upwards_year</th>\n",
       "      <th>downwards_year</th>\n",
       "      <th>range</th>\n",
       "    </tr>\n",
       "  </thead>\n",
       "  <tbody>\n",
       "    <tr>\n",
       "      <th>0</th>\n",
       "      <td>Unnamed: 38</td>\n",
       "      <td>2023.0</td>\n",
       "      <td>NaN</td>\n",
       "      <td>NaN</td>\n",
       "      <td>NaN</td>\n",
       "      <td>NaN</td>\n",
       "      <td>NaN</td>\n",
       "      <td>NaN</td>\n",
       "      <td>No Election</td>\n",
       "      <td>1990.0</td>\n",
       "      <td>2023.0</td>\n",
       "      <td>1990.0-2023.0</td>\n",
       "    </tr>\n",
       "    <tr>\n",
       "      <th>1</th>\n",
       "      <td>Unnamed: 38</td>\n",
       "      <td>2022.0</td>\n",
       "      <td>NaN</td>\n",
       "      <td>NaN</td>\n",
       "      <td>NaN</td>\n",
       "      <td>NaN</td>\n",
       "      <td>NaN</td>\n",
       "      <td>NaN</td>\n",
       "      <td>No Election</td>\n",
       "      <td>1990.0</td>\n",
       "      <td>2023.0</td>\n",
       "      <td>1990.0-2023.0</td>\n",
       "    </tr>\n",
       "    <tr>\n",
       "      <th>2</th>\n",
       "      <td>Unnamed: 38</td>\n",
       "      <td>2021.0</td>\n",
       "      <td>NaN</td>\n",
       "      <td>NaN</td>\n",
       "      <td>NaN</td>\n",
       "      <td>NaN</td>\n",
       "      <td>NaN</td>\n",
       "      <td>NaN</td>\n",
       "      <td>No Election</td>\n",
       "      <td>1990.0</td>\n",
       "      <td>2023.0</td>\n",
       "      <td>1990.0-2023.0</td>\n",
       "    </tr>\n",
       "    <tr>\n",
       "      <th>3</th>\n",
       "      <td>Unnamed: 38</td>\n",
       "      <td>2020.0</td>\n",
       "      <td>NaN</td>\n",
       "      <td>NaN</td>\n",
       "      <td>NaN</td>\n",
       "      <td>NaN</td>\n",
       "      <td>NaN</td>\n",
       "      <td>NaN</td>\n",
       "      <td>No Election</td>\n",
       "      <td>1990.0</td>\n",
       "      <td>2023.0</td>\n",
       "      <td>1990.0-2023.0</td>\n",
       "    </tr>\n",
       "    <tr>\n",
       "      <th>4</th>\n",
       "      <td>Unnamed: 38</td>\n",
       "      <td>2019.0</td>\n",
       "      <td>NaN</td>\n",
       "      <td>NaN</td>\n",
       "      <td>NaN</td>\n",
       "      <td>NaN</td>\n",
       "      <td>NaN</td>\n",
       "      <td>NaN</td>\n",
       "      <td>No Election</td>\n",
       "      <td>1990.0</td>\n",
       "      <td>2023.0</td>\n",
       "      <td>1990.0-2023.0</td>\n",
       "    </tr>\n",
       "    <tr>\n",
       "      <th>...</th>\n",
       "      <td>...</td>\n",
       "      <td>...</td>\n",
       "      <td>...</td>\n",
       "      <td>...</td>\n",
       "      <td>...</td>\n",
       "      <td>...</td>\n",
       "      <td>...</td>\n",
       "      <td>...</td>\n",
       "      <td>...</td>\n",
       "      <td>...</td>\n",
       "      <td>...</td>\n",
       "      <td>...</td>\n",
       "    </tr>\n",
       "    <tr>\n",
       "      <th>1287</th>\n",
       "      <td>Australia</td>\n",
       "      <td>1994.0</td>\n",
       "      <td>0.84</td>\n",
       "      <td>0.98</td>\n",
       "      <td>85.028</td>\n",
       "      <td>0.84</td>\n",
       "      <td>0.873492</td>\n",
       "      <td>0.317162</td>\n",
       "      <td>No Election</td>\n",
       "      <td>1990.0</td>\n",
       "      <td>1996.0</td>\n",
       "      <td>1990.0-1996.0</td>\n",
       "    </tr>\n",
       "    <tr>\n",
       "      <th>1288</th>\n",
       "      <td>Australia</td>\n",
       "      <td>1993.0</td>\n",
       "      <td>0.84</td>\n",
       "      <td>0.98</td>\n",
       "      <td>85.157</td>\n",
       "      <td>0.84</td>\n",
       "      <td>1.014131</td>\n",
       "      <td>0.317162</td>\n",
       "      <td>No Election</td>\n",
       "      <td>1990.0</td>\n",
       "      <td>1996.0</td>\n",
       "      <td>1990.0-1996.0</td>\n",
       "    </tr>\n",
       "    <tr>\n",
       "      <th>1289</th>\n",
       "      <td>Australia</td>\n",
       "      <td>1992.0</td>\n",
       "      <td>0.82</td>\n",
       "      <td>0.98</td>\n",
       "      <td>85.285</td>\n",
       "      <td>0.84</td>\n",
       "      <td>-2.800049</td>\n",
       "      <td>0.314333</td>\n",
       "      <td>No Election</td>\n",
       "      <td>1990.0</td>\n",
       "      <td>1996.0</td>\n",
       "      <td>1990.0-1996.0</td>\n",
       "    </tr>\n",
       "    <tr>\n",
       "      <th>1290</th>\n",
       "      <td>Australia</td>\n",
       "      <td>1991.0</td>\n",
       "      <td>0.82</td>\n",
       "      <td>0.98</td>\n",
       "      <td>85.403</td>\n",
       "      <td>0.84</td>\n",
       "      <td>-3.753174</td>\n",
       "      <td>0.314108</td>\n",
       "      <td>No Election</td>\n",
       "      <td>1990.0</td>\n",
       "      <td>1996.0</td>\n",
       "      <td>1990.0-1996.0</td>\n",
       "    </tr>\n",
       "    <tr>\n",
       "      <th>1291</th>\n",
       "      <td>Australia</td>\n",
       "      <td>1990.0</td>\n",
       "      <td>0.82</td>\n",
       "      <td>0.98</td>\n",
       "      <td>85.433</td>\n",
       "      <td>0.84</td>\n",
       "      <td>-0.052235</td>\n",
       "      <td>0.313883</td>\n",
       "      <td>END</td>\n",
       "      <td>1990.0</td>\n",
       "      <td>1996.0</td>\n",
       "      <td>1990.0-1996.0</td>\n",
       "    </tr>\n",
       "  </tbody>\n",
       "</table>\n",
       "<p>1292 rows × 12 columns</p>\n",
       "</div>"
      ],
      "text/plain": [
       "          country    year  Voter turnout (highest score=1)  \\\n",
       "0     Unnamed: 38  2023.0                              NaN   \n",
       "1     Unnamed: 38  2022.0                              NaN   \n",
       "2     Unnamed: 38  2021.0                              NaN   \n",
       "3     Unnamed: 38  2020.0                              NaN   \n",
       "4     Unnamed: 38  2019.0                              NaN   \n",
       "...           ...     ...                              ...   \n",
       "1287    Australia  1994.0                             0.84   \n",
       "1288    Australia  1993.0                             0.84   \n",
       "1289    Australia  1992.0                             0.82   \n",
       "1290    Australia  1991.0                             0.82   \n",
       "1291    Australia  1990.0                             0.82   \n",
       "\n",
       "      Freedom of Religion (highest score=1)  \\\n",
       "0                                       NaN   \n",
       "1                                       NaN   \n",
       "2                                       NaN   \n",
       "3                                       NaN   \n",
       "4                                       NaN   \n",
       "...                                     ...   \n",
       "1287                                   0.98   \n",
       "1288                                   0.98   \n",
       "1289                                   0.98   \n",
       "1290                                   0.98   \n",
       "1291                                   0.98   \n",
       "\n",
       "      Urban population (% of total population)  ethnicity_ratio  \\\n",
       "0                                          NaN              NaN   \n",
       "1                                          NaN              NaN   \n",
       "2                                          NaN              NaN   \n",
       "3                                          NaN              NaN   \n",
       "4                                          NaN              NaN   \n",
       "...                                        ...              ...   \n",
       "1287                                    85.028             0.84   \n",
       "1288                                    85.157             0.84   \n",
       "1289                                    85.285             0.84   \n",
       "1290                                    85.403             0.84   \n",
       "1291                                    85.433             0.84   \n",
       "\n",
       "      economic_stability_index  political_social_index       change  \\\n",
       "0                          NaN                     NaN  No Election   \n",
       "1                          NaN                     NaN  No Election   \n",
       "2                          NaN                     NaN  No Election   \n",
       "3                          NaN                     NaN  No Election   \n",
       "4                          NaN                     NaN  No Election   \n",
       "...                        ...                     ...          ...   \n",
       "1287                  0.873492                0.317162  No Election   \n",
       "1288                  1.014131                0.317162  No Election   \n",
       "1289                 -2.800049                0.314333  No Election   \n",
       "1290                 -3.753174                0.314108  No Election   \n",
       "1291                 -0.052235                0.313883          END   \n",
       "\n",
       "      upwards_year  downwards_year          range  \n",
       "0           1990.0          2023.0  1990.0-2023.0  \n",
       "1           1990.0          2023.0  1990.0-2023.0  \n",
       "2           1990.0          2023.0  1990.0-2023.0  \n",
       "3           1990.0          2023.0  1990.0-2023.0  \n",
       "4           1990.0          2023.0  1990.0-2023.0  \n",
       "...            ...             ...            ...  \n",
       "1287        1990.0          1996.0  1990.0-1996.0  \n",
       "1288        1990.0          1996.0  1990.0-1996.0  \n",
       "1289        1990.0          1996.0  1990.0-1996.0  \n",
       "1290        1990.0          1996.0  1990.0-1996.0  \n",
       "1291        1990.0          1996.0  1990.0-1996.0  \n",
       "\n",
       "[1292 rows x 12 columns]"
      ]
     },
     "execution_count": 28,
     "metadata": {},
     "output_type": "execute_result"
    }
   ],
   "source": [
    "# Create a new column 'range'\n",
    "full_df[\"range\"] = full_df[\"upwards_year\"].astype(str) + \"-\" + full_df[\"downwards_year\"].astype(str)\n",
    "full_df"
   ]
  },
  {
   "cell_type": "code",
   "execution_count": 29,
   "metadata": {
    "cell_id": "39669bc76f1a4dbe8bc2952422d130bd",
    "deepnote_app_block_group_id": null,
    "deepnote_app_block_order": 28,
    "deepnote_app_block_visible": true,
    "deepnote_app_is_code_hidden": true,
    "deepnote_app_is_output_hidden": false,
    "deepnote_cell_type": "code",
    "deepnote_table_loading": false,
    "deepnote_table_state": {
     "cellFormattingRules": [],
     "columnDisplayNames": [],
     "columnOrder": [
      "Effective Parliament (highest score=1)",
      "Voter turnout (highest score=1)",
      "Media bias (highest score=1)",
      "GDP",
      "Conflict",
      "Deaths",
      "totalrefugees",
      "ethnicity_ratio",
      "economic_stability_index",
      "social_stability_index",
      "democratic_political_index"
     ],
     "conditionalFilters": [],
     "filters": [],
     "hiddenColumnIds": [],
     "pageIndex": 0,
     "pageSize": 100,
     "sortBy": [],
     "wrappedTextColumnIds": []
    },
    "execution_context_id": "f4e73ac9-64de-42e9-ae88-7619fadf8313",
    "execution_millis": 1,
    "execution_start": 1743011976268,
    "source_hash": "35adc7c3"
   },
   "outputs": [
    {
     "data": {
      "application/vnd.deepnote.dataframe.v3+json": {
       "column_count": 8,
       "columns": [
        {
         "dtype": "object",
         "name": "country",
         "stats": {
          "categories": [
           {
            "count": 12,
            "name": "Israel"
           },
           {
            "count": 11,
            "name": "Australia"
           },
           {
            "count": 309,
            "name": "36 others"
           }
          ],
          "nan_count": 0,
          "unique_count": 38
         }
        },
        {
         "dtype": "object",
         "name": "range",
         "stats": {
          "categories": [
           {
            "count": 12,
            "name": "2022.0-2023.0"
           },
           {
            "count": 11,
            "name": "1990.0-1996.0"
           },
           {
            "count": 309,
            "name": "97 others"
           }
          ],
          "nan_count": 0,
          "unique_count": 99
         }
        },
        {
         "dtype": "float64",
         "name": "Voter turnout (highest score=1)",
         "stats": {
          "histogram": [
           {
            "bin_end": 0.3436,
            "bin_start": 0.278,
            "count": 4
           },
           {
            "bin_end": 0.4092,
            "bin_start": 0.3436,
            "count": 7
           },
           {
            "bin_end": 0.4748,
            "bin_start": 0.4092,
            "count": 16
           },
           {
            "bin_end": 0.5404,
            "bin_start": 0.4748,
            "count": 42
           },
           {
            "bin_end": 0.606,
            "bin_start": 0.5404,
            "count": 45
           },
           {
            "bin_end": 0.6716,
            "bin_start": 0.606,
            "count": 51
           },
           {
            "bin_end": 0.7372,
            "bin_start": 0.6716,
            "count": 44
           },
           {
            "bin_end": 0.8028,
            "bin_start": 0.7372,
            "count": 69
           },
           {
            "bin_end": 0.8684,
            "bin_start": 0.8028,
            "count": 48
           },
           {
            "bin_end": 0.9339999999999999,
            "bin_start": 0.8684,
            "count": 5
           }
          ],
          "max": "0.9339999999999999",
          "min": "0.278",
          "nan_count": 1,
          "unique_count": 248
         }
        },
        {
         "dtype": "float64",
         "name": "Freedom of Religion (highest score=1)",
         "stats": {
          "histogram": [
           {
            "bin_end": 0.46922846153846154,
            "bin_start": 0.41,
            "count": 2
           },
           {
            "bin_end": 0.528456923076923,
            "bin_start": 0.46922846153846154,
            "count": 6
           },
           {
            "bin_end": 0.5876853846153847,
            "bin_start": 0.528456923076923,
            "count": 0
           },
           {
            "bin_end": 0.6469138461538462,
            "bin_start": 0.5876853846153847,
            "count": 1
           },
           {
            "bin_end": 0.7061423076923077,
            "bin_start": 0.6469138461538462,
            "count": 6
           },
           {
            "bin_end": 0.7653707692307692,
            "bin_start": 0.7061423076923077,
            "count": 31
           },
           {
            "bin_end": 0.8245992307692308,
            "bin_start": 0.7653707692307692,
            "count": 40
           },
           {
            "bin_end": 0.8838276923076924,
            "bin_start": 0.8245992307692308,
            "count": 35
           },
           {
            "bin_end": 0.9430561538461539,
            "bin_start": 0.8838276923076924,
            "count": 43
           },
           {
            "bin_end": 1.0022846153846154,
            "bin_start": 0.9430561538461539,
            "count": 167
           }
          ],
          "max": "1.0022846153846154",
          "min": "0.41",
          "nan_count": 1,
          "unique_count": 137
         }
        },
        {
         "dtype": "float64",
         "name": "Urban population (% of total population)",
         "stats": {
          "histogram": [
           {
            "bin_end": 54.3426,
            "bin_start": 49.47683333333333,
            "count": 10
           },
           {
            "bin_end": 59.20836666666666,
            "bin_start": 54.3426,
            "count": 14
           },
           {
            "bin_end": 64.07413333333334,
            "bin_start": 59.20836666666666,
            "count": 21
           },
           {
            "bin_end": 68.9399,
            "bin_start": 64.07413333333334,
            "count": 39
           },
           {
            "bin_end": 73.80566666666667,
            "bin_start": 68.9399,
            "count": 36
           },
           {
            "bin_end": 78.67143333333334,
            "bin_start": 73.80566666666667,
            "count": 52
           },
           {
            "bin_end": 83.53720000000001,
            "bin_start": 78.67143333333334,
            "count": 59
           },
           {
            "bin_end": 88.40296666666667,
            "bin_start": 83.53720000000001,
            "count": 56
           },
           {
            "bin_end": 93.26873333333333,
            "bin_start": 88.40296666666667,
            "count": 30
           },
           {
            "bin_end": 98.1345,
            "bin_start": 93.26873333333333,
            "count": 14
           }
          ],
          "max": "98.1345",
          "min": "49.47683333333333",
          "nan_count": 1,
          "unique_count": 331
         }
        },
        {
         "dtype": "float64",
         "name": "ethnicity_ratio",
         "stats": {
          "histogram": [
           {
            "bin_end": 0.1,
            "bin_start": 0,
            "count": 20
           },
           {
            "bin_end": 0.2,
            "bin_start": 0.1,
            "count": 0
           },
           {
            "bin_end": 0.30000000000000004,
            "bin_start": 0.2,
            "count": 0
           },
           {
            "bin_end": 0.4,
            "bin_start": 0.30000000000000004,
            "count": 12
           },
           {
            "bin_end": 0.5,
            "bin_start": 0.4,
            "count": 1
           },
           {
            "bin_end": 0.6000000000000001,
            "bin_start": 0.5,
            "count": 38
           },
           {
            "bin_end": 0.7000000000000001,
            "bin_start": 0.6000000000000001,
            "count": 40
           },
           {
            "bin_end": 0.8,
            "bin_start": 0.7000000000000001,
            "count": 19
           },
           {
            "bin_end": 0.9,
            "bin_start": 0.8,
            "count": 52
           },
           {
            "bin_end": 1,
            "bin_start": 0.9,
            "count": 149
           }
          ],
          "max": "1.0",
          "min": "0.0",
          "nan_count": 1,
          "unique_count": 55
         }
        },
        {
         "dtype": "float64",
         "name": "economic_stability_index",
         "stats": {
          "histogram": [
           {
            "bin_end": -7.672316290353982,
            "bin_start": -9.509154752911227,
            "count": 1
           },
           {
            "bin_end": -5.835477827796737,
            "bin_start": -7.672316290353982,
            "count": 1
           },
           {
            "bin_end": -3.998639365239491,
            "bin_start": -5.835477827796737,
            "count": 8
           },
           {
            "bin_end": -2.161800902682246,
            "bin_start": -3.998639365239491,
            "count": 29
           },
           {
            "bin_end": -0.32496244012500064,
            "bin_start": -2.161800902682246,
            "count": 118
           },
           {
            "bin_end": 1.5118760224322454,
            "bin_start": -0.32496244012500064,
            "count": 108
           },
           {
            "bin_end": 3.3487144849894896,
            "bin_start": 1.5118760224322454,
            "count": 44
           },
           {
            "bin_end": 5.185552947546736,
            "bin_start": 3.3487144849894896,
            "count": 15
           },
           {
            "bin_end": 7.02239141010398,
            "bin_start": 5.185552947546736,
            "count": 5
           },
           {
            "bin_end": 8.859229872661228,
            "bin_start": 7.02239141010398,
            "count": 2
           }
          ],
          "max": "8.859229872661228",
          "min": "-9.509154752911227",
          "nan_count": 1,
          "unique_count": 331
         }
        },
        {
         "dtype": "float64",
         "name": "political_social_index",
         "stats": {
          "histogram": [
           {
            "bin_end": -1.503895032190974,
            "bin_start": -1.735664938298831,
            "count": 2
           },
           {
            "bin_end": -1.2721251260831172,
            "bin_start": -1.503895032190974,
            "count": 7
           },
           {
            "bin_end": -1.0403552199752606,
            "bin_start": -1.2721251260831172,
            "count": 13
           },
           {
            "bin_end": -0.8085853138674037,
            "bin_start": -1.0403552199752606,
            "count": 7
           },
           {
            "bin_end": -0.5768154077595469,
            "bin_start": -0.8085853138674037,
            "count": 5
           },
           {
            "bin_end": -0.34504550165169023,
            "bin_start": -0.5768154077595469,
            "count": 13
           },
           {
            "bin_end": -0.11327559554383337,
            "bin_start": -0.34504550165169023,
            "count": 34
           },
           {
            "bin_end": 0.11849431056402349,
            "bin_start": -0.11327559554383337,
            "count": 55
           },
           {
            "bin_end": 0.3502642166718801,
            "bin_start": 0.11849431056402349,
            "count": 150
           },
           {
            "bin_end": 0.5820341227797374,
            "bin_start": 0.3502642166718801,
            "count": 45
           }
          ],
          "max": "0.5820341227797374",
          "min": "-1.735664938298831",
          "nan_count": 1,
          "unique_count": 331
         }
        },
        {
         "dtype": "int64",
         "name": "_deepnote_index_column"
        }
       ],
       "row_count": 332,
       "rows": [
        {
         "Freedom of Religion (highest score=1)": 0.9799999999999999,
         "Urban population (% of total population)": 85.13871428571429,
         "Voter turnout (highest score=1)": 0.83,
         "_deepnote_index_column": 0,
         "country": "Australia",
         "economic_stability_index": -0.5133754741876447,
         "ethnicity_ratio": 0.84,
         "political_social_index": 0.3166270834469752,
         "range": "1990.0-1996.0"
        },
        {
         "Freedom of Religion (highest score=1)": 0.98,
         "Urban population (% of total population)": 84.5695,
         "Voter turnout (highest score=1)": 0.825,
         "_deepnote_index_column": 1,
         "country": "Australia",
         "economic_stability_index": 1.1004480938042391,
         "ethnicity_ratio": 0.84,
         "political_social_index": 0.3209100725772241,
         "range": "1996.0-1998.0"
        },
        {
         "Freedom of Religion (highest score=1)": 0.98,
         "Urban population (% of total population)": 84.235,
         "Voter turnout (highest score=1)": 0.8266666666666667,
         "_deepnote_index_column": 2,
         "country": "Australia",
         "economic_stability_index": 0.33955167488530985,
         "ethnicity_ratio": 0.84,
         "political_social_index": 0.3246743428770818,
         "range": "1998.0-2001.0"
        },
        {
         "Freedom of Religion (highest score=1)": 0.98,
         "Urban population (% of total population)": 84.34266666666666,
         "Voter turnout (highest score=1)": 0.8366666666666666,
         "_deepnote_index_column": 3,
         "country": "Australia",
         "economic_stability_index": 0.500816247904286,
         "ethnicity_ratio": 0.84,
         "political_social_index": 0.3286609065162002,
         "range": "2001.0-2004.0"
        },
        {
         "Freedom of Religion (highest score=1)": 0.98,
         "Urban population (% of total population)": 84.70133333333332,
         "Voter turnout (highest score=1)": 0.83,
         "_deepnote_index_column": 4,
         "country": "Australia",
         "economic_stability_index": -0.38263740213968056,
         "ethnicity_ratio": 0.84,
         "political_social_index": 0.33162251778349705,
         "range": "2004.0-2007.0"
        },
        {
         "Freedom of Religion (highest score=1)": 0.9233333333333333,
         "Urban population (% of total population)": 85.06266666666666,
         "Voter turnout (highest score=1)": 0.8233333333333333,
         "_deepnote_index_column": 5,
         "country": "Australia",
         "economic_stability_index": -1.4449312643633057,
         "ethnicity_ratio": 0.84,
         "political_social_index": 0.3538116951800478,
         "range": "2007.0-2010.0"
        },
        {
         "Freedom of Religion (highest score=1)": 0.9933333333333333,
         "Urban population (% of total population)": 85.40133333333334,
         "Voter turnout (highest score=1)": 0.8033333333333333,
         "_deepnote_index_column": 6,
         "country": "Australia",
         "economic_stability_index": -0.7858659032145168,
         "ethnicity_ratio": 0.84,
         "political_social_index": 0.3404313874043739,
         "range": "2010.0-2013.0"
        },
        {
         "Freedom of Religion (highest score=1)": 1,
         "Urban population (% of total population)": 85.70100000000001,
         "Voter turnout (highest score=1)": 0.79,
         "_deepnote_index_column": 7,
         "country": "Australia",
         "economic_stability_index": -1.1042105267516618,
         "ethnicity_ratio": 0.84,
         "political_social_index": 0.2930745268023995,
         "range": "2013.0-2016.0"
        },
        {
         "Freedom of Religion (highest score=1)": 0.9266666666666667,
         "Urban population (% of total population)": 86.01333333333332,
         "Voter turnout (highest score=1)": 0.7966666666666667,
         "_deepnote_index_column": 8,
         "country": "Australia",
         "economic_stability_index": -1.206763960312011,
         "ethnicity_ratio": 0.84,
         "political_social_index": 0.2470051993348299,
         "range": "2016.0-2019.0"
        },
        {
         "Freedom of Religion (highest score=1)": 1,
         "Urban population (% of total population)": 86.36366666666667,
         "Voter turnout (highest score=1)": 0.7933333333333333,
         "_deepnote_index_column": 9,
         "country": "Australia",
         "economic_stability_index": -0.9771892167684256,
         "ethnicity_ratio": 0.84,
         "political_social_index": 0.2114817049254911,
         "range": "2019.0-2022.0"
        },
        {
         "Freedom of Religion (highest score=1)": 0.9757675213675212,
         "Urban population (% of total population)": 86.617,
         "Voter turnout (highest score=1)": 0.7991076923076923,
         "_deepnote_index_column": 10,
         "country": "Australia",
         "economic_stability_index": 0.8320939109664732,
         "ethnicity_ratio": 0.84,
         "political_social_index": 0.2065914625426019,
         "range": "2022.0-2023.0"
        },
        {
         "Freedom of Religion (highest score=1)": 0.9800000000000001,
         "Urban population (% of total population)": 62.416,
         "Voter turnout (highest score=1)": 0.78,
         "_deepnote_index_column": 11,
         "country": "Austria",
         "economic_stability_index": -0.3788261407926156,
         "ethnicity_ratio": 0.93,
         "political_social_index": 0.14288926352476555,
         "range": "1990.0-1994.0"
        },
        {
         "Freedom of Religion (highest score=1)": 0.98,
         "Urban population (% of total population)": 61.596,
         "Voter turnout (highest score=1)": 0.79,
         "_deepnote_index_column": 12,
         "country": "Austria",
         "economic_stability_index": 0.4013487287143929,
         "ethnicity_ratio": 0.93,
         "political_social_index": 0.1496896633660729,
         "range": "1994.0-1995.0"
        },
        {
         "Freedom of Religion (highest score=1)": 0.8825,
         "Urban population (% of total population)": 60.906,
         "Voter turnout (highest score=1)": 0.7475,
         "_deepnote_index_column": 13,
         "country": "Austria",
         "economic_stability_index": 0.6434987084219731,
         "ethnicity_ratio": 0.93,
         "political_social_index": 0.15588729325832498,
         "range": "1995.0-1999.0"
        },
        {
         "Freedom of Religion (highest score=1)": 0.85,
         "Urban population (% of total population)": 59.934,
         "Voter turnout (highest score=1)": 0.7433333333333333,
         "_deepnote_index_column": 14,
         "country": "Austria",
         "economic_stability_index": -0.38945893570831297,
         "ethnicity_ratio": 0.93,
         "political_social_index": 0.1703501458933929,
         "range": "1999.0-2002.0"
        },
        {
         "Freedom of Religion (highest score=1)": 0.85,
         "Urban population (% of total population)": 58.9535,
         "Voter turnout (highest score=1)": 0.7050000000000001,
         "_deepnote_index_column": 15,
         "country": "Austria",
         "economic_stability_index": -0.3486053708807947,
         "ethnicity_ratio": 0.93,
         "political_social_index": 0.17864023349865438,
         "range": "2002.0-2006.0"
        },
        {
         "Freedom of Religion (highest score=1)": 0.915,
         "Urban population (% of total population)": 58.1075,
         "Voter turnout (highest score=1)": 0.745,
         "_deepnote_index_column": 16,
         "country": "Austria",
         "economic_stability_index": 0.1579215170894791,
         "ethnicity_ratio": 0.93,
         "political_social_index": 0.2039264023118867,
         "range": "2006.0-2008.0"
        },
        {
         "Freedom of Religion (highest score=1)": 0.9259999999999999,
         "Urban population (% of total population)": 57.336,
         "Voter turnout (highest score=1)": 0.5660000000000001,
         "_deepnote_index_column": 17,
         "country": "Austria",
         "economic_stability_index": -2.1470556112838546,
         "ethnicity_ratio": 0.93,
         "political_social_index": 0.2073184676049336,
         "range": "2008.0-2013.0"
        },
        {
         "Freedom of Religion (highest score=1)": 0.905,
         "Urban population (% of total population)": 57.81,
         "Voter turnout (highest score=1)": 0.6625,
         "_deepnote_index_column": 18,
         "country": "Austria",
         "economic_stability_index": -1.5573030166123134,
         "ethnicity_ratio": 0.93,
         "political_social_index": 0.19035531115932908,
         "range": "2013.0-2017.0"
        },
        {
         "Freedom of Religion (highest score=1)": 0.72,
         "Urban population (% of total population)": 58.406,
         "Voter turnout (highest score=1)": 0.665,
         "_deepnote_index_column": 19,
         "country": "Austria",
         "economic_stability_index": -0.6455810048758421,
         "ethnicity_ratio": 0.93,
         "political_social_index": 0.14013057364790682,
         "range": "2017.0-2019.0"
        },
        {
         "Freedom of Religion (highest score=1)": 0.74,
         "Urban population (% of total population)": 59.13225,
         "Voter turnout (highest score=1)": 0.6146810735791224,
         "_deepnote_index_column": 20,
         "country": "Austria",
         "economic_stability_index": -1.0370325523924955,
         "ethnicity_ratio": 0.93,
         "political_social_index": 0.12430029731611993,
         "range": "2019.0-2023.0"
        },
        {
         "Freedom of Religion (highest score=1)": 0.9583333333333334,
         "Urban population (% of total population)": 96.57983333333334,
         "Voter turnout (highest score=1)": 0.85,
         "_deepnote_index_column": 21,
         "country": "Belgium",
         "economic_stability_index": -0.5867703535470968,
         "ethnicity_ratio": 0.59,
         "political_social_index": 0.25927917753152346,
         "range": "1990.0-1995.0"
        },
        {
         "Freedom of Religion (highest score=1)": 0.9475,
         "Urban population (% of total population)": 96.959,
         "Voter turnout (highest score=1)": 0.83,
         "_deepnote_index_column": 22,
         "country": "Belgium",
         "economic_stability_index": 0.3195141646793364,
         "ethnicity_ratio": 0.59,
         "political_social_index": 0.28320440803890085,
         "range": "1995.0-1999.0"
        },
        {
         "Freedom of Religion (highest score=1)": 0.915,
         "Urban population (% of total population)": 97.21300000000001,
         "Voter turnout (highest score=1)": 0.8374999999999999,
         "_deepnote_index_column": 23,
         "country": "Belgium",
         "economic_stability_index": -0.588161886362573,
         "ethnicity_ratio": 0.59,
         "political_social_index": 0.28907516877865497,
         "range": "1999.0-2003.0"
        },
        {
         "Freedom of Religion (highest score=1)": 0.8825,
         "Urban population (% of total population)": 97.428,
         "Voter turnout (highest score=1)": 0.86,
         "_deepnote_index_column": 24,
         "country": "Belgium",
         "economic_stability_index": 0.3106324999101843,
         "ethnicity_ratio": 0.59,
         "political_social_index": 0.29182344402339216,
         "range": "2003.0-2007.0"
        },
        {
         "Freedom of Religion (highest score=1)": 0.9199999999999999,
         "Urban population (% of total population)": 97.603,
         "Voter turnout (highest score=1)": 0.8566666666666666,
         "_deepnote_index_column": 25,
         "country": "Belgium",
         "economic_stability_index": -2.5165029489596384,
         "ethnicity_ratio": 0.59,
         "political_social_index": 0.30392961029143023,
         "range": "2007.0-2010.0"
        },
        {
         "Freedom of Religion (highest score=1)": 0.7675,
         "Urban population (% of total population)": 97.76599999999999,
         "Voter turnout (highest score=1)": 0.855,
         "_deepnote_index_column": 26,
         "country": "Belgium",
         "economic_stability_index": -1.7066637817843613,
         "ethnicity_ratio": 0.59,
         "political_social_index": 0.30143851401445654,
         "range": "2010.0-2014.0"
        },
        {
         "Freedom of Religion (highest score=1)": 0.734,
         "Urban population (% of total population)": 97.9596,
         "Voter turnout (highest score=1)": 0.852,
         "_deepnote_index_column": 27,
         "country": "Belgium",
         "economic_stability_index": -0.8183424184192802,
         "ethnicity_ratio": 0.59,
         "political_social_index": 0.27424337369532564,
         "range": "2014.0-2019.0"
        },
        {
         "Freedom of Religion (highest score=1)": 0.7368470085470087,
         "Urban population (% of total population)": 98.1345,
         "Voter turnout (highest score=1)": 0.7800712310499511,
         "_deepnote_index_column": 28,
         "country": "Belgium",
         "economic_stability_index": -0.8419219190613054,
         "ethnicity_ratio": 0.59,
         "political_social_index": 0.24276462206990074,
         "range": "2019.0-2023.0"
        },
        {
         "Freedom of Religion (highest score=1)": 0.98,
         "Urban population (% of total population)": 77.327625,
         "Voter turnout (highest score=1)": 0.64,
         "_deepnote_index_column": 29,
         "country": "Canada",
         "economic_stability_index": -1.4215856127800766,
         "ethnicity_ratio": 0.59,
         "political_social_index": 0.14367439371682633,
         "range": "1990.0-1997.0"
        },
        {
         "Freedom of Religion (highest score=1)": 0.98,
         "Urban population (% of total population)": 79.10166666666667,
         "Voter turnout (highest score=1)": 0.5533333333333333,
         "_deepnote_index_column": 30,
         "country": "Canada",
         "economic_stability_index": 1.719805472465991,
         "ethnicity_ratio": 0.59,
         "political_social_index": 0.15508632049370438,
         "range": "1997.0-2000.0"
        },
        {
         "Freedom of Religion (highest score=1)": 0.98,
         "Urban population (% of total population)": 79.92750000000001,
         "Voter turnout (highest score=1)": 0.5425,
         "_deepnote_index_column": 31,
         "country": "Canada",
         "economic_stability_index": -0.6876599980892764,
         "ethnicity_ratio": 0.59,
         "political_social_index": 0.16868329226141282,
         "range": "2000.0-2004.0"
        },
        {
         "Freedom of Religion (highest score=1)": 0.915,
         "Urban population (% of total population)": 80.16749999999999,
         "Voter turnout (highest score=1)": 0.565,
         "_deepnote_index_column": 32,
         "country": "Canada",
         "economic_stability_index": -0.1862889459989218,
         "ethnicity_ratio": 0.59,
         "political_social_index": 0.17645164678914738,
         "range": "2004.0-2006.0"
        },
        {
         "Freedom of Religion (highest score=1)": 0.98,
         "Urban population (% of total population)": 80.487,
         "Voter turnout (highest score=1)": 0.5549999999999999,
         "_deepnote_index_column": 33,
         "country": "Canada",
         "economic_stability_index": -1.623866455001238,
         "ethnicity_ratio": 0.59,
         "political_social_index": 0.1826032735314315,
         "range": "2006.0-2008.0"
        },
        {
         "Freedom of Religion (highest score=1)": 0.98,
         "Urban population (% of total population)": 80.93033333333334,
         "Voter turnout (highest score=1)": 0.53,
         "_deepnote_index_column": 34,
         "country": "Canada",
         "economic_stability_index": -2.0873941617983953,
         "ethnicity_ratio": 0.59,
         "political_social_index": 0.17244451385650053,
         "range": "2008.0-2011.0"
        },
        {
         "Freedom of Religion (highest score=1)": 1,
         "Urban population (% of total population)": 81.19800000000001,
         "Voter turnout (highest score=1)": 0.5525,
         "_deepnote_index_column": 35,
         "country": "Canada",
         "economic_stability_index": -1.1962569248098345,
         "ethnicity_ratio": 0.59,
         "political_social_index": 0.13644936160963744,
         "range": "2011.0-2015.0"
        },
        {
         "Freedom of Religion (highest score=1)": 0.95,
         "Urban population (% of total population)": 81.38575,
         "Voter turnout (highest score=1)": 0.62,
         "_deepnote_index_column": 36,
         "country": "Canada",
         "economic_stability_index": -1.243658288334834,
         "ethnicity_ratio": 0.59,
         "political_social_index": 0.1905354997005913,
         "range": "2015.0-2019.0"
        },
        {
         "Freedom of Religion (highest score=1)": 0.8200000000000001,
         "Urban population (% of total population)": 81.6075,
         "Voter turnout (highest score=1)": 0.585,
         "_deepnote_index_column": 37,
         "country": "Canada",
         "economic_stability_index": -2.7943056374253104,
         "ethnicity_ratio": 0.59,
         "political_social_index": 0.1666294735819358,
         "range": "2019.0-2021.0"
        },
        {
         "Freedom of Religion (highest score=1)": 0.84,
         "Urban population (% of total population)": 81.80699999999999,
         "Voter turnout (highest score=1)": 0.6015543411980616,
         "_deepnote_index_column": 38,
         "country": "Canada",
         "economic_stability_index": -0.19351446117145896,
         "ethnicity_ratio": 0.59,
         "political_social_index": 0.13926984390332686,
         "range": "2021.0-2023.0"
        },
        {
         "Freedom of Religion (highest score=1)": 0.9512499999999999,
         "Urban population (% of total population)": 84.11625,
         "Voter turnout (highest score=1)": 0.8275,
         "_deepnote_index_column": 39,
         "country": "Chile",
         "economic_stability_index": 3.4213754654715443,
         "ethnicity_ratio": 0.91,
         "political_social_index": -0.5252138835532917,
         "range": "1990.0-1997.0"
        },
        {
         "Freedom of Religion (highest score=1)": 0.845,
         "Urban population (% of total population)": 85.92275000000001,
         "Voter turnout (highest score=1)": 0.7125,
         "_deepnote_index_column": 40,
         "country": "Chile",
         "economic_stability_index": -0.30748680959611774,
         "ethnicity_ratio": 0.91,
         "political_social_index": -0.4552674204404278,
         "range": "1997.0-2001.0"
        },
        {
         "Freedom of Religion (highest score=1)": 0.89,
         "Urban population (% of total population)": 86.69475,
         "Voter turnout (highest score=1)": 0.66,
         "_deepnote_index_column": 41,
         "country": "Chile",
         "economic_stability_index": 1.9262100999771015,
         "ethnicity_ratio": 0.91,
         "political_social_index": -0.02017599017109025,
         "range": "2001.0-2005.0"
        },
        {
         "Freedom of Religion (highest score=1)": 0.89,
         "Urban population (% of total population)": 86.9295,
         "Voter turnout (highest score=1)": 0.62,
         "_deepnote_index_column": 42,
         "country": "Chile",
         "economic_stability_index": 0.3372354902171183,
         "ethnicity_ratio": 0.91,
         "political_social_index": -0.0578924587778347,
         "range": "2005.0-2009.0"
        },
        {
         "Freedom of Religion (highest score=1)": 0.99,
         "Urban population (% of total population)": 87.16024999999999,
         "Voter turnout (highest score=1)": 0.5549999999999999,
         "_deepnote_index_column": 43,
         "country": "Chile",
         "economic_stability_index": 2.2426495178575823,
         "ethnicity_ratio": 0.91,
         "political_social_index": -0.003159589682824952,
         "range": "2009.0-2013.0"
        },
        {
         "Freedom of Religion (highest score=1)": 1,
         "Urban population (% of total population)": 87.39375,
         "Voter turnout (highest score=1)": 0.46,
         "_deepnote_index_column": 44,
         "country": "Chile",
         "economic_stability_index": -1.5552186045772514,
         "ethnicity_ratio": 0.91,
         "political_social_index": 0.017310675164839126,
         "range": "2013.0-2017.0"
        },
        {
         "Freedom of Religion (highest score=1)": 1,
         "Urban population (% of total population)": 87.68775,
         "Voter turnout (highest score=1)": 0.4925,
         "_deepnote_index_column": 45,
         "country": "Chile",
         "economic_stability_index": -1.0311921680024514,
         "ethnicity_ratio": 0.8815,
         "political_social_index": 0.011388191401543124,
         "range": "2017.0-2021.0"
        },
        {
         "Freedom of Religion (highest score=1)": 0.9763760683760685,
         "Urban population (% of total population)": 87.962,
         "Voter turnout (highest score=1)": 0.5,
         "_deepnote_index_column": 46,
         "country": "Chile",
         "economic_stability_index": -0.1474555361242097,
         "ethnicity_ratio": 0.91,
         "political_social_index": 0.057809407422247654,
         "range": "2021.0-2023.0"
        },
        {
         "Freedom of Religion (highest score=1)": 0.782,
         "Urban population (% of total population)": 70.4094,
         "Voter turnout (highest score=1)": 0.278,
         "_deepnote_index_column": 47,
         "country": "Colombia",
         "economic_stability_index": 0.12293819126951935,
         "ethnicity_ratio": 0.718,
         "political_social_index": -1.1902509579587142,
         "range": "1990.0-1994.0"
        },
        {
         "Freedom of Religion (highest score=1)": 0.8,
         "Urban population (% of total population)": 72.44,
         "Voter turnout (highest score=1)": 0.3075,
         "_deepnote_index_column": 48,
         "country": "Colombia",
         "economic_stability_index": -1.1387621716745988,
         "ethnicity_ratio": 0.71,
         "political_social_index": -1.164835028799177,
         "range": "1994.0-1998.0"
        },
        {
         "Freedom of Religion (highest score=1)": 0.7875000000000001,
         "Urban population (% of total population)": 74.16575,
         "Voter turnout (highest score=1)": 0.4025,
         "_deepnote_index_column": 49,
         "country": "Colombia",
         "economic_stability_index": -2.9822164425940283,
         "ethnicity_ratio": 0.71,
         "political_social_index": -1.3595666792116556,
         "range": "1998.0-2002.0"
        },
        {
         "Freedom of Religion (highest score=1)": 0.8,
         "Urban population (% of total population)": 75.8195,
         "Voter turnout (highest score=1)": 0.4375,
         "_deepnote_index_column": 50,
         "country": "Colombia",
         "economic_stability_index": 1.634937233318196,
         "ethnicity_ratio": 0.71,
         "political_social_index": -1.341455240761092,
         "range": "2002.0-2006.0"
        },
        {
         "Freedom of Religion (highest score=1)": 0.8325,
         "Urban population (% of total population)": 77.39275,
         "Voter turnout (highest score=1)": 0.4325,
         "_deepnote_index_column": 51,
         "country": "Colombia",
         "economic_stability_index": 0.5989316741730241,
         "ethnicity_ratio": 0.71,
         "political_social_index": -1.1101696089258764,
         "range": "2006.0-2010.0"
        },
        {
         "Freedom of Religion (highest score=1)": 0.88,
         "Urban population (% of total population)": 78.878,
         "Voter turnout (highest score=1)": 0.46,
         "_deepnote_index_column": 52,
         "country": "Colombia",
         "economic_stability_index": 1.9494814249690973,
         "ethnicity_ratio": 0.71,
         "political_social_index": -0.9550870362899703,
         "range": "2010.0-2014.0"
        },
        {
         "Freedom of Religion (highest score=1)": 0.8475,
         "Urban population (% of total population)": 80.274,
         "Voter turnout (highest score=1)": 0.5325,
         "_deepnote_index_column": 53,
         "country": "Colombia",
         "economic_stability_index": -1.2418799164266834,
         "ethnicity_ratio": 0.71,
         "political_social_index": -0.8729054629412575,
         "range": "2014.0-2018.0"
        },
        {
         "Freedom of Religion (highest score=1)": 0.86,
         "Urban population (% of total population)": 81.57974999999999,
         "Voter turnout (highest score=1)": 0.5825,
         "_deepnote_index_column": 54,
         "country": "Colombia",
         "economic_stability_index": 0.13583752916605113,
         "ethnicity_ratio": 0.7086307692307692,
         "political_social_index": -0.9172526657877917,
         "range": "2018.0-2022.0"
        },
        {
         "Freedom of Religion (highest score=1)": 0.9017675213675204,
         "Urban population (% of total population)": 82.354,
         "Voter turnout (highest score=1)": 0.5796923076923086,
         "_deepnote_index_column": 55,
         "country": "Colombia",
         "economic_stability_index": 4.232082132350677,
         "ethnicity_ratio": 0.7041692307692308,
         "political_social_index": -0.8709320953839002,
         "range": "2022.0-2023.0"
        },
        {
         "Freedom of Religion (highest score=1)": 0.876,
         "Urban population (% of total population)": 51.829600000000006,
         "Voter turnout (highest score=1)": 0.8480000000000001,
         "_deepnote_index_column": 56,
         "country": "Costa Rica",
         "economic_stability_index": 0.6164664959663511,
         "ethnicity_ratio": 0.837,
         "political_social_index": 0.12395789262900965,
         "range": "1990.0-1994.0"
        },
        {
         "Freedom of Religion (highest score=1)": 0.98,
         "Urban population (% of total population)": 55.91475,
         "Voter turnout (highest score=1)": 0.815,
         "_deepnote_index_column": 57,
         "country": "Costa Rica",
         "economic_stability_index": 0.07540023787391965,
         "ethnicity_ratio": 0.837,
         "political_social_index": 0.13889508370809622,
         "range": "1994.0-1998.0"
        },
        {
         "Freedom of Religion (highest score=1)": 0.98,
         "Urban population (% of total population)": 59.842999999999996,
         "Voter turnout (highest score=1)": 0.7,
         "_deepnote_index_column": 58,
         "country": "Costa Rica",
         "economic_stability_index": -0.31093485028105017,
         "ethnicity_ratio": 0.837,
         "political_social_index": 0.1527982500036683,
         "range": "1998.0-2002.0"
        },
        {
         "Freedom of Religion (highest score=1)": 0.98,
         "Urban population (% of total population)": 65.01875,
         "Voter turnout (highest score=1)": 0.595,
         "_deepnote_index_column": 59,
         "country": "Costa Rica",
         "economic_stability_index": 1.3354427790726722,
         "ethnicity_ratio": 0.837,
         "political_social_index": 0.16688800875406498,
         "range": "2002.0-2006.0"
        },
        {
         "Freedom of Religion (highest score=1)": 0.8575,
         "Urban population (% of total population)": 69.96875,
         "Voter turnout (highest score=1)": 0.635,
         "_deepnote_index_column": 60,
         "country": "Costa Rica",
         "economic_stability_index": 0.8445769564340282,
         "ethnicity_ratio": 0.837,
         "political_social_index": 0.19080828166545,
         "range": "2006.0-2010.0"
        },
        {
         "Freedom of Religion (highest score=1)": 0.915,
         "Urban population (% of total population)": 74.43125,
         "Voter turnout (highest score=1)": 0.595,
         "_deepnote_index_column": 61,
         "country": "Costa Rica",
         "economic_stability_index": 0.5103582361549597,
         "ethnicity_ratio": 0.837,
         "political_social_index": 0.19571576151243783,
         "range": "2010.0-2014.0"
        },
        {
         "Freedom of Religion (highest score=1)": 0.9450000000000001,
         "Urban population (% of total population)": 78.12425,
         "Voter turnout (highest score=1)": 0.5375,
         "_deepnote_index_column": 62,
         "country": "Costa Rica",
         "economic_stability_index": 0.5230842633941359,
         "ethnicity_ratio": 0.837,
         "political_social_index": 0.1945640020668205,
         "range": "2014.0-2018.0"
        },
        {
         "Freedom of Religion (highest score=1)": 0.9175,
         "Urban population (% of total population)": 81.07849999999999,
         "Voter turnout (highest score=1)": 0.5775,
         "_deepnote_index_column": 63,
         "country": "Costa Rica",
         "economic_stability_index": -0.14919210862149052,
         "ethnicity_ratio": 0.837,
         "political_social_index": 0.1779897616506411,
         "range": "2018.0-2022.0"
        },
        {
         "Freedom of Religion (highest score=1)": 0.9084888888888888,
         "Urban population (% of total population)": 82.622,
         "Voter turnout (highest score=1)": 0.5404854701139357,
         "_deepnote_index_column": 64,
         "country": "Costa Rica",
         "economic_stability_index": 1.7784012568695886,
         "ethnicity_ratio": 0.8370000000000001,
         "political_social_index": 0.1752992462359821,
         "range": "2022.0-2023.0"
        },
        {
         "Freedom of Religion (highest score=1)": 0.9628571428571429,
         "Urban population (% of total population)": 74.89099999999999,
         "Voter turnout (highest score=1)": 0.86,
         "_deepnote_index_column": 65,
         "country": "Czechia",
         "economic_stability_index": -3.4267736484027327,
         "ethnicity_ratio": 0,
         "political_social_index": -0.1886267969278692,
         "range": "1990.0-1996.0"
        },
        {
         "Freedom of Religion (highest score=1)": 0.915,
         "Urban population (% of total population)": 74.3165,
         "Voter turnout (highest score=1)": 0.775,
         "_deepnote_index_column": 66,
         "country": "Czechia",
         "economic_stability_index": -2.446293896918604,
         "ethnicity_ratio": 0,
         "political_social_index": -0.25470806655321254,
         "range": "1996.0-1998.0"
        },
        {
         "Freedom of Religion (highest score=1)": 0.9475,
         "Urban population (% of total population)": 73.9485,
         "Voter turnout (highest score=1)": 0.725,
         "_deepnote_index_column": 67,
         "country": "Czechia",
         "economic_stability_index": 0.6347168432589149,
         "ethnicity_ratio": 0,
         "political_social_index": -0.20168171231086046,
         "range": "1998.0-2002.0"
        },
        {
         "Freedom of Religion (highest score=1)": 0.8825,
         "Urban population (% of total population)": 73.6365,
         "Voter turnout (highest score=1)": 0.605,
         "_deepnote_index_column": 68,
         "country": "Czechia",
         "economic_stability_index": 3.2223528055874153,
         "ethnicity_ratio": 0,
         "political_social_index": 0.11156547446704745,
         "range": "2002.0-2006.0"
        },
        {
         "Freedom of Religion (highest score=1)": 0.98,
         "Urban population (% of total population)": 73.359,
         "Voter turnout (highest score=1)": 0.6425000000000001,
         "_deepnote_index_column": 69,
         "country": "Czechia",
         "economic_stability_index": -1.1766277788886637,
         "ethnicity_ratio": 0,
         "political_social_index": 0.19576731841217015,
         "range": "2006.0-2010.0"
        },
        {
         "Freedom of Religion (highest score=1)": 0.9933333333333333,
         "Urban population (% of total population)": 73.224,
         "Voter turnout (highest score=1)": 0.6066666666666666,
         "_deepnote_index_column": 70,
         "country": "Czechia",
         "economic_stability_index": -1.9272298925754596,
         "ethnicity_ratio": 0,
         "political_social_index": 0.2050903841235089,
         "range": "2010.0-2013.0"
        },
        {
         "Freedom of Religion (highest score=1)": 0.805,
         "Urban population (% of total population)": 73.5265,
         "Voter turnout (highest score=1)": 0.58,
         "_deepnote_index_column": 71,
         "country": "Czechia",
         "economic_stability_index": 1.5318033397775634,
         "ethnicity_ratio": 0,
         "political_social_index": 0.14317024014277357,
         "range": "2013.0-2017.0"
        },
        {
         "Freedom of Religion (highest score=1)": 0.8049999999999999,
         "Urban population (% of total population)": 73.997,
         "Voter turnout (highest score=1)": 0.5874999999999999,
         "_deepnote_index_column": 72,
         "country": "Czechia",
         "economic_stability_index": -0.8061508054313538,
         "ethnicity_ratio": 0,
         "political_social_index": 0.0704192820633847,
         "range": "2017.0-2021.0"
        },
        {
         "Freedom of Religion (highest score=1)": 0.7355674910522065,
         "Urban population (% of total population)": 74.4645,
         "Voter turnout (highest score=1)": 0.6238479928189735,
         "_deepnote_index_column": 73,
         "country": "Czechia",
         "economic_stability_index": -1.3073222307840338,
         "ethnicity_ratio": 0,
         "political_social_index": 0.1485539236192016,
         "range": "2021.0-2023.0"
        },
        {
         "Freedom of Religion (highest score=1)": 0.9800000000000001,
         "Urban population (% of total population)": 84.89779999999999,
         "Voter turnout (highest score=1)": 0.812,
         "_deepnote_index_column": 74,
         "country": "Denmark",
         "economic_stability_index": -0.366355083514614,
         "ethnicity_ratio": 1,
         "political_social_index": 0.5291807283952545,
         "range": "1990.0-1994.0"
        },
        {
         "Freedom of Religion (highest score=1)": 0.98,
         "Urban population (% of total population)": 85.0195,
         "Voter turnout (highest score=1)": 0.8225,
         "_deepnote_index_column": 75,
         "country": "Denmark",
         "economic_stability_index": 0.263211130276604,
         "ethnicity_ratio": 1,
         "political_social_index": 0.5331776869983761,
         "range": "1994.0-1998.0"
        },
        {
         "Freedom of Religion (highest score=1)": 0.98,
         "Urban population (% of total population)": 85.11200000000001,
         "Voter turnout (highest score=1)": 0.8366666666666666,
         "_deepnote_index_column": 76,
         "country": "Denmark",
         "economic_stability_index": 0.04730690363461295,
         "ethnicity_ratio": 1,
         "political_social_index": 0.5385321802347569,
         "range": "1998.0-2001.0"
        },
        {
         "Freedom of Religion (highest score=1)": 0.9475,
         "Urban population (% of total population)": 85.508,
         "Voter turnout (highest score=1)": 0.84,
         "_deepnote_index_column": 77,
         "country": "Denmark",
         "economic_stability_index": -0.9293581041064822,
         "ethnicity_ratio": 1,
         "political_social_index": 0.5558556015090415,
         "range": "2001.0-2005.0"
        },
        {
         "Freedom of Religion (highest score=1)": 0.98,
         "Urban population (% of total population)": 86.19550000000001,
         "Voter turnout (highest score=1)": 0.8200000000000001,
         "_deepnote_index_column": 78,
         "country": "Denmark",
         "economic_stability_index": -0.09229421424465178,
         "ethnicity_ratio": 1,
         "political_social_index": 0.5664332183029946,
         "range": "2005.0-2007.0"
        },
        {
         "Freedom of Religion (highest score=1)": 0.98,
         "Urban population (% of total population)": 86.72325,
         "Voter turnout (highest score=1)": 0.8274999999999999,
         "_deepnote_index_column": 79,
         "country": "Denmark",
         "economic_stability_index": -3.1519206142594918,
         "ethnicity_ratio": 1,
         "political_social_index": 0.5766275910771106,
         "range": "2007.0-2011.0"
        },
        {
         "Freedom of Religion (highest score=1)": 0.9175,
         "Urban population (% of total population)": 87.3425,
         "Voter turnout (highest score=1)": 0.815,
         "_deepnote_index_column": 80,
         "country": "Denmark",
         "economic_stability_index": -1.336860396823236,
         "ethnicity_ratio": 1,
         "political_social_index": 0.5820341227797374,
         "range": "2011.0-2015.0"
        },
        {
         "Freedom of Religion (highest score=1)": 0.89,
         "Urban population (% of total population)": 87.81675,
         "Voter turnout (highest score=1)": 0.79,
         "_deepnote_index_column": 81,
         "country": "Denmark",
         "economic_stability_index": -0.3042552236128124,
         "ethnicity_ratio": 1,
         "political_social_index": 0.5682261989176787,
         "range": "2015.0-2019.0"
        },
        {
         "Freedom of Religion (highest score=1)": 0.8833333333333333,
         "Urban population (% of total population)": 88.241,
         "Voter turnout (highest score=1)": 0.7600000000000001,
         "_deepnote_index_column": 82,
         "country": "Denmark",
         "economic_stability_index": -0.24320225227924297,
         "ethnicity_ratio": 1,
         "political_social_index": 0.5500438734843245,
         "range": "2019.0-2022.0"
        },
        {
         "Freedom of Religion (highest score=1)": 0.8586222222120341,
         "Urban population (% of total population)": 88.495,
         "Voter turnout (highest score=1)": 0.7511473180311441,
         "_deepnote_index_column": 83,
         "country": "Denmark",
         "economic_stability_index": -0.0840674974663143,
         "ethnicity_ratio": 1,
         "political_social_index": 0.557722216864888,
         "range": "2022.0-2023.0"
        },
        {
         "Freedom of Religion (highest score=1)": 0.9617333333333334,
         "Urban population (% of total population)": 70.76633333333334,
         "Voter turnout (highest score=1)": 0.4868000000000001,
         "_deepnote_index_column": 84,
         "country": "Estonia",
         "economic_stability_index": 4.392950582080525,
         "ethnicity_ratio": 0.5658333333333334,
         "political_social_index": -0.4883627222989892,
         "range": "1990.0-1995.0"
        },
        {
         "Freedom of Religion (highest score=1)": 0.98,
         "Urban population (% of total population)": 69.8275,
         "Voter turnout (highest score=1)": 0.4725,
         "_deepnote_index_column": 85,
         "country": "Estonia",
         "economic_stability_index": 4.2603245699315,
         "ethnicity_ratio": 0.679,
         "political_social_index": 0.0425860084145332,
         "range": "1995.0-1999.0"
        },
        {
         "Freedom of Religion (highest score=1)": 0.98,
         "Urban population (% of total population)": 69.17875000000001,
         "Voter turnout (highest score=1)": 0.455,
         "_deepnote_index_column": 86,
         "country": "Estonia",
         "economic_stability_index": 5.881799579860667,
         "ethnicity_ratio": 0.679,
         "political_social_index": 0.08280638384295815,
         "range": "1999.0-2003.0"
        },
        {
         "Freedom of Religion (highest score=1)": 0.98,
         "Urban population (% of total population)": 68.67075,
         "Voter turnout (highest score=1)": 0.485,
         "_deepnote_index_column": 87,
         "country": "Estonia",
         "economic_stability_index": 6.9118211708327895,
         "ethnicity_ratio": 0.679,
         "political_social_index": 0.24602333001789645,
         "range": "2003.0-2007.0"
        },
        {
         "Freedom of Religion (highest score=1)": 0.98,
         "Urban population (% of total population)": 68.15825,
         "Voter turnout (highest score=1)": 0.535,
         "_deepnote_index_column": 88,
         "country": "Estonia",
         "economic_stability_index": -4.378096113612271,
         "ethnicity_ratio": 0.679,
         "political_social_index": 0.28413731461572544,
         "range": "2007.0-2011.0"
        },
        {
         "Freedom of Religion (highest score=1)": 1,
         "Urban population (% of total population)": 68.19525,
         "Voter turnout (highest score=1)": 0.5525,
         "_deepnote_index_column": 89,
         "country": "Estonia",
         "economic_stability_index": 0.5121590282835189,
         "ethnicity_ratio": 0.679,
         "political_social_index": 0.3268477692299465,
         "range": "2011.0-2015.0"
        },
        {
         "Freedom of Religion (highest score=1)": 1,
         "Urban population (% of total population)": 68.80275,
         "Voter turnout (highest score=1)": 0.56,
         "_deepnote_index_column": 90,
         "country": "Estonia",
         "economic_stability_index": 1.7824845924891153,
         "ethnicity_ratio": 0.679,
         "political_social_index": 0.38174313804052656,
         "range": "2015.0-2019.0"
        },
        {
         "Freedom of Religion (highest score=1)": 1.0022846153846154,
         "Urban population (% of total population)": 69.51575,
         "Voter turnout (highest score=1)": 0.5590615384615384,
         "_deepnote_index_column": 91,
         "country": "Estonia",
         "economic_stability_index": -1.552358640284007,
         "ethnicity_ratio": 0.50925,
         "political_social_index": 0.16919535902618998,
         "range": "2019.0-2023.0"
        },
        {
         "Freedom of Religion (highest score=1)": 0.98,
         "Urban population (% of total population)": 80.233,
         "Voter turnout (highest score=1)": 0.7533333333333333,
         "_deepnote_index_column": 92,
         "country": "Finland",
         "economic_stability_index": -2.7458110682949797,
         "ethnicity_ratio": 0.93,
         "political_social_index": 0.1310165444476409,
         "range": "1990.0-1995.0"
        },
        {
         "Freedom of Religion (highest score=1)": 0.9475,
         "Urban population (% of total population)": 81.5855,
         "Voter turnout (highest score=1)": 0.695,
         "_deepnote_index_column": 93,
         "country": "Finland",
         "economic_stability_index": 2.5555403080046406,
         "ethnicity_ratio": 0.93,
         "political_social_index": 0.37437673459670207,
         "range": "1995.0-1999.0"
        },
        {
         "Freedom of Religion (highest score=1)": 0.9475,
         "Urban population (% of total population)": 82.423,
         "Voter turnout (highest score=1)": 0.7525,
         "_deepnote_index_column": 94,
         "country": "Finland",
         "economic_stability_index": 0.6784629877549079,
         "ethnicity_ratio": 0.93,
         "political_social_index": 0.3868156315943776,
         "range": "1999.0-2003.0"
        },
        {
         "Freedom of Religion (highest score=1)": 0.98,
         "Urban population (% of total population)": 82.9705,
         "Voter turnout (highest score=1)": 0.715,
         "_deepnote_index_column": 95,
         "country": "Finland",
         "economic_stability_index": 1.5404846077642884,
         "ethnicity_ratio": 0.93,
         "political_social_index": 0.3936654888322104,
         "range": "2003.0-2007.0"
        },
        {
         "Freedom of Religion (highest score=1)": 0.9475,
         "Urban population (% of total population)": 83.70275000000001,
         "Voter turnout (highest score=1)": 0.6925,
         "_deepnote_index_column": 96,
         "country": "Finland",
         "economic_stability_index": -2.9618344481925156,
         "ethnicity_ratio": 0.93,
         "political_social_index": 0.40765300361893875,
         "range": "2007.0-2011.0"
        },
        {
         "Freedom of Religion (highest score=1)": 0.9450000000000001,
         "Urban population (% of total population)": 85.0915,
         "Voter turnout (highest score=1)": 0.715,
         "_deepnote_index_column": 97,
         "country": "Finland",
         "economic_stability_index": -3.056113408323312,
         "ethnicity_ratio": 0.93,
         "political_social_index": 0.39208820318754145,
         "range": "2011.0-2015.0"
        },
        {
         "Freedom of Religion (highest score=1)": 0.9125,
         "Urban population (% of total population)": 85.357,
         "Voter turnout (highest score=1)": 0.705,
         "_deepnote_index_column": 98,
         "country": "Finland",
         "economic_stability_index": -0.21315512081211496,
         "ethnicity_ratio": 0.93,
         "political_social_index": 0.32791375729034233,
         "range": "2015.0-2019.0"
        },
        {
         "Freedom of Religion (highest score=1)": 0.9475529914497577,
         "Urban population (% of total population)": 85.64175,
         "Voter turnout (highest score=1)": 0.6880717948717948,
         "_deepnote_index_column": 99,
         "country": "Finland",
         "economic_stability_index": -1.419707716097624,
         "ethnicity_ratio": 0.93,
         "political_social_index": 0.3028458036872941,
         "range": "2019.0-2023.0"
        }
       ],
       "type": "dataframe"
      },
      "text/html": [
       "<div>\n",
       "<style scoped>\n",
       "    .dataframe tbody tr th:only-of-type {\n",
       "        vertical-align: middle;\n",
       "    }\n",
       "\n",
       "    .dataframe tbody tr th {\n",
       "        vertical-align: top;\n",
       "    }\n",
       "\n",
       "    .dataframe thead th {\n",
       "        text-align: right;\n",
       "    }\n",
       "</style>\n",
       "<table border=\"1\" class=\"dataframe\">\n",
       "  <thead>\n",
       "    <tr style=\"text-align: right;\">\n",
       "      <th></th>\n",
       "      <th>country</th>\n",
       "      <th>range</th>\n",
       "      <th>Voter turnout (highest score=1)</th>\n",
       "      <th>Freedom of Religion (highest score=1)</th>\n",
       "      <th>Urban population (% of total population)</th>\n",
       "      <th>ethnicity_ratio</th>\n",
       "      <th>economic_stability_index</th>\n",
       "      <th>political_social_index</th>\n",
       "    </tr>\n",
       "  </thead>\n",
       "  <tbody>\n",
       "    <tr>\n",
       "      <th>0</th>\n",
       "      <td>Australia</td>\n",
       "      <td>1990.0-1996.0</td>\n",
       "      <td>0.830000</td>\n",
       "      <td>0.980000</td>\n",
       "      <td>85.138714</td>\n",
       "      <td>0.840000</td>\n",
       "      <td>-0.513375</td>\n",
       "      <td>0.316627</td>\n",
       "    </tr>\n",
       "    <tr>\n",
       "      <th>1</th>\n",
       "      <td>Australia</td>\n",
       "      <td>1996.0-1998.0</td>\n",
       "      <td>0.825000</td>\n",
       "      <td>0.980000</td>\n",
       "      <td>84.569500</td>\n",
       "      <td>0.840000</td>\n",
       "      <td>1.100448</td>\n",
       "      <td>0.320910</td>\n",
       "    </tr>\n",
       "    <tr>\n",
       "      <th>2</th>\n",
       "      <td>Australia</td>\n",
       "      <td>1998.0-2001.0</td>\n",
       "      <td>0.826667</td>\n",
       "      <td>0.980000</td>\n",
       "      <td>84.235000</td>\n",
       "      <td>0.840000</td>\n",
       "      <td>0.339552</td>\n",
       "      <td>0.324674</td>\n",
       "    </tr>\n",
       "    <tr>\n",
       "      <th>3</th>\n",
       "      <td>Australia</td>\n",
       "      <td>2001.0-2004.0</td>\n",
       "      <td>0.836667</td>\n",
       "      <td>0.980000</td>\n",
       "      <td>84.342667</td>\n",
       "      <td>0.840000</td>\n",
       "      <td>0.500816</td>\n",
       "      <td>0.328661</td>\n",
       "    </tr>\n",
       "    <tr>\n",
       "      <th>4</th>\n",
       "      <td>Australia</td>\n",
       "      <td>2004.0-2007.0</td>\n",
       "      <td>0.830000</td>\n",
       "      <td>0.980000</td>\n",
       "      <td>84.701333</td>\n",
       "      <td>0.840000</td>\n",
       "      <td>-0.382637</td>\n",
       "      <td>0.331623</td>\n",
       "    </tr>\n",
       "    <tr>\n",
       "      <th>...</th>\n",
       "      <td>...</td>\n",
       "      <td>...</td>\n",
       "      <td>...</td>\n",
       "      <td>...</td>\n",
       "      <td>...</td>\n",
       "      <td>...</td>\n",
       "      <td>...</td>\n",
       "      <td>...</td>\n",
       "    </tr>\n",
       "    <tr>\n",
       "      <th>327</th>\n",
       "      <td>United States</td>\n",
       "      <td>2008.0-2012.0</td>\n",
       "      <td>0.460000</td>\n",
       "      <td>0.985000</td>\n",
       "      <td>80.860250</td>\n",
       "      <td>0.660000</td>\n",
       "      <td>-1.919933</td>\n",
       "      <td>0.133142</td>\n",
       "    </tr>\n",
       "    <tr>\n",
       "      <th>328</th>\n",
       "      <td>United States</td>\n",
       "      <td>2012.0-2016.0</td>\n",
       "      <td>0.432500</td>\n",
       "      <td>0.992500</td>\n",
       "      <td>81.578750</td>\n",
       "      <td>0.660000</td>\n",
       "      <td>-0.718026</td>\n",
       "      <td>0.105266</td>\n",
       "    </tr>\n",
       "    <tr>\n",
       "      <th>329</th>\n",
       "      <td>United States</td>\n",
       "      <td>2016.0-2020.0</td>\n",
       "      <td>0.530000</td>\n",
       "      <td>0.992500</td>\n",
       "      <td>82.359250</td>\n",
       "      <td>0.615000</td>\n",
       "      <td>-1.576694</td>\n",
       "      <td>-0.114803</td>\n",
       "    </tr>\n",
       "    <tr>\n",
       "      <th>330</th>\n",
       "      <td>United States</td>\n",
       "      <td>2020.0-2023.0</td>\n",
       "      <td>0.486667</td>\n",
       "      <td>0.998471</td>\n",
       "      <td>83.085000</td>\n",
       "      <td>0.581391</td>\n",
       "      <td>0.850395</td>\n",
       "      <td>-0.056304</td>\n",
       "    </tr>\n",
       "    <tr>\n",
       "      <th>331</th>\n",
       "      <td>Unnamed: 38</td>\n",
       "      <td>1990.0-2023.0</td>\n",
       "      <td>NaN</td>\n",
       "      <td>NaN</td>\n",
       "      <td>NaN</td>\n",
       "      <td>NaN</td>\n",
       "      <td>NaN</td>\n",
       "      <td>NaN</td>\n",
       "    </tr>\n",
       "  </tbody>\n",
       "</table>\n",
       "<p>332 rows × 8 columns</p>\n",
       "</div>"
      ],
      "text/plain": [
       "           country          range  Voter turnout (highest score=1)  \\\n",
       "0        Australia  1990.0-1996.0                         0.830000   \n",
       "1        Australia  1996.0-1998.0                         0.825000   \n",
       "2        Australia  1998.0-2001.0                         0.826667   \n",
       "3        Australia  2001.0-2004.0                         0.836667   \n",
       "4        Australia  2004.0-2007.0                         0.830000   \n",
       "..             ...            ...                              ...   \n",
       "327  United States  2008.0-2012.0                         0.460000   \n",
       "328  United States  2012.0-2016.0                         0.432500   \n",
       "329  United States  2016.0-2020.0                         0.530000   \n",
       "330  United States  2020.0-2023.0                         0.486667   \n",
       "331    Unnamed: 38  1990.0-2023.0                              NaN   \n",
       "\n",
       "     Freedom of Religion (highest score=1)  \\\n",
       "0                                 0.980000   \n",
       "1                                 0.980000   \n",
       "2                                 0.980000   \n",
       "3                                 0.980000   \n",
       "4                                 0.980000   \n",
       "..                                     ...   \n",
       "327                               0.985000   \n",
       "328                               0.992500   \n",
       "329                               0.992500   \n",
       "330                               0.998471   \n",
       "331                                    NaN   \n",
       "\n",
       "     Urban population (% of total population)  ethnicity_ratio  \\\n",
       "0                                   85.138714         0.840000   \n",
       "1                                   84.569500         0.840000   \n",
       "2                                   84.235000         0.840000   \n",
       "3                                   84.342667         0.840000   \n",
       "4                                   84.701333         0.840000   \n",
       "..                                        ...              ...   \n",
       "327                                 80.860250         0.660000   \n",
       "328                                 81.578750         0.660000   \n",
       "329                                 82.359250         0.615000   \n",
       "330                                 83.085000         0.581391   \n",
       "331                                       NaN              NaN   \n",
       "\n",
       "     economic_stability_index  political_social_index  \n",
       "0                   -0.513375                0.316627  \n",
       "1                    1.100448                0.320910  \n",
       "2                    0.339552                0.324674  \n",
       "3                    0.500816                0.328661  \n",
       "4                   -0.382637                0.331623  \n",
       "..                        ...                     ...  \n",
       "327                 -1.919933                0.133142  \n",
       "328                 -0.718026                0.105266  \n",
       "329                 -1.576694               -0.114803  \n",
       "330                  0.850395               -0.056304  \n",
       "331                       NaN                     NaN  \n",
       "\n",
       "[332 rows x 8 columns]"
      ]
     },
     "execution_count": 29,
     "metadata": {},
     "output_type": "execute_result"
    }
   ],
   "source": [
    "year_indexing = full_df.copy()\n",
    "full_df.drop(columns=['upwards_year', 'downwards_year', 'year', 'change'], inplace=True)\n",
    "df_avg = full_df.groupby(['country', 'range']).mean().reset_index()\n",
    "df_avg"
   ]
  },
  {
   "cell_type": "code",
   "execution_count": 30,
   "metadata": {
    "cell_id": "9d3afba307cd4c0db853c3a5d1846ed5",
    "deepnote_app_block_group_id": null,
    "deepnote_app_block_order": 29,
    "deepnote_app_block_visible": true,
    "deepnote_app_is_code_hidden": true,
    "deepnote_app_is_output_hidden": false,
    "deepnote_cell_type": "code",
    "execution_context_id": "f4e73ac9-64de-42e9-ae88-7619fadf8313",
    "execution_millis": 0,
    "execution_start": 1743011976314,
    "source_hash": "6eece741"
   },
   "outputs": [],
   "source": [
    "year_indexing = year_indexing[\n",
    "    (year_indexing['change'] != 'No Election') & (year_indexing['change'] != 'END')\n",
    "]\n",
    "\n",
    "year_indexing.drop(columns=[\"upwards_year\", \"downwards_year\"], inplace=True)"
   ]
  },
  {
   "cell_type": "code",
   "execution_count": 31,
   "metadata": {
    "cell_id": "75013a3b02e84cf98d7dfacf487d5d82",
    "deepnote_app_block_group_id": null,
    "deepnote_app_block_order": 30,
    "deepnote_app_block_visible": true,
    "deepnote_app_is_code_hidden": true,
    "deepnote_app_is_output_hidden": false,
    "deepnote_cell_type": "code",
    "execution_context_id": "f4e73ac9-64de-42e9-ae88-7619fadf8313",
    "execution_millis": 0,
    "execution_start": 1743011976375,
    "source_hash": "6ffd828f"
   },
   "outputs": [],
   "source": [
    "# Merge the dataframes\n",
    "final_df = pd.merge(df_avg, year_indexing[['country', 'range','change',  'year']], on=['country', 'range'])"
   ]
  },
  {
   "cell_type": "code",
   "execution_count": 32,
   "metadata": {
    "cell_id": "34cb1f0f710341b9bdc720dc23724d0c",
    "deepnote_cell_type": "code",
    "execution_context_id": "f4e73ac9-64de-42e9-ae88-7619fadf8313",
    "execution_millis": 0,
    "execution_start": 1743011976454,
    "source_hash": "66ad094a"
   },
   "outputs": [
    {
     "data": {
      "application/vnd.deepnote.dataframe.v3+json": {
       "column_count": 10,
       "columns": [
        {
         "dtype": "object",
         "name": "country",
         "stats": {
          "categories": [
           {
            "count": 5,
            "name": "Australia"
           }
          ],
          "nan_count": 0,
          "unique_count": 1
         }
        },
        {
         "dtype": "object",
         "name": "range",
         "stats": {
          "categories": [
           {
            "count": 1,
            "name": "1990.0-1996.0"
           },
           {
            "count": 1,
            "name": "1996.0-1998.0"
           },
           {
            "count": 3,
            "name": "3 others"
           }
          ],
          "nan_count": 0,
          "unique_count": 5
         }
        },
        {
         "dtype": "float64",
         "name": "Voter turnout (highest score=1)",
         "stats": {
          "histogram": [
           {
            "bin_end": 0.8261666666666666,
            "bin_start": 0.825,
            "count": 1
           },
           {
            "bin_end": 0.8273333333333333,
            "bin_start": 0.8261666666666666,
            "count": 1
           },
           {
            "bin_end": 0.8284999999999999,
            "bin_start": 0.8273333333333333,
            "count": 0
           },
           {
            "bin_end": 0.8296666666666666,
            "bin_start": 0.8284999999999999,
            "count": 0
           },
           {
            "bin_end": 0.8308333333333333,
            "bin_start": 0.8296666666666666,
            "count": 2
           },
           {
            "bin_end": 0.832,
            "bin_start": 0.8308333333333333,
            "count": 0
           },
           {
            "bin_end": 0.8331666666666666,
            "bin_start": 0.832,
            "count": 0
           },
           {
            "bin_end": 0.8343333333333333,
            "bin_start": 0.8331666666666666,
            "count": 0
           },
           {
            "bin_end": 0.8354999999999999,
            "bin_start": 0.8343333333333333,
            "count": 0
           },
           {
            "bin_end": 0.8366666666666666,
            "bin_start": 0.8354999999999999,
            "count": 1
           }
          ],
          "max": "0.8366666666666666",
          "min": "0.825",
          "nan_count": 0,
          "unique_count": 4
         }
        },
        {
         "dtype": "float64",
         "name": "Freedom of Religion (highest score=1)",
         "stats": {
          "histogram": [
           {
            "bin_end": 0.9799999999999999,
            "bin_start": 0.9799999999999999,
            "count": 0
           },
           {
            "bin_end": 0.9799999999999999,
            "bin_start": 0.9799999999999999,
            "count": 1
           },
           {
            "bin_end": 0.9799999999999999,
            "bin_start": 0.9799999999999999,
            "count": 0
           },
           {
            "bin_end": 0.9799999999999999,
            "bin_start": 0.9799999999999999,
            "count": 0
           },
           {
            "bin_end": 0.98,
            "bin_start": 0.9799999999999999,
            "count": 0
           },
           {
            "bin_end": 0.98,
            "bin_start": 0.98,
            "count": 0
           },
           {
            "bin_end": 0.98,
            "bin_start": 0.98,
            "count": 0
           },
           {
            "bin_end": 0.98,
            "bin_start": 0.98,
            "count": 0
           },
           {
            "bin_end": 0.98,
            "bin_start": 0.98,
            "count": 0
           },
           {
            "bin_end": 0.98,
            "bin_start": 0.98,
            "count": 4
           }
          ],
          "max": "0.98",
          "min": "0.9799999999999999",
          "nan_count": 0,
          "unique_count": 2
         }
        },
        {
         "dtype": "float64",
         "name": "Urban population (% of total population)",
         "stats": {
          "histogram": [
           {
            "bin_end": 84.32537142857143,
            "bin_start": 84.235,
            "count": 1
           },
           {
            "bin_end": 84.41574285714286,
            "bin_start": 84.32537142857143,
            "count": 1
           },
           {
            "bin_end": 84.50611428571429,
            "bin_start": 84.41574285714286,
            "count": 0
           },
           {
            "bin_end": 84.59648571428572,
            "bin_start": 84.50611428571429,
            "count": 1
           },
           {
            "bin_end": 84.68685714285715,
            "bin_start": 84.59648571428572,
            "count": 0
           },
           {
            "bin_end": 84.77722857142857,
            "bin_start": 84.68685714285715,
            "count": 1
           },
           {
            "bin_end": 84.8676,
            "bin_start": 84.77722857142857,
            "count": 0
           },
           {
            "bin_end": 84.95797142857143,
            "bin_start": 84.8676,
            "count": 0
           },
           {
            "bin_end": 85.04834285714286,
            "bin_start": 84.95797142857143,
            "count": 0
           },
           {
            "bin_end": 85.13871428571429,
            "bin_start": 85.04834285714286,
            "count": 1
           }
          ],
          "max": "85.13871428571429",
          "min": "84.235",
          "nan_count": 0,
          "unique_count": 5
         }
        },
        {
         "dtype": "float64",
         "name": "ethnicity_ratio",
         "stats": {
          "histogram": [
           {
            "bin_end": 0.43999999999999995,
            "bin_start": 0.33999999999999997,
            "count": 0
           },
           {
            "bin_end": 0.5399999999999999,
            "bin_start": 0.43999999999999995,
            "count": 0
           },
           {
            "bin_end": 0.6399999999999999,
            "bin_start": 0.5399999999999999,
            "count": 0
           },
           {
            "bin_end": 0.74,
            "bin_start": 0.6399999999999999,
            "count": 0
           },
           {
            "bin_end": 0.8399999999999999,
            "bin_start": 0.74,
            "count": 0
           },
           {
            "bin_end": 0.94,
            "bin_start": 0.8399999999999999,
            "count": 5
           },
           {
            "bin_end": 1.04,
            "bin_start": 0.94,
            "count": 0
           },
           {
            "bin_end": 1.14,
            "bin_start": 1.04,
            "count": 0
           },
           {
            "bin_end": 1.2399999999999998,
            "bin_start": 1.14,
            "count": 0
           },
           {
            "bin_end": 1.3399999999999999,
            "bin_start": 1.2399999999999998,
            "count": 0
           }
          ],
          "max": "0.84",
          "min": "0.84",
          "nan_count": 0,
          "unique_count": 1
         }
        },
        {
         "dtype": "float64",
         "name": "economic_stability_index",
         "stats": {
          "histogram": [
           {
            "bin_end": -0.35199311738845634,
            "bin_start": -0.5133754741876447,
            "count": 2
           },
           {
            "bin_end": -0.19061076058926796,
            "bin_start": -0.35199311738845634,
            "count": 0
           },
           {
            "bin_end": -0.02922840379007957,
            "bin_start": -0.19061076058926796,
            "count": 0
           },
           {
            "bin_end": 0.13215395300910882,
            "bin_start": -0.02922840379007957,
            "count": 0
           },
           {
            "bin_end": 0.29353630980829715,
            "bin_start": 0.13215395300910882,
            "count": 0
           },
           {
            "bin_end": 0.4549186666074856,
            "bin_start": 0.29353630980829715,
            "count": 1
           },
           {
            "bin_end": 0.616301023406674,
            "bin_start": 0.4549186666074856,
            "count": 1
           },
           {
            "bin_end": 0.7776833802058624,
            "bin_start": 0.616301023406674,
            "count": 0
           },
           {
            "bin_end": 0.9390657370050507,
            "bin_start": 0.7776833802058624,
            "count": 0
           },
           {
            "bin_end": 1.1004480938042391,
            "bin_start": 0.9390657370050507,
            "count": 1
           }
          ],
          "max": "1.1004480938042391",
          "min": "-0.5133754741876447",
          "nan_count": 0,
          "unique_count": 5
         }
        },
        {
         "dtype": "float64",
         "name": "political_social_index",
         "stats": {
          "histogram": [
           {
            "bin_end": 0.3181266268806274,
            "bin_start": 0.3166270834469752,
            "count": 1
           },
           {
            "bin_end": 0.3196261703142796,
            "bin_start": 0.3181266268806274,
            "count": 0
           },
           {
            "bin_end": 0.32112571374793175,
            "bin_start": 0.3196261703142796,
            "count": 1
           },
           {
            "bin_end": 0.32262525718158397,
            "bin_start": 0.32112571374793175,
            "count": 0
           },
           {
            "bin_end": 0.32412480061523613,
            "bin_start": 0.32262525718158397,
            "count": 0
           },
           {
            "bin_end": 0.3256243440488883,
            "bin_start": 0.32412480061523613,
            "count": 1
           },
           {
            "bin_end": 0.3271238874825405,
            "bin_start": 0.3256243440488883,
            "count": 0
           },
           {
            "bin_end": 0.32862343091619267,
            "bin_start": 0.3271238874825405,
            "count": 0
           },
           {
            "bin_end": 0.3301229743498449,
            "bin_start": 0.32862343091619267,
            "count": 1
           },
           {
            "bin_end": 0.33162251778349705,
            "bin_start": 0.3301229743498449,
            "count": 1
           }
          ],
          "max": "0.33162251778349705",
          "min": "0.3166270834469752",
          "nan_count": 0,
          "unique_count": 5
         }
        },
        {
         "dtype": "object",
         "name": "change",
         "stats": {
          "categories": [
           {
            "count": 3,
            "name": "False"
           },
           {
            "count": 2,
            "name": "True"
           }
          ],
          "nan_count": 0,
          "unique_count": 2
         }
        },
        {
         "dtype": "float64",
         "name": "year",
         "stats": {
          "histogram": [
           {
            "bin_end": 1997.1,
            "bin_start": 1996,
            "count": 1
           },
           {
            "bin_end": 1998.2,
            "bin_start": 1997.1,
            "count": 1
           },
           {
            "bin_end": 1999.3,
            "bin_start": 1998.2,
            "count": 0
           },
           {
            "bin_end": 2000.4,
            "bin_start": 1999.3,
            "count": 0
           },
           {
            "bin_end": 2001.5,
            "bin_start": 2000.4,
            "count": 1
           },
           {
            "bin_end": 2002.6,
            "bin_start": 2001.5,
            "count": 0
           },
           {
            "bin_end": 2003.7,
            "bin_start": 2002.6,
            "count": 0
           },
           {
            "bin_end": 2004.8,
            "bin_start": 2003.7,
            "count": 1
           },
           {
            "bin_end": 2005.9,
            "bin_start": 2004.8,
            "count": 0
           },
           {
            "bin_end": 2007,
            "bin_start": 2005.9,
            "count": 1
           }
          ],
          "max": "2007.0",
          "min": "1996.0",
          "nan_count": 0,
          "unique_count": 5
         }
        },
        {
         "dtype": "int64",
         "name": "_deepnote_index_column"
        }
       ],
       "row_count": 5,
       "rows": [
        {
         "Freedom of Religion (highest score=1)": 0.9799999999999999,
         "Urban population (% of total population)": 85.13871428571429,
         "Voter turnout (highest score=1)": 0.83,
         "_deepnote_index_column": 0,
         "change": "True",
         "country": "Australia",
         "economic_stability_index": -0.5133754741876447,
         "ethnicity_ratio": 0.84,
         "political_social_index": 0.3166270834469752,
         "range": "1990.0-1996.0",
         "year": 1996
        },
        {
         "Freedom of Religion (highest score=1)": 0.98,
         "Urban population (% of total population)": 84.5695,
         "Voter turnout (highest score=1)": 0.825,
         "_deepnote_index_column": 1,
         "change": "False",
         "country": "Australia",
         "economic_stability_index": 1.1004480938042391,
         "ethnicity_ratio": 0.84,
         "political_social_index": 0.3209100725772241,
         "range": "1996.0-1998.0",
         "year": 1998
        },
        {
         "Freedom of Religion (highest score=1)": 0.98,
         "Urban population (% of total population)": 84.235,
         "Voter turnout (highest score=1)": 0.8266666666666667,
         "_deepnote_index_column": 2,
         "change": "False",
         "country": "Australia",
         "economic_stability_index": 0.33955167488530985,
         "ethnicity_ratio": 0.84,
         "political_social_index": 0.3246743428770818,
         "range": "1998.0-2001.0",
         "year": 2001
        },
        {
         "Freedom of Religion (highest score=1)": 0.98,
         "Urban population (% of total population)": 84.34266666666666,
         "Voter turnout (highest score=1)": 0.8366666666666666,
         "_deepnote_index_column": 3,
         "change": "False",
         "country": "Australia",
         "economic_stability_index": 0.500816247904286,
         "ethnicity_ratio": 0.84,
         "political_social_index": 0.3286609065162002,
         "range": "2001.0-2004.0",
         "year": 2004
        },
        {
         "Freedom of Religion (highest score=1)": 0.98,
         "Urban population (% of total population)": 84.70133333333332,
         "Voter turnout (highest score=1)": 0.83,
         "_deepnote_index_column": 4,
         "change": "True",
         "country": "Australia",
         "economic_stability_index": -0.38263740213968056,
         "ethnicity_ratio": 0.84,
         "political_social_index": 0.33162251778349705,
         "range": "2004.0-2007.0",
         "year": 2007
        }
       ],
       "type": "dataframe"
      },
      "text/html": [
       "<div>\n",
       "<style scoped>\n",
       "    .dataframe tbody tr th:only-of-type {\n",
       "        vertical-align: middle;\n",
       "    }\n",
       "\n",
       "    .dataframe tbody tr th {\n",
       "        vertical-align: top;\n",
       "    }\n",
       "\n",
       "    .dataframe thead th {\n",
       "        text-align: right;\n",
       "    }\n",
       "</style>\n",
       "<table border=\"1\" class=\"dataframe\">\n",
       "  <thead>\n",
       "    <tr style=\"text-align: right;\">\n",
       "      <th></th>\n",
       "      <th>country</th>\n",
       "      <th>range</th>\n",
       "      <th>Voter turnout (highest score=1)</th>\n",
       "      <th>Freedom of Religion (highest score=1)</th>\n",
       "      <th>Urban population (% of total population)</th>\n",
       "      <th>ethnicity_ratio</th>\n",
       "      <th>economic_stability_index</th>\n",
       "      <th>political_social_index</th>\n",
       "      <th>change</th>\n",
       "      <th>year</th>\n",
       "    </tr>\n",
       "  </thead>\n",
       "  <tbody>\n",
       "    <tr>\n",
       "      <th>0</th>\n",
       "      <td>Australia</td>\n",
       "      <td>1990.0-1996.0</td>\n",
       "      <td>0.830000</td>\n",
       "      <td>0.98</td>\n",
       "      <td>85.138714</td>\n",
       "      <td>0.84</td>\n",
       "      <td>-0.513375</td>\n",
       "      <td>0.316627</td>\n",
       "      <td>True</td>\n",
       "      <td>1996.0</td>\n",
       "    </tr>\n",
       "    <tr>\n",
       "      <th>1</th>\n",
       "      <td>Australia</td>\n",
       "      <td>1996.0-1998.0</td>\n",
       "      <td>0.825000</td>\n",
       "      <td>0.98</td>\n",
       "      <td>84.569500</td>\n",
       "      <td>0.84</td>\n",
       "      <td>1.100448</td>\n",
       "      <td>0.320910</td>\n",
       "      <td>False</td>\n",
       "      <td>1998.0</td>\n",
       "    </tr>\n",
       "    <tr>\n",
       "      <th>2</th>\n",
       "      <td>Australia</td>\n",
       "      <td>1998.0-2001.0</td>\n",
       "      <td>0.826667</td>\n",
       "      <td>0.98</td>\n",
       "      <td>84.235000</td>\n",
       "      <td>0.84</td>\n",
       "      <td>0.339552</td>\n",
       "      <td>0.324674</td>\n",
       "      <td>False</td>\n",
       "      <td>2001.0</td>\n",
       "    </tr>\n",
       "    <tr>\n",
       "      <th>3</th>\n",
       "      <td>Australia</td>\n",
       "      <td>2001.0-2004.0</td>\n",
       "      <td>0.836667</td>\n",
       "      <td>0.98</td>\n",
       "      <td>84.342667</td>\n",
       "      <td>0.84</td>\n",
       "      <td>0.500816</td>\n",
       "      <td>0.328661</td>\n",
       "      <td>False</td>\n",
       "      <td>2004.0</td>\n",
       "    </tr>\n",
       "    <tr>\n",
       "      <th>4</th>\n",
       "      <td>Australia</td>\n",
       "      <td>2004.0-2007.0</td>\n",
       "      <td>0.830000</td>\n",
       "      <td>0.98</td>\n",
       "      <td>84.701333</td>\n",
       "      <td>0.84</td>\n",
       "      <td>-0.382637</td>\n",
       "      <td>0.331623</td>\n",
       "      <td>True</td>\n",
       "      <td>2007.0</td>\n",
       "    </tr>\n",
       "  </tbody>\n",
       "</table>\n",
       "</div>"
      ],
      "text/plain": [
       "     country          range  Voter turnout (highest score=1)  \\\n",
       "0  Australia  1990.0-1996.0                         0.830000   \n",
       "1  Australia  1996.0-1998.0                         0.825000   \n",
       "2  Australia  1998.0-2001.0                         0.826667   \n",
       "3  Australia  2001.0-2004.0                         0.836667   \n",
       "4  Australia  2004.0-2007.0                         0.830000   \n",
       "\n",
       "   Freedom of Religion (highest score=1)  \\\n",
       "0                                   0.98   \n",
       "1                                   0.98   \n",
       "2                                   0.98   \n",
       "3                                   0.98   \n",
       "4                                   0.98   \n",
       "\n",
       "   Urban population (% of total population)  ethnicity_ratio  \\\n",
       "0                                 85.138714             0.84   \n",
       "1                                 84.569500             0.84   \n",
       "2                                 84.235000             0.84   \n",
       "3                                 84.342667             0.84   \n",
       "4                                 84.701333             0.84   \n",
       "\n",
       "   economic_stability_index  political_social_index change    year  \n",
       "0                 -0.513375                0.316627   True  1996.0  \n",
       "1                  1.100448                0.320910  False  1998.0  \n",
       "2                  0.339552                0.324674  False  2001.0  \n",
       "3                  0.500816                0.328661  False  2004.0  \n",
       "4                 -0.382637                0.331623   True  2007.0  "
      ]
     },
     "execution_count": 32,
     "metadata": {},
     "output_type": "execute_result"
    }
   ],
   "source": [
    "# View the final dataframe\n",
    "final_df.head()"
   ]
  },
  {
   "cell_type": "code",
   "execution_count": 33,
   "metadata": {
    "cell_id": "958218f4c12f42d19d236b3dd1bfdcdc",
    "deepnote_app_block_group_id": null,
    "deepnote_app_block_order": 31,
    "deepnote_app_block_visible": true,
    "deepnote_app_is_code_hidden": true,
    "deepnote_app_is_output_hidden": false,
    "deepnote_cell_type": "code",
    "execution_context_id": "f4e73ac9-64de-42e9-ae88-7619fadf8313",
    "execution_millis": 0,
    "execution_start": 1743011976514,
    "source_hash": "1d502da3"
   },
   "outputs": [],
   "source": [
    "# Create a function to analyze NaN values\n",
    "def nan_analysis(df):\n",
    "    # Count NaN values in each column\n",
    "    nan_analysis = df.isna().sum()\n",
    "    # Calculate percentage of NaN values\n",
    "    nan_analysis_percent = (df.isna().mean() * 100).sort_values(ascending=False)\n",
    "    # Combine NaN count and percentage into a DataFrame for better analysis\n",
    "    nan_summary = pd.DataFrame({\n",
    "        'NaN Count': nan_analysis,\n",
    "        'Percentage': nan_analysis_percent\n",
    "    }).sort_values(by='Percentage', ascending=False)\n",
    "    return nan_summary[nan_summary['Percentage'] > 0]"
   ]
  },
  {
   "cell_type": "code",
   "execution_count": 34,
   "metadata": {
    "cell_id": "713df6d8b17b4f1cb829a7026f602acb",
    "deepnote_app_block_group_id": null,
    "deepnote_app_block_order": 32,
    "deepnote_app_block_visible": true,
    "deepnote_app_is_code_hidden": true,
    "deepnote_app_is_output_hidden": false,
    "deepnote_cell_type": "code",
    "execution_context_id": "f4e73ac9-64de-42e9-ae88-7619fadf8313",
    "execution_millis": 0,
    "execution_start": 1743011976564,
    "source_hash": "f48abf21"
   },
   "outputs": [
    {
     "data": {
      "application/vnd.deepnote.dataframe.v3+json": {
       "column_count": 2,
       "columns": [
        {
         "dtype": "int64",
         "name": "NaN Count",
         "stats": {
          "histogram": [
           {
            "bin_end": 0.1,
            "bin_start": 0,
            "count": 0
           },
           {
            "bin_end": 0.2,
            "bin_start": 0.1,
            "count": 0
           },
           {
            "bin_end": 0.30000000000000004,
            "bin_start": 0.2,
            "count": 0
           },
           {
            "bin_end": 0.4,
            "bin_start": 0.30000000000000004,
            "count": 0
           },
           {
            "bin_end": 0.5,
            "bin_start": 0.4,
            "count": 0
           },
           {
            "bin_end": 0.6000000000000001,
            "bin_start": 0.5,
            "count": 0
           },
           {
            "bin_end": 0.7000000000000001,
            "bin_start": 0.6000000000000001,
            "count": 0
           },
           {
            "bin_end": 0.8,
            "bin_start": 0.7000000000000001,
            "count": 0
           },
           {
            "bin_end": 0.9,
            "bin_start": 0.8,
            "count": 0
           },
           {
            "bin_end": 1,
            "bin_start": 0.9,
            "count": 0
           }
          ],
          "max": null,
          "min": null,
          "nan_count": 0,
          "unique_count": 0
         }
        },
        {
         "dtype": "float64",
         "name": "Percentage",
         "stats": {
          "histogram": [
           {
            "bin_end": 0.1,
            "bin_start": 0,
            "count": 0
           },
           {
            "bin_end": 0.2,
            "bin_start": 0.1,
            "count": 0
           },
           {
            "bin_end": 0.30000000000000004,
            "bin_start": 0.2,
            "count": 0
           },
           {
            "bin_end": 0.4,
            "bin_start": 0.30000000000000004,
            "count": 0
           },
           {
            "bin_end": 0.5,
            "bin_start": 0.4,
            "count": 0
           },
           {
            "bin_end": 0.6000000000000001,
            "bin_start": 0.5,
            "count": 0
           },
           {
            "bin_end": 0.7000000000000001,
            "bin_start": 0.6000000000000001,
            "count": 0
           },
           {
            "bin_end": 0.8,
            "bin_start": 0.7000000000000001,
            "count": 0
           },
           {
            "bin_end": 0.9,
            "bin_start": 0.8,
            "count": 0
           },
           {
            "bin_end": 1,
            "bin_start": 0.9,
            "count": 0
           }
          ],
          "max": null,
          "min": null,
          "nan_count": 0,
          "unique_count": 0
         }
        },
        {
         "dtype": "object",
         "name": "_deepnote_index_column"
        }
       ],
       "row_count": 0,
       "rows": [],
       "type": "dataframe"
      },
      "text/html": [
       "<div>\n",
       "<style scoped>\n",
       "    .dataframe tbody tr th:only-of-type {\n",
       "        vertical-align: middle;\n",
       "    }\n",
       "\n",
       "    .dataframe tbody tr th {\n",
       "        vertical-align: top;\n",
       "    }\n",
       "\n",
       "    .dataframe thead th {\n",
       "        text-align: right;\n",
       "    }\n",
       "</style>\n",
       "<table border=\"1\" class=\"dataframe\">\n",
       "  <thead>\n",
       "    <tr style=\"text-align: right;\">\n",
       "      <th></th>\n",
       "      <th>NaN Count</th>\n",
       "      <th>Percentage</th>\n",
       "    </tr>\n",
       "  </thead>\n",
       "  <tbody>\n",
       "  </tbody>\n",
       "</table>\n",
       "</div>"
      ],
      "text/plain": [
       "Empty DataFrame\n",
       "Columns: [NaN Count, Percentage]\n",
       "Index: []"
      ]
     },
     "execution_count": 34,
     "metadata": {},
     "output_type": "execute_result"
    }
   ],
   "source": [
    "# Call the function\n",
    "nan_analysis(final_df)"
   ]
  },
  {
   "cell_type": "markdown",
   "metadata": {
    "cell_id": "a4c7f625a857441fa60e1de6dd8910c3",
    "deepnote_cell_type": "text-cell-h2",
    "formattedRanges": []
   },
   "source": [
    "## Export the Averaged Dataset"
   ]
  },
  {
   "cell_type": "code",
   "execution_count": 35,
   "metadata": {
    "cell_id": "396db8acc79c4e51b7e29924ec9a9315",
    "deepnote_app_block_group_id": null,
    "deepnote_app_block_order": 33,
    "deepnote_app_block_visible": true,
    "deepnote_app_is_code_hidden": true,
    "deepnote_app_is_output_hidden": false,
    "deepnote_cell_type": "code",
    "execution_context_id": "f4e73ac9-64de-42e9-ae88-7619fadf8313",
    "execution_millis": 226,
    "execution_start": 1743011976614,
    "source_hash": "43a9bdea"
   },
   "outputs": [],
   "source": [
    "# Export the dataframe to a CSV file\n",
    "final_df.to_csv('averaged_final_2.csv')"
   ]
  }
 ],
 "metadata": {
  "deepnote_full_width": false,
  "deepnote_notebook_id": "ed23283b05bb4572a21afa80d6196929",
  "deepnote_persisted_session": {
   "createdAt": "2025-03-26T18:17:51.744Z"
  },
  "kernelspec": {
   "display_name": "Python 3 (ipykernel)",
   "language": "python",
   "name": "python3"
  },
  "language_info": {
   "codemirror_mode": {
    "name": "ipython",
    "version": 3
   },
   "file_extension": ".py",
   "mimetype": "text/x-python",
   "name": "python",
   "nbconvert_exporter": "python",
   "pygments_lexer": "ipython3",
   "version": "3.12.4"
  }
 },
 "nbformat": 4,
 "nbformat_minor": 4
}
