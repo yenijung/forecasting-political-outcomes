{
 "cells": [
  {
   "cell_type": "markdown",
   "metadata": {
    "cell_id": "a2f40b17228d4e6bad1998c554d22bce",
    "deepnote_cell_type": "text-cell-h1",
    "formattedRanges": []
   },
   "source": [
    "# Ethnicity and Religion"
   ]
  },
  {
   "cell_type": "code",
   "execution_count": 76,
   "metadata": {
    "cell_id": "a84ac20e1a87446db2cec1b6e054b82e",
    "deepnote_cell_type": "code",
    "execution_context_id": "c1c7b898-28ce-431e-982b-f41f9a8e6863",
    "execution_millis": 0,
    "execution_start": 1740151600907,
    "source_hash": "bf979c0"
   },
   "outputs": [],
   "source": [
    "# Import packages\n",
    "import pandas as pd\n",
    "import numpy as np"
   ]
  },
  {
   "cell_type": "code",
   "execution_count": 77,
   "metadata": {
    "cell_id": "3db84b0981ef467b9a7514bbaa60a38b",
    "deepnote_app_is_output_hidden": true,
    "deepnote_cell_type": "code",
    "execution_context_id": "c1c7b898-28ce-431e-982b-f41f9a8e6863",
    "execution_millis": 526,
    "execution_start": 1740151600959,
    "is_output_hidden": false,
    "source_hash": "92590754"
   },
   "outputs": [
    {
     "name": "stdout",
     "output_type": "stream",
     "text": [
      "---------------------------------- \n",
      "\n",
      "Dataset: epr \n",
      "\n",
      "Index(['gwid', 'statename', 'from', 'to', 'group', 'groupid', 'gwgroupid',\n",
      "       'umbrella', 'size', 'status', 'reg_aut'],\n",
      "      dtype='object')\n",
      "(4339, 11)\n",
      "<class 'pandas.core.frame.DataFrame'>\n",
      "RangeIndex: 4339 entries, 0 to 4338\n",
      "Data columns (total 11 columns):\n",
      " #   Column     Non-Null Count  Dtype  \n",
      "---  ------     --------------  -----  \n",
      " 0   gwid       4339 non-null   int64  \n",
      " 1   statename  4339 non-null   object \n",
      " 2   from       4339 non-null   int64  \n",
      " 3   to         4339 non-null   int64  \n",
      " 4   group      4339 non-null   object \n",
      " 5   groupid    4339 non-null   int64  \n",
      " 6   gwgroupid  4339 non-null   int64  \n",
      " 7   umbrella   306 non-null    float64\n",
      " 8   size       4339 non-null   float64\n",
      " 9   status     4339 non-null   object \n",
      " 10  reg_aut    3813 non-null   object \n",
      "dtypes: float64(2), int64(5), object(4)\n",
      "memory usage: 373.0+ KB\n",
      "None\n",
      "---------------------------------- \n",
      "\n",
      "Dataset: er \n",
      "\n",
      "Index(['year', 'coa', 'coo', 'totalrefugees', 'ccode_coo', 'ccode_coa',\n",
      "       'minimal_distance', 'groupname1', 'gwgroupid1', 'groupname2',\n",
      "       'gwgroupid2', 'groupname3', 'gwgroupid3', 'sources', 'quote',\n",
      "       'groupshare1_num', 'groupshare2_num', 'groupshare3_num',\n",
      "       'group1share_multiplier', 'group2share_multiplier',\n",
      "       'group3share_multiplier', 'group1_size', 'group2_size', 'group3_size'],\n",
      "      dtype='object')\n",
      "(4862, 24)\n",
      "<class 'pandas.core.frame.DataFrame'>\n",
      "RangeIndex: 4862 entries, 0 to 4861\n",
      "Data columns (total 24 columns):\n",
      " #   Column                  Non-Null Count  Dtype  \n",
      "---  ------                  --------------  -----  \n",
      " 0   year                    4862 non-null   int64  \n",
      " 1   coa                     4862 non-null   object \n",
      " 2   coo                     4862 non-null   object \n",
      " 3   totalrefugees           4858 non-null   float64\n",
      " 4   ccode_coo               4862 non-null   int64  \n",
      " 5   ccode_coa               4862 non-null   int64  \n",
      " 6   minimal_distance        4734 non-null   float64\n",
      " 7   groupname1              4680 non-null   object \n",
      " 8   gwgroupid1              4219 non-null   float64\n",
      " 9   groupname2              2488 non-null   object \n",
      " 10  gwgroupid2              2270 non-null   float64\n",
      " 11  groupname3              986 non-null    object \n",
      " 12  gwgroupid3              819 non-null    float64\n",
      " 13  sources                 2783 non-null   object \n",
      " 14  quote                   2015 non-null   object \n",
      " 15  groupshare1_num         4431 non-null   object \n",
      " 16  groupshare2_num         2489 non-null   object \n",
      " 17  groupshare3_num         949 non-null    object \n",
      " 18  group1share_multiplier  4416 non-null   float64\n",
      " 19  group2share_multiplier  2477 non-null   float64\n",
      " 20  group3share_multiplier  942 non-null    float64\n",
      " 21  group1_size             4416 non-null   float64\n",
      " 22  group2_size             2477 non-null   float64\n",
      " 23  group3_size             942 non-null    float64\n",
      "dtypes: float64(11), int64(3), object(10)\n",
      "memory usage: 911.8+ KB\n",
      "None\n"
     ]
    }
   ],
   "source": [
    "# Open all datasets\n",
    "epr = pd.read_csv('/dataset/ethnicity/EPR-2021.csv')\n",
    "er =pd.read_csv('/dataset/ethnicity/ER-2021.csv')\n",
    "\n",
    "# Check features and remove the features of each dataset that are not needed\n",
    "def check_features(df, name=\"Dataset\"):\n",
    "    print(\"---------------------------------- \\n\")\n",
    "    print(f\"Dataset: {name} \\n\")\n",
    "    print(df.columns)\n",
    "    print(df.shape)\n",
    "    print(df.info())\n",
    "    return\n",
    "\n",
    "check_features(epr, \"epr\")\n",
    "check_features(er, \"er\")"
   ]
  },
  {
   "cell_type": "code",
   "execution_count": 78,
   "metadata": {
    "cell_id": "d2718cb58314464f9553d13ec31aca05",
    "deepnote_cell_type": "code",
    "execution_context_id": "c1c7b898-28ce-431e-982b-f41f9a8e6863",
    "execution_millis": 0,
    "execution_start": 1740151601528,
    "source_hash": "3b034de6"
   },
   "outputs": [
    {
     "data": {
      "application/vnd.deepnote.dataframe.v3+json": {
       "column_count": 5,
       "columns": [
        {
         "dtype": "object",
         "name": "country",
         "stats": {
          "categories": [
           {
            "count": 10,
            "name": "United States of America"
           }
          ],
          "nan_count": 0,
          "unique_count": 1
         }
        },
        {
         "dtype": "int64",
         "name": "from",
         "stats": {
          "histogram": [
           {
            "bin_end": 1952.3,
            "bin_start": 1946,
            "count": 3
           },
           {
            "bin_end": 1958.6,
            "bin_start": 1952.3,
            "count": 0
           },
           {
            "bin_end": 1964.9,
            "bin_start": 1958.6,
            "count": 0
           },
           {
            "bin_end": 1971.2,
            "bin_start": 1964.9,
            "count": 6
           },
           {
            "bin_end": 1977.5,
            "bin_start": 1971.2,
            "count": 0
           },
           {
            "bin_end": 1983.8,
            "bin_start": 1977.5,
            "count": 0
           },
           {
            "bin_end": 1990.1,
            "bin_start": 1983.8,
            "count": 0
           },
           {
            "bin_end": 1996.4,
            "bin_start": 1990.1,
            "count": 0
           },
           {
            "bin_end": 2002.7,
            "bin_start": 1996.4,
            "count": 0
           },
           {
            "bin_end": 2009,
            "bin_start": 2002.7,
            "count": 1
           }
          ],
          "max": "2009",
          "min": "1946",
          "nan_count": 0,
          "unique_count": 3
         }
        },
        {
         "dtype": "int64",
         "name": "to",
         "stats": {
          "histogram": [
           {
            "bin_end": 1969.9,
            "bin_start": 1965,
            "count": 3
           },
           {
            "bin_end": 1974.8,
            "bin_start": 1969.9,
            "count": 0
           },
           {
            "bin_end": 1979.7,
            "bin_start": 1974.8,
            "count": 0
           },
           {
            "bin_end": 1984.6,
            "bin_start": 1979.7,
            "count": 0
           },
           {
            "bin_end": 1989.5,
            "bin_start": 1984.6,
            "count": 0
           },
           {
            "bin_end": 1994.4,
            "bin_start": 1989.5,
            "count": 0
           },
           {
            "bin_end": 1999.3,
            "bin_start": 1994.4,
            "count": 0
           },
           {
            "bin_end": 2004.2,
            "bin_start": 1999.3,
            "count": 0
           },
           {
            "bin_end": 2009.1,
            "bin_start": 2004.2,
            "count": 6
           },
           {
            "bin_end": 2014,
            "bin_start": 2009.1,
            "count": 1
           }
          ],
          "max": "2014",
          "min": "1965",
          "nan_count": 0,
          "unique_count": 3
         }
        },
        {
         "dtype": "object",
         "name": "group",
         "stats": {
          "categories": [
           {
            "count": 3,
            "name": "Whites"
           },
           {
            "count": 2,
            "name": "African Americans"
           },
           {
            "count": 5,
            "name": "4 others"
           }
          ],
          "nan_count": 0,
          "unique_count": 6
         }
        },
        {
         "dtype": "float64",
         "name": "size",
         "stats": {
          "histogram": [
           {
            "bin_end": 0.07287999999999999,
            "bin_start": 0.0042,
            "count": 4
           },
           {
            "bin_end": 0.14156,
            "bin_start": 0.07287999999999999,
            "count": 3
           },
           {
            "bin_end": 0.21023999999999998,
            "bin_start": 0.14156,
            "count": 0
           },
           {
            "bin_end": 0.27891999999999995,
            "bin_start": 0.21023999999999998,
            "count": 0
           },
           {
            "bin_end": 0.3475999999999999,
            "bin_start": 0.27891999999999995,
            "count": 0
           },
           {
            "bin_end": 0.41627999999999993,
            "bin_start": 0.3475999999999999,
            "count": 0
           },
           {
            "bin_end": 0.48495999999999995,
            "bin_start": 0.41627999999999993,
            "count": 0
           },
           {
            "bin_end": 0.5536399999999999,
            "bin_start": 0.48495999999999995,
            "count": 0
           },
           {
            "bin_end": 0.6223199999999999,
            "bin_start": 0.5536399999999999,
            "count": 0
           },
           {
            "bin_end": 0.691,
            "bin_start": 0.6223199999999999,
            "count": 3
           }
          ],
          "max": "0.691",
          "min": "0.0042",
          "nan_count": 0,
          "unique_count": 7
         }
        },
        {
         "dtype": "int64",
         "name": "_deepnote_index_column"
        }
       ],
       "row_count": 10,
       "rows": [
        {
         "_deepnote_index_column": 0,
         "country": "United States of America",
         "from": 1946,
         "group": "Whites",
         "size": 0.691,
         "to": 1965
        },
        {
         "_deepnote_index_column": 1,
         "country": "United States of America",
         "from": 1946,
         "group": "African Americans",
         "size": 0.124,
         "to": 1965
        },
        {
         "_deepnote_index_column": 2,
         "country": "United States of America",
         "from": 1946,
         "group": "American Indians",
         "size": 0.0078,
         "to": 1965
        },
        {
         "_deepnote_index_column": 3,
         "country": "United States of America",
         "from": 1966,
         "group": "Whites",
         "size": 0.691,
         "to": 2008
        },
        {
         "_deepnote_index_column": 4,
         "country": "United States of America",
         "from": 1966,
         "group": "Latinos",
         "size": 0.125,
         "to": 2008
        },
        {
         "_deepnote_index_column": 5,
         "country": "United States of America",
         "from": 1966,
         "group": "African Americans",
         "size": 0.124,
         "to": 2008
        },
        {
         "_deepnote_index_column": 6,
         "country": "United States of America",
         "from": 1966,
         "group": "Asian Americans",
         "size": 0.036,
         "to": 2008
        },
        {
         "_deepnote_index_column": 7,
         "country": "United States of America",
         "from": 1966,
         "group": "American Indians",
         "size": 0.0078,
         "to": 2008
        },
        {
         "_deepnote_index_column": 8,
         "country": "United States of America",
         "from": 1966,
         "group": "Arab Americans",
         "size": 0.0042,
         "to": 2008
        },
        {
         "_deepnote_index_column": 9,
         "country": "United States of America",
         "from": 2009,
         "group": "Whites",
         "size": 0.66,
         "to": 2014
        }
       ]
      },
      "text/html": [
       "<div>\n",
       "<style scoped>\n",
       "    .dataframe tbody tr th:only-of-type {\n",
       "        vertical-align: middle;\n",
       "    }\n",
       "\n",
       "    .dataframe tbody tr th {\n",
       "        vertical-align: top;\n",
       "    }\n",
       "\n",
       "    .dataframe thead th {\n",
       "        text-align: right;\n",
       "    }\n",
       "</style>\n",
       "<table border=\"1\" class=\"dataframe\">\n",
       "  <thead>\n",
       "    <tr style=\"text-align: right;\">\n",
       "      <th></th>\n",
       "      <th>country</th>\n",
       "      <th>from</th>\n",
       "      <th>to</th>\n",
       "      <th>group</th>\n",
       "      <th>size</th>\n",
       "    </tr>\n",
       "  </thead>\n",
       "  <tbody>\n",
       "    <tr>\n",
       "      <th>0</th>\n",
       "      <td>United States of America</td>\n",
       "      <td>1946</td>\n",
       "      <td>1965</td>\n",
       "      <td>Whites</td>\n",
       "      <td>0.6910</td>\n",
       "    </tr>\n",
       "    <tr>\n",
       "      <th>1</th>\n",
       "      <td>United States of America</td>\n",
       "      <td>1946</td>\n",
       "      <td>1965</td>\n",
       "      <td>African Americans</td>\n",
       "      <td>0.1240</td>\n",
       "    </tr>\n",
       "    <tr>\n",
       "      <th>2</th>\n",
       "      <td>United States of America</td>\n",
       "      <td>1946</td>\n",
       "      <td>1965</td>\n",
       "      <td>American Indians</td>\n",
       "      <td>0.0078</td>\n",
       "    </tr>\n",
       "    <tr>\n",
       "      <th>3</th>\n",
       "      <td>United States of America</td>\n",
       "      <td>1966</td>\n",
       "      <td>2008</td>\n",
       "      <td>Whites</td>\n",
       "      <td>0.6910</td>\n",
       "    </tr>\n",
       "    <tr>\n",
       "      <th>4</th>\n",
       "      <td>United States of America</td>\n",
       "      <td>1966</td>\n",
       "      <td>2008</td>\n",
       "      <td>Latinos</td>\n",
       "      <td>0.1250</td>\n",
       "    </tr>\n",
       "    <tr>\n",
       "      <th>5</th>\n",
       "      <td>United States of America</td>\n",
       "      <td>1966</td>\n",
       "      <td>2008</td>\n",
       "      <td>African Americans</td>\n",
       "      <td>0.1240</td>\n",
       "    </tr>\n",
       "    <tr>\n",
       "      <th>6</th>\n",
       "      <td>United States of America</td>\n",
       "      <td>1966</td>\n",
       "      <td>2008</td>\n",
       "      <td>Asian Americans</td>\n",
       "      <td>0.0360</td>\n",
       "    </tr>\n",
       "    <tr>\n",
       "      <th>7</th>\n",
       "      <td>United States of America</td>\n",
       "      <td>1966</td>\n",
       "      <td>2008</td>\n",
       "      <td>American Indians</td>\n",
       "      <td>0.0078</td>\n",
       "    </tr>\n",
       "    <tr>\n",
       "      <th>8</th>\n",
       "      <td>United States of America</td>\n",
       "      <td>1966</td>\n",
       "      <td>2008</td>\n",
       "      <td>Arab Americans</td>\n",
       "      <td>0.0042</td>\n",
       "    </tr>\n",
       "    <tr>\n",
       "      <th>9</th>\n",
       "      <td>United States of America</td>\n",
       "      <td>2009</td>\n",
       "      <td>2014</td>\n",
       "      <td>Whites</td>\n",
       "      <td>0.6600</td>\n",
       "    </tr>\n",
       "  </tbody>\n",
       "</table>\n",
       "</div>"
      ],
      "text/plain": [
       "                    country  from    to              group    size\n",
       "0  United States of America  1946  1965             Whites  0.6910\n",
       "1  United States of America  1946  1965  African Americans  0.1240\n",
       "2  United States of America  1946  1965   American Indians  0.0078\n",
       "3  United States of America  1966  2008             Whites  0.6910\n",
       "4  United States of America  1966  2008            Latinos  0.1250\n",
       "5  United States of America  1966  2008  African Americans  0.1240\n",
       "6  United States of America  1966  2008    Asian Americans  0.0360\n",
       "7  United States of America  1966  2008   American Indians  0.0078\n",
       "8  United States of America  1966  2008     Arab Americans  0.0042\n",
       "9  United States of America  2009  2014             Whites  0.6600"
      ]
     },
     "execution_count": 78,
     "metadata": {},
     "output_type": "execute_result"
    }
   ],
   "source": [
    "### EPR dataset ###\n",
    "'''\n",
    " 0   gwid       4339 non-null   int64  \n",
    " 1   statename  4339 non-null   object \n",
    " 2   from       4339 non-null   int64  \n",
    " 3   to         4339 non-null   int64  \n",
    " 4   group      4339 non-null   object \n",
    " 5   groupid    4339 non-null   int64  \n",
    " 6   gwgroupid  4339 non-null   int64  \n",
    " 7   umbrella   306 non-null    float64\n",
    " 8   size       4339 non-null   float64\n",
    " 9   status     4339 non-null   object \n",
    " 10  reg_aut    3813 non-null   object \n",
    " '''\n",
    "\n",
    "# Delete gwid, groupid, gwgroupid, umbrella, reg_aut, status\n",
    "epr.drop(['gwid', 'groupid', 'gwgroupid', 'umbrella', 'reg_aut', 'status'], axis=1, inplace=True)\n",
    "\n",
    "# change 'statename' to 'country'\n",
    "epr.rename(columns={\"statename\": \"country\"}, inplace=True)\n",
    "epr.head(10)"
   ]
  },
  {
   "cell_type": "code",
   "execution_count": 79,
   "metadata": {
    "cell_id": "9aa5b9db44064f26806f2552c8bec651",
    "deepnote_cell_type": "code",
    "execution_context_id": "c1c7b898-28ce-431e-982b-f41f9a8e6863",
    "execution_millis": 1,
    "execution_start": 1740151601583,
    "source_hash": "ccf594e1"
   },
   "outputs": [
    {
     "data": {
      "text/plain": [
       "'\\n# check the proportion of \\'status\\' and unique values\\nprint(epr[\"status\"].value_counts(normalize=True) * 100)\\nprint(epr[\"status\"].nunique())\\n\\n# only keep the rows with the \\'status\\' == \\'DOMINANT\\' or \\'MONOPOLY\\' as the others does not have the political power or does not have proper government\\nepr = epr[epr[\"status\"].isin([\\'DOMINANT\\', \\'MONOPOLY\\'])]\\nepr.head(10)\\n'"
      ]
     },
     "execution_count": 79,
     "metadata": {},
     "output_type": "execute_result"
    }
   ],
   "source": [
    "'''\n",
    "# check the proportion of 'status' and unique values\n",
    "print(epr[\"status\"].value_counts(normalize=True) * 100)\n",
    "print(epr[\"status\"].nunique())\n",
    "\n",
    "# only keep the rows with the 'status' == 'DOMINANT' or 'MONOPOLY' as the others does not have the political power or does not have proper government\n",
    "epr = epr[epr[\"status\"].isin(['DOMINANT', 'MONOPOLY'])]\n",
    "epr.head(10)\n",
    "'''"
   ]
  },
  {
   "cell_type": "code",
   "execution_count": 80,
   "metadata": {
    "cell_id": "acb712005dc8468687cf9189333e7eec",
    "deepnote_cell_type": "code",
    "execution_context_id": "c1c7b898-28ce-431e-982b-f41f9a8e6863",
    "execution_millis": 605,
    "execution_start": 1740151601643,
    "source_hash": "5e9563f9"
   },
   "outputs": [
    {
     "name": "stdout",
     "output_type": "stream",
     "text": [
      "                     country  year              group   size\n",
      "0   United States of America  1946             Whites  0.691\n",
      "1   United States of America  1947             Whites  0.691\n",
      "2   United States of America  1948             Whites  0.691\n",
      "3   United States of America  1949             Whites  0.691\n",
      "4   United States of America  1950             Whites  0.691\n",
      "5   United States of America  1951             Whites  0.691\n",
      "6   United States of America  1952             Whites  0.691\n",
      "7   United States of America  1953             Whites  0.691\n",
      "8   United States of America  1954             Whites  0.691\n",
      "9   United States of America  1955             Whites  0.691\n",
      "10  United States of America  1956             Whites  0.691\n",
      "11  United States of America  1957             Whites  0.691\n",
      "12  United States of America  1958             Whites  0.691\n",
      "13  United States of America  1959             Whites  0.691\n",
      "14  United States of America  1960             Whites  0.691\n",
      "15  United States of America  1961             Whites  0.691\n",
      "16  United States of America  1962             Whites  0.691\n",
      "17  United States of America  1963             Whites  0.691\n",
      "18  United States of America  1964             Whites  0.691\n",
      "19  United States of America  1965             Whites  0.691\n",
      "20  United States of America  1946  African Americans  0.124\n",
      "21  United States of America  1947  African Americans  0.124\n",
      "22  United States of America  1948  African Americans  0.124\n",
      "23  United States of America  1949  African Americans  0.124\n",
      "24  United States of America  1950  African Americans  0.124\n",
      "25  United States of America  1951  African Americans  0.124\n",
      "26  United States of America  1952  African Americans  0.124\n",
      "27  United States of America  1953  African Americans  0.124\n",
      "28  United States of America  1954  African Americans  0.124\n",
      "29  United States of America  1955  African Americans  0.124\n"
     ]
    }
   ],
   "source": [
    "# modify the timeframe of epr dataset\n",
    "expanded_rows = []\n",
    "\n",
    "# expand to individual years for the period 'from' to 'to' for each row\n",
    "for _, row in epr.iterrows():\n",
    "    years = list(range(row[\"from\"], row[\"to\"] + 1))\n",
    "    expanded_rows.extend([\n",
    "        {\n",
    "            \"country\": row[\"country\"],\n",
    "            \"year\": year,\n",
    "            \"group\": row[\"group\"],\n",
    "            \"size\": row[\"size\"]\n",
    "        }\n",
    "        for year in years\n",
    "    ])\n",
    "\n",
    "# expanded dataframe\n",
    "expanded_epr = pd.DataFrame(expanded_rows)\n",
    "\n",
    "# display\n",
    "print(expanded_epr.head(30))"
   ]
  },
  {
   "cell_type": "code",
   "execution_count": 81,
   "metadata": {
    "cell_id": "f7a440d105d54187810425c598979fb3",
    "deepnote_cell_type": "code",
    "execution_context_id": "c1c7b898-28ce-431e-982b-f41f9a8e6863",
    "execution_millis": 1,
    "execution_start": 1740151602291,
    "source_hash": "1ac06d32"
   },
   "outputs": [
    {
     "name": "stdout",
     "output_type": "stream",
     "text": [
      "country    0\n",
      "year       0\n",
      "group      0\n",
      "size       0\n",
      "dtype: int64\n"
     ]
    }
   ],
   "source": [
    "# check for nan values in expanded_epr\n",
    "print(expanded_epr.isna().sum())"
   ]
  },
  {
   "cell_type": "code",
   "execution_count": 82,
   "metadata": {
    "cell_id": "79a2603d316e4ca2a65561efc05e560b",
    "deepnote_cell_type": "code",
    "execution_context_id": "c1c7b898-28ce-431e-982b-f41f9a8e6863",
    "execution_millis": 0,
    "execution_start": 1740151602343,
    "source_hash": "c1759b2a"
   },
   "outputs": [],
   "source": [
    "################# FUNCTIONS ################\n",
    "# filter out the countries - OECD\n",
    "# function that filters out the countries\n",
    "# this will be further applied to other datasets as well\n",
    "def filter_countries(df, country_column=\"country\"):\n",
    "    if country_column not in df.columns:\n",
    "        raise ValueError(f\"Column '{country_column}' not found in DataFrame\")\n",
    "    \n",
    "    oecd_countries = [\n",
    "    'Australia', 'Austria', 'Belgium', 'Canada', 'Chile', 'Colombia', 'Costa Rica',\n",
    "    'Czechia', 'Denmark', 'Estonia', 'Finland', 'France', 'Germany', 'Greece',\n",
    "    'Hungary', 'Iceland', 'Ireland', 'Israel', 'Italy', 'Japan', 'Korea', 'Latvia',\n",
    "    'Lithuania', 'Luxembourg', 'Mexico', 'Netherlands', 'New Zealand', 'Norway',\n",
    "    'Poland', 'Portugal', 'Slovenia', 'Spain', 'Sweden', 'Switzerland', \n",
    "    'Turkey', 'United Kingdom', 'United States'\n",
    "    ] # 37\n",
    "\n",
    "    df_filtered = df[df[country_column].astype(str).apply(\n",
    "        lambda x: any(country.lower() in x.lower() for country in oecd_countries)\n",
    "    )]\n",
    "\n",
    "    missing_countries = set(oecd_countries) - set(df_filtered[country_column])\n",
    "\n",
    "    if missing_countries:\n",
    "        missing_data = pd.DataFrame({\n",
    "            country_column: list(missing_countries)\n",
    "        })\n",
    "        for col in df.columns:\n",
    "            if col != country_column:\n",
    "                if pd.api.types.is_numeric_dtype(df[col]):\n",
    "                    missing_data[col] = 0\n",
    "                else:\n",
    "                    missing_data[col] = \"N/A\"\n",
    "        df_filtered = pd.concat([df_filtered, missing_data], ignore_index=True)\n",
    "    \n",
    "    return df_filtered\n",
    "\n",
    "# function that filters out the years\n",
    "# this will be further applied to other datasets as well\n",
    "def filter_fill_years(df, start_year=1990, end_year=2021, year_column=\"year\", country_column=\"country\"):\n",
    "    if year_column not in df.columns or country_column not in df.columns:\n",
    "        raise ValueError(\"The dataset must contain 'year' and 'country' columns.\")\n",
    "\n",
    "    df_filtered = df.drop_duplicates(subset=[country_column, year_column])\n",
    "    df_filtered = df[(df[year_column] >= start_year) & (df[year_column] <= end_year)].copy()\n",
    "    df_filtered = df_filtered.drop_duplicates(subset=[country_column, year_column])\n",
    "    \n",
    "    oecd_countries = ['Australia', 'Austria', 'Belgium', 'Canada', 'Chile', 'Colombia', 'Costa Rica', \n",
    "    'Czechia', 'Denmark', 'Estonia', 'Finland', 'France', 'Germany', 'Greece', 'Hungary', 'Iceland', \n",
    "    'Ireland', 'Israel', 'Italy', 'Japan', 'Korea', 'Latvia', 'Lithuania', 'Luxembourg', 'Mexico', 'Netherlands', \n",
    "    'New Zealand', 'Norway', 'Poland', 'Portugal', 'Slovenia', 'Spain', 'Sweden', 'Switzerland', 'Turkey', \n",
    "    'United Kingdom', 'United States']\n",
    "\n",
    "    all_countries = set(oecd_countries)\n",
    "    all_years = list(range(start_year, end_year + 1))\n",
    "    multi_index = pd.MultiIndex.from_product([all_countries, all_years], names=[country_column, year_column])\n",
    "    \n",
    "    df_filtered = df_filtered.set_index([country_column, year_column]).reindex(multi_index).reset_index()\n",
    "    \n",
    "    for col in df.columns:\n",
    "        if col not in [year_column, country_column]:\n",
    "            if pd.api.types.is_numeric_dtype(df[col]):\n",
    "                df_filtered[col] = df_filtered[col].fillna(0)\n",
    "            else:\n",
    "                df_filtered[col] = df_filtered[col].fillna(\"N/A\")\n",
    "    \n",
    "    return df_filtered\n",
    "\n",
    "\n",
    "# check the year range of each country and unique country names in each dataset\n",
    "def check_year_country(df):\n",
    "    if \"country\" not in df.columns or \"year\" not in df.columns:\n",
    "        raise ValueError(\"The dataset must contain 'country' and 'year' columns.\")\n",
    "\n",
    "    year_summary = df.groupby(\"country\")[\"year\"].agg([\"min\", \"max\", \"count\"]).reset_index()\n",
    "    year_summary.columns = [\"country\", \"min_year\", \"max_year\", \"year_count\"]\n",
    "\n",
    "    unique_countries = df[\"country\"].unique()\n",
    "    unique_country_count = len(unique_countries)\n",
    "\n",
    "    return year_summary, unique_countries, unique_country_count"
   ]
  },
  {
   "cell_type": "code",
   "execution_count": 83,
   "metadata": {
    "cell_id": "0bf0f4ddb0c243668b71627ff5cf21ae",
    "deepnote_cell_type": "code",
    "execution_context_id": "c1c7b898-28ce-431e-982b-f41f9a8e6863",
    "execution_millis": 1,
    "execution_start": 1740151602407,
    "source_hash": "3c82fab4"
   },
   "outputs": [
    {
     "name": "stdout",
     "output_type": "stream",
     "text": [
      "4862\n",
      "year              0.000000\n",
      "country           0.000000\n",
      "totalrefugees     0.082271\n",
      "group1_size       9.173180\n",
      "group2_size      49.053887\n",
      "group3_size      80.625257\n",
      "dtype: float64\n",
      "<class 'pandas.core.frame.DataFrame'>\n",
      "RangeIndex: 4862 entries, 0 to 4861\n",
      "Data columns (total 3 columns):\n",
      " #   Column         Non-Null Count  Dtype  \n",
      "---  ------         --------------  -----  \n",
      " 0   year           4862 non-null   int64  \n",
      " 1   country        4862 non-null   object \n",
      " 2   totalrefugees  4862 non-null   float64\n",
      "dtypes: float64(1), int64(1), object(1)\n",
      "memory usage: 114.1+ KB\n",
      "None\n",
      "   year        country  totalrefugees\n",
      "0  1988  United States         3863.0\n",
      "1  1989  United States         7668.0\n",
      "2  1990  United States        12450.0\n",
      "3  1991  United States        16317.0\n",
      "4  1992  United States        19934.0\n"
     ]
    }
   ],
   "source": [
    "### ER dataset ###\n",
    "'''\n",
    " 0   year                    4862 non-null   int64   // year \n",
    " 1   coa                     4862 non-null   object  // country of asylum\n",
    " 2   coo                     4862 non-null   object  // country of origin\n",
    " 3   totalrefugees           4858 non-null   float64 // total number of refugees\n",
    " 4   ccode_coo               4862 non-null   int64   // country code of origin\n",
    " 5   ccode_coa               4862 non-null   int64   // country code of asylum\n",
    " 6   minimal_distance        4734 non-null   float64 // minimal distance between coa and coo in km\n",
    " 7   groupname1              4680 non-null   object  // name of the first ethnic refugee group\n",
    " 8   gwgroupid1              4219 non-null   float64 // id of the first ethnic refugee group\n",
    " 9   groupname2              2488 non-null   object  // name of the second ethnic refugee group\n",
    " 10  gwgroupid2              2270 non-null   float64 // id of the second ethnic refugee group\n",
    " 11  groupname3              986 non-null    object  // name of the third ethnic refugee group\n",
    " 12  gwgroupid3              819 non-null    float64 // id of the third ethnic refugee group\n",
    " 13  sources                 2783 non-null   object  // reference\n",
    " 14  quote                   2015 non-null   object  // quote or reference phrase for the coding decision\n",
    " 15  groupshare1_num         4431 non-null   object  // categrical size of the first ethnic refugee group\n",
    " 16  groupshare2_num         2489 non-null   object  // categrical size of the second ethnic refugee group\n",
    " 17  groupshare3_num         949 non-null    object  // categrical size of the third ethnic refugee group\n",
    " 18  group1share_multiplier  4416 non-null   float64 // estimated share of the first ethnic refugee group\n",
    " 19  group2share_multiplier  2477 non-null   float64 // estimated share of the second ethnic refugee group\n",
    " 20  group3share_multiplier  942 non-null    float64 // estimated share of the third ethnic refugee group\n",
    " 21  group1_size             4416 non-null   float64 // estimated number of refugees belonging to the first ethnic refugee group\n",
    " 22  group2_size             2477 non-null   float64 // estimated number of migrants belonging to the second ethnic refugee group\n",
    " 23  group3_size             942 non-null    float64 // estimated number of migrants belonging to the third ethnic refugee group\n",
    "'''\n",
    "\n",
    "# check the total number of records\n",
    "print(er.shape[0])\n",
    "\n",
    "# drop the unnecessary columns first: ccode_coo, ccode_coa, gwgroupid1, gwgroupid2, gwgroupid3, sources, quote, minimal_distance\n",
    "er.drop(['ccode_coo', 'ccode_coa', 'gwgroupid1', 'gwgroupid2', 'gwgroupid3', 'sources', 'quote', 'minimal_distance'], axis=1, inplace=True)\n",
    "er.drop(columns=['groupname1','groupname2','groupname3','groupshare1_num','groupshare2_num','groupshare3_num','group1share_multiplier','group2share_multiplier','group3share_multiplier'], inplace=True)\n",
    "\n",
    "# change 'coo' to 'country'\n",
    "er.rename(columns={\"coo\": \"country\"}, inplace=True)\n",
    "# change 'coa' to 'country of asylum'\n",
    "er.rename(columns={\"coa\": \"country of asylum\"}, inplace=True)\n",
    "er.drop(columns=['country'], inplace=True)\n",
    "er.rename(columns={'country of asylum':'country'}, inplace=True)\n",
    "\n",
    "# check the proportion of nan values of each column\n",
    "print(er.isna().sum() / er.shape[0] * 100)\n",
    "'''\n",
    "after looking at the original data, missing values are not just missing values \n",
    "it is either; they are missing cuz they are meant to be 0 for numerical values\n",
    "or they are missing cuz they do not exist; e.g. only group 1 exists cuz there was no group 2,3 of refugees.\n",
    "therefore, rather than dropping the groups that has 50-80% of missing values, we will fill them with 0 if numerical, or N/A if categorical.\n",
    "also, we will add the extra column 'total size' that is the sum of the sizes of all groups\n",
    "'''\n",
    "# fill the missing values with 0 if numerical, or N/A if categorical\n",
    "er = er.apply(lambda x: x.fillna(0) if x.dtype.kind in 'buif' else x.fillna('N/A'))\n",
    "\n",
    "# drop the group size columns\n",
    "er.drop(columns=['group1_size','group2_size','group3_size'], inplace=True)\n",
    "\n",
    "print(er.info())\n",
    "print(er.head(5))"
   ]
  },
  {
   "cell_type": "code",
   "execution_count": 84,
   "metadata": {
    "cell_id": "ad5cfb9b32fa4804a837ee27dd467bbd",
    "deepnote_cell_type": "code",
    "execution_context_id": "c1c7b898-28ce-431e-982b-f41f9a8e6863",
    "execution_millis": 1,
    "execution_start": 1740151602463,
    "source_hash": "47ef8a23"
   },
   "outputs": [
    {
     "name": "stdout",
     "output_type": "stream",
     "text": [
      "---------------------------------- \n",
      "\n",
      "Dataset: er \n",
      "\n",
      "Index(['year', 'country', 'totalrefugees'], dtype='object')\n",
      "(4862, 3)\n",
      "<class 'pandas.core.frame.DataFrame'>\n",
      "RangeIndex: 4862 entries, 0 to 4861\n",
      "Data columns (total 3 columns):\n",
      " #   Column         Non-Null Count  Dtype  \n",
      "---  ------         --------------  -----  \n",
      " 0   year           4862 non-null   int64  \n",
      " 1   country        4862 non-null   object \n",
      " 2   totalrefugees  4862 non-null   float64\n",
      "dtypes: float64(1), int64(1), object(1)\n",
      "memory usage: 114.1+ KB\n",
      "None\n"
     ]
    }
   ],
   "source": [
    "# check er dataset again\n",
    "check_features(er, \"er\")"
   ]
  },
  {
   "cell_type": "code",
   "execution_count": 85,
   "metadata": {
    "cell_id": "0d91b74ae4d74711bff89ee479cc0dbb",
    "deepnote_cell_type": "code",
    "execution_context_id": "c1c7b898-28ce-431e-982b-f41f9a8e6863",
    "execution_millis": 0,
    "execution_start": 1740151602511,
    "source_hash": "ee4d3f47"
   },
   "outputs": [],
   "source": [
    "# change er['country']='United States of America' to 'United States'\n",
    "er = er.replace({'United States of America': 'United States'})"
   ]
  },
  {
   "cell_type": "code",
   "execution_count": 86,
   "metadata": {
    "cell_id": "658e425ae80a4159be1d91a2275f53a2",
    "deepnote_cell_type": "code",
    "execution_context_id": "c1c7b898-28ce-431e-982b-f41f9a8e6863",
    "execution_millis": 0,
    "execution_start": 1740151602563,
    "source_hash": "7f50a2c1"
   },
   "outputs": [],
   "source": [
    "# change expanded_epr['country']='Korea, Republic of' to 'Korea' and drop 'Korea, People's Republic of' from 'country'\n",
    "expanded_epr = expanded_epr.drop(expanded_epr[expanded_epr['country'] == 'Korea, People\\'s Republic of'].index)\n",
    "expanded_epr = expanded_epr.replace({'Korea, Republic of': 'Korea'})\n",
    "expanded_epr = expanded_epr.replace({'Italy/Sardinia': 'Italy'})\n",
    "expanded_epr = expanded_epr.replace({'Turkey (Ottoman Empire)': 'Turkey'})\n",
    "expanded_epr = expanded_epr.replace({'United States of America': 'United States'})"
   ]
  },
  {
   "cell_type": "code",
   "execution_count": 87,
   "metadata": {
    "cell_id": "8177390bfd2d47af8ad5e7ba40e31b12",
    "deepnote_cell_type": "code",
    "execution_context_id": "c1c7b898-28ce-431e-982b-f41f9a8e6863",
    "execution_millis": 385,
    "execution_start": 1740151602615,
    "source_hash": "2becb283"
   },
   "outputs": [
    {
     "name": "stdout",
     "output_type": "stream",
     "text": [
      "['Afghanistan', 'Albania', 'Algeria', 'Angola', 'Argentina', 'Armenia', 'Austria', 'Azerbaijan', 'Bangladesh', 'Belarus', 'Belgium', 'Belize', 'Benin', 'Bosnia and Herzegovina', 'Botswana', 'Brazil', 'Burkina Faso', 'Burundi', 'Cameroon', 'Canada', 'Central African Rep.', 'Central African Republic', 'Chad', 'China', 'Congo', 'Costa Rica', 'Croatia', 'Cuba', 'Cyprus', 'Czech Rep.', \"CÌ«te d'Ivoire\", 'Dem. Rep. of the Congo', 'Democratic Republic of Congo', 'Djibouti', 'Dominican Rep.', 'Ecuador', 'Egypt', 'Eritrea', 'Ethiopia', 'France', 'Gabon', 'Gambia', 'Georgia', 'Germany', 'Ghana', 'Greece', 'Guatemala', 'Guinea', 'Guinea-Bissau', 'Honduras', 'Hungary', 'India', 'Indonesia', 'Iran', 'Iraq', 'Islamic Rep. of Iran', 'Israel', 'Italy', 'Ivory Coast', 'Jordan', 'Kazakhstan', 'Kenya', 'Kuwait', 'Kyrgyzstan', \"Lao People's Dem. Rep.\", 'Lebanon', 'Lesotho', 'Liberia', 'Libya', 'Libyan Arab Jamahiriya', 'Malawi', 'Malaysia', 'Mali', 'Malta', 'Mauritania', 'Mexico', 'Montenegro', 'Mozambique', 'Namibia', 'Nepal', 'Nicaragua', 'Niger', 'Nigeria', 'Norway', 'Pakistan', 'Panama', 'Papua New Guinea', 'Philippines', 'Poland', 'Russian Federation', 'Rwanda', 'Saudi Arabia', 'Senegal', 'Serbia', 'Sierra Leone', 'Slovenia', 'Somalia', 'South Africa', 'South Sudan', 'Sudan', 'Swaziland', 'Sweden', 'Switzerland', 'Syria', 'Syrian Arab Rep.', 'Tajikistan', 'Tanzania', 'TfYR Macedonia', 'Thailand', 'Togo', 'Trinidad and Tobago', 'Turkey', 'Turkmenistan', 'Uganda', 'Ukraine', 'United Arab Emirates', 'United Rep. of Tanzania', 'United States', 'Uzbekistan', 'Venezuela', 'Venezuela (Bolivarian Republic of)', 'Viet Nam', 'Yemen', 'Zambia', 'Zimbabwe']\n",
      "\n",
      "----------------------\n",
      "\n",
      "['Afghanistan', 'Albania', 'Algeria', 'Angola', 'Argentina', 'Armenia', 'Australia', 'Austria', 'Azerbaijan', 'Bahamas', 'Bahrain', 'Bangladesh', 'Barbados', 'Belarus (Byelorussia)', 'Belgium', 'Belize', 'Benin', 'Bhutan', 'Bolivia', 'Bosnia-Herzegovina', 'Botswana', 'Brazil', 'Brunei', 'Bulgaria', 'Burkina Faso (Upper Volta)', 'Burundi', 'Cambodia (Kampuchea)', 'Cameroon', 'Canada', 'Cape Verde', 'Central African Republic', 'Chad', 'Chile', 'China', 'Colombia', 'Comoros', 'Congo', 'Congo, Democratic Republic of (Zaire)', 'Costa Rica', \"Cote D'Ivoire\", 'Croatia', 'Cuba', 'Cyprus', 'Czech Republic', 'Czechoslovakia', 'Denmark', 'Djibouti', 'Dominican Republic', 'East Timor', 'Ecuador', 'Egypt', 'El Salvador', 'Equatorial Guinea', 'Eritrea', 'Estonia', 'Ethiopia', 'Fiji', 'Finland', 'France', 'Gabon', 'Gambia', 'Georgia', 'German Democratic Republic', 'German Federal Republic', 'Ghana', 'Greece', 'Guatemala', 'Guinea', 'Guinea-Bissau', 'Guyana', 'Haiti', 'Honduras', 'Hungary', 'Iceland', 'India', 'Indonesia', 'Iran (Persia)', 'Iraq', 'Ireland', 'Israel', 'Italy', 'Jamaica', 'Japan', 'Jordan', 'Kazakhstan', 'Kenya', 'Korea', 'Kosovo', 'Kuwait', 'Kyrgyz Republic', 'Laos', 'Latvia', 'Lebanon', 'Lesotho', 'Liberia', 'Libya', 'Lithuania', 'Luxembourg', 'Macedonia (FYROM/North Macedonia)', 'Madagascar (Malagasy)', 'Malawi', 'Malaysia', 'Maldives', 'Mali', 'Malta', 'Mauritania', 'Mauritius', 'Mexico', 'Moldova', 'Mongolia', 'Montenegro', 'Morocco', 'Mozambique', 'Myanmar (Burma)', 'Namibia', 'Nepal', 'Netherlands', 'New Zealand', 'Nicaragua', 'Niger', 'Nigeria', 'Norway', 'Oman', 'Pakistan', 'Panama', 'Papua New Guinea', 'Paraguay', 'Peru', 'Philippines', 'Poland', 'Portugal', 'Qatar', 'Rumania', 'Russia (Soviet Union)', 'Rwanda', 'Saudi Arabia', 'Senegal', 'Serbia', 'Sierra Leone', 'Singapore', 'Slovakia', 'Slovenia', 'Solomon Islands', 'Somalia', 'South Africa', 'South Sudan', 'Spain', 'Sri Lanka (Ceylon)', 'Sudan', 'Surinam', 'Swaziland (Eswatini)', 'Sweden', 'Switzerland', 'Syria', 'Taiwan', 'Tajikistan', 'Tanzania (Tanganyika)', 'Thailand', 'Tibet', 'Togo', 'Trinidad and Tobago', 'Tunisia', 'Turkey', 'Turkmenistan', 'Uganda', 'Ukraine', 'United Arab Emirates', 'United Kingdom', 'United States', 'Uruguay', 'Uzbekistan', 'Venezuela', 'Vietnam, Democratic Republic of', 'Vietnam, Republic of', 'Yemen (Arab Republic of Yemen)', \"Yemen, People's Republic of\", 'Yugoslavia', 'Zambia', 'Zanzibar', 'Zimbabwe (Rhodesia)']\n",
      "\n",
      "----------------------\n",
      "\n",
      "after filtering: \n",
      "['Australia', 'Austria', 'Belgium', 'Canada', 'Chile', 'Colombia', 'Costa Rica', 'Czechia', 'Denmark', 'Estonia', 'Finland', 'France', 'Germany', 'Greece', 'Hungary', 'Iceland', 'Ireland', 'Israel', 'Italy', 'Japan', 'Korea', 'Latvia', 'Lithuania', 'Luxembourg', 'Mexico', 'Netherlands', 'New Zealand', 'Norway', 'Poland', 'Portugal', 'Slovenia', 'Spain', 'Sweden', 'Switzerland', 'Turkey', 'United Kingdom', 'United States']\n",
      "\n",
      "----------------------\n",
      "\n",
      "37\n",
      "\n",
      "----------------------\n",
      "\n",
      "['Australia', 'Austria', 'Belgium', 'Canada', 'Chile', 'Colombia', 'Costa Rica', 'Czechia', 'Denmark', 'Estonia', 'Finland', 'France', 'Germany', 'Greece', 'Hungary', 'Iceland', 'Ireland', 'Israel', 'Italy', 'Japan', 'Korea', 'Latvia', 'Lithuania', 'Luxembourg', 'Mexico', 'Netherlands', 'New Zealand', 'Norway', 'Poland', 'Portugal', 'Slovenia', 'Spain', 'Sweden', 'Switzerland', 'Turkey', 'United Kingdom', 'United States']\n",
      "\n",
      "----------------------\n",
      "\n",
      "37\n"
     ]
    }
   ],
   "source": [
    "# manipulate the country names and range of each dataset\n",
    "print(sorted(er[\"country\"].unique()))\n",
    "print(\"\\n----------------------\\n\")\n",
    "print(sorted(expanded_epr[\"country\"].unique()))\n",
    "print(\"\\n----------------------\\n\")\n",
    "\n",
    "# only filter out the oecd countries including variations\n",
    "er_oecd = filter_countries(er, country_column=\"country\")\n",
    "expanded_epr_oecd = filter_countries(expanded_epr, country_column=\"country\")\n",
    "print(\"after filtering: \")\n",
    "print(sorted(er_oecd[\"country\"].unique()))\n",
    "print(\"\\n----------------------\\n\")\n",
    "print(len(er_oecd[\"country\"].unique()))\n",
    "print(\"\\n----------------------\\n\")\n",
    "print(sorted(expanded_epr_oecd[\"country\"].unique()))\n",
    "print(\"\\n----------------------\\n\")\n",
    "print(len(expanded_epr_oecd[\"country\"].unique()))\n"
   ]
  },
  {
   "cell_type": "code",
   "execution_count": 88,
   "metadata": {
    "cell_id": "c4fbd0b4987b4958888f65f763c8c6f1",
    "deepnote_cell_type": "code",
    "execution_context_id": "c1c7b898-28ce-431e-982b-f41f9a8e6863",
    "execution_millis": 0,
    "execution_start": 1740151603043,
    "source_hash": "c5fcf502"
   },
   "outputs": [],
   "source": [
    "# now filter the year range\n",
    "er_final = filter_fill_years(er_oecd, start_year=1990, end_year=2021)\n",
    "epr_final = filter_fill_years(expanded_epr_oecd, start_year=1990, end_year=2021)"
   ]
  },
  {
   "cell_type": "code",
   "execution_count": 89,
   "metadata": {
    "cell_id": "ddf6b362b1c8431ead8e42e02bf7397c",
    "deepnote_cell_type": "code",
    "execution_context_id": "c1c7b898-28ce-431e-982b-f41f9a8e6863",
    "execution_millis": 1,
    "execution_start": 1740151603095,
    "source_hash": "a012348f"
   },
   "outputs": [
    {
     "name": "stdout",
     "output_type": "stream",
     "text": [
      "(           country  min_year  max_year  year_count\n",
      "0        Australia      1990      2021          32\n",
      "1          Austria      1990      2021          32\n",
      "2          Belgium      1990      2021          32\n",
      "3           Canada      1990      2021          32\n",
      "4            Chile      1990      2021          32\n",
      "5         Colombia      1990      2021          32\n",
      "6       Costa Rica      1990      2021          32\n",
      "7          Czechia      1990      2021          32\n",
      "8          Denmark      1990      2021          32\n",
      "9          Estonia      1990      2021          32\n",
      "10         Finland      1990      2021          32\n",
      "11          France      1990      2021          32\n",
      "12         Germany      1990      2021          32\n",
      "13          Greece      1990      2021          32\n",
      "14         Hungary      1990      2021          32\n",
      "15         Iceland      1990      2021          32\n",
      "16         Ireland      1990      2021          32\n",
      "17          Israel      1990      2021          32\n",
      "18           Italy      1990      2021          32\n",
      "19           Japan      1990      2021          32\n",
      "20           Korea      1990      2021          32\n",
      "21          Latvia      1990      2021          32\n",
      "22       Lithuania      1990      2021          32\n",
      "23      Luxembourg      1990      2021          32\n",
      "24          Mexico      1990      2021          32\n",
      "25     Netherlands      1990      2021          32\n",
      "26     New Zealand      1990      2021          32\n",
      "27          Norway      1990      2021          32\n",
      "28          Poland      1990      2021          32\n",
      "29        Portugal      1990      2021          32\n",
      "30        Slovenia      1990      2021          32\n",
      "31           Spain      1990      2021          32\n",
      "32          Sweden      1990      2021          32\n",
      "33     Switzerland      1990      2021          32\n",
      "34          Turkey      1990      2021          32\n",
      "35  United Kingdom      1990      2021          32\n",
      "36   United States      1990      2021          32, array(['Netherlands', 'United States', 'Estonia', 'France', 'Colombia',\n",
      "       'United Kingdom', 'Austria', 'Czechia', 'Chile', 'Mexico',\n",
      "       'Norway', 'Turkey', 'Denmark', 'Korea', 'Poland', 'Australia',\n",
      "       'Slovenia', 'New Zealand', 'Luxembourg', 'Israel', 'Japan',\n",
      "       'Portugal', 'Italy', 'Latvia', 'Costa Rica', 'Switzerland',\n",
      "       'Greece', 'Belgium', 'Sweden', 'Canada', 'Ireland', 'Hungary',\n",
      "       'Lithuania', 'Spain', 'Germany', 'Iceland', 'Finland'],\n",
      "      dtype=object), 37)\n",
      "\n",
      "----------------------\n",
      "\n",
      "(           country  min_year  max_year  year_count\n",
      "0        Australia      1990      2021          32\n",
      "1          Austria      1990      2021          32\n",
      "2          Belgium      1990      2021          32\n",
      "3           Canada      1990      2021          32\n",
      "4            Chile      1990      2021          32\n",
      "5         Colombia      1990      2021          32\n",
      "6       Costa Rica      1990      2021          32\n",
      "7          Czechia      1990      2021          32\n",
      "8          Denmark      1990      2021          32\n",
      "9          Estonia      1990      2021          32\n",
      "10         Finland      1990      2021          32\n",
      "11          France      1990      2021          32\n",
      "12         Germany      1990      2021          32\n",
      "13          Greece      1990      2021          32\n",
      "14         Hungary      1990      2021          32\n",
      "15         Iceland      1990      2021          32\n",
      "16         Ireland      1990      2021          32\n",
      "17          Israel      1990      2021          32\n",
      "18           Italy      1990      2021          32\n",
      "19           Japan      1990      2021          32\n",
      "20           Korea      1990      2021          32\n",
      "21          Latvia      1990      2021          32\n",
      "22       Lithuania      1990      2021          32\n",
      "23      Luxembourg      1990      2021          32\n",
      "24          Mexico      1990      2021          32\n",
      "25     Netherlands      1990      2021          32\n",
      "26     New Zealand      1990      2021          32\n",
      "27          Norway      1990      2021          32\n",
      "28          Poland      1990      2021          32\n",
      "29        Portugal      1990      2021          32\n",
      "30        Slovenia      1990      2021          32\n",
      "31           Spain      1990      2021          32\n",
      "32          Sweden      1990      2021          32\n",
      "33     Switzerland      1990      2021          32\n",
      "34          Turkey      1990      2021          32\n",
      "35  United Kingdom      1990      2021          32\n",
      "36   United States      1990      2021          32, array(['Netherlands', 'United States', 'Estonia', 'France', 'Colombia',\n",
      "       'United Kingdom', 'Austria', 'Czechia', 'Chile', 'Mexico',\n",
      "       'Norway', 'Turkey', 'Denmark', 'Korea', 'Poland', 'Australia',\n",
      "       'Slovenia', 'New Zealand', 'Luxembourg', 'Israel', 'Japan',\n",
      "       'Portugal', 'Italy', 'Latvia', 'Costa Rica', 'Switzerland',\n",
      "       'Greece', 'Belgium', 'Sweden', 'Canada', 'Ireland', 'Hungary',\n",
      "       'Lithuania', 'Spain', 'Germany', 'Iceland', 'Finland'],\n",
      "      dtype=object), 37)\n"
     ]
    }
   ],
   "source": [
    "# check again the number of years of each unique country has in each dataset\n",
    "print(check_year_country(er_final))\n",
    "print(\"\\n----------------------\\n\")\n",
    "print(check_year_country(epr_final))"
   ]
  },
  {
   "cell_type": "code",
   "execution_count": 91,
   "metadata": {
    "cell_id": "401039bea0224c81aace6e4fa334eaf8",
    "deepnote_cell_type": "code",
    "execution_context_id": "c1c7b898-28ce-431e-982b-f41f9a8e6863",
    "execution_millis": 3,
    "execution_start": 1740151606142,
    "source_hash": "5694d5ef"
   },
   "outputs": [
    {
     "name": "stdout",
     "output_type": "stream",
     "text": [
      "37\n",
      "\n",
      "----------------------\n",
      "\n",
      "37\n",
      "<class 'pandas.core.frame.DataFrame'>\n",
      "RangeIndex: 1184 entries, 0 to 1183\n",
      "Data columns (total 3 columns):\n",
      " #   Column         Non-Null Count  Dtype  \n",
      "---  ------         --------------  -----  \n",
      " 0   country        1184 non-null   object \n",
      " 1   year           1184 non-null   int64  \n",
      " 2   totalrefugees  1184 non-null   float64\n",
      "dtypes: float64(1), int64(1), object(1)\n",
      "memory usage: 27.9+ KB\n",
      "None\n",
      "\n",
      "----------------------\n",
      "\n",
      "<class 'pandas.core.frame.DataFrame'>\n",
      "RangeIndex: 1184 entries, 0 to 1183\n",
      "Data columns (total 4 columns):\n",
      " #   Column   Non-Null Count  Dtype  \n",
      "---  ------   --------------  -----  \n",
      " 0   country  1184 non-null   object \n",
      " 1   year     1184 non-null   int64  \n",
      " 2   group    1184 non-null   object \n",
      " 3   size     1184 non-null   float64\n",
      "dtypes: float64(1), int64(1), object(2)\n",
      "memory usage: 37.1+ KB\n",
      "None\n"
     ]
    }
   ],
   "source": [
    "# check again the number of unique countries in each dataset without using the function\n",
    "print(len(er_final[\"country\"].unique()))\n",
    "print(\"\\n----------------------\\n\")\n",
    "print(len(epr_final[\"country\"].unique()))\n",
    "\n",
    "print(er_final.info())\n",
    "print(\"\\n----------------------\\n\")\n",
    "print(epr_final.info())"
   ]
  },
  {
   "cell_type": "code",
   "execution_count": 93,
   "metadata": {
    "cell_id": "cc106d5ed0094e2796a0f9de40185a18",
    "deepnote_cell_type": "code",
    "execution_context_id": "c1c7b898-28ce-431e-982b-f41f9a8e6863",
    "execution_millis": 768,
    "execution_start": 1740151659403,
    "source_hash": "fa4a36e6"
   },
   "outputs": [
    {
     "name": "stdout",
     "output_type": "stream",
     "text": [
      "Saved the cleaned dataset to /work/Yeni/ethnic/yeni_er.csv.\n",
      "Saved the cleaned dataset to /work/Yeni/ethnic/yeni_epr.csv.\n"
     ]
    }
   ],
   "source": [
    "# save the cleaned datasets\n",
    "def save_cleaned_datasets(df, filename=\"cleaned_data.csv\", file_format=\"csv\", save_path=\"/work/Yeni/ethnic/\"):\n",
    "    if file_format not in [\"csv\"]:\n",
    "        raise ValueError(\"The file format must be 'csv'.\")\n",
    "    \n",
    "    os.makedirs(save_path, exist_ok=True)\n",
    "    file_path = os.path.join(save_path, filename)\n",
    "    if file_format == \"csv\":\n",
    "        df.to_csv(file_path, index=False)\n",
    "    elif file_format == \"excel\":\n",
    "        df.to_excel(file_path, index=False, engine=\"openpyxl\")\n",
    "    \n",
    "    print(f\"Saved the cleaned dataset to {file_path}.\")\n",
    "\n",
    "\n",
    "save_cleaned_datasets(er_final, filename=\"er_cleaned.csv\")\n",
    "save_cleaned_datasets(epr_final, filename=\"epr_cleaned.csv\")"
   ]
  }
 ],
 "metadata": {
  "deepnote_notebook_id": "a494f03f1de94b9cb4a9a88406929d45",
  "kernelspec": {
   "display_name": "Python 3 (ipykernel)",
   "language": "python",
   "name": "python3"
  },
  "language_info": {
   "codemirror_mode": {
    "name": "ipython",
    "version": 3
   },
   "file_extension": ".py",
   "mimetype": "text/x-python",
   "name": "python",
   "nbconvert_exporter": "python",
   "pygments_lexer": "ipython3",
   "version": "3.12.4"
  }
 },
 "nbformat": 4,
 "nbformat_minor": 4
}
