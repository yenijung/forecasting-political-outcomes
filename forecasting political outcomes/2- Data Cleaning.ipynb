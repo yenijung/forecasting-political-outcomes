{
 "cells": [
  {
   "cell_type": "markdown",
   "metadata": {
    "cell_id": "8724035748104f22963d5f21d7da5300",
    "deepnote_cell_type": "markdown",
    "id": "3f845d9d"
   },
   "source": [
    "# Data Cleaning Notebook\n",
    "\n",
    "This notebook performs data cleaning operations, ensuring that the dataset is prepared for further analysis."
   ]
  },
  {
   "cell_type": "markdown",
   "metadata": {
    "cell_id": "e93b98dd66954212baa393f125ed642f",
    "deepnote_cell_type": "markdown",
    "id": "e67640d4"
   },
   "source": [
    "## 1. Importing Libraries\n",
    "\n",
    "We first import the necessary Python libraries for data handling and analysis."
   ]
  },
  {
   "cell_type": "code",
   "execution_count": 1,
   "metadata": {
    "cell_id": "7a7c6c369ad945e68785e220b90a155c",
    "deepnote_cell_type": "code",
    "execution_context_id": "09970542-be90-4974-96be-dbd0065434cf",
    "execution_millis": 1764,
    "execution_start": 1743088835242,
    "id": "bd2297af",
    "source_hash": "1afb1851"
   },
   "outputs": [],
   "source": [
    "# Import the required libraries\n",
    "import pandas as pd\n",
    "import numpy as np\n",
    "\n",
    "from sklearn.linear_model import LinearRegression\n",
    "from sklearn.preprocessing import PolynomialFeatures\n",
    "from sklearn.pipeline import make_pipeline\n",
    "from sklearn.model_selection import train_test_split\n",
    "from sklearn.metrics import mean_squared_error, mean_absolute_percentage_error\n",
    "\n",
    "import warnings\n",
    "warnings.filterwarnings(\"ignore\", category=UserWarning, module=\"sklearn\")\n",
    "\n",
    "import logging\n",
    "logging.basicConfig(level=logging.WARNING)"
   ]
  },
  {
   "cell_type": "markdown",
   "metadata": {
    "cell_id": "59a6ea08128249df99514888dcd3dbc1",
    "deepnote_cell_type": "markdown",
    "id": "c66f88c9"
   },
   "source": [
    "## 2. Load Data & Create Functions\n",
    "\n",
    "Next, we load the dataset and inspect its structure, checking for missing values and inconsistencies."
   ]
  },
  {
   "cell_type": "code",
   "execution_count": 2,
   "metadata": {
    "cell_id": "c4a626b41b8840a0ba4d7e1fd7d1c27e",
    "deepnote_cell_type": "code",
    "execution_context_id": "09970542-be90-4974-96be-dbd0065434cf",
    "execution_millis": 232,
    "execution_start": 1743088837062,
    "id": "14ba7313",
    "source_hash": "ced5e69c"
   },
   "outputs": [],
   "source": [
    "# Read the combined dataset\n",
    "df_combined = pd.read_csv('/work/fully-combined.csv')"
   ]
  },
  {
   "cell_type": "code",
   "execution_count": 3,
   "metadata": {
    "cell_id": "773e08ad698e4cd7983001323d845254",
    "deepnote_cell_type": "code",
    "execution_context_id": "09970542-be90-4974-96be-dbd0065434cf",
    "execution_millis": 0,
    "execution_start": 1743088837351,
    "id": "f6e96f6b",
    "source_hash": "a8857448"
   },
   "outputs": [],
   "source": [
    "# Create a function for a NaN analysis\n",
    "def nan_analysis(df):\n",
    "    # Count NaN values in each column\n",
    "    nan_analysis = df.isna().sum()\n",
    "    # Calculate percentage of NaN values\n",
    "    nan_analysis_percent = (df.isna().mean() * 100).sort_values(ascending=False)\n",
    "    # Combine NaN count and percentage into a DataFrame for better analysis\n",
    "    nan_summary = pd.DataFrame({\n",
    "        'NaN Count': nan_analysis,\n",
    "        'Percentage': nan_analysis_percent\n",
    "    }).sort_values(by='Percentage', ascending=False)\n",
    "    return nan_summary[nan_summary['Percentage'] > 0]"
   ]
  },
  {
   "cell_type": "code",
   "execution_count": 4,
   "metadata": {
    "cell_id": "d61728e9be0644ffb4b95dd10f5089be",
    "deepnote_cell_type": "code",
    "execution_context_id": "09970542-be90-4974-96be-dbd0065434cf",
    "execution_millis": 2,
    "execution_start": 1743088837411,
    "source_hash": "97b0cd7b"
   },
   "outputs": [
    {
     "data": {
      "application/vnd.deepnote.dataframe.v3+json": {
       "column_count": 2,
       "columns": [
        {
         "dtype": "int64",
         "name": "NaN Count",
         "stats": {
          "histogram": [
           {
            "bin_end": 41.6,
            "bin_start": 38,
            "count": 20
           },
           {
            "bin_end": 45.2,
            "bin_start": 41.6,
            "count": 0
           },
           {
            "bin_end": 48.8,
            "bin_start": 45.2,
            "count": 0
           },
           {
            "bin_end": 52.4,
            "bin_start": 48.8,
            "count": 0
           },
           {
            "bin_end": 56,
            "bin_start": 52.4,
            "count": 0
           },
           {
            "bin_end": 59.6,
            "bin_start": 56,
            "count": 0
           },
           {
            "bin_end": 63.2,
            "bin_start": 59.6,
            "count": 0
           },
           {
            "bin_end": 66.8,
            "bin_start": 63.2,
            "count": 0
           },
           {
            "bin_end": 70.4,
            "bin_start": 66.8,
            "count": 0
           },
           {
            "bin_end": 74,
            "bin_start": 70.4,
            "count": 2
           }
          ],
          "max": "74",
          "min": "38",
          "nan_count": 0,
          "unique_count": 2
         }
        },
        {
         "dtype": "float64",
         "name": "Percentage",
         "stats": {
          "histogram": [
           {
            "bin_end": 3.3068362480127185,
            "bin_start": 3.0206677265500796,
            "count": 20
           },
           {
            "bin_end": 3.5930047694753577,
            "bin_start": 3.3068362480127185,
            "count": 0
           },
           {
            "bin_end": 3.879173290937997,
            "bin_start": 3.5930047694753577,
            "count": 0
           },
           {
            "bin_end": 4.165341812400635,
            "bin_start": 3.879173290937997,
            "count": 0
           },
           {
            "bin_end": 4.451510333863275,
            "bin_start": 4.165341812400635,
            "count": 0
           },
           {
            "bin_end": 4.737678855325914,
            "bin_start": 4.451510333863275,
            "count": 0
           },
           {
            "bin_end": 5.023847376788552,
            "bin_start": 4.737678855325914,
            "count": 0
           },
           {
            "bin_end": 5.3100158982511925,
            "bin_start": 5.023847376788552,
            "count": 0
           },
           {
            "bin_end": 5.596184419713831,
            "bin_start": 5.3100158982511925,
            "count": 0
           },
           {
            "bin_end": 5.88235294117647,
            "bin_start": 5.596184419713831,
            "count": 2
           }
          ],
          "max": "5.88235294117647",
          "min": "3.0206677265500796",
          "nan_count": 0,
          "unique_count": 2
         }
        },
        {
         "dtype": "object",
         "name": "_deepnote_index_column"
        }
       ],
       "row_count": 22,
       "rows": [
        {
         "NaN Count": 74,
         "Percentage": 5.88235294117647,
         "_deepnote_index_column": "ethnicity_ratio"
        },
        {
         "NaN Count": 74,
         "Percentage": 5.88235294117647,
         "_deepnote_index_column": "totalrefugees"
        },
        {
         "NaN Count": 38,
         "Percentage": 3.0206677265500796,
         "_deepnote_index_column": "Human Development Index"
        },
        {
         "NaN Count": 38,
         "Percentage": 3.0206677265500796,
         "_deepnote_index_column": "Voter turnout (highest score=1)"
        },
        {
         "NaN Count": 38,
         "Percentage": 3.0206677265500796,
         "_deepnote_index_column": "Media freedom (highest score=1)"
        },
        {
         "NaN Count": 38,
         "Percentage": 3.0206677265500796,
         "_deepnote_index_column": "Media bias (highest score=1)"
        },
        {
         "NaN Count": 38,
         "Percentage": 3.0206677265500796,
         "_deepnote_index_column": "Mean years of schooling (highest score=1)"
        },
        {
         "NaN Count": 38,
         "Percentage": 3.0206677265500796,
         "_deepnote_index_column": "Life expectancy (highest score=1)"
        },
        {
         "NaN Count": 38,
         "Percentage": 3.0206677265500796,
         "_deepnote_index_column": "Judicial Independence (highest score=1)"
        },
        {
         "NaN Count": 38,
         "Percentage": 3.0206677265500796,
         "_deepnote_index_column": "Infant mortality rate (highest score=1)"
        }
       ],
       "type": "dataframe"
      },
      "text/html": [
       "<div>\n",
       "<style scoped>\n",
       "    .dataframe tbody tr th:only-of-type {\n",
       "        vertical-align: middle;\n",
       "    }\n",
       "\n",
       "    .dataframe tbody tr th {\n",
       "        vertical-align: top;\n",
       "    }\n",
       "\n",
       "    .dataframe thead th {\n",
       "        text-align: right;\n",
       "    }\n",
       "</style>\n",
       "<table border=\"1\" class=\"dataframe\">\n",
       "  <thead>\n",
       "    <tr style=\"text-align: right;\">\n",
       "      <th></th>\n",
       "      <th>NaN Count</th>\n",
       "      <th>Percentage</th>\n",
       "    </tr>\n",
       "  </thead>\n",
       "  <tbody>\n",
       "    <tr>\n",
       "      <th>ethnicity_ratio</th>\n",
       "      <td>74</td>\n",
       "      <td>5.882353</td>\n",
       "    </tr>\n",
       "    <tr>\n",
       "      <th>totalrefugees</th>\n",
       "      <td>74</td>\n",
       "      <td>5.882353</td>\n",
       "    </tr>\n",
       "    <tr>\n",
       "      <th>Human Development Index</th>\n",
       "      <td>38</td>\n",
       "      <td>3.020668</td>\n",
       "    </tr>\n",
       "    <tr>\n",
       "      <th>Voter turnout (highest score=1)</th>\n",
       "      <td>38</td>\n",
       "      <td>3.020668</td>\n",
       "    </tr>\n",
       "    <tr>\n",
       "      <th>Media freedom (highest score=1)</th>\n",
       "      <td>38</td>\n",
       "      <td>3.020668</td>\n",
       "    </tr>\n",
       "    <tr>\n",
       "      <th>Media bias (highest score=1)</th>\n",
       "      <td>38</td>\n",
       "      <td>3.020668</td>\n",
       "    </tr>\n",
       "    <tr>\n",
       "      <th>Mean years of schooling (highest score=1)</th>\n",
       "      <td>38</td>\n",
       "      <td>3.020668</td>\n",
       "    </tr>\n",
       "    <tr>\n",
       "      <th>Life expectancy (highest score=1)</th>\n",
       "      <td>38</td>\n",
       "      <td>3.020668</td>\n",
       "    </tr>\n",
       "    <tr>\n",
       "      <th>Judicial Independence (highest score=1)</th>\n",
       "      <td>38</td>\n",
       "      <td>3.020668</td>\n",
       "    </tr>\n",
       "    <tr>\n",
       "      <th>Infant mortality rate (highest score=1)</th>\n",
       "      <td>38</td>\n",
       "      <td>3.020668</td>\n",
       "    </tr>\n",
       "    <tr>\n",
       "      <th>Health equality (highest score=1)</th>\n",
       "      <td>38</td>\n",
       "      <td>3.020668</td>\n",
       "    </tr>\n",
       "    <tr>\n",
       "      <th>Harassment of journalists (highest score=1)</th>\n",
       "      <td>38</td>\n",
       "      <td>3.020668</td>\n",
       "    </tr>\n",
       "    <tr>\n",
       "      <th>Gender Equality (highest score=1)</th>\n",
       "      <td>38</td>\n",
       "      <td>3.020668</td>\n",
       "    </tr>\n",
       "    <tr>\n",
       "      <th>Freedom of the Press (highest score=1)</th>\n",
       "      <td>38</td>\n",
       "      <td>3.020668</td>\n",
       "    </tr>\n",
       "    <tr>\n",
       "      <th>Freedom of Religion (highest score=1)</th>\n",
       "      <td>38</td>\n",
       "      <td>3.020668</td>\n",
       "    </tr>\n",
       "    <tr>\n",
       "      <th>Free Political Parties (highest score=1)</th>\n",
       "      <td>38</td>\n",
       "      <td>3.020668</td>\n",
       "    </tr>\n",
       "    <tr>\n",
       "      <th>Fair trial (highest score=1)</th>\n",
       "      <td>38</td>\n",
       "      <td>3.020668</td>\n",
       "    </tr>\n",
       "    <tr>\n",
       "      <th>Election government intimidation (highest score=1)</th>\n",
       "      <td>38</td>\n",
       "      <td>3.020668</td>\n",
       "    </tr>\n",
       "    <tr>\n",
       "      <th>Election free and fair (highest score=1)</th>\n",
       "      <td>38</td>\n",
       "      <td>3.020668</td>\n",
       "    </tr>\n",
       "    <tr>\n",
       "      <th>Effective Parliament (highest score=1)</th>\n",
       "      <td>38</td>\n",
       "      <td>3.020668</td>\n",
       "    </tr>\n",
       "    <tr>\n",
       "      <th>Educational equality (highest score=1)</th>\n",
       "      <td>38</td>\n",
       "      <td>3.020668</td>\n",
       "    </tr>\n",
       "    <tr>\n",
       "      <th>Predictable Enforcement (highest score=1)</th>\n",
       "      <td>38</td>\n",
       "      <td>3.020668</td>\n",
       "    </tr>\n",
       "  </tbody>\n",
       "</table>\n",
       "</div>"
      ],
      "text/plain": [
       "                                                    NaN Count  Percentage\n",
       "ethnicity_ratio                                            74    5.882353\n",
       "totalrefugees                                              74    5.882353\n",
       "Human Development Index                                    38    3.020668\n",
       "Voter turnout (highest score=1)                            38    3.020668\n",
       "Media freedom (highest score=1)                            38    3.020668\n",
       "Media bias (highest score=1)                               38    3.020668\n",
       "Mean years of schooling (highest score=1)                  38    3.020668\n",
       "Life expectancy (highest score=1)                          38    3.020668\n",
       "Judicial Independence (highest score=1)                    38    3.020668\n",
       "Infant mortality rate (highest score=1)                    38    3.020668\n",
       "Health equality (highest score=1)                          38    3.020668\n",
       "Harassment of journalists (highest score=1)                38    3.020668\n",
       "Gender Equality (highest score=1)                          38    3.020668\n",
       "Freedom of the Press (highest score=1)                     38    3.020668\n",
       "Freedom of Religion (highest score=1)                      38    3.020668\n",
       "Free Political Parties (highest score=1)                   38    3.020668\n",
       "Fair trial (highest score=1)                               38    3.020668\n",
       "Election government intimidation (highest score=1)         38    3.020668\n",
       "Election free and fair (highest score=1)                   38    3.020668\n",
       "Effective Parliament (highest score=1)                     38    3.020668\n",
       "Educational equality (highest score=1)                     38    3.020668\n",
       "Predictable Enforcement (highest score=1)                  38    3.020668"
      ]
     },
     "execution_count": 4,
     "metadata": {},
     "output_type": "execute_result"
    }
   ],
   "source": [
    "# Perform a NaN analysis on the combined DataFrame\n",
    "nan_analysis(df_combined)"
   ]
  },
  {
   "cell_type": "code",
   "execution_count": 5,
   "metadata": {
    "cell_id": "fe7d701c4f354b8da654aab156fe232a",
    "deepnote_cell_type": "code",
    "execution_context_id": "09970542-be90-4974-96be-dbd0065434cf",
    "execution_millis": 0,
    "execution_start": 1743088837462,
    "source_hash": "c9b0ec4e"
   },
   "outputs": [],
   "source": [
    "# Create a function to find the missing countries\n",
    "def missing_countries(df,feature):\n",
    "    return df[df[feature].isna()][['country', 'year', feature]]\n",
    "def select_country(df, country, feature):\n",
    "    return df[df['country'] == country][['year', feature]].copy()\n"
   ]
  },
  {
   "cell_type": "markdown",
   "metadata": {
    "cell_id": "19f3f25e8d60413692bf44a80de63ff2",
    "deepnote_cell_type": "markdown",
    "id": "aa4d8c5a"
   },
   "source": [
    "## 3. Handling Missing Values\n",
    "\n",
    "We identify and handle missing values using appropriate strategies such as imputation or removal."
   ]
  },
  {
   "cell_type": "code",
   "execution_count": 6,
   "metadata": {
    "cell_id": "d3edb23b4a1e4ebca8af7e97b0065914",
    "deepnote_cell_type": "code",
    "execution_context_id": "09970542-be90-4974-96be-dbd0065434cf",
    "execution_millis": 18073,
    "execution_start": 1743088837521,
    "id": "0aa5026a",
    "source_hash": "a775a99d"
   },
   "outputs": [
    {
     "name": "stderr",
     "output_type": "stream",
     "text": [
      "WARNING:root:[WARNING] Best model for ethnicity_ratio in Estonia has MAPE: 0.1077\n",
      "WARNING:root:[WARNING] Best model for ethnicity_ratio in Latvia has MAPE: 0.1077\n",
      "WARNING:root:[WARNING] Best model for ethnicity_ratio in Lithuania has MAPE: 0.1438\n",
      "WARNING:root:[WARNING] Best model for ethnicity_ratio in Slovenia has MAPE: 0.2031\n",
      "WARNING:root:[WARNING] Best model for ethnicity_ratio in Estonia has MAPE: 0.1077\n",
      "WARNING:root:[WARNING] Best model for ethnicity_ratio in Latvia has MAPE: 0.1077\n",
      "WARNING:root:[WARNING] Best model for ethnicity_ratio in Lithuania has MAPE: 0.1438\n",
      "WARNING:root:[WARNING] Best model for ethnicity_ratio in Slovenia has MAPE: 0.2031\n",
      "WARNING:root:[WARNING] Best model for totalrefugees in Austria has MAPE: 5572538402046962688.0000\n",
      "WARNING:root:[WARNING] Best model for totalrefugees in Belgium has MAPE: 1113954974907844864.0000\n",
      "WARNING:root:[WARNING] Best model for totalrefugees in Canada has MAPE: 13631671536901535744.0000\n",
      "WARNING:root:[WARNING] Best model for totalrefugees in Costa Rica has MAPE: 9730662942793345024.0000\n",
      "WARNING:root:[WARNING] Best model for totalrefugees in France has MAPE: 5280454324755291136.0000\n",
      "WARNING:root:[WARNING] Best model for totalrefugees in Germany has MAPE: 34915410190470893568.0000\n",
      "WARNING:root:[WARNING] Best model for totalrefugees in Greece has MAPE: 361225685740402368.0000\n",
      "WARNING:root:[WARNING] Best model for totalrefugees in Hungary has MAPE: 42541500940407685120.0000\n",
      "WARNING:root:[WARNING] Best model for totalrefugees in Israel has MAPE: 13383880515997364224.0000\n",
      "WARNING:root:[WARNING] Best model for totalrefugees in Italy has MAPE: 343689906737905664.0000\n",
      "WARNING:root:[WARNING] Best model for totalrefugees in Mexico has MAPE: 4823436637251829760.0000\n",
      "WARNING:root:[WARNING] Best model for totalrefugees in Norway has MAPE: 8428289211437678592.0000\n",
      "WARNING:root:[WARNING] Best model for totalrefugees in Poland has MAPE: 12268207244616214528.0000\n",
      "WARNING:root:[WARNING] Best model for totalrefugees in Slovenia has MAPE: 19087863340495384576.0000\n",
      "WARNING:root:[WARNING] Best model for totalrefugees in Sweden has MAPE: 4230331263102072320.0000\n",
      "WARNING:root:[WARNING] Best model for totalrefugees in Switzerland has MAPE: 19417037495979286528.0000\n",
      "WARNING:root:[WARNING] Best model for totalrefugees in Turkey has MAPE: 1126826361623150592.0000\n",
      "WARNING:root:[WARNING] Best model for totalrefugees in United States has MAPE: 15050311853237075968.0000\n",
      "WARNING:root:[WARNING] Best model for totalrefugees in Austria has MAPE: 5572538402046962688.0000\n",
      "WARNING:root:[WARNING] Best model for totalrefugees in Belgium has MAPE: 1113954974907844864.0000\n",
      "WARNING:root:[WARNING] Best model for totalrefugees in Canada has MAPE: 13631671536901535744.0000\n",
      "WARNING:root:[WARNING] Best model for totalrefugees in Costa Rica has MAPE: 9730662942793345024.0000\n",
      "WARNING:root:[WARNING] Best model for totalrefugees in France has MAPE: 5280454324755291136.0000\n",
      "WARNING:root:[WARNING] Best model for totalrefugees in Germany has MAPE: 34915410190470893568.0000\n",
      "WARNING:root:[WARNING] Best model for totalrefugees in Greece has MAPE: 361225685740402368.0000\n",
      "WARNING:root:[WARNING] Best model for totalrefugees in Hungary has MAPE: 42541500940407685120.0000\n",
      "WARNING:root:[WARNING] Best model for totalrefugees in Israel has MAPE: 13383880515997364224.0000\n",
      "WARNING:root:[WARNING] Best model for totalrefugees in Italy has MAPE: 343689906737905664.0000\n",
      "WARNING:root:[WARNING] Best model for totalrefugees in Mexico has MAPE: 4823436637251829760.0000\n",
      "WARNING:root:[WARNING] Best model for totalrefugees in Norway has MAPE: 8428289211437678592.0000\n",
      "WARNING:root:[WARNING] Best model for totalrefugees in Poland has MAPE: 12268207244616214528.0000\n",
      "WARNING:root:[WARNING] Best model for totalrefugees in Slovenia has MAPE: 19087863340495384576.0000\n",
      "WARNING:root:[WARNING] Best model for totalrefugees in Sweden has MAPE: 4230331263102072320.0000\n",
      "WARNING:root:[WARNING] Best model for totalrefugees in Switzerland has MAPE: 19417037495979286528.0000\n",
      "WARNING:root:[WARNING] Best model for totalrefugees in Turkey has MAPE: 1126826361623150592.0000\n",
      "WARNING:root:[WARNING] Best model for totalrefugees in United States has MAPE: 15050311853237075968.0000\n",
      "WARNING:root:[WARNING] Best model for Voter turnout (highest score=1) in Chile has MAPE: 0.1511\n",
      "WARNING:root:[WARNING] Best model for Voter turnout (highest score=1) in Ireland has MAPE: 0.1526\n",
      "WARNING:root:[WARNING] Best model for Voter turnout (highest score=1) in Japan has MAPE: 0.1051\n",
      "WARNING:root:[WARNING] Best model for Voter turnout (highest score=1) in South Korea has MAPE: 0.1190\n",
      "WARNING:root:[WARNING] Best model for Voter turnout (highest score=1) in Latvia has MAPE: 0.1485\n",
      "WARNING:root:[WARNING] Best model for Voter turnout (highest score=1) in Mexico has MAPE: 0.1399\n",
      "WARNING:root:[WARNING] Best model for Voter turnout (highest score=1) in Slovenia has MAPE: 0.1530\n",
      "WARNING:root:[WARNING] Best model for Voter turnout (highest score=1) in Slovenia has MAPE: 0.1530\n",
      "WARNING:root:[WARNING] Best model for Voter turnout (highest score=1) in United States has MAPE: 0.1832\n",
      "WARNING:root:[WARNING] Best model for Media freedom (highest score=1) in Colombia has MAPE: 0.2308\n",
      "WARNING:root:[WARNING] Best model for Media freedom (highest score=1) in Czechia has MAPE: 0.1699\n",
      "WARNING:root:[WARNING] Best model for Media freedom (highest score=1) in Estonia has MAPE: 0.2075\n",
      "WARNING:root:[WARNING] Best model for Media freedom (highest score=1) in Finland has MAPE: 0.1592\n",
      "WARNING:root:[WARNING] Best model for Media freedom (highest score=1) in Greece has MAPE: 0.7326\n",
      "WARNING:root:[WARNING] Best model for Media freedom (highest score=1) in Hungary has MAPE: 0.9668\n",
      "WARNING:root:[WARNING] Best model for Media freedom (highest score=1) in Israel has MAPE: 0.2176\n",
      "WARNING:root:[WARNING] Best model for Media freedom (highest score=1) in Italy has MAPE: 0.2470\n",
      "WARNING:root:[WARNING] Best model for Media freedom (highest score=1) in South Korea has MAPE: 0.2534\n",
      "WARNING:root:[WARNING] Best model for Media freedom (highest score=1) in Mexico has MAPE: 0.7282\n",
      "WARNING:root:[WARNING] Best model for Media freedom (highest score=1) in Poland has MAPE: 0.9757\n",
      "WARNING:root:[WARNING] Best model for Media freedom (highest score=1) in Portugal has MAPE: 0.3184\n",
      "WARNING:root:[WARNING] Best model for Media freedom (highest score=1) in Turkey has MAPE: 437846036013056.0000\n",
      "WARNING:root:[WARNING] Best model for Media bias (highest score=1) in Chile has MAPE: 0.1556\n",
      "WARNING:root:[WARNING] Best model for Media bias (highest score=1) in Estonia has MAPE: 0.1353\n",
      "WARNING:root:[WARNING] Best model for Media bias (highest score=1) in Germany has MAPE: 0.1810\n",
      "WARNING:root:[WARNING] Best model for Media bias (highest score=1) in South Korea has MAPE: 0.2215\n",
      "WARNING:root:[WARNING] Best model for Media bias (highest score=1) in Mexico has MAPE: 0.1209\n",
      "WARNING:root:[WARNING] Best model for Media bias (highest score=1) in Poland has MAPE: 0.3317\n",
      "WARNING:root:[WARNING] Best model for Media bias (highest score=1) in Turkey has MAPE: 0.1015\n",
      "WARNING:root:[WARNING] Best model for Judicial Independence (highest score=1) in Poland has MAPE: 0.4221\n",
      "WARNING:root:[WARNING] Best model for Judicial Independence (highest score=1) in Turkey has MAPE: 0.2145\n",
      "WARNING:root:[WARNING] Best model for Health equality (highest score=1) in Poland has MAPE: 0.1393\n",
      "WARNING:root:[WARNING] Best model for Harassment of journalists (highest score=1) in Austria has MAPE: 0.1416\n",
      "WARNING:root:[WARNING] Best model for Harassment of journalists (highest score=1) in Belgium has MAPE: 0.1233\n",
      "WARNING:root:[WARNING] Best model for Harassment of journalists (highest score=1) in Colombia has MAPE: 0.1238\n",
      "WARNING:root:[WARNING] Best model for Harassment of journalists (highest score=1) in Greece has MAPE: 0.1413\n",
      "WARNING:root:[WARNING] Best model for Harassment of journalists (highest score=1) in South Korea has MAPE: 0.1528\n",
      "WARNING:root:[WARNING] Best model for Harassment of journalists (highest score=1) in Poland has MAPE: 0.4921\n",
      "WARNING:root:[WARNING] Best model for Harassment of journalists (highest score=1) in United States has MAPE: 0.2054\n",
      "WARNING:root:[WARNING] Best model for Freedom of the Press (highest score=1) in Austria has MAPE: 0.1039\n",
      "WARNING:root:[WARNING] Best model for Freedom of the Press (highest score=1) in South Korea has MAPE: 0.1598\n",
      "WARNING:root:[WARNING] Best model for Freedom of the Press (highest score=1) in Poland has MAPE: 0.4872\n",
      "WARNING:root:[WARNING] Best model for Freedom of the Press (highest score=1) in Slovenia has MAPE: 0.1412\n",
      "WARNING:root:[WARNING] Best model for Freedom of the Press (highest score=1) in Slovenia has MAPE: 0.1412\n",
      "WARNING:root:[WARNING] Best model for Freedom of the Press (highest score=1) in Turkey has MAPE: 0.1883\n",
      "WARNING:root:[WARNING] Best model for Freedom of the Press (highest score=1) in United States has MAPE: 0.1014\n",
      "WARNING:root:[WARNING] Best model for Freedom of Religion (highest score=1) in Austria has MAPE: 0.2095\n",
      "WARNING:root:[WARNING] Best model for Freedom of Religion (highest score=1) in Canada has MAPE: 0.1224\n",
      "WARNING:root:[WARNING] Best model for Freedom of Religion (highest score=1) in Lithuania has MAPE: 0.1202\n",
      "WARNING:root:[WARNING] Best model for Freedom of Religion (highest score=1) in Turkey has MAPE: 0.1719\n",
      "WARNING:root:[WARNING] Best model for Free Political Parties (highest score=1) in Belgium has MAPE: 0.1133\n",
      "WARNING:root:[WARNING] Best model for Free Political Parties (highest score=1) in Chile has MAPE: 0.2196\n",
      "WARNING:root:[WARNING] Best model for Free Political Parties (highest score=1) in Hungary has MAPE: 0.2516\n",
      "WARNING:root:[WARNING] Best model for Free Political Parties (highest score=1) in Norway has MAPE: 0.1038\n",
      "WARNING:root:[WARNING] Best model for Free Political Parties (highest score=1) in Slovenia has MAPE: 0.1327\n",
      "WARNING:root:[WARNING] Best model for Free Political Parties (highest score=1) in Slovenia has MAPE: 0.1327\n",
      "WARNING:root:[WARNING] Best model for Free Political Parties (highest score=1) in United Kingdom has MAPE: 0.1935\n",
      "WARNING:root:[WARNING] Best model for Free Political Parties (highest score=1) in United States has MAPE: 0.1935\n",
      "WARNING:root:[WARNING] Best model for Fair trial (highest score=1) in Colombia has MAPE: 0.1588\n",
      "WARNING:root:[WARNING] Best model for Fair trial (highest score=1) in Czechia has MAPE: 0.1168\n",
      "WARNING:root:[WARNING] Best model for Fair trial (highest score=1) in Estonia has MAPE: 0.1552\n",
      "WARNING:root:[WARNING] Best model for Fair trial (highest score=1) in South Korea has MAPE: 0.1032\n",
      "WARNING:root:[WARNING] Best model for Fair trial (highest score=1) in Lithuania has MAPE: 0.1368\n",
      "WARNING:root:[WARNING] Best model for Fair trial (highest score=1) in Mexico has MAPE: 0.1120\n",
      "WARNING:root:[WARNING] Best model for Fair trial (highest score=1) in Poland has MAPE: 0.1907\n",
      "WARNING:root:[WARNING] Best model for Fair trial (highest score=1) in Portugal has MAPE: 0.1051\n",
      "WARNING:root:[WARNING] Best model for Fair trial (highest score=1) in Slovenia has MAPE: 0.2701\n",
      "WARNING:root:[WARNING] Best model for Fair trial (highest score=1) in Slovenia has MAPE: 0.2701\n",
      "WARNING:root:[WARNING] Best model for Fair trial (highest score=1) in Spain has MAPE: 0.5016\n",
      "WARNING:root:[WARNING] Best model for Fair trial (highest score=1) in Turkey has MAPE: 1.1148\n",
      "WARNING:root:[WARNING] Best model for Election government intimidation (highest score=1) in Hungary has MAPE: 0.1796\n",
      "WARNING:root:[WARNING] Best model for Election government intimidation (highest score=1) in Mexico has MAPE: 0.1962\n",
      "WARNING:root:[WARNING] Best model for Election government intimidation (highest score=1) in Poland has MAPE: 0.1585\n",
      "WARNING:root:[WARNING] Best model for Election government intimidation (highest score=1) in Turkey has MAPE: 0.2212\n",
      "WARNING:root:[WARNING] Best model for Election government intimidation (highest score=1) in United States has MAPE: 0.1695\n",
      "WARNING:root:[WARNING] Best model for Election free and fair (highest score=1) in Australia has MAPE: 0.1057\n",
      "WARNING:root:[WARNING] Best model for Election free and fair (highest score=1) in Czechia has MAPE: 0.1498\n",
      "WARNING:root:[WARNING] Best model for Election free and fair (highest score=1) in Hungary has MAPE: 0.2489\n",
      "WARNING:root:[WARNING] Best model for Election free and fair (highest score=1) in South Korea has MAPE: 0.1195\n",
      "WARNING:root:[WARNING] Best model for Election free and fair (highest score=1) in Lithuania has MAPE: 0.1346\n",
      "WARNING:root:[WARNING] Best model for Election free and fair (highest score=1) in Poland has MAPE: 0.1465\n",
      "WARNING:root:[WARNING] Best model for Election free and fair (highest score=1) in Turkey has MAPE: 0.2203\n",
      "WARNING:root:[WARNING] Best model for Election free and fair (highest score=1) in United States has MAPE: 0.1300\n",
      "WARNING:root:[WARNING] Best model for Effective Parliament (highest score=1) in Hungary has MAPE: 0.1199\n",
      "WARNING:root:[WARNING] Best model for Effective Parliament (highest score=1) in Poland has MAPE: 0.1680\n",
      "WARNING:root:[WARNING] Best model for Effective Parliament (highest score=1) in Turkey has MAPE: 0.1147\n",
      "WARNING:root:[WARNING] Best model for Effective Parliament (highest score=1) in United States has MAPE: 0.1377\n",
      "WARNING:root:[WARNING] Best model for Educational equality (highest score=1) in Colombia has MAPE: 0.1650\n",
      "WARNING:root:[WARNING] Best model for Educational equality (highest score=1) in Finland has MAPE: 0.2278\n",
      "WARNING:root:[WARNING] Best model for Educational equality (highest score=1) in Slovenia has MAPE: 0.1163\n",
      "WARNING:root:[WARNING] Best model for Educational equality (highest score=1) in Slovenia has MAPE: 0.1163\n",
      "WARNING:root:[WARNING] Best model for Predictable Enforcement (highest score=1) in Estonia has MAPE: 0.1038\n",
      "WARNING:root:[WARNING] Best model for Predictable Enforcement (highest score=1) in Hungary has MAPE: 0.1117\n",
      "WARNING:root:[WARNING] Best model for Predictable Enforcement (highest score=1) in Poland has MAPE: 0.2871\n",
      "WARNING:root:[WARNING] Best model for Predictable Enforcement (highest score=1) in Turkey has MAPE: 0.1881\n",
      "WARNING:root:[WARNING] Best model for Predictable Enforcement (highest score=1) in United States has MAPE: 0.1166\n"
     ]
    }
   ],
   "source": [
    "# Create a function to impute NaN values with regression\n",
    "def fill_missing_with_regression(imported_df, ct, f):\n",
    "    \"\"\"\n",
    "    Fill missing values in the dataset using regression models.\n",
    "\n",
    "    Parameters:\n",
    "        imported_df (pd.DataFrame): The original dataset.\n",
    "        ct (str): Country name to filter data.\n",
    "        f (str): Feature (column) for which missing values will be predicted.\n",
    "\n",
    "    Returns:\n",
    "        pd.DataFrame: Modified DataFrame with filled missing values.\n",
    "    \"\"\"\n",
    "    series = select_country(imported_df, ct, f).copy()\n",
    "    cols = list(series.columns)\n",
    "    year, value = cols[0], cols[1]\n",
    "\n",
    "    known_data = series.dropna(subset=[value]).sort_values(by=[year])\n",
    "\n",
    "    if known_data.empty:\n",
    "        logging.warning(f\"No known data for {ct} - {f}. Cannot perform regression.\")\n",
    "        return imported_df\n",
    "\n",
    "    # Train-test split\n",
    "    split_idx = int(len(known_data) * 0.8)\n",
    "    X_train, X_test = known_data[[year]].iloc[:split_idx], known_data[[year]].iloc[split_idx:]\n",
    "    y_train, y_test = known_data[value].iloc[:split_idx], known_data[value].iloc[split_idx:]\n",
    "\n",
    "    # Train Models\n",
    "    models = {\n",
    "        \"Linear Regression\": LinearRegression(),\n",
    "        \"Polynomial Degree 2\": make_pipeline(PolynomialFeatures(2), LinearRegression()),\n",
    "        \"Polynomial Degree 3\": make_pipeline(PolynomialFeatures(3), LinearRegression())\n",
    "    }\n",
    "\n",
    "    errors = {}\n",
    "    for name, model in models.items():\n",
    "        model.fit(X_train, y_train)\n",
    "        errors[name] = mean_absolute_percentage_error(y_test, model.predict(X_test))\n",
    "\n",
    "    # Select best model\n",
    "    best_model_name = min(errors, key=errors.get)\n",
    "    best_model = models[best_model_name]\n",
    "\n",
    "    if errors[best_model_name] > 0.1:\n",
    "        logging.warning(f\"[WARNING] Best model for {f} in {ct} has MAPE: {errors[best_model_name]:.4f}\")\n",
    "        return imported_df  # Return unchanged\n",
    "\n",
    "    # Predict missing values\n",
    "    missing_years = series[series[value].isna()][[year]].values.reshape(-1, 1)\n",
    "    if len(missing_years) > 0:\n",
    "        predicted_values = np.clip(best_model.predict(missing_years), 0, None)\n",
    "        series.loc[series[value].isna(), value] = predicted_values\n",
    "\n",
    "        # Update original DataFrame\n",
    "        imported_df = imported_df.copy()\n",
    "        imported_df.loc[(imported_df['country'] == ct) & (imported_df[value].isna()), value] = series[value]\n",
    "\n",
    "    return imported_df\n",
    "\n",
    "# Improved iteration logic\n",
    "msng_features = list(nan_analysis(df_combined).index)\n",
    "\n",
    "for feature in msng_features:\n",
    "    msng_countries_list = list(missing_countries(df_combined, feature).country)\n",
    "    for country in msng_countries_list:\n",
    "        df_combined = fill_missing_with_regression(df_combined, country, feature)"
   ]
  },
  {
   "cell_type": "code",
   "execution_count": 7,
   "metadata": {
    "cell_id": "4b221f2606a8473286008f95fbf36004",
    "deepnote_cell_type": "code",
    "execution_context_id": "09970542-be90-4974-96be-dbd0065434cf",
    "execution_millis": 1,
    "execution_start": 1743088855683,
    "id": "f02f3543",
    "source_hash": "efe52a3b"
   },
   "outputs": [
    {
     "data": {
      "application/vnd.deepnote.dataframe.v3+json": {
       "column_count": 2,
       "columns": [
        {
         "dtype": "int64",
         "name": "NaN Count",
         "stats": {
          "histogram": [
           {
            "bin_end": 4.5,
            "bin_start": 1,
            "count": 5
           },
           {
            "bin_end": 8,
            "bin_start": 4.5,
            "count": 5
           },
           {
            "bin_end": 11.5,
            "bin_start": 8,
            "count": 4
           },
           {
            "bin_end": 15,
            "bin_start": 11.5,
            "count": 2
           },
           {
            "bin_end": 18.5,
            "bin_start": 15,
            "count": 0
           },
           {
            "bin_end": 22,
            "bin_start": 18.5,
            "count": 0
           },
           {
            "bin_end": 25.5,
            "bin_start": 22,
            "count": 0
           },
           {
            "bin_end": 29,
            "bin_start": 25.5,
            "count": 0
           },
           {
            "bin_end": 32.5,
            "bin_start": 29,
            "count": 0
           },
           {
            "bin_end": 36,
            "bin_start": 32.5,
            "count": 1
           }
          ],
          "max": "36",
          "min": "1",
          "nan_count": 0,
          "unique_count": 10
         }
        },
        {
         "dtype": "float64",
         "name": "Percentage",
         "stats": {
          "histogram": [
           {
            "bin_end": 0.3577106518282989,
            "bin_start": 0.0794912559618442,
            "count": 5
           },
           {
            "bin_end": 0.6359300476947536,
            "bin_start": 0.3577106518282989,
            "count": 5
           },
           {
            "bin_end": 0.9141494435612083,
            "bin_start": 0.6359300476947536,
            "count": 4
           },
           {
            "bin_end": 1.192368839427663,
            "bin_start": 0.9141494435612083,
            "count": 2
           },
           {
            "bin_end": 1.4705882352941178,
            "bin_start": 1.192368839427663,
            "count": 0
           },
           {
            "bin_end": 1.7488076311605725,
            "bin_start": 1.4705882352941178,
            "count": 0
           },
           {
            "bin_end": 2.027027027027027,
            "bin_start": 1.7488076311605725,
            "count": 0
           },
           {
            "bin_end": 2.305246422893482,
            "bin_start": 2.027027027027027,
            "count": 0
           },
           {
            "bin_end": 2.5834658187599366,
            "bin_start": 2.305246422893482,
            "count": 0
           },
           {
            "bin_end": 2.8616852146263914,
            "bin_start": 2.5834658187599366,
            "count": 1
           }
          ],
          "max": "2.8616852146263914",
          "min": "0.0794912559618442",
          "nan_count": 0,
          "unique_count": 10
         }
        },
        {
         "dtype": "object",
         "name": "_deepnote_index_column"
        }
       ],
       "row_count": 17,
       "rows": [
        {
         "NaN Count": 36,
         "Percentage": 2.8616852146263914,
         "_deepnote_index_column": "totalrefugees"
        },
        {
         "NaN Count": 13,
         "Percentage": 1.0333863275039745,
         "_deepnote_index_column": "Media freedom (highest score=1)"
        },
        {
         "NaN Count": 12,
         "Percentage": 0.9538950715421303,
         "_deepnote_index_column": "Fair trial (highest score=1)"
        },
        {
         "NaN Count": 9,
         "Percentage": 0.7154213036565978,
         "_deepnote_index_column": "Voter turnout (highest score=1)"
        },
        {
         "NaN Count": 8,
         "Percentage": 0.6359300476947536,
         "_deepnote_index_column": "Election free and fair (highest score=1)"
        },
        {
         "NaN Count": 8,
         "Percentage": 0.6359300476947536,
         "_deepnote_index_column": "Free Political Parties (highest score=1)"
        },
        {
         "NaN Count": 8,
         "Percentage": 0.6359300476947536,
         "_deepnote_index_column": "ethnicity_ratio"
        },
        {
         "NaN Count": 7,
         "Percentage": 0.5564387917329093,
         "_deepnote_index_column": "Freedom of the Press (highest score=1)"
        },
        {
         "NaN Count": 7,
         "Percentage": 0.5564387917329093,
         "_deepnote_index_column": "Media bias (highest score=1)"
        },
        {
         "NaN Count": 7,
         "Percentage": 0.5564387917329093,
         "_deepnote_index_column": "Harassment of journalists (highest score=1)"
        }
       ],
       "type": "dataframe"
      },
      "text/html": [
       "<div>\n",
       "<style scoped>\n",
       "    .dataframe tbody tr th:only-of-type {\n",
       "        vertical-align: middle;\n",
       "    }\n",
       "\n",
       "    .dataframe tbody tr th {\n",
       "        vertical-align: top;\n",
       "    }\n",
       "\n",
       "    .dataframe thead th {\n",
       "        text-align: right;\n",
       "    }\n",
       "</style>\n",
       "<table border=\"1\" class=\"dataframe\">\n",
       "  <thead>\n",
       "    <tr style=\"text-align: right;\">\n",
       "      <th></th>\n",
       "      <th>NaN Count</th>\n",
       "      <th>Percentage</th>\n",
       "    </tr>\n",
       "  </thead>\n",
       "  <tbody>\n",
       "    <tr>\n",
       "      <th>totalrefugees</th>\n",
       "      <td>36</td>\n",
       "      <td>2.861685</td>\n",
       "    </tr>\n",
       "    <tr>\n",
       "      <th>Media freedom (highest score=1)</th>\n",
       "      <td>13</td>\n",
       "      <td>1.033386</td>\n",
       "    </tr>\n",
       "    <tr>\n",
       "      <th>Fair trial (highest score=1)</th>\n",
       "      <td>12</td>\n",
       "      <td>0.953895</td>\n",
       "    </tr>\n",
       "    <tr>\n",
       "      <th>Voter turnout (highest score=1)</th>\n",
       "      <td>9</td>\n",
       "      <td>0.715421</td>\n",
       "    </tr>\n",
       "    <tr>\n",
       "      <th>Election free and fair (highest score=1)</th>\n",
       "      <td>8</td>\n",
       "      <td>0.635930</td>\n",
       "    </tr>\n",
       "    <tr>\n",
       "      <th>Free Political Parties (highest score=1)</th>\n",
       "      <td>8</td>\n",
       "      <td>0.635930</td>\n",
       "    </tr>\n",
       "    <tr>\n",
       "      <th>ethnicity_ratio</th>\n",
       "      <td>8</td>\n",
       "      <td>0.635930</td>\n",
       "    </tr>\n",
       "    <tr>\n",
       "      <th>Freedom of the Press (highest score=1)</th>\n",
       "      <td>7</td>\n",
       "      <td>0.556439</td>\n",
       "    </tr>\n",
       "    <tr>\n",
       "      <th>Media bias (highest score=1)</th>\n",
       "      <td>7</td>\n",
       "      <td>0.556439</td>\n",
       "    </tr>\n",
       "    <tr>\n",
       "      <th>Harassment of journalists (highest score=1)</th>\n",
       "      <td>7</td>\n",
       "      <td>0.556439</td>\n",
       "    </tr>\n",
       "    <tr>\n",
       "      <th>Election government intimidation (highest score=1)</th>\n",
       "      <td>5</td>\n",
       "      <td>0.397456</td>\n",
       "    </tr>\n",
       "    <tr>\n",
       "      <th>Predictable Enforcement (highest score=1)</th>\n",
       "      <td>5</td>\n",
       "      <td>0.397456</td>\n",
       "    </tr>\n",
       "    <tr>\n",
       "      <th>Educational equality (highest score=1)</th>\n",
       "      <td>4</td>\n",
       "      <td>0.317965</td>\n",
       "    </tr>\n",
       "    <tr>\n",
       "      <th>Freedom of Religion (highest score=1)</th>\n",
       "      <td>4</td>\n",
       "      <td>0.317965</td>\n",
       "    </tr>\n",
       "    <tr>\n",
       "      <th>Effective Parliament (highest score=1)</th>\n",
       "      <td>4</td>\n",
       "      <td>0.317965</td>\n",
       "    </tr>\n",
       "    <tr>\n",
       "      <th>Judicial Independence (highest score=1)</th>\n",
       "      <td>2</td>\n",
       "      <td>0.158983</td>\n",
       "    </tr>\n",
       "    <tr>\n",
       "      <th>Health equality (highest score=1)</th>\n",
       "      <td>1</td>\n",
       "      <td>0.079491</td>\n",
       "    </tr>\n",
       "  </tbody>\n",
       "</table>\n",
       "</div>"
      ],
      "text/plain": [
       "                                                    NaN Count  Percentage\n",
       "totalrefugees                                              36    2.861685\n",
       "Media freedom (highest score=1)                            13    1.033386\n",
       "Fair trial (highest score=1)                               12    0.953895\n",
       "Voter turnout (highest score=1)                             9    0.715421\n",
       "Election free and fair (highest score=1)                    8    0.635930\n",
       "Free Political Parties (highest score=1)                    8    0.635930\n",
       "ethnicity_ratio                                             8    0.635930\n",
       "Freedom of the Press (highest score=1)                      7    0.556439\n",
       "Media bias (highest score=1)                                7    0.556439\n",
       "Harassment of journalists (highest score=1)                 7    0.556439\n",
       "Election government intimidation (highest score=1)          5    0.397456\n",
       "Predictable Enforcement (highest score=1)                   5    0.397456\n",
       "Educational equality (highest score=1)                      4    0.317965\n",
       "Freedom of Religion (highest score=1)                       4    0.317965\n",
       "Effective Parliament (highest score=1)                      4    0.317965\n",
       "Judicial Independence (highest score=1)                     2    0.158983\n",
       "Health equality (highest score=1)                           1    0.079491"
      ]
     },
     "execution_count": 7,
     "metadata": {},
     "output_type": "execute_result"
    }
   ],
   "source": [
    "# Perform a Nan analysis after imputation with regression\n",
    "nan_analysis(df_combined)"
   ]
  },
  {
   "cell_type": "code",
   "execution_count": 8,
   "metadata": {
    "cell_id": "e31c2f8255ba47c798f97a4c3e1ff1a1",
    "deepnote_cell_type": "code",
    "execution_context_id": "09970542-be90-4974-96be-dbd0065434cf",
    "execution_millis": 0,
    "execution_start": 1743088855751,
    "id": "eae56a08",
    "source_hash": "7b8fbb3f"
   },
   "outputs": [],
   "source": [
    "# Create a function to impute NaN values with the nearest value\n",
    "def impute_nearest(df, country, col_name):\n",
    "    df_imputed = select_country(df, country, col_name)\n",
    "    cols = list(df_imputed.columns)\n",
    "    year, value = cols[0], cols[1]\n",
    "\n",
    "    df_imputed[value] = df_imputed[value].fillna(method=\"ffill\")\n",
    "    df_imputed[value] = df_imputed[value].fillna(method=\"bfill\")\n",
    "\n",
    "    if df_imputed[value].isna().sum() > 0:\n",
    "        last_valid_index = df_imputed[value].last_valid_index()\n",
    "        if last_valid_index is not None:\n",
    "            df_imputed[value].fillna(df_imputed[value].iloc[last_valid_index], inplace=True)\n",
    "\n",
    "    df = df.copy()\n",
    "    df.loc[(df[\"country\"] == country), value] = df_imputed[value]\n",
    "\n",
    "    return df"
   ]
  },
  {
   "cell_type": "code",
   "execution_count": 9,
   "metadata": {
    "cell_id": "c3c6bd0bcec740fabc44d2e81c229572",
    "deepnote_cell_type": "code",
    "execution_context_id": "09970542-be90-4974-96be-dbd0065434cf",
    "execution_millis": 1,
    "execution_start": 1743088855811,
    "id": "33000186",
    "source_hash": "48db7bdf"
   },
   "outputs": [
    {
     "data": {
      "text/plain": [
       "['totalrefugees',\n",
       " 'Media freedom (highest score=1)',\n",
       " 'Fair trial (highest score=1)',\n",
       " 'Voter turnout (highest score=1)',\n",
       " 'Election free and fair (highest score=1)',\n",
       " 'Free Political Parties (highest score=1)',\n",
       " 'ethnicity_ratio',\n",
       " 'Freedom of the Press (highest score=1)',\n",
       " 'Media bias (highest score=1)',\n",
       " 'Harassment of journalists (highest score=1)',\n",
       " 'Election government intimidation (highest score=1)',\n",
       " 'Predictable Enforcement (highest score=1)',\n",
       " 'Educational equality (highest score=1)',\n",
       " 'Freedom of Religion (highest score=1)',\n",
       " 'Effective Parliament (highest score=1)',\n",
       " 'Judicial Independence (highest score=1)',\n",
       " 'Health equality (highest score=1)']"
      ]
     },
     "execution_count": 9,
     "metadata": {},
     "output_type": "execute_result"
    }
   ],
   "source": [
    "# Create a list of features with missing values\n",
    "msng_features = list(nan_analysis(df_combined).index);msng_features"
   ]
  },
  {
   "cell_type": "code",
   "execution_count": 10,
   "metadata": {
    "cell_id": "305e06b71519451b93c9b4b214ee41ad",
    "deepnote_cell_type": "code",
    "execution_context_id": "09970542-be90-4974-96be-dbd0065434cf",
    "execution_millis": 0,
    "execution_start": 1743088855862,
    "id": "d1073611",
    "source_hash": "ef622586"
   },
   "outputs": [
    {
     "data": {
      "text/plain": [
       "['Austria',\n",
       " 'Belgium',\n",
       " 'Canada',\n",
       " 'Costa Rica',\n",
       " 'France',\n",
       " 'Germany',\n",
       " 'Greece',\n",
       " 'Hungary',\n",
       " 'Israel',\n",
       " 'Italy',\n",
       " 'Mexico',\n",
       " 'Norway',\n",
       " 'Poland',\n",
       " 'Slovenia',\n",
       " 'Sweden',\n",
       " 'Switzerland',\n",
       " 'Turkey',\n",
       " 'United States',\n",
       " 'Austria',\n",
       " 'Belgium',\n",
       " 'Canada',\n",
       " 'Costa Rica',\n",
       " 'France',\n",
       " 'Germany',\n",
       " 'Greece',\n",
       " 'Hungary',\n",
       " 'Israel',\n",
       " 'Italy',\n",
       " 'Mexico',\n",
       " 'Norway',\n",
       " 'Poland',\n",
       " 'Slovenia',\n",
       " 'Sweden',\n",
       " 'Switzerland',\n",
       " 'Turkey',\n",
       " 'United States']"
      ]
     },
     "execution_count": 10,
     "metadata": {},
     "output_type": "execute_result"
    }
   ],
   "source": [
    "# Create a list of countries with missing values\n",
    "msng_countries_list=list(missing_countries(df_combined,'totalrefugees').country);msng_countries_list"
   ]
  },
  {
   "cell_type": "code",
   "execution_count": 11,
   "metadata": {
    "cell_id": "bdaf4d9aea2b4e4fa3d8465f398b419d",
    "deepnote_cell_type": "code",
    "execution_context_id": "09970542-be90-4974-96be-dbd0065434cf",
    "execution_millis": 408,
    "execution_start": 1743088855911,
    "id": "39b9dfda",
    "source_hash": "d417de8"
   },
   "outputs": [],
   "source": [
    "# Impute missing values with the nearest value\n",
    "for i in msng_features:\n",
    "    msng_countries_list=list(missing_countries(df_combined,i).country)\n",
    "    for j in msng_countries_list:\n",
    "        df_combined=impute_nearest(df_combined, j, i)"
   ]
  },
  {
   "cell_type": "code",
   "execution_count": 12,
   "metadata": {
    "cell_id": "b2fc6fdc17cc480e90422ae8479058b3",
    "deepnote_cell_type": "code",
    "execution_context_id": "09970542-be90-4974-96be-dbd0065434cf",
    "execution_millis": 0,
    "execution_start": 1743088856382,
    "id": "e6d7c328",
    "source_hash": "72fb66c3"
   },
   "outputs": [
    {
     "data": {
      "application/vnd.deepnote.dataframe.v3+json": {
       "column_count": 2,
       "columns": [
        {
         "dtype": "int64",
         "name": "NaN Count",
         "stats": {
          "histogram": [
           {
            "bin_end": 0.1,
            "bin_start": 0,
            "count": 0
           },
           {
            "bin_end": 0.2,
            "bin_start": 0.1,
            "count": 0
           },
           {
            "bin_end": 0.30000000000000004,
            "bin_start": 0.2,
            "count": 0
           },
           {
            "bin_end": 0.4,
            "bin_start": 0.30000000000000004,
            "count": 0
           },
           {
            "bin_end": 0.5,
            "bin_start": 0.4,
            "count": 0
           },
           {
            "bin_end": 0.6000000000000001,
            "bin_start": 0.5,
            "count": 0
           },
           {
            "bin_end": 0.7000000000000001,
            "bin_start": 0.6000000000000001,
            "count": 0
           },
           {
            "bin_end": 0.8,
            "bin_start": 0.7000000000000001,
            "count": 0
           },
           {
            "bin_end": 0.9,
            "bin_start": 0.8,
            "count": 0
           },
           {
            "bin_end": 1,
            "bin_start": 0.9,
            "count": 0
           }
          ],
          "max": null,
          "min": null,
          "nan_count": 0,
          "unique_count": 0
         }
        },
        {
         "dtype": "float64",
         "name": "Percentage",
         "stats": {
          "histogram": [
           {
            "bin_end": 0.1,
            "bin_start": 0,
            "count": 0
           },
           {
            "bin_end": 0.2,
            "bin_start": 0.1,
            "count": 0
           },
           {
            "bin_end": 0.30000000000000004,
            "bin_start": 0.2,
            "count": 0
           },
           {
            "bin_end": 0.4,
            "bin_start": 0.30000000000000004,
            "count": 0
           },
           {
            "bin_end": 0.5,
            "bin_start": 0.4,
            "count": 0
           },
           {
            "bin_end": 0.6000000000000001,
            "bin_start": 0.5,
            "count": 0
           },
           {
            "bin_end": 0.7000000000000001,
            "bin_start": 0.6000000000000001,
            "count": 0
           },
           {
            "bin_end": 0.8,
            "bin_start": 0.7000000000000001,
            "count": 0
           },
           {
            "bin_end": 0.9,
            "bin_start": 0.8,
            "count": 0
           },
           {
            "bin_end": 1,
            "bin_start": 0.9,
            "count": 0
           }
          ],
          "max": null,
          "min": null,
          "nan_count": 0,
          "unique_count": 0
         }
        },
        {
         "dtype": "object",
         "name": "_deepnote_index_column"
        }
       ],
       "row_count": 0,
       "rows": [],
       "type": "dataframe"
      },
      "text/html": [
       "<div>\n",
       "<style scoped>\n",
       "    .dataframe tbody tr th:only-of-type {\n",
       "        vertical-align: middle;\n",
       "    }\n",
       "\n",
       "    .dataframe tbody tr th {\n",
       "        vertical-align: top;\n",
       "    }\n",
       "\n",
       "    .dataframe thead th {\n",
       "        text-align: right;\n",
       "    }\n",
       "</style>\n",
       "<table border=\"1\" class=\"dataframe\">\n",
       "  <thead>\n",
       "    <tr style=\"text-align: right;\">\n",
       "      <th></th>\n",
       "      <th>NaN Count</th>\n",
       "      <th>Percentage</th>\n",
       "    </tr>\n",
       "  </thead>\n",
       "  <tbody>\n",
       "  </tbody>\n",
       "</table>\n",
       "</div>"
      ],
      "text/plain": [
       "Empty DataFrame\n",
       "Columns: [NaN Count, Percentage]\n",
       "Index: []"
      ]
     },
     "execution_count": 12,
     "metadata": {},
     "output_type": "execute_result"
    }
   ],
   "source": [
    "# Perform a NaN analysis after imputation with the nearest value\n",
    "nan_analysis(df_combined)"
   ]
  },
  {
   "cell_type": "markdown",
   "metadata": {
    "cell_id": "e0d4e2077c5d4eaaa900cff571b4e5cd",
    "deepnote_cell_type": "markdown",
    "id": "TIrTwg2ZJ-z-"
   },
   "source": [
    "## 4. Export the Imputed Dataset\n",
    "\n",
    "After imputing, we save the final dataset for further analysis."
   ]
  },
  {
   "cell_type": "code",
   "execution_count": 13,
   "metadata": {
    "cell_id": "208a00d495194794a7c595e0bbdc9be3",
    "deepnote_cell_type": "code",
    "execution_context_id": "09970542-be90-4974-96be-dbd0065434cf",
    "execution_millis": 0,
    "execution_start": 1743088856441,
    "id": "ffa015ed",
    "source_hash": "94d80be9"
   },
   "outputs": [],
   "source": [
    "# Export the CSV\n",
    "df_combined.to_csv('combined-without-engineering.csv', index=False)"
   ]
  }
 ],
 "metadata": {
  "deepnote_notebook_id": "58015eab66bc4084950b6be3d836fa09",
  "deepnote_persisted_session": {
   "createdAt": "2025-03-27T15:35:25.470Z"
  },
  "kernelspec": {
   "display_name": "Python 3 (ipykernel)",
   "language": "python",
   "name": "python3"
  },
  "language_info": {
   "codemirror_mode": {
    "name": "ipython",
    "version": 3
   },
   "file_extension": ".py",
   "mimetype": "text/x-python",
   "name": "python",
   "nbconvert_exporter": "python",
   "pygments_lexer": "ipython3",
   "version": "3.12.4"
  }
 },
 "nbformat": 4,
 "nbformat_minor": 4
}
