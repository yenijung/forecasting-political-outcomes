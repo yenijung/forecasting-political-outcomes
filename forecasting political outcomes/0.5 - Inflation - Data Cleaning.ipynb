{
 "cells": [
  {
   "cell_type": "code",
   "execution_count": 1,
   "metadata": {
    "cell_id": "c0acd82994fe488a8ea860f398e6d57a",
    "deepnote_cell_type": "code",
    "execution_context_id": "8d65cd50-877a-4195-8794-e5c7ef350032",
    "execution_millis": 1371,
    "execution_start": 1740937307644,
    "id": "cwOF1_cDtZux",
    "source_hash": "35286e06"
   },
   "outputs": [],
   "source": [
    "# Import the libraries\n",
    "import pandas as pd\n",
    "import numpy as np\n",
    "import matplotlib.pyplot as plt\n",
    "import seaborn as sns\n",
    "\n",
    "import warnings\n",
    "warnings.filterwarnings('ignore')"
   ]
  },
  {
   "cell_type": "code",
   "execution_count": 2,
   "metadata": {
    "cell_id": "2c7056b6689c4443bd9ea9dcd4603b45",
    "deepnote_cell_type": "code",
    "execution_context_id": "8d65cd50-877a-4195-8794-e5c7ef350032",
    "execution_millis": 439,
    "execution_start": 1740937309080,
    "id": "3FPA2iOXtfUe",
    "source_hash": "5ed1f350"
   },
   "outputs": [],
   "source": [
    "# Load the data\n",
    "INF = pd.read_csv(\"/dataset/economic/Inflation.csv\")"
   ]
  },
  {
   "cell_type": "code",
   "execution_count": 3,
   "metadata": {
    "cell_id": "827d0b2868ae48c3b3d9dc3a930f5234",
    "colab": {
     "base_uri": "https://localhost:8080/",
     "height": 503
    },
    "deepnote_cell_type": "code",
    "execution_context_id": "8d65cd50-877a-4195-8794-e5c7ef350032",
    "execution_millis": 191,
    "execution_start": 1740937309581,
    "id": "hOshE1AntitW",
    "outputId": "0fb8180d-9ca0-4ca8-c18f-30fcd11bf2d3",
    "source_hash": "d4a53f5f"
   },
   "outputs": [
    {
     "data": {
      "application/vnd.deepnote.dataframe.v3+json": {
       "column_count": 68,
       "columns": [
        {
         "dtype": "object",
         "name": "Country Name",
         "stats": {
          "categories": [
           {
            "count": 1,
            "name": "Aruba"
           },
           {
            "count": 1,
            "name": "Africa Eastern and Southern"
           },
           {
            "count": 3,
            "name": "3 others"
           }
          ],
          "nan_count": 0,
          "unique_count": 5
         }
        },
        {
         "dtype": "object",
         "name": "Country Code",
         "stats": {
          "categories": [
           {
            "count": 1,
            "name": "ABW"
           },
           {
            "count": 1,
            "name": "AFE"
           },
           {
            "count": 3,
            "name": "3 others"
           }
          ],
          "nan_count": 0,
          "unique_count": 5
         }
        },
        {
         "dtype": "object",
         "name": "Indicator Name",
         "stats": {
          "categories": [
           {
            "count": 5,
            "name": "Inflation, consumer prices (annual %)"
           }
          ],
          "nan_count": 0,
          "unique_count": 1
         }
        },
        {
         "dtype": "object",
         "name": "Indicator Code",
         "stats": {
          "categories": [
           {
            "count": 5,
            "name": "FP.CPI.TOTL.ZG"
           }
          ],
          "nan_count": 0,
          "unique_count": 1
         }
        },
        {
         "dtype": "float64",
         "name": "1960",
         "stats": {
          "histogram": [
           {
            "bin_end": 0.1,
            "bin_start": 0,
            "count": 0
           },
           {
            "bin_end": 0.2,
            "bin_start": 0.1,
            "count": 0
           },
           {
            "bin_end": 0.30000000000000004,
            "bin_start": 0.2,
            "count": 0
           },
           {
            "bin_end": 0.4,
            "bin_start": 0.30000000000000004,
            "count": 0
           },
           {
            "bin_end": 0.5,
            "bin_start": 0.4,
            "count": 0
           },
           {
            "bin_end": 0.6000000000000001,
            "bin_start": 0.5,
            "count": 0
           },
           {
            "bin_end": 0.7000000000000001,
            "bin_start": 0.6000000000000001,
            "count": 0
           },
           {
            "bin_end": 0.8,
            "bin_start": 0.7000000000000001,
            "count": 0
           },
           {
            "bin_end": 0.9,
            "bin_start": 0.8,
            "count": 0
           },
           {
            "bin_end": 1,
            "bin_start": 0.9,
            "count": 0
           }
          ],
          "max": null,
          "min": null,
          "nan_count": 5,
          "unique_count": 0
         }
        },
        {
         "dtype": "float64",
         "name": "1961",
         "stats": {
          "histogram": [
           {
            "bin_end": 0.1,
            "bin_start": 0,
            "count": 0
           },
           {
            "bin_end": 0.2,
            "bin_start": 0.1,
            "count": 0
           },
           {
            "bin_end": 0.30000000000000004,
            "bin_start": 0.2,
            "count": 0
           },
           {
            "bin_end": 0.4,
            "bin_start": 0.30000000000000004,
            "count": 0
           },
           {
            "bin_end": 0.5,
            "bin_start": 0.4,
            "count": 0
           },
           {
            "bin_end": 0.6000000000000001,
            "bin_start": 0.5,
            "count": 0
           },
           {
            "bin_end": 0.7000000000000001,
            "bin_start": 0.6000000000000001,
            "count": 0
           },
           {
            "bin_end": 0.8,
            "bin_start": 0.7000000000000001,
            "count": 0
           },
           {
            "bin_end": 0.9,
            "bin_start": 0.8,
            "count": 0
           },
           {
            "bin_end": 1,
            "bin_start": 0.9,
            "count": 0
           }
          ],
          "max": null,
          "min": null,
          "nan_count": 5,
          "unique_count": 0
         }
        },
        {
         "dtype": "float64",
         "name": "1962",
         "stats": {
          "histogram": [
           {
            "bin_end": 0.1,
            "bin_start": 0,
            "count": 0
           },
           {
            "bin_end": 0.2,
            "bin_start": 0.1,
            "count": 0
           },
           {
            "bin_end": 0.30000000000000004,
            "bin_start": 0.2,
            "count": 0
           },
           {
            "bin_end": 0.4,
            "bin_start": 0.30000000000000004,
            "count": 0
           },
           {
            "bin_end": 0.5,
            "bin_start": 0.4,
            "count": 0
           },
           {
            "bin_end": 0.6000000000000001,
            "bin_start": 0.5,
            "count": 0
           },
           {
            "bin_end": 0.7000000000000001,
            "bin_start": 0.6000000000000001,
            "count": 0
           },
           {
            "bin_end": 0.8,
            "bin_start": 0.7000000000000001,
            "count": 0
           },
           {
            "bin_end": 0.9,
            "bin_start": 0.8,
            "count": 0
           },
           {
            "bin_end": 1,
            "bin_start": 0.9,
            "count": 0
           }
          ],
          "max": null,
          "min": null,
          "nan_count": 5,
          "unique_count": 0
         }
        },
        {
         "dtype": "float64",
         "name": "1963",
         "stats": {
          "histogram": [
           {
            "bin_end": 0.1,
            "bin_start": 0,
            "count": 0
           },
           {
            "bin_end": 0.2,
            "bin_start": 0.1,
            "count": 0
           },
           {
            "bin_end": 0.30000000000000004,
            "bin_start": 0.2,
            "count": 0
           },
           {
            "bin_end": 0.4,
            "bin_start": 0.30000000000000004,
            "count": 0
           },
           {
            "bin_end": 0.5,
            "bin_start": 0.4,
            "count": 0
           },
           {
            "bin_end": 0.6000000000000001,
            "bin_start": 0.5,
            "count": 0
           },
           {
            "bin_end": 0.7000000000000001,
            "bin_start": 0.6000000000000001,
            "count": 0
           },
           {
            "bin_end": 0.8,
            "bin_start": 0.7000000000000001,
            "count": 0
           },
           {
            "bin_end": 0.9,
            "bin_start": 0.8,
            "count": 0
           },
           {
            "bin_end": 1,
            "bin_start": 0.9,
            "count": 0
           }
          ],
          "max": null,
          "min": null,
          "nan_count": 5,
          "unique_count": 0
         }
        },
        {
         "dtype": "float64",
         "name": "1964",
         "stats": {
          "histogram": [
           {
            "bin_end": 0.1,
            "bin_start": 0,
            "count": 0
           },
           {
            "bin_end": 0.2,
            "bin_start": 0.1,
            "count": 0
           },
           {
            "bin_end": 0.30000000000000004,
            "bin_start": 0.2,
            "count": 0
           },
           {
            "bin_end": 0.4,
            "bin_start": 0.30000000000000004,
            "count": 0
           },
           {
            "bin_end": 0.5,
            "bin_start": 0.4,
            "count": 0
           },
           {
            "bin_end": 0.6000000000000001,
            "bin_start": 0.5,
            "count": 0
           },
           {
            "bin_end": 0.7000000000000001,
            "bin_start": 0.6000000000000001,
            "count": 0
           },
           {
            "bin_end": 0.8,
            "bin_start": 0.7000000000000001,
            "count": 0
           },
           {
            "bin_end": 0.9,
            "bin_start": 0.8,
            "count": 0
           },
           {
            "bin_end": 1,
            "bin_start": 0.9,
            "count": 0
           }
          ],
          "max": null,
          "min": null,
          "nan_count": 5,
          "unique_count": 0
         }
        },
        {
         "dtype": "float64",
         "name": "1965",
         "stats": {
          "histogram": [
           {
            "bin_end": 0.1,
            "bin_start": 0,
            "count": 0
           },
           {
            "bin_end": 0.2,
            "bin_start": 0.1,
            "count": 0
           },
           {
            "bin_end": 0.30000000000000004,
            "bin_start": 0.2,
            "count": 0
           },
           {
            "bin_end": 0.4,
            "bin_start": 0.30000000000000004,
            "count": 0
           },
           {
            "bin_end": 0.5,
            "bin_start": 0.4,
            "count": 0
           },
           {
            "bin_end": 0.6000000000000001,
            "bin_start": 0.5,
            "count": 0
           },
           {
            "bin_end": 0.7000000000000001,
            "bin_start": 0.6000000000000001,
            "count": 0
           },
           {
            "bin_end": 0.8,
            "bin_start": 0.7000000000000001,
            "count": 0
           },
           {
            "bin_end": 0.9,
            "bin_start": 0.8,
            "count": 0
           },
           {
            "bin_end": 1,
            "bin_start": 0.9,
            "count": 0
           }
          ],
          "max": null,
          "min": null,
          "nan_count": 5,
          "unique_count": 0
         }
        },
        {
         "dtype": "float64",
         "name": "1966",
         "stats": {
          "histogram": [
           {
            "bin_end": 0.1,
            "bin_start": 0,
            "count": 0
           },
           {
            "bin_end": 0.2,
            "bin_start": 0.1,
            "count": 0
           },
           {
            "bin_end": 0.30000000000000004,
            "bin_start": 0.2,
            "count": 0
           },
           {
            "bin_end": 0.4,
            "bin_start": 0.30000000000000004,
            "count": 0
           },
           {
            "bin_end": 0.5,
            "bin_start": 0.4,
            "count": 0
           },
           {
            "bin_end": 0.6000000000000001,
            "bin_start": 0.5,
            "count": 0
           },
           {
            "bin_end": 0.7000000000000001,
            "bin_start": 0.6000000000000001,
            "count": 0
           },
           {
            "bin_end": 0.8,
            "bin_start": 0.7000000000000001,
            "count": 0
           },
           {
            "bin_end": 0.9,
            "bin_start": 0.8,
            "count": 0
           },
           {
            "bin_end": 1,
            "bin_start": 0.9,
            "count": 0
           }
          ],
          "max": null,
          "min": null,
          "nan_count": 5,
          "unique_count": 0
         }
        },
        {
         "dtype": "float64",
         "name": "1967",
         "stats": {
          "histogram": [
           {
            "bin_end": 0.1,
            "bin_start": 0,
            "count": 0
           },
           {
            "bin_end": 0.2,
            "bin_start": 0.1,
            "count": 0
           },
           {
            "bin_end": 0.30000000000000004,
            "bin_start": 0.2,
            "count": 0
           },
           {
            "bin_end": 0.4,
            "bin_start": 0.30000000000000004,
            "count": 0
           },
           {
            "bin_end": 0.5,
            "bin_start": 0.4,
            "count": 0
           },
           {
            "bin_end": 0.6000000000000001,
            "bin_start": 0.5,
            "count": 0
           },
           {
            "bin_end": 0.7000000000000001,
            "bin_start": 0.6000000000000001,
            "count": 0
           },
           {
            "bin_end": 0.8,
            "bin_start": 0.7000000000000001,
            "count": 0
           },
           {
            "bin_end": 0.9,
            "bin_start": 0.8,
            "count": 0
           },
           {
            "bin_end": 1,
            "bin_start": 0.9,
            "count": 0
           }
          ],
          "max": null,
          "min": null,
          "nan_count": 5,
          "unique_count": 0
         }
        },
        {
         "dtype": "float64",
         "name": "1968",
         "stats": {
          "histogram": [
           {
            "bin_end": 0.1,
            "bin_start": 0,
            "count": 0
           },
           {
            "bin_end": 0.2,
            "bin_start": 0.1,
            "count": 0
           },
           {
            "bin_end": 0.30000000000000004,
            "bin_start": 0.2,
            "count": 0
           },
           {
            "bin_end": 0.4,
            "bin_start": 0.30000000000000004,
            "count": 0
           },
           {
            "bin_end": 0.5,
            "bin_start": 0.4,
            "count": 0
           },
           {
            "bin_end": 0.6000000000000001,
            "bin_start": 0.5,
            "count": 0
           },
           {
            "bin_end": 0.7000000000000001,
            "bin_start": 0.6000000000000001,
            "count": 0
           },
           {
            "bin_end": 0.8,
            "bin_start": 0.7000000000000001,
            "count": 0
           },
           {
            "bin_end": 0.9,
            "bin_start": 0.8,
            "count": 0
           },
           {
            "bin_end": 1,
            "bin_start": 0.9,
            "count": 0
           }
          ],
          "max": null,
          "min": null,
          "nan_count": 5,
          "unique_count": 0
         }
        },
        {
         "dtype": "float64",
         "name": "1969",
         "stats": {
          "histogram": [
           {
            "bin_end": 0.1,
            "bin_start": 0,
            "count": 0
           },
           {
            "bin_end": 0.2,
            "bin_start": 0.1,
            "count": 0
           },
           {
            "bin_end": 0.30000000000000004,
            "bin_start": 0.2,
            "count": 0
           },
           {
            "bin_end": 0.4,
            "bin_start": 0.30000000000000004,
            "count": 0
           },
           {
            "bin_end": 0.5,
            "bin_start": 0.4,
            "count": 0
           },
           {
            "bin_end": 0.6000000000000001,
            "bin_start": 0.5,
            "count": 0
           },
           {
            "bin_end": 0.7000000000000001,
            "bin_start": 0.6000000000000001,
            "count": 0
           },
           {
            "bin_end": 0.8,
            "bin_start": 0.7000000000000001,
            "count": 0
           },
           {
            "bin_end": 0.9,
            "bin_start": 0.8,
            "count": 0
           },
           {
            "bin_end": 1,
            "bin_start": 0.9,
            "count": 0
           }
          ],
          "max": null,
          "min": null,
          "nan_count": 5,
          "unique_count": 0
         }
        },
        {
         "dtype": "float64",
         "name": "1970",
         "stats": {
          "histogram": [
           {
            "bin_end": 0.1,
            "bin_start": 0,
            "count": 0
           },
           {
            "bin_end": 0.2,
            "bin_start": 0.1,
            "count": 0
           },
           {
            "bin_end": 0.30000000000000004,
            "bin_start": 0.2,
            "count": 0
           },
           {
            "bin_end": 0.4,
            "bin_start": 0.30000000000000004,
            "count": 0
           },
           {
            "bin_end": 0.5,
            "bin_start": 0.4,
            "count": 0
           },
           {
            "bin_end": 0.6000000000000001,
            "bin_start": 0.5,
            "count": 0
           },
           {
            "bin_end": 0.7000000000000001,
            "bin_start": 0.6000000000000001,
            "count": 0
           },
           {
            "bin_end": 0.8,
            "bin_start": 0.7000000000000001,
            "count": 0
           },
           {
            "bin_end": 0.9,
            "bin_start": 0.8,
            "count": 0
           },
           {
            "bin_end": 1,
            "bin_start": 0.9,
            "count": 0
           }
          ],
          "max": null,
          "min": null,
          "nan_count": 5,
          "unique_count": 0
         }
        },
        {
         "dtype": "float64",
         "name": "1971",
         "stats": {
          "histogram": [
           {
            "bin_end": 0.1,
            "bin_start": 0,
            "count": 0
           },
           {
            "bin_end": 0.2,
            "bin_start": 0.1,
            "count": 0
           },
           {
            "bin_end": 0.30000000000000004,
            "bin_start": 0.2,
            "count": 0
           },
           {
            "bin_end": 0.4,
            "bin_start": 0.30000000000000004,
            "count": 0
           },
           {
            "bin_end": 0.5,
            "bin_start": 0.4,
            "count": 0
           },
           {
            "bin_end": 0.6000000000000001,
            "bin_start": 0.5,
            "count": 0
           },
           {
            "bin_end": 0.7000000000000001,
            "bin_start": 0.6000000000000001,
            "count": 0
           },
           {
            "bin_end": 0.8,
            "bin_start": 0.7000000000000001,
            "count": 0
           },
           {
            "bin_end": 0.9,
            "bin_start": 0.8,
            "count": 0
           },
           {
            "bin_end": 1,
            "bin_start": 0.9,
            "count": 0
           }
          ],
          "max": null,
          "min": null,
          "nan_count": 5,
          "unique_count": 0
         }
        },
        {
         "dtype": "float64",
         "name": "1972",
         "stats": {
          "histogram": [
           {
            "bin_end": 0.1,
            "bin_start": 0,
            "count": 0
           },
           {
            "bin_end": 0.2,
            "bin_start": 0.1,
            "count": 0
           },
           {
            "bin_end": 0.30000000000000004,
            "bin_start": 0.2,
            "count": 0
           },
           {
            "bin_end": 0.4,
            "bin_start": 0.30000000000000004,
            "count": 0
           },
           {
            "bin_end": 0.5,
            "bin_start": 0.4,
            "count": 0
           },
           {
            "bin_end": 0.6000000000000001,
            "bin_start": 0.5,
            "count": 0
           },
           {
            "bin_end": 0.7000000000000001,
            "bin_start": 0.6000000000000001,
            "count": 0
           },
           {
            "bin_end": 0.8,
            "bin_start": 0.7000000000000001,
            "count": 0
           },
           {
            "bin_end": 0.9,
            "bin_start": 0.8,
            "count": 0
           },
           {
            "bin_end": 1,
            "bin_start": 0.9,
            "count": 0
           }
          ],
          "max": null,
          "min": null,
          "nan_count": 5,
          "unique_count": 0
         }
        },
        {
         "dtype": "float64",
         "name": "1973",
         "stats": {
          "histogram": [
           {
            "bin_end": 0.1,
            "bin_start": 0,
            "count": 0
           },
           {
            "bin_end": 0.2,
            "bin_start": 0.1,
            "count": 0
           },
           {
            "bin_end": 0.30000000000000004,
            "bin_start": 0.2,
            "count": 0
           },
           {
            "bin_end": 0.4,
            "bin_start": 0.30000000000000004,
            "count": 0
           },
           {
            "bin_end": 0.5,
            "bin_start": 0.4,
            "count": 0
           },
           {
            "bin_end": 0.6000000000000001,
            "bin_start": 0.5,
            "count": 0
           },
           {
            "bin_end": 0.7000000000000001,
            "bin_start": 0.6000000000000001,
            "count": 0
           },
           {
            "bin_end": 0.8,
            "bin_start": 0.7000000000000001,
            "count": 0
           },
           {
            "bin_end": 0.9,
            "bin_start": 0.8,
            "count": 0
           },
           {
            "bin_end": 1,
            "bin_start": 0.9,
            "count": 0
           }
          ],
          "max": null,
          "min": null,
          "nan_count": 5,
          "unique_count": 0
         }
        },
        {
         "dtype": "float64",
         "name": "1974",
         "stats": {
          "histogram": [
           {
            "bin_end": 19.19839357,
            "bin_start": 19.09839357,
            "count": 0
           },
           {
            "bin_end": 19.298393569999998,
            "bin_start": 19.19839357,
            "count": 0
           },
           {
            "bin_end": 19.39839357,
            "bin_start": 19.298393569999998,
            "count": 0
           },
           {
            "bin_end": 19.498393569999998,
            "bin_start": 19.39839357,
            "count": 0
           },
           {
            "bin_end": 19.59839357,
            "bin_start": 19.498393569999998,
            "count": 0
           },
           {
            "bin_end": 19.69839357,
            "bin_start": 19.59839357,
            "count": 1
           },
           {
            "bin_end": 19.798393569999998,
            "bin_start": 19.69839357,
            "count": 0
           },
           {
            "bin_end": 19.89839357,
            "bin_start": 19.798393569999998,
            "count": 0
           },
           {
            "bin_end": 19.998393569999998,
            "bin_start": 19.89839357,
            "count": 0
           },
           {
            "bin_end": 20.09839357,
            "bin_start": 19.998393569999998,
            "count": 0
           }
          ],
          "max": "19.59839357",
          "min": "19.59839357",
          "nan_count": 4,
          "unique_count": 1
         }
        },
        {
         "dtype": "float64",
         "name": "1975",
         "stats": {
          "histogram": [
           {
            "bin_end": 14.824098939999999,
            "bin_start": 14.72409894,
            "count": 0
           },
           {
            "bin_end": 14.924098939999999,
            "bin_start": 14.824098939999999,
            "count": 0
           },
           {
            "bin_end": 15.02409894,
            "bin_start": 14.924098939999999,
            "count": 0
           },
           {
            "bin_end": 15.12409894,
            "bin_start": 15.02409894,
            "count": 0
           },
           {
            "bin_end": 15.22409894,
            "bin_start": 15.12409894,
            "count": 0
           },
           {
            "bin_end": 15.324098939999999,
            "bin_start": 15.22409894,
            "count": 1
           },
           {
            "bin_end": 15.424098939999999,
            "bin_start": 15.324098939999999,
            "count": 0
           },
           {
            "bin_end": 15.52409894,
            "bin_start": 15.424098939999999,
            "count": 0
           },
           {
            "bin_end": 15.62409894,
            "bin_start": 15.52409894,
            "count": 0
           },
           {
            "bin_end": 15.72409894,
            "bin_start": 15.62409894,
            "count": 0
           }
          ],
          "max": "15.22409894",
          "min": "15.22409894",
          "nan_count": 4,
          "unique_count": 1
         }
        },
        {
         "dtype": "float64",
         "name": "1976",
         "stats": {
          "histogram": [
           {
            "bin_end": 10.81647132,
            "bin_start": 10.71647132,
            "count": 0
           },
           {
            "bin_end": 10.91647132,
            "bin_start": 10.81647132,
            "count": 0
           },
           {
            "bin_end": 11.01647132,
            "bin_start": 10.91647132,
            "count": 0
           },
           {
            "bin_end": 11.11647132,
            "bin_start": 11.01647132,
            "count": 0
           },
           {
            "bin_end": 11.21647132,
            "bin_start": 11.11647132,
            "count": 0
           },
           {
            "bin_end": 11.31647132,
            "bin_start": 11.21647132,
            "count": 1
           },
           {
            "bin_end": 11.41647132,
            "bin_start": 11.31647132,
            "count": 0
           },
           {
            "bin_end": 11.51647132,
            "bin_start": 11.41647132,
            "count": 0
           },
           {
            "bin_end": 11.61647132,
            "bin_start": 11.51647132,
            "count": 0
           },
           {
            "bin_end": 11.71647132,
            "bin_start": 11.61647132,
            "count": 0
           }
          ],
          "max": "11.21647132",
          "min": "11.21647132",
          "nan_count": 4,
          "unique_count": 1
         }
        },
        {
         "dtype": "float64",
         "name": "1977",
         "stats": {
          "histogram": [
           {
            "bin_end": 13.83805549,
            "bin_start": 13.73805549,
            "count": 0
           },
           {
            "bin_end": 13.93805549,
            "bin_start": 13.83805549,
            "count": 0
           },
           {
            "bin_end": 14.038055490000001,
            "bin_start": 13.93805549,
            "count": 0
           },
           {
            "bin_end": 14.138055490000001,
            "bin_start": 14.038055490000001,
            "count": 0
           },
           {
            "bin_end": 14.23805549,
            "bin_start": 14.138055490000001,
            "count": 0
           },
           {
            "bin_end": 14.33805549,
            "bin_start": 14.23805549,
            "count": 1
           },
           {
            "bin_end": 14.43805549,
            "bin_start": 14.33805549,
            "count": 0
           },
           {
            "bin_end": 14.538055490000001,
            "bin_start": 14.43805549,
            "count": 0
           },
           {
            "bin_end": 14.638055490000001,
            "bin_start": 14.538055490000001,
            "count": 0
           },
           {
            "bin_end": 14.73805549,
            "bin_start": 14.638055490000001,
            "count": 0
           }
          ],
          "max": "14.23805549",
          "min": "14.23805549",
          "nan_count": 4,
          "unique_count": 1
         }
        },
        {
         "dtype": "float64",
         "name": "1978",
         "stats": {
          "histogram": [
           {
            "bin_end": 12.12689251,
            "bin_start": 12.02689251,
            "count": 0
           },
           {
            "bin_end": 12.226892509999999,
            "bin_start": 12.12689251,
            "count": 0
           },
           {
            "bin_end": 12.32689251,
            "bin_start": 12.226892509999999,
            "count": 0
           },
           {
            "bin_end": 12.42689251,
            "bin_start": 12.32689251,
            "count": 0
           },
           {
            "bin_end": 12.52689251,
            "bin_start": 12.42689251,
            "count": 0
           },
           {
            "bin_end": 12.62689251,
            "bin_start": 12.52689251,
            "count": 1
           },
           {
            "bin_end": 12.726892509999999,
            "bin_start": 12.62689251,
            "count": 0
           },
           {
            "bin_end": 12.82689251,
            "bin_start": 12.726892509999999,
            "count": 0
           },
           {
            "bin_end": 12.92689251,
            "bin_start": 12.82689251,
            "count": 0
           },
           {
            "bin_end": 13.02689251,
            "bin_start": 12.92689251,
            "count": 0
           }
          ],
          "max": "12.52689251",
          "min": "12.52689251",
          "nan_count": 4,
          "unique_count": 1
         }
        },
        {
         "dtype": "float64",
         "name": "1979",
         "stats": {
          "histogram": [
           {
            "bin_end": 14.66984982,
            "bin_start": 14.56984982,
            "count": 0
           },
           {
            "bin_end": 14.76984982,
            "bin_start": 14.66984982,
            "count": 0
           },
           {
            "bin_end": 14.86984982,
            "bin_start": 14.76984982,
            "count": 0
           },
           {
            "bin_end": 14.96984982,
            "bin_start": 14.86984982,
            "count": 0
           },
           {
            "bin_end": 15.06984982,
            "bin_start": 14.96984982,
            "count": 0
           },
           {
            "bin_end": 15.16984982,
            "bin_start": 15.06984982,
            "count": 1
           },
           {
            "bin_end": 15.26984982,
            "bin_start": 15.16984982,
            "count": 0
           },
           {
            "bin_end": 15.36984982,
            "bin_start": 15.26984982,
            "count": 0
           },
           {
            "bin_end": 15.46984982,
            "bin_start": 15.36984982,
            "count": 0
           },
           {
            "bin_end": 15.56984982,
            "bin_start": 15.46984982,
            "count": 0
           }
          ],
          "max": "15.06984982",
          "min": "15.06984982",
          "nan_count": 4,
          "unique_count": 1
         }
        },
        {
         "dtype": "float64",
         "name": "1980",
         "stats": {
          "histogram": [
           {
            "bin_end": 14.66651154,
            "bin_start": 14.56651154,
            "count": 0
           },
           {
            "bin_end": 14.76651154,
            "bin_start": 14.66651154,
            "count": 0
           },
           {
            "bin_end": 14.866511540000001,
            "bin_start": 14.76651154,
            "count": 0
           },
           {
            "bin_end": 14.96651154,
            "bin_start": 14.866511540000001,
            "count": 0
           },
           {
            "bin_end": 15.06651154,
            "bin_start": 14.96651154,
            "count": 0
           },
           {
            "bin_end": 15.16651154,
            "bin_start": 15.06651154,
            "count": 1
           },
           {
            "bin_end": 15.26651154,
            "bin_start": 15.16651154,
            "count": 0
           },
           {
            "bin_end": 15.366511540000001,
            "bin_start": 15.26651154,
            "count": 0
           },
           {
            "bin_end": 15.46651154,
            "bin_start": 15.366511540000001,
            "count": 0
           },
           {
            "bin_end": 15.56651154,
            "bin_start": 15.46651154,
            "count": 0
           }
          ],
          "max": "15.06651154",
          "min": "15.06651154",
          "nan_count": 4,
          "unique_count": 1
         }
        },
        {
         "dtype": "float64",
         "name": "1981",
         "stats": {
          "histogram": [
           {
            "bin_end": 9.3654488567,
            "bin_start": 8.799210833,
            "count": 1
           },
           {
            "bin_end": 9.931686880400001,
            "bin_start": 9.3654488567,
            "count": 0
           },
           {
            "bin_end": 10.4979249041,
            "bin_start": 9.931686880400001,
            "count": 0
           },
           {
            "bin_end": 11.0641629278,
            "bin_start": 10.4979249041,
            "count": 0
           },
           {
            "bin_end": 11.6304009515,
            "bin_start": 11.0641629278,
            "count": 0
           },
           {
            "bin_end": 12.1966389752,
            "bin_start": 11.6304009515,
            "count": 0
           },
           {
            "bin_end": 12.762876998900001,
            "bin_start": 12.1966389752,
            "count": 0
           },
           {
            "bin_end": 13.3291150226,
            "bin_start": 12.762876998900001,
            "count": 0
           },
           {
            "bin_end": 13.895353046300002,
            "bin_start": 13.3291150226,
            "count": 0
           },
           {
            "bin_end": 14.46159107,
            "bin_start": 13.895353046300002,
            "count": 1
           }
          ],
          "max": "14.46159107",
          "min": "8.799210833",
          "nan_count": 3,
          "unique_count": 2
         }
        },
        {
         "dtype": "float64",
         "name": "1982",
         "stats": {
          "histogram": [
           {
            "bin_end": 12.067780459,
            "bin_start": 12.05976521,
            "count": 1
           },
           {
            "bin_end": 12.075795708,
            "bin_start": 12.067780459,
            "count": 0
           },
           {
            "bin_end": 12.083810957,
            "bin_start": 12.075795708,
            "count": 0
           },
           {
            "bin_end": 12.091826206,
            "bin_start": 12.083810957,
            "count": 0
           },
           {
            "bin_end": 12.099841455,
            "bin_start": 12.091826206,
            "count": 0
           },
           {
            "bin_end": 12.107856704,
            "bin_start": 12.099841455,
            "count": 0
           },
           {
            "bin_end": 12.115871953,
            "bin_start": 12.107856704,
            "count": 0
           },
           {
            "bin_end": 12.123887202,
            "bin_start": 12.115871953,
            "count": 0
           },
           {
            "bin_end": 12.131902451,
            "bin_start": 12.123887202,
            "count": 0
           },
           {
            "bin_end": 12.1399177,
            "bin_start": 12.131902451,
            "count": 1
           }
          ],
          "max": "12.1399177",
          "min": "12.05976521",
          "nan_count": 3,
          "unique_count": 2
         }
        },
        {
         "dtype": "float64",
         "name": "1983",
         "stats": {
          "histogram": [
           {
            "bin_end": 10.761495521999999,
            "bin_start": 10.67193676,
            "count": 1
           },
           {
            "bin_end": 10.851054284,
            "bin_start": 10.761495521999999,
            "count": 0
           },
           {
            "bin_end": 10.940613046,
            "bin_start": 10.851054284,
            "count": 0
           },
           {
            "bin_end": 11.030171808,
            "bin_start": 10.940613046,
            "count": 0
           },
           {
            "bin_end": 11.11973057,
            "bin_start": 11.030171808,
            "count": 0
           },
           {
            "bin_end": 11.209289331999999,
            "bin_start": 11.11973057,
            "count": 0
           },
           {
            "bin_end": 11.298848094,
            "bin_start": 11.209289331999999,
            "count": 0
           },
           {
            "bin_end": 11.388406856,
            "bin_start": 11.298848094,
            "count": 0
           },
           {
            "bin_end": 11.477965618,
            "bin_start": 11.388406856,
            "count": 0
           },
           {
            "bin_end": 11.56752438,
            "bin_start": 11.477965618,
            "count": 1
           }
          ],
          "max": "11.56752438",
          "min": "10.67193676",
          "nan_count": 3,
          "unique_count": 2
         }
        },
        {
         "dtype": "float64",
         "name": "1984",
         "stats": {
          "histogram": [
           {
            "bin_end": 11.010476313,
            "bin_start": 10.98386257,
            "count": 1
           },
           {
            "bin_end": 11.037090056,
            "bin_start": 11.010476313,
            "count": 0
           },
           {
            "bin_end": 11.063703798999999,
            "bin_start": 11.037090056,
            "count": 0
           },
           {
            "bin_end": 11.090317542,
            "bin_start": 11.063703798999999,
            "count": 0
           },
           {
            "bin_end": 11.116931285,
            "bin_start": 11.090317542,
            "count": 0
           },
           {
            "bin_end": 11.143545028,
            "bin_start": 11.116931285,
            "count": 0
           },
           {
            "bin_end": 11.170158771,
            "bin_start": 11.143545028,
            "count": 0
           },
           {
            "bin_end": 11.196772514,
            "bin_start": 11.170158771,
            "count": 0
           },
           {
            "bin_end": 11.223386257,
            "bin_start": 11.196772514,
            "count": 0
           },
           {
            "bin_end": 11.25,
            "bin_start": 11.223386257,
            "count": 1
           }
          ],
          "max": "11.25",
          "min": "10.98386257",
          "nan_count": 3,
          "unique_count": 2
         }
        },
        {
         "dtype": "float64",
         "name": "1985",
         "stats": {
          "histogram": [
           {
            "bin_end": 4.9296888924,
            "bin_start": 4.032258056,
            "count": 1
           },
           {
            "bin_end": 5.8271197288,
            "bin_start": 4.9296888924,
            "count": 0
           },
           {
            "bin_end": 6.7245505652,
            "bin_start": 5.8271197288,
            "count": 0
           },
           {
            "bin_end": 7.6219814016,
            "bin_start": 6.7245505652,
            "count": 1
           },
           {
            "bin_end": 8.519412238000001,
            "bin_start": 7.6219814016,
            "count": 0
           },
           {
            "bin_end": 9.416843074400001,
            "bin_start": 8.519412238000001,
            "count": 0
           },
           {
            "bin_end": 10.3142739108,
            "bin_start": 9.416843074400001,
            "count": 0
           },
           {
            "bin_end": 11.2117047472,
            "bin_start": 10.3142739108,
            "count": 0
           },
           {
            "bin_end": 12.1091355836,
            "bin_start": 11.2117047472,
            "count": 0
           },
           {
            "bin_end": 13.00656642,
            "bin_start": 12.1091355836,
            "count": 1
           }
          ],
          "max": "13.00656642",
          "min": "4.032258056",
          "nan_count": 2,
          "unique_count": 3
         }
        },
        {
         "dtype": "float64",
         "name": "1986",
         "stats": {
          "histogram": [
           {
            "bin_end": 2.3557669322,
            "bin_start": 1.073966408,
            "count": 1
           },
           {
            "bin_end": 3.6375674564,
            "bin_start": 2.3557669322,
            "count": 0
           },
           {
            "bin_end": 4.9193679806,
            "bin_start": 3.6375674564,
            "count": 0
           },
           {
            "bin_end": 6.2011685048,
            "bin_start": 4.9193679806,
            "count": 1
           },
           {
            "bin_end": 7.4829690289999995,
            "bin_start": 6.2011685048,
            "count": 0
           },
           {
            "bin_end": 8.764769553199999,
            "bin_start": 7.4829690289999995,
            "count": 0
           },
           {
            "bin_end": 10.0465700774,
            "bin_start": 8.764769553199999,
            "count": 0
           },
           {
            "bin_end": 11.3283706016,
            "bin_start": 10.0465700774,
            "count": 0
           },
           {
            "bin_end": 12.610171125799999,
            "bin_start": 11.3283706016,
            "count": 0
           },
           {
            "bin_end": 13.89197165,
            "bin_start": 12.610171125799999,
            "count": 1
           }
          ],
          "max": "13.89197165",
          "min": "1.073966408",
          "nan_count": 2,
          "unique_count": 3
         }
        },
        {
         "dtype": "float64",
         "name": "1987",
         "stats": {
          "histogram": [
           {
            "bin_end": 1.4802540215,
            "bin_start": 0.248788555,
            "count": 1
           },
           {
            "bin_end": 2.711719488,
            "bin_start": 1.4802540215,
            "count": 0
           },
           {
            "bin_end": 3.9431849545,
            "bin_start": 2.711719488,
            "count": 1
           },
           {
            "bin_end": 5.174650421,
            "bin_start": 3.9431849545,
            "count": 0
           },
           {
            "bin_end": 6.4061158874999995,
            "bin_start": 5.174650421,
            "count": 0
           },
           {
            "bin_end": 7.637581354,
            "bin_start": 6.4061158874999995,
            "count": 0
           },
           {
            "bin_end": 8.869046820500001,
            "bin_start": 7.637581354,
            "count": 0
           },
           {
            "bin_end": 10.100512287,
            "bin_start": 8.869046820500001,
            "count": 0
           },
           {
            "bin_end": 11.3319777535,
            "bin_start": 10.100512287,
            "count": 0
           },
           {
            "bin_end": 12.56344322,
            "bin_start": 11.3319777535,
            "count": 1
           }
          ],
          "max": "12.56344322",
          "min": "0.248788555",
          "nan_count": 2,
          "unique_count": 3
         }
        },
        {
         "dtype": "float64",
         "name": "1988",
         "stats": {
          "histogram": [
           {
            "bin_end": 3.5235187694,
            "bin_start": 2.523659306,
            "count": 2
           },
           {
            "bin_end": 4.5233782328,
            "bin_start": 3.5235187694,
            "count": 0
           },
           {
            "bin_end": 5.5232376962,
            "bin_start": 4.5233782328,
            "count": 0
           },
           {
            "bin_end": 6.5230971596,
            "bin_start": 5.5232376962,
            "count": 0
           },
           {
            "bin_end": 7.522956623,
            "bin_start": 6.5230971596,
            "count": 0
           },
           {
            "bin_end": 8.522816086399999,
            "bin_start": 7.522956623,
            "count": 0
           },
           {
            "bin_end": 9.522675549799999,
            "bin_start": 8.522816086399999,
            "count": 0
           },
           {
            "bin_end": 10.522535013199999,
            "bin_start": 9.522675549799999,
            "count": 0
           },
           {
            "bin_end": 11.522394476599999,
            "bin_start": 10.522535013199999,
            "count": 0
           },
           {
            "bin_end": 12.52225394,
            "bin_start": 11.522394476599999,
            "count": 1
           }
          ],
          "max": "12.52225394",
          "min": "2.523659306",
          "nan_count": 2,
          "unique_count": 3
         }
        },
        {
         "dtype": "float64",
         "name": "1989",
         "stats": {
          "histogram": [
           {
            "bin_end": 2.0381785277,
            "bin_start": 0.869287023,
            "count": 1
           },
           {
            "bin_end": 3.2070700324,
            "bin_start": 2.0381785277,
            "count": 0
           },
           {
            "bin_end": 4.3759615371,
            "bin_start": 3.2070700324,
            "count": 1
           },
           {
            "bin_end": 5.5448530418,
            "bin_start": 4.3759615371,
            "count": 0
           },
           {
            "bin_end": 6.713744546499999,
            "bin_start": 5.5448530418,
            "count": 0
           },
           {
            "bin_end": 7.8826360511999995,
            "bin_start": 6.713744546499999,
            "count": 0
           },
           {
            "bin_end": 9.0515275559,
            "bin_start": 7.8826360511999995,
            "count": 0
           },
           {
            "bin_end": 10.2204190606,
            "bin_start": 9.0515275559,
            "count": 0
           },
           {
            "bin_end": 11.389310565299999,
            "bin_start": 10.2204190606,
            "count": 0
           },
           {
            "bin_end": 12.55820207,
            "bin_start": 11.389310565299999,
            "count": 1
           }
          ],
          "max": "12.55820207",
          "min": "0.869287023",
          "nan_count": 2,
          "unique_count": 3
         }
        },
        {
         "dtype": "float64",
         "name": "1990",
         "stats": {
          "histogram": [
           {
            "bin_end": 2.1974166535,
            "bin_start": 1.057361395,
            "count": 1
           },
           {
            "bin_end": 3.337471912,
            "bin_start": 2.1974166535,
            "count": 0
           },
           {
            "bin_end": 4.4775271705,
            "bin_start": 3.337471912,
            "count": 0
           },
           {
            "bin_end": 5.617582429,
            "bin_start": 4.4775271705,
            "count": 0
           },
           {
            "bin_end": 6.7576376875,
            "bin_start": 5.617582429,
            "count": 1
           },
           {
            "bin_end": 7.897692945999999,
            "bin_start": 6.7576376875,
            "count": 0
           },
           {
            "bin_end": 9.037748204499998,
            "bin_start": 7.897692945999999,
            "count": 0
           },
           {
            "bin_end": 10.177803463,
            "bin_start": 9.037748204499998,
            "count": 0
           },
           {
            "bin_end": 11.317858721499999,
            "bin_start": 10.177803463,
            "count": 0
           },
           {
            "bin_end": 12.45791398,
            "bin_start": 11.317858721499999,
            "count": 1
           }
          ],
          "max": "12.45791398",
          "min": "1.057361395",
          "nan_count": 2,
          "unique_count": 3
         }
        },
        {
         "dtype": "float64",
         "name": "1991",
         "stats": {
          "histogram": [
           {
            "bin_end": 9.946077451099999,
            "bin_start": 1.741887859,
            "count": 2
           },
           {
            "bin_end": 18.150267043199996,
            "bin_start": 9.946077451099999,
            "count": 1
           },
           {
            "bin_end": 26.354456635299993,
            "bin_start": 18.150267043199996,
            "count": 0
           },
           {
            "bin_end": 34.5586462274,
            "bin_start": 26.354456635299993,
            "count": 0
           },
           {
            "bin_end": 42.7628358195,
            "bin_start": 34.5586462274,
            "count": 0
           },
           {
            "bin_end": 50.96702541159999,
            "bin_start": 42.7628358195,
            "count": 0
           },
           {
            "bin_end": 59.17121500369999,
            "bin_start": 50.96702541159999,
            "count": 0
           },
           {
            "bin_end": 67.37540459579999,
            "bin_start": 59.17121500369999,
            "count": 0
           },
           {
            "bin_end": 75.57959418789999,
            "bin_start": 67.37540459579999,
            "count": 0
           },
           {
            "bin_end": 83.78378378,
            "bin_start": 75.57959418789999,
            "count": 1
           }
          ],
          "max": "83.78378378",
          "min": "1.741887859",
          "nan_count": 1,
          "unique_count": 4
         }
        },
        {
         "dtype": "float64",
         "name": "1992",
         "stats": {
          "histogram": [
           {
            "bin_end": 29.8942812846,
            "bin_start": -0.062999006,
            "count": 3
           },
           {
            "bin_end": 59.8515615752,
            "bin_start": 29.8942812846,
            "count": 0
           },
           {
            "bin_end": 89.8088418658,
            "bin_start": 59.8515615752,
            "count": 0
           },
           {
            "bin_end": 119.7661221564,
            "bin_start": 89.8088418658,
            "count": 0
           },
           {
            "bin_end": 149.72340244699998,
            "bin_start": 119.7661221564,
            "count": 0
           },
           {
            "bin_end": 179.6806827376,
            "bin_start": 149.72340244699998,
            "count": 0
           },
           {
            "bin_end": 209.63796302819998,
            "bin_start": 179.6806827376,
            "count": 0
           },
           {
            "bin_end": 239.5952433188,
            "bin_start": 209.63796302819998,
            "count": 0
           },
           {
            "bin_end": 269.5525236094,
            "bin_start": 239.5952433188,
            "count": 0
           },
           {
            "bin_end": 299.5098039,
            "bin_start": 269.5525236094,
            "count": 1
           }
          ],
          "max": "299.5098039",
          "min": "-0.062999006",
          "nan_count": 1,
          "unique_count": 4
         }
        },
        {
         "dtype": "float64",
         "name": "1993",
         "stats": {
          "histogram": [
           {
            "bin_end": 138.3508708516,
            "bin_start": 0.553455724,
            "count": 3
           },
           {
            "bin_end": 276.1482859792,
            "bin_start": 138.3508708516,
            "count": 0
           },
           {
            "bin_end": 413.9457011068,
            "bin_start": 276.1482859792,
            "count": 0
           },
           {
            "bin_end": 551.7431162344,
            "bin_start": 413.9457011068,
            "count": 0
           },
           {
            "bin_end": 689.540531362,
            "bin_start": 551.7431162344,
            "count": 0
           },
           {
            "bin_end": 827.3379464896,
            "bin_start": 689.540531362,
            "count": 0
           },
           {
            "bin_end": 965.1353616171999,
            "bin_start": 827.3379464896,
            "count": 0
           },
           {
            "bin_end": 1102.9327767448,
            "bin_start": 965.1353616171999,
            "count": 0
           },
           {
            "bin_end": 1240.7301918724002,
            "bin_start": 1102.9327767448,
            "count": 0
           },
           {
            "bin_end": 1378.527607,
            "bin_start": 1240.7301918724002,
            "count": 1
           }
          ],
          "max": "1378.527607",
          "min": "0.553455724",
          "nan_count": 1,
          "unique_count": 4
         }
        },
        {
         "dtype": "float64",
         "name": "1994",
         "stats": {
          "histogram": [
           {
            "bin_end": 100.6592248517,
            "bin_start": 6.311079713,
            "count": 3
           },
           {
            "bin_end": 195.0073699904,
            "bin_start": 100.6592248517,
            "count": 0
           },
           {
            "bin_end": 289.3555151291,
            "bin_start": 195.0073699904,
            "count": 0
           },
           {
            "bin_end": 383.70366026780005,
            "bin_start": 289.3555151291,
            "count": 0
           },
           {
            "bin_end": 478.0518054065001,
            "bin_start": 383.70366026780005,
            "count": 0
           },
           {
            "bin_end": 572.3999505452,
            "bin_start": 478.0518054065001,
            "count": 0
           },
           {
            "bin_end": 666.7480956839,
            "bin_start": 572.3999505452,
            "count": 0
           },
           {
            "bin_end": 761.0962408226001,
            "bin_start": 666.7480956839,
            "count": 0
           },
           {
            "bin_end": 855.4443859613001,
            "bin_start": 761.0962408226001,
            "count": 0
           },
           {
            "bin_end": 949.7925311,
            "bin_start": 855.4443859613001,
            "count": 1
           }
          ],
          "max": "949.7925311",
          "min": "6.311079713",
          "nan_count": 1,
          "unique_count": 4
         }
        },
        {
         "dtype": "float64",
         "name": "1995",
         "stats": {
          "histogram": [
           {
            "bin_end": 269.6703112657,
            "bin_start": 3.361391073,
            "count": 3
           },
           {
            "bin_end": 535.9792314584,
            "bin_start": 269.6703112657,
            "count": 0
           },
           {
            "bin_end": 802.2881516511,
            "bin_start": 535.9792314584,
            "count": 0
           },
           {
            "bin_end": 1068.5970718438,
            "bin_start": 802.2881516511,
            "count": 0
           },
           {
            "bin_end": 1334.9059920365,
            "bin_start": 1068.5970718438,
            "count": 0
           },
           {
            "bin_end": 1601.2149122291999,
            "bin_start": 1334.9059920365,
            "count": 0
           },
           {
            "bin_end": 1867.5238324219,
            "bin_start": 1601.2149122291999,
            "count": 0
           },
           {
            "bin_end": 2133.8327526146,
            "bin_start": 1867.5238324219,
            "count": 0
           },
           {
            "bin_end": 2400.1416728073,
            "bin_start": 2133.8327526146,
            "count": 0
           },
           {
            "bin_end": 2666.450593,
            "bin_start": 2400.1416728073,
            "count": 1
           }
          ],
          "max": "2666.450593",
          "min": "3.361391073",
          "nan_count": 1,
          "unique_count": 4
         }
        },
        {
         "dtype": "float64",
         "name": "1996",
         "stats": {
          "histogram": [
           {
            "bin_end": 417.4133573748,
            "bin_start": 3.225287972,
            "count": 3
           },
           {
            "bin_end": 831.6014267776001,
            "bin_start": 417.4133573748,
            "count": 0
           },
           {
            "bin_end": 1245.7894961804,
            "bin_start": 831.6014267776001,
            "count": 0
           },
           {
            "bin_end": 1659.9775655832,
            "bin_start": 1245.7894961804,
            "count": 0
           },
           {
            "bin_end": 2074.165634986,
            "bin_start": 1659.9775655832,
            "count": 0
           },
           {
            "bin_end": 2488.3537043888,
            "bin_start": 2074.165634986,
            "count": 0
           },
           {
            "bin_end": 2902.5417737916,
            "bin_start": 2488.3537043888,
            "count": 0
           },
           {
            "bin_end": 3316.7298431944,
            "bin_start": 2902.5417737916,
            "count": 0
           },
           {
            "bin_end": 3730.9179125972,
            "bin_start": 3316.7298431944,
            "count": 0
           },
           {
            "bin_end": 4145.105982,
            "bin_start": 3730.9179125972,
            "count": 1
           }
          ],
          "max": "4145.105982",
          "min": "3.225287972",
          "nan_count": 1,
          "unique_count": 4
         }
        },
        {
         "dtype": "float64",
         "name": "1997",
         "stats": {
          "histogram": [
           {
            "bin_end": 24.617625408200002,
            "bin_start": 2.999948098,
            "count": 3
           },
           {
            "bin_end": 46.2353027184,
            "bin_start": 24.617625408200002,
            "count": 0
           },
           {
            "bin_end": 67.8529800286,
            "bin_start": 46.2353027184,
            "count": 0
           },
           {
            "bin_end": 89.47065733880001,
            "bin_start": 67.8529800286,
            "count": 0
           },
           {
            "bin_end": 111.08833464900002,
            "bin_start": 89.47065733880001,
            "count": 0
           },
           {
            "bin_end": 132.7060119592,
            "bin_start": 111.08833464900002,
            "count": 0
           },
           {
            "bin_end": 154.3236892694,
            "bin_start": 132.7060119592,
            "count": 0
           },
           {
            "bin_end": 175.94136657960001,
            "bin_start": 154.3236892694,
            "count": 0
           },
           {
            "bin_end": 197.55904388980002,
            "bin_start": 175.94136657960001,
            "count": 0
           },
           {
            "bin_end": 219.1767212,
            "bin_start": 197.55904388980002,
            "count": 1
           }
          ],
          "max": "219.1767212",
          "min": "2.999948098",
          "nan_count": 1,
          "unique_count": 4
         }
        },
        {
         "dtype": "float64",
         "name": "1998",
         "stats": {
          "histogram": [
           {
            "bin_end": 12.411021832400001,
            "bin_start": 1.869488536,
            "count": 3
           },
           {
            "bin_end": 22.9525551288,
            "bin_start": 12.411021832400001,
            "count": 0
           },
           {
            "bin_end": 33.494088425200005,
            "bin_start": 22.9525551288,
            "count": 0
           },
           {
            "bin_end": 44.0356217216,
            "bin_start": 33.494088425200005,
            "count": 0
           },
           {
            "bin_end": 54.577155018000006,
            "bin_start": 44.0356217216,
            "count": 0
           },
           {
            "bin_end": 65.1186883144,
            "bin_start": 54.577155018000006,
            "count": 0
           },
           {
            "bin_end": 75.66022161080001,
            "bin_start": 65.1186883144,
            "count": 0
           },
           {
            "bin_end": 86.20175490720001,
            "bin_start": 75.66022161080001,
            "count": 0
           },
           {
            "bin_end": 96.74328820360002,
            "bin_start": 86.20175490720001,
            "count": 0
           },
           {
            "bin_end": 107.2848215,
            "bin_start": 96.74328820360002,
            "count": 1
           }
          ],
          "max": "107.2848215",
          "min": "1.869488536",
          "nan_count": 1,
          "unique_count": 4
         }
        },
        {
         "dtype": "float64",
         "name": "1999",
         "stats": {
          "histogram": [
           {
            "bin_end": 25.154629793,
            "bin_start": 0.37226617,
            "count": 3
           },
           {
            "bin_end": 49.93699341600001,
            "bin_start": 25.154629793,
            "count": 0
           },
           {
            "bin_end": 74.719357039,
            "bin_start": 49.93699341600001,
            "count": 0
           },
           {
            "bin_end": 99.50172066200001,
            "bin_start": 74.719357039,
            "count": 0
           },
           {
            "bin_end": 124.28408428500002,
            "bin_start": 99.50172066200001,
            "count": 0
           },
           {
            "bin_end": 149.066447908,
            "bin_start": 124.28408428500002,
            "count": 0
           },
           {
            "bin_end": 173.848811531,
            "bin_start": 149.066447908,
            "count": 0
           },
           {
            "bin_end": 198.631175154,
            "bin_start": 173.848811531,
            "count": 0
           },
           {
            "bin_end": 223.413538777,
            "bin_start": 198.631175154,
            "count": 0
           },
           {
            "bin_end": 248.1959024,
            "bin_start": 223.413538777,
            "count": 1
           }
          ],
          "max": "248.1959024",
          "min": "0.37226617",
          "nan_count": 1,
          "unique_count": 4
         }
        },
        {
         "dtype": "float64",
         "name": "2000",
         "stats": {
          "histogram": [
           {
            "bin_end": 34.777384810300006,
            "bin_start": 2.530775167,
            "count": 3
           },
           {
            "bin_end": 67.02399445360001,
            "bin_start": 34.777384810300006,
            "count": 0
           },
           {
            "bin_end": 99.27060409690002,
            "bin_start": 67.02399445360001,
            "count": 0
           },
           {
            "bin_end": 131.51721374020002,
            "bin_start": 99.27060409690002,
            "count": 0
           },
           {
            "bin_end": 163.76382338350004,
            "bin_start": 131.51721374020002,
            "count": 0
           },
           {
            "bin_end": 196.01043302680003,
            "bin_start": 163.76382338350004,
            "count": 0
           },
           {
            "bin_end": 228.25704267010002,
            "bin_start": 196.01043302680003,
            "count": 0
           },
           {
            "bin_end": 260.50365231340004,
            "bin_start": 228.25704267010002,
            "count": 0
           },
           {
            "bin_end": 292.75026195670006,
            "bin_start": 260.50365231340004,
            "count": 0
           },
           {
            "bin_end": 324.9968716,
            "bin_start": 292.75026195670006,
            "count": 1
           }
          ],
          "max": "324.9968716",
          "min": "2.530775167",
          "nan_count": 1,
          "unique_count": 4
         }
        },
        {
         "dtype": "float64",
         "name": "2001",
         "stats": {
          "histogram": [
           {
            "bin_end": 17.8513461227,
            "bin_start": 2.883604303,
            "count": 3
           },
           {
            "bin_end": 32.8190879424,
            "bin_start": 17.8513461227,
            "count": 0
           },
           {
            "bin_end": 47.7868297621,
            "bin_start": 32.8190879424,
            "count": 0
           },
           {
            "bin_end": 62.7545715818,
            "bin_start": 47.7868297621,
            "count": 0
           },
           {
            "bin_end": 77.7223134015,
            "bin_start": 62.7545715818,
            "count": 0
           },
           {
            "bin_end": 92.6900552212,
            "bin_start": 77.7223134015,
            "count": 0
           },
           {
            "bin_end": 107.65779704090001,
            "bin_start": 92.6900552212,
            "count": 0
           },
           {
            "bin_end": 122.6255388606,
            "bin_start": 107.65779704090001,
            "count": 0
           },
           {
            "bin_end": 137.5932806803,
            "bin_start": 122.6255388606,
            "count": 0
           },
           {
            "bin_end": 152.5610225,
            "bin_start": 137.5932806803,
            "count": 1
           }
          ],
          "max": "152.5610225",
          "min": "2.883604303",
          "nan_count": 1,
          "unique_count": 4
         }
        },
        {
         "dtype": "float64",
         "name": "2002",
         "stats": {
          "histogram": [
           {
            "bin_end": 13.759567581799999,
            "bin_start": 3.188693302,
            "count": 3
           },
           {
            "bin_end": 24.330441861599997,
            "bin_start": 13.759567581799999,
            "count": 0
           },
           {
            "bin_end": 34.901316141399995,
            "bin_start": 24.330441861599997,
            "count": 0
           },
           {
            "bin_end": 45.47219042119999,
            "bin_start": 34.901316141399995,
            "count": 0
           },
           {
            "bin_end": 56.043064700999984,
            "bin_start": 45.47219042119999,
            "count": 0
           },
           {
            "bin_end": 66.61393898079999,
            "bin_start": 56.043064700999984,
            "count": 0
           },
           {
            "bin_end": 77.1848132606,
            "bin_start": 66.61393898079999,
            "count": 0
           },
           {
            "bin_end": 87.75568754039999,
            "bin_start": 77.1848132606,
            "count": 0
           },
           {
            "bin_end": 98.32656182019998,
            "bin_start": 87.75568754039999,
            "count": 0
           },
           {
            "bin_end": 108.8974361,
            "bin_start": 98.32656182019998,
            "count": 1
           }
          ],
          "max": "108.8974361",
          "min": "3.188693302",
          "nan_count": 1,
          "unique_count": 4
         }
        },
        {
         "dtype": "float64",
         "name": "2003",
         "stats": {
          "histogram": [
           {
            "bin_end": 11.4072280569,
            "bin_start": 1.760904101,
            "count": 3
           },
           {
            "bin_end": 21.0535520128,
            "bin_start": 11.4072280569,
            "count": 0
           },
           {
            "bin_end": 30.6998759687,
            "bin_start": 21.0535520128,
            "count": 0
           },
           {
            "bin_end": 40.3461999246,
            "bin_start": 30.6998759687,
            "count": 0
           },
           {
            "bin_end": 49.9925238805,
            "bin_start": 40.3461999246,
            "count": 0
           },
           {
            "bin_end": 59.6388478364,
            "bin_start": 49.9925238805,
            "count": 0
           },
           {
            "bin_end": 69.28517179229999,
            "bin_start": 59.6388478364,
            "count": 0
           },
           {
            "bin_end": 78.93149574819999,
            "bin_start": 69.28517179229999,
            "count": 0
           },
           {
            "bin_end": 88.5778197041,
            "bin_start": 78.93149574819999,
            "count": 0
           },
           {
            "bin_end": 98.22414366,
            "bin_start": 88.5778197041,
            "count": 1
           }
          ],
          "max": "98.22414366",
          "min": "1.760904101",
          "nan_count": 1,
          "unique_count": 4
         }
        },
        {
         "dtype": "float64",
         "name": "2004",
         "stats": {
          "histogram": [
           {
            "bin_end": 4.9791133504000005,
            "bin_start": 0.694336306,
            "count": 2
           },
           {
            "bin_end": 9.2638903948,
            "bin_start": 4.9791133504000005,
            "count": 1
           },
           {
            "bin_end": 13.5486674392,
            "bin_start": 9.2638903948,
            "count": 0
           },
           {
            "bin_end": 17.8334444836,
            "bin_start": 13.5486674392,
            "count": 0
           },
           {
            "bin_end": 22.118221528000003,
            "bin_start": 17.8334444836,
            "count": 0
           },
           {
            "bin_end": 26.4029985724,
            "bin_start": 22.118221528000003,
            "count": 0
           },
           {
            "bin_end": 30.6877756168,
            "bin_start": 26.4029985724,
            "count": 0
           },
           {
            "bin_end": 34.9725526612,
            "bin_start": 30.6877756168,
            "count": 0
           },
           {
            "bin_end": 39.2573297056,
            "bin_start": 34.9725526612,
            "count": 0
           },
           {
            "bin_end": 43.54210675,
            "bin_start": 39.2573297056,
            "count": 1
           }
          ],
          "max": "43.54210675",
          "min": "0.694336306",
          "nan_count": 1,
          "unique_count": 4
         }
        },
        {
         "dtype": "float64",
         "name": "2005",
         "stats": {
          "histogram": [
           {
            "bin_end": 5.3533594852,
            "bin_start": 3.397786778,
            "count": 1
           },
           {
            "bin_end": 7.3089321924,
            "bin_start": 5.3533594852,
            "count": 1
           },
           {
            "bin_end": 9.2645048996,
            "bin_start": 7.3089321924,
            "count": 1
           },
           {
            "bin_end": 11.2200776068,
            "bin_start": 9.2645048996,
            "count": 0
           },
           {
            "bin_end": 13.175650314,
            "bin_start": 11.2200776068,
            "count": 1
           },
           {
            "bin_end": 15.1312230212,
            "bin_start": 13.175650314,
            "count": 0
           },
           {
            "bin_end": 17.0867957284,
            "bin_start": 15.1312230212,
            "count": 0
           },
           {
            "bin_end": 19.0423684356,
            "bin_start": 17.0867957284,
            "count": 0
           },
           {
            "bin_end": 20.9979411428,
            "bin_start": 19.0423684356,
            "count": 0
           },
           {
            "bin_end": 22.95351385,
            "bin_start": 20.9979411428,
            "count": 1
           }
          ],
          "max": "22.95351385",
          "min": "3.397786778",
          "nan_count": 0,
          "unique_count": 5
         }
        },
        {
         "dtype": "float64",
         "name": "2006",
         "stats": {
          "histogram": [
           {
            "bin_end": 4.5777429672,
            "bin_start": 3.608024388,
            "count": 2
           },
           {
            "bin_end": 5.5474615464,
            "bin_start": 4.5777429672,
            "count": 0
           },
           {
            "bin_end": 6.5171801255999995,
            "bin_start": 5.5474615464,
            "count": 0
           },
           {
            "bin_end": 7.4868987048,
            "bin_start": 6.5171801255999995,
            "count": 1
           },
           {
            "bin_end": 8.456617284,
            "bin_start": 7.4868987048,
            "count": 0
           },
           {
            "bin_end": 9.4263358632,
            "bin_start": 8.456617284,
            "count": 1
           },
           {
            "bin_end": 10.396054442399999,
            "bin_start": 9.4263358632,
            "count": 0
           },
           {
            "bin_end": 11.365773021599999,
            "bin_start": 10.396054442399999,
            "count": 0
           },
           {
            "bin_end": 12.3354916008,
            "bin_start": 11.365773021599999,
            "count": 0
           },
           {
            "bin_end": 13.30521018,
            "bin_start": 12.3354916008,
            "count": 1
           }
          ],
          "max": "13.30521018",
          "min": "3.608024388",
          "nan_count": 0,
          "unique_count": 5
         }
        },
        {
         "dtype": "float64",
         "name": "2007",
         "stats": {
          "histogram": [
           {
            "bin_end": 4.471780657,
            "bin_start": 3.60736768,
            "count": 1
           },
           {
            "bin_end": 5.336193634,
            "bin_start": 4.471780657,
            "count": 0
           },
           {
            "bin_end": 6.2006066109999995,
            "bin_start": 5.336193634,
            "count": 1
           },
           {
            "bin_end": 7.065019588,
            "bin_start": 6.2006066109999995,
            "count": 0
           },
           {
            "bin_end": 7.929432565000001,
            "bin_start": 7.065019588,
            "count": 0
           },
           {
            "bin_end": 8.793845542,
            "bin_start": 7.929432565000001,
            "count": 2
           },
           {
            "bin_end": 9.658258519,
            "bin_start": 8.793845542,
            "count": 0
           },
           {
            "bin_end": 10.522671496000001,
            "bin_start": 9.658258519,
            "count": 0
           },
           {
            "bin_end": 11.387084473,
            "bin_start": 10.522671496000001,
            "count": 0
           },
           {
            "bin_end": 12.25149745,
            "bin_start": 11.387084473,
            "count": 1
           }
          ],
          "max": "12.25149745",
          "min": "3.60736768",
          "nan_count": 0,
          "unique_count": 5
         }
        },
        {
         "dtype": "float64",
         "name": "2008",
         "stats": {
          "histogram": [
           {
            "bin_end": 10.2495450247,
            "bin_start": 8.452976233,
            "count": 2
           },
           {
            "bin_end": 12.0461138164,
            "bin_start": 10.2495450247,
            "count": 0
           },
           {
            "bin_end": 13.8426826081,
            "bin_start": 12.0461138164,
            "count": 2
           },
           {
            "bin_end": 15.639251399800001,
            "bin_start": 13.8426826081,
            "count": 0
           },
           {
            "bin_end": 17.4358201915,
            "bin_start": 15.639251399800001,
            "count": 0
           },
           {
            "bin_end": 19.232388983200003,
            "bin_start": 17.4358201915,
            "count": 0
           },
           {
            "bin_end": 21.0289577749,
            "bin_start": 19.232388983200003,
            "count": 0
           },
           {
            "bin_end": 22.825526566600004,
            "bin_start": 21.0289577749,
            "count": 0
           },
           {
            "bin_end": 24.6220953583,
            "bin_start": 22.825526566600004,
            "count": 0
           },
           {
            "bin_end": 26.41866415,
            "bin_start": 24.6220953583,
            "count": 1
           }
          ],
          "max": "26.41866415",
          "min": "8.452976233",
          "nan_count": 0,
          "unique_count": 5
         }
        },
        {
         "dtype": "float64",
         "name": "2009",
         "stats": {
          "histogram": [
           {
            "bin_end": -4.757016587099999,
            "bin_start": -6.811161089,
            "count": 1
           },
           {
            "bin_end": -2.702872085199999,
            "bin_start": -4.757016587099999,
            "count": 0
           },
           {
            "bin_end": -0.6487275832999986,
            "bin_start": -2.702872085199999,
            "count": 1
           },
           {
            "bin_end": 1.4054169186000012,
            "bin_start": -0.6487275832999986,
            "count": 0
           },
           {
            "bin_end": 3.459561420500001,
            "bin_start": 1.4054169186000012,
            "count": 1
           },
           {
            "bin_end": 5.5137059224000025,
            "bin_start": 3.459561420500001,
            "count": 0
           },
           {
            "bin_end": 7.567850424300002,
            "bin_start": 5.5137059224000025,
            "count": 0
           },
           {
            "bin_end": 9.621994926200003,
            "bin_start": 7.567850424300002,
            "count": 1
           },
           {
            "bin_end": 11.676139428100004,
            "bin_start": 9.621994926200003,
            "count": 0
           },
           {
            "bin_end": 13.73028393,
            "bin_start": 11.676139428100004,
            "count": 1
           }
          ],
          "max": "13.73028393",
          "min": "-6.811161089",
          "nan_count": 0,
          "unique_count": 5
         }
        },
        {
         "dtype": "float64",
         "name": "2010",
         "stats": {
          "histogram": [
           {
            "bin_end": 3.0533254335,
            "bin_start": 1.784844205,
            "count": 3
           },
           {
            "bin_end": 4.321806662,
            "bin_start": 3.0533254335,
            "count": 0
           },
           {
            "bin_end": 5.5902878905,
            "bin_start": 4.321806662,
            "count": 1
           },
           {
            "bin_end": 6.858769119,
            "bin_start": 5.5902878905,
            "count": 0
           },
           {
            "bin_end": 8.1272503475,
            "bin_start": 6.858769119,
            "count": 0
           },
           {
            "bin_end": 9.395731576000001,
            "bin_start": 8.1272503475,
            "count": 0
           },
           {
            "bin_end": 10.6642128045,
            "bin_start": 9.395731576000001,
            "count": 0
           },
           {
            "bin_end": 11.932694033,
            "bin_start": 10.6642128045,
            "count": 0
           },
           {
            "bin_end": 13.201175261500001,
            "bin_start": 11.932694033,
            "count": 0
           },
           {
            "bin_end": 14.46965649,
            "bin_start": 13.201175261500001,
            "count": 1
           }
          ],
          "max": "14.46965649",
          "min": "1.784844205",
          "nan_count": 0,
          "unique_count": 5
         }
        },
        {
         "dtype": "float64",
         "name": "2011",
         "stats": {
          "histogram": [
           {
            "bin_end": 4.9650759595,
            "bin_start": 4.018699075,
            "count": 2
           },
           {
            "bin_end": 5.911452843999999,
            "bin_start": 4.9650759595,
            "count": 0
           },
           {
            "bin_end": 6.8578297285,
            "bin_start": 5.911452843999999,
            "count": 0
           },
           {
            "bin_end": 7.804206613,
            "bin_start": 6.8578297285,
            "count": 0
           },
           {
            "bin_end": 8.7505834975,
            "bin_start": 7.804206613,
            "count": 0
           },
           {
            "bin_end": 9.696960382,
            "bin_start": 8.7505834975,
            "count": 1
           },
           {
            "bin_end": 10.6433372665,
            "bin_start": 9.696960382,
            "count": 0
           },
           {
            "bin_end": 11.589714150999999,
            "bin_start": 10.6433372665,
            "count": 0
           },
           {
            "bin_end": 12.5360910355,
            "bin_start": 11.589714150999999,
            "count": 1
           },
           {
            "bin_end": 13.48246792,
            "bin_start": 12.5360910355,
            "count": 1
           }
          ],
          "max": "13.48246792",
          "min": "4.018699075",
          "nan_count": 0,
          "unique_count": 5
         }
        },
        {
         "dtype": "float64",
         "name": "2012",
         "stats": {
          "histogram": [
           {
            "bin_end": 1.5925152856999998,
            "bin_start": 0.627471993,
            "count": 1
           },
           {
            "bin_end": 2.5575585783999997,
            "bin_start": 1.5925152856999998,
            "count": 0
           },
           {
            "bin_end": 3.5226018710999996,
            "bin_start": 2.5575585783999997,
            "count": 0
           },
           {
            "bin_end": 4.4876451638,
            "bin_start": 3.5226018710999996,
            "count": 0
           },
           {
            "bin_end": 5.4526884565,
            "bin_start": 4.4876451638,
            "count": 1
           },
           {
            "bin_end": 6.4177317492,
            "bin_start": 5.4526884565,
            "count": 0
           },
           {
            "bin_end": 7.3827750419,
            "bin_start": 6.4177317492,
            "count": 1
           },
           {
            "bin_end": 8.3478183346,
            "bin_start": 7.3827750419,
            "count": 0
           },
           {
            "bin_end": 9.312861627299998,
            "bin_start": 8.3478183346,
            "count": 1
           },
           {
            "bin_end": 10.27790492,
            "bin_start": 9.312861627299998,
            "count": 1
           }
          ],
          "max": "10.27790492",
          "min": "0.627471993",
          "nan_count": 0,
          "unique_count": 5
         }
        },
        {
         "dtype": "float64",
         "name": "2013",
         "stats": {
          "histogram": [
           {
            "bin_end": -1.2570772894000002,
            "bin_start": -2.372065243,
            "count": 1
           },
           {
            "bin_end": -0.14208933580000016,
            "bin_start": -1.2570772894000002,
            "count": 0
           },
           {
            "bin_end": 0.9728986177999999,
            "bin_start": -0.14208933580000016,
            "count": 0
           },
           {
            "bin_end": 2.0878865714,
            "bin_start": 0.9728986177999999,
            "count": 0
           },
           {
            "bin_end": 3.202874525,
            "bin_start": 2.0878865714,
            "count": 1
           },
           {
            "bin_end": 4.3178624786,
            "bin_start": 3.202874525,
            "count": 0
           },
           {
            "bin_end": 5.4328504322,
            "bin_start": 4.3178624786,
            "count": 0
           },
           {
            "bin_end": 6.5478383858,
            "bin_start": 5.4328504322,
            "count": 1
           },
           {
            "bin_end": 7.6628263394000005,
            "bin_start": 6.5478383858,
            "count": 1
           },
           {
            "bin_end": 8.777814293,
            "bin_start": 7.6628263394000005,
            "count": 1
           }
          ],
          "max": "8.777814293",
          "min": "-2.372065243",
          "nan_count": 0,
          "unique_count": 5
         }
        },
        {
         "dtype": "float64",
         "name": "2014",
         "stats": {
          "histogram": [
           {
            "bin_end": 1.1073355575,
            "bin_start": 0.421440919,
            "count": 1
           },
           {
            "bin_end": 1.793230196,
            "bin_start": 1.1073355575,
            "count": 1
           },
           {
            "bin_end": 2.4791248345000003,
            "bin_start": 1.793230196,
            "count": 0
           },
           {
            "bin_end": 3.165019473,
            "bin_start": 2.4791248345000003,
            "count": 0
           },
           {
            "bin_end": 3.8509141115,
            "bin_start": 3.165019473,
            "count": 0
           },
           {
            "bin_end": 4.5368087500000005,
            "bin_start": 3.8509141115,
            "count": 0
           },
           {
            "bin_end": 5.2227033885,
            "bin_start": 4.5368087500000005,
            "count": 1
           },
           {
            "bin_end": 5.908598027,
            "bin_start": 5.2227033885,
            "count": 1
           },
           {
            "bin_end": 6.5944926655,
            "bin_start": 5.908598027,
            "count": 0
           },
           {
            "bin_end": 7.280387304,
            "bin_start": 6.5944926655,
            "count": 1
           }
          ],
          "max": "7.280387304",
          "min": "0.421440919",
          "nan_count": 0,
          "unique_count": 5
         }
        },
        {
         "dtype": "float64",
         "name": "2015",
         "stats": {
          "histogram": [
           {
            "bin_end": 0.34005896700000005,
            "bin_start": -0.661709165,
            "count": 1
           },
           {
            "bin_end": 1.341827099,
            "bin_start": 0.34005896700000005,
            "count": 1
           },
           {
            "bin_end": 2.343595231,
            "bin_start": 1.341827099,
            "count": 1
           },
           {
            "bin_end": 3.345363363,
            "bin_start": 2.343595231,
            "count": 0
           },
           {
            "bin_end": 4.347131495000001,
            "bin_start": 3.345363363,
            "count": 0
           },
           {
            "bin_end": 5.348899627,
            "bin_start": 4.347131495000001,
            "count": 1
           },
           {
            "bin_end": 6.350667759,
            "bin_start": 5.348899627,
            "count": 0
           },
           {
            "bin_end": 7.352435891000001,
            "bin_start": 6.350667759,
            "count": 0
           },
           {
            "bin_end": 8.354204023000001,
            "bin_start": 7.352435891000001,
            "count": 0
           },
           {
            "bin_end": 9.355972155,
            "bin_start": 8.354204023000001,
            "count": 1
           }
          ],
          "max": "9.355972155",
          "min": "-0.661709165",
          "nan_count": 0,
          "unique_count": 5
         }
        },
        {
         "dtype": "float64",
         "name": "2016",
         "stats": {
          "histogram": [
           {
            "bin_end": 2.2313651196999995,
            "bin_start": -0.931195987,
            "count": 2
           },
           {
            "bin_end": 5.3939262264,
            "bin_start": 2.2313651196999995,
            "count": 1
           },
           {
            "bin_end": 8.556487333099998,
            "bin_start": 5.3939262264,
            "count": 1
           },
           {
            "bin_end": 11.719048439799998,
            "bin_start": 8.556487333099998,
            "count": 0
           },
           {
            "bin_end": 14.881609546499998,
            "bin_start": 11.719048439799998,
            "count": 0
           },
           {
            "bin_end": 18.0441706532,
            "bin_start": 14.881609546499998,
            "count": 0
           },
           {
            "bin_end": 21.2067317599,
            "bin_start": 18.0441706532,
            "count": 0
           },
           {
            "bin_end": 24.3692928666,
            "bin_start": 21.2067317599,
            "count": 0
           },
           {
            "bin_end": 27.5318539733,
            "bin_start": 24.3692928666,
            "count": 0
           },
           {
            "bin_end": 30.69441508,
            "bin_start": 27.5318539733,
            "count": 1
           }
          ],
          "max": "30.69441508",
          "min": "-0.931195987",
          "nan_count": 0,
          "unique_count": 5
         }
        },
        {
         "dtype": "float64",
         "name": "2017",
         "stats": {
          "histogram": [
           {
            "bin_end": 2.0589943807999997,
            "bin_start": -1.028281788,
            "count": 2
           },
           {
            "bin_end": 5.1462705496,
            "bin_start": 2.0589943807999997,
            "count": 1
           },
           {
            "bin_end": 8.233546718400001,
            "bin_start": 5.1462705496,
            "count": 1
           },
           {
            "bin_end": 11.3208228872,
            "bin_start": 8.233546718400001,
            "count": 0
           },
           {
            "bin_end": 14.408099056,
            "bin_start": 11.3208228872,
            "count": 0
           },
           {
            "bin_end": 17.4953752248,
            "bin_start": 14.408099056,
            "count": 0
           },
           {
            "bin_end": 20.5826513936,
            "bin_start": 17.4953752248,
            "count": 0
           },
           {
            "bin_end": 23.669927562399998,
            "bin_start": 20.5826513936,
            "count": 0
           },
           {
            "bin_end": 26.757203731199997,
            "bin_start": 23.669927562399998,
            "count": 0
           },
           {
            "bin_end": 29.8444799,
            "bin_start": 26.757203731199997,
            "count": 1
           }
          ],
          "max": "29.8444799",
          "min": "-1.028281788",
          "nan_count": 0,
          "unique_count": 5
         }
        },
        {
         "dtype": "float64",
         "name": "2018",
         "stats": {
          "histogram": [
           {
            "bin_end": 2.5264280311,
            "bin_start": 0.626149149,
            "count": 2
           },
           {
            "bin_end": 4.426706913199999,
            "bin_start": 2.5264280311,
            "count": 1
           },
           {
            "bin_end": 6.326985795299999,
            "bin_start": 4.426706913199999,
            "count": 1
           },
           {
            "bin_end": 8.2272646774,
            "bin_start": 6.326985795299999,
            "count": 0
           },
           {
            "bin_end": 10.1275435595,
            "bin_start": 8.2272646774,
            "count": 0
           },
           {
            "bin_end": 12.027822441599998,
            "bin_start": 10.1275435595,
            "count": 0
           },
           {
            "bin_end": 13.928101323699998,
            "bin_start": 12.027822441599998,
            "count": 0
           },
           {
            "bin_end": 15.828380205799998,
            "bin_start": 13.928101323699998,
            "count": 0
           },
           {
            "bin_end": 17.7286590879,
            "bin_start": 15.828380205799998,
            "count": 0
           },
           {
            "bin_end": 19.62893797,
            "bin_start": 17.7286590879,
            "count": 1
           }
          ],
          "max": "19.62893797",
          "min": "0.626149149",
          "nan_count": 0,
          "unique_count": 5
         }
        },
        {
         "dtype": "float64",
         "name": "2019",
         "stats": {
          "histogram": [
           {
            "bin_end": 3.4928784705,
            "bin_start": 1.983092285,
            "count": 2
           },
           {
            "bin_end": 5.002664655999999,
            "bin_start": 3.4928784705,
            "count": 2
           },
           {
            "bin_end": 6.5124508415,
            "bin_start": 5.002664655999999,
            "count": 0
           },
           {
            "bin_end": 8.022237027,
            "bin_start": 6.5124508415,
            "count": 0
           },
           {
            "bin_end": 9.532023212499999,
            "bin_start": 8.022237027,
            "count": 0
           },
           {
            "bin_end": 11.041809398,
            "bin_start": 9.532023212499999,
            "count": 0
           },
           {
            "bin_end": 12.5515955835,
            "bin_start": 11.041809398,
            "count": 0
           },
           {
            "bin_end": 14.061381768999999,
            "bin_start": 12.5515955835,
            "count": 0
           },
           {
            "bin_end": 15.571167954499998,
            "bin_start": 14.061381768999999,
            "count": 0
           },
           {
            "bin_end": 17.08095414,
            "bin_start": 15.571167954499998,
            "count": 1
           }
          ],
          "max": "17.08095414",
          "min": "1.983092285",
          "nan_count": 0,
          "unique_count": 5
         }
        },
        {
         "dtype": "float64",
         "name": "2020",
         "stats": {
          "histogram": [
           {
            "bin_end": 4.4684939801,
            "bin_start": 2.490377839,
            "count": 1
           },
           {
            "bin_end": 6.4466101212,
            "bin_start": 4.4684939801,
            "count": 1
           },
           {
            "bin_end": 8.4247262623,
            "bin_start": 6.4466101212,
            "count": 0
           },
           {
            "bin_end": 10.4028424034,
            "bin_start": 8.4247262623,
            "count": 0
           },
           {
            "bin_end": 12.3809585445,
            "bin_start": 10.4028424034,
            "count": 0
           },
           {
            "bin_end": 14.3590746856,
            "bin_start": 12.3809585445,
            "count": 0
           },
           {
            "bin_end": 16.3371908267,
            "bin_start": 14.3590746856,
            "count": 0
           },
           {
            "bin_end": 18.315306967799998,
            "bin_start": 16.3371908267,
            "count": 0
           },
           {
            "bin_end": 20.2934231089,
            "bin_start": 18.315306967799998,
            "count": 0
           },
           {
            "bin_end": 22.27153925,
            "bin_start": 20.2934231089,
            "count": 1
           }
          ],
          "max": "22.27153925",
          "min": "2.490377839",
          "nan_count": 2,
          "unique_count": 3
         }
        },
        {
         "dtype": "float64",
         "name": "2021",
         "stats": {
          "histogram": [
           {
            "bin_end": 5.946559893,
            "bin_start": 3.74570045,
            "count": 1
           },
           {
            "bin_end": 8.147419335999999,
            "bin_start": 5.946559893,
            "count": 1
           },
           {
            "bin_end": 10.348278779,
            "bin_start": 8.147419335999999,
            "count": 0
           },
           {
            "bin_end": 12.549138222,
            "bin_start": 10.348278779,
            "count": 0
           },
           {
            "bin_end": 14.749997664999999,
            "bin_start": 12.549138222,
            "count": 0
           },
           {
            "bin_end": 16.950857107999997,
            "bin_start": 14.749997664999999,
            "count": 0
           },
           {
            "bin_end": 19.151716551,
            "bin_start": 16.950857107999997,
            "count": 0
           },
           {
            "bin_end": 21.352575994,
            "bin_start": 19.151716551,
            "count": 0
           },
           {
            "bin_end": 23.553435436999997,
            "bin_start": 21.352575994,
            "count": 0
           },
           {
            "bin_end": 25.75429488,
            "bin_start": 23.553435436999997,
            "count": 1
           }
          ],
          "max": "25.75429488",
          "min": "3.74570045",
          "nan_count": 2,
          "unique_count": 3
         }
        },
        {
         "dtype": "float64",
         "name": "2022",
         "stats": {
          "histogram": [
           {
            "bin_end": 9.2898553045,
            "bin_start": 7.949251435,
            "count": 1
           },
           {
            "bin_end": 10.630459174,
            "bin_start": 9.2898553045,
            "count": 0
           },
           {
            "bin_end": 11.9710630435,
            "bin_start": 10.630459174,
            "count": 1
           },
           {
            "bin_end": 13.311666913,
            "bin_start": 11.9710630435,
            "count": 0
           },
           {
            "bin_end": 14.6522707825,
            "bin_start": 13.311666913,
            "count": 0
           },
           {
            "bin_end": 15.992874652000001,
            "bin_start": 14.6522707825,
            "count": 0
           },
           {
            "bin_end": 17.3334785215,
            "bin_start": 15.992874652000001,
            "count": 0
           },
           {
            "bin_end": 18.674082391,
            "bin_start": 17.3334785215,
            "count": 0
           },
           {
            "bin_end": 20.0146862605,
            "bin_start": 18.674082391,
            "count": 0
           },
           {
            "bin_end": 21.35529013,
            "bin_start": 20.0146862605,
            "count": 1
           }
          ],
          "max": "21.35529013",
          "min": "7.949251435",
          "nan_count": 2,
          "unique_count": 3
         }
        },
        {
         "dtype": "float64",
         "name": "2023",
         "stats": {
          "histogram": [
           {
            "bin_end": 5.8221554885,
            "bin_start": 4.953050345,
            "count": 1
           },
           {
            "bin_end": 6.6912606320000005,
            "bin_start": 5.8221554885,
            "count": 0
           },
           {
            "bin_end": 7.5603657755,
            "bin_start": 6.6912606320000005,
            "count": 1
           },
           {
            "bin_end": 8.429470919,
            "bin_start": 7.5603657755,
            "count": 0
           },
           {
            "bin_end": 9.2985760625,
            "bin_start": 8.429470919,
            "count": 0
           },
           {
            "bin_end": 10.167681206000001,
            "bin_start": 9.2985760625,
            "count": 0
           },
           {
            "bin_end": 11.0367863495,
            "bin_start": 10.167681206000001,
            "count": 0
           },
           {
            "bin_end": 11.905891492999999,
            "bin_start": 11.0367863495,
            "count": 0
           },
           {
            "bin_end": 12.7749966365,
            "bin_start": 11.905891492999999,
            "count": 0
           },
           {
            "bin_end": 13.64410178,
            "bin_start": 12.7749966365,
            "count": 1
           }
          ],
          "max": "13.64410178",
          "min": "4.953050345",
          "nan_count": 2,
          "unique_count": 3
         }
        },
        {
         "dtype": "int64",
         "name": "_deepnote_index_column"
        }
       ],
       "row_count": 5,
       "rows": [
        {
         "1960": "nan",
         "1961": "nan",
         "1962": "nan",
         "1963": "nan",
         "1964": "nan",
         "1965": "nan",
         "1966": "nan",
         "1967": "nan",
         "1968": "nan",
         "1969": "nan",
         "1970": "nan",
         "1971": "nan",
         "1972": "nan",
         "1973": "nan",
         "1974": "nan",
         "1975": "nan",
         "1976": "nan",
         "1977": "nan",
         "1978": "nan",
         "1979": "nan",
         "1980": "nan",
         "1981": "nan",
         "1982": "nan",
         "1983": "nan",
         "1984": "nan",
         "1985": 4.032258056,
         "1986": 1.073966408,
         "1987": 3.643045458,
         "1988": 3.121868496,
         "1989": 3.991628046,
         "1990": 5.836687752,
         "1991": 5.555555556,
         "1992": 3.87337537,
         "1993": 5.21555996,
         "1994": 6.311079713,
         "1995": 3.361391073,
         "1996": 3.225287972,
         "1997": 2.999948098,
         "1998": 1.869488536,
         "1999": 2.280371983,
         "2000": 4.044021312,
         "2001": 2.883604303,
         "2002": 3.315246786,
         "2003": 3.656365079,
         "2004": 2.529129469,
         "2005": 3.397786778,
         "2006": 3.608024388,
         "2007": 5.392567845,
         "2008": 8.955987052,
         "2009": -2.13542872,
         "2010": 2.078140719,
         "2011": 4.316297422,
         "2012": 0.627471993,
         "2013": -2.372065243,
         "2014": 0.421440919,
         "2015": 0.474763597,
         "2016": -0.931195987,
         "2017": -1.028281788,
         "2018": 3.626041414,
         "2019": 4.257462043,
         "2020": "nan",
         "2021": "nan",
         "2022": "nan",
         "2023": "nan",
         "Country Code": "ABW",
         "Country Name": "Aruba",
         "Indicator Code": "FP.CPI.TOTL.ZG",
         "Indicator Name": "Inflation, consumer prices (annual %)",
         "_deepnote_index_column": 0
        },
        {
         "1960": "nan",
         "1961": "nan",
         "1962": "nan",
         "1963": "nan",
         "1964": "nan",
         "1965": "nan",
         "1966": "nan",
         "1967": "nan",
         "1968": "nan",
         "1969": "nan",
         "1970": "nan",
         "1971": "nan",
         "1972": "nan",
         "1973": "nan",
         "1974": 19.59839357,
         "1975": 15.22409894,
         "1976": 11.21647132,
         "1977": 14.23805549,
         "1978": 12.52689251,
         "1979": 15.06984982,
         "1980": 15.06651154,
         "1981": 14.46159107,
         "1982": 12.1399177,
         "1983": 11.56752438,
         "1984": 10.98386257,
         "1985": 13.00656642,
         "1986": 13.89197165,
         "1987": 12.56344322,
         "1988": 12.52225394,
         "1989": 12.55820207,
         "1990": 12.45791398,
         "1991": 17.67810026,
         "1992": 16.1676124,
         "1993": 13.13566077,
         "1994": 14.85281498,
         "1995": 12.28859126,
         "1996": 9.706586325,
         "1997": 10.24959874,
         "1998": 7.495256007,
         "1999": 7.819864776,
         "2000": 8.601485149,
         "2001": 5.840353983,
         "2002": 8.763753664,
         "2003": 7.44970014,
         "2004": 5.023420686,
         "2005": 8.558038022,
         "2006": 8.898163802,
         "2007": 8.450774806,
         "2008": 12.56664466,
         "2009": 8.954218024,
         "2010": 5.537537916,
         "2011": 8.97120641,
         "2012": 9.158708432,
         "2013": 5.750981334,
         "2014": 5.37028961,
         "2015": 5.24587835,
         "2016": 6.571396422,
         "2017": 6.399343416,
         "2018": 4.720804742,
         "2019": 4.653664731,
         "2020": 5.405162079,
         "2021": 7.240977656,
         "2022": 10.77375122,
         "2023": 7.126974821,
         "Country Code": "AFE",
         "Country Name": "Africa Eastern and Southern",
         "Indicator Code": "FP.CPI.TOTL.ZG",
         "Indicator Name": "Inflation, consumer prices (annual %)",
         "_deepnote_index_column": 1
        },
        {
         "1960": "nan",
         "1961": "nan",
         "1962": "nan",
         "1963": "nan",
         "1964": "nan",
         "1965": "nan",
         "1966": "nan",
         "1967": "nan",
         "1968": "nan",
         "1969": "nan",
         "1970": "nan",
         "1971": "nan",
         "1972": "nan",
         "1973": "nan",
         "1974": "nan",
         "1975": "nan",
         "1976": "nan",
         "1977": "nan",
         "1978": "nan",
         "1979": "nan",
         "1980": "nan",
         "1981": "nan",
         "1982": "nan",
         "1983": "nan",
         "1984": "nan",
         "1985": "nan",
         "1986": "nan",
         "1987": "nan",
         "1988": "nan",
         "1989": "nan",
         "1990": "nan",
         "1991": "nan",
         "1992": "nan",
         "1993": "nan",
         "1994": "nan",
         "1995": "nan",
         "1996": "nan",
         "1997": "nan",
         "1998": "nan",
         "1999": "nan",
         "2000": "nan",
         "2001": "nan",
         "2002": "nan",
         "2003": "nan",
         "2004": "nan",
         "2005": 12.68626872,
         "2006": 6.78459655,
         "2007": 8.680570785,
         "2008": 26.41866415,
         "2009": -6.811161089,
         "2010": 2.178537524,
         "2011": 11.80418581,
         "2012": 6.441212809,
         "2013": 7.385771784,
         "2014": 4.673996035,
         "2015": -0.661709165,
         "2016": 4.383891955,
         "2017": 4.975951506,
         "2018": 0.626149149,
         "2019": 2.302372515,
         "2020": "nan",
         "2021": "nan",
         "2022": "nan",
         "2023": "nan",
         "Country Code": "AFG",
         "Country Name": "Afghanistan",
         "Indicator Code": "FP.CPI.TOTL.ZG",
         "Indicator Name": "Inflation, consumer prices (annual %)",
         "_deepnote_index_column": 2
        },
        {
         "1960": "nan",
         "1961": "nan",
         "1962": "nan",
         "1963": "nan",
         "1964": "nan",
         "1965": "nan",
         "1966": "nan",
         "1967": "nan",
         "1968": "nan",
         "1969": "nan",
         "1970": "nan",
         "1971": "nan",
         "1972": "nan",
         "1973": "nan",
         "1974": "nan",
         "1975": "nan",
         "1976": "nan",
         "1977": "nan",
         "1978": "nan",
         "1979": "nan",
         "1980": "nan",
         "1981": 8.799210833,
         "1982": 12.05976521,
         "1983": 10.67193676,
         "1984": 11.25,
         "1985": 7.354925776,
         "1986": 5.950964999,
         "1987": 0.248788555,
         "1988": 2.523659306,
         "1989": 0.869287023,
         "1990": 1.057361395,
         "1991": 1.741887859,
         "1992": -0.062999006,
         "1993": 0.553455724,
         "1994": 31.84101684,
         "1995": 10.56328867,
         "1996": 4.914239726,
         "1997": 3.997141704,
         "1998": 4.471125439,
         "1999": 0.37226617,
         "2000": 2.530775167,
         "2001": 4.36152914,
         "2002": 3.188693302,
         "2003": 1.760904101,
         "2004": 0.694336306,
         "2005": 5.631633514,
         "2006": 4.415899842,
         "2007": 3.60736768,
         "2008": 8.452976233,
         "2009": 3.282440376,
         "2010": 1.784844205,
         "2011": 4.018699075,
         "2012": 4.578374635,
         "2013": 2.439200761,
         "2014": 1.768435821,
         "2015": 2.130817381,
         "2016": 1.487415508,
         "2017": 1.725486024,
         "2018": 1.784049948,
         "2019": 1.983092285,
         "2020": 2.490377839,
         "2021": 3.74570045,
         "2022": 7.949251435,
         "2023": 4.953050345,
         "Country Code": "AFW",
         "Country Name": "Africa Western and Central",
         "Indicator Code": "FP.CPI.TOTL.ZG",
         "Indicator Name": "Inflation, consumer prices (annual %)",
         "_deepnote_index_column": 3
        },
        {
         "1960": "nan",
         "1961": "nan",
         "1962": "nan",
         "1963": "nan",
         "1964": "nan",
         "1965": "nan",
         "1966": "nan",
         "1967": "nan",
         "1968": "nan",
         "1969": "nan",
         "1970": "nan",
         "1971": "nan",
         "1972": "nan",
         "1973": "nan",
         "1974": "nan",
         "1975": "nan",
         "1976": "nan",
         "1977": "nan",
         "1978": "nan",
         "1979": "nan",
         "1980": "nan",
         "1981": "nan",
         "1982": "nan",
         "1983": "nan",
         "1984": "nan",
         "1985": "nan",
         "1986": "nan",
         "1987": "nan",
         "1988": "nan",
         "1989": "nan",
         "1990": "nan",
         "1991": 83.78378378,
         "1992": 299.5098039,
         "1993": 1378.527607,
         "1994": 949.7925311,
         "1995": 2666.450593,
         "1996": 4145.105982,
         "1997": 219.1767212,
         "1998": 107.2848215,
         "1999": 248.1959024,
         "2000": 324.9968716,
         "2001": 152.5610225,
         "2002": 108.8974361,
         "2003": 98.22414366,
         "2004": 43.54210675,
         "2005": 22.95351385,
         "2006": 13.30521018,
         "2007": 12.25149745,
         "2008": 12.47582913,
         "2009": 13.73028393,
         "2010": 14.46965649,
         "2011": 13.48246792,
         "2012": 10.27790492,
         "2013": 8.777814293,
         "2014": 7.280387304,
         "2015": 9.355972155,
         "2016": 30.69441508,
         "2017": 29.8444799,
         "2018": 19.62893797,
         "2019": 17.08095414,
         "2020": 22.27153925,
         "2021": 25.75429488,
         "2022": 21.35529013,
         "2023": 13.64410178,
         "Country Code": "AGO",
         "Country Name": "Angola",
         "Indicator Code": "FP.CPI.TOTL.ZG",
         "Indicator Name": "Inflation, consumer prices (annual %)",
         "_deepnote_index_column": 4
        }
       ]
      },
      "text/html": [
       "<div>\n",
       "<style scoped>\n",
       "    .dataframe tbody tr th:only-of-type {\n",
       "        vertical-align: middle;\n",
       "    }\n",
       "\n",
       "    .dataframe tbody tr th {\n",
       "        vertical-align: top;\n",
       "    }\n",
       "\n",
       "    .dataframe thead th {\n",
       "        text-align: right;\n",
       "    }\n",
       "</style>\n",
       "<table border=\"1\" class=\"dataframe\">\n",
       "  <thead>\n",
       "    <tr style=\"text-align: right;\">\n",
       "      <th></th>\n",
       "      <th>Country Name</th>\n",
       "      <th>Country Code</th>\n",
       "      <th>Indicator Name</th>\n",
       "      <th>Indicator Code</th>\n",
       "      <th>1960</th>\n",
       "      <th>1961</th>\n",
       "      <th>1962</th>\n",
       "      <th>1963</th>\n",
       "      <th>1964</th>\n",
       "      <th>1965</th>\n",
       "      <th>1966</th>\n",
       "      <th>1967</th>\n",
       "      <th>1968</th>\n",
       "      <th>1969</th>\n",
       "      <th>1970</th>\n",
       "      <th>1971</th>\n",
       "      <th>1972</th>\n",
       "      <th>1973</th>\n",
       "      <th>1974</th>\n",
       "      <th>1975</th>\n",
       "      <th>1976</th>\n",
       "      <th>1977</th>\n",
       "      <th>1978</th>\n",
       "      <th>1979</th>\n",
       "      <th>1980</th>\n",
       "      <th>1981</th>\n",
       "      <th>1982</th>\n",
       "      <th>1983</th>\n",
       "      <th>1984</th>\n",
       "      <th>1985</th>\n",
       "      <th>1986</th>\n",
       "      <th>1987</th>\n",
       "      <th>1988</th>\n",
       "      <th>1989</th>\n",
       "      <th>1990</th>\n",
       "      <th>1991</th>\n",
       "      <th>1992</th>\n",
       "      <th>1993</th>\n",
       "      <th>1994</th>\n",
       "      <th>1995</th>\n",
       "      <th>1996</th>\n",
       "      <th>1997</th>\n",
       "      <th>1998</th>\n",
       "      <th>1999</th>\n",
       "      <th>2000</th>\n",
       "      <th>2001</th>\n",
       "      <th>2002</th>\n",
       "      <th>2003</th>\n",
       "      <th>2004</th>\n",
       "      <th>2005</th>\n",
       "      <th>2006</th>\n",
       "      <th>2007</th>\n",
       "      <th>2008</th>\n",
       "      <th>2009</th>\n",
       "      <th>2010</th>\n",
       "      <th>2011</th>\n",
       "      <th>2012</th>\n",
       "      <th>2013</th>\n",
       "      <th>2014</th>\n",
       "      <th>2015</th>\n",
       "      <th>2016</th>\n",
       "      <th>2017</th>\n",
       "      <th>2018</th>\n",
       "      <th>2019</th>\n",
       "      <th>2020</th>\n",
       "      <th>2021</th>\n",
       "      <th>2022</th>\n",
       "      <th>2023</th>\n",
       "    </tr>\n",
       "  </thead>\n",
       "  <tbody>\n",
       "    <tr>\n",
       "      <th>0</th>\n",
       "      <td>Aruba</td>\n",
       "      <td>ABW</td>\n",
       "      <td>Inflation, consumer prices (annual %)</td>\n",
       "      <td>FP.CPI.TOTL.ZG</td>\n",
       "      <td>NaN</td>\n",
       "      <td>NaN</td>\n",
       "      <td>NaN</td>\n",
       "      <td>NaN</td>\n",
       "      <td>NaN</td>\n",
       "      <td>NaN</td>\n",
       "      <td>NaN</td>\n",
       "      <td>NaN</td>\n",
       "      <td>NaN</td>\n",
       "      <td>NaN</td>\n",
       "      <td>NaN</td>\n",
       "      <td>NaN</td>\n",
       "      <td>NaN</td>\n",
       "      <td>NaN</td>\n",
       "      <td>NaN</td>\n",
       "      <td>NaN</td>\n",
       "      <td>NaN</td>\n",
       "      <td>NaN</td>\n",
       "      <td>NaN</td>\n",
       "      <td>NaN</td>\n",
       "      <td>NaN</td>\n",
       "      <td>NaN</td>\n",
       "      <td>NaN</td>\n",
       "      <td>NaN</td>\n",
       "      <td>NaN</td>\n",
       "      <td>4.032258</td>\n",
       "      <td>1.073966</td>\n",
       "      <td>3.643045</td>\n",
       "      <td>3.121868</td>\n",
       "      <td>3.991628</td>\n",
       "      <td>5.836688</td>\n",
       "      <td>5.555556</td>\n",
       "      <td>3.873375</td>\n",
       "      <td>5.215560</td>\n",
       "      <td>6.311080</td>\n",
       "      <td>3.361391</td>\n",
       "      <td>3.225288</td>\n",
       "      <td>2.999948</td>\n",
       "      <td>1.869489</td>\n",
       "      <td>2.280372</td>\n",
       "      <td>4.044021</td>\n",
       "      <td>2.883604</td>\n",
       "      <td>3.315247</td>\n",
       "      <td>3.656365</td>\n",
       "      <td>2.529129</td>\n",
       "      <td>3.397787</td>\n",
       "      <td>3.608024</td>\n",
       "      <td>5.392568</td>\n",
       "      <td>8.955987</td>\n",
       "      <td>-2.135429</td>\n",
       "      <td>2.078141</td>\n",
       "      <td>4.316297</td>\n",
       "      <td>0.627472</td>\n",
       "      <td>-2.372065</td>\n",
       "      <td>0.421441</td>\n",
       "      <td>0.474764</td>\n",
       "      <td>-0.931196</td>\n",
       "      <td>-1.028282</td>\n",
       "      <td>3.626041</td>\n",
       "      <td>4.257462</td>\n",
       "      <td>NaN</td>\n",
       "      <td>NaN</td>\n",
       "      <td>NaN</td>\n",
       "      <td>NaN</td>\n",
       "    </tr>\n",
       "    <tr>\n",
       "      <th>1</th>\n",
       "      <td>Africa Eastern and Southern</td>\n",
       "      <td>AFE</td>\n",
       "      <td>Inflation, consumer prices (annual %)</td>\n",
       "      <td>FP.CPI.TOTL.ZG</td>\n",
       "      <td>NaN</td>\n",
       "      <td>NaN</td>\n",
       "      <td>NaN</td>\n",
       "      <td>NaN</td>\n",
       "      <td>NaN</td>\n",
       "      <td>NaN</td>\n",
       "      <td>NaN</td>\n",
       "      <td>NaN</td>\n",
       "      <td>NaN</td>\n",
       "      <td>NaN</td>\n",
       "      <td>NaN</td>\n",
       "      <td>NaN</td>\n",
       "      <td>NaN</td>\n",
       "      <td>NaN</td>\n",
       "      <td>19.598394</td>\n",
       "      <td>15.224099</td>\n",
       "      <td>11.216471</td>\n",
       "      <td>14.238055</td>\n",
       "      <td>12.526893</td>\n",
       "      <td>15.069850</td>\n",
       "      <td>15.066512</td>\n",
       "      <td>14.461591</td>\n",
       "      <td>12.139918</td>\n",
       "      <td>11.567524</td>\n",
       "      <td>10.983863</td>\n",
       "      <td>13.006566</td>\n",
       "      <td>13.891972</td>\n",
       "      <td>12.563443</td>\n",
       "      <td>12.522254</td>\n",
       "      <td>12.558202</td>\n",
       "      <td>12.457914</td>\n",
       "      <td>17.678100</td>\n",
       "      <td>16.167612</td>\n",
       "      <td>13.135661</td>\n",
       "      <td>14.852815</td>\n",
       "      <td>12.288591</td>\n",
       "      <td>9.706586</td>\n",
       "      <td>10.249599</td>\n",
       "      <td>7.495256</td>\n",
       "      <td>7.819865</td>\n",
       "      <td>8.601485</td>\n",
       "      <td>5.840354</td>\n",
       "      <td>8.763754</td>\n",
       "      <td>7.449700</td>\n",
       "      <td>5.023421</td>\n",
       "      <td>8.558038</td>\n",
       "      <td>8.898164</td>\n",
       "      <td>8.450775</td>\n",
       "      <td>12.566645</td>\n",
       "      <td>8.954218</td>\n",
       "      <td>5.537538</td>\n",
       "      <td>8.971206</td>\n",
       "      <td>9.158708</td>\n",
       "      <td>5.750981</td>\n",
       "      <td>5.370290</td>\n",
       "      <td>5.245878</td>\n",
       "      <td>6.571396</td>\n",
       "      <td>6.399343</td>\n",
       "      <td>4.720805</td>\n",
       "      <td>4.653665</td>\n",
       "      <td>5.405162</td>\n",
       "      <td>7.240978</td>\n",
       "      <td>10.773751</td>\n",
       "      <td>7.126975</td>\n",
       "    </tr>\n",
       "    <tr>\n",
       "      <th>2</th>\n",
       "      <td>Afghanistan</td>\n",
       "      <td>AFG</td>\n",
       "      <td>Inflation, consumer prices (annual %)</td>\n",
       "      <td>FP.CPI.TOTL.ZG</td>\n",
       "      <td>NaN</td>\n",
       "      <td>NaN</td>\n",
       "      <td>NaN</td>\n",
       "      <td>NaN</td>\n",
       "      <td>NaN</td>\n",
       "      <td>NaN</td>\n",
       "      <td>NaN</td>\n",
       "      <td>NaN</td>\n",
       "      <td>NaN</td>\n",
       "      <td>NaN</td>\n",
       "      <td>NaN</td>\n",
       "      <td>NaN</td>\n",
       "      <td>NaN</td>\n",
       "      <td>NaN</td>\n",
       "      <td>NaN</td>\n",
       "      <td>NaN</td>\n",
       "      <td>NaN</td>\n",
       "      <td>NaN</td>\n",
       "      <td>NaN</td>\n",
       "      <td>NaN</td>\n",
       "      <td>NaN</td>\n",
       "      <td>NaN</td>\n",
       "      <td>NaN</td>\n",
       "      <td>NaN</td>\n",
       "      <td>NaN</td>\n",
       "      <td>NaN</td>\n",
       "      <td>NaN</td>\n",
       "      <td>NaN</td>\n",
       "      <td>NaN</td>\n",
       "      <td>NaN</td>\n",
       "      <td>NaN</td>\n",
       "      <td>NaN</td>\n",
       "      <td>NaN</td>\n",
       "      <td>NaN</td>\n",
       "      <td>NaN</td>\n",
       "      <td>NaN</td>\n",
       "      <td>NaN</td>\n",
       "      <td>NaN</td>\n",
       "      <td>NaN</td>\n",
       "      <td>NaN</td>\n",
       "      <td>NaN</td>\n",
       "      <td>NaN</td>\n",
       "      <td>NaN</td>\n",
       "      <td>NaN</td>\n",
       "      <td>NaN</td>\n",
       "      <td>12.686269</td>\n",
       "      <td>6.784597</td>\n",
       "      <td>8.680571</td>\n",
       "      <td>26.418664</td>\n",
       "      <td>-6.811161</td>\n",
       "      <td>2.178538</td>\n",
       "      <td>11.804186</td>\n",
       "      <td>6.441213</td>\n",
       "      <td>7.385772</td>\n",
       "      <td>4.673996</td>\n",
       "      <td>-0.661709</td>\n",
       "      <td>4.383892</td>\n",
       "      <td>4.975952</td>\n",
       "      <td>0.626149</td>\n",
       "      <td>2.302373</td>\n",
       "      <td>NaN</td>\n",
       "      <td>NaN</td>\n",
       "      <td>NaN</td>\n",
       "      <td>NaN</td>\n",
       "    </tr>\n",
       "    <tr>\n",
       "      <th>3</th>\n",
       "      <td>Africa Western and Central</td>\n",
       "      <td>AFW</td>\n",
       "      <td>Inflation, consumer prices (annual %)</td>\n",
       "      <td>FP.CPI.TOTL.ZG</td>\n",
       "      <td>NaN</td>\n",
       "      <td>NaN</td>\n",
       "      <td>NaN</td>\n",
       "      <td>NaN</td>\n",
       "      <td>NaN</td>\n",
       "      <td>NaN</td>\n",
       "      <td>NaN</td>\n",
       "      <td>NaN</td>\n",
       "      <td>NaN</td>\n",
       "      <td>NaN</td>\n",
       "      <td>NaN</td>\n",
       "      <td>NaN</td>\n",
       "      <td>NaN</td>\n",
       "      <td>NaN</td>\n",
       "      <td>NaN</td>\n",
       "      <td>NaN</td>\n",
       "      <td>NaN</td>\n",
       "      <td>NaN</td>\n",
       "      <td>NaN</td>\n",
       "      <td>NaN</td>\n",
       "      <td>NaN</td>\n",
       "      <td>8.799211</td>\n",
       "      <td>12.059765</td>\n",
       "      <td>10.671937</td>\n",
       "      <td>11.250000</td>\n",
       "      <td>7.354926</td>\n",
       "      <td>5.950965</td>\n",
       "      <td>0.248789</td>\n",
       "      <td>2.523659</td>\n",
       "      <td>0.869287</td>\n",
       "      <td>1.057361</td>\n",
       "      <td>1.741888</td>\n",
       "      <td>-0.062999</td>\n",
       "      <td>0.553456</td>\n",
       "      <td>31.841017</td>\n",
       "      <td>10.563289</td>\n",
       "      <td>4.914240</td>\n",
       "      <td>3.997142</td>\n",
       "      <td>4.471125</td>\n",
       "      <td>0.372266</td>\n",
       "      <td>2.530775</td>\n",
       "      <td>4.361529</td>\n",
       "      <td>3.188693</td>\n",
       "      <td>1.760904</td>\n",
       "      <td>0.694336</td>\n",
       "      <td>5.631634</td>\n",
       "      <td>4.415900</td>\n",
       "      <td>3.607368</td>\n",
       "      <td>8.452976</td>\n",
       "      <td>3.282440</td>\n",
       "      <td>1.784844</td>\n",
       "      <td>4.018699</td>\n",
       "      <td>4.578375</td>\n",
       "      <td>2.439201</td>\n",
       "      <td>1.768436</td>\n",
       "      <td>2.130817</td>\n",
       "      <td>1.487416</td>\n",
       "      <td>1.725486</td>\n",
       "      <td>1.784050</td>\n",
       "      <td>1.983092</td>\n",
       "      <td>2.490378</td>\n",
       "      <td>3.745700</td>\n",
       "      <td>7.949251</td>\n",
       "      <td>4.953050</td>\n",
       "    </tr>\n",
       "    <tr>\n",
       "      <th>4</th>\n",
       "      <td>Angola</td>\n",
       "      <td>AGO</td>\n",
       "      <td>Inflation, consumer prices (annual %)</td>\n",
       "      <td>FP.CPI.TOTL.ZG</td>\n",
       "      <td>NaN</td>\n",
       "      <td>NaN</td>\n",
       "      <td>NaN</td>\n",
       "      <td>NaN</td>\n",
       "      <td>NaN</td>\n",
       "      <td>NaN</td>\n",
       "      <td>NaN</td>\n",
       "      <td>NaN</td>\n",
       "      <td>NaN</td>\n",
       "      <td>NaN</td>\n",
       "      <td>NaN</td>\n",
       "      <td>NaN</td>\n",
       "      <td>NaN</td>\n",
       "      <td>NaN</td>\n",
       "      <td>NaN</td>\n",
       "      <td>NaN</td>\n",
       "      <td>NaN</td>\n",
       "      <td>NaN</td>\n",
       "      <td>NaN</td>\n",
       "      <td>NaN</td>\n",
       "      <td>NaN</td>\n",
       "      <td>NaN</td>\n",
       "      <td>NaN</td>\n",
       "      <td>NaN</td>\n",
       "      <td>NaN</td>\n",
       "      <td>NaN</td>\n",
       "      <td>NaN</td>\n",
       "      <td>NaN</td>\n",
       "      <td>NaN</td>\n",
       "      <td>NaN</td>\n",
       "      <td>NaN</td>\n",
       "      <td>83.783784</td>\n",
       "      <td>299.509804</td>\n",
       "      <td>1378.527607</td>\n",
       "      <td>949.792531</td>\n",
       "      <td>2666.450593</td>\n",
       "      <td>4145.105982</td>\n",
       "      <td>219.176721</td>\n",
       "      <td>107.284822</td>\n",
       "      <td>248.195902</td>\n",
       "      <td>324.996872</td>\n",
       "      <td>152.561023</td>\n",
       "      <td>108.897436</td>\n",
       "      <td>98.224144</td>\n",
       "      <td>43.542107</td>\n",
       "      <td>22.953514</td>\n",
       "      <td>13.305210</td>\n",
       "      <td>12.251497</td>\n",
       "      <td>12.475829</td>\n",
       "      <td>13.730284</td>\n",
       "      <td>14.469656</td>\n",
       "      <td>13.482468</td>\n",
       "      <td>10.277905</td>\n",
       "      <td>8.777814</td>\n",
       "      <td>7.280387</td>\n",
       "      <td>9.355972</td>\n",
       "      <td>30.694415</td>\n",
       "      <td>29.844480</td>\n",
       "      <td>19.628938</td>\n",
       "      <td>17.080954</td>\n",
       "      <td>22.271539</td>\n",
       "      <td>25.754295</td>\n",
       "      <td>21.355290</td>\n",
       "      <td>13.644102</td>\n",
       "    </tr>\n",
       "  </tbody>\n",
       "</table>\n",
       "</div>"
      ],
      "text/plain": [
       "                  Country Name Country Code  \\\n",
       "0                        Aruba          ABW   \n",
       "1  Africa Eastern and Southern          AFE   \n",
       "2                  Afghanistan          AFG   \n",
       "3   Africa Western and Central          AFW   \n",
       "4                       Angola          AGO   \n",
       "\n",
       "                          Indicator Name  Indicator Code  1960  1961  1962  \\\n",
       "0  Inflation, consumer prices (annual %)  FP.CPI.TOTL.ZG   NaN   NaN   NaN   \n",
       "1  Inflation, consumer prices (annual %)  FP.CPI.TOTL.ZG   NaN   NaN   NaN   \n",
       "2  Inflation, consumer prices (annual %)  FP.CPI.TOTL.ZG   NaN   NaN   NaN   \n",
       "3  Inflation, consumer prices (annual %)  FP.CPI.TOTL.ZG   NaN   NaN   NaN   \n",
       "4  Inflation, consumer prices (annual %)  FP.CPI.TOTL.ZG   NaN   NaN   NaN   \n",
       "\n",
       "   1963  1964  1965  1966  1967  1968  1969  1970  1971  1972  1973      1974  \\\n",
       "0   NaN   NaN   NaN   NaN   NaN   NaN   NaN   NaN   NaN   NaN   NaN       NaN   \n",
       "1   NaN   NaN   NaN   NaN   NaN   NaN   NaN   NaN   NaN   NaN   NaN 19.598394   \n",
       "2   NaN   NaN   NaN   NaN   NaN   NaN   NaN   NaN   NaN   NaN   NaN       NaN   \n",
       "3   NaN   NaN   NaN   NaN   NaN   NaN   NaN   NaN   NaN   NaN   NaN       NaN   \n",
       "4   NaN   NaN   NaN   NaN   NaN   NaN   NaN   NaN   NaN   NaN   NaN       NaN   \n",
       "\n",
       "       1975      1976      1977      1978      1979      1980      1981  \\\n",
       "0       NaN       NaN       NaN       NaN       NaN       NaN       NaN   \n",
       "1 15.224099 11.216471 14.238055 12.526893 15.069850 15.066512 14.461591   \n",
       "2       NaN       NaN       NaN       NaN       NaN       NaN       NaN   \n",
       "3       NaN       NaN       NaN       NaN       NaN       NaN  8.799211   \n",
       "4       NaN       NaN       NaN       NaN       NaN       NaN       NaN   \n",
       "\n",
       "       1982      1983      1984      1985      1986      1987      1988  \\\n",
       "0       NaN       NaN       NaN  4.032258  1.073966  3.643045  3.121868   \n",
       "1 12.139918 11.567524 10.983863 13.006566 13.891972 12.563443 12.522254   \n",
       "2       NaN       NaN       NaN       NaN       NaN       NaN       NaN   \n",
       "3 12.059765 10.671937 11.250000  7.354926  5.950965  0.248789  2.523659   \n",
       "4       NaN       NaN       NaN       NaN       NaN       NaN       NaN   \n",
       "\n",
       "       1989      1990      1991       1992        1993       1994        1995  \\\n",
       "0  3.991628  5.836688  5.555556   3.873375    5.215560   6.311080    3.361391   \n",
       "1 12.558202 12.457914 17.678100  16.167612   13.135661  14.852815   12.288591   \n",
       "2       NaN       NaN       NaN        NaN         NaN        NaN         NaN   \n",
       "3  0.869287  1.057361  1.741888  -0.062999    0.553456  31.841017   10.563289   \n",
       "4       NaN       NaN 83.783784 299.509804 1378.527607 949.792531 2666.450593   \n",
       "\n",
       "         1996       1997       1998       1999       2000       2001  \\\n",
       "0    3.225288   2.999948   1.869489   2.280372   4.044021   2.883604   \n",
       "1    9.706586  10.249599   7.495256   7.819865   8.601485   5.840354   \n",
       "2         NaN        NaN        NaN        NaN        NaN        NaN   \n",
       "3    4.914240   3.997142   4.471125   0.372266   2.530775   4.361529   \n",
       "4 4145.105982 219.176721 107.284822 248.195902 324.996872 152.561023   \n",
       "\n",
       "        2002      2003      2004      2005      2006      2007      2008  \\\n",
       "0   3.315247  3.656365  2.529129  3.397787  3.608024  5.392568  8.955987   \n",
       "1   8.763754  7.449700  5.023421  8.558038  8.898164  8.450775 12.566645   \n",
       "2        NaN       NaN       NaN 12.686269  6.784597  8.680571 26.418664   \n",
       "3   3.188693  1.760904  0.694336  5.631634  4.415900  3.607368  8.452976   \n",
       "4 108.897436 98.224144 43.542107 22.953514 13.305210 12.251497 12.475829   \n",
       "\n",
       "       2009      2010      2011      2012      2013     2014      2015  \\\n",
       "0 -2.135429  2.078141  4.316297  0.627472 -2.372065 0.421441  0.474764   \n",
       "1  8.954218  5.537538  8.971206  9.158708  5.750981 5.370290  5.245878   \n",
       "2 -6.811161  2.178538 11.804186  6.441213  7.385772 4.673996 -0.661709   \n",
       "3  3.282440  1.784844  4.018699  4.578375  2.439201 1.768436  2.130817   \n",
       "4 13.730284 14.469656 13.482468 10.277905  8.777814 7.280387  9.355972   \n",
       "\n",
       "       2016      2017      2018      2019      2020      2021      2022  \\\n",
       "0 -0.931196 -1.028282  3.626041  4.257462       NaN       NaN       NaN   \n",
       "1  6.571396  6.399343  4.720805  4.653665  5.405162  7.240978 10.773751   \n",
       "2  4.383892  4.975952  0.626149  2.302373       NaN       NaN       NaN   \n",
       "3  1.487416  1.725486  1.784050  1.983092  2.490378  3.745700  7.949251   \n",
       "4 30.694415 29.844480 19.628938 17.080954 22.271539 25.754295 21.355290   \n",
       "\n",
       "       2023  \n",
       "0       NaN  \n",
       "1  7.126975  \n",
       "2       NaN  \n",
       "3  4.953050  \n",
       "4 13.644102  "
      ]
     },
     "execution_count": 3,
     "metadata": {},
     "output_type": "execute_result"
    }
   ],
   "source": [
    "# View the first 5 rows of the data\n",
    "INF.head()"
   ]
  },
  {
   "cell_type": "code",
   "execution_count": 4,
   "metadata": {
    "cell_id": "c8912f13971a43b19b6cb5846f30380e",
    "deepnote_cell_type": "code",
    "execution_context_id": "8d65cd50-877a-4195-8794-e5c7ef350032",
    "execution_millis": 0,
    "execution_start": 1740937309823,
    "id": "oQWcWpeltlCi",
    "source_hash": "a415b5bc"
   },
   "outputs": [],
   "source": [
    "# Rename columns\n",
    "INF = INF.rename(columns={\"Country Name\": \"country\"})"
   ]
  },
  {
   "cell_type": "code",
   "execution_count": 5,
   "metadata": {
    "cell_id": "04aae2a6c2fc4f6a8dfa88790f8d756f",
    "deepnote_cell_type": "code",
    "execution_context_id": "8d65cd50-877a-4195-8794-e5c7ef350032",
    "execution_millis": 0,
    "execution_start": 1740937309872,
    "id": "HSR8JEQAtnCl",
    "source_hash": "7a56981"
   },
   "outputs": [],
   "source": [
    "# Drop columns not required\n",
    "INF = INF.drop(columns=['Country Code', 'Indicator Name', 'Indicator Code'])"
   ]
  },
  {
   "cell_type": "code",
   "execution_count": 6,
   "metadata": {
    "cell_id": "7aa346590fea45f38eb6843b305b2de9",
    "deepnote_cell_type": "code",
    "execution_context_id": "8d65cd50-877a-4195-8794-e5c7ef350032",
    "execution_millis": 0,
    "execution_start": 1740937309928,
    "id": "PP5uP0cwtq4W",
    "source_hash": "46b08db7"
   },
   "outputs": [],
   "source": [
    "# Only select OECD countries\n",
    "countries_to_keep = ['Australia', 'Austria', 'Belgium', 'Canada', 'Chile', 'Colombia', 'Costa Rica', 'Czechia', 'Denmark', 'Estonia', 'Finland', 'France', 'Germany', 'Greece', 'Hungary', 'Ireland', 'Iceland', 'Israel', 'Italy', 'Korea, Rep.', 'Japan', 'Latvia', 'Lithuania', 'Luxembourg', 'Mexico', 'Netherlands', 'New Zealand', 'Norway', 'Poland', 'Portugal', 'Slovenia', 'Spain', 'Sweden', 'Switzerland', 'Turkiye', 'United Kingdom', 'United States']\n",
    "INF = INF[INF['country'].isin(countries_to_keep)]"
   ]
  },
  {
   "cell_type": "code",
   "execution_count": 7,
   "metadata": {
    "cell_id": "31f3397c590c4812b806afc7caed29b3",
    "deepnote_cell_type": "code",
    "execution_context_id": "8d65cd50-877a-4195-8794-e5c7ef350032",
    "execution_millis": 0,
    "execution_start": 1740937309988,
    "id": "RzzzvmlGtszC",
    "source_hash": "2d05573"
   },
   "outputs": [],
   "source": [
    "# Rename Türkiye to Turkey\n",
    "INF['country'] = INF['country'].replace('Turkiye', 'Turkey')"
   ]
  },
  {
   "cell_type": "code",
   "execution_count": 8,
   "metadata": {
    "cell_id": "77d9c83f03c743a786553bad81415c26",
    "deepnote_cell_type": "code",
    "execution_context_id": "8d65cd50-877a-4195-8794-e5c7ef350032",
    "execution_millis": 0,
    "execution_start": 1740937310052,
    "id": "qCHyTk-Atu48",
    "source_hash": "c7bc8fe7"
   },
   "outputs": [],
   "source": [
    "# Rename Korea, Rep. to Korea\n",
    "INF['country'] = INF['country'].replace('Korea, Rep.', 'Korea')"
   ]
  },
  {
   "cell_type": "code",
   "execution_count": 9,
   "metadata": {
    "cell_id": "fbda729d692e4547b1b737d31688e3c7",
    "deepnote_cell_type": "code",
    "execution_context_id": "8d65cd50-877a-4195-8794-e5c7ef350032",
    "execution_millis": 1,
    "execution_start": 1740937310100,
    "id": "tuRs6rO1tzJw",
    "source_hash": "89888510"
   },
   "outputs": [],
   "source": [
    "# Drop columns by name\n",
    "INF = INF.drop(columns=['1960', '1961', '1962', '1963', '1964', '1965', '1966', '1967', '1968', '1969', '1970', '1971', '1972', '1973', '1974', '1975', '1976', '1977', '1978', '1979', '1980', '1981', '1982', '1983', '1984', '1985', '1986', '1987', '1988'])"
   ]
  },
  {
   "cell_type": "code",
   "execution_count": 10,
   "metadata": {
    "cell_id": "ce352a28f22a4bfe82222d52b903f105",
    "colab": {
     "base_uri": "https://localhost:8080/",
     "height": 1000
    },
    "deepnote_cell_type": "code",
    "execution_context_id": "8d65cd50-877a-4195-8794-e5c7ef350032",
    "execution_millis": 0,
    "execution_start": 1740937310148,
    "id": "6jGHJEamt10F",
    "outputId": "658a5eac-6414-4508-ff1d-dcf48566aec5",
    "source_hash": "3bb1c79b"
   },
   "outputs": [
    {
     "data": {
      "text/plain": [
       "13     0\n",
       "14     0\n",
       "17     0\n",
       "35     0\n",
       "37     0\n",
       "39     0\n",
       "45     0\n",
       "48     0\n",
       "54     3\n",
       "55     0\n",
       "58     0\n",
       "70     0\n",
       "71     4\n",
       "75     0\n",
       "77     0\n",
       "81     0\n",
       "89     0\n",
       "101    0\n",
       "111    0\n",
       "114    0\n",
       "115    0\n",
       "116    0\n",
       "119    0\n",
       "126    0\n",
       "143    3\n",
       "144    0\n",
       "145    3\n",
       "154    0\n",
       "176    0\n",
       "177    0\n",
       "180    0\n",
       "190    0\n",
       "194    0\n",
       "222    0\n",
       "223    0\n",
       "244    0\n",
       "251    0\n",
       "dtype: int64"
      ]
     },
     "execution_count": 10,
     "metadata": {},
     "output_type": "execute_result"
    }
   ],
   "source": [
    "# Check for missing values by row\n",
    "INF.isnull().sum(axis=1)"
   ]
  },
  {
   "cell_type": "code",
   "execution_count": 11,
   "metadata": {
    "cell_id": "ebb11e68721c461488c42eb1edbaa34d",
    "deepnote_cell_type": "code",
    "execution_context_id": "8d65cd50-877a-4195-8794-e5c7ef350032",
    "execution_millis": 0,
    "execution_start": 1740937310204,
    "id": "oa-on80rurRu",
    "source_hash": "f0454dbb"
   },
   "outputs": [],
   "source": [
    "# Specify the countries and years\n",
    "countries = ['Czechia', 'Lithuania', 'Latvia']\n",
    "years = ['1989', '1990', '1991']\n",
    "\n",
    "# Fill missing values with the value from 1992\n",
    "for country in countries:\n",
    "    for year in years:\n",
    "        INF.loc[(INF['country'] == country) & (INF[year].isnull()), year] = INF.loc[INF['country'] == country, '1992'].values[0]"
   ]
  },
  {
   "cell_type": "code",
   "execution_count": 12,
   "metadata": {
    "cell_id": "41851f425d2f4d2b8f771b307c39be13",
    "deepnote_cell_type": "code",
    "execution_context_id": "8d65cd50-877a-4195-8794-e5c7ef350032",
    "execution_millis": 0,
    "execution_start": 1740937310268,
    "id": "IcCzH8bBur6l",
    "source_hash": "92fa5aa9"
   },
   "outputs": [],
   "source": [
    "# Fill missing values with the value from 1993\n",
    "INF.loc[(INF['country'] == 'Estonia') & (INF['1989'].isnull()), ['1989', '1990', '1991', '1992']] = INF.loc[INF['country'] == 'Estonia', '1993'].values[0]"
   ]
  },
  {
   "cell_type": "code",
   "execution_count": 14,
   "metadata": {
    "cell_id": "f02e8a0fe80644adb6677ee88db1ac10",
    "deepnote_cell_type": "code",
    "execution_context_id": "8d65cd50-877a-4195-8794-e5c7ef350032",
    "execution_millis": 0,
    "execution_start": 1740937310420,
    "id": "iQhZN9dOvCIu",
    "source_hash": "820c511c"
   },
   "outputs": [],
   "source": [
    "# Melt the dataframe\n",
    "INF_melted = pd.melt(INF, id_vars=['country'], var_name='year', value_name='value')\n",
    "INF_melted = INF_melted.sort_values(by=['country', 'year']).reset_index(drop=True)\n",
    "INF_melted['year'] = INF_melted['year'].astype(int)"
   ]
  },
  {
   "cell_type": "code",
   "execution_count": 15,
   "metadata": {
    "cell_id": "605508af494046d89beaee58cc4d8b4d",
    "deepnote_cell_type": "code",
    "execution_context_id": "8d65cd50-877a-4195-8794-e5c7ef350032",
    "execution_millis": 0,
    "execution_start": 1740937310468,
    "id": "afKSvEImvQaI",
    "source_hash": "bee0af60"
   },
   "outputs": [],
   "source": [
    "# Calculate percentage change\n",
    "INF_melted['inflation_percentage_change'] = INF_melted.groupby('country')['value'].pct_change() * 100"
   ]
  },
  {
   "cell_type": "code",
   "execution_count": 16,
   "metadata": {
    "cell_id": "6746b450fc5e4c17b43491ec35b1ec79",
    "deepnote_cell_type": "code",
    "execution_context_id": "8d65cd50-877a-4195-8794-e5c7ef350032",
    "execution_millis": 0,
    "execution_start": 1740937310524,
    "id": "ts_hPdfgvanE",
    "source_hash": "8f9dd85b"
   },
   "outputs": [],
   "source": [
    "# Remove rows from 1989\n",
    "INF_melted = INF_melted[INF_melted['year'] != 1989]\n",
    "INF_melted = INF_melted.reset_index(drop=True)"
   ]
  },
  {
   "cell_type": "code",
   "execution_count": 17,
   "metadata": {
    "cell_id": "9f546acdcb0145e39777875ace9cf125",
    "deepnote_cell_type": "code",
    "execution_context_id": "8d65cd50-877a-4195-8794-e5c7ef350032",
    "execution_millis": 0,
    "execution_start": 1740937310572,
    "id": "LadpYDovvkOJ",
    "source_hash": "2910eba8"
   },
   "outputs": [],
   "source": [
    "# Remove the value column\n",
    "INF_melted = INF_melted.drop(columns=['value'])"
   ]
  },
  {
   "cell_type": "code",
   "execution_count": 18,
   "metadata": {
    "cell_id": "6b8c4bc712b940edbc4f07f1782ed870",
    "colab": {
     "base_uri": "https://localhost:8080/",
     "height": 178
    },
    "deepnote_cell_type": "code",
    "execution_context_id": "8d65cd50-877a-4195-8794-e5c7ef350032",
    "execution_millis": 1,
    "execution_start": 1740937310620,
    "id": "9-tnaH9SvmXo",
    "outputId": "1463973b-4947-4347-be3e-927728e60e00",
    "source_hash": "dd4e5169"
   },
   "outputs": [
    {
     "data": {
      "text/plain": [
       "country                        0\n",
       "year                           0\n",
       "inflation_percentage_change    0\n",
       "dtype: int64"
      ]
     },
     "execution_count": 18,
     "metadata": {},
     "output_type": "execute_result"
    }
   ],
   "source": [
    "# Check for missing values\n",
    "INF_melted.isnull().sum()"
   ]
  },
  {
   "cell_type": "code",
   "execution_count": 19,
   "metadata": {
    "cell_id": "296611770800439e9f9de02e587d5c0f",
    "colab": {
     "base_uri": "https://localhost:8080/"
    },
    "deepnote_cell_type": "code",
    "execution_context_id": "8d65cd50-877a-4195-8794-e5c7ef350032",
    "execution_millis": 1,
    "execution_start": 1740937310676,
    "id": "YhMZSlv8vo5m",
    "outputId": "a613d055-8ffb-420a-9a5d-04270b4dffd0",
    "source_hash": "b1e1c859"
   },
   "outputs": [
    {
     "data": {
      "text/plain": [
       "0"
      ]
     },
     "execution_count": 19,
     "metadata": {},
     "output_type": "execute_result"
    }
   ],
   "source": [
    "# Check for duplicated rows\n",
    "INF_melted.duplicated().sum()"
   ]
  },
  {
   "cell_type": "code",
   "execution_count": 20,
   "metadata": {
    "cell_id": "af3d183852fd4e0ab7db7322642d7b6e",
    "colab": {
     "base_uri": "https://localhost:8080/"
    },
    "deepnote_cell_type": "code",
    "execution_context_id": "8d65cd50-877a-4195-8794-e5c7ef350032",
    "execution_millis": 1,
    "execution_start": 1740937310736,
    "id": "Y4qdoXf3vqu2",
    "outputId": "601e49fa-5e80-43d5-edde-6bd1e295773c",
    "source_hash": "fde9b9b1"
   },
   "outputs": [
    {
     "name": "stdout",
     "output_type": "stream",
     "text": [
      "<class 'pandas.core.frame.DataFrame'>\n",
      "RangeIndex: 1258 entries, 0 to 1257\n",
      "Data columns (total 3 columns):\n",
      " #   Column                       Non-Null Count  Dtype  \n",
      "---  ------                       --------------  -----  \n",
      " 0   country                      1258 non-null   object \n",
      " 1   year                         1258 non-null   int64  \n",
      " 2   inflation_percentage_change  1258 non-null   float64\n",
      "dtypes: float64(1), int64(1), object(1)\n",
      "memory usage: 29.6+ KB\n"
     ]
    }
   ],
   "source": [
    "# View a summary of the dataframe\n",
    "INF_melted.info()"
   ]
  },
  {
   "cell_type": "code",
   "execution_count": 21,
   "metadata": {
    "cell_id": "d19397209fd640c79af3f8e82ce370f7",
    "colab": {
     "base_uri": "https://localhost:8080/",
     "height": 300
    },
    "deepnote_cell_type": "code",
    "execution_context_id": "8d65cd50-877a-4195-8794-e5c7ef350032",
    "execution_millis": 1,
    "execution_start": 1740937310788,
    "id": "LgycKuJwvsxk",
    "outputId": "b9678798-6407-4b4a-ca98-583ef1dcb08e",
    "source_hash": "206b9513"
   },
   "outputs": [
    {
     "data": {
      "application/vnd.deepnote.dataframe.v3+json": {
       "column_count": 2,
       "columns": [
        {
         "dtype": "float64",
         "name": "year",
         "stats": {
          "histogram": [
           {
            "bin_end": 211.1331490801996,
            "bin_start": 9.814610089110666,
            "count": 1
           },
           {
            "bin_end": 412.4516880712885,
            "bin_start": 211.1331490801996,
            "count": 0
           },
           {
            "bin_end": 613.7702270623776,
            "bin_start": 412.4516880712885,
            "count": 0
           },
           {
            "bin_end": 815.0887660534664,
            "bin_start": 613.7702270623776,
            "count": 0
           },
           {
            "bin_end": 1016.4073050445553,
            "bin_start": 815.0887660534664,
            "count": 0
           },
           {
            "bin_end": 1217.7258440356443,
            "bin_start": 1016.4073050445553,
            "count": 0
           },
           {
            "bin_end": 1419.0443830267332,
            "bin_start": 1217.7258440356443,
            "count": 1
           },
           {
            "bin_end": 1620.362922017822,
            "bin_start": 1419.0443830267332,
            "count": 0
           },
           {
            "bin_end": 1821.681461008911,
            "bin_start": 1620.362922017822,
            "count": 0
           },
           {
            "bin_end": 2023,
            "bin_start": 1821.681461008911,
            "count": 6
           }
          ],
          "max": "2023.0",
          "min": "9.814610089110666",
          "nan_count": 0,
          "unique_count": 7
         }
        },
        {
         "dtype": "float64",
         "name": "inflation_percentage_change",
         "stats": {
          "histogram": [
           {
            "bin_end": -115854302.93084595,
            "bin_start": -129131532.06106871,
            "count": 1
           },
           {
            "bin_end": -102577073.80062318,
            "bin_start": -115854302.93084595,
            "count": 0
           },
           {
            "bin_end": -89299844.67040041,
            "bin_start": -102577073.80062318,
            "count": 0
           },
           {
            "bin_end": -76022615.54017764,
            "bin_start": -89299844.67040041,
            "count": 0
           },
           {
            "bin_end": -62745386.409954876,
            "bin_start": -76022615.54017764,
            "count": 0
           },
           {
            "bin_end": -49468157.27973211,
            "bin_start": -62745386.409954876,
            "count": 0
           },
           {
            "bin_end": -36190928.14950934,
            "bin_start": -49468157.27973211,
            "count": 0
           },
           {
            "bin_end": -22913699.019286573,
            "bin_start": -36190928.14950934,
            "count": 0
           },
           {
            "bin_end": -9636469.889063805,
            "bin_start": -22913699.019286573,
            "count": 0
           },
           {
            "bin_end": 3640759.241158955,
            "bin_start": -9636469.889063805,
            "count": 7
           }
          ],
          "max": "3640759.241158955",
          "min": "-129131532.06106871",
          "nan_count": 0,
          "unique_count": 8
         }
        },
        {
         "dtype": "object",
         "name": "_deepnote_index_column"
        }
       ],
       "row_count": 8,
       "rows": [
        {
         "_deepnote_index_column": "count",
         "inflation_percentage_change": 1258,
         "year": 1258
        },
        {
         "_deepnote_index_column": "mean",
         "inflation_percentage_change": -102656.657215034,
         "year": 2006.5
        },
        {
         "_deepnote_index_column": "std",
         "inflation_percentage_change": 3640759.241158955,
         "year": 9.814610089110666
        },
        {
         "_deepnote_index_column": "min",
         "inflation_percentage_change": -129131532.06106871,
         "year": 1990
        },
        {
         "_deepnote_index_column": "25%",
         "inflation_percentage_change": -38.6961530404413,
         "year": 1998
        },
        {
         "_deepnote_index_column": "50%",
         "inflation_percentage_change": -9.372983922996397,
         "year": 2006.5
        },
        {
         "_deepnote_index_column": "75%",
         "inflation_percentage_change": 30.157265936497396,
         "year": 2015
        },
        {
         "_deepnote_index_column": "max",
         "inflation_percentage_change": 8564.308221320156,
         "year": 2023
        }
       ]
      },
      "text/html": [
       "<div>\n",
       "<style scoped>\n",
       "    .dataframe tbody tr th:only-of-type {\n",
       "        vertical-align: middle;\n",
       "    }\n",
       "\n",
       "    .dataframe tbody tr th {\n",
       "        vertical-align: top;\n",
       "    }\n",
       "\n",
       "    .dataframe thead th {\n",
       "        text-align: right;\n",
       "    }\n",
       "</style>\n",
       "<table border=\"1\" class=\"dataframe\">\n",
       "  <thead>\n",
       "    <tr style=\"text-align: right;\">\n",
       "      <th></th>\n",
       "      <th>year</th>\n",
       "      <th>inflation_percentage_change</th>\n",
       "    </tr>\n",
       "  </thead>\n",
       "  <tbody>\n",
       "    <tr>\n",
       "      <th>count</th>\n",
       "      <td>1258.000000</td>\n",
       "      <td>1258.000000</td>\n",
       "    </tr>\n",
       "    <tr>\n",
       "      <th>mean</th>\n",
       "      <td>2006.500000</td>\n",
       "      <td>-102656.657215</td>\n",
       "    </tr>\n",
       "    <tr>\n",
       "      <th>std</th>\n",
       "      <td>9.814610</td>\n",
       "      <td>3640759.241159</td>\n",
       "    </tr>\n",
       "    <tr>\n",
       "      <th>min</th>\n",
       "      <td>1990.000000</td>\n",
       "      <td>-129131532.061069</td>\n",
       "    </tr>\n",
       "    <tr>\n",
       "      <th>25%</th>\n",
       "      <td>1998.000000</td>\n",
       "      <td>-38.696153</td>\n",
       "    </tr>\n",
       "    <tr>\n",
       "      <th>50%</th>\n",
       "      <td>2006.500000</td>\n",
       "      <td>-9.372984</td>\n",
       "    </tr>\n",
       "    <tr>\n",
       "      <th>75%</th>\n",
       "      <td>2015.000000</td>\n",
       "      <td>30.157266</td>\n",
       "    </tr>\n",
       "    <tr>\n",
       "      <th>max</th>\n",
       "      <td>2023.000000</td>\n",
       "      <td>8564.308221</td>\n",
       "    </tr>\n",
       "  </tbody>\n",
       "</table>\n",
       "</div>"
      ],
      "text/plain": [
       "             year  inflation_percentage_change\n",
       "count 1258.000000                  1258.000000\n",
       "mean  2006.500000               -102656.657215\n",
       "std      9.814610               3640759.241159\n",
       "min   1990.000000            -129131532.061069\n",
       "25%   1998.000000                   -38.696153\n",
       "50%   2006.500000                    -9.372984\n",
       "75%   2015.000000                    30.157266\n",
       "max   2023.000000                  8564.308221"
      ]
     },
     "execution_count": 21,
     "metadata": {},
     "output_type": "execute_result"
    }
   ],
   "source": [
    "# View the dataframe\n",
    "INF_melted.describe()"
   ]
  }
 ],
 "metadata": {
  "deepnote_notebook_id": "59418e5bbf654b1bac1e85eb55163db9",
  "deepnote_persisted_session": {
   "createdAt": "2025-03-02T18:36:37.897Z"
  },
  "kernelspec": {
   "display_name": "Python 3 (ipykernel)",
   "language": "python",
   "name": "python3"
  },
  "language_info": {
   "codemirror_mode": {
    "name": "ipython",
    "version": 3
   },
   "file_extension": ".py",
   "mimetype": "text/x-python",
   "name": "python",
   "nbconvert_exporter": "python",
   "pygments_lexer": "ipython3",
   "version": "3.12.4"
  }
 },
 "nbformat": 4,
 "nbformat_minor": 4
}
