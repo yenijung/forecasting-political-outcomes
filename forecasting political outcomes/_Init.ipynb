{
 "cells": [
  {
   "cell_type": "code",
   "execution_count": 1,
   "metadata": {
    "cell_id": "037caf4eaa524cdd9912b1e2f54bbddc",
    "deepnote_cell_type": "code",
    "execution_context_id": "181232ff-63a2-4524-884c-61067c712baf",
    "execution_millis": 27272,
    "execution_start": 1743170872606,
    "source_hash": "8d2fa896"
   },
   "outputs": [
    {
     "name": "stdout",
     "output_type": "stream",
     "text": [
      "Collecting openpyxl==3.1.5\n",
      "  Downloading openpyxl-3.1.5-py2.py3-none-any.whl (250 kB)\n",
      "\u001b[2K     \u001b[90m━━━━━━━━━━━━━━━━━━━━━━━━━━━━━━━━━━━━━━\u001b[0m \u001b[32m250.9/250.9 kB\u001b[0m \u001b[31m27.8 MB/s\u001b[0m eta \u001b[36m0:00:00\u001b[0m\n",
      "\u001b[?25hRequirement already satisfied: jinja2 in /root/venv/lib/python3.8/site-packages (from -r ./requirements.txt (line 2)) (3.1.5)\n",
      "Collecting statsmodels\n",
      "  Downloading statsmodels-0.14.1-cp38-cp38-manylinux_2_17_x86_64.manylinux2014_x86_64.whl (10.9 MB)\n",
      "\u001b[2K     \u001b[90m━━━━━━━━━━━━━━━━━━━━━━━━━━━━━━━━━━━━━━━━\u001b[0m \u001b[32m10.9/10.9 MB\u001b[0m \u001b[31m71.4 MB/s\u001b[0m eta \u001b[36m0:00:00\u001b[0m\n",
      "\u001b[?25hCollecting bs4==0.0.2\n",
      "  Downloading bs4-0.0.2-py2.py3-none-any.whl (1.2 kB)\n",
      "Collecting xgboost\n",
      "  Downloading xgboost-2.1.4-py3-none-manylinux_2_28_x86_64.whl (223.6 MB)\n",
      "\u001b[2K     \u001b[90m━━━━━━━━━━━━━━━━━━━━━━━━━━━━━━━━━━━━━━━\u001b[0m \u001b[32m223.6/223.6 MB\u001b[0m \u001b[31m4.8 MB/s\u001b[0m eta \u001b[36m0:00:00\u001b[0m\n",
      "\u001b[?25hCollecting lightgbm\n",
      "  Downloading lightgbm-4.6.0-py3-none-manylinux_2_28_x86_64.whl (3.6 MB)\n",
      "\u001b[2K     \u001b[90m━━━━━━━━━━━━━━━━━━━━━━━━━━━━━━━━━━━━━━━━\u001b[0m \u001b[32m3.6/3.6 MB\u001b[0m \u001b[31m69.9 MB/s\u001b[0m eta \u001b[36m0:00:00\u001b[0m\n",
      "\u001b[?25hCollecting catboost\n",
      "  Downloading catboost-1.2.7-cp38-cp38-manylinux2014_x86_64.whl (98.7 MB)\n",
      "\u001b[2K     \u001b[90m━━━━━━━━━━━━━━━━━━━━━━━━━━━━━━━━━━━━━━━━\u001b[0m \u001b[32m98.7/98.7 MB\u001b[0m \u001b[31m19.0 MB/s\u001b[0m eta \u001b[36m0:00:00\u001b[0m\n",
      "\u001b[?25hCollecting xlrd\n",
      "  Downloading xlrd-2.0.1-py2.py3-none-any.whl (96 kB)\n",
      "\u001b[2K     \u001b[90m━━━━━━━━━━━━━━━━━━━━━━━━━━━━━━━━━━━━━━━━\u001b[0m \u001b[32m96.5/96.5 kB\u001b[0m \u001b[31m9.3 MB/s\u001b[0m eta \u001b[36m0:00:00\u001b[0m\n",
      "\u001b[?25hCollecting et-xmlfile\n",
      "  Downloading et_xmlfile-2.0.0-py3-none-any.whl (18 kB)\n",
      "Collecting beautifulsoup4\n",
      "  Downloading beautifulsoup4-4.13.3-py3-none-any.whl (186 kB)\n",
      "\u001b[2K     \u001b[90m━━━━━━━━━━━━━━━━━━━━━━━━━━━━━━━━━━━━━━\u001b[0m \u001b[32m186.0/186.0 kB\u001b[0m \u001b[31m39.8 MB/s\u001b[0m eta \u001b[36m0:00:00\u001b[0m\n",
      "\u001b[?25hRequirement already satisfied: MarkupSafe>=2.0 in /root/venv/lib/python3.8/site-packages (from jinja2->-r ./requirements.txt (line 2)) (2.1.5)\n",
      "Collecting patsy>=0.5.4\n",
      "  Downloading patsy-1.0.1-py2.py3-none-any.whl (232 kB)\n",
      "\u001b[2K     \u001b[90m━━━━━━━━━━━━━━━━━━━━━━━━━━━━━━━━━━━━━━\u001b[0m \u001b[32m232.9/232.9 kB\u001b[0m \u001b[31m49.9 MB/s\u001b[0m eta \u001b[36m0:00:00\u001b[0m\n",
      "\u001b[?25hRequirement already satisfied: numpy<2,>=1.18 in /root/venv/lib/python3.8/site-packages (from statsmodels->-r ./requirements.txt (line 3)) (1.24.3)\n",
      "Requirement already satisfied: pandas!=2.1.0,>=1.0 in /root/venv/lib/python3.8/site-packages (from statsmodels->-r ./requirements.txt (line 3)) (2.0.3)\n",
      "Requirement already satisfied: scipy!=1.9.2,>=1.4 in /root/venv/lib/python3.8/site-packages (from statsmodels->-r ./requirements.txt (line 3)) (1.9.3)\n",
      "Requirement already satisfied: packaging>=21.3 in /root/venv/lib/python3.8/site-packages (from statsmodels->-r ./requirements.txt (line 3)) (24.2)\n",
      "Collecting nvidia-nccl-cu12\n",
      "  Downloading nvidia_nccl_cu12-2.26.2-py3-none-manylinux2014_x86_64.manylinux_2_17_x86_64.whl (201.3 MB)\n",
      "\u001b[2K     \u001b[90m━━━━━━━━━━━━━━━━━━━━━━━━━━━━━━━━━━━━━━━\u001b[0m \u001b[32m201.3/201.3 MB\u001b[0m \u001b[31m3.3 MB/s\u001b[0m eta \u001b[36m0:00:00\u001b[0m\n",
      "\u001b[?25hRequirement already satisfied: matplotlib in /root/venv/lib/python3.8/site-packages (from catboost->-r ./requirements.txt (line 7)) (3.6.3)\n",
      "Requirement already satisfied: plotly in /root/venv/lib/python3.8/site-packages (from catboost->-r ./requirements.txt (line 7)) (6.0.0)\n",
      "Requirement already satisfied: six in /root/venv/lib/python3.8/site-packages (from catboost->-r ./requirements.txt (line 7)) (1.17.0)\n",
      "Collecting graphviz\n",
      "  Downloading graphviz-0.20.3-py3-none-any.whl (47 kB)\n",
      "\u001b[2K     \u001b[90m━━━━━━━━━━━━━━━━━━━━━━━━━━━━━━━━━━━━━━━━\u001b[0m \u001b[32m47.1/47.1 kB\u001b[0m \u001b[31m8.8 MB/s\u001b[0m eta \u001b[36m0:00:00\u001b[0m\n",
      "\u001b[?25hRequirement already satisfied: pytz>=2020.1 in /root/venv/lib/python3.8/site-packages (from pandas!=2.1.0,>=1.0->statsmodels->-r ./requirements.txt (line 3)) (2025.1)\n",
      "Requirement already satisfied: tzdata>=2022.1 in /root/venv/lib/python3.8/site-packages (from pandas!=2.1.0,>=1.0->statsmodels->-r ./requirements.txt (line 3)) (2025.1)\n",
      "Requirement already satisfied: python-dateutil>=2.8.2 in /root/venv/lib/python3.8/site-packages (from pandas!=2.1.0,>=1.0->statsmodels->-r ./requirements.txt (line 3)) (2.9.0.post0)\n",
      "Collecting soupsieve>1.2\n",
      "  Downloading soupsieve-2.6-py3-none-any.whl (36 kB)\n",
      "Requirement already satisfied: typing-extensions>=4.0.0 in /root/venv/lib/python3.8/site-packages (from beautifulsoup4->bs4==0.0.2->-r ./requirements.txt (line 4)) (4.5.0)\n",
      "Requirement already satisfied: contourpy>=1.0.1 in /root/venv/lib/python3.8/site-packages (from matplotlib->catboost->-r ./requirements.txt (line 7)) (1.1.1)\n",
      "Requirement already satisfied: cycler>=0.10 in /root/venv/lib/python3.8/site-packages (from matplotlib->catboost->-r ./requirements.txt (line 7)) (0.12.1)\n",
      "Requirement already satisfied: fonttools>=4.22.0 in /root/venv/lib/python3.8/site-packages (from matplotlib->catboost->-r ./requirements.txt (line 7)) (4.56.0)\n",
      "Requirement already satisfied: pyparsing>=2.2.1 in /root/venv/lib/python3.8/site-packages (from matplotlib->catboost->-r ./requirements.txt (line 7)) (3.1.4)\n",
      "Requirement already satisfied: pillow>=6.2.0 in /root/venv/lib/python3.8/site-packages (from matplotlib->catboost->-r ./requirements.txt (line 7)) (10.4.0)\n",
      "Requirement already satisfied: kiwisolver>=1.0.1 in /root/venv/lib/python3.8/site-packages (from matplotlib->catboost->-r ./requirements.txt (line 7)) (1.4.7)\n",
      "Requirement already satisfied: narwhals>=1.15.1 in /root/venv/lib/python3.8/site-packages (from plotly->catboost->-r ./requirements.txt (line 7)) (1.26.0)\n",
      "Installing collected packages: xlrd, soupsieve, patsy, nvidia-nccl-cu12, graphviz, et-xmlfile, xgboost, openpyxl, lightgbm, beautifulsoup4, statsmodels, catboost, bs4\n",
      "Successfully installed beautifulsoup4-4.13.3 bs4-0.0.2 catboost-1.2.7 et-xmlfile-2.0.0 graphviz-0.20.3 lightgbm-4.6.0 nvidia-nccl-cu12-2.26.2 openpyxl-3.1.5 patsy-1.0.1 soupsieve-2.6 statsmodels-0.14.1 xgboost-2.1.4 xlrd-2.0.1\n",
      "\n",
      "\u001b[1m[\u001b[0m\u001b[34;49mnotice\u001b[0m\u001b[1;39;49m]\u001b[0m\u001b[39;49m A new release of pip is available: \u001b[0m\u001b[31;49m23.0.1\u001b[0m\u001b[39;49m -> \u001b[0m\u001b[32;49m25.0.1\u001b[0m\n",
      "\u001b[1m[\u001b[0m\u001b[34;49mnotice\u001b[0m\u001b[1;39;49m]\u001b[0m\u001b[39;49m To update, run: \u001b[0m\u001b[32;49mpip install --upgrade pip\u001b[0m\n"
     ]
    }
   ],
   "source": [
    "%%bash\n",
    "# If your project has a 'requirements.txt' file, we'll install it here.\n",
    "if test -f requirements.txt\n",
    "  then\n",
    "    pip install -r ./requirements.txt\n",
    "  else echo \"There's no requirements.txt, so nothing to install.\"\n",
    "fi"
   ]
  },
  {
   "cell_type": "code",
   "execution_count": 1,
   "metadata": {
    "cell_id": "aabeb6522f914adaa59f82455ca5728f",
    "deepnote_cell_type": "code",
    "execution_context_id": "181232ff-63a2-4524-884c-61067c712baf",
    "execution_millis": 0,
    "execution_start": 1743170899926,
    "source_hash": "b623e53d"
   },
   "outputs": [],
   "source": []
  }
 ],
 "metadata": {
  "deepnote_notebook_id": "4727edf4de05485dbb0ab609c53841de",
  "kernelspec": {
   "display_name": "Python 3 (ipykernel)",
   "language": "python",
   "name": "python3"
  },
  "language_info": {
   "codemirror_mode": {
    "name": "ipython",
    "version": 3
   },
   "file_extension": ".py",
   "mimetype": "text/x-python",
   "name": "python",
   "nbconvert_exporter": "python",
   "pygments_lexer": "ipython3",
   "version": "3.12.4"
  }
 },
 "nbformat": 4,
 "nbformat_minor": 4
}
